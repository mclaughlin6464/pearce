{
 "cells": [
  {
   "cell_type": "code",
   "execution_count": 1,
   "metadata": {
    "collapsed": true
   },
   "outputs": [],
   "source": [
    "import numpy as np\n",
    "from pearce.mocks.kittens import MDPL2\n",
    "from sys import argv\n",
    "from halotools.mock_observables import wp, mean_delta_sigma"
   ]
  },
  {
   "cell_type": "code",
   "execution_count": 2,
   "metadata": {
    "collapsed": true
   },
   "outputs": [],
   "source": [
    "galcat_fname = '/home/users/swmclau2/scratch/UniverseMachine/cut_sham_catalog.npy'\n",
    "basename = 'SHAM'"
   ]
  },
  {
   "cell_type": "code",
   "execution_count": 3,
   "metadata": {
    "collapsed": true
   },
   "outputs": [],
   "source": [
    "cat = MDPL2()\n",
    "cat.load(1.0, particles = False)\n",
    "\n",
    "galcat = np.load(galcat_fname)\n",
    "\n",
    "rbins = np.logspace(-1., 1.6, 19)\n",
    "rpoints = (rbins[1:] + rbins[:-1])/2.0"
   ]
  },
  {
   "cell_type": "code",
   "execution_count": 4,
   "metadata": {
    "collapsed": true
   },
   "outputs": [],
   "source": [
    "try:\n",
    "    pos = galcat['pos'][:, :3]%cat.Lbox\n",
    "except ValueError: # assemble it ourselves\n",
    "    colnames = galcat.columns if hasattr(galcat, \"columns\") else galcat.dtype.names\n",
    "    if 'x' in colnames:\n",
    "        pos = np.r_[[ galcat['%s'%c]%cat.Lbox for c in ['x','y','z']]].T\n",
    "    else:\n",
    "        pos = np.r_[[ galcat['halo_%s'%c]%cat.Lbox for c in ['x','y','z']]].T\n"
   ]
  },
  {
   "cell_type": "code",
   "execution_count": null,
   "metadata": {
    "collapsed": true
   },
   "outputs": [],
   "source": [
    "pos_m = pos + np.random.randn(*pos.shape)*10\n",
    "pos_m[pos_m < 0] = pos_m[pos_m<0]+cat.Lbox\n",
    "pos_m = pos_m%cat.Lbox"
   ]
  },
  {
   "cell_type": "code",
   "execution_count": null,
   "metadata": {},
   "outputs": [
    {
     "name": "stdout",
     "output_type": "stream",
     "text": [
      "0\n",
      "1\n",
      "2\n",
      "3\n",
      "4\n",
      "5\n",
      "6\n",
      "7\n",
      "8\n"
     ]
    }
   ],
   "source": [
    "mock_dss = []\n",
    "for i, pm in enumerate(np.array_split(pos_m, 20)):\n",
    "    print i \n",
    "    mock_dss.append(mean_delta_sigma(pos, pm, cat.pmass,\\\n",
    "                     rbins, period=cat.Lbox, num_threads='max', per_object=True) / (1e12))#*cat.h**2)\n",
    "\n",
    "print 'C'"
   ]
  },
  {
   "cell_type": "code",
   "execution_count": null,
   "metadata": {
    "collapsed": true
   },
   "outputs": [],
   "source": []
  }
 ],
 "metadata": {
  "kernelspec": {
   "display_name": "Python 2",
   "language": "python",
   "name": "python2"
  },
  "language_info": {
   "codemirror_mode": {
    "name": "ipython",
    "version": 2
   },
   "file_extension": ".py",
   "mimetype": "text/x-python",
   "name": "python",
   "nbconvert_exporter": "python",
   "pygments_lexer": "ipython2",
   "version": "2.7.13"
  }
 },
 "nbformat": 4,
 "nbformat_minor": 2
}

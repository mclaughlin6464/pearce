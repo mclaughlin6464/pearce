{
 "cells": [
  {
   "cell_type": "markdown",
   "metadata": {},
   "source": [
    "Joe has requested before we delete particles of the new sims we double check that the mass functions look sensible. I'll do that, and whatever tests are proposed, here."
   ]
  },
  {
   "cell_type": "code",
   "execution_count": 54,
   "metadata": {
    "collapsed": true
   },
   "outputs": [],
   "source": [
    "from matplotlib import pyplot as plt\n",
    "%matplotlib inline"
   ]
  },
  {
   "cell_type": "code",
   "execution_count": 55,
   "metadata": {
    "collapsed": true
   },
   "outputs": [],
   "source": [
    "from pearce.mocks.kittens import TrainingBox\n",
    "import numpy as np\n",
    "from os import path\n",
    "from glob import glob"
   ]
  },
  {
   "cell_type": "code",
   "execution_count": 56,
   "metadata": {
    "collapsed": true
   },
   "outputs": [],
   "source": [
    "cat = TrainingBox(0)"
   ]
  },
  {
   "cell_type": "code",
   "execution_count": 57,
   "metadata": {
    "collapsed": true
   },
   "outputs": [],
   "source": [
    "cat.load(1.0, HOD='zheng07')"
   ]
  },
  {
   "cell_type": "code",
   "execution_count": 58,
   "metadata": {},
   "outputs": [],
   "source": [
    "mass_bins = np.logspace(9, 16, (16-9)/0.1+1)\n",
    "mf = cat.calc_mf(mass_bin_size = 0.1, min_ptcl=20)"
   ]
  },
  {
   "cell_type": "code",
   "execution_count": 59,
   "metadata": {
    "collapsed": true
   },
   "outputs": [],
   "source": [
    "mbc = (mass_bins[1:] + mass_bins[:-1])/2"
   ]
  },
  {
   "cell_type": "code",
   "execution_count": 60,
   "metadata": {},
   "outputs": [
    {
     "data": {
      "image/png": "[encoded data removed]",
      "text/plain": [
       "<matplotlib.figure.Figure at 0x7f94a161bad0>"
      ]
     },
     "metadata": {},
     "output_type": "display_data"
    }
   ],
   "source": [
    "plt.plot(mbc, mf)\n",
    "plt.loglog();"
   ]
  },
  {
   "cell_type": "code",
   "execution_count": 65,
   "metadata": {
    "collapsed": true
   },
   "outputs": [],
   "source": [
    "#highres_emu_dir = '/oak/stanford/orgs/kipac/users/jderose/highres_emu/'\n",
    "#highres_emu_dir = '/oak/stanford/orgs/kipac/aemulus/highres_emu/Box000/output/rockstar'\n",
    "highres_emu_dir = '/oak/stanford/orgs/kipac/aemulus/highres_emu/Box000_sherlock/output/rockstar'"
   ]
  },
  {
   "cell_type": "code",
   "execution_count": 66,
   "metadata": {
    "collapsed": true
   },
   "outputs": [],
   "source": [
    "from halotools.sim_manager import RockstarHlistReader \n",
    "columns_to_keep = {'halo_id': (0, 'i8'), 'halo_upid': (1, 'i8'), # actually the DescID? \n",
    "                'halo_x': (8, 'f4'), 'halo_y': (9, 'f4'), 'halo_z': (10, 'f4'),\n",
    "                'halo_vx': (11, 'f4'), 'halo_vy': (12, 'f4'), 'halo_vz': (13, 'f4'),\n",
    "                'halo_mvir': (2, 'f4'), 'halo_rvir': (5, 'f4'), 'halo_rs': (6, 'f4')}"
   ]
  },
  {
   "cell_type": "markdown",
   "metadata": {},
   "source": [
    "ID DescID Mvir Vmax Vrms Rvir Rs Np X Y Z VX VY VZ JX JY JZ Spin rs_klypin Mvir_all M200b M200c M500c M2500c Xoff Voff spin_bullock b_to_a c_to_a A[x] A[y] A[z] b_to_a(500c) c_to_a(500c) A[x](500c) A[y](500c) A[z](500c) T/|U| M_pe_Behroozi M_pe_Diemer Halfmass_Radius\n"
   ]
  },
  {
   "cell_type": "code",
   "execution_count": 67,
   "metadata": {},
   "outputs": [],
   "source": [
    "N = 202\n",
    "fname = path.join(highres_emu_dir, 'out_%d.list'%(N-1))\n",
    "simname = 'AemulusBeta'\n",
    "#Particle mass: 6.39984e+08 Msun/h\n",
    "#Box size: 200.000000 Mpc/h\n",
    "pmass = 6.39984e8\n",
    "Lbox = 400.0\n",
    "cache_fname = '/home/users/swmclau2/scratch/hlists/AemulusBeta000.hdf5'"
   ]
  },
  {
   "cell_type": "code",
   "execution_count": 68,
   "metadata": {},
   "outputs": [
    {
     "name": "stdout",
     "output_type": "stream",
     "text": [
      "\n",
      "\n",
      "The information about your ascii file and the metadata about the catalog \n",
      "have been processed and no exceptions were raised. \n",
      "Use the ``read_halocat`` method to read the ascii data, \n",
      "setting the write_to_disk and update_cache_log arguments as you like. \n",
      "See the docstring of the ``read_halocat`` method\n",
      "for details about these options. \n",
      "\n",
      "\n",
      "...Processing ASCII data of file: \n",
      "/oak/stanford/orgs/kipac/aemulus/highres_emu/Box000_sherlock/output/rockstar/out_201.list\n",
      " \n",
      "Total number of rows in detected data = 18248878\n",
      "Number of rows in detected header = 16 \n",
      "\n",
      "... working on chunk 0 of 12\n",
      "... working on chunk 1 of 12\n",
      "... working on chunk 2 of 12\n",
      "... working on chunk 3 of 12\n",
      "... working on chunk 4 of 12\n",
      "... working on chunk 5 of 12\n",
      "... working on chunk 6 of 12\n",
      "... working on chunk 7 of 12\n",
      "... working on chunk 8 of 12\n",
      "... working on chunk 9 of 12\n",
      "... working on chunk 10 of 12\n",
      "... working on chunk 11 of 12\n",
      "Total runtime to read in ASCII = 2.5 minutes\n",
      "\n",
      "\u0007\n"
     ]
    }
   ],
   "source": [
    "reader = RockstarHlistReader(fname, columns_to_keep, cache_fname, simname,\n",
    "                                         'rockstar', 0.0, 'most_recent', Lbox, pmass,\n",
    "                                         overwrite=False)\n",
    "reader.read_halocat([\"halo_rvir\", \"halo_rs\"])\n"
   ]
  },
  {
   "cell_type": "code",
   "execution_count": 69,
   "metadata": {},
   "outputs": [],
   "source": [
    "halo_table = reader.halo_table"
   ]
  },
  {
   "cell_type": "code",
   "execution_count": 70,
   "metadata": {
    "collapsed": true
   },
   "outputs": [],
   "source": [
    "beta_mf = np.histogram(halo_table['halo_mvir'], bins = mass_bins)[0]"
   ]
  },
  {
   "cell_type": "code",
   "execution_count": 71,
   "metadata": {},
   "outputs": [
    {
     "data": {
      "text/plain": [
       "<matplotlib.legend.Legend at 0x7f953be92d90>"
      ]
     },
     "execution_count": 71,
     "metadata": {},
     "output_type": "execute_result"
    },
    {
     "data": {
      "image/png": "[encoded data removed]",
      "text/plain": [
       "<matplotlib.figure.Figure at 0x7f94a155fc90>"
      ]
     },
     "metadata": {},
     "output_type": "display_data"
    }
   ],
   "source": [
    "plt.plot(mbc, beta_mf/Lbox**3, label = 'Aemulus Beta ')\n",
    "plt.plot(mbc, mf/(cat.Lbox**3), label = 'Aemulus Alpha')\n",
    "plt.loglog();\n",
    "plt.legend(loc='best', frameon=False)"
   ]
  },
  {
   "cell_type": "code",
   "execution_count": null,
   "metadata": {
    "collapsed": true
   },
   "outputs": [],
   "source": []
  },
  {
   "cell_type": "code",
   "execution_count": null,
   "metadata": {
    "collapsed": true
   },
   "outputs": [],
   "source": []
  }
 ],
 "metadata": {
  "kernelspec": {
   "display_name": "Python 2",
   "language": "python",
   "name": "python2"
  },
  "language_info": {
   "codemirror_mode": {
    "name": "ipython",
    "version": 2
   },
   "file_extension": ".py",
   "mimetype": "text/x-python",
   "name": "python",
   "nbconvert_exporter": "python",
   "pygments_lexer": "ipython2",
   "version": "2.7.13"
  }
 },
 "nbformat": 4,
 "nbformat_minor": 2
}

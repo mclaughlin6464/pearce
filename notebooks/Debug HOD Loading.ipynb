{
 "cells": [
  {
   "cell_type": "markdown",
   "metadata": {},
   "source": [
    "A tweak to my HOD loading has a bug. Need to fix."
   ]
  },
  {
   "cell_type": "code",
   "execution_count": 1,
   "metadata": {
    "collapsed": true
   },
   "outputs": [],
   "source": [
    "#from pearce.emulator import SpicyBuffalo, LemonPepperWet, OriginalRecipe\n",
    "#from pearce.mocks import cat_dict\n",
    "import numpy as np\n",
    "from os import path"
   ]
  },
  {
   "cell_type": "code",
   "execution_count": 2,
   "metadata": {
    "collapsed": true
   },
   "outputs": [],
   "source": [
    "import matplotlib\n",
    "#matplotlib.use('Agg')\n",
    "from matplotlib import pyplot as plt\n",
    "%matplotlib inline\n",
    "import seaborn as sns\n",
    "sns.set()"
   ]
  },
  {
   "cell_type": "code",
   "execution_count": 3,
   "metadata": {
    "collapsed": true
   },
   "outputs": [],
   "source": [
    "em_method = 'gp'\n",
    "split_method = 'random'"
   ]
  },
  {
   "cell_type": "code",
   "execution_count": 4,
   "metadata": {
    "collapsed": true
   },
   "outputs": [],
   "source": [
    "from pearce.mocks.kittens import TrainingBox"
   ]
  },
  {
   "cell_type": "code",
   "execution_count": 5,
   "metadata": {
    "collapsed": true
   },
   "outputs": [],
   "source": [
    "boxno = 0\n",
    "cat = TrainingBox(boxno, system = 'ki-ls')"
   ]
  },
  {
   "cell_type": "code",
   "execution_count": 6,
   "metadata": {
    "collapsed": false
   },
   "outputs": [
    {
     "name": "stdout",
     "output_type": "stream",
     "text": [
      "hsabZheng07\n",
      "A\n"
     ]
    },
    {
     "name": "stderr",
     "output_type": "stream",
     "text": [
      "/u/ki/swmclau2/.local/lib/python2.7/site-packages/halotools/empirical_models/factories/hod_model_factory.py:741: UserWarning: \n",
      "\n",
      "The param_dict key sigma_logM appears in more than one component model.\n",
      "This is permissible, but if you are seeing this message you should be sure you understand it.\n",
      "In particular, double-check that this parameter does not have conflicting meanings across components.\n",
      "\n",
      "If you do not wish to see this message every time you instantiate, \n",
      "simply attach a _suppress_repeated_param_warning attribute \n",
      "to any of your component models and set this variable to ``True``.\n",
      "\n",
      "  warn(msg % key)\n",
      "/u/ki/swmclau2/.local/lib/python2.7/site-packages/halotools/empirical_models/factories/hod_model_factory.py:741: UserWarning: \n",
      "\n",
      "The param_dict key logMmin appears in more than one component model.\n",
      "This is permissible, but if you are seeing this message you should be sure you understand it.\n",
      "In particular, double-check that this parameter does not have conflicting meanings across components.\n",
      "\n",
      "If you do not wish to see this message every time you instantiate, \n",
      "simply attach a _suppress_repeated_param_warning attribute \n",
      "to any of your component models and set this variable to ``True``.\n",
      "\n",
      "  warn(msg % key)\n",
      "/u/ki/swmclau2/.local/lib/python2.7/site-packages/halotools/empirical_models/factories/hod_model_factory.py:741: UserWarning: \n",
      "\n",
      "The param_dict key mean_occupation_centrals_assembias_param1 appears in more than one component model.\n",
      "This is permissible, but if you are seeing this message you should be sure you understand it.\n",
      "In particular, double-check that this parameter does not have conflicting meanings across components.\n",
      "\n",
      "If you do not wish to see this message every time you instantiate, \n",
      "simply attach a _suppress_repeated_param_warning attribute \n",
      "to any of your component models and set this variable to ``True``.\n",
      "\n",
      "  warn(msg % key)\n"
     ]
    }
   ],
   "source": [
    "cat.load(1.0, HOD='hsabZheng07')"
   ]
  },
  {
   "cell_type": "code",
   "execution_count": null,
   "metadata": {
    "collapsed": true
   },
   "outputs": [],
   "source": []
  }
 ],
 "metadata": {
  "kernelspec": {
   "display_name": "Python [default]",
   "language": "python",
   "name": "python2"
  },
  "language_info": {
   "codemirror_mode": {
    "name": "ipython",
    "version": 2
   },
   "file_extension": ".py",
   "mimetype": "text/x-python",
   "name": "python",
   "nbconvert_exporter": "python",
   "pygments_lexer": "ipython2",
   "version": "2.7.13"
  }
 },
 "nbformat": 4,
 "nbformat_minor": 2
}

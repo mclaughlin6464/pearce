{
 "cells": [
  {
   "cell_type": "markdown",
   "metadata": {},
   "source": [
    "I computed realizations of multiple HODs for a few statistics in the darksky boxes. This notebook is gonna combine them into a jackknife covmat. It'll also add some estimate of the shape noise contribution. "
   ]
  },
  {
   "cell_type": "code",
   "execution_count": 1,
   "metadata": {
    "collapsed": true
   },
   "outputs": [],
   "source": [
    "from matplotlib import pyplot as plt\n",
    "%matplotlib inline\n",
    "import seaborn as sns\n",
    "sns.set()\n",
    "import matplotlib.colors as colors"
   ]
  },
  {
   "cell_type": "code",
   "execution_count": 2,
   "metadata": {
    "collapsed": true
   },
   "outputs": [],
   "source": [
    "import numpy as np\n",
    "from glob import glob\n",
    "from os import path"
   ]
  },
  {
   "cell_type": "code",
   "execution_count": 3,
   "metadata": {
    "collapsed": true
   },
   "outputs": [],
   "source": [
    "output_dir = '/home/users/swmclau2/Git/pearce/bin/covmat/ds14_covmat_v3/'"
   ]
  },
  {
   "cell_type": "code",
   "execution_count": 15,
   "metadata": {},
   "outputs": [
    {
     "name": "stdout",
     "output_type": "stream",
     "text": [
      "65\n"
     ]
    }
   ],
   "source": [
    "outputs = sorted(glob(path.join(output_dir, 'xi_vdf_darksky_obs_???.npy')))\n",
    "print len(outputs)"
   ]
  },
  {
   "cell_type": "code",
   "execution_count": 16,
   "metadata": {
    "collapsed": true
   },
   "outputs": [],
   "source": [
    "N = len(outputs) # Should be 512, but a few may not have finished. Should make sure that those get reestarted, but likely not super important\n",
    "all_outputs = np.zeros((N, 5,  40)) # num bins and num HODs "
   ]
  },
  {
   "cell_type": "code",
   "execution_count": 17,
   "metadata": {
    "collapsed": true
   },
   "outputs": [],
   "source": [
    "for i,output_file in enumerate(outputs):\n",
    "    output = np.load(output_file)\n",
    "\n",
    "    all_outputs[i] = output#.mean(axis = 0)"
   ]
  },
  {
   "cell_type": "code",
   "execution_count": 18,
   "metadata": {},
   "outputs": [
    {
     "data": {
      "text/plain": [
       "(65, 5, 40)"
      ]
     },
     "execution_count": 18,
     "metadata": {},
     "output_type": "execute_result"
    }
   ],
   "source": [
    "all_outputs.shape"
   ]
  },
  {
   "cell_type": "code",
   "execution_count": 19,
   "metadata": {
    "collapsed": true
   },
   "outputs": [],
   "source": [
    "rp_bins = np.logspace(-0.3, 2.0, 21)"
   ]
  },
  {
   "cell_type": "code",
   "execution_count": 20,
   "metadata": {
    "collapsed": true
   },
   "outputs": [],
   "source": [
    "rp_points = (rp_bins[1:]+rp_bins[:-1])/2.0\n",
    "\n"
   ]
  },
  {
   "cell_type": "code",
   "execution_count": 22,
   "metadata": {
    "scrolled": false
   },
   "outputs": [
    {
     "data": {
      "image/png": "[encoded data removed]",
      "text/plain": [
       "<matplotlib.figure.Figure at 0x7f692f8bd4d0>"
      ]
     },
     "metadata": {},
     "output_type": "display_data"
    }
   ],
   "source": [
    "hod_idx = 1\n",
    "plt.plot(rp_points, (all_outputs[:, hod_idx, :20]).T, alpha = 0.3, color = 'b')\n",
    "plt.loglog();"
   ]
  },
  {
   "cell_type": "code",
   "execution_count": 23,
   "metadata": {
    "scrolled": false
   },
   "outputs": [
    {
     "data": {
      "image/png": "[encoded data removed]",
      "text/plain": [
       "<matplotlib.figure.Figure at 0x7f692f2166d0>"
      ]
     },
     "metadata": {},
     "output_type": "display_data"
    }
   ],
   "source": [
    "hod_idx = 1\n",
    "plt.plot(rp_points, (all_outputs[:, hod_idx, 20:]).T, alpha = 0.3, color = 'b')\n",
    "plt.loglog();"
   ]
  },
  {
   "cell_type": "code",
   "execution_count": 65,
   "metadata": {
    "collapsed": true
   },
   "outputs": [],
   "source": [
    "mean = all_outputs.mean(axis = 0)"
   ]
  },
  {
   "cell_type": "code",
   "execution_count": 66,
   "metadata": {
    "collapsed": true
   },
   "outputs": [],
   "source": [
    "R =(all_outputs - mean)\n",
    "\n",
    "cov = np.zeros((R.shape[2], R.shape[2]))\n",
    "for i in xrange(R.shape[1]):\n",
    "    cov+= R[:,i].T.dot(R[:,i])#/(N-1)\n",
    "    \n",
    "cov/=R.shape[1]*(N-1)"
   ]
  },
  {
   "cell_type": "code",
   "execution_count": 67,
   "metadata": {},
   "outputs": [
    {
     "data": {
      "text/plain": [
       "(40, 40)"
      ]
     },
     "execution_count": 67,
     "metadata": {},
     "output_type": "execute_result"
    }
   ],
   "source": [
    "cov.shape"
   ]
  },
  {
   "cell_type": "code",
   "execution_count": 68,
   "metadata": {
    "collapsed": true
   },
   "outputs": [],
   "source": [
    "cov+=np.diag(np.ones(cov.shape[0]))*1e-12"
   ]
  },
  {
   "cell_type": "code",
   "execution_count": 69,
   "metadata": {},
   "outputs": [
    {
     "data": {
      "text/plain": [
       "-0.026250491809059601"
      ]
     },
     "execution_count": 69,
     "metadata": {},
     "output_type": "execute_result"
    }
   ],
   "source": [
    "np.min(cov)"
   ]
  },
  {
   "cell_type": "code",
   "execution_count": 70,
   "metadata": {
    "collapsed": true
   },
   "outputs": [],
   "source": [
    "def cov_to_corr(cov):\n",
    "    std = np.sqrt(np.diag(cov))\n",
    "    \n",
    "    denom = np.outer(std, std)\n",
    "    \n",
    "    return cov/denom"
   ]
  },
  {
   "cell_type": "code",
   "execution_count": 71,
   "metadata": {
    "collapsed": true
   },
   "outputs": [],
   "source": [
    "cmap = sns.diverging_palette(240, 10, n=7, as_cmap = True)"
   ]
  },
  {
   "cell_type": "code",
   "execution_count": 72,
   "metadata": {},
   "outputs": [],
   "source": [
    "corr = cov_to_corr(cov)"
   ]
  },
  {
   "cell_type": "code",
   "execution_count": 73,
   "metadata": {},
   "outputs": [
    {
     "data": {
      "image/png": "[encoded data removed]",
      "text/plain": [
       "<matplotlib.figure.Figure at 0x7f692f10e350>"
      ]
     },
     "metadata": {},
     "output_type": "display_data"
    }
   ],
   "source": [
    "fig = plt.figure(figsize = (6, 5))\n",
    "im = plt.imshow(corr, cmap = cmap, vmin = -1)\n",
    "plt.colorbar(im);"
   ]
  },
  {
   "cell_type": "code",
   "execution_count": 74,
   "metadata": {},
   "outputs": [
    {
     "data": {
      "text/plain": [
       "[]"
      ]
     },
     "execution_count": 74,
     "metadata": {},
     "output_type": "execute_result"
    },
    {
     "data": {
      "image/png": "[encoded data removed]",
      "text/plain": [
       "<matplotlib.figure.Figure at 0x7f692f426ad0>"
      ]
     },
     "metadata": {},
     "output_type": "display_data"
    }
   ],
   "source": [
    "plt.plot(rp_points, np.sqrt(np.diag(cov)[:20]), label = 'Sim')\n",
    "plt.loglog()"
   ]
  },
  {
   "cell_type": "code",
   "execution_count": 75,
   "metadata": {},
   "outputs": [
    {
     "data": {
      "image/png": "[encoded data removed]",
      "text/plain": [
       "<matplotlib.figure.Figure at 0x7f692f4706d0>"
      ]
     },
     "metadata": {},
     "output_type": "display_data"
    }
   ],
   "source": [
    "plt.plot(rp_points, np.sqrt(np.diag(cov)[20:]), label = 'Sim')\n",
    "plt.xscale('log')"
   ]
  },
  {
   "cell_type": "code",
   "execution_count": 83,
   "metadata": {
    "collapsed": true
   },
   "outputs": [],
   "source": [
    "np.save('/home/users/swmclau2/Git/pearce/bin/covmat/vdf_sim_covmat.npy', cov[20:][:,20:])\n",
    "np.save('/home/users/swmclau2/Git/pearce/bin/covmat/xi_sim_covmat.npy', cov[:20][:,:20])\n",
    "np.save('/home/users/swmclau2/Git/pearce/bin/covmat/xi_vdf_sim_covmat.npy', cov)"
   ]
  },
  {
   "cell_type": "code",
   "execution_count": 76,
   "metadata": {
    "collapsed": true
   },
   "outputs": [],
   "source": [
    "emu_cov_fname = '/home/users/swmclau2/Git/pearce/bin/optimization/vdf_emu_cov_lpw.npy'"
   ]
  },
  {
   "cell_type": "code",
   "execution_count": 77,
   "metadata": {
    "collapsed": true
   },
   "outputs": [],
   "source": [
    "emu_cov = np.load(emu_cov_fname)"
   ]
  },
  {
   "cell_type": "code",
   "execution_count": 78,
   "metadata": {
    "collapsed": true
   },
   "outputs": [],
   "source": [
    "emu_corr = cov_to_corr(emu_cov)"
   ]
  },
  {
   "cell_type": "code",
   "execution_count": 79,
   "metadata": {},
   "outputs": [
    {
     "data": {
      "text/plain": [
       "<matplotlib.image.AxesImage at 0x7f692ef81bd0>"
      ]
     },
     "execution_count": 79,
     "metadata": {},
     "output_type": "execute_result"
    },
    {
     "data": {
      "image/png": "[encoded data removed]",
      "text/plain": [
       "<matplotlib.figure.Figure at 0x7f692fd37310>"
      ]
     },
     "metadata": {},
     "output_type": "display_data"
    }
   ],
   "source": [
    "fig = plt.figure(figsize = (6, 5))\n",
    "\n",
    "plt.imshow(emu_corr, cmap = cmap, vmin = -1)"
   ]
  },
  {
   "cell_type": "code",
   "execution_count": 80,
   "metadata": {},
   "outputs": [
    {
     "ename": "ValueError",
     "evalue": "operands could not be broadcast together with shapes (40,40) (18,18) ",
     "output_type": "error",
     "traceback": [
      "\u001b[0;31m\u001b[0m",
      "\u001b[0;31mValueError\u001b[0mTraceback (most recent call last)",
      "\u001b[0;32m<ipython-input-80-73098c1cd605>\u001b[0m in \u001b[0;36m<module>\u001b[0;34m()\u001b[0m\n\u001b[0;32m----> 1\u001b[0;31m \u001b[0mfull_emu_cov\u001b[0m \u001b[0;34m=\u001b[0m \u001b[0mcov\u001b[0m \u001b[0;34m+\u001b[0m \u001b[0memu_cov\u001b[0m\u001b[0;34m\u001b[0m\u001b[0m\n\u001b[0m",
      "\u001b[0;31mValueError\u001b[0m: operands could not be broadcast together with shapes (40,40) (18,18) "
     ]
    }
   ],
   "source": [
    "full_emu_cov = cov + emu_cov"
   ]
  },
  {
   "cell_type": "code",
   "execution_count": 81,
   "metadata": {},
   "outputs": [
    {
     "ename": "NameError",
     "evalue": "name 'full_emu_cov' is not defined",
     "output_type": "error",
     "traceback": [
      "\u001b[0;31m\u001b[0m",
      "\u001b[0;31mNameError\u001b[0mTraceback (most recent call last)",
      "\u001b[0;32m<ipython-input-81-78cb24517fd6>\u001b[0m in \u001b[0;36m<module>\u001b[0;34m()\u001b[0m\n\u001b[0;32m----> 1\u001b[0;31m \u001b[0mfull_emu_corr\u001b[0m \u001b[0;34m=\u001b[0m \u001b[0mcov_to_corr\u001b[0m\u001b[0;34m(\u001b[0m\u001b[0mfull_emu_cov\u001b[0m\u001b[0;34m)\u001b[0m\u001b[0;34m\u001b[0m\u001b[0m\n\u001b[0m",
      "\u001b[0;31mNameError\u001b[0m: name 'full_emu_cov' is not defined"
     ]
    }
   ],
   "source": [
    "full_emu_corr = cov_to_corr(full_emu_cov)"
   ]
  },
  {
   "cell_type": "code",
   "execution_count": null,
   "metadata": {},
   "outputs": [],
   "source": [
    "fig = plt.figure(figsize = (6, 5))\n",
    "\n",
    "plt.imshow(full_emu_corr, cmap = cmap, vmin = -1)"
   ]
  },
  {
   "cell_type": "code",
   "execution_count": null,
   "metadata": {},
   "outputs": [],
   "source": [
    "fig = plt.figure(figsize = (16, 5))\n",
    "plt.suptitle('Correlation Matrices')\n",
    "plt.subplot(131)\n",
    "plt.title('Simulation')\n",
    "plt.imshow(corr, cmap = cmap, vmin = -1)\n",
    "plt.subplot(132)\n",
    "plt.title('Emu')\n",
    "plt.imshow(emu_corr, cmap = cmap, vmin = -1)\n",
    "plt.subplot(133)\n",
    "plt.title('Total')\n",
    "plt.imshow(full_emu_corr, cmap = cmap, vmin = -1)"
   ]
  },
  {
   "cell_type": "code",
   "execution_count": null,
   "metadata": {},
   "outputs": [],
   "source": [
    "plt.plot(rp_points, np.sqrt(np.diag(full_emu_cov) ), label = 'Total')\n",
    "plt.plot(rp_points, np.sqrt(np.diag(cov) ), label = 'Sim')\n",
    "plt.plot(rp_points, np.sqrt(np.diag(emu_cov) ), label ='Emu')\n",
    "\n",
    "\n",
    "plt.ylabel('VDF Unc')\n",
    "plt.xlabel('r [Mpc]')\n",
    "plt.loglog()\n",
    "plt.legend(loc='best')"
   ]
  },
  {
   "cell_type": "code",
   "execution_count": null,
   "metadata": {
    "collapsed": true
   },
   "outputs": [],
   "source": [
    "mean_val = mean.mean(axis=0)"
   ]
  },
  {
   "cell_type": "code",
   "execution_count": null,
   "metadata": {},
   "outputs": [],
   "source": [
    "plt.plot(rp_points, np.sqrt(np.diag(full_emu_cov) )/mean_val, label = 'Total')\n",
    "plt.plot(rp_points, np.sqrt(np.diag(cov) )/mean_val, label = 'Sim')\n",
    "plt.plot(rp_points, np.sqrt(np.diag(emu_cov) )/mean_val, label ='Emu')\n",
    "\n",
    "\n",
    "plt.ylabel('VDF Unc/VDF')\n",
    "plt.xlabel('r [Mpc]')\n",
    "plt.loglog()\n",
    "plt.legend(loc='best')"
   ]
  },
  {
   "cell_type": "code",
   "execution_count": null,
   "metadata": {
    "collapsed": true
   },
   "outputs": [],
   "source": []
  }
 ],
 "metadata": {
  "kernelspec": {
   "display_name": "Python 2",
   "language": "python",
   "name": "python2"
  },
  "language_info": {
   "codemirror_mode": {
    "name": "ipython",
    "version": 2
   },
   "file_extension": ".py",
   "mimetype": "text/x-python",
   "name": "python",
   "nbconvert_exporter": "python",
   "pygments_lexer": "ipython2",
   "version": "2.7.13"
  }
 },
 "nbformat": 4,
 "nbformat_minor": 2
}

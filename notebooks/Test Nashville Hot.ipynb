{
 "cells": [
  {
   "cell_type": "markdown",
   "metadata": {},
   "source": [
    "I'm gonna overwrite a lot of this notebook's old content. I changed the way I'm calculating wt, and wanna test that my training worked. "
   ]
  },
  {
   "cell_type": "code",
   "execution_count": 1,
   "metadata": {
    "collapsed": true
   },
   "outputs": [],
   "source": [
    "from pearce.emulator import NashvilleHot\n",
    "import numpy as np\n",
    "from os import path"
   ]
  },
  {
   "cell_type": "code",
   "execution_count": 2,
   "metadata": {
    "collapsed": true
   },
   "outputs": [],
   "source": [
    "from GPy.kern import *"
   ]
  },
  {
   "cell_type": "code",
   "execution_count": 3,
   "metadata": {
    "collapsed": true
   },
   "outputs": [],
   "source": [
    "import matplotlib\n",
    "#matplotlib.use('Agg')\n",
    "from matplotlib import pyplot as plt\n",
    "%matplotlib inline\n",
    "import seaborn as sns\n",
    "sns.set()"
   ]
  },
  {
   "cell_type": "code",
   "execution_count": 4,
   "metadata": {
    "collapsed": true
   },
   "outputs": [],
   "source": [
    "training_file = '/home/users/swmclau2/scratch/xi_gg_zheng07_cosmo_v3/PearceXiggCosmo.hdf5'\n",
    "test_file = '/home/users/swmclau2/scratch/xi_gg_zheng07_cosmo_test_v3/PearceXiggCosmoTest.hdf5'"
   ]
  },
  {
   "cell_type": "code",
   "execution_count": 5,
   "metadata": {
    "collapsed": true
   },
   "outputs": [],
   "source": [
    "fixed_params = {'z': 0.0}#, 'r':0.0958} #TODO fixed r broken"
   ]
  },
  {
   "cell_type": "raw",
   "metadata": {},
   "source": [
    "emu.scale_bin_centers[0]"
   ]
  },
  {
   "cell_type": "code",
   "execution_count": 6,
   "metadata": {
    "collapsed": true
   },
   "outputs": [],
   "source": [
    "hyperparams = {'kernel': ( Matern32(input_dim=7, ARD=False)+ RBF(input_dim=7, ARD=False) + Bias(input_dim=7),\n",
    "                           Matern32(input_dim=4, ARD=False)+ RBF(input_dim=4, ARD=False) + Bias(input_dim=4)), \\\n",
    "               'optimize': True}"
   ]
  },
  {
   "cell_type": "code",
   "execution_count": 7,
   "metadata": {
    "scrolled": true
   },
   "outputs": [
    {
     "name": "stderr",
     "output_type": "stream",
     "text": [
      " /home/users/swmclau2/.local/lib/python2.7/site-packages/GPy/kern/src/stationary.py:168: RuntimeWarning:overflow encountered in divide\n",
      " /home/users/swmclau2/.local/lib/python2.7/site-packages/GPy/kern/src/stationary.py:454: RuntimeWarning:overflow encountered in multiply\n",
      " /home/users/swmclau2/.local/lib/python2.7/site-packages/GPy/kern/src/rbf.py:51: RuntimeWarning:overflow encountered in square\n",
      " /home/users/swmclau2/.local/lib/python2.7/site-packages/GPy/kern/src/stationary.py:457: RuntimeWarning:overflow encountered in multiply\n"
     ]
    }
   ],
   "source": [
    "emu = NashvilleHot(training_file, fixed_params = fixed_params, hyperparams=hyperparams\\\n",
    "                  , downsample_factor = 0.1)"
   ]
  },
  {
   "cell_type": "code",
   "execution_count": 9,
   "metadata": {},
   "outputs": [],
   "source": [
    "emu._save_as_default_kernel()"
   ]
  },
  {
   "cell_type": "code",
   "execution_count": 10,
   "metadata": {
    "collapsed": true
   },
   "outputs": [],
   "source": [
    "x1, x2, y, yerr, cov, info = emu.get_data(test_file, fixed_params)"
   ]
  },
  {
   "cell_type": "code",
   "execution_count": 11,
   "metadata": {
    "collapsed": true
   },
   "outputs": [],
   "source": [
    "hod_idx, cosmo_idx = 42,  17"
   ]
  },
  {
   "cell_type": "code",
   "execution_count": 12,
   "metadata": {
    "collapsed": true
   },
   "outputs": [],
   "source": [
    "params = dict(zip(emu.get_param_names(), np.hstack([x1[cosmo_idx], x2[hod_idx]])))\n",
    "y_pred1 = emu.emulate_wrt_r(params)"
   ]
  },
  {
   "cell_type": "code",
   "execution_count": 13,
   "metadata": {},
   "outputs": [
    {
     "name": "stdout",
     "output_type": "stream",
     "text": [
      "/home/users/swmclau2/.local/lib/python2.7/site-packages/pearce/emulator/default_nh_metrics.pkl\n"
     ]
    }
   ],
   "source": [
    "from pearce.emulator import DEFAULT_METRIC_NH_PICKLE_FNAME\n",
    "print DEFAULT_METRIC_NH_PICKLE_FNAME"
   ]
  },
  {
   "cell_type": "code",
   "execution_count": 14,
   "metadata": {
    "collapsed": true
   },
   "outputs": [],
   "source": [
    "emu2 = NashvilleHot(training_file, fixed_params=fixed_params, downsample_factor = 0.1)"
   ]
  },
  {
   "cell_type": "code",
   "execution_count": 15,
   "metadata": {
    "collapsed": true
   },
   "outputs": [],
   "source": [
    "y_pred2 = emu2.emulate_wrt_r(params)"
   ]
  },
  {
   "cell_type": "code",
   "execution_count": null,
   "metadata": {
    "collapsed": true
   },
   "outputs": [],
   "source": []
  }
 ],
 "metadata": {
  "kernelspec": {
   "display_name": "Python 2",
   "language": "python",
   "name": "python2"
  },
  "language_info": {
   "codemirror_mode": {
    "name": "ipython",
    "version": 2
   },
   "file_extension": ".py",
   "mimetype": "text/x-python",
   "name": "python",
   "nbconvert_exporter": "python",
   "pygments_lexer": "ipython2",
   "version": "2.7.13"
  }
 },
 "nbformat": 4,
 "nbformat_minor": 1
}

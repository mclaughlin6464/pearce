{
 "cells": [
  {
   "cell_type": "markdown",
   "metadata": {},
   "source": [
    "My previous out-of-my-ass bounds violated my own constratins and generally led to unphysial galaxy distributions. In this notebook I pursue a more optimal set of boundaries. "
   ]
  },
  {
   "cell_type": "code",
   "execution_count": 483,
   "metadata": {
    "collapsed": true
   },
   "outputs": [],
   "source": [
    "#from pearce.emulator import SpicyBuffalo, LemonPepperWet, OriginalRecipe\n",
    "#from pearce.mocks import cat_dict\n",
    "import numpy as np\n",
    "from os import path"
   ]
  },
  {
   "cell_type": "code",
   "execution_count": 484,
   "metadata": {
    "collapsed": true
   },
   "outputs": [],
   "source": [
    "import matplotlib\n",
    "#matplotlib.use('Agg')\n",
    "from matplotlib import pyplot as plt\n",
    "%matplotlib inline\n",
    "import seaborn as sns\n",
    "sns.set()"
   ]
  },
  {
   "cell_type": "code",
   "execution_count": 485,
   "metadata": {
    "collapsed": true
   },
   "outputs": [],
   "source": [
    "em_method = 'gp'\n",
    "split_method = 'random'"
   ]
  },
  {
   "cell_type": "code",
   "execution_count": 486,
   "metadata": {
    "collapsed": true
   },
   "outputs": [],
   "source": [
    "bin_idx = 0\n",
    "#fixed_params = {'z':z, 'r': 0.09581734}#, 'cosmo': 0}#, 'r':24.06822623}"
   ]
  },
  {
   "cell_type": "code",
   "execution_count": 487,
   "metadata": {
    "collapsed": true
   },
   "outputs": [],
   "source": [
    "from pearce.mocks.kittens import TrainingBox"
   ]
  },
  {
   "cell_type": "code",
   "execution_count": 488,
   "metadata": {
    "collapsed": true
   },
   "outputs": [],
   "source": [
    "boxno = 0\n",
    "cat = TrainingBox(boxno, system = 'sherlock')"
   ]
  },
  {
   "cell_type": "code",
   "execution_count": 489,
   "metadata": {
    "collapsed": true
   },
   "outputs": [],
   "source": [
    "cat.load(1.0, HOD='zheng07')"
   ]
  },
  {
   "cell_type": "code",
   "execution_count": 490,
   "metadata": {
    "collapsed": true
   },
   "outputs": [],
   "source": [
    "nd = 5e-4"
   ]
  },
  {
   "cell_type": "code",
   "execution_count": 491,
   "metadata": {
    "collapsed": true
   },
   "outputs": [],
   "source": [
    "hod_pnames = ['logM0', 'sigma_logM', 'logM1', 'alpha']\n",
    "mf = cat.calc_mf()"
   ]
  },
  {
   "cell_type": "code",
   "execution_count": 492,
   "metadata": {
    "collapsed": true
   },
   "outputs": [],
   "source": [
    "from itertools import product"
   ]
  },
  {
   "cell_type": "code",
   "execution_count": 493,
   "metadata": {
    "collapsed": true
   },
   "outputs": [],
   "source": [
    "from scipy.optimize import minimize_scalar\n",
    "def add_logMmin(hod_params, cat):\n",
    "    \"\"\"\n",
    "    In the fixed number density case, find the logMmin value that will match the nd given hod_params\n",
    "    :param: hod_params:\n",
    "        The other parameters besides logMmin\n",
    "    :param cat:\n",
    "        the catalog in question\n",
    "    :return:\n",
    "        None. hod_params will have logMmin added to it.\n",
    "    \"\"\"\n",
    "    hod_params['logMmin'] = 13.0 #initial guess\n",
    "    #cat.populate(hod_params) #may be overkill, but will ensure params are written everywhere\n",
    "    def func(logMmin, hod_params):\n",
    "        #print logMmin\n",
    "        hod_params.update({'logMmin':logMmin})\n",
    "        return (cat.calc_analytic_nd(hod_params) - nd)**2\n",
    "\n",
    "    res = minimize_scalar(func, bounds = (12.0, 16.0), args = (hod_params,), options = {'maxiter':1000},\\\n",
    "                          method = 'Bounded')\n",
    "\n",
    "    # assuming this doens't fail\n",
    "    print 'logMmin', res.x\n",
    "    hod_params['logMmin'] = res.x\n",
    "    #print \n",
    "    #print hod_params"
   ]
  },
  {
   "cell_type": "code",
   "execution_count": 494,
   "metadata": {},
   "outputs": [
    {
     "data": {
      "text/plain": [
       "0.001827839524404642"
      ]
     },
     "execution_count": 494,
     "metadata": {},
     "output_type": "execute_result"
    }
   ],
   "source": [
    "cat.calc_analytic_nd()"
   ]
  },
  {
   "cell_type": "code",
   "execution_count": 495,
   "metadata": {
    "collapsed": true
   },
   "outputs": [],
   "source": [
    "lower_bounds = [12.6, 0.05, 13.7, 0.7]\n",
    "upper_bounds = [13.6, 0.5, 14.7, 1.3]\n",
    "# prev vals\n",
    "#lower_bounds = [13.1, 0.05, 13.1, 0.8]\n",
    "#upper_bounds = [14.6, 0.3, 14.6, 1.2]\n",
    "bounds = zip(lower_bounds, upper_bounds)\n",
    "\n",
    "params_arr = np.array([list(p) for p in product(*bounds)])"
   ]
  },
  {
   "cell_type": "code",
   "execution_count": 496,
   "metadata": {},
   "outputs": [
    {
     "name": "stdout",
     "output_type": "stream",
     "text": [
      "logMmin 13.6253832426\n",
      "logMmin 13.76492952\n",
      "logMmin 13.1204592664\n",
      "logMmin 13.0688108091\n",
      "logMmin 13.7710410426\n",
      "logMmin 13.9212537276\n",
      "logMmin 13.1370786294\n",
      "logMmin 13.0422450522\n",
      "logMmin 13.1604979549\n",
      "logMmin 13.2725991941\n",
      "logMmin 13.0705021104\n",
      "logMmin 13.0594809746\n",
      "logMmin 13.2018751161\n",
      "logMmin 13.3606778377\n",
      "logMmin 13.0456093464\n",
      "logMmin 13.0233099333\n"
     ]
    }
   ],
   "source": [
    "sat_nd = np.zeros((params_arr.shape[0],))\n",
    "actual_nd = np.zeros_like(sat_nd)\n",
    "log_mMins = np.zeros_like(sat_nd)\n",
    "\n",
    "for idx, p in enumerate(params_arr):\n",
    "    hod_params = dict(zip(hod_pnames, p))\n",
    "    add_logMmin(hod_params, cat)\n",
    "    log_mMins[idx] = hod_params['logMmin']\n",
    "    sat_hod = cat.calc_hod(hod_params, component='satellite')\n",
    "    sat_nd[idx] = np.sum(mf*sat_hod)/((cat.Lbox)**3)#/cat.h)**3)\n",
    "    #sat_fracs[idx] = sat_nd/nd\n",
    "    cen_hod = cat.calc_hod(hod_params, component='central')\n",
    "    actual_nd[idx] = np.sum(mf*(cen_hod+sat_hod))/((cat.Lbox)**3)#cat.calc_analytic_nd(hod_params)#/cat.h**3\n",
    "    \n",
    "sat_fracs = sat_nd/actual_nd"
   ]
  },
  {
   "cell_type": "code",
   "execution_count": 497,
   "metadata": {},
   "outputs": [
    {
     "name": "stdout",
     "output_type": "stream",
     "text": [
      "0.0210949193203 0.852495522033\n"
     ]
    }
   ],
   "source": [
    "print np.min(sat_fracs), np.max(sat_fracs)"
   ]
  },
  {
   "cell_type": "code",
   "execution_count": 498,
   "metadata": {},
   "outputs": [
    {
     "name": "stdout",
     "output_type": "stream",
     "text": [
      "[0.021094919320288497, 0.021094925915044378, 0.042725960430079174, 0.042725966115552003, 0.046603309760311573, 0.046603317067639316, 0.15500548114081417, 0.15500568004872467, 0.23357000238111633, 0.23357015265165629, 0.42089894019654078, 0.4208991933685014, 0.77686755466989132, 0.77686776201874153, 0.85249471465896953, 0.85249552203279799]\n"
     ]
    }
   ],
   "source": [
    "print sorted(sat_fracs)"
   ]
  },
  {
   "cell_type": "code",
   "execution_count": 499,
   "metadata": {},
   "outputs": [
    {
     "data": {
      "image/png": "[encoded data removed]",
      "text/plain": [
       "<matplotlib.figure.Figure at 0x7ffaabd23f90>"
      ]
     },
     "metadata": {},
     "output_type": "display_data"
    }
   ],
   "source": [
    "plt.hist(sat_fracs, bins = np.linspace(0, 1, 11));"
   ]
  },
  {
   "cell_type": "code",
   "execution_count": 500,
   "metadata": {},
   "outputs": [
    {
     "data": {
      "image/png": "[encoded data removed]",
      "text/plain": [
       "<matplotlib.figure.Figure at 0x7ffaab91a710>"
      ]
     },
     "metadata": {},
     "output_type": "display_data"
    }
   ],
   "source": [
    "plt.hist(np.log10(sat_fracs));"
   ]
  },
  {
   "cell_type": "code",
   "execution_count": 501,
   "metadata": {},
   "outputs": [
    {
     "data": {
      "image/png": "[encoded data removed]",
      "text/plain": [
       "<matplotlib.figure.Figure at 0x7ffaab9f3d10>"
      ]
     },
     "metadata": {},
     "output_type": "display_data"
    }
   ],
   "source": [
    "plt.hist(log_mMins);"
   ]
  },
  {
   "cell_type": "code",
   "execution_count": 502,
   "metadata": {},
   "outputs": [
    {
     "data": {
      "text/plain": [
       "['logM0', 'sigma_logM', 'logM1', 'alpha']"
      ]
     },
     "execution_count": 502,
     "metadata": {},
     "output_type": "execute_result"
    }
   ],
   "source": [
    "hod_pnames"
   ]
  },
  {
   "cell_type": "code",
   "execution_count": 503,
   "metadata": {},
   "outputs": [
    {
     "data": {
      "text/plain": [
       "<matplotlib.text.Text at 0x7ffaab91a2d0>"
      ]
     },
     "execution_count": 503,
     "metadata": {},
     "output_type": "execute_result"
    },
    {
     "data": {
      "image/png": "[encoded data removed]",
      "text/plain": [
       "<matplotlib.figure.Figure at 0x7ffaa9a10650>"
      ]
     },
     "metadata": {},
     "output_type": "display_data"
    }
   ],
   "source": [
    "plt.scatter(params_arr[:,0], sat_fracs)\n",
    "plt.xlabel('logM1')\n",
    "plt.ylabel('Sat Frac')"
   ]
  },
  {
   "cell_type": "code",
   "execution_count": 504,
   "metadata": {},
   "outputs": [
    {
     "data": {
      "text/plain": [
       "<matplotlib.text.Text at 0x7ffaabd42410>"
      ]
     },
     "execution_count": 504,
     "metadata": {},
     "output_type": "execute_result"
    },
    {
     "data": {
      "image/png": "[encoded data removed]",
      "text/plain": [
       "<matplotlib.figure.Figure at 0x7ffaabd6ae10>"
      ]
     },
     "metadata": {},
     "output_type": "display_data"
    }
   ],
   "source": [
    "plt.scatter(params_arr[:,0], log_mMins)\n",
    "plt.xlabel('logM1')\n",
    "plt.ylabel('logMmin')"
   ]
  },
  {
   "cell_type": "code",
   "execution_count": 505,
   "metadata": {},
   "outputs": [
    {
     "data": {
      "text/plain": [
       "(array([ 2.,  0.,  0.,  1.,  2.,  1.,  3.,  5.,  1.,  1.]),\n",
       " array([ -5.95987145e-06,  -5.03457018e-06,  -4.10926891e-06,\n",
       "         -3.18396764e-06,  -2.25866637e-06,  -1.33336510e-06,\n",
       "         -4.08063824e-07,   5.17237447e-07,   1.44253872e-06,\n",
       "          2.36783999e-06,   3.29314126e-06]),\n",
       " <a list of 10 Patch objects>)"
      ]
     },
     "execution_count": 505,
     "metadata": {},
     "output_type": "execute_result"
    },
    {
     "data": {
      "image/png": "[encoded data removed]",
      "text/plain": [
       "<matplotlib.figure.Figure at 0x7ffaabe1eed0>"
      ]
     },
     "metadata": {},
     "output_type": "display_data"
    }
   ],
   "source": [
    "plt.hist(1e4*(actual_nd-nd) )"
   ]
  },
  {
   "cell_type": "code",
   "execution_count": 506,
   "metadata": {},
   "outputs": [
    {
     "data": {
      "text/plain": [
       "array([ 0.0005,  0.0005,  0.0005,  0.0005,  0.0005,  0.0005,  0.0005,\n",
       "        0.0005,  0.0005,  0.0005,  0.0005,  0.0005,  0.0005,  0.0005,\n",
       "        0.0005,  0.0005])"
      ]
     },
     "execution_count": 506,
     "metadata": {},
     "output_type": "execute_result"
    }
   ],
   "source": [
    "actual_nd"
   ]
  },
  {
   "cell_type": "code",
   "execution_count": 507,
   "metadata": {},
   "outputs": [
    {
     "data": {
      "text/plain": [
       "<matplotlib.text.Text at 0x7ffaabfc4090>"
      ]
     },
     "execution_count": 507,
     "metadata": {},
     "output_type": "execute_result"
    },
    {
     "data": {
      "image/png": "[encoded data removed]",
      "text/plain": [
       "<matplotlib.figure.Figure at 0x7ffaabd86910>"
      ]
     },
     "metadata": {},
     "output_type": "display_data"
    }
   ],
   "source": [
    "plt.scatter(params_arr[:,3], 1e4*(actual_nd-nd) )\n",
    "plt.xlabel('logM1')\n",
    "plt.ylabel('Actual nd - Fixed nd')"
   ]
  },
  {
   "cell_type": "code",
   "execution_count": 508,
   "metadata": {},
   "outputs": [
    {
     "name": "stdout",
     "output_type": "stream",
     "text": [
      "[]\n"
     ]
    }
   ],
   "source": [
    "print params_arr[np.abs(actual_nd-nd)>1e-6, :]"
   ]
  },
  {
   "cell_type": "code",
   "execution_count": 509,
   "metadata": {},
   "outputs": [
    {
     "data": {
      "text/plain": [
       "array([  1.28158241e-10,   3.29314126e-10,   4.56278219e-11,\n",
       "         1.02948446e-10,  -5.29362372e-12,  -1.44221710e-10,\n",
       "        -5.95987145e-10,   1.69482632e-10,  -5.71676817e-10,\n",
       "         1.41939922e-10,   9.98243596e-11,   9.99176347e-11,\n",
       "        -2.49995166e-10,  -1.58811466e-10,   2.14251205e-11,\n",
       "        -5.63938220e-11])"
      ]
     },
     "execution_count": 509,
     "metadata": {},
     "output_type": "execute_result"
    }
   ],
   "source": [
    "actual_nd-nd"
   ]
  },
  {
   "cell_type": "code",
   "execution_count": null,
   "metadata": {
    "collapsed": true
   },
   "outputs": [],
   "source": []
  }
 ],
 "metadata": {
  "kernelspec": {
   "display_name": "Python 2",
   "language": "python",
   "name": "python2"
  },
  "language_info": {
   "codemirror_mode": {
    "name": "ipython",
    "version": 2
   },
   "file_extension": ".py",
   "mimetype": "text/x-python",
   "name": "python",
   "nbconvert_exporter": "python",
   "pygments_lexer": "ipython2",
   "version": "2.7.13"
  }
 },
 "nbformat": 4,
 "nbformat_minor": 2
}

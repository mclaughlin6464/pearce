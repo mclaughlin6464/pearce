{
 "cells": [
  {
   "cell_type": "markdown",
   "metadata": {},
   "source": [
    "I figured out the problem was that the expected mass in cylinders calculation was assuming PBC. I'm gonna have to actually compute the total mas in random cylinders. I'm gonna develop that here, as well as whatever I have to do for wp and cic. "
   ]
  },
  {
   "cell_type": "code",
   "execution_count": 1,
   "metadata": {
    "collapsed": true
   },
   "outputs": [],
   "source": [
    "import numpy as np\n",
    "from glob import glob\n",
    "from os import path"
   ]
  },
  {
   "cell_type": "code",
   "execution_count": 2,
   "metadata": {
    "collapsed": true
   },
   "outputs": [],
   "source": [
    "from matplotlib import pyplot as plt\n",
    "%matplotlib inline\n",
    "import seaborn as sns\n",
    "sns.set()\n",
    "import matplotlib.colors as colors"
   ]
  },
  {
   "cell_type": "code",
   "execution_count": 3,
   "metadata": {
    "collapsed": true
   },
   "outputs": [],
   "source": [
    "#from pearce.mocks.kittens import DarkSky\n",
    "from pearce.mocks.kittens import TestBox\n",
    "from halotools.empirical_models import Zheng07Cens, Zheng07Sats\n",
    "from collections import OrderedDict\n",
    "from time import time\n",
    "import yaml"
   ]
  },
  {
   "cell_type": "code",
   "execution_count": 4,
   "metadata": {
    "collapsed": true
   },
   "outputs": [],
   "source": [
    "output_dir = './'# '/home/users/swmclau2/Git/pearce/bin/covmat/ds14_covmat/'"
   ]
  },
  {
   "cell_type": "code",
   "execution_count": 5,
   "metadata": {
    "collapsed": true
   },
   "outputs": [],
   "source": [
    "config_fname = 'xi_cosmo_trainer.yaml'\n",
    "\n",
    "with open(path.join(output_dir, config_fname), 'r') as ymlfile:\n",
    "    cfg = yaml.load(ymlfile)\n",
    "\n",
    "nd = float(cfg['HOD']['fixed_nd'] )\n",
    "min_ptcl = int(cfg['HOD']['min_ptcl'])\n",
    "r_bins = np.array(cfg['observation']['bins'] ).astype(float)\n",
    "\n",
    "hod_param_ranges =  cfg['HOD']['ordered_params']\n",
    "\n",
    "\n",
    "logMmin_bounds = hod_param_ranges['logMmin']\n",
    "\n",
    "\n",
    "del hod_param_ranges['logMmin']"
   ]
  },
  {
   "cell_type": "code",
   "execution_count": 6,
   "metadata": {
    "collapsed": true
   },
   "outputs": [],
   "source": [
    "def make_LHC(ordered_params, N, seed = None):\n",
    "\n",
    "    if seed is None:\n",
    "        seed = int(time())\n",
    "    np.random.seed(seed)\n",
    "\n",
    "    points = []\n",
    "    # by linspacing each parameter and shuffling, I ensure there is only one point in each row, in each dimension.\n",
    "    for plow, phigh in ordered_params.itervalues():\n",
    "        point = np.linspace(plow, phigh, num=N)\n",
    "        np.random.shuffle(point)  # makes the cube random.\n",
    "        points.append(point)\n",
    "    return np.stack(points).T\n",
    "\n",
    "\n",
    "def add_logMmin(hod_params, cat):\n",
    "\n",
    "    hod_params['logMmin'] = 13.0 #initial guess\n",
    "    #cat.populate(hod_params) #may be overkill, but will ensure params are written everywhere\n",
    "    def func(logMmin, hod_params):\n",
    "        hod_params.update({'logMmin':logMmin})\n",
    "        return (cat.calc_analytic_nd(hod_params, min_ptcl = min_ptcl) - nd)**2\n",
    "\n",
    "    res = minimize_scalar(func, bounds = logMmin_bounds, args = (hod_params,), options = {'maxiter':100}, method = 'Bounded')\n",
    "\n",
    "    # assuming this doens't fail\n",
    "    #print 'logMmin', res.x\n",
    "    hod_params['logMmin'] = res.x"
   ]
  },
  {
   "cell_type": "code",
   "execution_count": 7,
   "metadata": {
    "collapsed": true
   },
   "outputs": [],
   "source": [
    "def total_mass_enclosed_per_cylinder(centers, particles,\n",
    "        particle_masses, downsampling_factor, rp_bins, period,\n",
    "        num_threads=1, approx_cell1_size=None, approx_cell2_size=None):\n",
    "\n",
    "#  Perform bounds-checking and error-handling in private helper functions\n",
    "    #print period\n",
    "    args = (centers, particles, particle_masses, downsampling_factor,\n",
    "        rp_bins, period, num_threads)\n",
    "    result = _enclosed_mass_process_args(*args)\n",
    "    centers, particles, particle_masses, downsampling_factor, \\\n",
    "        rp_bins, period, num_threads, PBCs = result\n",
    "\n",
    "\n",
    "    mean_particle_mass = np.mean(particle_masses)\n",
    "    normalized_particle_masses = particle_masses/mean_particle_mass\n",
    "\n",
    "    # Calculate M_tot(< Rp) normalized with internal code units\n",
    "    total_mass_per_cylinder = weighted_npairs_per_object_xy(centers, particles,\n",
    "        normalized_particle_masses, rp_bins,\n",
    "        period=None, num_threads=num_threads, #try large finite PBCs\n",
    "        approx_cell1_size=approx_cell1_size,\n",
    "        approx_cell2_size=approx_cell2_size)\n",
    "\n",
    "    # Renormalize the particle masses and account for downsampling\n",
    "    total_mass_per_cylinder *= downsampling_factor*mean_particle_mass\n",
    "\n",
    "    return total_mass_per_cylinder\n"
   ]
  },
  {
   "cell_type": "code",
   "execution_count": 8,
   "metadata": {
    "collapsed": true
   },
   "outputs": [],
   "source": [
    "from halotools.mock_observables.surface_density.surface_density_helpers import rho_matter_comoving_in_halotools_units as rho_m_comoving\n",
    "from halotools.mock_observables.surface_density.surface_density_helpers import annular_area_weighted_midpoints\n",
    "from halotools.mock_observables.surface_density.surface_density_helpers import log_interpolation_with_inner_zero_masking as log_interp\n",
    "from halotools.mock_observables import return_xyz_formatted_array"
   ]
  },
  {
   "cell_type": "code",
   "execution_count": 9,
   "metadata": {
    "collapsed": true
   },
   "outputs": [],
   "source": [
    "from halotools.mock_observables.surface_density.delta_sigma import _delta_sigma_precomputed_process_args"
   ]
  },
  {
   "cell_type": "code",
   "execution_count": 10,
   "metadata": {
    "collapsed": true
   },
   "outputs": [],
   "source": [
    "from halotools.mock_observables.surface_density.mass_in_cylinders import _enclosed_mass_process_args\n",
    "from halotools.mock_observables.surface_density.weighted_npairs_per_object_xy import weighted_npairs_per_object_xy"
   ]
  },
  {
   "cell_type": "code",
   "execution_count": 11,
   "metadata": {
    "collapsed": true
   },
   "outputs": [],
   "source": [
    "def delta_sigma(galaxies, mass_enclosed_per_galaxy,\n",
    "                mass_enclosed_per_random, period,\n",
    "                rp_bins, cosmology):\n",
    "    \n",
    "    #  Perform bounds-checking and error-handling in private helper functions\n",
    "    args = (galaxies, mass_enclosed_per_galaxy, rp_bins, period)\n",
    "    result = _delta_sigma_precomputed_process_args(*args)\n",
    "    galaxies, mass_enclosed_per_galaxy, rp_bins, period, PBCs = result\n",
    "\n",
    "    total_mass_in_stack_of_cylinders = np.sum(mass_enclosed_per_galaxy, axis=0)\n",
    "\n",
    "    total_mass_in_stack_of_annuli = np.diff(total_mass_in_stack_of_cylinders)\n",
    "\n",
    "    mean_rho_comoving = rho_m_comoving(cosmology)\n",
    "    mean_sigma_comoving = mean_rho_comoving*float(period[2])\n",
    "\n",
    "    expected_mass_in_random_stack_of_cylinders = np.sum(mass_enclosed_per_random, axis = 0 )\n",
    "    expected_mass_in_random_stack_of_annuli = np.diff(expected_mass_in_random_stack_of_cylinders)\n",
    "    \n",
    "    one_plus_mean_sigma_inside_rp = mean_sigma_comoving*(\n",
    "        total_mass_in_stack_of_cylinders/expected_mass_in_random_stack_of_cylinders)\n",
    "\n",
    "    one_plus_sigma = mean_sigma_comoving*(\n",
    "        total_mass_in_stack_of_annuli/expected_mass_in_random_stack_of_annuli)\n",
    "\n",
    "    rp_mids = annular_area_weighted_midpoints(rp_bins)\n",
    "    one_plus_mean_sigma_inside_rp_interp = log_interp(one_plus_mean_sigma_inside_rp,\n",
    "        rp_bins, rp_mids)\n",
    "\n",
    "    excess_surface_density = one_plus_mean_sigma_inside_rp_interp - one_plus_sigma\n",
    "    return excess_surface_density\n"
   ]
  },
  {
   "cell_type": "code",
   "execution_count": 12,
   "metadata": {
    "collapsed": true
   },
   "outputs": [],
   "source": [
    "def calc_ds(cat, rp_bins, randoms, tm_gal = None, tm_rand = None):\n",
    "    n_cores = 4\n",
    "    \n",
    "    x_g, y_g, z_g = [cat.model.mock.galaxy_table[c] for c in ['x', 'y', 'z']]\n",
    "    pos_g = return_xyz_formatted_array(x_g, y_g, z_g, period=cat.Lbox)\n",
    "\n",
    "    x_m, y_m, z_m = [cat.halocat.ptcl_table[c] for c in ['x', 'y', 'z']]\n",
    "    pos_m = return_xyz_formatted_array(x_m, y_m, z_m, period=cat.Lbox)\n",
    "    \n",
    "    pos_r = randoms\n",
    "    print 'A'\n",
    "    if tm_gal is None:\n",
    "        tm_gal = total_mass_enclosed_per_cylinder(pos_g/cat.h, pos_m/cat.h,\n",
    "        cat.pmass/cat.h, 1./cat._downsample_factor, rp_bins, cat.Lbox/cat.h,\n",
    "        num_threads=n_cores)\n",
    "    print 'B'\n",
    "    if tm_rand is None:\n",
    "        tm_rand = total_mass_enclosed_per_cylinder(pos_r/cat.h, pos_m/cat.h,\n",
    "        cat.pmass/cat.h, 1./cat._downsample_factor, rp_bins, cat.Lbox/cat.h,\n",
    "        num_threads=n_cores)\n",
    "    print 'C'\n",
    "    return delta_sigma(pos_g / cat.h, tm_gal, tm_rand, \n",
    "                   cat.Lbox / cat.h, rp_bins,  cosmology=cat.cosmology)/(1e12), tm_gal, tm_rand\n"
   ]
  },
  {
   "cell_type": "code",
   "execution_count": 13,
   "metadata": {
    "collapsed": true
   },
   "outputs": [],
   "source": [
    "cat = TestBox(boxno = 0, realization = 0, system = 'sherlock')\n",
    "cat.load(1.0, HOD='zheng07', particles = True, downsample_factor = 1e-2)"
   ]
  },
  {
   "cell_type": "code",
   "execution_count": 14,
   "metadata": {
    "collapsed": true
   },
   "outputs": [],
   "source": [
    "# TODO seed here for constant HODs\n",
    "# TODO maybe just do 5, 10 may be overkill\n",
    "N = 10\n",
    "LHC = make_LHC(hod_param_ranges, N, 24)\n",
    "hod_dicts = [dict(zip(hod_param_ranges.keys(), vals)) for vals in LHC]"
   ]
  },
  {
   "cell_type": "code",
   "execution_count": 15,
   "metadata": {
    "collapsed": true
   },
   "outputs": [],
   "source": [
    "cat.populate(hod_dicts[1])"
   ]
  },
  {
   "cell_type": "code",
   "execution_count": 16,
   "metadata": {
    "collapsed": true
   },
   "outputs": [],
   "source": [
    "rp_bins = np.logspace(-1.0, 1.6, 19)"
   ]
  },
  {
   "cell_type": "code",
   "execution_count": 18,
   "metadata": {},
   "outputs": [],
   "source": [
    "N_rand = len(cat.model.mock.galaxy_table)\n",
    "randoms = np.random.rand(int(N_rand), 3)*cat.Lbox"
   ]
  },
  {
   "cell_type": "code",
   "execution_count": 20,
   "metadata": {},
   "outputs": [
    {
     "name": "stdout",
     "output_type": "stream",
     "text": [
      "A\n",
      "B\n",
      "C\n"
     ]
    }
   ],
   "source": [
    "ds_new, tm_gal, tm_rand = calc_ds(cat, rp_bins, randoms)#, tm_gal=tm_gal)"
   ]
  },
  {
   "cell_type": "code",
   "execution_count": 21,
   "metadata": {
    "collapsed": true
   },
   "outputs": [],
   "source": [
    "ds_old = cat.calc_ds(rp_bins, n_cores = 1)"
   ]
  },
  {
   "cell_type": "code",
   "execution_count": 22,
   "metadata": {},
   "outputs": [
    {
     "data": {
      "image/png": "[encoded data removed]",
      "text/plain": [
       "<matplotlib.figure.Figure at 0x7f4d921b65d0>"
      ]
     },
     "metadata": {},
     "output_type": "display_data"
    }
   ],
   "source": [
    "rpoints = (rp_bins[1:] + rp_bins[:-1])/2.0\n",
    "plt.plot(rpoints, ds_old.squeeze(), label = 'Old')\n",
    "plt.plot(rpoints, ds_new.squeeze(), label = 'New')\n",
    "\n",
    "\n",
    "plt.legend(loc='best')\n",
    "plt.loglog();"
   ]
  },
  {
   "cell_type": "code",
   "execution_count": 23,
   "metadata": {},
   "outputs": [
    {
     "data": {
      "text/plain": [
       "array([ 2.49332878,  2.5110502 ,  2.50055693,  2.50203491,  2.49958314,\n",
       "        2.50942419,  2.5031821 ,  2.49722431,  2.4981175 ,  2.50982378,\n",
       "        2.52905288,  2.50266926,  2.50395902,  2.48339274,  2.50756151,\n",
       "        2.51002336,  2.48726496,  2.43350357])"
      ]
     },
     "execution_count": 23,
     "metadata": {},
     "output_type": "execute_result"
    }
   ],
   "source": [
    "ds_new/ds_old"
   ]
  },
  {
   "cell_type": "code",
   "execution_count": 24,
   "metadata": {},
   "outputs": [
    {
     "data": {
      "text/plain": [
       "array([  1.82146297e+13,   3.03577161e+13,   3.64292594e+13,\n",
       "         7.89300620e+13,   9.71446917e+13,   1.21430865e+14,\n",
       "         1.76074754e+14,   2.91434075e+14,   4.61437285e+14,\n",
       "         8.37872966e+14,   1.56038661e+15,   3.01755698e+15,\n",
       "         6.44190737e+15,   1.22280881e+16,   2.35333016e+16,\n",
       "         4.44072672e+16,   8.29312090e+16,   1.53306467e+17,\n",
       "         2.90183337e+17])"
      ]
     },
     "execution_count": 24,
     "metadata": {},
     "output_type": "execute_result"
    }
   ],
   "source": [
    "tm_gal[0]"
   ]
  },
  {
   "cell_type": "code",
   "execution_count": 25,
   "metadata": {},
   "outputs": [
    {
     "data": {
      "text/plain": [
       "array([  0.00000000e+00,   0.00000000e+00,   0.00000000e+00,\n",
       "         1.21430865e+13,   3.64292594e+13,   6.07154323e+13,\n",
       "         1.45717037e+14,   2.73219445e+14,   5.46438891e+14,\n",
       "         9.35017657e+14,   1.68788902e+15,   3.10863013e+15,\n",
       "         5.89546848e+15,   1.15662899e+16,   2.11350420e+16,\n",
       "         4.12864940e+16,   8.16561849e+16,   1.60337314e+17,\n",
       "         3.05811489e+17])"
      ]
     },
     "execution_count": 25,
     "metadata": {},
     "output_type": "execute_result"
    }
   ],
   "source": [
    "tm_rand[0]"
   ]
  },
  {
   "cell_type": "code",
   "execution_count": null,
   "metadata": {
    "collapsed": true
   },
   "outputs": [],
   "source": []
  }
 ],
 "metadata": {
  "kernelspec": {
   "display_name": "Python 2",
   "language": "python",
   "name": "python2"
  },
  "language_info": {
   "codemirror_mode": {
    "name": "ipython",
    "version": 2
   },
   "file_extension": ".py",
   "mimetype": "text/x-python",
   "name": "python",
   "nbconvert_exporter": "python",
   "pygments_lexer": "ipython2",
   "version": "2.7.13"
  }
 },
 "nbformat": 4,
 "nbformat_minor": 2
}

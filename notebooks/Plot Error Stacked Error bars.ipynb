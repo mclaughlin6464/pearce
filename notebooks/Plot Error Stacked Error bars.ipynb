{
 "cells": [
  {
   "cell_type": "markdown",
   "metadata": {},
   "source": [
    "I'm plotting the relative magnitude of the error bars of different sources of uncertainty in the emu inference. "
   ]
  },
  {
   "cell_type": "code",
   "execution_count": 1,
   "metadata": {
    "collapsed": true
   },
   "outputs": [],
   "source": [
    "import matplotlib\n",
    "#matplotlib.use('Agg')\n",
    "from matplotlib import pyplot as plt\n",
    "%matplotlib inline\n",
    "import seaborn as sns\n",
    "sns.set()"
   ]
  },
  {
   "cell_type": "code",
   "execution_count": 2,
   "metadata": {
    "collapsed": true
   },
   "outputs": [],
   "source": [
    "import numpy as np"
   ]
  },
  {
   "cell_type": "code",
   "execution_count": 3,
   "metadata": {},
   "outputs": [
    {
     "name": "stdout",
     "output_type": "stream",
     "text": [
      "-rw-r--r-- 1 swmclau2 kipac 8170 Nov 20 12:42 /home/users/swmclau2/Git/pearce/bin/mcmc/xigm_scov_log.npy\n",
      "-rw-r--r-- 1 swmclau2 kipac 8114 Nov 15 20:39 /home/users/swmclau2/Git/pearce/bin/mcmc/xigg_scov_log.npy\n",
      "-rw-r--r-- 1 swmclau2 kipac 8124 Nov 15 15:58 /home/users/swmclau2/Git/pearce/bin/mcmc/xigg_scov.npy\n"
     ]
    }
   ],
   "source": [
    "%%bash\n",
    "ls /home/users/swmclau2/Git/pearce/bin/mcmc/*scov*.npy -lt"
   ]
  },
  {
   "cell_type": "code",
   "execution_count": 4,
   "metadata": {
    "collapsed": true
   },
   "outputs": [],
   "source": [
    "boxno, realization = 3, 1"
   ]
  },
  {
   "cell_type": "code",
   "execution_count": 5,
   "metadata": {
    "collapsed": true
   },
   "outputs": [],
   "source": [
    "shot_cov = np.loadtxt('/home/users/swmclau2/Git/pearce/bin/mcmc/xi_gg_shot_cov_true_%d%d.npy'%(boxno, realization))\n",
    "jk_cov = np.loadtxt('/home/users/swmclau2/Git/pearce/bin/mcmc/xi_gg_cov_true_jk_%d%d.npy'%(boxno, realization))\n",
    "sample_cov = np.loadtxt('/home/users/swmclau2/Git/pearce/bin/mcmc/xigg_scov.npy')\n",
    "data_cov = np.loadtxt('xigg_ycov.npy')"
   ]
  },
  {
   "cell_type": "code",
   "execution_count": 6,
   "metadata": {
    "collapsed": true
   },
   "outputs": [],
   "source": [
    "#TODO add emu1 cov, "
   ]
  },
  {
   "cell_type": "code",
   "execution_count": 11,
   "metadata": {},
   "outputs": [
    {
     "name": "stdout",
     "output_type": "stream",
     "text": [
      "Shot [  7.12955885e+02   3.65941656e+02   1.62654705e+02   9.78157102e+01\n",
      "   4.49337584e+01   2.64708742e+01   1.26853650e+01   6.30783436e+00\n",
      "   3.37102485e+00   1.61268834e+00   6.49612790e-01   2.08267127e-01\n",
      "   6.25527917e-02   3.14930562e-02   1.47078625e-02   6.68377867e-03\n",
      "   3.61430957e-03   2.27019642e-03]\n",
      "JK [  1.73700809e+03   3.65513110e+02   2.19145447e+02   4.81348007e+01\n",
      "   1.81491133e+01   8.08676227e+00   2.97680203e+00   1.40239502e+00\n",
      "   7.44023350e-01   3.82388915e-01   1.98196033e-01   6.73654075e-02\n",
      "   1.56357805e-02   8.21079326e-03   4.21104473e-03   2.06619084e-03\n",
      "   1.27467276e-03   7.95496537e-04]\n"
     ]
    },
    {
     "data": {
      "image/png": "[encoded data removed]",
      "text/plain": [
       "<matplotlib.figure.Figure at 0x7fc1ff831e50>"
      ]
     },
     "metadata": {},
     "output_type": "display_data"
    }
   ],
   "source": [
    "last_bar = np.zeros((shot_cov.shape[0],))\n",
    "i = 0\n",
    "for covmat, label in zip([shot_cov, jk_cov], ['Shot', 'JK']):\n",
    "    #if i == 2:\n",
    "    #    break\n",
    "    #i+=1\n",
    "    errs = np.sqrt(np.diag(covmat))\n",
    "    print label, errs\n",
    "\n",
    "    if label == 'Training':\n",
    "        plt.bar(np.array(range(shot_cov.shape[0])), errs, bottom = last_bar, label = label, color = 'r')\n",
    "    else:\n",
    "        plt.bar(np.array(range(shot_cov.shape[0])), errs, bottom = last_bar, label = label)\n",
    "\n",
    "    last_bar = errs\n",
    "    \n",
    "plt.legend(loc = 'best')\n",
    "plt.yscale('log')\n",
    "plt.show()"
   ]
  },
  {
   "cell_type": "code",
   "execution_count": null,
   "metadata": {
    "collapsed": true
   },
   "outputs": [],
   "source": []
  },
  {
   "cell_type": "code",
   "execution_count": null,
   "metadata": {
    "collapsed": true
   },
   "outputs": [],
   "source": []
  }
 ],
 "metadata": {
  "kernelspec": {
   "display_name": "Python 2",
   "language": "python",
   "name": "python2"
  },
  "language_info": {
   "codemirror_mode": {
    "name": "ipython",
    "version": 2
   },
   "file_extension": ".py",
   "mimetype": "text/x-python",
   "name": "python",
   "nbconvert_exporter": "python",
   "pygments_lexer": "ipython2",
   "version": "2.7.13"
  }
 },
 "nbformat": 4,
 "nbformat_minor": 2
}

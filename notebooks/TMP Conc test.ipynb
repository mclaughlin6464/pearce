{
 "cells": [
  {
   "cell_type": "code",
   "execution_count": 1,
   "metadata": {
    "collapsed": true
   },
   "outputs": [],
   "source": [
    "from pearce.mocks import cat_dict"
   ]
  },
  {
   "cell_type": "code",
   "execution_count": 2,
   "metadata": {
    "collapsed": true
   },
   "outputs": [],
   "source": [
    "cat = cat_dict['testbox'](scale_factor = 1.0, boxno = 3, realization =2, system = 'sherlock')"
   ]
  },
  {
   "cell_type": "code",
   "execution_count": 3,
   "metadata": {
    "collapsed": true
   },
   "outputs": [],
   "source": [
    "cat.load(1.0, HOD = 'zheng07')"
   ]
  },
  {
   "cell_type": "code",
   "execution_count": 4,
   "metadata": {},
   "outputs": [
    {
     "data": {
      "text/html": [
       "&lt;Column name=&apos;halo_nfw_conc&apos; dtype=&apos;float32&apos; length=9551524&gt;\n",
       "<table>\n",
       "<tr><td>17.0655</td></tr>\n",
       "<tr><td>13.1541</td></tr>\n",
       "<tr><td>4.84562</td></tr>\n",
       "<tr><td>9.47554</td></tr>\n",
       "<tr><td>75.5575</td></tr>\n",
       "<tr><td>18.4252</td></tr>\n",
       "<tr><td>18.6393</td></tr>\n",
       "<tr><td>6.69504</td></tr>\n",
       "<tr><td>10.9788</td></tr>\n",
       "<tr><td>10.6477</td></tr>\n",
       "<tr><td>15.0739</td></tr>\n",
       "<tr><td>38.4736</td></tr>\n",
       "<tr><td>...</td></tr>\n",
       "<tr><td>inf</td></tr>\n",
       "<tr><td>9.89188</td></tr>\n",
       "<tr><td>5.30096</td></tr>\n",
       "<tr><td>3.13736</td></tr>\n",
       "<tr><td>13.4814</td></tr>\n",
       "<tr><td>8.77236</td></tr>\n",
       "<tr><td>7.08263</td></tr>\n",
       "<tr><td>3.75691</td></tr>\n",
       "<tr><td>15.4234</td></tr>\n",
       "<tr><td>11.7441</td></tr>\n",
       "<tr><td>20.2694</td></tr>\n",
       "<tr><td>8.03088</td></tr>\n",
       "</table>"
      ],
      "text/plain": [
       "<Column name='halo_nfw_conc' dtype='float32' length=9551524>\n",
       "17.0655\n",
       "13.1541\n",
       "4.84562\n",
       "9.47554\n",
       "75.5575\n",
       "18.4252\n",
       "18.6393\n",
       "6.69504\n",
       "10.9788\n",
       "10.6477\n",
       "15.0739\n",
       "38.4736\n",
       "    ...\n",
       "    inf\n",
       "9.89188\n",
       "5.30096\n",
       "3.13736\n",
       "13.4814\n",
       "8.77236\n",
       "7.08263\n",
       "3.75691\n",
       "15.4234\n",
       "11.7441\n",
       "20.2694\n",
       "8.03088"
      ]
     },
     "execution_count": 4,
     "metadata": {},
     "output_type": "execute_result"
    }
   ],
   "source": [
    "cat.halocat.halo_table['halo_nfw_conc']"
   ]
  },
  {
   "cell_type": "code",
   "execution_count": null,
   "metadata": {
    "collapsed": true
   },
   "outputs": [],
   "source": []
  }
 ],
 "metadata": {
  "kernelspec": {
   "display_name": "Python 2",
   "language": "python",
   "name": "python2"
  },
  "language_info": {
   "codemirror_mode": {
    "name": "ipython",
    "version": 2
   },
   "file_extension": ".py",
   "mimetype": "text/x-python",
   "name": "python",
   "nbconvert_exporter": "python",
   "pygments_lexer": "ipython2",
   "version": "2.7.13"
  }
 },
 "nbformat": 4,
 "nbformat_minor": 2
}

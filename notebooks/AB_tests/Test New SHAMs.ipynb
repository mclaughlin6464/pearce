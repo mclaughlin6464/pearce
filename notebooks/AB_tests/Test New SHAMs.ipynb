{
 "cells": [
  {
   "cell_type": "markdown",
   "metadata": {},
   "source": [
    "I want to sanity test that the mock measurements I'm comparing to are what I expect them to be, and the bad fits I'm recovering are because my models are a poor fit and not some other reason. "
   ]
  },
  {
   "cell_type": "code",
   "execution_count": 1,
   "metadata": {
    "collapsed": true
   },
   "outputs": [],
   "source": [
    "%matplotlib inline\n",
    "from matplotlib import pyplot as plt"
   ]
  },
  {
   "cell_type": "code",
   "execution_count": 2,
   "metadata": {},
   "outputs": [
    {
     "name": "stderr",
     "output_type": "stream",
     "text": [
      "/home/users/swmclau2/.local/lib/python2.7/site-packages/h5py/__init__.py:36: FutureWarning: Conversion of the second argument of issubdtype from `float` to `np.floating` is deprecated. In future, it will be treated as `np.float64 == np.dtype(float).type`.\n",
      "  from ._conv import register_converters as _register_converters\n"
     ]
    }
   ],
   "source": [
    "import numpy as np\n",
    "from os import path\n",
    "from astropy.table import Table\n",
    "from halotools.mock_observables import hod_from_mock\n",
    "from halotools.utils import broadcast_host_halo_property, add_halo_hostid\n",
    "\n",
    "from pearce.mocks.kittens import TrainingBox, MDPL2\n",
    "import h5py"
   ]
  },
  {
   "cell_type": "code",
   "execution_count": 3,
   "metadata": {
    "collapsed": true
   },
   "outputs": [],
   "source": [
    "#cat_dir = '/u/ki/swmclau2/des'\n",
    "cat_dir = '/home/users/swmclau2/scratch/'"
   ]
  },
  {
   "cell_type": "code",
   "execution_count": 4,
   "metadata": {},
   "outputs": [
    {
     "name": "stderr",
     "output_type": "stream",
     "text": [
      "WARNING: path= was not specified but multiple tables are present, reading in first available table (path=halo_vpeak_catalog) [astropy.io.misc.hdf5]\n"
     ]
    }
   ],
   "source": [
    "sham_catalog = Table.read(path.join(cat_dir, 'MDPL2_halo_vpeak_smf_sham_low_nd.hdf5'), format='hdf5')\n",
    "#sham_catalog = Table.read(path.join(cat_dir, 'test_MDPL2_halo_vpeak_smf_sham_shuffled.hdf5'), format='hdf5')"
   ]
  },
  {
   "cell_type": "code",
   "execution_count": 5,
   "metadata": {},
   "outputs": [],
   "source": [
    "catalog_fname = '/home/users/swmclau2/scratch/test_MDPL2_halo_vpeak_smf_sham_large.hdf5'\n",
    "halo_catalog = Table.read(catalog_fname, format = 'hdf5')#, path = 'halo_vpeak_shuffled'))"
   ]
  },
  {
   "cell_type": "code",
   "execution_count": 6,
   "metadata": {},
   "outputs": [
    {
     "data": {
      "text/plain": [
       "(500000, 42615485)"
      ]
     },
     "execution_count": 6,
     "metadata": {},
     "output_type": "execute_result"
    }
   ],
   "source": [
    "len(sham_catalog), len(halo_catalog)"
   ]
  },
  {
   "cell_type": "raw",
   "metadata": {},
   "source": [
    "halo_catalog['halo_id'] = halo_catalog['id']\n",
    "halo_catalog['halo_upid'] = halo_catalog['upid']"
   ]
  },
  {
   "cell_type": "raw",
   "metadata": {},
   "source": [
    "#add_halo_hostid(halo_catalog)\n",
    "#broadcast_host_halo_property(halo_catalog, 'halo_mvir', delete_possibly_existing_column=False)"
   ]
  },
  {
   "cell_type": "code",
   "execution_count": 7,
   "metadata": {
    "collapsed": true
   },
   "outputs": [],
   "source": [
    "haloprop_bins = np.logspace(10,16, 61)\n",
    "hbc = (haloprop_bins[1:] + haloprop_bins[:-1])/2.0"
   ]
  },
  {
   "cell_type": "code",
   "execution_count": 8,
   "metadata": {
    "collapsed": true
   },
   "outputs": [],
   "source": [
    "sham_hod, _ = hod_from_mock( sham_catalog['halo_mvir_host_halo'],halo_catalog['halo_mvir'], haloprop_bins)"
   ]
  },
  {
   "cell_type": "code",
   "execution_count": 9,
   "metadata": {},
   "outputs": [
    {
     "data": {
      "image/png": "[encoded data removed]",
      "text/plain": [
       "<matplotlib.figure.Figure at 0x7efd4d572750>"
      ]
     },
     "metadata": {},
     "output_type": "display_data"
    }
   ],
   "source": [
    "plt.plot(hbc, sham_hod)\n",
    "\n",
    "plt.loglog();"
   ]
  },
  {
   "cell_type": "code",
   "execution_count": 10,
   "metadata": {
    "collapsed": true
   },
   "outputs": [],
   "source": [
    "r_bins = np.logspace(-1, 1.6, 19)\n",
    "rbc = (r_bins[1:]+r_bins[:-1])/2.0"
   ]
  },
  {
   "cell_type": "code",
   "execution_count": 11,
   "metadata": {},
   "outputs": [],
   "source": [
    "mdpl2 = MDPL2()"
   ]
  },
  {
   "cell_type": "code",
   "execution_count": 12,
   "metadata": {
    "collapsed": true
   },
   "outputs": [],
   "source": [
    "cat = TrainingBox(0,system='ki-ls')\n",
    "cat.load_model(1.0, HOD='zheng07')"
   ]
  },
  {
   "cell_type": "code",
   "execution_count": 13,
   "metadata": {},
   "outputs": [
    {
     "data": {
      "text/plain": [
       "1510000000.0"
      ]
     },
     "execution_count": 13,
     "metadata": {},
     "output_type": "execute_result"
    }
   ],
   "source": [
    "mdpl2.pmass"
   ]
  },
  {
   "cell_type": "code",
   "execution_count": 14,
   "metadata": {
    "collapsed": true
   },
   "outputs": [],
   "source": [
    "mass_function = np.histogram(halo_catalog[halo_catalog['halo_upid']==-1]['halo_mvir'], haloprop_bins)[0]"
   ]
  },
  {
   "cell_type": "code",
   "execution_count": 15,
   "metadata": {
    "collapsed": true
   },
   "outputs": [],
   "source": [
    "mass_function[hbc<mdpl2.pmass*100] = 0.0"
   ]
  },
  {
   "cell_type": "code",
   "execution_count": 16,
   "metadata": {},
   "outputs": [
    {
     "data": {
      "image/png": "[encoded data removed]",
      "text/plain": [
       "<matplotlib.figure.Figure at 0x7efd4d569e10>"
      ]
     },
     "metadata": {},
     "output_type": "display_data"
    }
   ],
   "source": [
    "plt.plot(hbc, mass_function)\n",
    "plt.loglog();"
   ]
  },
  {
   "cell_type": "code",
   "execution_count": 17,
   "metadata": {
    "collapsed": true
   },
   "outputs": [],
   "source": [
    "def calc_analytic_nd(cat, params, min_ptcl):\n",
    "    hod = calc_hod(cat, params, hbc)\n",
    "    return np.sum(mass_function * hod) / ((1000) ** 3)  # /self.h)**3)\n"
   ]
  },
  {
   "cell_type": "code",
   "execution_count": 18,
   "metadata": {
    "collapsed": true
   },
   "outputs": [],
   "source": [
    "from scipy.optimize import minimize_scalar, curve_fit\n",
    "def add_logMmin(hod_params, cat):\n",
    "\n",
    "    hod_params['logMmin'] = 13.0 #initial guess\n",
    "    #cat.populate(hod_params) #may be overkill, but will ensure params are written everywhere\n",
    "    def func(logMmin, hod_params):\n",
    "        hod_params.update({'logMmin':logMmin})\n",
    "        return (calc_analytic_nd(cat,hod_params, min_ptcl=100) - 5e-4)**2\n",
    "\n",
    "    res = minimize_scalar(func, bounds = (12.0,14.0),\\\n",
    "                          args = (hod_params,), \\\n",
    "                          options = {'maxiter':100}, method = 'Bounded')\n",
    "\n",
    "    # assuming this doens't fail\n",
    "    hod_params['logMmin'] = res.x\n",
    "    #print res.x,\n",
    "    #print calc_analytic_nd(cat, hod_params, min_ptcl=100)\n"
   ]
  },
  {
   "cell_type": "code",
   "execution_count": 19,
   "metadata": {
    "collapsed": true
   },
   "outputs": [],
   "source": [
    "def calc_hod(cat, params, bin_centers):\n",
    "    cat.model.param_dict.update(params)\n",
    "    cens_occ, sats_occ = cat.model.model_dictionary['centrals_occupation'], cat.model.model_dictionary[\n",
    "        'satellites_occupation']\n",
    "    for key, val in params.iteritems():\n",
    "        if key in cens_occ.param_dict:\n",
    "            cens_occ.param_dict[key] = val\n",
    "        if key in sats_occ.param_dict:\n",
    "            sats_occ.param_dict[key] = val\n",
    "\n",
    "    cen_hod = getattr(cens_occ, \"baseline_mean_occupation\", cens_occ.mean_occupation)(prim_haloprop=bin_centers)\n",
    "\n",
    "    sat_hod = getattr(sats_occ, \"baseline_mean_occupation\", sats_occ.mean_occupation)(prim_haloprop=bin_centers)\n",
    "\n",
    "    return cen_hod, sat_hod"
   ]
  },
  {
   "cell_type": "code",
   "execution_count": 20,
   "metadata": {
    "collapsed": true
   },
   "outputs": [],
   "source": [
    "cen_mask = sham_catalog['halo_upid'] == -1\n",
    "sham_cen_hod, _ = hod_from_mock( sham_catalog['halo_mvir_host_halo'][cen_mask],halo_catalog['halo_mvir'], haloprop_bins)\n",
    "sham_sat_hod, _  = hod_from_mock( sham_catalog['halo_mvir_host_halo'][~cen_mask],halo_catalog['halo_mvir'], haloprop_bins)"
   ]
  },
  {
   "cell_type": "code",
   "execution_count": 21,
   "metadata": {
    "collapsed": true
   },
   "outputs": [],
   "source": [
    "def cen_hod(hbc, sigma_logM, logMmin, full_range = False, log =False):\n",
    "    params = {'sigma_logM': sigma_logM, 'logMmin': logMmin}\n",
    "    cat.model.param_dict.update(params)\n",
    "    \n",
    "    cens_occ = cat.model.model_dictionary['centrals_occupation']\n",
    "    \n",
    "    for key, val in params.iteritems():\n",
    "        if key in cens_occ.param_dict:\n",
    "            cens_occ.param_dict[key] = val\n",
    "            \n",
    "    cen_hod = getattr(cens_occ, \"baseline_mean_occupation\", cens_occ.mean_occupation)(prim_haloprop=hbc)\n",
    "    #sat_hod = getattr(sats_occ, \"baseline_mean_occupation\", sats_occ.mean_occupation)(prim_haloprop=bin_centers)\n",
    "\n",
    "    if full_range:\n",
    "        return cen_hod\n",
    "    \n",
    "    if log:\n",
    "        return np.log10(cen_hod[16:-4])\n",
    "    return cen_hod[16:-4]"
   ]
  },
  {
   "cell_type": "code",
   "execution_count": 22,
   "metadata": {
    "collapsed": true
   },
   "outputs": [],
   "source": [
    "def sat_hod(hbc, alpha, logM0, logM1, full_range = False):\n",
    "    params = {'alpha': alpha, 'logM0': logM0, 'logM1': logM1}\n",
    "    params.update( {'sigma_logM': t[0], 'logMmin': t[1]})\n",
    "    cat.model.param_dict.update(params)\n",
    "    sats_occ = cat.model.model_dictionary['satellites_occupation']\n",
    "    cens_occ, sats_occ = cat.model.model_dictionary['centrals_occupation'], cat.model.model_dictionary[\n",
    "        'satellites_occupation']\n",
    "    for key, val in params.iteritems():\n",
    "        if key in cens_occ.param_dict:\n",
    "            cens_occ.param_dict[key] = val\n",
    "        if key in sats_occ.param_dict:\n",
    "            sats_occ.param_dict[key] = val\n",
    "                \n",
    "    sat_hod = getattr(sats_occ, \"baseline_mean_occupation\", sats_occ.mean_occupation)(prim_haloprop=hbc)\n",
    "\n",
    "    if full_range:\n",
    "        return sat_hod\n",
    "    return sat_hod[:-4]"
   ]
  },
  {
   "cell_type": "code",
   "execution_count": 23,
   "metadata": {},
   "outputs": [
    {
     "name": "stdout",
     "output_type": "stream",
     "text": [
      "[ 0.62319355 13.24021593] [ 0.39785687 13.06481615]\n"
     ]
    }
   ],
   "source": [
    "t = curve_fit(cen_hod, hbc, sham_cen_hod[16:-4], p0 = [0.5, 13.5])[0]\n",
    "_t= curve_fit(lambda a,b,c: cen_hod(a,b,c, log=True), hbc, np.log10(sham_cen_hod[16:-4]), p0 = [0.5, 13.5])[0]\n",
    "print t, _t\n"
   ]
  },
  {
   "cell_type": "code",
   "execution_count": 24,
   "metadata": {
    "collapsed": true
   },
   "outputs": [],
   "source": [
    "min_ptcl = 20"
   ]
  },
  {
   "cell_type": "code",
   "execution_count": 25,
   "metadata": {
    "collapsed": true
   },
   "outputs": [],
   "source": [
    "min_halo_mass = cat.pmass*min_ptcl"
   ]
  },
  {
   "cell_type": "code",
   "execution_count": 26,
   "metadata": {},
   "outputs": [
    {
     "data": {
      "text/plain": [
       "<matplotlib.text.Text at 0x7efd489c8590>"
      ]
     },
     "execution_count": 26,
     "metadata": {},
     "output_type": "execute_result"
    },
    {
     "data": {
      "image/png": "[encoded data removed]",
      "text/plain": [
       "<matplotlib.figure.Figure at 0x7efd489fe550>"
      ]
     },
     "metadata": {},
     "output_type": "display_data"
    }
   ],
   "source": [
    "plt.plot(hbc, cen_hod(hbc, *t, full_range=True), label = r'HOD Fit 1 $\\sigma_{logM} = %0.2f$'%t[0])\n",
    "plt.vlines(min_halo_mass, 1e-4, 3, linestyles='dashed', alpha = 0.5, label = 'Min Aemulus Halo Mass')\n",
    "plt.plot(hbc, cen_hod(hbc, *_t, full_range=True), label = r'HOD Fit 2 $\\sigma_{logM} = %0.2f$'%_t[0])\n",
    "\n",
    "#plt.plot(hbc, cen_hod(hbc, *[0.5, 13.421], full_range=True))\n",
    "plt.plot(hbc, sham_cen_hod, label = 'SHAM')\n",
    "plt.legend(loc='best')\n",
    "plt.ylim([1e-4, 2])\n",
    "plt.loglog();\n",
    "plt.xlabel('Halo Mass')\n",
    "plt.ylabel('Mean N_cen')\n",
    "plt.title('Fits to HOD in Vpeak SHAM')"
   ]
  },
  {
   "cell_type": "code",
   "execution_count": 27,
   "metadata": {},
   "outputs": [
    {
     "name": "stdout",
     "output_type": "stream",
     "text": [
      "[ 1.13139434  4.68060334 14.57472062]\n"
     ]
    }
   ],
   "source": [
    "t2 = curve_fit(sat_hod, hbc,sham_sat_hod[:-4], p0 = [0.9, 13.3, 14.5])[0]\n",
    "print t2"
   ]
  },
  {
   "cell_type": "code",
   "execution_count": 28,
   "metadata": {},
   "outputs": [
    {
     "data": {
      "image/png": "[encoded data removed]",
      "text/plain": [
       "<matplotlib.figure.Figure at 0x7efd48a34990>"
      ]
     },
     "metadata": {},
     "output_type": "display_data"
    }
   ],
   "source": [
    "plt.plot(hbc, cen_hod(hbc, *t, full_range=True)*sat_hod(hbc, *t2, full_range=True))\n",
    "plt.plot(hbc, sham_sat_hod)\n",
    "plt.ylim([1e-6, 50])\n",
    "plt.loglog();"
   ]
  },
  {
   "cell_type": "code",
   "execution_count": 29,
   "metadata": {},
   "outputs": [
    {
     "data": {
      "image/png": "[encoded data removed]",
      "text/plain": [
       "<matplotlib.figure.Figure at 0x7efd4a5e63d0>"
      ]
     },
     "metadata": {},
     "output_type": "display_data"
    }
   ],
   "source": [
    "plt.plot(hbc, cen_hod(hbc, *t, full_range=True)*(1+sat_hod(hbc, *t2, full_range=True)), label = 'HOD 1')\n",
    "\n",
    "plt.plot(hbc, sham_cen_hod+sham_sat_hod, label = 'SHAM', lw = 4)\n",
    "plt.plot(hbc, cen_hod(hbc, *_t, full_range=True)*(1+sat_hod(hbc, *t2, full_range=True)), label = 'HOD 2')\n",
    "plt.vlines(min_halo_mass, 1e-4, 3, linestyles='dashed', alpha = 0.5, label = 'Min Aemulus Halo Mass')\n",
    "\n",
    "plt.ylim([1e-2, 50])\n",
    "plt.legend(loc='best')\n",
    "plt.title('Vpeak SHAM')\n",
    "plt.loglog();"
   ]
  },
  {
   "cell_type": "code",
   "execution_count": 30,
   "metadata": {
    "collapsed": true
   },
   "outputs": [],
   "source": [
    "tf =['/home/users/swmclau2/scratch/Aemulators/wp_zheng07/PearceWpCosmo.hdf5',\n",
    "    '/home/users/swmclau2/scratch/Aemulators/ds_zheng07/PearceDsCosmo.hdf5']"
   ]
  },
  {
   "cell_type": "code",
   "execution_count": 31,
   "metadata": {},
   "outputs": [
    {
     "name": "stdout",
     "output_type": "stream",
     "text": [
      "/home/users/swmclau2/scratch/Aemulators/wp_zheng07/PearceWpCosmo.hdf5\n",
      "/home/users/swmclau2/scratch/Aemulators/ds_zheng07/PearceDsCosmo.hdf5\n"
     ]
    }
   ],
   "source": [
    "from pearce.emulator import LemonPepperWet\n",
    "emus = []\n",
    "for tmp in tf:\n",
    "    print tmp\n",
    "    emus.append(LemonPepperWet(tmp, fixed_params = {'z':0.0}, hyperparams = {}) )"
   ]
  },
  {
   "cell_type": "code",
   "execution_count": 32,
   "metadata": {
    "collapsed": true
   },
   "outputs": [],
   "source": [
    "h = 0.6777\n",
    "cosmo_pnames = ['ombh2', 'omch2', 'w0', 'ns', 'H0', 'Neff', 'sigma8']\n",
    "cosmo_true_vals = np.array([0.048206*h**2, 0.307115*h**2-0.048206*h**2,\\\n",
    "                            -1, 0.9667, \\\n",
    "                                h*100, 3.046, 0.8228]) #mdpl2\n",
    "\n",
    "cat_val_dict = dict(zip(cosmo_pnames, cosmo_true_vals))"
   ]
  },
  {
   "cell_type": "code",
   "execution_count": 33,
   "metadata": {
    "collapsed": true
   },
   "outputs": [],
   "source": [
    "hod_pnames = ['sigma_logM', 'logM0', 'logM1', 'alpha', 'conc_gal_bias']#,\\\n",
    "              #'mean_occupation_centrals_assembias_param1',\\\n",
    "              #'mean_occupation_satellites_assembias_param1',\n",
    "             #'mean_occupation_centrals_assembias_slope1',\\\n",
    "              #'mean_occupation_satellites_assembias_slope1']\n",
    "hod_true_vals = [t[0], 12.5, t2[2], t2[0], 1.0]#, 0.0, 0.0, 1.0, 1.0]\n",
    "#hod_true_vals = [0.2, 13.2, 14.5, 0.95, 1.0, 0.0, 0.0, 1.0, 1.0]"
   ]
  },
  {
   "cell_type": "code",
   "execution_count": 34,
   "metadata": {
    "collapsed": true
   },
   "outputs": [],
   "source": [
    "hod_dict = dict(zip(hod_pnames, hod_true_vals))"
   ]
  },
  {
   "cell_type": "raw",
   "metadata": {},
   "source": [
    "chain.mean(axis = 0)"
   ]
  },
  {
   "cell_type": "raw",
   "metadata": {},
   "source": [
    "hod_true_vals"
   ]
  },
  {
   "cell_type": "code",
   "execution_count": 35,
   "metadata": {
    "collapsed": true
   },
   "outputs": [],
   "source": [
    "true_param_dict = cat_val_dict\n",
    "true_param_dict.update(dict(zip(hod_pnames, hod_true_vals)))\n",
    "#true_param_dict.update(zip(chain_pnames, chain.mean(axis=0)))"
   ]
  },
  {
   "cell_type": "code",
   "execution_count": 36,
   "metadata": {
    "collapsed": true
   },
   "outputs": [],
   "source": [
    "from pearce.mocks.kittens import TrainingBox # load a smaller sim I cna handle in this notebook\n",
    "# this may not have the same behavior at smaller masses though"
   ]
  },
  {
   "cell_type": "code",
   "execution_count": 37,
   "metadata": {
    "collapsed": true
   },
   "outputs": [],
   "source": [
    "cat = TrainingBox(0, system='sherlock')"
   ]
  },
  {
   "cell_type": "code",
   "execution_count": 38,
   "metadata": {},
   "outputs": [],
   "source": [
    "cat.load(1.0, HOD='reddick14', system='sherlock')"
   ]
  },
  {
   "cell_type": "code",
   "execution_count": 39,
   "metadata": {
    "collapsed": true
   },
   "outputs": [],
   "source": [
    "hod_dict['logMmin'] = t[1]\n",
    "cat.populate(hod_dict, min_ptcl=min_ptcl)"
   ]
  },
  {
   "cell_type": "code",
   "execution_count": 40,
   "metadata": {
    "collapsed": true
   },
   "outputs": [],
   "source": [
    "wp_hod= cat.calc_wp(r_bins)"
   ]
  },
  {
   "cell_type": "code",
   "execution_count": 41,
   "metadata": {},
   "outputs": [
    {
     "data": {
      "text/plain": [
       "0.000347795846802467"
      ]
     },
     "execution_count": 41,
     "metadata": {},
     "output_type": "execute_result"
    }
   ],
   "source": [
    "cat.calc_analytic_nd()"
   ]
  },
  {
   "cell_type": "code",
   "execution_count": 42,
   "metadata": {
    "collapsed": true
   },
   "outputs": [],
   "source": [
    "#hod_host_masses = cat.model.mock.halo_table['halo_mvir']\n",
    "hod_host_masses = cat.model.mock.galaxy_table['halo_mvir']"
   ]
  },
  {
   "cell_type": "code",
   "execution_count": 43,
   "metadata": {
    "collapsed": true
   },
   "outputs": [],
   "source": [
    "cat.load_model(1.0, HOD='tabulated', hod_kwargs = {'prim_haloprop_vals': hbc,\n",
    "                                              'cen_hod_vals': sham_cen_hod,\n",
    "                                              'sat_hod_vals': sham_sat_hod} )"
   ]
  },
  {
   "cell_type": "code",
   "execution_count": 44,
   "metadata": {
    "collapsed": true
   },
   "outputs": [],
   "source": [
    "cat.populate(min_ptcl=min_ptcl)"
   ]
  },
  {
   "cell_type": "code",
   "execution_count": 45,
   "metadata": {
    "collapsed": true
   },
   "outputs": [],
   "source": [
    "wp_tab= cat.calc_wp(r_bins)"
   ]
  },
  {
   "cell_type": "code",
   "execution_count": 46,
   "metadata": {},
   "outputs": [
    {
     "data": {
      "text/plain": [
       "0.00040396388596018973"
      ]
     },
     "execution_count": 46,
     "metadata": {},
     "output_type": "execute_result"
    }
   ],
   "source": [
    "cat.calc_analytic_nd()"
   ]
  },
  {
   "cell_type": "code",
   "execution_count": 47,
   "metadata": {
    "collapsed": true
   },
   "outputs": [],
   "source": [
    "#tab_host_masses = cat.model.mock.halo_table['halo_mvir']\n",
    "tab_host_masses = cat.model.mock.galaxy_table['halo_mvir']"
   ]
  },
  {
   "cell_type": "code",
   "execution_count": 48,
   "metadata": {},
   "outputs": [
    {
     "data": {
      "image/png": "[encoded data removed]",
      "text/plain": [
       "<matplotlib.figure.Figure at 0x7efbcaffd810>"
      ]
     },
     "metadata": {},
     "output_type": "display_data"
    }
   ],
   "source": [
    "#plt.hist(hod_host_masses, bins = haloprop_bins);\n",
    "plt.hist(tab_host_masses, bins = haloprop_bins, alpha = 0.5);\n",
    "plt.hist(sham_catalog['halo_mvir_host_halo'], bins = haloprop_bins, alpha = 0.5)\n",
    "#plt.xlim(3e12,3e15)\n",
    "#plt.loglog();\n",
    "plt.xscale('log')\n",
    "plt.yscale('log')"
   ]
  },
  {
   "cell_type": "code",
   "execution_count": 58,
   "metadata": {},
   "outputs": [
    {
     "data": {
      "text/plain": [
       "11.901751384891783"
      ]
     },
     "execution_count": 58,
     "metadata": {},
     "output_type": "execute_result"
    }
   ],
   "source": [
    "np.log10(cat.pmass*min_ptcl)"
   ]
  },
  {
   "cell_type": "code",
   "execution_count": 50,
   "metadata": {},
   "outputs": [
    {
     "data": {
      "text/plain": [
       "2.8e-05"
      ]
     },
     "execution_count": 50,
     "metadata": {},
     "output_type": "execute_result"
    }
   ],
   "source": [
    "np.sum(sham_catalog['halo_mvir_host_halo'] < min_halo_mass)*1.0/len(sham_catalog['halo_mvir_host_halo'])"
   ]
  },
  {
   "cell_type": "code",
   "execution_count": 51,
   "metadata": {},
   "outputs": [
    {
     "data": {
      "text/plain": [
       "588491"
      ]
     },
     "execution_count": 51,
     "metadata": {},
     "output_type": "execute_result"
    }
   ],
   "source": [
    "len(cat.model.mock.galaxy_table)"
   ]
  },
  {
   "cell_type": "code",
   "execution_count": 52,
   "metadata": {},
   "outputs": [
    {
     "data": {
      "text/plain": [
       "('halo_upid',\n",
       " 'halo_vacc',\n",
       " 'halo_vmax',\n",
       " 'halo_rs_klypin',\n",
       " 'halo_snapnum',\n",
       " 'halo_macc',\n",
       " 'halo_halfmass_scale',\n",
       " 'halo_y',\n",
       " 'halo_id',\n",
       " 'halo_x',\n",
       " 'halo_vx',\n",
       " 'halo_vy',\n",
       " 'halo_vz',\n",
       " 'halo_rs',\n",
       " 'halo_vpeak',\n",
       " 'halo_z',\n",
       " 'halo_mvir',\n",
       " 'halo_hostid',\n",
       " 'halo_rvir',\n",
       " 'halo_mvir_host_halo',\n",
       " 'gal_smass')"
      ]
     },
     "execution_count": 52,
     "metadata": {},
     "output_type": "execute_result"
    }
   ],
   "source": [
    "sham_catalog.dtype.names"
   ]
  },
  {
   "cell_type": "code",
   "execution_count": 53,
   "metadata": {},
   "outputs": [
    {
     "data": {
      "text/plain": [
       "11.19885"
      ]
     },
     "execution_count": 53,
     "metadata": {},
     "output_type": "execute_result"
    }
   ],
   "source": [
    "np.log10(np.min(sham_catalog['halo_mvir_host_halo']))"
   ]
  },
  {
   "cell_type": "code",
   "execution_count": 54,
   "metadata": {},
   "outputs": [
    {
     "data": {
      "text/plain": [
       "11.901752"
      ]
     },
     "execution_count": 54,
     "metadata": {},
     "output_type": "execute_result"
    }
   ],
   "source": [
    "np.log10(np.min(cat.model.mock.galaxy_table['halo_mvir']))"
   ]
  },
  {
   "cell_type": "code",
   "execution_count": 55,
   "metadata": {
    "collapsed": true
   },
   "outputs": [],
   "source": [
    "cat_val_dict = dict(zip(*cat._get_cosmo_param_names_vals()))\n",
    "true_param_dict = cat_val_dict\n",
    "del hod_dict['logMmin']\n",
    "true_param_dict.update(hod_dict)"
   ]
  },
  {
   "cell_type": "code",
   "execution_count": 56,
   "metadata": {},
   "outputs": [
    {
     "name": "stderr",
     "output_type": "stream",
     "text": [
      " /home/users/swmclau2/.local/lib/python2.7/site-packages/pearce/emulator/emu.py:506: UserWarning:Emulator value for logM0 12.500 is outside the bounds (12.600, 13.600) of the emulator.\n",
      " /home/users/swmclau2/.local/lib/python2.7/site-packages/pearce/emulator/emu.py:509: UserWarning:One value for sigma_logM is outside the bounds (0.050, 0.500) of the emulator.\n"
     ]
    }
   ],
   "source": [
    "emu_wp = emus[0].emulate_wrt_r(true_param_dict).squeeze()"
   ]
  },
  {
   "cell_type": "code",
   "execution_count": 57,
   "metadata": {},
   "outputs": [
    {
     "ename": "NameError",
     "evalue": "name 'sham_wp' is not defined",
     "output_type": "error",
     "traceback": [
      "\u001b[0;31m\u001b[0m",
      "\u001b[0;31mNameError\u001b[0mTraceback (most recent call last)",
      "\u001b[0;32m<ipython-input-57-49ce8716e496>\u001b[0m in \u001b[0;36m<module>\u001b[0;34m()\u001b[0m\n\u001b[0;32m----> 1\u001b[0;31m \u001b[0mplt\u001b[0m\u001b[0;34m.\u001b[0m\u001b[0mplot\u001b[0m\u001b[0;34m(\u001b[0m\u001b[0mrbc\u001b[0m\u001b[0;34m,\u001b[0m \u001b[0mwp_hod\u001b[0m\u001b[0;34m/\u001b[0m\u001b[0msham_wp\u001b[0m\u001b[0;34m,\u001b[0m \u001b[0mlabel\u001b[0m \u001b[0;34m=\u001b[0m \u001b[0;34m'HOD'\u001b[0m\u001b[0;34m)\u001b[0m\u001b[0;34m\u001b[0m\u001b[0m\n\u001b[0m\u001b[1;32m      2\u001b[0m \u001b[0mplt\u001b[0m\u001b[0;34m.\u001b[0m\u001b[0mplot\u001b[0m\u001b[0;34m(\u001b[0m\u001b[0mrbc\u001b[0m\u001b[0;34m,\u001b[0m \u001b[0mwp_tab\u001b[0m\u001b[0;34m/\u001b[0m\u001b[0msham_wp\u001b[0m\u001b[0;34m,\u001b[0m \u001b[0mlabel\u001b[0m \u001b[0;34m=\u001b[0m \u001b[0;34m'Tab'\u001b[0m\u001b[0;34m)\u001b[0m\u001b[0;34m\u001b[0m\u001b[0m\n\u001b[1;32m      3\u001b[0m \u001b[0mplt\u001b[0m\u001b[0;34m.\u001b[0m\u001b[0mplot\u001b[0m\u001b[0;34m(\u001b[0m\u001b[0mrbc\u001b[0m\u001b[0;34m,\u001b[0m \u001b[0;34m(\u001b[0m\u001b[0;36m10\u001b[0m\u001b[0;34m**\u001b[0m\u001b[0memu_wp\u001b[0m\u001b[0;34m)\u001b[0m\u001b[0;34m/\u001b[0m\u001b[0msham_wp\u001b[0m\u001b[0;34m,\u001b[0m \u001b[0mlabel\u001b[0m \u001b[0;34m=\u001b[0m \u001b[0;34m'Emu'\u001b[0m\u001b[0;34m)\u001b[0m\u001b[0;34m\u001b[0m\u001b[0m\n\u001b[1;32m      4\u001b[0m \u001b[0;34m\u001b[0m\u001b[0m\n\u001b[1;32m      5\u001b[0m \u001b[0mplt\u001b[0m\u001b[0;34m.\u001b[0m\u001b[0mxscale\u001b[0m\u001b[0;34m(\u001b[0m\u001b[0;34m'log'\u001b[0m\u001b[0;34m)\u001b[0m\u001b[0;34m;\u001b[0m\u001b[0;34m\u001b[0m\u001b[0m\n",
      "\u001b[0;31mNameError\u001b[0m: name 'sham_wp' is not defined"
     ]
    }
   ],
   "source": [
    "plt.plot(rbc, wp_hod/sham_wp, label = 'HOD')\n",
    "plt.plot(rbc, wp_tab/sham_wp, label = 'Tab')\n",
    "plt.plot(rbc, (10**emu_wp)/sham_wp, label = 'Emu')\n",
    "\n",
    "plt.xscale('log');\n",
    "plt.legend(loc='best')"
   ]
  },
  {
   "cell_type": "raw",
   "metadata": {
    "collapsed": true
   },
   "source": [
    "def split_hod_plot(HOD, ab_params, sec_haloprop_key='halo_local_density_10', n_splits = 4, cmap_name = 'blue'):\n",
    "    cat.load_model(1.0, HOD=HOD, hod_kwargs= {'sec_haloprop_key': sec_haloprop_key})\n",
    "    cat.model.param_dict['logMmin'] = 13.0\n",
    "    cat.model.param_dict['logM0'] = 12.5\n",
    "    \n",
    "    cat.populate(ab_params, min_ptcl = 100)\n",
    "    print cat.model.param_dict\n",
    "    catalog = cat.model.mock.galaxy_table\n",
    "    sec_percentiles = compute_conditional_percentiles(prim_haloprop = cat.model.mock.halo_table['halo_mvir'],\\\n",
    "                                                  sec_haloprop = cat.model.mock.halo_table[sec_haloprop_key],\n",
    "                                              prim_haloprop_bin_boundaries= mass_bins)\n",
    "    \n",
    "    sec_gal_percentiles = get_haloprop_of_galaxies(catalog['halo_id'], cat.model.mock.halo_table['halo_id'],\n",
    "                                               sec_percentiles)\n",
    "    \n",
    "    # TODO bins here\n",
    "    hods = np.zeros((n_splits, len(mass_bin_centers)))\n",
    "    perc_ranges = np.linspace(0,1, n_splits+1)\n",
    "    \n",
    "    cmap = sns.color_palette(cmap_name, n_splits)\n",
    "    #cmap = sns.dark_palette(cmap_name, n_splits)\n",
    "\n",
    "    for i,c in enumerate(cmap):\n",
    "        sec_bin_gals = np.logical_and(perc_ranges[i] < sec_gal_percentiles, sec_gal_percentiles<perc_ranges[i+1])\n",
    "        sec_bin_halos = np.logical_and(perc_ranges[i] < sec_percentiles, sec_percentiles<perc_ranges[i+1])\n",
    "\n",
    "        sec_gal_hist, _ = np.histogram(catalog[sec_bin_gals]['halo_mvir'], bins = mass_bins)\n",
    "        sec_halo_hist, _= np.histogram(cat.model.mock.halo_table[sec_bin_halos]['halo_mvir'], bins = mass_bins)\n",
    "        \n",
    "        hods[i, :] = sec_gal_hist*1.0/sec_halo_hist\n",
    "        plt.plot(mass_bin_centers, hods[i], c = c, label = 'p < %0.2f'%perc_ranges[i+1])\n",
    "\n",
    "    \n",
    "    gal_hist, _ = np.histogram(catalog['halo_mvir'], bins = mass_bins)\n",
    "    halo_hist, _= np.histogram(cat.model.mock.halo_table['halo_mvir'], bins = mass_bins)\n",
    "    full_hod = gal_hist*1.0/halo_hist\n",
    "    \n",
    "    \n",
    "    plt.plot(mass_bin_centers, full_hod, label = 'Full HOD', color = 'k')\n",
    "    plt.legend(loc='best')\n",
    "    plt.loglog()\n",
    "    plt.xlim(1e12,5e14)\n",
    "    plt.ylim([0, 40])\n",
    "    plt.xlabel(r\"Host Halo Mass [$M_{\\odot}$]\")\n",
    "    plt.ylabel(r\"$\\langle N_t | M \\rangle$\")\n",
    "    plt.show()"
   ]
  },
  {
   "cell_type": "code",
   "execution_count": null,
   "metadata": {
    "collapsed": true
   },
   "outputs": [],
   "source": []
  }
 ],
 "metadata": {
  "kernelspec": {
   "display_name": "Python 2",
   "language": "python",
   "name": "python2"
  }
 },
 "nbformat": 4,
 "nbformat_minor": 1
}

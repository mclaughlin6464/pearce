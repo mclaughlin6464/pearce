{
 "cells": [
  {
   "cell_type": "code",
   "execution_count": 45,
   "metadata": {
    "collapsed": true
   },
   "outputs": [],
   "source": [
    "import matplotlib\n",
    "#matplotlib.use('Agg')\n",
    "from matplotlib import pyplot as plt\n",
    "%matplotlib inline\n",
    "import seaborn as sns\n",
    "sns.set()"
   ]
  },
  {
   "cell_type": "code",
   "execution_count": 46,
   "metadata": {
    "collapsed": true
   },
   "outputs": [],
   "source": [
    "import numpy as np\n",
    "import h5py\n",
    "#from chainconsumer import ChainConsumer\n",
    "from corner import corner"
   ]
  },
  {
   "cell_type": "raw",
   "metadata": {
    "scrolled": true
   },
   "source": [
    "! ls -lt /scratch/users/swmclau2/PearceMCMC/*.hdf5"
   ]
  },
  {
   "cell_type": "code",
   "execution_count": 47,
   "metadata": {
    "collapsed": true
   },
   "outputs": [],
   "source": [
    "fname = '/scratch/users/swmclau2/PearceMCMC/HOD_xi_gg_rmin_None_CorrAB_v2.hdf5'"
   ]
  },
  {
   "cell_type": "code",
   "execution_count": 48,
   "metadata": {
    "collapsed": true
   },
   "outputs": [],
   "source": [
    "f = h5py.File(fname, 'r')"
   ]
  },
  {
   "cell_type": "code",
   "execution_count": 49,
   "metadata": {},
   "outputs": [
    {
     "data": {
      "text/plain": [
       "[u'emu_type',\n",
       " u'training_file',\n",
       " u'fixed_params',\n",
       " u'emu_hps',\n",
       " u'sim',\n",
       " u'obs',\n",
       " u'cov',\n",
       " u'nwalkers',\n",
       " u'nsteps',\n",
       " u'nburn',\n",
       " u'seed',\n",
       " u'chain_fixed_params',\n",
       " u'param_names']"
      ]
     },
     "execution_count": 49,
     "metadata": {},
     "output_type": "execute_result"
    }
   ],
   "source": [
    "f.attrs.keys()"
   ]
  },
  {
   "cell_type": "code",
   "execution_count": 50,
   "metadata": {
    "collapsed": true
   },
   "outputs": [],
   "source": [
    "from ast import literal_eval"
   ]
  },
  {
   "cell_type": "raw",
   "metadata": {},
   "source": [
    "f['cov'].value"
   ]
  },
  {
   "cell_type": "code",
   "execution_count": 51,
   "metadata": {
    "collapsed": true
   },
   "outputs": [],
   "source": [
    "from pearce.emulator import NashvilleHot\n",
    "tf = f.attrs['training_file']\n",
    "fixed_params = literal_eval(f.attrs['fixed_params'])\n",
    "emu_hps = literal_eval(f.attrs['emu_hps'])"
   ]
  },
  {
   "cell_type": "code",
   "execution_count": 52,
   "metadata": {},
   "outputs": [
    {
     "name": "stderr",
     "output_type": "stream",
     "text": [
      " /home/users/swmclau2/.local/lib/python2.7/site-packages/pearce/emulator/emu.py:2100: UserWarning:WARNING: NaN detected. Skipped 76 points in training data.\n"
     ]
    }
   ],
   "source": [
    "emu = NashvilleHot(tf, fixed_params = fixed_params, hyperparams = emu_hps)"
   ]
  },
  {
   "cell_type": "code",
   "execution_count": 53,
   "metadata": {
    "collapsed": true
   },
   "outputs": [],
   "source": [
    "chain_pnames = f.attrs['param_names']"
   ]
  },
  {
   "cell_type": "code",
   "execution_count": 54,
   "metadata": {
    "collapsed": true
   },
   "outputs": [],
   "source": [
    "n_walkers = f.attrs['nwalkers']"
   ]
  },
  {
   "cell_type": "code",
   "execution_count": 55,
   "metadata": {
    "collapsed": true
   },
   "outputs": [],
   "source": [
    "sim_info = literal_eval(f.attrs['sim'])"
   ]
  },
  {
   "cell_type": "code",
   "execution_count": 56,
   "metadata": {
    "collapsed": true
   },
   "outputs": [],
   "source": [
    "chain = f['chain'][n_walkers*1000:n_walkers*6000]"
   ]
  },
  {
   "cell_type": "raw",
   "metadata": {},
   "source": [
    "chain_pnames = f.attrs['param_names']"
   ]
  },
  {
   "cell_type": "code",
   "execution_count": 57,
   "metadata": {
    "collapsed": true
   },
   "outputs": [],
   "source": [
    "n_params = chain.shape[1] if len(chain.shape) > 1 else 1"
   ]
  },
  {
   "cell_type": "code",
   "execution_count": 58,
   "metadata": {
    "collapsed": true
   },
   "outputs": [],
   "source": [
    "n_burn = 0\n",
    "chain = chain[n_walkers*n_burn:]#, :]"
   ]
  },
  {
   "cell_type": "code",
   "execution_count": 59,
   "metadata": {
    "collapsed": true
   },
   "outputs": [],
   "source": [
    "chain = chain[np.all(chain!=0.0, axis = 1), :]"
   ]
  },
  {
   "cell_type": "code",
   "execution_count": 60,
   "metadata": {},
   "outputs": [
    {
     "name": "stdout",
     "output_type": "stream",
     "text": [
      "(2500000, 13) 5000\n"
     ]
    }
   ],
   "source": [
    "print chain.shape, chain.shape[0]/n_walkers"
   ]
  },
  {
   "cell_type": "code",
   "execution_count": 61,
   "metadata": {},
   "outputs": [
    {
     "name": "stdout",
     "output_type": "stream",
     "text": [
      "[  2.21772362e-02   1.16819099e-01  -9.70233023e-01   9.75973487e-01\n",
      "   3.04383492e+00   6.86265182e+01   3.44290972e+00   7.16387015e-03\n",
      "   1.52386893e-02   1.41952610e+01   1.31586695e+01   2.82392353e-01\n",
      "   1.00876451e+00]\n"
     ]
    }
   ],
   "source": [
    "MAP = chain.mean(axis = 0)\n",
    "print MAP"
   ]
  },
  {
   "cell_type": "code",
   "execution_count": 62,
   "metadata": {
    "collapsed": true
   },
   "outputs": [],
   "source": [
    "MAP_dict = dict(zip(emu.get_param_names(), MAP))"
   ]
  },
  {
   "cell_type": "code",
   "execution_count": 63,
   "metadata": {},
   "outputs": [
    {
     "data": {
      "text/plain": [
       "{'H0': 68.626518,\n",
       " 'Neff': 3.4429097,\n",
       " 'alpha': 1.0087645,\n",
       " 'ln10As': 3.0438349,\n",
       " 'logM0': 13.158669,\n",
       " 'logM1': 14.195261,\n",
       " 'mean_occupation_centrals_assembias_corr1': 0.0071638701,\n",
       " 'mean_occupation_satellites_assembias_corr1': 0.015238689,\n",
       " 'ns': 0.97597349,\n",
       " 'ombh2': 0.022177236,\n",
       " 'omch2': 0.1168191,\n",
       " 'sigma_logM': 0.28239235,\n",
       " 'w0': -0.97023302}"
      ]
     },
     "execution_count": 63,
     "metadata": {},
     "output_type": "execute_result"
    }
   ],
   "source": [
    "MAP_dict"
   ]
  },
  {
   "cell_type": "code",
   "execution_count": 64,
   "metadata": {
    "collapsed": true
   },
   "outputs": [],
   "source": [
    "MAP_pred = emu.emulate_wrt_r(MAP_dict)[0]"
   ]
  },
  {
   "cell_type": "code",
   "execution_count": 65,
   "metadata": {
    "collapsed": true
   },
   "outputs": [],
   "source": [
    "param_names = [r'$\\Omega_b h^2$', r'$\\Omega_c h^2$', r'$w_0$', r'$n_s$', r'$\\ln(10A_s)$', r'$H_0$', r'$N_{eff}$',\\\n",
    "               r'$\\log(M_0)$', r'$\\sigma_{\\log M }$',r'$\\log(M_1)$',r'$\\alpha$']\n",
    "               # r'$\\rho_{sat}$',r'$\\rho_{cen}$', r'$\\log(M_1)$',r'$\\log(M_0)$', r'$\\sigma_{\\log M }$',r'$\\alpha$' ]"
   ]
  },
  {
   "cell_type": "code",
   "execution_count": 66,
   "metadata": {
    "collapsed": true
   },
   "outputs": [],
   "source": [
    "hod_param_names = [r'$\\log(M_0)$',r'$\\sigma_{\\log M }$',r'$\\log(M_1)$' ,r'$\\alpha$' ]\n",
    "cosmo_param_names = [r'$\\Omega_b h^2$', r'$\\Omega_c h^2$', r'$w_0$', r'$n_s$', r'$\\ln(10A_s)$', r'$H_0$', r'$N_{eff}$' ]"
   ]
  },
  {
   "cell_type": "raw",
   "metadata": {
    "collapsed": true
   },
   "source": [
    "hod_param_names = [r'$\\rho_{sat}$',r'$\\rho_{cen}$', r'$\\log(M_1)$',r'$\\log(M_0)$', r'$\\sigma_{\\log M }$',r'$\\alpha$' ]\n",
    "cosmo_param_names = [r'$\\Omega_b h^2$', r'$\\Omega_c h^2$', r'$w_0$', r'$n_s$', r'$\\ln(10A_s)$', r'$H_0$', r'$N_{eff}$' ]"
   ]
  },
  {
   "cell_type": "code",
   "execution_count": 67,
   "metadata": {
    "collapsed": true
   },
   "outputs": [],
   "source": [
    "hod_idxs = np.array(range(len(cosmo_param_names), len(cosmo_param_names)+len(hod_param_names)))\n",
    "cosmo_idxs = np.array(range(len(cosmo_param_names)))"
   ]
  },
  {
   "cell_type": "code",
   "execution_count": 68,
   "metadata": {
    "collapsed": true
   },
   "outputs": [],
   "source": [
    "if chain.shape[1] == 7:\n",
    "    cosmo_chain = chain\n",
    "else:\n",
    "    hod_chain = chain[:,-4:]#[:, hod_idxs]\n",
    "    cosmo_chain = chain[:,:-4]#[:, cosmo_idxs]"
   ]
  },
  {
   "cell_type": "code",
   "execution_count": 69,
   "metadata": {
    "collapsed": true
   },
   "outputs": [],
   "source": [
    "from pearce.mocks import cat_dict\n",
    "cosmo_params = {'simname': sim_info['simname'], \n",
    "                #'boxno': sim_info['sim_hps']['boxno'],\\\n",
    "                #'realization': sim_info['sim_hps']['realization'], \n",
    "                'scale_factors':[sim_info['scale_factor']],\\\n",
    "                'system': sim_info['sim_hps']['system']}\n"
   ]
  },
  {
   "cell_type": "code",
   "execution_count": 70,
   "metadata": {},
   "outputs": [
    {
     "data": {
      "text/plain": [
       "{'scale_factors': [1.0], 'simname': 'testbox', 'system': 'sherlock'}"
      ]
     },
     "execution_count": 70,
     "metadata": {},
     "output_type": "execute_result"
    }
   ],
   "source": [
    "cosmo_params"
   ]
  },
  {
   "cell_type": "code",
   "execution_count": 71,
   "metadata": {
    "collapsed": true
   },
   "outputs": [],
   "source": [
    "#cosmo_params['boxno'] = 0\n",
    "#cosmo_params['realization'] = 4"
   ]
  },
  {
   "cell_type": "raw",
   "metadata": {
    "collapsed": true
   },
   "source": [
    "cat = cat_dict[cosmo_params['simname']](**cosmo_params)#construct the specified catalog!"
   ]
  },
  {
   "cell_type": "raw",
   "metadata": {
    "collapsed": true
   },
   "source": [
    "cpv = cat._get_cosmo_param_names_vals()\n",
    "\n",
    "cat_val_dict =  {key: val for key, val in zip(cpv[0], cpv[1])}"
   ]
  },
  {
   "cell_type": "code",
   "execution_count": 72,
   "metadata": {
    "collapsed": true
   },
   "outputs": [],
   "source": [
    "#cosmo_true_vals = [3.7,70.7317,-1.13151,0.12283, 3.11395,  0.953515,  0.021762]\n",
    "#cosmo_true_vals = [cat_val_dict[pn] for pn in chain_pnames if pn in cat_val_dict]\n",
    "cosmo_true_vals = [0.046*0.7**2, (0.27-0.046)*0.7**2, -1, 0.95, 3.5698, 70, 3.04] \n",
    "\n",
    "#cosmo_true_vals = [MAP[idx] for idx, pn in enumerate(chain_pnames) if pn in cat_val_dict]"
   ]
  },
  {
   "cell_type": "raw",
   "metadata": {},
   "source": [
    "hod_params = sim_info['hod_params']\n",
    "print hod_params"
   ]
  },
  {
   "cell_type": "raw",
   "metadata": {},
   "source": [
    "emu.get_param_bounds('logM1')"
   ]
  },
  {
   "cell_type": "raw",
   "metadata": {},
   "source": [
    "hod_params['logM1'] = 14.5"
   ]
  },
  {
   "cell_type": "raw",
   "metadata": {
    "collapsed": true
   },
   "source": [
    "hod_true_vals = [hod_params[key] for key in chain_pnames if key in hod_params]\n",
    "#hod_true_vals = [MAP[idx] for idx, key in enumerate(chain_pnames) if key in hod_params]"
   ]
  },
  {
   "cell_type": "code",
   "execution_count": 73,
   "metadata": {
    "collapsed": true
   },
   "outputs": [],
   "source": [
    "import yaml\n",
    "with open('/home/users/swmclau2/Git/pearce/bin/mcmc/nh_gg_mcmc_config.yaml') as yamlfile:\n",
    "    cfg = yaml.load(yamlfile)\n",
    "    sim_cfg = cfg['data']['sim']\n",
    "    obs_cfg = cfg['data']['obs']"
   ]
  },
  {
   "cell_type": "raw",
   "metadata": {
    "collapsed": true
   },
   "source": [
    "cat.load(sim_cfg['scale_factor'], HOD='zheng07', **sim_cfg['sim_hps'])"
   ]
  },
  {
   "cell_type": "code",
   "execution_count": 74,
   "metadata": {
    "collapsed": true
   },
   "outputs": [],
   "source": [
    "r_bins = obs_cfg['rbins']"
   ]
  },
  {
   "cell_type": "raw",
   "metadata": {
    "collapsed": true
   },
   "source": [
    "pop_xi = np.zeros((10, emu.scale_bin_centers.shape[0]))\n",
    "for i in xrange(10):\n",
    "    cat.populate(hod_params)\n",
    "    pop_xi[i] = np.log10(cat.calc_xi(r_bins, do_jackknife = False) )"
   ]
  },
  {
   "cell_type": "raw",
   "metadata": {},
   "source": [
    "pop_xi.std(axis =0)"
   ]
  },
  {
   "cell_type": "raw",
   "metadata": {},
   "source": [
    "fig = plt.figure(figsize = (10,7))\n",
    "plt.errorbar(rbc, true_data[-len(emu.scale_bin_centers):], yerr=yerr, label = 'Data')\n",
    "#plt.plot(rbc, 10**pop_xi.mean(axis = 0), label = 'Pop', lw = 5)\n",
    "for px in pop_xi:\n",
    "    plt.plot(rbc, 10**px, alpha = 0.5, color = 'k')\n",
    "#plt.plot(rbc, 10**true_pred, label = 'True')\n",
    "#plt.plot(rbc, 10**MAP_pred, label = 'MAP')\n",
    "plt.loglog()\n",
    "plt.legend(loc='best')\n",
    "plt.show();"
   ]
  },
  {
   "cell_type": "raw",
   "metadata": {
    "collapsed": true
   },
   "source": [
    "true_param_dict = cat_val_dict.copy()\n",
    "for hp, hv in hod_params.iteritems():\n",
    "    if hp == 'logMmin':\n",
    "        continue\n",
    "    true_param_dict[hp] = hv\n",
    "true_pred = emu.emulate_wrt_r(true_param_dict)[0]"
   ]
  },
  {
   "cell_type": "code",
   "execution_count": 75,
   "metadata": {
    "collapsed": true
   },
   "outputs": [],
   "source": [
    "true_data = f['data'].value"
   ]
  },
  {
   "cell_type": "code",
   "execution_count": 76,
   "metadata": {},
   "outputs": [
    {
     "data": {
      "text/plain": [
       "array([  1.18458853e+04,   6.04948097e+03,   3.23783861e+03,\n",
       "         1.63879940e+03,   8.33194393e+02,   4.05327117e+02,\n",
       "         1.91148913e+02,   9.47501628e+01,   4.51422826e+01,\n",
       "         2.13405085e+01,   1.06392629e+01,   5.81375900e+00,\n",
       "         3.30139984e+00,   1.92967121e+00,   1.09896199e+00,\n",
       "         6.05205029e-01,   3.18360823e-01,   1.57647327e-01])"
      ]
     },
     "execution_count": 76,
     "metadata": {},
     "output_type": "execute_result"
    }
   ],
   "source": [
    "true_data"
   ]
  },
  {
   "cell_type": "code",
   "execution_count": 77,
   "metadata": {
    "collapsed": true
   },
   "outputs": [],
   "source": [
    "rbc = emu.scale_bin_centers#[-len(emu.scale_bin_centers):]"
   ]
  },
  {
   "cell_type": "code",
   "execution_count": 78,
   "metadata": {
    "collapsed": true
   },
   "outputs": [],
   "source": [
    "cov = f['cov'].value\n",
    "yerr = np.sqrt(np.diag(cov))[-len(emu.scale_bin_centers):]"
   ]
  },
  {
   "cell_type": "code",
   "execution_count": 81,
   "metadata": {},
   "outputs": [
    {
     "data": {
      "text/plain": [
       "<matplotlib.image.AxesImage at 0x7fb8089d0b10>"
      ]
     },
     "execution_count": 81,
     "metadata": {},
     "output_type": "execute_result"
    },
    {
     "data": {
      "image/png": "[encoded data removed]",
      "text/plain": [
       "<matplotlib.figure.Figure at 0x7fb808b01750>"
      ]
     },
     "metadata": {},
     "output_type": "display_data"
    }
   ],
   "source": [
    "plt.imshow(np.log10(cov) )"
   ]
  },
  {
   "cell_type": "code",
   "execution_count": 35,
   "metadata": {
    "collapsed": true
   },
   "outputs": [],
   "source": [
    "bounds = {pname: emu.get_param_bounds(pname) for pname in emu.get_param_names()[:-4]}"
   ]
  },
  {
   "cell_type": "code",
   "execution_count": 36,
   "metadata": {},
   "outputs": [
    {
     "data": {
      "text/plain": [
       "{'H0': (61.694719999999997, 74.76751999999999),\n",
       " 'Neff': (2.6212499999999999, 4.2787499999999996),\n",
       " 'ln10As': (3.0009000000000001, 3.179424),\n",
       " 'mean_occupation_centrals_assembias_corr1': (-1.0, 1.0),\n",
       " 'mean_occupation_satellites_assembias_corr1': (-1.0, 1.0),\n",
       " 'ns': (0.92784619999999995, 0.99744959999999994),\n",
       " 'ombh2': (0.02066455, 0.02371239),\n",
       " 'omch2': (0.10121810000000001, 0.13177679999999997),\n",
       " 'w0': (-1.399921, -0.56584860000000003)}"
      ]
     },
     "execution_count": 36,
     "metadata": {},
     "output_type": "execute_result"
    }
   ],
   "source": [
    "bounds"
   ]
  },
  {
   "cell_type": "code",
   "execution_count": 37,
   "metadata": {},
   "outputs": [
    {
     "data": {
      "image/png": "[encoded data removed]",
      "text/plain": [
       "<matplotlib.figure.Figure at 0x7fb802f795d0>"
      ]
     },
     "metadata": {},
     "output_type": "display_data"
    }
   ],
   "source": [
    "fig = plt.figure(figsize = (10,7))\n",
    "plt.errorbar(rbc, true_data[-len(emu.scale_bin_centers):], yerr=yerr, label = 'Data')\n",
    "#plt.plot(rbc, 10**true_pred, label = 'True')\n",
    "plt.plot(rbc, 10**MAP_pred, label = 'MAP')\n",
    "#plt.plot(rbc, 10**pop_xi.mean(axis = 0), label = 'Pop')#, lw = 5)\n",
    "\n",
    "plt.loglog()\n",
    "plt.legend(loc='best')\n",
    "plt.show();"
   ]
  },
  {
   "cell_type": "code",
   "execution_count": 38,
   "metadata": {},
   "outputs": [
    {
     "data": {
      "image/png": "[encoded data removed]",
      "text/plain": [
       "<matplotlib.figure.Figure at 0x7fb809250890>"
      ]
     },
     "metadata": {},
     "output_type": "display_data"
    }
   ],
   "source": [
    "fig = plt.figure(figsize = (10,7))\n",
    "chain_samples = np.random.choice(chain.shape[0], size = 100, replace = False)\n",
    "for sample in chain[chain_samples]:\n",
    "    param_dict = dict(zip(emu.get_param_names(), sample))\n",
    "    plt.plot(rbc, 10**emu.emulate_wrt_r(param_dict)[0], alpha = 0.2)\n",
    "plt.errorbar(rbc, true_data[-len(emu.scale_bin_centers):], yerr=yerr, label = 'Data')\n",
    "#plt.plot(rbc, 10**true_pred, label = 'True')\n",
    "#plt.plot(rbc, 10**MAP_pred, label = 'MAP')\n",
    "#plt.plot(rbc, 10**pop_xi.mean(axis = 0), label = 'Pop')#, lw = 5)\n",
    "\n",
    "plt.loglog()\n",
    "plt.legend(loc='best')\n",
    "plt.show();"
   ]
  },
  {
   "cell_type": "code",
   "execution_count": 39,
   "metadata": {},
   "outputs": [
    {
     "data": {
      "image/png": "[encoded data removed]",
      "text/plain": [
       "<matplotlib.figure.Figure at 0x7fb8090d7450>"
      ]
     },
     "metadata": {},
     "output_type": "display_data"
    }
   ],
   "source": [
    "fig = plt.figure(figsize = (10,7))\n",
    "chain_samples = np.random.choice(chain.shape[0], size = 100, replace = False)\n",
    "for sample in chain[chain_samples]:\n",
    "    param_dict = dict(zip(emu.get_param_names(), sample))\n",
    "    plt.plot(rbc, 10**emu.emulate_wrt_r(param_dict)[0]/true_data[-len(emu.scale_bin_centers):], alpha = 0.2)\n",
    "plt.errorbar(rbc, np.ones(len(emu.scale_bin_centers)), yerr=yerr/true_data[-len(emu.scale_bin_centers):], label = 'Data')\n",
    "#plt.plot(rbc, 10**true_pred, label = 'True')\n",
    "#plt.plot(rbc, 10**MAP_pred, label = 'MAP')\n",
    "#plt.plot(rbc, 10**pop_xi.mean(axis = 0), label = 'Pop')#, lw = 5)\n",
    "plt.xscale('log')\n",
    "#plt.loglog()\n",
    "plt.legend(loc='best')\n",
    "plt.show();"
   ]
  },
  {
   "cell_type": "raw",
   "metadata": {},
   "source": [
    "fig = plt.figure(figsize = (10,7))\n",
    "plt.errorbar(rbc, true_data[-len(emu.scale_bin_centers):], yerr=yerr, label = 'Data')\n",
    "plt.plot(rbc, 10**true_pred, label = 'True')\n",
    "plt.plot(rbc, 10**MAP_pred, label = 'MAP')\n",
    "plt.loglog()\n",
    "plt.legend(loc='best')\n",
    "plt.show();"
   ]
  },
  {
   "cell_type": "code",
   "execution_count": 40,
   "metadata": {},
   "outputs": [
    {
     "data": {
      "image/png": "[encoded data removed]",
      "text/plain": [
       "<matplotlib.figure.Figure at 0x7fb808d211d0>"
      ]
     },
     "metadata": {},
     "output_type": "display_data"
    }
   ],
   "source": [
    "fig = plt.figure(figsize = (10,7))\n",
    "plt.errorbar(rbc, np.zeros_like(true_data[-len(emu.scale_bin_centers):]), yerr=yerr/true_data[-len(emu.scale_bin_centers):], label = 'Data')\n",
    "#plt.plot(rbc, (10**true_pred-true_data[-len(emu.scale_bin_centers):])/true_data[-len(emu.scale_bin_centers):], label = 'True')\n",
    "plt.plot(rbc, (10**MAP_pred-true_data[-len(emu.scale_bin_centers):])/true_data[-len(emu.scale_bin_centers):], label = 'MAP')\n",
    "plt.xscale('log')\n",
    "plt.legend(loc='best')\n",
    "plt.show();"
   ]
  },
  {
   "cell_type": "raw",
   "metadata": {
    "collapsed": true
   },
   "source": [
    "(10**true_pred)/true_data[-len(emu.scale_bin_centers):]"
   ]
  },
  {
   "cell_type": "code",
   "execution_count": 41,
   "metadata": {},
   "outputs": [
    {
     "data": {
      "text/plain": [
       "['ombh2',\n",
       " 'omch2',\n",
       " 'w0',\n",
       " 'ns',\n",
       " 'ln10As',\n",
       " 'H0',\n",
       " 'Neff',\n",
       " 'mean_occupation_centrals_assembias_corr1',\n",
       " 'mean_occupation_satellites_assembias_corr1',\n",
       " 'logM1',\n",
       " 'logM0',\n",
       " 'sigma_logM',\n",
       " 'alpha']"
      ]
     },
     "execution_count": 41,
     "metadata": {},
     "output_type": "execute_result"
    }
   ],
   "source": [
    "emu.get_param_names()"
   ]
  },
  {
   "cell_type": "code",
   "execution_count": 42,
   "metadata": {
    "collapsed": true
   },
   "outputs": [],
   "source": [
    "true_param_dict = param_dict.copy()"
   ]
  },
  {
   "cell_type": "code",
   "execution_count": 43,
   "metadata": {
    "collapsed": true
   },
   "outputs": [],
   "source": [
    "N = 30\n",
    "cmap = sns.color_palette(\"BrBG_d\", N)"
   ]
  },
  {
   "cell_type": "code",
   "execution_count": 44,
   "metadata": {},
   "outputs": [
    {
     "ename": "KeyError",
     "evalue": "'Parameter mean_occupation_centrals_assembias_param1 could not be found.'",
     "output_type": "error",
     "traceback": [
      "\u001b[0;31m\u001b[0m",
      "\u001b[0;31mKeyError\u001b[0mTraceback (most recent call last)",
      "\u001b[0;32m<ipython-input-44-b41ae893a728>\u001b[0m in \u001b[0;36m<module>\u001b[0;34m()\u001b[0m\n\u001b[1;32m      1\u001b[0m \u001b[0mfig\u001b[0m \u001b[0;34m=\u001b[0m \u001b[0mplt\u001b[0m\u001b[0;34m.\u001b[0m\u001b[0mfigure\u001b[0m\u001b[0;34m(\u001b[0m\u001b[0mfigsize\u001b[0m\u001b[0;34m=\u001b[0m\u001b[0;34m(\u001b[0m\u001b[0;36m10\u001b[0m\u001b[0;34m,\u001b[0m\u001b[0;36m7\u001b[0m\u001b[0;34m)\u001b[0m\u001b[0;34m)\u001b[0m\u001b[0;34m\u001b[0m\u001b[0m\n\u001b[1;32m      2\u001b[0m \u001b[0mvaried_pname\u001b[0m \u001b[0;34m=\u001b[0m \u001b[0;34m'mean_occupation_centrals_assembias_param1'\u001b[0m\u001b[0;34m\u001b[0m\u001b[0m\n\u001b[0;32m----> 3\u001b[0;31m \u001b[0mlower\u001b[0m\u001b[0;34m,\u001b[0m \u001b[0mupper\u001b[0m \u001b[0;34m=\u001b[0m \u001b[0memu\u001b[0m\u001b[0;34m.\u001b[0m\u001b[0mget_param_bounds\u001b[0m\u001b[0;34m(\u001b[0m\u001b[0mvaried_pname\u001b[0m\u001b[0;34m)\u001b[0m\u001b[0;34m\u001b[0m\u001b[0m\n\u001b[0m\u001b[1;32m      4\u001b[0m \u001b[0;32mfor\u001b[0m \u001b[0mc\u001b[0m\u001b[0;34m,\u001b[0m \u001b[0mval\u001b[0m \u001b[0;32min\u001b[0m \u001b[0mzip\u001b[0m\u001b[0;34m(\u001b[0m\u001b[0mcmap\u001b[0m\u001b[0;34m,\u001b[0m \u001b[0mnp\u001b[0m\u001b[0;34m.\u001b[0m\u001b[0mlinspace\u001b[0m\u001b[0;34m(\u001b[0m\u001b[0mlower\u001b[0m\u001b[0;34m,\u001b[0m \u001b[0mupper\u001b[0m\u001b[0;34m,\u001b[0m \u001b[0mN\u001b[0m\u001b[0;34m)\u001b[0m \u001b[0;34m)\u001b[0m\u001b[0;34m:\u001b[0m\u001b[0;34m\u001b[0m\u001b[0m\n\u001b[1;32m      5\u001b[0m     \u001b[0mparam_dict\u001b[0m \u001b[0;34m=\u001b[0m \u001b[0mtrue_param_dict\u001b[0m\u001b[0;34m.\u001b[0m\u001b[0mcopy\u001b[0m\u001b[0;34m(\u001b[0m\u001b[0;34m)\u001b[0m\u001b[0;34m\u001b[0m\u001b[0m\n",
      "\u001b[0;32m/home/users/swmclau2/.local/lib/python2.7/site-packages/pearce/emulator/emu.pyc\u001b[0m in \u001b[0;36mget_param_bounds\u001b[0;34m(self, param)\u001b[0m\n\u001b[1;32m    433\u001b[0m             \u001b[0;32mreturn\u001b[0m \u001b[0mself\u001b[0m\u001b[0;34m.\u001b[0m\u001b[0m_ordered_params\u001b[0m\u001b[0;34m[\u001b[0m\u001b[0mparam\u001b[0m\u001b[0;34m]\u001b[0m\u001b[0;34m\u001b[0m\u001b[0m\n\u001b[1;32m    434\u001b[0m         \u001b[0;32mexcept\u001b[0m \u001b[0mKeyError\u001b[0m\u001b[0;34m:\u001b[0m\u001b[0;34m\u001b[0m\u001b[0m\n\u001b[0;32m--> 435\u001b[0;31m             \u001b[0;32mraise\u001b[0m \u001b[0mKeyError\u001b[0m\u001b[0;34m(\u001b[0m\u001b[0;34m\"Parameter %s could not be found.\"\u001b[0m \u001b[0;34m%\u001b[0m \u001b[0mparam\u001b[0m\u001b[0;34m)\u001b[0m\u001b[0;34m\u001b[0m\u001b[0m\n\u001b[0m\u001b[1;32m    436\u001b[0m \u001b[0;34m\u001b[0m\u001b[0m\n\u001b[1;32m    437\u001b[0m     \u001b[0;31m# TODO Should I unify some syntax between this and the one below?\u001b[0m\u001b[0;34m\u001b[0m\u001b[0;34m\u001b[0m\u001b[0m\n",
      "\u001b[0;31mKeyError\u001b[0m: 'Parameter mean_occupation_centrals_assembias_param1 could not be found.'"
     ]
    },
    {
     "data": {
      "text/plain": [
       "<matplotlib.figure.Figure at 0x7fb809173ed0>"
      ]
     },
     "metadata": {},
     "output_type": "display_data"
    }
   ],
   "source": [
    "fig = plt.figure(figsize=(10,7))\n",
    "varied_pname = 'mean_occupation_centrals_assembias_param1'\n",
    "lower, upper = emu.get_param_bounds(varied_pname)\n",
    "for c, val in zip(cmap, np.linspace(lower, upper, N) ):\n",
    "    param_dict = true_param_dict.copy()\n",
    "    param_dict[varied_pname] = val\n",
    "    pred = emu.emulate_wrt_r(param_dict)[0]\n",
    "    plt.plot(rbc, 10**pred, alpha = 0.5,label = val, color =c)\n",
    "    \n",
    "plt.errorbar(rbc, true_data[-len(emu.scale_bin_centers):], yerr=yerr, label = 'Data')\n",
    "plt.loglog()\n",
    "plt.legend(loc='best')\n",
    "plt.show();"
   ]
  },
  {
   "cell_type": "code",
   "execution_count": null,
   "metadata": {},
   "outputs": [],
   "source": [
    "fig = plt.figure(figsize=(10,7))\n",
    "#varied_pname = 'Neff'\n",
    "#lower, upper = emu.get_param_bounds(varied_pname)\n",
    "i = 0\n",
    "for c, val in zip(cmap, np.linspace(lower, upper, N) ):\n",
    "    print i, val\n",
    "    i+=1\n",
    "    param_dict = true_param_dict.copy()\n",
    "    param_dict[varied_pname] = val\n",
    "    pred = emu.emulate_wrt_r(param_dict)[0]\n",
    "    plt.plot(rbc, (10**pred-true_data[-len(emu.scale_bin_centers):])/true_data[-len(emu.scale_bin_centers):], alpha = 0.5,label = val, color =c)\n",
    "    \n",
    "plt.errorbar(rbc, np.zeros_like(true_data[-len(emu.scale_bin_centers):]), yerr=yerr/true_data[-len(emu.scale_bin_centers):], label = 'Data')\n",
    "#plt.loglog()\n",
    "plt.xscale('log')\n",
    "#plt.legend(loc='best')\n",
    "plt.show();"
   ]
  },
  {
   "cell_type": "code",
   "execution_count": null,
   "metadata": {
    "collapsed": true
   },
   "outputs": [],
   "source": [
    "bin = 17\n",
    "#emu._kernels[bin][0].linear.variances"
   ]
  },
  {
   "cell_type": "code",
   "execution_count": null,
   "metadata": {},
   "outputs": [],
   "source": [
    "emu._kernels[bin][0].rbf.lengthscale"
   ]
  },
  {
   "cell_type": "code",
   "execution_count": null,
   "metadata": {
    "collapsed": true
   },
   "outputs": [],
   "source": [
    "x = emu._x1_std*emu.x1+emu._x1_mean"
   ]
  },
  {
   "cell_type": "code",
   "execution_count": null,
   "metadata": {
    "collapsed": true
   },
   "outputs": [],
   "source": [
    "emu.get_param_names()"
   ]
  },
  {
   "cell_type": "code",
   "execution_count": null,
   "metadata": {
    "collapsed": true
   },
   "outputs": [],
   "source": [
    "np.argmin(abs(x[:,1]- 0.11386))"
   ]
  },
  {
   "cell_type": "code",
   "execution_count": null,
   "metadata": {
    "collapsed": true
   },
   "outputs": [],
   "source": [
    "plt.plot(emu.scale_bin_centers, emu.y[:, 4, 100]+emu._y_mean)\n",
    "plt.xscale('log')"
   ]
  },
  {
   "cell_type": "code",
   "execution_count": null,
   "metadata": {
    "collapsed": true
   },
   "outputs": [],
   "source": [
    "param_dict = dict(zip(emu.get_param_names(), np.hstack([emu.x1[4]*emu._x1_std+emu._x1_mean,\\\n",
    "                                                        emu.x2[100]*emu._x2_std+emu._x2_mean])))"
   ]
  },
  {
   "cell_type": "code",
   "execution_count": null,
   "metadata": {
    "collapsed": true
   },
   "outputs": [],
   "source": [
    "param_dict"
   ]
  },
  {
   "cell_type": "code",
   "execution_count": null,
   "metadata": {
    "collapsed": true
   },
   "outputs": [],
   "source": [
    "data = emu.y[:, 0, 0]+emu._y_mean\n",
    "#plt.plot(emu.scale_bin_centers, )\n",
    "plt.plot(emu.scale_bin_centers, emu.emulate_wrt_r(param_dict)[0]/data)\n",
    "plt.xscale('log')"
   ]
  },
  {
   "cell_type": "code",
   "execution_count": null,
   "metadata": {
    "collapsed": true
   },
   "outputs": [],
   "source": []
  },
  {
   "cell_type": "code",
   "execution_count": null,
   "metadata": {
    "collapsed": true
   },
   "outputs": [],
   "source": []
  },
  {
   "cell_type": "code",
   "execution_count": null,
   "metadata": {
    "collapsed": true
   },
   "outputs": [],
   "source": []
  }
 ],
 "metadata": {
  "kernelspec": {
   "display_name": "Python 2",
   "language": "python",
   "name": "python2"
  },
  "language_info": {
   "codemirror_mode": {
    "name": "ipython",
    "version": 2
   },
   "file_extension": ".py",
   "mimetype": "text/x-python",
   "name": "python",
   "nbconvert_exporter": "python",
   "pygments_lexer": "ipython2",
   "version": "2.7.13"
  }
 },
 "nbformat": 4,
 "nbformat_minor": 1
}

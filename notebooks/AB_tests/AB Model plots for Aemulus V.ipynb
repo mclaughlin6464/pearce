{
 "cells": [
  {
   "cell_type": "markdown",
   "metadata": {},
   "source": [
    "I'm giving a talk about my 2DHOD AB models and their use in inferring cosmology. I need to make a few plots for that, and I'd like to do it all in one place. \n",
    "\n",
    "I need to make:\n",
    " * Cen-sat HOD plot x\n",
    " * Split decorated HOD plot x\n",
    " * Decorated HOD step func plot\n",
    " * “” for Yao model, cont model\n",
    " * SHAM ratio(s) plot\n",
    " * Tabulated HOD plot\n"
   ]
  },
  {
   "cell_type": "code",
   "execution_count": 1,
   "metadata": {
    "collapsed": true
   },
   "outputs": [],
   "source": [
    "import numpy as np\n",
    "from pearce.mocks.kittens import TrainingBox, Chinchilla\n",
    "from scipy.stats import binned_statistic, binned_statistic_2d"
   ]
  },
  {
   "cell_type": "code",
   "execution_count": 2,
   "metadata": {
    "collapsed": true
   },
   "outputs": [],
   "source": [
    "from halotools.utils.table_utils import compute_conditional_percentiles\n",
    "from halotools.mock_observables import hod_from_mock, get_haloprop_of_galaxies"
   ]
  },
  {
   "cell_type": "code",
   "execution_count": 3,
   "metadata": {
    "collapsed": true
   },
   "outputs": [],
   "source": [
    "from matplotlib import pyplot as plt\n",
    "%matplotlib inline\n",
    "import seaborn as sns\n",
    "sns.set()"
   ]
  },
  {
   "cell_type": "code",
   "execution_count": 4,
   "metadata": {
    "collapsed": true
   },
   "outputs": [],
   "source": [
    "cat = TrainingBox(boxno=0, system='sherlock')\n",
    "cat.load(1.0, HOD='zheng07')"
   ]
  },
  {
   "cell_type": "code",
   "execution_count": 5,
   "metadata": {
    "collapsed": true
   },
   "outputs": [],
   "source": [
    "cat.model.param_dict['logMmin'] = 13.0\n",
    "cat.model.param_dict['logM0'] = 12.5"
   ]
  },
  {
   "cell_type": "code",
   "execution_count": 6,
   "metadata": {},
   "outputs": [
    {
     "name": "stdout",
     "output_type": "stream",
     "text": [
      "{'logM0': 12.5, 'sigma_logM': 0.26, 'logMmin': 13.0, 'alpha': 1.06, 'logM1': 13.31}\n"
     ]
    }
   ],
   "source": [
    "print cat.model.param_dict"
   ]
  },
  {
   "cell_type": "code",
   "execution_count": 7,
   "metadata": {
    "collapsed": true
   },
   "outputs": [],
   "source": [
    "cat.populate(min_ptcl=50)"
   ]
  },
  {
   "cell_type": "code",
   "execution_count": 8,
   "metadata": {
    "collapsed": true
   },
   "outputs": [],
   "source": [
    "mass_bin_range = (11,16)\n",
    "mass_bin_size = 0.1\n",
    "cen_hod = cat.calc_hod(mass_bin_range=mass_bin_range, mass_bin_size=mass_bin_size, component='central')\n",
    "sat_hod = cat.calc_hod(mass_bin_range=mass_bin_range, mass_bin_size=mass_bin_size, component='satellite')"
   ]
  },
  {
   "cell_type": "code",
   "execution_count": 9,
   "metadata": {
    "collapsed": true
   },
   "outputs": [],
   "source": [
    "mass_bins = np.logspace(mass_bin_range[0], mass_bin_range[1],\n",
    "                           int((mass_bin_range[1] - mass_bin_range[0]) / mass_bin_size) + 1)\n",
    "mass_bin_centers = (mass_bins[:-1] + mass_bins[1:]) / 2"
   ]
  },
  {
   "cell_type": "markdown",
   "metadata": {},
   "source": [
    "## TODO check little h "
   ]
  },
  {
   "cell_type": "code",
   "execution_count": 10,
   "metadata": {},
   "outputs": [
    {
     "data": {
      "image/png": "[encoded data removed]",
      "text/plain": [
       "<matplotlib.figure.Figure at 0x7f827f54be90>"
      ]
     },
     "metadata": {},
     "output_type": "display_data"
    }
   ],
   "source": [
    "plt.plot(mass_bin_centers, cen_hod, label = 'Cens')\n",
    "plt.plot(mass_bin_centers, sat_hod, label = 'Sats')\n",
    "plt.plot(mass_bin_centers, cen_hod+sat_hod, label = 'All')\n",
    "\n",
    "plt.legend(loc='best')\n",
    "plt.loglog()\n",
    "plt.xlim(1e12,1e15)\n",
    "plt.ylim([1e-2, 1e3])\n",
    "plt.xlabel(r\"Host Halo Mass [$M_{\\odot}$]\")\n",
    "plt.ylabel(r\"$\\langle N_t | M \\rangle$\")\n",
    "plt.show()"
   ]
  },
  {
   "cell_type": "markdown",
   "metadata": {},
   "source": [
    "---"
   ]
  },
  {
   "cell_type": "code",
   "execution_count": 11,
   "metadata": {
    "collapsed": true
   },
   "outputs": [],
   "source": [
    "# TODO consistent plot language between each of these. Each model should have a corresponding color"
   ]
  },
  {
   "cell_type": "code",
   "execution_count": 12,
   "metadata": {},
   "outputs": [
    {
     "data": {
      "image/png": "[encoded data removed]",
      "text/plain": [
       "<matplotlib.figure.Figure at 0x7f827f54b6d0>"
      ]
     },
     "metadata": {},
     "output_type": "display_data"
    }
   ],
   "source": [
    "current_palette = sns.color_palette()\n",
    "sns.palplot(current_palette)\n"
   ]
  },
  {
   "cell_type": "code",
   "execution_count": 13,
   "metadata": {
    "collapsed": true
   },
   "outputs": [],
   "source": [
    "model_color_map = {'HOD': (current_palette[0], \"GnBu_d\"),\n",
    "                    'HSAB': (current_palette[1], \"YlGn_d\"),\n",
    "                   'SHAM': (current_palette[2], \"OrRd_d\"),\n",
    "                   'CAB': (current_palette[3], \"RdPu_d\"),\n",
    "                   'CorrAB': (current_palette[4], \"YlOrBr_d\"),\n",
    "                    'Halos': (current_palette[5], 'PuBu_d')} # add CMAPs too"
   ]
  },
  {
   "cell_type": "code",
   "execution_count": 14,
   "metadata": {},
   "outputs": [
    {
     "data": {
      "text/plain": [
       "['halo_upid',\n",
       " 'halo_vx',\n",
       " 'halo_y',\n",
       " 'halo_x',\n",
       " 'halo_z',\n",
       " 'halo_vy',\n",
       " 'halo_vz',\n",
       " 'halo_rs',\n",
       " 'halo_rvir',\n",
       " 'halo_mvir',\n",
       " 'halo_id',\n",
       " 'halo_nfw_conc',\n",
       " 'halo_hostid',\n",
       " 'halo_local_density_1',\n",
       " 'halo_local_density_5',\n",
       " 'halo_local_density_10',\n",
       " 'halo_mvir_host_halo']"
      ]
     },
     "execution_count": 14,
     "metadata": {},
     "output_type": "execute_result"
    }
   ],
   "source": [
    "cat.halocat.halo_table.colnames"
   ]
  },
  {
   "cell_type": "code",
   "execution_count": 15,
   "metadata": {
    "collapsed": true
   },
   "outputs": [],
   "source": [
    "def split_hod_plot(HOD, ab_params, n_splits = 4, cmap_name = 'blue'):\n",
    "    cat.load_model(1.0, HOD=HOD, hod_kwargs= {'sec_haloprop_key': 'halo_local_density_10'})\n",
    "    cat.model.param_dict['logMmin'] = 13.0\n",
    "    cat.model.param_dict['logM0'] = 12.5\n",
    "    \n",
    "    cat.populate(ab_params, min_ptcl = 100)\n",
    "    print cat.model.param_dict\n",
    "    catalog = cat.model.mock.galaxy_table\n",
    "    sec_percentiles = compute_conditional_percentiles(prim_haloprop = cat.model.mock.halo_table['halo_mvir'],\\\n",
    "                                                  sec_haloprop = cat.model.mock.halo_table['halo_local_density_10'],\n",
    "                                              prim_haloprop_bin_boundaries= mass_bins)\n",
    "    \n",
    "    sec_gal_percentiles = get_haloprop_of_galaxies(catalog['halo_id'], cat.model.mock.halo_table['halo_id'],\n",
    "                                               sec_percentiles)\n",
    "    \n",
    "    # TODO bins here\n",
    "    hods = np.zeros((n_splits, len(mass_bin_centers)))\n",
    "    perc_ranges = np.linspace(0,1, n_splits+1)\n",
    "    \n",
    "    cmap = sns.color_palette(cmap_name, n_splits)\n",
    "    #cmap = sns.dark_palette(cmap_name, n_splits)\n",
    "\n",
    "    for i,c in enumerate(cmap):\n",
    "        sec_bin_gals = np.logical_and(perc_ranges[i] < sec_gal_percentiles, sec_gal_percentiles<perc_ranges[i+1])\n",
    "        sec_bin_halos = np.logical_and(perc_ranges[i] < sec_percentiles, sec_percentiles<perc_ranges[i+1])\n",
    "\n",
    "        sec_gal_hist, _ = np.histogram(catalog[sec_bin_gals]['halo_mvir'], bins = mass_bins)\n",
    "        sec_halo_hist, _= np.histogram(cat.model.mock.halo_table[sec_bin_halos]['halo_mvir'], bins = mass_bins)\n",
    "        \n",
    "        hods[i, :] = sec_gal_hist*1.0/sec_halo_hist\n",
    "        plt.plot(mass_bin_centers, hods[i], c = c, label = 'p < %0.2f'%perc_ranges[i+1])\n",
    "\n",
    "    \n",
    "    gal_hist, _ = np.histogram(catalog['halo_mvir'], bins = mass_bins)\n",
    "    halo_hist, _= np.histogram(cat.model.mock.halo_table['halo_mvir'], bins = mass_bins)\n",
    "    full_hod = gal_hist*1.0/halo_hist\n",
    "    \n",
    "    \n",
    "    plt.plot(mass_bin_centers, full_hod, label = 'Full HOD', color = 'k')\n",
    "    plt.legend(loc='best')\n",
    "    plt.loglog()\n",
    "    plt.xlim(1e12,5e14)\n",
    "    plt.ylim([0, 40])\n",
    "    plt.xlabel(r\"Host Halo Mass [$M_{\\odot}$]\")\n",
    "    plt.ylabel(r\"$\\langle N_t | M \\rangle$\")\n",
    "    plt.show()"
   ]
  },
  {
   "cell_type": "raw",
   "metadata": {},
   "source": [
    "split_hod_plot('hsabZheng07', {'mean_occupation_centrals_assembias_param1': 0.5,\n",
    "                    'mean_occupation_satellites_assembias_param1': -0.5}, n_splits=2,\\\n",
    "               cmap_name = model_color_map['HSAB'][1])"
   ]
  },
  {
   "cell_type": "raw",
   "metadata": {},
   "source": [
    "split_hod_plot('abZheng07', {'mean_occupation_centrals_assembias_param1': 0.5,\n",
    "                    'mean_occupation_satellites_assembias_param1': -0.5}, n_splits=4,\\\n",
    "              cmap_name = model_color_map['CAB'][1])"
   ]
  },
  {
   "cell_type": "raw",
   "metadata": {},
   "source": [
    "split_hod_plot('corrZheng07', {'mean_occupation_centrals_assembias_corr1': 0.5,\n",
    "                    'mean_occupation_satellites_assembias_corr1': -0.5}, n_splits=4,\\\n",
    "                  cmap_name = model_color_map['CorrAB'][1])"
   ]
  },
  {
   "cell_type": "markdown",
   "metadata": {},
   "source": [
    "---"
   ]
  },
  {
   "cell_type": "code",
   "execution_count": 16,
   "metadata": {
    "collapsed": true
   },
   "outputs": [],
   "source": [
    "def select_mass_bin(bin_no, arr, mass_arr, mass_bins=mass_bins):\n",
    "    in_bin = np.logical_and(mass_bins[bin_no] < mass_arr, mass_arr < mass_bins[bin_no+1])\n",
    "    return arr[in_bin]"
   ]
  },
  {
   "cell_type": "code",
   "execution_count": 17,
   "metadata": {
    "collapsed": true
   },
   "outputs": [],
   "source": [
    "def single_bin_cen_occ_plot(HOD, ab_params, bin_no, color = current_palette[1]):\n",
    "    cat.load_model(1.0, HOD=HOD)\n",
    "    cat.model.param_dict['logMmin'] = 13.0\n",
    "    cat.model.param_dict['logM0'] = 12.5\n",
    "\n",
    "    cat.populate(ab_params, min_ptcl = 100)\n",
    "    \n",
    "    mean_occ = cat.model._input_model_dictionary['centrals_occupation'].mean_occupation\n",
    "    \n",
    "    base_mean_occ = cat.model._input_model_dictionary['centrals_occupation'].baseline_mean_occupation\n",
    "    baseline_result = base_mean_occ(prim_haloprop = cat.model.mock.halo_table['halo_mvir'])\n",
    "    \n",
    "    pert_result = mean_occ(prim_haloprop = cat.model.mock.halo_table['halo_mvir'],\\\n",
    "                           sec_haloprop = cat.model.mock.halo_table['halo_nfw_conc'])\n",
    "    \n",
    "    pert_in_bin = select_mass_bin(bin_no, pert_result, cat.model.mock.halo_table['halo_mvir'])\n",
    "    baseline_in_bin = select_mass_bin(bin_no, baseline_result, cat.model.mock.halo_table['halo_mvir'])\n",
    "    sec_in_bin = select_mass_bin(bin_no, cat.model.mock.halo_table['halo_nfw_conc'], cat.model.mock.halo_table['halo_mvir'])\n",
    "    \n",
    "    sec_sort_idx = np.argsort(sec_in_bin)\n",
    "    baseline_in_bin_avg = binned_statistic(np.linspace(0, 1, len(sec_sort_idx)),\n",
    "                                       baseline_in_bin[sec_sort_idx], bins = 100)[0]\n",
    "    pert_in_bin_avg = binned_statistic(np.linspace(0, 1, len(sec_sort_idx)),\n",
    "                                       pert_in_bin[sec_sort_idx], bins = 100)[0]\n",
    "\n",
    "    # TODO compute mean in bins of conc perc\n",
    "    plt.plot(np.linspace(0,1,100), baseline_in_bin_avg, c = model_color_map['HOD'][0])\n",
    "    plt.plot(np.linspace(0,1,100), pert_in_bin_avg, c=color)\n",
    "    \n",
    "    plt.ylim([-0.2,1.2])\n",
    "\n",
    "    plt.title(r'$\\log_{10}M = $ %0.1f'%np.log10(mass_bin_centers[bin_no]))\n",
    "    plt.xlabel('Secondary Halo Propety Percentile')\n",
    "    plt.ylabel(r'$\\langle N_{cen} | M \\rangle$')\n",
    "    plt.show()"
   ]
  },
  {
   "cell_type": "code",
   "execution_count": 18,
   "metadata": {
    "collapsed": true
   },
   "outputs": [],
   "source": [
    "bin_no = 20"
   ]
  },
  {
   "cell_type": "raw",
   "metadata": {},
   "source": [
    "single_bin_cen_occ_plot('hsabZheng07', {'mean_occupation_centrals_assembias_param1': 0.5,\n",
    "                    'mean_occupation_satellites_assembias_param1': -0.5}, bin_no,\n",
    "                        color = model_color_map['HSAB'][0])"
   ]
  },
  {
   "cell_type": "raw",
   "metadata": {},
   "source": [
    "single_bin_cen_occ_plot('abZheng07', {'mean_occupation_centrals_assembias_param1': 0.5,\n",
    "                    'mean_occupation_satellites_assembias_param1': -0.5}, bin_no,\n",
    "                        color = model_color_map['CAB'][0])"
   ]
  },
  {
   "cell_type": "raw",
   "metadata": {},
   "source": [
    "single_bin_cen_occ_plot('corrZheng07',\\\n",
    "                        {'mean_occupation_centrals_assembias_corr1': 0.5,\n",
    "                    'mean_occupation_satellites_assembias_corr1': -0.5}, bin_no,\n",
    "                        color = model_color_map['CorrAB'][0])"
   ]
  },
  {
   "cell_type": "raw",
   "metadata": {},
   "source": [
    "single_bin_cen_occ_plot('corrZheng07',\\\n",
    "                        {'mean_occupation_centrals_assembias_corr1': 0.5,\n",
    "                    'mean_occupation_satellites_assembias_corr1': -0.5}, bin_no - bin_no/10,\n",
    "                        color = model_color_map['CorrAB'][0])"
   ]
  },
  {
   "cell_type": "markdown",
   "metadata": {
    "collapsed": true
   },
   "source": [
    "---"
   ]
  },
  {
   "cell_type": "code",
   "execution_count": 19,
   "metadata": {
    "collapsed": true
   },
   "outputs": [],
   "source": [
    "from AbundanceMatching import *\n",
    "from halotools.mock_observables import tpcf\n",
    "from halotools.sim_manager import RockstarHlistReader"
   ]
  },
  {
   "cell_type": "code",
   "execution_count": 20,
   "metadata": {
    "collapsed": true
   },
   "outputs": [],
   "source": [
    "#sham clusterings computed on ds14b\n",
    "rbins = np.logspace(-1.1, 1.6, 19)\n",
    "rbc = (rbins[1:]+rbins[:-1])/2.0"
   ]
  },
  {
   "cell_type": "markdown",
   "metadata": {},
   "source": [
    "### TODO Change these to use other catalogs, UM"
   ]
  },
  {
   "cell_type": "code",
   "execution_count": 21,
   "metadata": {},
   "outputs": [
    {
     "ename": "ValueError",
     "evalue": "attempt to get argmin of an empty sequence",
     "output_type": "error",
     "traceback": [
      "\u001b[0;31m\u001b[0m",
      "\u001b[0;31mValueError\u001b[0mTraceback (most recent call last)",
      "\u001b[0;32m<ipython-input-21-bc7400f2a070>\u001b[0m in \u001b[0;36m<module>\u001b[0;34m()\u001b[0m\n\u001b[1;32m      1\u001b[0m \u001b[0mcat2\u001b[0m \u001b[0;34m=\u001b[0m \u001b[0mChinchilla\u001b[0m\u001b[0;34m(\u001b[0m\u001b[0;36m400\u001b[0m\u001b[0;34m,\u001b[0m \u001b[0;36m2048\u001b[0m\u001b[0;34m,\u001b[0m \u001b[0msystem\u001b[0m\u001b[0;34m=\u001b[0m\u001b[0;34m'sherlock'\u001b[0m\u001b[0;34m)\u001b[0m\u001b[0;34m\u001b[0m\u001b[0m\n\u001b[1;32m      2\u001b[0m \u001b[0;34m\u001b[0m\u001b[0m\n\u001b[0;32m----> 3\u001b[0;31m \u001b[0mcat2\u001b[0m\u001b[0;34m.\u001b[0m\u001b[0mload_catalog\u001b[0m\u001b[0;34m(\u001b[0m\u001b[0;36m1.0\u001b[0m\u001b[0;34m)\u001b[0m\u001b[0;34m\u001b[0m\u001b[0m\n\u001b[0m\u001b[1;32m      4\u001b[0m \u001b[0mhalocat\u001b[0m \u001b[0;34m=\u001b[0m \u001b[0mcat2\u001b[0m\u001b[0;34m.\u001b[0m\u001b[0mhalocat\u001b[0m\u001b[0;34m.\u001b[0m\u001b[0mhalo_table\u001b[0m\u001b[0;34m\u001b[0m\u001b[0m\n",
      "\u001b[0;32m/home/users/swmclau2/.local/lib/python2.7/site-packages/pearce/mocks/cat.pyc\u001b[0m in \u001b[0;36mload_catalog\u001b[0;34m(self, scale_factor, tol, check_sf, particles, downsample_factor)\u001b[0m\n\u001b[1;32m    457\u001b[0m             \u001b[0mdownsample_factor\u001b[0m \u001b[0;34m=\u001b[0m \u001b[0mfloat\u001b[0m\u001b[0;34m(\u001b[0m\u001b[0mdownsample_factor\u001b[0m\u001b[0;34m)\u001b[0m  \u001b[0;31m# will occasionally get an errant string input\u001b[0m\u001b[0;34m\u001b[0m\u001b[0m\n\u001b[1;32m    458\u001b[0m         \u001b[0;32mif\u001b[0m \u001b[0mcheck_sf\u001b[0m\u001b[0;34m:\u001b[0m\u001b[0;34m\u001b[0m\u001b[0m\n\u001b[0;32m--> 459\u001b[0;31m             \u001b[0ma\u001b[0m \u001b[0;34m=\u001b[0m \u001b[0mself\u001b[0m\u001b[0;34m.\u001b[0m\u001b[0m_return_nearest_sf\u001b[0m\u001b[0;34m(\u001b[0m\u001b[0mscale_factor\u001b[0m\u001b[0;34m,\u001b[0m \u001b[0mtol\u001b[0m\u001b[0;34m)\u001b[0m\u001b[0;34m\u001b[0m\u001b[0m\n\u001b[0m\u001b[1;32m    460\u001b[0m             \u001b[0;32mif\u001b[0m \u001b[0ma\u001b[0m \u001b[0;32mis\u001b[0m \u001b[0mNone\u001b[0m\u001b[0;34m:\u001b[0m\u001b[0;34m\u001b[0m\u001b[0m\n\u001b[1;32m    461\u001b[0m                 \u001b[0;32mraise\u001b[0m \u001b[0mValueError\u001b[0m\u001b[0;34m(\u001b[0m\u001b[0;34m'Scale factor %.3f not within given tolerance.'\u001b[0m \u001b[0;34m%\u001b[0m \u001b[0mscale_factor\u001b[0m\u001b[0;34m)\u001b[0m\u001b[0;34m\u001b[0m\u001b[0m\n",
      "\u001b[0;32m/home/users/swmclau2/.local/lib/python2.7/site-packages/pearce/mocks/cat.pyc\u001b[0m in \u001b[0;36m_return_nearest_sf\u001b[0;34m(self, a, tol)\u001b[0m\n\u001b[1;32m    262\u001b[0m         \u001b[0;32mif\u001b[0m \u001b[0ma\u001b[0m \u001b[0;32min\u001b[0m \u001b[0mself\u001b[0m\u001b[0;34m.\u001b[0m\u001b[0mscale_factors\u001b[0m\u001b[0;34m:\u001b[0m  \u001b[0;31m# try for an exact match.\u001b[0m\u001b[0;34m\u001b[0m\u001b[0m\n\u001b[1;32m    263\u001b[0m             \u001b[0;32mreturn\u001b[0m \u001b[0ma\u001b[0m\u001b[0;34m\u001b[0m\u001b[0m\n\u001b[0;32m--> 264\u001b[0;31m         \u001b[0midx\u001b[0m \u001b[0;34m=\u001b[0m \u001b[0mnp\u001b[0m\u001b[0;34m.\u001b[0m\u001b[0margmin\u001b[0m\u001b[0;34m(\u001b[0m\u001b[0mnp\u001b[0m\u001b[0;34m.\u001b[0m\u001b[0mabs\u001b[0m\u001b[0;34m(\u001b[0m\u001b[0mnp\u001b[0m\u001b[0;34m.\u001b[0m\u001b[0marray\u001b[0m\u001b[0;34m(\u001b[0m\u001b[0mself\u001b[0m\u001b[0;34m.\u001b[0m\u001b[0mscale_factors\u001b[0m\u001b[0;34m)\u001b[0m \u001b[0;34m-\u001b[0m \u001b[0ma\u001b[0m\u001b[0;34m)\u001b[0m\u001b[0;34m)\u001b[0m\u001b[0;34m\u001b[0m\u001b[0m\n\u001b[0m\u001b[1;32m    265\u001b[0m         \u001b[0;32mif\u001b[0m \u001b[0mnp\u001b[0m\u001b[0;34m.\u001b[0m\u001b[0mabs\u001b[0m\u001b[0;34m(\u001b[0m\u001b[0mself\u001b[0m\u001b[0;34m.\u001b[0m\u001b[0mscale_factors\u001b[0m\u001b[0;34m[\u001b[0m\u001b[0midx\u001b[0m\u001b[0;34m]\u001b[0m \u001b[0;34m-\u001b[0m \u001b[0ma\u001b[0m\u001b[0;34m)\u001b[0m \u001b[0;34m<\u001b[0m \u001b[0mtol\u001b[0m\u001b[0;34m:\u001b[0m\u001b[0;34m\u001b[0m\u001b[0m\n\u001b[1;32m    266\u001b[0m             \u001b[0;32mreturn\u001b[0m \u001b[0mself\u001b[0m\u001b[0;34m.\u001b[0m\u001b[0mscale_factors\u001b[0m\u001b[0;34m[\u001b[0m\u001b[0midx\u001b[0m\u001b[0;34m]\u001b[0m\u001b[0;34m\u001b[0m\u001b[0m\n",
      "\u001b[0;32m/share/software/user/open/py-scipystack/1.0_py27/lib/python2.7/site-packages/numpy/core/fromnumeric.pyc\u001b[0m in \u001b[0;36margmin\u001b[0;34m(a, axis, out)\u001b[0m\n\u001b[1;32m   1017\u001b[0m \u001b[0;34m\u001b[0m\u001b[0m\n\u001b[1;32m   1018\u001b[0m     \"\"\"\n\u001b[0;32m-> 1019\u001b[0;31m     \u001b[0;32mreturn\u001b[0m \u001b[0m_wrapfunc\u001b[0m\u001b[0;34m(\u001b[0m\u001b[0ma\u001b[0m\u001b[0;34m,\u001b[0m \u001b[0;34m'argmin'\u001b[0m\u001b[0;34m,\u001b[0m \u001b[0maxis\u001b[0m\u001b[0;34m=\u001b[0m\u001b[0maxis\u001b[0m\u001b[0;34m,\u001b[0m \u001b[0mout\u001b[0m\u001b[0;34m=\u001b[0m\u001b[0mout\u001b[0m\u001b[0;34m)\u001b[0m\u001b[0;34m\u001b[0m\u001b[0m\n\u001b[0m\u001b[1;32m   1020\u001b[0m \u001b[0;34m\u001b[0m\u001b[0m\n\u001b[1;32m   1021\u001b[0m \u001b[0;34m\u001b[0m\u001b[0m\n",
      "\u001b[0;32m/share/software/user/open/py-scipystack/1.0_py27/lib/python2.7/site-packages/numpy/core/fromnumeric.pyc\u001b[0m in \u001b[0;36m_wrapfunc\u001b[0;34m(obj, method, *args, **kwds)\u001b[0m\n\u001b[1;32m     55\u001b[0m \u001b[0;32mdef\u001b[0m \u001b[0m_wrapfunc\u001b[0m\u001b[0;34m(\u001b[0m\u001b[0mobj\u001b[0m\u001b[0;34m,\u001b[0m \u001b[0mmethod\u001b[0m\u001b[0;34m,\u001b[0m \u001b[0;34m*\u001b[0m\u001b[0margs\u001b[0m\u001b[0;34m,\u001b[0m \u001b[0;34m**\u001b[0m\u001b[0mkwds\u001b[0m\u001b[0;34m)\u001b[0m\u001b[0;34m:\u001b[0m\u001b[0;34m\u001b[0m\u001b[0m\n\u001b[1;32m     56\u001b[0m     \u001b[0;32mtry\u001b[0m\u001b[0;34m:\u001b[0m\u001b[0;34m\u001b[0m\u001b[0m\n\u001b[0;32m---> 57\u001b[0;31m         \u001b[0;32mreturn\u001b[0m \u001b[0mgetattr\u001b[0m\u001b[0;34m(\u001b[0m\u001b[0mobj\u001b[0m\u001b[0;34m,\u001b[0m \u001b[0mmethod\u001b[0m\u001b[0;34m)\u001b[0m\u001b[0;34m(\u001b[0m\u001b[0;34m*\u001b[0m\u001b[0margs\u001b[0m\u001b[0;34m,\u001b[0m \u001b[0;34m**\u001b[0m\u001b[0mkwds\u001b[0m\u001b[0;34m)\u001b[0m\u001b[0;34m\u001b[0m\u001b[0m\n\u001b[0m\u001b[1;32m     58\u001b[0m \u001b[0;34m\u001b[0m\u001b[0m\n\u001b[1;32m     59\u001b[0m     \u001b[0;31m# An AttributeError occurs if the object does not have\u001b[0m\u001b[0;34m\u001b[0m\u001b[0;34m\u001b[0m\u001b[0m\n",
      "\u001b[0;31mValueError\u001b[0m: attempt to get argmin of an empty sequence"
     ]
    }
   ],
   "source": [
    "cat2 = Chinchilla(400, 2048, system='sherlock')\n",
    "\n",
    "cat2.load_catalog(1.0)\n",
    "halocat = cat2.halocat.halo_table"
   ]
  },
  {
   "cell_type": "raw",
   "metadata": {},
   "source": [
    "fname = '/u/ki/jderose/desims/BCCSims/c400-2048/rockstar/hlists_new/hlist_1.00000.list'\n",
    "reader = RockstarHlistReader(fname, cat2.columns_to_keep, cat2.cache_filenames[-1], cat2.simname,\n",
    "                                         cat2.halo_finder, 0.0, cat2.version_name, cat2.Lbox, cat2.pmass,\n",
    "                                         overwrite=True)\n",
    "reader.read_halocat(cat2.columns_to_convert)\n",
    "halocat = reader.halo_table"
   ]
  },
  {
   "cell_type": "raw",
   "metadata": {
    "collapsed": true
   },
   "source": [
    "simname = 'ds_14_b_sub'\n",
    "z = 0.0\n",
    "h = 0.6846\n",
    "Lbox = 1000.0"
   ]
  },
  {
   "cell_type": "raw",
   "metadata": {
    "collapsed": true
   },
   "source": [
    "from halotools.sim_manager import CachedHaloCatalog\n",
    "from astropy.table import Table"
   ]
  },
  {
   "cell_type": "raw",
   "metadata": {
    "collapsed": true
   },
   "source": [
    "halocat = CachedHaloCatalog(simname = simname, halo_finder='rockstar', redshift = z,version_name='default')#.halo_table"
   ]
  },
  {
   "cell_type": "code",
   "execution_count": null,
   "metadata": {
    "collapsed": true
   },
   "outputs": [],
   "source": [
    "def make_sham(halocat, ab_property, nd=5e-4):\n",
    "    #smf = np.genfromtxt('smf_dr72bright34_m7_lowm.dat', skip_header=True)[:,0:2]\n",
    "    #af = AbundanceFunction(smf[:,0], smf[:,1], (9.0, 12.9), faint_end_first = True)\n",
    "    #lf = np.genfromtxt('/u/ki/swmclau2/des/AB_tests/lf_r_sersic_r.dat', skip_header=True)\n",
    "    smf = np.genfromtxt('/home/users/swmclau2/Git/pearce/bin/shams/smf_dr72bright34_m7_lowm.dat', skip_header=True)[:,0:2]\n",
    "\n",
    "    #af = AbundanceFunction(lf[:,1], lf[:,2],(-26, -12), )\n",
    "    af = AbundanceFunction(smf[:,0], smf[:,1], (9.0, 12.9), faint_end_first = True)\n",
    "\n",
    "    scatter = 0.2\n",
    "    remainder = af.deconvolute(scatter, 20)\n",
    "\n",
    "    nd_halos = calc_number_densities(halocat[ab_property], cat2.Lbox) #don't think this matters which one i choose here\n",
    "\n",
    "    catalog = af.match(nd_halos, scatter)\n",
    "\n",
    "    n_obj_needed = int(nd*(cat2.Lbox**3))\n",
    "\n",
    "    non_nan_idxs = ~np.isnan(catalog)\n",
    "    sort_idxs = np.argsort(catalog[non_nan_idxs])#[::-1]\n",
    "    final_catalog = catalog[non_nan_idxs][sort_idxs[:n_obj_needed]]\n",
    "    output = halocat[non_nan_idxs][sort_idxs[:n_obj_needed]]\n",
    "    output['gal_smass'] = final_catalog\n",
    "\n",
    "    return output"
   ]
  },
  {
   "cell_type": "code",
   "execution_count": null,
   "metadata": {
    "collapsed": true
   },
   "outputs": [],
   "source": [
    "galcat = make_sham(halocat.halo_table, 'halo_vpeak')\n",
    "#ab_property = ab_property = 'halo_vmax@mpeak'\n",
    "#galcat = Table.read('/scratch/users/swmclau2/test_%s_smf_sham.hdf5'%ab_property, format = 'hdf5', \n",
    "#                    path = '%s_catalog'%ab_property)"
   ]
  },
  {
   "cell_type": "code",
   "execution_count": null,
   "metadata": {
    "collapsed": true
   },
   "outputs": [],
   "source": [
    "gal_pos = np.vstack(np.array(galcat['halo_%s'%coord]) for coord in ['x', 'y', 'z']).T/h"
   ]
  },
  {
   "cell_type": "code",
   "execution_count": 27,
   "metadata": {
    "collapsed": true
   },
   "outputs": [],
   "source": [
    "sham_xi = tpcf(gal_pos, rbins, do_cross = False, estimator = 'Landy-Szalay', num_threads = 4, period = Lbox/h)"
   ]
  },
  {
   "cell_type": "code",
   "execution_count": null,
   "metadata": {
    "collapsed": true
   },
   "outputs": [],
   "source": [
    "cen_mask = galcat['halo_upid'] == -1\n",
    "halo_mass = halocat.halo_table['halo_mvir']\n",
    "sham_cen_hod = hod_from_mock(galcat[cen_mask]['halo_mvir_host_halo'], halo_mass, mass_bins)[0]\n",
    "sham_sat_hod = hod_from_mock(galcat[~cen_mask]['halo_mvir_host_halo'], halo_mass, mass_bins)[0]"
   ]
  },
  {
   "cell_type": "raw",
   "metadata": {},
   "source": [
    "plt.plot(mass_bin_centers, sham_cen_hod)\n",
    "plt.plot(mass_bin_centers, sham_sat_hod)\n",
    "plt.plot(mass_bin_centers, sham_cen_hod+sham_sat_hod)\n",
    "\n",
    "plt.loglog();"
   ]
  },
  {
   "cell_type": "code",
   "execution_count": null,
   "metadata": {
    "collapsed": true
   },
   "outputs": [],
   "source": [
    "from pearce.mocks.customHODModels import TabulatedCens, TabulatedSats, HSAssembiasTabulatedCens, HSAssembiasTabulatedSats\n",
    "from pearce.mocks.customHODModels import AssembiasTabulatedCens, AssembiasTabulatedSats, CorrAssembiasTabulatedCens, CorrAssembiasTabulatedSats"
   ]
  },
  {
   "cell_type": "code",
   "execution_count": null,
   "metadata": {
    "collapsed": true
   },
   "outputs": [],
   "source": [
    "#sham_sat_hod[sham_sat_hod< 1e-2] = 0.0"
   ]
  },
  {
   "cell_type": "code",
   "execution_count": null,
   "metadata": {
    "collapsed": true
   },
   "outputs": [],
   "source": [
    "def tabulated_hod_xi(sham_hod, hod_model, ab_dict = {}):\n",
    "    sham_cen_hod, sham_sat_hod = sham_hod\n",
    "    cat2.load_model(1.0, HOD=hod_model, hod_kwargs = {'prim_haloprop_vals': mass_bin_centers,\n",
    "                                                               #'sec_haloprop_key': 'halo_%s'%(mag_type),\n",
    "                                                               'cen_hod_vals':sham_cen_hod,\n",
    "                                                               'sat_hod_vals':sham_sat_hod} )\n",
    "    \n",
    "    cat2.model.param_dict.update(ab_dict)\n",
    "    out = np.zeros((10, rbins.shape[0]-1,))\n",
    "    for i in xrange(10):\n",
    "        cat2.populate(min_ptcl=100)\n",
    "        out[i] = cat2.calc_xi(rbins)\n",
    "        \n",
    "    return out.mean(axis = 0)"
   ]
  },
  {
   "cell_type": "code",
   "execution_count": null,
   "metadata": {
    "collapsed": true
   },
   "outputs": [],
   "source": [
    "cen_mask = cat2.model.mock.galaxy_table['gal_type'] == 'centrals'\n",
    "hod_cen_hod = hod_from_mock(cat2.model.mock.galaxy_table[cen_mask]['halo_mvir'], halocat['halo_mvir'], mass_bins)[0]\n",
    "hod_sat_hod = hod_from_mock(cat2.model.mock.galaxy_table[~cen_mask]['halo_mvir'], halocat['halo_mvir'], mass_bins)[0]"
   ]
  },
  {
   "cell_type": "code",
   "execution_count": null,
   "metadata": {
    "collapsed": true
   },
   "outputs": [],
   "source": [
    "plt.plot(mass_bin_centers, hod_cen_hod)\n",
    "plt.plot(mass_bin_centers, hod_sat_hod)\n",
    "plt.plot(mass_bin_centers, hod_cen_hod+sham_sat_hod)\n",
    "\n",
    "plt.loglog();"
   ]
  },
  {
   "cell_type": "code",
   "execution_count": null,
   "metadata": {
    "collapsed": true
   },
   "outputs": [],
   "source": [
    "hod_xi = tabulated_hod_xi((sham_cen_hod, sham_sat_hod), (TabulatedCens, TabulatedSats))"
   ]
  },
  {
   "cell_type": "markdown",
   "metadata": {},
   "source": [
    "### TODO  pivot to the secondary property i'm using with the emulaor (density at 10 Mpc) "
   ]
  },
  {
   "cell_type": "code",
   "execution_count": null,
   "metadata": {
    "collapsed": true
   },
   "outputs": [],
   "source": [
    "hsab_xi = tabulated_hod_xi((sham_cen_hod, sham_sat_hod), (HSAssembiasTabulatedCens, HSAssembiasTabulatedSats),\\\n",
    "                            ab_dict = {'mean_occupation_centrals_assembias_param1':1.0,\n",
    "                                       'mean_occupation_satellites_assembias_param1':-1.0})"
   ]
  },
  {
   "cell_type": "code",
   "execution_count": null,
   "metadata": {
    "collapsed": true
   },
   "outputs": [],
   "source": [
    "ab_xi = tabulated_hod_xi((sham_cen_hod, sham_sat_hod), (AssembiasTabulatedCens, AssembiasTabulatedSats),\\\n",
    "                            ab_dict = {'mean_occupation_centrals_assembias_param1':1.0,\n",
    "                                       'mean_occupation_satellites_assembias_param1':-1.0})"
   ]
  },
  {
   "cell_type": "code",
   "execution_count": null,
   "metadata": {
    "collapsed": true
   },
   "outputs": [],
   "source": [
    "corrab_xi = tabulated_hod_xi((sham_cen_hod, sham_sat_hod), (CorrAssembiasTabulatedCens, CorrAssembiasTabulatedSats),\\\n",
    "                            ab_dict = {'mean_occupation_centrals_assembias_corr1':1.0,\n",
    "                                       'mean_occupation_satellites_assembias_corr1':-1.0})"
   ]
  },
  {
   "cell_type": "code",
   "execution_count": null,
   "metadata": {
    "collapsed": true
   },
   "outputs": [],
   "source": [
    "plt.plot(rbc, sham_xi, label = 'SHAM')\n",
    "plt.plot(rbc, hod_xi, label = 'HOD')\n",
    "plt.plot(rbc, hsab_xi, label = 'HSAB')\n",
    "plt.plot(rbc, ab_xi, label = 'CAB')\n",
    "plt.plot(rbc, corrab_xi, label ='CorrAB')\n",
    "\n",
    "plt.legend(loc = 'best')\n",
    "\n",
    "plt.loglog()"
   ]
  },
  {
   "cell_type": "code",
   "execution_count": null,
   "metadata": {
    "collapsed": true
   },
   "outputs": [],
   "source": [
    "plt.plot(rbc, sham_xi/sham_xi, label = 'SHAM', color = model_color_map['SHAM'][0])\n",
    "plt.plot(rbc, hod_xi/sham_xi, label = 'HOD', color = model_color_map['HOD'][0])\n",
    "plt.plot(rbc, hsab_xi/sham_xi, label = 'HSAB', color = model_color_map['HSAB'][0])\n",
    "plt.plot(rbc, ab_xi/sham_xi, label = 'CAB', color = model_color_map['CAB'][0])\n",
    "plt.plot(rbc, corrab_xi/sham_xi, label ='CorrAB', color = model_color_map['CorrAB'][0])\n",
    "#plt.plot(rbc, hod_xi)\n",
    "plt.legend(loc = 'best')\n",
    "#plt.ylim([0.75, 1.25])\n",
    "plt.xlabel(r\"$r$ [Mpc]\")\n",
    "plt.ylabel(r\"$\\xi_{*}(r)/\\xi_{SHAM}(r)$\")\n",
    "plt.xscale('log')"
   ]
  },
  {
   "cell_type": "code",
   "execution_count": null,
   "metadata": {
    "collapsed": true
   },
   "outputs": [],
   "source": [
    "plt.plot(rbc, sham_xi/sham_xi, label = 'SHAM', color = model_color_map['SHAM'][0])\n",
    "plt.plot(rbc, hod_xi/sham_xi, label = 'HOD', color = model_color_map['HOD'][0])\n",
    "plt.plot(rbc, hsab_xi/sham_xi, label = 'HSAB', color = model_color_map['HSAB'][0])\n",
    "plt.plot(rbc, ab_xi/sham_xi, label = 'CAB', color = model_color_map['CAB'][0])\n",
    "plt.plot(rbc, corrab_xi/sham_xi, label ='CorrAB', color = model_color_map['CorrAB'][0])\n",
    "#plt.plot(rbc, hod_xi)\n",
    "plt.legend(loc = 'best')\n",
    "plt.ylim([0.9, 1.05])\n",
    "plt.xlabel(r\"$r$ [Mpc]\")\n",
    "plt.ylabel(r\"$\\xi_{*}(r)/\\xi_{SHAM}(r)$\")\n",
    "plt.xscale('log')"
   ]
  },
  {
   "cell_type": "markdown",
   "metadata": {
    "collapsed": true
   },
   "source": [
    "---"
   ]
  },
  {
   "cell_type": "code",
   "execution_count": null,
   "metadata": {
    "collapsed": true
   },
   "outputs": [],
   "source": [
    "def occ_jointplot(catalog, bin_no, mass_bins, params = ('halo_vpeak', 'halo_nfw_conc' ), param_bounds = None , color = current_palette[0]):\n",
    "    \n",
    "    fig = plt.figure(figsize = (10,10))\n",
    "    \n",
    "    mass_cut = np.logical_and(mass_bins[bin_no]< catalog['halo_mvir'], catalog['halo_mvir']<mass_bins[bin_no+1])\n",
    "    kit = catalog[mass_cut]\n",
    "    print np.log10(mass_bins[bin_no])\n",
    "    if param_bounds is None:\n",
    "        sns.jointplot(np.log10(kit[params[0]]), np.log10(kit[params[1]]), kind=\"hex\", color = color)\n",
    "    else:\n",
    "        xlim = param_bounds[0]\n",
    "        ylim = param_bounds[1]\n",
    "        sns.jointplot(np.log10(kit[params[0]]), np.log10(kit[params[1]]), xlim=xlim, ylim=ylim, kind=\"kde\", color = color)\n",
    "\n",
    "    plt.show()"
   ]
  },
  {
   "cell_type": "code",
   "execution_count": null,
   "metadata": {
    "collapsed": true
   },
   "outputs": [],
   "source": [
    "param_bounds = ((2.1,2.8), (0.25, 2.75) )"
   ]
  },
  {
   "cell_type": "code",
   "execution_count": null,
   "metadata": {
    "collapsed": true
   },
   "outputs": [],
   "source": [
    "bin_no = 12"
   ]
  },
  {
   "cell_type": "raw",
   "metadata": {},
   "source": [
    "occ_jointplot(cat2.halocat.halo_table, bin_no, mass_bins,param_bounds = param_bounds, color = model_color_map['Halos'][0])"
   ]
  },
  {
   "cell_type": "raw",
   "metadata": {},
   "source": [
    "occ_jointplot(galcat, bin_no, mass_bins, param_bounds=param_bounds, color=model_color_map['SHAM'][0])"
   ]
  },
  {
   "cell_type": "code",
   "execution_count": null,
   "metadata": {
    "collapsed": true
   },
   "outputs": [],
   "source": [
    "from halotools.mock_observables import get_haloprop_of_galaxies"
   ]
  },
  {
   "cell_type": "code",
   "execution_count": null,
   "metadata": {
    "collapsed": true
   },
   "outputs": [],
   "source": [
    "def tabulated_hod_jointplot(sham_hod, hod_model,cmap_name, ab_dict = {},bin_no = 9 ):\n",
    "    sham_cen_hod, sham_sat_hod = sham_hod\n",
    "    cat2.load_model(1.0, HOD=hod_model, hod_kwargs = {'prim_haloprop_vals': mass_bin_centers,\n",
    "                                                               #'sec_haloprop_key': 'halo_%s'%(mag_type),\n",
    "                                                               'cen_hod_vals':sham_cen_hod,\n",
    "                                                               'sat_hod_vals':sham_sat_hod} )\n",
    "    \n",
    "    cat2.model.param_dict.update(ab_dict)\n",
    "    \n",
    "    cat2.populate(min_ptcl=100)\n",
    "    for sec_param in ['halo_vpeak', 'halo_nfw_conc']: # TODO let user pass this in\n",
    "        val_gal = get_haloprop_of_galaxies(cat2.model.mock.galaxy_table['halo_id'], cat2.halocat.halo_table['halo_id'],\n",
    "                                        cat2.halocat.halo_table[sec_param])\n",
    "        cat2.model.mock.galaxy_table[sec_param] = val_gal\n",
    "    occ_jointplot(cat2.model.mock.galaxy_table,bin_no,\\\n",
    "                  mass_bins,param_bounds=param_bounds, color=model_color_map[cmap_name][0])"
   ]
  },
  {
   "cell_type": "raw",
   "metadata": {},
   "source": [
    "tabulated_hod_jointplot((sham_cen_hod, sham_sat_hod), (TabulatedCens, TabulatedSats), 'HOD', bin_no = bin_no)"
   ]
  },
  {
   "cell_type": "code",
   "execution_count": null,
   "metadata": {
    "collapsed": true
   },
   "outputs": [],
   "source": [
    "tabulated_hod_jointplot((sham_cen_hod, sham_sat_hod), (HSAssembiasTabulatedCens, HSAssembiasTabulatedSats),\n",
    "                            'HSAB', bin_no = bin_no,\n",
    "                            ab_dict = {'mean_occupation_centrals_assembias_param1':1.0,\n",
    "                                       'mean_occupation_satellites_assembias_param1':-1.0})"
   ]
  },
  {
   "cell_type": "raw",
   "metadata": {},
   "source": [
    "tabulated_hod_jointplot((sham_cen_hod, sham_sat_hod), (AssembiasTabulatedCens, AssembiasTabulatedSats),\n",
    "                            'CAB', bin_no = bin_no,\n",
    "                            ab_dict = {'mean_occupation_centrals_assembias_param1':1.0,\n",
    "                                       'mean_occupation_satellites_assembias_param1':-1.0})"
   ]
  },
  {
   "cell_type": "raw",
   "metadata": {},
   "source": [
    "tabulated_hod_jointplot((sham_cen_hod, sham_sat_hod), (CorrAssembiasTabulatedCens, CorrAssembiasTabulatedSats),\n",
    "                            'CorrAB', bin_no = bin_no,\n",
    "                            ab_dict = {'mean_occupation_centrals_assembias_corr1':1.0,\n",
    "                                       'mean_occupation_satellites_assembias_corr1':-1.0})"
   ]
  },
  {
   "cell_type": "markdown",
   "metadata": {},
   "source": [
    "---"
   ]
  },
  {
   "cell_type": "code",
   "execution_count": null,
   "metadata": {
    "collapsed": true
   },
   "outputs": [],
   "source": [
    "from pearce.mocks.customHODModels import Tabulated2DCens, Tabulated2DSats\n",
    "from pearce.mocks.assembias_models.table_utils import compute_prim_haloprop_bins"
   ]
  },
  {
   "cell_type": "code",
   "execution_count": null,
   "metadata": {
    "collapsed": true
   },
   "outputs": [],
   "source": [
    "from collections import Counter\n",
    "def compute_occupations(halo_catalog, galaxy_catalog):\n",
    "\n",
    "    cens_occ = np.zeros((np.sum(halo_catalog['halo_upid'] == -1),))\n",
    "    sats_occ = np.zeros_like(cens_occ)\n",
    "    \n",
    "    detected_central_ids = set(galaxy_catalog[galaxy_catalog['halo_upid']==-1]['halo_id'])\n",
    "    detected_satellite_upids = Counter(galaxy_catalog[galaxy_catalog['halo_upid']!=-1]['halo_upid'])\n",
    "\n",
    "    for idx, row  in enumerate(halo_catalog[halo_catalog['halo_upid'] == -1]):\n",
    "        cens_occ[idx] = 1.0 if row['halo_id'] in detected_central_ids else 0.0\n",
    "        sats_occ[idx]+= detected_satellite_upids[row['halo_id']]\n",
    "\n",
    "    return cens_occ, sats_occ"
   ]
  },
  {
   "cell_type": "code",
   "execution_count": null,
   "metadata": {
    "collapsed": true
   },
   "outputs": [],
   "source": [
    "cens_occ, sats_occ = compute_occupations(cat2.halocat.halo_table, galcat)"
   ]
  },
  {
   "cell_type": "code",
   "execution_count": null,
   "metadata": {
    "collapsed": true
   },
   "outputs": [],
   "source": [
    "def calc_2dhod(mass_bins,conc_bins,sec_haloprop_key, halocat, cens_occ, sats_occ):\n",
    "    \n",
    "    host_halos = halocat['halo_upid'] == -1\n",
    "    \n",
    "    halo_mass = halocat['halo_mvir']\n",
    "    halo_sec =halocat[sec_haloprop_key]\n",
    "    \n",
    "    host_halo_mass = halo_mass[host_halos]\n",
    "    host_halo_sec = halo_sec[host_halos]\n",
    "\n",
    "    #host_mass_bin_idxs = compute_prim_haloprop_bins(prim_haloprop_bin_boundaries=mass_bins, prim_haloprop = host_halo_mass)\n",
    "    mass_bin_idxs = compute_prim_haloprop_bins(prim_haloprop_bin_boundaries=mass_bins, prim_haloprop = halo_mass)\n",
    "    host_mass_bin_idxs = mass_bin_idxs[host_halos]\n",
    "    conditional_sec_percentiles = compute_conditional_percentiles(prim_haloprop  = halo_mass,\\\n",
    "                                                                  sec_haloprop = halo_sec,\\\n",
    "                                                                  prim_haloprop_bin_boundaries = mass_bins)\n",
    "    \n",
    "    #host_conditional_sec_percentiles = np.zeros((len(galcat),))\n",
    "    #host_halocat_idxs = np.in1d(halocat['halo_id'], galcat['halo_hostid'], assume_unique=True)\n",
    "    #print len(galcat), np.sum(host_halocat_idxs)\n",
    "    #host_sort_idxs = np.argsort(galcat['halo_hostid'])\n",
    "    #sort_idxs = np.argsort(halocat[host_halocat_idxs]['halo_id'])\n",
    "    #host_conditional_sec_percentiles[host_sort_idxs] = conditional_sec_percentiles[host_halocat_idxs][sort_idxs]\n",
    "\n",
    "    host_conditional_sec_percentiles = conditional_sec_percentiles[host_halos]\n",
    "\n",
    "    mean_ncen = np.zeros((len(mass_bins)-1, len(conc_bins)-1))\n",
    "    mean_nsat = np.zeros((len(mass_bins)-1, len(conc_bins)-1))\n",
    "    \n",
    "    mass_bin_nos = range(len(mass_bins)-1)#,1)\n",
    "    for bin_no in mass_bin_nos:\n",
    "        bin_center = np.mean(mass_bins[bin_no-1:bin_no+1])\n",
    "        indices_of_host_mb = np.where(host_mass_bin_idxs == bin_no)[0]\n",
    "        indices_of_mb = np.where(mass_bin_idxs == bin_no)[0]\n",
    "\n",
    "        if len(indices_of_mb) == 0 or len(indices_of_host_mb) == 0:\n",
    "            continue\n",
    "            \n",
    "        #print np.sum(~np.isfinite(halo_sec[host_conditional_sec_percentiles<0.9])),\n",
    "        #print np.sum(~np.isfinite(halo_sec[host_conditional_sec_percentiles>0.9]))\n",
    "\n",
    "            \n",
    "        #print len(indices_of_mb), len(indices_of_host_mb)\n",
    "        (binned_cens, c_bins,_), (binned_sats,_,_) = binned_statistic(host_conditional_sec_percentiles[indices_of_host_mb],\\\n",
    "                                                                      cens_occ[indices_of_host_mb],bins=conc_bins, statistic='sum'), \\\n",
    "                                   binned_statistic(host_conditional_sec_percentiles[indices_of_host_mb],\\\n",
    "                                                                      sats_occ[indices_of_host_mb],bins=conc_bins,statistic='sum')\n",
    "\n",
    "        binned_halos, _, _ = binned_statistic(conditional_sec_percentiles[indices_of_mb],\n",
    "                                                 None, bins=conc_bins, statistic='count')\n",
    "        \n",
    "        mean_ncen[bin_no-1,:] = binned_cens/binned_halos\n",
    "        mean_nsat[bin_no-1,:] = binned_sats/binned_halos\n",
    "        \n",
    "        # NOTE these don't do anytng cuz there are no halos in these bins!\n",
    "        if np.any(np.isnan(mean_ncen[bin_no-1,:])):\n",
    "            mean_ncen[bin_no-1,np.isnan(mean_ncen[bin_no-1,:])] = 0.0#np.sum(binne)\n",
    "            \n",
    "        if np.any(np.isnan(mean_nsat[bin_no-1,:])):\n",
    "            mean_nsat[bin_no-1,np.isnan(mean_nsat[bin_no-1,:] )] = 0.0#sat_hod[bin_no-1]\n",
    "            \n",
    "    return mean_ncen, mean_nsat"
   ]
  },
  {
   "cell_type": "code",
   "execution_count": null,
   "metadata": {
    "collapsed": true
   },
   "outputs": [],
   "source": [
    "#TODO what is up with the last bin? \n",
    "conc_bins = np.linspace(0,1,41)\n",
    "sham_cen_2dhod, sham_sat_2dhod = calc_2dhod(mass_bins, conc_bins, 'halo_nfw_conc', cat2.halocat.halo_table,\n",
    "                                        cens_occ, sats_occ)"
   ]
  },
  {
   "cell_type": "markdown",
   "metadata": {},
   "source": [
    "## TODO whats up with the high mass end? "
   ]
  },
  {
   "cell_type": "code",
   "execution_count": null,
   "metadata": {
    "collapsed": true
   },
   "outputs": [],
   "source": [
    "plt.plot(mass_bin_centers, sham_cen_hod)\n",
    "plt.plot(mass_bin_centers, np.nanmean(sham_cen_2dhod, axis =1))\n",
    "#plt.plot(mass_bin_centers, np.nanmean(sham_cen_hod_v2, axis =1))\n",
    "\n",
    "plt.loglog();"
   ]
  },
  {
   "cell_type": "code",
   "execution_count": null,
   "metadata": {
    "collapsed": true
   },
   "outputs": [],
   "source": [
    "plt.plot(mass_bin_centers, sham_sat_hod)\n",
    "plt.plot(mass_bin_centers, np.nanmean(sham_sat_2dhod, axis =1))\n",
    "plt.loglog();"
   ]
  },
  {
   "cell_type": "code",
   "execution_count": null,
   "metadata": {
    "collapsed": true
   },
   "outputs": [],
   "source": [
    "cat2.load_model(1.0, HOD=(Tabulated2DCens, Tabulated2DSats), hod_kwargs = {'prim_haloprop_bins': mass_bins,\n",
    "                                                               'sec_haloprop_perc_bins': conc_bins,\n",
    "                                                                'sec_haloprop_key': 'halo_nfw_conc',\n",
    "                                                               'cen_hod_vals':sham_cen_2dhod,\n",
    "                                                               'sat_hod_vals':sham_sat_2dhod})"
   ]
  },
  {
   "cell_type": "code",
   "execution_count": null,
   "metadata": {
    "collapsed": true
   },
   "outputs": [],
   "source": [
    "cat2.populate()"
   ]
  },
  {
   "cell_type": "code",
   "execution_count": null,
   "metadata": {
    "collapsed": true
   },
   "outputs": [],
   "source": [
    "xi_2d = cat2.calc_xi(rbins)"
   ]
  },
  {
   "cell_type": "code",
   "execution_count": null,
   "metadata": {
    "collapsed": true
   },
   "outputs": [],
   "source": [
    "plt.plot(rbc, sham_xi, label = 'SHAM', color = model_color_map['SHAM'][0])\n",
    "plt.plot(rbc, xi_2d, label = '2DHOD', color = model_color_map['HOD'][0])\n",
    "\n",
    "#plt.plot(rbc, hod_xi)\n",
    "plt.legend(loc = 'best')\n",
    "#plt.ylim([0.9, 1.05])\n",
    "plt.xlabel(r\"$r$ [Mpc]\")\n",
    "plt.ylabel(r\"$\\xi_{*}(r)/\\xi_{SHAM}(r)$\")\n",
    "plt.loglog()"
   ]
  },
  {
   "cell_type": "code",
   "execution_count": null,
   "metadata": {
    "collapsed": true
   },
   "outputs": [],
   "source": [
    "plt.plot(rbc, sham_xi/sham_xi, label = 'SHAM', color = model_color_map['SHAM'][0])\n",
    "plt.plot(rbc, xi_2d/sham_xi, label = '2DHOD', color = model_color_map['HOD'][0])\n",
    "\n",
    "#plt.plot(rbc, hod_xi)\n",
    "plt.legend(loc = 'best')\n",
    "#plt.ylim([0.9, 1.05])\n",
    "plt.xlabel(r\"$r$ [Mpc]\")\n",
    "plt.ylabel(r\"$\\xi_{*}(r)/\\xi_{SHAM}(r)$\")\n",
    "plt.xscale('log')"
   ]
  },
  {
   "cell_type": "code",
   "execution_count": null,
   "metadata": {
    "collapsed": true
   },
   "outputs": [],
   "source": [
    "conc_bins = np.linspace(0,1,21)\n",
    "sham_cen_2dhod, sham_sat_2dhod = calc_2dhod(mass_bins, conc_bins, 'halo_vpeak', cat2.halocat.halo_table,\n",
    "                                        cens_occ, sats_occ)"
   ]
  },
  {
   "cell_type": "code",
   "execution_count": null,
   "metadata": {
    "collapsed": true
   },
   "outputs": [],
   "source": [
    "cat2.load_model(1.0, HOD=(Tabulated2DCens, Tabulated2DSats), hod_kwargs = {'prim_haloprop_bins': mass_bins,\n",
    "                                                               'sec_haloprop_perc_bins': conc_bins,\n",
    "                                                                'sec_haloprop_key': 'halo_nfw_conc',\n",
    "                                                               'cen_hod_vals':sham_cen_2dhod,\n",
    "                                                               'sat_hod_vals':sham_sat_2dhod})"
   ]
  },
  {
   "cell_type": "code",
   "execution_count": null,
   "metadata": {
    "collapsed": true
   },
   "outputs": [],
   "source": [
    "cat2.populate()"
   ]
  },
  {
   "cell_type": "code",
   "execution_count": null,
   "metadata": {
    "collapsed": true
   },
   "outputs": [],
   "source": [
    "xi_2d_vpeak = cat2.calc_xi(rbins)"
   ]
  },
  {
   "cell_type": "code",
   "execution_count": null,
   "metadata": {
    "collapsed": true
   },
   "outputs": [],
   "source": [
    "plt.plot(rbc, sham_xi/sham_xi, label = 'SHAM', color = model_color_map['SHAM'][0])\n",
    "plt.plot(rbc, xi_2d/sham_xi, label = '2DHOD Conc', color = model_color_map['HOD'][0])\n",
    "plt.plot(rbc, xi_2d_vpeak/sham_xi, label = '2DHOD Vpeak', color = model_color_map['CorrAB'][0])\n",
    "\n",
    "#plt.plot(rbc, hod_xi)\n",
    "plt.legend(loc = 'best')\n",
    "#plt.ylim([0.9, 1.05])\n",
    "plt.xlabel(r\"$r$ [Mpc]\")\n",
    "plt.ylabel(r\"$\\xi_{*}(r)/\\xi_{SHAM}(r)$\")\n",
    "plt.xscale('log')"
   ]
  },
  {
   "cell_type": "markdown",
   "metadata": {},
   "source": [
    "---"
   ]
  },
  {
   "cell_type": "code",
   "execution_count": null,
   "metadata": {
    "collapsed": true
   },
   "outputs": [],
   "source": [
    "fig = plt.figure(figsize = (10,10))\n",
    "cbc = (conc_bins[1:]+conc_bins[:-1])/2.0\n",
    "mass_slice = np.logical_and(10**12.0 < mass_bin_centers, mass_bin_centers < 10**13.5)\n",
    "colors = sns.color_palette(model_color_map['SHAM'][1], len(mass_bin_centers[mass_slice]))\n",
    "for idx, (row,c,m) in enumerate(zip(sham_cen_2dhod[mass_slice], colors, mass_bin_centers[mass_slice])):\n",
    "    if idx%2!=0:\n",
    "        continue\n",
    "    plt.plot(cbc, row, color = c, label = r'%.1f $\\log M_{\\odot}$'%np.log10(m))\n",
    "    \n",
    "#plt.ylim(-0.2,1.2)\n",
    "plt.xlim(-0.2, 1.2);\n",
    "plt.xlabel('%s percentile'%r\"$V_{peak}$\")\n",
    "plt.ylabel(r'$<N_{cen}(x)|M>$')\n",
    "plt.yscale('log')\n",
    "plt.ylim([0.1, 1.1])\n",
    "plt.legend(loc='best')"
   ]
  },
  {
   "cell_type": "code",
   "execution_count": null,
   "metadata": {
    "collapsed": true
   },
   "outputs": [],
   "source": [
    "fig = plt.figure(figsize = (10,10))\n",
    "cbc = (conc_bins[1:]+conc_bins[:-1])/2.0\n",
    "mass_slice = np.logical_and(10**12.0 < mass_bin_centers, mass_bin_centers < 10**14.5)\n",
    "colors = sns.color_palette(model_color_map['SHAM'][1], len(mass_bin_centers[mass_slice]))\n",
    "for idx, (row,c,m) in enumerate(zip(sham_sat_2dhod[mass_slice], colors, mass_bin_centers[mass_slice])):\n",
    "    if idx%2!=0:\n",
    "        continue\n",
    "    plt.plot(cbc, row, color = c, label = r'%.1f $\\log M_{\\odot}$'%np.log10(m))\n",
    "    \n",
    "#plt.ylim(-0.2,1.2)\n",
    "plt.xlim(-0.2, 1.2);\n",
    "plt.xlabel('%s percentile'%r\"$V_{peak}$\")\n",
    "plt.ylabel(r'$<N_{sat}(x)|M>$')\n",
    "plt.yscale('log')\n",
    "#plt.ylim([0.1, 1.1])\n",
    "plt.legend(loc='best')"
   ]
  },
  {
   "cell_type": "code",
   "execution_count": null,
   "metadata": {
    "collapsed": true
   },
   "outputs": [],
   "source": [
    "cat2.load_model(1.0, HOD='corrZheng07', hod_kwargs = {'prim_haloprop_vals': mass_bin_centers,\n",
    "                                                               'sec_haloprop_key': 'halo_vpeak',#%(mag_type),\n",
    "                                                               'cen_hod_vals':sham_cen_hod,\n",
    "                                                               'sat_hod_vals':sham_sat_hod} )\n",
    "ab_dict = {'mean_occupation_centrals_assembias_corr1':1.0,\n",
    "                                       'mean_occupation_satellites_assembias_corr1':-1.0}\n",
    "cat2.model.param_dict.update(ab_dict)\n",
    "cat2.populate(min_ptcl=100)\n"
   ]
  },
  {
   "cell_type": "code",
   "execution_count": null,
   "metadata": {
    "collapsed": true
   },
   "outputs": [],
   "source": [
    "cens_occ_hod, sats_occ_hod = compute_occupations(cat2.halocat.halo_table, cat2.model.mock.galaxy_table)"
   ]
  },
  {
   "cell_type": "code",
   "execution_count": null,
   "metadata": {
    "collapsed": true
   },
   "outputs": [],
   "source": [
    "hod_cen_2dhod, hod_sat_2dhod = calc_2dhod(mass_bins, conc_bins, 'halo_vpeak', cat2.halocat.halo_table,\n",
    "                                        cens_occ_hod, sats_occ_hod)"
   ]
  },
  {
   "cell_type": "code",
   "execution_count": null,
   "metadata": {
    "collapsed": true
   },
   "outputs": [],
   "source": [
    "fig = plt.figure(figsize = (10,10))\n",
    "cbc = (conc_bins[1:]+conc_bins[:-1])/2.0\n",
    "mass_slice = np.logical_and(10**11.5 < mass_bin_centers, mass_bin_centers < 10**13.5)\n",
    "colors = sns.color_palette(model_color_map['CorrAB'][1], len(mass_bin_centers[mass_slice]))\n",
    "for idx, (row,c,m) in enumerate(zip(hod_cen_2dhod[mass_slice], colors, mass_bin_centers[mass_slice])):\n",
    "    if idx%2!=0:\n",
    "        continue\n",
    "    plt.plot(cbc, row, color = c, label = r'%.1f $\\log M_{\\odot}$'%np.log10(m))\n",
    "    \n",
    "plt.ylim(0.1,1.1)\n",
    "plt.xlim(-0.2, 1.2);\n",
    "plt.xlabel('%s percentile'%r\"$V_{peak}$\")\n",
    "plt.ylabel(r'$<N_{cen}(c)|M>$')\n",
    "plt.yscale('log')\n",
    "plt.legend(loc='best')"
   ]
  },
  {
   "cell_type": "code",
   "execution_count": null,
   "metadata": {
    "collapsed": true
   },
   "outputs": [],
   "source": [
    "fig = plt.figure(figsize = (10,10))\n",
    "cbc = (conc_bins[1:]+conc_bins[:-1])/2.0\n",
    "mass_slice = np.logical_and(10**11.5 < mass_bin_centers, mass_bin_centers < 10**13.5)\n",
    "colors = sns.color_palette(model_color_map['CorrAB'][1], len(mass_bin_centers[mass_slice]))\n",
    "for idx, (row,c,m) in enumerate(zip(hod_sat_2dhod[mass_slice], colors, mass_bin_centers[mass_slice])):\n",
    "    if idx%2!=0:\n",
    "        continue\n",
    "    plt.plot(cbc, row, color = c, label = r'%.1f $\\log M_{\\odot}$'%np.log10(m))\n",
    "    \n",
    "#plt.ylim(0.1,1.1)\n",
    "plt.xlim(-0.2, 1.2);\n",
    "plt.xlabel('%s percentile'%r\"$V_{peak}$\")\n",
    "plt.ylabel(r'$<N_{cen}(c)|M>$')\n",
    "plt.yscale('log')\n",
    "plt.legend(loc='best')"
   ]
  },
  {
   "cell_type": "code",
   "execution_count": null,
   "metadata": {
    "collapsed": true
   },
   "outputs": [],
   "source": [
    "cat2.load_model(1.0, HOD='hsabZheng07', hod_kwargs = {'prim_haloprop_vals': mass_bin_centers,\n",
    "                                                               'sec_haloprop_key': 'halo_vpeak',\n",
    "                                                               'cen_hod_vals':sham_cen_hod,\n",
    "                                                               'sat_hod_vals':sham_sat_hod} )\n",
    "ab_dict = {'mean_occupation_centrals_assembias_param1':1.0,\n",
    "                                       'mean_occupation_satellites_assembias_param1':-1.0}\n",
    "cat2.model.param_dict.update(ab_dict)\n",
    "cat2.populate(min_ptcl=100)\n"
   ]
  },
  {
   "cell_type": "code",
   "execution_count": null,
   "metadata": {
    "collapsed": true
   },
   "outputs": [],
   "source": [
    "cens_occ_hod, sats_occ_hod = compute_occupations(cat2.halocat.halo_table, cat2.model.mock.galaxy_table)"
   ]
  },
  {
   "cell_type": "code",
   "execution_count": null,
   "metadata": {
    "collapsed": true
   },
   "outputs": [],
   "source": [
    "hod_cen_2dhod, hod_sat_2dhod = calc_2dhod(mass_bins, conc_bins, 'halo_vpeak', cat2.halocat.halo_table,\n",
    "                                        cens_occ_hod, sats_occ_hod)"
   ]
  },
  {
   "cell_type": "code",
   "execution_count": null,
   "metadata": {
    "collapsed": true
   },
   "outputs": [],
   "source": [
    "fig = plt.figure(figsize = (10,10))\n",
    "cbc = (conc_bins[1:]+conc_bins[:-1])/2.0\n",
    "mass_slice = np.logical_and(10**11.5 < mass_bin_centers, mass_bin_centers < 10**13.5)\n",
    "colors = sns.color_palette(model_color_map['HSAB'][1], len(mass_bin_centers[mass_slice]))\n",
    "for idx, (row,c,m) in enumerate(zip(hod_cen_2dhod[mass_slice], colors, mass_bin_centers[mass_slice])):\n",
    "    if idx%2!=0:\n",
    "        continue\n",
    "    plt.plot(cbc, row, color = c, label = r'%.1f $\\log M_{\\odot}$'%np.log10(m))\n",
    "    \n",
    "plt.ylim(0.1,1.1)\n",
    "plt.xlim(-0.2, 1.2);\n",
    "plt.xlabel('%s percentile'%r\"$V_{peak}$\")\n",
    "plt.ylabel(r'$<N_{cen}(c)|M>$')\n",
    "#plt.yscale('log')\n",
    "plt.legend(loc='best')"
   ]
  },
  {
   "cell_type": "code",
   "execution_count": null,
   "metadata": {
    "collapsed": true
   },
   "outputs": [],
   "source": []
  },
  {
   "cell_type": "code",
   "execution_count": null,
   "metadata": {
    "collapsed": true
   },
   "outputs": [],
   "source": []
  }
 ],
 "metadata": {
  "kernelspec": {
   "display_name": "Python 2",
   "language": "python",
   "name": "python2"
  },
  "language_info": {
   "codemirror_mode": {
    "name": "ipython",
    "version": 2
   },
   "file_extension": ".py",
   "mimetype": "text/x-python",
   "name": "python",
   "nbconvert_exporter": "python",
   "pygments_lexer": "ipython2",
   "version": "2.7.13"
  }
 },
 "nbformat": 4,
 "nbformat_minor": 1
}

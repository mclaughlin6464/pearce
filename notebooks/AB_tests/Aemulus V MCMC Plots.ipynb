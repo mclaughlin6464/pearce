{
 "cells": [
  {
   "cell_type": "code",
   "execution_count": 43,
   "metadata": {
    "collapsed": true
   },
   "outputs": [],
   "source": [
    "import matplotlib\n",
    "#matplotlib.use('Agg')\n",
    "from matplotlib import pyplot as plt\n",
    "%matplotlib inline\n",
    "import seaborn as sns\n",
    "#sns.set()"
   ]
  },
  {
   "cell_type": "code",
   "execution_count": 44,
   "metadata": {
    "collapsed": false
   },
   "outputs": [],
   "source": [
    "import numpy as np\n",
    "import h5py\n",
    "from chainconsumer import ChainConsumer\n",
    "from glob import glob\n",
    "from os import path\n",
    "from copy import deepcopy\n",
    "from collections import OrderedDict\n",
    "from os.path import basename"
   ]
  },
  {
   "cell_type": "code",
   "execution_count": 45,
   "metadata": {
    "collapsed": false
   },
   "outputs": [
    {
     "name": "stdout",
     "output_type": "stream",
     "text": [
      "-rw-r--r-- 1 swmclau2 des 165278159 Aug  7 11:55 /u/ki/swmclau2/des/PearceMCMC/SHUFFLED_SHAM_wp_ds_rmin_5.0_HOD.hdf5\r\n",
      "-rw-r--r-- 1 swmclau2 des 170157065 Aug  7 11:55 /u/ki/swmclau2/des/PearceMCMC/SHUFFLED_SHAM_wp_ds_rmin_1.0_HOD.hdf5\r\n",
      "-rw-r--r-- 1 swmclau2 des 185047722 Aug  7 11:55 /u/ki/swmclau2/des/PearceMCMC/SHUFFLED_SHAM_wp_ds_rmin_0.5_HOD.hdf5\r\n",
      "-rw-r--r-- 1 swmclau2 des 136435329 Aug  7 11:55 /u/ki/swmclau2/des/PearceMCMC/SHUFFLED_SHAM_wp_ds_rmin_None_HOD.hdf5\r\n"
     ]
    }
   ],
   "source": [
    "! ls -ltr ~/des/PearceMCMC/SHUFFLED_SHAM_*rmin_*.hdf5"
   ]
  },
  {
   "cell_type": "code",
   "execution_count": 46,
   "metadata": {
    "collapsed": true
   },
   "outputs": [],
   "source": [
    "fnames = sorted(glob('/u/ki/swmclau2/des/PearceMCMC/HOD_MDPL2_wp_ds_rmin_*_CorrAB.hdf5'))"
   ]
  },
  {
   "cell_type": "raw",
   "metadata": {
    "collapsed": true
   },
   "source": [
    "fnames = ['/u/ki/swmclau2/des/PearceMCMC/HOD_MDPL2_wp_rmin_0.5_HOD.hdf5',\\\n",
    "          '/u/ki/swmclau2/des/PearceMCMC/HOD_MDPL2_ds_rmin_0.5_HOD.hdf5',\\\n",
    "         '/u/ki/swmclau2/des/PearceMCMC/HOD_MDPL2_wp_ds_rmin_0.5_HOD.hdf5']"
   ]
  },
  {
   "cell_type": "raw",
   "metadata": {
    "collapsed": true
   },
   "source": [
    "fnames = [ '/u/ki/swmclau2/des/PearceMCMC/HSAB_MDPL2_wp_ds_rmin_5.0_HOD.hdf5',\n",
    "         '/u/ki/swmclau2/des/PearceMCMC/HSAB_MDPL2_wp_ds_rmin_0.5_HOD.hdf5']"
   ]
  },
  {
   "cell_type": "raw",
   "metadata": {
    "collapsed": true
   },
   "source": [
    "fnames = [ '/u/ki/swmclau2/des/PearceMCMC/HOD_MDPL2_wp_ds_rmin_None_HOD.hdf5',\n",
    "          #'/u/ki/swmclau2/des/PearceMCMC/HSAB_MDPL2_wp_ds_rmin_0.5_HOD.hdf5',\n",
    "         #'/u/ki/swmclau2/des/PearceMCMC/VpeakSHAM_wp_ds_rmin_0.5_HOD.hdf5',\n",
    "         '/u/ki/swmclau2/des/PearceMCMC/UniverseMachine_wp_ds_rmin_None_HOD.hdf5']"
   ]
  },
  {
   "cell_type": "raw",
   "metadata": {
    "collapsed": false
   },
   "source": [
    "fnames = ['/u/ki/swmclau2/des/PearceMCMC/%s_wp_ds_rmin_%s_HOD.hdf5'%(s,r) for s,r in \n",
    "                                                              zip(['HOD_MDPL2','TAB_HOD'],\n",
    "                                                                  ['0.5', 'None'])]"
   ]
  },
  {
   "cell_type": "raw",
   "metadata": {
    "collapsed": false
   },
   "source": [
    "fnames = ['/u/ki/swmclau2/des/PearceMCMC/%s_wp_ds_rmin_1.0_HOD.hdf5'%(s) for s in \n",
    "                                                              ['TAB_HOD','NFWIZED_SHAM',\\\n",
    "                                                                   'SHUFFLED_SHAM', 'VpeakSHAM'] ]"
   ]
  },
  {
   "cell_type": "markdown",
   "metadata": {},
   "source": [
    "Assume all chains run with same true values, only thing that differs is the rmin. "
   ]
  },
  {
   "cell_type": "code",
   "execution_count": 47,
   "metadata": {
    "collapsed": false
   },
   "outputs": [
    {
     "data": {
      "text/plain": [
       "['/u/ki/swmclau2/des/PearceMCMC/HOD_MDPL2_wp_ds_rmin_0.5_CorrAB.hdf5',\n",
       " '/u/ki/swmclau2/des/PearceMCMC/HOD_MDPL2_wp_ds_rmin_1.0_CorrAB.hdf5',\n",
       " '/u/ki/swmclau2/des/PearceMCMC/HOD_MDPL2_wp_ds_rmin_2.0_CorrAB.hdf5',\n",
       " '/u/ki/swmclau2/des/PearceMCMC/HOD_MDPL2_wp_ds_rmin_5.0_CorrAB.hdf5',\n",
       " '/u/ki/swmclau2/des/PearceMCMC/HOD_MDPL2_wp_ds_rmin_None_CorrAB.hdf5']"
      ]
     },
     "execution_count": 47,
     "metadata": {},
     "output_type": "execute_result"
    }
   ],
   "source": [
    "fnames"
   ]
  },
  {
   "cell_type": "raw",
   "metadata": {
    "collapsed": true
   },
   "source": [
    "fnames = list(reversed(fnames))"
   ]
  },
  {
   "cell_type": "code",
   "execution_count": 48,
   "metadata": {
    "collapsed": false
   },
   "outputs": [],
   "source": [
    "if len(fnames)>4:\n",
    "    _fnames = fnames[:-3]\n",
    "    _fnames.extend(fnames[-2:])\n",
    "    fnames = _fnames"
   ]
  },
  {
   "cell_type": "code",
   "execution_count": 49,
   "metadata": {
    "collapsed": false
   },
   "outputs": [],
   "source": [
    "_fnames = []\n",
    "_fnames.extend(reversed(fnames[:-1]) )\n",
    "_fnames.append(fnames[-1])\n",
    "fnames = _fnames"
   ]
  },
  {
   "cell_type": "code",
   "execution_count": 50,
   "metadata": {
    "collapsed": false
   },
   "outputs": [
    {
     "data": {
      "text/plain": [
       "['/u/ki/swmclau2/des/PearceMCMC/HOD_MDPL2_wp_ds_rmin_5.0_CorrAB.hdf5',\n",
       " '/u/ki/swmclau2/des/PearceMCMC/HOD_MDPL2_wp_ds_rmin_1.0_CorrAB.hdf5',\n",
       " '/u/ki/swmclau2/des/PearceMCMC/HOD_MDPL2_wp_ds_rmin_0.5_CorrAB.hdf5',\n",
       " '/u/ki/swmclau2/des/PearceMCMC/HOD_MDPL2_wp_ds_rmin_None_CorrAB.hdf5']"
      ]
     },
     "execution_count": 50,
     "metadata": {},
     "output_type": "execute_result"
    }
   ],
   "source": [
    "fnames"
   ]
  },
  {
   "cell_type": "code",
   "execution_count": 51,
   "metadata": {
    "collapsed": true
   },
   "outputs": [],
   "source": [
    "model = path.basename(fnames[0]).split('_')[-1].split('.')[0]\n",
    "#model = path.basename(fnames[0]).split('_')[-2]#.split('.')[0]"
   ]
  },
  {
   "cell_type": "code",
   "execution_count": 52,
   "metadata": {
    "collapsed": false
   },
   "outputs": [
    {
     "data": {
      "text/plain": [
       "'CorrAB'"
      ]
     },
     "execution_count": 52,
     "metadata": {},
     "output_type": "execute_result"
    }
   ],
   "source": [
    "model"
   ]
  },
  {
   "cell_type": "code",
   "execution_count": 53,
   "metadata": {
    "collapsed": false
   },
   "outputs": [],
   "source": [
    "f = h5py.File(fnames[0], 'r')"
   ]
  },
  {
   "cell_type": "code",
   "execution_count": 54,
   "metadata": {
    "collapsed": false
   },
   "outputs": [
    {
     "data": {
      "text/plain": [
       "[u'chain_fixed_params',\n",
       " u'cov',\n",
       " u'dlogz',\n",
       " u'emu_cov_fname',\n",
       " u'emu_hps',\n",
       " u'emu_type',\n",
       " u'fixed_params',\n",
       " u'mcmc_type',\n",
       " u'nburn',\n",
       " u'nlive',\n",
       " u'nsteps',\n",
       " u'nwalkers',\n",
       " u'obs',\n",
       " u'param_names',\n",
       " u'seed',\n",
       " u'sim',\n",
       " u'training_file',\n",
       " u'true_cov_fname',\n",
       " u'true_data_fname']"
      ]
     },
     "execution_count": 54,
     "metadata": {},
     "output_type": "execute_result"
    }
   ],
   "source": [
    "f.attrs.keys()"
   ]
  },
  {
   "cell_type": "code",
   "execution_count": 55,
   "metadata": {
    "collapsed": false
   },
   "outputs": [],
   "source": [
    "n_walkers = f.attrs['nwalkers']"
   ]
  },
  {
   "cell_type": "code",
   "execution_count": 56,
   "metadata": {
    "collapsed": true
   },
   "outputs": [],
   "source": [
    "chain_pnames = list(f.attrs['param_names'])"
   ]
  },
  {
   "cell_type": "code",
   "execution_count": 57,
   "metadata": {
    "collapsed": false
   },
   "outputs": [],
   "source": [
    "chain_pnames.extend(['Om', 'S8']) # temporary"
   ]
  },
  {
   "cell_type": "code",
   "execution_count": 58,
   "metadata": {
    "collapsed": false
   },
   "outputs": [],
   "source": [
    "sim_info = eval(f.attrs['sim'])\n",
    "#sim_info = f.attrs['sim']"
   ]
  },
  {
   "cell_type": "code",
   "execution_count": 59,
   "metadata": {
    "collapsed": true
   },
   "outputs": [],
   "source": [
    "#gal_type = eval(f.attrs['sim'])['gal_type']\n",
    "if basename(fnames[0])[:3] == 'HOD' and basename(fnames[0])[4:9] != 'MDPL2':\n",
    "    gal_type = 'HOD'\n",
    "else:\n",
    "    gal_type = 'SHAM'#'HOD'"
   ]
  },
  {
   "cell_type": "code",
   "execution_count": 60,
   "metadata": {
    "collapsed": true
   },
   "outputs": [],
   "source": [
    "f.close()"
   ]
  },
  {
   "cell_type": "code",
   "execution_count": 61,
   "metadata": {
    "collapsed": false
   },
   "outputs": [
    {
     "data": {
      "text/plain": [
       "['ombh2',\n",
       " 'omch2',\n",
       " 'w0',\n",
       " 'ns',\n",
       " 'H0',\n",
       " 'Neff',\n",
       " 'sigma8',\n",
       " 'mean_occupation_centrals_assembias_corr1',\n",
       " 'logM0',\n",
       " 'sigma_logM',\n",
       " 'mean_occupation_satellites_assembias_corr1',\n",
       " 'logM1',\n",
       " 'alpha',\n",
       " 'conc_gal_bias',\n",
       " 'Om',\n",
       " 'S8']"
      ]
     },
     "execution_count": 61,
     "metadata": {},
     "output_type": "execute_result"
    }
   ],
   "source": [
    "chain_pnames"
   ]
  },
  {
   "cell_type": "code",
   "execution_count": 62,
   "metadata": {
    "collapsed": true
   },
   "outputs": [],
   "source": [
    "param_name_dict = {'ombh2': r'$\\Omega_b h^2$', 'omch2': r'$\\Omega_c h^2$','w0': r'$w_0$','ns': r'$n_s$', \\\n",
    "                   'sigma8': r'$\\sigma_8$', 'ln10As':r'$\\ln 10^{10} A_s$', 'H0': r'$H_0$','Neff': r'$N_{eff}$',\\\n",
    "               'mean_occupation_centrals_assembias_corr1': r'$\\rho_{cen}$',\\\n",
    "                 'mean_occupation_satellites_assembias_corr1':r'$\\rho_{sat}$',\\\n",
    "                   'mean_occupation_centrals_assembias_param1': r'$\\mathcal{A}_{cen}$',\\\n",
    "                 'mean_occupation_satellites_assembias_param1':r'$\\mathcal{A}_{sat}$',\\\n",
    "                   'mean_occupation_centrals_assembias_slope1': r'$\\mathcal{B}_{cen}$',\\\n",
    "                 'mean_occupation_satellites_assembias_slope1':r'$\\mathcal{B}_{sat}$',\\\n",
    "                   'logM1': r'$\\log(M_1)$','logM0': r'$\\log(M_0)$',\n",
    "                   'sigma_logM': r'$\\sigma_{\\log M }$',\n",
    "                   'conc_gal_bias': r'$\\eta$', 'alpha':r'$\\alpha$',\n",
    "                  'Om': r'$\\Omega_m$', 'S8': r'$S_8$'}"
   ]
  },
  {
   "cell_type": "code",
   "execution_count": 63,
   "metadata": {
    "collapsed": false
   },
   "outputs": [],
   "source": [
    "bounds_dict = {'H0': (61.69472, 74.76751999999999),\n",
    " 'Neff': (2.62125, 4.27875),\n",
    " 'alpha': (0.7, 1.3),\n",
    " 'conc_gal_bias': (0.5, 2.0),\n",
    " 'sigma8': (0.65, 1.0), # TODO update\n",
    " 'logM0': (12.6, 13.6),\n",
    " 'logM1': (13.7, 14.7),\n",
    " 'ns': (0.9278462, 0.9974495999999999),\n",
    " 'ombh2': (0.02066455, 0.02371239),\n",
    " 'omch2': (0.1012181, 0.13177679999999997),\n",
    " 'sigma_logM': (0.05, 0.6),\n",
    " 'ln10As': (3.0, 3.1),\n",
    " 'w0': (-1.399921, -0.5658486),\n",
    " 'Om': (0.25, 0.35),\n",
    " 'S8': (0.7, 1.0),\n",
    " #'Om': (0.15, 0.4),\n",
    " #'S8': (0.5, 1.1),\n",
    " 'mean_occupation_centrals_assembias_corr1': (-1.0, 1.0),\n",
    " 'mean_occupation_satellites_assembias_corr1': (-1.0, 1.0),\n",
    " 'mean_occupation_centrals_assembias_param1': (-1.0, 1.0),\n",
    " 'mean_occupation_satellites_assembias_param1': (-1.0, 1.0),\n",
    " 'mean_occupation_centrals_assembias_slope1': (-3.0, 3.0),\n",
    " 'mean_occupation_satellites_assembias_slope1': (-3.0, 3.0)}"
   ]
  },
  {
   "cell_type": "code",
   "execution_count": 64,
   "metadata": {
    "collapsed": false
   },
   "outputs": [],
   "source": [
    "hod_param_names = []\n",
    "cosmo_param_names = []\n",
    "\n",
    "hod_bounds = []\n",
    "cosmo_bounds = []\n",
    "cosmo_names = set(['ombh2', 'omch2', 'w0', 'ns', 'sigma8', 'H0', 'Neff', 'ln10As', 'Om', 'S8'])\n",
    "for pname in chain_pnames:\n",
    "    if pname in cosmo_names:\n",
    "        cosmo_param_names.append(param_name_dict[pname])\n",
    "        cosmo_bounds.append(bounds_dict[pname])\n",
    "    else:\n",
    "        hod_param_names.append(param_name_dict[pname])\n",
    "        hod_bounds.append(bounds_dict[pname])\n",
    "param_names = deepcopy(cosmo_param_names)\n",
    "param_names.extend(hod_param_names)\n",
    "\n",
    "bounds = deepcopy(cosmo_bounds)\n",
    "bounds.extend(hod_bounds)"
   ]
  },
  {
   "cell_type": "code",
   "execution_count": 65,
   "metadata": {
    "collapsed": false
   },
   "outputs": [],
   "source": [
    "c = ChainConsumer()"
   ]
  },
  {
   "cell_type": "raw",
   "metadata": {},
   "source": [
    "modify_chain = lambda x,y : x,y # default, do nothing"
   ]
  },
  {
   "cell_type": "code",
   "execution_count": 66,
   "metadata": {
    "collapsed": true
   },
   "outputs": [],
   "source": [
    "def modify_chain(chain, param_names):\n",
    "    new_pnames = ['Om', 'S8']\n",
    "    h = chain[:,param_names.index('H0')]/100\n",
    "    \n",
    "    Omc, Omb = chain[:,param_names.index('omch2')]/(h**2), chain[:,param_names.index('ombh2')]/(h**2)\n",
    "    Om = Omc+Omb\n",
    "    \n",
    "    S8 = chain[:,param_names.index('sigma8')]*np.sqrt(Om/0.3)\n",
    "\n",
    "    new_chain = np.hstack([chain[:,:7], Om.reshape((-1,1)), S8.reshape((-1,1)), chain[:,7:]])\n",
    "    param_names.insert(7, new_pnames[0])\n",
    "    param_names.insert(8, new_pnames[1])\n",
    "\n",
    "    return new_chain, param_names"
   ]
  },
  {
   "cell_type": "code",
   "execution_count": 67,
   "metadata": {
    "collapsed": false
   },
   "outputs": [
    {
     "name": "stdout",
     "output_type": "stream",
     "text": [
      "/u/ki/swmclau2/des/PearceMCMC/HOD_MDPL2_wp_ds_rmin_5.0_CorrAB.hdf5\n",
      "(12500000, 16) 50000 16\n",
      "/u/ki/swmclau2/des/PearceMCMC/HOD_MDPL2_wp_ds_rmin_1.0_CorrAB.hdf5\n",
      "(12500000, 16) 50000 16\n",
      "/u/ki/swmclau2/des/PearceMCMC/HOD_MDPL2_wp_ds_rmin_0.5_CorrAB.hdf5\n",
      "(12500000, 16) 50000 16\n",
      "/u/ki/swmclau2/des/PearceMCMC/HOD_MDPL2_wp_ds_rmin_None_CorrAB.hdf5\n",
      "(12500000, 16) 50000 16\n"
     ]
    }
   ],
   "source": [
    "n_burn = 1000\n",
    "global_chain_pnames = []\n",
    "global_hod_pnames = []\n",
    "#for name, fname in zip(['wp','ds','wpds'], fnames):\n",
    "for fname in fnames:\n",
    "#for fname in [fnames[0], fnames[3]]:\n",
    "    #try:\n",
    "    f = h5py.File(fname, 'r')\n",
    "\n",
    "    chain = f['chain'][n_burn*n_walkers:]\n",
    "    lnprob = f['lnprob'][n_burn*n_walkers:]\n",
    "    keep_idxs = np.all(chain!=0.0, axis = 1)\n",
    "    chain = chain[keep_idxs, :]\n",
    "    lnprob = lnprob[keep_idxs]\n",
    "    #except:\n",
    "    #    print 'Error loading', fname\n",
    "    #    continue\n",
    "    \n",
    "\n",
    "    chain = chain.reshape((-1, n_walkers, chain.shape[1]))\n",
    "    #print chain.shape\n",
    "    chain = chain.reshape((-1, chain.shape[2]), order = 'F')\n",
    "    lnprob = lnprob.reshape((-1, n_walkers)).reshape((-1,), order = 'F')\n",
    "    \n",
    "    if np.any(np.isnan(lnprob)) or np.any(~np.isfinite(lnprob)):\n",
    "        lnprob[np.isnan(lnprob)] = -1e9\n",
    "        lnprob[~np.isfinite(lnprob)] = -1e9\n",
    "    #chain = chain[:, 0, :]\n",
    "    if chain.shape[0] == 0:\n",
    "        print 'Insufficient samples in', fname\n",
    "        continue\n",
    "    \n",
    "    #name = path.basename(fname).split('_')[-1].split('.')[0]\n",
    "    name = path.basename(fname).split('_')[-2]#[4][5]\n",
    "    #name = path.basename(fname).split('_')[0]\n",
    "    #name = path.basename(fname).split('_')[-4]#[4][5]\n",
    "\n",
    "    if name == \"None\":\n",
    "        name = \"0.1\"\n",
    "        \n",
    "    name = r\"$r_{min} = %s$\"%name\n",
    "    \n",
    "    hod_param_names = []\n",
    "    cosmo_param_names = []\n",
    "    chain_pnames = list(f.attrs['param_names'])\n",
    "    cosmo_names = set(['ombh2', 'omch2', 'w0', 'ns', 'sigma8', 'H0', 'Neff', 'Om', 'S8'])\n",
    "    \n",
    "    chain, chain_pnames = modify_chain(chain, chain_pnames)\n",
    "    max_steps = 50000\n",
    "    if chain.shape[0]/n_walkers > max_steps:\n",
    "        chain = chain[:max_steps*n_walkers]\n",
    "        lnprob = lnprob[:max_steps*n_walkers]\n",
    "    \n",
    "    for pname in chain_pnames:\n",
    "        if pname in cosmo_names:\n",
    "            cosmo_param_names.append(param_name_dict[pname])\n",
    "        else:\n",
    "            hod_param_names.append(param_name_dict[pname])\n",
    "\n",
    "    param_names = deepcopy(cosmo_param_names)\n",
    "    param_names.extend(hod_param_names)\n",
    "    print fname\n",
    "    print chain.shape, chain.shape[0]/n_walkers, len(param_names)\n",
    "    \n",
    "    \n",
    "    c.add_chain(chain, parameters=param_names, name = name, walkers = n_walkers,\n",
    "                posterior = lnprob)\n",
    "    f.close()\n",
    "\n",
    "    for cname in chain_pnames:\n",
    "        if cname not in global_chain_pnames:\n",
    "            global_chain_pnames.append(cname)\n",
    "            \n",
    "    for cname in hod_param_names:\n",
    "        if cname not in global_hod_pnames:\n",
    "            global_hod_pnames.append(cname) \n",
    "            \n",
    "chain_pnames = global_chain_pnames\n",
    "hod_param_names = global_hod_pnames"
   ]
  },
  {
   "cell_type": "code",
   "execution_count": 68,
   "metadata": {
    "collapsed": false
   },
   "outputs": [
    {
     "data": {
      "text/plain": [
       "['$\\\\Omega_b h^2$',\n",
       " '$\\\\Omega_c h^2$',\n",
       " '$w_0$',\n",
       " '$n_s$',\n",
       " '$H_0$',\n",
       " '$N_{eff}$',\n",
       " '$\\\\sigma_8$',\n",
       " '$\\\\Omega_m$',\n",
       " '$S_8$',\n",
       " '$\\\\rho_{cen}$',\n",
       " '$\\\\log(M_0)$',\n",
       " '$\\\\sigma_{\\\\log M }$',\n",
       " '$\\\\rho_{sat}$',\n",
       " '$\\\\log(M_1)$',\n",
       " '$\\\\alpha$',\n",
       " '$\\\\eta$']"
      ]
     },
     "execution_count": 68,
     "metadata": {},
     "output_type": "execute_result"
    }
   ],
   "source": [
    "param_names"
   ]
  },
  {
   "cell_type": "code",
   "execution_count": 69,
   "metadata": {
    "collapsed": true
   },
   "outputs": [],
   "source": [
    "f.close()"
   ]
  },
  {
   "cell_type": "code",
   "execution_count": 70,
   "metadata": {
    "collapsed": false
   },
   "outputs": [],
   "source": [
    "MAPs  = c.analysis.get_max_posteriors()#[0]"
   ]
  },
  {
   "cell_type": "raw",
   "metadata": {},
   "source": [
    "for start in np.arange(0.0, 3.0, 0.2):\n",
    "    palette = sns.cubehelix_palette(len(fnames), start = start, rot = 0.2, gamma = 0.7)\n",
    "    print start\n",
    "    sns.palplot(palette)\n",
    "    plt.show()"
   ]
  },
  {
   "cell_type": "code",
   "execution_count": 71,
   "metadata": {
    "collapsed": false
   },
   "outputs": [
    {
     "data": {
      "image/png": "[encoded data removed]",
      "text/plain": [
       "<matplotlib.figure.Figure at 0x7f7221daba50>"
      ]
     },
     "metadata": {},
     "output_type": "display_data"
    }
   ],
   "source": [
    "if model == 'HOD':\n",
    "    #palette = sns.cubehelix_palette(len(fnames), start = 2.6, rot = 0.1, gamma = 0.7)\n",
    "    palette = sns.cubehelix_palette(len(fnames), start = 2.6, rot = 0.1, gamma =2.5)\n",
    "\n",
    "elif model == 'HSAB':\n",
    "    palette = sns.cubehelix_palette(len(fnames), start = 2.0, rot = 0.1, gamma = 2.5)\n",
    "    #palette = sns.cubehelix_palette(len(fnames), start = 1.2, rot = 0.6, gamma = 1.7)\n",
    "elif model == 'CAB':\n",
    "    palette = sns.cubehelix_palette(len(fnames), start = 0.6, rot = 0.1, gamma = 2.5)\n",
    "elif model == 'CorrAB':\n",
    "    #palette = sns.cubehelix_palette(len(fnames), start = 1.2, rot = 0.1, gamma = 1.2)\n",
    "    palette = sns.cubehelix_palette(len(fnames), start = 1.2, rot = 0.1, gamma = 2.0)\n",
    "else:\n",
    "    #palette = sns.cubehelix_palette(len(fnames), start = 2.6, rot = 0.1, gamma = 2.5)\n",
    "    palette = sns.cubehelix_palette(len(fnames), start = 2.0, rot = 0.1, gamma = 2.5)\n",
    "\n",
    "sns.palplot(palette)"
   ]
  },
  {
   "cell_type": "code",
   "execution_count": 72,
   "metadata": {
    "collapsed": true
   },
   "outputs": [],
   "source": [
    "def color_to_hex(color):\n",
    "    return np.array(color)#*255"
   ]
  },
  {
   "cell_type": "code",
   "execution_count": 73,
   "metadata": {
    "collapsed": false
   },
   "outputs": [],
   "source": [
    "n_params = chain.shape[1] if len(chain.shape) > 1 else 1"
   ]
  },
  {
   "cell_type": "code",
   "execution_count": 74,
   "metadata": {
    "collapsed": true
   },
   "outputs": [],
   "source": [
    "hod_idxs = np.array(range(len(cosmo_param_names), len(cosmo_param_names)+len(hod_param_names)-1)) #skip eta\n",
    "cosmo_idxs = np.array(range(len(cosmo_param_names)))"
   ]
  },
  {
   "cell_type": "code",
   "execution_count": 75,
   "metadata": {
    "collapsed": false
   },
   "outputs": [
    {
     "data": {
      "text/plain": [
       "['$\\\\Omega_b h^2$',\n",
       " '$\\\\Omega_c h^2$',\n",
       " '$w_0$',\n",
       " '$n_s$',\n",
       " '$H_0$',\n",
       " '$N_{eff}$',\n",
       " '$\\\\sigma_8$',\n",
       " '$\\\\Omega_m$',\n",
       " '$S_8$']"
      ]
     },
     "execution_count": 75,
     "metadata": {},
     "output_type": "execute_result"
    }
   ],
   "source": [
    "cosmo_param_names"
   ]
  },
  {
   "cell_type": "code",
   "execution_count": 76,
   "metadata": {
    "collapsed": false
   },
   "outputs": [
    {
     "data": {
      "text/plain": [
       "['$\\\\rho_{cen}$',\n",
       " '$\\\\log(M_0)$',\n",
       " '$\\\\sigma_{\\\\log M }$',\n",
       " '$\\\\rho_{sat}$',\n",
       " '$\\\\log(M_1)$',\n",
       " '$\\\\alpha$',\n",
       " '$\\\\eta$']"
      ]
     },
     "execution_count": 76,
     "metadata": {},
     "output_type": "execute_result"
    }
   ],
   "source": [
    "hod_param_names"
   ]
  },
  {
   "cell_type": "raw",
   "metadata": {
    "collapsed": false
   },
   "source": [
    "if chain.shape[1] == 9:\n",
    "    cosmo_chain = chain\n",
    "    \n",
    "elif chain.shape[1] == 5:\n",
    "    hod_chain = chain\n",
    "else:\n",
    "    hod_chain = chain[:,7:]\n",
    "    #cosmo_chain = chain[:,cosmo_idxs]"
   ]
  },
  {
   "cell_type": "code",
   "execution_count": 77,
   "metadata": {
    "collapsed": false
   },
   "outputs": [
    {
     "data": {
      "text/plain": [
       "'SHAM'"
      ]
     },
     "execution_count": 77,
     "metadata": {},
     "output_type": "execute_result"
    }
   ],
   "source": [
    "gal_type"
   ]
  },
  {
   "cell_type": "code",
   "execution_count": 78,
   "metadata": {
    "collapsed": false
   },
   "outputs": [
    {
     "name": "stdout",
     "output_type": "stream",
     "text": [
      "B\n"
     ]
    }
   ],
   "source": [
    "if gal_type == 'HOD':\n",
    "    print 'A'\n",
    "    from pearce.mocks import cat_dict\n",
    "    cosmo_params = {'simname': sim_info['simname'], 'boxno': sim_info['sim_hps']['boxno'],\\\n",
    "                    'realization': sim_info['sim_hps']['realization'], 'scale_factors':[sim_info['scale_factor']],\\\n",
    "                    'system': 'ki-ls'}\n",
    "    #cosmo_params = {'simname': 'testbox', 'boxno': 1,\\\n",
    "    #                'realization':1, 'scale_factors':[1.0],\\\n",
    "    #                'system': 'ki-ls'}\n",
    "    cat = cat_dict[cosmo_params['simname']](**cosmo_params)#construct the specified catalog!\n",
    "    \n",
    "    cpv = cat._get_cosmo_param_names_vals()\n",
    "\n",
    "    cat_val_dict =  {key: val for key, val in zip(cpv[0], cpv[1])}\n",
    "\n",
    "    cosmo_true_vals = [cat_val_dict[pn] for pn in chain_pnames if pn in cat_val_dict]\n",
    "    \n",
    "    Om = (cat_val_dict['ombh2']+cat_val_dict['omch2'])/((cat_val_dict['H0']/100)**2)\n",
    "    S8 = cat_val_dict['sigma8']*np.sqrt(Om/0.3)\n",
    "    cosmo_true_vals.extend([Om, S8])\n",
    "    \n",
    "    hod_params = {'alpha': 1.083, 'conc_gal_bias': 1.0, 'logM0': 13.2,'logM1': 14.2, 'sigma_logM': 0.2}#sim_info['hod_params']\n",
    "    hod_true_vals = [hod_params[key] for key in chain_pnames if key in hod_params]\n",
    "    \n",
    "    if model!= 'HOD':\n",
    "        hod_true_vals.extend([0, 0])\n",
    "        if model == 'CAB':\n",
    "            hod_true_vals.extend([0,0])\n",
    "else: #SHAM, etc on MDPL2\n",
    "    print 'B'\n",
    "    # multidark planck2\n",
    "    #cosmo_true_vals = np.array([0.0223, 0.1188, -1, 0.9667, 3.047, \\\n",
    "    #                            0.6774*100, 3.046]) #darksky\n",
    "    \n",
    "    h = 0.6777\n",
    "    #cosmo_pnames = ['ombh2', 'omch2', 'w0', 'ns', 'H0', 'Neff', 'sigma8', 'Om', 'S8']\n",
    "    #cosmo_true_vals = np.array([0.048206*h**2, 0.307115*h**2- 0.048206*h**2,\\\n",
    "    #                            -1, 0.9667, \\\n",
    "    #                            h*100, 3.046, 0.8228, ]) #mdpl2\n",
    "    cosmo_true_vals = np.array([0.048206*h**2, 0.2589*h**2,\\\n",
    "                                -1, 0.9667, \\\n",
    "                                h*100, 3.046, 0.8228, 0.3089,\\\n",
    "                                0.8228*np.sqrt(0.3089/0.3) ]) #mdpl2\n",
    "    hod_true_vals = np.array([np.inf for p in hod_param_names])"
   ]
  },
  {
   "cell_type": "code",
   "execution_count": 79,
   "metadata": {
    "collapsed": false
   },
   "outputs": [
    {
     "data": {
      "text/plain": [
       "array([ 2.21399210e-02,  1.18906890e-01, -1.00000000e+00,  9.66700000e-01,\n",
       "        6.77700000e+01,  3.04600000e+00,  8.22800000e-01,  3.08900000e-01,\n",
       "        8.34915666e-01])"
      ]
     },
     "execution_count": 79,
     "metadata": {},
     "output_type": "execute_result"
    }
   ],
   "source": [
    "cosmo_true_vals"
   ]
  },
  {
   "cell_type": "raw",
   "metadata": {
    "collapsed": false
   },
   "source": [
    "c.plotter.plot_walks(parameters = [cosmo_param_names[1]],\\\n",
    "                     truth=[cosmo_true_vals[1]]);#, convolve = 10);"
   ]
  },
  {
   "cell_type": "code",
   "execution_count": 80,
   "metadata": {
    "collapsed": false
   },
   "outputs": [
    {
     "data": {
      "text/plain": [
       "['$\\\\rho_{cen}$',\n",
       " '$\\\\log(M_0)$',\n",
       " '$\\\\sigma_{\\\\log M }$',\n",
       " '$\\\\rho_{sat}$',\n",
       " '$\\\\log(M_1)$',\n",
       " '$\\\\alpha$',\n",
       " '$\\\\eta$']"
      ]
     },
     "execution_count": 80,
     "metadata": {},
     "output_type": "execute_result"
    }
   ],
   "source": [
    "hod_param_names"
   ]
  },
  {
   "cell_type": "raw",
   "metadata": {
    "collapsed": false
   },
   "source": [
    "# Enforce a consistent order for the plots\n",
    "#if gal_type == 'HOD':\n",
    "    \n",
    "plot_hod_param_names = ['$\\\\sigma_{\\\\log M }$', '$\\\\log(M_0)$', '$\\\\log(M_1)$', '$\\\\alpha$', '$\\\\eta$']\n",
    "plot_hod_true_vals = [0.2, 13.2, 14.2, 1.083, 1.0]\n",
    "\n",
    "plot_hod_bounds = [(0.05, 0.5), (12.6, 13.6), (13.7, 14.7), (0.7, 1.3), (0.5, 2.0)]\n",
    "\n",
    "ab_param_names = [r'$\\mathcal{A}_{%s}$', r'$\\mathcal{B}_{%s}$', r'$\\rho_{%s}$']\n",
    "ab_true_vals = [0.0, np.inf,0.0]\n",
    "for abpn, hodtv in zip(ab_param_names, ab_true_vals):\n",
    "    if abpn%'cen' in hod_param_names: # this pname is in the model\n",
    "        for gal_type in ['cen', 'sat']:\n",
    "            plot_hod_param_names.append(abpn%gal_type)\n",
    "            if gal_type == 'cen':\n",
    "                plot_hod_true_vals.append(1.0)\n",
    "            else:\n",
    "                plot_hod_true_vals.append(-1.0)\n",
    "\n",
    "            plot_hod_bounds.append((-1.0, 1.0))\n",
    "\n",
    "#for phpn in plot_hod_param_names:\n",
    "#    i = hod_param_names.index(phpn)\n",
    "#    print phpn, i, hod_true_vals[i]\n",
    "#    plot_hod_true_vals.append(hod_true_vals[i])\n",
    "#    plot_hod_bounds.append(hod_bounds[i])\n"
   ]
  },
  {
   "cell_type": "code",
   "execution_count": 81,
   "metadata": {
    "collapsed": false
   },
   "outputs": [],
   "source": [
    "# Enforce a consistent order for the plots\n",
    "#if gal_type == 'HOD':\n",
    "    \n",
    "plot_hod_param_names = ['$\\\\sigma_{\\\\log M }$', '$\\\\log(M_0)$', '$\\\\log(M_1)$', '$\\\\alpha$', '$\\\\eta$']\n",
    "#plot_hod_true_vals = [0.2, 13.2, 14.2, 1.083, 1.0]\n",
    "plot_hod_true_vals = [0.55, 13.2, 14.5, 0.95, 1.0]\n",
    "\n",
    "plot_hod_bounds = [(0.05, 0.6), (12.6, 13.6), (13.7, 14.7), (0.7, 1.3), (0.5, 2.0)]\n",
    "\n",
    "ab_param_names = [r'$\\mathcal{A}_{%s}$', r'$\\mathcal{B}_{%s}$', r'$\\rho_{%s}$']\n",
    "ab_true_vals = [0.0, np.inf,0.0]\n",
    "for abpn, hodtv in zip(ab_param_names, ab_true_vals):\n",
    "    if abpn%'cen' in hod_param_names: # this pname is in the model\n",
    "        if 'B' in abpn:\n",
    "            plot_hod_true_vals.extend([np.inf, np.inf])\n",
    "            plot_hod_param_names.extend([abpn%'cen', abpn%'sat'])\n",
    "\n",
    "            continue\n",
    "        for gal_type in ['cen', 'sat']:\n",
    "            plot_hod_param_names.append(abpn%gal_type)#\n",
    "\n",
    "            if gal_type == 'cen':\n",
    "                plot_hod_true_vals.append(np.inf)#0.0)\n",
    "            else:\n",
    "                plot_hod_true_vals.append(np.inf)#0.0)\n",
    "\n",
    "            plot_hod_bounds.append((-1.0, 1.0))\n",
    "\n",
    "#for phpn in plot_hod_param_names:\n",
    "#    i = hod_param_names.index(phpn)\n",
    "#    print phpn, i, hod_true_vals[i]\n",
    "#    plot_hod_true_vals.append(hod_true_vals[i])\n",
    "#    plot_hod_bounds.append(hod_bounds[i])\n"
   ]
  },
  {
   "cell_type": "code",
   "execution_count": 82,
   "metadata": {
    "collapsed": false
   },
   "outputs": [
    {
     "data": {
      "text/plain": [
       "<chainconsumer.chainconsumer.ChainConsumer at 0x7f7221dfe350>"
      ]
     },
     "execution_count": 82,
     "metadata": {},
     "output_type": "execute_result"
    }
   ],
   "source": [
    "c.configure(colors = [color_to_hex(p) for p in palette], shade = True, \n",
    "            shade_alpha=0.2, shade_gradient=1.0,\n",
    "            diagonal_tick_labels=True, tick_font_size=8, label_font_size=25, \\\n",
    "            max_ticks=8, plot_hists=True)#, statistics='cumulative')"
   ]
  },
  {
   "cell_type": "raw",
   "metadata": {
    "collapsed": false
   },
   "source": [
    "fig = c.plotter.plot(figsize='GROW', parameters = plot_hod_param_names, \n",
    "                     truth=plot_hod_true_vals, extents=plot_hod_bounds) \n",
    "#plt.suptitle('HSAB')\n",
    "fig.show()"
   ]
  },
  {
   "cell_type": "raw",
   "metadata": {
    "collapsed": false
   },
   "source": [
    "fig = c.plotter.plot(figsize='PAGE', parameters = cosmo_param_names, truth=cosmo_true_vals, extents=cosmo_bounds) \n",
    "fig.show()"
   ]
  },
  {
   "cell_type": "code",
   "execution_count": 83,
   "metadata": {
    "collapsed": true
   },
   "outputs": [],
   "source": [
    "from copy import deepcopy\n",
    "true_vals  = list(deepcopy(cosmo_true_vals))\n",
    "true_vals.extend(plot_hod_true_vals)"
   ]
  },
  {
   "cell_type": "code",
   "execution_count": 84,
   "metadata": {
    "collapsed": false
   },
   "outputs": [
    {
     "data": {
      "text/plain": [
       "[0.022139921041739997,\n",
       " 0.118906890381,\n",
       " -1.0,\n",
       " 0.9667,\n",
       " 67.77,\n",
       " 3.046,\n",
       " 0.8228,\n",
       " 0.3089,\n",
       " 0.8349156655535137,\n",
       " 0.55,\n",
       " 13.2,\n",
       " 14.5,\n",
       " 0.95,\n",
       " 1.0,\n",
       " inf,\n",
       " inf]"
      ]
     },
     "execution_count": 84,
     "metadata": {},
     "output_type": "execute_result"
    }
   ],
   "source": [
    "true_vals"
   ]
  },
  {
   "cell_type": "code",
   "execution_count": 85,
   "metadata": {
    "collapsed": true
   },
   "outputs": [],
   "source": [
    "plot_param_names = list(deepcopy(cosmo_param_names))\n",
    "plot_param_names.extend(plot_hod_param_names)"
   ]
  },
  {
   "cell_type": "code",
   "execution_count": 86,
   "metadata": {
    "collapsed": true
   },
   "outputs": [],
   "source": [
    "plot_param_bounds = list(deepcopy(cosmo_bounds))\n",
    "plot_param_bounds.extend(plot_hod_bounds)"
   ]
  },
  {
   "cell_type": "code",
   "execution_count": 87,
   "metadata": {
    "collapsed": false
   },
   "outputs": [
    {
     "data": {
      "text/plain": [
       "['$\\\\Omega_b h^2$',\n",
       " '$\\\\Omega_c h^2$',\n",
       " '$w_0$',\n",
       " '$n_s$',\n",
       " '$H_0$',\n",
       " '$N_{eff}$',\n",
       " '$\\\\sigma_8$',\n",
       " '$\\\\Omega_m$',\n",
       " '$S_8$',\n",
       " '$\\\\sigma_{\\\\log M }$',\n",
       " '$\\\\log(M_0)$',\n",
       " '$\\\\log(M_1)$',\n",
       " '$\\\\alpha$',\n",
       " '$\\\\eta$',\n",
       " '$\\\\rho_{cen}$',\n",
       " '$\\\\rho_{sat}$']"
      ]
     },
     "execution_count": 87,
     "metadata": {},
     "output_type": "execute_result"
    }
   ],
   "source": [
    "plot_param_names"
   ]
  },
  {
   "cell_type": "code",
   "execution_count": 88,
   "metadata": {
    "collapsed": false
   },
   "outputs": [],
   "source": [
    "# TODO can choose these by galaxy model \n",
    "# TODO combine multiple chains? \n",
    "#summary_idxs = [1, 4]\n",
    "#summary_idxs = [7,6,8,4,13]\n",
    "#summary_idxs = [7,6, 8,4,11, 13]\n",
    "summary_idxs=[7,8,4]\n",
    "if len(plot_param_names) > 14:\n",
    "    #summary_idxs.extend([14,15])#,18,19])\n",
    "    #summary_idxs.extend([11,12])\n",
    "    pass\n",
    "\n",
    "\n",
    "summary_pnames = [plot_param_names[i] for i in summary_idxs]\n",
    "summary_truths = [true_vals[i] for i in summary_idxs]\n",
    "summary_bounds = [plot_param_bounds[i] for i in summary_idxs]"
   ]
  },
  {
   "cell_type": "code",
   "execution_count": 89,
   "metadata": {
    "collapsed": false
   },
   "outputs": [],
   "source": [
    "split_fname = basename(fnames[-1]).split('_')\n",
    "mock_name = split_fname[0]\n",
    "model_name = split_fname[-2].split('.')[0]\n",
    "\n",
    "if mock_name == 'HOD':\n",
    "    mock_name = 'Std. HOD'\n",
    "    \n",
    "elif mock_name == 'VpeakSHAM':\n",
    "    mock_name = 'SHAM'\n",
    "elif mock_name == 'UniverseMachine':\n",
    "    mock_name = 'UM'\n",
    "    \n",
    "if model_name == 'HOD':\n",
    "    model_name = 'Std. HOD'\n",
    "    \n",
    "elif model_name == 'conc':\n",
    "    model_name = r'HSAB $c_{nfw}$'"
   ]
  },
  {
   "cell_type": "code",
   "execution_count": 90,
   "metadata": {
    "collapsed": false
   },
   "outputs": [
    {
     "name": "stderr",
     "output_type": "stream",
     "text": [
      "/u/ki/swmclau2/.conda/envs/hodemulator/lib/python2.7/site-packages/matplotlib/figure.py:403: UserWarning: matplotlib is currently using a non-GUI backend, so cannot show the figure\n",
      "  \"matplotlib is currently using a non-GUI backend, \"\n"
     ]
    },
    {
     "data": {
      "image/png": "[encoded data removed]",
      "text/plain": [
       "<matplotlib.figure.Figure at 0x7f7221d8d790>"
      ]
     },
     "metadata": {},
     "output_type": "display_data"
    }
   ],
   "source": [
    "fig = c.plotter.plot(figsize='PAGE', parameters =summary_pnames\\\n",
    "                                    , truth=summary_truths, extents=summary_bounds) \n",
    "fig.patch.set_facecolor('white')\n",
    "fig.axes[1].text(0.05, 0.1, 'Mock: %s\\n Model: %s'%(mock_name,model_name),\n",
    "                 fontdict={'fontsize':30})\n",
    "fig.savefig('%s_Aem_%s_fid.pdf'%(mock_name, model_name), format = 'pdf')\n",
    "fig.show()"
   ]
  },
  {
   "cell_type": "raw",
   "metadata": {
    "collapsed": false
   },
   "source": [
    "fig = c.plotter.plot(figsize='GROW',  truth=true_vals) \n",
    "fig.patch.set_facecolor('white')\n",
    "fig.show()"
   ]
  },
  {
   "cell_type": "raw",
   "metadata": {
    "collapsed": false
   },
   "source": [
    "fig = c.plotter.plot(figsize='PAGE', truth=true_vals) \n",
    "fig.patch.set_facecolor('white')\n",
    "fig.show()"
   ]
  },
  {
   "cell_type": "raw",
   "metadata": {
    "collapsed": false
   },
   "source": [
    "fig = c.plotter.plot(figsize='PAGE',\\\n",
    "                     parameters =[r\"$S_8$\",r'$H_0$',\\\n",
    "                                  r'$\\sigma_{\\log M }$',\n",
    "                                  r'$\\log(M_1)$'],\\\n",
    "                                     truth=[0.835, 67.77, 0.2, 14.2])#, extents=summary_bounds) \n",
    "fig.show()"
   ]
  },
  {
   "cell_type": "raw",
   "metadata": {},
   "source": [
    "fig = c.plotter.plot(chains =[r\"$r_{min} = %s$\"%str(r) for r in [ 0.5, 1.0]],\n",
    " figsize='PAGE', parameters =[r'$\\sigma_8$', r'$\\sigma_{\\log M }$', r'$\\alpha$'],\n",
    "                    truth = [0.83, 0.2, 1.02])#, extents=summary_bounds) \n",
    "fig.show()"
   ]
  },
  {
   "cell_type": "code",
   "execution_count": 91,
   "metadata": {
    "collapsed": false
   },
   "outputs": [
    {
     "name": "stdout",
     "output_type": "stream",
     "text": [
      "$\\Omega_m$ \t$S_8$ \t$H_0$ \t\n",
      "********************\n",
      "0.33303928 \t0.8338201 \t64.442406 \t\n",
      "0.30792218 \t0.87086844 \t69.54141 \t\n",
      "0.3011171 \t0.8858578 \t70.364914 \t\n",
      "0.30368614 \t0.85751206 \t70.735535 \t\n",
      "********************\n",
      "0.3089 \t\t0.8349 \t\t67.7700 \t\t"
     ]
    }
   ],
   "source": [
    "for pname in summary_pnames:\n",
    "    print pname,'\\t',\n",
    "print\n",
    "print '*'*20\n",
    "\n",
    "for MAP in MAPs:\n",
    "    for pname in summary_pnames:\n",
    "        print MAP[pname],'\\t',\n",
    "    print \n",
    "print '*'*20\n",
    "for st in summary_truths:\n",
    "    print '%.4f'%st,'\\t'*2,"
   ]
  },
  {
   "cell_type": "code",
   "execution_count": 92,
   "metadata": {
    "collapsed": true
   },
   "outputs": [],
   "source": [
    "MAP = [MAPs[0][pname] for pname in summary_pnames]"
   ]
  },
  {
   "cell_type": "raw",
   "metadata": {
    "collapsed": false
   },
   "source": [
    "fig = c.plotter.plot(chains =[r\"$r_{min} = %s$\"%strOD(5.0)], figsize='PAGE', parameters =summary_pnames\\\n",
    "                                    , truth=summary_truths)#, extents=summary_bounds) \n",
    "fig.show()"
   ]
  },
  {
   "cell_type": "code",
   "execution_count": 93,
   "metadata": {
    "collapsed": false
   },
   "outputs": [
    {
     "name": "stderr",
     "output_type": "stream",
     "text": [
      "/u/ki/swmclau2/.conda/envs/hodemulator/lib/python2.7/site-packages/matplotlib/figure.py:403: UserWarning: matplotlib is currently using a non-GUI backend, so cannot show the figure\n",
      "  \"matplotlib is currently using a non-GUI backend, \"\n"
     ]
    },
    {
     "data": {
      "image/png": "[encoded data removed]",
      "text/plain": [
       "<matplotlib.figure.Figure at 0x7f7221e38c10>"
      ]
     },
     "metadata": {},
     "output_type": "display_data"
    }
   ],
   "source": [
    "fig = c.plotter.plot_summary(parameters=summary_pnames, truth=summary_truths,\\\n",
    "                             extents=summary_bounds,\\\n",
    "                             figsize=2, errorbar=False) \n",
    "#fig.suptitle(model) # + galtype\n",
    "fig.show()"
   ]
  },
  {
   "cell_type": "raw",
   "metadata": {
    "collapsed": false
   },
   "source": [
    "cosmo_param_names"
   ]
  },
  {
   "cell_type": "code",
   "execution_count": 94,
   "metadata": {
    "collapsed": false
   },
   "outputs": [
    {
     "data": {
      "text/plain": [
       "['$r_{min}', '=', '5.0$']"
      ]
     },
     "execution_count": 94,
     "metadata": {},
     "output_type": "execute_result"
    }
   ],
   "source": [
    "c.chains[0].name.split()"
   ]
  },
  {
   "cell_type": "code",
   "execution_count": 95,
   "metadata": {
    "collapsed": false
   },
   "outputs": [
    {
     "name": "stdout",
     "output_type": "stream",
     "text": [
      "5.0 0.09246000103272933\n",
      "1.0 0.055810816674267794\n",
      "0.5 0.05158733823683104\n",
      "0.1 0.049294610745125755\n"
     ]
    }
   ],
   "source": [
    "deltas = []\n",
    "rmins = []\n",
    "for chain in c.chains:\n",
    "    summary = c.analysis.get_parameter_summary(chain, r'$S_8$')\n",
    "    delta = summary[2]-summary[0]\n",
    "    deltas.append(delta)\n",
    "    rmin = chain.name.split()[-1][:-1]\n",
    "    rmins.append(float(rmin))\n",
    "    print rmin, delta"
   ]
  },
  {
   "cell_type": "code",
   "execution_count": 96,
   "metadata": {
    "collapsed": false
   },
   "outputs": [],
   "source": [
    "true_s8 = 0.8349"
   ]
  },
  {
   "cell_type": "code",
   "execution_count": 97,
   "metadata": {
    "collapsed": false
   },
   "outputs": [
    {
     "data": {
      "text/plain": [
       "<matplotlib.text.Text at 0x7f7247e3ba50>"
      ]
     },
     "execution_count": 97,
     "metadata": {},
     "output_type": "execute_result"
    },
    {
     "data": {
      "image/png": "[encoded data removed]",
      "text/plain": [
       "<matplotlib.figure.Figure at 0x7f7270ab2e50>"
      ]
     },
     "metadata": {},
     "output_type": "display_data"
    }
   ],
   "source": [
    "plt.plot(np.array(rmins), np.array(deltas)/true_s8, color = 'b')\n",
    "plt.xscale('log')\n",
    "plt.ylabel(r'$\\Delta S_8/S_8$')\n",
    "plt.xlabel(r'$r_{min}$ [Mpc/h]')"
   ]
  },
  {
   "cell_type": "code",
   "execution_count": null,
   "metadata": {
    "collapsed": true
   },
   "outputs": [],
   "source": []
  }
 ],
 "metadata": {
  "kernelspec": {
   "display_name": "Python [default]",
   "language": "python",
   "name": "python2"
  },
  "language_info": {
   "codemirror_mode": {
    "name": "ipython",
    "version": 2
   },
   "file_extension": ".py",
   "mimetype": "text/x-python",
   "name": "python",
   "nbconvert_exporter": "python",
   "pygments_lexer": "ipython2",
   "version": "2.7.13"
  }
 },
 "nbformat": 4,
 "nbformat_minor": 1
}

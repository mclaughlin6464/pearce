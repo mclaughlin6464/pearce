{
 "cells": [
  {
   "cell_type": "markdown",
   "metadata": {},
   "source": [
    "I want to sanity test that the mock measurements I'm comparing to are what I expect them to be, and the bad fits I'm recovering are because my models are a poor fit and not some other reason. "
   ]
  },
  {
   "cell_type": "code",
   "execution_count": 1,
   "metadata": {
    "collapsed": false
   },
   "outputs": [],
   "source": [
    "%matplotlib inline\n",
    "from matplotlib import pyplot as plt"
   ]
  },
  {
   "cell_type": "code",
   "execution_count": 2,
   "metadata": {
    "collapsed": false
   },
   "outputs": [],
   "source": [
    "import numpy as np\n",
    "from os import path\n",
    "from astropy.table import Table\n",
    "from halotools.mock_observables import hod_from_mock\n",
    "from halotools.utils import broadcast_host_halo_property, add_halo_hostid\n",
    "\n",
    "from pearce.mocks.kittens import TrainingBox, MDPL2\n",
    "import h5py"
   ]
  },
  {
   "cell_type": "code",
   "execution_count": 3,
   "metadata": {
    "collapsed": true
   },
   "outputs": [],
   "source": [
    "cat_dir = '/u/ki/swmclau2/des'"
   ]
  },
  {
   "cell_type": "code",
   "execution_count": 4,
   "metadata": {
    "collapsed": false
   },
   "outputs": [],
   "source": [
    "sham_catalog = np.load(path.join(cat_dir, 'cut_sham_catalog.npy'))"
   ]
  },
  {
   "cell_type": "code",
   "execution_count": 5,
   "metadata": {
    "collapsed": true
   },
   "outputs": [],
   "source": [
    "shuffled_sham_catalog = np.load(path.join(cat_dir, 'cut_shuffled_sham_catalog.npy'))"
   ]
  },
  {
   "cell_type": "code",
   "execution_count": 6,
   "metadata": {
    "collapsed": false
   },
   "outputs": [],
   "source": [
    "nfw_sham_catalog = np.load(path.join(cat_dir, 'cut_nfwized_sham_catalog.npy'))"
   ]
  },
  {
   "cell_type": "code",
   "execution_count": 7,
   "metadata": {
    "collapsed": false
   },
   "outputs": [
    {
     "data": {
      "text/plain": [
       "((500001,), (500000,), (500000,))"
      ]
     },
     "execution_count": 7,
     "metadata": {},
     "output_type": "execute_result"
    }
   ],
   "source": [
    "sham_catalog.shape, shuffled_sham_catalog.shape, nfw_sham_catalog.shape"
   ]
  },
  {
   "cell_type": "code",
   "execution_count": 8,
   "metadata": {
    "collapsed": false
   },
   "outputs": [
    {
     "name": "stderr",
     "output_type": "stream",
     "text": [
      "/u/ki/swmclau2/.conda/envs/hodemulator/lib/python2.7/importlib/__init__.py:37: H5pyDeprecationWarning: The h5py.highlevel module is deprecated, code should import directly from h5py, e.g. 'from h5py import File'.\n",
      "  __import__(name)\n",
      "WARNING: path= was not specified but multiple tables are present, reading in first available table (path=halo_vpeak_catalog) [astropy.io.misc.hdf5]\n",
      "WARNING:astropy:path= was not specified but multiple tables are present, reading in first available table (path=halo_vpeak_catalog)\n"
     ]
    },
    {
     "ename": "MemoryError",
     "evalue": "",
     "output_type": "error",
     "traceback": [
      "\u001b[1;31m---------------------------------------------------------------------------\u001b[0m",
      "\u001b[1;31mMemoryError\u001b[0m                               Traceback (most recent call last)",
      "\u001b[1;32m<ipython-input-8-849acdb31062>\u001b[0m in \u001b[0;36m<module>\u001b[1;34m()\u001b[0m\n\u001b[0;32m      1\u001b[0m \u001b[0mcatalog_fname\u001b[0m \u001b[1;33m=\u001b[0m \u001b[1;34m'/u/ki/swmclau2/des/test_MDPL2_halo_vpeak_smf_sham_large.hdf5'\u001b[0m\u001b[1;33m\u001b[0m\u001b[0m\n\u001b[1;32m----> 2\u001b[1;33m \u001b[0mhalo_catalog\u001b[0m \u001b[1;33m=\u001b[0m \u001b[0mTable\u001b[0m\u001b[1;33m.\u001b[0m\u001b[0mread\u001b[0m\u001b[1;33m(\u001b[0m\u001b[0mcatalog_fname\u001b[0m\u001b[1;33m,\u001b[0m \u001b[0mformat\u001b[0m \u001b[1;33m=\u001b[0m \u001b[1;34m'hdf5'\u001b[0m\u001b[1;33m)\u001b[0m\u001b[1;31m#, path = 'halo_vpeak_shuffled'))\u001b[0m\u001b[1;33m\u001b[0m\u001b[0m\n\u001b[0m",
      "\u001b[1;32m/u/ki/swmclau2/.local/lib/python2.7/site-packages/astropy/table/table.pyc\u001b[0m in \u001b[0;36mread\u001b[1;34m(cls, *args, **kwargs)\u001b[0m\n\u001b[0;32m   2428\u001b[0m         \u001b[0mpassed\u001b[0m \u001b[0mthrough\u001b[0m \u001b[0mto\u001b[0m \u001b[0mthe\u001b[0m \u001b[0munderlying\u001b[0m \u001b[0mdata\u001b[0m \u001b[0mreader\u001b[0m \u001b[1;33m(\u001b[0m\u001b[0me\u001b[0m\u001b[1;33m.\u001b[0m\u001b[0mg\u001b[0m\u001b[1;33m.\u001b[0m \u001b[1;33m`\u001b[0m\u001b[1;33m~\u001b[0m\u001b[0mastropy\u001b[0m\u001b[1;33m.\u001b[0m\u001b[0mio\u001b[0m\u001b[1;33m.\u001b[0m\u001b[0mascii\u001b[0m\u001b[1;33m.\u001b[0m\u001b[0mread\u001b[0m\u001b[1;33m`\u001b[0m\u001b[1;33m)\u001b[0m\u001b[1;33m.\u001b[0m\u001b[1;33m\u001b[0m\u001b[0m\n\u001b[0;32m   2429\u001b[0m         \"\"\"\n\u001b[1;32m-> 2430\u001b[1;33m         \u001b[1;32mreturn\u001b[0m \u001b[0mio_registry\u001b[0m\u001b[1;33m.\u001b[0m\u001b[0mread\u001b[0m\u001b[1;33m(\u001b[0m\u001b[0mcls\u001b[0m\u001b[1;33m,\u001b[0m \u001b[1;33m*\u001b[0m\u001b[0margs\u001b[0m\u001b[1;33m,\u001b[0m \u001b[1;33m**\u001b[0m\u001b[0mkwargs\u001b[0m\u001b[1;33m)\u001b[0m\u001b[1;33m\u001b[0m\u001b[0m\n\u001b[0m\u001b[0;32m   2431\u001b[0m \u001b[1;33m\u001b[0m\u001b[0m\n\u001b[0;32m   2432\u001b[0m     \u001b[1;32mdef\u001b[0m \u001b[0mwrite\u001b[0m\u001b[1;33m(\u001b[0m\u001b[0mself\u001b[0m\u001b[1;33m,\u001b[0m \u001b[1;33m*\u001b[0m\u001b[0margs\u001b[0m\u001b[1;33m,\u001b[0m \u001b[1;33m**\u001b[0m\u001b[0mkwargs\u001b[0m\u001b[1;33m)\u001b[0m\u001b[1;33m:\u001b[0m\u001b[1;33m\u001b[0m\u001b[0m\n",
      "\u001b[1;32m/u/ki/swmclau2/.local/lib/python2.7/site-packages/astropy/io/registry.pyc\u001b[0m in \u001b[0;36mread\u001b[1;34m(cls, *args, **kwargs)\u001b[0m\n\u001b[0;32m    466\u001b[0m \u001b[1;33m\u001b[0m\u001b[0m\n\u001b[0;32m    467\u001b[0m         \u001b[0mreader\u001b[0m \u001b[1;33m=\u001b[0m \u001b[0mget_reader\u001b[0m\u001b[1;33m(\u001b[0m\u001b[0mformat\u001b[0m\u001b[1;33m,\u001b[0m \u001b[0mcls\u001b[0m\u001b[1;33m)\u001b[0m\u001b[1;33m\u001b[0m\u001b[0m\n\u001b[1;32m--> 468\u001b[1;33m         \u001b[0mdata\u001b[0m \u001b[1;33m=\u001b[0m \u001b[0mreader\u001b[0m\u001b[1;33m(\u001b[0m\u001b[1;33m*\u001b[0m\u001b[0margs\u001b[0m\u001b[1;33m,\u001b[0m \u001b[1;33m**\u001b[0m\u001b[0mkwargs\u001b[0m\u001b[1;33m)\u001b[0m\u001b[1;33m\u001b[0m\u001b[0m\n\u001b[0m\u001b[0;32m    469\u001b[0m \u001b[1;33m\u001b[0m\u001b[0m\n\u001b[0;32m    470\u001b[0m         \u001b[1;32mif\u001b[0m \u001b[1;32mnot\u001b[0m \u001b[0misinstance\u001b[0m\u001b[1;33m(\u001b[0m\u001b[0mdata\u001b[0m\u001b[1;33m,\u001b[0m \u001b[0mcls\u001b[0m\u001b[1;33m)\u001b[0m\u001b[1;33m:\u001b[0m\u001b[1;33m\u001b[0m\u001b[0m\n",
      "\u001b[1;32m/u/ki/swmclau2/.local/lib/python2.7/site-packages/astropy/io/misc/hdf5.pyc\u001b[0m in \u001b[0;36mread_table_hdf5\u001b[1;34m(input, path)\u001b[0m\n\u001b[0;32m    129\u001b[0m \u001b[1;33m\u001b[0m\u001b[0m\n\u001b[0;32m    130\u001b[0m         \u001b[1;32mtry\u001b[0m\u001b[1;33m:\u001b[0m\u001b[1;33m\u001b[0m\u001b[0m\n\u001b[1;32m--> 131\u001b[1;33m             \u001b[1;32mreturn\u001b[0m \u001b[0mread_table_hdf5\u001b[0m\u001b[1;33m(\u001b[0m\u001b[0mf\u001b[0m\u001b[1;33m,\u001b[0m \u001b[0mpath\u001b[0m\u001b[1;33m=\u001b[0m\u001b[0mpath\u001b[0m\u001b[1;33m)\u001b[0m\u001b[1;33m\u001b[0m\u001b[0m\n\u001b[0m\u001b[0;32m    132\u001b[0m         \u001b[1;32mfinally\u001b[0m\u001b[1;33m:\u001b[0m\u001b[1;33m\u001b[0m\u001b[0m\n\u001b[0;32m    133\u001b[0m             \u001b[0mf\u001b[0m\u001b[1;33m.\u001b[0m\u001b[0mclose\u001b[0m\u001b[1;33m(\u001b[0m\u001b[1;33m)\u001b[0m\u001b[1;33m\u001b[0m\u001b[0m\n",
      "\u001b[1;32m/u/ki/swmclau2/.local/lib/python2.7/site-packages/astropy/io/misc/hdf5.pyc\u001b[0m in \u001b[0;36mread_table_hdf5\u001b[1;34m(input, path)\u001b[0m\n\u001b[0;32m    110\u001b[0m                               \u001b[1;34m\" table (path={0})\"\u001b[0m\u001b[1;33m.\u001b[0m\u001b[0mformat\u001b[0m\u001b[1;33m(\u001b[0m\u001b[0mpath\u001b[0m\u001b[1;33m)\u001b[0m\u001b[1;33m,\u001b[0m\u001b[1;33m\u001b[0m\u001b[0m\n\u001b[0;32m    111\u001b[0m                               AstropyUserWarning)\n\u001b[1;32m--> 112\u001b[1;33m                 \u001b[1;32mreturn\u001b[0m \u001b[0mread_table_hdf5\u001b[0m\u001b[1;33m(\u001b[0m\u001b[0minput\u001b[0m\u001b[1;33m,\u001b[0m \u001b[0mpath\u001b[0m\u001b[1;33m=\u001b[0m\u001b[0mpath\u001b[0m\u001b[1;33m)\u001b[0m\u001b[1;33m\u001b[0m\u001b[0m\n\u001b[0m\u001b[0;32m    113\u001b[0m \u001b[1;33m\u001b[0m\u001b[0m\n\u001b[0;32m    114\u001b[0m     \u001b[1;32melif\u001b[0m \u001b[1;32mnot\u001b[0m \u001b[0misinstance\u001b[0m\u001b[1;33m(\u001b[0m\u001b[0minput\u001b[0m\u001b[1;33m,\u001b[0m \u001b[0mh5py\u001b[0m\u001b[1;33m.\u001b[0m\u001b[0mhighlevel\u001b[0m\u001b[1;33m.\u001b[0m\u001b[0mDataset\u001b[0m\u001b[1;33m)\u001b[0m\u001b[1;33m:\u001b[0m\u001b[1;33m\u001b[0m\u001b[0m\n",
      "\u001b[1;32m/u/ki/swmclau2/.local/lib/python2.7/site-packages/astropy/io/misc/hdf5.pyc\u001b[0m in \u001b[0;36mread_table_hdf5\u001b[1;34m(input, path)\u001b[0m\n\u001b[0;32m    138\u001b[0m     \u001b[1;31m# Create a Table object\u001b[0m\u001b[1;33m\u001b[0m\u001b[1;33m\u001b[0m\u001b[0m\n\u001b[0;32m    139\u001b[0m     \u001b[1;32mfrom\u001b[0m \u001b[1;33m.\u001b[0m\u001b[1;33m.\u001b[0m\u001b[1;33m.\u001b[0m\u001b[0mtable\u001b[0m \u001b[1;32mimport\u001b[0m \u001b[0mTable\u001b[0m\u001b[1;33m\u001b[0m\u001b[0m\n\u001b[1;32m--> 140\u001b[1;33m     \u001b[0mtable\u001b[0m \u001b[1;33m=\u001b[0m \u001b[0mTable\u001b[0m\u001b[1;33m(\u001b[0m\u001b[0mnp\u001b[0m\u001b[1;33m.\u001b[0m\u001b[0marray\u001b[0m\u001b[1;33m(\u001b[0m\u001b[0minput\u001b[0m\u001b[1;33m)\u001b[0m\u001b[1;33m)\u001b[0m\u001b[1;33m\u001b[0m\u001b[0m\n\u001b[0m\u001b[0;32m    141\u001b[0m \u001b[1;33m\u001b[0m\u001b[0m\n\u001b[0;32m    142\u001b[0m     \u001b[1;31m# Read the meta-data from the file\u001b[0m\u001b[1;33m\u001b[0m\u001b[1;33m\u001b[0m\u001b[0m\n",
      "\u001b[1;31mMemoryError\u001b[0m: "
     ]
    }
   ],
   "source": [
    "catalog_fname = '/u/ki/swmclau2/des/test_MDPL2_halo_vpeak_smf_sham_large.hdf5'\n",
    "halo_catalog = Table.read(catalog_fname, format = 'hdf5')#, path = 'halo_vpeak_shuffled'))"
   ]
  },
  {
   "cell_type": "code",
   "execution_count": null,
   "metadata": {
    "collapsed": false
   },
   "outputs": [],
   "source": [
    "len(halo_catalog)"
   ]
  },
  {
   "cell_type": "raw",
   "metadata": {},
   "source": [
    "halo_catalog['halo_id'] = halo_catalog['id']\n",
    "halo_catalog['halo_upid'] = halo_catalog['upid']"
   ]
  },
  {
   "cell_type": "raw",
   "metadata": {},
   "source": [
    "#add_halo_hostid(halo_catalog)\n",
    "#broadcast_host_halo_property(halo_catalog, 'halo_mvir', delete_possibly_existing_column=False)"
   ]
  },
  {
   "cell_type": "code",
   "execution_count": null,
   "metadata": {
    "collapsed": true
   },
   "outputs": [],
   "source": [
    "haloprop_bins = np.logspace(10,16, 61)\n",
    "hbc = (haloprop_bins[1:] + haloprop_bins[:-1])/2.0"
   ]
  },
  {
   "cell_type": "code",
   "execution_count": null,
   "metadata": {
    "collapsed": false
   },
   "outputs": [],
   "source": [
    "sham_hod, _ = hod_from_mock( sham_catalog['halo_mvir_host_halo'],halo_catalog['halo_mvir'], haloprop_bins)"
   ]
  },
  {
   "cell_type": "code",
   "execution_count": null,
   "metadata": {
    "collapsed": false
   },
   "outputs": [],
   "source": [
    "shuffled_sham_hod, _ = hod_from_mock(shuffled_sham_catalog['halo_mvir_host_halo'],halo_catalog['halo_mvir'], haloprop_bins)"
   ]
  },
  {
   "cell_type": "code",
   "execution_count": null,
   "metadata": {
    "collapsed": false
   },
   "outputs": [],
   "source": [
    "nfw_sham_hod, _ = hod_from_mock(nfw_sham_catalog['halo_mvir_host_halo'],halo_catalog['halo_mvir'], haloprop_bins)"
   ]
  },
  {
   "cell_type": "code",
   "execution_count": null,
   "metadata": {
    "collapsed": false
   },
   "outputs": [],
   "source": [
    "plt.plot(hbc, sham_hod)\n",
    "plt.plot(hbc, shuffled_sham_hod)\n",
    "plt.plot(hbc, nfw_sham_hod)\n",
    "\n",
    "plt.loglog();"
   ]
  },
  {
   "cell_type": "code",
   "execution_count": null,
   "metadata": {
    "collapsed": false
   },
   "outputs": [],
   "source": [
    "r_bins = np.logspace(-1, 1.6, 19)\n",
    "rbc = (r_bins[1:]+r_bins[:-1])/2.0"
   ]
  },
  {
   "cell_type": "code",
   "execution_count": null,
   "metadata": {
    "collapsed": true
   },
   "outputs": [],
   "source": [
    "sham_wp = np.load('/u/ki/swmclau2/Git/pearce/bin/mock_measurements/SHAMmock_wp.npy')\n",
    "shuffled_sham_wp = np.load('/u/ki/swmclau2/Git/pearce/bin/mock_measurements/SHUFFLED_SHAMmock_wp.npy')\n",
    "nfw_sham_wp = np.load('/u/ki/swmclau2/Git/pearce/bin/mock_measurements/NFWIZED_SHAMmock_wp.npy')"
   ]
  },
  {
   "cell_type": "code",
   "execution_count": null,
   "metadata": {
    "collapsed": false
   },
   "outputs": [],
   "source": [
    "plt.plot(rbc, sham_wp, label ='SHAM')\n",
    "plt.plot(rbc, shuffled_sham_wp, label = 'Shuffled')\n",
    "plt.plot(rbc, nfw_sham_wp, label = 'NFW')\n",
    "plt.loglog();\n",
    "plt.legend(loc='best')"
   ]
  },
  {
   "cell_type": "code",
   "execution_count": null,
   "metadata": {
    "collapsed": false
   },
   "outputs": [],
   "source": [
    "plt.plot(rbc, sham_wp/sham_wp, label ='SHAM')\n",
    "plt.plot(rbc, shuffled_sham_wp/sham_wp, label = 'Shuffled')\n",
    "plt.plot(rbc, nfw_sham_wp/sham_wp, label = 'NFW')\n",
    "plt.xscale('log');\n",
    "plt.legend(loc='best')"
   ]
  },
  {
   "cell_type": "code",
   "execution_count": null,
   "metadata": {
    "collapsed": true
   },
   "outputs": [],
   "source": [
    "sham_ds = np.load('/u/ki/swmclau2/Git/pearce/bin/mock_measurements/SHAMmock_ds.npy')\n",
    "shuffled_sham_ds = np.load('/u/ki/swmclau2/Git/pearce/bin/mock_measurements/SHUFFLED_SHAMmock_ds.npy')\n",
    "nfw_sham_ds = np.load('/u/ki/swmclau2/Git/pearce/bin/mock_measurements/NFWIZED_SHAMmock_ds.npy')"
   ]
  },
  {
   "cell_type": "code",
   "execution_count": null,
   "metadata": {
    "collapsed": false
   },
   "outputs": [],
   "source": [
    "plt.plot(rbc, sham_ds, label ='SHAM')\n",
    "plt.plot(rbc, shuffled_sham_ds, label = 'Shuffled')\n",
    "plt.plot(rbc, nfw_sham_ds, label = 'NFW')\n",
    "plt.loglog();\n",
    "plt.legend(loc='best')"
   ]
  },
  {
   "cell_type": "code",
   "execution_count": null,
   "metadata": {
    "collapsed": false
   },
   "outputs": [],
   "source": [
    "plt.plot(rbc, sham_ds/sham_ds, label ='SHAM')\n",
    "plt.plot(rbc, shuffled_sham_ds/sham_ds, label = 'Shuffled')\n",
    "plt.plot(rbc, nfw_sham_ds/sham_ds, label = 'NFW')\n",
    "plt.xscale('log');\n",
    "plt.legend(loc='best')"
   ]
  },
  {
   "cell_type": "code",
   "execution_count": null,
   "metadata": {
    "collapsed": false
   },
   "outputs": [],
   "source": [
    "mdpl2 = MDPL2()"
   ]
  },
  {
   "cell_type": "code",
   "execution_count": null,
   "metadata": {
    "collapsed": false
   },
   "outputs": [],
   "source": [
    "cat = TrainingBox(0,system='ki-ls')\n",
    "cat.load_model(1.0, HOD='abZheng07')"
   ]
  },
  {
   "cell_type": "code",
   "execution_count": null,
   "metadata": {
    "collapsed": false
   },
   "outputs": [],
   "source": [
    "mdpl2.pmass"
   ]
  },
  {
   "cell_type": "code",
   "execution_count": null,
   "metadata": {
    "collapsed": true
   },
   "outputs": [],
   "source": [
    "mass_function = np.histogram(halo_catalog[halo_catalog['halo_upid']==-1]['halo_mvir'], haloprop_bins)[0]"
   ]
  },
  {
   "cell_type": "code",
   "execution_count": null,
   "metadata": {
    "collapsed": true
   },
   "outputs": [],
   "source": [
    "mass_function[hbc<mdpl2.pmass*100] = 0.0"
   ]
  },
  {
   "cell_type": "code",
   "execution_count": null,
   "metadata": {
    "collapsed": false
   },
   "outputs": [],
   "source": [
    "plt.plot(hbc, mass_function)\n",
    "plt.loglog();"
   ]
  },
  {
   "cell_type": "code",
   "execution_count": null,
   "metadata": {
    "collapsed": true
   },
   "outputs": [],
   "source": [
    "def calc_analytic_nd(cat, params, min_ptcl):\n",
    "    hod = calc_hod(cat, params, hbc)\n",
    "    return np.sum(mass_function * hod) / ((1000) ** 3)  # /self.h)**3)\n"
   ]
  },
  {
   "cell_type": "code",
   "execution_count": null,
   "metadata": {
    "collapsed": false
   },
   "outputs": [],
   "source": [
    "from scipy.optimize import minimize_scalar, curve_fit\n",
    "def add_logMmin(hod_params, cat):\n",
    "\n",
    "    hod_params['logMmin'] = 13.0 #initial guess\n",
    "    #cat.populate(hod_params) #may be overkill, but will ensure params are written everywhere\n",
    "    def func(logMmin, hod_params):\n",
    "        hod_params.update({'logMmin':logMmin})\n",
    "        return (calc_analytic_nd(cat,hod_params, min_ptcl=100) - 5e-4)**2\n",
    "\n",
    "    res = minimize_scalar(func, bounds = (12.0,14.0),\\\n",
    "                          args = (hod_params,), \\\n",
    "                          options = {'maxiter':100}, method = 'Bounded')\n",
    "\n",
    "    # assuming this doens't fail\n",
    "    hod_params['logMmin'] = res.x\n",
    "    #print res.x,\n",
    "    #print calc_analytic_nd(cat, hod_params, min_ptcl=100)\n"
   ]
  },
  {
   "cell_type": "code",
   "execution_count": null,
   "metadata": {
    "collapsed": false
   },
   "outputs": [],
   "source": [
    "def calc_hod(cat, params, bin_centers):\n",
    "    cat.model.param_dict.update(params)\n",
    "    cens_occ, sats_occ = cat.model.model_dictionary['centrals_occupation'], cat.model.model_dictionary[\n",
    "        'satellites_occupation']\n",
    "    for key, val in params.iteritems():\n",
    "        if key in cens_occ.param_dict:\n",
    "            cens_occ.param_dict[key] = val\n",
    "        if key in sats_occ.param_dict:\n",
    "            sats_occ.param_dict[key] = val\n",
    "\n",
    "    cen_hod = getattr(cens_occ, \"baseline_mean_occupation\", cens_occ.mean_occupation)(prim_haloprop=bin_centers)\n",
    "\n",
    "    sat_hod = getattr(sats_occ, \"baseline_mean_occupation\", sats_occ.mean_occupation)(prim_haloprop=bin_centers)\n",
    "\n",
    "    return cen_hod, sat_hod"
   ]
  },
  {
   "cell_type": "code",
   "execution_count": null,
   "metadata": {
    "collapsed": true
   },
   "outputs": [],
   "source": [
    "chain_fname = '/u/ki/swmclau2/des/PearceMCMC/NFWizedSHAM_fixed_cosmo_wp_ds_rmin_None_CAB.hdf5'"
   ]
  },
  {
   "cell_type": "code",
   "execution_count": null,
   "metadata": {
    "collapsed": false
   },
   "outputs": [],
   "source": [
    "f = h5py.File(chain_fname, 'r')"
   ]
  },
  {
   "cell_type": "code",
   "execution_count": null,
   "metadata": {
    "collapsed": false
   },
   "outputs": [],
   "source": [
    "tf = f.attrs['training_file']"
   ]
  },
  {
   "cell_type": "code",
   "execution_count": null,
   "metadata": {
    "collapsed": true
   },
   "outputs": [],
   "source": [
    "n_walkers = f.attrs['nwalkers']\n",
    "chain_pnames = f.attrs['param_names']\n",
    "n_burn = 10000"
   ]
  },
  {
   "cell_type": "code",
   "execution_count": null,
   "metadata": {
    "collapsed": true
   },
   "outputs": [],
   "source": [
    "chain = f['chain'][:n_burn*n_walkers]"
   ]
  },
  {
   "cell_type": "code",
   "execution_count": null,
   "metadata": {
    "collapsed": false
   },
   "outputs": [],
   "source": [
    "chain.shape"
   ]
  },
  {
   "cell_type": "code",
   "execution_count": null,
   "metadata": {
    "collapsed": true
   },
   "outputs": [],
   "source": [
    "f.close()"
   ]
  },
  {
   "cell_type": "code",
   "execution_count": null,
   "metadata": {
    "collapsed": true
   },
   "outputs": [],
   "source": [
    "downsample_npoints = 100\n",
    "downsample_idxs = np.random.choice(chain.shape[0], downsample_npoints, replace=False)"
   ]
  },
  {
   "cell_type": "code",
   "execution_count": null,
   "metadata": {
    "collapsed": true
   },
   "outputs": [],
   "source": [
    "downsample_hod_chain = chain[downsample_idxs, 7:]"
   ]
  },
  {
   "cell_type": "code",
   "execution_count": null,
   "metadata": {
    "collapsed": false
   },
   "outputs": [],
   "source": [
    "hod_chain_pnames = chain_pnames[7:]"
   ]
  },
  {
   "cell_type": "code",
   "execution_count": null,
   "metadata": {
    "collapsed": false
   },
   "outputs": [],
   "source": [
    "cen_mask = sham_catalog['halo_upid'] == -1\n",
    "sham_cen_hod, _ = hod_from_mock( sham_catalog['halo_mvir_host_halo'][cen_mask],halo_catalog['halo_mvir'], haloprop_bins)\n",
    "sham_sat_hod, _  = hod_from_mock( sham_catalog['halo_mvir_host_halo'][~cen_mask],halo_catalog['halo_mvir'], haloprop_bins)"
   ]
  },
  {
   "cell_type": "code",
   "execution_count": null,
   "metadata": {
    "collapsed": false
   },
   "outputs": [],
   "source": [
    "fig = plt.figure(figsize=(12,6) )\n",
    "for point in downsample_hod_chain:\n",
    "    params = dict(zip(hod_chain_pnames,point))\n",
    "    add_logMmin(params, cat)\n",
    "\n",
    "    cen_hod, sat_hod = calc_hod(cat, params , hbc)\n",
    "    plt.subplot(121)\n",
    "    plt.plot(hbc, cen_hod, alpha = 0.2)\n",
    "    plt.subplot(122)\n",
    "    plt.plot(hbc, sat_hod, alpha = 0.2)\n",
    "\n",
    "plt.subplot(121)\n",
    "plt.plot(hbc, sham_cen_hod, color ='k')#, ls = ':')\n",
    "plt.ylim([1e-6, 1.2])\n",
    "plt.loglog();\n",
    "plt.subplot(122)\n",
    "plt.plot(hbc, sham_sat_hod, color = 'k')#, ls = '--')\n",
    "plt.ylim([1e-6, 1e2])\n",
    "plt.loglog();\n",
    "plt.show();"
   ]
  },
  {
   "cell_type": "code",
   "execution_count": null,
   "metadata": {
    "collapsed": false
   },
   "outputs": [],
   "source": [
    "def cen_hod(hbc, sigma_logM, logMmin, full_range = False):\n",
    "    params = {'sigma_logM': sigma_logM, 'logMmin': logMmin}\n",
    "    cat.model.param_dict.update(params)\n",
    "    \n",
    "    cens_occ = cat.model.model_dictionary['centrals_occupation']\n",
    "    \n",
    "    for key, val in params.iteritems():\n",
    "        if key in cens_occ.param_dict:\n",
    "            cens_occ.param_dict[key] = val\n",
    "            \n",
    "    cen_hod = getattr(cens_occ, \"baseline_mean_occupation\", cens_occ.mean_occupation)(prim_haloprop=hbc)\n",
    "    #sat_hod = getattr(sats_occ, \"baseline_mean_occupation\", sats_occ.mean_occupation)(prim_haloprop=bin_centers)\n",
    "    if full_range:\n",
    "        return cen_hod\n",
    "    \n",
    "    return np.log10(cen_hod[15:-4])"
   ]
  },
  {
   "cell_type": "code",
   "execution_count": null,
   "metadata": {
    "collapsed": false
   },
   "outputs": [],
   "source": [
    "def sat_hod(hbc, alpha, logM0, logM1, full_range = False):\n",
    "    params = {'alpha': alpha, 'logM0': logM0, 'logM1': logM1}\n",
    "    params.update( {'sigma_logM': t[0], 'logMmin': t[1]})\n",
    "    cat.model.param_dict.update(params)\n",
    "    sats_occ = cat.model.model_dictionary['satellites_occupation']\n",
    "    cens_occ, sats_occ = cat.model.model_dictionary['centrals_occupation'], cat.model.model_dictionary[\n",
    "        'satellites_occupation']\n",
    "    for key, val in params.iteritems():\n",
    "        if key in cens_occ.param_dict:\n",
    "            cens_occ.param_dict[key] = val\n",
    "        if key in sats_occ.param_dict:\n",
    "            sats_occ.param_dict[key] = val\n",
    "                \n",
    "    sat_hod = getattr(sats_occ, \"baseline_mean_occupation\", sats_occ.mean_occupation)(prim_haloprop=hbc)\n",
    "\n",
    "    if full_range:\n",
    "        return sat_hod\n",
    "    return sat_hod[:-4]"
   ]
  },
  {
   "cell_type": "code",
   "execution_count": null,
   "metadata": {
    "collapsed": false
   },
   "outputs": [],
   "source": [
    "t = curve_fit(cen_hod, hbc, np.log10(sham_cen_hod[15:-4]), p0 = [0.5, 13.5])[0]\n",
    "print t"
   ]
  },
  {
   "cell_type": "code",
   "execution_count": null,
   "metadata": {
    "collapsed": false
   },
   "outputs": [],
   "source": [
    "plt.plot(hbc, cen_hod(hbc, *t, full_range=True))\n",
    "plt.plot(hbc, sham_cen_hod)\n",
    "plt.ylim([1e-6, 2])\n",
    "plt.loglog();"
   ]
  },
  {
   "cell_type": "code",
   "execution_count": null,
   "metadata": {
    "collapsed": false
   },
   "outputs": [],
   "source": [
    "t2 = curve_fit(sat_hod, hbc,sham_sat_hod[:-4], p0 = [0.9, 13.3, 14.5])[0]\n",
    "print t2"
   ]
  },
  {
   "cell_type": "code",
   "execution_count": null,
   "metadata": {
    "collapsed": false
   },
   "outputs": [],
   "source": [
    "plt.plot(hbc, sat_hod(hbc, 1.038, 13.0, 14.56, full_range=True))\n",
    "plt.plot(hbc, sham_sat_hod)\n",
    "plt.ylim([1e-6, 50])\n",
    "plt.loglog();"
   ]
  },
  {
   "cell_type": "code",
   "execution_count": null,
   "metadata": {
    "collapsed": false
   },
   "outputs": [],
   "source": [
    "from pearce.emulator import LemonPepperWet\n",
    "emus = []\n",
    "for tmp in tf:\n",
    "    print tmp\n",
    "    emus.append(LemonPepperWet(tmp, fixed_params = {'z':0.0}, hyperparams = {}) )"
   ]
  },
  {
   "cell_type": "code",
   "execution_count": null,
   "metadata": {
    "collapsed": true
   },
   "outputs": [],
   "source": [
    "h = 0.6777\n",
    "cosmo_pnames = ['ombh2', 'omch2', 'w0', 'ns', 'H0', 'Neff', 'sigma8']\n",
    "cosmo_true_vals = np.array([0.048206*h**2, 0.307115*h**2,\\\n",
    "                            -1, 0.9667, \\\n",
    "                                h*100, 3.046, 0.8228]) #mdpl2\n",
    "\n",
    "cat_val_dict = dict(zip(cosmo_pnames, cosmo_true_vals))"
   ]
  },
  {
   "cell_type": "code",
   "execution_count": null,
   "metadata": {
    "collapsed": true
   },
   "outputs": [],
   "source": [
    "hod_pnames = ['sigma_logM', 'logM0', 'logM1', 'alpha', 'conc_gal_bias',\\\n",
    "              'mean_occupation_centrals_assembias_param1',\\\n",
    "              'mean_occupation_satellites_assembias_param1',\n",
    "             'mean_occupation_centrals_assembias_slope1',\\\n",
    "              'mean_occupation_satellites_assembias_slope1']\n",
    "#hod_true_vals = [t[0], 12.5, t2[2], t2[0], 1.0, 0.0, 0.0, 1.0, 1.0]\n",
    "#hod_true_vals = [0.2, 13.2, 14.5, 0.95, 1.0, 0.0, 0.0, 1.0, 1.0]"
   ]
  },
  {
   "cell_type": "code",
   "execution_count": null,
   "metadata": {
    "collapsed": false
   },
   "outputs": [],
   "source": [
    "chain.mean(axis = 0)"
   ]
  },
  {
   "cell_type": "code",
   "execution_count": null,
   "metadata": {
    "collapsed": false
   },
   "outputs": [],
   "source": [
    "hod_true_vals"
   ]
  },
  {
   "cell_type": "code",
   "execution_count": null,
   "metadata": {
    "collapsed": true
   },
   "outputs": [],
   "source": [
    "true_param_dict = cat_val_dict\n",
    "#true_param_dict.update(dict(zip(hod_pnames, hod_true_vals)))\n",
    "true_param_dict.update(zip(chain_pnames, chain.mean(axis=0)))"
   ]
  },
  {
   "cell_type": "code",
   "execution_count": null,
   "metadata": {
    "collapsed": false
   },
   "outputs": [],
   "source": [
    "emu_wp = emus[0].emulate_wrt_r(true_param_dict).squeeze()"
   ]
  },
  {
   "cell_type": "code",
   "execution_count": null,
   "metadata": {
    "collapsed": false
   },
   "outputs": [],
   "source": [
    "plt.plot(rbc, (10**emu_wp), label = 'Emu')\n",
    "plt.plot(rbc, sham_wp, label ='SHAM')\n",
    "plt.plot(rbc, shuffled_sham_wp, label = 'Shuffled')\n",
    "plt.plot(rbc, nfw_sham_wp, label = 'NFW')\n",
    "plt.loglog();\n",
    "plt.legend(loc='best')"
   ]
  },
  {
   "cell_type": "code",
   "execution_count": null,
   "metadata": {
    "collapsed": false
   },
   "outputs": [],
   "source": [
    "plt.plot(rbc, (10**emu_wp)/sham_wp, label = 'Emu')\n",
    "plt.plot(rbc, sham_wp/sham_wp, label ='SHAM')\n",
    "plt.plot(rbc, shuffled_sham_wp/sham_wp, label = 'Shuffled')\n",
    "plt.plot(rbc, nfw_sham_wp/sham_wp, label = 'NFW')\n",
    "plt.xscale('log');\n",
    "plt.legend(loc='best')"
   ]
  },
  {
   "cell_type": "code",
   "execution_count": null,
   "metadata": {
    "collapsed": false
   },
   "outputs": [],
   "source": [
    "emu_ds = emus[1].emulate_wrt_r(true_param_dict).squeeze()"
   ]
  },
  {
   "cell_type": "code",
   "execution_count": null,
   "metadata": {
    "collapsed": false
   },
   "outputs": [],
   "source": [
    "plt.plot(rbc, (10**emu_ds), label = 'Emu')\n",
    "plt.plot(rbc, sham_ds, label ='SHAM')\n",
    "plt.plot(rbc, shuffled_sham_ds, label = 'Shuffled')\n",
    "plt.plot(rbc, nfw_sham_ds, label = 'NFW')\n",
    "plt.loglog();\n",
    "plt.legend(loc='best')"
   ]
  },
  {
   "cell_type": "code",
   "execution_count": null,
   "metadata": {
    "collapsed": false
   },
   "outputs": [],
   "source": [
    "plt.plot(rbc, (10**emu_ds)/sham_ds, label = 'Emu')\n",
    "plt.plot(rbc, sham_ds/sham_ds, label ='SHAM')\n",
    "plt.plot(rbc, shuffled_sham_ds/sham_ds, label = 'Shuffled')\n",
    "plt.plot(rbc, nfw_sham_ds/sham_ds, label = 'NFW')\n",
    "plt.xscale('log');\n",
    "plt.legend(loc='best')"
   ]
  },
  {
   "cell_type": "raw",
   "metadata": {
    "collapsed": true
   },
   "source": [
    "def split_hod_plot(HOD, ab_params, sec_haloprop_key='halo_local_density_10', n_splits = 4, cmap_name = 'blue'):\n",
    "    cat.load_model(1.0, HOD=HOD, hod_kwargs= {'sec_haloprop_key': sec_haloprop_key})\n",
    "    cat.model.param_dict['logMmin'] = 13.0\n",
    "    cat.model.param_dict['logM0'] = 12.5\n",
    "    \n",
    "    cat.populate(ab_params, min_ptcl = 100)\n",
    "    print cat.model.param_dict\n",
    "    catalog = cat.model.mock.galaxy_table\n",
    "    sec_percentiles = compute_conditional_percentiles(prim_haloprop = cat.model.mock.halo_table['halo_mvir'],\\\n",
    "                                                  sec_haloprop = cat.model.mock.halo_table[sec_haloprop_key],\n",
    "                                              prim_haloprop_bin_boundaries= mass_bins)\n",
    "    \n",
    "    sec_gal_percentiles = get_haloprop_of_galaxies(catalog['halo_id'], cat.model.mock.halo_table['halo_id'],\n",
    "                                               sec_percentiles)\n",
    "    \n",
    "    # TODO bins here\n",
    "    hods = np.zeros((n_splits, len(mass_bin_centers)))\n",
    "    perc_ranges = np.linspace(0,1, n_splits+1)\n",
    "    \n",
    "    cmap = sns.color_palette(cmap_name, n_splits)\n",
    "    #cmap = sns.dark_palette(cmap_name, n_splits)\n",
    "\n",
    "    for i,c in enumerate(cmap):\n",
    "        sec_bin_gals = np.logical_and(perc_ranges[i] < sec_gal_percentiles, sec_gal_percentiles<perc_ranges[i+1])\n",
    "        sec_bin_halos = np.logical_and(perc_ranges[i] < sec_percentiles, sec_percentiles<perc_ranges[i+1])\n",
    "\n",
    "        sec_gal_hist, _ = np.histogram(catalog[sec_bin_gals]['halo_mvir'], bins = mass_bins)\n",
    "        sec_halo_hist, _= np.histogram(cat.model.mock.halo_table[sec_bin_halos]['halo_mvir'], bins = mass_bins)\n",
    "        \n",
    "        hods[i, :] = sec_gal_hist*1.0/sec_halo_hist\n",
    "        plt.plot(mass_bin_centers, hods[i], c = c, label = 'p < %0.2f'%perc_ranges[i+1])\n",
    "\n",
    "    \n",
    "    gal_hist, _ = np.histogram(catalog['halo_mvir'], bins = mass_bins)\n",
    "    halo_hist, _= np.histogram(cat.model.mock.halo_table['halo_mvir'], bins = mass_bins)\n",
    "    full_hod = gal_hist*1.0/halo_hist\n",
    "    \n",
    "    \n",
    "    plt.plot(mass_bin_centers, full_hod, label = 'Full HOD', color = 'k')\n",
    "    plt.legend(loc='best')\n",
    "    plt.loglog()\n",
    "    plt.xlim(1e12,5e14)\n",
    "    plt.ylim([0, 40])\n",
    "    plt.xlabel(r\"Host Halo Mass [$M_{\\odot}$]\")\n",
    "    plt.ylabel(r\"$\\langle N_t | M \\rangle$\")\n",
    "    plt.show()"
   ]
  },
  {
   "cell_type": "code",
   "execution_count": null,
   "metadata": {
    "collapsed": true
   },
   "outputs": [],
   "source": []
  }
 ],
 "metadata": {
  "kernelspec": {
   "display_name": "Python [conda env:hodemulator]",
   "language": "python",
   "name": "conda-env-hodemulator-py"
  },
  "language_info": {
   "codemirror_mode": {
    "name": "ipython",
    "version": 2
   },
   "file_extension": ".py",
   "mimetype": "text/x-python",
   "name": "python",
   "nbconvert_exporter": "python",
   "pygments_lexer": "ipython2",
   "version": "2.7.13"
  }
 },
 "nbformat": 4,
 "nbformat_minor": 0
}

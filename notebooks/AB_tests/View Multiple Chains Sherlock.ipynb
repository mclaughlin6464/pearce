{
 "cells": [
  {
   "cell_type": "code",
   "execution_count": 97,
   "metadata": {
    "collapsed": true
   },
   "outputs": [],
   "source": [
    "import matplotlib\n",
    "#matplotlib.use('Agg')\n",
    "from matplotlib import pyplot as plt\n",
    "%matplotlib inline\n",
    "import seaborn as sns\n",
    "sns.set()"
   ]
  },
  {
   "cell_type": "code",
   "execution_count": 98,
   "metadata": {
    "collapsed": true
   },
   "outputs": [],
   "source": [
    "import numpy as np\n",
    "#from chainconsumer import ChainConsumer\n",
    "from corner import corner"
   ]
  },
  {
   "cell_type": "code",
   "execution_count": 99,
   "metadata": {
    "scrolled": true
   },
   "outputs": [
    {
     "name": "stdout",
     "output_type": "stream",
     "text": [
      "-rw-r--r-- 1 swmclau2 kipac 1760000034 Nov 29 19:09 /scratch/users/swmclau2/PearceMCMC/500_walkers_20000_steps_xigg_emu2_jk.npy\r\n",
      "-rw-r--r-- 1 swmclau2 kipac 1760000034 Nov 29 19:06 /scratch/users/swmclau2/PearceMCMC/500_walkers_20000_steps_xigg_emu2_jk_shot.npy\r\n",
      "-rw-r--r-- 1 swmclau2 kipac 1760000034 Nov 29 18:56 /scratch/users/swmclau2/PearceMCMC/500_walkers_20000_steps_xigg_emu1_jk_shot.npy\r\n",
      "-rw-r--r-- 1 swmclau2 kipac 1760000034 Nov 29 18:50 /scratch/users/swmclau2/PearceMCMC/500_walkers_20000_steps_xigg_emu1_jk.npy\r\n",
      "-rw-r--r-- 1 swmclau2 kipac 1760000034 Nov 29 18:43 /scratch/users/swmclau2/PearceMCMC/500_walkers_20000_steps_xigg_emu1_shot.npy\r\n",
      "-rw-r--r-- 1 swmclau2 kipac 1760000034 Nov 29 18:37 /scratch/users/swmclau2/PearceMCMC/500_walkers_20000_steps_xigg_emu2_shot.npy\r\n",
      "-rw-r--r-- 1 swmclau2 kipac         34 Nov 29 11:11 /scratch/users/swmclau2/PearceMCMC/10_walkers_100_steps_chain_cosmo_zheng_xi_jk_meanv2.npy\r\n",
      "-rw-r--r-- 1 swmclau2 kipac  880000034 Nov 20 18:32 /scratch/users/swmclau2/PearceMCMC/500_walkers_10000_steps_chain_cosmo_zheng_xigm_jk_meanv2.npy\r\n",
      "-rw-r--r-- 1 swmclau2 kipac  880000034 Nov 20 18:18 /scratch/users/swmclau2/PearceMCMC/500_walkers_10000_steps_chain_cosmo_zheng_xi_jk_meanv2.npy\r\n",
      "-rw-r--r-- 1 swmclau2 kipac  880000034 Nov 20 15:08 /scratch/users/swmclau2/PearceMCMC/500_walkers_10000_steps_chain_cosmo_zheng_xigm_nojk_mean.npy\r\n",
      "-rw-r--r-- 1 swmclau2 kipac  880000034 Nov 20 14:37 /scratch/users/swmclau2/PearceMCMC/500_walkers_10000_steps_chain_cosmo_zheng_xi_nojk_mean.npy\r\n",
      "-rw-r--r-- 1 swmclau2 kipac 6732000034 Nov 20 10:28 /scratch/users/swmclau2/PearceMCMC/1000_walkers_50000_steps_chain_cosmo_zheng_xi_jk_mean.npy\r\n",
      "-rw-r--r-- 1 swmclau2 kipac 1760000034 Nov 19 16:16 /scratch/users/swmclau2/PearceMCMC/1000_walkers_10000_steps_chain_cosmo_zheng_xi_jk_mean.npy\r\n",
      "-rw-r--r-- 1 swmclau2 kipac  948640034 Nov 19 12:06 /scratch/users/swmclau2/PearceMCMC/1000_walkers_10000_steps_chain_cosmo_zheng_xi_diag.npy\r\n",
      "-rw-r--r-- 1 swmclau2 kipac 1760000034 Nov 16 18:11 /scratch/users/swmclau2/PearceMCMC/1000_walkers_10000_steps_chain_cosmo_zheng_xi_jk2.npy\r\n",
      "-rw-r--r-- 1 swmclau2 kipac  169724029 Nov 16 15:26 /scratch/users/swmclau2/PearceMCMC/1000_walkers_10000_steps_chain_cosmo_zheng_xi_jk_fixedNeff.npy\r\n",
      "-rw-r--r-- 1 swmclau2 kipac 1760000034 Nov 15 23:46 /scratch/users/swmclau2/PearceMCMC/1000_walkers_10000_steps_chain_cosmo_zheng_xi_jk.npy\r\n",
      "-rw-r--r-- 1 swmclau2 kipac  209880034 Nov 15 14:45 /scratch/users/swmclau2/PearceMCMC/500_walkers_10000_steps_chain_cosmo_zheng_xi_jk.npy\r\n",
      "-rw-r--r-- 1 swmclau2 kipac 6962100063 Nov 14 06:32 /scratch/users/swmclau2/PearceMCMC/1000_walkers_50000_steps_chain_cosmo_zheng_xi_lowmsat.npy\r\n",
      "-rw-r--r-- 1 swmclau2 kipac 1380000063 Nov 13 17:34 /scratch/users/swmclau2/PearceMCMC/500_walkers_10000_steps_chain_cosmo_zheng_xi_lowmsat.npy\r\n",
      "-rw-r--r-- 1 swmclau2 kipac  393008034 Nov 13 16:12 /scratch/users/swmclau2/PearceMCMC/500_walkers_10000_steps_chain_cosmo_zheng_xi_lowmsat_fixedHOD.npy\r\n",
      "-rw-r--r-- 1 swmclau2 kipac   40443999 Nov  8 11:26 /scratch/users/swmclau2/PearceMCMC/26_walkers_10000_steps_chain_cosmo_zheng_xi_lowmsat.npy\r\n",
      "-rw-r--r-- 1 swmclau2 kipac         63 Nov  8 08:59 /scratch/users/swmclau2/PearceMCMC/25_walkers_10000_steps_chain_cosmo_zheng_xi_lowmsat.npy\r\n",
      "-rw-r--r-- 1 swmclau2 kipac  424348216 May 16  2018 /scratch/users/swmclau2/PearceMCMC/500_walkers_5000_steps_chain_wt_alt_redmagic_z0.23_part2.npy\r\n",
      "-rw-r--r-- 1 swmclau2 kipac  410753079 May  2  2018 /scratch/users/swmclau2/PearceMCMC/500_walkers_5000_steps_chain_wt_alt_redmagic_z0.23.npy\r\n",
      "-rw-r--r-- 1 swmclau2 kipac        128 Apr 29  2018 /scratch/users/swmclau2/PearceMCMC/500_walkers_5000_steps_chain_wt_alt_log_redmagic_z0.23.npy\r\n",
      "-rw-r--r-- 1 swmclau2 kipac  201162109 Apr 27  2018 /scratch/users/swmclau2/PearceMCMC/200_walkers_5000_steps_chain_wt_alt_fixed_h_redmagic_z0.23.npy\r\n",
      "-rw-r--r-- 1 swmclau2 kipac   10416215 Apr 13  2018 /scratch/users/swmclau2/PearceMCMC/200_walkers_5000_steps_chain_wt_alt_new_nd_redmagic_z0.23.npy\r\n",
      "-rw-r--r-- 1 swmclau2 kipac   29284460 Apr  6  2018 /scratch/users/swmclau2/PearceMCMC/200_walkers_5000_steps_chain_wt_alt_redmagic_z0.23.npy\r\n",
      "-rw-r--r-- 1 swmclau2 kipac    4308127 Apr  6  2018 /scratch/users/swmclau2/PearceMCMC/200_walkers_5000_steps_chain_wt_redmagic_z0.23.npy\r\n",
      "-rw-r--r-- 1 swmclau2 kipac     200994 Apr  4  2018 /scratch/users/swmclau2/PearceMCMC/20_walkers_50_steps_chain_wt_redmagic_z0.23.npy\r\n",
      "-rw-r--r-- 1 swmclau2 kipac      40338 Apr  3  2018 /scratch/users/swmclau2/PearceMCMC/20_walkers_10_steps_chain_wt_redmagic_z0.23.npy\r\n",
      "-rw-r--r-- 1 swmclau2 kipac        128 Apr  3  2018 /scratch/users/swmclau2/PearceMCMC/20_walkers_5000_steps_chain_wt_redmagic_z0.23.npy\r\n",
      "-rw-r--r-- 1 swmclau2 kipac        128 Mar 29  2018 /scratch/users/swmclau2/PearceMCMC/10_walkers_5000_steps_chain_wt_redmagic_z0.23.npy\r\n",
      "-rw-r--r-- 1 swmclau2 kipac         42 Mar 26  2018 /scratch/users/swmclau2/PearceMCMC/200_walkers_5000_steps_chain_wt_redmagic_z0.23_no_nd.npy\r\n",
      "-rw-r--r-- 1 swmclau2 kipac  190661346 Jan 27  2018 /scratch/users/swmclau2/PearceMCMC/200_walkers_5000_steps_chain_vpeak_sham_fscab.npy\r\n",
      "-rw-r--r-- 1 swmclau2 kipac         38 Jan 22  2018 /scratch/users/swmclau2/PearceMCMC/200_walkers_5000_steps_chain_shuffle_sham_no_ab_pos.npy\r\n",
      "-rw-r--r-- 1 swmclau2 kipac   51425038 Jan 20  2018 /scratch/users/swmclau2/PearceMCMC/200_walkers_5000_steps_chain_shuffle_sham_no_ab_sh.npy\r\n",
      "-rw-r--r-- 1 swmclau2 kipac   20100038 Jan 19  2018 /scratch/users/swmclau2/PearceMCMC/200_walkers_5000_steps_chain_vpeak_sham_no_ab_2.npy\r\n",
      "-rw-r--r-- 1 swmclau2 kipac   22300038 Dec 23  2017 /scratch/users/swmclau2/PearceMCMC/200_walkers_5000_steps_chain_vpeak_sham_no_ab.npy\r\n",
      "-rw-r--r-- 1 swmclau2 kipac   69600038 Dec 17  2017 /scratch/users/swmclau2/PearceMCMC/200_walkers_5000_steps_chain_shuffled_sham2.npy\r\n",
      "-rw-r--r-- 1 swmclau2 kipac   20205553 Dec 17  2017 /scratch/users/swmclau2/PearceMCMC/100_walkers_2000_steps_chain_alpha_sham_free_split.npy\r\n",
      "-rw-r--r-- 1 swmclau2 kipac         42 Dec 17  2017 /scratch/users/swmclau2/PearceMCMC/500_walkers_5000_steps_chain_shuffled_sham.npy\r\n",
      "-rw-r--r-- 1 swmclau2 kipac    5100334 Dec 17  2017 /scratch/users/swmclau2/PearceMCMC/100_walkers_1000_steps_chain_alpha_sham_hs.npy\r\n",
      "-rw-r--r-- 1 swmclau2 kipac    7599798 Dec 17  2017 /scratch/users/swmclau2/PearceMCMC/100_walkers_1000_steps_chain_vpeak_sham_free_split_fixed_sat.npy\r\n",
      "-rw-r--r-- 1 swmclau2 kipac      62538 Dec 17  2017 /scratch/users/swmclau2/PearceMCMC/10_walkers_50_steps_chain_shuffled_sham.npy\r\n",
      "-rw-r--r-- 1 swmclau2 kipac   94750038 Dec 17  2017 /scratch/users/swmclau2/PearceMCMC/200_walkers_5000_steps_chain_shuffled_sham.npy\r\n",
      "-rw-r--r-- 1 swmclau2 kipac   12500000 Dec 17  2017 /scratch/users/swmclau2/PearceMCMC/100_walkers_1000_steps_chain_shuffled_sham_3.npy\r\n",
      "-rw-r--r-- 1 swmclau2 kipac   10099758 Dec 17  2017 /scratch/users/swmclau2/PearceMCMC/100_walkers_1000_steps_chain_vpeak_sham_free_split_3.npy\r\n",
      "-rw-r--r-- 1 swmclau2 kipac    5099789 Dec 17  2017 /scratch/users/swmclau2/PearceMCMC/100_walkers_1000_steps_chain_vpeak_sham_hs.npy\r\n",
      "-rw-r--r-- 1 swmclau2 kipac    1500000 Dec 17  2017 /scratch/users/swmclau2/PearceMCMC/100_walkers_100_steps_chain_wt_redmagic_z0.23.npy\r\n",
      "-rw-r--r-- 1 swmclau2 kipac  150000000 Dec 17  2017 /scratch/users/swmclau2/PearceMCMC/100_walkers_10000_steps_chain_wt_redmagic_z0.23.npy\r\n",
      "-rw-r--r-- 1 swmclau2 kipac 1500000000 Dec 17  2017 /scratch/users/swmclau2/PearceMCMC/1000_walkers_10000_steps_chain_wt_redmagic_z0.23.npy\r\n",
      "-rw-r--r-- 1 swmclau2 kipac   10103810 Dec 17  2017 /scratch/users/swmclau2/PearceMCMC/100_walkers_1000_steps_chain_alpha_sham_free_split.npy\r\n",
      "-rw-r--r-- 1 swmclau2 kipac   25000000 Dec 17  2017 /scratch/users/swmclau2/PearceMCMC/100_walkers_2000_steps_chain_shuffled_sham_no_nd_2.npy\r\n",
      "-rw-r--r-- 1 swmclau2 kipac   15000000 Dec 17  2017 /scratch/users/swmclau2/PearceMCMC/100_walkers_1000_steps_chain_old_training.npy\r\n",
      "-rw-r--r-- 1 swmclau2 kipac   15000000 Dec 17  2017 /scratch/users/swmclau2/PearceMCMC/100_walkers_1000_steps_chain_standard_errors_fixed_points_no_nd.npy\r\n",
      "-rw-r--r-- 1 swmclau2 kipac          0 Dec 17  2017 /scratch/users/swmclau2/PearceMCMC/100_walkers_1000_steps_fixed_standard_errors_fixed_points_no_nd.npy\r\n",
      "-rw-r--r-- 1 swmclau2 kipac        150 Dec 17  2017 /scratch/users/swmclau2/PearceMCMC/100_walkers_1000_steps_truth_standard_errors_fixed_points_no_nd.npy\r\n",
      "-rw-r--r-- 1 swmclau2 kipac      25000 Dec 17  2017 /scratch/users/swmclau2/PearceMCMC/10_walkers_100_steps_chain_standard_errors_fixed_points_no_nd.npy\r\n",
      "-rw-r--r-- 1 swmclau2 kipac          0 Dec 17  2017 /scratch/users/swmclau2/PearceMCMC/10_walkers_100_steps_fixed_standard_errors_fixed_points_no_nd.npy\r\n",
      "-rw-r--r-- 1 swmclau2 kipac         25 Dec 17  2017 /scratch/users/swmclau2/PearceMCMC/10_walkers_100_steps_truth_standard_errors_fixed_points_no_nd.npy\r\n",
      "-rw-r--r-- 1 swmclau2 kipac     100000 Dec 17  2017 /scratch/users/swmclau2/PearceMCMC/10_walkers_200_steps_chain_standard_errors_fixed_points_no_nd.npy\r\n",
      "-rw-r--r-- 1 swmclau2 kipac          0 Dec 17  2017 /scratch/users/swmclau2/PearceMCMC/10_walkers_200_steps_fixed_standard_errors_fixed_points_no_nd.npy\r\n",
      "-rw-r--r-- 1 swmclau2 kipac         50 Dec 17  2017 /scratch/users/swmclau2/PearceMCMC/10_walkers_200_steps_truth_standard_errors_fixed_points_no_nd.npy\r\n",
      "-rw-r--r-- 1 swmclau2 kipac     500000 Dec 17  2017 /scratch/users/swmclau2/PearceMCMC/20_walkers_250_steps_chain_standard_errors_fixed_points_no_nd.npy\r\n",
      "-rw-r--r-- 1 swmclau2 kipac          0 Dec 17  2017 /scratch/users/swmclau2/PearceMCMC/20_walkers_250_steps_fixed_standard_errors_fixed_points_no_nd.npy\r\n",
      "-rw-r--r-- 1 swmclau2 kipac        100 Dec 17  2017 /scratch/users/swmclau2/PearceMCMC/20_walkers_250_steps_truth_standard_errors_fixed_points_no_nd.npy\r\n",
      "-rw-r--r-- 1 swmclau2 kipac   50000000 Dec 17  2017 /scratch/users/swmclau2/PearceMCMC/100_walkers_5000_steps_chain_standard_errors_fixed_points.npy\r\n",
      "-rw-r--r-- 1 swmclau2 kipac          0 Dec 17  2017 /scratch/users/swmclau2/PearceMCMC/100_walkers_5000_steps_fixed_standard_errors_fixed_points.npy\r\n",
      "-rw-r--r-- 1 swmclau2 kipac        100 Dec 17  2017 /scratch/users/swmclau2/PearceMCMC/100_walkers_5000_steps_truth_standard_errors_fixed_points.npy\r\n",
      "-rw-r--r-- 1 swmclau2 kipac   75000000 Dec 17  2017 /scratch/users/swmclau2/PearceMCMC/100_walkers_5000_steps_chain_large_errors.npy\r\n",
      "-rw-r--r-- 1 swmclau2 kipac   12500000 Dec 17  2017 /scratch/users/swmclau2/PearceMCMC/100_walkers_1000_steps_chain_shuffled_sham_2.npy\r\n",
      "-rw-r--r-- 1 swmclau2 kipac   10099343 Dec 17  2017 /scratch/users/swmclau2/PearceMCMC/100_walkers_1000_steps_chain_vpeak_sham_free_split_2.npy\r\n",
      "-rw-r--r-- 1 swmclau2 kipac   10114485 Dec 17  2017 /scratch/users/swmclau2/PearceMCMC/100_walkers_1000_steps_chain_vpeak_sham_free_split_no_nd.npy\r\n",
      "-rw-r--r-- 1 swmclau2 kipac   10086166 Dec 17  2017 /scratch/users/swmclau2/PearceMCMC/100_walkers_1000_steps_chain_vpeak_sham_free_split.npy\r\n",
      "-rw-r--r-- 1 swmclau2 kipac       5101 Dec 17  2017 /scratch/users/swmclau2/PearceMCMC/10_walkers_10_steps_chain_shuffled_sham_tabulated.npy\r\n",
      "-rw-r--r-- 1 swmclau2 kipac   12500000 Dec 17  2017 /scratch/users/swmclau2/PearceMCMC/100_walkers_1000_steps_chain_shuffled_sham_no_nd.npy\r\n",
      "-rw-r--r-- 1 swmclau2 kipac    5100477 Dec 17  2017 /scratch/users/swmclau2/PearceMCMC/100_walkers_1000_steps_chain_shuffled_sham_tabulated.npy\r\n",
      "-rw-r--r-- 1 swmclau2 kipac   15000000 Dec 17  2017 /scratch/users/swmclau2/PearceMCMC/100_walkers_1000_steps_chain_wt_redmagic_z0.23.npy\r\n",
      "-rw-r--r-- 1 swmclau2 kipac          0 Dec 17  2017 /scratch/users/swmclau2/PearceMCMC/100_walkers_1000_steps_fixed_test_emulator_bias.npy\r\n",
      "-rw-r--r-- 1 swmclau2 kipac        150 Dec 17  2017 /scratch/users/swmclau2/PearceMCMC/100_walkers_1000_steps_truth_test_emulator_bias.npy\r\n",
      "-rw-r--r-- 1 swmclau2 kipac      51064 Dec 17  2017 /scratch/users/swmclau2/PearceMCMC/100_walkers_10_steps_chain_shuffled_sham_tabulated.npy\r\n",
      "-rw-r--r-- 1 swmclau2 kipac     150000 Dec 17  2017 /scratch/users/swmclau2/PearceMCMC/100_walkers_10_steps_chain_wt_redmagic_z0.23.npy\r\n",
      "-rw-r--r-- 1 swmclau2 kipac  300000000 Dec 17  2017 /scratch/users/swmclau2/PearceMCMC/200_walkers_10000_steps_chain_2.npy\r\n",
      "-rw-r--r-- 1 swmclau2 kipac   15000000 Dec 17  2017 /scratch/users/swmclau2/PearceMCMC/100_walkers_1000_steps_chain_old_errors_2.npy\r\n",
      "-rw-r--r-- 1 swmclau2 kipac   15000000 Dec 17  2017 /scratch/users/swmclau2/PearceMCMC/100_walkers_1000_steps_chain_old_errors.npy\r\n",
      "-rw-r--r-- 1 swmclau2 kipac   12500000 Dec 17  2017 /scratch/users/swmclau2/PearceMCMC/100_walkers_1000_steps_chain_shuffled_sham.npy\r\n",
      "-rw-r--r-- 1 swmclau2 kipac   15000000 Dec 17  2017 /scratch/users/swmclau2/PearceMCMC/100_walkers_1000_steps_chain_test_emulator_bias.npy\r\n",
      "-rw-r--r-- 1 swmclau2 kipac          0 Dec 17  2017 /scratch/users/swmclau2/PearceMCMC/100_walkers_1000_steps_fixed_old_errors_2.npy\r\n",
      "-rw-r--r-- 1 swmclau2 kipac          0 Dec 17  2017 /scratch/users/swmclau2/PearceMCMC/100_walkers_1000_steps_fixed_old_errors.npy\r\n",
      "-rw-r--r-- 1 swmclau2 kipac        150 Dec 17  2017 /scratch/users/swmclau2/PearceMCMC/100_walkers_1000_steps_truth_old_errors_2.npy\r\n",
      "-rw-r--r-- 1 swmclau2 kipac        150 Dec 17  2017 /scratch/users/swmclau2/PearceMCMC/100_walkers_1000_steps_truth_old_errors.npy\r\n",
      "-rw-r--r-- 1 swmclau2 kipac          0 Dec 17  2017 /scratch/users/swmclau2/PearceMCMC/100_walkers_4000_steps_fixed_normal_errors_resumed.npy\r\n",
      "-rw-r--r-- 1 swmclau2 kipac        150 Dec 17  2017 /scratch/users/swmclau2/PearceMCMC/100_walkers_4000_steps_truth_normal_errors_resumed.npy\r\n",
      "-rw-r--r-- 1 swmclau2 kipac  150000000 Dec 17  2017 /scratch/users/swmclau2/PearceMCMC/200_walkers_5000_steps_chain_2.npy\r\n",
      "-rw-r--r-- 1 swmclau2 kipac          0 Dec 17  2017 /scratch/users/swmclau2/PearceMCMC/100_walkers_1000_steps_fixed_old_training.npy\r\n",
      "-rw-r--r-- 1 swmclau2 kipac        150 Dec 17  2017 /scratch/users/swmclau2/PearceMCMC/100_walkers_1000_steps_truth_old_training.npy\r\n",
      "-rw-r--r-- 1 swmclau2 kipac   60000000 Dec 17  2017 /scratch/users/swmclau2/PearceMCMC/100_walkers_4000_steps_chain_normal_errors_resumed.npy\r\n",
      "-rw-r--r-- 1 swmclau2 kipac  150000000 Dec 17  2017 /scratch/users/swmclau2/PearceMCMC/200_walkers_5000_steps_chain.npy\r\n",
      "-rw-r--r-- 1 swmclau2 kipac   13500000 Dec 17  2017 /scratch/users/swmclau2/PearceMCMC/chain.npy\r\n",
      "-rw-r--r-- 1 swmclau2 kipac   13500000 Dec 17  2017 /scratch/users/swmclau2/PearceMCMC/chain_w_nd.npy\r\n"
     ]
    }
   ],
   "source": [
    "! ls -lt /scratch/users/swmclau2/PearceMCMC/*.npy"
   ]
  },
  {
   "cell_type": "code",
   "execution_count": 100,
   "metadata": {
    "collapsed": true
   },
   "outputs": [],
   "source": [
    "from glob import glob\n",
    "fnames = glob('/scratch/users/swmclau2/PearceMCMC/500_walkers_20000_steps_xigg_emu2_*.npy')"
   ]
  },
  {
   "cell_type": "code",
   "execution_count": 101,
   "metadata": {
    "collapsed": true
   },
   "outputs": [],
   "source": [
    "n_walkers = 500\n",
    "n_burn = 15000"
   ]
  },
  {
   "cell_type": "code",
   "execution_count": 102,
   "metadata": {
    "collapsed": true
   },
   "outputs": [],
   "source": [
    "from itertools import islice"
   ]
  },
  {
   "cell_type": "code",
   "execution_count": 103,
   "metadata": {
    "collapsed": true
   },
   "outputs": [],
   "source": [
    "def read_chain(fname, n_walkers, n_burn)\n",
    "    chain_list = []\n",
    "    with open(fname, 'r') as f:\n",
    "        step_counter = 0\n",
    "        header =  f.readline() #header\n",
    "        chain_pnames = header[1:].split()\n",
    "        while True:\n",
    "            next_lines = islice(f, n_walkers)\n",
    "            step_counter+=1\n",
    "\n",
    "            #if step_counter % 1000 == 0:\n",
    "            #    print step_counter, len(chain_list)\n",
    "\n",
    "            if step_counter <= n_burn:\n",
    "                for line in next_lines:\n",
    "                    pass\n",
    "                continue\n",
    "\n",
    "            next_lines = np.array([ np.fromstring(line, sep = ' ') for line in next_lines], dtype=float)\n",
    "\n",
    "            if len(next_lines) < 1:\n",
    "                break\n",
    "\n",
    "\n",
    "\n",
    "            chain_list.append(next_lines)\n",
    "    return np.vstack(chain_list)"
   ]
  },
  {
   "cell_type": "code",
   "execution_count": null,
   "metadata": {
    "collapsed": true
   },
   "outputs": [],
   "source": [
    "chains = [read_chain(fname, n_walkers, n_burn) for fname in fnames]"
   ]
  },
  {
   "cell_type": "raw",
   "metadata": {},
   "source": [
    "print chain.shape, chain.shape[0]/n_walkers"
   ]
  },
  {
   "cell_type": "code",
   "execution_count": 106,
   "metadata": {
    "collapsed": true
   },
   "outputs": [],
   "source": [
    "n_params = chain.shape[1] if len(chain.shape) > 1 else 1"
   ]
  },
  {
   "cell_type": "code",
   "execution_count": 108,
   "metadata": {
    "collapsed": true
   },
   "outputs": [],
   "source": [
    "param_names = [r'$N_{eff}$', r'$\\log(M_0)$',r'$\\log(M_1)$', r'$H_0$',r'$w_0$', r'$\\ln(10A_s)$',  r'$\\Omega_c h^2$',\n",
    "               r'$\\sigma_{\\log M }$', r'$\\alpha$',  r'$n_s$', r'$\\Omega_b h^2$']"
   ]
  },
  {
   "cell_type": "code",
   "execution_count": 109,
   "metadata": {
    "collapsed": true
   },
   "outputs": [],
   "source": [
    "hod_idxs = np.array([1, 2, 7, 8])\n",
    "cosmo_idxs = np.array([0, 3, 4, 5, 6, 9, 10])"
   ]
  },
  {
   "cell_type": "code",
   "execution_count": 110,
   "metadata": {
    "collapsed": true
   },
   "outputs": [],
   "source": [
    "#hod_chain = chain[:, hod_idxs]\n",
    "#cosmo_chain = chain[:, cosmo_idxs]\n",
    "\n",
    "cosmo_chain = chain"
   ]
  },
  {
   "cell_type": "code",
   "execution_count": 111,
   "metadata": {},
   "outputs": [
    {
     "data": {
      "text/plain": [
       "['Neff', 'H0', 'w0', 'omch2', 'ln10As', 'ns', 'ombh2']"
      ]
     },
     "execution_count": 111,
     "metadata": {},
     "output_type": "execute_result"
    }
   ],
   "source": [
    "chain_pnames"
   ]
  },
  {
   "cell_type": "code",
   "execution_count": 112,
   "metadata": {
    "collapsed": true
   },
   "outputs": [],
   "source": [
    "hod_param_names = [r'$\\log(M_0)$',r'$\\log(M_1)$', r'$\\sigma_{\\log M }$' ,r'$\\alpha$' ]\n",
    "cosmo_param_names = [r'$N_{eff}$', r'$H_0$', r'$w_0$', r'$\\Omega_c h^2$', r'$\\ln(10A_s)$' ,r'$n_s$',r'$\\Omega_b h^2$' ]"
   ]
  },
  {
   "cell_type": "code",
   "execution_count": 113,
   "metadata": {
    "collapsed": true
   },
   "outputs": [],
   "source": [
    "from pearce.mocks import cat_dict\n",
    "cosmo_params = {'simname':'testbox', 'boxno': 0, 'realization':0, 'scale_factors':[1.0], 'system': 'sherlock'}\n",
    "cat = cat_dict[cosmo_params['simname']](**cosmo_params)#construct the specified catalog!"
   ]
  },
  {
   "cell_type": "code",
   "execution_count": 114,
   "metadata": {
    "collapsed": true
   },
   "outputs": [],
   "source": [
    "cpv = cat._get_cosmo_param_names_vals()\n",
    "\n",
    "cat_val_dict =  {key: val for key, val in zip(cpv[0], cpv[1])}"
   ]
  },
  {
   "cell_type": "code",
   "execution_count": 115,
   "metadata": {
    "collapsed": true
   },
   "outputs": [],
   "source": [
    "#cosmo_true_vals = [3.7,70.7317,-1.13151,0.12283, 3.11395,  0.953515,  0.021762]\n",
    "cosmo_true_vals = [cat_val_dict[pn] for pn in chain_pnames if pn in cat_val_dict]"
   ]
  },
  {
   "cell_type": "code",
   "execution_count": 116,
   "metadata": {},
   "outputs": [
    {
     "name": "stdout",
     "output_type": "stream",
     "text": [
      "[2.9500000000000002, 63.231699999999996, -0.72651299999999996, 0.10783, 3.0389499999999998, 0.98051499999999991, 0.023262900000000003]\n"
     ]
    }
   ],
   "source": [
    "print cosmo_true_vals"
   ]
  },
  {
   "cell_type": "code",
   "execution_count": 117,
   "metadata": {
    "collapsed": true
   },
   "outputs": [],
   "source": [
    "emulation_point = [('logM0', 14.0), ('sigma_logM', 0.2),\n",
    "                    ('alpha', 1.083),('logM1', 13.7)]"
   ]
  },
  {
   "cell_type": "code",
   "execution_count": null,
   "metadata": {
    "collapsed": true
   },
   "outputs": [],
   "source": [
    "hod_true_vals = [14.0, 13.7, 0.2, 1.083]"
   ]
  },
  {
   "cell_type": "raw",
   "metadata": {},
   "source": [
    "corner(hod_chain, labels=hod_param_names,\n",
    "                       quantiles=[0.16, 0.5, 0.84],\n",
    "                        truths = hod_true_vals,\n",
    "                       show_titles=True, title_kwargs={\"fontsize\": 12},\n",
    "                      plot_datapoints =False, plot_density = True);"
   ]
  },
  {
   "cell_type": "code",
   "execution_count": null,
   "metadata": {
    "collapsed": true
   },
   "outputs": [],
   "source": [
    "corner(cosmo_chain, labels=cosmo_param_names,\n",
    "                       quantiles=[0.13, 0.5, 0.86],\n",
    "                        truths = cosmo_true_vals,\n",
    "                       show_titles=True, title_kwargs={\"fontsize\": 12},\n",
    "                          plot_datapoints = True, plot_density = True);"
   ]
  },
  {
   "cell_type": "raw",
   "metadata": {
    "collapsed": true
   },
   "source": [
    "true_vals = np.zeros((len(hod_true_vals) + len(cosmo_true_vals)))\n",
    "for ci, ctv in zip(cosmo_idxs, cosmo_true_vals):\n",
    "    true_vals[ci] = ctv\n",
    "    \n",
    "for hi, htv in zip(hod_idxs, hod_true_vals):\n",
    "    true_vals[hi] = htv"
   ]
  },
  {
   "cell_type": "raw",
   "metadata": {},
   "source": [
    "corner(chain, \n",
    "       truths = true_vals,\n",
    "    quantiles=[0.16, 0.5, 0.84],\n",
    "    plot_datapoints = False, plot_density = True);"
   ]
  },
  {
   "cell_type": "code",
   "execution_count": null,
   "metadata": {
    "collapsed": true
   },
   "outputs": [],
   "source": []
  }
 ],
 "metadata": {
  "kernelspec": {
   "display_name": "Python 2",
   "language": "python",
   "name": "python2"
  },
  "language_info": {
   "codemirror_mode": {
    "name": "ipython",
    "version": 2
   },
   "file_extension": ".py",
   "mimetype": "text/x-python",
   "name": "python",
   "nbconvert_exporter": "python",
   "pygments_lexer": "ipython2",
   "version": "2.7.13"
  }
 },
 "nbformat": 4,
 "nbformat_minor": 1
}

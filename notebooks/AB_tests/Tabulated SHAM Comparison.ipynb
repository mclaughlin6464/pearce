{
 "cells": [
  {
   "cell_type": "markdown",
   "metadata": {},
   "source": [
    "I wanna sanity test that tabulating the HODs from two different SHAMs will give different clustering. "
   ]
  },
  {
   "cell_type": "code",
   "execution_count": 16,
   "metadata": {},
   "outputs": [],
   "source": [
    "import numpy as np\n",
    "import astropy\n",
    "from itertools import izip\n",
    "from pearce.mocks import compute_prim_haloprop_bins, cat_dict\n",
    "from pearce.mocks.customHODModels import *\n",
    "from halotools.utils.table_utils import compute_conditional_percentiles\n",
    "from halotools.mock_observables import hod_from_mock"
   ]
  },
  {
   "cell_type": "code",
   "execution_count": 17,
   "metadata": {},
   "outputs": [],
   "source": [
    "from matplotlib import pyplot as plt\n",
    "%matplotlib inline\n",
    "import seaborn as sns\n",
    "sns.set()"
   ]
  },
  {
   "cell_type": "code",
   "execution_count": 18,
   "metadata": {},
   "outputs": [],
   "source": [
    "mag_cut = -21\n",
    "min_ptcl = 200"
   ]
  },
  {
   "cell_type": "code",
   "execution_count": 19,
   "metadata": {},
   "outputs": [],
   "source": [
    "PMASS = 591421440.0000001 #chinchilla 400/ 2048\n",
    "#catalog = np.loadtxt('ab_sham_hod_data_cut.npy')\n",
    "catalog = astropy.table.Table.read('abmatched_halos.hdf5', format = 'hdf5')"
   ]
  },
  {
   "cell_type": "code",
   "execution_count": 20,
   "metadata": {},
   "outputs": [],
   "source": [
    "cosmo_params = {'simname':'chinchilla', 'Lbox':400.0, 'scale_factors':[0.658, 1.0]}\n",
    "cat = cat_dict[cosmo_params['simname']](**cosmo_params)#construct the specified catalog!\n",
    "\n",
    "cat.load_catalog(1.0)"
   ]
  },
  {
   "cell_type": "code",
   "execution_count": 21,
   "metadata": {},
   "outputs": [
    {
     "data": {
      "text/plain": [
       "['halo_upid',\n",
       " 'halo_y',\n",
       " 'halo_x',\n",
       " 'halo_z',\n",
       " 'halo_rvir',\n",
       " 'halo_vpeak',\n",
       " 'halo_rs_klypin',\n",
       " 'halo_snapnum',\n",
       " 'halo_halfmass_scale',\n",
       " 'halo_id',\n",
       " 'halo_vx',\n",
       " 'halo_vy',\n",
       " 'halo_vz',\n",
       " 'halo_rs',\n",
       " 'halo_mvir',\n",
       " 'halo_nfw_conc',\n",
       " 'halo_vpeak_mag',\n",
       " 'halo_vvir_mag',\n",
       " 'halo_alpha_05_mag',\n",
       " 'halo_shuffled_vpeak_mag',\n",
       " 'halo_shuffled_vvir_mag',\n",
       " 'halo_shuffled_alpha_05_mag',\n",
       " 'host_halo_nfw_conc',\n",
       " 'host_halo_rvir',\n",
       " 'halo_nfw_x',\n",
       " 'halo_nfw_y',\n",
       " 'halo_nfw_z',\n",
       " 'halo_sh_shuffled_vpeak_mag',\n",
       " 'halo_sh_shuffled_vvir_mag',\n",
       " 'halo_sh_shuffled_alpha_05_mag',\n",
       " 'halo_shuffled_x',\n",
       " 'halo_shuffled_y',\n",
       " 'halo_shuffled_z',\n",
       " 'halo_shuffled_upid',\n",
       " 'halo_shuffled_host_mvir',\n",
       " 'halo_sh_shuffled_x',\n",
       " 'halo_sh_shuffled_y',\n",
       " 'halo_sh_shuffled_z',\n",
       " 'halo_sh_shuffled_upid',\n",
       " 'halo_sh_shuffled_host_mvir',\n",
       " 'halo_sh_shuffled_cen_vpeak_mag',\n",
       " 'halo_sh_shuffled_cen_vvir_mag',\n",
       " 'halo_sh_shuffled_cen_alpha_05_mag',\n",
       " 'halo_sh_shuffled_cen_x',\n",
       " 'halo_sh_shuffled_cen_y',\n",
       " 'halo_sh_shuffled_cen_z',\n",
       " 'halo_sh_shuffled_cen_upid',\n",
       " 'halo_sh_shuffled_cen_host_mvir',\n",
       " 'halo_sh_shuffled_sats_vpeak_mag',\n",
       " 'halo_sh_shuffled_sats_vvir_mag',\n",
       " 'halo_sh_shuffled_sats_alpha_05_mag',\n",
       " 'halo_sh_shuffled_sats_x',\n",
       " 'halo_sh_shuffled_sats_y',\n",
       " 'halo_sh_shuffled_sats_z',\n",
       " 'halo_sh_shuffled_sats_upid',\n",
       " 'halo_sh_shuffled_sats_host_mvir',\n",
       " 'halo_hostid',\n",
       " 'halo_x_host_halo',\n",
       " 'halo_y_host_halo',\n",
       " 'halo_z_host_halo',\n",
       " 'halo_nfw_conc_host_halo',\n",
       " 'halo_mvir_host_halo',\n",
       " 'halo_rvir_host_halo']"
      ]
     },
     "execution_count": 21,
     "metadata": {},
     "output_type": "execute_result"
    }
   ],
   "source": [
    "catalog.colnames"
   ]
  },
  {
   "cell_type": "code",
   "execution_count": 22,
   "metadata": {},
   "outputs": [],
   "source": [
    "vpeak_catalog = catalog[np.logical_and(catalog['halo_mvir'] > min_ptcl*cat.pmass, catalog['halo_vpeak_mag'] <=mag_cut)]\n",
    "mpeak_catalog = catalog[np.logical_and(catalog['halo_mvir'] > min_ptcl*cat.pmass, catalog['halo_vvir_mag'] <=mag_cut)]"
   ]
  },
  {
   "cell_type": "code",
   "execution_count": 23,
   "metadata": {
    "collapsed": true
   },
   "outputs": [],
   "source": [
    "from math import ceil\n",
    "def compute_mass_bins(prim_haloprop, dlog10_prim_haloprop=0.05):   \n",
    "    lg10_min_prim_haloprop = np.log10(np.min(prim_haloprop))-0.001\n",
    "    lg10_max_prim_haloprop = np.log10(np.max(prim_haloprop))+0.001\n",
    "    num_prim_haloprop_bins = (lg10_max_prim_haloprop-lg10_min_prim_haloprop)/dlog10_prim_haloprop\n",
    "    return np.logspace(\n",
    "        lg10_min_prim_haloprop, lg10_max_prim_haloprop,\n",
    "        num=int(ceil(num_prim_haloprop_bins)))"
   ]
  },
  {
   "cell_type": "code",
   "execution_count": 24,
   "metadata": {},
   "outputs": [
    {
     "data": {
      "image/png": "[encoded data removed]",
      "text/plain": [
       "<matplotlib.figure.Figure at 0x7f17dc2431d0>"
      ]
     },
     "metadata": {},
     "output_type": "display_data"
    }
   ],
   "source": [
    "halo_mass = catalog['halo_mvir'][catalog['halo_mvir'] > min_ptcl*cat.pmass]\n",
    "haloprop_bins = compute_mass_bins(halo_mass, 0.2)\n",
    "mbc = (haloprop_bins[1:]+haloprop_bins[:-1])/2.0\n",
    "cen_hods, sat_hods = [], []\n",
    "\n",
    "for galaxy_catalog in (vpeak_catalog, mpeak_catalog):\n",
    "    cenmask = galaxy_catalog['halo_upid']==-1\n",
    "    satmask = galaxy_catalog['halo_upid']>0\n",
    "    \n",
    "    cen_hods.append(hod_from_mock(galaxy_catalog['halo_mvir_host_halo'][cenmask], halo_mass, haloprop_bins)[0])\n",
    "    sat_hods.append(hod_from_mock(galaxy_catalog['halo_mvir_host_halo'][satmask], halo_mass, haloprop_bins)[0])\n",
    "\n",
    "    plt.plot(mbc, cen_hods[-1]+ sat_hods[-1])\n",
    "    plt.loglog()"
   ]
  },
  {
   "cell_type": "code",
   "execution_count": 25,
   "metadata": {},
   "outputs": [],
   "source": [
    "from pearce.mocks.customHODModels import *"
   ]
  },
  {
   "cell_type": "code",
   "execution_count": 26,
   "metadata": {},
   "outputs": [],
   "source": [
    "#rp_bins = np.logspace(-1,1.5,20)\n",
    "rp_bins = np.logspace(-1.1,1.6, 18)\n",
    "bin_centers = (rp_bins[:1]+rp_bins[:-1])/2"
   ]
  },
  {
   "cell_type": "code",
   "execution_count": null,
   "metadata": {
    "scrolled": false
   },
   "outputs": [
    {
     "name": "stdout",
     "output_type": "stream",
     "text": [
      "[  9.29947086e-06   5.44534648e-05   2.23620048e-04   7.78927275e-04\n",
      "   6.52298174e-03   3.98616437e-02   1.31518237e-01   2.73696459e-01\n",
      "   4.36069787e-01   5.82144250e-01   6.92182410e-01   7.84337594e-01\n",
      "   8.64299065e-01   9.01381910e-01   9.47815534e-01   9.79591837e-01\n",
      "   9.76878613e-01   1.00000000e+00   1.00000000e+00   1.00000000e+00\n",
      "   1.00000000e+00]\n",
      "[  0.00000000e+00   0.00000000e+00   0.00000000e+00   1.09708067e-05\n",
      "   8.40590431e-06   6.47735517e-05   6.16522811e-04   4.30844707e-03\n",
      "   1.83858054e-02   4.95126706e-02   1.26284139e-01   2.43862853e-01\n",
      "   4.83364486e-01   8.41708543e-01   1.47330097e+00   2.36479592e+00\n",
      "   4.03468208e+00   6.64406780e+00   7.58333333e+00   1.35000000e+01\n",
      "   1.85000000e+01]\n"
     ]
    }
   ],
   "source": [
    "for cen_hod, sat_hod in zip(cen_hods, sat_hods):\n",
    "    print cen_hod\n",
    "    print sat_hod\n",
    "    cat.load_model(1.0, HOD=(TabulatedCens, TabulatedSats), hod_kwargs = {'prim_haloprop_vals': mbc,\n",
    "                                                               #'sec_haloprop_key': 'halo_%s'%(mag_type),\n",
    "                                                               'cen_hod_vals':cen_hod,\n",
    "                                                               'sat_hod_vals':sat_hod})# ,\n",
    "                                                                #'split':0.7})\n",
    "        \n",
    "    cat.populated_once = False\n",
    "    cat.populate({})\n",
    "    xi = cat.calc_xi(rp_bins)\n",
    "    print xi\n",
    "    break\n",
    "    \n",
    "    plt.plot(bin_centers,xi)\n",
    "    plt.loglog();"
   ]
  },
  {
   "cell_type": "code",
   "execution_count": null,
   "metadata": {
    "collapsed": true
   },
   "outputs": [],
   "source": [
    "from halotools.mock_observables import wp, tpcf"
   ]
  },
  {
   "cell_type": "code",
   "execution_count": null,
   "metadata": {
    "collapsed": true
   },
   "outputs": [],
   "source": [
    "min_logmass, max_logmass = 9.0, 17.0"
   ]
  },
  {
   "cell_type": "code",
   "execution_count": null,
   "metadata": {
    "collapsed": true
   },
   "outputs": [],
   "source": [
    "from halotools.mock_observables import tpcf_one_two_halo_decomp"
   ]
  },
  {
   "cell_type": "code",
   "execution_count": null,
   "metadata": {},
   "outputs": [],
   "source": [
    "#mock_wp = cat.calc_wp(rp_bins, RSD= False)\n",
    "MAP = np.array([ 0.0, 0.0,5,5])\n",
    "\n",
    "names = ['mean_occupation_centrals_assembias_param1','mean_occupation_satellites_assembias_param1',\\\n",
    "        'mean_occupation_centrals_assembias_slope1','mean_occupation_satellites_assembias_slope1']\n",
    "params = dict(zip(names, MAP))\n",
    "\n",
    "mock_wps = []\n",
    "mock_wps_1h, mock_wps_2h = [],[]\n",
    "mock_nds = []\n",
    "for i in xrange(10):\n",
    "    cat.populate(params)\n",
    "    #cut_idx = cat.model.mock.galaxy_table['gal_type'] == 'centrals'\n",
    "    mass_cut = np.logical_and(np.log10(cat.model.mock.galaxy_table['halo_mvir'] ) > min_logmass,\\\n",
    "                              np.log10(cat.model.mock.galaxy_table['halo_mvir'] ) <= max_logmass)\n",
    "    #mass_cut = np.logical_and(mass_cut, cut_idx)\n",
    "    #mock_nds.append(len(cut_idx)/cat.Lbox**3)\n",
    "    mock_pos = np.c_[cat.model.mock.galaxy_table[mass_cut]['x'],\\\n",
    "                     cat.model.mock.galaxy_table[mass_cut]['y'],\\\n",
    "                     cat.model.mock.galaxy_table[mass_cut]['z']]\n",
    "    mock_wps.append(tpcf(mock_pos, rp_bins , period=cat.Lbox, num_threads=1))\n",
    "    oneh, twoh = tpcf_one_two_halo_decomp(mock_pos,cat.model.mock.galaxy_table[mass_cut]['halo_hostid'],\\\n",
    "                                          rp_bins , period=cat.Lbox, num_threads=1)\n",
    "    mock_wps_1h.append(oneh)\n",
    "    mock_wps_2h.append(twoh)\n",
    "    \n",
    "mock_wps = np.array(mock_wps)\n",
    "mock_wp_no_ab = np.mean(mock_wps, axis = 0)\n",
    "wp_errs = np.std(mock_wps, axis = 0)\n",
    "\n",
    "mock_wps_1h = np.array(mock_wps_1h)\n",
    "mock_wp_no_ab_1h = np.mean(mock_wps_1h, axis = 0)\n",
    "\n",
    "mock_wps_2h = np.array(mock_wps_2h)\n",
    "mock_wp_no_ab_2h = np.mean(mock_wps_2h, axis = 0)\n",
    "\n",
    "mock_nds = np.array(mock_nds)\n",
    "mock_nd = np.mean(mock_nds)\n",
    "nd_err = np.std(mock_nds)"
   ]
  },
  {
   "cell_type": "code",
   "execution_count": null,
   "metadata": {},
   "outputs": [],
   "source": [
    "#mock_wp = cat.calc_wp(rp_bins, RSD= False)\n",
    "#MAP = np.array([ 0.38800666, -0.49540832, 3, 3])\n",
    "MAP = np.array([1.0, -1.0, 5.0, 3.0])\n",
    "\n",
    "params = dict(zip(names, MAP))\n",
    "\n",
    "mock_wps = []\n",
    "mock_wps_1h, mock_wps_2h = [],[]\n",
    "mock_nds = []\n",
    "for i in xrange(10):\n",
    "    cat.populate(params)\n",
    "    #cut_idx = cat.model.mock.galaxy_table['gal_type'] == 'centrals'\n",
    "    #mock_nds.append(len(cut_idx)/cat.Lbox**3)\n",
    "    mass_cut = np.logical_and(np.log10(cat.model.mock.galaxy_table['halo_mvir'] ) > min_logmass,\\\n",
    "                              np.log10(cat.model.mock.galaxy_table['halo_mvir'] ) <= max_logmass)\n",
    "    #mass_cut = np.logical_and(mass_cut, cut_idx)\n",
    "    #mock_nds.append(len(cut_idx)/cat.Lbox**3)\n",
    "    mock_pos = np.c_[cat.model.mock.galaxy_table[mass_cut]['x'],\\\n",
    "                     cat.model.mock.galaxy_table[mass_cut]['y'],\\\n",
    "                     cat.model.mock.galaxy_table[mass_cut]['z']]\n",
    "    mock_wps.append(tpcf(mock_pos, rp_bins , period=cat.Lbox, num_threads=1))\n",
    "    oneh, twoh = tpcf_one_two_halo_decomp(mock_pos,cat.model.mock.galaxy_table[mass_cut]['halo_hostid'],\\\n",
    "                                          rp_bins , period=cat.Lbox, num_threads=1)\n",
    "    mock_wps_1h.append(oneh)\n",
    "    mock_wps_2h.append(twoh)\n",
    "    \n",
    "mock_wps = np.array(mock_wps)\n",
    "mock_wp_ab = np.mean(mock_wps, axis = 0)\n",
    "wp_errs = np.std(mock_wps, axis = 0)\n",
    "\n",
    "mock_wps_1h = np.array(mock_wps_1h)\n",
    "mock_wp_ab_1h = np.mean(mock_wps_1h, axis = 0)\n",
    "\n",
    "mock_wps_2h = np.array(mock_wps_2h)\n",
    "mock_wp_ab_2h = np.mean(mock_wps_2h, axis = 0)\n",
    "\n",
    "mock_nds = np.array(mock_nds)\n",
    "mock_nd = np.mean(mock_nds)\n",
    "nd_err = np.std(mock_nds)"
   ]
  },
  {
   "cell_type": "code",
   "execution_count": null,
   "metadata": {},
   "outputs": [],
   "source": [
    "#mock_wp = cat.calc_wp(rp_bins, RSD= False)\n",
    "MAP = np.array([ 1.0, -1.0,5,5])\n",
    "\n",
    "names = ['mean_occupation_centrals_assembias_param1','mean_occupation_satellites_assembias_param1',\\\n",
    "        'mean_occupation_centrals_assembias_slope1','mean_occupation_satellites_assembias_slope1']\n",
    "params = dict(zip(names, MAP))\n",
    "\n",
    "mock_wps = []\n",
    "mock_wps_1h, mock_wps_2h = [],[]\n",
    "mock_nds = []\n",
    "for i in xrange(10):\n",
    "    cat.populate(params)\n",
    "    #cut_idx = cat.model.mock.galaxy_table['gal_type'] == 'centrals'\n",
    "    #mock_nds.append(len(cut_idx)/cat.Lbox**3)\n",
    "    mass_cut = np.logical_and(np.log10(cat.model.mock.galaxy_table['halo_mvir'] ) > min_logmass,\\\n",
    "                              np.log10(cat.model.mock.galaxy_table['halo_mvir'] ) <= max_logmass)\n",
    "    #mass_cut = np.logical_and(mass_cut, cut_idx)\n",
    "\n",
    "    #mock_nds.append(len(cut_idx)/cat.Lbox**3)\n",
    "    mock_pos = np.c_[cat.model.mock.galaxy_table[mass_cut]['x'],\\\n",
    "                     cat.model.mock.galaxy_table[mass_cut]['y'],\\\n",
    "                     cat.model.mock.galaxy_table[mass_cut]['z']]\n",
    "    mock_wps.append(tpcf(mock_pos, rp_bins , period=cat.Lbox, num_threads=1))\n",
    "    oneh, twoh = tpcf_one_two_halo_decomp(mock_pos,cat.model.mock.galaxy_table[mass_cut]['halo_hostid'],\\\n",
    "                                          rp_bins , period=cat.Lbox, num_threads=1)\n",
    "    mock_wps_1h.append(oneh)\n",
    "    mock_wps_2h.append(twoh)\n",
    "    \n",
    "mock_wps = np.array(mock_wps)\n",
    "mock_wp_max_ab = np.mean(mock_wps, axis = 0)\n",
    "wp_errs = np.std(mock_wps, axis = 0)\n",
    "\n",
    "mock_wps_1h = np.array(mock_wps_1h)\n",
    "mock_wp_max_ab_1h = np.mean(mock_wps_1h, axis = 0)\n",
    "\n",
    "mock_wps_2h = np.array(mock_wps_2h)\n",
    "mock_wp_max_ab_2h = np.mean(mock_wps_2h, axis = 0)\n",
    "\n",
    "mock_nds = np.array(mock_nds)\n",
    "mock_nd = np.mean(mock_nds)\n",
    "nd_err = np.std(mock_nds)"
   ]
  },
  {
   "cell_type": "code",
   "execution_count": null,
   "metadata": {},
   "outputs": [],
   "source": [
    "#mock_wp = cat.calc_wp(rp_bins, RSD= False)\n",
    "MAP = np.array([ 1.0, 0.0,5,5])\n",
    "\n",
    "names = ['mean_occupation_centrals_assembias_param1','mean_occupation_satellites_assembias_param1',\\\n",
    "        'mean_occupation_centrals_assembias_slope1','mean_occupation_satellites_assembias_slope1']\n",
    "params = dict(zip(names, MAP))\n",
    "\n",
    "mock_wps = []\n",
    "mock_wps_1h, mock_wps_2h = [],[]\n",
    "mock_nds = []\n",
    "for i in xrange(10):\n",
    "    cat.populate(params)\n",
    "    #cut_idx = cat.model.mock.galaxy_table['gal_type'] == 'centrals'\n",
    "    #mock_nds.append(len(cut_idx)/cat.Lbox**3)\n",
    "    mass_cut = np.logical_and(np.log10(cat.model.mock.galaxy_table['halo_mvir'] ) > min_logmass,\\\n",
    "                              np.log10(cat.model.mock.galaxy_table['halo_mvir'] ) <= max_logmass)\n",
    "    #mass_cut = np.logical_and(mass_cut, cut_idx)\n",
    "\n",
    "    #mock_nds.append(len(cut_idx)/cat.Lbox**3)\n",
    "    mock_pos = np.c_[cat.model.mock.galaxy_table[mass_cut]['x'],\\\n",
    "                     cat.model.mock.galaxy_table[mass_cut]['y'],\\\n",
    "                     cat.model.mock.galaxy_table[mass_cut]['z']]\n",
    "    mock_wps.append(tpcf(mock_pos, rp_bins , period=cat.Lbox, num_threads=1))\n",
    "    oneh, twoh = tpcf_one_two_halo_decomp(mock_pos,cat.model.mock.galaxy_table[mass_cut]['halo_hostid'],\\\n",
    "                                          rp_bins , period=cat.Lbox, num_threads=1)\n",
    "    mock_wps_1h.append(oneh)\n",
    "    mock_wps_2h.append(twoh)\n",
    "    \n",
    "mock_wps = np.array(mock_wps)\n",
    "mock_wp_max_cen_ab = np.mean(mock_wps, axis = 0)\n",
    "wp_errs = np.std(mock_wps, axis = 0)\n",
    "\n",
    "mock_wps_1h = np.array(mock_wps_1h)\n",
    "mock_wp_max_cen_ab_1h = np.mean(mock_wps_1h, axis = 0)\n",
    "\n",
    "mock_wps_2h = np.array(mock_wps_2h)\n",
    "mock_wp_max_cen_ab_2h = np.mean(mock_wps_2h, axis = 0)\n",
    "\n",
    "mock_nds = np.array(mock_nds)\n",
    "mock_nd = np.mean(mock_nds)\n",
    "nd_err = np.std(mock_nds)"
   ]
  },
  {
   "cell_type": "code",
   "execution_count": null,
   "metadata": {},
   "outputs": [],
   "source": [
    "#mock_wp = cat.calc_wp(rp_bins, RSD= False)\n",
    "MAP = np.array([ 0.0, -1.0,5,5])\n",
    "\n",
    "names = ['mean_occupation_centrals_assembias_param1','mean_occupation_satellites_assembias_param1',\\\n",
    "        'mean_occupation_centrals_assembias_slope1','mean_occupation_satellites_assembias_slope1']\n",
    "params = dict(zip(names, MAP))\n",
    "\n",
    "mock_wps = []\n",
    "mock_wps_1h, mock_wps_2h = [],[]\n",
    "mock_nds = []\n",
    "for i in xrange(10):\n",
    "    cat.populate(params)\n",
    "    #cut_idx = cat.model.mock.galaxy_table['gal_type'] == 'centrals'\n",
    "    #mock_nds.append(len(cut_idx)/cat.Lbox**3)\n",
    "    mass_cut = np.logical_and(np.log10(cat.model.mock.galaxy_table['halo_mvir'] ) > min_logmass,\\\n",
    "                              np.log10(cat.model.mock.galaxy_table['halo_mvir'] ) <= max_logmass)\n",
    "    #mass_cut = np.logical_and(mass_cut, cut_idx)\n",
    "\n",
    "    #mock_nds.append(len(cut_idx)/cat.Lbox**3)\n",
    "    mock_pos = np.c_[cat.model.mock.galaxy_table[mass_cut]['x'],\\\n",
    "                     cat.model.mock.galaxy_table[mass_cut]['y'],\\\n",
    "                     cat.model.mock.galaxy_table[mass_cut]['z']]\n",
    "    mock_wps.append(tpcf(mock_pos, rp_bins , period=cat.Lbox, num_threads=1))\n",
    "    oneh, twoh = tpcf_one_two_halo_decomp(mock_pos,cat.model.mock.galaxy_table[mass_cut]['halo_hostid'],\\\n",
    "                                          rp_bins , period=cat.Lbox, num_threads=1)\n",
    "    mock_wps_1h.append(oneh)\n",
    "    mock_wps_2h.append(twoh)\n",
    "    \n",
    "mock_wps = np.array(mock_wps)\n",
    "mock_wp_max_sat_ab = np.mean(mock_wps, axis = 0)\n",
    "wp_errs = np.std(mock_wps, axis = 0)\n",
    "\n",
    "mock_wps_1h = np.array(mock_wps_1h)\n",
    "mock_wp_max_sat_ab_1h = np.mean(mock_wps_1h, axis = 0)\n",
    "\n",
    "mock_wps_2h = np.array(mock_wps_2h)\n",
    "mock_wp_max_sat_ab_2h = np.mean(mock_wps_2h, axis = 0)\n",
    "\n",
    "mock_nds = np.array(mock_nds)\n",
    "mock_nd = np.mean(mock_nds)\n",
    "nd_err = np.std(mock_nds)"
   ]
  },
  {
   "cell_type": "code",
   "execution_count": null,
   "metadata": {},
   "outputs": [],
   "source": [
    "catalog.colnames"
   ]
  },
  {
   "cell_type": "code",
   "execution_count": null,
   "metadata": {},
   "outputs": [],
   "source": [
    "#catalog = astropy.table.Table.read('abmatched_halos.hdf5', format = 'hdf5')\n",
    "#halo_catalog_orig = catalog[np.logical_and(catalog['halo_mvir'] > min_ptcl*cat.pmass, catalog['halo_vpeak_mag'] <=mag_cut)]\n",
    "#halo_catalog_orig = catalog[np.logical_and( \\\n",
    "#                       np.logical_and(catalog['halo_shuffled_host_mvir'] > 10**min_logmass,\\\n",
    "#                                      catalog['halo_shuffled_host_mvir'] < 10**max_logmass),\\\n",
    "#                        catalog['halo_vvir_mag'] <=mag_cut)]\n",
    "\n",
    "mag_cut = catalog['halo_%s_mag'%mag_type] <=mag_cut\n",
    "cut_idx = catalog['halo_upid'] >= -1\n",
    "mass_cut = np.logical_and(np.log10(catalog['halo_mvir_host_halo']) > min_logmass,\\\n",
    "                          np.log10(catalog['halo_mvir_host_halo']) <= max_logmass)\n",
    "mass_cut = np.logical_and(mass_cut, cut_idx)\n",
    "\n",
    "halo_catalog_orig = catalog[np.logical_and(mag_cut, mass_cut)]"
   ]
  },
  {
   "cell_type": "code",
   "execution_count": null,
   "metadata": {},
   "outputs": [],
   "source": [
    "print len(halo_catalog_orig)"
   ]
  },
  {
   "cell_type": "code",
   "execution_count": null,
   "metadata": {},
   "outputs": [],
   "source": [
    "centrals_idx = np.where(halo_catalog_orig['halo_upid']>=-1)[0]\n",
    "\n",
    "sham_pos = np.c_[halo_catalog_orig['halo_x'],\\\n",
    "                 halo_catalog_orig['halo_y'],\\\n",
    "                 halo_catalog_orig['halo_z']]\n",
    "sham_wp = tpcf(sham_pos, rp_bins , period=cat.Lbox, num_threads=1)"
   ]
  },
  {
   "cell_type": "code",
   "execution_count": null,
   "metadata": {},
   "outputs": [],
   "source": [
    "print sham_wp"
   ]
  },
  {
   "cell_type": "code",
   "execution_count": null,
   "metadata": {},
   "outputs": [],
   "source": [
    "host_ids = halo_catalog_orig['halo_upid']\n",
    "host_ids[centrals_idx] = halo_catalog_orig[centrals_idx]['halo_id']\n",
    "sham_wp_1h, sham_wp_2h = tpcf_one_two_halo_decomp(sham_pos,host_ids, rp_bins , period=cat.Lbox, num_threads=1)"
   ]
  },
  {
   "cell_type": "raw",
   "metadata": {
    "collapsed": true
   },
   "source": [
    "sham_pos = np.c_[halo_catalog_orig['halo_x'],\\\n",
    "                 halo_catalog_orig['halo_y'],\\\n",
    "                 halo_catalog_orig['halo_z']]\n",
    "sham_wp = tpcf(sham_pos, rp_bins, period=cat.Lbox, num_threads=1)"
   ]
  },
  {
   "cell_type": "raw",
   "metadata": {
    "collapsed": true
   },
   "source": [
    "sham_wp_1h, sham_wp_2h = tpcf_one_two_halo_decomp(sham_pos,halo_catalog_orig['halo_upid'], rp_bins , period=cat.Lbox, num_threads=1)"
   ]
  },
  {
   "cell_type": "code",
   "execution_count": null,
   "metadata": {},
   "outputs": [],
   "source": [
    "#sham_nd = len(halo_catalog_orig[centrals_idx])/(cat.Lbox**3)\n",
    "sham_nd = len(halo_catalog_orig)/(cat.Lbox**3)"
   ]
  },
  {
   "cell_type": "code",
   "execution_count": null,
   "metadata": {
    "collapsed": true
   },
   "outputs": [],
   "source": [
    "sham_nfw_pos = np.c_[halo_catalog_orig['halo_nfw_x'],\\\n",
    "                 halo_catalog_orig['halo_nfw_y'],\\\n",
    "                 halo_catalog_orig['halo_nfw_z']]\n",
    "\n",
    "sham_nfw_wp = tpcf(sham_nfw_pos, rp_bins, period=cat.Lbox, num_threads=1)"
   ]
  },
  {
   "cell_type": "code",
   "execution_count": null,
   "metadata": {
    "collapsed": true
   },
   "outputs": [],
   "source": [
    "sham_nfw_wp_1h, sham_nfw_wp_2h = tpcf_one_two_halo_decomp(sham_nfw_pos,host_ids,\\\n",
    "                                                          rp_bins, period=cat.Lbox, num_threads=1)"
   ]
  },
  {
   "cell_type": "raw",
   "metadata": {
    "collapsed": true
   },
   "source": [
    "sham_nfw_pos = np.c_[halo_catalog_orig['halo_nfw_x'],\\\n",
    "                 halo_catalog_orig['halo_nfw_y'],\\\n",
    "                 halo_catalog_orig['halo_nfw_z']]\n",
    "\n",
    "sham_nfw_wp = tpcf(sham_nfw_pos, rp_bins, period=cat.Lbox, num_threads=1)"
   ]
  },
  {
   "cell_type": "raw",
   "metadata": {
    "collapsed": true
   },
   "source": [
    "sham_nfw_wp_1h, sham_nfw_wp_2h = tpcf_one_two_halo_decomp(sham_nfw_pos,halo_catalog_orig['halo_upid'],\\\n",
    "                                                          rp_bins, period=cat.Lbox, num_threads=1)"
   ]
  },
  {
   "cell_type": "raw",
   "metadata": {},
   "source": [
    "cut_idx = halo_catalog['halo_%s_upid'%shuffle_type]!=-1\n",
    "#cut_idx = np.logical_and(\\\n",
    "#                        halo_catalog['halo_%s_host_mvir'%shuffle_type] > 10**min_logmass,\\\n",
    "#                        halo_catalog['halo_%s_host_mvir'%shuffle_type] < 10**max_logmass)\n",
    "#cut_idx = np.where(np.logical_and(type_idx, mass_idx))[0]\n",
    "sham_shuffled_pos = np.c_[halo_catalog[cut_idx]['halo_%s_x'%shuffle_type],\\\n",
    "                          halo_catalog[cut_idx]['halo_%s_y'%shuffle_type],\\\n",
    "                          halo_catalog[cut_idx]['halo_%s_z'%shuffle_type]]\n",
    "sham_shuffled_wp = tpcf(sham_shuffled_pos, rp_bins , period=cat.Lbox, num_threads=1)"
   ]
  },
  {
   "cell_type": "raw",
   "metadata": {
    "collapsed": true
   },
   "source": [
    "sham_shuffled_wp_1h, sham_shuffled_wp_2h = tpcf_one_two_halo_decomp(sham_shuffled_pos, halo_catalog[cut_idx]['halo_%s_upid'%shuffle_type],\\\n",
    "                                    rp_bins , period=cat.Lbox, num_threads=1)"
   ]
  },
  {
   "cell_type": "code",
   "execution_count": null,
   "metadata": {},
   "outputs": [],
   "source": [
    "halo_catalog.colnames"
   ]
  },
  {
   "cell_type": "code",
   "execution_count": null,
   "metadata": {},
   "outputs": [],
   "source": [
    "shuffle_type = 'shuffled'\n",
    "mass_cut = np.logical_and(np.log10(halo_catalog['halo_%s_host_mvir'%shuffle_type]) > min_logmass,\\\n",
    "                          np.log10(halo_catalog['halo_%s_host_mvir'%shuffle_type]) < max_logmass)\n",
    "cut_idx = halo_catalog['halo_%s_upid'%shuffle_type] >= -1\n",
    "mass_cut = np.logical_and(mass_cut, cut_idx)\n",
    "\n",
    "sham_shuffled_pos = np.c_[halo_catalog[mass_cut]['halo_%s_x'%shuffle_type],\\\n",
    "                          halo_catalog[mass_cut]['halo_%s_y'%shuffle_type],\\\n",
    "                          halo_catalog[ma ss_cut]['halo_%s_z'%shuffle_type]]\n",
    "sham_shuffled_wp = tpcf(sham_shuffled_pos, rp_bins , period=cat.Lbox, num_threads=1)"
   ]
  },
  {
   "cell_type": "code",
   "execution_count": null,
   "metadata": {
    "collapsed": true
   },
   "outputs": [],
   "source": [
    "centrals_idx = halo_catalog[mass_cut]['halo_%s_upid'%shuffle_type]>=-1\n",
    "\n",
    "host_ids = halo_catalog[mass_cut]['halo_%s_upid'%shuffle_type]\n",
    "host_ids[centrals_idx] = halo_catalog[mass_cut][centrals_idx]['halo_id']\n",
    "sham_shuffled_wp_1h, sham_shuffled_wp_2h = tpcf_one_two_halo_decomp(sham_shuffled_pos, host_ids,\\\n",
    "                                    rp_bins , period=cat.Lbox, num_threads=1)"
   ]
  },
  {
   "cell_type": "code",
   "execution_count": null,
   "metadata": {
    "collapsed": true
   },
   "outputs": [],
   "source": [
    "shuffle_type = 'sh_shuffled'\n",
    "mass_cut = np.logical_and(np.log10(halo_catalog['halo_%s_host_mvir'%shuffle_type]) > min_logmass,\\\n",
    "                          np.log10(halo_catalog['halo_%s_host_mvir'%shuffle_type]) < max_logmass)\n",
    "cut_idx = halo_catalog['halo_%s_upid'%shuffle_type] >= -1\n",
    "mass_cut = np.logical_and(mass_cut, cut_idx)\n",
    "sham_sh_shuffled_pos = np.c_[halo_catalog[mass_cut]['halo_%s_x'%shuffle_type],\\\n",
    "                          halo_catalog[mass_cut]['halo_%s_y'%shuffle_type],\\\n",
    "                          halo_catalog[mass_cut]['halo_%s_z'%shuffle_type]]\n",
    "sham_sh_shuffled_wp = tpcf(sham_sh_shuffled_pos, rp_bins , period=cat.Lbox, num_threads=1)"
   ]
  },
  {
   "cell_type": "code",
   "execution_count": null,
   "metadata": {
    "collapsed": true
   },
   "outputs": [],
   "source": [
    "centrals_idx = halo_catalog[mass_cut]['halo_%s_upid'%shuffle_type]>=-1\n",
    "\n",
    "host_ids = halo_catalog[mass_cut]['halo_%s_upid'%shuffle_type]\n",
    "host_ids[centrals_idx] = halo_catalog[mass_cut][centrals_idx]['halo_id']\n",
    "sham_sh_shuffled_wp_1h, sham_sh_shuffled_wp_2h = tpcf_one_two_halo_decomp(sham_sh_shuffled_pos, host_ids,\\\n",
    "                                    rp_bins , period=cat.Lbox, num_threads=1)"
   ]
  },
  {
   "cell_type": "code",
   "execution_count": null,
   "metadata": {
    "collapsed": true
   },
   "outputs": [],
   "source": [
    "shuffle_type = 'sh_shuffled_cen'\n",
    "mass_cut = np.logical_and(np.log10(halo_catalog['halo_%s_host_mvir'%shuffle_type]) > min_logmass,\\\n",
    "                          np.log10(halo_catalog['halo_%s_host_mvir'%shuffle_type]) < max_logmass)\n",
    "cut_idx = halo_catalog['halo_%s_upid'%shuffle_type] >= -1\n",
    "mass_cut = np.logical_and(mass_cut, cut_idx)\n",
    "sham_sh_shuffled_pos = np.c_[halo_catalog[mass_cut]['halo_%s_x'%shuffle_type],\\\n",
    "                          halo_catalog[mass_cut]['halo_%s_y'%shuffle_type],\\\n",
    "                          halo_catalog[mass_cut]['halo_%s_z'%shuffle_type]]\n",
    "sham_sh_shuffled_cen_wp = tpcf(sham_sh_shuffled_pos, rp_bins , period=cat.Lbox, num_threads=1)"
   ]
  },
  {
   "cell_type": "code",
   "execution_count": null,
   "metadata": {},
   "outputs": [],
   "source": [
    "centrals_idx = halo_catalog[mass_cut]['halo_%s_upid'%shuffle_type]>=-1\n",
    "\n",
    "host_ids = halo_catalog[mass_cut]['halo_%s_upid'%shuffle_type]\n",
    "host_ids[centrals_idx] = halo_catalog[mass_cut][centrals_idx]['halo_id']\n",
    "sham_sh_shuffled_cen_wp_1h, sham_sh_shuffled_cen_wp_2h = tpcf_one_two_halo_decomp(sham_sh_shuffled_pos, host_ids,\\\n",
    "                                    rp_bins , period=cat.Lbox, num_threads=1)"
   ]
  },
  {
   "cell_type": "code",
   "execution_count": null,
   "metadata": {},
   "outputs": [],
   "source": [
    "shuffle_type = 'sh_shuffled_sats'\n",
    "mass_cut = np.logical_and(np.log10(halo_catalog['halo_%s_host_mvir'%shuffle_type]) > min_logmass,\\\n",
    "                          np.log10(halo_catalog['halo_%s_host_mvir'%shuffle_type]) < max_logmass)\n",
    "cut_idx = halo_catalog['halo_%s_upid'%shuffle_type] >= -1\n",
    "mass_cut = np.logical_and(mass_cut, cut_idx)\n",
    "sham_sh_shuffled_pos = np.c_[halo_catalog[mass_cut]['halo_%s_x'%shuffle_type],\\\n",
    "                          halo_catalog[mass_cut]['halo_%s_y'%shuffle_type],\\\n",
    "                          halo_catalog[mass_cut]['halo_%s_z'%shuffle_type]]\n",
    "sham_sh_shuffled_sat_wp = tpcf(sham_sh_shuffled_pos, rp_bins , period=cat.Lbox, num_threads=1)"
   ]
  },
  {
   "cell_type": "code",
   "execution_count": null,
   "metadata": {
    "collapsed": true
   },
   "outputs": [],
   "source": [
    "centrals_idx = halo_catalog[mass_cut]['halo_%s_upid'%shuffle_type]>=-1\n",
    "\n",
    "host_ids = halo_catalog[mass_cut]['halo_%s_upid'%shuffle_type]\n",
    "host_ids[centrals_idx] = halo_catalog[mass_cut][centrals_idx]['halo_id']\n",
    "sham_sh_shuffled_sat_wp_1h, sham_sh_shuffled_sat_wp_2h = tpcf_one_two_halo_decomp(sham_sh_shuffled_pos, host_ids,\\\n",
    "                                    rp_bins , period=cat.Lbox, num_threads=1)"
   ]
  },
  {
   "cell_type": "code",
   "execution_count": null,
   "metadata": {},
   "outputs": [],
   "source": [
    "#shuffled_nd = len(cut_idx)/(cat.Lbox**3)\n",
    "shuffled_nd = len(halo_catalog)/(cat.Lbox**3)"
   ]
  },
  {
   "cell_type": "code",
   "execution_count": null,
   "metadata": {},
   "outputs": [],
   "source": [
    "print sham_nd,shuffled_nd, mock_nd\n",
    "print sham_nd-mock_nd, nd_err\n",
    "print (sham_nd-mock_nd)/nd_err"
   ]
  },
  {
   "cell_type": "code",
   "execution_count": null,
   "metadata": {},
   "outputs": [],
   "source": [
    "plt.figure(figsize=(10,8))\n",
    "plt.errorbar(bin_centers, mock_wp_no_ab,yerr=wp_errs, label = 'no ab model')\n",
    "plt.errorbar(bin_centers, mock_wp_ab,yerr=wp_errs, label = 'ab model')\n",
    "plt.errorbar(bin_centers, mock_wp_max_ab,yerr=wp_errs, label = 'max model')\n",
    "plt.plot(bin_centers, sham_wp, label = 'sham')\n",
    "plt.plot(bin_centers, sham_nfw_wp, label = 'nfw-ized sham')\n",
    "plt.plot(bin_centers, sham_shuffled_wp, label = 'shuffled & nfw-ized sham')\n",
    "plt.plot(bin_centers, sham_sh_shuffled_wp, label = 'sh shuffled & nfw-ized sham')\n",
    "plt.plot(bin_centers, sham_sh_shuffled_cen_wp, label = 'sh shuffled cen & nfw-ized sham')\n",
    "plt.plot(bin_centers, sham_sh_shuffled_sat_wp, label = 'sh shuffled sat & nfw-ized sham')\n",
    "\n",
    "\n",
    "plt.loglog()\n",
    "plt.legend(loc='best',fontsize = 15)\n",
    "plt.xlim([1e-1, 5e0]);\n",
    "#plt.ylim([1,15000])\n",
    "plt.xlabel(r'$r_p$',fontsize = 15)\n",
    "plt.ylabel(r'$w(r_p)$',fontsize = 15)\n",
    "plt.title(r'$w(r_p)$ comparison for HOD+AB and NFW-ized SHAM', fontsize = 20)"
   ]
  },
  {
   "cell_type": "raw",
   "metadata": {},
   "source": [
    "plt.figure(figsize=(10,8))\n",
    "plt.plot(bin_centers, mock_wp_no_ab_1h, label = 'model')\n",
    "plt.plot(bin_centers, mock_wp_ab_1h, label = 'model')\n",
    "plt.plot(bin_centers, mock_wp_max_ab_1h, label = 'model')\n",
    "\n",
    "plt.plot(bin_centers, sham_wp_1h, label = 'sham')\n",
    "plt.plot(bin_centers, sham_nfw_wp_1h, label = 'nfw-ized sham')\n",
    "plt.plot(bin_centers, sham_shuffled_wp_1h, label = 'shuffled & nfw-ized sham')\n",
    "plt.plot(bin_centers, sham_sh_shuffled_wp_1h, label = 'sh shuffled & nfw-ized sham')\n",
    "plt.plot(bin_centers, sham_sh_shuffled_cen_wp_1h, label = 'sh shuffled cen & nfw-ized sham')\n",
    "plt.plot(bin_centers, sham_sh_shuffled_sat_wp_1h, label = 'sh shuffled sat & nfw-ized sham')\n",
    "\n",
    "plt.loglog()\n",
    "plt.legend(loc='best',fontsize = 15)\n",
    "plt.xlim([1e-1, 5e0]);\n",
    "#plt.ylim([1,15000])\n",
    "plt.xlabel(r'$r_p$',fontsize = 15)\n",
    "plt.ylabel(r'$w(r_p)$',fontsize = 15)\n",
    "plt.title(r'$w(r_p)$ comparison for HOD+AB and NFW-ized SHAM', fontsize = 20)"
   ]
  },
  {
   "cell_type": "code",
   "execution_count": null,
   "metadata": {},
   "outputs": [],
   "source": [
    "print sham_sh_shuffled_wp_2h/sham_shuffled_wp_2h"
   ]
  },
  {
   "cell_type": "code",
   "execution_count": null,
   "metadata": {},
   "outputs": [],
   "source": [
    "plt.figure(figsize=(10,8))\n",
    "plt.plot(bin_centers, mock_wp_no_ab_2h, label = 'no ab model')\n",
    "plt.plot(bin_centers, mock_wp_ab_2h, label = 'ab model')\n",
    "plt.plot(bin_centers, mock_wp_max_ab_2h, label = 'max model')\n",
    "\n",
    "plt.plot(bin_centers, sham_wp_2h, label = 'sham')\n",
    "plt.plot(bin_centers, sham_nfw_wp_2h, label = 'nfw-ized sham')\n",
    "plt.plot(bin_centers, sham_shuffled_wp_2h, label = 'shuffled & nfw-ized sham')\n",
    "plt.plot(bin_centers, sham_sh_shuffled_wp_2h, label = 'sh shuffled & nfw-ized sham')\n",
    "plt.plot(bin_centers, sham_sh_shuffled_cen_wp_2h, label = 'sh shuffled cen & nfw-ized sham')\n",
    "plt.plot(bin_centers, sham_sh_shuffled_sat_wp_2h, label = 'sh shuffled sat & nfw-ized sham')\n",
    "\n",
    "plt.loglog()\n",
    "plt.legend(loc='best',fontsize = 15)\n",
    "plt.xlim([1e-1, 5e0]);\n",
    "#plt.ylim([1,15000])\n",
    "plt.xlabel(r'$r_p$',fontsize = 15)\n",
    "plt.ylabel(r'$w(r_p)$',fontsize = 15)\n",
    "plt.title(r'$w(r_p)$ comparison for HOD+AB and NFW-ized SHAM', fontsize = 20)"
   ]
  },
  {
   "cell_type": "raw",
   "metadata": {},
   "source": [
    "plt.figure(figsize=(10,8))\n",
    "#plt.plot(bin_centers, mock_wps.T, color = 'k', alpha = 0.5)#, label = 'model')\n",
    "plt.plot(bin_centers, sham_wp, label = 'sham')\n",
    "plt.plot(bin_centers, sham_nfw_wp, label = 'nfw-ized sham')\n",
    "plt.plot(bin_centers, sham_shuffled_wp, label = 'shuffled & nfw-ized sham')\n",
    "plt.loglog()\n",
    "plt.legend(loc='best',fontsize = 15)\n",
    "plt.xlim([1e-1, 5e0]);\n",
    "#plt.ylim([1,15000])\n",
    "plt.xlabel(r'$r_p$',fontsize = 15)\n",
    "plt.ylabel(r'$w(r_p)$',fontsize = 15)\n",
    "plt.title(r'$w(r_p)$ comparison for HOD+AB and NFW-ized SHAM', fontsize = 20)"
   ]
  },
  {
   "cell_type": "raw",
   "metadata": {},
   "source": [
    "%%bash\n",
    "ls *wp*.npy"
   ]
  },
  {
   "cell_type": "code",
   "execution_count": null,
   "metadata": {},
   "outputs": [],
   "source": [
    "%%bash\n",
    "ls *xi*.npy"
   ]
  },
  {
   "cell_type": "code",
   "execution_count": null,
   "metadata": {},
   "outputs": [],
   "source": [
    "np.savetxt('mock_xi_%s.npy'%mag_type,mock_wp_no_ab)\n",
    "np.savetxt('mock_xi_ab_%s.npy'%mag_type,mock_wp_ab)\n",
    "np.savetxt('mock_xi_max_ab_%s.npy'%mag_type,mock_wp_max_ab)\n",
    "np.savetxt('mock_xi_max_cen_ab_%s.npy'%mag_type,mock_wp_max_cen_ab)\n",
    "np.savetxt('mock_xi_max_sat_ab_%s.npy'%mag_type,mock_wp_max_sat_ab)\n",
    "np.savetxt('sham_xi_%s.npy'%mag_type, sham_wp)\n",
    "np.savetxt('sham_shuffle_xi_%s.npy'%(mag_type), sham_shuffled_wp)\n",
    "np.savetxt('sham_sh_shuffle_xi_%s.npy'%(mag_type), sham_sh_shuffled_wp)\n",
    "np.savetxt('sham_nfw_xi_%s.npy'%mag_type, sham_nfw_wp)\n",
    "np.savetxt('sham_sh_shuffle_cen_xi_%s.npy'%(mag_type), sham_sh_shuffled_cen_wp)\n",
    "np.savetxt('sham_sh_shuffle_sat_xi_%s.npy'%(mag_type), sham_sh_shuffled_sat_wp)"
   ]
  },
  {
   "cell_type": "code",
   "execution_count": null,
   "metadata": {},
   "outputs": [],
   "source": [
    "np.savetxt('mock_xi_%s_1h.npy'%mag_type,mock_wp_no_ab_1h)\n",
    "np.savetxt('mock_xi_ab_%s_1h.npy'%mag_type,mock_wp_ab_1h)\n",
    "np.savetxt('mock_xi_max_ab_%s_1h.npy'%mag_type,mock_wp_max_ab_1h)\n",
    "np.savetxt('mock_xi_max_cen_ab_%s_1h.npy'%mag_type,mock_wp_max_cen_ab_1h)\n",
    "np.savetxt('mock_xi_max_sat_ab_%s_1h.npy'%mag_type,mock_wp_max_sat_ab_1h)\n",
    "np.savetxt('sham_xi_%s_1h.npy'%mag_type, sham_wp_1h)\n",
    "np.savetxt('sham_shuffle_xi_%s_1h.npy'%(mag_type), sham_shuffled_wp_1h)\n",
    "np.savetxt('sham_sh_shuffle_xi_%s_1h.npy'%(mag_type), sham_sh_shuffled_wp_1h)\n",
    "np.savetxt('sham_nfw_xi_%s_1h.npy'%mag_type, sham_nfw_wp_1h)\n",
    "np.savetxt('sham_sh_shuffle_cen_xi_%s_1h.npy'%(mag_type), sham_sh_shuffled_cen_wp_1h)\n",
    "np.savetxt('sham_sh_shuffle_sat_xi_%s_1h.npy'%(mag_type), sham_sh_shuffled_sat_wp_1h)"
   ]
  },
  {
   "cell_type": "code",
   "execution_count": null,
   "metadata": {},
   "outputs": [],
   "source": [
    "np.savetxt('mock_xi_%s_2h.npy'%mag_type,mock_wp_no_ab_2h)\n",
    "np.savetxt('mock_xi_ab_%s_2h.npy'%mag_type,mock_wp_ab_2h)\n",
    "np.savetxt('mock_xi_max_ab_%s_2h.npy'%mag_type,mock_wp_max_ab_2h)\n",
    "np.savetxt('mock_xi_max_cen_ab_%s_2h.npy'%mag_type,mock_wp_max_cen_ab_2h)\n",
    "np.savetxt('mock_xi_max_sat_ab_%s_2h.npy'%mag_type,mock_wp_max_sat_ab_2h)\n",
    "np.savetxt('sham_xi_%s_2h.npy'%mag_type, sham_wp_2h)\n",
    "np.savetxt('sham_shuffle_xi_%s_2h.npy'%(mag_type), sham_shuffled_wp_2h)\n",
    "np.savetxt('sham_sh_shuffle_xi_%s_2h.npy'%(mag_type), sham_sh_shuffled_wp_2h)\n",
    "np.savetxt('sham_nfw_xi_%s_2h.npy'%mag_type, sham_nfw_wp_2h)\n",
    "np.savetxt('sham_sh_shuffle_cen_xi_%s_2h.npy'%(mag_type), sham_sh_shuffled_cen_wp_2h)\n",
    "np.savetxt('sham_sh_shuffle_sat_xi_%s_2h.npy'%(mag_type), sham_sh_shuffled_sat_wp_2h)"
   ]
  },
  {
   "cell_type": "code",
   "execution_count": null,
   "metadata": {},
   "outputs": [],
   "source": [
    "plt.figure(figsize=(10,8))\n",
    "plt.errorbar(bin_centers, mock_wp/mock_wp,yerr=wp_errs/mock_wp, label = 'model/model')\n",
    "plt.plot(bin_centers, sham_wp/mock_wp, label = 'sham/model')\n",
    "plt.plot(bin_centers, sham_nfw_wp/mock_wp, label = 'nfw-ized sham/model')\n",
    "plt.plot(bin_centers, sham_shuffled_wp/mock_wp, label = 'shuffled & nfw-ized sham/model')\n",
    "plt.xscale('log')\n",
    "plt.legend(loc='best')\n",
    "plt.xlim([1e-1, 5e0]);\n",
    "#plt.ylim([0.8,1.2]);\n",
    "plt.xlabel(r'$r_p$',fontsize = 15)\n",
    "plt.ylabel(r'$w_{SHAM}(r_p)/w_{HOD+AB}(r_p)$',fontsize = 15)\n",
    "plt.title(r'$w(r_p)$ ratio for HOD+AB and NFW-ized SHAM', fontsize = 20)"
   ]
  },
  {
   "cell_type": "code",
   "execution_count": null,
   "metadata": {},
   "outputs": [],
   "source": [
    "print mock_wps/sham_shuffled_wp"
   ]
  },
  {
   "cell_type": "code",
   "execution_count": null,
   "metadata": {},
   "outputs": [],
   "source": [
    "colors = sns.color_palette(\"coolwarm\", ab_vals.shape[0])"
   ]
  },
  {
   "cell_type": "code",
   "execution_count": null,
   "metadata": {},
   "outputs": [],
   "source": [
    "plt.figure(figsize=(10,8))\n",
    "#plt.errorbar(bin_centers, mock_wp/sham_shuffled_wp,yerr=wp_errs/mock_wp, label = 'model/model')\n",
    "for mwp, a, c in zip(mock_wps, ab_vals, colors):\n",
    "    plt.plot(bin_centers,mwp/sham_shuffled_wp, c =c, label = a)\n",
    "plt.plot(bin_centers, sham_wp/sham_shuffled_wp, label = 'sham/model')\n",
    "plt.plot(bin_centers, sham_nfw_wp/sham_shuffled_wp, label = 'nfw-ized sham/model')\n",
    "plt.plot(bin_centers, sham_shuffled_wp/sham_shuffled_wp, label = 'shuffled & nfw-ized sham/model')\n",
    "plt.xscale('log')\n",
    "plt.legend(loc='best')\n",
    "plt.xlim([1e-1, 5e0]);\n",
    "#plt.ylim([0.8,1.2]);\n",
    "plt.xlabel(r'$r_p$',fontsize = 15)\n",
    "plt.ylabel(r'$w_{SHAM}(r_p)/w_{HOD+AB}(r_p)$',fontsize = 15)\n",
    "plt.title(r'$w(r_p)$ ratio for HOD+AB and NFW-ized SHAM', fontsize = 20)"
   ]
  },
  {
   "cell_type": "code",
   "execution_count": null,
   "metadata": {
    "collapsed": true
   },
   "outputs": [],
   "source": []
  },
  {
   "cell_type": "code",
   "execution_count": null,
   "metadata": {
    "collapsed": true
   },
   "outputs": [],
   "source": []
  }
 ],
 "metadata": {
  "kernelspec": {
   "display_name": "Python 2",
   "language": "python",
   "name": "python2"
  },
  "language_info": {
   "codemirror_mode": {
    "name": "ipython",
    "version": 2
   },
   "file_extension": ".py",
   "mimetype": "text/x-python",
   "name": "python",
   "nbconvert_exporter": "python",
   "pygments_lexer": "ipython2",
   "version": "2.7.13"
  }
 },
 "nbformat": 4,
 "nbformat_minor": 1
}

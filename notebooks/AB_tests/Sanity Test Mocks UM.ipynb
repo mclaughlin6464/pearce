{
 "cells": [
  {
   "cell_type": "markdown",
   "metadata": {},
   "source": [
    "I want to sanity test that the mock measurements I'm comparing to are what I expect them to be, and the bad fits I'm recovering are because my models are a poor fit and not some other reason. "
   ]
  },
  {
   "cell_type": "code",
   "execution_count": 1,
   "metadata": {
    "collapsed": true
   },
   "outputs": [],
   "source": [
    "%matplotlib inline\n",
    "from matplotlib import pyplot as plt"
   ]
  },
  {
   "cell_type": "code",
   "execution_count": 2,
   "metadata": {},
   "outputs": [
    {
     "name": "stderr",
     "output_type": "stream",
     "text": [
      "/home/users/swmclau2/.local/lib/python2.7/site-packages/h5py/__init__.py:36: FutureWarning: Conversion of the second argument of issubdtype from `float` to `np.floating` is deprecated. In future, it will be treated as `np.float64 == np.dtype(float).type`.\n",
      "  from ._conv import register_converters as _register_converters\n"
     ]
    }
   ],
   "source": [
    "import numpy as np\n",
    "from os import path\n",
    "from astropy.table import Table\n",
    "from halotools.mock_observables import hod_from_mock\n",
    "from halotools.utils import broadcast_host_halo_property, add_halo_hostid\n",
    "\n",
    "from pearce.mocks.kittens import TrainingBox, MDPL2\n",
    "import h5py"
   ]
  },
  {
   "cell_type": "code",
   "execution_count": 3,
   "metadata": {
    "collapsed": true
   },
   "outputs": [],
   "source": [
    "#cat_dir = '/u/ki/swmclau2/des'\n",
    "cat_dir = '/home/users/swmclau2/scratch/UniverseMachine/'"
   ]
  },
  {
   "cell_type": "code",
   "execution_count": 4,
   "metadata": {
    "collapsed": true
   },
   "outputs": [],
   "source": [
    "um_catalog = Table(np.load(path.join(cat_dir, 'cut_um_catalog.npy')))"
   ]
  },
  {
   "cell_type": "code",
   "execution_count": 5,
   "metadata": {},
   "outputs": [
    {
     "name": "stderr",
     "output_type": "stream",
     "text": [
      "WARNING: path= was not specified but multiple tables are present, reading in first available table (path=halo_vpeak_catalog) [astropy.io.misc.hdf5]\n"
     ]
    }
   ],
   "source": [
    "catalog_fname = '/home/users/swmclau2/scratch/test_MDPL2_halo_vpeak_smf_sham_large.hdf5'\n",
    "halo_catalog = Table.read(catalog_fname, format = 'hdf5')#, path = 'halo_vpeak_shuffled'))"
   ]
  },
  {
   "cell_type": "code",
   "execution_count": 6,
   "metadata": {},
   "outputs": [
    {
     "data": {
      "text/plain": [
       "42615485"
      ]
     },
     "execution_count": 6,
     "metadata": {},
     "output_type": "execute_result"
    }
   ],
   "source": [
    "len(halo_catalog)"
   ]
  },
  {
   "cell_type": "code",
   "execution_count": 7,
   "metadata": {
    "collapsed": true
   },
   "outputs": [],
   "source": [
    "haloprop_bins = np.logspace(10,16, 61)\n",
    "hbc = (haloprop_bins[1:] + haloprop_bins[:-1])/2.0"
   ]
  },
  {
   "cell_type": "code",
   "execution_count": 8,
   "metadata": {
    "collapsed": true
   },
   "outputs": [],
   "source": [
    "um_catalog['halo_mvir'] = um_catalog['m']\n",
    "um_catalog['halo_id'] = um_catalog['id']\n",
    "um_catalog['halo_upid'] = um_catalog['upid']\n",
    "#um_catalog['halo_hostid'] = um_catalog['upid']\n",
    "#um_catalog['halo_hostid']"
   ]
  },
  {
   "cell_type": "code",
   "execution_count": 9,
   "metadata": {
    "collapsed": true
   },
   "outputs": [],
   "source": [
    "from halotools.utils import broadcast_host_halo_property, add_halo_hostid\n",
    "add_halo_hostid(um_catalog)\n",
    "broadcast_host_halo_property(um_catalog, halo_property_key = 'halo_mvir')"
   ]
  },
  {
   "cell_type": "code",
   "execution_count": 10,
   "metadata": {
    "collapsed": true
   },
   "outputs": [],
   "source": [
    "um_hod, _ = hod_from_mock( um_catalog['halo_mvir_host_halo'],halo_catalog['halo_mvir'], haloprop_bins)"
   ]
  },
  {
   "cell_type": "code",
   "execution_count": 11,
   "metadata": {},
   "outputs": [
    {
     "data": {
      "image/png": "[encoded data removed]",
      "text/plain": [
       "<matplotlib.figure.Figure at 0x7fe31af4b710>"
      ]
     },
     "metadata": {},
     "output_type": "display_data"
    }
   ],
   "source": [
    "plt.plot(hbc, um_hod)\n",
    "\n",
    "plt.loglog();"
   ]
  },
  {
   "cell_type": "code",
   "execution_count": 12,
   "metadata": {
    "collapsed": true
   },
   "outputs": [],
   "source": [
    "r_bins = np.logspace(-1, 1.6, 19)\n",
    "rbc = (r_bins[1:]+r_bins[:-1])/2.0"
   ]
  },
  {
   "cell_type": "code",
   "execution_count": 13,
   "metadata": {
    "collapsed": true
   },
   "outputs": [],
   "source": [
    "um_wp = np.load('/home/users/swmclau2/Git/pearce/bin/mock_measurements/UMmock_wp.npy')\n",
    "#shuffled_sham_wp = np.load('/home/users/swmclau2/Git/pearce/bin/mock_measurements/SHUFFLED_SHAMmock_wp.npy')\n",
    "#nfw_sham_wp = np.load('/home/users/swmclau2/Git/pearce/bin/mock_measurements/NFWIZED_SHAMmock_wp.npy')"
   ]
  },
  {
   "cell_type": "code",
   "execution_count": 14,
   "metadata": {},
   "outputs": [
    {
     "data": {
      "text/plain": [
       "<matplotlib.legend.Legend at 0x7fe31af19250>"
      ]
     },
     "execution_count": 14,
     "metadata": {},
     "output_type": "execute_result"
    },
    {
     "data": {
      "image/png": "[encoded data removed]",
      "text/plain": [
       "<matplotlib.figure.Figure at 0x7fe31a0cbad0>"
      ]
     },
     "metadata": {},
     "output_type": "display_data"
    }
   ],
   "source": [
    "plt.plot(rbc, um_wp, label ='UM')\n",
    "#plt.plot(rbc, shuffled_sham_wp, label = 'Shuffled')\n",
    "#plt.plot(rbc, nfw_sham_wp, label = 'NFW')\n",
    "plt.loglog();\n",
    "plt.legend(loc='best')"
   ]
  },
  {
   "cell_type": "code",
   "execution_count": 15,
   "metadata": {
    "collapsed": true
   },
   "outputs": [],
   "source": [
    "um_ds = np.load('/home/users/swmclau2/Git/pearce/bin/mock_measurements/UMmock_ds.npy')"
   ]
  },
  {
   "cell_type": "code",
   "execution_count": 16,
   "metadata": {},
   "outputs": [
    {
     "data": {
      "text/plain": [
       "<matplotlib.legend.Legend at 0x7fe31a27a250>"
      ]
     },
     "execution_count": 16,
     "metadata": {},
     "output_type": "execute_result"
    },
    {
     "data": {
      "image/png": "[encoded data removed]",
      "text/plain": [
       "<matplotlib.figure.Figure at 0x7fe3182d0410>"
      ]
     },
     "metadata": {},
     "output_type": "display_data"
    }
   ],
   "source": [
    "plt.plot(rbc, um_ds, label ='UM')\n",
    "#plt.plot(rbc, shuffled_sham_ds, label = 'Shuffled')\n",
    "#plt.plot(rbc, nfw_sham_ds, label = 'NFW')\n",
    "plt.loglog();\n",
    "plt.legend(loc='best')"
   ]
  },
  {
   "cell_type": "code",
   "execution_count": 17,
   "metadata": {
    "collapsed": true
   },
   "outputs": [],
   "source": [
    "mdpl2 = MDPL2()"
   ]
  },
  {
   "cell_type": "code",
   "execution_count": 18,
   "metadata": {
    "collapsed": true
   },
   "outputs": [],
   "source": [
    "cat = TrainingBox(0,system='ki-ls')\n",
    "cat.load_model(1.0, HOD='abZheng07')"
   ]
  },
  {
   "cell_type": "code",
   "execution_count": 19,
   "metadata": {},
   "outputs": [
    {
     "data": {
      "text/plain": [
       "1510000000.0"
      ]
     },
     "execution_count": 19,
     "metadata": {},
     "output_type": "execute_result"
    }
   ],
   "source": [
    "mdpl2.pmass"
   ]
  },
  {
   "cell_type": "code",
   "execution_count": 20,
   "metadata": {
    "collapsed": true
   },
   "outputs": [],
   "source": [
    "mass_function = np.histogram(halo_catalog[halo_catalog['halo_upid']==-1]['halo_mvir'], haloprop_bins)[0]"
   ]
  },
  {
   "cell_type": "code",
   "execution_count": 21,
   "metadata": {
    "collapsed": true
   },
   "outputs": [],
   "source": [
    "mass_function[hbc<mdpl2.pmass*100] = 0.0"
   ]
  },
  {
   "cell_type": "code",
   "execution_count": 22,
   "metadata": {},
   "outputs": [
    {
     "data": {
      "image/png": "[encoded data removed]",
      "text/plain": [
       "<matplotlib.figure.Figure at 0x7fe318051190>"
      ]
     },
     "metadata": {},
     "output_type": "display_data"
    }
   ],
   "source": [
    "plt.plot(hbc, mass_function)\n",
    "plt.loglog();"
   ]
  },
  {
   "cell_type": "code",
   "execution_count": 23,
   "metadata": {
    "collapsed": true
   },
   "outputs": [],
   "source": [
    "def calc_analytic_nd(cat, params, min_ptcl):\n",
    "    hod = calc_hod(cat, params, hbc)\n",
    "    return np.sum(mass_function * hod) / ((1000) ** 3)  # /self.h)**3)\n"
   ]
  },
  {
   "cell_type": "code",
   "execution_count": 24,
   "metadata": {
    "collapsed": true
   },
   "outputs": [],
   "source": [
    "from scipy.optimize import minimize_scalar, curve_fit\n",
    "def add_logMmin(hod_params, cat):\n",
    "\n",
    "    hod_params['logMmin'] = 13.0 #initial guess\n",
    "    #cat.populate(hod_params) #may be overkill, but will ensure params are written everywhere\n",
    "    def func(logMmin, hod_params):\n",
    "        hod_params.update({'logMmin':logMmin})\n",
    "        return (calc_analytic_nd(cat,hod_params, min_ptcl=100) - 5e-4)**2\n",
    "\n",
    "    res = minimize_scalar(func, bounds = (12.0,14.0),\\\n",
    "                          args = (hod_params,), \\\n",
    "                          options = {'maxiter':100}, method = 'Bounded')\n",
    "\n",
    "    # assuming this doens't fail\n",
    "    hod_params['logMmin'] = res.x\n",
    "    #print res.x,\n",
    "    #print calc_analytic_nd(cat, hod_params, min_ptcl=100)\n"
   ]
  },
  {
   "cell_type": "code",
   "execution_count": 25,
   "metadata": {
    "collapsed": true
   },
   "outputs": [],
   "source": [
    "def calc_hod(cat, params, bin_centers):\n",
    "    cat.model.param_dict.update(params)\n",
    "    cens_occ, sats_occ = cat.model.model_dictionary['centrals_occupation'], cat.model.model_dictionary[\n",
    "        'satellites_occupation']\n",
    "    for key, val in params.iteritems():\n",
    "        if key in cens_occ.param_dict:\n",
    "            cens_occ.param_dict[key] = val\n",
    "        if key in sats_occ.param_dict:\n",
    "            sats_occ.param_dict[key] = val\n",
    "\n",
    "    cen_hod = getattr(cens_occ, \"baseline_mean_occupation\", cens_occ.mean_occupation)(prim_haloprop=bin_centers)\n",
    "\n",
    "    sat_hod = getattr(sats_occ, \"baseline_mean_occupation\", sats_occ.mean_occupation)(prim_haloprop=bin_centers)\n",
    "\n",
    "    return cen_hod, sat_hod"
   ]
  },
  {
   "cell_type": "raw",
   "metadata": {
    "collapsed": true
   },
   "source": [
    "chain_fname = '/u/ki/swmclau2/des/PearceMCMC/NFWizedSHAM_fixed_cosmo_wp_ds_rmin_None_CAB.hdf5'"
   ]
  },
  {
   "cell_type": "raw",
   "metadata": {},
   "source": [
    "f = h5py.File(chain_fname, 'r')"
   ]
  },
  {
   "cell_type": "raw",
   "metadata": {},
   "source": [
    "tf = f.attrs['training_file']"
   ]
  },
  {
   "cell_type": "raw",
   "metadata": {
    "collapsed": true
   },
   "source": [
    "n_walkers = f.attrs['nwalkers']\n",
    "chain_pnames = f.attrs['param_names']\n",
    "n_burn = 10000"
   ]
  },
  {
   "cell_type": "raw",
   "metadata": {
    "collapsed": true
   },
   "source": [
    "chain = f['chain'][:n_burn*n_walkers]"
   ]
  },
  {
   "cell_type": "raw",
   "metadata": {},
   "source": [
    "chain.shape"
   ]
  },
  {
   "cell_type": "raw",
   "metadata": {
    "collapsed": true
   },
   "source": [
    "f.close()"
   ]
  },
  {
   "cell_type": "raw",
   "metadata": {
    "collapsed": true
   },
   "source": [
    "downsample_npoints = 100\n",
    "downsample_idxs = np.random.choice(chain.shape[0], downsample_npoints, replace=False)"
   ]
  },
  {
   "cell_type": "raw",
   "metadata": {
    "collapsed": true
   },
   "source": [
    "downsample_hod_chain = chain[downsample_idxs, 7:]"
   ]
  },
  {
   "cell_type": "raw",
   "metadata": {},
   "source": [
    "hod_chain_pnames = chain_pnames[7:]"
   ]
  },
  {
   "cell_type": "code",
   "execution_count": 26,
   "metadata": {
    "collapsed": true
   },
   "outputs": [],
   "source": [
    "cen_mask = um_catalog['halo_upid'] == -1\n",
    "host_mask = halo_catalog['halo_upid'] == -1\n",
    "cut_galcat = um_catalog[np.logical_and(cen_mask, um_catalog['halo_mvir_host_halo']>1e13)]\n",
    "cut_halocat = halo_catalog[np.logical_and(host_mask, halo_catalog['halo_mvir'] > 1e13)]"
   ]
  },
  {
   "cell_type": "code",
   "execution_count": 27,
   "metadata": {
    "collapsed": true
   },
   "outputs": [],
   "source": [
    "#from collections import Counter\n",
    "A = set(cut_galcat['halo_hostid'])\n",
    "B = set(cut_halocat['halo_id'])"
   ]
  },
  {
   "cell_type": "code",
   "execution_count": 28,
   "metadata": {},
   "outputs": [
    {
     "data": {
      "text/plain": [
       "['halo_upid',\n",
       " 'halo_vacc',\n",
       " 'halo_vmax',\n",
       " 'halo_rs_klypin',\n",
       " 'halo_snapnum',\n",
       " 'halo_macc',\n",
       " 'halo_halfmass_scale',\n",
       " 'halo_y',\n",
       " 'halo_id',\n",
       " 'halo_x',\n",
       " 'halo_vx',\n",
       " 'halo_vy',\n",
       " 'halo_vz',\n",
       " 'halo_rs',\n",
       " 'halo_vpeak',\n",
       " 'halo_z',\n",
       " 'halo_mvir',\n",
       " 'halo_hostid',\n",
       " 'halo_rvir',\n",
       " 'halo_mvir_host_halo',\n",
       " 'gal_smass']"
      ]
     },
     "execution_count": 28,
     "metadata": {},
     "output_type": "execute_result"
    }
   ],
   "source": [
    "halo_catalog.colnames"
   ]
  },
  {
   "cell_type": "code",
   "execution_count": 29,
   "metadata": {},
   "outputs": [
    {
     "data": {
      "text/plain": [
       "{12647812673,\n",
       " 12665225218,\n",
       " 12683051011,\n",
       " 12638486533,\n",
       " 12577669126,\n",
       " 12574689244,\n",
       " 12675710990,\n",
       " 12638486544,\n",
       " 12585009173,\n",
       " 12619612187,\n",
       " 12630971738,\n",
       " 12602310686,\n",
       " 12668895265,\n",
       " 12675711010,\n",
       " 12698342747,\n",
       " 12633243685,\n",
       " 12587106342,\n",
       " 12667845566,\n",
       " 12571465052,\n",
       " 12602310699,\n",
       " 12638486575,\n",
       " 12667060232,\n",
       " 12633243698,\n",
       " 12704546869,\n",
       " 12655263799,\n",
       " 12614893624,\n",
       " 12619612218,\n",
       " 12613289063,\n",
       " 12704546878,\n",
       " 12665942636,\n",
       " 12675711043,\n",
       " 12668728438,\n",
       " 12682002503,\n",
       " 12571250004,\n",
       " 12613320778,\n",
       " 12673613901,\n",
       " 12688293966,\n",
       " 12634292304,\n",
       " 12614893649,\n",
       " 12577669203,\n",
       " 12682002518,\n",
       " 12652554937,\n",
       " 12602310744,\n",
       " 12585009241,\n",
       " 12604407900,\n",
       " 12577669213,\n",
       " 12637438048,\n",
       " 12619350032,\n",
       " 12587106402,\n",
       " 12619612259,\n",
       " 12638486631,\n",
       " 12682002536,\n",
       " 12602310761,\n",
       " 12588679275,\n",
       " 12704546935,\n",
       " 12585009274,\n",
       " 12599077567,\n",
       " 12704022656,\n",
       " 12633243779,\n",
       " 12619612292,\n",
       " 12638486661,\n",
       " 12679905418,\n",
       " 12585009292,\n",
       " 12666361198,\n",
       " 12675711129,\n",
       " 12588679322,\n",
       " 12619612315,\n",
       " 12602310812,\n",
       " 12673613981,\n",
       " 12585009313,\n",
       " 12659458210,\n",
       " 12633243812,\n",
       " 12689342629,\n",
       " 12675711142,\n",
       " 12683051175,\n",
       " 12682002600,\n",
       " 12704022697,\n",
       " 12655263914,\n",
       " 12612883826,\n",
       " 12633243824,\n",
       " 12585009330,\n",
       " 12602310835,\n",
       " 12673938441,\n",
       " 12703498424,\n",
       " 12625903801,\n",
       " 12685410335,\n",
       " 12697731261,\n",
       " 12675711166,\n",
       " 12665225407,\n",
       " 12637438147,\n",
       " 12602310855,\n",
       " 12655263945,\n",
       " 12625903819,\n",
       " 12617409175,\n",
       " 12617515215,\n",
       " 12682002640,\n",
       " 12602310867,\n",
       " 12577669333,\n",
       " 12585009366,\n",
       " 12673614039,\n",
       " 12682002649,\n",
       " 12659458266,\n",
       " 12569805019,\n",
       " 12673614044,\n",
       " 12602310881,\n",
       " 12588679394,\n",
       " 12585009379,\n",
       " 12683051046,\n",
       " 12680604369,\n",
       " 12685759868,\n",
       " 12619612399,\n",
       " 12580815097,\n",
       " 12585009402,\n",
       " 12683051259,\n",
       " 12682002684,\n",
       " 12659458301,\n",
       " 12675711233,\n",
       " 12673614086,\n",
       " 12605805953,\n",
       " 12588679437,\n",
       " 12619612433,\n",
       " 12585009430,\n",
       " 12588679215,\n",
       " 12627854266,\n",
       " 12592174469,\n",
       " 12682002721,\n",
       " 12572338907,\n",
       " 12665225509,\n",
       " 12659458351,\n",
       " 12632056233,\n",
       " 12617515318,\n",
       " 12673614136,\n",
       " 12682177247,\n",
       " 12682002748,\n",
       " 12633243965,\n",
       " 12665225535,\n",
       " 12619612482,\n",
       " 12633243976,\n",
       " 12577669175,\n",
       " 12585009485,\n",
       " 12688294228,\n",
       " 12665225561,\n",
       " 12619612507,\n",
       " 12633243997,\n",
       " 12588679519,\n",
       " 12705845991,\n",
       " 12673614180,\n",
       " 12633244005,\n",
       " 12619612520,\n",
       " 12595495273,\n",
       " 12682002795,\n",
       " 12689342829,\n",
       " 12682002803,\n",
       " 12577488030,\n",
       " 12617515383,\n",
       " 12633244024,\n",
       " 12655264127,\n",
       " 12682002818,\n",
       " 12588679558,\n",
       " 12620150100,\n",
       " 12619612553,\n",
       " 12660146564,\n",
       " 12625379723,\n",
       " 12633244046,\n",
       " 12595495312,\n",
       " 12583960979,\n",
       " 12675711381,\n",
       " 12588679574,\n",
       " 12613321113,\n",
       " 12619612573,\n",
       " 12613321122,\n",
       " 12580815269,\n",
       " 12619612585,\n",
       " 12675711406,\n",
       " 12684711325,\n",
       " 12633244084,\n",
       " 12665836958,\n",
       " 12639535543,\n",
       " 12588679608,\n",
       " 12627738698,\n",
       " 12682002879,\n",
       " 12675711429,\n",
       " 12655264199,\n",
       " 12595495368,\n",
       " 12673614281,\n",
       " 12588679628,\n",
       " 12674225570,\n",
       " 12677284312,\n",
       " 12682002906,\n",
       " 12641719717,\n",
       " 12580815328,\n",
       " 12675711056,\n",
       " 12633244131,\n",
       " 12675711461,\n",
       " 12612534353,\n",
       " 12676060583,\n",
       " 12675711469,\n",
       " 12673614321,\n",
       " 12659458547,\n",
       " 12655264246,\n",
       " 12673973368,\n",
       " 12580815355,\n",
       " 12619612668,\n",
       " 12633244160,\n",
       " 12619612674,\n",
       " 12682002948,\n",
       " 12655264262,\n",
       " 12588679688,\n",
       " 12644254218,\n",
       " 12673614347,\n",
       " 12617515532,\n",
       " 12682002957,\n",
       " 12653167120,\n",
       " 12585009683,\n",
       " 12706489654,\n",
       " 12619612700,\n",
       " 12585009696,\n",
       " 12697731617,\n",
       " 12659458596,\n",
       " 12580815401,\n",
       " 12588679725,\n",
       " 12633243741,\n",
       " 12619612720,\n",
       " 12605806003,\n",
       " 12639535673,\n",
       " 12608078394,\n",
       " 12619350111,\n",
       " 12655264316,\n",
       " 12588679741,\n",
       " 12653778357,\n",
       " 12604408387,\n",
       " 12625379909,\n",
       " 12636564236,\n",
       " 12571902543,\n",
       " 12702168172,\n",
       " 12608078419,\n",
       " 12659458644,\n",
       " 12662080085,\n",
       " 12675711576,\n",
       " 12679905882,\n",
       " 12619612763,\n",
       " 12585009757,\n",
       " 12655264357,\n",
       " 12682003046,\n",
       " 12641719740,\n",
       " 12703498859,\n",
       " 12682003056,\n",
       " 12617515638,\n",
       " 12673614456,\n",
       " 12625719236,\n",
       " 12659458686,\n",
       " 12682003075,\n",
       " 12675711620,\n",
       " 12655264391,\n",
       " 12588679819,\n",
       " 12673614479,\n",
       " 12604408464,\n",
       " 12659458706,\n",
       " 12648797635,\n",
       " 12689343135,\n",
       " 12591256985,\n",
       " 12673614497,\n",
       " 12596019874,\n",
       " 12604408490,\n",
       " 12585009835,\n",
       " 12619612846,\n",
       " 12644254386,\n",
       " 12587106995,\n",
       " 12639535796,\n",
       " 12617515702,\n",
       " 12619088569,\n",
       " 12585009850,\n",
       " 12659458749,\n",
       " 12685443334,\n",
       " 12648868654,\n",
       " 12619612869,\n",
       " 12612534391,\n",
       " 12679905996,\n",
       " 12679906008,\n",
       " 12633243770,\n",
       " 12655264479,\n",
       " 12619612896,\n",
       " 12644975503,\n",
       " 12659458799,\n",
       " 12644254448,\n",
       " 12679906033,\n",
       " 12655264498,\n",
       " 12619612920,\n",
       " 12679906041,\n",
       " 12662080252,\n",
       " 12655264509,\n",
       " 12604408579,\n",
       " 12612534402,\n",
       " 12619612945,\n",
       " 12659458838,\n",
       " 12655264535,\n",
       " 12617515801,\n",
       " 12677284634,\n",
       " 12619612957,\n",
       " 12577884099,\n",
       " 12697731871,\n",
       " 12688915257,\n",
       " 12688294690,\n",
       " 12639535909,\n",
       " 12659458854,\n",
       " 12624505649,\n",
       " 12673614635,\n",
       " 12689343276,\n",
       " 12658400770,\n",
       " 12571902778,\n",
       " 12578805215,\n",
       " 12644254533,\n",
       " 12705596240,\n",
       " 12611922744,\n",
       " 12604408664,\n",
       " 12703670909,\n",
       " 12688294747,\n",
       " 12587107164,\n",
       " 12697731936,\n",
       " 12637875003,\n",
       " 12673614692,\n",
       " 12637438822,\n",
       " 12619613037,\n",
       " 12571465192,\n",
       " 12605193828,\n",
       " 12673614711,\n",
       " 12604408699,\n",
       " 12595495804,\n",
       " 12639535998,\n",
       " 12706381973,\n",
       " 12659458946,\n",
       " 12604408714,\n",
       " 12619613071,\n",
       " 12625380242,\n",
       " 12665226134,\n",
       " 12617515927,\n",
       " 12665226137,\n",
       " 12630974128,\n",
       " 12697731997,\n",
       " 12703499167,\n",
       " 12673614754,\n",
       " 12637438883,\n",
       " 12619613092,\n",
       " 12613321638,\n",
       " 12679906215,\n",
       " 12680345582,\n",
       " 12580815789,\n",
       " 12659458990,\n",
       " 12704023472,\n",
       " 12617515953,\n",
       " 12600038409,\n",
       " 12604408761,\n",
       " 12596020155,\n",
       " 12603446773,\n",
       " 12583961539,\n",
       " 12619613124,\n",
       " 12682002593,\n",
       " 12604408776,\n",
       " 12692164704,\n",
       " 12598203895,\n",
       " 12697732047,\n",
       " 12673614801,\n",
       " 12619613139,\n",
       " 12638486692,\n",
       " 12659459035,\n",
       " 12617515997,\n",
       " 12604408805,\n",
       " 12604408809,\n",
       " 12639536106,\n",
       " 12588679335,\n",
       " 12619613167,\n",
       " 12665226226,\n",
       " 12597504851,\n",
       " 12639536120,\n",
       " 12611922772,\n",
       " 12602310826,\n",
       " 12638661461,\n",
       " 12695896235,\n",
       " 12578805249,\n",
       " 12697732104,\n",
       " 12659459081,\n",
       " 12580815882,\n",
       " 12673614859,\n",
       " 12619613201,\n",
       " 12655264788,\n",
       " 12673614874,\n",
       " 12659459100,\n",
       " 12619613218,\n",
       " 12604408873,\n",
       " 12617516074,\n",
       " 12673614892,\n",
       " 12580815026,\n",
       " 12677284910,\n",
       " 12697732143,\n",
       " 12569212958,\n",
       " 12703499322,\n",
       " 12655264834,\n",
       " 12659459141,\n",
       " 12604408902,\n",
       " 12574086668,\n",
       " 12619613259,\n",
       " 12673614926,\n",
       " 12659459151,\n",
       " 12655264848,\n",
       " 12674225678,\n",
       " 12613321815,\n",
       " 12580815960,\n",
       " 12619613275,\n",
       " 12659459165,\n",
       " 12697732191,\n",
       " 12613321827,\n",
       " 12619613288,\n",
       " 12574261436,\n",
       " 12702975086,\n",
       " 12604408943,\n",
       " 12619613297,\n",
       " 12580815988,\n",
       " 12705596536,\n",
       " 12685410495,\n",
       " 12604408956,\n",
       " 12579679082,\n",
       " 12659459200,\n",
       " 12613321857,\n",
       " 12604408968,\n",
       " 12625380489,\n",
       " 12679906444,\n",
       " 12587107469,\n",
       " 12580816015,\n",
       " 12655264914,\n",
       " 12604408981,\n",
       " 12639536278,\n",
       " 12673615004,\n",
       " 12617516196,\n",
       " 12612534470,\n",
       " 12619613351,\n",
       " 12673615019,\n",
       " 12694236018,\n",
       " 12613321902,\n",
       " 12689343664,\n",
       " 12619613363,\n",
       " 12588679369,\n",
       " 12673615034,\n",
       " 12580816062,\n",
       " 12655264959,\n",
       " 12659459267,\n",
       " 12697732295,\n",
       " 12612884003,\n",
       " 12655264982,\n",
       " 12653167834,\n",
       " 12683051215,\n",
       " 12677285085,\n",
       " 12619613407,\n",
       " 12665225424,\n",
       " 12613321954,\n",
       " 12594359163,\n",
       " 12655264998,\n",
       " 12613321966,\n",
       " 12587107567,\n",
       " 12703499504,\n",
       " 12658935028,\n",
       " 12695896276,\n",
       " 12655265021,\n",
       " 12617516287,\n",
       " 12619613441,\n",
       " 12619613444,\n",
       " 12604409094,\n",
       " 12580816135,\n",
       " 12573212887,\n",
       " 12659459340,\n",
       " 12568843821,\n",
       " 12655265041,\n",
       " 12569137617,\n",
       " 12644254995,\n",
       " 12659459354,\n",
       " 12625380635,\n",
       " 12673615132,\n",
       " 12617516317,\n",
       " 12658935075,\n",
       " 12618651185,\n",
       " 12641466448,\n",
       " 12625380650,\n",
       " 12583961899,\n",
       " 12619613485,\n",
       " 12619089200,\n",
       " 12659459377,\n",
       " 12580816187,\n",
       " 12617516356,\n",
       " 12697732421,\n",
       " 12639536455,\n",
       " 12569806153,\n",
       " 12613322061,\n",
       " 12580816209,\n",
       " 12617516370,\n",
       " 12617516376,\n",
       " 12639536478,\n",
       " 12587107679,\n",
       " 12659459424,\n",
       " 12686647964,\n",
       " 12580816228,\n",
       " 12625380709,\n",
       " 12595496295,\n",
       " 12703499629,\n",
       " 12639536497,\n",
       " 12653167989,\n",
       " 12691174322,\n",
       " 12697732473,\n",
       " 12679906683,\n",
       " 12655265149,\n",
       " 12613322113,\n",
       " 12617374299,\n",
       " 12639536524,\n",
       " 12572951951,\n",
       " 12617516432,\n",
       " 12659459476,\n",
       " 12655265174,\n",
       " 12653168028,\n",
       " 12613322141,\n",
       " 12580816287,\n",
       " 12655265187,\n",
       " 12639536551,\n",
       " 12617516459,\n",
       " 12697732527,\n",
       " 12617516469,\n",
       " 12632056547,\n",
       " 12639536575,\n",
       " 12617516480,\n",
       " 12676236737,\n",
       " 12659459523,\n",
       " 12580816327,\n",
       " 12675923042,\n",
       " 12617516491,\n",
       " 12572339106,\n",
       " 12655265230,\n",
       " 12628874829,\n",
       " 12659459539,\n",
       " 12704024020,\n",
       " 12652205646,\n",
       " 12617952164,\n",
       " 12659459553,\n",
       " 12639536612,\n",
       " 12608079336,\n",
       " 12569806313,\n",
       " 12569806318,\n",
       " 12675711229,\n",
       " 12580816368,\n",
       " 12674225748,\n",
       " 12690129151,\n",
       " 12586059261,\n",
       " 12659459584,\n",
       " 12653168131,\n",
       " 12688295429,\n",
       " 12639536649,\n",
       " 12687171712,\n",
       " 12704024079,\n",
       " 12617516561,\n",
       " 12679906834,\n",
       " 12689344022,\n",
       " 12659459607,\n",
       " 12580816408,\n",
       " 12604409370,\n",
       " 12689344030,\n",
       " 12659459625,\n",
       " 12570067207,\n",
       " 12655265329,\n",
       " 12644255283,\n",
       " 12617516597,\n",
       " 12604409398,\n",
       " 12610041911,\n",
       " 12659459645,\n",
       " 12606986747,\n",
       " 12639536706,\n",
       " 12676236871,\n",
       " 12659459657,\n",
       " 12594111515,\n",
       " 12644255308,\n",
       " 12617516626,\n",
       " 12574086755,\n",
       " 12639536727,\n",
       " 12572952152,\n",
       " 12608505601,\n",
       " 12705597022,\n",
       " 12613322336,\n",
       " 12662081121,\n",
       " 12697732706,\n",
       " 12583349179,\n",
       " 12655265382,\n",
       " 12686927302,\n",
       " 12603446887,\n",
       " 12639536755,\n",
       " 12604409464,\n",
       " 12655265401,\n",
       " 12705597052,\n",
       " 12617516670,\n",
       " 12604933760,\n",
       " 12685443366,\n",
       " 12617516676,\n",
       " 12619089543,\n",
       " 12679906952,\n",
       " 12580816521,\n",
       " 12587107986,\n",
       " 12671092824,\n",
       " 12604409500,\n",
       " 12579679173,\n",
       " 12617516709,\n",
       " 12604233329,\n",
       " 12655265449,\n",
       " 12613322414,\n",
       " 12587108015,\n",
       " 12703499954,\n",
       " 12697732787,\n",
       " 12608079544,\n",
       " 12697732795,\n",
       " 12617516733,\n",
       " 12613215597,\n",
       " 12683052735,\n",
       " 12659459776,\n",
       " 12639536835,\n",
       " 12697732806,\n",
       " 12689342753,\n",
       " 12580816586,\n",
       " 12659459789,\n",
       " 12683052751,\n",
       " 12676237008,\n",
       " 12637439700,\n",
       " 12587108054,\n",
       " 12703499992,\n",
       " 12608079577,\n",
       " 12580816602,\n",
       " 12697732830,\n",
       " 12673614117,\n",
       " 12662081248,\n",
       " 12639536868,\n",
       " 12688295653,\n",
       " 12697732839,\n",
       " 12580816616,\n",
       " 12677285611,\n",
       " 12617516783,\n",
       " 12659459828,\n",
       " 12617516789,\n",
       " 12676237046,\n",
       " 12705597175,\n",
       " 12576609692,\n",
       " 12659459836,\n",
       " 12677285630,\n",
       " 12639536895,\n",
       " 12686892391,\n",
       " 12679907076,\n",
       " 12705597192,\n",
       " 12628949020,\n",
       " 12580816656,\n",
       " 12639536917,\n",
       " 12677285654,\n",
       " 12587108119,\n",
       " 12586059547,\n",
       " 12583962397,\n",
       " 12639536928,\n",
       " 12617516835,\n",
       " 12580816676,\n",
       " 12702451493,\n",
       " 12581882034,\n",
       " 12683052845,\n",
       " 12617516847,\n",
       " 12653603806,\n",
       " 12646523827,\n",
       " 12617516861,\n",
       " 12697732929,\n",
       " 12617516868,\n",
       " 12602310966,\n",
       " 12587108170,\n",
       " 12617516876,\n",
       " 12697732941,\n",
       " 12697732943,\n",
       " 12580816721,\n",
       " 12591475683,\n",
       " 12617516886,\n",
       " 12692490072,\n",
       " 12585883280,\n",
       " 12639536997,\n",
       " 12617516910,\n",
       " 12588679485,\n",
       " 12631090984,\n",
       " 12580816760,\n",
       " 12595496826,\n",
       " 12683052924,\n",
       " 12613322622,\n",
       " 12580816771,\n",
       " 12569806725,\n",
       " 12697732999,\n",
       " 12617516939,\n",
       " 12639537036,\n",
       " 12608079757,\n",
       " 12571903887,\n",
       " 12676237202,\n",
       " 12644766046,\n",
       " 12613322645,\n",
       " 12697733016,\n",
       " 12653168539,\n",
       " 12637439901,\n",
       " 12683052958,\n",
       " 12583962527,\n",
       " 12690917280,\n",
       " 12580816801,\n",
       " 12617516962,\n",
       " 12626412249,\n",
       " 12617516966,\n",
       " 12688295847,\n",
       " 12580816808,\n",
       " 12656445503,\n",
       " 12689344427,\n",
       " 12658935725,\n",
       " 12679907246,\n",
       " 12697733040,\n",
       " 12613322678,\n",
       " 12676237240,\n",
       " 12580816825,\n",
       " 12583962554,\n",
       " 12639537094,\n",
       " 12690917319,\n",
       " 12677285834,\n",
       " 12572952524,\n",
       " 12613322703,\n",
       " 12580816849,\n",
       " 12653778595,\n",
       " 12639537109,\n",
       " 12655265750,\n",
       " 12619089881,\n",
       " 12583962587,\n",
       " 12580816861,\n",
       " 12616468446,\n",
       " 12616468451,\n",
       " 12572952549,\n",
       " 12668897257,\n",
       " 12639537134,\n",
       " 12655265775,\n",
       " 12613322737,\n",
       " 12617517044,\n",
       " 12580816886,\n",
       " 12702451703,\n",
       " 12703500285,\n",
       " 12679907326,\n",
       " 12683053059,\n",
       " 12587108356,\n",
       " 12705597447,\n",
       " 12574086828,\n",
       " 12697733130,\n",
       " 12627478541,\n",
       " 12703500302,\n",
       " 12580816911,\n",
       " 12655265810,\n",
       " 12587108371,\n",
       " 12703500319,\n",
       " 12697733156,\n",
       " 12683053095,\n",
       " 12652344315,\n",
       " 12587108393,\n",
       " 12703704533,\n",
       " 12677285934,\n",
       " 12637440050,\n",
       " 12677285941,\n",
       " 12644255798,\n",
       " 12624768009,\n",
       " 12580816952,\n",
       " 12665225567,\n",
       " 12703500351,\n",
       " 12655153610,\n",
       " 12613322820,\n",
       " 12671518791,\n",
       " 12569806920,\n",
       " 12704024651,\n",
       " 12679907404,\n",
       " 12573213026,\n",
       " 12583854807,\n",
       " 12625381458,\n",
       " 12596021331,\n",
       " 12677458958,\n",
       " 12586059863,\n",
       " 12692051642,\n",
       " 12644255840,\n",
       " 12579679248,\n",
       " 12580816997,\n",
       " 12703500390,\n",
       " 12615330833,\n",
       " 12671197588,\n",
       " 12668897390,\n",
       " 12702451824,\n",
       " 12588679528,\n",
       " 12571465406,\n",
       " 12595497080,\n",
       " 12620224191,\n",
       " 12703500415,\n",
       " 12571904128,\n",
       " 12619350379,\n",
       " 12679907461,\n",
       " 12676237450,\n",
       " 12613322892,\n",
       " 12643292866,\n",
       " 12683053201,\n",
       " 12677286035,\n",
       " 12608080020,\n",
       " 12583962776,\n",
       " 12679228307,\n",
       " 12621187231,\n",
       " 12613322916,\n",
       " 12639537317,\n",
       " 12697733287,\n",
       " 12625381545,\n",
       " 12685410674,\n",
       " 12639537327,\n",
       " 12703500464,\n",
       " 12637440178,\n",
       " 12677286069,\n",
       " 12620224201,\n",
       " 12679907516,\n",
       " 12580817085,\n",
       " 12619090113,\n",
       " 12702451907,\n",
       " 12587108548,\n",
       " 12639537349,\n",
       " 12569807046,\n",
       " 12637440199,\n",
       " 12697733321,\n",
       " 12580817098,\n",
       " 12683053260,\n",
       " 12658936015,\n",
       " 12583962833,\n",
       " 12639537365,\n",
       " 12697733338,\n",
       " 12639537371,\n",
       " 12679907549,\n",
       " 12676237537,\n",
       " 12697733346,\n",
       " 12604934372,\n",
       " 12692490472,\n",
       " 12683053290,\n",
       " 12705597681,\n",
       " 12689344755,\n",
       " 12580817143,\n",
       " 12637440249,\n",
       " 12673614207,\n",
       " 12677286141,\n",
       " 12644255999,\n",
       " 12639537411,\n",
       " 12682473277,\n",
       " 12587108614,\n",
       " 12703500551,\n",
       " 12677208823,\n",
       " 12569807113,\n",
       " 12580817163,\n",
       " 12679907599,\n",
       " 12688296210,\n",
       " 12653168915,\n",
       " 12639537429,\n",
       " 12702976281,\n",
       " 12683053339,\n",
       " 12619090207,\n",
       " 12658936097,\n",
       " 12580817186,\n",
       " 12587108646,\n",
       " 12683053351,\n",
       " 12604934441,\n",
       " 12679907627,\n",
       " 12697733421,\n",
       " 12683053358,\n",
       " 12703500592,\n",
       " 12697733426,\n",
       " 12697733434,\n",
       " 12677286205,\n",
       " 12703500608,\n",
       " 12641466483,\n",
       " 12586060100,\n",
       " 12697733449,\n",
       " 12613323088,\n",
       " 12679907665,\n",
       " 12653168978,\n",
       " 12578805475,\n",
       " 12682002830,\n",
       " 12703500630,\n",
       " 12580817239,\n",
       " 12613323097,\n",
       " 12580817244,\n",
       " 12679907684,\n",
       " 12613323111,\n",
       " 12573432342,\n",
       " 12695721703,\n",
       " 12608078227,\n",
       " 12587108726,\n",
       " 12683053431,\n",
       " 12676237689,\n",
       " 12583963002,\n",
       " 12572952955,\n",
       " 12610076855,\n",
       " 12679907711,\n",
       " 12594539163,\n",
       " 12644256141,\n",
       " 12677286286,\n",
       " 12580817296,\n",
       " 12679907729,\n",
       " 12658936211,\n",
       " 12692490645,\n",
       " 12619090329,\n",
       " 12689344924,\n",
       " 12703500701,\n",
       " 12608080286,\n",
       " 12679907745,\n",
       " 12644256164,\n",
       " 12613932785,\n",
       " 12621187501,\n",
       " 12701139357,\n",
       " 12620900867,\n",
       " 12689344946,\n",
       " 12666012062,\n",
       " 12587108792,\n",
       " 12658936249,\n",
       " 12679907770,\n",
       " 12680604746,\n",
       " 12677286334,\n",
       " 12653603915,\n",
       " 12679907785,\n",
       " 12617515426,\n",
       " 12692490704,\n",
       " 12688296407,\n",
       " 12689344985,\n",
       " 12658936282,\n",
       " 12587108831,\n",
       " 12601836644,\n",
       " 12602674632,\n",
       " 12571904486,\n",
       " 12608080361,\n",
       " 12679907820,\n",
       " 12692490734,\n",
       " 12596021743,\n",
       " 12703500786,\n",
       " 12705597944,\n",
       " 12625906172,\n",
       " 12587108863,\n",
       " 12621616651,\n",
       " 12583963137,\n",
       " 12690917893,\n",
       " 12667810734,\n",
       " 12569807368,\n",
       " 12705597961,\n",
       " 12683053578,\n",
       " 12685760258,\n",
       " 12683053585,\n",
       " 12587108885,\n",
       " 12683053600,\n",
       " 12658936355,\n",
       " 12637440549,\n",
       " 12683053610,\n",
       " 12676237869,\n",
       " 12667060659,\n",
       " 12637440564,\n",
       " 12703500855,\n",
       " 12569807416,\n",
       " 12611091141,\n",
       " 12679907898,\n",
       " 12683053629,\n",
       " 12677286462,\n",
       " 12583963199,\n",
       " 12668897856,\n",
       " 12679907905,\n",
       " 12690917960,\n",
       " 12683053641,\n",
       " 12697227603,\n",
       " 12705598027,\n",
       " 12703500877,\n",
       " 12668373584,\n",
       " 12637440593,\n",
       " 12689345106,\n",
       " 12608080469,\n",
       " 12587108957,\n",
       " 12621187680,\n",
       " 12705598050,\n",
       " 12703704552,\n",
       " 12676237927,\n",
       " 12679907944,\n",
       " 12698517948,\n",
       " 12569807469,\n",
       " 12677286511,\n",
       " 12583963248,\n",
       " 12689345137,\n",
       " 12659081697,\n",
       " 12667060670,\n",
       " 12689345142,\n",
       " 12637440632,\n",
       " 12702452345,\n",
       " 12593212357,\n",
       " 12587108989,\n",
       " 12571904643,\n",
       " 12613323397,\n",
       " 12703500935,\n",
       " 12683053704,\n",
       " 12690918025,\n",
       " 12702799639,\n",
       " 12705598094,\n",
       " 12587109007,\n",
       " 12676237971,\n",
       " 12679907989,\n",
       " 12689345180,\n",
       " 12583963295,\n",
       " ...}"
      ]
     },
     "execution_count": 29,
     "metadata": {},
     "output_type": "execute_result"
    }
   ],
   "source": [
    "B-A"
   ]
  },
  {
   "cell_type": "code",
   "execution_count": 30,
   "metadata": {},
   "outputs": [
    {
     "name": "stdout",
     "output_type": "stream",
     "text": [
      "False\n"
     ]
    }
   ],
   "source": [
    "test_id = 12647812673\n",
    "test_row = halo_catalog[np.where(test_id==halo_catalog['halo_id'])[0]] \n",
    "print test_id in um_catalog['halo_id']"
   ]
  },
  {
   "cell_type": "code",
   "execution_count": 31,
   "metadata": {},
   "outputs": [
    {
     "data": {
      "text/html": [
       "&lt;Table length=1&gt;\n",
       "<table id=\"table140613339295696\" class=\"table-striped table-bordered table-condensed\">\n",
       "<thead><tr><th>halo_upid</th><th>halo_vacc</th><th>halo_vmax</th><th>halo_rs_klypin</th><th>halo_snapnum</th><th>halo_macc</th><th>halo_halfmass_scale</th><th>halo_y</th><th>halo_id</th><th>halo_x</th><th>halo_vx</th><th>halo_vy</th><th>halo_vz</th><th>halo_rs</th><th>halo_vpeak</th><th>halo_z</th><th>halo_mvir</th><th>halo_hostid</th><th>halo_rvir</th><th>halo_mvir_host_halo</th><th>gal_smass</th></tr></thead>\n",
       "<thead><tr><th>int64</th><th>float32</th><th>float32</th><th>float32</th><th>int64</th><th>float32</th><th>float32</th><th>float32</th><th>int64</th><th>float32</th><th>float32</th><th>float32</th><th>float32</th><th>float32</th><th>float32</th><th>float32</th><th>float32</th><th>int64</th><th>float32</th><th>float32</th><th>float64</th></tr></thead>\n",
       "<tr><td>-1</td><td>0.5972</td><td>429.54</td><td>1322175.5</td><td>125</td><td>28.8951</td><td>7178000000000.0</td><td>533.9881</td><td>12647812673</td><td>598.974</td><td>-447.99</td><td>375.41</td><td>260.11</td><td>0.044769</td><td>16900000000000.0</td><td>545.04175</td><td>15132000000000.0</td><td>12647812673</td><td>0.52170706</td><td>15132000000000.0</td><td>11.652884869812798</td></tr>\n",
       "</table>"
      ],
      "text/plain": [
       "<Table length=1>\n",
       "halo_upid halo_vacc halo_vmax ... halo_mvir_host_halo     gal_smass     \n",
       "  int64    float32   float32  ...       float32            float64      \n",
       "--------- --------- --------- ... ------------------- ------------------\n",
       "       -1    0.5972    429.54 ...    15132000000000.0 11.652884869812798"
      ]
     },
     "execution_count": 31,
     "metadata": {},
     "output_type": "execute_result"
    }
   ],
   "source": [
    "test_row"
   ]
  },
  {
   "cell_type": "code",
   "execution_count": 32,
   "metadata": {
    "collapsed": true
   },
   "outputs": [],
   "source": [
    "\n",
    "sham_cen_hod, _ = hod_from_mock( um_catalog['halo_mvir_host_halo'][cen_mask],halo_catalog[host_mask]['halo_mvir'], haloprop_bins)\n",
    "sham_sat_hod, _  = hod_from_mock( um_catalog['halo_mvir_host_halo'][~cen_mask],halo_catalog[host_mask]['halo_mvir'], haloprop_bins)"
   ]
  },
  {
   "cell_type": "raw",
   "metadata": {},
   "source": [
    "fig = plt.figure(figsize=(12,6) )\n",
    "for point in downsample_hod_chain:\n",
    "    params = dict(zip(hod_chain_pnames,point))\n",
    "    add_logMmin(params, cat)\n",
    "\n",
    "    cen_hod, sat_hod = calc_hod(cat, params , hbc)\n",
    "    plt.subplot(121)\n",
    "    plt.plot(hbc, cen_hod, alpha = 0.2)\n",
    "    plt.subplot(122)\n",
    "    plt.plot(hbc, sat_hod, alpha = 0.2)\n",
    "\n",
    "plt.subplot(121)\n",
    "plt.plot(hbc, sham_cen_hod, color ='k')#, ls = ':')\n",
    "plt.ylim([1e-6, 1.2])\n",
    "plt.loglog();\n",
    "plt.subplot(122)\n",
    "plt.plot(hbc, sham_sat_hod, color = 'k')#, ls = '--')\n",
    "plt.ylim([1e-6, 1e2])\n",
    "plt.loglog();\n",
    "plt.show();"
   ]
  },
  {
   "cell_type": "code",
   "execution_count": 33,
   "metadata": {
    "collapsed": true
   },
   "outputs": [],
   "source": [
    "def cen_hod(hbc, sigma_logM, logMmin, full_range = False, log =False):\n",
    "    params = {'sigma_logM': sigma_logM, 'logMmin': logMmin}\n",
    "    cat.model.param_dict.update(params)\n",
    "    \n",
    "    cens_occ = cat.model.model_dictionary['centrals_occupation']\n",
    "    \n",
    "    for key, val in params.iteritems():\n",
    "        if key in cens_occ.param_dict:\n",
    "            cens_occ.param_dict[key] = val\n",
    "            \n",
    "    cen_hod = getattr(cens_occ, \"baseline_mean_occupation\", cens_occ.mean_occupation)(prim_haloprop=hbc)\n",
    "    #sat_hod = getattr(sats_occ, \"baseline_mean_occupation\", sats_occ.mean_occupation)(prim_haloprop=bin_centers)\n",
    "\n",
    "    if full_range:\n",
    "        return cen_hod\n",
    "    \n",
    "    if log:\n",
    "        return np.log10(cen_hod[15:-4])\n",
    "    return cen_hod[15:-4]"
   ]
  },
  {
   "cell_type": "code",
   "execution_count": 34,
   "metadata": {
    "collapsed": true
   },
   "outputs": [],
   "source": [
    "def sat_hod(hbc, alpha, logM0, logM1, full_range = False):\n",
    "    params = {'alpha': alpha, 'logM0': logM0, 'logM1': logM1}\n",
    "    params.update( {'sigma_logM': t[0], 'logMmin': t[1]})\n",
    "    cat.model.param_dict.update(params)\n",
    "    sats_occ = cat.model.model_dictionary['satellites_occupation']\n",
    "    cens_occ, sats_occ = cat.model.model_dictionary['centrals_occupation'], cat.model.model_dictionary[\n",
    "        'satellites_occupation']\n",
    "    for key, val in params.iteritems():\n",
    "        if key in cens_occ.param_dict:\n",
    "            cens_occ.param_dict[key] = val\n",
    "        if key in sats_occ.param_dict:\n",
    "            sats_occ.param_dict[key] = val\n",
    "                \n",
    "    sat_hod = getattr(sats_occ, \"baseline_mean_occupation\", sats_occ.mean_occupation)(prim_haloprop=hbc)\n",
    "\n",
    "    if full_range:\n",
    "        return sat_hod\n",
    "    return sat_hod[:-4]"
   ]
  },
  {
   "cell_type": "code",
   "execution_count": 35,
   "metadata": {},
   "outputs": [
    {
     "name": "stdout",
     "output_type": "stream",
     "text": [
      "[ 1.10288026 13.37424141] [ 0.53397051 13.23727736]\n"
     ]
    }
   ],
   "source": [
    "t = curve_fit(cen_hod, hbc, sham_cen_hod[15:-4], p0 = [0.1, 12.5])[0]\n",
    "_t= curve_fit(lambda a,b,c: cen_hod(a,b,c, log=True), hbc, np.log10(sham_cen_hod[15:-4]), p0 = [0.5, 12.5])[0]\n",
    "print t, _t\n"
   ]
  },
  {
   "cell_type": "code",
   "execution_count": 36,
   "metadata": {
    "collapsed": true
   },
   "outputs": [],
   "source": [
    "min_halo_mass = cat.pmass*100"
   ]
  },
  {
   "cell_type": "code",
   "execution_count": 38,
   "metadata": {},
   "outputs": [
    {
     "data": {
      "text/plain": [
       "<matplotlib.text.Text at 0x7fe31a35c650>"
      ]
     },
     "execution_count": 38,
     "metadata": {},
     "output_type": "execute_result"
    },
    {
     "data": {
      "image/png": "[encoded data removed]",
      "text/plain": [
       "<matplotlib.figure.Figure at 0x7fe137be7e50>"
      ]
     },
     "metadata": {},
     "output_type": "display_data"
    }
   ],
   "source": [
    "plt.plot(hbc, cen_hod(hbc, *t, full_range=True), label = r'HOD Fit 1 $\\sigma_{logM} = %0.2f$'%t[0])\n",
    "plt.plot(hbc, cen_hod(hbc, *_t, full_range=True), label = r'HOD Fit 2 $\\sigma_{logM} = %0.2f$'%_t[0])\n",
    "plt.vlines(min_halo_mass, 1e-4, 3, linestyles='dashed', alpha = 0.5, label = 'Min Aemulus Halo Mass')\n",
    "#plt.plot(hbc, cen_hod(hbc, *[0.5, 13.421], full_range=True))\n",
    "plt.plot(hbc, sham_cen_hod, label = 'UM')\n",
    "plt.legend(loc='best')\n",
    "plt.ylim([1e-4, 2])\n",
    "plt.loglog();\n",
    "plt.xlabel('Halo Mass')\n",
    "plt.ylabel('Mean N_cen')\n",
    "plt.title('Fits to HOD in UM')"
   ]
  },
  {
   "cell_type": "code",
   "execution_count": 39,
   "metadata": {},
   "outputs": [
    {
     "name": "stdout",
     "output_type": "stream",
     "text": [
      "[  1.01927556 -23.23414665  14.36848844]\n"
     ]
    },
    {
     "name": "stderr",
     "output_type": "stream",
     "text": [
      "/share/software/user/open/py-scipystack/1.0_py27/lib/python2.7/site-packages/scipy/optimize/minpack.py:779: OptimizeWarning: Covariance of the parameters could not be estimated\n",
      "  category=OptimizeWarning)\n"
     ]
    }
   ],
   "source": [
    "t2 = curve_fit(sat_hod, hbc,sham_sat_hod[:-4], p0 = [0.9, 13.3, 14.5])[0]\n",
    "print t2"
   ]
  },
  {
   "cell_type": "code",
   "execution_count": 40,
   "metadata": {},
   "outputs": [
    {
     "data": {
      "image/png": "[encoded data removed]",
      "text/plain": [
       "<matplotlib.figure.Figure at 0x7fe318222310>"
      ]
     },
     "metadata": {},
     "output_type": "display_data"
    }
   ],
   "source": [
    "plt.plot(hbc, sat_hod(hbc, *t2, full_range=True))\n",
    "plt.plot(hbc, sham_sat_hod)\n",
    "plt.ylim([1e-2, 50])\n",
    "plt.loglog();"
   ]
  },
  {
   "cell_type": "code",
   "execution_count": 41,
   "metadata": {},
   "outputs": [
    {
     "data": {
      "text/plain": [
       "<matplotlib.text.Text at 0x7fe21acfdc10>"
      ]
     },
     "execution_count": 41,
     "metadata": {},
     "output_type": "execute_result"
    },
    {
     "data": {
      "image/png": "[encoded data removed]",
      "text/plain": [
       "<matplotlib.figure.Figure at 0x7fe21ac4aed0>"
      ]
     },
     "metadata": {},
     "output_type": "display_data"
    }
   ],
   "source": [
    "plt.plot(hbc, cen_hod(hbc, *t, full_range=True)*(1+sat_hod(hbc, *t2, full_range=True)), label = 'HOD 1')\n",
    "plt.plot(hbc, sham_cen_hod+sham_sat_hod, label = 'UM', lw= 4)\n",
    "plt.plot(hbc, cen_hod(hbc, *_t, full_range=True)*(1+sat_hod(hbc, *t2, full_range=True)), label = 'HOD 2')\n",
    "plt.vlines(min_halo_mass, 1e-4, 3, linestyles='dashed', alpha = 0.5, label = 'Min Aemulus Halo Mass')\n",
    "\n",
    "plt.ylim([1e-2, 50])\n",
    "plt.legend(loc='best')\n",
    "plt.loglog();\n",
    "plt.title('Universe Machine')"
   ]
  },
  {
   "cell_type": "raw",
   "metadata": {},
   "source": [
    "plt.plot(hbc, cen_hod(hbc, *t, full_range=True)*(1+sat_hod(hbc, 1.038, 13.0, 14.56, full_range=True)), label = 'HOD')\n",
    "plt.plot(hbc, sham_cen_hod+sham_sat_hod, label = 'SHAM')\n",
    "plt.ylim([1e-2, 10])\n",
    "plt.legend(loc='best')\n",
    "plt.loglog('log')"
   ]
  },
  {
   "cell_type": "code",
   "execution_count": null,
   "metadata": {
    "collapsed": true
   },
   "outputs": [],
   "source": [
    "tf =['/home/users/swmclau2/scratch/Aemulators/wp_zheng07/PearceWpCosmo.hdf5',\n",
    "    '/home/users/swmclau2/scratch/Aemulators/ds_zheng07/PearceDsCosmo.hdf5']"
   ]
  },
  {
   "cell_type": "code",
   "execution_count": null,
   "metadata": {
    "collapsed": true
   },
   "outputs": [],
   "source": [
    "from pearce.emulator import LemonPepperWet\n",
    "emus = []\n",
    "for tmp in tf:\n",
    "    print tmp\n",
    "    emus.append(LemonPepperWet(tmp, fixed_params = {'z':0.0}, hyperparams = {}) )"
   ]
  },
  {
   "cell_type": "code",
   "execution_count": null,
   "metadata": {
    "collapsed": true
   },
   "outputs": [],
   "source": [
    "h = 0.6777\n",
    "cosmo_pnames = ['ombh2', 'omch2', 'w0', 'ns', 'H0', 'Neff', 'sigma8']\n",
    "cosmo_true_vals = np.array([0.048206*h**2, 0.307115*h**2-0.048206*h**2,\\\n",
    "                            -1, 0.9667, \\\n",
    "                                h*100, 3.046, 0.8228]) #mdpl2\n",
    "\n",
    "cat_val_dict = dict(zip(cosmo_pnames, cosmo_true_vals))"
   ]
  },
  {
   "cell_type": "code",
   "execution_count": null,
   "metadata": {
    "collapsed": true
   },
   "outputs": [],
   "source": [
    "hod_pnames = ['sigma_logM', 'logM0', 'logM1', 'alpha', 'conc_gal_bias']#,\\\n",
    "              #'mean_occupation_centrals_assembias_param1',\\\n",
    "              #'mean_occupation_satellites_assembias_param1',\n",
    "             #'mean_occupation_centrals_assembias_slope1',\\\n",
    "              #'mean_occupation_satellites_assembias_slope1']\n",
    "hod_true_vals = [t[0], 12.5, t2[2], t2[0], 1.0]#, 0.0, 0.0, 1.0, 1.0]\n",
    "#hod_true_vals = [0.2, 13.2, 14.5, 0.95, 1.0, 0.0, 0.0, 1.0, 1.0]"
   ]
  },
  {
   "cell_type": "code",
   "execution_count": null,
   "metadata": {
    "collapsed": true
   },
   "outputs": [],
   "source": [
    "hod_dict = dict(zip(hod_pnames, hod_true_vals))"
   ]
  },
  {
   "cell_type": "raw",
   "metadata": {},
   "source": [
    "chain.mean(axis = 0)"
   ]
  },
  {
   "cell_type": "raw",
   "metadata": {},
   "source": [
    "hod_true_vals"
   ]
  },
  {
   "cell_type": "code",
   "execution_count": null,
   "metadata": {
    "collapsed": true
   },
   "outputs": [],
   "source": [
    "true_param_dict = cat_val_dict\n",
    "true_param_dict.update(dict(zip(hod_pnames, hod_true_vals)))\n",
    "#true_param_dict.update(zip(chain_pnames, chain.mean(axis=0)))"
   ]
  },
  {
   "cell_type": "code",
   "execution_count": null,
   "metadata": {
    "collapsed": true
   },
   "outputs": [],
   "source": [
    "emu_wp = emus[0].emulate_wrt_r(true_param_dict).squeeze()"
   ]
  },
  {
   "cell_type": "code",
   "execution_count": null,
   "metadata": {
    "collapsed": true
   },
   "outputs": [],
   "source": [
    "plt.plot(rbc, (10**emu_wp), label = 'Emu')\n",
    "plt.plot(rbc, um_wp, label ='UM')\n",
    "\n",
    "plt.loglog();\n",
    "plt.legend(loc='best')"
   ]
  },
  {
   "cell_type": "code",
   "execution_count": null,
   "metadata": {
    "collapsed": true
   },
   "outputs": [],
   "source": [
    "plt.plot(rbc, (10**emu_wp)/um_wp, label = 'Emu')\n",
    "plt.plot(rbc, um_wp/um_wp, label ='UM')\n",
    "\n",
    "plt.xscale('log');\n",
    "plt.legend(loc='best')"
   ]
  },
  {
   "cell_type": "code",
   "execution_count": null,
   "metadata": {
    "collapsed": true
   },
   "outputs": [],
   "source": [
    "emu_ds = emus[1].emulate_wrt_r(true_param_dict).squeeze()"
   ]
  },
  {
   "cell_type": "code",
   "execution_count": null,
   "metadata": {
    "collapsed": true
   },
   "outputs": [],
   "source": [
    "plt.plot(rbc, (10**emu_ds), label = 'Emu')\n",
    "plt.plot(rbc, um_ds, label ='UM')\n",
    "plt.loglog();\n",
    "plt.legend(loc='best')"
   ]
  },
  {
   "cell_type": "code",
   "execution_count": null,
   "metadata": {
    "collapsed": true
   },
   "outputs": [],
   "source": [
    "plt.plot(rbc, (10**emu_ds)/um_ds, label = 'Emu')\n",
    "plt.plot(rbc, um_ds/um_ds, label ='UM')\n",
    "plt.xscale('log');\n",
    "plt.legend(loc='best')"
   ]
  },
  {
   "cell_type": "code",
   "execution_count": null,
   "metadata": {
    "collapsed": true
   },
   "outputs": [],
   "source": [
    "from pearce.mocks.kittens import TrainingBox # load a smaller sim I cna handle in this notebook\n",
    "# this may not have the same behavior at smaller masses though"
   ]
  },
  {
   "cell_type": "code",
   "execution_count": null,
   "metadata": {
    "collapsed": true
   },
   "outputs": [],
   "source": [
    "cat = TrainingBox(10, system='sherlock')"
   ]
  },
  {
   "cell_type": "code",
   "execution_count": null,
   "metadata": {
    "collapsed": true
   },
   "outputs": [],
   "source": [
    "cat.load(1.0, HOD='zheng07', system='sherlock')"
   ]
  },
  {
   "cell_type": "code",
   "execution_count": null,
   "metadata": {
    "collapsed": true
   },
   "outputs": [],
   "source": [
    "hod_dict['logMmin'] = t[1]\n",
    "cat.populate(hod_dict, min_ptcl=100)"
   ]
  },
  {
   "cell_type": "code",
   "execution_count": null,
   "metadata": {
    "collapsed": true
   },
   "outputs": [],
   "source": [
    "wp_hod= cat.calc_wp(r_bins)"
   ]
  },
  {
   "cell_type": "code",
   "execution_count": null,
   "metadata": {
    "collapsed": true
   },
   "outputs": [],
   "source": [
    "cat.calc_analytic_nd()"
   ]
  },
  {
   "cell_type": "code",
   "execution_count": null,
   "metadata": {
    "collapsed": true
   },
   "outputs": [],
   "source": [
    "#hod_host_masses = cat.model.mock.halo_table['halo_mvir']\n",
    "hod_host_masses = cat.model.mock.galaxy_table['halo_mvir']"
   ]
  },
  {
   "cell_type": "code",
   "execution_count": null,
   "metadata": {
    "collapsed": true
   },
   "outputs": [],
   "source": [
    "cat.load_model(1.0, HOD='tabulated', hod_kwargs = {'prim_haloprop_vals': hbc,\n",
    "                                              'cen_hod_vals': sham_cen_hod,\n",
    "                                              'sat_hod_vals': sham_sat_hod} )"
   ]
  },
  {
   "cell_type": "code",
   "execution_count": null,
   "metadata": {
    "collapsed": true
   },
   "outputs": [],
   "source": [
    "cat.populate(min_ptcl=100)"
   ]
  },
  {
   "cell_type": "code",
   "execution_count": null,
   "metadata": {
    "collapsed": true
   },
   "outputs": [],
   "source": [
    "wp_tab= cat.calc_wp(r_bins)"
   ]
  },
  {
   "cell_type": "code",
   "execution_count": null,
   "metadata": {
    "collapsed": true
   },
   "outputs": [],
   "source": [
    "cat.calc_analytic_nd()"
   ]
  },
  {
   "cell_type": "code",
   "execution_count": null,
   "metadata": {
    "collapsed": true
   },
   "outputs": [],
   "source": [
    "#tab_host_masses = cat.model.mock.halo_table['halo_mvir']\n",
    "tab_host_masses = cat.model.mock.galaxy_table['halo_mvir']"
   ]
  },
  {
   "cell_type": "code",
   "execution_count": null,
   "metadata": {
    "collapsed": true
   },
   "outputs": [],
   "source": [
    "plt.hist(hod_host_masses, bins = haloprop_bins);\n",
    "plt.hist(tab_host_masses, bins = haloprop_bins, alpha = 0.3);\n",
    "plt.hist(um_catalog['halo_mvir_host_halo'], bins = haloprop_bins, alpha = 0.5)\n",
    "#plt.xlim(3e12,3e15)\n",
    "#plt.loglog();\n",
    "plt.xscale('log')\n",
    "plt.yscale('log')"
   ]
  },
  {
   "cell_type": "code",
   "execution_count": null,
   "metadata": {
    "collapsed": true
   },
   "outputs": [],
   "source": [
    "np.log10(cat.pmass*100)"
   ]
  },
  {
   "cell_type": "code",
   "execution_count": null,
   "metadata": {
    "collapsed": true
   },
   "outputs": [],
   "source": [
    "np.sum(sham_catalog['halo_mvir_host_halo'] < min_halo_mass)*1.0/len(sham_catalog['halo_mvir_host_halo'])"
   ]
  },
  {
   "cell_type": "code",
   "execution_count": null,
   "metadata": {
    "collapsed": true
   },
   "outputs": [],
   "source": [
    "len(cat.model.mock.galaxy_table)"
   ]
  },
  {
   "cell_type": "code",
   "execution_count": null,
   "metadata": {
    "collapsed": true
   },
   "outputs": [],
   "source": [
    "sham_catalog.dtype.names"
   ]
  },
  {
   "cell_type": "code",
   "execution_count": null,
   "metadata": {
    "collapsed": true
   },
   "outputs": [],
   "source": [
    "np.log10(np.min(sham_catalog['halo_mvir_host_halo']))"
   ]
  },
  {
   "cell_type": "code",
   "execution_count": null,
   "metadata": {
    "collapsed": true
   },
   "outputs": [],
   "source": [
    "np.log10(np.min(cat.model.mock.galaxy_table['halo_mvir']))"
   ]
  },
  {
   "cell_type": "code",
   "execution_count": null,
   "metadata": {
    "collapsed": true
   },
   "outputs": [],
   "source": [
    "cat_val_dict = dict(zip(*cat._get_cosmo_param_names_vals()))\n",
    "true_param_dict = cat_val_dict\n",
    "del hod_dict['logMmin']\n",
    "true_param_dict.update(hod_dict)"
   ]
  },
  {
   "cell_type": "code",
   "execution_count": null,
   "metadata": {
    "collapsed": true
   },
   "outputs": [],
   "source": [
    "emu_wp = emus[0].emulate_wrt_r(true_param_dict).squeeze()"
   ]
  },
  {
   "cell_type": "code",
   "execution_count": null,
   "metadata": {
    "collapsed": true
   },
   "outputs": [],
   "source": [
    "plt.plot(rbc, wp_hod/sham_wp, label = 'HOD')\n",
    "plt.plot(rbc, wp_tab/sham_wp, label = 'Tab')\n",
    "plt.plot(rbc, (10**emu_wp)/sham_wp, label = 'Emu')\n",
    "\n",
    "plt.xscale('log');\n",
    "plt.legend(loc='best')"
   ]
  },
  {
   "cell_type": "raw",
   "metadata": {
    "collapsed": true
   },
   "source": [
    "def split_hod_plot(HOD, ab_params, sec_haloprop_key='halo_local_density_10', n_splits = 4, cmap_name = 'blue'):\n",
    "    cat.load_model(1.0, HOD=HOD, hod_kwargs= {'sec_haloprop_key': sec_haloprop_key})\n",
    "    cat.model.param_dict['logMmin'] = 13.0\n",
    "    cat.model.param_dict['logM0'] = 12.5\n",
    "    \n",
    "    cat.populate(ab_params, min_ptcl = 100)\n",
    "    print cat.model.param_dict\n",
    "    catalog = cat.model.mock.galaxy_table\n",
    "    sec_percentiles = compute_conditional_percentiles(prim_haloprop = cat.model.mock.halo_table['halo_mvir'],\\\n",
    "                                                  sec_haloprop = cat.model.mock.halo_table[sec_haloprop_key],\n",
    "                                              prim_haloprop_bin_boundaries= mass_bins)\n",
    "    \n",
    "    sec_gal_percentiles = get_haloprop_of_galaxies(catalog['halo_id'], cat.model.mock.halo_table['halo_id'],\n",
    "                                               sec_percentiles)\n",
    "    \n",
    "    # TODO bins here\n",
    "    hods = np.zeros((n_splits, len(mass_bin_centers)))\n",
    "    perc_ranges = np.linspace(0,1, n_splits+1)\n",
    "    \n",
    "    cmap = sns.color_palette(cmap_name, n_splits)\n",
    "    #cmap = sns.dark_palette(cmap_name, n_splits)\n",
    "\n",
    "    for i,c in enumerate(cmap):\n",
    "        sec_bin_gals = np.logical_and(perc_ranges[i] < sec_gal_percentiles, sec_gal_percentiles<perc_ranges[i+1])\n",
    "        sec_bin_halos = np.logical_and(perc_ranges[i] < sec_percentiles, sec_percentiles<perc_ranges[i+1])\n",
    "\n",
    "        sec_gal_hist, _ = np.histogram(catalog[sec_bin_gals]['halo_mvir'], bins = mass_bins)\n",
    "        sec_halo_hist, _= np.histogram(cat.model.mock.halo_table[sec_bin_halos]['halo_mvir'], bins = mass_bins)\n",
    "        \n",
    "        hods[i, :] = sec_gal_hist*1.0/sec_halo_hist\n",
    "        plt.plot(mass_bin_centers, hods[i], c = c, label = 'p < %0.2f'%perc_ranges[i+1])\n",
    "\n",
    "    \n",
    "    gal_hist, _ = np.histogram(catalog['halo_mvir'], bins = mass_bins)\n",
    "    halo_hist, _= np.histogram(cat.model.mock.halo_table['halo_mvir'], bins = mass_bins)\n",
    "    full_hod = gal_hist*1.0/halo_hist\n",
    "    \n",
    "    \n",
    "    plt.plot(mass_bin_centers, full_hod, label = 'Full HOD', color = 'k')\n",
    "    plt.legend(loc='best')\n",
    "    plt.loglog()\n",
    "    plt.xlim(1e12,5e14)\n",
    "    plt.ylim([0, 40])\n",
    "    plt.xlabel(r\"Host Halo Mass [$M_{\\odot}$]\")\n",
    "    plt.ylabel(r\"$\\langle N_t | M \\rangle$\")\n",
    "    plt.show()"
   ]
  },
  {
   "cell_type": "code",
   "execution_count": null,
   "metadata": {
    "collapsed": true
   },
   "outputs": [],
   "source": []
  }
 ],
 "metadata": {
  "kernelspec": {
   "display_name": "Python 2",
   "language": "python",
   "name": "python2"
  },
  "language_info": {
   "codemirror_mode": {
    "name": "ipython",
    "version": 2
   },
   "file_extension": ".py",
   "mimetype": "text/x-python",
   "name": "python",
   "nbconvert_exporter": "python",
   "pygments_lexer": "ipython2",
   "version": "2.7.13"
  }
 },
 "nbformat": 4,
 "nbformat_minor": 1
}

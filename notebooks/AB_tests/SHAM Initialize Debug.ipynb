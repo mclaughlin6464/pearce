{
 "cells": [
  {
   "cell_type": "markdown",
   "metadata": {},
   "source": [
    "ZhongXu has asked that I make him the HODs from the SHAMs I made him. This should be pretty straightforward so I'll do it quickly here.  \n",
    "\n",
    "# GIVING UP, moving to ds14b"
   ]
  },
  {
   "cell_type": "code",
   "execution_count": 60,
   "metadata": {
    "collapsed": true
   },
   "outputs": [],
   "source": [
    "import numpy as np\n",
    "import astropy\n",
    "from pearce.mocks import cat_dict\n",
    "from pearce.mocks.assembias_models.table_utils import compute_prim_haloprop_bins\n",
    "import h5py\n",
    "from os import path"
   ]
  },
  {
   "cell_type": "code",
   "execution_count": 61,
   "metadata": {
    "collapsed": true
   },
   "outputs": [],
   "source": [
    "from matplotlib import pyplot as plt\n",
    "%matplotlib inline\n",
    "import seaborn as sns\n",
    "sns.set()\n",
    "from itertools import cycle"
   ]
  },
  {
   "cell_type": "code",
   "execution_count": 62,
   "metadata": {
    "collapsed": true
   },
   "outputs": [],
   "source": [
    "config_fname = '/home/users/swmclau2/Git/pearce/bin/mcmc/nh_gg_sham_hsab_mcmc_config.yaml'"
   ]
  },
  {
   "cell_type": "code",
   "execution_count": 63,
   "metadata": {
    "collapsed": true
   },
   "outputs": [],
   "source": [
    "import yaml\n",
    "with open(config_fname, 'r') as ymlfile:\n",
    "    cfg = yaml.load(ymlfile)['data']"
   ]
  },
  {
   "cell_type": "code",
   "execution_count": 64,
   "metadata": {
    "collapsed": true
   },
   "outputs": [],
   "source": [
    "sim_cfg = cfg['sim']\n",
    "obs_cfg = cfg['obs']\n",
    "cov_cfg = cfg['cov']"
   ]
  },
  {
   "cell_type": "code",
   "execution_count": 65,
   "metadata": {},
   "outputs": [],
   "source": [
    "#sim_cfg['simname'] = 'ds_14_b_sub'\n",
    "#sim_cfg['halo_property'] = 'halo_vmax@mpeak'\n",
    "sim_cfg['gal_property_fname'] = '/scratch/users/swmclau2/smf_dr72bright34_m7_lowm.dat'"
   ]
  },
  {
   "cell_type": "code",
   "execution_count": 66,
   "metadata": {},
   "outputs": [],
   "source": [
    "cat = cat_dict[sim_cfg['simname']](**sim_cfg['sim_hps'])  # construct the specified catalog!\n",
    "\n",
    "# TODO logspace\n",
    "r_bins = obs_cfg['rbins']\n",
    "\n",
    "obs = obs_cfg['obs']\n",
    "\n",
    "if type(obs) is str:\n",
    "    obs = [obs]\n",
    "\n",
    "meas_cov_fname = cov_cfg['meas_cov_fname']\n",
    "emu_cov_fname = cov_cfg['emu_cov_fname']\n",
    "if type(emu_cov_fname) is str:\n",
    "    emu_cov_fname = [emu_cov_fname]\n",
    "\n",
    "assert len(obs) == len(emu_cov_fname), \"Emu cov not same length as obs!\"\n",
    "\n",
    "n_bins = len(r_bins)-1\n",
    "data = np.zeros((len(obs)*n_bins))\n",
    "assert path.isfile(meas_cov_fname), \"Invalid meas cov file specified\"\n",
    "try:\n",
    "    cov = np.loadtxt(meas_cov_fname)\n",
    "except ValueError:\n",
    "    cov = np.load(meas_cov_fname)\n",
    "\n",
    "assert cov.shape == (len(obs)*n_bins, len(obs)*n_bins), \"Invalid meas cov shape.\"\n"
   ]
  },
  {
   "cell_type": "code",
   "execution_count": 80,
   "metadata": {},
   "outputs": [
    {
     "data": {
      "text/plain": [
       "'/scratch/users/swmclau2/hlists/MDHR/hlist_1.00110.list'"
      ]
     },
     "execution_count": 80,
     "metadata": {},
     "output_type": "execute_result"
    }
   ],
   "source": [
    "cat.filenames[-1]"
   ]
  },
  {
   "cell_type": "code",
   "execution_count": 82,
   "metadata": {
    "collapsed": true
   },
   "outputs": [],
   "source": [
    "from halotools.sim_manager import RockstarHlistReader"
   ]
  },
  {
   "cell_type": "code",
   "execution_count": 86,
   "metadata": {},
   "outputs": [
    {
     "name": "stdout",
     "output_type": "stream",
     "text": [
      "\n",
      "\n",
      "The information about your ascii file and the metadata about the catalog \n",
      "have been processed and no exceptions were raised. \n",
      "Use the ``read_halocat`` method to read the ascii data, \n",
      "setting the write_to_disk and update_cache_log arguments as you like. \n",
      "See the docstring of the ``read_halocat`` method\n",
      "for details about these options. \n",
      "\n"
     ]
    }
   ],
   "source": [
    "reader = RockstarHlistReader(cat.filenames[-1], cat.columns_to_keep, cat.cache_filenames[-1],\\\n",
    "                             cat.simname, 'rockstar', 0.0,  cat.version_name, cat.Lbox, cat.pmass,\\\n",
    "                             overwrite=False, header_char = '#')"
   ]
  },
  {
   "cell_type": "code",
   "execution_count": 87,
   "metadata": {},
   "outputs": [
    {
     "name": "stdout",
     "output_type": "stream",
     "text": [
      "\n",
      "...Processing ASCII data of file: \n",
      "/scratch/users/swmclau2/hlists/MDHR/hlist_1.00110.list\n",
      " \n",
      "Total number of rows in detected data = 16438267\n",
      "Number of rows in detected header = 48 \n",
      "\n",
      "... working on chunk 0 of 18\n",
      "... working on chunk 1 of 18\n",
      "... working on chunk 2 of 18\n",
      "... working on chunk 3 of 18\n",
      "... working on chunk 4 of 18\n",
      "... working on chunk 5 of 18\n",
      "... working on chunk 6 of 18\n",
      "... working on chunk 7 of 18\n",
      "... working on chunk 8 of 18\n",
      "... working on chunk 9 of 18\n",
      "... working on chunk 10 of 18\n",
      "... working on chunk 11 of 18\n",
      "... working on chunk 12 of 18\n",
      "... working on chunk 13 of 18\n",
      "... working on chunk 14 of 18\n",
      "... working on chunk 15 of 18\n",
      "... working on chunk 16 of 18\n",
      "... working on chunk 17 of 18\n",
      "Total runtime to read in ASCII = 12.9 minutes\n",
      "\n",
      "\u0007\n"
     ]
    }
   ],
   "source": [
    "reader.read_halocat(cat.columns_to_convert)"
   ]
  },
  {
   "cell_type": "code",
   "execution_count": 89,
   "metadata": {},
   "outputs": [
    {
     "data": {
      "text/html": [
       "&lt;Table length=16438267&gt;\n",
       "<table id=\"table139813974252304\" class=\"table-striped table-bordered table-condensed\">\n",
       "<thead><tr><th>halo_upid</th><th>halo_vacc</th><th>halo_vmax</th><th>halo_rs_klypin</th><th>halo_snapnum</th><th>halo_macc</th><th>halo_halfmass_scale</th><th>halo_y</th><th>halo_id</th><th>halo_x</th><th>halo_vx</th><th>halo_vy</th><th>halo_vz</th><th>halo_m200b</th><th>halo_rs</th><th>halo_rvir</th><th>halo_vpeak</th><th>halo_z</th><th>halo_mvir</th><th>halo_nfw_conc</th><th>halo_hostid</th></tr></thead>\n",
       "<thead><tr><th>int64</th><th>float32</th><th>float32</th><th>float32</th><th>int64</th><th>float32</th><th>float32</th><th>float32</th><th>int64</th><th>float32</th><th>float32</th><th>float32</th><th>float32</th><th>float32</th><th>float32</th><th>float32</th><th>float32</th><th>float32</th><th>float32</th><th>float32</th><th>int64</th></tr></thead>\n",
       "<tr><td>-1</td><td>210300.0</td><td>1522.56</td><td>0.486617</td><td>42</td><td>159500.0</td><td>108100.0</td><td>478.527</td><td>733303403</td><td>20.6493</td><td>282.17</td><td>815.03</td><td>277.49</td><td>1.169e+15</td><td>0.512837</td><td>2.09695</td><td>137900.0</td><td>688.658</td><td>1.041e+15</td><td>4.08893</td><td>733303403</td></tr>\n",
       "<tr><td>-1</td><td>90930.0</td><td>1447.71</td><td>0.544008</td><td>42</td><td>182000.0</td><td>115600.0</td><td>328.863</td><td>733018090</td><td>119.928</td><td>-621.74</td><td>-772.24</td><td>333.82</td><td>1.0083e+15</td><td>0.593102</td><td>2.02309</td><td>112800.0</td><td>612.199</td><td>9.351e+14</td><td>3.41103</td><td>733018090</td></tr>\n",
       "<tr><td>-1</td><td>142800.0</td><td>1365.17</td><td>0.737135</td><td>42</td><td>345300.0</td><td>99720.0</td><td>290.435</td><td>733034970</td><td>34.4806</td><td>111.96</td><td>-487.09</td><td>-27.31</td><td>1.0533e+15</td><td>0.752988</td><td>1.95211</td><td>63760.0</td><td>660.022</td><td>8.401e+14</td><td>2.59249</td><td>733034970</td></tr>\n",
       "<tr><td>-1</td><td>46020.0</td><td>1464.01</td><td>0.218795</td><td>42</td><td>49260.0</td><td>41620.0</td><td>389.727</td><td>733303551</td><td>0.43736</td><td>-130.27</td><td>-368.0</td><td>268.37</td><td>7.7247e+14</td><td>0.228817</td><td>1.8146</td><td>47730.0</td><td>655.748</td><td>6.748e+14</td><td>7.93037</td><td>733303551</td></tr>\n",
       "<tr><td>-1</td><td>-2483.0</td><td>1360.74</td><td>0.279493</td><td>42</td><td>-23930.0</td><td>74800.0</td><td>485.214</td><td>735444141</td><td>171.419</td><td>-274.79</td><td>-200.48</td><td>478.96</td><td>7.2269e+14</td><td>0.309754</td><td>1.77302</td><td>87440.0</td><td>688.537</td><td>6.295e+14</td><td>5.72395</td><td>735444141</td></tr>\n",
       "<tr><td>-1</td><td>16020.0</td><td>1294.13</td><td>0.340585</td><td>42</td><td>15480.0</td><td>48080.0</td><td>330.248</td><td>733035151</td><td>94.7808</td><td>-275.94</td><td>-170.96</td><td>-325.04</td><td>6.926e+14</td><td>0.34683</td><td>1.74283</td><td>44370.0</td><td>641.935</td><td>5.979e+14</td><td>5.02503</td><td>733035151</td></tr>\n",
       "<tr><td>-1</td><td>42640.0</td><td>1275.64</td><td>0.374787</td><td>42</td><td>-9852.0</td><td>62450.0</td><td>290.607</td><td>733017946</td><td>62.4626</td><td>30.09</td><td>-1.4</td><td>168.15</td><td>6.5839e+14</td><td>0.368125</td><td>1.74112</td><td>85280.0</td><td>623.412</td><td>5.961e+14</td><td>4.72969</td><td>733017946</td></tr>\n",
       "<tr><td>-1</td><td>127900.0</td><td>1265.65</td><td>0.340223</td><td>42</td><td>18770.0</td><td>60780.0</td><td>253.683</td><td>733035230</td><td>44.2488</td><td>196.94</td><td>233.45</td><td>45.58</td><td>6.385e+14</td><td>0.388069</td><td>1.70957</td><td>81810.0</td><td>654.622</td><td>5.643e+14</td><td>4.40532</td><td>733035230</td></tr>\n",
       "<tr><td>-1</td><td>81700.0</td><td>1291.39</td><td>0.285035</td><td>42</td><td>24870.0</td><td>63390.0</td><td>468.582</td><td>735444356</td><td>184.141</td><td>-398.99</td><td>199.15</td><td>464.13</td><td>5.6973e+14</td><td>0.324384</td><td>1.69956</td><td>88690.0</td><td>685.308</td><td>5.544e+14</td><td>5.23935</td><td>735444356</td></tr>\n",
       "<tr><td>-1</td><td>39570.0</td><td>1237.16</td><td>0.377642</td><td>42</td><td>23930.0</td><td>39080.0</td><td>491.44</td><td>735427805</td><td>134.029</td><td>-114.02</td><td>27.2</td><td>198.02</td><td>6.2301e+14</td><td>0.361675</td><td>1.69578</td><td>45940.0</td><td>591.847</td><td>5.507e+14</td><td>4.6887</td><td>735427805</td></tr>\n",
       "<tr><td>...</td><td>...</td><td>...</td><td>...</td><td>...</td><td>...</td><td>...</td><td>...</td><td>...</td><td>...</td><td>...</td><td>...</td><td>...</td><td>...</td><td>...</td><td>...</td><td>...</td><td>...</td><td>...</td><td>...</td><td>...</td></tr>\n",
       "<tr><td>-1</td><td>0.0</td><td>38.58</td><td>0.0135823</td><td>42</td><td>0.0</td><td>0.0</td><td>747.327</td><td>749194485</td><td>911.659</td><td>315.3</td><td>-106.03</td><td>-214.78</td><td>3.4892e+10</td><td>0.013582</td><td>0.053656</td><td>0.0</td><td>900.539</td><td>1.745e+10</td><td>3.95052</td><td>749194485</td></tr>\n",
       "<tr><td>-1</td><td>-4.344</td><td>38.57</td><td>0.0136374</td><td>42</td><td>0.0</td><td>-1.448</td><td>747.223</td><td>749206399</td><td>946.275</td><td>43.86</td><td>-5.89</td><td>-96.68</td><td>6.1061e+10</td><td>0.013637</td><td>0.053656</td><td>-2.172</td><td>939.539</td><td>1.745e+10</td><td>3.93459</td><td>749206399</td></tr>\n",
       "<tr><td>-1</td><td>-8.687</td><td>41.48</td><td>0.00811292</td><td>42</td><td>-40.91</td><td>-2.896</td><td>748.624</td><td>749208090</td><td>950.429</td><td>-32.37</td><td>-78.68</td><td>-127.63</td><td>9.5953e+10</td><td>0.008113</td><td>0.053656</td><td>-4.344</td><td>933.415</td><td>1.745e+10</td><td>6.61358</td><td>749208090</td></tr>\n",
       "<tr><td>-1</td><td>0.0</td><td>50.82</td><td>0.003285</td><td>42</td><td>0.0</td><td>0.0</td><td>748.072</td><td>749208624</td><td>955.877</td><td>180.13</td><td>-249.8</td><td>-42.81</td><td>1.7446e+10</td><td>0.003285</td><td>0.053656</td><td>0.0</td><td>972.443</td><td>1.745e+10</td><td>16.3336</td><td>749208624</td></tr>\n",
       "<tr><td>-1</td><td>-4.344</td><td>37.38</td><td>0.0244003</td><td>42</td><td>0.0</td><td>-5.793</td><td>748.92</td><td>749209830</td><td>960.318</td><td>154.26</td><td>41.89</td><td>53.92</td><td>7.8507e+10</td><td>0.0244</td><td>0.053656</td><td>-8.69</td><td>992.719</td><td>1.745e+10</td><td>2.19902</td><td>749209830</td></tr>\n",
       "<tr><td>-1</td><td>-13.86</td><td>43.85</td><td>0.00607511</td><td>42</td><td>0.0</td><td>5.449</td><td>748.866</td><td>749210253</td><td>954.215</td><td>143.62</td><td>-125.27</td><td>32.89</td><td>1.3085e+11</td><td>0.006075</td><td>0.053656</td><td>-5.609</td><td>988.25</td><td>1.745e+10</td><td>8.83226</td><td>749210253</td></tr>\n",
       "<tr><td>-1</td><td>0.0</td><td>44.57</td><td>0.00562847</td><td>42</td><td>0.0</td><td>0.0</td><td>748.487</td><td>749210436</td><td>899.744</td><td>100.92</td><td>-227.97</td><td>-65.42</td><td>1.134e+11</td><td>0.005628</td><td>0.053656</td><td>0.0</td><td>954.712</td><td>1.745e+10</td><td>9.53376</td><td>749210436</td></tr>\n",
       "<tr><td>-1</td><td>0.0</td><td>39.63</td><td>0.0108573</td><td>42</td><td>0.0</td><td>0.0</td><td>747.821</td><td>749210819</td><td>955.974</td><td>179.3</td><td>-226.36</td><td>-80.17</td><td>9.5953e+10</td><td>0.010857</td><td>0.053656</td><td>0.0</td><td>973.902</td><td>1.745e+10</td><td>4.94206</td><td>749210819</td></tr>\n",
       "<tr><td>-1</td><td>-4.344</td><td>39.63</td><td>0.0108528</td><td>42</td><td>-40.91</td><td>-1.448</td><td>747.647</td><td>749210821</td><td>957.034</td><td>90.79</td><td>-202.35</td><td>-63.88</td><td>9.5953e+10</td><td>0.010853</td><td>0.053656</td><td>-2.172</td><td>968.675</td><td>1.745e+10</td><td>4.94389</td><td>749210821</td></tr>\n",
       "<tr><td>-1</td><td>0.0</td><td>38.06</td><td>0.0158003</td><td>42</td><td>0.0</td><td>0.0</td><td>746.808</td><td>749211177</td><td>981.854</td><td>182.63</td><td>-45.34</td><td>-44.3</td><td>3.4892e+10</td><td>0.0158</td><td>0.053656</td><td>0.0</td><td>928.531</td><td>1.745e+10</td><td>3.39595</td><td>749211177</td></tr>\n",
       "</table>"
      ],
      "text/plain": [
       "<Table length=16438267>\n",
       "halo_upid halo_vacc halo_vmax ... halo_mvir halo_nfw_conc halo_hostid\n",
       "  int64    float32   float32  ...  float32     float32       int64   \n",
       "--------- --------- --------- ... --------- ------------- -----------\n",
       "       -1  210300.0   1522.56 ... 1.041e+15       4.08893   733303403\n",
       "       -1   90930.0   1447.71 ... 9.351e+14       3.41103   733018090\n",
       "       -1  142800.0   1365.17 ... 8.401e+14       2.59249   733034970\n",
       "       -1   46020.0   1464.01 ... 6.748e+14       7.93037   733303551\n",
       "       -1   -2483.0   1360.74 ... 6.295e+14       5.72395   735444141\n",
       "       -1   16020.0   1294.13 ... 5.979e+14       5.02503   733035151\n",
       "       -1   42640.0   1275.64 ... 5.961e+14       4.72969   733017946\n",
       "       -1  127900.0   1265.65 ... 5.643e+14       4.40532   733035230\n",
       "       -1   81700.0   1291.39 ... 5.544e+14       5.23935   735444356\n",
       "       -1   39570.0   1237.16 ... 5.507e+14        4.6887   735427805\n",
       "      ...       ...       ... ...       ...           ...         ...\n",
       "       -1       0.0     38.58 ... 1.745e+10       3.95052   749194485\n",
       "       -1    -4.344     38.57 ... 1.745e+10       3.93459   749206399\n",
       "       -1    -8.687     41.48 ... 1.745e+10       6.61358   749208090\n",
       "       -1       0.0     50.82 ... 1.745e+10       16.3336   749208624\n",
       "       -1    -4.344     37.38 ... 1.745e+10       2.19902   749209830\n",
       "       -1    -13.86     43.85 ... 1.745e+10       8.83226   749210253\n",
       "       -1       0.0     44.57 ... 1.745e+10       9.53376   749210436\n",
       "       -1       0.0     39.63 ... 1.745e+10       4.94206   749210819\n",
       "       -1    -4.344     39.63 ... 1.745e+10       4.94389   749210821\n",
       "       -1       0.0     38.06 ... 1.745e+10       3.39595   749211177"
      ]
     },
     "execution_count": 89,
     "metadata": {},
     "output_type": "execute_result"
    }
   ],
   "source": [
    "reader.halo_table"
   ]
  },
  {
   "cell_type": "code",
   "execution_count": 67,
   "metadata": {
    "collapsed": true
   },
   "outputs": [],
   "source": [
    "#cat.load(sim_cfg['scale_factor'], **sim_cfg['sim_hps'])\n",
    "#cat.populate()# will generate a mock for us to overwrite\n",
    "gal_property = np.loadtxt(sim_cfg['gal_property_fname'])\n",
    "halo_property_name = sim_cfg['halo_property']\n",
    "min_ptcl = sim_cfg.get('min_ptcl', 200)\n",
    "nd = float(sim_cfg['nd'])\n",
    "scatter = float(sim_cfg['scatter'])"
   ]
  },
  {
   "cell_type": "code",
   "execution_count": 91,
   "metadata": {},
   "outputs": [
    {
     "data": {
      "text/plain": [
       "0.7020000000000001"
      ]
     },
     "execution_count": 91,
     "metadata": {},
     "output_type": "execute_result"
    }
   ],
   "source": [
    "cat.h"
   ]
  },
  {
   "cell_type": "code",
   "execution_count": 90,
   "metadata": {
    "collapsed": true
   },
   "outputs": [],
   "source": [
    "from AbundanceMatching import *\n",
    "af =  AbundanceFunction(gal_property[:,0], gal_property[:,1], sim_cfg['af_hyps'], faint_end_first = sim_cfg['reverse'])\n",
    "remainder = af.deconvolute(scatter, 20)\n",
    "# apply min mass\n",
    "halo_table = reader.halo_table#cat.halocat.halo_table#[cat.halocat.halo_table['halo_mvir']>min_ptcl*cat.pmass] \n",
    "nd_halos = calc_number_densities(halo_table[halo_property_name], cat.Lbox) #don't think this matters which one i choose here\n",
    "catalog_w_nan = af.match(nd_halos, scatter)\n",
    "n_obj_needed = int(nd*(cat.Lbox**3))\n",
    "catalog = halo_table[~np.isnan(catalog_w_nan)]\n",
    "sort_idxs = np.argsort(catalog)"
   ]
  },
  {
   "cell_type": "code",
   "execution_count": 69,
   "metadata": {},
   "outputs": [
    {
     "data": {
      "text/plain": [
       "False"
      ]
     },
     "execution_count": 69,
     "metadata": {},
     "output_type": "execute_result"
    }
   ],
   "source": [
    "np.all(cat.halocat.halo_table['halo_upid']==-1)"
   ]
  },
  {
   "cell_type": "code",
   "execution_count": 92,
   "metadata": {},
   "outputs": [
    {
     "data": {
      "text/plain": [
       "14565913"
      ]
     },
     "execution_count": 92,
     "metadata": {},
     "output_type": "execute_result"
    }
   ],
   "source": [
    "np.sum(halo_table['halo_upid'] == -1)"
   ]
  },
  {
   "cell_type": "code",
   "execution_count": 93,
   "metadata": {
    "collapsed": true
   },
   "outputs": [],
   "source": [
    "final_catalog = halo_table[~np.isnan(catalog_w_nan)][sort_idxs[:n_obj_needed]]\n",
    "\n",
    "#final_catalog['x'] = final_catalog['halo_x']\n",
    "#final_catalog['y'] = final_catalog['halo_y']\n",
    "#final_catalog['z'] = final_catalog['halo_z']\n",
    "#final_catalog['halo_upid'] = -1\n",
    "# FYI cursed.\n",
    "#cat.model.mock.galaxy_table = final_catalog\n",
    "# TODO save sham hod \"truth\""
   ]
  },
  {
   "cell_type": "raw",
   "metadata": {},
   "source": [
    "for idx, (o, ecf) in enumerate(zip(obs, emu_cov_fname)):\n",
    "\n",
    "    calc_observable = getattr(cat, 'calc_%s' % o)\n",
    "\n",
    "    y = calc_observable(r_bins)\n",
    "    data[idx*n_bins:(idx+1)*n_bins] = y"
   ]
  },
  {
   "cell_type": "code",
   "execution_count": 94,
   "metadata": {},
   "outputs": [
    {
     "data": {
      "text/plain": [
       "['halo_upid',\n",
       " 'halo_vacc',\n",
       " 'halo_vmax',\n",
       " 'halo_rs_klypin',\n",
       " 'halo_snapnum',\n",
       " 'halo_macc',\n",
       " 'halo_halfmass_scale',\n",
       " 'halo_y',\n",
       " 'halo_id',\n",
       " 'halo_x',\n",
       " 'halo_vx',\n",
       " 'halo_vy',\n",
       " 'halo_vz',\n",
       " 'halo_m200b',\n",
       " 'halo_rs',\n",
       " 'halo_rvir',\n",
       " 'halo_vpeak',\n",
       " 'halo_z',\n",
       " 'halo_mvir',\n",
       " 'halo_nfw_conc',\n",
       " 'halo_hostid']"
      ]
     },
     "execution_count": 94,
     "metadata": {},
     "output_type": "execute_result"
    }
   ],
   "source": [
    "final_catalog.colnames"
   ]
  },
  {
   "cell_type": "code",
   "execution_count": 95,
   "metadata": {
    "collapsed": true
   },
   "outputs": [],
   "source": [
    "from halotools.mock_observables import *"
   ]
  },
  {
   "cell_type": "code",
   "execution_count": 96,
   "metadata": {},
   "outputs": [],
   "source": [
    "x, y, z = [final_catalog[c] for c in ['halo_x', 'halo_y', 'halo_z']]\n",
    "pos = return_xyz_formatted_array(x, y, z, period=cat.Lbox)"
   ]
  },
  {
   "cell_type": "code",
   "execution_count": 97,
   "metadata": {},
   "outputs": [],
   "source": [
    "xi_all = tpcf(pos / cat.h, r_bins, period=cat.Lbox / cat.h, num_threads=4,\n",
    "                              estimator='Landy-Szalay')"
   ]
  },
  {
   "cell_type": "code",
   "execution_count": 98,
   "metadata": {},
   "outputs": [
    {
     "data": {
      "text/plain": [
       "array([ -1.00000000e+00,  -1.00000000e+00,   2.34036457e+01,\n",
       "         1.52151441e+02,   2.97679025e+02,   2.91343348e+02,\n",
       "         1.93159382e+02,   1.09047017e+02,   5.26977826e+01,\n",
       "         2.62023209e+01,   1.34719705e+01,   7.02559721e+00,\n",
       "         3.58227506e+00,   1.87404796e+00,   1.03531472e+00,\n",
       "         5.79425318e-01,   3.12589004e-01,   1.57569414e-01])"
      ]
     },
     "execution_count": 98,
     "metadata": {},
     "output_type": "execute_result"
    }
   ],
   "source": [
    "xi_all"
   ]
  },
  {
   "cell_type": "code",
   "execution_count": 100,
   "metadata": {},
   "outputs": [
    {
     "data": {
      "image/png": "[encoded data removed]",
      "text/plain": [
       "<matplotlib.figure.Figure at 0x7f282aba0e90>"
      ]
     },
     "metadata": {},
     "output_type": "display_data"
    }
   ],
   "source": [
    "plt.plot(xi_all)\n",
    "plt.yscale('log')"
   ]
  },
  {
   "cell_type": "code",
   "execution_count": 102,
   "metadata": {},
   "outputs": [],
   "source": [
    "import h5py\n",
    "f = h5py.File('/home/users/swmclau2/scratch/PearceMCMC/pearce_mcmc_nh_gg_sham_hsab.hdf5', 'r')"
   ]
  },
  {
   "cell_type": "code",
   "execution_count": 103,
   "metadata": {
    "collapsed": true
   },
   "outputs": [],
   "source": [
    "cov = f['cov'].value"
   ]
  },
  {
   "cell_type": "code",
   "execution_count": 105,
   "metadata": {},
   "outputs": [],
   "source": [
    "np.savetxt('/home/users/swmclau2/Git/pearce/bin/shams/xigg_cov_mcmc.npy', cov)"
   ]
  },
  {
   "cell_type": "code",
   "execution_count": null,
   "metadata": {
    "collapsed": true
   },
   "outputs": [],
   "source": []
  }
 ],
 "metadata": {
  "kernelspec": {
   "display_name": "Python 2",
   "language": "python",
   "name": "python2"
  }
 },
 "nbformat": 4,
 "nbformat_minor": 1
}

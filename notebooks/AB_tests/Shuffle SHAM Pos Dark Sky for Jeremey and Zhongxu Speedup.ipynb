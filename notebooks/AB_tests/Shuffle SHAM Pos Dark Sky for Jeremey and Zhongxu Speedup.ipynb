{
 "cells": [
  {
   "cell_type": "markdown",
   "metadata": {},
   "source": [
    "Change the positions of the galaxies in a SHAM to be shuffled then NFW-distributed, instead of on the subhalos. \n",
    "\n",
    "Shuffling procedure is as followed, from Jeremey\n",
    "\n",
    "procedure:\n",
    "\n",
    "take a bin in halo mass (small bins, like 0.1dex wide). (this is all halos, regardless of whether they have a galaxy in them or not). take all the centrals and put them in a list. take all the satellites and put them in a separate list.\n",
    "\n",
    "randomly assign the centrals to all the halos in the bin.\n",
    "\n",
    "randomly assign each satellite to a halo in the bin (repeat until all satellites are gone. this should preserve poisson distribution of satellite occupation). when assigning a satellite to a halo, preserve the position of the satellite and velocity of the satellite relative to the original host halo. ie, your list of satllites has dx, dy, dz, and dvx, dvy, dvz, then you add x, y, z, and vx, vy, vz of the new halo to those quantities."
   ]
  },
  {
   "cell_type": "code",
   "execution_count": 1,
   "metadata": {},
   "outputs": [],
   "source": [
    "import numpy as np\n",
    "import astropy\n",
    "from itertools import izip\n",
    "from halotools.utils.table_utils import compute_conditional_percentiles\n",
    "from halotools.utils import *"
   ]
  },
  {
   "cell_type": "code",
   "execution_count": 2,
   "metadata": {
    "collapsed": true
   },
   "outputs": [],
   "source": [
    "from halotools.mock_observables import tpcf"
   ]
  },
  {
   "cell_type": "code",
   "execution_count": 3,
   "metadata": {
    "collapsed": true
   },
   "outputs": [],
   "source": [
    "from matplotlib import pyplot as plt\n",
    "%matplotlib inline\n",
    "import seaborn as sns\n",
    "sns.set()"
   ]
  },
  {
   "cell_type": "code",
   "execution_count": 4,
   "metadata": {},
   "outputs": [
    {
     "name": "stderr",
     "output_type": "stream",
     "text": [
      "WARNING: path= was not specified but multiple tables are present, reading in first available table (path=halo_mpeak_catalog) [astropy.io.misc.hdf5]\n"
     ]
    }
   ],
   "source": [
    "Lbox = 1000.0\n",
    "#catalog = np.loadtxt('ab_sham_hod_data_cut.npy')\n",
    "\n",
    "ab_property = 'halo_mpeak'\n",
    "catalog = astropy.table.Table.read('/scratch/users/swmclau2/catalog_ab_%s_large.hdf5'%ab_property, format = 'hdf5')"
   ]
  },
  {
   "cell_type": "code",
   "execution_count": 5,
   "metadata": {},
   "outputs": [
    {
     "data": {
      "text/plain": [
       "['halo_upid',\n",
       " 'halo_y',\n",
       " 'halo_x',\n",
       " 'halo_z',\n",
       " 'halo_vmax@mpeak',\n",
       " 'halo_rvir',\n",
       " 'halo_mpeak',\n",
       " 'halo_id',\n",
       " 'halo_vx',\n",
       " 'halo_vy',\n",
       " 'halo_vz',\n",
       " 'halo_rs',\n",
       " 'halo_mvir',\n",
       " 'halo_nfw_conc',\n",
       " 'halo_hostid',\n",
       " 'halo_mvir_host_halo',\n",
       " 'gal_smass']"
      ]
     },
     "execution_count": 5,
     "metadata": {},
     "output_type": "execute_result"
    }
   ],
   "source": [
    "catalog.colnames"
   ]
  },
  {
   "cell_type": "code",
   "execution_count": 6,
   "metadata": {
    "collapsed": true
   },
   "outputs": [],
   "source": [
    "PMASS = 7.62293e+07\n",
    "nd = 4.2e-4 #nd of final cat \n",
    "n_obj_needed = int(nd*(Lbox**3))"
   ]
  },
  {
   "cell_type": "code",
   "execution_count": null,
   "metadata": {},
   "outputs": [],
   "source": [
    "add_halo_hostid(catalog, delete_possibly_existing_column=True)"
   ]
  },
  {
   "cell_type": "code",
   "execution_count": null,
   "metadata": {},
   "outputs": [],
   "source": [
    "for prop in ['halo_x', 'halo_y', 'halo_z','halo_vx', 'halo_vy', 'halo_vz', 'halo_nfw_conc', 'halo_rvir']:\n",
    "    broadcast_host_halo_property(catalog, prop, delete_possibly_existing_column=True)"
   ]
  },
  {
   "cell_type": "code",
   "execution_count": null,
   "metadata": {},
   "outputs": [],
   "source": [
    "len(catalog)"
   ]
  },
  {
   "cell_type": "code",
   "execution_count": null,
   "metadata": {},
   "outputs": [],
   "source": [
    "catalog.colnames"
   ]
  },
  {
   "cell_type": "code",
   "execution_count": null,
   "metadata": {
    "collapsed": true
   },
   "outputs": [],
   "source": [
    "# lifted from halotools\n",
    "def compute_prim_haloprop_bins(dlog10_prim_haloprop=0.05, **kwargs):\n",
    "    r\"\"\"\n",
    "    Parameters\n",
    "    ----------\n",
    "    prim_haloprop : array\n",
    "        Array storing the value of the primary halo property column of the ``table``\n",
    "        passed to ``compute_conditional_percentiles``.\n",
    "    prim_haloprop_bin_boundaries : array, optional\n",
    "        Array defining the boundaries by which we will bin the input ``table``.\n",
    "        Default is None, in which case the binning will be automatically determined using\n",
    "        the ``dlog10_prim_haloprop`` keyword.\n",
    "    dlog10_prim_haloprop : float, optional\n",
    "        Logarithmic spacing of bins of the mass-like variable within which\n",
    "        we will assign secondary property percentiles. Default is 0.2.\n",
    "    Returns\n",
    "    --------\n",
    "    output : array\n",
    "        Numpy array of integers storing the bin index of the prim_haloprop bin\n",
    "        to which each halo in the input table was assigned.\n",
    "    \"\"\"\n",
    "    try:\n",
    "        prim_haloprop = kwargs['prim_haloprop']\n",
    "    except KeyError:\n",
    "        msg = (\"The ``compute_prim_haloprop_bins`` method \"\n",
    "            \"requires the ``prim_haloprop`` keyword argument\")\n",
    "        raise HalotoolsError(msg)\n",
    "\n",
    "    try:\n",
    "        prim_haloprop_bin_boundaries = kwargs['prim_haloprop_bin_boundaries']\n",
    "    except KeyError:\n",
    "        lg10_min_prim_haloprop = np.log10(np.min(prim_haloprop))-0.001\n",
    "        lg10_max_prim_haloprop = np.log10(np.max(prim_haloprop))+0.001\n",
    "        num_prim_haloprop_bins = (lg10_max_prim_haloprop-lg10_min_prim_haloprop)/dlog10_prim_haloprop\n",
    "        prim_haloprop_bin_boundaries = np.logspace(\n",
    "            lg10_min_prim_haloprop, lg10_max_prim_haloprop,\n",
    "            num=int(ceil(num_prim_haloprop_bins)))\n",
    "\n",
    "    # digitize the masses so that we can access them bin-wise\n",
    "    output = np.digitize(prim_haloprop, prim_haloprop_bin_boundaries)\n",
    "\n",
    "    # Use the largest bin for any points larger than the largest bin boundary,\n",
    "    # and raise a warning if such points are found\n",
    "    Nbins = len(prim_haloprop_bin_boundaries)\n",
    "    if Nbins in output:\n",
    "        msg = (\"\\n\\nThe ``compute_prim_haloprop_bins`` function detected points in the \\n\"\n",
    "            \"input array of primary halo property that were larger than the largest value\\n\"\n",
    "            \"of the input ``prim_haloprop_bin_boundaries``. All such points will be assigned\\n\"\n",
    "            \"to the largest bin.\\nBe sure that this is the behavior you expect for your application.\\n\\n\")\n",
    "        warn(msg)\n",
    "        output = np.where(output == Nbins, Nbins-1, output)\n",
    "\n",
    "    return output"
   ]
  },
  {
   "cell_type": "code",
   "execution_count": null,
   "metadata": {},
   "outputs": [],
   "source": [
    "from math import ceil\n",
    "min_log_mass = np.log10(np.min(catalog['halo_mvir']))-0.001\n",
    "max_log_mass = np.log10(np.max(catalog['halo_mvir']))+0.001\n",
    "print min_log_mass, max_log_mass\n",
    "dlog10_prim_haloprop = 0.1\n",
    "num_prim_haloprop_bins = (max_log_mass - min_log_mass) / dlog10_prim_haloprop\n",
    "prim_haloprop_bin_boundaries = np.logspace(min_log_mass, max_log_mass,\n",
    "    num=int(ceil(num_prim_haloprop_bins)))\n",
    "\n",
    "prim_haloprop_bins = compute_prim_haloprop_bins(prim_haloprop = catalog['halo_mvir_host_halo'],\\\n",
    "                                                dlog10_prim_haloprop=dlog10_prim_haloprop,\n",
    "                                                prim_haloprop_bin_boundaries = prim_haloprop_bin_boundaries)"
   ]
  },
  {
   "cell_type": "code",
   "execution_count": null,
   "metadata": {},
   "outputs": [],
   "source": [
    "shuffled_pos = np.zeros((len(catalog), 3))\n",
    "shuffled_vel = np.zeros((len(catalog), 3))\n",
    "shuffled_upids = np.zeros((len(catalog)))\n",
    "shuffled_host_mvir = np.zeros((len(catalog)))"
   ]
  },
  {
   "cell_type": "code",
   "execution_count": null,
   "metadata": {},
   "outputs": [],
   "source": [
    "shuffled_mags = np.zeros((len(catalog), 1))\n",
    "#shuffled_mags[:, 0] = catalog['halo_vpeak_mag']\n",
    "#shuffled_mags[:, 1] = catalog['halo_vvir_mag']\n",
    "#shuffled_mags[:, 2] = catalog['halo_alpha_05_mag']"
   ]
  },
  {
   "cell_type": "code",
   "execution_count": null,
   "metadata": {
    "scrolled": true
   },
   "outputs": [],
   "source": [
    "bins_in_halocat = set(prim_haloprop_bins)\n",
    "\n",
    "for ibin in bins_in_halocat:\n",
    "    print ibin\n",
    "    #if ibin > 25:\n",
    "    #    continue\n",
    "    indices_of_prim_haloprop_bin = np.where(prim_haloprop_bins == ibin)[0]\n",
    "    \n",
    "    centrals_idx = np.where(catalog[indices_of_prim_haloprop_bin]['halo_upid'] == -1)[0]\n",
    "    n_centrals = len(centrals_idx)\n",
    "    satellites_idx = np.where(catalog[indices_of_prim_haloprop_bin]['halo_upid']!=-1)[0]\n",
    "    n_satellites = len(satellites_idx)\n",
    "    \n",
    "    if centrals_idx.shape[0]!=0:\n",
    "        rand_central_idxs = np.random.choice(indices_of_prim_haloprop_bin[centrals_idx], size = n_centrals, replace = False)\n",
    "    else:\n",
    "        rand_central_idxs = np.array([])\n",
    "        \n",
    "    shuffled_mags[indices_of_prim_haloprop_bin[centrals_idx],0]= \\\n",
    "            catalog[rand_central_idxs]['gal_smass']\n",
    "\n",
    "    shuffled_mags[indices_of_prim_haloprop_bin[satellites_idx],0] = \\\n",
    "            catalog[indices_of_prim_haloprop_bin[satellites_idx]]['gal_smass']\n",
    "    #Create second rand_central_idxs, Iterate through satellite hosts and assign them when they match. \n",
    "                \n",
    "    for idx, coord in enumerate(['x','y','z']):\n",
    "        # don't need to shuffle positions cu we've shuffled mags for centrals\n",
    "        shuffled_pos[indices_of_prim_haloprop_bin[centrals_idx], idx] = \\\n",
    "                catalog[indices_of_prim_haloprop_bin[centrals_idx]]['halo_'+coord]\n",
    "            \n",
    "        shuffled_vel[indices_of_prim_haloprop_bin[centrals_idx], idx] = \\\n",
    "                catalog[indices_of_prim_haloprop_bin[centrals_idx]]['halo_v'+coord]\n",
    "            \n",
    "    shuffled_upids[indices_of_prim_haloprop_bin[centrals_idx]] = -1\n",
    "    \n",
    "    shuffled_host_mvir[indices_of_prim_haloprop_bin[centrals_idx]] = \\\n",
    "            catalog[indices_of_prim_haloprop_bin[centrals_idx]]['halo_mvir']\n",
    "        \n",
    "    unique_hosts_id, first_sat_idxs, inverse_idxs = np.unique(catalog[indices_of_prim_haloprop_bin[satellites_idx]]['halo_upid'],\\\n",
    "                                                       return_index=True, return_inverse=True)\n",
    "\n",
    "    shuffled_idxs = np.random.permutation(unique_hosts_id.shape[0])\n",
    "    shuffled_hosts_id = unique_hosts_id[shuffled_idxs]\n",
    "    shuffled_sat_idxs = first_sat_idxs[shuffled_idxs]\n",
    "    shuffled_arrays_idx = 0\n",
    "    host_map = dict() #maps the current host id to the index of a new host id. \n",
    "    #the host_id -> idx map is easier than the host_id -> host_id map\n",
    "    \n",
    "    new_host_ids = shuffled_hosts_id[inverse_idxs]\n",
    "    hosts_old_satellite_idxs = shuffled_sat_idxs[inverse_idxs]\n",
    "            \n",
    "    shuffled_upids[indices_of_prim_haloprop_bin[satellites_idx]] = new_host_ids\n",
    "\n",
    "    shuffled_host_mvir[indices_of_prim_haloprop_bin[satellites_idx]] = \\\n",
    "            catalog[indices_of_prim_haloprop_bin[satellites_idx]][hosts_old_satellite_idxs]['halo_mvir_host_halo']\n",
    "\n",
    "    for idx, coord in enumerate(['x','y','z']):\n",
    "\n",
    "        shuffled_pos[indices_of_prim_haloprop_bin[satellites_idx], idx] = \\\n",
    "                (catalog[indices_of_prim_haloprop_bin[satellites_idx]]['halo_'+coord] -\\\n",
    "                catalog[indices_of_prim_haloprop_bin[satellites_idx]]['halo_'+coord+'_host_halo']+\\\n",
    "                catalog[indices_of_prim_haloprop_bin[satellites_idx]][hosts_old_satellite_idxs]['halo_'+coord+'_host_halo'])%Lbox\n",
    "       \n",
    "        #print catalog[indices_of_prim_haloprop_bin[sat_idx]]['halo_'+coord]\n",
    "        #print catalog[indices_of_prim_haloprop_bin[sat_idx]]['halo_'+coord+'_host_halo']\n",
    "        #print catalog[indices_of_prim_haloprop_bin[satellites_idx]][hosts_old_satellite_idx]['halo_'+coord+'_host_halo']\n",
    "        #print '*'*50       \n",
    "        shuffled_vel[indices_of_prim_haloprop_bin[satellites_idx], idx] = \\\n",
    "                (catalog[indices_of_prim_haloprop_bin[satellites_idx]]['halo_v'+coord] -\\\n",
    "                catalog[indices_of_prim_haloprop_bin[satellites_idx]]['halo_v'+coord+'_host_halo']+\\\n",
    "                catalog[indices_of_prim_haloprop_bin[satellites_idx]][hosts_old_satellite_idxs]['halo_v'+coord+'_host_halo'])\n"
   ]
  },
  {
   "cell_type": "raw",
   "metadata": {},
   "source": [
    "plt.plot(rbc, sham_xi/shuffled_xi)\n",
    "plt.xscale('log')"
   ]
  },
  {
   "cell_type": "code",
   "execution_count": null,
   "metadata": {
    "collapsed": true
   },
   "outputs": [],
   "source": [
    "catalog['gal_smass'] = shuffled_mags[:,0]\n",
    "catalog['halo_x'] = shuffled_pos[:,0]\n",
    "catalog['halo_y'] = shuffled_pos[:,1]\n",
    "catalog['halo_z'] = shuffled_pos[:,2]\n",
    "catalog['halo_vx'] = shuffled_vel[:,0]\n",
    "catalog['halo_vy'] = shuffled_vel[:,1]\n",
    "catalog['halo_vz'] = shuffled_vel[:,2]\n",
    "catalog['halo_upid']=shuffled_upids[:]\n",
    "catalog['halo_mvir_host_halo'] = shuffled_host_mvir[:]"
   ]
  },
  {
   "cell_type": "code",
   "execution_count": null,
   "metadata": {
    "collapsed": true
   },
   "outputs": [],
   "source": [
    "del catalog['halo_vmax@mpeak']\n",
    "del catalog['halo_rvir']\n",
    "del catalog['halo_mpeak']\n",
    "del catalog['halo_id']\n",
    "del catalog['halo_rs']\n",
    "del catalog['halo_nfw_conc']\n",
    "del catalog['halo_hostid']\n",
    "del catalog['halo_mvir_host_halo']\n",
    "del catalog['halo_x_host_halo']\n",
    "del catalog['halo_y_host_halo']\n",
    "del catalog['halo_z_host_halo']\n",
    "del catalog['halo_vx_host_halo']\n",
    "del catalog['halo_vy_host_halo']\n",
    "del catalog['halo_vz_host_halo']\n",
    "del catalog['halo_rvir_host_halo']\n",
    "del catalog['halo_nfw_conc_host_halo']"
   ]
  },
  {
   "cell_type": "code",
   "execution_count": null,
   "metadata": {},
   "outputs": [],
   "source": [
    "nd = 4.2e-4 #nd of final cat \n",
    "n_obj_needed = int(nd*(1000.0**3))\n",
    "sort_idxs = np.argsort(catalog[~np.isnan(catalog['gal_smass'])]['gal_smass'])\n",
    "catalog = catalog[~np.isnan(catalog['gal_smass'])][sort_idxs[-1*n_obj_needed:]]"
   ]
  },
  {
   "cell_type": "code",
   "execution_count": null,
   "metadata": {},
   "outputs": [],
   "source": [
    "catalog.colnames"
   ]
  },
  {
   "cell_type": "code",
   "execution_count": null,
   "metadata": {},
   "outputs": [],
   "source": [
    "shuffled_pos.shape"
   ]
  },
  {
   "cell_type": "code",
   "execution_count": null,
   "metadata": {},
   "outputs": [],
   "source": [
    "len(catalog)"
   ]
  },
  {
   "cell_type": "code",
   "execution_count": null,
   "metadata": {},
   "outputs": [],
   "source": [
    "plt.hist(catalog[catalog['halo_upid']==-1]['halo_x'], bins = 100);"
   ]
  },
  {
   "cell_type": "code",
   "execution_count": null,
   "metadata": {},
   "outputs": [],
   "source": [
    "plt.plot(sorted(catalog['halo_x'][catalog['halo_upid']!=-1]))\n",
    "#plt.yscale('log')\n",
    "plt.ylim([-1, 1001])"
   ]
  },
  {
   "cell_type": "code",
   "execution_count": null,
   "metadata": {},
   "outputs": [],
   "source": [
    "from collections import Counter\n",
    "c = Counter(catalog['halo_x'][catalog['halo_upid']!=-1])\n",
    "print c.most_common(50)"
   ]
  },
  {
   "cell_type": "code",
   "execution_count": null,
   "metadata": {
    "collapsed": true
   },
   "outputs": [],
   "source": [
    "from halotools.mock_observables import tpcf"
   ]
  },
  {
   "cell_type": "code",
   "execution_count": null,
   "metadata": {},
   "outputs": [],
   "source": [
    "rbins = np.logspace(-1, 1.5, 15)\n",
    "pos = np.c_[catalog['halo_x'], catalog['halo_y'],catalog['halo_z']]\n",
    "xi = tpcf(pos, rbins, period=1000.0)"
   ]
  },
  {
   "cell_type": "code",
   "execution_count": null,
   "metadata": {},
   "outputs": [],
   "source": [
    "xi"
   ]
  },
  {
   "cell_type": "code",
   "execution_count": null,
   "metadata": {},
   "outputs": [],
   "source": [
    "rbc = (rbins[1:]+rbins[:-1])/2.0\n",
    "plt.plot(rbc, xi)\n",
    "\n",
    "plt.loglog();\n",
    "#plt.legend(loc='best')\n",
    "plt.xlabel('r [Mpc]')\n",
    "plt.ylabel('xi')"
   ]
  },
  {
   "cell_type": "code",
   "execution_count": null,
   "metadata": {
    "collapsed": true
   },
   "outputs": [],
   "source": [
    "catalog.write('/scratch/users/swmclau2/catalog_ab_%s_shuffled.hdf5'%ab_property,\n",
    "              format = 'hdf5', path = '%s_shuffled'%ab_property, overwrite=True)"
   ]
  },
  {
   "cell_type": "code",
   "execution_count": null,
   "metadata": {},
   "outputs": [],
   "source": [
    "'catalog_ab_%s_shuffled.hdf5'%ab_property"
   ]
  },
  {
   "cell_type": "code",
   "execution_count": null,
   "metadata": {},
   "outputs": [],
   "source": [
    "%%bash\n",
    "ls ../*fixed.hdf5\n",
    "cd ..; pwd; cd -"
   ]
  },
  {
   "cell_type": "code",
   "execution_count": null,
   "metadata": {},
   "outputs": [],
   "source": [
    "%%bash\n",
    "ls *.ipynb"
   ]
  },
  {
   "cell_type": "code",
   "execution_count": null,
   "metadata": {
    "collapsed": true
   },
   "outputs": [],
   "source": []
  },
  {
   "cell_type": "code",
   "execution_count": null,
   "metadata": {
    "collapsed": true
   },
   "outputs": [],
   "source": []
  }
 ],
 "metadata": {
  "kernelspec": {
   "display_name": "Python 2",
   "language": "python",
   "name": "python2"
  },
  "language_info": {
   "codemirror_mode": {
    "name": "ipython",
    "version": 2
   },
   "file_extension": ".py",
   "mimetype": "text/x-python",
   "name": "python",
   "nbconvert_exporter": "python",
   "pygments_lexer": "ipython2",
   "version": "2.7.13"
  }
 },
 "nbformat": 4,
 "nbformat_minor": 1
}

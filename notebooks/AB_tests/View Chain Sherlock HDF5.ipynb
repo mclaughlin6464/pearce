{
 "cells": [
  {
   "cell_type": "code",
   "execution_count": 1,
   "metadata": {
    "collapsed": true
   },
   "outputs": [],
   "source": [
    "import matplotlib\n",
    "#matplotlib.use('Agg')\n",
    "from matplotlib import pyplot as plt\n",
    "%matplotlib inline\n",
    "import seaborn as sns\n",
    "sns.set()"
   ]
  },
  {
   "cell_type": "code",
   "execution_count": 2,
   "metadata": {},
   "outputs": [
    {
     "name": "stderr",
     "output_type": "stream",
     "text": [
      "/home/users/swmclau2/.local/lib/python2.7/site-packages/h5py/__init__.py:36: FutureWarning: Conversion of the second argument of issubdtype from `float` to `np.floating` is deprecated. In future, it will be treated as `np.float64 == np.dtype(float).type`.\n",
      "  from ._conv import register_converters as _register_converters\n"
     ]
    }
   ],
   "source": [
    "import numpy as np\n",
    "import h5py\n",
    "#from chainconsumer import ChainConsumer\n",
    "from corner import corner"
   ]
  },
  {
   "cell_type": "code",
   "execution_count": 3,
   "metadata": {},
   "outputs": [
    {
     "name": "stdout",
     "output_type": "stream",
     "text": [
      "-rw-r--r-- 1 swmclau2 risahw      12928 Jun  2  2019 /scratch/users/swmclau2/PearceMCMC/HSAB_HOD_xi_gg_.hdf5\r\n",
      "-rw-r--r-- 1 swmclau2 risahw  285400697 Jun  2  2019 /scratch/users/swmclau2/PearceMCMC/HOD_xi_gg_rmin_10.0_CorrAB.hdf5\r\n",
      "-rw-r--r-- 1 swmclau2 risahw  328324673 Jun  2  2019 /scratch/users/swmclau2/PearceMCMC/VpeakSHAM_xi_gg_rmin_10.0_HSAB.hdf5\r\n",
      "-rw-r--r-- 1 swmclau2 risahw  325737318 Jun  2  2019 /scratch/users/swmclau2/PearceMCMC/HOD_xi_gg_rmin_10.0_HSAB.hdf5\r\n",
      "-rw-r--r-- 1 swmclau2 risahw  305678919 Jun  2  2019 /scratch/users/swmclau2/PearceMCMC/VpeakSHAM_xi_gg_rmin_10.0_CorrAB.hdf5\r\n",
      "-rw-r--r-- 1 swmclau2 risahw  342139483 Jun  2  2019 /scratch/users/swmclau2/PearceMCMC/MpeakSHAM_xi_gg_rmin_10.0_HSAB.hdf5\r\n",
      "-rw-r--r-- 1 swmclau2 risahw  292621035 Jun  2  2019 /scratch/users/swmclau2/PearceMCMC/HSAB_HOD_xi_gg_rmin_10.0_CorrAB.hdf5\r\n",
      "-rw-r--r-- 1 swmclau2 risahw  364872434 Jun  2  2019 /scratch/users/swmclau2/PearceMCMC/MpeakSHAM_xi_gg_rmin_10.0_CorrAB.hdf5\r\n",
      "-rw-r--r-- 1 swmclau2 risahw  327401640 Jun  2  2019 /scratch/users/swmclau2/PearceMCMC/HSAB_HOD_xi_gg_rmin_10.0_HSAB.hdf5\r\n",
      "-rw-r--r-- 1 swmclau2 risahw  337320701 Jun  6  2019 /scratch/users/swmclau2/PearceMCMC/HOD_xi_gg_rmin_10.0_HOD.hdf5\r\n",
      "-rw-r--r-- 1 swmclau2 risahw  340263277 Jun  6  2019 /scratch/users/swmclau2/PearceMCMC/HSAB_HOD_xi_gg_rmin_10.0_HOD.hdf5\r\n",
      "-rw-r--r-- 1 swmclau2 risahw  342659970 Jun  6  2019 /scratch/users/swmclau2/PearceMCMC/MpeakSHAM_xi_gg_rmin_10.0_HOD.hdf5\r\n",
      "-rw-r--r-- 1 swmclau2 risahw  336074461 Jun  6  2019 /scratch/users/swmclau2/PearceMCMC/VpeakSHAM_xi_gg_rmin_10.0_HOD.hdf5\r\n",
      "-rw-r--r-- 1 swmclau2 risahw   26931453 Jun  7  2019 /scratch/users/swmclau2/PearceMCMC/MpeakSHAM_xi_gg_rmin_None_HSAB.hdf5\r\n",
      "-rw-r--r-- 1 swmclau2 risahw   36568873 Jun  7  2019 /scratch/users/swmclau2/PearceMCMC/MpeakSHAM_xi_gg_rmin_0.5_HSAB.hdf5\r\n",
      "-rw-r--r-- 1 swmclau2 risahw   41739551 Jun  7  2019 /scratch/users/swmclau2/PearceMCMC/MpeakSHAM_xi_gg_rmin_1.0_HSAB.hdf5\r\n",
      "-rw-r--r-- 1 swmclau2 risahw   46364502 Jun  7  2019 /scratch/users/swmclau2/PearceMCMC/HSAB_HOD_xi_gg_rmin_1.0_HSAB.hdf5\r\n",
      "-rw-r--r-- 1 swmclau2 risahw   15204949 Jun  7  2019 /scratch/users/swmclau2/PearceMCMC/VpeakSHAM_xi_gg_rmin_None_HSAB.hdf5\r\n",
      "-rw-r--r-- 1 swmclau2 risahw   33708448 Jun  7  2019 /scratch/users/swmclau2/PearceMCMC/VpeakSHAM_xi_gg_rmin_1.0_HSAB.hdf5\r\n",
      "-rw-r--r-- 1 swmclau2 risahw   27814520 Jun  7  2019 /scratch/users/swmclau2/PearceMCMC/HSAB_HOD_xi_gg_rmin_None_HSAB.hdf5\r\n",
      "-rw-r--r-- 1 swmclau2 risahw   31283126 Jun  7  2019 /scratch/users/swmclau2/PearceMCMC/VpeakSHAM_xi_gg_rmin_0.5_HSAB.hdf5\r\n",
      "-rw-r--r-- 1 swmclau2 risahw  111913603 Jun 11  2019 /scratch/users/swmclau2/PearceMCMC/HOD_xi_gg_rmin_None_HSAB.hdf5\r\n",
      "-rw-r--r-- 1 swmclau2 risahw 2384340700 Jun 11  2019 /scratch/users/swmclau2/PearceMCMC/HOD_xi_gg_rmin_2.0_HSAB.hdf5\r\n",
      "-rw-r--r-- 1 swmclau2 risahw 1437396895 Jun 11  2019 /scratch/users/swmclau2/PearceMCMC/HSAB_HOD_xi_gg_rmin_0.5_HSAB.hdf5\r\n",
      "-rw-r--r-- 1 swmclau2 risahw 1508260827 Jun 11  2019 /scratch/users/swmclau2/PearceMCMC/HOD_xi_gg_rmin_0.5_HSAB.hdf5\r\n",
      "-rw-r--r-- 1 swmclau2 risahw 2194767381 Jun 11  2019 /scratch/users/swmclau2/PearceMCMC/HOD_xi_gg_rmin_1.0_HSAB.hdf5\r\n",
      "-rw-r--r-- 1 swmclau2 risahw 2735912479 Jun 11  2019 /scratch/users/swmclau2/PearceMCMC/HOD_xi_gg_rmin_2.0_CorrAB.hdf5\r\n",
      "-rw-r--r-- 1 swmclau2 risahw 3538624396 Jun 11  2019 /scratch/users/swmclau2/PearceMCMC/HOD_xi_gg_rmin_2.0_HOD.hdf5\r\n",
      "-rw-r--r-- 1 swmclau2 risahw 3642786611 Jun 12  2019 /scratch/users/swmclau2/PearceMCMC/HSAB_HOD_xi_gg_rmin_1.0_CorrAB.hdf5\r\n",
      "-rw-r--r-- 1 swmclau2 risahw 3466889202 Jun 12  2019 /scratch/users/swmclau2/PearceMCMC/HOD_xi_gg_rmin_1.0_HOD.hdf5\r\n",
      "-rw-r--r-- 1 swmclau2 risahw 3658561936 Jun 12  2019 /scratch/users/swmclau2/PearceMCMC/HOD_xi_gg_rmin_1.0_CorrAB.hdf5\r\n",
      "-rw-r--r-- 1 swmclau2 risahw 3560943208 Jun 12  2019 /scratch/users/swmclau2/PearceMCMC/HOD_xi_gg_rmin_0.5_CorrAB.hdf5\r\n",
      "-rw-r--r-- 1 swmclau2 risahw 3374227683 Jun 12  2019 /scratch/users/swmclau2/PearceMCMC/HOD_xi_gg_rmin_0.5_HOD.hdf5\r\n",
      "-rw-r--r-- 1 swmclau2 risahw  718494533 Jun 12  2019 /scratch/users/swmclau2/PearceMCMC/MpeakSHAM_xi_gg_rmin_None_HOD.hdf5\r\n",
      "-rw-r--r-- 1 swmclau2 risahw 1369387649 Jun 12  2019 /scratch/users/swmclau2/PearceMCMC/VpeakSHAM_xi_gg_rmin_0.5_CorrAB.hdf5\r\n",
      "-rw-r--r-- 1 swmclau2 risahw  814208841 Jun 12  2019 /scratch/users/swmclau2/PearceMCMC/HSAB_HOD_xi_gg_rmin_None_HOD.hdf5\r\n",
      "-rw-r--r-- 1 swmclau2 risahw 1347859762 Jun 12  2019 /scratch/users/swmclau2/PearceMCMC/VpeakSHAM_xi_gg_rmin_1.0_CorrAB.hdf5\r\n",
      "-rw-r--r-- 1 swmclau2 risahw 1737184654 Jun 12  2019 /scratch/users/swmclau2/PearceMCMC/HSAB_HOD_xi_gg_rmin_2.0_CorrAB.hdf5\r\n",
      "-rw-r--r-- 1 swmclau2 risahw 2082038368 Jun 12  2019 /scratch/users/swmclau2/PearceMCMC/HOD_xi_gg_rmin_None_CorrAB.hdf5\r\n",
      "-rw-r--r-- 1 swmclau2 risahw 1396123127 Jun 12  2019 /scratch/users/swmclau2/PearceMCMC/MpeakSHAM_xi_gg_rmin_0.5_CorrAB.hdf5\r\n",
      "-rw-r--r-- 1 swmclau2 risahw  795966014 Jun 12  2019 /scratch/users/swmclau2/PearceMCMC/MpeakSHAM_xi_gg_rmin_None_CorrAB.hdf5\r\n",
      "-rw-r--r-- 1 swmclau2 risahw 2292740029 Jun 12  2019 /scratch/users/swmclau2/PearceMCMC/HSAB_HOD_xi_gg_rmin_2.0_HOD.hdf5\r\n",
      "-rw-r--r-- 1 swmclau2 risahw 3016765252 Jun 12  2019 /scratch/users/swmclau2/PearceMCMC/HSAB_HOD_xi_gg_rmin_0.5_HOD.hdf5\r\n",
      "-rw-r--r-- 1 swmclau2 risahw  371237901 Jun 12  2019 /scratch/users/swmclau2/PearceMCMC/VpeakSHAM_xi_gg_rmin_None_CorrAB.hdf5\r\n",
      "-rw-r--r-- 1 swmclau2 risahw 1703176374 Jun 12  2019 /scratch/users/swmclau2/PearceMCMC/VpeakSHAM_xi_gg_rmin_2.0_HOD.hdf5\r\n",
      "-rw-r--r-- 1 swmclau2 risahw  264009451 Jun 12  2019 /scratch/users/swmclau2/PearceMCMC/VpeakSHAM_xi_gg_rmin_None_HOD.hdf5\r\n",
      "-rw-r--r-- 1 swmclau2 risahw 1448301160 Jun 12  2019 /scratch/users/swmclau2/PearceMCMC/MpeakSHAM_xi_gg_rmin_0.5_HOD.hdf5\r\n",
      "-rw-r--r-- 1 swmclau2 risahw 1940236229 Jun 12  2019 /scratch/users/swmclau2/PearceMCMC/MpeakSHAM_xi_gg_rmin_1.0_CorrAB.hdf5\r\n",
      "-rw-r--r-- 1 swmclau2 risahw  802202764 Jun 12  2019 /scratch/users/swmclau2/PearceMCMC/HSAB_HOD_xi_gg_rmin_None_CorrAB.hdf5\r\n",
      "-rw-r--r-- 1 swmclau2 risahw 2382009629 Jun 12  2019 /scratch/users/swmclau2/PearceMCMC/HOD_xi_gg_rmin_None_HOD.hdf5\r\n",
      "-rw-r--r-- 1 swmclau2 risahw 2002987023 Jun 12  2019 /scratch/users/swmclau2/PearceMCMC/MpeakSHAM_xi_gg_rmin_2.0_CorrAB.hdf5\r\n",
      "-rw-r--r-- 1 swmclau2 risahw 2945196383 Jun 12  2019 /scratch/users/swmclau2/PearceMCMC/HSAB_HOD_xi_gg_rmin_0.5_CorrAB.hdf5\r\n",
      "-rw-r--r-- 1 swmclau2 risahw 1063808144 Jun 12  2019 /scratch/users/swmclau2/PearceMCMC/VpeakSHAM_xi_gg_rmin_0.5_HOD.hdf5\r\n",
      "-rw-r--r-- 1 swmclau2 risahw 2030328956 Jun 12  2019 /scratch/users/swmclau2/PearceMCMC/MpeakSHAM_xi_gg_rmin_2.0_HOD.hdf5\r\n",
      "-rw-r--r-- 1 swmclau2 risahw 1479978641 Jun 12  2019 /scratch/users/swmclau2/PearceMCMC/MpeakSHAM_xi_gg_rmin_1.0_HOD.hdf5\r\n",
      "-rw-r--r-- 1 swmclau2 risahw 1169629066 Jun 12  2019 /scratch/users/swmclau2/PearceMCMC/HSAB_HOD_xi_gg_rmin_1.0_HOD.hdf5\r\n",
      "-rw-r--r-- 1 swmclau2 risahw 1423145702 Jun 12  2019 /scratch/users/swmclau2/PearceMCMC/VpeakSHAM_xi_gg_rmin_2.0_CorrAB.hdf5\r\n",
      "-rw-r--r-- 1 swmclau2 risahw 1375883222 Jun 12  2019 /scratch/users/swmclau2/PearceMCMC/VpeakSHAM_xi_gg_rmin_1.0_HOD.hdf5\r\n",
      "-rw-r--r-- 1 swmclau2 risahw       6240 Jun 12  2019 /scratch/users/swmclau2/PearceMCMC/VpeakSHAM_xi_gg_rmin_0.5_HOD_v2.hdf5\r\n",
      "-rw-r--r-- 1 swmclau2 risahw       6240 Jun 12  2019 /scratch/users/swmclau2/PearceMCMC/VpeakSHAM_xi_gg_rmin_0.5_CorrAB_v2.hdf5\r\n",
      "-rw-r--r-- 1 swmclau2 risahw       6240 Jun 12  2019 /scratch/users/swmclau2/PearceMCMC/VpeakSHAM_xi_gg_rmin_1.0_HOD_v2.hdf5\r\n",
      "-rw-r--r-- 1 swmclau2 risahw       6240 Jun 12  2019 /scratch/users/swmclau2/PearceMCMC/VpeakSHAM_xi_gg_rmin_1.0_CorrAB_v2.hdf5\r\n",
      "-rw-r--r-- 1 swmclau2 risahw       6240 Jun 12  2019 /scratch/users/swmclau2/PearceMCMC/VpeakSHAM_xi_gg_rmin_2.0_CorrAB_v2.hdf5\r\n",
      "-rw-r--r-- 1 swmclau2 risahw       6240 Jun 12  2019 /scratch/users/swmclau2/PearceMCMC/VpeakSHAM_xi_gg_rmin_2.0_HOD_v2.hdf5\r\n",
      "-rw-r--r-- 1 swmclau2 risahw       6240 Jun 12  2019 /scratch/users/swmclau2/PearceMCMC/VpeakSHAM_xi_gg_rmin_None_CorrAB_v2.hdf5\r\n",
      "-rw-r--r-- 1 swmclau2 risahw       6240 Jun 12  2019 /scratch/users/swmclau2/PearceMCMC/VpeakSHAM_xi_gg_rmin_None_HOD_v2.hdf5\r\n",
      "-rw-r--r-- 1 swmclau2 risahw 1344304071 Jun 12  2019 /scratch/users/swmclau2/PearceMCMC/HOD_xi_gg_rmin_0.5_CorrAB_v2.hdf5\r\n",
      "-rw-r--r-- 1 swmclau2 risahw 1453132184 Jun 12  2019 /scratch/users/swmclau2/PearceMCMC/HOD_xi_gg_rmin_1.0_CorrAB_v2.hdf5\r\n",
      "-rw-r--r-- 1 swmclau2 risahw 2074043522 Jun 12  2019 /scratch/users/swmclau2/PearceMCMC/HOD_xi_gg_rmin_0.5_HOD_v2.hdf5\r\n",
      "-rw-r--r-- 1 swmclau2 risahw 2919452348 Jun 12  2019 /scratch/users/swmclau2/PearceMCMC/HOD_xi_gg_rmin_2.0_HOD_v2.hdf5\r\n",
      "-rw-r--r-- 1 swmclau2 risahw  617577962 Jun 12  2019 /scratch/users/swmclau2/PearceMCMC/HOD_xi_gg_rmin_None_CorrAB_v2.hdf5\r\n",
      "-rw-r--r-- 1 swmclau2 risahw 1750376407 Jun 12  2019 /scratch/users/swmclau2/PearceMCMC/HOD_xi_gg_rmin_1.0_HOD_v2.hdf5\r\n",
      "-rw-r--r-- 1 swmclau2 risahw 1825598986 Jun 12  2019 /scratch/users/swmclau2/PearceMCMC/HOD_xi_gg_rmin_2.0_CorrAB_v2.hdf5\r\n",
      "-rw-r--r-- 1 swmclau2 risahw 1393456558 Jun 12  2019 /scratch/users/swmclau2/PearceMCMC/HOD_xi_gg_rmin_None_HOD_v2.hdf5\r\n",
      "-rw-r--r-- 1 swmclau2 risahw  806004180 Jun 13  2019 /scratch/users/swmclau2/PearceMCMC/HOD_xi_gg_rmin_2.0_HOD_v3.hdf5\r\n",
      "-rw-r--r-- 1 swmclau2 risahw  776206504 Jun 13  2019 /scratch/users/swmclau2/PearceMCMC/VpeakSHAM_xi_gg_rmin_1.0_HOD_v3.hdf5\r\n",
      "-rw-r--r-- 1 swmclau2 risahw  577768256 Jun 13  2019 /scratch/users/swmclau2/PearceMCMC/HOD_xi_gg_rmin_None_HOD_v3.hdf5\r\n",
      "-rw-r--r-- 1 swmclau2 risahw  643968778 Jun 13  2019 /scratch/users/swmclau2/PearceMCMC/VpeakSHAM_xi_gg_rmin_0.5_HOD_v3.hdf5\r\n",
      "-rw-r--r-- 1 swmclau2 risahw  699639129 Jun 13  2019 /scratch/users/swmclau2/PearceMCMC/HOD_xi_gg_rmin_0.5_HOD_v3.hdf5\r\n",
      "-rw-r--r-- 1 swmclau2 risahw  786967009 Jun 13  2019 /scratch/users/swmclau2/PearceMCMC/HOD_xi_gg_rmin_1.0_HOD_v3.hdf5\r\n",
      "-rw-r--r-- 1 swmclau2 risahw  461466157 Jun 13  2019 /scratch/users/swmclau2/PearceMCMC/VpeakSHAM_xi_gg_rmin_None_HOD_v3.hdf5\r\n",
      "-rw-r--r-- 1 swmclau2 risahw 1125078500 Jun 13  2019 /scratch/users/swmclau2/PearceMCMC/HOD_xi_gg_rmin_2.0_CorrAB_v3.hdf5\r\n",
      "-rw-r--r-- 1 swmclau2 risahw 1170555733 Jun 13  2019 /scratch/users/swmclau2/PearceMCMC/HOD_xi_gg_rmin_2.0_HSAB_v3.hdf5\r\n",
      "-rw-r--r-- 1 swmclau2 risahw  769131640 Jun 13  2019 /scratch/users/swmclau2/PearceMCMC/HOD_xi_gg_rmin_0.5_CorrAB_v4.hdf5\r\n",
      "-rw-r--r-- 1 swmclau2 risahw  435279569 Jun 13  2019 /scratch/users/swmclau2/PearceMCMC/HOD_xi_gg_rmin_None_CorrAB_v4.hdf5\r\n",
      "-rw-r--r-- 1 swmclau2 risahw  766721633 Jun 13  2019 /scratch/users/swmclau2/PearceMCMC/VpeakSHAM_xi_gg_rmin_1.0_CorrAB_v4.hdf5\r\n",
      "-rw-r--r-- 1 swmclau2 risahw 1092650062 Jun 13  2019 /scratch/users/swmclau2/PearceMCMC/HOD_xi_gg_rmin_1.0_CorrAB_v3.hdf5\r\n",
      "-rw-r--r-- 1 swmclau2 risahw  659839957 Jun 13  2019 /scratch/users/swmclau2/PearceMCMC/VpeakSHAM_xi_gg_rmin_0.5_CorrAB_v4.hdf5\r\n",
      "-rw-r--r-- 1 swmclau2 risahw  908384577 Jun 13  2019 /scratch/users/swmclau2/PearceMCMC/HOD_xi_gg_rmin_0.5_HSAB_v3.hdf5\r\n",
      "-rw-r--r-- 1 swmclau2 risahw  812173800 Jun 13  2019 /scratch/users/swmclau2/PearceMCMC/VpeakSHAM_xi_gg_rmin_1.0_HSAB_v4.hdf5\r\n",
      "-rw-r--r-- 1 swmclau2 risahw 1021833185 Jun 13  2019 /scratch/users/swmclau2/PearceMCMC/HOD_xi_gg_rmin_1.0_HSAB_v3.hdf5\r\n",
      "-rw-r--r-- 1 swmclau2 risahw  653671601 Jun 13  2019 /scratch/users/swmclau2/PearceMCMC/HOD_xi_gg_rmin_None_HSAB_v3.hdf5\r\n",
      "-rw-r--r-- 1 swmclau2 risahw 1081605854 Jun 13  2019 /scratch/users/swmclau2/PearceMCMC/HOD_xi_gg_rmin_1.0_HSAB_v4.hdf5\r\n",
      "-rw-r--r-- 1 swmclau2 risahw  278821626 Jun 13  2019 /scratch/users/swmclau2/PearceMCMC/VpeakSHAM_xi_gg_rmin_None_HSAB_v4.hdf5\r\n",
      "-rw-r--r-- 1 swmclau2 risahw  778320570 Jun 13  2019 /scratch/users/swmclau2/PearceMCMC/HOD_xi_gg_rmin_0.5_HSAB_v4.hdf5\r\n",
      "-rw-r--r-- 1 swmclau2 risahw 1004009473 Jun 13  2019 /scratch/users/swmclau2/PearceMCMC/HOD_xi_gg_rmin_1.0_CorrAB_v4.hdf5\r\n",
      "-rw-r--r-- 1 swmclau2 risahw  702955843 Jun 13  2019 /scratch/users/swmclau2/PearceMCMC/VpeakSHAM_xi_gg_rmin_0.5_HSAB_v4.hdf5\r\n",
      "-rw-r--r-- 1 swmclau2 risahw  658808978 Jun 13  2019 /scratch/users/swmclau2/PearceMCMC/HOD_xi_gg_rmin_None_CorrAB_v3.hdf5\r\n",
      "-rw-r--r-- 1 swmclau2 risahw 1059698213 Jun 13  2019 /scratch/users/swmclau2/PearceMCMC/HOD_xi_gg_rmin_0.5_CorrAB_v3.hdf5\r\n",
      "-rw-r--r-- 1 swmclau2 risahw  497181254 Jun 13  2019 /scratch/users/swmclau2/PearceMCMC/HOD_xi_gg_rmin_None_HSAB_v4.hdf5\r\n",
      "-rw-r--r-- 1 swmclau2 risahw  334289190 Jun 13  2019 /scratch/users/swmclau2/PearceMCMC/VpeakSHAM_xi_gg_rmin_None_CorrAB_v4.hdf5\r\n",
      "-rw-r--r-- 1 swmclau2 risahw  952909631 Jun 14  2019 /scratch/users/swmclau2/PearceMCMC/VpeakSHAM_xi_gg_rmin_1.0_CorrAB_v3.hdf5\r\n",
      "-rw-r--r-- 1 swmclau2 risahw 1310615751 Jun 14  2019 /scratch/users/swmclau2/PearceMCMC/VpeakSHAM_xi_gg_rmin_1.0_HSAB_v3.hdf5\r\n",
      "-rw-r--r-- 1 swmclau2 risahw  933098745 Jun 14  2019 /scratch/users/swmclau2/PearceMCMC/VpeakSHAM_xi_gg_rmin_0.5_CorrAB_v3.hdf5\r\n",
      "-rw-r--r-- 1 swmclau2 risahw 1033167529 Jun 14  2019 /scratch/users/swmclau2/PearceMCMC/VpeakSHAM_xi_gg_rmin_0.5_HSAB_v3.hdf5\r\n",
      "-rw-r--r-- 1 swmclau2 risahw  813714002 Jun 14  2019 /scratch/users/swmclau2/PearceMCMC/VpeakSHAM_xi_gg_rmin_None_HSAB_v3.hdf5\r\n",
      "-rw-r--r-- 1 swmclau2 risahw  991939186 Jun 14  2019 /scratch/users/swmclau2/PearceMCMC/VpeakSHAM_xi_gg_rmin_None_CorrAB_v3.hdf5\r\n",
      "-rw-r--r-- 1 swmclau2 risahw 1208049742 Sep 19 14:53 /scratch/users/swmclau2/PearceMCMC/HOD_xi_gg_rmin_1.0_HSAB_v5.hdf5\r\n",
      "-rw-r--r-- 1 swmclau2 risahw 1145288138 Sep 19 15:22 /scratch/users/swmclau2/PearceMCMC/HOD_xi_gg_rmin_0.5_CorrAB_v5.hdf5\r\n",
      "-rw-r--r-- 1 swmclau2 risahw 1239712309 Sep 19 16:08 /scratch/users/swmclau2/PearceMCMC/HOD_xi_gg_rmin_0.5_HSAB_v5.hdf5\r\n",
      "-rw-r--r-- 1 swmclau2 risahw  921541166 Sep 19 16:13 /scratch/users/swmclau2/PearceMCMC/HOD_xi_gg_rmin_0.5_HOD_v5.hdf5\r\n",
      "-rw-r--r-- 1 swmclau2 risahw 1143493328 Sep 19 17:16 /scratch/users/swmclau2/PearceMCMC/VpeakSHAM_xi_gg_rmin_0.5_CorrAB_v5.hdf5\r\n",
      "-rw-r--r-- 1 swmclau2 risahw 1248866539 Sep 19 17:27 /scratch/users/swmclau2/PearceMCMC/HOD_xi_gg_rmin_None_CorrAB_v5.hdf5\r\n",
      "-rw-r--r-- 1 swmclau2 risahw  333069160 Sep 19 18:41 /scratch/users/swmclau2/PearceMCMC/HOD_xi_gg_rmin_1.0_CorrAB_v5.hdf5\r\n",
      "-rw-r--r-- 1 swmclau2 risahw  406868530 Sep 19 18:41 /scratch/users/swmclau2/PearceMCMC/HOD_xi_gg_rmin_None_HOD_v5.hdf5\r\n",
      "-rw-r--r-- 1 swmclau2 risahw  585863474 Sep 19 18:41 /scratch/users/swmclau2/PearceMCMC/VpeakSHAM_xi_gg_rmin_0.5_HOD_v5.hdf5\r\n",
      "-rw-r--r-- 1 swmclau2 risahw  231843017 Sep 19 18:41 /scratch/users/swmclau2/PearceMCMC/HOD_xi_gg_rmin_1.0_HOD_v5.hdf5\r\n",
      "-rw-r--r-- 1 swmclau2 risahw  150974657 Sep 19 18:42 /scratch/users/swmclau2/PearceMCMC/HOD_xi_gg_rmin_None_HSAB_v5.hdf5\r\n",
      "-rw-r--r-- 1 swmclau2 risahw 1174881959 Sep 19 19:49 /scratch/users/swmclau2/PearceMCMC/VpeakSHAM_xi_gg_rmin_1.0_CorrAB_v5.hdf5\r\n",
      "-rw-r--r-- 1 swmclau2 risahw 1219072929 Sep 19 20:03 /scratch/users/swmclau2/PearceMCMC/VpeakSHAM_xi_gg_rmin_0.5_HSAB_v5.hdf5\r\n",
      "-rw-r--r-- 1 swmclau2 risahw  906854796 Sep 19 21:05 /scratch/users/swmclau2/PearceMCMC/VpeakSHAM_xi_gg_rmin_1.0_HOD_v5.hdf5\r\n",
      "-rw-r--r-- 1 swmclau2 risahw 1228869884 Sep 19 21:06 /scratch/users/swmclau2/PearceMCMC/VpeakSHAM_xi_gg_rmin_1.0_HSAB_v5.hdf5\r\n",
      "-rw-r--r-- 1 swmclau2 risahw  956947652 Sep 20 01:05 /scratch/users/swmclau2/PearceMCMC/VpeakSHAM_xi_gg_rmin_None_HOD_v5.hdf5\r\n",
      "-rw-r--r-- 1 swmclau2 risahw 1086173831 Sep 20 01:16 /scratch/users/swmclau2/PearceMCMC/VpeakSHAM_xi_gg_rmin_None_CorrAB_v5.hdf5\r\n",
      "-rw-r--r-- 1 swmclau2 risahw 1281898136 Sep 20 02:14 /scratch/users/swmclau2/PearceMCMC/VpeakSHAM_xi_gg_rmin_None_HSAB_v5.hdf5\r\n",
      "-rw-r--r-- 1 swmclau2 risahw  879054982 Oct  7 20:21 /scratch/users/swmclau2/PearceMCMC/VpeakSHAM_xi_gg_rmin_1.0_HSAB_fixed_cosmo.hdf5\r\n",
      "-rw-r--r-- 1 swmclau2 risahw  912552461 Oct  7 21:01 /scratch/users/swmclau2/PearceMCMC/VpeakSHAM_xi_gg_rmin_0.5_HSAB_fixed_cosmo.hdf5\r\n",
      "-rw-r--r-- 1 swmclau2 risahw  820933769 Oct  7 21:43 /scratch/users/swmclau2/PearceMCMC/VpeakSHAM_xi_gg_rmin_1.0_CorrAB_fixed_cosmo.hdf5\r\n",
      "-rw-r--r-- 1 swmclau2 risahw 1016386830 Oct  7 22:42 /scratch/users/swmclau2/PearceMCMC/VpeakSHAM_xi_gg_rmin_0.5_HOD_fixed_cosmo.hdf5\r\n",
      "-rw-r--r-- 1 swmclau2 risahw  320577657 Oct  7 23:00 /scratch/users/swmclau2/PearceMCMC/VpeakSHAM_xi_gg_rmin_0.5_CorrAB_fixed_cosmo.hdf5\r\n",
      "-rw-r--r-- 1 swmclau2 risahw 1045719086 Oct  7 23:01 /scratch/users/swmclau2/PearceMCMC/VpeakSHAM_xi_gg_rmin_1.0_HOD_fixed_cosmo.hdf5\r\n",
      "-rw-r--r-- 1 swmclau2 risahw  949920573 Oct  7 23:13 /scratch/users/swmclau2/PearceMCMC/VpeakSHAM_xi_gg_rmin_None_HOD_fixed_cosmo.hdf5\r\n",
      "-rw-r--r-- 1 swmclau2 risahw  697075365 Oct  7 23:17 /scratch/users/swmclau2/PearceMCMC/VpeakSHAM_xi_gg_rmin_None_HSAB_fixed_cosmo.hdf5\r\n",
      "-rw-r--r-- 1 swmclau2 risahw      48495 Oct 22 17:22 /scratch/users/swmclau2/PearceMCMC/VpeakSHAM_xi_gg_rmin_None_CorrAB_fixed_cosmo.hdf5\r\n",
      "-rw-r--r-- 1 swmclau2 risahw      19760 Jan 20 11:26 /scratch/users/swmclau2/PearceMCMC/UniverseMachine_wp_ds_rmin_0.5_HOD.hdf5\r\n",
      "-rw-r--r-- 1 swmclau2 risahw      20192 Jan 20 11:26 /scratch/users/swmclau2/PearceMCMC/UniverseMachine_wp_ds_rmin_0.5_CorrAB.hdf5\r\n",
      "-rw-r--r-- 1 swmclau2 risahw      19760 Jan 20 11:27 /scratch/users/swmclau2/PearceMCMC/UniverseMachine_wp_ds_rmin_2.0_HOD.hdf5\r\n",
      "-rw-r--r-- 1 swmclau2 risahw      20288 Jan 20 11:27 /scratch/users/swmclau2/PearceMCMC/VpeakSHAM_wp_ds_rmin_0.5_CAB.hdf5\r\n",
      "-rw-r--r-- 1 swmclau2 risahw      20208 Jan 20 11:27 /scratch/users/swmclau2/PearceMCMC/VpeakSHAM_wp_ds_rmin_0.5_HSAB.hdf5\r\n",
      "-rw-r--r-- 1 swmclau2 risahw  556252814 Jan 20 14:06 /scratch/users/swmclau2/PearceMCMC/UniverseMachine_wp_ds_rmin_1.0_CAB.hdf5\r\n",
      "-rw-r--r-- 1 swmclau2 risahw  500044670 Jan 20 15:05 /scratch/users/swmclau2/PearceMCMC/HOD_wp_ds_rmin_2.0_CorrAB.hdf5\r\n",
      "-rw-r--r-- 1 swmclau2 risahw  499179803 Jan 20 15:13 /scratch/users/swmclau2/PearceMCMC/UniverseMachine_wp_ds_rmin_2.0_CorrAB.hdf5\r\n",
      "-rw-r--r-- 1 swmclau2 risahw  594262812 Jan 20 15:35 /scratch/users/swmclau2/PearceMCMC/UniverseMachine_wp_ds_rmin_2.0_CAB.hdf5\r\n",
      "-rw-r--r-- 1 swmclau2 risahw  463955651 Jan 20 15:42 /scratch/users/swmclau2/PearceMCMC/HOD_wp_ds_rmin_0.5_CorrAB.hdf5\r\n",
      "-rw-r--r-- 1 swmclau2 risahw  537866555 Jan 20 15:44 /scratch/users/swmclau2/PearceMCMC/UniverseMachine_wp_ds_rmin_2.0_HSAB.hdf5\r\n",
      "-rw-r--r-- 1 swmclau2 risahw  458945822 Jan 20 16:04 /scratch/users/swmclau2/PearceMCMC/VpeakSHAM_wp_ds_rmin_0.5_CorrAB.hdf5\r\n",
      "-rw-r--r-- 1 swmclau2 risahw  496304935 Jan 20 16:07 /scratch/users/swmclau2/PearceMCMC/UniverseMachine_wp_ds_rmin_0.5_HSAB.hdf5\r\n",
      "-rw-r--r-- 1 swmclau2 risahw  413736764 Jan 20 16:07 /scratch/users/swmclau2/PearceMCMC/HOD_wp_ds_rmin_None_HOD.hdf5\r\n",
      "-rw-r--r-- 1 swmclau2 risahw  514088573 Jan 20 16:35 /scratch/users/swmclau2/PearceMCMC/UniverseMachine_wp_ds_rmin_1.0_HSAB.hdf5\r\n",
      "-rw-r--r-- 1 swmclau2 risahw  426079716 Jan 20 16:52 /scratch/users/swmclau2/PearceMCMC/UniverseMachine_wp_ds_rmin_None_CorrAB.hdf5\r\n",
      "-rw-r--r-- 1 swmclau2 risahw  446278455 Jan 20 17:27 /scratch/users/swmclau2/PearceMCMC/HOD_wp_ds_rmin_2.0_HOD.hdf5\r\n",
      "-rw-r--r-- 1 swmclau2 risahw  460372606 Jan 20 17:58 /scratch/users/swmclau2/PearceMCMC/HOD_wp_ds_rmin_1.0_CorrAB.hdf5\r\n",
      "-rw-r--r-- 1 swmclau2 risahw  496671878 Jan 20 17:59 /scratch/users/swmclau2/PearceMCMC/HOD_wp_ds_rmin_0.5_HSAB.hdf5\r\n",
      "-rw-r--r-- 1 swmclau2 risahw  595453761 Jan 20 18:06 /scratch/users/swmclau2/PearceMCMC/HOD_wp_ds_rmin_2.0_CAB.hdf5\r\n",
      "-rw-r--r-- 1 swmclau2 risahw  554998135 Jan 20 18:30 /scratch/users/swmclau2/PearceMCMC/HOD_wp_ds_rmin_None_CAB.hdf5\r\n",
      "-rw-r--r-- 1 swmclau2 risahw  462770361 Jan 20 18:53 /scratch/users/swmclau2/PearceMCMC/UniverseMachine_wp_ds_rmin_1.0_CorrAB.hdf5\r\n",
      "-rw-r--r-- 1 swmclau2 risahw  417090774 Jan 20 19:13 /scratch/users/swmclau2/PearceMCMC/UniverseMachine_wp_ds_rmin_None_HOD.hdf5\r\n",
      "-rw-r--r-- 1 swmclau2 risahw  540742665 Jan 20 19:43 /scratch/users/swmclau2/PearceMCMC/UniverseMachine_wp_ds_rmin_0.5_CAB.hdf5\r\n",
      "-rw-r--r-- 1 swmclau2 risahw  562475417 Jan 20 20:32 /scratch/users/swmclau2/PearceMCMC/UniverseMachine_wp_ds_rmin_None_CAB.hdf5\r\n",
      "-rw-r--r-- 1 swmclau2 risahw  512520165 Jan 20 20:33 /scratch/users/swmclau2/PearceMCMC/HOD_wp_ds_rmin_1.0_HSAB.hdf5\r\n",
      "-rw-r--r-- 1 swmclau2 risahw  409662512 Jan 20 22:25 /scratch/users/swmclau2/PearceMCMC/VpeakSHAM_wp_ds_rmin_None_HOD.hdf5\r\n",
      "-rw-r--r-- 1 swmclau2 risahw  452918794 Jan 20 22:33 /scratch/users/swmclau2/PearceMCMC/HOD_wp_ds_rmin_None_HSAB.hdf5\r\n",
      "-rw-r--r-- 1 swmclau2 risahw  540647354 Jan 20 22:35 /scratch/users/swmclau2/PearceMCMC/HOD_wp_ds_rmin_0.5_CAB.hdf5\r\n",
      "-rw-r--r-- 1 swmclau2 risahw  453746471 Jan 20 22:42 /scratch/users/swmclau2/PearceMCMC/VpeakSHAM_wp_ds_rmin_None_HSAB.hdf5\r\n",
      "-rw-r--r-- 1 swmclau2 risahw  426969879 Jan 21 01:01 /scratch/users/swmclau2/PearceMCMC/HOD_wp_ds_rmin_1.0_HOD.hdf5\r\n",
      "-rw-r--r-- 1 swmclau2 risahw  452874664 Jan 21 01:49 /scratch/users/swmclau2/PearceMCMC/UniverseMachine_wp_ds_rmin_None_HSAB.hdf5\r\n",
      "-rw-r--r-- 1 swmclau2 risahw  414226769 Jan 21 02:27 /scratch/users/swmclau2/PearceMCMC/VpeakSHAM_wp_ds_rmin_0.5_HOD.hdf5\r\n",
      "-rw-r--r-- 1 swmclau2 risahw  427082863 Jan 21 07:04 /scratch/users/swmclau2/PearceMCMC/UniverseMachine_wp_ds_rmin_1.0_HOD.hdf5\r\n",
      "-rw-r--r-- 1 swmclau2 risahw  196246082 Jan 21 08:43 /scratch/users/swmclau2/PearceMCMC/HOD_wp_ds_rmin_None_CorrAB.hdf5\r\n",
      "-rw-r--r-- 1 swmclau2 risahw  298332393 Jan 21 08:43 /scratch/users/swmclau2/PearceMCMC/HOD_wp_ds_rmin_0.5_HOD.hdf5\r\n",
      "-rw-r--r-- 1 swmclau2 risahw  420785614 Jan 21 08:43 /scratch/users/swmclau2/PearceMCMC/HOD_wp_ds_rmin_2.0_HSAB.hdf5\r\n",
      "-rw-r--r-- 1 swmclau2 risahw  471522614 Jan 21 08:43 /scratch/users/swmclau2/PearceMCMC/HOD_wp_ds_rmin_1.0_CAB.hdf5\r\n"
     ]
    }
   ],
   "source": [
    "! ls -ltr /scratch/users/swmclau2/PearceMCMC/*.hdf5"
   ]
  },
  {
   "cell_type": "code",
   "execution_count": 4,
   "metadata": {
    "collapsed": true
   },
   "outputs": [],
   "source": [
    "#fname = '/scratch/users/swmclau2/PearceMCMC/500_walkers_10000_steps_chain_cosmo_zheng_xi_lowmsat.npy'\n",
    "fname = '/scratch/users/swmclau2/PearceMCMC/VpeakSHAM_wp_ds_rmin_0.5_CAB.hdf5'"
   ]
  },
  {
   "cell_type": "code",
   "execution_count": 5,
   "metadata": {},
   "outputs": [],
   "source": [
    "f = h5py.File(fname, 'r')"
   ]
  },
  {
   "cell_type": "code",
   "execution_count": 6,
   "metadata": {},
   "outputs": [
    {
     "data": {
      "text/plain": [
       "[u'emu_type',\n",
       " u'training_file',\n",
       " u'emu_cov_fname',\n",
       " u'fixed_params',\n",
       " u'emu_hps',\n",
       " u'true_data_fname',\n",
       " u'true_cov_fname',\n",
       " u'sim',\n",
       " u'obs',\n",
       " u'cov',\n",
       " u'nsteps',\n",
       " u'param_names',\n",
       " u'mcmc_type',\n",
       " u'nwalkers',\n",
       " u'nlive',\n",
       " u'dlogz',\n",
       " u'nburn',\n",
       " u'seed',\n",
       " u'chain_fixed_params']"
      ]
     },
     "execution_count": 6,
     "metadata": {},
     "output_type": "execute_result"
    }
   ],
   "source": [
    "f.attrs.keys()"
   ]
  },
  {
   "cell_type": "code",
   "execution_count": 7,
   "metadata": {
    "collapsed": true
   },
   "outputs": [],
   "source": [
    "from ast import literal_eval"
   ]
  },
  {
   "cell_type": "raw",
   "metadata": {},
   "source": [
    "#from pearce.emulator import NashvilleHot\n",
    "#tf = f.attrs['training_file']\n",
    "#fixed_params = literal_eval(f.attrs['fixed_params'])\n",
    "#emu_hps = literal_eval(f.attrs['emu_hps'])\n",
    "#emu = NashvilleHot(tf, fixed_params = fixed_params, **emu_hps)"
   ]
  },
  {
   "cell_type": "code",
   "execution_count": 8,
   "metadata": {},
   "outputs": [
    {
     "data": {
      "text/plain": [
       "[u'chain', u'cov', u'data', u'lnprob']"
      ]
     },
     "execution_count": 8,
     "metadata": {},
     "output_type": "execute_result"
    }
   ],
   "source": [
    "f.keys()"
   ]
  },
  {
   "cell_type": "code",
   "execution_count": 9,
   "metadata": {
    "collapsed": true
   },
   "outputs": [],
   "source": [
    "n_walkers = f.attrs['nwalkers']"
   ]
  },
  {
   "cell_type": "code",
   "execution_count": 10,
   "metadata": {},
   "outputs": [
    {
     "name": "stdout",
     "output_type": "stream",
     "text": [
      "200\n"
     ]
    }
   ],
   "source": [
    "print n_walkers"
   ]
  },
  {
   "cell_type": "code",
   "execution_count": 11,
   "metadata": {},
   "outputs": [
    {
     "data": {
      "text/plain": [
       "[u'chain', u'cov', u'data', u'lnprob']"
      ]
     },
     "execution_count": 11,
     "metadata": {},
     "output_type": "execute_result"
    }
   ],
   "source": [
    "f.keys()"
   ]
  },
  {
   "cell_type": "code",
   "execution_count": 12,
   "metadata": {},
   "outputs": [
    {
     "data": {
      "text/plain": [
       "\"{'halo_property': 'halo_vpeak', 'scale_factor': 1.001, 'nd': '5e-4', 'min_ptcl': 100, 'sim_hps': {'system': 'sherlock'}, 'simname': 'ds_14_b_sub', 'scatter': 0.2, 'gal_type': 'SHAM'}\""
      ]
     },
     "execution_count": 12,
     "metadata": {},
     "output_type": "execute_result"
    }
   ],
   "source": [
    "f.attrs['sim']"
   ]
  },
  {
   "cell_type": "code",
   "execution_count": 13,
   "metadata": {},
   "outputs": [],
   "source": [
    "sim_info = f.attrs['sim']"
   ]
  },
  {
   "cell_type": "code",
   "execution_count": 14,
   "metadata": {
    "collapsed": true
   },
   "outputs": [],
   "source": [
    "n_burn = 500\n",
    "n_samples = 1000\n",
    "chain = f['chain'][n_burn*n_walkers:n_walkers*(n_samples+n_burn)]"
   ]
  },
  {
   "cell_type": "code",
   "execution_count": 15,
   "metadata": {
    "collapsed": true
   },
   "outputs": [],
   "source": [
    "chain = chain[np.all(chain!=0.0, axis = 1), :]"
   ]
  },
  {
   "cell_type": "code",
   "execution_count": 16,
   "metadata": {},
   "outputs": [
    {
     "name": "stdout",
     "output_type": "stream",
     "text": [
      "(0, 16) 0\n"
     ]
    }
   ],
   "source": [
    "print chain.shape, chain.shape[0]/n_walkers"
   ]
  },
  {
   "cell_type": "code",
   "execution_count": 17,
   "metadata": {},
   "outputs": [],
   "source": [
    "gal_type = f.attrs['sim']"
   ]
  },
  {
   "cell_type": "code",
   "execution_count": 18,
   "metadata": {
    "collapsed": true
   },
   "outputs": [],
   "source": [
    "chain_pnames = f.attrs['param_names']"
   ]
  },
  {
   "cell_type": "code",
   "execution_count": 19,
   "metadata": {},
   "outputs": [
    {
     "data": {
      "text/plain": [
       "array(['ombh2', 'omch2', 'w0', 'ns', 'ln10As', 'H0', 'Neff',\n",
       "       'mean_occupation_centrals_assembias_param1',\n",
       "       'mean_occupation_satellites_assembias_slope1', 'logM0',\n",
       "       'sigma_logM', 'mean_occupation_satellites_assembias_param1',\n",
       "       'mean_occupation_centrals_assembias_slope1', 'logM1', 'alpha',\n",
       "       'conc_gal_bias'], dtype='|S43')"
      ]
     },
     "execution_count": 19,
     "metadata": {},
     "output_type": "execute_result"
    }
   ],
   "source": [
    "chain_pnames"
   ]
  },
  {
   "cell_type": "code",
   "execution_count": 20,
   "metadata": {
    "collapsed": true
   },
   "outputs": [],
   "source": [
    "param_name_dict = {'ombh2': r'$\\Omega_b h^2$', 'omch2': r'$\\Omega_c h^2$','w0': r'$w_0$','ns': r'$n_s$', \\\n",
    "                   'ln10As': r'$\\ln(10A_s)$', 'H0': r'$H_0$','Neff': r'$N_{eff}$',\\\n",
    "               'mean_occupation_centrals_assembias_corr1': r'$\\rho_{cen}$',\\\n",
    "                 'mean_occupation_satellites_assembias_corr1':r'$\\rho_{sat}$',\\\n",
    "                   'mean_occupation_centrals_assembias_param1': r'$\\mathcal{A}_{cen}$',\\\n",
    "                 'mean_occupation_satellites_assembias_param1':r'$\\mathcal{A}_{sat}$',\\\n",
    "                   'logM1': r'$\\log(M_1)$','logM0': r'$\\log(M_0)$','sigma_logM': r'$\\sigma_{\\log M }$',\n",
    "                   'conc_gal_bias': r'$\\eta$', 'alpha':r'$\\alpha$' }"
   ]
  },
  {
   "cell_type": "code",
   "execution_count": 21,
   "metadata": {},
   "outputs": [
    {
     "ename": "KeyError",
     "evalue": "'mean_occupation_satellites_assembias_slope1'",
     "output_type": "error",
     "traceback": [
      "\u001b[0;31m\u001b[0m",
      "\u001b[0;31mKeyError\u001b[0mTraceback (most recent call last)",
      "\u001b[0;32m<ipython-input-21-8cb474022f7b>\u001b[0m in \u001b[0;36m<module>\u001b[0;34m()\u001b[0m\n\u001b[1;32m      6\u001b[0m         \u001b[0mcosmo_param_names\u001b[0m\u001b[0;34m.\u001b[0m\u001b[0mappend\u001b[0m\u001b[0;34m(\u001b[0m\u001b[0mparam_name_dict\u001b[0m\u001b[0;34m[\u001b[0m\u001b[0mpname\u001b[0m\u001b[0;34m]\u001b[0m\u001b[0;34m)\u001b[0m\u001b[0;34m\u001b[0m\u001b[0m\n\u001b[1;32m      7\u001b[0m     \u001b[0;32melse\u001b[0m\u001b[0;34m:\u001b[0m\u001b[0;34m\u001b[0m\u001b[0m\n\u001b[0;32m----> 8\u001b[0;31m         \u001b[0mhod_param_names\u001b[0m\u001b[0;34m.\u001b[0m\u001b[0mappend\u001b[0m\u001b[0;34m(\u001b[0m\u001b[0mparam_name_dict\u001b[0m\u001b[0;34m[\u001b[0m\u001b[0mpname\u001b[0m\u001b[0;34m]\u001b[0m\u001b[0;34m)\u001b[0m\u001b[0;34m\u001b[0m\u001b[0m\n\u001b[0m",
      "\u001b[0;31mKeyError\u001b[0m: 'mean_occupation_satellites_assembias_slope1'"
     ]
    }
   ],
   "source": [
    "hod_param_names = []\n",
    "cosmo_param_names = []\n",
    "cosmo_names = set(['ombh2', 'omch2', 'w0', 'ns', 'ln10As', 'H0', 'Neff'])\n",
    "for pname in chain_pnames:\n",
    "    if pname in cosmo_names:\n",
    "        cosmo_param_names.append(param_name_dict[pname])\n",
    "    else:\n",
    "        hod_param_names.append(param_name_dict[pname])"
   ]
  },
  {
   "cell_type": "code",
   "execution_count": null,
   "metadata": {
    "collapsed": true
   },
   "outputs": [],
   "source": [
    "f.close()"
   ]
  },
  {
   "cell_type": "code",
   "execution_count": null,
   "metadata": {},
   "outputs": [],
   "source": [
    "cosmo_param_names"
   ]
  },
  {
   "cell_type": "code",
   "execution_count": null,
   "metadata": {
    "collapsed": true
   },
   "outputs": [],
   "source": [
    "n_params = chain.shape[1] if len(chain.shape) > 1 else 1"
   ]
  },
  {
   "cell_type": "code",
   "execution_count": null,
   "metadata": {},
   "outputs": [],
   "source": [
    "MAP = chain.mean(axis = 0)\n",
    "print MAP"
   ]
  },
  {
   "cell_type": "code",
   "execution_count": null,
   "metadata": {
    "collapsed": true
   },
   "outputs": [],
   "source": [
    "hod_idxs = np.array(range(len(cosmo_param_names), len(cosmo_param_names)+len(hod_param_names)))\n",
    "cosmo_idxs = np.array(range(len(cosmo_param_names)))"
   ]
  },
  {
   "cell_type": "code",
   "execution_count": null,
   "metadata": {
    "collapsed": true
   },
   "outputs": [],
   "source": [
    "if chain.shape[1] == 7:\n",
    "    cosmo_chain = chain\n",
    "elif chain.shape[1] > 10:\n",
    "    hod_chain = chain[:,hod_idxs]\n",
    "    cosmo_chain = chain[:,cosmo_idxs]\n",
    "else:\n",
    "    hod_chain = chain"
   ]
  },
  {
   "cell_type": "code",
   "execution_count": null,
   "metadata": {
    "collapsed": true
   },
   "outputs": [],
   "source": [
    "if gal_type == 'HOD':\n",
    "    from pearce.mocks import cat_dict\n",
    "    cosmo_params = {'simname': sim_info['simname'], 'boxno': sim_info['sim_hps']['boxno'],\\\n",
    "                    'realization': sim_info['sim_hps']['realization'], 'scale_factors':[sim_info['scale_factor']],\\\n",
    "                    'system': sim_info['sim_hps']['system']}\n",
    "    cat = cat_dict[cosmo_params['simname']](**cosmo_params)#construct the specified catalog!\n",
    "    \n",
    "    cpv = cat._get_cosmo_param_names_vals()\n",
    "\n",
    "    cat_val_dict =  {key: val for key, val in zip(cpv[0], cpv[1])}\n",
    "    cosmo_true_vals = [cat_val_dict[pn] for pn in chain_pnames if pn in cat_val_dict]\n",
    "    \n",
    "    hod_params = sim_info['hod_params']\n",
    "    hod_true_vals = [hod_params[key] for key in chain_pnames if key in hod_params]\n",
    "    hod_true_vals.insert(0, 0)\n",
    "    hod_true_vals.insert(3, 0)\n",
    "    hod_true_vals.append(1.0)\n",
    "    #hod_true_vals = [MAP[idx] for idx, key in enumerate(chain_pnames) if key in hod_params]\n",
    "else: #SHAM\n",
    "    #cosmo_true_vals = [3.7,70.7317,-1.13151,0.12283, 3.11395,  0.953515,  0.021762]\n",
    "    #cosmo_true_vals = [0.046*0.7**2, (0.27-0.046)*0.7**2, -1, 0.95, 3.08511, 70, 3.04] \n",
    "    # multidark\n",
    "    cosmo_true_vals = np.array([0.02214, 0.1175, -1, 0.9676, 3.0819, 0.6881*100, 3.04]) #darksky\n",
    "    hod_true_vals = np.array([np.inf for p in hod_param_names])"
   ]
  },
  {
   "cell_type": "code",
   "execution_count": null,
   "metadata": {},
   "outputs": [],
   "source": [
    "corner(hod_chain, labels=hod_param_names,\n",
    "                       quantiles=[0.16, 0.5, 0.84],\n",
    "                        truths = hod_true_vals,\n",
    "                       #range = [emu.get_param_bounds(n) for n in hod_params],\n",
    "                       show_titles=True, title_kwargs={\"fontsize\": 12},\n",
    "                      plot_datapoints =False, plot_density = True);"
   ]
  },
  {
   "cell_type": "raw",
   "metadata": {},
   "source": [
    "cosmo_param_bounds = {'H0': (61.694719999999997, 74.76751999999999),\n",
    " 'Neff': (2.6212499999999999, 4.2787499999999996),\n",
    " 'ln10As': (3.0009000000000001, 3.179424),\n",
    " 'ns': (0.92784619999999995, 0.99744959999999994),\n",
    " 'ombh2': (0.02066455, 0.02371239),\n",
    " 'omch2': (0.10121810000000001, 0.13177679999999997),\n",
    " 'w0': (-1.399921, -0.56584860000000003)}"
   ]
  },
  {
   "cell_type": "code",
   "execution_count": null,
   "metadata": {},
   "outputs": [],
   "source": [
    "corner(cosmo_chain, labels=cosmo_param_names,\n",
    "                       quantiles=[0.13, 0.5, 0.86],\n",
    "                        truths = cosmo_true_vals,\n",
    "                       show_titles=True, title_kwargs={\"fontsize\": 12},\n",
    "                          plot_datapoints = False, plot_density = True);"
   ]
  },
  {
   "cell_type": "code",
   "execution_count": null,
   "metadata": {},
   "outputs": [],
   "source": [
    "l = cosmo_param_names\n",
    "l.extend(hod_param_names)\n",
    "corner(chain, \n",
    "       labels = l,\n",
    "       truths = np.hstack([cosmo_true_vals, hod_true_vals]),\n",
    "    quantiles=[0.16, 0.5, 0.84], show_titles=True,title_kwargs={\"fontsize\": 12},\n",
    "    plot_datapoints = False, plot_density = True);"
   ]
  },
  {
   "cell_type": "code",
   "execution_count": null,
   "metadata": {
    "collapsed": true
   },
   "outputs": [],
   "source": [
    "f.close()"
   ]
  },
  {
   "cell_type": "code",
   "execution_count": null,
   "metadata": {
    "collapsed": true
   },
   "outputs": [],
   "source": []
  },
  {
   "cell_type": "code",
   "execution_count": null,
   "metadata": {
    "collapsed": true
   },
   "outputs": [],
   "source": []
  }
 ],
 "metadata": {
  "kernelspec": {
   "display_name": "Python 2",
   "language": "python",
   "name": "python2"
  },
  "language_info": {
   "codemirror_mode": {
    "name": "ipython",
    "version": 2
   },
   "file_extension": ".py",
   "mimetype": "text/x-python",
   "name": "python",
   "nbconvert_exporter": "python",
   "pygments_lexer": "ipython2",
   "version": "2.7.13"
  }
 },
 "nbformat": 4,
 "nbformat_minor": 1
}

{
 "cells": [
  {
   "cell_type": "code",
   "execution_count": 1,
   "metadata": {
    "collapsed": true
   },
   "outputs": [],
   "source": [
    "import matplotlib\n",
    "#matplotlib.use('Agg')\n",
    "from matplotlib import pyplot as plt\n",
    "%matplotlib inline\n",
    "import seaborn as sns\n",
    "sns.set()"
   ]
  },
  {
   "cell_type": "code",
   "execution_count": 2,
   "metadata": {
    "collapsed": true
   },
   "outputs": [],
   "source": [
    "import numpy as np\n",
    "import h5py\n",
    "#from chainconsumer import ChainConsumer\n",
    "from corner import corner"
   ]
  },
  {
   "cell_type": "code",
   "execution_count": 3,
   "metadata": {},
   "outputs": [
    {
     "name": "stdout",
     "output_type": "stream",
     "text": [
      "-rw-r--r-- 1 swmclau2 kipac      12928 Jun  2 13:49 /scratch/users/swmclau2/PearceMCMC/HSAB_HOD_xi_gg_.hdf5\r\n",
      "-rw-r--r-- 1 swmclau2 kipac  285400697 Jun  2 14:57 /scratch/users/swmclau2/PearceMCMC/HOD_xi_gg_rmin_10.0_CorrAB.hdf5\r\n",
      "-rw-r--r-- 1 swmclau2 kipac  328324673 Jun  2 14:57 /scratch/users/swmclau2/PearceMCMC/VpeakSHAM_xi_gg_rmin_10.0_HSAB.hdf5\r\n",
      "-rw-r--r-- 1 swmclau2 kipac  325737318 Jun  2 14:57 /scratch/users/swmclau2/PearceMCMC/HOD_xi_gg_rmin_10.0_HSAB.hdf5\r\n",
      "-rw-r--r-- 1 swmclau2 kipac  305678919 Jun  2 14:58 /scratch/users/swmclau2/PearceMCMC/VpeakSHAM_xi_gg_rmin_10.0_CorrAB.hdf5\r\n",
      "-rw-r--r-- 1 swmclau2 kipac  342139483 Jun  2 14:58 /scratch/users/swmclau2/PearceMCMC/MpeakSHAM_xi_gg_rmin_10.0_HSAB.hdf5\r\n",
      "-rw-r--r-- 1 swmclau2 kipac  292621035 Jun  2 14:58 /scratch/users/swmclau2/PearceMCMC/HSAB_HOD_xi_gg_rmin_10.0_CorrAB.hdf5\r\n",
      "-rw-r--r-- 1 swmclau2 kipac  364872434 Jun  2 14:58 /scratch/users/swmclau2/PearceMCMC/MpeakSHAM_xi_gg_rmin_10.0_CorrAB.hdf5\r\n",
      "-rw-r--r-- 1 swmclau2 kipac  327401640 Jun  2 15:07 /scratch/users/swmclau2/PearceMCMC/HSAB_HOD_xi_gg_rmin_10.0_HSAB.hdf5\r\n",
      "-rw-r--r-- 1 swmclau2 kipac  337320701 Jun  6 12:32 /scratch/users/swmclau2/PearceMCMC/HOD_xi_gg_rmin_10.0_HOD.hdf5\r\n",
      "-rw-r--r-- 1 swmclau2 kipac  340263277 Jun  6 12:46 /scratch/users/swmclau2/PearceMCMC/HSAB_HOD_xi_gg_rmin_10.0_HOD.hdf5\r\n",
      "-rw-r--r-- 1 swmclau2 kipac  342659970 Jun  6 13:06 /scratch/users/swmclau2/PearceMCMC/MpeakSHAM_xi_gg_rmin_10.0_HOD.hdf5\r\n",
      "-rw-r--r-- 1 swmclau2 kipac  336074461 Jun  6 13:54 /scratch/users/swmclau2/PearceMCMC/VpeakSHAM_xi_gg_rmin_10.0_HOD.hdf5\r\n",
      "-rw-r--r-- 1 swmclau2 kipac   26931453 Jun  7 10:51 /scratch/users/swmclau2/PearceMCMC/MpeakSHAM_xi_gg_rmin_None_HSAB.hdf5\r\n",
      "-rw-r--r-- 1 swmclau2 kipac   36568873 Jun  7 10:52 /scratch/users/swmclau2/PearceMCMC/MpeakSHAM_xi_gg_rmin_0.5_HSAB.hdf5\r\n",
      "-rw-r--r-- 1 swmclau2 kipac   41739551 Jun  7 10:52 /scratch/users/swmclau2/PearceMCMC/MpeakSHAM_xi_gg_rmin_1.0_HSAB.hdf5\r\n",
      "-rw-r--r-- 1 swmclau2 kipac   46364502 Jun  7 10:53 /scratch/users/swmclau2/PearceMCMC/HSAB_HOD_xi_gg_rmin_1.0_HSAB.hdf5\r\n",
      "-rw-r--r-- 1 swmclau2 kipac   15204949 Jun  7 10:53 /scratch/users/swmclau2/PearceMCMC/VpeakSHAM_xi_gg_rmin_None_HSAB.hdf5\r\n",
      "-rw-r--r-- 1 swmclau2 kipac   33708448 Jun  7 10:53 /scratch/users/swmclau2/PearceMCMC/VpeakSHAM_xi_gg_rmin_1.0_HSAB.hdf5\r\n",
      "-rw-r--r-- 1 swmclau2 kipac   27814520 Jun  7 10:53 /scratch/users/swmclau2/PearceMCMC/HSAB_HOD_xi_gg_rmin_None_HSAB.hdf5\r\n",
      "-rw-r--r-- 1 swmclau2 kipac   31283126 Jun  7 10:54 /scratch/users/swmclau2/PearceMCMC/VpeakSHAM_xi_gg_rmin_0.5_HSAB.hdf5\r\n",
      "-rw-r--r-- 1 swmclau2 kipac  111913603 Jun 11 17:55 /scratch/users/swmclau2/PearceMCMC/HOD_xi_gg_rmin_None_HSAB.hdf5\r\n",
      "-rw-r--r-- 1 swmclau2 kipac 2384340700 Jun 11 17:55 /scratch/users/swmclau2/PearceMCMC/HOD_xi_gg_rmin_2.0_HSAB.hdf5\r\n",
      "-rw-r--r-- 1 swmclau2 kipac 1437396895 Jun 11 17:56 /scratch/users/swmclau2/PearceMCMC/HSAB_HOD_xi_gg_rmin_0.5_HSAB.hdf5\r\n",
      "-rw-r--r-- 1 swmclau2 kipac 1508260827 Jun 11 17:56 /scratch/users/swmclau2/PearceMCMC/HOD_xi_gg_rmin_0.5_HSAB.hdf5\r\n",
      "-rw-r--r-- 1 swmclau2 kipac 2194767381 Jun 11 17:56 /scratch/users/swmclau2/PearceMCMC/HOD_xi_gg_rmin_1.0_HSAB.hdf5\r\n",
      "-rw-r--r-- 1 swmclau2 kipac 2735912479 Jun 11 21:36 /scratch/users/swmclau2/PearceMCMC/HOD_xi_gg_rmin_2.0_CorrAB.hdf5\r\n",
      "-rw-r--r-- 1 swmclau2 kipac 3538624396 Jun 11 22:10 /scratch/users/swmclau2/PearceMCMC/HOD_xi_gg_rmin_2.0_HOD.hdf5\r\n",
      "-rw-r--r-- 1 swmclau2 kipac 3642786611 Jun 12 00:05 /scratch/users/swmclau2/PearceMCMC/HSAB_HOD_xi_gg_rmin_1.0_CorrAB.hdf5\r\n",
      "-rw-r--r-- 1 swmclau2 kipac 3466889202 Jun 12 00:08 /scratch/users/swmclau2/PearceMCMC/HOD_xi_gg_rmin_1.0_HOD.hdf5\r\n",
      "-rw-r--r-- 1 swmclau2 kipac 3658561936 Jun 12 01:04 /scratch/users/swmclau2/PearceMCMC/HOD_xi_gg_rmin_1.0_CorrAB.hdf5\r\n",
      "-rw-r--r-- 1 swmclau2 kipac 3560943208 Jun 12 01:28 /scratch/users/swmclau2/PearceMCMC/HOD_xi_gg_rmin_0.5_CorrAB.hdf5\r\n",
      "-rw-r--r-- 1 swmclau2 kipac 3374227683 Jun 12 03:52 /scratch/users/swmclau2/PearceMCMC/HOD_xi_gg_rmin_0.5_HOD.hdf5\r\n",
      "-rw-r--r-- 1 swmclau2 kipac  718494533 Jun 12 04:51 /scratch/users/swmclau2/PearceMCMC/MpeakSHAM_xi_gg_rmin_None_HOD.hdf5\r\n",
      "-rw-r--r-- 1 swmclau2 kipac 1369387649 Jun 12 04:51 /scratch/users/swmclau2/PearceMCMC/VpeakSHAM_xi_gg_rmin_0.5_CorrAB.hdf5\r\n",
      "-rw-r--r-- 1 swmclau2 kipac  814208841 Jun 12 04:52 /scratch/users/swmclau2/PearceMCMC/HSAB_HOD_xi_gg_rmin_None_HOD.hdf5\r\n",
      "-rw-r--r-- 1 swmclau2 kipac 1347859762 Jun 12 04:52 /scratch/users/swmclau2/PearceMCMC/VpeakSHAM_xi_gg_rmin_1.0_CorrAB.hdf5\r\n",
      "-rw-r--r-- 1 swmclau2 kipac 1737184654 Jun 12 04:52 /scratch/users/swmclau2/PearceMCMC/HSAB_HOD_xi_gg_rmin_2.0_CorrAB.hdf5\r\n",
      "-rw-r--r-- 1 swmclau2 kipac 2082038368 Jun 12 04:52 /scratch/users/swmclau2/PearceMCMC/HOD_xi_gg_rmin_None_CorrAB.hdf5\r\n",
      "-rw-r--r-- 1 swmclau2 kipac 1396123127 Jun 12 04:52 /scratch/users/swmclau2/PearceMCMC/MpeakSHAM_xi_gg_rmin_0.5_CorrAB.hdf5\r\n",
      "-rw-r--r-- 1 swmclau2 kipac  795966014 Jun 12 04:52 /scratch/users/swmclau2/PearceMCMC/MpeakSHAM_xi_gg_rmin_None_CorrAB.hdf5\r\n",
      "-rw-r--r-- 1 swmclau2 kipac 2292740029 Jun 12 04:52 /scratch/users/swmclau2/PearceMCMC/HSAB_HOD_xi_gg_rmin_2.0_HOD.hdf5\r\n",
      "-rw-r--r-- 1 swmclau2 kipac 3016765252 Jun 12 04:52 /scratch/users/swmclau2/PearceMCMC/HSAB_HOD_xi_gg_rmin_0.5_HOD.hdf5\r\n",
      "-rw-r--r-- 1 swmclau2 kipac  371237901 Jun 12 04:52 /scratch/users/swmclau2/PearceMCMC/VpeakSHAM_xi_gg_rmin_None_CorrAB.hdf5\r\n",
      "-rw-r--r-- 1 swmclau2 kipac 1703176374 Jun 12 04:52 /scratch/users/swmclau2/PearceMCMC/VpeakSHAM_xi_gg_rmin_2.0_HOD.hdf5\r\n",
      "-rw-r--r-- 1 swmclau2 kipac  264009451 Jun 12 04:52 /scratch/users/swmclau2/PearceMCMC/VpeakSHAM_xi_gg_rmin_None_HOD.hdf5\r\n",
      "-rw-r--r-- 1 swmclau2 kipac 1448301160 Jun 12 04:52 /scratch/users/swmclau2/PearceMCMC/MpeakSHAM_xi_gg_rmin_0.5_HOD.hdf5\r\n",
      "-rw-r--r-- 1 swmclau2 kipac 1940236229 Jun 12 04:52 /scratch/users/swmclau2/PearceMCMC/MpeakSHAM_xi_gg_rmin_1.0_CorrAB.hdf5\r\n",
      "-rw-r--r-- 1 swmclau2 kipac  802202764 Jun 12 04:52 /scratch/users/swmclau2/PearceMCMC/HSAB_HOD_xi_gg_rmin_None_CorrAB.hdf5\r\n",
      "-rw-r--r-- 1 swmclau2 kipac 2382009629 Jun 12 04:52 /scratch/users/swmclau2/PearceMCMC/HOD_xi_gg_rmin_None_HOD.hdf5\r\n",
      "-rw-r--r-- 1 swmclau2 kipac 2002987023 Jun 12 04:52 /scratch/users/swmclau2/PearceMCMC/MpeakSHAM_xi_gg_rmin_2.0_CorrAB.hdf5\r\n",
      "-rw-r--r-- 1 swmclau2 kipac 2945196383 Jun 12 04:52 /scratch/users/swmclau2/PearceMCMC/HSAB_HOD_xi_gg_rmin_0.5_CorrAB.hdf5\r\n",
      "-rw-r--r-- 1 swmclau2 kipac 1063808144 Jun 12 04:52 /scratch/users/swmclau2/PearceMCMC/VpeakSHAM_xi_gg_rmin_0.5_HOD.hdf5\r\n",
      "-rw-r--r-- 1 swmclau2 kipac 2030328956 Jun 12 04:52 /scratch/users/swmclau2/PearceMCMC/MpeakSHAM_xi_gg_rmin_2.0_HOD.hdf5\r\n",
      "-rw-r--r-- 1 swmclau2 kipac 1479978641 Jun 12 04:52 /scratch/users/swmclau2/PearceMCMC/MpeakSHAM_xi_gg_rmin_1.0_HOD.hdf5\r\n",
      "-rw-r--r-- 1 swmclau2 kipac 1169629066 Jun 12 04:52 /scratch/users/swmclau2/PearceMCMC/HSAB_HOD_xi_gg_rmin_1.0_HOD.hdf5\r\n",
      "-rw-r--r-- 1 swmclau2 kipac 1423145702 Jun 12 04:52 /scratch/users/swmclau2/PearceMCMC/VpeakSHAM_xi_gg_rmin_2.0_CorrAB.hdf5\r\n",
      "-rw-r--r-- 1 swmclau2 kipac 1375883222 Jun 12 04:52 /scratch/users/swmclau2/PearceMCMC/VpeakSHAM_xi_gg_rmin_1.0_HOD.hdf5\r\n",
      "-rw-r--r-- 1 swmclau2 kipac       6240 Jun 12 08:28 /scratch/users/swmclau2/PearceMCMC/VpeakSHAM_xi_gg_rmin_0.5_HOD_v2.hdf5\r\n",
      "-rw-r--r-- 1 swmclau2 kipac       6240 Jun 12 08:28 /scratch/users/swmclau2/PearceMCMC/VpeakSHAM_xi_gg_rmin_0.5_CorrAB_v2.hdf5\r\n",
      "-rw-r--r-- 1 swmclau2 kipac       6240 Jun 12 08:34 /scratch/users/swmclau2/PearceMCMC/VpeakSHAM_xi_gg_rmin_1.0_HOD_v2.hdf5\r\n",
      "-rw-r--r-- 1 swmclau2 kipac       6240 Jun 12 08:34 /scratch/users/swmclau2/PearceMCMC/VpeakSHAM_xi_gg_rmin_1.0_CorrAB_v2.hdf5\r\n",
      "-rw-r--r-- 1 swmclau2 kipac       6240 Jun 12 08:41 /scratch/users/swmclau2/PearceMCMC/VpeakSHAM_xi_gg_rmin_2.0_CorrAB_v2.hdf5\r\n",
      "-rw-r--r-- 1 swmclau2 kipac       6240 Jun 12 08:42 /scratch/users/swmclau2/PearceMCMC/VpeakSHAM_xi_gg_rmin_2.0_HOD_v2.hdf5\r\n",
      "-rw-r--r-- 1 swmclau2 kipac       6240 Jun 12 08:58 /scratch/users/swmclau2/PearceMCMC/VpeakSHAM_xi_gg_rmin_None_CorrAB_v2.hdf5\r\n",
      "-rw-r--r-- 1 swmclau2 kipac       6240 Jun 12 08:58 /scratch/users/swmclau2/PearceMCMC/VpeakSHAM_xi_gg_rmin_None_HOD_v2.hdf5\r\n",
      "-rw-r--r-- 1 swmclau2 kipac 1344304071 Jun 12 16:57 /scratch/users/swmclau2/PearceMCMC/HOD_xi_gg_rmin_0.5_CorrAB_v2.hdf5\r\n",
      "-rw-r--r-- 1 swmclau2 kipac 1453132184 Jun 12 16:58 /scratch/users/swmclau2/PearceMCMC/HOD_xi_gg_rmin_1.0_CorrAB_v2.hdf5\r\n",
      "-rw-r--r-- 1 swmclau2 kipac 2074043522 Jun 12 16:58 /scratch/users/swmclau2/PearceMCMC/HOD_xi_gg_rmin_0.5_HOD_v2.hdf5\r\n",
      "-rw-r--r-- 1 swmclau2 kipac 2919452348 Jun 12 16:58 /scratch/users/swmclau2/PearceMCMC/HOD_xi_gg_rmin_2.0_HOD_v2.hdf5\r\n",
      "-rw-r--r-- 1 swmclau2 kipac  617577962 Jun 12 16:58 /scratch/users/swmclau2/PearceMCMC/HOD_xi_gg_rmin_None_CorrAB_v2.hdf5\r\n",
      "-rw-r--r-- 1 swmclau2 kipac 1750376407 Jun 12 16:58 /scratch/users/swmclau2/PearceMCMC/HOD_xi_gg_rmin_1.0_HOD_v2.hdf5\r\n",
      "-rw-r--r-- 1 swmclau2 kipac 1825598986 Jun 12 16:59 /scratch/users/swmclau2/PearceMCMC/HOD_xi_gg_rmin_2.0_CorrAB_v2.hdf5\r\n",
      "-rw-r--r-- 1 swmclau2 kipac 1393456558 Jun 12 16:59 /scratch/users/swmclau2/PearceMCMC/HOD_xi_gg_rmin_None_HOD_v2.hdf5\r\n",
      "-rw-r--r-- 1 swmclau2 kipac  806004180 Jun 13 07:06 /scratch/users/swmclau2/PearceMCMC/HOD_xi_gg_rmin_2.0_HOD_v3.hdf5\r\n",
      "-rw-r--r-- 1 swmclau2 kipac  776206504 Jun 13 07:51 /scratch/users/swmclau2/PearceMCMC/VpeakSHAM_xi_gg_rmin_1.0_HOD_v3.hdf5\r\n",
      "-rw-r--r-- 1 swmclau2 kipac  577768256 Jun 13 07:51 /scratch/users/swmclau2/PearceMCMC/HOD_xi_gg_rmin_None_HOD_v3.hdf5\r\n",
      "-rw-r--r-- 1 swmclau2 kipac  643968778 Jun 13 07:51 /scratch/users/swmclau2/PearceMCMC/VpeakSHAM_xi_gg_rmin_0.5_HOD_v3.hdf5\r\n",
      "-rw-r--r-- 1 swmclau2 kipac  699639129 Jun 13 07:51 /scratch/users/swmclau2/PearceMCMC/HOD_xi_gg_rmin_0.5_HOD_v3.hdf5\r\n",
      "-rw-r--r-- 1 swmclau2 kipac  786967009 Jun 13 07:51 /scratch/users/swmclau2/PearceMCMC/HOD_xi_gg_rmin_1.0_HOD_v3.hdf5\r\n",
      "-rw-r--r-- 1 swmclau2 kipac  461466157 Jun 13 07:51 /scratch/users/swmclau2/PearceMCMC/VpeakSHAM_xi_gg_rmin_None_HOD_v3.hdf5\r\n",
      "-rw-r--r-- 1 swmclau2 kipac 1125078500 Jun 13 14:57 /scratch/users/swmclau2/PearceMCMC/HOD_xi_gg_rmin_2.0_CorrAB_v3.hdf5\r\n",
      "-rw-r--r-- 1 swmclau2 kipac 1170555733 Jun 13 15:42 /scratch/users/swmclau2/PearceMCMC/HOD_xi_gg_rmin_2.0_HSAB_v3.hdf5\r\n",
      "-rw-r--r-- 1 swmclau2 kipac  769131640 Jun 13 15:43 /scratch/users/swmclau2/PearceMCMC/HOD_xi_gg_rmin_0.5_CorrAB_v4.hdf5\r\n",
      "-rw-r--r-- 1 swmclau2 kipac  435279569 Jun 13 15:43 /scratch/users/swmclau2/PearceMCMC/HOD_xi_gg_rmin_None_CorrAB_v4.hdf5\r\n",
      "-rw-r--r-- 1 swmclau2 kipac  766721633 Jun 13 15:43 /scratch/users/swmclau2/PearceMCMC/VpeakSHAM_xi_gg_rmin_1.0_CorrAB_v4.hdf5\r\n",
      "-rw-r--r-- 1 swmclau2 kipac 1092650062 Jun 13 15:43 /scratch/users/swmclau2/PearceMCMC/HOD_xi_gg_rmin_1.0_CorrAB_v3.hdf5\r\n",
      "-rw-r--r-- 1 swmclau2 kipac  659839957 Jun 13 15:43 /scratch/users/swmclau2/PearceMCMC/VpeakSHAM_xi_gg_rmin_0.5_CorrAB_v4.hdf5\r\n",
      "-rw-r--r-- 1 swmclau2 kipac  908384577 Jun 13 15:43 /scratch/users/swmclau2/PearceMCMC/HOD_xi_gg_rmin_0.5_HSAB_v3.hdf5\r\n",
      "-rw-r--r-- 1 swmclau2 kipac  812173800 Jun 13 15:43 /scratch/users/swmclau2/PearceMCMC/VpeakSHAM_xi_gg_rmin_1.0_HSAB_v4.hdf5\r\n",
      "-rw-r--r-- 1 swmclau2 kipac 1021833185 Jun 13 15:43 /scratch/users/swmclau2/PearceMCMC/HOD_xi_gg_rmin_1.0_HSAB_v3.hdf5\r\n",
      "-rw-r--r-- 1 swmclau2 kipac  653671601 Jun 13 15:43 /scratch/users/swmclau2/PearceMCMC/HOD_xi_gg_rmin_None_HSAB_v3.hdf5\r\n",
      "-rw-r--r-- 1 swmclau2 kipac 1081605854 Jun 13 15:43 /scratch/users/swmclau2/PearceMCMC/HOD_xi_gg_rmin_1.0_HSAB_v4.hdf5\r\n",
      "-rw-r--r-- 1 swmclau2 kipac  278821626 Jun 13 15:44 /scratch/users/swmclau2/PearceMCMC/VpeakSHAM_xi_gg_rmin_None_HSAB_v4.hdf5\r\n",
      "-rw-r--r-- 1 swmclau2 kipac  778320570 Jun 13 15:44 /scratch/users/swmclau2/PearceMCMC/HOD_xi_gg_rmin_0.5_HSAB_v4.hdf5\r\n",
      "-rw-r--r-- 1 swmclau2 kipac 1004009473 Jun 13 15:44 /scratch/users/swmclau2/PearceMCMC/HOD_xi_gg_rmin_1.0_CorrAB_v4.hdf5\r\n",
      "-rw-r--r-- 1 swmclau2 kipac  702955843 Jun 13 15:44 /scratch/users/swmclau2/PearceMCMC/VpeakSHAM_xi_gg_rmin_0.5_HSAB_v4.hdf5\r\n",
      "-rw-r--r-- 1 swmclau2 kipac  658808978 Jun 13 15:44 /scratch/users/swmclau2/PearceMCMC/HOD_xi_gg_rmin_None_CorrAB_v3.hdf5\r\n",
      "-rw-r--r-- 1 swmclau2 kipac 1059698213 Jun 13 15:44 /scratch/users/swmclau2/PearceMCMC/HOD_xi_gg_rmin_0.5_CorrAB_v3.hdf5\r\n",
      "-rw-r--r-- 1 swmclau2 kipac  497181254 Jun 13 15:44 /scratch/users/swmclau2/PearceMCMC/HOD_xi_gg_rmin_None_HSAB_v4.hdf5\r\n",
      "-rw-r--r-- 1 swmclau2 kipac  334289190 Jun 13 15:44 /scratch/users/swmclau2/PearceMCMC/VpeakSHAM_xi_gg_rmin_None_CorrAB_v4.hdf5\r\n",
      "-rw-r--r-- 1 swmclau2 kipac  952909631 Jun 14 00:01 /scratch/users/swmclau2/PearceMCMC/VpeakSHAM_xi_gg_rmin_1.0_CorrAB_v3.hdf5\r\n",
      "-rw-r--r-- 1 swmclau2 kipac 1310615751 Jun 14 00:14 /scratch/users/swmclau2/PearceMCMC/VpeakSHAM_xi_gg_rmin_1.0_HSAB_v3.hdf5\r\n",
      "-rw-r--r-- 1 swmclau2 kipac  933098745 Jun 14 00:57 /scratch/users/swmclau2/PearceMCMC/VpeakSHAM_xi_gg_rmin_0.5_CorrAB_v3.hdf5\r\n",
      "-rw-r--r-- 1 swmclau2 kipac 1033167529 Jun 14 01:21 /scratch/users/swmclau2/PearceMCMC/VpeakSHAM_xi_gg_rmin_0.5_HSAB_v3.hdf5\r\n",
      "-rw-r--r-- 1 swmclau2 kipac  813714002 Jun 14 03:12 /scratch/users/swmclau2/PearceMCMC/VpeakSHAM_xi_gg_rmin_None_HSAB_v3.hdf5\r\n",
      "-rw-r--r-- 1 swmclau2 kipac  991939186 Jun 14 04:32 /scratch/users/swmclau2/PearceMCMC/VpeakSHAM_xi_gg_rmin_None_CorrAB_v3.hdf5\r\n",
      "-rw-r--r-- 1 swmclau2 kipac 1208049742 Sep 19 14:53 /scratch/users/swmclau2/PearceMCMC/HOD_xi_gg_rmin_1.0_HSAB_v5.hdf5\r\n",
      "-rw-r--r-- 1 swmclau2 kipac 1145288138 Sep 19 15:22 /scratch/users/swmclau2/PearceMCMC/HOD_xi_gg_rmin_0.5_CorrAB_v5.hdf5\r\n",
      "-rw-r--r-- 1 swmclau2 kipac 1239712309 Sep 19 16:08 /scratch/users/swmclau2/PearceMCMC/HOD_xi_gg_rmin_0.5_HSAB_v5.hdf5\r\n",
      "-rw-r--r-- 1 swmclau2 kipac  921541166 Sep 19 16:13 /scratch/users/swmclau2/PearceMCMC/HOD_xi_gg_rmin_0.5_HOD_v5.hdf5\r\n",
      "-rw-r--r-- 1 swmclau2 kipac 1143493328 Sep 19 17:16 /scratch/users/swmclau2/PearceMCMC/VpeakSHAM_xi_gg_rmin_0.5_CorrAB_v5.hdf5\r\n",
      "-rw-r--r-- 1 swmclau2 kipac 1248866539 Sep 19 17:27 /scratch/users/swmclau2/PearceMCMC/HOD_xi_gg_rmin_None_CorrAB_v5.hdf5\r\n",
      "-rw-r--r-- 1 swmclau2 kipac  333069160 Sep 19 18:41 /scratch/users/swmclau2/PearceMCMC/HOD_xi_gg_rmin_1.0_CorrAB_v5.hdf5\r\n",
      "-rw-r--r-- 1 swmclau2 kipac  406868530 Sep 19 18:41 /scratch/users/swmclau2/PearceMCMC/HOD_xi_gg_rmin_None_HOD_v5.hdf5\r\n",
      "-rw-r--r-- 1 swmclau2 kipac  585863474 Sep 19 18:41 /scratch/users/swmclau2/PearceMCMC/VpeakSHAM_xi_gg_rmin_0.5_HOD_v5.hdf5\r\n",
      "-rw-r--r-- 1 swmclau2 kipac  231843017 Sep 19 18:41 /scratch/users/swmclau2/PearceMCMC/HOD_xi_gg_rmin_1.0_HOD_v5.hdf5\r\n",
      "-rw-r--r-- 1 swmclau2 kipac  150974657 Sep 19 18:42 /scratch/users/swmclau2/PearceMCMC/HOD_xi_gg_rmin_None_HSAB_v5.hdf5\r\n",
      "-rw-r--r-- 1 swmclau2 kipac 1174881959 Sep 19 19:49 /scratch/users/swmclau2/PearceMCMC/VpeakSHAM_xi_gg_rmin_1.0_CorrAB_v5.hdf5\r\n",
      "-rw-r--r-- 1 swmclau2 kipac 1219072929 Sep 19 20:03 /scratch/users/swmclau2/PearceMCMC/VpeakSHAM_xi_gg_rmin_0.5_HSAB_v5.hdf5\r\n",
      "-rw-r--r-- 1 swmclau2 kipac  906854796 Sep 19 21:05 /scratch/users/swmclau2/PearceMCMC/VpeakSHAM_xi_gg_rmin_1.0_HOD_v5.hdf5\r\n",
      "-rw-r--r-- 1 swmclau2 kipac 1228869884 Sep 19 21:06 /scratch/users/swmclau2/PearceMCMC/VpeakSHAM_xi_gg_rmin_1.0_HSAB_v5.hdf5\r\n",
      "-rw-r--r-- 1 swmclau2 kipac  956947652 Sep 20 01:05 /scratch/users/swmclau2/PearceMCMC/VpeakSHAM_xi_gg_rmin_None_HOD_v5.hdf5\r\n",
      "-rw-r--r-- 1 swmclau2 kipac 1086173831 Sep 20 01:16 /scratch/users/swmclau2/PearceMCMC/VpeakSHAM_xi_gg_rmin_None_CorrAB_v5.hdf5\r\n",
      "-rw-r--r-- 1 swmclau2 kipac 1281898136 Sep 20 02:14 /scratch/users/swmclau2/PearceMCMC/VpeakSHAM_xi_gg_rmin_None_HSAB_v5.hdf5\r\n"
     ]
    }
   ],
   "source": [
    "! ls -ltr /scratch/users/swmclau2/PearceMCMC/*.hdf5"
   ]
  },
  {
   "cell_type": "code",
   "execution_count": 4,
   "metadata": {
    "collapsed": true
   },
   "outputs": [],
   "source": [
    "#fname = '/scratch/users/swmclau2/PearceMCMC/500_walkers_10000_steps_chain_cosmo_zheng_xi_lowmsat.npy'\n",
    "fname = '/scratch/users/swmclau2/PearceMCMC/VpeakSHAM_xi_gg_rmin_1.0_HOD_v5.hdf5'"
   ]
  },
  {
   "cell_type": "code",
   "execution_count": 5,
   "metadata": {
    "collapsed": true
   },
   "outputs": [],
   "source": [
    "f = h5py.File(fname, 'r')"
   ]
  },
  {
   "cell_type": "code",
   "execution_count": 6,
   "metadata": {},
   "outputs": [
    {
     "data": {
      "text/plain": [
       "[u'emu_type',\n",
       " u'training_file',\n",
       " u'fixed_params',\n",
       " u'emu_hps',\n",
       " u'true_data_fname',\n",
       " u'true_cov_fname',\n",
       " u'sim',\n",
       " u'obs',\n",
       " u'cov',\n",
       " u'nsteps',\n",
       " u'param_names',\n",
       " u'nwalkers',\n",
       " u'nburn',\n",
       " u'seed',\n",
       " u'chain_fixed_params']"
      ]
     },
     "execution_count": 6,
     "metadata": {},
     "output_type": "execute_result"
    }
   ],
   "source": [
    "f.attrs.keys()"
   ]
  },
  {
   "cell_type": "code",
   "execution_count": 7,
   "metadata": {
    "collapsed": true
   },
   "outputs": [],
   "source": [
    "from ast import literal_eval"
   ]
  },
  {
   "cell_type": "raw",
   "metadata": {},
   "source": [
    "#from pearce.emulator import NashvilleHot\n",
    "#tf = f.attrs['training_file']\n",
    "#fixed_params = literal_eval(f.attrs['fixed_params'])\n",
    "#emu_hps = literal_eval(f.attrs['emu_hps'])\n",
    "#emu = NashvilleHot(tf, fixed_params = fixed_params, **emu_hps)"
   ]
  },
  {
   "cell_type": "code",
   "execution_count": 8,
   "metadata": {},
   "outputs": [
    {
     "data": {
      "text/plain": [
       "[u'chain', u'cov', u'data', u'lnprob']"
      ]
     },
     "execution_count": 8,
     "metadata": {},
     "output_type": "execute_result"
    }
   ],
   "source": [
    "f.keys()"
   ]
  },
  {
   "cell_type": "code",
   "execution_count": 9,
   "metadata": {
    "collapsed": true
   },
   "outputs": [],
   "source": [
    "n_walkers = f.attrs['nwalkers']"
   ]
  },
  {
   "cell_type": "code",
   "execution_count": 10,
   "metadata": {},
   "outputs": [
    {
     "name": "stdout",
     "output_type": "stream",
     "text": [
      "500\n"
     ]
    }
   ],
   "source": [
    "print n_walkers"
   ]
  },
  {
   "cell_type": "code",
   "execution_count": 11,
   "metadata": {},
   "outputs": [
    {
     "data": {
      "text/plain": [
       "[u'chain', u'cov', u'data', u'lnprob']"
      ]
     },
     "execution_count": 11,
     "metadata": {},
     "output_type": "execute_result"
    }
   ],
   "source": [
    "f.keys()"
   ]
  },
  {
   "cell_type": "code",
   "execution_count": 12,
   "metadata": {
    "collapsed": true
   },
   "outputs": [],
   "source": [
    "sim_info = literal_eval(f.attrs['sim'])"
   ]
  },
  {
   "cell_type": "code",
   "execution_count": 13,
   "metadata": {
    "collapsed": true
   },
   "outputs": [],
   "source": [
    "n_burn = 500\n",
    "n_samples = 1000\n",
    "chain = f['chain'][n_burn*n_walkers:n_walkers*(n_samples+n_burn)]"
   ]
  },
  {
   "cell_type": "code",
   "execution_count": 14,
   "metadata": {
    "collapsed": true
   },
   "outputs": [],
   "source": [
    "chain = chain[np.all(chain!=0.0, axis = 1), :]"
   ]
  },
  {
   "cell_type": "code",
   "execution_count": 15,
   "metadata": {},
   "outputs": [
    {
     "name": "stdout",
     "output_type": "stream",
     "text": [
      "(500000, 12) 1000\n"
     ]
    }
   ],
   "source": [
    "print chain.shape, chain.shape[0]/n_walkers"
   ]
  },
  {
   "cell_type": "code",
   "execution_count": 16,
   "metadata": {
    "collapsed": true
   },
   "outputs": [],
   "source": [
    "gal_type = literal_eval(f.attrs['sim'])['gal_type']"
   ]
  },
  {
   "cell_type": "code",
   "execution_count": 17,
   "metadata": {
    "collapsed": true
   },
   "outputs": [],
   "source": [
    "chain_pnames = f.attrs['param_names']"
   ]
  },
  {
   "cell_type": "code",
   "execution_count": 18,
   "metadata": {},
   "outputs": [
    {
     "data": {
      "text/plain": [
       "array(['ombh2', 'omch2', 'w0', 'ns', 'ln10As', 'H0', 'Neff', 'logM1',\n",
       "       'logM0', 'sigma_logM', 'alpha', 'conc_gal_bias'], \n",
       "      dtype='|S13')"
      ]
     },
     "execution_count": 18,
     "metadata": {},
     "output_type": "execute_result"
    }
   ],
   "source": [
    "chain_pnames"
   ]
  },
  {
   "cell_type": "code",
   "execution_count": 19,
   "metadata": {
    "collapsed": true
   },
   "outputs": [],
   "source": [
    "param_name_dict = {'ombh2': r'$\\Omega_b h^2$', 'omch2': r'$\\Omega_c h^2$','w0': r'$w_0$','ns': r'$n_s$', \\\n",
    "                   'ln10As': r'$\\ln(10A_s)$', 'H0': r'$H_0$','Neff': r'$N_{eff}$',\\\n",
    "               'mean_occupation_centrals_assembias_corr1': r'$\\rho_{cen}$',\\\n",
    "                 'mean_occupation_satellites_assembias_corr1':r'$\\rho_{sat}$',\\\n",
    "                   'mean_occupation_centrals_assembias_param1': r'$\\mathcal{A}_{cen}$',\\\n",
    "                 'mean_occupation_satellites_assembias_param1':r'$\\mathcal{A}_{sat}$',\\\n",
    "                   'logM1': r'$\\log(M_1)$','logM0': r'$\\log(M_0)$','sigma_logM': r'$\\sigma_{\\log M }$',\n",
    "                   'conc_gal_bias': r'$\\eta$', 'alpha':r'$\\alpha$' }"
   ]
  },
  {
   "cell_type": "code",
   "execution_count": 20,
   "metadata": {
    "collapsed": true
   },
   "outputs": [],
   "source": [
    "hod_param_names = []\n",
    "cosmo_param_names = []\n",
    "cosmo_names = set(['ombh2', 'omch2', 'w0', 'ns', 'ln10As', 'H0', 'Neff'])\n",
    "for pname in chain_pnames:\n",
    "    if pname in cosmo_names:\n",
    "        cosmo_param_names.append(param_name_dict[pname])\n",
    "    else:\n",
    "        hod_param_names.append(param_name_dict[pname])"
   ]
  },
  {
   "cell_type": "code",
   "execution_count": 21,
   "metadata": {
    "collapsed": true
   },
   "outputs": [],
   "source": [
    "f.close()"
   ]
  },
  {
   "cell_type": "code",
   "execution_count": 22,
   "metadata": {},
   "outputs": [
    {
     "data": {
      "text/plain": [
       "['$\\\\Omega_b h^2$',\n",
       " '$\\\\Omega_c h^2$',\n",
       " '$w_0$',\n",
       " '$n_s$',\n",
       " '$\\\\ln(10A_s)$',\n",
       " '$H_0$',\n",
       " '$N_{eff}$']"
      ]
     },
     "execution_count": 22,
     "metadata": {},
     "output_type": "execute_result"
    }
   ],
   "source": [
    "cosmo_param_names"
   ]
  },
  {
   "cell_type": "code",
   "execution_count": null,
   "metadata": {
    "collapsed": true
   },
   "outputs": [],
   "source": [
    "n_params = chain.shape[1] if len(chain.shape) > 1 else 1"
   ]
  },
  {
   "cell_type": "code",
   "execution_count": null,
   "metadata": {
    "collapsed": true
   },
   "outputs": [],
   "source": [
    "MAP = chain.mean(axis = 0)\n",
    "print MAP"
   ]
  },
  {
   "cell_type": "code",
   "execution_count": null,
   "metadata": {
    "collapsed": true
   },
   "outputs": [],
   "source": [
    "hod_idxs = np.array(range(len(cosmo_param_names), len(cosmo_param_names)+len(hod_param_names)))\n",
    "cosmo_idxs = np.array(range(len(cosmo_param_names)))"
   ]
  },
  {
   "cell_type": "code",
   "execution_count": null,
   "metadata": {
    "collapsed": true
   },
   "outputs": [],
   "source": [
    "if chain.shape[1] == 7:\n",
    "    cosmo_chain = chain\n",
    "else:\n",
    "    hod_chain = chain[:,hod_idxs]\n",
    "    cosmo_chain = chain[:,cosmo_idxs]"
   ]
  },
  {
   "cell_type": "code",
   "execution_count": null,
   "metadata": {
    "collapsed": true
   },
   "outputs": [],
   "source": [
    "if gal_type == 'HOD':\n",
    "    from pearce.mocks import cat_dict\n",
    "    cosmo_params = {'simname': sim_info['simname'], 'boxno': sim_info['sim_hps']['boxno'],\\\n",
    "                    'realization': sim_info['sim_hps']['realization'], 'scale_factors':[sim_info['scale_factor']],\\\n",
    "                    'system': sim_info['sim_hps']['system']}\n",
    "    cat = cat_dict[cosmo_params['simname']](**cosmo_params)#construct the specified catalog!\n",
    "    \n",
    "    cpv = cat._get_cosmo_param_names_vals()\n",
    "\n",
    "    cat_val_dict =  {key: val for key, val in zip(cpv[0], cpv[1])}\n",
    "    cosmo_true_vals = [cat_val_dict[pn] for pn in chain_pnames if pn in cat_val_dict]\n",
    "    \n",
    "    hod_params = sim_info['hod_params']\n",
    "    hod_true_vals = [hod_params[key] for key in chain_pnames if key in hod_params]\n",
    "    hod_true_vals.insert(0, 0)\n",
    "    hod_true_vals.insert(3, 0)\n",
    "    hod_true_vals.append(1.0)\n",
    "    #hod_true_vals = [MAP[idx] for idx, key in enumerate(chain_pnames) if key in hod_params]\n",
    "else: #SHAM\n",
    "    #cosmo_true_vals = [3.7,70.7317,-1.13151,0.12283, 3.11395,  0.953515,  0.021762]\n",
    "    #cosmo_true_vals = [0.046*0.7**2, (0.27-0.046)*0.7**2, -1, 0.95, 3.08511, 70, 3.04] \n",
    "    # multidark\n",
    "    cosmo_true_vals = np.array([0.02214, 0.1175, -1, 0.9676, 3.0819, 0.6881*100, 3.04]) #darksky\n",
    "    hod_true_vals = np.array([np.inf for p in hod_param_names])"
   ]
  },
  {
   "cell_type": "code",
   "execution_count": null,
   "metadata": {
    "collapsed": true
   },
   "outputs": [],
   "source": [
    "corner(hod_chain, labels=hod_param_names,\n",
    "                       quantiles=[0.16, 0.5, 0.84],\n",
    "                        truths = hod_true_vals,\n",
    "                       #range = [emu.get_param_bounds(n) for n in hod_params],\n",
    "                       show_titles=True, title_kwargs={\"fontsize\": 12},\n",
    "                      plot_datapoints =False, plot_density = True);"
   ]
  },
  {
   "cell_type": "raw",
   "metadata": {},
   "source": [
    "cosmo_param_bounds = {'H0': (61.694719999999997, 74.76751999999999),\n",
    " 'Neff': (2.6212499999999999, 4.2787499999999996),\n",
    " 'ln10As': (3.0009000000000001, 3.179424),\n",
    " 'ns': (0.92784619999999995, 0.99744959999999994),\n",
    " 'ombh2': (0.02066455, 0.02371239),\n",
    " 'omch2': (0.10121810000000001, 0.13177679999999997),\n",
    " 'w0': (-1.399921, -0.56584860000000003)}"
   ]
  },
  {
   "cell_type": "code",
   "execution_count": null,
   "metadata": {
    "collapsed": true
   },
   "outputs": [],
   "source": [
    "corner(cosmo_chain, labels=cosmo_param_names,\n",
    "                       quantiles=[0.13, 0.5, 0.86],\n",
    "                        truths = cosmo_true_vals,\n",
    "                       show_titles=True, title_kwargs={\"fontsize\": 12},\n",
    "                          plot_datapoints = False, plot_density = True);"
   ]
  },
  {
   "cell_type": "code",
   "execution_count": null,
   "metadata": {
    "collapsed": true
   },
   "outputs": [],
   "source": [
    "l = cosmo_param_names\n",
    "l.extend(hod_param_names)\n",
    "corner(chain, \n",
    "       labels = l,\n",
    "       truths = np.hstack([cosmo_true_vals, hod_true_vals]),\n",
    "    quantiles=[0.16, 0.5, 0.84], show_titles=True,title_kwargs={\"fontsize\": 12},\n",
    "    plot_datapoints = False, plot_density = True);"
   ]
  },
  {
   "cell_type": "code",
   "execution_count": null,
   "metadata": {
    "collapsed": true
   },
   "outputs": [],
   "source": [
    "f.close()"
   ]
  },
  {
   "cell_type": "code",
   "execution_count": null,
   "metadata": {
    "collapsed": true
   },
   "outputs": [],
   "source": []
  },
  {
   "cell_type": "code",
   "execution_count": null,
   "metadata": {
    "collapsed": true
   },
   "outputs": [],
   "source": []
  }
 ],
 "metadata": {
  "kernelspec": {
   "display_name": "Python 2",
   "language": "python",
   "name": "python2"
  },
  "language_info": {
   "codemirror_mode": {
    "name": "ipython",
    "version": 2
   },
   "file_extension": ".py",
   "mimetype": "text/x-python",
   "name": "python",
   "nbconvert_exporter": "python",
   "pygments_lexer": "ipython2",
   "version": "2.7.13"
  }
 },
 "nbformat": 4,
 "nbformat_minor": 1
}

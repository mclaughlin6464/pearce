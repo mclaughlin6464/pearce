{
 "cells": [
  {
   "cell_type": "code",
   "execution_count": 1,
   "metadata": {
    "collapsed": true
   },
   "outputs": [],
   "source": [
    "import matplotlib\n",
    "#matplotlib.use('Agg')\n",
    "from matplotlib import pyplot as plt\n",
    "%matplotlib inline\n",
    "import seaborn as sns\n",
    "sns.set()"
   ]
  },
  {
   "cell_type": "code",
   "execution_count": 2,
   "metadata": {
    "collapsed": true
   },
   "outputs": [],
   "source": [
    "import numpy as np\n",
    "import h5py\n",
    "#from chainconsumer import ChainConsumer\n",
    "from corner import corner"
   ]
  },
  {
   "cell_type": "raw",
   "metadata": {
    "scrolled": true
   },
   "source": [
    "! ls -lt /scratch/users/swmclau2/PearceMCMC/*.hdf5"
   ]
  },
  {
   "cell_type": "code",
   "execution_count": 3,
   "metadata": {
    "collapsed": true
   },
   "outputs": [],
   "source": [
    "obs = 'ds'\n",
    "\n",
    "if obs == 'wp':\n",
    "    idx = 0\n",
    "else:\n",
    "    idx = 1"
   ]
  },
  {
   "cell_type": "code",
   "execution_count": 4,
   "metadata": {
    "collapsed": true
   },
   "outputs": [],
   "source": [
    "fname = '/u/ki/swmclau2/des/SherlockPearceMCMC/TAB_HOD_wp_ds_rmin_None_TAB.hdf5'"
   ]
  },
  {
   "cell_type": "code",
   "execution_count": 5,
   "metadata": {
    "collapsed": false
   },
   "outputs": [
    {
     "ename": "IOError",
     "evalue": "Unable to open file (unable to open file: name = '/u/ki/swmclau2/des/SherlockPearceMCMC/TAB_HOD_wp_ds_rmin_None_TAB.hdf5', errno = 2, error message = 'No such file or directory', flags = 0, o_flags = 0)",
     "output_type": "error",
     "traceback": [
      "\u001b[1;31m---------------------------------------------------------------------------\u001b[0m",
      "\u001b[1;31mIOError\u001b[0m                                   Traceback (most recent call last)",
      "\u001b[1;32m<ipython-input-5-6ceefd55bc97>\u001b[0m in \u001b[0;36m<module>\u001b[1;34m()\u001b[0m\n\u001b[1;32m----> 1\u001b[1;33m \u001b[0mf\u001b[0m \u001b[1;33m=\u001b[0m \u001b[0mh5py\u001b[0m\u001b[1;33m.\u001b[0m\u001b[0mFile\u001b[0m\u001b[1;33m(\u001b[0m\u001b[0mfname\u001b[0m\u001b[1;33m,\u001b[0m \u001b[1;34m'r'\u001b[0m\u001b[1;33m)\u001b[0m\u001b[1;33m\u001b[0m\u001b[0m\n\u001b[0m",
      "\u001b[1;32m/u/ki/swmclau2/.local/lib/python2.7/site-packages/h5py/_hl/files.pyc\u001b[0m in \u001b[0;36m__init__\u001b[1;34m(self, name, mode, driver, libver, userblock_size, swmr, rdcc_nslots, rdcc_nbytes, rdcc_w0, track_order, **kwds)\u001b[0m\n\u001b[0;32m    406\u001b[0m                 fid = make_fid(name, mode, userblock_size,\n\u001b[0;32m    407\u001b[0m                                \u001b[0mfapl\u001b[0m\u001b[1;33m,\u001b[0m \u001b[0mfcpl\u001b[0m\u001b[1;33m=\u001b[0m\u001b[0mmake_fcpl\u001b[0m\u001b[1;33m(\u001b[0m\u001b[0mtrack_order\u001b[0m\u001b[1;33m=\u001b[0m\u001b[0mtrack_order\u001b[0m\u001b[1;33m)\u001b[0m\u001b[1;33m,\u001b[0m\u001b[1;33m\u001b[0m\u001b[0m\n\u001b[1;32m--> 408\u001b[1;33m                                swmr=swmr)\n\u001b[0m\u001b[0;32m    409\u001b[0m \u001b[1;33m\u001b[0m\u001b[0m\n\u001b[0;32m    410\u001b[0m             \u001b[1;32mif\u001b[0m \u001b[0misinstance\u001b[0m\u001b[1;33m(\u001b[0m\u001b[0mlibver\u001b[0m\u001b[1;33m,\u001b[0m \u001b[0mtuple\u001b[0m\u001b[1;33m)\u001b[0m\u001b[1;33m:\u001b[0m\u001b[1;33m\u001b[0m\u001b[0m\n",
      "\u001b[1;32m/u/ki/swmclau2/.local/lib/python2.7/site-packages/h5py/_hl/files.pyc\u001b[0m in \u001b[0;36mmake_fid\u001b[1;34m(name, mode, userblock_size, fapl, fcpl, swmr)\u001b[0m\n\u001b[0;32m    171\u001b[0m         \u001b[1;32mif\u001b[0m \u001b[0mswmr\u001b[0m \u001b[1;32mand\u001b[0m \u001b[0mswmr_support\u001b[0m\u001b[1;33m:\u001b[0m\u001b[1;33m\u001b[0m\u001b[0m\n\u001b[0;32m    172\u001b[0m             \u001b[0mflags\u001b[0m \u001b[1;33m|=\u001b[0m \u001b[0mh5f\u001b[0m\u001b[1;33m.\u001b[0m\u001b[0mACC_SWMR_READ\u001b[0m\u001b[1;33m\u001b[0m\u001b[0m\n\u001b[1;32m--> 173\u001b[1;33m         \u001b[0mfid\u001b[0m \u001b[1;33m=\u001b[0m \u001b[0mh5f\u001b[0m\u001b[1;33m.\u001b[0m\u001b[0mopen\u001b[0m\u001b[1;33m(\u001b[0m\u001b[0mname\u001b[0m\u001b[1;33m,\u001b[0m \u001b[0mflags\u001b[0m\u001b[1;33m,\u001b[0m \u001b[0mfapl\u001b[0m\u001b[1;33m=\u001b[0m\u001b[0mfapl\u001b[0m\u001b[1;33m)\u001b[0m\u001b[1;33m\u001b[0m\u001b[0m\n\u001b[0m\u001b[0;32m    174\u001b[0m     \u001b[1;32melif\u001b[0m \u001b[0mmode\u001b[0m \u001b[1;33m==\u001b[0m \u001b[1;34m'r+'\u001b[0m\u001b[1;33m:\u001b[0m\u001b[1;33m\u001b[0m\u001b[0m\n\u001b[0;32m    175\u001b[0m         \u001b[0mfid\u001b[0m \u001b[1;33m=\u001b[0m \u001b[0mh5f\u001b[0m\u001b[1;33m.\u001b[0m\u001b[0mopen\u001b[0m\u001b[1;33m(\u001b[0m\u001b[0mname\u001b[0m\u001b[1;33m,\u001b[0m \u001b[0mh5f\u001b[0m\u001b[1;33m.\u001b[0m\u001b[0mACC_RDWR\u001b[0m\u001b[1;33m,\u001b[0m \u001b[0mfapl\u001b[0m\u001b[1;33m=\u001b[0m\u001b[0mfapl\u001b[0m\u001b[1;33m)\u001b[0m\u001b[1;33m\u001b[0m\u001b[0m\n",
      "\u001b[1;32mh5py/_objects.pyx\u001b[0m in \u001b[0;36mh5py._objects.with_phil.wrapper\u001b[1;34m()\u001b[0m\n",
      "\u001b[1;32mh5py/_objects.pyx\u001b[0m in \u001b[0;36mh5py._objects.with_phil.wrapper\u001b[1;34m()\u001b[0m\n",
      "\u001b[1;32mh5py/h5f.pyx\u001b[0m in \u001b[0;36mh5py.h5f.open\u001b[1;34m()\u001b[0m\n",
      "\u001b[1;31mIOError\u001b[0m: Unable to open file (unable to open file: name = '/u/ki/swmclau2/des/SherlockPearceMCMC/TAB_HOD_wp_ds_rmin_None_TAB.hdf5', errno = 2, error message = 'No such file or directory', flags = 0, o_flags = 0)"
     ]
    }
   ],
   "source": [
    "f = h5py.File(fname, 'r')"
   ]
  },
  {
   "cell_type": "code",
   "execution_count": null,
   "metadata": {
    "collapsed": false
   },
   "outputs": [],
   "source": [
    "f.attrs.keys()"
   ]
  },
  {
   "cell_type": "code",
   "execution_count": null,
   "metadata": {
    "collapsed": true
   },
   "outputs": [],
   "source": [
    "from ast import literal_eval"
   ]
  },
  {
   "cell_type": "raw",
   "metadata": {},
   "source": [
    "f['cov'].value"
   ]
  },
  {
   "cell_type": "code",
   "execution_count": null,
   "metadata": {
    "collapsed": false
   },
   "outputs": [],
   "source": [
    "from pearce.emulator import LemonPepperWet\n",
    "tf = f.attrs['training_file']\n",
    "fixed_params = literal_eval(f.attrs['fixed_params'])\n",
    "emu_hps = literal_eval(f.attrs['emu_hps'])"
   ]
  },
  {
   "cell_type": "raw",
   "metadata": {
    "collapsed": false
   },
   "source": [
    "try:\n",
    "    del fixed_params['rmin'] # don't want this rn\n",
    "except KeyError:\n",
    "    pass"
   ]
  },
  {
   "cell_type": "code",
   "execution_count": null,
   "metadata": {
    "collapsed": false
   },
   "outputs": [],
   "source": [
    "tf"
   ]
  },
  {
   "cell_type": "code",
   "execution_count": null,
   "metadata": {
    "collapsed": false
   },
   "outputs": [],
   "source": [
    "emu = LemonPepperWet('/u/ki/swmclau2/des/%s_zheng07/PearceDsCosmo.hdf5'%obs, fixed_params = fixed_params, hyperparams = emu_hps)"
   ]
  },
  {
   "cell_type": "code",
   "execution_count": null,
   "metadata": {
    "collapsed": false
   },
   "outputs": [],
   "source": [
    "emu.obs"
   ]
  },
  {
   "cell_type": "code",
   "execution_count": null,
   "metadata": {
    "collapsed": true
   },
   "outputs": [],
   "source": [
    "chain_pnames = f.attrs['param_names']"
   ]
  },
  {
   "cell_type": "code",
   "execution_count": null,
   "metadata": {
    "collapsed": true
   },
   "outputs": [],
   "source": [
    "n_walkers = f.attrs['nwalkers']"
   ]
  },
  {
   "cell_type": "raw",
   "metadata": {
    "collapsed": true
   },
   "source": [
    "sim_info = literal_eval(f.attrs['sim'])"
   ]
  },
  {
   "cell_type": "code",
   "execution_count": null,
   "metadata": {
    "collapsed": true
   },
   "outputs": [],
   "source": [
    "chain = f['chain'][()]#[n_walkers*1000:n_walkers*6000]"
   ]
  },
  {
   "cell_type": "raw",
   "metadata": {},
   "source": [
    "chain_pnames = f.attrs['param_names']"
   ]
  },
  {
   "cell_type": "code",
   "execution_count": null,
   "metadata": {
    "collapsed": true
   },
   "outputs": [],
   "source": [
    "n_params = chain.shape[1] if len(chain.shape) > 1 else 1"
   ]
  },
  {
   "cell_type": "code",
   "execution_count": null,
   "metadata": {
    "collapsed": true
   },
   "outputs": [],
   "source": [
    "n_burn = 49000\n",
    "chain = chain[n_walkers*n_burn:]#, :]"
   ]
  },
  {
   "cell_type": "code",
   "execution_count": null,
   "metadata": {
    "collapsed": true
   },
   "outputs": [],
   "source": [
    "chain = chain[np.all(chain!=0.0, axis = 1), :]"
   ]
  },
  {
   "cell_type": "code",
   "execution_count": null,
   "metadata": {
    "collapsed": false
   },
   "outputs": [],
   "source": [
    "print chain.shape, chain.shape[0]/n_walkers"
   ]
  },
  {
   "cell_type": "code",
   "execution_count": null,
   "metadata": {
    "collapsed": false
   },
   "outputs": [],
   "source": [
    "MAP = chain.mean(axis = 0)\n",
    "print MAP"
   ]
  },
  {
   "cell_type": "code",
   "execution_count": null,
   "metadata": {
    "collapsed": false
   },
   "outputs": [],
   "source": [
    "chain_pnames"
   ]
  },
  {
   "cell_type": "raw",
   "metadata": {
    "collapsed": false
   },
   "source": [
    "sns.jointplot(chain[:,0], chain[:, 2], kind='hex', space = 0)"
   ]
  },
  {
   "cell_type": "code",
   "execution_count": null,
   "metadata": {
    "collapsed": false
   },
   "outputs": [],
   "source": [
    "low_om_idxs = chain[:,1] < 0.116\n",
    "med_om_idxs = np.logical_and(chain[:,1] < 0.117, chain[:,1]>0.113)\n",
    "\n",
    "\n",
    "low_om_chain = chain[low_om_idxs]\n",
    "high_om_chain = chain[~low_om_idxs]\n",
    "med_om_chain = chain[med_om_idxs]"
   ]
  },
  {
   "cell_type": "raw",
   "metadata": {},
   "source": [
    "for i in xrange(chain.shape[1]):\n",
    "    fig = plt.figure(figsize = (8,6))\n",
    "    plt.suptitle(chain_pnames[i])\n",
    "    #plt.subplot(121)\n",
    "    sns.distplot(low_om_chain[:, i])#, alpha = 0.6)\n",
    "    #plt.subplot(122)\n",
    "    sns.distplot(med_om_chain[:,i], color = 'g')#, alpha = 0.6)\n",
    "    sns.distplot(high_om_chain[:,i], color = 'r')#, alpha = 0.6)\n",
    "\n",
    "    plt.show()"
   ]
  },
  {
   "cell_type": "code",
   "execution_count": null,
   "metadata": {
    "collapsed": false
   },
   "outputs": [],
   "source": [
    "MAP_dict = dict(zip(emu.get_param_names(), MAP))\n",
    "low_om_MAP_dict = dict(zip(emu.get_param_names(), low_om_chain.mean(axis =0)))\n",
    "high_om_MAP_dict = dict(zip(emu.get_param_names(), high_om_chain.mean(axis=0)))\n",
    "med_om_MAP_dict = dict(zip(emu.get_param_names(), med_om_chain.mean(axis=0)))"
   ]
  },
  {
   "cell_type": "code",
   "execution_count": null,
   "metadata": {
    "collapsed": false
   },
   "outputs": [],
   "source": [
    "MAP_dict"
   ]
  },
  {
   "cell_type": "code",
   "execution_count": null,
   "metadata": {
    "collapsed": false
   },
   "outputs": [],
   "source": [
    "fixed_params = eval(f.attrs['chain_fixed_params'])"
   ]
  },
  {
   "cell_type": "code",
   "execution_count": null,
   "metadata": {
    "collapsed": true
   },
   "outputs": [],
   "source": [
    "MAP_dict.update(fixed_params)"
   ]
  },
  {
   "cell_type": "code",
   "execution_count": null,
   "metadata": {
    "collapsed": false
   },
   "outputs": [],
   "source": [
    "MAP_dict"
   ]
  },
  {
   "cell_type": "code",
   "execution_count": null,
   "metadata": {
    "collapsed": false
   },
   "outputs": [],
   "source": [
    "MAP_pred = emu.emulate_wrt_r(MAP_dict, r_bin_centers=emu.scale_bin_centers).squeeze()\n",
    "#low_om_pred = emu.emulate_wrt_r(low_om_MAP_dict)[0]\n",
    "#high_om_pred = emu.emulate_wrt_r(high_om_MAP_dict)[0]"
   ]
  },
  {
   "cell_type": "code",
   "execution_count": null,
   "metadata": {
    "collapsed": false
   },
   "outputs": [],
   "source": [
    "MAP_pred"
   ]
  },
  {
   "cell_type": "code",
   "execution_count": null,
   "metadata": {
    "collapsed": true
   },
   "outputs": [],
   "source": [
    "param_names = [r'$\\Omega_b h^2$', r'$\\Omega_c h^2$', r'$w_0$', r'$n_s$', r'$\\ln(10A_s)$', r'$H_0$', r'$N_{eff}$',\\\n",
    "               r'$\\log(M_0)$', r'$\\sigma_{\\log M }$',r'$\\log(M_1)$',r'$\\alpha$']\n",
    "               # r'$\\rho_{sat}$',r'$\\rho_{cen}$', r'$\\log(M_1)$',r'$\\log(M_0)$', r'$\\sigma_{\\log M }$',r'$\\alpha$' ]"
   ]
  },
  {
   "cell_type": "code",
   "execution_count": null,
   "metadata": {
    "collapsed": true
   },
   "outputs": [],
   "source": [
    "hod_param_names = [r'$\\log(M_0)$',r'$\\sigma_{\\log M }$',r'$\\log(M_1)$' ,r'$\\alpha$' ]\n",
    "cosmo_param_names = [r'$\\Omega_b h^2$', r'$\\Omega_c h^2$', r'$w_0$', r'$n_s$', r'$\\ln(10A_s)$', r'$H_0$', r'$N_{eff}$' ]"
   ]
  },
  {
   "cell_type": "raw",
   "metadata": {
    "collapsed": true
   },
   "source": [
    "hod_param_names = [r'$\\rho_{sat}$',r'$\\rho_{cen}$', r'$\\log(M_1)$',r'$\\log(M_0)$', r'$\\sigma_{\\log M }$',r'$\\alpha$' ]\n",
    "cosmo_param_names = [r'$\\Omega_b h^2$', r'$\\Omega_c h^2$', r'$w_0$', r'$n_s$', r'$\\ln(10A_s)$', r'$H_0$', r'$N_{eff}$' ]"
   ]
  },
  {
   "cell_type": "code",
   "execution_count": null,
   "metadata": {
    "collapsed": true
   },
   "outputs": [],
   "source": [
    "hod_idxs = np.array(range(len(cosmo_param_names), len(cosmo_param_names)+len(hod_param_names)))\n",
    "cosmo_idxs = np.array(range(len(cosmo_param_names)))"
   ]
  },
  {
   "cell_type": "code",
   "execution_count": null,
   "metadata": {
    "collapsed": true
   },
   "outputs": [],
   "source": [
    "if chain.shape[1] == 7:\n",
    "    cosmo_chain = chain\n",
    "else:\n",
    "    hod_chain = chain[:,-4:]#[:, hod_idxs]\n",
    "    cosmo_chain = chain[:,:-4]#[:, cosmo_idxs]"
   ]
  },
  {
   "cell_type": "raw",
   "metadata": {
    "collapsed": false
   },
   "source": [
    "cosmo_params = {'simname': sim_info['simname'], \n",
    "                'boxno': sim_info['sim_hps']['boxno'],\\\n",
    "                'realization': sim_info['sim_hps']['realization'], \n",
    "                'scale_factors':[sim_info['scale_factor']],\\\n",
    "                'system': sim_info['sim_hps']['system']}\n"
   ]
  },
  {
   "cell_type": "code",
   "execution_count": null,
   "metadata": {
    "collapsed": true
   },
   "outputs": [],
   "source": [
    "from pearce.mocks import cat_dict\n",
    "cosmo_params = {}"
   ]
  },
  {
   "cell_type": "code",
   "execution_count": null,
   "metadata": {
    "collapsed": false
   },
   "outputs": [],
   "source": [
    "cosmo_params['boxno'] = 1\n",
    "cosmo_params['realization'] = 0"
   ]
  },
  {
   "cell_type": "code",
   "execution_count": null,
   "metadata": {
    "collapsed": false
   },
   "outputs": [],
   "source": [
    "cat = cat_dict['testbox'](**cosmo_params)#construct the specified catalog!"
   ]
  },
  {
   "cell_type": "code",
   "execution_count": null,
   "metadata": {
    "collapsed": true
   },
   "outputs": [],
   "source": [
    "cpv = cat._get_cosmo_param_names_vals()\n",
    "\n",
    "cat_val_dict =  {key: val for key, val in zip(cpv[0], cpv[1])}"
   ]
  },
  {
   "cell_type": "raw",
   "metadata": {
    "collapsed": false
   },
   "source": [
    "#cosmo_true_vals = [3.7,70.7317,-1.13151,0.12283, 3.11395,  0.953515,  0.021762]\n",
    "cosmo_true_vals = [cat_val_dict[pn] for pn in chain_pnames if pn in cat_val_dict]\n",
    "#cosmo_true_vals = [0.046*0.7**2, (0.27-0.046)*0.7**2, -1, 0.95, 3.5698, 70, 3.04] \n",
    "\n",
    "#cosmo_true_vals = [MAP[idx] for idx, pn in enumerate(chain_pnames) if pn in cat_val_dict]"
   ]
  },
  {
   "cell_type": "raw",
   "metadata": {},
   "source": [
    "cosmo_pnames = ['ombh2', 'omch2', 'w0', 'ns', 'ln10As', 'H0', 'Neff']\n",
    "cosmo_true_vals = np.array([0.0223, 0.1188, -1, 0.9667, 3.047, \\\n",
    "                                0.6774*100, 3.046]) #darksky\n",
    "\n",
    "cat_val_dict = dict(zip(cosmo_pnames, cosmo_true_vals))"
   ]
  },
  {
   "cell_type": "raw",
   "metadata": {
    "collapsed": false
   },
   "source": [
    "hod_params = sim_info['hod_params']\n",
    "print hod_params"
   ]
  },
  {
   "cell_type": "raw",
   "metadata": {},
   "source": [
    "emu.get_param_bounds('logM1')"
   ]
  },
  {
   "cell_type": "raw",
   "metadata": {},
   "source": [
    "hod_params['logM1'] = 14.5"
   ]
  },
  {
   "cell_type": "raw",
   "metadata": {
    "collapsed": true
   },
   "source": [
    "hod_true_vals = [hod_params[key] for key in chain_pnames if key in hod_params]\n",
    "#hod_true_vals = [MAP[idx] for idx, key in enumerate(chain_pnames) if key in hod_params]"
   ]
  },
  {
   "cell_type": "code",
   "execution_count": null,
   "metadata": {
    "collapsed": false
   },
   "outputs": [],
   "source": [
    "import yaml\n",
    "with open('/u/ki/swmclau2/Git/pearce/bin/mcmc/config/HOD_wp_ds_rmin_None_HOD.yaml') as yamlfile:\n",
    "    cfg = yaml.load(yamlfile)\n",
    "    sim_cfg = cfg['data']['sim']\n",
    "    obs_cfg = cfg['data']['obs']"
   ]
  },
  {
   "cell_type": "raw",
   "metadata": {},
   "source": [
    "sim_cfg['sim_hps']['realization'] = 3"
   ]
  },
  {
   "cell_type": "raw",
   "metadata": {
    "collapsed": true
   },
   "source": [
    "cat.load(sim_cfg['scale_factor'], HOD='zheng07', **sim_cfg['sim_hps'])"
   ]
  },
  {
   "cell_type": "code",
   "execution_count": null,
   "metadata": {
    "collapsed": true
   },
   "outputs": [],
   "source": [
    "r_bins = obs_cfg['rbins']"
   ]
  },
  {
   "cell_type": "raw",
   "metadata": {
    "collapsed": true
   },
   "source": [
    "pop_xi = np.zeros((10, emu.scale_bin_centers.shape[0]))\n",
    "for i in xrange(10):\n",
    "    cat.populate(hod_params)\n",
    "    pop_xi[i] = np.log10(cat.calc_ds(r_bins) )#, do_jackknife = False) )"
   ]
  },
  {
   "cell_type": "raw",
   "metadata": {},
   "source": [
    "pop_xi.std(axis =0)"
   ]
  },
  {
   "cell_type": "raw",
   "metadata": {},
   "source": [
    "fig = plt.figure(figsize = (10,7))\n",
    "plt.errorbar(rbc, true_data[-len(emu.scale_bin_centers):], yerr=yerr, label = 'Data')\n",
    "#plt.plot(rbc, 10**pop_xi.mean(axis = 0), label = 'Pop', lw = 5)\n",
    "for px in pop_xi:\n",
    "    plt.plot(rbc, 10**px, alpha = 0.5, color = 'k')\n",
    "#plt.plot(rbc, 10**true_pred, label = 'True')\n",
    "#plt.plot(rbc, 10**MAP_pred, label = 'MAP')\n",
    "plt.loglog()\n",
    "plt.legend(loc='best')\n",
    "plt.show();"
   ]
  },
  {
   "cell_type": "raw",
   "metadata": {
    "collapsed": false
   },
   "source": [
    "fig = plt.figure(figsize = (10,7))\n",
    "plt.errorbar(rbc, np.ones_like(rbc), yerr=yerr/true_data[-len(emu.scale_bin_centers):], label = 'Data')\n",
    "#plt.plot(rbc, 10**pop_xi.mean(axis = 0), label = 'Pop', lw = 5)\n",
    "for px in pop_xi:\n",
    "    plt.plot(rbc, 10**px/true_data[-len(emu.scale_bin_centers):], \n",
    "              alpha = 0.5, color = 'k')\n",
    "#plt.plot(rbc, 10**true_pred, label = 'True')\n",
    "#plt.plot(rbc, 10**MAP_pred, label = 'MAP')\n",
    "plt.xscale('log')\n",
    "plt.legend(loc='best')\n",
    "plt.show();"
   ]
  },
  {
   "cell_type": "code",
   "execution_count": null,
   "metadata": {
    "collapsed": false
   },
   "outputs": [],
   "source": [
    "true_param_dict = cat_val_dict.copy()\n",
    "hod_params = {'alpha': 1.083, 'conc_gal_bias': 1.0, 'logM0': 13.2,'logM1': 14.2, 'sigma_logM': 0.2}#sim_info['hod_params']\n",
    "\n",
    "#hod_params['mean_occupation_centrals_assembias_corr1'] =0.0\n",
    "#hod_params['mean_occupation_satellites_assembias_corr1'] =0.0\n",
    "\n",
    "for hp, hv in hod_params.iteritems():\n",
    "    if hp == 'logMmin':\n",
    "        continue\n",
    "    true_param_dict[hp] = hv\n",
    "\n",
    "true_param_dict['conc_gal_bias'] = 1.0\n",
    "true_pred = emu.emulate_wrt_r(true_param_dict)[0]"
   ]
  },
  {
   "cell_type": "code",
   "execution_count": null,
   "metadata": {
    "collapsed": false
   },
   "outputs": [],
   "source": [
    "f['data']"
   ]
  },
  {
   "cell_type": "code",
   "execution_count": null,
   "metadata": {
    "collapsed": false
   },
   "outputs": [],
   "source": [
    "true_data = f['data'][idx]"
   ]
  },
  {
   "cell_type": "code",
   "execution_count": null,
   "metadata": {
    "collapsed": false
   },
   "outputs": [],
   "source": [
    "true_data"
   ]
  },
  {
   "cell_type": "code",
   "execution_count": null,
   "metadata": {
    "collapsed": true
   },
   "outputs": [],
   "source": [
    "rbc = emu.scale_bin_centers#[-len(emu.scale_bin_centers):]"
   ]
  },
  {
   "cell_type": "code",
   "execution_count": null,
   "metadata": {
    "collapsed": false
   },
   "outputs": [],
   "source": [
    "if obs == 'wp':\n",
    "    cov = f['cov'][:len(r_bins)-1][:, :len(r_bins)-1]\n",
    "else:\n",
    "    cov = f['cov'][len(r_bins)-1:][:, len(r_bins)-1:]\n",
    "\n",
    "yerr = np.sqrt(np.diag(cov))[-len(rbc):]"
   ]
  },
  {
   "cell_type": "code",
   "execution_count": null,
   "metadata": {
    "collapsed": false
   },
   "outputs": [],
   "source": [
    "yerr"
   ]
  },
  {
   "cell_type": "code",
   "execution_count": null,
   "metadata": {
    "collapsed": false
   },
   "outputs": [],
   "source": [
    "yerr/true_data[-len(emu.scale_bin_centers):]"
   ]
  },
  {
   "cell_type": "code",
   "execution_count": null,
   "metadata": {
    "collapsed": false
   },
   "outputs": [],
   "source": [
    "plt.imshow(np.log10(cov) )"
   ]
  },
  {
   "cell_type": "code",
   "execution_count": null,
   "metadata": {
    "collapsed": false
   },
   "outputs": [],
   "source": [
    "np.sqrt(np.diag(cov))"
   ]
  },
  {
   "cell_type": "code",
   "execution_count": null,
   "metadata": {
    "collapsed": false
   },
   "outputs": [],
   "source": [
    "np.sqrt(np.diag(f['cov'][()]))#.reshape((2,18))"
   ]
  },
  {
   "cell_type": "code",
   "execution_count": null,
   "metadata": {
    "collapsed": true
   },
   "outputs": [],
   "source": [
    "bounds = {pname: emu.get_param_bounds(pname) for pname in emu.get_param_names()[:-4]}"
   ]
  },
  {
   "cell_type": "code",
   "execution_count": null,
   "metadata": {
    "collapsed": false
   },
   "outputs": [],
   "source": [
    "bounds"
   ]
  },
  {
   "cell_type": "code",
   "execution_count": null,
   "metadata": {
    "collapsed": false
   },
   "outputs": [],
   "source": [
    "fig = plt.figure(figsize = (10,7))\n",
    "plt.errorbar(rbc, true_data[-len(emu.scale_bin_centers):], yerr=yerr, label = 'Data')\n",
    "#plt.plot(rbc, 10**true_pred, label = 'True')\n",
    "plt.plot(rbc, 10**MAP_pred, label = 'MAP')\n",
    "#plt.plot(rbc, 10**pop_xi.mean(axis = 0), label = 'Pop')#, lw = 5)\n",
    "\n",
    "plt.loglog()\n",
    "plt.legend(loc='best')\n",
    "plt.show();"
   ]
  },
  {
   "cell_type": "code",
   "execution_count": null,
   "metadata": {
    "collapsed": false
   },
   "outputs": [],
   "source": [
    "fig = plt.figure(figsize = (10,7))\n",
    "chain_samples = np.random.choice(chain.shape[0], size = 100, replace = False)\n",
    "for sample in chain[chain_samples]:\n",
    "    param_dict = dict(zip(emu.get_param_names(), sample))\n",
    "    param_dict.update(fixed_params)\n",
    "    plt.plot(rbc, 10**emu.emulate_wrt_r(param_dict)[0], alpha = 0.2)\n",
    "plt.errorbar(rbc, true_data[-len(emu.scale_bin_centers):], yerr=yerr, label = 'Data', color = 'k')\n",
    "#plt.plot(rbc, 10**true_pred, label = 'True')\n",
    "#plt.plot(rbc, 10**MAP_pred, label = 'MAP')\n",
    "#plt.plot(rbc, 10**pop_xi.mean(axis = 0), label = 'Pop')#, lw = 5)\n",
    "\n",
    "plt.loglog()\n",
    "plt.legend(loc='best')\n",
    "plt.show();"
   ]
  },
  {
   "cell_type": "raw",
   "metadata": {
    "collapsed": false
   },
   "source": [
    "fig = plt.figure(figsize = (10,7))\n",
    "chain_samples = np.random.choice(low_om_chain.shape[0], size = 100, replace = False)\n",
    "for sample in low_om_chain[chain_samples]:\n",
    "    param_dict = dict(zip(emu.get_param_names(), sample))\n",
    "    param_dict.update(fixed_params)\n",
    "    plt.plot(rbc, 10**emu.emulate_wrt_r(param_dict)[0], alpha = 0.2)\n",
    "plt.errorbar(rbc, true_data[-len(emu.scale_bin_centers):], yerr=yerr, label = 'Data', color = 'k')\n",
    "#plt.plot(rbc, 10**true_pred, label = 'True')\n",
    "#plt.plot(rbc, 10**MAP_pred, label = 'MAP')\n",
    "#plt.plot(rbc, 10**pop_xi.mean(axis = 0), label = 'Pop')#, lw = 5)\n",
    "\n",
    "plt.loglog()\n",
    "plt.legend(loc='best')\n",
    "plt.show();"
   ]
  },
  {
   "cell_type": "raw",
   "metadata": {
    "collapsed": false
   },
   "source": [
    "fig = plt.figure(figsize = (10,7))\n",
    "chain_samples = np.random.choice(high_om_chain.shape[0], size = 100, replace = False)\n",
    "for sample in high_om_chain[chain_samples]:\n",
    "    param_dict = dict(zip(emu.get_param_names(), sample))\n",
    "    param_dict.update(fixed_params)\n",
    "\n",
    "    plt.plot(rbc, 10**emu.emulate_wrt_r(param_dict)[0]/true_data[-len(emu.scale_bin_centers):], alpha = 0.2)\n",
    "#plt.errorbar(rbc, np.ones(len(emu.scale_bin_centers)), yerr=yerr/true_data[-len(emu.scale_bin_centers):], label = 'Data')\n",
    "#plt.plot(rbc, 10**true_pred, label = 'True')\n",
    "#plt.plot(rbc, 10**MAP_pred, label = 'MAP')\n",
    "#plt.plot(rbc, 10**pop_xi.mean(axis = 0), label = 'Pop')#, lw = 5)\n",
    "plt.xscale('log')\n",
    "#plt.loglog()\n",
    "plt.legend(loc='best')\n",
    "plt.show();"
   ]
  },
  {
   "cell_type": "raw",
   "metadata": {
    "collapsed": false
   },
   "source": [
    "fig = plt.figure(figsize = (10,7))\n",
    "chain_samples = np.random.choice(low_om_chain.shape[0], size = 100, replace = False)\n",
    "for sample in low_om_chain[chain_samples]:\n",
    "    param_dict = dict(zip(emu.get_param_names(), sample))\n",
    "    param_dict.update(fixed_params)\n",
    "\n",
    "    plt.plot(rbc, 10**emu.emulate_wrt_r(param_dict)[0]/true_data[-len(emu.scale_bin_centers):], alpha = 0.2)\n",
    "#plt.errorbar(rbc, np.ones(len(emu.scale_bin_centers)), yerr=yerr/true_data[-len(emu.scale_bin_centers):], label = 'Data')\n",
    "#plt.plot(rbc, 10**true_pred, label = 'True')\n",
    "#plt.plot(rbc, 10**MAP_pred, label = 'MAP')\n",
    "#plt.plot(rbc, 10**pop_xi.mean(axis = 0), label = 'Pop')#, lw = 5)\n",
    "plt.xscale('log')\n",
    "#plt.loglog()\n",
    "plt.legend(loc='best')\n",
    "plt.show();"
   ]
  },
  {
   "cell_type": "raw",
   "metadata": {
    "collapsed": false
   },
   "source": [
    "fig = plt.figure(figsize = (10,7))\n",
    "chain_samples = np.random.choice(med_om_chain.shape[0], size = 100, replace = False)\n",
    "for sample in med_om_chain[chain_samples]:\n",
    "    param_dict = dict(zip(emu.get_param_names(), sample))\n",
    "    param_dict.update(fixed_params)\n",
    "\n",
    "    plt.plot(rbc, 10**emu.emulate_wrt_r(param_dict)[0]/true_data[-len(emu.scale_bin_centers):], alpha = 0.2)\n",
    "#plt.errorbar(rbc, np.ones(len(emu.scale_bin_centers)), yerr=yerr/true_data[-len(emu.scale_bin_centers):], label = 'Data')\n",
    "#plt.plot(rbc, 10**true_pred, label = 'True')\n",
    "#plt.plot(rbc, 10**MAP_pred, label = 'MAP')\n",
    "#plt.plot(rbc, 10**pop_xi.mean(axis = 0), label = 'Pop')#, lw = 5)\n",
    "plt.xscale('log')\n",
    "#plt.loglog()\n",
    "plt.legend(loc='best')\n",
    "plt.show();"
   ]
  },
  {
   "cell_type": "raw",
   "metadata": {},
   "source": [
    "fig = plt.figure(figsize = (10,7))\n",
    "plt.errorbar(rbc, true_data[-len(emu.scale_bin_centers):], yerr=yerr, label = 'Data')\n",
    "plt.plot(rbc, 10**true_pred, label = 'True')\n",
    "plt.plot(rbc, 10**MAP_pred, label = 'MAP')\n",
    "plt.loglog()\n",
    "plt.legend(loc='best')\n",
    "plt.show();"
   ]
  },
  {
   "cell_type": "code",
   "execution_count": null,
   "metadata": {
    "collapsed": false
   },
   "outputs": [],
   "source": [
    "fig = plt.figure(figsize = (10,7))\n",
    "plt.errorbar(rbc, np.zeros_like(true_data[-len(emu.scale_bin_centers):]), yerr=yerr/true_data[-len(emu.scale_bin_centers):], label = 'Data')\n",
    "#plt.plot(rbc, (10**true_pred-true_data[-len(emu.scale_bin_centers):])/true_data[-len(emu.scale_bin_centers):], label = 'True')\n",
    "plt.plot(rbc, (10**MAP_pred-true_data[-len(emu.scale_bin_centers):])/true_data[-len(emu.scale_bin_centers):], label = 'MAP')\n",
    "plt.xscale('log')\n",
    "plt.legend(loc='best')\n",
    "plt.show();"
   ]
  },
  {
   "cell_type": "raw",
   "metadata": {
    "collapsed": false
   },
   "source": [
    "fig = plt.figure(figsize = (10,7))\n",
    "plt.errorbar(rbc, np.zeros_like(true_data[-len(emu.scale_bin_centers):]), yerr=yerr/true_data[-len(emu.scale_bin_centers):], label = 'Data')\n",
    "#plt.plot(rbc, (10**true_pred-true_data[-len(emu.scale_bin_centers):])/true_data[-len(emu.scale_bin_centers):], label = 'True')\n",
    "plt.plot(rbc, (10**MAP_pred-true_data[-len(emu.scale_bin_centers):])/true_data[-len(emu.scale_bin_centers):], label = 'MAP')\n",
    "plt.plot(rbc, (10**low_om_pred-true_data[-len(emu.scale_bin_centers):])/true_data[-len(emu.scale_bin_centers):], label = 'Low Om')\n",
    "plt.plot(rbc, (10**high_om_pred-true_data[-len(emu.scale_bin_centers):])/true_data[-len(emu.scale_bin_centers):], label = 'High Om')\n",
    "\n",
    "plt.xscale('log')\n",
    "plt.legend(loc='best')\n",
    "plt.show();"
   ]
  },
  {
   "cell_type": "raw",
   "metadata": {
    "collapsed": true
   },
   "source": [
    "(10**true_pred)/true_data[-len(emu.scale_bin_centers):]"
   ]
  },
  {
   "cell_type": "code",
   "execution_count": null,
   "metadata": {
    "collapsed": false
   },
   "outputs": [],
   "source": [
    "emu.get_param_names()"
   ]
  },
  {
   "cell_type": "code",
   "execution_count": null,
   "metadata": {
    "collapsed": false
   },
   "outputs": [],
   "source": [
    "fig = plt.figure(figsize=(10,7))\n",
    "\n",
    "pred = emu.emulate_wrt_r(true_param_dict, r_bin_centers=emu.scale_bin_centers)[0]\n",
    "plt.plot(rbc, 10**pred,label = 'Emu at Truth', color ='k')\n",
    "#plt.plot(rbc, 10**pop_xi.mean(axis = 0), label = 'Sim' )\n",
    "plt.errorbar(rbc, true_data[-len(rbc):], yerr=yerr, label = 'Data')\n",
    "plt.loglog()\n",
    "plt.legend(loc='best')\n",
    "plt.show();"
   ]
  },
  {
   "cell_type": "code",
   "execution_count": null,
   "metadata": {
    "collapsed": false
   },
   "outputs": [],
   "source": [
    "fig = plt.figure(figsize=(10,7))\n",
    "\n",
    "pred = emu.emulate_wrt_r(true_param_dict)[0]\n",
    "plt.plot(rbc, 10**pred/true_data[-len(rbc):],label = 'Emu at Truth', color ='k')\n",
    "#plt.plot(rbc, 10**pop_xi.mean(axis = 0), label = 'Sim' )\n",
    "plt.errorbar(rbc, np.ones_like(rbc), yerr=yerr/true_data[-len(rbc):], label = 'Data')\n",
    "plt.xscale('log')\n",
    "plt.legend(loc='best')\n",
    "plt.show();"
   ]
  },
  {
   "cell_type": "code",
   "execution_count": null,
   "metadata": {
    "collapsed": true
   },
   "outputs": [],
   "source": [
    "N = 100\n",
    "cmap = sns.color_palette(\"BrBG_d\", N)"
   ]
  },
  {
   "cell_type": "code",
   "execution_count": null,
   "metadata": {
    "collapsed": false
   },
   "outputs": [],
   "source": [
    "emu.get_param_names()"
   ]
  },
  {
   "cell_type": "code",
   "execution_count": null,
   "metadata": {
    "collapsed": false
   },
   "outputs": [],
   "source": [
    "true_param_dict"
   ]
  },
  {
   "cell_type": "raw",
   "metadata": {
    "collapsed": true
   },
   "source": [
    "if obs == 'wp':\n",
    "    true_data = true_data*100/true_param_dict['H0']\n",
    "else:\n",
    "    true_data = true_data*(true_param_dict['H0']/100)**3\n"
   ]
  },
  {
   "cell_type": "code",
   "execution_count": null,
   "metadata": {
    "collapsed": false
   },
   "outputs": [],
   "source": [
    "fig = plt.figure(figsize=(10,7))\n",
    "varied_pname = 'w0'\n",
    "lower, upper = emu.get_param_bounds(varied_pname)\n",
    "#lower, upper = 0.11, 0.12\n",
    "for c, val in zip(cmap, np.linspace(lower, upper, N) ):\n",
    "    param_dict = true_param_dict.copy()\n",
    "    #param_dict = MAP_dict.copy()\n",
    "\n",
    "    param_dict[varied_pname] = val\n",
    "    #h_factor = (val/100)**3\n",
    "    #h_factor = (100/val)\n",
    "    h_factor = 1\n",
    "    pred = emu.emulate_wrt_r(param_dict)[0]\n",
    "    plt.plot(rbc, h_factor*(10**pred), alpha = 0.5,label = val, color =c)\n",
    "    \n",
    "plt.errorbar(rbc, true_data[-len(rbc):], yerr=yerr, label = 'Data')\n",
    "plt.loglog()\n",
    "#plt.legend(loc='best')\n",
    "plt.show();"
   ]
  },
  {
   "cell_type": "code",
   "execution_count": null,
   "metadata": {
    "collapsed": false
   },
   "outputs": [],
   "source": [
    "fig = plt.figure(figsize=(10,7))\n",
    "#varied_pname = 'Neff'\n",
    "#lower, upper = emu.get_param_bounds(varied_pname)\n",
    "i = 0\n",
    "for c, val in zip(cmap, np.linspace(lower, upper, N) ):\n",
    "    #print i, val\n",
    "    i+=1\n",
    "    param_dict = true_param_dict.copy()\n",
    "    #param_dict = MAP_dict.copy()\n",
    "    #param_dict = high_om_MAP_dict.copy()\n",
    "    param_dict[varied_pname] = val\n",
    "    #h_factor = (val/100)**3\n",
    "    #h_factor = 1#(100/val)\n",
    "    h_factor =1\n",
    "    pred = emu.emulate_wrt_r(param_dict)[0]\n",
    "    plt.plot(rbc, ((10**pred)*h_factor-true_data[-len(emu.scale_bin_centers):])/true_data[-len(emu.scale_bin_centers):],\\\n",
    "             alpha = 0.5,label = val, color =c)\n",
    "    \n",
    "pred = emu.emulate_wrt_r(true_param_dict)[0]\n",
    "true_h_factor = 1#(true_param_dict['H0']/100)**3\n",
    "#true_h_factor = (100/true_param_dict['H0'])\n",
    "plt.plot(rbc, ((10**pred)*true_h_factor-true_data[-len(emu.scale_bin_centers):])/true_data[-len(emu.scale_bin_centers):], label = 'Truth', color = 'k')    \n",
    "plt.plot(rbc, np.zeros_like(true_data[-len(emu.scale_bin_centers):]),  alpha = 0.3, ls = ':')\n",
    "#plt.loglog()\n",
    "plt.xscale('log')\n",
    "#plt.legend(loc='best')\n",
    "plt.show();"
   ]
  },
  {
   "cell_type": "code",
   "execution_count": null,
   "metadata": {
    "collapsed": true
   },
   "outputs": [],
   "source": [
    "bin = 2\n",
    "#emu._kernels[bin][0].linear.variances"
   ]
  },
  {
   "cell_type": "code",
   "execution_count": null,
   "metadata": {
    "collapsed": false
   },
   "outputs": [],
   "source": [
    "emu._kernels[bin][0].rbf.lengthscale"
   ]
  },
  {
   "cell_type": "code",
   "execution_count": null,
   "metadata": {
    "collapsed": true
   },
   "outputs": [],
   "source": [
    "x = emu._x1_std*emu.x1+emu._x1_mean"
   ]
  },
  {
   "cell_type": "code",
   "execution_count": null,
   "metadata": {
    "collapsed": false
   },
   "outputs": [],
   "source": [
    "emu.get_param_names()"
   ]
  },
  {
   "cell_type": "code",
   "execution_count": null,
   "metadata": {
    "collapsed": false
   },
   "outputs": [],
   "source": [
    "np.argmin(abs(x[:,1]- 0.11386))"
   ]
  },
  {
   "cell_type": "code",
   "execution_count": null,
   "metadata": {
    "collapsed": false
   },
   "outputs": [],
   "source": [
    "plt.plot(emu.scale_bin_centers, emu.y[:, 4, 100]+emu._y_mean)\n",
    "plt.xscale('log')"
   ]
  },
  {
   "cell_type": "code",
   "execution_count": null,
   "metadata": {
    "collapsed": true
   },
   "outputs": [],
   "source": [
    "x1_idx, x2_idx = 10, 100\n",
    "param_dict = dict(zip(emu.get_param_names(), np.hstack([emu.x1[x1_idx]*emu._x1_std+emu._x1_mean,\\\n",
    "                                                        emu.x2[x2_idx]*emu._x2_std+emu._x2_mean])))"
   ]
  },
  {
   "cell_type": "code",
   "execution_count": null,
   "metadata": {
    "collapsed": false
   },
   "outputs": [],
   "source": [
    "param_dict"
   ]
  },
  {
   "cell_type": "code",
   "execution_count": null,
   "metadata": {
    "collapsed": false
   },
   "outputs": [],
   "source": [
    "data = emu.y[:, x1_idx, x2_idx]+emu._y_mean\n",
    "#plt.plot(emu.scale_bin_centers, )\n",
    "plt.plot(emu.scale_bin_centers, emu.emulate_wrt_r(param_dict)[0]/data)\n",
    "plt.errorbar(emu.scale_bin_centers, np.ones_like(data))#, yerr=yerr/data)\n",
    "plt.xscale('log')"
   ]
  },
  {
   "cell_type": "code",
   "execution_count": null,
   "metadata": {
    "collapsed": true
   },
   "outputs": [],
   "source": []
  },
  {
   "cell_type": "code",
   "execution_count": null,
   "metadata": {
    "collapsed": true
   },
   "outputs": [],
   "source": []
  },
  {
   "cell_type": "code",
   "execution_count": null,
   "metadata": {
    "collapsed": true
   },
   "outputs": [],
   "source": []
  },
  {
   "cell_type": "code",
   "execution_count": null,
   "metadata": {
    "collapsed": true
   },
   "outputs": [],
   "source": []
  }
 ],
 "metadata": {
  "kernelspec": {
   "display_name": "Python [default]",
   "language": "python",
   "name": "python2"
  }
 },
 "nbformat": 4,
 "nbformat_minor": 1
}

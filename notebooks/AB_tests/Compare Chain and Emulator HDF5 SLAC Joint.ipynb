{
 "cells": [
  {
   "cell_type": "markdown",
   "metadata": {},
   "source": [
    "That last notebook got messy so I'm making a new cleaner one that will enable me to sample over both emulators simultaneously. "
   ]
  },
  {
   "cell_type": "code",
   "execution_count": 1,
   "metadata": {
    "collapsed": true
   },
   "outputs": [],
   "source": [
    "import matplotlib\n",
    "#matplotlib.use('Agg')\n",
    "from matplotlib import pyplot as plt\n",
    "%matplotlib inline\n",
    "import seaborn as sns\n",
    "sns.set()"
   ]
  },
  {
   "cell_type": "code",
   "execution_count": 2,
   "metadata": {
    "collapsed": false
   },
   "outputs": [
    {
     "name": "stderr",
     "output_type": "stream",
     "text": [
      " /u/ki/swmclau2/.conda/envs/hodemulator/lib/python2.7/site-packages/sklearn/ensemble/weight_boosting.py:29: DeprecationWarning:numpy.core.umath_tests is an internal NumPy module and should not be imported. It will be removed in a future NumPy release.\n"
     ]
    }
   ],
   "source": [
    "import numpy as np\n",
    "import h5py\n",
    "from chainconsumer import ChainConsumer\n",
    "#from corner import corner\n",
    "from ast import literal_eval\n",
    "from pearce.emulator import LemonPepperWet\n",
    "from os import path\n",
    "from scipy.linalg import inv"
   ]
  },
  {
   "cell_type": "code",
   "execution_count": 3,
   "metadata": {
    "collapsed": true
   },
   "outputs": [],
   "source": [
    "fname = '/u/ki/swmclau2/des/PearceMCMC/ShuffledSHAM_wp_ds_rmin_0.5_HOD.hdf5'"
   ]
  },
  {
   "cell_type": "code",
   "execution_count": 4,
   "metadata": {
    "collapsed": false
   },
   "outputs": [],
   "source": [
    "f = h5py.File(fname, 'r')"
   ]
  },
  {
   "cell_type": "code",
   "execution_count": 5,
   "metadata": {
    "collapsed": false
   },
   "outputs": [],
   "source": [
    "tf = f.attrs['training_file']\n",
    "fixed_params = literal_eval(f.attrs['fixed_params'])\n",
    "if 'rmin' in fixed_params:\n",
    "    del fixed_params['rmin']\n",
    "emu_hps = literal_eval(f.attrs['emu_hps'])"
   ]
  },
  {
   "cell_type": "code",
   "execution_count": 6,
   "metadata": {
    "collapsed": false
   },
   "outputs": [
    {
     "data": {
      "text/plain": [
       "array(['/u/ki/swmclau2/des/Aemulators/wp_zheng07/PearceWpCosmo.hdf5',\n",
       "       '/u/ki/swmclau2/des/Aemulators/ds_zheng07/PearceDsCosmo.hdf5'],\n",
       "      dtype='|S59')"
      ]
     },
     "execution_count": 6,
     "metadata": {},
     "output_type": "execute_result"
    }
   ],
   "source": [
    "tf"
   ]
  },
  {
   "cell_type": "raw",
   "metadata": {
    "collapsed": false
   },
   "source": [
    "tf_base = '/u/ki/swmclau2/des/Aemulators/'\n",
    "\n",
    "_tf = []\n",
    "for t in tf:\n",
    "    last2 = t.split('/')[-2:]\n",
    "    _tf.append(path.join(tf_base, last2[0], last2[1]))\n",
    "    \n",
    "tf = _tf"
   ]
  },
  {
   "cell_type": "code",
   "execution_count": 7,
   "metadata": {
    "collapsed": false
   },
   "outputs": [
    {
     "name": "stdout",
     "output_type": "stream",
     "text": [
      "/u/ki/swmclau2/des/Aemulators/wp_zheng07/PearceWpCosmo.hdf5\n",
      "/u/ki/swmclau2/des/Aemulators/ds_zheng07/PearceDsCosmo.hdf5\n"
     ]
    }
   ],
   "source": [
    "emus = []\n",
    "for t in tf:\n",
    "    print t\n",
    "    emus.append(LemonPepperWet(t, fixed_params = fixed_params, hyperparams = emu_hps) )"
   ]
  },
  {
   "cell_type": "code",
   "execution_count": 8,
   "metadata": {
    "collapsed": false
   },
   "outputs": [],
   "source": [
    "chain_pnames = f.attrs['param_names']"
   ]
  },
  {
   "cell_type": "code",
   "execution_count": 9,
   "metadata": {
    "collapsed": true
   },
   "outputs": [],
   "source": [
    "n_walkers = f.attrs['nwalkers']"
   ]
  },
  {
   "cell_type": "code",
   "execution_count": 10,
   "metadata": {
    "collapsed": false
   },
   "outputs": [],
   "source": [
    "n_burn = 1000\n",
    "chain = f['chain'][n_burn*n_walkers:, :]"
   ]
  },
  {
   "cell_type": "code",
   "execution_count": 11,
   "metadata": {
    "collapsed": false
   },
   "outputs": [],
   "source": [
    "rmin = eval(f.attrs['fixed_params'])['rmin'] if 'rmin' in f.attrs['fixed_params'] else 0"
   ]
  },
  {
   "cell_type": "code",
   "execution_count": 12,
   "metadata": {
    "collapsed": false
   },
   "outputs": [],
   "source": [
    "n_params = chain.shape[1] if len(chain.shape) > 1 else 1"
   ]
  },
  {
   "cell_type": "code",
   "execution_count": 13,
   "metadata": {
    "collapsed": false
   },
   "outputs": [
    {
     "name": "stdout",
     "output_type": "stream",
     "text": [
      "(1001000, 12) 4004\n"
     ]
    }
   ],
   "source": [
    "print chain.shape, chain.shape[0]/n_walkers"
   ]
  },
  {
   "cell_type": "code",
   "execution_count": 14,
   "metadata": {
    "collapsed": false
   },
   "outputs": [
    {
     "data": {
      "text/plain": [
       "<chainconsumer.chainconsumer.ChainConsumer at 0x7f579f2bc6d0>"
      ]
     },
     "execution_count": 14,
     "metadata": {},
     "output_type": "execute_result"
    }
   ],
   "source": [
    "c = ChainConsumer()\n",
    "chain = chain.reshape((-1, n_walkers, chain.shape[1]))\n",
    "chain = chain.reshape((-1, chain.shape[2]), order = 'F')\n",
    "c.add_chain(chain, parameters=list(chain_pnames), walkers = n_walkers)\n"
   ]
  },
  {
   "cell_type": "code",
   "execution_count": 15,
   "metadata": {
    "collapsed": false
   },
   "outputs": [
    {
     "name": "stderr",
     "output_type": "stream",
     "text": [
      "WARNING:chainconsumer.analysis:Parameter ombh2 in chain Chain 0 is not constrained\n"
     ]
    },
    {
     "name": "stdout",
     "output_type": "stream",
     "text": [
      "[ 2.21457780e-02  1.20518620e-01 -1.39331978e+00  9.97265411e-01\n",
      "  7.47500504e+01  3.99701439e+00  8.52783271e-01  1.44956678e+01\n",
      "  1.30572998e+01  4.98815655e-01  8.05531388e-01  7.98680380e-01]\n"
     ]
    }
   ],
   "source": [
    "#MAP = chain.mean(axis = 0)\n",
    "summary = c.analysis.get_summary(chains=0)\n",
    "MAP = np.array([summary[key][1] for key in chain_pnames])\n",
    "print MAP"
   ]
  },
  {
   "cell_type": "code",
   "execution_count": 16,
   "metadata": {
    "collapsed": false
   },
   "outputs": [
    {
     "data": {
      "text/plain": [
       "array(['ombh2', 'omch2', 'w0', 'ns', 'H0', 'Neff', 'sigma8', 'logM1',\n",
       "       'logM0', 'sigma_logM', 'alpha', 'conc_gal_bias'], dtype='|S13')"
      ]
     },
     "execution_count": 16,
     "metadata": {},
     "output_type": "execute_result"
    }
   ],
   "source": [
    "chain_pnames"
   ]
  },
  {
   "cell_type": "code",
   "execution_count": 17,
   "metadata": {
    "collapsed": false
   },
   "outputs": [],
   "source": [
    "MAP_dict = dict(zip(chain_pnames, MAP))"
   ]
  },
  {
   "cell_type": "code",
   "execution_count": 18,
   "metadata": {
    "collapsed": false
   },
   "outputs": [],
   "source": [
    "#fixed_params = eval(f.attrs['chain_fixed_params'])\n",
    "#fixed_params.update(eval(f.attrs['sim'])['cosmo_params'])"
   ]
  },
  {
   "cell_type": "code",
   "execution_count": 19,
   "metadata": {
    "collapsed": true
   },
   "outputs": [],
   "source": [
    "MAP_dict.update(fixed_params)"
   ]
  },
  {
   "cell_type": "code",
   "execution_count": 20,
   "metadata": {
    "collapsed": false
   },
   "outputs": [
    {
     "data": {
      "text/plain": [
       "{'H0': 74.75005037590648,\n",
       " 'Neff': 3.9970143894959707,\n",
       " 'alpha': 0.8055313884220497,\n",
       " 'conc_gal_bias': 0.7986803795790649,\n",
       " 'logM0': 13.057299805926396,\n",
       " 'logM1': 14.49566783172274,\n",
       " 'ns': 0.9972654106229115,\n",
       " 'ombh2': 0.022145777970531806,\n",
       " 'omch2': 0.12051862041674496,\n",
       " 'sigma8': 0.8527832710707373,\n",
       " 'sigma_logM': 0.4988156554231233,\n",
       " 'w0': -1.3933197831762614,\n",
       " 'z': 0.0}"
      ]
     },
     "execution_count": 20,
     "metadata": {},
     "output_type": "execute_result"
    }
   ],
   "source": [
    "MAP_dict"
   ]
  },
  {
   "cell_type": "code",
   "execution_count": 21,
   "metadata": {
    "collapsed": false
   },
   "outputs": [],
   "source": [
    "MAP_pred = np.hstack([emu.emulate_wrt_r(MAP_dict, r_bin_centers=emu.scale_bin_centers).squeeze() for emu in emus])\n",
    "MAP_pred = MAP_pred.reshape((len(emus), -1))"
   ]
  },
  {
   "cell_type": "code",
   "execution_count": 22,
   "metadata": {
    "collapsed": true
   },
   "outputs": [],
   "source": [
    "hod_idxs = np.array(range(7, len(chain_pnames)))\n",
    "cosmo_idxs = np.array(range(7))"
   ]
  },
  {
   "cell_type": "code",
   "execution_count": 23,
   "metadata": {
    "collapsed": true
   },
   "outputs": [],
   "source": [
    "if chain.shape[1] == 7:\n",
    "    cosmo_chain = chain\n",
    "else:\n",
    "    hod_chain = chain[:,7:]#[:, hod_idxs]\n",
    "    cosmo_chain = chain[:,:7]#[:, cosmo_idxs]"
   ]
  },
  {
   "cell_type": "code",
   "execution_count": 24,
   "metadata": {
    "collapsed": true
   },
   "outputs": [],
   "source": [
    "from pearce.mocks import cat_dict\n",
    "cosmo_params = {}"
   ]
  },
  {
   "cell_type": "raw",
   "metadata": {
    "collapsed": true
   },
   "source": [
    "cosmo_params['boxno'] = 1\n",
    "cosmo_params['realization'] = 0"
   ]
  },
  {
   "cell_type": "raw",
   "metadata": {
    "collapsed": true
   },
   "source": [
    "cat = cat_dict['testbox'](**cosmo_params)#construct the specified catalog!"
   ]
  },
  {
   "cell_type": "raw",
   "metadata": {
    "collapsed": true
   },
   "source": [
    "cpv = cat._get_cosmo_param_names_vals()\n",
    "\n",
    "cat_val_dict =  {key: val for key, val in zip(cpv[0], cpv[1])}"
   ]
  },
  {
   "cell_type": "code",
   "execution_count": 25,
   "metadata": {
    "collapsed": true
   },
   "outputs": [],
   "source": [
    "h = 0.6777\n",
    "cosmo_pnames = ['ombh2', 'omch2', 'w0', 'ns', 'H0', 'Neff', 'sigma8']\n",
    "cosmo_true_vals = np.array([0.048206*h**2, 0.307115*h**2-0.048206*h**2,\\\n",
    "                            -1, 0.9667, \\\n",
    "                                h*100, 3.046, 0.8228]) #mdpl2\n",
    "\n",
    "cat_val_dict = dict(zip(cosmo_pnames, cosmo_true_vals))"
   ]
  },
  {
   "cell_type": "code",
   "execution_count": 26,
   "metadata": {
    "collapsed": false
   },
   "outputs": [
    {
     "data": {
      "text/plain": [
       "{'H0': 67.77,\n",
       " 'Neff': 3.046,\n",
       " 'ns': 0.9667,\n",
       " 'ombh2': 0.022139921041739997,\n",
       " 'omch2': 0.11891102387661,\n",
       " 'sigma8': 0.8228,\n",
       " 'w0': -1.0}"
      ]
     },
     "execution_count": 26,
     "metadata": {},
     "output_type": "execute_result"
    }
   ],
   "source": [
    "cat_val_dict"
   ]
  },
  {
   "cell_type": "code",
   "execution_count": 27,
   "metadata": {
    "collapsed": false
   },
   "outputs": [
    {
     "name": "stderr",
     "output_type": "stream",
     "text": [
      " /u/ki/swmclau2/.local/lib/python2.7/site-packages/pearce/emulator/emu.py:506: UserWarning:Emulator value for logM0 11.410 is outside the bounds (12.600, 13.600) of the emulator.\n"
     ]
    }
   ],
   "source": [
    "true_param_dict = cat_val_dict.copy()\n",
    "#hod_params = {'alpha': 1.083, 'conc_gal_bias': 1.0, 'logM0': 13.2,'logM1': 14.2, 'sigma_logM': 0.2}#sim_info['hod_params']\n",
    "hod_params = {'alpha': 1.03887697, 'conc_gal_bias': 1.0, 'logM0': 11.41003864,\\\n",
    "              'logM1': 14.56088772, 'sigma_logM': 0.44415644}#sim_info['hod_params']\n",
    "\n",
    "\n",
    "\n",
    "#hod_params['mean_occupation_centrals_assembias_param1'] = 0.0\n",
    "#hod_params['mean_occupation_satellites_assembias_param1'] =0.0\n",
    "#hod_params['mean_occupation_centrals_assembias_slope1'] = 0.0\n",
    "#hod_params['mean_occupation_satellites_assembias_slope1'] = 0.0\n",
    "#hod_params['mean_occupation_centrals_assembias_corr1'] = 0.0\n",
    "#hod_params['mean_occupation_satellites_assembias_corr1'] =0.0\n",
    "\n",
    "#for pname in emu.get_param_names():\n",
    "#    if 'mean_occupation' in pname:\n",
    "#        hod_params[pname] = 0.0\n",
    "\n",
    "for hp, hv in hod_params.iteritems():\n",
    "    if hp == 'logMmin':\n",
    "        continue\n",
    "    true_param_dict[hp] = hv\n",
    "\n",
    "true_param_dict['conc_gal_bias'] = 1.0\n",
    "true_pred = emu.emulate_wrt_r(true_param_dict)[0]"
   ]
  },
  {
   "cell_type": "code",
   "execution_count": 28,
   "metadata": {
    "collapsed": false
   },
   "outputs": [
    {
     "data": {
      "text/plain": [
       "{'H0': 67.77,\n",
       " 'Neff': 3.046,\n",
       " 'alpha': 1.03887697,\n",
       " 'conc_gal_bias': 1.0,\n",
       " 'logM0': 11.41003864,\n",
       " 'logM1': 14.56088772,\n",
       " 'ns': 0.9667,\n",
       " 'ombh2': 0.022139921041739997,\n",
       " 'omch2': 0.11891102387661,\n",
       " 'sigma8': 0.8228,\n",
       " 'sigma_logM': 0.44415644,\n",
       " 'w0': -1.0}"
      ]
     },
     "execution_count": 28,
     "metadata": {},
     "output_type": "execute_result"
    }
   ],
   "source": [
    "true_param_dict"
   ]
  },
  {
   "cell_type": "code",
   "execution_count": 29,
   "metadata": {
    "collapsed": false
   },
   "outputs": [],
   "source": [
    "true_data = f['data'][()]#.flatten()"
   ]
  },
  {
   "cell_type": "code",
   "execution_count": 30,
   "metadata": {
    "collapsed": true
   },
   "outputs": [],
   "source": [
    "true_data = true_data.reshape((len(emus), -1))"
   ]
  },
  {
   "cell_type": "code",
   "execution_count": 31,
   "metadata": {
    "collapsed": false
   },
   "outputs": [
    {
     "data": {
      "image/png": "[encoded data removed]",
      "text/plain": [
       "<matplotlib.figure.Figure at 0x7f57a0a53c90>"
      ]
     },
     "metadata": {},
     "output_type": "display_data"
    }
   ],
   "source": [
    "plt.plot(emu.scale_bin_centers, true_data[0])\n",
    "plt.plot(emu.scale_bin_centers, true_data[1])\n",
    "\n",
    "plt.loglog();"
   ]
  },
  {
   "cell_type": "code",
   "execution_count": 32,
   "metadata": {
    "collapsed": true
   },
   "outputs": [],
   "source": [
    "rbc = emu.scale_bin_centers#[-len(emu.scale_bin_centers):]"
   ]
  },
  {
   "cell_type": "code",
   "execution_count": 33,
   "metadata": {
    "collapsed": false
   },
   "outputs": [],
   "source": [
    "cov = f['cov'][()]\n",
    "yerr = np.sqrt(np.diag(cov)).reshape((len(emus), -1))"
   ]
  },
  {
   "cell_type": "code",
   "execution_count": 34,
   "metadata": {
    "collapsed": false
   },
   "outputs": [
    {
     "data": {
      "text/plain": [
       "array([1185.97304254,  872.11272889,  731.6999278 ,  566.87510993,\n",
       "        448.24530178,  325.2637077 ,  232.0063067 ,  170.9321767 ,\n",
       "        130.23362818,  102.87702079,   80.99525402,   65.32627076,\n",
       "         51.17903776,   38.70340748,   28.33192567,   19.8247417 ,\n",
       "         12.80279372,    7.55516821])"
      ]
     },
     "execution_count": 34,
     "metadata": {},
     "output_type": "execute_result"
    }
   ],
   "source": [
    "true_data[0]"
   ]
  },
  {
   "cell_type": "raw",
   "metadata": {
    "collapsed": false
   },
   "source": [
    "cov_mean = np.array([7407.57577016, 5860.73332887, 4562.57221101, 3528.4855154 ,\n",
    "       2653.86635206, 1942.18765577, 1375.70010706,  920.94666884,\n",
    "        574.1329663 ,  334.4338443 ,  189.53636194,  118.15514169,\n",
    "         84.2912142 ,   62.74489775,   45.52641089,   31.41342237,\n",
    "         20.19772416,   11.76164792])"
   ]
  },
  {
   "cell_type": "raw",
   "metadata": {
    "collapsed": false
   },
   "source": [
    "plt.plot(rbc, cov_mean, label = 'Cov Mean')\n",
    "plt.plot(rbc, true_data[0], label = 'Data')\n",
    "plt.loglog()"
   ]
  },
  {
   "cell_type": "code",
   "execution_count": 35,
   "metadata": {
    "collapsed": false
   },
   "outputs": [
    {
     "data": {
      "text/plain": [
       "array([0.59665768, 0.42096643, 0.20555253, 0.10496868, 0.05810492,\n",
       "       0.07515728, 0.09103705, 0.08216321, 0.06200544, 0.04549965,\n",
       "       0.03693171, 0.03174838, 0.02842055, 0.03023946, 0.03465111,\n",
       "       0.04203858, 0.05553765, 0.08189264])"
      ]
     },
     "execution_count": 35,
     "metadata": {},
     "output_type": "execute_result"
    }
   ],
   "source": [
    "yerr[0]/true_data[0]"
   ]
  },
  {
   "cell_type": "code",
   "execution_count": 36,
   "metadata": {
    "collapsed": false
   },
   "outputs": [
    {
     "data": {
      "text/plain": [
       "array([ 0.11972916,  0.16697228,  0.23285675,  0.32473812,  0.45287435,\n",
       "        0.63157098,  0.88077831,  1.22831868,  1.71299265,  2.38891085,\n",
       "        3.33153506,  4.646103  ,  6.47937742,  9.03603121, 12.60149776,\n",
       "       17.5738377 , 24.50817968, 34.17869685])"
      ]
     },
     "execution_count": 36,
     "metadata": {},
     "output_type": "execute_result"
    }
   ],
   "source": [
    "rbc"
   ]
  },
  {
   "cell_type": "code",
   "execution_count": 37,
   "metadata": {
    "collapsed": true
   },
   "outputs": [],
   "source": [
    "def cov_to_corr(cov):\n",
    "    std = np.sqrt(np.diag(cov))\n",
    "    \n",
    "    denom = np.outer(std, std)\n",
    "    \n",
    "    return cov/denom"
   ]
  },
  {
   "cell_type": "code",
   "execution_count": 38,
   "metadata": {
    "collapsed": false
   },
   "outputs": [],
   "source": [
    "cmap = sns.diverging_palette(240, 10, n=7, as_cmap = True)"
   ]
  },
  {
   "cell_type": "code",
   "execution_count": 39,
   "metadata": {
    "collapsed": false
   },
   "outputs": [
    {
     "data": {
      "text/plain": [
       "<matplotlib.image.AxesImage at 0x7f579daf4150>"
      ]
     },
     "execution_count": 39,
     "metadata": {},
     "output_type": "execute_result"
    },
    {
     "data": {
      "image/png": "[encoded data removed]",
      "text/plain": [
       "<matplotlib.figure.Figure at 0x7f579c5f8510>"
      ]
     },
     "metadata": {},
     "output_type": "display_data"
    }
   ],
   "source": [
    "plt.imshow(cov_to_corr(cov ) , cmap=cmap, vmin = -1)"
   ]
  },
  {
   "cell_type": "raw",
   "metadata": {
    "collapsed": false
   },
   "source": [
    "(true_data[1]/(10**emus[1].emulate_wrt_r(true_param_dict).squeeze() ) )"
   ]
  },
  {
   "cell_type": "code",
   "execution_count": 40,
   "metadata": {
    "collapsed": false
   },
   "outputs": [
    {
     "data": {
      "text/plain": [
       "array([[1.18597304e+03, 8.72112729e+02, 7.31699928e+02, 5.66875110e+02,\n",
       "        4.48245302e+02, 3.25263708e+02, 2.32006307e+02, 1.70932177e+02,\n",
       "        1.30233628e+02, 1.02877021e+02, 8.09952540e+01, 6.53262708e+01,\n",
       "        5.11790378e+01, 3.87034075e+01, 2.83319257e+01, 1.98247417e+01,\n",
       "        1.28027937e+01, 7.55516821e+00],\n",
       "       [6.71379329e+01, 5.30962166e+01, 4.09252980e+01, 3.07970210e+01,\n",
       "        2.26835760e+01, 1.64138793e+01, 1.17071683e+01, 8.21126429e+00,\n",
       "        5.65477557e+00, 3.80480531e+00, 2.53217008e+00, 1.66578002e+00,\n",
       "        1.14832764e+00, 8.47343250e-01, 6.36190592e-01, 5.15958796e-01,\n",
       "        4.19874593e-01, 3.35738606e-01]])"
      ]
     },
     "execution_count": 40,
     "metadata": {},
     "output_type": "execute_result"
    }
   ],
   "source": [
    "true_data"
   ]
  },
  {
   "cell_type": "code",
   "execution_count": 41,
   "metadata": {
    "collapsed": false
   },
   "outputs": [
    {
     "data": {
      "text/plain": [
       "{'H0': 67.77,\n",
       " 'Neff': 3.046,\n",
       " 'alpha': 1.03887697,\n",
       " 'conc_gal_bias': 1.0,\n",
       " 'logM0': 11.41003864,\n",
       " 'logM1': 14.56088772,\n",
       " 'ns': 0.9667,\n",
       " 'ombh2': 0.022139921041739997,\n",
       " 'omch2': 0.11891102387661,\n",
       " 'sigma8': 0.8228,\n",
       " 'sigma_logM': 0.44415644,\n",
       " 'w0': -1.0}"
      ]
     },
     "execution_count": 41,
     "metadata": {},
     "output_type": "execute_result"
    }
   ],
   "source": [
    "true_param_dict"
   ]
  },
  {
   "cell_type": "code",
   "execution_count": 42,
   "metadata": {
    "collapsed": false
   },
   "outputs": [
    {
     "data": {
      "text/plain": [
       "array([1185.97304254,  872.11272889,  731.6999278 ,  566.87510993,\n",
       "        448.24530178,  325.2637077 ,  232.0063067 ,  170.9321767 ,\n",
       "        130.23362818,  102.87702079,   80.99525402,   65.32627076,\n",
       "         51.17903776,   38.70340748,   28.33192567,   19.8247417 ,\n",
       "         12.80279372,    7.55516821])"
      ]
     },
     "execution_count": 42,
     "metadata": {},
     "output_type": "execute_result"
    }
   ],
   "source": [
    "true_data[0]"
   ]
  },
  {
   "cell_type": "code",
   "execution_count": 43,
   "metadata": {
    "collapsed": false
   },
   "outputs": [
    {
     "name": "stderr",
     "output_type": "stream",
     "text": [
      " /u/ki/swmclau2/.local/lib/python2.7/site-packages/pearce/emulator/emu.py:506: UserWarning:Emulator value for logM0 11.410 is outside the bounds (12.600, 13.600) of the emulator.\n",
      " /u/ki/swmclau2/.local/lib/python2.7/site-packages/pearce/emulator/emu.py:506: UserWarning:Emulator value for logM0 11.410 is outside the bounds (12.600, 13.600) of the emulator.\n"
     ]
    },
    {
     "data": {
      "image/png": "[encoded data removed]",
      "text/plain": [
       "<matplotlib.figure.Figure at 0x7f579abbb310>"
      ]
     },
     "metadata": {},
     "output_type": "display_data"
    }
   ],
   "source": [
    "fig = plt.figure(figsize = (12,5))\n",
    "for i in xrange(len(emus)):\n",
    "    plt.subplot(1,2,i+1)\n",
    "    true_pred = emus[i].emulate_wrt_r(true_param_dict).squeeze()\n",
    "    plt.errorbar(rbc, true_data[i], yerr=yerr[i], label = 'Data')\n",
    "    plt.plot(rbc, 10**MAP_pred[i], label = 'MAP')\n",
    "    plt.plot(rbc, (10**true_pred), label = 'Emu at Truth')\n",
    "\n",
    "    plt.loglog()\n",
    "    plt.legend(loc='best')\n",
    "plt.show();"
   ]
  },
  {
   "cell_type": "code",
   "execution_count": 44,
   "metadata": {
    "collapsed": true
   },
   "outputs": [],
   "source": [
    "rmin_idxs = rbc > rmin"
   ]
  },
  {
   "cell_type": "code",
   "execution_count": 45,
   "metadata": {
    "collapsed": false
   },
   "outputs": [
    {
     "name": "stderr",
     "output_type": "stream",
     "text": [
      " /u/ki/swmclau2/.local/lib/python2.7/site-packages/pearce/emulator/emu.py:506: UserWarning:Emulator value for logM0 11.410 is outside the bounds (12.600, 13.600) of the emulator.\n",
      " /u/ki/swmclau2/.local/lib/python2.7/site-packages/pearce/emulator/emu.py:506: UserWarning:Emulator value for logM0 11.410 is outside the bounds (12.600, 13.600) of the emulator.\n"
     ]
    },
    {
     "data": {
      "image/png": "[encoded data removed]",
      "text/plain": [
       "<matplotlib.figure.Figure at 0x7f579dda1e10>"
      ]
     },
     "metadata": {},
     "output_type": "display_data"
    }
   ],
   "source": [
    "fig = plt.figure(figsize = (12,5))\n",
    "for i in xrange(len(emus)):\n",
    "    plt.subplot(1,2,i+1)\n",
    "    true_pred = emus[i].emulate_wrt_r(true_param_dict).squeeze()\n",
    "    plt.errorbar(rbc[rmin_idxs], np.ones_like(true_data[i][rmin_idxs]), yerr=yerr[i][rmin_idxs]/true_data[i][rmin_idxs], label = 'Data')\n",
    "    plt.plot(rbc[rmin_idxs], (10**MAP_pred[i][rmin_idxs])/true_data[i][rmin_idxs], label = 'MAP')\n",
    "    plt.plot(rbc[rmin_idxs], (10**true_pred[rmin_idxs])/true_data[i][rmin_idxs], label = 'Emu at Truth')\n",
    "    plt.legend(loc='best')\n",
    "    plt.xscale('log')\n",
    "plt.show();"
   ]
  },
  {
   "cell_type": "code",
   "execution_count": 46,
   "metadata": {
    "collapsed": false
   },
   "outputs": [
    {
     "data": {
      "text/plain": [
       "'ds'"
      ]
     },
     "execution_count": 46,
     "metadata": {},
     "output_type": "execute_result"
    }
   ],
   "source": [
    "emu.obs"
   ]
  },
  {
   "cell_type": "code",
   "execution_count": 47,
   "metadata": {
    "collapsed": false
   },
   "outputs": [
    {
     "data": {
      "text/plain": [
       "array([ 0.11972916,  0.16697228,  0.23285675,  0.32473812,  0.45287435,\n",
       "        0.63157098,  0.88077831,  1.22831868,  1.71299265,  2.38891085,\n",
       "        3.33153506,  4.646103  ,  6.47937742,  9.03603121, 12.60149776,\n",
       "       17.5738377 , 24.50817968, 34.17869685])"
      ]
     },
     "execution_count": 47,
     "metadata": {},
     "output_type": "execute_result"
    }
   ],
   "source": [
    "rbc"
   ]
  },
  {
   "cell_type": "code",
   "execution_count": 48,
   "metadata": {
    "collapsed": false
   },
   "outputs": [
    {
     "name": "stdout",
     "output_type": "stream",
     "text": [
      "27440000.0 0.000484607837818\n"
     ]
    }
   ],
   "source": [
    "npart_aemulus = 1400**3\n",
    "npart_mdpl2 = 3840**3\n",
    "\n",
    "downsample_factor = 1e-2\n",
    "npart_aemulus_ds = npart_aemulus*downsample_factor\n",
    "print npart_aemulus_ds, npart_aemulus_ds/npart_mdpl2"
   ]
  },
  {
   "cell_type": "code",
   "execution_count": 49,
   "metadata": {
    "collapsed": false
   },
   "outputs": [
    {
     "data": {
      "text/plain": [
       "array(['ombh2', 'omch2', 'w0', 'ns', 'H0', 'Neff', 'sigma8', 'logM1',\n",
       "       'logM0', 'sigma_logM', 'alpha', 'conc_gal_bias'], dtype='|S13')"
      ]
     },
     "execution_count": 49,
     "metadata": {},
     "output_type": "execute_result"
    }
   ],
   "source": [
    "chain_pnames"
   ]
  },
  {
   "cell_type": "code",
   "execution_count": 50,
   "metadata": {
    "collapsed": false
   },
   "outputs": [
    {
     "name": "stderr",
     "output_type": "stream",
     "text": [
      " /u/ki/swmclau2/.local/lib/python2.7/site-packages/pearce/emulator/emu.py:506: UserWarning:Emulator value for logM0 11.410 is outside the bounds (12.600, 13.600) of the emulator.\n",
      " /u/ki/swmclau2/.local/lib/python2.7/site-packages/pearce/emulator/emu.py:506: UserWarning:Emulator value for logM0 11.410 is outside the bounds (12.600, 13.600) of the emulator.\n"
     ]
    }
   ],
   "source": [
    "true_pred = np.hstack([emu.emulate_wrt_r(true_param_dict, r_bin_centers=emu.scale_bin_centers).squeeze() for emu in emus])\n",
    "true_pred = true_pred.reshape((len(emus), -1))"
   ]
  },
  {
   "cell_type": "code",
   "execution_count": 51,
   "metadata": {
    "collapsed": true
   },
   "outputs": [],
   "source": [
    "cov_rmin_idxs = np.hstack([rmin_idxs for i in xrange(len(emus))])"
   ]
  },
  {
   "cell_type": "code",
   "execution_count": 52,
   "metadata": {
    "collapsed": false
   },
   "outputs": [
    {
     "name": "stdout",
     "output_type": "stream",
     "text": [
      "True Red. Chi2\n",
      "36.73054044147041\n"
     ]
    }
   ],
   "source": [
    "print 'True Red. Chi2'\n",
    "R = (10**true_pred[:, rmin_idxs].flatten()-true_data[:, rmin_idxs].flatten())\n",
    "\n",
    "chi2 =  R.T.dot(inv(cov[cov_rmin_idxs][:,cov_rmin_idxs])).dot(R)\n",
    "dof = len(chain_pnames)\n",
    "\n",
    "print chi2/dof"
   ]
  },
  {
   "cell_type": "code",
   "execution_count": 53,
   "metadata": {
    "collapsed": false
   },
   "outputs": [
    {
     "name": "stdout",
     "output_type": "stream",
     "text": [
      "Map Red. Chi2\n",
      "0.48294294291514356\n"
     ]
    }
   ],
   "source": [
    "print 'Map Red. Chi2'\n",
    "R = (10**MAP_pred[:, rmin_idxs].flatten()-true_data[:, rmin_idxs].flatten())\n",
    "\n",
    "chi2 =  R.T.dot(inv(cov[cov_rmin_idxs][:,cov_rmin_idxs])).dot(R)\n",
    "dof = len(chain_pnames)\n",
    "\n",
    "print chi2/dof"
   ]
  },
  {
   "cell_type": "raw",
   "metadata": {
    "collapsed": false
   },
   "source": [
    "fig = plt.figure(figsize = (14,6))\n",
    "chain_samples = np.random.choice(chain.shape[0], size = 100, replace = False)\n",
    "\n",
    "for i in xrange(len(emus)):\n",
    "    plt.subplot(1,2,i+1)\n",
    "    plt.errorbar(rbc, np.ones_like(true_data[i]), yerr=yerr[i]/true_data[i], label = 'Data')\n",
    "    plt.xscale('log')\n",
    "    \n",
    "for sample in chain[chain_samples]:\n",
    "    param_dict = dict(zip(chain_pnames, sample))\n",
    "    param_dict.update(fixed_params)\n",
    "    for i in xrange(len(emus)):\n",
    "        plt.subplot(1,2,i+1)\n",
    "        pred = emus[i].emulate_wrt_r(param_dict).squeeze()\n",
    "        plt.plot(rbc, (10**pred)/true_data[i], alpha = 0.2)#, label = 'MAP')\n",
    "\n",
    "\n",
    "plt.legend(loc='best')\n",
    "plt.show();"
   ]
  },
  {
   "cell_type": "code",
   "execution_count": 54,
   "metadata": {
    "collapsed": true
   },
   "outputs": [],
   "source": [
    "N = 6\n",
    "cmap = sns.color_palette(\"BrBG_d\", N)"
   ]
  },
  {
   "cell_type": "code",
   "execution_count": 55,
   "metadata": {
    "collapsed": false
   },
   "outputs": [
    {
     "data": {
      "text/plain": [
       "['ombh2',\n",
       " 'omch2',\n",
       " 'w0',\n",
       " 'ns',\n",
       " 'H0',\n",
       " 'Neff',\n",
       " 'sigma8',\n",
       " 'logM1',\n",
       " 'logM0',\n",
       " 'sigma_logM',\n",
       " 'alpha',\n",
       " 'conc_gal_bias']"
      ]
     },
     "execution_count": 55,
     "metadata": {},
     "output_type": "execute_result"
    }
   ],
   "source": [
    "emu.get_param_names()"
   ]
  },
  {
   "cell_type": "code",
   "execution_count": 60,
   "metadata": {
    "collapsed": false
   },
   "outputs": [
    {
     "name": "stderr",
     "output_type": "stream",
     "text": [
      " /u/ki/swmclau2/.local/lib/python2.7/site-packages/pearce/emulator/emu.py:506: UserWarning:Emulator value for logM0 11.410 is outside the bounds (12.600, 13.600) of the emulator.\n",
      " /u/ki/swmclau2/.local/lib/python2.7/site-packages/pearce/emulator/emu.py:506: UserWarning:Emulator value for logM0 11.410 is outside the bounds (12.600, 13.600) of the emulator.\n",
      " /u/ki/swmclau2/.local/lib/python2.7/site-packages/pearce/emulator/emu.py:506: UserWarning:Emulator value for logM0 11.410 is outside the bounds (12.600, 13.600) of the emulator.\n",
      " /u/ki/swmclau2/.local/lib/python2.7/site-packages/pearce/emulator/emu.py:506: UserWarning:Emulator value for logM0 11.410 is outside the bounds (12.600, 13.600) of the emulator.\n",
      " /u/ki/swmclau2/.local/lib/python2.7/site-packages/pearce/emulator/emu.py:506: UserWarning:Emulator value for logM0 11.410 is outside the bounds (12.600, 13.600) of the emulator.\n",
      " /u/ki/swmclau2/.local/lib/python2.7/site-packages/pearce/emulator/emu.py:506: UserWarning:Emulator value for logM0 11.410 is outside the bounds (12.600, 13.600) of the emulator.\n",
      " /u/ki/swmclau2/.local/lib/python2.7/site-packages/pearce/emulator/emu.py:506: UserWarning:Emulator value for logM0 11.410 is outside the bounds (12.600, 13.600) of the emulator.\n",
      " /u/ki/swmclau2/.local/lib/python2.7/site-packages/pearce/emulator/emu.py:506: UserWarning:Emulator value for logM0 11.410 is outside the bounds (12.600, 13.600) of the emulator.\n",
      " /u/ki/swmclau2/.local/lib/python2.7/site-packages/pearce/emulator/emu.py:506: UserWarning:Emulator value for logM0 11.410 is outside the bounds (12.600, 13.600) of the emulator.\n",
      " /u/ki/swmclau2/.local/lib/python2.7/site-packages/pearce/emulator/emu.py:509: UserWarning:One value for sigma_logM is outside the bounds (0.050, 0.500) of the emulator.\n",
      " /u/ki/swmclau2/.local/lib/python2.7/site-packages/pearce/emulator/emu.py:506: UserWarning:Emulator value for logM0 11.410 is outside the bounds (12.600, 13.600) of the emulator.\n",
      " /u/ki/swmclau2/.local/lib/python2.7/site-packages/pearce/emulator/emu.py:509: UserWarning:One value for sigma_logM is outside the bounds (0.050, 0.500) of the emulator.\n",
      " /u/ki/swmclau2/.local/lib/python2.7/site-packages/pearce/emulator/emu.py:506: UserWarning:Emulator value for logM0 11.410 is outside the bounds (12.600, 13.600) of the emulator.\n",
      " /u/ki/swmclau2/.local/lib/python2.7/site-packages/pearce/emulator/emu.py:509: UserWarning:One value for sigma_logM is outside the bounds (0.050, 0.500) of the emulator.\n",
      " /u/ki/swmclau2/.local/lib/python2.7/site-packages/pearce/emulator/emu.py:506: UserWarning:Emulator value for logM0 11.410 is outside the bounds (12.600, 13.600) of the emulator.\n",
      " /u/ki/swmclau2/.local/lib/python2.7/site-packages/pearce/emulator/emu.py:509: UserWarning:One value for sigma_logM is outside the bounds (0.050, 0.500) of the emulator.\n",
      " /u/ki/swmclau2/.local/lib/python2.7/site-packages/pearce/emulator/emu.py:506: UserWarning:Emulator value for logM0 11.410 is outside the bounds (12.600, 13.600) of the emulator.\n",
      " /u/ki/swmclau2/.local/lib/python2.7/site-packages/pearce/emulator/emu.py:509: UserWarning:One value for sigma_logM is outside the bounds (0.050, 0.500) of the emulator.\n",
      " /u/ki/swmclau2/.local/lib/python2.7/site-packages/pearce/emulator/emu.py:506: UserWarning:Emulator value for logM0 11.410 is outside the bounds (12.600, 13.600) of the emulator.\n",
      " /u/ki/swmclau2/.local/lib/python2.7/site-packages/pearce/emulator/emu.py:509: UserWarning:One value for sigma_logM is outside the bounds (0.050, 0.500) of the emulator.\n"
     ]
    },
    {
     "data": {
      "image/png": "[encoded data removed]",
      "text/plain": [
       "<matplotlib.figure.Figure at 0x7f579a8e5ad0>"
      ]
     },
     "metadata": {},
     "output_type": "display_data"
    }
   ],
   "source": [
    "fig = plt.figure(figsize=(15,6))\n",
    "varied_pname = 'sigma_logM'\n",
    "lower, upper = 0.05, 1.0#emu.get_param_bounds(varied_pname)\n",
    "\n",
    "for i in xrange(len(emus)):\n",
    "    plt.subplot(1,2,i+1)\n",
    "    plt.errorbar(rbc[rmin_idxs], np.ones_like(true_data[i][rmin_idxs]),\\\n",
    "                 yerr=yerr[i][rmin_idxs]/true_data[i][rmin_idxs], label = 'Data')\n",
    "    pred = emus[i].emulate_wrt_r(true_param_dict).squeeze()\n",
    "    #pred = emus[i].emulate_wrt_r(MAP_dict).squeeze()\n",
    "\n",
    "    plt.plot(rbc[rmin_idxs], (10**pred[rmin_idxs])/true_data[i][rmin_idxs], label = 'Truth', color = 'k')    \n",
    "\n",
    "    plt.xscale('log')\n",
    "    \n",
    "for c, val in zip(cmap, np.linspace(lower, upper, N) ):\n",
    "    param_dict = true_param_dict.copy()\n",
    "    #param_dict=  MAP_dict.copy()\n",
    "    param_dict[varied_pname] = val\n",
    "\n",
    "    for i in xrange(len(emus)):\n",
    "        plt.subplot(1,2,i+1)\n",
    "        pred = emus[i].emulate_wrt_r(param_dict).squeeze()\n",
    "        plt.plot(rbc[rmin_idxs], (10**pred[rmin_idxs])/true_data[i][rmin_idxs], label = '%.3f'%val, color = c)\n",
    "    \n",
    "plt.legend(loc='best')\n",
    "plt.show();"
   ]
  },
  {
   "cell_type": "code",
   "execution_count": null,
   "metadata": {
    "collapsed": true
   },
   "outputs": [],
   "source": []
  },
  {
   "cell_type": "code",
   "execution_count": null,
   "metadata": {
    "collapsed": true
   },
   "outputs": [],
   "source": []
  }
 ],
 "metadata": {
  "kernelspec": {
   "display_name": "Python [default]",
   "language": "python",
   "name": "python2"
  },
  "language_info": {
   "codemirror_mode": {
    "name": "ipython",
    "version": 2
   },
   "file_extension": ".py",
   "mimetype": "text/x-python",
   "name": "python",
   "nbconvert_exporter": "python",
   "pygments_lexer": "ipython2",
   "version": "2.7.13"
  }
 },
 "nbformat": 4,
 "nbformat_minor": 1
}

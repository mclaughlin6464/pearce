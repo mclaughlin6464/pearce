{
 "cells": [
  {
   "cell_type": "markdown",
   "metadata": {},
   "source": [
    "That last notebook got messy so I'm making a new cleaner one that will enable me to sample over both emulators simultaneously. "
   ]
  },
  {
   "cell_type": "code",
   "execution_count": 1,
   "metadata": {
    "collapsed": true
   },
   "outputs": [],
   "source": [
    "import matplotlib\n",
    "#matplotlib.use('Agg')\n",
    "from matplotlib import pyplot as plt\n",
    "%matplotlib inline\n",
    "import seaborn as sns\n",
    "sns.set()"
   ]
  },
  {
   "cell_type": "code",
   "execution_count": 2,
   "metadata": {
    "collapsed": false
   },
   "outputs": [
    {
     "name": "stderr",
     "output_type": "stream",
     "text": [
      " /u/ki/swmclau2/.conda/envs/hodemulator/lib/python2.7/site-packages/sklearn/ensemble/weight_boosting.py:29: DeprecationWarning:numpy.core.umath_tests is an internal NumPy module and should not be imported. It will be removed in a future NumPy release.\n"
     ]
    }
   ],
   "source": [
    "import numpy as np\n",
    "import h5py\n",
    "from chainconsumer import ChainConsumer\n",
    "#from corner import corner\n",
    "from ast import literal_eval\n",
    "from pearce.emulator import LemonPepperWet\n",
    "from os import path\n",
    "from scipy.linalg import inv"
   ]
  },
  {
   "cell_type": "code",
   "execution_count": 3,
   "metadata": {
    "collapsed": true
   },
   "outputs": [],
   "source": [
    "#fname = '/u/ki/swmclau2/des/PearceMCMC/HOD_vdf_rmin_None_HOD.hdf5'\n",
    "fname = '/u/ki/swmclau2/des/PearceMCMC/UniverseMachine_wp_ds_rmin_0.5_HOD.hdf5'"
   ]
  },
  {
   "cell_type": "code",
   "execution_count": 4,
   "metadata": {
    "collapsed": false
   },
   "outputs": [],
   "source": [
    "f = h5py.File(fname, 'r')"
   ]
  },
  {
   "cell_type": "code",
   "execution_count": 5,
   "metadata": {
    "collapsed": false
   },
   "outputs": [],
   "source": [
    "tf = f.attrs['training_file']\n",
    "fixed_params = literal_eval(f.attrs['fixed_params'])\n",
    "if 'rmin' in fixed_params:\n",
    "    del fixed_params['rmin']\n",
    "emu_hps = literal_eval(f.attrs['emu_hps'])"
   ]
  },
  {
   "cell_type": "code",
   "execution_count": 6,
   "metadata": {
    "collapsed": false
   },
   "outputs": [
    {
     "data": {
      "text/plain": [
       "array(['/u/ki/swmclau2/des/Aemulators/wp_zheng07/PearceWpCosmo.hdf5',\n",
       "       '/u/ki/swmclau2/des/Aemulators/ds_zheng07/PearceDsCosmo.hdf5'],\n",
       "      dtype='|S59')"
      ]
     },
     "execution_count": 6,
     "metadata": {},
     "output_type": "execute_result"
    }
   ],
   "source": [
    "tf"
   ]
  },
  {
   "cell_type": "raw",
   "metadata": {
    "collapsed": false
   },
   "source": [
    "tf_base = '/u/ki/swmclau2/des/Aemulators/'\n",
    "\n",
    "_tf = []\n",
    "for t in tf:\n",
    "    last2 = t.split('/')[-2:]\n",
    "    _tf.append(path.join(tf_base, last2[0], last2[1]))\n",
    "    \n",
    "tf = _tf"
   ]
  },
  {
   "cell_type": "code",
   "execution_count": 7,
   "metadata": {
    "collapsed": false
   },
   "outputs": [
    {
     "name": "stdout",
     "output_type": "stream",
     "text": [
      "/u/ki/swmclau2/des/Aemulators/wp_zheng07/PearceWpCosmo.hdf5\n",
      "/u/ki/swmclau2/des/Aemulators/ds_zheng07/PearceDsCosmo.hdf5\n"
     ]
    }
   ],
   "source": [
    "emus = []\n",
    "for t in tf:\n",
    "    print t\n",
    "    emus.append(LemonPepperWet(t, fixed_params = fixed_params, hyperparams = emu_hps) )"
   ]
  },
  {
   "cell_type": "code",
   "execution_count": 8,
   "metadata": {
    "collapsed": false
   },
   "outputs": [],
   "source": [
    "chain_pnames = f.attrs['param_names']"
   ]
  },
  {
   "cell_type": "code",
   "execution_count": 9,
   "metadata": {
    "collapsed": true
   },
   "outputs": [],
   "source": [
    "n_walkers = f.attrs['nwalkers']"
   ]
  },
  {
   "cell_type": "code",
   "execution_count": 10,
   "metadata": {
    "collapsed": false
   },
   "outputs": [],
   "source": [
    "n_burn = 1000\n",
    "chain = f['chain'][n_burn*n_walkers:, :]"
   ]
  },
  {
   "cell_type": "code",
   "execution_count": 11,
   "metadata": {
    "collapsed": false
   },
   "outputs": [],
   "source": [
    "rmin = eval(f.attrs['fixed_params'])['rmin'] if 'rmin' in f.attrs['fixed_params'] else 0"
   ]
  },
  {
   "cell_type": "code",
   "execution_count": 12,
   "metadata": {
    "collapsed": false
   },
   "outputs": [],
   "source": [
    "n_params = chain.shape[1] if len(chain.shape) > 1 else 1"
   ]
  },
  {
   "cell_type": "code",
   "execution_count": 13,
   "metadata": {
    "collapsed": false
   },
   "outputs": [
    {
     "name": "stdout",
     "output_type": "stream",
     "text": [
      "(6177250, 12) 24709\n"
     ]
    }
   ],
   "source": [
    "print chain.shape, chain.shape[0]/n_walkers"
   ]
  },
  {
   "cell_type": "code",
   "execution_count": 14,
   "metadata": {
    "collapsed": false
   },
   "outputs": [
    {
     "data": {
      "text/plain": [
       "<chainconsumer.chainconsumer.ChainConsumer at 0x7f03ea299610>"
      ]
     },
     "execution_count": 14,
     "metadata": {},
     "output_type": "execute_result"
    }
   ],
   "source": [
    "c = ChainConsumer()\n",
    "chain = chain.reshape((-1, n_walkers, chain.shape[1]))\n",
    "chain = chain.reshape((-1, chain.shape[2]), order = 'F')\n",
    "c.add_chain(chain, parameters=list(chain_pnames), walkers = n_walkers)\n"
   ]
  },
  {
   "cell_type": "code",
   "execution_count": 15,
   "metadata": {
    "collapsed": false
   },
   "outputs": [
    {
     "name": "stdout",
     "output_type": "stream",
     "text": [
      "[ 2.18687599e-02  1.22916883e-01 -7.99278608e-01  9.79299448e-01\n",
      "  7.11110170e+01  2.62645651e+00  8.74241348e-01  1.41531024e+01\n",
      "  1.31672107e+01  2.75134919e-01  1.07438013e+00  1.59453719e+00]\n"
     ]
    }
   ],
   "source": [
    "#MAP = chain.mean(axis = 0)\n",
    "summary = c.analysis.get_summary(chains=0)\n",
    "MAP = np.array([summary[key][1] for key in chain_pnames])\n",
    "print MAP"
   ]
  },
  {
   "cell_type": "code",
   "execution_count": 16,
   "metadata": {
    "collapsed": false
   },
   "outputs": [
    {
     "data": {
      "text/plain": [
       "array(['ombh2', 'omch2', 'w0', 'ns', 'H0', 'Neff', 'sigma8', 'logM1',\n",
       "       'logM0', 'sigma_logM', 'alpha', 'conc_gal_bias'], dtype='|S13')"
      ]
     },
     "execution_count": 16,
     "metadata": {},
     "output_type": "execute_result"
    }
   ],
   "source": [
    "chain_pnames"
   ]
  },
  {
   "cell_type": "code",
   "execution_count": 17,
   "metadata": {
    "collapsed": false
   },
   "outputs": [],
   "source": [
    "MAP_dict = dict(zip(chain_pnames, MAP))"
   ]
  },
  {
   "cell_type": "code",
   "execution_count": 18,
   "metadata": {
    "collapsed": false
   },
   "outputs": [],
   "source": [
    "#fixed_params = eval(f.attrs['chain_fixed_params'])\n",
    "#fixed_params.update(eval(f.attrs['sim'])['cosmo_params'])"
   ]
  },
  {
   "cell_type": "code",
   "execution_count": 19,
   "metadata": {
    "collapsed": true
   },
   "outputs": [],
   "source": [
    "MAP_dict.update(fixed_params)"
   ]
  },
  {
   "cell_type": "code",
   "execution_count": 20,
   "metadata": {
    "collapsed": false
   },
   "outputs": [
    {
     "data": {
      "text/plain": [
       "{'H0': 71.11101702698983,\n",
       " 'Neff': 2.6264565082258016,\n",
       " 'alpha': 1.0743801251125065,\n",
       " 'conc_gal_bias': 1.5945371850689702,\n",
       " 'logM0': 13.167210700524093,\n",
       " 'logM1': 14.153102364542466,\n",
       " 'ns': 0.9792994478307064,\n",
       " 'ombh2': 0.021868759914671777,\n",
       " 'omch2': 0.12291688313363339,\n",
       " 'sigma8': 0.8742413475116325,\n",
       " 'sigma_logM': 0.275134919075714,\n",
       " 'w0': -0.7992786080494436,\n",
       " 'z': 0.0}"
      ]
     },
     "execution_count": 20,
     "metadata": {},
     "output_type": "execute_result"
    }
   ],
   "source": [
    "MAP_dict"
   ]
  },
  {
   "cell_type": "code",
   "execution_count": 21,
   "metadata": {
    "collapsed": false
   },
   "outputs": [],
   "source": [
    "MAP_pred = np.hstack([emu.emulate_wrt_r(MAP_dict, r_bin_centers=emu.scale_bin_centers).squeeze() for emu in emus])\n",
    "MAP_pred = MAP_pred.reshape((len(emus), -1))"
   ]
  },
  {
   "cell_type": "code",
   "execution_count": 22,
   "metadata": {
    "collapsed": true
   },
   "outputs": [],
   "source": [
    "hod_idxs = np.array(range(7, len(chain_pnames)))\n",
    "cosmo_idxs = np.array(range(7))"
   ]
  },
  {
   "cell_type": "code",
   "execution_count": 23,
   "metadata": {
    "collapsed": true
   },
   "outputs": [],
   "source": [
    "if chain.shape[1] == 7:\n",
    "    cosmo_chain = chain\n",
    "else:\n",
    "    hod_chain = chain[:,7:]#[:, hod_idxs]\n",
    "    cosmo_chain = chain[:,:7]#[:, cosmo_idxs]"
   ]
  },
  {
   "cell_type": "code",
   "execution_count": 24,
   "metadata": {
    "collapsed": true
   },
   "outputs": [],
   "source": [
    "from pearce.mocks import cat_dict\n",
    "cosmo_params = {}"
   ]
  },
  {
   "cell_type": "code",
   "execution_count": 25,
   "metadata": {
    "collapsed": true
   },
   "outputs": [],
   "source": [
    "cosmo_params['boxno'] = 1\n",
    "cosmo_params['realization'] = 0"
   ]
  },
  {
   "cell_type": "code",
   "execution_count": 26,
   "metadata": {
    "collapsed": true
   },
   "outputs": [],
   "source": [
    "cat = cat_dict['testbox'](**cosmo_params)#construct the specified catalog!"
   ]
  },
  {
   "cell_type": "code",
   "execution_count": 27,
   "metadata": {
    "collapsed": true
   },
   "outputs": [],
   "source": [
    "cpv = cat._get_cosmo_param_names_vals()\n",
    "\n",
    "cat_val_dict =  {key: val for key, val in zip(cpv[0], cpv[1])}"
   ]
  },
  {
   "cell_type": "raw",
   "metadata": {
    "collapsed": true
   },
   "source": [
    "h = 0.6777\n",
    "cosmo_pnames = ['ombh2', 'omch2', 'w0', 'ns', 'H0', 'Neff', 'sigma8']\n",
    "cosmo_true_vals = np.array([0.048206*h**2, 0.307115*h**2-0.048206*h**2,\\\n",
    "                            -1, 0.9667, \\\n",
    "                                h*100, 3.046, 0.8228]) #mdpl2\n",
    "\n",
    "cat_val_dict = dict(zip(cosmo_pnames, cosmo_true_vals))"
   ]
  },
  {
   "cell_type": "code",
   "execution_count": 28,
   "metadata": {
    "collapsed": false
   },
   "outputs": [
    {
     "data": {
      "text/plain": [
       "{'H0': 65.7317,\n",
       " 'Neff': 3.2,\n",
       " 'ns': 0.971515,\n",
       " 'ombh2': 0.022762900000000003,\n",
       " 'omch2': 0.11283,\n",
       " 'sigma8': 0.7542319000000001,\n",
       " 'w0': -0.861513}"
      ]
     },
     "execution_count": 28,
     "metadata": {},
     "output_type": "execute_result"
    }
   ],
   "source": [
    "cat_val_dict"
   ]
  },
  {
   "cell_type": "code",
   "execution_count": 29,
   "metadata": {
    "collapsed": false
   },
   "outputs": [],
   "source": [
    "true_param_dict = cat_val_dict.copy()\n",
    "hod_params = {'alpha': 1.083, 'conc_gal_bias': 1.0, 'logM0': 13.2,'logM1': 14.2, 'sigma_logM': 0.2}#sim_info['hod_params']\n",
    "#hod_params = {'alpha': 1.03887697, 'conc_gal_bias': 1.0, 'logM0': 11.41003864,\\\n",
    "#              'logM1': 14.56088772, 'sigma_logM': 0.44415644}#sim_info['hod_params']\n",
    "\n",
    "\n",
    "\n",
    "#hod_params['mean_occupation_centrals_assembias_param1'] = 0.0\n",
    "#hod_params['mean_occupation_satellites_assembias_param1'] =0.0\n",
    "#hod_params['mean_occupation_centrals_assembias_slope1'] = 0.0\n",
    "#hod_params['mean_occupation_satellites_assembias_slope1'] = 0.0\n",
    "#hod_params['mean_occupation_centrals_assembias_corr1'] = 0.0\n",
    "#hod_params['mean_occupation_satellites_assembias_corr1'] =0.0\n",
    "\n",
    "#for pname in emu.get_param_names():\n",
    "#    if 'mean_occupation' in pname:\n",
    "#        hod_params[pname] = 0.0\n",
    "\n",
    "for hp, hv in hod_params.iteritems():\n",
    "    if hp == 'logMmin':\n",
    "        continue\n",
    "    true_param_dict[hp] = hv\n",
    "\n",
    "true_param_dict['conc_gal_bias'] = 1.0\n",
    "true_pred = emu.emulate_wrt_r(true_param_dict)[0]"
   ]
  },
  {
   "cell_type": "code",
   "execution_count": 30,
   "metadata": {
    "collapsed": false
   },
   "outputs": [
    {
     "data": {
      "text/plain": [
       "{'H0': 65.7317,\n",
       " 'Neff': 3.2,\n",
       " 'alpha': 1.083,\n",
       " 'conc_gal_bias': 1.0,\n",
       " 'logM0': 13.2,\n",
       " 'logM1': 14.2,\n",
       " 'ns': 0.971515,\n",
       " 'ombh2': 0.022762900000000003,\n",
       " 'omch2': 0.11283,\n",
       " 'sigma8': 0.7542319000000001,\n",
       " 'sigma_logM': 0.2,\n",
       " 'w0': -0.861513}"
      ]
     },
     "execution_count": 30,
     "metadata": {},
     "output_type": "execute_result"
    }
   ],
   "source": [
    "true_param_dict"
   ]
  },
  {
   "cell_type": "code",
   "execution_count": 31,
   "metadata": {
    "collapsed": false
   },
   "outputs": [],
   "source": [
    "true_data = f['data'][()]#.flatten()"
   ]
  },
  {
   "cell_type": "code",
   "execution_count": 32,
   "metadata": {
    "collapsed": true
   },
   "outputs": [],
   "source": [
    "true_data = true_data.reshape((len(emus), -1))"
   ]
  },
  {
   "cell_type": "code",
   "execution_count": 33,
   "metadata": {
    "collapsed": false
   },
   "outputs": [
    {
     "data": {
      "image/png": "[encoded data removed]",
      "text/plain": [
       "<matplotlib.figure.Figure at 0x7f03e50c9410>"
      ]
     },
     "metadata": {},
     "output_type": "display_data"
    }
   ],
   "source": [
    "plt.plot(emu.scale_bin_centers, true_data[0])\n",
    "#plt.plot(emu.scale_bin_centers, true_data[1])\n",
    "\n",
    "plt.loglog();"
   ]
  },
  {
   "cell_type": "code",
   "execution_count": 34,
   "metadata": {
    "collapsed": true
   },
   "outputs": [],
   "source": [
    "rbc = emu.scale_bin_centers#[-len(emu.scale_bin_centers):]"
   ]
  },
  {
   "cell_type": "code",
   "execution_count": 35,
   "metadata": {
    "collapsed": false
   },
   "outputs": [],
   "source": [
    "cov = f['cov'][()]\n",
    "yerr = np.sqrt(np.diag(cov)).reshape((len(emus), -1))"
   ]
  },
  {
   "cell_type": "code",
   "execution_count": 36,
   "metadata": {
    "collapsed": false
   },
   "outputs": [
    {
     "data": {
      "text/plain": [
       "array([4175.84889774, 2796.76726807, 1913.37019631, 1338.06799577,\n",
       "        900.93561824,  607.5341018 ,  402.66248591,  276.30088782,\n",
       "        195.3036026 ,  140.83841875,  109.11924002,   84.62075765,\n",
       "         65.86609395,   49.80634817,   36.88111703,   25.7700211 ,\n",
       "         16.71764453,    9.78011813])"
      ]
     },
     "execution_count": 36,
     "metadata": {},
     "output_type": "execute_result"
    }
   ],
   "source": [
    "true_data[0]"
   ]
  },
  {
   "cell_type": "raw",
   "metadata": {
    "collapsed": false
   },
   "source": [
    "cov_mean = np.array([7407.57577016, 5860.73332887, 4562.57221101, 3528.4855154 ,\n",
    "       2653.86635206, 1942.18765577, 1375.70010706,  920.94666884,\n",
    "        574.1329663 ,  334.4338443 ,  189.53636194,  118.15514169,\n",
    "         84.2912142 ,   62.74489775,   45.52641089,   31.41342237,\n",
    "         20.19772416,   11.76164792])"
   ]
  },
  {
   "cell_type": "raw",
   "metadata": {
    "collapsed": false
   },
   "source": [
    "plt.plot(rbc, cov_mean, label = 'Cov Mean')\n",
    "plt.plot(rbc, true_data[0], label = 'Data')\n",
    "plt.loglog()"
   ]
  },
  {
   "cell_type": "code",
   "execution_count": 37,
   "metadata": {
    "collapsed": false
   },
   "outputs": [
    {
     "data": {
      "text/plain": [
       "array([0.16945535, 0.13126948, 0.07860621, 0.04447019, 0.02890912,\n",
       "       0.04023796, 0.05245378, 0.05082986, 0.04134687, 0.03323574,\n",
       "       0.02741307, 0.02450939, 0.02208323, 0.02349841, 0.02661884,\n",
       "       0.03234006, 0.04253213, 0.06326229])"
      ]
     },
     "execution_count": 37,
     "metadata": {},
     "output_type": "execute_result"
    }
   ],
   "source": [
    "yerr[0]/true_data[0]"
   ]
  },
  {
   "cell_type": "code",
   "execution_count": 38,
   "metadata": {
    "collapsed": false
   },
   "outputs": [
    {
     "data": {
      "text/plain": [
       "array([ 0.11972916,  0.16697228,  0.23285675,  0.32473812,  0.45287435,\n",
       "        0.63157098,  0.88077831,  1.22831868,  1.71299265,  2.38891085,\n",
       "        3.33153506,  4.646103  ,  6.47937742,  9.03603121, 12.60149776,\n",
       "       17.5738377 , 24.50817968, 34.17869685])"
      ]
     },
     "execution_count": 38,
     "metadata": {},
     "output_type": "execute_result"
    }
   ],
   "source": [
    "rbc"
   ]
  },
  {
   "cell_type": "code",
   "execution_count": 39,
   "metadata": {
    "collapsed": true
   },
   "outputs": [],
   "source": [
    "def cov_to_corr(cov):\n",
    "    std = np.sqrt(np.diag(cov))\n",
    "    \n",
    "    denom = np.outer(std, std)\n",
    "    \n",
    "    return cov/denom"
   ]
  },
  {
   "cell_type": "code",
   "execution_count": 40,
   "metadata": {
    "collapsed": false
   },
   "outputs": [],
   "source": [
    "cmap = sns.diverging_palette(240, 10, n=7, as_cmap = True)"
   ]
  },
  {
   "cell_type": "code",
   "execution_count": 41,
   "metadata": {
    "collapsed": false
   },
   "outputs": [
    {
     "data": {
      "text/plain": [
       "<matplotlib.image.AxesImage at 0x7f03e5b646d0>"
      ]
     },
     "execution_count": 41,
     "metadata": {},
     "output_type": "execute_result"
    },
    {
     "data": {
      "image/png": "[encoded data removed]",
      "text/plain": [
       "<matplotlib.figure.Figure at 0x7f03e8d6fe50>"
      ]
     },
     "metadata": {},
     "output_type": "display_data"
    }
   ],
   "source": [
    "plt.imshow(cov_to_corr(cov ) , cmap=cmap, vmin = -1)"
   ]
  },
  {
   "cell_type": "raw",
   "metadata": {
    "collapsed": false
   },
   "source": [
    "(true_data[1]/(10**emus[1].emulate_wrt_r(true_param_dict).squeeze() ) )"
   ]
  },
  {
   "cell_type": "code",
   "execution_count": 42,
   "metadata": {
    "collapsed": false
   },
   "outputs": [
    {
     "data": {
      "text/plain": [
       "array([[4.17584890e+03, 2.79676727e+03, 1.91337020e+03, 1.33806800e+03,\n",
       "        9.00935618e+02, 6.07534102e+02, 4.02662486e+02, 2.76300888e+02,\n",
       "        1.95303603e+02, 1.40838419e+02, 1.09119240e+02, 8.46207577e+01,\n",
       "        6.58660939e+01, 4.98063482e+01, 3.68811170e+01, 2.57700211e+01,\n",
       "        1.67176445e+01, 9.78011813e+00],\n",
       "       [8.20626475e+01, 6.58215973e+01, 5.15299728e+01, 3.94055621e+01,\n",
       "        2.95573292e+01, 2.17734344e+01, 1.57719303e+01, 1.12185065e+01,\n",
       "        7.79230941e+00, 5.28055637e+00, 3.47557528e+00, 2.25393185e+00,\n",
       "        1.50906895e+00, 1.06553235e+00, 7.83221868e-01, 6.22334014e-01,\n",
       "        5.02679278e-01, 3.91403290e-01]])"
      ]
     },
     "execution_count": 42,
     "metadata": {},
     "output_type": "execute_result"
    }
   ],
   "source": [
    "true_data"
   ]
  },
  {
   "cell_type": "code",
   "execution_count": 43,
   "metadata": {
    "collapsed": false
   },
   "outputs": [
    {
     "data": {
      "text/plain": [
       "{'H0': 65.7317,\n",
       " 'Neff': 3.2,\n",
       " 'alpha': 1.083,\n",
       " 'conc_gal_bias': 1.0,\n",
       " 'logM0': 13.2,\n",
       " 'logM1': 14.2,\n",
       " 'ns': 0.971515,\n",
       " 'ombh2': 0.022762900000000003,\n",
       " 'omch2': 0.11283,\n",
       " 'sigma8': 0.7542319000000001,\n",
       " 'sigma_logM': 0.2,\n",
       " 'w0': -0.861513}"
      ]
     },
     "execution_count": 43,
     "metadata": {},
     "output_type": "execute_result"
    }
   ],
   "source": [
    "true_param_dict"
   ]
  },
  {
   "cell_type": "code",
   "execution_count": 44,
   "metadata": {
    "collapsed": false
   },
   "outputs": [
    {
     "data": {
      "text/plain": [
       "array([4175.84889774, 2796.76726807, 1913.37019631, 1338.06799577,\n",
       "        900.93561824,  607.5341018 ,  402.66248591,  276.30088782,\n",
       "        195.3036026 ,  140.83841875,  109.11924002,   84.62075765,\n",
       "         65.86609395,   49.80634817,   36.88111703,   25.7700211 ,\n",
       "         16.71764453,    9.78011813])"
      ]
     },
     "execution_count": 44,
     "metadata": {},
     "output_type": "execute_result"
    }
   ],
   "source": [
    "true_data[0]"
   ]
  },
  {
   "cell_type": "code",
   "execution_count": 45,
   "metadata": {
    "collapsed": false
   },
   "outputs": [
    {
     "data": {
      "image/png": "[encoded data removed]",
      "text/plain": [
       "<matplotlib.figure.Figure at 0x7f03e788c3d0>"
      ]
     },
     "metadata": {},
     "output_type": "display_data"
    }
   ],
   "source": [
    "fig = plt.figure(figsize = (12,5))\n",
    "for i in xrange(len(emus)):\n",
    "    plt.subplot(1,2,i+1)\n",
    "    true_pred = emus[i].emulate_wrt_r(true_param_dict).squeeze()\n",
    "    plt.errorbar(rbc, true_data[i], yerr=yerr[i], label = 'Data')\n",
    "    plt.plot(rbc, 10**MAP_pred[i], label = 'MAP')\n",
    "    plt.plot(rbc, (10**true_pred), label = 'Emu at Truth')\n",
    "\n",
    "    plt.loglog()\n",
    "    plt.legend(loc='best')\n",
    "plt.show();"
   ]
  },
  {
   "cell_type": "code",
   "execution_count": 46,
   "metadata": {
    "collapsed": true
   },
   "outputs": [],
   "source": [
    "rmin_idxs = rbc > rmin"
   ]
  },
  {
   "cell_type": "code",
   "execution_count": 47,
   "metadata": {
    "collapsed": false
   },
   "outputs": [
    {
     "data": {
      "image/png": "[encoded data removed]",
      "text/plain": [
       "<matplotlib.figure.Figure at 0x7f03e68b5350>"
      ]
     },
     "metadata": {},
     "output_type": "display_data"
    }
   ],
   "source": [
    "fig = plt.figure(figsize = (12,5))\n",
    "for i in xrange(len(emus)):\n",
    "    plt.subplot(1,2,i+1)\n",
    "    true_pred = emus[i].emulate_wrt_r(true_param_dict).squeeze()\n",
    "    plt.errorbar(rbc[rmin_idxs], np.ones_like(true_data[i][rmin_idxs]), yerr=yerr[i][rmin_idxs]/true_data[i][rmin_idxs], label = 'Data')\n",
    "    plt.plot(rbc[rmin_idxs], (10**MAP_pred[i][rmin_idxs])/true_data[i][rmin_idxs], label = 'MAP')\n",
    "    plt.plot(rbc[rmin_idxs], (10**true_pred[rmin_idxs])/true_data[i][rmin_idxs], label = 'Emu at Truth')\n",
    "    plt.legend(loc='best')\n",
    "    plt.xscale('log')\n",
    "plt.show();"
   ]
  },
  {
   "cell_type": "code",
   "execution_count": 48,
   "metadata": {
    "collapsed": false
   },
   "outputs": [
    {
     "data": {
      "text/plain": [
       "'ds'"
      ]
     },
     "execution_count": 48,
     "metadata": {},
     "output_type": "execute_result"
    }
   ],
   "source": [
    "emu.obs"
   ]
  },
  {
   "cell_type": "code",
   "execution_count": 49,
   "metadata": {
    "collapsed": false
   },
   "outputs": [
    {
     "data": {
      "text/plain": [
       "array([ 0.11972916,  0.16697228,  0.23285675,  0.32473812,  0.45287435,\n",
       "        0.63157098,  0.88077831,  1.22831868,  1.71299265,  2.38891085,\n",
       "        3.33153506,  4.646103  ,  6.47937742,  9.03603121, 12.60149776,\n",
       "       17.5738377 , 24.50817968, 34.17869685])"
      ]
     },
     "execution_count": 49,
     "metadata": {},
     "output_type": "execute_result"
    }
   ],
   "source": [
    "rbc"
   ]
  },
  {
   "cell_type": "code",
   "execution_count": 50,
   "metadata": {
    "collapsed": false
   },
   "outputs": [
    {
     "name": "stdout",
     "output_type": "stream",
     "text": [
      "27440000.0 0.000484607837818\n"
     ]
    }
   ],
   "source": [
    "npart_aemulus = 1400**3\n",
    "npart_mdpl2 = 3840**3\n",
    "\n",
    "downsample_factor = 1e-2\n",
    "npart_aemulus_ds = npart_aemulus*downsample_factor\n",
    "print npart_aemulus_ds, npart_aemulus_ds/npart_mdpl2"
   ]
  },
  {
   "cell_type": "code",
   "execution_count": 51,
   "metadata": {
    "collapsed": false
   },
   "outputs": [
    {
     "data": {
      "text/plain": [
       "array(['ombh2', 'omch2', 'w0', 'ns', 'H0', 'Neff', 'sigma8', 'logM1',\n",
       "       'logM0', 'sigma_logM', 'alpha', 'conc_gal_bias'], dtype='|S13')"
      ]
     },
     "execution_count": 51,
     "metadata": {},
     "output_type": "execute_result"
    }
   ],
   "source": [
    "chain_pnames"
   ]
  },
  {
   "cell_type": "code",
   "execution_count": 52,
   "metadata": {
    "collapsed": false
   },
   "outputs": [],
   "source": [
    "true_pred = np.hstack([emu.emulate_wrt_r(true_param_dict, r_bin_centers=emu.scale_bin_centers).squeeze() for emu in emus])\n",
    "true_pred = true_pred.reshape((len(emus), -1))"
   ]
  },
  {
   "cell_type": "code",
   "execution_count": 53,
   "metadata": {
    "collapsed": true
   },
   "outputs": [],
   "source": [
    "cov_rmin_idxs = np.hstack([rmin_idxs for i in xrange(len(emus))])"
   ]
  },
  {
   "cell_type": "code",
   "execution_count": 54,
   "metadata": {
    "collapsed": false
   },
   "outputs": [
    {
     "name": "stdout",
     "output_type": "stream",
     "text": [
      "True Red. Chi2\n",
      "5.595359786952229\n"
     ]
    }
   ],
   "source": [
    "print 'True Red. Chi2'\n",
    "R = (10**true_pred[:, rmin_idxs].flatten()-true_data[:, rmin_idxs].flatten())\n",
    "\n",
    "chi2 =  R.T.dot(inv(cov[cov_rmin_idxs][:,cov_rmin_idxs])).dot(R)\n",
    "dof = len(chain_pnames)\n",
    "\n",
    "print chi2/dof"
   ]
  },
  {
   "cell_type": "code",
   "execution_count": 55,
   "metadata": {
    "collapsed": false
   },
   "outputs": [
    {
     "name": "stdout",
     "output_type": "stream",
     "text": [
      "Map Red. Chi2\n",
      "2.8553341600408864\n"
     ]
    }
   ],
   "source": [
    "print 'Map Red. Chi2'\n",
    "R = (10**MAP_pred[:, rmin_idxs].flatten()-true_data[:, rmin_idxs].flatten())\n",
    "\n",
    "chi2 =  R.T.dot(inv(cov[cov_rmin_idxs][:,cov_rmin_idxs])).dot(R)\n",
    "dof = len(chain_pnames)\n",
    "\n",
    "print chi2/dof"
   ]
  },
  {
   "cell_type": "raw",
   "metadata": {
    "collapsed": false
   },
   "source": [
    "fig = plt.figure(figsize = (14,6))\n",
    "chain_samples = np.random.choice(chain.shape[0], size = 100, replace = False)\n",
    "\n",
    "for i in xrange(len(emus)):\n",
    "    plt.subplot(1,2,i+1)\n",
    "    plt.errorbar(rbc, np.ones_like(true_data[i]), yerr=yerr[i]/true_data[i], label = 'Data')\n",
    "    plt.xscale('log')\n",
    "    \n",
    "for sample in chain[chain_samples]:\n",
    "    param_dict = dict(zip(chain_pnames, sample))\n",
    "    param_dict.update(fixed_params)\n",
    "    for i in xrange(len(emus)):\n",
    "        plt.subplot(1,2,i+1)\n",
    "        pred = emus[i].emulate_wrt_r(param_dict).squeeze()\n",
    "        plt.plot(rbc, (10**pred)/true_data[i], alpha = 0.2)#, label = 'MAP')\n",
    "\n",
    "\n",
    "plt.legend(loc='best')\n",
    "plt.show();"
   ]
  },
  {
   "cell_type": "code",
   "execution_count": 56,
   "metadata": {
    "collapsed": true
   },
   "outputs": [],
   "source": [
    "N = 6\n",
    "cmap = sns.color_palette(\"BrBG_d\", N)"
   ]
  },
  {
   "cell_type": "code",
   "execution_count": 57,
   "metadata": {
    "collapsed": false
   },
   "outputs": [
    {
     "data": {
      "text/plain": [
       "['ombh2',\n",
       " 'omch2',\n",
       " 'w0',\n",
       " 'ns',\n",
       " 'H0',\n",
       " 'Neff',\n",
       " 'sigma8',\n",
       " 'logM1',\n",
       " 'logM0',\n",
       " 'sigma_logM',\n",
       " 'alpha',\n",
       " 'conc_gal_bias']"
      ]
     },
     "execution_count": 57,
     "metadata": {},
     "output_type": "execute_result"
    }
   ],
   "source": [
    "emu.get_param_names()"
   ]
  },
  {
   "cell_type": "code",
   "execution_count": 58,
   "metadata": {
    "collapsed": true
   },
   "outputs": [],
   "source": [
    "true_h = 0.677"
   ]
  },
  {
   "cell_type": "code",
   "execution_count": 59,
   "metadata": {
    "collapsed": false
   },
   "outputs": [],
   "source": [
    "h_factor = lambda  h : (h/true_h)**(1)"
   ]
  },
  {
   "cell_type": "code",
   "execution_count": 60,
   "metadata": {
    "collapsed": false
   },
   "outputs": [
    {
     "data": {
      "image/png": "[encoded data removed]",
      "text/plain": [
       "<matplotlib.figure.Figure at 0x7f03e689dd50>"
      ]
     },
     "metadata": {},
     "output_type": "display_data"
    }
   ],
   "source": [
    "fig = plt.figure(figsize=(15,6))\n",
    "varied_pname = 'H0'\n",
    "lower, upper = emu.get_param_bounds(varied_pname)\n",
    "\n",
    "for i in xrange(len(emus)):\n",
    "    plt.subplot(1,2,i+1)\n",
    "    plt.errorbar(rbc[rmin_idxs], np.ones_like(true_data[i][rmin_idxs]),\\\n",
    "                 yerr=yerr[i][rmin_idxs]/true_data[i][rmin_idxs], label = 'Data')\n",
    "    #pred = emus[i].emulate_wrt_r(true_param_dict).squeeze()\n",
    "    pred = emus[i].emulate_wrt_r(MAP_dict).squeeze()\n",
    "\n",
    "    plt.plot(rbc[rmin_idxs], h_factor(MAP_dict['H0']/100)*(10**pred[rmin_idxs])/true_data[i][rmin_idxs], label = 'Truth', color = 'k')    \n",
    "\n",
    "    plt.xscale('log')\n",
    "    \n",
    "for c, val in zip(cmap, np.linspace(lower, upper, N) ):\n",
    "    #param_dict = true_param_dict.copy()\n",
    "    param_dict=  MAP_dict.copy()\n",
    "    param_dict[varied_pname] = val\n",
    "\n",
    "    for i in xrange(len(emus)):\n",
    "        plt.subplot(1,2,i+1)\n",
    "        pred = emus[i].emulate_wrt_r(param_dict).squeeze()\n",
    "        plt.plot(rbc[rmin_idxs],h_factor(val/100)*(10**pred[rmin_idxs])/true_data[i][rmin_idxs], label = '%.3f'%val, color = c)\n",
    "        #plt.plot(rbc[rmin_idxs], np.ones_like(pred[rmin_idxs]), color = c)\n",
    "plt.legend(loc='best')\n",
    "plt.show();"
   ]
  },
  {
   "cell_type": "code",
   "execution_count": 61,
   "metadata": {
    "collapsed": false
   },
   "outputs": [],
   "source": [
    "from pearce.mocks.kittens import TrainingBox"
   ]
  },
  {
   "cell_type": "code",
   "execution_count": 62,
   "metadata": {
    "collapsed": true
   },
   "outputs": [],
   "source": [
    "?? np.argmin"
   ]
  },
  {
   "cell_type": "code",
   "execution_count": 63,
   "metadata": {
    "collapsed": false
   },
   "outputs": [
    {
     "name": "stderr",
     "output_type": "stream",
     "text": [
      " /u/ki/swmclau2/.local/lib/python2.7/site-packages/numpy/core/fromnumeric.py:56: FutureWarning:'argmin' is deprecated, use 'idxmin' instead. The behavior of 'argmin'\n",
      "will be corrected to return the positional minimum in the future.\n",
      "Use 'series.values.argmin' to get the position of the minimum now.\n",
      " /u/ki/swmclau2/.local/lib/python2.7/site-packages/numpy/core/fromnumeric.py:56: FutureWarning:'argmax' is deprecated, use 'idxmax' instead. The behavior of 'argmax'\n",
      "will be corrected to return the positional maximum in the future.\n",
      "Use 'series.values.argmax' to get the position of the maximum now.\n"
     ]
    },
    {
     "data": {
      "text/plain": [
       "(0, 4)"
      ]
     },
     "execution_count": 63,
     "metadata": {},
     "output_type": "execute_result"
    }
   ],
   "source": [
    "np.argmin(cat.cosmo_params['H0']), np.argmax(cat.cosmo_params['H0'])"
   ]
  },
  {
   "cell_type": "code",
   "execution_count": 66,
   "metadata": {
    "collapsed": false
   },
   "outputs": [
    {
     "data": {
      "text/plain": [
       "#boxnum\n",
       "0    0\n",
       "1    1\n",
       "2    6\n",
       "3    2\n",
       "4    5\n",
       "5    3\n",
       "6    4\n",
       "Name: H0, dtype: int64"
      ]
     },
     "execution_count": 66,
     "metadata": {},
     "output_type": "execute_result"
    }
   ],
   "source": [
    "np.argsort(cat.cosmo_params['H0'])"
   ]
  },
  {
   "cell_type": "code",
   "execution_count": 67,
   "metadata": {
    "collapsed": false
   },
   "outputs": [],
   "source": [
    "catlow, cathigh = TrainingBox(23), TrainingBox(17)"
   ]
  },
  {
   "cell_type": "code",
   "execution_count": 68,
   "metadata": {
    "collapsed": false
   },
   "outputs": [
    {
     "name": "stderr",
     "output_type": "stream",
     "text": [
      " /u/ki/swmclau2/.local/lib/python2.7/site-packages/halotools-0.7.dev5005-py2.7-linux-x86_64.egg/halotools/sim_manager/cached_halo_catalog.py:567: H5pyDeprecationWarning:The default file mode will change to 'r' (read-only) in h5py 3.0. To suppress this warning, pass the mode you need to h5py.File(), or set the global default h5.get_config().default_file_mode, or set the environment variable H5PY_DEFAULT_READONLY=1. Available modes are: 'r', 'r+', 'w', 'w-'/'x', 'a'. See the docs for details.\n"
     ]
    }
   ],
   "source": [
    "catlow.load(1.0, HOD='zheng07')"
   ]
  },
  {
   "cell_type": "code",
   "execution_count": 69,
   "metadata": {
    "collapsed": false
   },
   "outputs": [
    {
     "name": "stderr",
     "output_type": "stream",
     "text": [
      " /u/ki/swmclau2/.local/lib/python2.7/site-packages/halotools-0.7.dev5005-py2.7-linux-x86_64.egg/halotools/sim_manager/cached_halo_catalog.py:567: H5pyDeprecationWarning:The default file mode will change to 'r' (read-only) in h5py 3.0. To suppress this warning, pass the mode you need to h5py.File(), or set the global default h5.get_config().default_file_mode, or set the environment variable H5PY_DEFAULT_READONLY=1. Available modes are: 'r', 'r+', 'w', 'w-'/'x', 'a'. See the docs for details.\n"
     ]
    }
   ],
   "source": [
    "cathigh.load(1.0, HOD='zheng07')"
   ]
  },
  {
   "cell_type": "code",
   "execution_count": 70,
   "metadata": {
    "collapsed": false
   },
   "outputs": [
    {
     "name": "stderr",
     "output_type": "stream",
     "text": [
      " /u/ki/swmclau2/.local/lib/python2.7/site-packages/halotools-0.7.dev5005-py2.7-linux-x86_64.egg/halotools/sim_manager/halo_table_cache_log_entry.py:404: H5pyDeprecationWarning:The default file mode will change to 'r' (read-only) in h5py 3.0. To suppress this warning, pass the mode you need to h5py.File(), or set the global default h5.get_config().default_file_mode, or set the environment variable H5PY_DEFAULT_READONLY=1. Available modes are: 'r', 'r+', 'w', 'w-'/'x', 'a'. See the docs for details.\n",
      " /u/ki/swmclau2/.local/lib/python2.7/site-packages/halotools-0.7.dev5005-py2.7-linux-x86_64.egg/halotools/sim_manager/halo_table_cache_log_entry.py:221: H5pyDeprecationWarning:The default file mode will change to 'r' (read-only) in h5py 3.0. To suppress this warning, pass the mode you need to h5py.File(), or set the global default h5.get_config().default_file_mode, or set the environment variable H5PY_DEFAULT_READONLY=1. Available modes are: 'r', 'r+', 'w', 'w-'/'x', 'a'. See the docs for details.\n",
      " /u/ki/swmclau2/.conda/envs/hodemulator/lib/python2.7/importlib/__init__.py:37: H5pyDeprecationWarning:The h5py.highlevel module is deprecated, code should import directly from h5py, e.g. 'from h5py import File'.\n",
      " /u/ki/swmclau2/.local/lib/python2.7/site-packages/halotools-0.7.dev5005-py2.7-linux-x86_64.egg/halotools/sim_manager/halo_table_cache_log_entry.py:307: H5pyDeprecationWarning:The default file mode will change to 'r' (read-only) in h5py 3.0. To suppress this warning, pass the mode you need to h5py.File(), or set the global default h5.get_config().default_file_mode, or set the environment variable H5PY_DEFAULT_READONLY=1. Available modes are: 'r', 'r+', 'w', 'w-'/'x', 'a'. See the docs for details.\n",
      " /u/ki/swmclau2/.local/lib/python2.7/site-packages/halotools-0.7.dev5005-py2.7-linux-x86_64.egg/halotools/empirical_models/phase_space_models/analytic_models/monte_carlo_helpers.py:205: FutureWarning:Using a non-tuple sequence for multidimensional indexing is deprecated; use `arr[tuple(seq)]` instead of `arr[seq]`. In the future this will be interpreted as an array index, `arr[np.array(seq)]`, which will result either in an error or a different result.\n",
      " /u/ki/swmclau2/.local/lib/python2.7/site-packages/halotools-0.7.dev5005-py2.7-linux-x86_64.egg/halotools/empirical_models/phase_space_models/analytic_models/monte_carlo_helpers.py:522: FutureWarning:Using a non-tuple sequence for multidimensional indexing is deprecated; use `arr[tuple(seq)]` instead of `arr[seq]`. In the future this will be interpreted as an array index, `arr[np.array(seq)]`, which will result either in an error or a different result.\n"
     ]
    }
   ],
   "source": [
    "catlow.populate(hod_params)"
   ]
  },
  {
   "cell_type": "code",
   "execution_count": 71,
   "metadata": {
    "collapsed": false
   },
   "outputs": [
    {
     "name": "stderr",
     "output_type": "stream",
     "text": [
      " /u/ki/swmclau2/.local/lib/python2.7/site-packages/halotools-0.7.dev5005-py2.7-linux-x86_64.egg/halotools/sim_manager/halo_table_cache_log_entry.py:404: H5pyDeprecationWarning:The default file mode will change to 'r' (read-only) in h5py 3.0. To suppress this warning, pass the mode you need to h5py.File(), or set the global default h5.get_config().default_file_mode, or set the environment variable H5PY_DEFAULT_READONLY=1. Available modes are: 'r', 'r+', 'w', 'w-'/'x', 'a'. See the docs for details.\n",
      " /u/ki/swmclau2/.local/lib/python2.7/site-packages/halotools-0.7.dev5005-py2.7-linux-x86_64.egg/halotools/sim_manager/halo_table_cache_log_entry.py:221: H5pyDeprecationWarning:The default file mode will change to 'r' (read-only) in h5py 3.0. To suppress this warning, pass the mode you need to h5py.File(), or set the global default h5.get_config().default_file_mode, or set the environment variable H5PY_DEFAULT_READONLY=1. Available modes are: 'r', 'r+', 'w', 'w-'/'x', 'a'. See the docs for details.\n",
      " /u/ki/swmclau2/.local/lib/python2.7/site-packages/halotools-0.7.dev5005-py2.7-linux-x86_64.egg/halotools/sim_manager/halo_table_cache_log_entry.py:307: H5pyDeprecationWarning:The default file mode will change to 'r' (read-only) in h5py 3.0. To suppress this warning, pass the mode you need to h5py.File(), or set the global default h5.get_config().default_file_mode, or set the environment variable H5PY_DEFAULT_READONLY=1. Available modes are: 'r', 'r+', 'w', 'w-'/'x', 'a'. See the docs for details.\n"
     ]
    }
   ],
   "source": [
    "cathigh.populate(hod_params)"
   ]
  },
  {
   "cell_type": "code",
   "execution_count": 72,
   "metadata": {
    "collapsed": true
   },
   "outputs": [],
   "source": [
    "rbins = np.logspace(-1.0, 1.6, 19)"
   ]
  },
  {
   "cell_type": "code",
   "execution_count": 73,
   "metadata": {
    "collapsed": false
   },
   "outputs": [],
   "source": [
    "wp_low_orig = catlow.calc_wp(rbins)"
   ]
  },
  {
   "cell_type": "code",
   "execution_count": 74,
   "metadata": {
    "collapsed": true
   },
   "outputs": [],
   "source": [
    "wp_high_orig = cathigh.calc_wp(rbins)"
   ]
  },
  {
   "cell_type": "code",
   "execution_count": 75,
   "metadata": {
    "collapsed": false
   },
   "outputs": [
    {
     "data": {
      "image/png": "[encoded data removed]",
      "text/plain": [
       "<matplotlib.figure.Figure at 0x7f03e9aa89d0>"
      ]
     },
     "metadata": {},
     "output_type": "display_data"
    }
   ],
   "source": [
    "plt.plot(rbc, wp_low_orig)\n",
    "plt.plot(rbc, wp_high_orig)\n",
    "plt.loglog();\n",
    "#plt.xscale('log')\n",
    "plt.show()"
   ]
  },
  {
   "cell_type": "code",
   "execution_count": 76,
   "metadata": {
    "collapsed": true
   },
   "outputs": [],
   "source": [
    "lowh = catlow.h\n",
    "highh = cathigh.h\n",
    "catlow.h = 1\n",
    "cathigh.h  =1"
   ]
  },
  {
   "cell_type": "code",
   "execution_count": 77,
   "metadata": {
    "collapsed": false
   },
   "outputs": [],
   "source": [
    "wp_low = catlow.calc_wp(rbins)"
   ]
  },
  {
   "cell_type": "code",
   "execution_count": 78,
   "metadata": {
    "collapsed": true
   },
   "outputs": [],
   "source": [
    "wp_high = cathigh.calc_wp(rbins)"
   ]
  },
  {
   "cell_type": "code",
   "execution_count": 85,
   "metadata": {
    "collapsed": true
   },
   "outputs": [],
   "source": [
    "h_factor = lambda h: h"
   ]
  },
  {
   "cell_type": "code",
   "execution_count": 103,
   "metadata": {
    "collapsed": false
   },
   "outputs": [
    {
     "data": {
      "image/png": "[encoded data removed]",
      "text/plain": [
       "<matplotlib.figure.Figure at 0x7f042d66dfd0>"
      ]
     },
     "metadata": {},
     "output_type": "display_data"
    }
   ],
   "source": [
    "plt.plot(rbc, wp_low, label = 'Target')\n",
    "plt.plot(rbc, wp_high, label = 'Target High')\n",
    "\n",
    "plt.plot(rbc*lowh, lowh*wp_low_orig)\n",
    "plt.plot(rbc*highh, highh*wp_high_orig)\n",
    "plt.loglog();\n",
    "#plt.xscale('log')\n",
    "plt.legend(loc='best')\n",
    "plt.show()"
   ]
  },
  {
   "cell_type": "code",
   "execution_count": null,
   "metadata": {
    "collapsed": true
   },
   "outputs": [],
   "source": []
  }
 ],
 "metadata": {
  "kernelspec": {
   "display_name": "Python [default]",
   "language": "python",
   "name": "python2"
  },
  "language_info": {
   "codemirror_mode": {
    "name": "ipython",
    "version": 2
   },
   "file_extension": ".py",
   "mimetype": "text/x-python",
   "name": "python",
   "nbconvert_exporter": "python",
   "pygments_lexer": "ipython2",
   "version": "2.7.13"
  }
 },
 "nbformat": 4,
 "nbformat_minor": 1
}

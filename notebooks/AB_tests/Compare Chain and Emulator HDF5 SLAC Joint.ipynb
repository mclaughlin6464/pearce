{
 "cells": [
  {
   "cell_type": "markdown",
   "metadata": {},
   "source": [
    "That last notebook got messy so I'm making a new cleaner one that will enable me to sample over both emulators simultaneously. "
   ]
  },
  {
   "cell_type": "code",
   "execution_count": 164,
   "metadata": {
    "collapsed": true
   },
   "outputs": [],
   "source": [
    "import matplotlib\n",
    "#matplotlib.use('Agg')\n",
    "from matplotlib import pyplot as plt\n",
    "%matplotlib inline\n",
    "import seaborn as sns\n",
    "sns.set()"
   ]
  },
  {
   "cell_type": "code",
   "execution_count": 165,
   "metadata": {
    "collapsed": false
   },
   "outputs": [],
   "source": [
    "import numpy as np\n",
    "import h5py\n",
    "from chainconsumer import ChainConsumer\n",
    "#from corner import corner\n",
    "from ast import literal_eval\n",
    "from pearce.emulator import LemonPepperWet\n",
    "from os import path\n",
    "from scipy.linalg import inv"
   ]
  },
  {
   "cell_type": "code",
   "execution_count": 166,
   "metadata": {
    "collapsed": true
   },
   "outputs": [],
   "source": [
    "fname = '/u/ki/swmclau2/des/PearceMCMC/HOD_MDPL2_wp_ds_rmin_None_HSAB.hdf5'"
   ]
  },
  {
   "cell_type": "code",
   "execution_count": 167,
   "metadata": {
    "collapsed": false
   },
   "outputs": [],
   "source": [
    "f = h5py.File(fname, 'r')"
   ]
  },
  {
   "cell_type": "code",
   "execution_count": 168,
   "metadata": {
    "collapsed": true
   },
   "outputs": [],
   "source": [
    "tf = f.attrs['training_file']\n",
    "fixed_params = literal_eval(f.attrs['fixed_params'])\n",
    "if 'rmin' in fixed_params:\n",
    "    del fixed_params['rmin']\n",
    "emu_hps = literal_eval(f.attrs['emu_hps'])"
   ]
  },
  {
   "cell_type": "code",
   "execution_count": 169,
   "metadata": {
    "collapsed": false
   },
   "outputs": [
    {
     "data": {
      "text/plain": [
       "array(['/u/ki/swmclau2/des/Aemulators/wp_hsab_h/PearceWpHSABCosmo.hdf5',\n",
       "       '/u/ki/swmclau2/des/Aemulators/ds_hsab_h/PearceDsHSABCosmo.hdf5'],\n",
       "      dtype='|S62')"
      ]
     },
     "execution_count": 169,
     "metadata": {},
     "output_type": "execute_result"
    }
   ],
   "source": [
    "tf"
   ]
  },
  {
   "cell_type": "code",
   "execution_count": 170,
   "metadata": {
    "collapsed": false
   },
   "outputs": [],
   "source": [
    "fixed_params = fixed_params[0]"
   ]
  },
  {
   "cell_type": "raw",
   "metadata": {},
   "source": [
    "tf_base = '/u/ki/swmclau2/des/Aemulators/'\n",
    "\n",
    "_tf = []\n",
    "for t in tf:\n",
    "    last2 = t.split('/')[-2:]\n",
    "    _tf.append(path.join(tf_base, last2[0], last2[1]))\n",
    "    \n",
    "tf = _tf"
   ]
  },
  {
   "cell_type": "code",
   "execution_count": 171,
   "metadata": {
    "collapsed": false
   },
   "outputs": [
    {
     "name": "stdout",
     "output_type": "stream",
     "text": [
      "/u/ki/swmclau2/des/Aemulators/wp_hsab_h/PearceWpHSABCosmo.hdf5\n",
      "3\n",
      "/u/ki/swmclau2/des/Aemulators/ds_hsab_h/PearceDsHSABCosmo.hdf5\n",
      "3\n"
     ]
    }
   ],
   "source": [
    "emus = []\n",
    "for t in tf:\n",
    "    print t\n",
    "    emus.append(LemonPepperWet(t, fixed_params = fixed_params, hyperparams = emu_hps) )"
   ]
  },
  {
   "cell_type": "code",
   "execution_count": 172,
   "metadata": {
    "collapsed": true
   },
   "outputs": [],
   "source": [
    "chain_pnames = f.attrs['param_names']"
   ]
  },
  {
   "cell_type": "code",
   "execution_count": 173,
   "metadata": {
    "collapsed": true
   },
   "outputs": [],
   "source": [
    "n_walkers = f.attrs['nwalkers']"
   ]
  },
  {
   "cell_type": "code",
   "execution_count": 174,
   "metadata": {
    "collapsed": true
   },
   "outputs": [],
   "source": [
    "n_burn = 0\n",
    "chain = f['chain'][n_burn*n_walkers:, :]"
   ]
  },
  {
   "cell_type": "code",
   "execution_count": 175,
   "metadata": {
    "collapsed": false
   },
   "outputs": [],
   "source": [
    "rmin = 0#eval(f.attrs['fixed_params'])['rmin']"
   ]
  },
  {
   "cell_type": "code",
   "execution_count": 176,
   "metadata": {
    "collapsed": true
   },
   "outputs": [],
   "source": [
    "n_params = chain.shape[1] if len(chain.shape) > 1 else 1"
   ]
  },
  {
   "cell_type": "code",
   "execution_count": 177,
   "metadata": {
    "collapsed": false
   },
   "outputs": [
    {
     "name": "stdout",
     "output_type": "stream",
     "text": [
      "(2685000, 14) 10740\n"
     ]
    }
   ],
   "source": [
    "print chain.shape, chain.shape[0]/n_walkers"
   ]
  },
  {
   "cell_type": "code",
   "execution_count": 178,
   "metadata": {
    "collapsed": false
   },
   "outputs": [
    {
     "data": {
      "text/plain": [
       "<chainconsumer.chainconsumer.ChainConsumer at 0x7f8f6801a350>"
      ]
     },
     "execution_count": 178,
     "metadata": {},
     "output_type": "execute_result"
    }
   ],
   "source": [
    "c = ChainConsumer()\n",
    "chain = chain.reshape((-1, n_walkers, chain.shape[1]))\n",
    "chain = chain.reshape((-1, chain.shape[2]), order = 'F')\n",
    "c.add_chain(chain, parameters=list(chain_pnames), walkers = n_walkers)\n"
   ]
  },
  {
   "cell_type": "code",
   "execution_count": 179,
   "metadata": {
    "collapsed": false
   },
   "outputs": [
    {
     "name": "stderr",
     "output_type": "stream",
     "text": [
      "WARNING:chainconsumer:Parameter w0 in chain Chain 0 is not constrained\n",
      "WARNING:chainconsumer:Parameter ns in chain Chain 0 is not constrained\n",
      "WARNING:chainconsumer:Parameter Neff in chain Chain 0 is not constrained\n",
      "WARNING:chainconsumer:Parameter sigma_logM in chain Chain 0 is not constrained\n",
      "WARNING:chainconsumer:Parameter mean_occupation_satellites_assembias_param1 in chain Chain 0 is not constrained\n"
     ]
    },
    {
     "name": "stdout",
     "output_type": "stream",
     "text": [
      "[ 2.36167575e-02  1.11538666e-01 -5.68055247e-01  9.64994687e-01\n",
      "  6.83596452e+01  3.35523986e+00  8.84990324e-01  3.54276198e-01\n",
      "  1.34779514e+01  1.01564681e-01 -5.63577951e-01  1.41656172e+01\n",
      "  9.74348989e-01  1.11432751e+00]\n"
     ]
    }
   ],
   "source": [
    "#MAP = chain.mean(axis = 0)\n",
    "summary = c.analysis.get_summary(chains=0)\n",
    "MAP = np.array([summary[key][1] for key in chain_pnames])\n",
    "print MAP"
   ]
  },
  {
   "cell_type": "code",
   "execution_count": 180,
   "metadata": {
    "collapsed": false
   },
   "outputs": [
    {
     "data": {
      "text/plain": [
       "array(['ombh2', 'omch2', 'w0', 'ns', 'H0', 'Neff', 'sigma8',\n",
       "       'mean_occupation_centrals_assembias_param1', 'logM0', 'sigma_logM',\n",
       "       'mean_occupation_satellites_assembias_param1', 'logM1', 'alpha',\n",
       "       'conc_gal_bias'], dtype='|S43')"
      ]
     },
     "execution_count": 180,
     "metadata": {},
     "output_type": "execute_result"
    }
   ],
   "source": [
    "chain_pnames"
   ]
  },
  {
   "cell_type": "code",
   "execution_count": 181,
   "metadata": {
    "collapsed": true
   },
   "outputs": [],
   "source": [
    "MAP_dict = dict(zip(chain_pnames, MAP))"
   ]
  },
  {
   "cell_type": "code",
   "execution_count": 182,
   "metadata": {
    "collapsed": true
   },
   "outputs": [],
   "source": [
    "#fixed_params = eval(f.attrs['chain_fixed_params'])\n",
    "#fixed_params.update(eval(f.attrs['sim'])['cosmo_params'])"
   ]
  },
  {
   "cell_type": "code",
   "execution_count": 183,
   "metadata": {
    "collapsed": false
   },
   "outputs": [],
   "source": [
    "MAP_dict.update(fixed_params)"
   ]
  },
  {
   "cell_type": "code",
   "execution_count": 184,
   "metadata": {
    "collapsed": false
   },
   "outputs": [
    {
     "data": {
      "text/plain": [
       "{'H0': 68.35964523289064,\n",
       " 'Neff': 3.3552398581363034,\n",
       " 'alpha': 0.974348989400724,\n",
       " 'conc_gal_bias': 1.1143275138435453,\n",
       " 'logM0': 13.47795138617279,\n",
       " 'logM1': 14.165617194965174,\n",
       " 'mean_occupation_centrals_assembias_param1': 0.3542761982756695,\n",
       " 'mean_occupation_satellites_assembias_param1': -0.5635779514278236,\n",
       " 'ns': 0.9649946865945437,\n",
       " 'ombh2': 0.023616757458923544,\n",
       " 'omch2': 0.11153866595568912,\n",
       " 'sigma8': 0.8849903241445188,\n",
       " 'sigma_logM': 0.10156468091684095,\n",
       " 'w0': -0.5680552465778789,\n",
       " 'z': 0.0}"
      ]
     },
     "execution_count": 184,
     "metadata": {},
     "output_type": "execute_result"
    }
   ],
   "source": [
    "MAP_dict"
   ]
  },
  {
   "cell_type": "code",
   "execution_count": 185,
   "metadata": {
    "collapsed": false
   },
   "outputs": [],
   "source": [
    "MAP_pred = np.hstack([emu.emulate_wrt_r(MAP_dict, r_bin_centers=emu.scale_bin_centers).squeeze() for emu in emus])\n",
    "MAP_pred = MAP_pred.reshape((len(emus), -1))"
   ]
  },
  {
   "cell_type": "code",
   "execution_count": 186,
   "metadata": {
    "collapsed": true
   },
   "outputs": [],
   "source": [
    "hod_idxs = np.array(range(7, len(chain_pnames)))\n",
    "cosmo_idxs = np.array(range(7))"
   ]
  },
  {
   "cell_type": "code",
   "execution_count": 187,
   "metadata": {
    "collapsed": true
   },
   "outputs": [],
   "source": [
    "if chain.shape[1] == 7:\n",
    "    cosmo_chain = chain\n",
    "else:\n",
    "    hod_chain = chain[:,7:]#[:, hod_idxs]\n",
    "    cosmo_chain = chain[:,:7]#[:, cosmo_idxs]"
   ]
  },
  {
   "cell_type": "code",
   "execution_count": 188,
   "metadata": {
    "collapsed": true
   },
   "outputs": [],
   "source": [
    "from pearce.mocks import cat_dict\n",
    "cosmo_params = {}"
   ]
  },
  {
   "cell_type": "code",
   "execution_count": 189,
   "metadata": {
    "collapsed": true
   },
   "outputs": [],
   "source": [
    "cosmo_params['boxno'] = 1\n",
    "cosmo_params['realization'] = 1"
   ]
  },
  {
   "cell_type": "code",
   "execution_count": 190,
   "metadata": {
    "collapsed": true
   },
   "outputs": [],
   "source": [
    "cat = cat_dict['testbox'](**cosmo_params)#construct the specified catalog!"
   ]
  },
  {
   "cell_type": "raw",
   "metadata": {
    "collapsed": true
   },
   "source": [
    "cpv = cat._get_cosmo_param_names_vals()\n",
    "\n",
    "cat_val_dict =  {key: val for key, val in zip(cpv[0], cpv[1])}"
   ]
  },
  {
   "cell_type": "code",
   "execution_count": 191,
   "metadata": {
    "collapsed": true
   },
   "outputs": [],
   "source": [
    "h = 0.6777\n",
    "cosmo_pnames = ['ombh2', 'omch2', 'w0', 'ns', 'H0', 'Neff', 'sigma8']\n",
    "cosmo_true_vals = np.array([0.048206*h**2, 0.307115*h**2-0.048206*h**2,\\\n",
    "                            -1, 0.9667, \\\n",
    "                                h*100, 3.046, 0.8228]) #mdpl2\n",
    "\n",
    "cat_val_dict = dict(zip(cosmo_pnames, cosmo_true_vals))"
   ]
  },
  {
   "cell_type": "code",
   "execution_count": 192,
   "metadata": {
    "collapsed": false
   },
   "outputs": [
    {
     "data": {
      "text/plain": [
       "{'H0': 67.77,\n",
       " 'Neff': 3.046,\n",
       " 'ns': 0.9667,\n",
       " 'ombh2': 0.022139921041739997,\n",
       " 'omch2': 0.11891102387661,\n",
       " 'sigma8': 0.8228,\n",
       " 'w0': -1.0}"
      ]
     },
     "execution_count": 192,
     "metadata": {},
     "output_type": "execute_result"
    }
   ],
   "source": [
    "cat_val_dict"
   ]
  },
  {
   "cell_type": "code",
   "execution_count": 193,
   "metadata": {
    "collapsed": false
   },
   "outputs": [],
   "source": [
    "true_param_dict = cat_val_dict.copy()\n",
    "hod_params = {'alpha': 1.083, 'conc_gal_bias': 0.8, 'logM0': 13.2,'logM1': 14.2, 'sigma_logM': 0.2}#sim_info['hod_params']\n",
    "#hod_params = {'alpha': 0.95, 'conc_gal_bias': 1.0, 'logM0': 13.2,'logM1': 14.5, 'sigma_logM': 0.2}#sim_info['hod_params']\n",
    "\n",
    "\n",
    "hod_params['mean_occupation_centrals_assembias_param1'] = 0.0\n",
    "hod_params['mean_occupation_satellites_assembias_param1'] =0.0\n",
    "#hod_params['mean_occupation_centrals_assembias_slope1'] = 0.0\n",
    "#hod_params['mean_occupation_satellites_assembias_slope1'] = 0.0\n",
    "\n",
    "#for pname in emu.get_param_names():\n",
    "#    if 'mean_occupation' in pname:\n",
    "#        hod_params[pname] = 0.0\n",
    "\n",
    "for hp, hv in hod_params.iteritems():\n",
    "    if hp == 'logMmin':\n",
    "        continue\n",
    "    true_param_dict[hp] = hv\n",
    "\n",
    "true_param_dict['conc_gal_bias'] = 1.0\n",
    "true_pred = emu.emulate_wrt_r(true_param_dict)[0]"
   ]
  },
  {
   "cell_type": "code",
   "execution_count": 194,
   "metadata": {
    "collapsed": false
   },
   "outputs": [
    {
     "data": {
      "text/plain": [
       "{'H0': 67.77,\n",
       " 'Neff': 3.046,\n",
       " 'alpha': 1.083,\n",
       " 'conc_gal_bias': 1.0,\n",
       " 'logM0': 13.2,\n",
       " 'logM1': 14.2,\n",
       " 'mean_occupation_centrals_assembias_param1': 0.0,\n",
       " 'mean_occupation_satellites_assembias_param1': 0.0,\n",
       " 'ns': 0.9667,\n",
       " 'ombh2': 0.022139921041739997,\n",
       " 'omch2': 0.11891102387661,\n",
       " 'sigma8': 0.8228,\n",
       " 'sigma_logM': 0.2,\n",
       " 'w0': -1.0}"
      ]
     },
     "execution_count": 194,
     "metadata": {},
     "output_type": "execute_result"
    }
   ],
   "source": [
    "true_param_dict"
   ]
  },
  {
   "cell_type": "code",
   "execution_count": 195,
   "metadata": {
    "collapsed": true
   },
   "outputs": [],
   "source": [
    "true_data = f['data'][()]#.flatten()"
   ]
  },
  {
   "cell_type": "code",
   "execution_count": 196,
   "metadata": {
    "collapsed": true
   },
   "outputs": [],
   "source": [
    "true_data = true_data.reshape((2, -1))"
   ]
  },
  {
   "cell_type": "code",
   "execution_count": 197,
   "metadata": {
    "collapsed": false
   },
   "outputs": [
    {
     "data": {
      "image/png": "[encoded data removed]",
      "text/plain": [
       "<matplotlib.figure.Figure at 0x7f8f6801a750>"
      ]
     },
     "metadata": {},
     "output_type": "display_data"
    }
   ],
   "source": [
    "plt.plot(emu.scale_bin_centers, true_data[0])\n",
    "plt.plot(emu.scale_bin_centers, true_data[1])\n",
    "\n",
    "plt.loglog();"
   ]
  },
  {
   "cell_type": "code",
   "execution_count": 198,
   "metadata": {
    "collapsed": true
   },
   "outputs": [],
   "source": [
    "rbc = emu.scale_bin_centers#[-len(emu.scale_bin_centers):]"
   ]
  },
  {
   "cell_type": "code",
   "execution_count": 199,
   "metadata": {
    "collapsed": true
   },
   "outputs": [],
   "source": [
    "cov = f['cov'][()]\n",
    "yerr = np.sqrt(np.diag(cov)).reshape((len(emus), -1))"
   ]
  },
  {
   "cell_type": "code",
   "execution_count": 200,
   "metadata": {
    "collapsed": false
   },
   "outputs": [
    {
     "data": {
      "image/png": "[encoded data removed]",
      "text/plain": [
       "<matplotlib.figure.Figure at 0x7f8f61ef0d90>"
      ]
     },
     "metadata": {},
     "output_type": "display_data"
    }
   ],
   "source": [
    "fig = plt.figure(figsize = (12,5))\n",
    "for i in xrange(len(emus)):\n",
    "    plt.subplot(1,2,i+1)\n",
    "    true_pred = emus[i].emulate_wrt_r(true_param_dict).squeeze()\n",
    "    plt.errorbar(rbc, true_data[i], yerr=yerr[i], label = 'Data')\n",
    "    plt.plot(rbc, 10**MAP_pred[i], label = 'MAP')\n",
    "    plt.plot(rbc, 10**true_pred, label = 'Emu at Truth')\n",
    "\n",
    "    plt.loglog()\n",
    "    plt.legend(loc='best')\n",
    "plt.show();"
   ]
  },
  {
   "cell_type": "code",
   "execution_count": 201,
   "metadata": {
    "collapsed": false
   },
   "outputs": [
    {
     "data": {
      "image/png": "[encoded data removed]",
      "text/plain": [
       "<matplotlib.figure.Figure at 0x7f8f67cb92d0>"
      ]
     },
     "metadata": {},
     "output_type": "display_data"
    }
   ],
   "source": [
    "fig = plt.figure(figsize = (12,5))\n",
    "for i in xrange(len(emus)):\n",
    "    plt.subplot(1,2,i+1)\n",
    "    if i == 0:\n",
    "        plt.title('Wp Ratio')\n",
    "    else:\n",
    "        plt.title('Ds Ratio')\n",
    "    true_pred = emus[i].emulate_wrt_r(true_param_dict).squeeze()\n",
    "    plt.errorbar(rbc, np.ones_like(true_data[i]), yerr=yerr[i]/true_data[i], label = 'Data')\n",
    "    plt.plot(rbc, (10**MAP_pred[i])/true_data[i], label = 'MAP')\n",
    "    plt.plot(rbc, (10**true_pred)/true_data[i], label = 'Emu at Truth')\n",
    "    plt.vlines(0.5, 0.75, 1.15, alpha = 0.3)\n",
    "    plt.legend(loc='best')\n",
    "    plt.xscale('log')\n",
    "plt.show();"
   ]
  },
  {
   "cell_type": "code",
   "execution_count": 202,
   "metadata": {
    "collapsed": false
   },
   "outputs": [
    {
     "name": "stdout",
     "output_type": "stream",
     "text": [
      "[1. 1. 1. 1. 1. 1. 1. 1. 1. 1. 1. 1. 1. 1. 1. 1. 1. 1.]\n",
      "[1. 1. 1. 1. 1. 1. 1. 1. 1. 1. 1. 1. 1. 1. 1. 1. 1. 1.]\n"
     ]
    }
   ],
   "source": [
    "for i in xrange(2):\n",
    "    print true_data2[i]/true_data[i]"
   ]
  },
  {
   "cell_type": "code",
   "execution_count": 203,
   "metadata": {
    "collapsed": false
   },
   "outputs": [
    {
     "data": {
      "text/plain": [
       "'ds'"
      ]
     },
     "execution_count": 203,
     "metadata": {},
     "output_type": "execute_result"
    }
   ],
   "source": [
    "emu.obs"
   ]
  },
  {
   "cell_type": "code",
   "execution_count": 204,
   "metadata": {
    "collapsed": false
   },
   "outputs": [
    {
     "data": {
      "text/plain": [
       "array([ 0.11972916,  0.16697228,  0.23285675,  0.32473812,  0.45287435,\n",
       "        0.63157098,  0.88077831,  1.22831868,  1.71299265,  2.38891085,\n",
       "        3.33153506,  4.646103  ,  6.47937742,  9.03603121, 12.60149776,\n",
       "       17.5738377 , 24.50817968, 34.17869685])"
      ]
     },
     "execution_count": 204,
     "metadata": {},
     "output_type": "execute_result"
    }
   ],
   "source": [
    "rbc"
   ]
  },
  {
   "cell_type": "raw",
   "metadata": {
    "collapsed": false
   },
   "source": [
    "npart_aemulus = 1400**3\n",
    "npart_mdpl2 = 3840**3\n",
    "\n",
    "downsample_factor = 1e-2\n",
    "npart_aemulus_ds = npart_aemulus*downsample_factor\n",
    "print npart_aemulus_ds, npart_aemulus_ds/npart_mdpl2"
   ]
  },
  {
   "cell_type": "code",
   "execution_count": 205,
   "metadata": {
    "collapsed": false
   },
   "outputs": [
    {
     "data": {
      "text/plain": [
       "array(['ombh2', 'omch2', 'w0', 'ns', 'H0', 'Neff', 'sigma8',\n",
       "       'mean_occupation_centrals_assembias_param1', 'logM0', 'sigma_logM',\n",
       "       'mean_occupation_satellites_assembias_param1', 'logM1', 'alpha',\n",
       "       'conc_gal_bias'], dtype='|S43')"
      ]
     },
     "execution_count": 205,
     "metadata": {},
     "output_type": "execute_result"
    }
   ],
   "source": [
    "chain_pnames"
   ]
  },
  {
   "cell_type": "code",
   "execution_count": 206,
   "metadata": {
    "collapsed": true
   },
   "outputs": [],
   "source": [
    "true_pred = np.hstack([emu.emulate_wrt_r(true_param_dict, r_bin_centers=emu.scale_bin_centers).squeeze() for emu in emus])\n",
    "true_pred = true_pred.reshape((len(emus), -1))"
   ]
  },
  {
   "cell_type": "code",
   "execution_count": 207,
   "metadata": {
    "collapsed": true
   },
   "outputs": [],
   "source": [
    "rmin_idxs = rbc > rmin"
   ]
  },
  {
   "cell_type": "code",
   "execution_count": 208,
   "metadata": {
    "collapsed": true
   },
   "outputs": [],
   "source": [
    "cov_rmin_idxs = np.r_[rmin_idxs, rmin_idxs]"
   ]
  },
  {
   "cell_type": "code",
   "execution_count": 209,
   "metadata": {
    "collapsed": false
   },
   "outputs": [
    {
     "name": "stdout",
     "output_type": "stream",
     "text": [
      "True Red. Chi2\n",
      "3.381677855992913\n"
     ]
    }
   ],
   "source": [
    "print 'True Red. Chi2'\n",
    "R = (10**true_pred[:, rmin_idxs].flatten()-true_data[:, rmin_idxs].flatten())\n",
    "\n",
    "chi2 =  R.T.dot(inv(cov[cov_rmin_idxs][:,cov_rmin_idxs])).dot(R)\n",
    "dof = len(chain_pnames)\n",
    "\n",
    "print chi2/dof"
   ]
  },
  {
   "cell_type": "code",
   "execution_count": 210,
   "metadata": {
    "collapsed": false
   },
   "outputs": [
    {
     "name": "stdout",
     "output_type": "stream",
     "text": [
      "Map Red. Chi2\n",
      "4.348516710484697\n"
     ]
    }
   ],
   "source": [
    "print 'Map Red. Chi2'\n",
    "R = (10**MAP_pred[:, rmin_idxs].flatten()-true_data[:, rmin_idxs].flatten())\n",
    "\n",
    "chi2 =  R.T.dot(inv(cov[cov_rmin_idxs][:,cov_rmin_idxs])).dot(R)\n",
    "dof = len(chain_pnames)\n",
    "\n",
    "print chi2/dof"
   ]
  },
  {
   "cell_type": "raw",
   "metadata": {},
   "source": [
    "fig = plt.figure(figsize = (14,6))\n",
    "chain_samples = np.random.choice(chain.shape[0], size = 100, replace = False)\n",
    "\n",
    "for i in xrange(len(emus)):\n",
    "    plt.subplot(1,2,i+1)\n",
    "    plt.errorbar(rbc, np.ones_like(true_data[i]), yerr=yerr[i]/true_data[i], label = 'Data')\n",
    "    plt.xscale('log')\n",
    "    \n",
    "for sample in chain[chain_samples]:\n",
    "    param_dict = dict(zip(chain_pnames, sample))\n",
    "    param_dict.update(fixed_params)\n",
    "    for i in xrange(len(emus)):\n",
    "        plt.subplot(1,2,i+1)\n",
    "        pred = emus[i].emulate_wrt_r(param_dict).squeeze()\n",
    "        plt.plot(rbc, (10**pred)/true_data[i], alpha = 0.2)#, label = 'MAP')\n",
    "\n",
    "\n",
    "plt.legend(loc='best')\n",
    "plt.show();"
   ]
  },
  {
   "cell_type": "code",
   "execution_count": 211,
   "metadata": {
    "collapsed": true
   },
   "outputs": [],
   "source": [
    "N = 10\n",
    "cmap = sns.color_palette(\"BrBG_d\", N)"
   ]
  },
  {
   "cell_type": "code",
   "execution_count": 212,
   "metadata": {
    "collapsed": false
   },
   "outputs": [
    {
     "data": {
      "text/plain": [
       "['ombh2',\n",
       " 'omch2',\n",
       " 'w0',\n",
       " 'ns',\n",
       " 'H0',\n",
       " 'Neff',\n",
       " 'sigma8',\n",
       " 'mean_occupation_centrals_assembias_param1',\n",
       " 'logM0',\n",
       " 'sigma_logM',\n",
       " 'mean_occupation_satellites_assembias_param1',\n",
       " 'logM1',\n",
       " 'alpha',\n",
       " 'conc_gal_bias']"
      ]
     },
     "execution_count": 212,
     "metadata": {},
     "output_type": "execute_result"
    }
   ],
   "source": [
    "emu.get_param_names()"
   ]
  },
  {
   "cell_type": "code",
   "execution_count": 213,
   "metadata": {
    "collapsed": false
   },
   "outputs": [
    {
     "data": {
      "image/png": "[encoded data removed]",
      "text/plain": [
       "<matplotlib.figure.Figure at 0x7f8f67fd18d0>"
      ]
     },
     "metadata": {},
     "output_type": "display_data"
    }
   ],
   "source": [
    "fig = plt.figure(figsize=(15,6))\n",
    "varied_pname = 'conc_gal_bias'\n",
    "lower, upper = emu.get_param_bounds(varied_pname)\n",
    "\n",
    "baseline_params = MAP_dict\n",
    "\n",
    "for i in xrange(len(emus)):\n",
    "    plt.subplot(1,2,i+1)\n",
    "    plt.errorbar(rbc, np.ones_like(true_data[i]), yerr=yerr[i]/true_data[i], label = 'Data')\n",
    "    pred = emus[i].emulate_wrt_r(baseline_params.copy()).squeeze()\n",
    "    if i ==1:\n",
    "        const = 1#np.power(MAP_dict['H0']/(100*h), 2)\n",
    "    else:\n",
    "        const = 1\n",
    "    plt.plot(rbc, const*(10**pred)/true_data[i], label = 'Truth', color = 'k')    \n",
    "\n",
    "    plt.xscale('log')\n",
    "    \n",
    "for c, val in zip(cmap, np.linspace(lower, upper, N) ):\n",
    "    param_dict = baseline_params.copy() #true_param_dict.copy()\n",
    "    param_dict[varied_pname] = val\n",
    "\n",
    "    for i in xrange(len(emus)):\n",
    "        plt.subplot(1,2,i+1)\n",
    "        pred = emus[i].emulate_wrt_r(param_dict).squeeze()\n",
    "        if i ==1:\n",
    "            const = 1#np.power(val/(100*h), 2)\n",
    "        else:\n",
    "            const= 1 #np.power(val/(100*h), 1)\n",
    "        plt.plot(rbc, const*((10**pred)/(true_data[i])), label = '%.3f'%val, color = c)\n",
    "    \n",
    "plt.legend(loc='best')\n",
    "plt.show();"
   ]
  },
  {
   "cell_type": "code",
   "execution_count": 214,
   "metadata": {
    "collapsed": false
   },
   "outputs": [
    {
     "ename": "AssertionError",
     "evalue": "",
     "output_type": "error",
     "traceback": [
      "\u001b[1;31m---------------------------------------------------------------------------\u001b[0m",
      "\u001b[1;31mAssertionError\u001b[0m                            Traceback (most recent call last)",
      "\u001b[1;32m<ipython-input-214-6e6df518a476>\u001b[0m in \u001b[0;36m<module>\u001b[1;34m()\u001b[0m\n\u001b[1;32m----> 1\u001b[1;33m \u001b[1;32massert\u001b[0m \u001b[0mFalse\u001b[0m\u001b[1;33m\u001b[0m\u001b[0m\n\u001b[0m",
      "\u001b[1;31mAssertionError\u001b[0m: "
     ]
    }
   ],
   "source": [
    "assert False"
   ]
  },
  {
   "cell_type": "code",
   "execution_count": null,
   "metadata": {
    "collapsed": false
   },
   "outputs": [],
   "source": [
    "from pearce.mocks.kittens import Chinchilla"
   ]
  },
  {
   "cell_type": "code",
   "execution_count": null,
   "metadata": {
    "collapsed": true
   },
   "outputs": [],
   "source": [
    "cat = Chinchilla(400, 2048)"
   ]
  },
  {
   "cell_type": "code",
   "execution_count": null,
   "metadata": {
    "collapsed": false
   },
   "outputs": [],
   "source": [
    "cat.load(1.0, HOD='zheng07')"
   ]
  },
  {
   "cell_type": "code",
   "execution_count": null,
   "metadata": {
    "collapsed": true
   },
   "outputs": [],
   "source": [
    "from scipy.optimize import minimize_scalar\n",
    "def add_logMmin(cat, hod_params):\n",
    "    hod_params['logMmin'] = 13.0 #initial guess\n",
    "    #cat.populate(hod_params) #may be overkill, but will ensure params are written everywhere\n",
    "    def func(logMmin, hod_params):\n",
    "        hod_params.update({'logMmin':logMmin})\n",
    "        return (cat.calc_analytic_nd(hod_params, min_ptcl=20) - 5e-4)**2\n",
    "\n",
    "    res = minimize_scalar(func, bounds = (12,15), args = (hod_params,), options = {'maxiter':100}, method = 'Bounded')\n",
    "\n",
    "    # assuming this doens't fail\n",
    "    print 'logMmin', res.x\n",
    "    hod_params['logMmin'] = res.x"
   ]
  },
  {
   "cell_type": "code",
   "execution_count": null,
   "metadata": {
    "collapsed": false
   },
   "outputs": [],
   "source": [
    "add_logMmin(cat, hod_params)\n",
    "r_bins = np.logspace(-1, 1.6, 19)"
   ]
  },
  {
   "cell_type": "code",
   "execution_count": null,
   "metadata": {
    "collapsed": true
   },
   "outputs": [],
   "source": [
    "N = 5\n",
    "wps = np.zeros((N, 18))\n",
    "for i in xrange(N):\n",
    "    pritn i\n",
    "    cat.populate(hod_params, min_ptcl=20)\n",
    "    wps[i] = cat.calc_wp(r_bins)\n",
    "    \n",
    "wp = wps.mean(axis=0)\n",
    "wp_err = wps.std(axis=0)"
   ]
  },
  {
   "cell_type": "code",
   "execution_count": null,
   "metadata": {
    "collapsed": true
   },
   "outputs": [],
   "source": [
    "chinchilla_pnames, chinchilla_pvals = cat._get_cosmo_param_names_vals()"
   ]
  },
  {
   "cell_type": "code",
   "execution_count": null,
   "metadata": {
    "collapsed": false
   },
   "outputs": [],
   "source": [
    "chinchilla_pnames"
   ]
  },
  {
   "cell_type": "code",
   "execution_count": null,
   "metadata": {
    "collapsed": true
   },
   "outputs": [],
   "source": [
    "cosmo_pnames = ['ombh2', 'omch2', 'w0', 'ns', 'H0', 'Neff', 'sigma8']\n",
    "cosmo_true_vals = [chinchilla_pvals[1]*chinchilla_pvals[2]**2, (chinchilla_pvals[0]-chinchilla_pvals[1])*chinchilla_pvals[2]**2,\n",
    "                   -1, chinchilla_pvals[4], 100*chinchilla_pvals[2], 3.046, chinchilla_pvals[3]]\n",
    "\n",
    "cat_val_dict = dict(zip(cosmo_pnames, cosmo_true_vals))"
   ]
  },
  {
   "cell_type": "code",
   "execution_count": null,
   "metadata": {
    "collapsed": false
   },
   "outputs": [],
   "source": [
    "params = cat_val_dict.copy()\n",
    "del hod_params['logMmin']\n",
    "params.update(hod_params)"
   ]
  },
  {
   "cell_type": "code",
   "execution_count": null,
   "metadata": {
    "collapsed": false
   },
   "outputs": [],
   "source": [
    "emu_wp = 10**emus[0].emulate_wrt_r(params)[0]"
   ]
  },
  {
   "cell_type": "code",
   "execution_count": null,
   "metadata": {
    "collapsed": false
   },
   "outputs": [],
   "source": [
    "plt.plot(emu.scale_bin_centers, wp, label = 'Chinchilla')\n",
    "plt.plot(emu.scale_bin_centers, emu_wp, label = 'Emu')\n",
    "plt.legend(loc='best')\n",
    "plt.loglog();"
   ]
  },
  {
   "cell_type": "code",
   "execution_count": null,
   "metadata": {
    "collapsed": false
   },
   "outputs": [],
   "source": [
    "plt.plot(emu.scale_bin_centers, wp/emu_wp)\n",
    "plt.errorbar(emu.scale_bin_centers, np.ones_like(wp), yerr = wp_err/wp)\n",
    "plt.xscale('log')"
   ]
  },
  {
   "cell_type": "code",
   "execution_count": null,
   "metadata": {
    "collapsed": false
   },
   "outputs": [],
   "source": [
    "plt.hist(cat.model.mock.galaxy_table['conc_NFWmodel'], bins = 100, normed = True);"
   ]
  },
  {
   "cell_type": "code",
   "execution_count": null,
   "metadata": {
    "collapsed": true
   },
   "outputs": [],
   "source": [
    "from pearce.mocks.kittens import TrainingBox"
   ]
  },
  {
   "cell_type": "code",
   "execution_count": null,
   "metadata": {
    "collapsed": true
   },
   "outputs": [],
   "source": [
    "cat2 = TrainingBox(0)\n",
    "cat2.load(1.0, HOD='zheng07')"
   ]
  },
  {
   "cell_type": "code",
   "execution_count": null,
   "metadata": {
    "collapsed": false
   },
   "outputs": [],
   "source": [
    "add_logMmin(cat2, hod_params)\n",
    "cat2.populate(hod_params, min_ptcl=20)"
   ]
  },
  {
   "cell_type": "code",
   "execution_count": null,
   "metadata": {
    "collapsed": false
   },
   "outputs": [],
   "source": [
    "bins = np.linspace(2.5, 20.0, 100)\n",
    "plt.hist(cat.model.mock.galaxy_table['conc_NFWmodel'], bins = bins, normed = True, alpha = 0.3, label = 'Chinchilla');\n",
    "plt.hist(cat2.model.mock.galaxy_table['conc_NFWmodel'], bins = bins, normed = True, alpha = 0.3, label = 'Aemulus');\n",
    "plt.legend(loc='best')"
   ]
  },
  {
   "cell_type": "code",
   "execution_count": null,
   "metadata": {
    "collapsed": false
   },
   "outputs": [],
   "source": [
    "bins = np.linspace(-4, 0, 100)\n",
    "plt.hist(np.log10(cat.halocat.halo_table['halo_rs']), bins = bins, normed=True, alpha = 0.3, label ='Chinchilla');\n",
    "plt.hist(np.log10(cat2.halocat.halo_table['halo_rs']), bins = bins, normed=True, alpha = 0.3, label = 'Aemulus');\n",
    "plt.legend(loc='best')"
   ]
  },
  {
   "cell_type": "code",
   "execution_count": null,
   "metadata": {
    "collapsed": false
   },
   "outputs": [],
   "source": [
    "bins = np.linspace(-4, 0, 100)\n",
    "plt.hist(np.log10(cat.halocat.halo_table['halo_rvir']), bins = bins, normed=True, alpha = 0.3, label ='Chinchilla');\n",
    "plt.hist(np.log10(cat2.halocat.halo_table['halo_rvir']), bins = bins, normed=True, alpha = 0.3, label = 'Aemulus');\n",
    "plt.legend(loc='best')"
   ]
  },
  {
   "cell_type": "code",
   "execution_count": null,
   "metadata": {
    "collapsed": false
   },
   "outputs": [],
   "source": [
    "plt.hist2d(np.log10(cat.halocat.halo_table['halo_mvir']), np.log10(cat.halocat.halo_table['halo_rs']),\\\n",
    "           bins = 100, normed =True);\n",
    "plt.hist2d(np.log10(cat2.halocat.halo_table['halo_mvir']), np.log10(cat2.halocat.halo_table['halo_rs']+1e-6),\\\n",
    "           bins = 100, normed =True);\n",
    "plt.xlim([9, 13])\n",
    "plt.ylim([-3, 0])"
   ]
  },
  {
   "cell_type": "code",
   "execution_count": null,
   "metadata": {
    "collapsed": true
   },
   "outputs": [],
   "source": [
    "m_min = np.min(cat2.halocat.halo_table['halo_mvir'])*10"
   ]
  },
  {
   "cell_type": "code",
   "execution_count": null,
   "metadata": {
    "collapsed": false
   },
   "outputs": [],
   "source": [
    "np.log10(m_min)"
   ]
  },
  {
   "cell_type": "code",
   "execution_count": null,
   "metadata": {
    "collapsed": true
   },
   "outputs": [],
   "source": [
    "mass_cut = np.logical_and(cat.halocat.halo_table['halo_mvir']>10**(12.0), cat.halocat.halo_table['halo_mvir']<10**(14.5))\n",
    "mass_cut2 = np.logical_and(cat2.halocat.halo_table['halo_mvir']>10**(12.0), cat2.halocat.halo_table['halo_mvir']<10**(14.5)) "
   ]
  },
  {
   "cell_type": "code",
   "execution_count": null,
   "metadata": {
    "collapsed": false
   },
   "outputs": [],
   "source": [
    "bins = np.linspace(11, 16, 100)\n",
    "plt.hist(np.log10(cat.halocat.halo_table['halo_mvir'][mass_cut]), bins = bins, normed=True, alpha = 0.3, label ='Chinchilla');\n",
    "plt.hist(np.log10(cat2.halocat.halo_table['halo_mvir'])[mass_cut2], bins = bins, normed=True, alpha = 0.3, label = 'Aemulus');\n",
    "plt.legend(loc='best')"
   ]
  },
  {
   "cell_type": "code",
   "execution_count": null,
   "metadata": {
    "collapsed": false
   },
   "outputs": [],
   "source": [
    "1./0.01"
   ]
  },
  {
   "cell_type": "code",
   "execution_count": null,
   "metadata": {
    "collapsed": false
   },
   "outputs": [],
   "source": [
    "bins = np.linspace(1./0.2, 1./0.01, 50)\n",
    "plt.hist(1./cat.halocat.halo_table['halo_rs'][mass_cut], bins = bins, normed=True, alpha = 0.3, label ='Chinchilla');\n",
    "plt.hist(1./cat2.halocat.halo_table['halo_rs'][mass_cut2], bins = bins, normed=True, alpha = 0.3, label = 'Aemulus');\n",
    "plt.legend(loc='best')"
   ]
  },
  {
   "cell_type": "code",
   "execution_count": null,
   "metadata": {
    "collapsed": false
   },
   "outputs": [],
   "source": [
    "bins = np.linspace(0.0, 1.0, 100)\n",
    "plt.hist(cat.halocat.halo_table['halo_rvir'][mass_cut], bins = bins, normed=True, alpha = 0.3, label ='Chinchilla');\n",
    "plt.hist(cat2.halocat.halo_table['halo_rvir'][mass_cut2], bins = bins, normed=True, alpha = 0.3, label = 'Aemulus');\n",
    "plt.legend(loc='best')"
   ]
  },
  {
   "cell_type": "code",
   "execution_count": null,
   "metadata": {
    "collapsed": false
   },
   "outputs": [],
   "source": [
    "bins = np.linspace(2.5, 20, 100)\n",
    "plt.hist(cat.halocat.halo_table['halo_nfw_conc'][mass_cut], bins = bins, normed=True, alpha = 0.3, label ='Chinchilla');\n",
    "plt.hist(cat2.halocat.halo_table['halo_nfw_conc'][mass_cut2], bins = bins, normed=True, alpha = 0.3, label = 'Aemulus');\n",
    "plt.legend(loc='best')\n",
    "#plt.yscale('log')"
   ]
  },
  {
   "cell_type": "code",
   "execution_count": null,
   "metadata": {
    "collapsed": true
   },
   "outputs": [],
   "source": [
    "finite_idxs = np.isfinite(cat2.halocat.halo_table['halo_nfw_conc'])\n",
    "mass_cut2 = np.logical_and(finite_idxs, mass_cut2)"
   ]
  },
  {
   "cell_type": "code",
   "execution_count": null,
   "metadata": {
    "collapsed": false
   },
   "outputs": [],
   "source": [
    "sns.jointplot(np.log10(cat2.halocat.halo_table['halo_mvir'][mass_cut2]), np.log10(1./cat2.halocat.halo_table['halo_rs'][mass_cut2]), kind='hex')"
   ]
  },
  {
   "cell_type": "code",
   "execution_count": null,
   "metadata": {
    "collapsed": false
   },
   "outputs": [],
   "source": [
    "sns.jointplot(np.log10(cat.halocat.halo_table['halo_mvir'][mass_cut]), np.log10(1./cat.halocat.halo_table['halo_rs'][mass_cut]), kind='hex')"
   ]
  },
  {
   "cell_type": "code",
   "execution_count": null,
   "metadata": {
    "collapsed": false
   },
   "outputs": [],
   "source": [
    "sns.jointplot(cat2.halocat.halo_table['halo_rvir'][mass_cut2], np.log10(cat2.halocat.halo_table['halo_mvir'][mass_cut2]), kind='hex')"
   ]
  },
  {
   "cell_type": "code",
   "execution_count": null,
   "metadata": {
    "collapsed": false
   },
   "outputs": [],
   "source": [
    "sns.jointplot(cat.halocat.halo_table['halo_rvir'][mass_cut], np.log10(cat.halocat.halo_table['halo_mvir'][mass_cut]), kind='hex')"
   ]
  },
  {
   "cell_type": "code",
   "execution_count": null,
   "metadata": {
    "collapsed": true
   },
   "outputs": [],
   "source": []
  }
 ],
 "metadata": {
  "kernelspec": {
   "display_name": "Python [default]",
   "language": "python",
   "name": "python2"
  },
  "language_info": {
   "codemirror_mode": {
    "name": "ipython",
    "version": 2
   },
   "file_extension": ".py",
   "mimetype": "text/x-python",
   "name": "python",
   "nbconvert_exporter": "python",
   "pygments_lexer": "ipython2",
   "version": "2.7.13"
  }
 },
 "nbformat": 4,
 "nbformat_minor": 1
}

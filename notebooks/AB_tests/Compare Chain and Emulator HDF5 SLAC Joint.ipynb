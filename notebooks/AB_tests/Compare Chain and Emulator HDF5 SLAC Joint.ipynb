{
 "cells": [
  {
   "cell_type": "markdown",
   "metadata": {},
   "source": [
    "That last notebook got messy so I'm making a new cleaner one that will enable me to sample over both emulators simultaneously. "
   ]
  },
  {
   "cell_type": "code",
   "execution_count": 38,
   "metadata": {
    "collapsed": true
   },
   "outputs": [],
   "source": [
    "import matplotlib\n",
    "#matplotlib.use('Agg')\n",
    "from matplotlib import pyplot as plt\n",
    "%matplotlib inline\n",
    "import seaborn as sns\n",
    "sns.set()"
   ]
  },
  {
   "cell_type": "code",
   "execution_count": 39,
   "metadata": {
    "collapsed": false
   },
   "outputs": [],
   "source": [
    "import numpy as np\n",
    "import h5py\n",
    "from chainconsumer import ChainConsumer\n",
    "#from corner import corner\n",
    "from ast import literal_eval\n",
    "from pearce.emulator import LemonPepperWet\n",
    "from os import path\n",
    "from scipy.linalg import inv"
   ]
  },
  {
   "cell_type": "code",
   "execution_count": 40,
   "metadata": {
    "collapsed": true
   },
   "outputs": [],
   "source": [
    "fname = '/u/ki/swmclau2/des/PearceMCMC/VpeakSHAM_wp_ds_rmin_0.5_HSAB.hdf5'"
   ]
  },
  {
   "cell_type": "code",
   "execution_count": 41,
   "metadata": {
    "collapsed": true
   },
   "outputs": [],
   "source": [
    "f = h5py.File(fname, 'r')"
   ]
  },
  {
   "cell_type": "code",
   "execution_count": 42,
   "metadata": {
    "collapsed": false
   },
   "outputs": [],
   "source": [
    "tf = f.attrs['training_file']\n",
    "fixed_params = literal_eval(f.attrs['fixed_params'])\n",
    "if 'rmin' in fixed_params:\n",
    "    del fixed_params['rmin']\n",
    "emu_hps = literal_eval(f.attrs['emu_hps'])"
   ]
  },
  {
   "cell_type": "code",
   "execution_count": 43,
   "metadata": {
    "collapsed": false
   },
   "outputs": [
    {
     "data": {
      "text/plain": [
       "array(['/u/ki/swmclau2/des/Aemulators/wp_hsab_h/PearceWpHSABCosmo.hdf5',\n",
       "       '/u/ki/swmclau2/des/Aemulators/ds_hsab_h/PearceDsHSABCosmo.hdf5'],\n",
       "      dtype='|S62')"
      ]
     },
     "execution_count": 43,
     "metadata": {},
     "output_type": "execute_result"
    }
   ],
   "source": [
    "tf"
   ]
  },
  {
   "cell_type": "code",
   "execution_count": 44,
   "metadata": {
    "collapsed": false
   },
   "outputs": [],
   "source": [
    "fixed_params = fixed_params[0] if type(fixed_params) is list else fixed_params"
   ]
  },
  {
   "cell_type": "raw",
   "metadata": {},
   "source": [
    "tf_base = '/u/ki/swmclau2/des/Aemulators/'\n",
    "\n",
    "_tf = []\n",
    "for t in tf:\n",
    "    last2 = t.split('/')[-2:]\n",
    "    _tf.append(path.join(tf_base, last2[0], last2[1]))\n",
    "    \n",
    "tf = _tf"
   ]
  },
  {
   "cell_type": "code",
   "execution_count": 45,
   "metadata": {
    "collapsed": false
   },
   "outputs": [
    {
     "name": "stdout",
     "output_type": "stream",
     "text": [
      "/u/ki/swmclau2/des/Aemulators/wp_hsab_h/PearceWpHSABCosmo.hdf5\n",
      "/u/ki/swmclau2/des/Aemulators/ds_hsab_h/PearceDsHSABCosmo.hdf5\n"
     ]
    }
   ],
   "source": [
    "emus = []\n",
    "for t in tf:\n",
    "    print t\n",
    "    emus.append(LemonPepperWet(t, fixed_params = fixed_params, hyperparams = emu_hps) )"
   ]
  },
  {
   "cell_type": "code",
   "execution_count": 46,
   "metadata": {
    "collapsed": true
   },
   "outputs": [],
   "source": [
    "chain_pnames = f.attrs['param_names']"
   ]
  },
  {
   "cell_type": "code",
   "execution_count": 47,
   "metadata": {
    "collapsed": true
   },
   "outputs": [],
   "source": [
    "n_walkers = f.attrs['nwalkers']"
   ]
  },
  {
   "cell_type": "code",
   "execution_count": 48,
   "metadata": {
    "collapsed": true
   },
   "outputs": [],
   "source": [
    "n_burn = 5000\n",
    "chain = f['chain'][n_burn*n_walkers:, :]\n",
    "lnprob = f['lnprob'][n_burn*n_walkers:]"
   ]
  },
  {
   "cell_type": "code",
   "execution_count": 49,
   "metadata": {
    "collapsed": false
   },
   "outputs": [],
   "source": [
    "try:\n",
    "    rmin = eval(f.attrs['fixed_params'])['rmin']\n",
    "except:\n",
    "    rmin = 0"
   ]
  },
  {
   "cell_type": "code",
   "execution_count": 50,
   "metadata": {
    "collapsed": true
   },
   "outputs": [],
   "source": [
    "n_params = chain.shape[1] if len(chain.shape) > 1 else 1"
   ]
  },
  {
   "cell_type": "code",
   "execution_count": 51,
   "metadata": {
    "collapsed": false
   },
   "outputs": [
    {
     "name": "stdout",
     "output_type": "stream",
     "text": [
      "(8198000, 14) 32792\n"
     ]
    }
   ],
   "source": [
    "print chain.shape, chain.shape[0]/n_walkers"
   ]
  },
  {
   "cell_type": "code",
   "execution_count": 52,
   "metadata": {
    "collapsed": false
   },
   "outputs": [
    {
     "data": {
      "text/plain": [
       "<chainconsumer.chainconsumer.ChainConsumer at 0x7f7acf350e50>"
      ]
     },
     "execution_count": 52,
     "metadata": {},
     "output_type": "execute_result"
    }
   ],
   "source": [
    "c = ChainConsumer()\n",
    "chain = chain.reshape((-1, n_walkers, chain.shape[1]))\n",
    "chain = chain.reshape((-1, chain.shape[2]), order = 'F')\n",
    "lnprob = lnprob.reshape((-1, n_walkers)).reshape((-1,), order = 'F')\n",
    "\n",
    "c.add_chain(chain, parameters=list(chain_pnames), walkers = n_walkers, posterior=lnprob)\n"
   ]
  },
  {
   "cell_type": "raw",
   "metadata": {
    "collapsed": false
   },
   "source": [
    "#MAP = chain.mean(axis = 0)\n",
    "c.configure(statistics='cumulative')\n",
    "summary = c.analysis.get_summary(chains=0)\n",
    "MAP = np.array([summary[key][1] for key in chain_pnames])\n",
    "print MAP"
   ]
  },
  {
   "cell_type": "code",
   "execution_count": 53,
   "metadata": {
    "collapsed": false
   },
   "outputs": [],
   "source": [
    "MAP_dict = c.analysis.get_max_posteriors()"
   ]
  },
  {
   "cell_type": "code",
   "execution_count": 54,
   "metadata": {
    "collapsed": false
   },
   "outputs": [],
   "source": [
    "#fixed_params = eval(f.attrs['chain_fixed_params'])\n",
    "#fixed_params.update(eval(f.attrs['sim'])['cosmo_params'])"
   ]
  },
  {
   "cell_type": "code",
   "execution_count": 55,
   "metadata": {
    "collapsed": false
   },
   "outputs": [],
   "source": [
    "MAP_dict.update(fixed_params)"
   ]
  },
  {
   "cell_type": "code",
   "execution_count": 56,
   "metadata": {
    "collapsed": false
   },
   "outputs": [
    {
     "data": {
      "text/plain": [
       "{'H0': 69.02276,\n",
       " 'Neff': 3.8602018,\n",
       " 'alpha': 0.8857239,\n",
       " 'conc_gal_bias': 0.64475,\n",
       " 'logM0': 13.070878,\n",
       " 'logM1': 14.486659,\n",
       " 'mean_occupation_centrals_assembias_param1': 0.033583574,\n",
       " 'mean_occupation_satellites_assembias_param1': -0.58537894,\n",
       " 'ns': 0.9366822,\n",
       " 'ombh2': 0.022000708,\n",
       " 'omch2': 0.1275149,\n",
       " 'sigma8': 0.79460204,\n",
       " 'sigma_logM': 0.5917754,\n",
       " 'w0': -1.1383874,\n",
       " 'z': 0.0}"
      ]
     },
     "execution_count": 56,
     "metadata": {},
     "output_type": "execute_result"
    }
   ],
   "source": [
    "MAP_dict"
   ]
  },
  {
   "cell_type": "code",
   "execution_count": 57,
   "metadata": {
    "collapsed": false
   },
   "outputs": [],
   "source": [
    "MAP_pred = np.hstack([emu.emulate_wrt_r(MAP_dict, r_bin_centers=emu.scale_bin_centers).squeeze() for emu in emus])\n",
    "MAP_pred = MAP_pred.reshape((len(emus), -1))"
   ]
  },
  {
   "cell_type": "code",
   "execution_count": 58,
   "metadata": {
    "collapsed": true
   },
   "outputs": [],
   "source": [
    "hod_idxs = np.array(range(7, len(chain_pnames)))\n",
    "cosmo_idxs = np.array(range(7))"
   ]
  },
  {
   "cell_type": "code",
   "execution_count": 59,
   "metadata": {
    "collapsed": true
   },
   "outputs": [],
   "source": [
    "if chain.shape[1] == 7:\n",
    "    cosmo_chain = chain\n",
    "else:\n",
    "    hod_chain = chain[:,7:]#[:, hod_idxs]\n",
    "    cosmo_chain = chain[:,:7]#[:, cosmo_idxs]"
   ]
  },
  {
   "cell_type": "code",
   "execution_count": 60,
   "metadata": {
    "collapsed": true
   },
   "outputs": [],
   "source": [
    "from pearce.mocks import cat_dict\n",
    "cosmo_params = {}"
   ]
  },
  {
   "cell_type": "code",
   "execution_count": 61,
   "metadata": {
    "collapsed": true
   },
   "outputs": [],
   "source": [
    "cosmo_params['boxno'] = 1\n",
    "cosmo_params['realization'] = 1"
   ]
  },
  {
   "cell_type": "code",
   "execution_count": 62,
   "metadata": {
    "collapsed": true
   },
   "outputs": [],
   "source": [
    "cat = cat_dict['testbox'](**cosmo_params)#construct the specified catalog!"
   ]
  },
  {
   "cell_type": "raw",
   "metadata": {
    "collapsed": true
   },
   "source": [
    "cpv = cat._get_cosmo_param_names_vals()\n",
    "\n",
    "cat_val_dict =  {key: val for key, val in zip(cpv[0], cpv[1])}"
   ]
  },
  {
   "cell_type": "code",
   "execution_count": 63,
   "metadata": {
    "collapsed": true
   },
   "outputs": [],
   "source": [
    "h = 0.6777\n",
    "cosmo_pnames = ['ombh2', 'omch2', 'w0', 'ns', 'H0', 'Neff', 'sigma8']\n",
    "cosmo_true_vals = np.array([0.048206*h**2, 0.307115*h**2-0.048206*h**2,\\\n",
    "                            -1, 0.9667, \\\n",
    "                                h*100, 3.046, 0.8228]) #mdpl2\n",
    "\n",
    "cat_val_dict = dict(zip(cosmo_pnames, cosmo_true_vals))"
   ]
  },
  {
   "cell_type": "code",
   "execution_count": 64,
   "metadata": {
    "collapsed": false
   },
   "outputs": [
    {
     "data": {
      "text/plain": [
       "{'H0': 67.77,\n",
       " 'Neff': 3.046,\n",
       " 'ns': 0.9667,\n",
       " 'ombh2': 0.022139921041739997,\n",
       " 'omch2': 0.11891102387661,\n",
       " 'sigma8': 0.8228,\n",
       " 'w0': -1.0}"
      ]
     },
     "execution_count": 64,
     "metadata": {},
     "output_type": "execute_result"
    }
   ],
   "source": [
    "cat_val_dict"
   ]
  },
  {
   "cell_type": "code",
   "execution_count": 65,
   "metadata": {
    "collapsed": false
   },
   "outputs": [],
   "source": [
    "true_param_dict = cat_val_dict.copy()\n",
    "#hod_params = {'alpha': 1.083, 'conc_gal_bias': 1.0, 'logM0': 13.2,'logM1': 14.2, 'sigma_logM': 0.2}#sim_info['hod_params']\n",
    "hod_params = {'alpha': 0.9, 'conc_gal_bias': 1.0, 'logM0': 13.2,'logM1': 14.5, 'sigma_logM': 0.58}#sim_info['hod_params']\n",
    "\n",
    "\n",
    "#hod_params['mean_occupation_centrals_assembias_param1'] = 0.0#0.18\n",
    "#hod_params['mean_occupation_satellites_assembias_param1'] = 0.0#0.16\n",
    "#hod_params['mean_occupation_centrals_assembias_slope1'] = 3.0\n",
    "#hod_params['mean_occupation_satellites_assembias_slope1'] = 3.0\n",
    "hod_params['mean_occupation_centrals_assembias_corr1'] = 0.0\n",
    "hod_params['mean_occupation_satellites_assembias_corr1'] =0.0\n",
    "#for pname in emu.get_param_names():\n",
    "#    if 'mean_occupation' in pname:\n",
    "#        hod_params[pname] = 0.0\n",
    "\n",
    "#for hp, hv in hod_params.iteritems():\n",
    "for hp, hv in MAP_dict.iteritems():\n",
    "    if hp == 'logMmin':\n",
    "        continue\n",
    "    elif hp in true_param_dict: #don't overwrite the correct cosmology\n",
    "        continue\n",
    "    true_param_dict[hp] = hv\n",
    "\n",
    "true_param_dict['conc_gal_bias'] = 1.0\n",
    "true_pred = emu.emulate_wrt_r(true_param_dict)[0]"
   ]
  },
  {
   "cell_type": "code",
   "execution_count": 66,
   "metadata": {
    "collapsed": false
   },
   "outputs": [
    {
     "data": {
      "text/plain": [
       "{'H0': 67.77,\n",
       " 'Neff': 3.046,\n",
       " 'alpha': 0.8857239,\n",
       " 'conc_gal_bias': 1.0,\n",
       " 'logM0': 13.070878,\n",
       " 'logM1': 14.486659,\n",
       " 'mean_occupation_centrals_assembias_param1': 0.033583574,\n",
       " 'mean_occupation_satellites_assembias_param1': -0.58537894,\n",
       " 'ns': 0.9667,\n",
       " 'ombh2': 0.022139921041739997,\n",
       " 'omch2': 0.11891102387661,\n",
       " 'sigma8': 0.8228,\n",
       " 'sigma_logM': 0.5917754,\n",
       " 'w0': -1.0,\n",
       " 'z': 0.0}"
      ]
     },
     "execution_count": 66,
     "metadata": {},
     "output_type": "execute_result"
    }
   ],
   "source": [
    "true_param_dict"
   ]
  },
  {
   "cell_type": "code",
   "execution_count": 67,
   "metadata": {
    "collapsed": false
   },
   "outputs": [
    {
     "data": {
      "text/plain": [
       "{'H0': 69.02276,\n",
       " 'Neff': 3.8602018,\n",
       " 'alpha': 0.8857239,\n",
       " 'conc_gal_bias': 0.64475,\n",
       " 'logM0': 13.070878,\n",
       " 'logM1': 14.486659,\n",
       " 'mean_occupation_centrals_assembias_param1': 0.033583574,\n",
       " 'mean_occupation_satellites_assembias_param1': -0.58537894,\n",
       " 'ns': 0.9366822,\n",
       " 'ombh2': 0.022000708,\n",
       " 'omch2': 0.1275149,\n",
       " 'sigma8': 0.79460204,\n",
       " 'sigma_logM': 0.5917754,\n",
       " 'w0': -1.1383874,\n",
       " 'z': 0.0}"
      ]
     },
     "execution_count": 67,
     "metadata": {},
     "output_type": "execute_result"
    }
   ],
   "source": [
    "MAP_dict"
   ]
  },
  {
   "cell_type": "code",
   "execution_count": 68,
   "metadata": {
    "collapsed": true
   },
   "outputs": [],
   "source": [
    "true_data = f['data'][()].flatten()"
   ]
  },
  {
   "cell_type": "code",
   "execution_count": 69,
   "metadata": {
    "collapsed": true
   },
   "outputs": [],
   "source": [
    "y = true_data\n",
    "true_data = true_data.reshape((2, -1))"
   ]
  },
  {
   "cell_type": "code",
   "execution_count": 70,
   "metadata": {
    "collapsed": false
   },
   "outputs": [
    {
     "data": {
      "image/png": "[encoded data removed]",
      "text/plain": [
       "<matplotlib.figure.Figure at 0x7f7ad25508d0>"
      ]
     },
     "metadata": {},
     "output_type": "display_data"
    }
   ],
   "source": [
    "plt.plot(emu.scale_bin_centers, true_data[0])\n",
    "plt.plot(emu.scale_bin_centers, true_data[1])\n",
    "\n",
    "plt.loglog();"
   ]
  },
  {
   "cell_type": "code",
   "execution_count": 71,
   "metadata": {
    "collapsed": true
   },
   "outputs": [],
   "source": [
    "rbc = emu.scale_bin_centers#[-len(emu.scale_bin_centers):]"
   ]
  },
  {
   "cell_type": "code",
   "execution_count": 72,
   "metadata": {
    "collapsed": true
   },
   "outputs": [],
   "source": [
    "cov = f['cov'][()]\n",
    "yerr = np.sqrt(np.diag(cov)).reshape((len(emus), -1))"
   ]
  },
  {
   "cell_type": "raw",
   "metadata": {
    "collapsed": false
   },
   "source": [
    "_rp = []\n",
    "_y = []\n",
    "print y.shape, y\n",
    "print cov.shape, np.sqrt(np.diag(cov))\n",
    "init_idx = 0\n",
    "print '*'*20\n",
    "fixed_params = [{'z':0.0, 'rmin':2.0} for e in emus]\n",
    "rpoints = [e.scale_bin_centers for e in emus]\n",
    "\n",
    "for _tf, rp, fp in zip(tf, rpoints, fixed_params): # TODO iterate over the others?\n",
    "# TODO how will cic work with rmin?\n",
    "    print fp\n",
    "    emu = LemonPepperWet(_tf, fixed_params = fp,\n",
    "                         **{})\n",
    "    orig_n_bins = len(rp)\n",
    "    cut_n_bins = orig_n_bins - emu.n_bins\n",
    "    print orig_n_bins, emu.n_bins, cut_n_bins\n",
    "    _rp.append(np.array(rp[-emu.n_bins:]))\n",
    "    _y.append(y[init_idx+cut_n_bins:init_idx + orig_n_bins])\n",
    "    print 'y', len(_y[-1]), _y\n",
    "    #print '_y', _y\n",
    "    cov_idxs = np.ones((cov.shape[0],), dtype = bool)\n",
    "    cov_idxs[init_idx:init_idx+cut_n_bins] = False # deselect the bins we're cutting\n",
    "    print 'cov', cov_idxs\n",
    "    cov = cov[cov_idxs]\n",
    "    cov = cov[:, cov_idxs]\n",
    "    print 'cov', cov.shape, np.sqrt(np.diag(cov))\n",
    "\n",
    "    init_idx+=orig_n_bins#emu.n_bins\n",
    "    print '*'*20"
   ]
  },
  {
   "cell_type": "raw",
   "metadata": {},
   "source": [
    "true_data2 = np.zeros_like(true_data)\n",
    "true_data2[0] = np.load('/u/ki/swmclau2/Git/pearce/bin/mock_measurements/HOD6mock_wp.npy')\n",
    "true_data2[1] = np.load('/u/ki/swmclau2/Git/pearce/bin/mock_measurements/HOD6mock_ds.npy')"
   ]
  },
  {
   "cell_type": "code",
   "execution_count": 73,
   "metadata": {
    "collapsed": false
   },
   "outputs": [
    {
     "data": {
      "image/png": "[encoded data removed]",
      "text/plain": [
       "<matplotlib.figure.Figure at 0x7f7ad2c73f50>"
      ]
     },
     "metadata": {},
     "output_type": "display_data"
    }
   ],
   "source": [
    "fig = plt.figure(figsize = (12,5))\n",
    "for i in xrange(len(emus)):\n",
    "    plt.subplot(1,2,i+1)\n",
    "    true_pred = emus[i].emulate_wrt_r(true_param_dict).squeeze()\n",
    "    plt.errorbar(rbc, true_data[i], yerr=yerr[i], label = 'Data')\n",
    "    plt.plot(rbc, 10**MAP_pred[i], label = 'MAP')\n",
    "    plt.plot(rbc, 10**true_pred, label = 'Emu at Truth')\n",
    "\n",
    "    plt.loglog()\n",
    "    plt.legend(loc='best')\n",
    "plt.show();"
   ]
  },
  {
   "cell_type": "code",
   "execution_count": 74,
   "metadata": {
    "collapsed": false
   },
   "outputs": [
    {
     "data": {
      "image/png": "[encoded data removed]",
      "text/plain": [
       "<matplotlib.figure.Figure at 0x7f7ad308fbd0>"
      ]
     },
     "metadata": {},
     "output_type": "display_data"
    }
   ],
   "source": [
    "fig = plt.figure(figsize = (12,5))\n",
    "for i in xrange(len(emus)):\n",
    "    plt.subplot(1,2,i+1)\n",
    "    if i == 0:\n",
    "        plt.title('Wp Ratio')\n",
    "    else:\n",
    "        plt.title('Ds Ratio')\n",
    "    true_pred = emus[i].emulate_wrt_r(true_param_dict).squeeze()\n",
    "    plt.errorbar(rbc, np.ones_like(true_data[i]), yerr=yerr[i]/true_data[i], label = 'Data')\n",
    "    plt.plot(rbc, (10**MAP_pred[i])/true_data[i], label = 'MAP')\n",
    "    plt.plot(rbc, (10**true_pred)/true_data[i], label = 'Emu at Truth')\n",
    "    plt.vlines(rmin, 0.7, 1.3, alpha = 0.3)\n",
    "    plt.legend(loc='best')\n",
    "    plt.xscale('log')\n",
    "    plt.ylim([0.7, 1.3])\n",
    "plt.show();"
   ]
  },
  {
   "cell_type": "code",
   "execution_count": 75,
   "metadata": {
    "collapsed": false
   },
   "outputs": [
    {
     "data": {
      "text/plain": [
       "'ds'"
      ]
     },
     "execution_count": 75,
     "metadata": {},
     "output_type": "execute_result"
    }
   ],
   "source": [
    "emu.obs"
   ]
  },
  {
   "cell_type": "code",
   "execution_count": 76,
   "metadata": {
    "collapsed": false
   },
   "outputs": [
    {
     "data": {
      "text/plain": [
       "array([ 0.11972916,  0.16697228,  0.23285675,  0.32473812,  0.45287435,\n",
       "        0.63157098,  0.88077831,  1.22831868,  1.71299265,  2.38891085,\n",
       "        3.33153506,  4.646103  ,  6.47937742,  9.03603121, 12.60149776,\n",
       "       17.5738377 , 24.50817968, 34.17869685])"
      ]
     },
     "execution_count": 76,
     "metadata": {},
     "output_type": "execute_result"
    }
   ],
   "source": [
    "rbc"
   ]
  },
  {
   "cell_type": "raw",
   "metadata": {
    "collapsed": false
   },
   "source": [
    "npart_aemulus = 1400**3\n",
    "npart_mdpl2 = 3840**3\n",
    "\n",
    "downsample_factor = 1e-2\n",
    "npart_aemulus_ds = npart_aemulus*downsample_factor\n",
    "print npart_aemulus_ds, npart_aemulus_ds/npart_mdpl2"
   ]
  },
  {
   "cell_type": "code",
   "execution_count": 77,
   "metadata": {
    "collapsed": false
   },
   "outputs": [
    {
     "data": {
      "text/plain": [
       "array(['ombh2', 'omch2', 'w0', 'ns', 'H0', 'Neff', 'sigma8',\n",
       "       'mean_occupation_centrals_assembias_param1', 'logM0', 'sigma_logM',\n",
       "       'mean_occupation_satellites_assembias_param1', 'logM1', 'alpha',\n",
       "       'conc_gal_bias'], dtype='|S43')"
      ]
     },
     "execution_count": 77,
     "metadata": {},
     "output_type": "execute_result"
    }
   ],
   "source": [
    "chain_pnames"
   ]
  },
  {
   "cell_type": "code",
   "execution_count": 78,
   "metadata": {
    "collapsed": true
   },
   "outputs": [],
   "source": [
    "true_pred = np.hstack([emu.emulate_wrt_r(true_param_dict, r_bin_centers=emu.scale_bin_centers).squeeze() for emu in emus])\n",
    "true_pred = true_pred.reshape((len(emus), -1))"
   ]
  },
  {
   "cell_type": "code",
   "execution_count": 79,
   "metadata": {
    "collapsed": true
   },
   "outputs": [],
   "source": [
    "rmin_idxs = rbc > rmin"
   ]
  },
  {
   "cell_type": "code",
   "execution_count": 80,
   "metadata": {
    "collapsed": true
   },
   "outputs": [],
   "source": [
    "cov_rmin_idxs = np.r_[rmin_idxs, rmin_idxs]"
   ]
  },
  {
   "cell_type": "code",
   "execution_count": 81,
   "metadata": {
    "collapsed": false
   },
   "outputs": [
    {
     "name": "stdout",
     "output_type": "stream",
     "text": [
      "True Red. Chi2\n",
      "0.8741390144340991\n"
     ]
    }
   ],
   "source": [
    "print 'True Red. Chi2'\n",
    "R = (10**true_pred[:, rmin_idxs].flatten()-true_data[:, rmin_idxs].flatten())\n",
    "\n",
    "chi2 =  R.T.dot(inv(cov[cov_rmin_idxs][:,cov_rmin_idxs])).dot(R)\n",
    "dof = len(chain_pnames)\n",
    "\n",
    "print chi2/dof"
   ]
  },
  {
   "cell_type": "code",
   "execution_count": 82,
   "metadata": {
    "collapsed": false
   },
   "outputs": [
    {
     "name": "stdout",
     "output_type": "stream",
     "text": [
      "Map Red. Chi2\n",
      "0.3053450966402652\n"
     ]
    }
   ],
   "source": [
    "print 'Map Red. Chi2'\n",
    "R = (10**MAP_pred[:, rmin_idxs].flatten()-true_data[:, rmin_idxs].flatten())\n",
    "\n",
    "chi2 =  R.T.dot(inv(cov[cov_rmin_idxs][:,cov_rmin_idxs])).dot(R)\n",
    "dof = len(chain_pnames)\n",
    "\n",
    "print chi2/dof"
   ]
  },
  {
   "cell_type": "code",
   "execution_count": 83,
   "metadata": {
    "collapsed": false
   },
   "outputs": [
    {
     "data": {
      "image/png": "[encoded data removed]",
      "text/plain": [
       "<matplotlib.figure.Figure at 0x7f7acde7c410>"
      ]
     },
     "metadata": {},
     "output_type": "display_data"
    }
   ],
   "source": [
    "fig = plt.figure(figsize = (14,6))\n",
    "chain_samples = np.random.choice(chain.shape[0], size = 100, replace = False)\n",
    "\n",
    "for i in xrange(len(emus)):\n",
    "    plt.subplot(1,2,i+1)\n",
    "    plt.errorbar(rbc, np.ones_like(true_data[i]), yerr=yerr[i]/true_data[i], label = 'Data')\n",
    "    plt.xscale('log')\n",
    "    plt.ylim([0.8, 1.2])\n",
    "    plt.vlines(rmin, 0.8, 1.2, alpha = 0.3)\n",
    "    \n",
    "for sample in chain[chain_samples]:\n",
    "    param_dict = dict(zip(chain_pnames, sample))\n",
    "    param_dict.update(fixed_params)\n",
    "    for i in xrange(len(emus)):\n",
    "        plt.subplot(1,2,i+1)\n",
    "        pred = emus[i].emulate_wrt_r(param_dict).squeeze()\n",
    "        plt.plot(rbc, (10**pred)/true_data[i], alpha = 0.2)#, label = 'MAP')\n",
    "\n",
    "\n",
    "plt.legend(loc='best')\n",
    "plt.show();"
   ]
  },
  {
   "cell_type": "code",
   "execution_count": 84,
   "metadata": {
    "collapsed": true
   },
   "outputs": [],
   "source": [
    "N = 10\n",
    "cmap = sns.color_palette(\"BrBG_d\", N)"
   ]
  },
  {
   "cell_type": "code",
   "execution_count": 85,
   "metadata": {
    "collapsed": false
   },
   "outputs": [
    {
     "data": {
      "text/plain": [
       "['ombh2',\n",
       " 'omch2',\n",
       " 'w0',\n",
       " 'ns',\n",
       " 'H0',\n",
       " 'Neff',\n",
       " 'sigma8',\n",
       " 'mean_occupation_centrals_assembias_param1',\n",
       " 'logM0',\n",
       " 'sigma_logM',\n",
       " 'mean_occupation_satellites_assembias_param1',\n",
       " 'logM1',\n",
       " 'alpha',\n",
       " 'conc_gal_bias']"
      ]
     },
     "execution_count": 85,
     "metadata": {},
     "output_type": "execute_result"
    }
   ],
   "source": [
    "emu.get_param_names()"
   ]
  },
  {
   "cell_type": "code",
   "execution_count": 86,
   "metadata": {
    "collapsed": false
   },
   "outputs": [
    {
     "ename": "KeyError",
     "evalue": "'Parameter mean_occupation_centrals_assembias_corr1 could not be found.'",
     "output_type": "error",
     "traceback": [
      "\u001b[1;31m---------------------------------------------------------------------------\u001b[0m",
      "\u001b[1;31mKeyError\u001b[0m                                  Traceback (most recent call last)",
      "\u001b[1;32m<ipython-input-86-a41ab8a20c82>\u001b[0m in \u001b[0;36m<module>\u001b[1;34m()\u001b[0m\n\u001b[0;32m      1\u001b[0m \u001b[0mfig\u001b[0m \u001b[1;33m=\u001b[0m \u001b[0mplt\u001b[0m\u001b[1;33m.\u001b[0m\u001b[0mfigure\u001b[0m\u001b[1;33m(\u001b[0m\u001b[0mfigsize\u001b[0m\u001b[1;33m=\u001b[0m\u001b[1;33m(\u001b[0m\u001b[1;36m15\u001b[0m\u001b[1;33m,\u001b[0m\u001b[1;36m6\u001b[0m\u001b[1;33m)\u001b[0m\u001b[1;33m)\u001b[0m\u001b[1;33m\u001b[0m\u001b[0m\n\u001b[0;32m      2\u001b[0m \u001b[0mvaried_pname\u001b[0m \u001b[1;33m=\u001b[0m \u001b[1;34m'mean_occupation_centrals_assembias_corr1'\u001b[0m\u001b[1;33m\u001b[0m\u001b[0m\n\u001b[1;32m----> 3\u001b[1;33m \u001b[0mlower\u001b[0m\u001b[1;33m,\u001b[0m \u001b[0mupper\u001b[0m \u001b[1;33m=\u001b[0m \u001b[0memu\u001b[0m\u001b[1;33m.\u001b[0m\u001b[0mget_param_bounds\u001b[0m\u001b[1;33m(\u001b[0m\u001b[0mvaried_pname\u001b[0m\u001b[1;33m)\u001b[0m\u001b[1;33m\u001b[0m\u001b[0m\n\u001b[0m\u001b[0;32m      4\u001b[0m \u001b[1;33m\u001b[0m\u001b[0m\n\u001b[0;32m      5\u001b[0m \u001b[0mbaseline_params\u001b[0m \u001b[1;33m=\u001b[0m \u001b[0mtrue_param_dict\u001b[0m\u001b[1;31m#MAP_dict\u001b[0m\u001b[1;33m\u001b[0m\u001b[0m\n",
      "\u001b[1;32m/u/ki/swmclau2/.local/lib/python2.7/site-packages/pearce/emulator/emu.pyc\u001b[0m in \u001b[0;36mget_param_bounds\u001b[1;34m(self, param)\u001b[0m\n\u001b[0;32m    437\u001b[0m             \u001b[1;32mreturn\u001b[0m \u001b[0mself\u001b[0m\u001b[1;33m.\u001b[0m\u001b[0m_ordered_params\u001b[0m\u001b[1;33m[\u001b[0m\u001b[0mparam\u001b[0m\u001b[1;33m]\u001b[0m\u001b[1;33m\u001b[0m\u001b[0m\n\u001b[0;32m    438\u001b[0m         \u001b[1;32mexcept\u001b[0m \u001b[0mKeyError\u001b[0m\u001b[1;33m:\u001b[0m\u001b[1;33m\u001b[0m\u001b[0m\n\u001b[1;32m--> 439\u001b[1;33m             \u001b[1;32mraise\u001b[0m \u001b[0mKeyError\u001b[0m\u001b[1;33m(\u001b[0m\u001b[1;34m\"Parameter %s could not be found.\"\u001b[0m \u001b[1;33m%\u001b[0m \u001b[0mparam\u001b[0m\u001b[1;33m)\u001b[0m\u001b[1;33m\u001b[0m\u001b[0m\n\u001b[0m\u001b[0;32m    440\u001b[0m \u001b[1;33m\u001b[0m\u001b[0m\n\u001b[0;32m    441\u001b[0m     \u001b[1;31m# TODO Should I unify some syntax between this and the one below?\u001b[0m\u001b[1;33m\u001b[0m\u001b[1;33m\u001b[0m\u001b[0m\n",
      "\u001b[1;31mKeyError\u001b[0m: 'Parameter mean_occupation_centrals_assembias_corr1 could not be found.'"
     ]
    },
    {
     "data": {
      "text/plain": [
       "<matplotlib.figure.Figure at 0x7f7ad3206650>"
      ]
     },
     "metadata": {},
     "output_type": "display_data"
    }
   ],
   "source": [
    "fig = plt.figure(figsize=(15,6))\n",
    "varied_pname = 'mean_occupation_centrals_assembias_corr1'\n",
    "lower, upper = emu.get_param_bounds(varied_pname)\n",
    "\n",
    "baseline_params = true_param_dict#MAP_dict\n",
    "\n",
    "for i in xrange(len(emus)):\n",
    "    plt.subplot(1,2,i+1)\n",
    "    plt.errorbar(rbc, np.ones_like(true_data[i]), yerr=yerr[i]/true_data[i], label = 'Data')\n",
    "    pred = emus[i].emulate_wrt_r(baseline_params.copy()).squeeze()\n",
    "    if i ==1:\n",
    "        const = 1#np.power(MAP_dict['H0']/(100*h), 2)\n",
    "    else:\n",
    "        const = 1\n",
    "    plt.plot(rbc, const*(10**pred)/true_data[i], label = 'Truth', color = 'k')    \n",
    "\n",
    "    plt.xscale('log')\n",
    "    plt.vlines(rmin, 0.8, 1.1, alpha = 0.6)\n",
    "    plt.xlabel('r [Mpc]')\n",
    "    plt.title(emus[i].obs)\n",
    "\n",
    "for c, val in zip(cmap, np.linspace(lower, upper, N) ):\n",
    "    param_dict = baseline_params.copy() #true_param_dict.copy()\n",
    "    param_dict[varied_pname] = val\n",
    "\n",
    "    for i in xrange(len(emus)):\n",
    "        plt.subplot(1,2,i+1)\n",
    "        pred = emus[i].emulate_wrt_r(param_dict).squeeze()\n",
    "        if i ==1:\n",
    "            const = 1#np.power(val/(100*h), 2)\n",
    "        else:\n",
    "            const= 1 #np.power(val/(100*h), 1)\n",
    "        plt.plot(rbc, const*((10**pred)/(true_data[i])), label = '%.3f'%val, color = c)\n",
    "\n",
    "plt.subplot(1,2,1)\n",
    "plt.ylabel('Pred/True')\n",
    "plt.legend(loc='best')\n",
    "plt.suptitle(varied_pname)\n",
    "plt.show();"
   ]
  },
  {
   "cell_type": "code",
   "execution_count": null,
   "metadata": {
    "collapsed": true
   },
   "outputs": [],
   "source": [
    "from pearce.mocks.kittens import TrainingBox\n",
    "cat = TrainingBox(0)"
   ]
  },
  {
   "cell_type": "raw",
   "metadata": {},
   "source": [
    "del hod_params['mean_occupation_centrals_assembias_slope1']\n",
    "del hod_params['mean_occupation_satellites_assembias_slope1']"
   ]
  },
  {
   "cell_type": "code",
   "execution_count": null,
   "metadata": {
    "collapsed": true
   },
   "outputs": [],
   "source": [
    "cat.load(1.0, 'hsabZheng07',\\\n",
    "         hod_kwargs = {'sec_haloprop_key':'halo_nfw_conc'})"
   ]
  },
  {
   "cell_type": "code",
   "execution_count": null,
   "metadata": {
    "collapsed": false
   },
   "outputs": [],
   "source": [
    "hod_params['mean_occupation_satellites_assembias_param1'] = 1.0\n",
    "hod_params['mean_occupation_centrals_assembias_param1'] = 0.0\n",
    "\n",
    "cat.populate(hod_params, min_ptcl = 20)\n",
    "cat._add_logMmin(5e-4, min_ptcl = 20)"
   ]
  },
  {
   "cell_type": "code",
   "execution_count": null,
   "metadata": {
    "collapsed": true
   },
   "outputs": [],
   "source": [
    "r_bins = np.logspace(-1, 1.6, 19)"
   ]
  },
  {
   "cell_type": "code",
   "execution_count": null,
   "metadata": {
    "collapsed": true
   },
   "outputs": [],
   "source": [
    "wp_p1 = cat.calc_wp(r_bins)"
   ]
  },
  {
   "cell_type": "code",
   "execution_count": null,
   "metadata": {
    "collapsed": false
   },
   "outputs": [],
   "source": [
    "hod_params['mean_occupation_satellites_assembias_param1'] = -1.0\n",
    "hod_params['mean_occupation_centrals_assembias_param1'] = 0.0\n",
    "cat.populate(hod_params, min_ptcl = 20)\n",
    "cat._add_logMmin(5e-4, min_ptcl = 20)"
   ]
  },
  {
   "cell_type": "code",
   "execution_count": null,
   "metadata": {
    "collapsed": true
   },
   "outputs": [],
   "source": [
    "wp_p2 = cat.calc_wp(r_bins)"
   ]
  },
  {
   "cell_type": "code",
   "execution_count": null,
   "metadata": {
    "collapsed": false
   },
   "outputs": [],
   "source": [
    "plt.plot(emu.scale_bin_centers, wp_p1/wp_p2)\n",
    "plt.xscale('log')"
   ]
  },
  {
   "cell_type": "code",
   "execution_count": null,
   "metadata": {
    "collapsed": false
   },
   "outputs": [],
   "source": [
    "assert False"
   ]
  },
  {
   "cell_type": "code",
   "execution_count": null,
   "metadata": {
    "collapsed": false
   },
   "outputs": [],
   "source": [
    "from pearce.mocks.kittens import Chinchilla"
   ]
  },
  {
   "cell_type": "code",
   "execution_count": null,
   "metadata": {
    "collapsed": true
   },
   "outputs": [],
   "source": [
    "cat = Chinchilla(400, 2048)"
   ]
  },
  {
   "cell_type": "code",
   "execution_count": null,
   "metadata": {
    "collapsed": false
   },
   "outputs": [],
   "source": [
    "cat.load(1.0, HOD='zheng07')"
   ]
  },
  {
   "cell_type": "code",
   "execution_count": null,
   "metadata": {
    "collapsed": true
   },
   "outputs": [],
   "source": [
    "from scipy.optimize import minimize_scalar\n",
    "def add_logMmin(cat, hod_params):\n",
    "    hod_params['logMmin'] = 13.0 #initial guess\n",
    "    #cat.populate(hod_params) #may be overkill, but will ensure params are written everywhere\n",
    "    def func(logMmin, hod_params):\n",
    "        hod_params.update({'logMmin':logMmin})\n",
    "        return (cat.calc_analytic_nd(hod_params, min_ptcl=20) - 5e-4)**2\n",
    "\n",
    "    res = minimize_scalar(func, bounds = (12,15), args = (hod_params,), options = {'maxiter':100}, method = 'Bounded')\n",
    "\n",
    "    # assuming this doens't fail\n",
    "    print 'logMmin', res.x\n",
    "    hod_params['logMmin'] = res.x"
   ]
  },
  {
   "cell_type": "code",
   "execution_count": null,
   "metadata": {
    "collapsed": false
   },
   "outputs": [],
   "source": [
    "add_logMmin(cat, hod_params)\n",
    "r_bins = np.logspace(-1, 1.6, 19)"
   ]
  },
  {
   "cell_type": "code",
   "execution_count": null,
   "metadata": {
    "collapsed": true
   },
   "outputs": [],
   "source": [
    "N = 5\n",
    "wps = np.zeros((N, 18))\n",
    "for i in xrange(N):\n",
    "    pritn i\n",
    "    cat.populate(hod_params, min_ptcl=20)\n",
    "    wps[i] = cat.calc_wp(r_bins)\n",
    "    \n",
    "wp = wps.mean(axis=0)\n",
    "wp_err = wps.std(axis=0)"
   ]
  },
  {
   "cell_type": "code",
   "execution_count": null,
   "metadata": {
    "collapsed": true
   },
   "outputs": [],
   "source": [
    "chinchilla_pnames, chinchilla_pvals = cat._get_cosmo_param_names_vals()"
   ]
  },
  {
   "cell_type": "code",
   "execution_count": null,
   "metadata": {
    "collapsed": false
   },
   "outputs": [],
   "source": [
    "chinchilla_pnames"
   ]
  },
  {
   "cell_type": "code",
   "execution_count": null,
   "metadata": {
    "collapsed": true
   },
   "outputs": [],
   "source": [
    "cosmo_pnames = ['ombh2', 'omch2', 'w0', 'ns', 'H0', 'Neff', 'sigma8']\n",
    "cosmo_true_vals = [chinchilla_pvals[1]*chinchilla_pvals[2]**2, (chinchilla_pvals[0]-chinchilla_pvals[1])*chinchilla_pvals[2]**2,\n",
    "                   -1, chinchilla_pvals[4], 100*chinchilla_pvals[2], 3.046, chinchilla_pvals[3]]\n",
    "\n",
    "cat_val_dict = dict(zip(cosmo_pnames, cosmo_true_vals))"
   ]
  },
  {
   "cell_type": "code",
   "execution_count": null,
   "metadata": {
    "collapsed": false
   },
   "outputs": [],
   "source": [
    "params = cat_val_dict.copy()\n",
    "del hod_params['logMmin']\n",
    "params.update(hod_params)"
   ]
  },
  {
   "cell_type": "code",
   "execution_count": null,
   "metadata": {
    "collapsed": false
   },
   "outputs": [],
   "source": [
    "emu_wp = 10**emus[0].emulate_wrt_r(params)[0]"
   ]
  },
  {
   "cell_type": "code",
   "execution_count": null,
   "metadata": {
    "collapsed": false
   },
   "outputs": [],
   "source": [
    "plt.plot(emu.scale_bin_centers, wp, label = 'Chinchilla')\n",
    "plt.plot(emu.scale_bin_centers, emu_wp, label = 'Emu')\n",
    "plt.legend(loc='best')\n",
    "plt.loglog();"
   ]
  },
  {
   "cell_type": "code",
   "execution_count": null,
   "metadata": {
    "collapsed": false
   },
   "outputs": [],
   "source": [
    "plt.plot(emu.scale_bin_centers, wp/emu_wp)\n",
    "plt.errorbar(emu.scale_bin_centers, np.ones_like(wp), yerr = wp_err/wp)\n",
    "plt.xscale('log')"
   ]
  },
  {
   "cell_type": "code",
   "execution_count": null,
   "metadata": {
    "collapsed": false
   },
   "outputs": [],
   "source": [
    "plt.hist(cat.model.mock.galaxy_table['conc_NFWmodel'], bins = 100, normed = True);"
   ]
  },
  {
   "cell_type": "code",
   "execution_count": null,
   "metadata": {
    "collapsed": true
   },
   "outputs": [],
   "source": [
    "from pearce.mocks.kittens import TrainingBox"
   ]
  },
  {
   "cell_type": "code",
   "execution_count": null,
   "metadata": {
    "collapsed": true
   },
   "outputs": [],
   "source": [
    "cat2 = TrainingBox(0)\n",
    "cat2.load(1.0, HOD='zheng07')"
   ]
  },
  {
   "cell_type": "code",
   "execution_count": null,
   "metadata": {
    "collapsed": false
   },
   "outputs": [],
   "source": [
    "add_logMmin(cat2, hod_params)\n",
    "cat2.populate(hod_params, min_ptcl=20)"
   ]
  },
  {
   "cell_type": "code",
   "execution_count": null,
   "metadata": {
    "collapsed": false
   },
   "outputs": [],
   "source": [
    "bins = np.linspace(2.5, 20.0, 100)\n",
    "plt.hist(cat.model.mock.galaxy_table['conc_NFWmodel'], bins = bins, normed = True, alpha = 0.3, label = 'Chinchilla');\n",
    "plt.hist(cat2.model.mock.galaxy_table['conc_NFWmodel'], bins = bins, normed = True, alpha = 0.3, label = 'Aemulus');\n",
    "plt.legend(loc='best')"
   ]
  },
  {
   "cell_type": "code",
   "execution_count": null,
   "metadata": {
    "collapsed": false
   },
   "outputs": [],
   "source": [
    "bins = np.linspace(-4, 0, 100)\n",
    "plt.hist(np.log10(cat.halocat.halo_table['halo_rs']), bins = bins, normed=True, alpha = 0.3, label ='Chinchilla');\n",
    "plt.hist(np.log10(cat2.halocat.halo_table['halo_rs']), bins = bins, normed=True, alpha = 0.3, label = 'Aemulus');\n",
    "plt.legend(loc='best')"
   ]
  },
  {
   "cell_type": "code",
   "execution_count": null,
   "metadata": {
    "collapsed": false
   },
   "outputs": [],
   "source": [
    "bins = np.linspace(-4, 0, 100)\n",
    "plt.hist(np.log10(cat.halocat.halo_table['halo_rvir']), bins = bins, normed=True, alpha = 0.3, label ='Chinchilla');\n",
    "plt.hist(np.log10(cat2.halocat.halo_table['halo_rvir']), bins = bins, normed=True, alpha = 0.3, label = 'Aemulus');\n",
    "plt.legend(loc='best')"
   ]
  },
  {
   "cell_type": "code",
   "execution_count": null,
   "metadata": {
    "collapsed": false
   },
   "outputs": [],
   "source": [
    "plt.hist2d(np.log10(cat.halocat.halo_table['halo_mvir']), np.log10(cat.halocat.halo_table['halo_rs']),\\\n",
    "           bins = 100, normed =True);\n",
    "plt.hist2d(np.log10(cat2.halocat.halo_table['halo_mvir']), np.log10(cat2.halocat.halo_table['halo_rs']+1e-6),\\\n",
    "           bins = 100, normed =True);\n",
    "plt.xlim([9, 13])\n",
    "plt.ylim([-3, 0])"
   ]
  },
  {
   "cell_type": "code",
   "execution_count": null,
   "metadata": {
    "collapsed": true
   },
   "outputs": [],
   "source": [
    "m_min = np.min(cat2.halocat.halo_table['halo_mvir'])*10"
   ]
  },
  {
   "cell_type": "code",
   "execution_count": null,
   "metadata": {
    "collapsed": false
   },
   "outputs": [],
   "source": [
    "np.log10(m_min)"
   ]
  },
  {
   "cell_type": "code",
   "execution_count": null,
   "metadata": {
    "collapsed": true
   },
   "outputs": [],
   "source": [
    "mass_cut = np.logical_and(cat.halocat.halo_table['halo_mvir']>10**(12.0), cat.halocat.halo_table['halo_mvir']<10**(14.5))\n",
    "mass_cut2 = np.logical_and(cat2.halocat.halo_table['halo_mvir']>10**(12.0), cat2.halocat.halo_table['halo_mvir']<10**(14.5)) "
   ]
  },
  {
   "cell_type": "code",
   "execution_count": null,
   "metadata": {
    "collapsed": false
   },
   "outputs": [],
   "source": [
    "bins = np.linspace(11, 16, 100)\n",
    "plt.hist(np.log10(cat.halocat.halo_table['halo_mvir'][mass_cut]), bins = bins, normed=True, alpha = 0.3, label ='Chinchilla');\n",
    "plt.hist(np.log10(cat2.halocat.halo_table['halo_mvir'])[mass_cut2], bins = bins, normed=True, alpha = 0.3, label = 'Aemulus');\n",
    "plt.legend(loc='best')"
   ]
  },
  {
   "cell_type": "code",
   "execution_count": null,
   "metadata": {
    "collapsed": false
   },
   "outputs": [],
   "source": [
    "1./0.01"
   ]
  },
  {
   "cell_type": "code",
   "execution_count": null,
   "metadata": {
    "collapsed": false
   },
   "outputs": [],
   "source": [
    "bins = np.linspace(1./0.2, 1./0.01, 50)\n",
    "plt.hist(1./cat.halocat.halo_table['halo_rs'][mass_cut], bins = bins, normed=True, alpha = 0.3, label ='Chinchilla');\n",
    "plt.hist(1./cat2.halocat.halo_table['halo_rs'][mass_cut2], bins = bins, normed=True, alpha = 0.3, label = 'Aemulus');\n",
    "plt.legend(loc='best')"
   ]
  },
  {
   "cell_type": "code",
   "execution_count": null,
   "metadata": {
    "collapsed": false
   },
   "outputs": [],
   "source": [
    "bins = np.linspace(0.0, 1.0, 100)\n",
    "plt.hist(cat.halocat.halo_table['halo_rvir'][mass_cut], bins = bins, normed=True, alpha = 0.3, label ='Chinchilla');\n",
    "plt.hist(cat2.halocat.halo_table['halo_rvir'][mass_cut2], bins = bins, normed=True, alpha = 0.3, label = 'Aemulus');\n",
    "plt.legend(loc='best')"
   ]
  },
  {
   "cell_type": "code",
   "execution_count": null,
   "metadata": {
    "collapsed": false
   },
   "outputs": [],
   "source": [
    "bins = np.linspace(2.5, 20, 100)\n",
    "plt.hist(cat.halocat.halo_table['halo_nfw_conc'][mass_cut], bins = bins, normed=True, alpha = 0.3, label ='Chinchilla');\n",
    "plt.hist(cat2.halocat.halo_table['halo_nfw_conc'][mass_cut2], bins = bins, normed=True, alpha = 0.3, label = 'Aemulus');\n",
    "plt.legend(loc='best')\n",
    "#plt.yscale('log')"
   ]
  },
  {
   "cell_type": "code",
   "execution_count": null,
   "metadata": {
    "collapsed": true
   },
   "outputs": [],
   "source": [
    "finite_idxs = np.isfinite(cat2.halocat.halo_table['halo_nfw_conc'])\n",
    "mass_cut2 = np.logical_and(finite_idxs, mass_cut2)"
   ]
  },
  {
   "cell_type": "code",
   "execution_count": null,
   "metadata": {
    "collapsed": false
   },
   "outputs": [],
   "source": [
    "sns.jointplot(np.log10(cat2.halocat.halo_table['halo_mvir'][mass_cut2]), np.log10(1./cat2.halocat.halo_table['halo_rs'][mass_cut2]), kind='hex')"
   ]
  },
  {
   "cell_type": "code",
   "execution_count": null,
   "metadata": {
    "collapsed": false
   },
   "outputs": [],
   "source": [
    "sns.jointplot(np.log10(cat.halocat.halo_table['halo_mvir'][mass_cut]), np.log10(1./cat.halocat.halo_table['halo_rs'][mass_cut]), kind='hex')"
   ]
  },
  {
   "cell_type": "code",
   "execution_count": null,
   "metadata": {
    "collapsed": false
   },
   "outputs": [],
   "source": [
    "sns.jointplot(cat2.halocat.halo_table['halo_rvir'][mass_cut2], np.log10(cat2.halocat.halo_table['halo_mvir'][mass_cut2]), kind='hex')"
   ]
  },
  {
   "cell_type": "code",
   "execution_count": null,
   "metadata": {
    "collapsed": false
   },
   "outputs": [],
   "source": [
    "sns.jointplot(cat.halocat.halo_table['halo_rvir'][mass_cut], np.log10(cat.halocat.halo_table['halo_mvir'][mass_cut]), kind='hex')"
   ]
  },
  {
   "cell_type": "code",
   "execution_count": null,
   "metadata": {
    "collapsed": true
   },
   "outputs": [],
   "source": []
  }
 ],
 "metadata": {
  "kernelspec": {
   "display_name": "Python [default]",
   "language": "python",
   "name": "python2"
  },
  "language_info": {
   "codemirror_mode": {
    "name": "ipython",
    "version": 2
   },
   "file_extension": ".py",
   "mimetype": "text/x-python",
   "name": "python",
   "nbconvert_exporter": "python",
   "pygments_lexer": "ipython2",
   "version": "2.7.13"
  }
 },
 "nbformat": 4,
 "nbformat_minor": 1
}

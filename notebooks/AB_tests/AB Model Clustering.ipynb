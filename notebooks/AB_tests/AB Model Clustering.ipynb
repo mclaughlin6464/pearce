{
 "cells": [
  {
   "cell_type": "code",
   "execution_count": 1,
   "metadata": {},
   "outputs": [],
   "source": [
    "import numpy as np\n",
    "import astropy\n",
    "from itertools import izip\n",
    "from pearce.mocks import compute_prim_haloprop_bins, cat_dict\n",
    "from pearce.mocks.customHODModels import *\n",
    "from halotools.utils.table_utils import compute_conditional_percentiles"
   ]
  },
  {
   "cell_type": "code",
   "execution_count": 1,
   "metadata": {},
   "outputs": [
    {
     "name": "stdout",
     "output_type": "stream",
     "text": [
      "-rw-r--r-- 1 swmclau2 des   28562856 Nov  1 12:15 ../catalog_ab_halo_vmax@mpeak_shuffled.hdf5\n",
      "-rw-r--r-- 1 swmclau2 des 8061416824 Oct 26 10:16 ../catalog_ab_halo_vmax@mpeak.hdf5\n"
     ]
    }
   ],
   "source": [
    "%%bash\n",
    "ls ../*.hdf5 -lt"
   ]
  },
  {
   "cell_type": "code",
   "execution_count": 2,
   "metadata": {},
   "outputs": [],
   "source": [
    "from matplotlib import pyplot as plt\n",
    "%matplotlib inline\n",
    "import seaborn as sns\n",
    "sns.set()"
   ]
  },
  {
   "cell_type": "code",
   "execution_count": 3,
   "metadata": {
    "collapsed": true
   },
   "outputs": [],
   "source": [
    "shuffle_type = 'sh_shuffled'\n",
    "mag_type = 'vpeak'"
   ]
  },
  {
   "cell_type": "code",
   "execution_count": 4,
   "metadata": {},
   "outputs": [],
   "source": [
    "mag_cut = -21\n",
    "min_ptcl = 200\n",
    "#mass_key ='halo_mvir'\n",
    "mag_key = 'halo_%s_%s_mag'%(shuffle_type, mag_type)\n",
    "#mag_key = 'halo_%s_mag'%mag_type\n",
    "upid_key = 'halo_%s_upid'%(shuffle_type)\n",
    "#upid_key = 'halo_upid'"
   ]
  },
  {
   "cell_type": "code",
   "execution_count": 5,
   "metadata": {},
   "outputs": [
    {
     "name": "stderr",
     "output_type": "stream",
     "text": [
      "WARNING: path= was not specified but multiple tables are present, reading in first available table (path=abmatched_halos.hdf5) [astropy.io.misc.hdf5]\n",
      "WARNING:astropy:path= was not specified but multiple tables are present, reading in first available table (path=abmatched_halos.hdf5)\n"
     ]
    }
   ],
   "source": [
    "PMASS = 591421440.0000001 #chinchilla 400/ 2048\n",
    "#catalog = np.loadtxt('ab_sham_hod_data_cut.npy')\n",
    "catalog = astropy.table.Table.read('abmatched_halos.hdf5', format = 'hdf5')"
   ]
  },
  {
   "cell_type": "code",
   "execution_count": 6,
   "metadata": {},
   "outputs": [
    {
     "data": {
      "text/plain": [
       "['halo_upid',\n",
       " 'halo_y',\n",
       " 'halo_x',\n",
       " 'halo_z',\n",
       " 'halo_rvir',\n",
       " 'halo_vpeak',\n",
       " 'halo_rs_klypin',\n",
       " 'halo_snapnum',\n",
       " 'halo_halfmass_scale',\n",
       " 'halo_id',\n",
       " 'halo_vx',\n",
       " 'halo_vy',\n",
       " 'halo_vz',\n",
       " 'halo_rs',\n",
       " 'halo_mvir',\n",
       " 'halo_nfw_conc',\n",
       " 'halo_vpeak_mag',\n",
       " 'halo_vvir_mag',\n",
       " 'halo_alpha_05_mag',\n",
       " 'halo_shuffled_vpeak_mag',\n",
       " 'halo_shuffled_vvir_mag',\n",
       " 'halo_shuffled_alpha_05_mag',\n",
       " 'host_halo_nfw_conc',\n",
       " 'host_halo_rvir',\n",
       " 'halo_nfw_x',\n",
       " 'halo_nfw_y',\n",
       " 'halo_nfw_z',\n",
       " 'halo_sh_shuffled_vpeak_mag',\n",
       " 'halo_sh_shuffled_vvir_mag',\n",
       " 'halo_sh_shuffled_alpha_05_mag',\n",
       " 'halo_shuffled_x',\n",
       " 'halo_shuffled_y',\n",
       " 'halo_shuffled_z',\n",
       " 'halo_shuffled_upid',\n",
       " 'halo_shuffled_host_mvir',\n",
       " 'halo_sh_shuffled_x',\n",
       " 'halo_sh_shuffled_y',\n",
       " 'halo_sh_shuffled_z',\n",
       " 'halo_sh_shuffled_upid',\n",
       " 'halo_sh_shuffled_host_mvir',\n",
       " 'halo_sh_shuffled_cen_vpeak_mag',\n",
       " 'halo_sh_shuffled_cen_vvir_mag',\n",
       " 'halo_sh_shuffled_cen_alpha_05_mag',\n",
       " 'halo_sh_shuffled_cen_x',\n",
       " 'halo_sh_shuffled_cen_y',\n",
       " 'halo_sh_shuffled_cen_z',\n",
       " 'halo_sh_shuffled_cen_upid',\n",
       " 'halo_sh_shuffled_cen_host_mvir',\n",
       " 'halo_sh_shuffled_sats_vpeak_mag',\n",
       " 'halo_sh_shuffled_sats_vvir_mag',\n",
       " 'halo_sh_shuffled_sats_alpha_05_mag',\n",
       " 'halo_sh_shuffled_sats_x',\n",
       " 'halo_sh_shuffled_sats_y',\n",
       " 'halo_sh_shuffled_sats_z',\n",
       " 'halo_sh_shuffled_sats_upid',\n",
       " 'halo_sh_shuffled_sats_host_mvir',\n",
       " 'halo_hostid',\n",
       " 'halo_x_host_halo',\n",
       " 'halo_y_host_halo',\n",
       " 'halo_z_host_halo',\n",
       " 'halo_nfw_conc_host_halo',\n",
       " 'halo_mvir_host_halo',\n",
       " 'halo_rvir_host_halo']"
      ]
     },
     "execution_count": 6,
     "metadata": {},
     "output_type": "execute_result"
    }
   ],
   "source": [
    "catalog.colnames"
   ]
  },
  {
   "cell_type": "code",
   "execution_count": 7,
   "metadata": {},
   "outputs": [],
   "source": [
    "cosmo_params = {'simname':'chinchilla', 'Lbox':400.0, 'scale_factors':[0.658, 1.0]}\n",
    "cat = cat_dict[cosmo_params['simname']](**cosmo_params)#construct the specified catalog!\n",
    "\n",
    "cat.load_catalog(1.0)"
   ]
  },
  {
   "cell_type": "code",
   "execution_count": 8,
   "metadata": {},
   "outputs": [],
   "source": [
    "halo_catalog = catalog[np.logical_and(catalog['halo_mvir'] > min_ptcl*cat.pmass, catalog[mag_key] <=mag_cut)]"
   ]
  },
  {
   "cell_type": "code",
   "execution_count": 9,
   "metadata": {
    "collapsed": true
   },
   "outputs": [],
   "source": [
    "from math import ceil\n",
    "def compute_mass_bins(prim_haloprop, dlog10_prim_haloprop=0.05):   \n",
    "    lg10_min_prim_haloprop = np.log10(np.min(prim_haloprop))-0.001\n",
    "    lg10_max_prim_haloprop = np.log10(np.max(prim_haloprop))+0.001\n",
    "    num_prim_haloprop_bins = (lg10_max_prim_haloprop-lg10_min_prim_haloprop)/dlog10_prim_haloprop\n",
    "    return np.logspace(\n",
    "        lg10_min_prim_haloprop, lg10_max_prim_haloprop,\n",
    "        num=int(ceil(num_prim_haloprop_bins)))"
   ]
  },
  {
   "cell_type": "code",
   "execution_count": 10,
   "metadata": {
    "collapsed": true
   },
   "outputs": [],
   "source": [
    "from collections import Counter\n",
    "def compute_occupations(halo_table, halo_catalog):\n",
    "    #halo_table = cat.halocat.halo_table[cat.halocat.halo_table['halo_mvir'] > min_ptcl*cat.pmass]\n",
    "\n",
    "    cens_occ = np.zeros((np.sum(halo_table[upid_key] == -1),))\n",
    "    #cens_occ = np.zeros((len(halo_table),))\n",
    "    sats_occ = np.zeros_like(cens_occ)\n",
    "    detected_central_ids = set(halo_catalog[halo_catalog[upid_key]==-1]['halo_id'])\n",
    "    detected_satellite_upids = Counter(halo_catalog[halo_catalog[upid_key]!=-1][upid_key])\n",
    "    \n",
    "    for idx, row  in enumerate(halo_table[halo_table[upid_key] == -1]):\n",
    "        cens_occ[idx] = 1.0 if row['halo_id'] in detected_central_ids else 0.0\n",
    "        sats_occ[idx]+= detected_satellite_upids[row['halo_id']]\n",
    "\n",
    "    return cens_occ, sats_occ"
   ]
  },
  {
   "cell_type": "code",
   "execution_count": 11,
   "metadata": {},
   "outputs": [],
   "source": [
    "def compute_hod(masses, centrals, satellites, mass_bins):\n",
    "    mass_bin_idxs = compute_prim_haloprop_bins(prim_haloprop_bin_boundaries=mass_bins, prim_haloprop = masses)\n",
    "    mass_bin_nos = set(mass_bin_idxs)\n",
    "\n",
    "    cens_occ = np.zeros((mass_bins.shape[0]-1,))\n",
    "    sats_occ = np.zeros_like(cens_occ)\n",
    "\n",
    "    for mb in mass_bin_nos:\n",
    "        indices_of_mb = np.where(mass_bin_idxs == mb)[0]\n",
    "        denom = len(indices_of_mb)\n",
    "        #TODO what to do about bout 0 mean std's?\n",
    "        cens_occ[mb-1] = np.mean(centrals[indices_of_mb])\n",
    "        sats_occ[mb-1] = np.mean(satellites[indices_of_mb])\n",
    "\n",
    "    return cens_occ, sats_occ"
   ]
  },
  {
   "cell_type": "code",
   "execution_count": 12,
   "metadata": {},
   "outputs": [],
   "source": [
    "#halo_table = cat.halocat.halo_table[cat.halocat.halo_table['halo_mvir'] > min_ptcl*cat.pmass]\n",
    "halo_table = catalog[catalog['halo_mvir']> min_ptcl*cat.pmass]\n",
    "cens_occ, sats_occ = compute_occupations(halo_table, halo_catalog)"
   ]
  },
  {
   "cell_type": "code",
   "execution_count": 13,
   "metadata": {},
   "outputs": [],
   "source": [
    "hod_catalog = np.zeros((np.sum(halo_table[upid_key]==-1), 6))\n",
    "hod_catalog[:,3] = halo_table[halo_table[upid_key]==-1]['halo_mvir']\n",
    "hod_catalog[:,1] = cens_occ\n",
    "hod_catalog[:,2] = sats_occ\n",
    "hod_catalog[:,5] = halo_table[halo_table[upid_key]==-1]['halo_nfw_conc']"
   ]
  },
  {
   "cell_type": "code",
   "execution_count": 14,
   "metadata": {},
   "outputs": [],
   "source": [
    "mass_bins = compute_mass_bins(hod_catalog[:,3], 0.1)\n",
    "mbc = (mass_bins[1:]+mass_bins[:-1])/2.0"
   ]
  },
  {
   "cell_type": "code",
   "execution_count": 15,
   "metadata": {},
   "outputs": [],
   "source": [
    "cen_hod, sat_hod = compute_hod(hod_catalog[:,3], hod_catalog[:,1], hod_catalog[:,2], mass_bins)"
   ]
  },
  {
   "cell_type": "code",
   "execution_count": 16,
   "metadata": {},
   "outputs": [],
   "source": [
    "from pearce.mocks.customHODModels import *"
   ]
  },
  {
   "cell_type": "code",
   "execution_count": 17,
   "metadata": {},
   "outputs": [],
   "source": [
    "cat.load_model(1.0, HOD=(AssembiasTabulatedCens, AssembiasTabulatedSats), hod_kwargs = {'prim_haloprop_vals': mbc,\n",
    "                                                               #'sec_haloprop_key': 'halo_%s'%(mag_type),\n",
    "                                                               'cen_hod_vals':cen_hod,\n",
    "                                                               'sat_hod_vals':sat_hod})# ,\n",
    "                                                                #'split':0.7})"
   ]
  },
  {
   "cell_type": "code",
   "execution_count": 18,
   "metadata": {},
   "outputs": [
    {
     "data": {
      "text/plain": [
       "['halo_nfw_conc', 'halo_mvir']"
      ]
     },
     "execution_count": 18,
     "metadata": {},
     "output_type": "execute_result"
    }
   ],
   "source": [
    "cat.model._haloprop_list"
   ]
  },
  {
   "cell_type": "raw",
   "metadata": {},
   "source": [
    "cat.load_model(1.0, HOD='hsabReddick14')"
   ]
  },
  {
   "cell_type": "code",
   "execution_count": 19,
   "metadata": {},
   "outputs": [
    {
     "data": {
      "text/plain": [
       "{'mean_occupation_centrals_assembias_param1': 0.5,\n",
       " 'mean_occupation_centrals_assembias_slope1': 1.0,\n",
       " 'mean_occupation_satellites_assembias_param1': 0.5,\n",
       " 'mean_occupation_satellites_assembias_slope1': 1.0}"
      ]
     },
     "execution_count": 19,
     "metadata": {},
     "output_type": "execute_result"
    }
   ],
   "source": [
    "cat.model.param_dict"
   ]
  },
  {
   "cell_type": "code",
   "execution_count": 20,
   "metadata": {},
   "outputs": [],
   "source": [
    "#rp_bins = np.logspace(-1,1.5,20)\n",
    "rp_bins = np.logspace(-1.1,1.6, 18)\n",
    "bin_centers = (rp_bins[:1]+rp_bins[:-1])/2"
   ]
  },
  {
   "cell_type": "code",
   "execution_count": 21,
   "metadata": {},
   "outputs": [
    {
     "name": "stdout",
     "output_type": "stream",
     "text": [
      "[0.0794328234724 0.0969687902331 0.122247403341 0.158687269437 0.21121641079 0.286938716794 0.396094653458 0.553446154459 0.780272982427 1.10725054259 1.57859833602 2.25806007723 3.23752421009 4.64945063566 6.68478420666 9.61877755803 13.8482154785 ]\n"
     ]
    }
   ],
   "source": [
    "out = '['\n",
    "for r in bin_centers:\n",
    "    out+=str(r)\n",
    "    out+=' '\n",
    "out+=']'\n",
    "print out"
   ]
  },
  {
   "cell_type": "code",
   "execution_count": 22,
   "metadata": {
    "collapsed": true
   },
   "outputs": [],
   "source": [
    "np.savetxt('prim_haloprop_vals.npy', mbc)\n",
    "np.savetxt('cen_hod_vals.npy', cen_hod)\n",
    "np.savetxt('sat_hod_vals.npy', sat_hod)"
   ]
  },
  {
   "cell_type": "code",
   "execution_count": 23,
   "metadata": {},
   "outputs": [
    {
     "name": "stdout",
     "output_type": "stream",
     "text": [
      "/nfs/slac/g/ki/ki18/des/swmclau2/AB_tests\n"
     ]
    }
   ],
   "source": [
    "%%bash\n",
    "pwd"
   ]
  },
  {
   "cell_type": "code",
   "execution_count": 24,
   "metadata": {},
   "outputs": [
    {
     "name": "stdout",
     "output_type": "stream",
     "text": [
      "(18,)\n"
     ]
    }
   ],
   "source": [
    "print rp_bins.shape"
   ]
  },
  {
   "cell_type": "code",
   "execution_count": 25,
   "metadata": {
    "collapsed": true
   },
   "outputs": [],
   "source": [
    "from halotools.mock_observables import wp, tpcf"
   ]
  },
  {
   "cell_type": "code",
   "execution_count": 26,
   "metadata": {
    "collapsed": true
   },
   "outputs": [],
   "source": [
    "min_logmass, max_logmass = 9.0, 17.0"
   ]
  },
  {
   "cell_type": "code",
   "execution_count": 27,
   "metadata": {
    "collapsed": true
   },
   "outputs": [],
   "source": [
    "from halotools.mock_observables import tpcf_one_two_halo_decomp"
   ]
  },
  {
   "cell_type": "code",
   "execution_count": 28,
   "metadata": {},
   "outputs": [
    {
     "name": "stderr",
     "output_type": "stream",
     "text": [
      "/u/ki/swmclau2/.conda/envs/hodemulator/lib/python2.7/site-packages/numpy/core/fromnumeric.py:2889: RuntimeWarning: Mean of empty slice.\n",
      "  out=out, **kwargs)\n",
      "/u/ki/swmclau2/.conda/envs/hodemulator/lib/python2.7/site-packages/numpy/core/_methods.py:135: RuntimeWarning: Degrees of freedom <= 0 for slice\n",
      "  keepdims=keepdims)\n"
     ]
    }
   ],
   "source": [
    "#mock_wp = cat.calc_wp(rp_bins, RSD= False)\n",
    "MAP = np.array([ 0.0, 0.0,5,5])\n",
    "\n",
    "names = ['mean_occupation_centrals_assembias_param1','mean_occupation_satellites_assembias_param1',\\\n",
    "        'mean_occupation_centrals_assembias_slope1','mean_occupation_satellites_assembias_slope1']\n",
    "params = dict(zip(names, MAP))\n",
    "\n",
    "mock_wps = []\n",
    "mock_wps_1h, mock_wps_2h = [],[]\n",
    "mock_nds = []\n",
    "for i in xrange(10):\n",
    "    cat.populate(params)\n",
    "    #cut_idx = cat.model.mock.galaxy_table['gal_type'] == 'centrals'\n",
    "    mass_cut = np.logical_and(np.log10(cat.model.mock.galaxy_table['halo_mvir'] ) > min_logmass,\\\n",
    "                              np.log10(cat.model.mock.galaxy_table['halo_mvir'] ) <= max_logmass)\n",
    "    #mass_cut = np.logical_and(mass_cut, cut_idx)\n",
    "    #mock_nds.append(len(cut_idx)/cat.Lbox**3)\n",
    "    mock_pos = np.c_[cat.model.mock.galaxy_table[mass_cut]['x'],\\\n",
    "                     cat.model.mock.galaxy_table[mass_cut]['y'],\\\n",
    "                     cat.model.mock.galaxy_table[mass_cut]['z']]\n",
    "    mock_wps.append(tpcf(mock_pos, rp_bins , period=cat.Lbox, num_threads=1))\n",
    "    oneh, twoh = tpcf_one_two_halo_decomp(mock_pos,cat.model.mock.galaxy_table[mass_cut]['halo_hostid'],\\\n",
    "                                          rp_bins , period=cat.Lbox, num_threads=1)\n",
    "    mock_wps_1h.append(oneh)\n",
    "    mock_wps_2h.append(twoh)\n",
    "    \n",
    "mock_wps = np.array(mock_wps)\n",
    "mock_wp_no_ab = np.mean(mock_wps, axis = 0)\n",
    "wp_errs = np.std(mock_wps, axis = 0)\n",
    "\n",
    "mock_wps_1h = np.array(mock_wps_1h)\n",
    "mock_wp_no_ab_1h = np.mean(mock_wps_1h, axis = 0)\n",
    "\n",
    "mock_wps_2h = np.array(mock_wps_2h)\n",
    "mock_wp_no_ab_2h = np.mean(mock_wps_2h, axis = 0)\n",
    "\n",
    "mock_nds = np.array(mock_nds)\n",
    "mock_nd = np.mean(mock_nds)\n",
    "nd_err = np.std(mock_nds)"
   ]
  },
  {
   "cell_type": "code",
   "execution_count": 29,
   "metadata": {},
   "outputs": [],
   "source": [
    "#mock_wp = cat.calc_wp(rp_bins, RSD= False)\n",
    "#MAP = np.array([ 0.38800666, -0.49540832, 3, 3])\n",
    "MAP = np.array([1.0, -1.0, 5.0, 3.0])\n",
    "\n",
    "params = dict(zip(names, MAP))\n",
    "\n",
    "mock_wps = []\n",
    "mock_wps_1h, mock_wps_2h = [],[]\n",
    "mock_nds = []\n",
    "for i in xrange(10):\n",
    "    cat.populate(params)\n",
    "    #cut_idx = cat.model.mock.galaxy_table['gal_type'] == 'centrals'\n",
    "    #mock_nds.append(len(cut_idx)/cat.Lbox**3)\n",
    "    mass_cut = np.logical_and(np.log10(cat.model.mock.galaxy_table['halo_mvir'] ) > min_logmass,\\\n",
    "                              np.log10(cat.model.mock.galaxy_table['halo_mvir'] ) <= max_logmass)\n",
    "    #mass_cut = np.logical_and(mass_cut, cut_idx)\n",
    "    #mock_nds.append(len(cut_idx)/cat.Lbox**3)\n",
    "    mock_pos = np.c_[cat.model.mock.galaxy_table[mass_cut]['x'],\\\n",
    "                     cat.model.mock.galaxy_table[mass_cut]['y'],\\\n",
    "                     cat.model.mock.galaxy_table[mass_cut]['z']]\n",
    "    mock_wps.append(tpcf(mock_pos, rp_bins , period=cat.Lbox, num_threads=1))\n",
    "    oneh, twoh = tpcf_one_two_halo_decomp(mock_pos,cat.model.mock.galaxy_table[mass_cut]['halo_hostid'],\\\n",
    "                                          rp_bins , period=cat.Lbox, num_threads=1)\n",
    "    mock_wps_1h.append(oneh)\n",
    "    mock_wps_2h.append(twoh)\n",
    "    \n",
    "mock_wps = np.array(mock_wps)\n",
    "mock_wp_ab = np.mean(mock_wps, axis = 0)\n",
    "wp_errs = np.std(mock_wps, axis = 0)\n",
    "\n",
    "mock_wps_1h = np.array(mock_wps_1h)\n",
    "mock_wp_ab_1h = np.mean(mock_wps_1h, axis = 0)\n",
    "\n",
    "mock_wps_2h = np.array(mock_wps_2h)\n",
    "mock_wp_ab_2h = np.mean(mock_wps_2h, axis = 0)\n",
    "\n",
    "mock_nds = np.array(mock_nds)\n",
    "mock_nd = np.mean(mock_nds)\n",
    "nd_err = np.std(mock_nds)"
   ]
  },
  {
   "cell_type": "code",
   "execution_count": 30,
   "metadata": {},
   "outputs": [],
   "source": [
    "#mock_wp = cat.calc_wp(rp_bins, RSD= False)\n",
    "MAP = np.array([ 1.0, -1.0,5,5])\n",
    "\n",
    "names = ['mean_occupation_centrals_assembias_param1','mean_occupation_satellites_assembias_param1',\\\n",
    "        'mean_occupation_centrals_assembias_slope1','mean_occupation_satellites_assembias_slope1']\n",
    "params = dict(zip(names, MAP))\n",
    "\n",
    "mock_wps = []\n",
    "mock_wps_1h, mock_wps_2h = [],[]\n",
    "mock_nds = []\n",
    "for i in xrange(10):\n",
    "    cat.populate(params)\n",
    "    #cut_idx = cat.model.mock.galaxy_table['gal_type'] == 'centrals'\n",
    "    #mock_nds.append(len(cut_idx)/cat.Lbox**3)\n",
    "    mass_cut = np.logical_and(np.log10(cat.model.mock.galaxy_table['halo_mvir'] ) > min_logmass,\\\n",
    "                              np.log10(cat.model.mock.galaxy_table['halo_mvir'] ) <= max_logmass)\n",
    "    #mass_cut = np.logical_and(mass_cut, cut_idx)\n",
    "\n",
    "    #mock_nds.append(len(cut_idx)/cat.Lbox**3)\n",
    "    mock_pos = np.c_[cat.model.mock.galaxy_table[mass_cut]['x'],\\\n",
    "                     cat.model.mock.galaxy_table[mass_cut]['y'],\\\n",
    "                     cat.model.mock.galaxy_table[mass_cut]['z']]\n",
    "    mock_wps.append(tpcf(mock_pos, rp_bins , period=cat.Lbox, num_threads=1))\n",
    "    oneh, twoh = tpcf_one_two_halo_decomp(mock_pos,cat.model.mock.galaxy_table[mass_cut]['halo_hostid'],\\\n",
    "                                          rp_bins , period=cat.Lbox, num_threads=1)\n",
    "    mock_wps_1h.append(oneh)\n",
    "    mock_wps_2h.append(twoh)\n",
    "    \n",
    "mock_wps = np.array(mock_wps)\n",
    "mock_wp_max_ab = np.mean(mock_wps, axis = 0)\n",
    "wp_errs = np.std(mock_wps, axis = 0)\n",
    "\n",
    "mock_wps_1h = np.array(mock_wps_1h)\n",
    "mock_wp_max_ab_1h = np.mean(mock_wps_1h, axis = 0)\n",
    "\n",
    "mock_wps_2h = np.array(mock_wps_2h)\n",
    "mock_wp_max_ab_2h = np.mean(mock_wps_2h, axis = 0)\n",
    "\n",
    "mock_nds = np.array(mock_nds)\n",
    "mock_nd = np.mean(mock_nds)\n",
    "nd_err = np.std(mock_nds)"
   ]
  },
  {
   "cell_type": "code",
   "execution_count": 31,
   "metadata": {},
   "outputs": [],
   "source": [
    "#mock_wp = cat.calc_wp(rp_bins, RSD= False)\n",
    "MAP = np.array([ 1.0, 0.0,5,5])\n",
    "\n",
    "names = ['mean_occupation_centrals_assembias_param1','mean_occupation_satellites_assembias_param1',\\\n",
    "        'mean_occupation_centrals_assembias_slope1','mean_occupation_satellites_assembias_slope1']\n",
    "params = dict(zip(names, MAP))\n",
    "\n",
    "mock_wps = []\n",
    "mock_wps_1h, mock_wps_2h = [],[]\n",
    "mock_nds = []\n",
    "for i in xrange(10):\n",
    "    cat.populate(params)\n",
    "    #cut_idx = cat.model.mock.galaxy_table['gal_type'] == 'centrals'\n",
    "    #mock_nds.append(len(cut_idx)/cat.Lbox**3)\n",
    "    mass_cut = np.logical_and(np.log10(cat.model.mock.galaxy_table['halo_mvir'] ) > min_logmass,\\\n",
    "                              np.log10(cat.model.mock.galaxy_table['halo_mvir'] ) <= max_logmass)\n",
    "    #mass_cut = np.logical_and(mass_cut, cut_idx)\n",
    "\n",
    "    #mock_nds.append(len(cut_idx)/cat.Lbox**3)\n",
    "    mock_pos = np.c_[cat.model.mock.galaxy_table[mass_cut]['x'],\\\n",
    "                     cat.model.mock.galaxy_table[mass_cut]['y'],\\\n",
    "                     cat.model.mock.galaxy_table[mass_cut]['z']]\n",
    "    mock_wps.append(tpcf(mock_pos, rp_bins , period=cat.Lbox, num_threads=1))\n",
    "    oneh, twoh = tpcf_one_two_halo_decomp(mock_pos,cat.model.mock.galaxy_table[mass_cut]['halo_hostid'],\\\n",
    "                                          rp_bins , period=cat.Lbox, num_threads=1)\n",
    "    mock_wps_1h.append(oneh)\n",
    "    mock_wps_2h.append(twoh)\n",
    "    \n",
    "mock_wps = np.array(mock_wps)\n",
    "mock_wp_max_cen_ab = np.mean(mock_wps, axis = 0)\n",
    "wp_errs = np.std(mock_wps, axis = 0)\n",
    "\n",
    "mock_wps_1h = np.array(mock_wps_1h)\n",
    "mock_wp_max_cen_ab_1h = np.mean(mock_wps_1h, axis = 0)\n",
    "\n",
    "mock_wps_2h = np.array(mock_wps_2h)\n",
    "mock_wp_max_cen_ab_2h = np.mean(mock_wps_2h, axis = 0)\n",
    "\n",
    "mock_nds = np.array(mock_nds)\n",
    "mock_nd = np.mean(mock_nds)\n",
    "nd_err = np.std(mock_nds)"
   ]
  },
  {
   "cell_type": "code",
   "execution_count": 32,
   "metadata": {},
   "outputs": [],
   "source": [
    "#mock_wp = cat.calc_wp(rp_bins, RSD= False)\n",
    "MAP = np.array([ 0.0, -1.0,5,5])\n",
    "\n",
    "names = ['mean_occupation_centrals_assembias_param1','mean_occupation_satellites_assembias_param1',\\\n",
    "        'mean_occupation_centrals_assembias_slope1','mean_occupation_satellites_assembias_slope1']\n",
    "params = dict(zip(names, MAP))\n",
    "\n",
    "mock_wps = []\n",
    "mock_wps_1h, mock_wps_2h = [],[]\n",
    "mock_nds = []\n",
    "for i in xrange(10):\n",
    "    cat.populate(params)\n",
    "    #cut_idx = cat.model.mock.galaxy_table['gal_type'] == 'centrals'\n",
    "    #mock_nds.append(len(cut_idx)/cat.Lbox**3)\n",
    "    mass_cut = np.logical_and(np.log10(cat.model.mock.galaxy_table['halo_mvir'] ) > min_logmass,\\\n",
    "                              np.log10(cat.model.mock.galaxy_table['halo_mvir'] ) <= max_logmass)\n",
    "    #mass_cut = np.logical_and(mass_cut, cut_idx)\n",
    "\n",
    "    #mock_nds.append(len(cut_idx)/cat.Lbox**3)\n",
    "    mock_pos = np.c_[cat.model.mock.galaxy_table[mass_cut]['x'],\\\n",
    "                     cat.model.mock.galaxy_table[mass_cut]['y'],\\\n",
    "                     cat.model.mock.galaxy_table[mass_cut]['z']]\n",
    "    mock_wps.append(tpcf(mock_pos, rp_bins , period=cat.Lbox, num_threads=1))\n",
    "    oneh, twoh = tpcf_one_two_halo_decomp(mock_pos,cat.model.mock.galaxy_table[mass_cut]['halo_hostid'],\\\n",
    "                                          rp_bins , period=cat.Lbox, num_threads=1)\n",
    "    mock_wps_1h.append(oneh)\n",
    "    mock_wps_2h.append(twoh)\n",
    "    \n",
    "mock_wps = np.array(mock_wps)\n",
    "mock_wp_max_sat_ab = np.mean(mock_wps, axis = 0)\n",
    "wp_errs = np.std(mock_wps, axis = 0)\n",
    "\n",
    "mock_wps_1h = np.array(mock_wps_1h)\n",
    "mock_wp_max_sat_ab_1h = np.mean(mock_wps_1h, axis = 0)\n",
    "\n",
    "mock_wps_2h = np.array(mock_wps_2h)\n",
    "mock_wp_max_sat_ab_2h = np.mean(mock_wps_2h, axis = 0)\n",
    "\n",
    "mock_nds = np.array(mock_nds)\n",
    "mock_nd = np.mean(mock_nds)\n",
    "nd_err = np.std(mock_nds)"
   ]
  },
  {
   "cell_type": "code",
   "execution_count": 33,
   "metadata": {},
   "outputs": [
    {
     "data": {
      "text/plain": [
       "['halo_upid',\n",
       " 'halo_y',\n",
       " 'halo_x',\n",
       " 'halo_z',\n",
       " 'halo_rvir',\n",
       " 'halo_vpeak',\n",
       " 'halo_rs_klypin',\n",
       " 'halo_snapnum',\n",
       " 'halo_halfmass_scale',\n",
       " 'halo_id',\n",
       " 'halo_vx',\n",
       " 'halo_vy',\n",
       " 'halo_vz',\n",
       " 'halo_rs',\n",
       " 'halo_mvir',\n",
       " 'halo_nfw_conc',\n",
       " 'halo_vpeak_mag',\n",
       " 'halo_vvir_mag',\n",
       " 'halo_alpha_05_mag',\n",
       " 'halo_shuffled_vpeak_mag',\n",
       " 'halo_shuffled_vvir_mag',\n",
       " 'halo_shuffled_alpha_05_mag',\n",
       " 'host_halo_nfw_conc',\n",
       " 'host_halo_rvir',\n",
       " 'halo_nfw_x',\n",
       " 'halo_nfw_y',\n",
       " 'halo_nfw_z',\n",
       " 'halo_sh_shuffled_vpeak_mag',\n",
       " 'halo_sh_shuffled_vvir_mag',\n",
       " 'halo_sh_shuffled_alpha_05_mag',\n",
       " 'halo_shuffled_x',\n",
       " 'halo_shuffled_y',\n",
       " 'halo_shuffled_z',\n",
       " 'halo_shuffled_upid',\n",
       " 'halo_shuffled_host_mvir',\n",
       " 'halo_sh_shuffled_x',\n",
       " 'halo_sh_shuffled_y',\n",
       " 'halo_sh_shuffled_z',\n",
       " 'halo_sh_shuffled_upid',\n",
       " 'halo_sh_shuffled_host_mvir',\n",
       " 'halo_sh_shuffled_cen_vpeak_mag',\n",
       " 'halo_sh_shuffled_cen_vvir_mag',\n",
       " 'halo_sh_shuffled_cen_alpha_05_mag',\n",
       " 'halo_sh_shuffled_cen_x',\n",
       " 'halo_sh_shuffled_cen_y',\n",
       " 'halo_sh_shuffled_cen_z',\n",
       " 'halo_sh_shuffled_cen_upid',\n",
       " 'halo_sh_shuffled_cen_host_mvir',\n",
       " 'halo_sh_shuffled_sats_vpeak_mag',\n",
       " 'halo_sh_shuffled_sats_vvir_mag',\n",
       " 'halo_sh_shuffled_sats_alpha_05_mag',\n",
       " 'halo_sh_shuffled_sats_x',\n",
       " 'halo_sh_shuffled_sats_y',\n",
       " 'halo_sh_shuffled_sats_z',\n",
       " 'halo_sh_shuffled_sats_upid',\n",
       " 'halo_sh_shuffled_sats_host_mvir',\n",
       " 'halo_hostid',\n",
       " 'halo_x_host_halo',\n",
       " 'halo_y_host_halo',\n",
       " 'halo_z_host_halo',\n",
       " 'halo_nfw_conc_host_halo',\n",
       " 'halo_mvir_host_halo',\n",
       " 'halo_rvir_host_halo']"
      ]
     },
     "execution_count": 33,
     "metadata": {},
     "output_type": "execute_result"
    }
   ],
   "source": [
    "catalog.colnames"
   ]
  },
  {
   "cell_type": "code",
   "execution_count": 34,
   "metadata": {},
   "outputs": [],
   "source": [
    "#catalog = astropy.table.Table.read('abmatched_halos.hdf5', format = 'hdf5')\n",
    "#halo_catalog_orig = catalog[np.logical_and(catalog['halo_mvir'] > min_ptcl*cat.pmass, catalog['halo_vpeak_mag'] <=mag_cut)]\n",
    "#halo_catalog_orig = catalog[np.logical_and( \\\n",
    "#                       np.logical_and(catalog['halo_shuffled_host_mvir'] > 10**min_logmass,\\\n",
    "#                                      catalog['halo_shuffled_host_mvir'] < 10**max_logmass),\\\n",
    "#                        catalog['halo_vvir_mag'] <=mag_cut)]\n",
    "\n",
    "mag_cut = catalog['halo_%s_mag'%mag_type] <=mag_cut\n",
    "cut_idx = catalog['halo_upid'] >= -1\n",
    "mass_cut = np.logical_and(np.log10(catalog['halo_mvir_host_halo']) > min_logmass,\\\n",
    "                          np.log10(catalog['halo_mvir_host_halo']) <= max_logmass)\n",
    "mass_cut = np.logical_and(mass_cut, cut_idx)\n",
    "\n",
    "halo_catalog_orig = catalog[np.logical_and(mag_cut, mass_cut)]"
   ]
  },
  {
   "cell_type": "code",
   "execution_count": 35,
   "metadata": {},
   "outputs": [
    {
     "name": "stdout",
     "output_type": "stream",
     "text": [
      "59782\n"
     ]
    }
   ],
   "source": [
    "print len(halo_catalog_orig)"
   ]
  },
  {
   "cell_type": "code",
   "execution_count": 36,
   "metadata": {},
   "outputs": [],
   "source": [
    "centrals_idx = np.where(halo_catalog_orig['halo_upid']>=-1)[0]\n",
    "\n",
    "sham_pos = np.c_[halo_catalog_orig['halo_x'],\\\n",
    "                 halo_catalog_orig['halo_y'],\\\n",
    "                 halo_catalog_orig['halo_z']]\n",
    "sham_wp = tpcf(sham_pos, rp_bins , period=cat.Lbox, num_threads=1)"
   ]
  },
  {
   "cell_type": "code",
   "execution_count": 37,
   "metadata": {},
   "outputs": [
    {
     "name": "stdout",
     "output_type": "stream",
     "text": [
      "[  3.05962327e+03   1.51733602e+03   8.84118437e+02   5.10447582e+02\n",
      "   2.33658760e+02   1.11188314e+02   5.02852205e+01   2.35196619e+01\n",
      "   1.10573221e+01   5.59306545e+00   3.14374543e+00   1.78636202e+00\n",
      "   9.85313022e-01   5.24776983e-01   2.78489463e-01   1.34953491e-01\n",
      "   6.02208621e-02]\n"
     ]
    }
   ],
   "source": [
    "print sham_wp"
   ]
  },
  {
   "cell_type": "code",
   "execution_count": 38,
   "metadata": {},
   "outputs": [],
   "source": [
    "host_ids = halo_catalog_orig['halo_upid']\n",
    "host_ids[centrals_idx] = halo_catalog_orig[centrals_idx]['halo_id']\n",
    "sham_wp_1h, sham_wp_2h = tpcf_one_two_halo_decomp(sham_pos,host_ids, rp_bins , period=cat.Lbox, num_threads=1)"
   ]
  },
  {
   "cell_type": "raw",
   "metadata": {
    "collapsed": true
   },
   "source": [
    "sham_pos = np.c_[halo_catalog_orig['halo_x'],\\\n",
    "                 halo_catalog_orig['halo_y'],\\\n",
    "                 halo_catalog_orig['halo_z']]\n",
    "sham_wp = tpcf(sham_pos, rp_bins, period=cat.Lbox, num_threads=1)"
   ]
  },
  {
   "cell_type": "raw",
   "metadata": {
    "collapsed": true
   },
   "source": [
    "sham_wp_1h, sham_wp_2h = tpcf_one_two_halo_decomp(sham_pos,halo_catalog_orig['halo_upid'], rp_bins , period=cat.Lbox, num_threads=1)"
   ]
  },
  {
   "cell_type": "code",
   "execution_count": 39,
   "metadata": {},
   "outputs": [],
   "source": [
    "#sham_nd = len(halo_catalog_orig[centrals_idx])/(cat.Lbox**3)\n",
    "sham_nd = len(halo_catalog_orig)/(cat.Lbox**3)"
   ]
  },
  {
   "cell_type": "code",
   "execution_count": 40,
   "metadata": {
    "collapsed": true
   },
   "outputs": [],
   "source": [
    "sham_nfw_pos = np.c_[halo_catalog_orig['halo_nfw_x'],\\\n",
    "                 halo_catalog_orig['halo_nfw_y'],\\\n",
    "                 halo_catalog_orig['halo_nfw_z']]\n",
    "\n",
    "sham_nfw_wp = tpcf(sham_nfw_pos, rp_bins, period=cat.Lbox, num_threads=1)"
   ]
  },
  {
   "cell_type": "code",
   "execution_count": 41,
   "metadata": {
    "collapsed": true
   },
   "outputs": [],
   "source": [
    "sham_nfw_wp_1h, sham_nfw_wp_2h = tpcf_one_two_halo_decomp(sham_nfw_pos,host_ids,\\\n",
    "                                                          rp_bins, period=cat.Lbox, num_threads=1)"
   ]
  },
  {
   "cell_type": "raw",
   "metadata": {
    "collapsed": true
   },
   "source": [
    "sham_nfw_pos = np.c_[halo_catalog_orig['halo_nfw_x'],\\\n",
    "                 halo_catalog_orig['halo_nfw_y'],\\\n",
    "                 halo_catalog_orig['halo_nfw_z']]\n",
    "\n",
    "sham_nfw_wp = tpcf(sham_nfw_pos, rp_bins, period=cat.Lbox, num_threads=1)"
   ]
  },
  {
   "cell_type": "raw",
   "metadata": {
    "collapsed": true
   },
   "source": [
    "sham_nfw_wp_1h, sham_nfw_wp_2h = tpcf_one_two_halo_decomp(sham_nfw_pos,halo_catalog_orig['halo_upid'],\\\n",
    "                                                          rp_bins, period=cat.Lbox, num_threads=1)"
   ]
  },
  {
   "cell_type": "raw",
   "metadata": {},
   "source": [
    "cut_idx = halo_catalog['halo_%s_upid'%shuffle_type]!=-1\n",
    "#cut_idx = np.logical_and(\\\n",
    "#                        halo_catalog['halo_%s_host_mvir'%shuffle_type] > 10**min_logmass,\\\n",
    "#                        halo_catalog['halo_%s_host_mvir'%shuffle_type] < 10**max_logmass)\n",
    "#cut_idx = np.where(np.logical_and(type_idx, mass_idx))[0]\n",
    "sham_shuffled_pos = np.c_[halo_catalog[cut_idx]['halo_%s_x'%shuffle_type],\\\n",
    "                          halo_catalog[cut_idx]['halo_%s_y'%shuffle_type],\\\n",
    "                          halo_catalog[cut_idx]['halo_%s_z'%shuffle_type]]\n",
    "sham_shuffled_wp = tpcf(sham_shuffled_pos, rp_bins , period=cat.Lbox, num_threads=1)"
   ]
  },
  {
   "cell_type": "raw",
   "metadata": {
    "collapsed": true
   },
   "source": [
    "sham_shuffled_wp_1h, sham_shuffled_wp_2h = tpcf_one_two_halo_decomp(sham_shuffled_pos, halo_catalog[cut_idx]['halo_%s_upid'%shuffle_type],\\\n",
    "                                    rp_bins , period=cat.Lbox, num_threads=1)"
   ]
  },
  {
   "cell_type": "code",
   "execution_count": 42,
   "metadata": {},
   "outputs": [
    {
     "data": {
      "text/plain": [
       "['halo_upid',\n",
       " 'halo_y',\n",
       " 'halo_x',\n",
       " 'halo_z',\n",
       " 'halo_rvir',\n",
       " 'halo_vpeak',\n",
       " 'halo_rs_klypin',\n",
       " 'halo_snapnum',\n",
       " 'halo_halfmass_scale',\n",
       " 'halo_id',\n",
       " 'halo_vx',\n",
       " 'halo_vy',\n",
       " 'halo_vz',\n",
       " 'halo_rs',\n",
       " 'halo_mvir',\n",
       " 'halo_nfw_conc',\n",
       " 'halo_vpeak_mag',\n",
       " 'halo_vvir_mag',\n",
       " 'halo_alpha_05_mag',\n",
       " 'halo_shuffled_vpeak_mag',\n",
       " 'halo_shuffled_vvir_mag',\n",
       " 'halo_shuffled_alpha_05_mag',\n",
       " 'host_halo_nfw_conc',\n",
       " 'host_halo_rvir',\n",
       " 'halo_nfw_x',\n",
       " 'halo_nfw_y',\n",
       " 'halo_nfw_z',\n",
       " 'halo_sh_shuffled_vpeak_mag',\n",
       " 'halo_sh_shuffled_vvir_mag',\n",
       " 'halo_sh_shuffled_alpha_05_mag',\n",
       " 'halo_shuffled_x',\n",
       " 'halo_shuffled_y',\n",
       " 'halo_shuffled_z',\n",
       " 'halo_shuffled_upid',\n",
       " 'halo_shuffled_host_mvir',\n",
       " 'halo_sh_shuffled_x',\n",
       " 'halo_sh_shuffled_y',\n",
       " 'halo_sh_shuffled_z',\n",
       " 'halo_sh_shuffled_upid',\n",
       " 'halo_sh_shuffled_host_mvir',\n",
       " 'halo_sh_shuffled_cen_vpeak_mag',\n",
       " 'halo_sh_shuffled_cen_vvir_mag',\n",
       " 'halo_sh_shuffled_cen_alpha_05_mag',\n",
       " 'halo_sh_shuffled_cen_x',\n",
       " 'halo_sh_shuffled_cen_y',\n",
       " 'halo_sh_shuffled_cen_z',\n",
       " 'halo_sh_shuffled_cen_upid',\n",
       " 'halo_sh_shuffled_cen_host_mvir',\n",
       " 'halo_sh_shuffled_sats_vpeak_mag',\n",
       " 'halo_sh_shuffled_sats_vvir_mag',\n",
       " 'halo_sh_shuffled_sats_alpha_05_mag',\n",
       " 'halo_sh_shuffled_sats_x',\n",
       " 'halo_sh_shuffled_sats_y',\n",
       " 'halo_sh_shuffled_sats_z',\n",
       " 'halo_sh_shuffled_sats_upid',\n",
       " 'halo_sh_shuffled_sats_host_mvir',\n",
       " 'halo_hostid',\n",
       " 'halo_x_host_halo',\n",
       " 'halo_y_host_halo',\n",
       " 'halo_z_host_halo',\n",
       " 'halo_nfw_conc_host_halo',\n",
       " 'halo_mvir_host_halo',\n",
       " 'halo_rvir_host_halo']"
      ]
     },
     "execution_count": 42,
     "metadata": {},
     "output_type": "execute_result"
    }
   ],
   "source": [
    "halo_catalog.colnames"
   ]
  },
  {
   "cell_type": "code",
   "execution_count": 43,
   "metadata": {},
   "outputs": [],
   "source": [
    "shuffle_type = 'shuffled'\n",
    "mass_cut = np.logical_and(np.log10(halo_catalog['halo_%s_host_mvir'%shuffle_type]) > min_logmass,\\\n",
    "                          np.log10(halo_catalog['halo_%s_host_mvir'%shuffle_type]) < max_logmass)\n",
    "cut_idx = halo_catalog['halo_%s_upid'%shuffle_type] >= -1\n",
    "mass_cut = np.logical_and(mass_cut, cut_idx)\n",
    "\n",
    "sham_shuffled_pos = np.c_[halo_catalog[mass_cut]['halo_%s_x'%shuffle_type],\\\n",
    "                          halo_catalog[mass_cut]['halo_%s_y'%shuffle_type],\\\n",
    "                          halo_catalog[ma ss_cut]['halo_%s_z'%shuffle_type]]\n",
    "sham_shuffled_wp = tpcf(sham_shuffled_pos, rp_bins , period=cat.Lbox, num_threads=1)"
   ]
  },
  {
   "cell_type": "code",
   "execution_count": 44,
   "metadata": {
    "collapsed": true
   },
   "outputs": [],
   "source": [
    "centrals_idx = halo_catalog[mass_cut]['halo_%s_upid'%shuffle_type]>=-1\n",
    "\n",
    "host_ids = halo_catalog[mass_cut]['halo_%s_upid'%shuffle_type]\n",
    "host_ids[centrals_idx] = halo_catalog[mass_cut][centrals_idx]['halo_id']\n",
    "sham_shuffled_wp_1h, sham_shuffled_wp_2h = tpcf_one_two_halo_decomp(sham_shuffled_pos, host_ids,\\\n",
    "                                    rp_bins , period=cat.Lbox, num_threads=1)"
   ]
  },
  {
   "cell_type": "code",
   "execution_count": 45,
   "metadata": {
    "collapsed": true
   },
   "outputs": [],
   "source": [
    "shuffle_type = 'sh_shuffled'\n",
    "mass_cut = np.logical_and(np.log10(halo_catalog['halo_%s_host_mvir'%shuffle_type]) > min_logmass,\\\n",
    "                          np.log10(halo_catalog['halo_%s_host_mvir'%shuffle_type]) < max_logmass)\n",
    "cut_idx = halo_catalog['halo_%s_upid'%shuffle_type] >= -1\n",
    "mass_cut = np.logical_and(mass_cut, cut_idx)\n",
    "sham_sh_shuffled_pos = np.c_[halo_catalog[mass_cut]['halo_%s_x'%shuffle_type],\\\n",
    "                          halo_catalog[mass_cut]['halo_%s_y'%shuffle_type],\\\n",
    "                          halo_catalog[mass_cut]['halo_%s_z'%shuffle_type]]\n",
    "sham_sh_shuffled_wp = tpcf(sham_sh_shuffled_pos, rp_bins , period=cat.Lbox, num_threads=1)"
   ]
  },
  {
   "cell_type": "code",
   "execution_count": 46,
   "metadata": {
    "collapsed": true
   },
   "outputs": [],
   "source": [
    "centrals_idx = halo_catalog[mass_cut]['halo_%s_upid'%shuffle_type]>=-1\n",
    "\n",
    "host_ids = halo_catalog[mass_cut]['halo_%s_upid'%shuffle_type]\n",
    "host_ids[centrals_idx] = halo_catalog[mass_cut][centrals_idx]['halo_id']\n",
    "sham_sh_shuffled_wp_1h, sham_sh_shuffled_wp_2h = tpcf_one_two_halo_decomp(sham_sh_shuffled_pos, host_ids,\\\n",
    "                                    rp_bins , period=cat.Lbox, num_threads=1)"
   ]
  },
  {
   "cell_type": "code",
   "execution_count": 47,
   "metadata": {
    "collapsed": true
   },
   "outputs": [],
   "source": [
    "shuffle_type = 'sh_shuffled_cen'\n",
    "mass_cut = np.logical_and(np.log10(halo_catalog['halo_%s_host_mvir'%shuffle_type]) > min_logmass,\\\n",
    "                          np.log10(halo_catalog['halo_%s_host_mvir'%shuffle_type]) < max_logmass)\n",
    "cut_idx = halo_catalog['halo_%s_upid'%shuffle_type] >= -1\n",
    "mass_cut = np.logical_and(mass_cut, cut_idx)\n",
    "sham_sh_shuffled_pos = np.c_[halo_catalog[mass_cut]['halo_%s_x'%shuffle_type],\\\n",
    "                          halo_catalog[mass_cut]['halo_%s_y'%shuffle_type],\\\n",
    "                          halo_catalog[mass_cut]['halo_%s_z'%shuffle_type]]\n",
    "sham_sh_shuffled_cen_wp = tpcf(sham_sh_shuffled_pos, rp_bins , period=cat.Lbox, num_threads=1)"
   ]
  },
  {
   "cell_type": "code",
   "execution_count": 48,
   "metadata": {},
   "outputs": [],
   "source": [
    "centrals_idx = halo_catalog[mass_cut]['halo_%s_upid'%shuffle_type]>=-1\n",
    "\n",
    "host_ids = halo_catalog[mass_cut]['halo_%s_upid'%shuffle_type]\n",
    "host_ids[centrals_idx] = halo_catalog[mass_cut][centrals_idx]['halo_id']\n",
    "sham_sh_shuffled_cen_wp_1h, sham_sh_shuffled_cen_wp_2h = tpcf_one_two_halo_decomp(sham_sh_shuffled_pos, host_ids,\\\n",
    "                                    rp_bins , period=cat.Lbox, num_threads=1)"
   ]
  },
  {
   "cell_type": "code",
   "execution_count": 49,
   "metadata": {},
   "outputs": [],
   "source": [
    "shuffle_type = 'sh_shuffled_sats'\n",
    "mass_cut = np.logical_and(np.log10(halo_catalog['halo_%s_host_mvir'%shuffle_type]) > min_logmass,\\\n",
    "                          np.log10(halo_catalog['halo_%s_host_mvir'%shuffle_type]) < max_logmass)\n",
    "cut_idx = halo_catalog['halo_%s_upid'%shuffle_type] >= -1\n",
    "mass_cut = np.logical_and(mass_cut, cut_idx)\n",
    "sham_sh_shuffled_pos = np.c_[halo_catalog[mass_cut]['halo_%s_x'%shuffle_type],\\\n",
    "                          halo_catalog[mass_cut]['halo_%s_y'%shuffle_type],\\\n",
    "                          halo_catalog[mass_cut]['halo_%s_z'%shuffle_type]]\n",
    "sham_sh_shuffled_sat_wp = tpcf(sham_sh_shuffled_pos, rp_bins , period=cat.Lbox, num_threads=1)"
   ]
  },
  {
   "cell_type": "code",
   "execution_count": 50,
   "metadata": {
    "collapsed": true
   },
   "outputs": [],
   "source": [
    "centrals_idx = halo_catalog[mass_cut]['halo_%s_upid'%shuffle_type]>=-1\n",
    "\n",
    "host_ids = halo_catalog[mass_cut]['halo_%s_upid'%shuffle_type]\n",
    "host_ids[centrals_idx] = halo_catalog[mass_cut][centrals_idx]['halo_id']\n",
    "sham_sh_shuffled_sat_wp_1h, sham_sh_shuffled_sat_wp_2h = tpcf_one_two_halo_decomp(sham_sh_shuffled_pos, host_ids,\\\n",
    "                                    rp_bins , period=cat.Lbox, num_threads=1)"
   ]
  },
  {
   "cell_type": "code",
   "execution_count": 51,
   "metadata": {},
   "outputs": [],
   "source": [
    "#shuffled_nd = len(cut_idx)/(cat.Lbox**3)\n",
    "shuffled_nd = len(halo_catalog)/(cat.Lbox**3)"
   ]
  },
  {
   "cell_type": "code",
   "execution_count": 52,
   "metadata": {},
   "outputs": [
    {
     "name": "stdout",
     "output_type": "stream",
     "text": [
      "0.00093409375 0.00093409375 nan\n",
      "nan nan\n",
      "nan\n"
     ]
    }
   ],
   "source": [
    "print sham_nd,shuffled_nd, mock_nd\n",
    "print sham_nd-mock_nd, nd_err\n",
    "print (sham_nd-mock_nd)/nd_err"
   ]
  },
  {
   "cell_type": "code",
   "execution_count": 53,
   "metadata": {},
   "outputs": [
    {
     "data": {
      "text/plain": [
       "<matplotlib.text.Text at 0x7fd3fffd5110>"
      ]
     },
     "execution_count": 53,
     "metadata": {},
     "output_type": "execute_result"
    },
    {
     "data": {
      "image/png": "[encoded data removed]",
      "text/plain": [
       "<matplotlib.figure.Figure at 0x7fd4005da250>"
      ]
     },
     "metadata": {},
     "output_type": "display_data"
    }
   ],
   "source": [
    "plt.figure(figsize=(10,8))\n",
    "plt.errorbar(bin_centers, mock_wp_no_ab,yerr=wp_errs, label = 'no ab model')\n",
    "plt.errorbar(bin_centers, mock_wp_ab,yerr=wp_errs, label = 'ab model')\n",
    "plt.errorbar(bin_centers, mock_wp_max_ab,yerr=wp_errs, label = 'max model')\n",
    "plt.plot(bin_centers, sham_wp, label = 'sham')\n",
    "plt.plot(bin_centers, sham_nfw_wp, label = 'nfw-ized sham')\n",
    "plt.plot(bin_centers, sham_shuffled_wp, label = 'shuffled & nfw-ized sham')\n",
    "plt.plot(bin_centers, sham_sh_shuffled_wp, label = 'sh shuffled & nfw-ized sham')\n",
    "plt.plot(bin_centers, sham_sh_shuffled_cen_wp, label = 'sh shuffled cen & nfw-ized sham')\n",
    "plt.plot(bin_centers, sham_sh_shuffled_sat_wp, label = 'sh shuffled sat & nfw-ized sham')\n",
    "\n",
    "\n",
    "plt.loglog()\n",
    "plt.legend(loc='best',fontsize = 15)\n",
    "plt.xlim([1e-1, 5e0]);\n",
    "#plt.ylim([1,15000])\n",
    "plt.xlabel(r'$r_p$',fontsize = 15)\n",
    "plt.ylabel(r'$w(r_p)$',fontsize = 15)\n",
    "plt.title(r'$w(r_p)$ comparison for HOD+AB and NFW-ized SHAM', fontsize = 20)"
   ]
  },
  {
   "cell_type": "raw",
   "metadata": {},
   "source": [
    "plt.figure(figsize=(10,8))\n",
    "plt.plot(bin_centers, mock_wp_no_ab_1h, label = 'model')\n",
    "plt.plot(bin_centers, mock_wp_ab_1h, label = 'model')\n",
    "plt.plot(bin_centers, mock_wp_max_ab_1h, label = 'model')\n",
    "\n",
    "plt.plot(bin_centers, sham_wp_1h, label = 'sham')\n",
    "plt.plot(bin_centers, sham_nfw_wp_1h, label = 'nfw-ized sham')\n",
    "plt.plot(bin_centers, sham_shuffled_wp_1h, label = 'shuffled & nfw-ized sham')\n",
    "plt.plot(bin_centers, sham_sh_shuffled_wp_1h, label = 'sh shuffled & nfw-ized sham')\n",
    "plt.plot(bin_centers, sham_sh_shuffled_cen_wp_1h, label = 'sh shuffled cen & nfw-ized sham')\n",
    "plt.plot(bin_centers, sham_sh_shuffled_sat_wp_1h, label = 'sh shuffled sat & nfw-ized sham')\n",
    "\n",
    "plt.loglog()\n",
    "plt.legend(loc='best',fontsize = 15)\n",
    "plt.xlim([1e-1, 5e0]);\n",
    "#plt.ylim([1,15000])\n",
    "plt.xlabel(r'$r_p$',fontsize = 15)\n",
    "plt.ylabel(r'$w(r_p)$',fontsize = 15)\n",
    "plt.title(r'$w(r_p)$ comparison for HOD+AB and NFW-ized SHAM', fontsize = 20)"
   ]
  },
  {
   "cell_type": "code",
   "execution_count": 54,
   "metadata": {},
   "outputs": [
    {
     "name": "stdout",
     "output_type": "stream",
     "text": [
      "[ 0.84083433  0.9361688   1.05500697  1.04682921  0.99728946  0.99456483\n",
      "  0.99479369  1.0155265   1.01787088  1.007652    1.00428735  0.98355716\n",
      "  1.0075423   1.00151759  0.99662921  1.0019775   0.98790069]\n"
     ]
    }
   ],
   "source": [
    "print sham_sh_shuffled_wp_2h/sham_shuffled_wp_2h"
   ]
  },
  {
   "cell_type": "code",
   "execution_count": 55,
   "metadata": {},
   "outputs": [
    {
     "data": {
      "text/plain": [
       "<matplotlib.text.Text at 0x7fd3fff5e090>"
      ]
     },
     "execution_count": 55,
     "metadata": {},
     "output_type": "execute_result"
    },
    {
     "data": {
      "image/png": "[encoded data removed]",
      "text/plain": [
       "<matplotlib.figure.Figure at 0x7fd407f09ad0>"
      ]
     },
     "metadata": {},
     "output_type": "display_data"
    }
   ],
   "source": [
    "plt.figure(figsize=(10,8))\n",
    "plt.plot(bin_centers, mock_wp_no_ab_2h, label = 'no ab model')\n",
    "plt.plot(bin_centers, mock_wp_ab_2h, label = 'ab model')\n",
    "plt.plot(bin_centers, mock_wp_max_ab_2h, label = 'max model')\n",
    "\n",
    "plt.plot(bin_centers, sham_wp_2h, label = 'sham')\n",
    "plt.plot(bin_centers, sham_nfw_wp_2h, label = 'nfw-ized sham')\n",
    "plt.plot(bin_centers, sham_shuffled_wp_2h, label = 'shuffled & nfw-ized sham')\n",
    "plt.plot(bin_centers, sham_sh_shuffled_wp_2h, label = 'sh shuffled & nfw-ized sham')\n",
    "plt.plot(bin_centers, sham_sh_shuffled_cen_wp_2h, label = 'sh shuffled cen & nfw-ized sham')\n",
    "plt.plot(bin_centers, sham_sh_shuffled_sat_wp_2h, label = 'sh shuffled sat & nfw-ized sham')\n",
    "\n",
    "plt.loglog()\n",
    "plt.legend(loc='best',fontsize = 15)\n",
    "plt.xlim([1e-1, 5e0]);\n",
    "#plt.ylim([1,15000])\n",
    "plt.xlabel(r'$r_p$',fontsize = 15)\n",
    "plt.ylabel(r'$w(r_p)$',fontsize = 15)\n",
    "plt.title(r'$w(r_p)$ comparison for HOD+AB and NFW-ized SHAM', fontsize = 20)"
   ]
  },
  {
   "cell_type": "raw",
   "metadata": {},
   "source": [
    "plt.figure(figsize=(10,8))\n",
    "#plt.plot(bin_centers, mock_wps.T, color = 'k', alpha = 0.5)#, label = 'model')\n",
    "plt.plot(bin_centers, sham_wp, label = 'sham')\n",
    "plt.plot(bin_centers, sham_nfw_wp, label = 'nfw-ized sham')\n",
    "plt.plot(bin_centers, sham_shuffled_wp, label = 'shuffled & nfw-ized sham')\n",
    "plt.loglog()\n",
    "plt.legend(loc='best',fontsize = 15)\n",
    "plt.xlim([1e-1, 5e0]);\n",
    "#plt.ylim([1,15000])\n",
    "plt.xlabel(r'$r_p$',fontsize = 15)\n",
    "plt.ylabel(r'$w(r_p)$',fontsize = 15)\n",
    "plt.title(r'$w(r_p)$ comparison for HOD+AB and NFW-ized SHAM', fontsize = 20)"
   ]
  },
  {
   "cell_type": "raw",
   "metadata": {},
   "source": [
    "%%bash\n",
    "ls *wp*.npy"
   ]
  },
  {
   "cell_type": "code",
   "execution_count": 56,
   "metadata": {},
   "outputs": [
    {
     "name": "stdout",
     "output_type": "stream",
     "text": [
      "mock_xi.npy\n",
      "mock_xi_ab.npy\n",
      "mock_xi_ab_alpha_05.npy\n",
      "mock_xi_ab_vpeak.npy\n",
      "mock_xi_ab_vpeak_1h.npy\n",
      "mock_xi_ab_vpeak_2h.npy\n",
      "mock_xi_ab_vvir.npy\n",
      "mock_xi_alpha_05.npy\n",
      "mock_xi_max_ab.npy\n",
      "mock_xi_max_ab2_vpeak.npy\n",
      "mock_xi_max_ab_alpha_05.npy\n",
      "mock_xi_max_ab_vpeak.npy\n",
      "mock_xi_max_ab_vpeak_1h.npy\n",
      "mock_xi_max_ab_vpeak_2h.npy\n",
      "mock_xi_max_ab_vvir.npy\n",
      "mock_xi_max_cen_ab_vpeak.npy\n",
      "mock_xi_max_cen_ab_vpeak_1h.npy\n",
      "mock_xi_max_cen_ab_vpeak_2h.npy\n",
      "mock_xi_max_sat_ab_vpeak.npy\n",
      "mock_xi_max_sat_ab_vpeak_1h.npy\n",
      "mock_xi_max_sat_ab_vpeak_2h.npy\n",
      "mock_xi_vpeak.npy\n",
      "mock_xi_vpeak_1h.npy\n",
      "mock_xi_vpeak_2h.npy\n",
      "mock_xi_vvir.npy\n",
      "sham_nfw_xi.npy\n",
      "sham_nfw_xi_alpha_05.npy\n",
      "sham_nfw_xi_vpeak.npy\n",
      "sham_nfw_xi_vpeak_1h.npy\n",
      "sham_nfw_xi_vpeak_2h.npy\n",
      "sham_nfw_xi_vvir.npy\n",
      "sham_sh_shuffle_cen_xi_vpeak.npy\n",
      "sham_sh_shuffle_cen_xi_vpeak_1h.npy\n",
      "sham_sh_shuffle_cen_xi_vpeak_2h.npy\n",
      "sham_sh_shuffle_sat_xi_vpeak.npy\n",
      "sham_sh_shuffle_sat_xi_vpeak_1h.npy\n",
      "sham_sh_shuffle_sat_xi_vpeak_2h.npy\n",
      "sham_sh_shuffle_xi_vpeak.npy\n",
      "sham_sh_shuffle_xi_vpeak_1h.npy\n",
      "sham_sh_shuffle_xi_vpeak_2h.npy\n",
      "sham_sh_shuffled_xi_vpeak.npy\n",
      "sham_sh_shuffled_xi_vpeak_1h.npy\n",
      "sham_sh_shuffled_xi_vpeak_2h.npy\n",
      "sham_shuffle_xi_vpeak.npy\n",
      "sham_shuffle_xi_vpeak_1h.npy\n",
      "sham_shuffle_xi_vpeak_2h.npy\n",
      "sham_shuffled_xi.npy\n",
      "sham_shuffled_xi_alpha_05.npy\n",
      "sham_shuffled_xi_vpeak.npy\n",
      "sham_shuffled_xi_vvir.npy\n",
      "sham_xi.npy\n",
      "sham_xi_alpha_05.npy\n",
      "sham_xi_vpeak.npy\n",
      "sham_xi_vpeak_1h.npy\n",
      "sham_xi_vpeak_2h.npy\n",
      "sham_xi_vvir.npy\n"
     ]
    }
   ],
   "source": [
    "%%bash\n",
    "ls *xi*.npy"
   ]
  },
  {
   "cell_type": "code",
   "execution_count": 57,
   "metadata": {},
   "outputs": [],
   "source": [
    "np.savetxt('mock_xi_%s.npy'%mag_type,mock_wp_no_ab)\n",
    "np.savetxt('mock_xi_ab_%s.npy'%mag_type,mock_wp_ab)\n",
    "np.savetxt('mock_xi_max_ab_%s.npy'%mag_type,mock_wp_max_ab)\n",
    "np.savetxt('mock_xi_max_cen_ab_%s.npy'%mag_type,mock_wp_max_cen_ab)\n",
    "np.savetxt('mock_xi_max_sat_ab_%s.npy'%mag_type,mock_wp_max_sat_ab)\n",
    "np.savetxt('sham_xi_%s.npy'%mag_type, sham_wp)\n",
    "np.savetxt('sham_shuffle_xi_%s.npy'%(mag_type), sham_shuffled_wp)\n",
    "np.savetxt('sham_sh_shuffle_xi_%s.npy'%(mag_type), sham_sh_shuffled_wp)\n",
    "np.savetxt('sham_nfw_xi_%s.npy'%mag_type, sham_nfw_wp)\n",
    "np.savetxt('sham_sh_shuffle_cen_xi_%s.npy'%(mag_type), sham_sh_shuffled_cen_wp)\n",
    "np.savetxt('sham_sh_shuffle_sat_xi_%s.npy'%(mag_type), sham_sh_shuffled_sat_wp)"
   ]
  },
  {
   "cell_type": "code",
   "execution_count": 58,
   "metadata": {},
   "outputs": [],
   "source": [
    "np.savetxt('mock_xi_%s_1h.npy'%mag_type,mock_wp_no_ab_1h)\n",
    "np.savetxt('mock_xi_ab_%s_1h.npy'%mag_type,mock_wp_ab_1h)\n",
    "np.savetxt('mock_xi_max_ab_%s_1h.npy'%mag_type,mock_wp_max_ab_1h)\n",
    "np.savetxt('mock_xi_max_cen_ab_%s_1h.npy'%mag_type,mock_wp_max_cen_ab_1h)\n",
    "np.savetxt('mock_xi_max_sat_ab_%s_1h.npy'%mag_type,mock_wp_max_sat_ab_1h)\n",
    "np.savetxt('sham_xi_%s_1h.npy'%mag_type, sham_wp_1h)\n",
    "np.savetxt('sham_shuffle_xi_%s_1h.npy'%(mag_type), sham_shuffled_wp_1h)\n",
    "np.savetxt('sham_sh_shuffle_xi_%s_1h.npy'%(mag_type), sham_sh_shuffled_wp_1h)\n",
    "np.savetxt('sham_nfw_xi_%s_1h.npy'%mag_type, sham_nfw_wp_1h)\n",
    "np.savetxt('sham_sh_shuffle_cen_xi_%s_1h.npy'%(mag_type), sham_sh_shuffled_cen_wp_1h)\n",
    "np.savetxt('sham_sh_shuffle_sat_xi_%s_1h.npy'%(mag_type), sham_sh_shuffled_sat_wp_1h)"
   ]
  },
  {
   "cell_type": "code",
   "execution_count": 59,
   "metadata": {},
   "outputs": [],
   "source": [
    "np.savetxt('mock_xi_%s_2h.npy'%mag_type,mock_wp_no_ab_2h)\n",
    "np.savetxt('mock_xi_ab_%s_2h.npy'%mag_type,mock_wp_ab_2h)\n",
    "np.savetxt('mock_xi_max_ab_%s_2h.npy'%mag_type,mock_wp_max_ab_2h)\n",
    "np.savetxt('mock_xi_max_cen_ab_%s_2h.npy'%mag_type,mock_wp_max_cen_ab_2h)\n",
    "np.savetxt('mock_xi_max_sat_ab_%s_2h.npy'%mag_type,mock_wp_max_sat_ab_2h)\n",
    "np.savetxt('sham_xi_%s_2h.npy'%mag_type, sham_wp_2h)\n",
    "np.savetxt('sham_shuffle_xi_%s_2h.npy'%(mag_type), sham_shuffled_wp_2h)\n",
    "np.savetxt('sham_sh_shuffle_xi_%s_2h.npy'%(mag_type), sham_sh_shuffled_wp_2h)\n",
    "np.savetxt('sham_nfw_xi_%s_2h.npy'%mag_type, sham_nfw_wp_2h)\n",
    "np.savetxt('sham_sh_shuffle_cen_xi_%s_2h.npy'%(mag_type), sham_sh_shuffled_cen_wp_2h)\n",
    "np.savetxt('sham_sh_shuffle_sat_xi_%s_2h.npy'%(mag_type), sham_sh_shuffled_sat_wp_2h)"
   ]
  },
  {
   "cell_type": "code",
   "execution_count": 60,
   "metadata": {},
   "outputs": [
    {
     "ename": "NameError",
     "evalue": "name 'mock_wp' is not defined",
     "output_type": "error",
     "traceback": [
      "\u001b[1;31m---------------------------------------------------------------------------\u001b[0m",
      "\u001b[1;31mNameError\u001b[0m                                 Traceback (most recent call last)",
      "\u001b[1;32m<ipython-input-60-7fddac1c7806>\u001b[0m in \u001b[0;36m<module>\u001b[1;34m()\u001b[0m\n\u001b[0;32m      1\u001b[0m \u001b[0mplt\u001b[0m\u001b[1;33m.\u001b[0m\u001b[0mfigure\u001b[0m\u001b[1;33m(\u001b[0m\u001b[0mfigsize\u001b[0m\u001b[1;33m=\u001b[0m\u001b[1;33m(\u001b[0m\u001b[1;36m10\u001b[0m\u001b[1;33m,\u001b[0m\u001b[1;36m8\u001b[0m\u001b[1;33m)\u001b[0m\u001b[1;33m)\u001b[0m\u001b[1;33m\u001b[0m\u001b[0m\n\u001b[1;32m----> 2\u001b[1;33m \u001b[0mplt\u001b[0m\u001b[1;33m.\u001b[0m\u001b[0merrorbar\u001b[0m\u001b[1;33m(\u001b[0m\u001b[0mbin_centers\u001b[0m\u001b[1;33m,\u001b[0m \u001b[0mmock_wp\u001b[0m\u001b[1;33m/\u001b[0m\u001b[0mmock_wp\u001b[0m\u001b[1;33m,\u001b[0m\u001b[0myerr\u001b[0m\u001b[1;33m=\u001b[0m\u001b[0mwp_errs\u001b[0m\u001b[1;33m/\u001b[0m\u001b[0mmock_wp\u001b[0m\u001b[1;33m,\u001b[0m \u001b[0mlabel\u001b[0m \u001b[1;33m=\u001b[0m \u001b[1;34m'model/model'\u001b[0m\u001b[1;33m)\u001b[0m\u001b[1;33m\u001b[0m\u001b[0m\n\u001b[0m\u001b[0;32m      3\u001b[0m \u001b[0mplt\u001b[0m\u001b[1;33m.\u001b[0m\u001b[0mplot\u001b[0m\u001b[1;33m(\u001b[0m\u001b[0mbin_centers\u001b[0m\u001b[1;33m,\u001b[0m \u001b[0msham_wp\u001b[0m\u001b[1;33m/\u001b[0m\u001b[0mmock_wp\u001b[0m\u001b[1;33m,\u001b[0m \u001b[0mlabel\u001b[0m \u001b[1;33m=\u001b[0m \u001b[1;34m'sham/model'\u001b[0m\u001b[1;33m)\u001b[0m\u001b[1;33m\u001b[0m\u001b[0m\n\u001b[0;32m      4\u001b[0m \u001b[0mplt\u001b[0m\u001b[1;33m.\u001b[0m\u001b[0mplot\u001b[0m\u001b[1;33m(\u001b[0m\u001b[0mbin_centers\u001b[0m\u001b[1;33m,\u001b[0m \u001b[0msham_nfw_wp\u001b[0m\u001b[1;33m/\u001b[0m\u001b[0mmock_wp\u001b[0m\u001b[1;33m,\u001b[0m \u001b[0mlabel\u001b[0m \u001b[1;33m=\u001b[0m \u001b[1;34m'nfw-ized sham/model'\u001b[0m\u001b[1;33m)\u001b[0m\u001b[1;33m\u001b[0m\u001b[0m\n\u001b[0;32m      5\u001b[0m \u001b[0mplt\u001b[0m\u001b[1;33m.\u001b[0m\u001b[0mplot\u001b[0m\u001b[1;33m(\u001b[0m\u001b[0mbin_centers\u001b[0m\u001b[1;33m,\u001b[0m \u001b[0msham_shuffled_wp\u001b[0m\u001b[1;33m/\u001b[0m\u001b[0mmock_wp\u001b[0m\u001b[1;33m,\u001b[0m \u001b[0mlabel\u001b[0m \u001b[1;33m=\u001b[0m \u001b[1;34m'shuffled & nfw-ized sham/model'\u001b[0m\u001b[1;33m)\u001b[0m\u001b[1;33m\u001b[0m\u001b[0m\n",
      "\u001b[1;31mNameError\u001b[0m: name 'mock_wp' is not defined"
     ]
    },
    {
     "data": {
      "text/plain": [
       "<matplotlib.figure.Figure at 0x7fd46ce2a510>"
      ]
     },
     "metadata": {},
     "output_type": "display_data"
    }
   ],
   "source": [
    "plt.figure(figsize=(10,8))\n",
    "plt.errorbar(bin_centers, mock_wp/mock_wp,yerr=wp_errs/mock_wp, label = 'model/model')\n",
    "plt.plot(bin_centers, sham_wp/mock_wp, label = 'sham/model')\n",
    "plt.plot(bin_centers, sham_nfw_wp/mock_wp, label = 'nfw-ized sham/model')\n",
    "plt.plot(bin_centers, sham_shuffled_wp/mock_wp, label = 'shuffled & nfw-ized sham/model')\n",
    "plt.xscale('log')\n",
    "plt.legend(loc='best')\n",
    "plt.xlim([1e-1, 5e0]);\n",
    "#plt.ylim([0.8,1.2]);\n",
    "plt.xlabel(r'$r_p$',fontsize = 15)\n",
    "plt.ylabel(r'$w_{SHAM}(r_p)/w_{HOD+AB}(r_p)$',fontsize = 15)\n",
    "plt.title(r'$w(r_p)$ ratio for HOD+AB and NFW-ized SHAM', fontsize = 20)"
   ]
  },
  {
   "cell_type": "code",
   "execution_count": null,
   "metadata": {},
   "outputs": [],
   "source": [
    "print mock_wps/sham_shuffled_wp"
   ]
  },
  {
   "cell_type": "code",
   "execution_count": null,
   "metadata": {},
   "outputs": [],
   "source": [
    "colors = sns.color_palette(\"coolwarm\", ab_vals.shape[0])"
   ]
  },
  {
   "cell_type": "code",
   "execution_count": null,
   "metadata": {},
   "outputs": [],
   "source": [
    "plt.figure(figsize=(10,8))\n",
    "#plt.errorbar(bin_centers, mock_wp/sham_shuffled_wp,yerr=wp_errs/mock_wp, label = 'model/model')\n",
    "for mwp, a, c in zip(mock_wps, ab_vals, colors):\n",
    "    plt.plot(bin_centers,mwp/sham_shuffled_wp, c =c, label = a)\n",
    "plt.plot(bin_centers, sham_wp/sham_shuffled_wp, label = 'sham/model')\n",
    "plt.plot(bin_centers, sham_nfw_wp/sham_shuffled_wp, label = 'nfw-ized sham/model')\n",
    "plt.plot(bin_centers, sham_shuffled_wp/sham_shuffled_wp, label = 'shuffled & nfw-ized sham/model')\n",
    "plt.xscale('log')\n",
    "plt.legend(loc='best')\n",
    "plt.xlim([1e-1, 5e0]);\n",
    "#plt.ylim([0.8,1.2]);\n",
    "plt.xlabel(r'$r_p$',fontsize = 15)\n",
    "plt.ylabel(r'$w_{SHAM}(r_p)/w_{HOD+AB}(r_p)$',fontsize = 15)\n",
    "plt.title(r'$w(r_p)$ ratio for HOD+AB and NFW-ized SHAM', fontsize = 20)"
   ]
  },
  {
   "cell_type": "code",
   "execution_count": null,
   "metadata": {
    "collapsed": true
   },
   "outputs": [],
   "source": []
  },
  {
   "cell_type": "code",
   "execution_count": null,
   "metadata": {
    "collapsed": true
   },
   "outputs": [],
   "source": []
  }
 ],
 "metadata": {
  "kernelspec": {
   "display_name": "Python 2",
   "language": "python",
   "name": "python2"
  },
  "language_info": {
   "codemirror_mode": {
    "name": "ipython",
    "version": 2
   },
   "file_extension": ".py",
   "mimetype": "text/x-python",
   "name": "python",
   "nbconvert_exporter": "python",
   "pygments_lexer": "ipython2",
   "version": "2.7.13"
  }
 },
 "nbformat": 4,
 "nbformat_minor": 1
}

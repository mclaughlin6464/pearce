{
 "cells": [
  {
   "cell_type": "markdown",
   "metadata": {},
   "source": [
    "ZhongXu has asked that I make him the HODs from the SHAMs I made him. This should be pretty straightforward so I'll do it quickly here.  "
   ]
  },
  {
   "cell_type": "code",
   "execution_count": 1,
   "metadata": {},
   "outputs": [],
   "source": [
    "import numpy as np\n",
    "import astropy\n",
    "from pearce.mocks import cat_dict\n",
    "from pearce.mocks.assembias_models.table_utils import compute_prim_haloprop_bins\n",
    "import h5py"
   ]
  },
  {
   "cell_type": "code",
   "execution_count": 2,
   "metadata": {
    "collapsed": true
   },
   "outputs": [],
   "source": [
    "from matplotlib import pyplot as plt\n",
    "%matplotlib inline\n",
    "import seaborn as sns\n",
    "sns.set()\n",
    "from itertools import cycle"
   ]
  },
  {
   "cell_type": "code",
   "execution_count": 3,
   "metadata": {},
   "outputs": [
    {
     "name": "stdout",
     "output_type": "stream",
     "text": [
      "-rw-r--r-- 1 swmclau2 kipac   28562856 Dec 18  2017 /home/users/swmclau2/scratch/catalog_ab_halo_vmax@mpeak_shuffled.hdf5\n",
      "-rw-r--r-- 1 swmclau2 kipac   35284192 Feb  8 11:36 /home/users/swmclau2/scratch/catalog_ab_halo_vmax@mpeak.hdf5\n",
      "-rw-r--r-- 1 swmclau2 kipac   35284192 Feb  8 13:29 /home/users/swmclau2/scratch/catalog_ab_halo_mpeak.hdf5\n",
      "-rw-r--r-- 1 swmclau2 kipac 8061416824 Feb 12 14:57 /home/users/swmclau2/scratch/catalog_ab_halo_mpeak_large.hdf5\n",
      "-rw-r--r-- 1 swmclau2 kipac   28564192 Feb 12 16:13 /home/users/swmclau2/scratch/catalog_ab_halo_mpeak_shuffled.hdf5\n"
     ]
    }
   ],
   "source": [
    "%%bash\n",
    "ls /home/users/swmclau2/scratch/*mpeak*.hdf5 -ltr"
   ]
  },
  {
   "cell_type": "code",
   "execution_count": 4,
   "metadata": {
    "collapsed": true
   },
   "outputs": [],
   "source": [
    "from collections import Counter\n",
    "def compute_occupations(halo_catalog, galaxy_catalog):\n",
    "    #halo_table = cat.halocat.halo_table[cat.halocat.halo_table['halo_mvir'] > min_ptcl*cat.pmass]\n",
    "\n",
    "    cens_occ = np.zeros((np.sum(halo_catalog['halo_upid'] == -1),))\n",
    "    #cens_occ = np.zeros((len(halo_table),))\n",
    "    sats_occ = np.zeros_like(cens_occ)\n",
    "    detected_central_ids = set(galaxy_catalog[galaxy_catalog['halo_upid']==-1]['halo_id'])\n",
    "    detected_satellite_upids = Counter(galaxy_catalog[galaxy_catalog['halo_upid']!=-1]['halo_upid'])\n",
    "\n",
    "    for idx, row  in enumerate(halo_catalog[halo_catalog['halo_upid'] == -1]):\n",
    "        if idx%1000000 == 0:\n",
    "            print idx\n",
    "            \n",
    "        cens_occ[idx] = 1.0 if row['halo_id'] in detected_central_ids else 0.0\n",
    "        sats_occ[idx]+= detected_satellite_upids[row['halo_id']]\n",
    "\n",
    "    return cens_occ, sats_occ"
   ]
  },
  {
   "cell_type": "code",
   "execution_count": 5,
   "metadata": {
    "collapsed": true
   },
   "outputs": [],
   "source": [
    "from math import ceil\n",
    "def compute_mass_bins(prim_haloprop, dlog10_prim_haloprop=0.05):   \n",
    "    lg10_min_prim_haloprop = np.log10(np.min(prim_haloprop))-0.001\n",
    "    lg10_max_prim_haloprop = np.log10(np.max(prim_haloprop))+0.001\n",
    "    num_prim_haloprop_bins = (lg10_max_prim_haloprop-lg10_min_prim_haloprop)/dlog10_prim_haloprop\n",
    "    return np.logspace(\n",
    "        lg10_min_prim_haloprop, lg10_max_prim_haloprop,\n",
    "        num=int(ceil(num_prim_haloprop_bins)))"
   ]
  },
  {
   "cell_type": "code",
   "execution_count": 6,
   "metadata": {},
   "outputs": [
    {
     "name": "stdout",
     "output_type": "stream",
     "text": [
      "catalog_ab_halo_vmax@mpeak.hdf5\n",
      "1\n",
      "**************************************************\n",
      "catalog_ab_halo_mpeak.hdf5\n",
      "1\n",
      "**************************************************\n",
      "catalog_ab_halo_mpeak_shuffled.hdf5\n",
      "1\n",
      "**************************************************\n"
     ]
    }
   ],
   "source": [
    "from glob import glob\n",
    "#hdf5_files = glob('../*catalog_ab_halo*fixed*.hdf5')\n",
    "scratch_path = '/home/users/swmclau2/scratch/'\n",
    "hdf5_files = ['catalog_ab_halo_vmax@mpeak.hdf5','catalog_ab_halo_mpeak.hdf5', 'catalog_ab_halo_mpeak_shuffled.hdf5']\n",
    "for fname in hdf5_files:\n",
    "    f = h5py.File(scratch_path+ fname, \"r\")\n",
    "    print fname\n",
    "    print len(f.keys())\n",
    "    print '*'*50\n"
   ]
  },
  {
   "cell_type": "code",
   "execution_count": null,
   "metadata": {
    "collapsed": true
   },
   "outputs": [],
   "source": [
    "paths = ['halo_vmax@mpeak_catalog', 'halo_mpeak_catalog', 'halo_mpeak_shuffled']"
   ]
  },
  {
   "cell_type": "code",
   "execution_count": null,
   "metadata": {},
   "outputs": [
    {
     "name": "stderr",
     "output_type": "stream",
     "text": [
      "WARNING: path= was not specified but multiple tables are present, reading in first available table (path=halo_mpeak_catalog) [astropy.io.misc.hdf5]\n"
     ]
    },
    {
     "name": "stdout",
     "output_type": "stream",
     "text": [
      "halo_vmax@mpeak_catalog\n",
      "0\n",
      "1000000\n",
      "2000000\n",
      "3000000\n",
      "4000000\n",
      "5000000\n",
      "6000000\n",
      "7000000\n",
      "8000000\n",
      "9000000\n",
      "10000000\n",
      "11000000\n",
      "12000000\n",
      "13000000\n",
      "14000000\n",
      "15000000\n",
      "16000000\n",
      "17000000\n",
      "18000000\n",
      "19000000\n",
      "20000000\n",
      "21000000\n",
      "22000000\n",
      "23000000\n",
      "24000000\n",
      "25000000\n",
      "26000000\n",
      "27000000\n",
      "28000000\n",
      "29000000\n",
      "30000000\n",
      "31000000\n",
      "32000000\n",
      "33000000\n",
      "34000000\n",
      "35000000\n",
      "36000000\n",
      "37000000\n",
      "38000000\n",
      "39000000\n",
      "40000000\n",
      "41000000\n",
      "42000000\n",
      "43000000\n",
      "44000000\n",
      "45000000\n",
      "46000000\n",
      "47000000\n",
      "48000000\n",
      "49000000\n",
      "50000000\n",
      "51000000\n",
      "52000000\n",
      "53000000\n",
      "54000000\n",
      "55000000\n",
      "56000000\n",
      "57000000\n",
      "58000000\n",
      "59000000\n",
      "60000000\n",
      "61000000\n",
      "62000000\n",
      "63000000\n",
      "64000000\n",
      "65000000\n",
      "66000000\n",
      "67000000\n",
      "68000000\n",
      "69000000\n",
      "70000000\n",
      "71000000\n",
      "72000000\n",
      "73000000\n",
      "74000000\n"
     ]
    }
   ],
   "source": [
    "Lbox = 1000.0\n",
    "#catalog = np.loadtxt('ab_sham_hod_data_cut.npy')\n",
    "sim = ''\n",
    "cen_hods = []\n",
    "sat_hods = []\n",
    "halo_catalog = astropy.table.Table.read(scratch_path+'catalog_ab_%s_large.hdf5'%('halo_mpeak'), format = 'hdf5')\n",
    "    \n",
    "mass_bins = compute_mass_bins(halo_catalog['halo_mvir'], 0.2)\n",
    "mass_bin_centers = (mass_bins[1:]+mass_bins[:-1])/2.0\n",
    "simname = 'ds_' if sim=='' else sim\n",
    "np.savetxt(simname+'mass_bins.npy', mass_bins)\n",
    "\n",
    "for fname, path in zip(hdf5_files, paths):\n",
    "    print path\n",
    "    \n",
    "    #for ab_property in ('halo_vmax@mpeak', 'halo_mpeak'):\n",
    "        \n",
    "    #   for shuffle in (False, True):\n",
    "            \n",
    "    #        if shuffle and ab_property=='halo_vmax@mpeak':\n",
    "    #            continue\n",
    "    #        if not shuffle:\n",
    "    #            galaxy_catalog = astropy.table.Table.read('../%scatalog_ab_%s_fixed.hdf5'%(sim,ab_property), format = 'hdf5',\n",
    "    #                                                     path = '%scatalog_ab_%s.hdf5'%(sim,ab_property))\n",
    "    #        else:\n",
    "    galaxy_catalog = astropy.table.Table.read(scratch_path + fname, path = path,  format = 'hdf5')\n",
    "\n",
    "    cens_occ, sats_occ = compute_occupations(halo_catalog, galaxy_catalog)\n",
    "\n",
    "    host_halo_mass = halo_catalog[ halo_catalog['halo_upid']==-1]['halo_mvir']\n",
    "    host_halo_masses.append(host_halo_mass)\n",
    "\n",
    "    cenmask = galaxy_catalog['halo_upid']==-1\n",
    "    satmask = galaxy_catalog['halo_upid']>0\n",
    "\n",
    "    halo_mass = halo_catalog['halo_mvir']\n",
    "\n",
    "    cen_hod = hod_from_mock(galaxy_catalog['halo_mvir_host_halo'][cenmask], halo_mass, mass_bins)[0]\n",
    "    sat_hod = hod_from_mock(galaxy_catalog['halo_mvir_host_halo'][satmask], halo_mass, mass_bins)[0]\n",
    "    \n",
    "    cen_hods.append(cen_hod)\n",
    "    sat_hods.append(sat_hod)\n",
    "\n",
    "    #if not shuffle:\n",
    "    #    np.savetxt('%scatalog_ab_%s_cen_hod.npy'%(sim,ab_property), cen_hod)\n",
    "    #    np.savetxt('%scatalog_ab_%s_sat_hod.npy'%(sim,ab_property),sat_hod)\n",
    "    #else:\n",
    "    #    np.savetxt('%scatalog_ab_%s_shuffled_cen_hod.npy'%(sim,ab_property), cen_hod)\n",
    "    #    np.savetxt('%scatalog_ab_%s_shuffled_sat_hod.npy'%(sim,ab_property),sat_hod)\n",
    "\n"
   ]
  },
  {
   "cell_type": "code",
   "execution_count": null,
   "metadata": {},
   "outputs": [],
   "source": [
    "for cen_hod in cen_hods:\n",
    "    plt.plot(mass_bin_centers, cen_hod)\n",
    "plt.loglog();"
   ]
  },
  {
   "cell_type": "code",
   "execution_count": null,
   "metadata": {},
   "outputs": [],
   "source": [
    "for sat_hod in sat_hods:\n",
    "    plt.plot(mass_bin_centers, sat_hod)\n",
    "plt.loglog();"
   ]
  },
  {
   "cell_type": "code",
   "execution_count": null,
   "metadata": {},
   "outputs": [],
   "source": [
    "from itertools import izip\n",
    "for cen_hod, sat_hod in izip(cen_hods, sat_hods):\n",
    "    plt.plot(mass_bin_centers, cen_hod+sat_hod)\n",
    "plt.loglog();"
   ]
  },
  {
   "cell_type": "code",
   "execution_count": null,
   "metadata": {},
   "outputs": [],
   "source": [
    "plt.hist(halocats['chinchilla']['halo_mvir'], bins = mass_bins, label = 'Chinchilla')\n",
    "plt.hist(halocats['aardvark']['halo_mvir'], bins = mass_bins, alpha = 0.3, label = 'Aardvark');\n",
    "plt.legend(loc = 'best')\n",
    "plt.yscale('log')\n",
    "plt.xscale('log')\n",
    "#plt.loglog()"
   ]
  },
  {
   "cell_type": "code",
   "execution_count": null,
   "metadata": {
    "collapsed": true
   },
   "outputs": [],
   "source": [
    "rbins = np.logspace(-1, 1.7, 15)\n",
    "rpoints = (rbins[1:]+rbins[:-1])/2"
   ]
  },
  {
   "cell_type": "code",
   "execution_count": null,
   "metadata": {},
   "outputs": [],
   "source": [
    "nd = 1e-3\n",
    "n_obj_needed = int(nd*(cat.Lbox**3))\n",
    "halo_clusterings = {}\n",
    "for simname, halocat in halocats.iteritems():\n",
    "    sort_idxs = np.argsort(halocat['halo_mvir'])\n",
    "    tmp_halocat = halocat[sort_idxs[-1*n_obj_needed:]]\n",
    "    \n",
    "    print np.min(tmp_halocat['halo_mvir'])\n",
    "    \n",
    "    pos = np.c_[tmp_halocat['halo_x'], tmp_halocat['halo_y'], tmp_halocat['halo_z']]\n",
    "    halo_clusterings[simname] = tpcf(pos, rbins, period=cat.Lbox)\n",
    "    "
   ]
  },
  {
   "cell_type": "code",
   "execution_count": null,
   "metadata": {},
   "outputs": [],
   "source": [
    "for simname in simnames:\n",
    "    plt.plot(rpoints, halo_clusterings[simname], label = simname)\n",
    "\n",
    "plt.loglog();\n",
    "plt.legend(loc='best')\n",
    "plt.xlabel('r [Mpc]')\n",
    "plt.ylabel('xi Halo, nd = %.2e'%nd)"
   ]
  },
  {
   "cell_type": "code",
   "execution_count": null,
   "metadata": {
    "collapsed": true
   },
   "outputs": [],
   "source": [
    "pos = np.c_[galcats['chinchilla']['halo_x'], galcats['chinchilla']['halo_y'], galcats['chinchilla']['halo_z']]\n",
    "chin_xi = tpcf(pos, rbins, period=cat.Lbox)"
   ]
  },
  {
   "cell_type": "code",
   "execution_count": null,
   "metadata": {
    "collapsed": true
   },
   "outputs": [],
   "source": [
    "pos = np.c_[galcats['aardvark']['halo_x'], galcats['aardvark']['halo_y'], galcats['aardvark']['halo_z']]\n",
    "aard_xi = tpcf(pos, rbins, period=cat.Lbox)"
   ]
  },
  {
   "cell_type": "code",
   "execution_count": null,
   "metadata": {},
   "outputs": [],
   "source": [
    "plt.plot(rpoints, chin_xi, label = 'Chinchilla')\n",
    "plt.plot(rpoints, aard_xi, label = 'Aardvark')\n",
    "\n",
    "plt.loglog();\n",
    "plt.legend(loc='best')\n",
    "plt.xlabel('r [Mpc]')\n",
    "plt.ylabel('xi')"
   ]
  },
  {
   "cell_type": "code",
   "execution_count": null,
   "metadata": {},
   "outputs": [],
   "source": [
    "plt.plot(rpoints, chin_xi/halo_clusterings['chinchilla'], label = 'Chinchilla')\n",
    "plt.plot(rpoints, aard_xi/halo_clusterings['aardvark'], label = 'Aardvark')\n",
    "\n",
    "#plt.loglog();\n",
    "plt.xscale('log')\n",
    "plt.legend(loc='best')\n",
    "plt.xlabel('r [Mpc]')\n",
    "plt.ylabel('xi')"
   ]
  },
  {
   "cell_type": "code",
   "execution_count": null,
   "metadata": {},
   "outputs": [],
   "source": [
    "plt.plot(rpoints, chin_xi/aard_xi, label = 'Chinchilla/Aardvark')\n",
    "#plt.plot(rpoints, aard_xi, label = 'Aardvark')\n",
    "\n",
    "#plt.loglog();\n",
    "plt.xscale('log')\n",
    "plt.legend(loc='best')\n",
    "plt.xlabel('r [Mpc]')\n",
    "plt.ylabel('xi')"
   ]
  },
  {
   "cell_type": "code",
   "execution_count": null,
   "metadata": {
    "collapsed": true
   },
   "outputs": [],
   "source": [
    "conc_bins = np.linspace(0, 1, 10)#np.linspace(0, 1000, 10)#np.linspace(0, 22, 10)"
   ]
  },
  {
   "cell_type": "code",
   "execution_count": null,
   "metadata": {
    "collapsed": true
   },
   "outputs": [],
   "source": [
    "#sns.set_palette(sns.diverging_palette(255, 133, l=60, n=22, center=\"light\"))\n",
    "colors =sns.cubehelix_palette(22,start=.5, rot=-.75)"
   ]
  },
  {
   "cell_type": "code",
   "execution_count": null,
   "metadata": {},
   "outputs": [],
   "source": [
    "i = 0\n",
    "fig = plt.figure(figsize = ((10,8)))\n",
    "\n",
    "for simname, host_halo_mass, cens_occ, sats_occ, ls  in izip(simnames, host_halo_masses, cens_occs, sats_occs, ['-', '--']):\n",
    "    mass_bin_idxs = compute_prim_haloprop_bins(prim_haloprop_bin_boundaries=mass_bins, prim_haloprop =host_halo_mass)\n",
    "\n",
    "    host_halo_conc =halocats[simname][ halocats[simname]['halo_upid']==-1]['halo_nfw_conc']\n",
    "\n",
    "    conditional_conc_percentiles = compute_conditional_percentiles(prim_haloprop  = host_halo_mass,\\\n",
    "                                                                  sec_haloprop = host_halo_conc,\\\n",
    "                                                                  prim_haloprop_bin_boundaries = mass_bins)\n",
    "\n",
    "    mass_bin_nos = range(1,21,1)\n",
    "    for bin_no, c in zip(mass_bin_nos, colors):\n",
    "        bin_center = np.mean(mass_bins[bin_no:bin_no+2])\n",
    "        indices_of_mb = np.where(mass_bin_idxs == bin_no)[0]\n",
    "        cens_avg, sats_avg = np.mean(cens_occ[indices_of_mb]), np.mean(sats_occ[indices_of_mb])\n",
    "\n",
    "        #med_conc = np.median([indices_of_mb, 5])\n",
    "        med_conc = 0.5\n",
    "\n",
    "        (binned_cens, c_bins,_), (binned_sats,_,_) = binned_statistic(conditional_conc_percentiles[indices_of_mb],\\\n",
    "                                                                      cens_occ[indices_of_mb],bins=conc_bins), \\\n",
    "                                   binned_statistic(conditional_conc_percentiles[indices_of_mb],\\\n",
    "                                                                      sats_occ[indices_of_mb],bins=conc_bins)\n",
    "\n",
    "        cen_bin_counts, _, _ = binned_statistic(conditional_conc_percentiles[indices_of_mb],\\\n",
    "                                                cens_occ[indices_of_mb], bins = conc_bins, statistic='sum')\n",
    "        sat_bin_counts, _, _ = binned_statistic(conditional_conc_percentiles[indices_of_mb],\\\n",
    "                                                sats_occ[indices_of_mb], bins = conc_bins, statistic='sum')\n",
    "\n",
    "        c_bin_centers = (c_bins[1:]+c_bins[:-1])/2\n",
    "        #plt.plot(c_bin_centers,(binned_sats-sats_avg), color = c,lw=2.5, label = r\"%.1f $\\log M_{\\odot}$\"%np.log10(bin_center) )\n",
    "        #plt.errorbar(c_bin_centers,(binned_sats-sats_avg), yerr=np.sqrt(binned_sats/sat_bin_counts),color = c,label = r\"%.1f $\\log M_{\\odot}$\"%np.log10(bin_center))\n",
    "        if i >0:\n",
    "            plt.plot(c_bin_centers,(binned_cens-cens_avg),color = c, ls = ls)\n",
    "        else:\n",
    "            plt.plot(c_bin_centers,(binned_cens-cens_avg),color = c,label = r\"%.1f $\\log M_{\\odot}$\"%np.log10(bin_center), ls = ls)\n",
    "    i+=1\n",
    "        \n",
    "#plt.xscale('log')\n",
    "plt.legend(loc='best')\n",
    "#plt.xlim([0,25])\n",
    "plt.ylim([-0.1,1.1])\n",
    "#plt.xlim([-0.05, 1.2])\n",
    "#plt.yscale('log')\n",
    "\n",
    "plt.title(r\"$N(c)$ distribution in fixed mass bins, Vpeak SHAM\")\n",
    "plt.show()"
   ]
  },
  {
   "cell_type": "code",
   "execution_count": null,
   "metadata": {},
   "outputs": [],
   "source": [
    "i = 0\n",
    "fig = plt.figure(figsize = ((10,8)))\n",
    "\n",
    "for simname, host_halo_mass, cens_occ, sats_occ, ls  in izip(simnames, host_halo_masses, cens_occs, sats_occs, ['-', '--']):\n",
    "    mass_bin_idxs = compute_prim_haloprop_bins(prim_haloprop_bin_boundaries=mass_bins, prim_haloprop =host_halo_mass)\n",
    "\n",
    "    host_halo_conc =halocats[simname][ halocats[simname]['halo_upid']==-1]['halo_nfw_conc']\n",
    "\n",
    "    conditional_conc_percentiles = compute_conditional_percentiles(prim_haloprop  = host_halo_mass,\\\n",
    "                                                                  sec_haloprop = host_halo_conc,\\\n",
    "                                                                  prim_haloprop_bin_boundaries = mass_bins)\n",
    "\n",
    "    mass_bin_nos = range(1,21,1)\n",
    "    for bin_no, c in zip(mass_bin_nos, colors):\n",
    "        bin_center = np.mean(mass_bins[bin_no:bin_no+2])\n",
    "        indices_of_mb = np.where(mass_bin_idxs == bin_no)[0]\n",
    "        cens_avg, sats_avg = np.mean(cens_occ[indices_of_mb]), np.mean(sats_occ[indices_of_mb])\n",
    "\n",
    "        #med_conc = np.median([indices_of_mb, 5])\n",
    "        med_conc = 0.5\n",
    "\n",
    "        (binned_cens, c_bins,_), (binned_sats,_,_) = binned_statistic(conditional_conc_percentiles[indices_of_mb],\\\n",
    "                                                                      cens_occ[indices_of_mb],bins=conc_bins), \\\n",
    "                                   binned_statistic(conditional_conc_percentiles[indices_of_mb],\\\n",
    "                                                                      sats_occ[indices_of_mb],bins=conc_bins)\n",
    "\n",
    "        cen_bin_counts, _, _ = binned_statistic(conditional_conc_percentiles[indices_of_mb],\\\n",
    "                                                cens_occ[indices_of_mb], bins = conc_bins, statistic='sum')\n",
    "        sat_bin_counts, _, _ = binned_statistic(conditional_conc_percentiles[indices_of_mb],\\\n",
    "                                                sats_occ[indices_of_mb], bins = conc_bins, statistic='sum')\n",
    "\n",
    "        c_bin_centers = (c_bins[1:]+c_bins[:-1])/2\n",
    "        #plt.plot(c_bin_centers,(binned_sats-sats_avg), color = c,lw=2.5, label = r\"%.1f $\\log M_{\\odot}$\"%np.log10(bin_center) )\n",
    "        #plt.errorbar(c_bin_centers,(binned_sats-sats_avg), yerr=np.sqrt(binned_sats/sat_bin_counts),color = c,label = r\"%.1f $\\log M_{\\odot}$\"%np.log10(bin_center))\n",
    "        if i >0:\n",
    "            plt.plot(c_bin_centers,(binned_cens),color = c, ls = ls)\n",
    "        else:\n",
    "            plt.plot(c_bin_centers,(binned_cens),color = c,label = r\"%.1f $\\log M_{\\odot}$\"%np.log10(bin_center), ls = ls)\n",
    "    i+=1\n",
    "        \n",
    "#plt.xscale('log')\n",
    "plt.legend(loc='best')\n",
    "#plt.xlim([0,25])\n",
    "plt.ylim([-0.1,1.1])\n",
    "plt.xlim([-0.05, 1.2])\n",
    "#plt.yscale('log')\n",
    "\n",
    "plt.title(r\"$N(c)$ distribution in fixed mass bins, Vpeak SHAM\")\n",
    "plt.show()"
   ]
  },
  {
   "cell_type": "raw",
   "metadata": {},
   "source": [
    "mass_bin_nos = range(1,13,1)\n",
    "fig = plt.figure(figsize = ((10,8)))\n",
    "for bin_no, c in zip(mass_bin_nos, colors):\n",
    "    bin_center = np.mean(mass_bins[bin_no:bin_no+2])\n",
    "    indices_of_mb = np.where(mass_bin_idxs == bin_no)[0]\n",
    "    cens_avg, sats_avg = np.mean(cens_occ[indices_of_mb]), np.mean(sats_occ[indices_of_mb])\n",
    "        \n",
    "    #med_conc = np.median([indices_of_mb, 5])\n",
    "    med_conc = 0.5\n",
    "\n",
    "    (binned_cens, c_bins,_), (binned_sats,_,_) = binned_statistic(conditional_conc_percentiles[indices_of_mb],\\\n",
    "                                                                  cens_occ[indices_of_mb],bins=conc_bins), \\\n",
    "                               binned_statistic(conditional_conc_percentiles[indices_of_mb],\\\n",
    "                                                                  sats_occ[indices_of_mb],bins=conc_bins)\n",
    "        \n",
    "    cen_bin_counts, _, _ = binned_statistic(conditional_conc_percentiles[indices_of_mb],\\\n",
    "                                            cens_occ[indices_of_mb], bins = conc_bins, statistic='sum')\n",
    "    sat_bin_counts, _, _ = binned_statistic(conditional_conc_percentiles[indices_of_mb],\\\n",
    "                                            sats_occ[indices_of_mb], bins = conc_bins, statistic='sum')\n",
    "\n",
    "    c_bin_centers = (c_bins[1:]+c_bins[:-1])/2\n",
    "    #plt.plot(c_bin_centers,(binned_sats-sats_avg), color = c,lw=2.5, label = r\"%.1f $\\log M_{\\odot}$\"%np.log10(bin_center) )\n",
    "    #plt.errorbar(c_bin_centers,(binned_sats-sats_avg), yerr=np.sqrt(binned_sats/sat_bin_counts),color = c,label = r\"%.1f $\\log M_{\\odot}$\"%np.log10(bin_center))\n",
    "    plt.plot(c_bin_centers,(binned_cens),color = c,label = r\"%.1f $\\log M_{\\odot}$\"%np.log10(bin_center))\n",
    "\n",
    "    \n",
    "#plt.xscale('log')\n",
    "plt.legend(loc='best')\n",
    "#plt.xlim([0,25])\n",
    "plt.ylim([1e-5,1.1])\n",
    "plt.xlim([-0.05, 1.2])\n",
    "plt.yscale('log')\n",
    "\n",
    "plt.title(r\"$N(c)$ distribution in fixed mass bins, Vpeak SHAM\")\n",
    "plt.show()"
   ]
  },
  {
   "cell_type": "code",
   "execution_count": null,
   "metadata": {
    "collapsed": true
   },
   "outputs": [],
   "source": [
    "from collections import defaultdict\n",
    "mass_bin_nos = range(1,21,1)\n",
    "binned_censes = defaultdict(list)\n",
    "cens_avgs = defaultdict(list)\n",
    "bin_centers = []\n",
    "for bin_no, c in zip(mass_bin_nos, colors):\n",
    "    for simname, host_halo_mass, cens_occ, sats_occ, ls  in izip(simnames, host_halo_masses, cens_occs, sats_occs, ['-', '--']):\n",
    "        mass_bin_idxs = compute_prim_haloprop_bins(prim_haloprop_bin_boundaries=mass_bins, prim_haloprop =host_halo_mass)\n",
    "\n",
    "        host_halo_conc =halocats[simname][ halocats[simname]['halo_upid']==-1]['halo_nfw_conc']\n",
    "\n",
    "        conditional_conc_percentiles = compute_conditional_percentiles(prim_haloprop  = host_halo_mass,\\\n",
    "                                                                      sec_haloprop = host_halo_conc,\\\n",
    "                                                                      prim_haloprop_bin_boundaries = mass_bins)\n",
    "\n",
    "        bin_center = np.mean(mass_bins[bin_no:bin_no+2])\n",
    "        if simname == 'chinchilla':\n",
    "            bin_centers.append(bin_center)\n",
    "            \n",
    "        indices_of_mb = np.where(mass_bin_idxs == bin_no)[0]\n",
    "        cens_avg, sats_avg = np.mean(cens_occ[indices_of_mb]), np.mean(sats_occ[indices_of_mb])\n",
    "        \n",
    "        cens_avgs[simname].append(cens_avg)\n",
    "\n",
    "        #med_conc = np.median([indices_of_mb, 5])\n",
    "        med_conc = 0.5\n",
    "\n",
    "        (binned_cens, c_bins,_), (binned_sats,_,_) = binned_statistic(conditional_conc_percentiles[indices_of_mb],\\\n",
    "                                                                      cens_occ[indices_of_mb],bins=conc_bins), \\\n",
    "                                   binned_statistic(conditional_conc_percentiles[indices_of_mb],\\\n",
    "                                                                      sats_occ[indices_of_mb],bins=conc_bins)\n",
    "            \n",
    "        binned_censes[simname].append(binned_cens)\n",
    "\n",
    "        cen_bin_counts, _, _ = binned_statistic(conditional_conc_percentiles[indices_of_mb],\\\n",
    "                                                cens_occ[indices_of_mb], bins = conc_bins, statistic='sum')\n",
    "        sat_bin_counts, _, _ = binned_statistic(conditional_conc_percentiles[indices_of_mb],\\\n",
    "                                                sats_occ[indices_of_mb], bins = conc_bins, statistic='sum')\n",
    "\n",
    "        c_bin_centers = (c_bins[1:]+c_bins[:-1])/2\n",
    "        #plt.plot(c_bin_centers,(binned_sats-sats_avg), color = c,lw=2.5, label = r\"%.1f $\\log M_{\\odot}$\"%np.log10(bin_center) )\n",
    "        #plt.errorbar(c_bin_centers,(binned_sats-sats_avg), yerr=np.sqrt(binned_sats/sat_bin_counts),color = c,label = r\"%.1f $\\log M_{\\odot}$\"%np.log10(bin_center))\n",
    "        "
   ]
  },
  {
   "cell_type": "code",
   "execution_count": null,
   "metadata": {
    "scrolled": false
   },
   "outputs": [],
   "source": [
    "for binned_cens_chin, binned_cens_aard, cens_avg_chin, cens_avg_aard, bin_center, c in izip(binned_censes['chinchilla'],\\\n",
    "                                                                    binned_censes['aardvark'],\\\n",
    "                                                                    cens_avgs['chinchilla'],\\\n",
    "                                                                    cens_avgs['aardvark'],\\\n",
    "                                                                    bin_centers, \n",
    "                                                                    colors):\n",
    "    \n",
    "    print binned_cens_chin\n",
    "    print cens_avg_chin\n",
    "    plt.plot(c_bin_centers,(binned_cens_chin-cens_avg_chin),color = c)#,label = r\"%.1f $\\log M_{\\odot}$\"%np.log10(bin_center))\n",
    "    plt.plot(c_bin_centers,(binned_cens_aard-cens_avg_aard),color = c, ls = '--')\n",
    "    #plt.xscale('log')\n",
    "    plt.legend(loc='best')\n",
    "    #plt.xlim([0,25])\n",
    "    #plt.ylim([-0.1,1.1])\n",
    "    plt.xlim([-0.05, 1.2])\n",
    "    #plt.yscale('log')\n",
    "\n",
    "    plt.title(r\"$N(c|M)$ Chinchilla vs. Aardvark in %.1f $\\log M_{\\odot}$, Vpeak SHAM, \"%np.log10(bin_center))\n",
    "    plt.show()"
   ]
  },
  {
   "cell_type": "code",
   "execution_count": null,
   "metadata": {
    "scrolled": false
   },
   "outputs": [],
   "source": [
    "for binned_cens_chin, binned_cens_aard, cens_avg_chin, cens_avg_aard, bin_center, c in izip(binned_censes['chinchilla'],\\\n",
    "                                                                    binned_censes['aardvark'],\\\n",
    "                                                                    cens_avgs['chinchilla'],\\\n",
    "                                                                    cens_avgs['aardvark'],\\\n",
    "                                                                    bin_centers, \n",
    "                                                                    colors):\n",
    "    plt.plot(c_bin_centers,(binned_cens_chin-cens_avg_chin)/(binned_cens_aard-cens_avg_aard),color = c)#,label = r\"%.1f $\\log M_{\\odot}$\"%np.log10(bin_center))\n",
    "\n",
    "    #plt.xscale('log')\n",
    "    plt.legend(loc='best')\n",
    "    #plt.xlim([0,25])\n",
    "    #plt.ylim([-0.1,1.1])\n",
    "    plt.xlim([-0.05, 1.2])\n",
    "    #plt.yscale('log')\n",
    "\n",
    "    plt.title(r\"$N(c|M)$ Chinchilla/Aardvark in %.1f $\\log M_{\\odot}$, Vpeak SHAM, \"%np.log10(bin_center))\n",
    "    plt.show()"
   ]
  },
  {
   "cell_type": "code",
   "execution_count": null,
   "metadata": {
    "collapsed": true
   },
   "outputs": [],
   "source": []
  }
 ],
 "metadata": {
  "kernelspec": {
   "display_name": "Python 2",
   "language": "python",
   "name": "python2"
  },
  "language_info": {
   "codemirror_mode": {
    "name": "ipython",
    "version": 2
   },
   "file_extension": ".py",
   "mimetype": "text/x-python",
   "name": "python",
   "nbconvert_exporter": "python",
   "pygments_lexer": "ipython2",
   "version": "2.7.13"
  }
 },
 "nbformat": 4,
 "nbformat_minor": 1
}

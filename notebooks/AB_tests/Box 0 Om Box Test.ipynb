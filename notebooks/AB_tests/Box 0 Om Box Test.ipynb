{
 "cells": [
  {
   "cell_type": "code",
   "execution_count": 61,
   "metadata": {
    "collapsed": true
   },
   "outputs": [],
   "source": [
    "from pearce.mocks.kittens import TrainingBox"
   ]
  },
  {
   "cell_type": "code",
   "execution_count": 62,
   "metadata": {
    "collapsed": true
   },
   "outputs": [],
   "source": [
    "import numpy as np\n",
    "from halotools.mock_observables import tpcf_one_two_halo_decomp"
   ]
  },
  {
   "cell_type": "code",
   "execution_count": 63,
   "metadata": {
    "collapsed": true
   },
   "outputs": [],
   "source": [
    "from matplotlib import pyplot as plt\n",
    "%matplotlib inline\n",
    "import seaborn as sns\n",
    "sns.set()"
   ]
  },
  {
   "cell_type": "code",
   "execution_count": 64,
   "metadata": {
    "collapsed": false
   },
   "outputs": [],
   "source": [
    "r_bins = np.logspace(-1.1, 1.6, 11)"
   ]
  },
  {
   "cell_type": "code",
   "execution_count": 65,
   "metadata": {
    "collapsed": true
   },
   "outputs": [],
   "source": [
    "rbc = (r_bins[1:]+r_bins[:-1])/2.0"
   ]
  },
  {
   "cell_type": "raw",
   "metadata": {
    "collapsed": false,
    "scrolled": true
   },
   "source": [
    "xi = np.zeros((40, 10*3))\n",
    "for i in xrange(40):\n",
    "    print i\n",
    "    cat = TrainingBox(i, system = 'ki-ls')\n",
    "    cat.load(1.0, HOD='zheng07')\n",
    "    cat.populate(min_ptcl = 100)\n",
    "    \n",
    "    #xi[i, :10] = cat.calc_xi(r_bins).squeeze()#, halo=True).squeeze()\n",
    "    \n",
    "    #gal_pos = np.vstack(np.array(cat.model.mock.galaxy_table['%s'%coord]) for coord in ['x', 'y', 'z']).T/cat.h           \n",
    "    #xi_1h, xi_2h = tpcf_one_two_halo_decomp(gal_pos, cat.model.mock.galaxy_table['halo_hostid'], r_bins, do_cross = False,\\\n",
    "                                                  estimator = 'Landy-Szalay', num_threads = 4, period = cat.Lbox/cat.h)\n",
    "                   \n",
    "    #xi[i, 10:] = np.r_[xi_1h.squeeze(), xi_2h.squeeze()]\n",
    "    #del cat"
   ]
  },
  {
   "cell_type": "raw",
   "metadata": {
    "collapsed": true
   },
   "source": [
    "for boxno in xrange(40):\n",
    "    cat = TrainingBox(boxno, system = 'ki-ls')\n",
    "    cat.load_catalog(1.0)\n",
    "\n",
    "    concs = cat.halocat.halo_table['halo_nfw_conc']\n",
    "\n",
    "    idxs = np.isfinite(concs)\n",
    "    #print np.sum(~idxs)*1.0/idxs.shape[0]\n",
    "\n",
    "    sns.distplot(np.log10(concs[idxs]))\n",
    "    plt.title('Box %d'%boxno)\n",
    "    plt.show()"
   ]
  },
  {
   "cell_type": "code",
   "execution_count": 136,
   "metadata": {
    "collapsed": true
   },
   "outputs": [],
   "source": [
    "boxno = 1\n",
    "cat = TrainingBox(boxno, system = 'ki-ls')"
   ]
  },
  {
   "cell_type": "code",
   "execution_count": 137,
   "metadata": {
    "collapsed": false
   },
   "outputs": [
    {
     "data": {
      "text/plain": [
       "['/nfs/slac/g/ki/ki22/cosmo/beckermr/tinkers_emu/Box001/halos/m200b/outbgc2_0.list',\n",
       " '/nfs/slac/g/ki/ki22/cosmo/beckermr/tinkers_emu/Box001/halos/m200b/outbgc2_1.list',\n",
       " '/nfs/slac/g/ki/ki22/cosmo/beckermr/tinkers_emu/Box001/halos/m200b/outbgc2_2.list',\n",
       " '/nfs/slac/g/ki/ki22/cosmo/beckermr/tinkers_emu/Box001/halos/m200b/outbgc2_3.list',\n",
       " '/nfs/slac/g/ki/ki22/cosmo/beckermr/tinkers_emu/Box001/halos/m200b/outbgc2_4.list',\n",
       " '/nfs/slac/g/ki/ki22/cosmo/beckermr/tinkers_emu/Box001/halos/m200b/outbgc2_5.list',\n",
       " '/nfs/slac/g/ki/ki22/cosmo/beckermr/tinkers_emu/Box001/halos/m200b/outbgc2_6.list',\n",
       " '/nfs/slac/g/ki/ki22/cosmo/beckermr/tinkers_emu/Box001/halos/m200b/outbgc2_7.list',\n",
       " '/nfs/slac/g/ki/ki22/cosmo/beckermr/tinkers_emu/Box001/halos/m200b/outbgc2_8.list',\n",
       " '/nfs/slac/g/ki/ki22/cosmo/beckermr/tinkers_emu/Box001/halos/m200b/outbgc2_9.list']"
      ]
     },
     "execution_count": 137,
     "metadata": {},
     "output_type": "execute_result"
    }
   ],
   "source": [
    "cat.filenames"
   ]
  },
  {
   "cell_type": "code",
   "execution_count": 145,
   "metadata": {
    "collapsed": false
   },
   "outputs": [
    {
     "data": {
      "text/plain": [
       "'/nfs/slac/g/ki/ki22/cosmo/beckermr/tinkers_emu/Box001/halos/m200b'"
      ]
     },
     "execution_count": 145,
     "metadata": {},
     "output_type": "execute_result"
    }
   ],
   "source": [
    "halodir"
   ]
  },
  {
   "cell_type": "code",
   "execution_count": 138,
   "metadata": {
    "collapsed": false
   },
   "outputs": [
    {
     "name": "stdout",
     "output_type": "stream",
     "text": [
      "0 9\n"
     ]
    }
   ],
   "source": [
    "from os.path import join, dirname\n",
    "from csv import DictReader, DictWriter\n",
    "\n",
    "fieldnames = '#ID DescID M200b Vmax Vrms R200b Rs Np X Y Z VX VY VZ Parent_ID'.split(' ')\n",
    "\n",
    "missed_keys = dict()\n",
    "#cosmo_idx = 0\n",
    "snapshot_idx = 9\n",
    "\n",
    "halodir = dirname(cat.filenames[snapshot_idx])\n",
    "outlist_fname = join(halodir, \"out_%d.list\"%snapshot_idx)\n",
    "\n",
    "print cosmo_idx, snapshot_idx\n",
    "\n",
    "outlist_rs = dict()\n",
    "outlist_rvir = dict()\n",
    "with open(outlist_fname) as csvfile:\n",
    "    reader = DictReader(filter(lambda row: row[0]!='#' or row[:3]=='#ID', csvfile), delimiter = ' ')\n",
    "    for row in reader:\n",
    "        outlist_rs[row['#ID']] = row['Rs']\n",
    "        outlist_rvir[row['#ID']] = row['R200b']"
   ]
  },
  {
   "cell_type": "code",
   "execution_count": 139,
   "metadata": {
    "collapsed": false
   },
   "outputs": [],
   "source": [
    "outlist_rs_arr = np.array(outlist_rs.values()).astype(float)\n",
    "outlist_rvir_arr = np.array(outlist_rvir.values()).astype(float)\n",
    "\n",
    "outlist_concs = outlist_rvir_arr/outlist_rs_arr"
   ]
  },
  {
   "cell_type": "code",
   "execution_count": 140,
   "metadata": {
    "collapsed": false
   },
   "outputs": [
    {
     "data": {
      "text/plain": [
       "(9537295,)"
      ]
     },
     "execution_count": 140,
     "metadata": {},
     "output_type": "execute_result"
    }
   ],
   "source": [
    "outlist_concs.shape"
   ]
  },
  {
   "cell_type": "code",
   "execution_count": 141,
   "metadata": {
    "collapsed": false
   },
   "outputs": [
    {
     "name": "stderr",
     "output_type": "stream",
     "text": [
      "/u/ki/swmclau2/.local/lib/python2.7/site-packages/halotools-0.7.dev5005-py2.7-linux-x86_64.egg/halotools/sim_manager/cached_halo_catalog.py:567: H5pyDeprecationWarning: The default file mode will change to 'r' (read-only) in h5py 3.0. To suppress this warning, pass the mode you need to h5py.File(), or set the global default h5.get_config().default_file_mode, or set the environment variable H5PY_DEFAULT_READONLY=1. Available modes are: 'r', 'r+', 'w', 'w-'/'x', 'a'. See the docs for details.\n",
      "  f = h5py.File(self.log_entry.fname)\n"
     ]
    }
   ],
   "source": [
    "cat.load(1.0)"
   ]
  },
  {
   "cell_type": "code",
   "execution_count": 142,
   "metadata": {
    "collapsed": false
   },
   "outputs": [
    {
     "name": "stderr",
     "output_type": "stream",
     "text": [
      "/u/ki/swmclau2/.local/lib/python2.7/site-packages/halotools-0.7.dev5005-py2.7-linux-x86_64.egg/halotools/sim_manager/halo_table_cache_log_entry.py:404: H5pyDeprecationWarning: The default file mode will change to 'r' (read-only) in h5py 3.0. To suppress this warning, pass the mode you need to h5py.File(), or set the global default h5.get_config().default_file_mode, or set the environment variable H5PY_DEFAULT_READONLY=1. Available modes are: 'r', 'r+', 'w', 'w-'/'x', 'a'. See the docs for details.\n",
      "  f = h5py.File(self.fname)\n",
      "/u/ki/swmclau2/.local/lib/python2.7/site-packages/halotools-0.7.dev5005-py2.7-linux-x86_64.egg/halotools/sim_manager/halo_table_cache_log_entry.py:221: H5pyDeprecationWarning: The default file mode will change to 'r' (read-only) in h5py 3.0. To suppress this warning, pass the mode you need to h5py.File(), or set the global default h5.get_config().default_file_mode, or set the environment variable H5PY_DEFAULT_READONLY=1. Available modes are: 'r', 'r+', 'w', 'w-'/'x', 'a'. See the docs for details.\n",
      "  f = h5py.File(self.fname)\n",
      "/u/ki/swmclau2/.local/lib/python2.7/site-packages/halotools-0.7.dev5005-py2.7-linux-x86_64.egg/halotools/sim_manager/halo_table_cache_log_entry.py:307: H5pyDeprecationWarning: The default file mode will change to 'r' (read-only) in h5py 3.0. To suppress this warning, pass the mode you need to h5py.File(), or set the global default h5.get_config().default_file_mode, or set the environment variable H5PY_DEFAULT_READONLY=1. Available modes are: 'r', 'r+', 'w', 'w-'/'x', 'a'. See the docs for details.\n",
      "  f = h5py.File(self.fname)\n"
     ]
    },
    {
     "data": {
      "text/plain": [
       "9537295"
      ]
     },
     "execution_count": 142,
     "metadata": {},
     "output_type": "execute_result"
    }
   ],
   "source": [
    "len(cat.halocat.halo_table)"
   ]
  },
  {
   "cell_type": "code",
   "execution_count": 143,
   "metadata": {
    "collapsed": false
   },
   "outputs": [],
   "source": [
    "arr_idxs = np.isfinite(outlist_concs)\n",
    "cat_idxs = np.isfinite(cat.halocat.halo_table['halo_nfw_conc'])"
   ]
  },
  {
   "cell_type": "code",
   "execution_count": 144,
   "metadata": {
    "collapsed": false
   },
   "outputs": [
    {
     "data": {
      "text/plain": [
       "<matplotlib.text.Text at 0x7fdbfabe8710>"
      ]
     },
     "execution_count": 144,
     "metadata": {},
     "output_type": "execute_result"
    },
    {
     "data": {
      "image/png": "[encoded data removed]",
      "text/plain": [
       "<matplotlib.figure.Figure at 0x7fdc4ef92750>"
      ]
     },
     "metadata": {},
     "output_type": "display_data"
    }
   ],
   "source": [
    "sns.distplot(np.log10(outlist_concs[arr_idxs]))\n",
    "sns.distplot(np.log10(cat.halocat.halo_table['halo_nfw_conc'][cat_idxs]))\n",
    "plt.title('Box %d'%boxno)"
   ]
  },
  {
   "cell_type": "code",
   "execution_count": 128,
   "metadata": {
    "collapsed": false
   },
   "outputs": [],
   "source": [
    "cat_rs = cat.halocat.halo_table['halo_rs']"
   ]
  },
  {
   "cell_type": "code",
   "execution_count": 129,
   "metadata": {
    "collapsed": false
   },
   "outputs": [],
   "source": [
    "so_rs, sc_rs = sorted(outlist_rs_arr), sorted(cat_rs)"
   ]
  },
  {
   "cell_type": "code",
   "execution_count": 130,
   "metadata": {
    "collapsed": false,
    "scrolled": false
   },
   "outputs": [
    {
     "data": {
      "image/png": "[encoded data removed]",
      "text/plain": [
       "<matplotlib.figure.Figure at 0x7fdbf4ce1990>"
      ]
     },
     "metadata": {},
     "output_type": "display_data"
    }
   ],
   "source": [
    "plt.hist(so_rs, alpha = 0.3)\n",
    "plt.hist(sc_rs, alpha = 0.3)\n",
    "plt.loglog();"
   ]
  },
  {
   "cell_type": "code",
   "execution_count": 131,
   "metadata": {
    "collapsed": false
   },
   "outputs": [],
   "source": [
    "so_rs = np.array(so_rs)/1000"
   ]
  },
  {
   "cell_type": "code",
   "execution_count": 132,
   "metadata": {
    "collapsed": false
   },
   "outputs": [],
   "source": [
    "sc_rs = np.array(sc_rs)"
   ]
  },
  {
   "cell_type": "code",
   "execution_count": 135,
   "metadata": {
    "collapsed": false
   },
   "outputs": [
    {
     "data": {
      "text/plain": [
       "(array([1.166551, 1.16876 , 1.170837, 1.172706, 1.173435, 1.175669,\n",
       "        1.178514, 1.179364, 1.179552, 1.185505, 1.185936, 1.189598,\n",
       "        1.191034, 1.194877, 1.195465, 1.195893, 1.201139, 1.201318,\n",
       "        1.208251, 1.221391, 1.228048, 1.23174 , 1.233371, 1.233784,\n",
       "        1.234081, 1.234843, 1.239313, 1.248351, 1.250539, 1.251836,\n",
       "        1.254106, 1.272076, 1.274141, 1.276328, 1.278318, 1.282019,\n",
       "        1.291203, 1.296845, 1.309911, 1.312583, 1.312787, 1.316627,\n",
       "        1.31821 , 1.32156 , 1.326773, 1.328898, 1.335692, 1.335851,\n",
       "        1.337527, 1.339705, 1.340078, 1.345723, 1.345782, 1.346101,\n",
       "        1.346937, 1.352792, 1.361605, 1.363058, 1.366344, 1.368634,\n",
       "        1.372277, 1.372996, 1.375814, 1.384911, 1.394169, 1.398047,\n",
       "        1.406694, 1.413024, 1.416634, 1.418892, 1.420147, 1.435947,\n",
       "        1.436082, 1.447801, 1.479046, 1.492542, 1.499214, 1.504311,\n",
       "        1.506773, 1.519541, 1.521205, 1.534266, 1.584563, 1.58914 ,\n",
       "        1.630004, 1.636454, 1.642735, 1.653295, 1.690613, 1.704998,\n",
       "        1.770431, 1.786943, 1.79951 , 1.819427, 1.865483, 1.93627 ,\n",
       "        1.93788 , 2.011709, 2.140498, 2.241241]),\n",
       " array([1.171111 , 1.172706 , 1.172861 , 1.175842 , 1.179552 , 1.180777 ,\n",
       "        1.182597 , 1.18418  , 1.1882399, 1.189598 , 1.19321  , 1.194256 ,\n",
       "        1.1949229, 1.1958929, 1.201318 , 1.204193 , 1.208251 , 1.208668 ,\n",
       "        1.212522 , 1.214465 , 1.215181 , 1.221765 , 1.227957 , 1.231712 ,\n",
       "        1.233863 , 1.234102 , 1.235334 , 1.23556  , 1.237025 , 1.25026  ,\n",
       "        1.25059  , 1.25508  , 1.263268 , 1.272076 , 1.278318 , 1.282943 ,\n",
       "        1.2862159, 1.286764 , 1.292182 , 1.296515 , 1.2979289, 1.3006281,\n",
       "        1.312141 , 1.3193669, 1.3204399, 1.3263731, 1.3267729, 1.328258 ,\n",
       "        1.33541  , 1.335692 , 1.339946 , 1.340078 , 1.3446541, 1.3447601,\n",
       "        1.345782 , 1.347507 , 1.350225 , 1.352428 , 1.356171 , 1.359543 ,\n",
       "        1.360836 , 1.371989 , 1.374221 , 1.376729 , 1.378118 , 1.3782581,\n",
       "        1.398975 , 1.400375 , 1.4066939, 1.4132111, 1.414827 , 1.4166341,\n",
       "        1.4359471, 1.4407729, 1.478751 , 1.479818 , 1.4934909, 1.497986 ,\n",
       "        1.5043111, 1.505575 , 1.518742 , 1.526791 , 1.588054 , 1.590426 ,\n",
       "        1.629212 , 1.6334821, 1.644296 , 1.652302 , 1.693099 , 1.7142559,\n",
       "        1.770641 , 1.7730861, 1.8139969, 1.815874 , 1.865709 , 1.933868 ,\n",
       "        1.935756 , 2.012833 , 2.1428368, 2.237226 ], dtype=float32))"
      ]
     },
     "execution_count": 135,
     "metadata": {},
     "output_type": "execute_result"
    }
   ],
   "source": [
    "so_rs[-100:], sc_rs[-100:]"
   ]
  },
  {
   "cell_type": "code",
   "execution_count": null,
   "metadata": {
    "collapsed": true
   },
   "outputs": [],
   "source": []
  }
 ],
 "metadata": {
  "kernelspec": {
   "display_name": "Python [conda env:hodemulator]",
   "language": "python",
   "name": "conda-env-hodemulator-py"
  },
  "language_info": {
   "codemirror_mode": {
    "name": "ipython",
    "version": 2
   },
   "file_extension": ".py",
   "mimetype": "text/x-python",
   "name": "python",
   "nbconvert_exporter": "python",
   "pygments_lexer": "ipython2",
   "version": "2.7.13"
  }
 },
 "nbformat": 4,
 "nbformat_minor": 0
}

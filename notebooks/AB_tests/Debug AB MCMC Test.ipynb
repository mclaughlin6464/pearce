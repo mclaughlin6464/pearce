{
 "cells": [
  {
   "cell_type": "markdown",
   "metadata": {},
   "source": [
    "I think that my simulated AB samples didn't actually ahve any assembly bias in them. I'm gonna recreate the populating procedure to test that. "
   ]
  },
  {
   "cell_type": "code",
   "execution_count": 1,
   "metadata": {
    "collapsed": true
   },
   "outputs": [],
   "source": [
    "import matplotlib\n",
    "#matplotlib.use('Agg')\n",
    "from matplotlib import pyplot as plt\n",
    "%matplotlib inline\n",
    "import seaborn as sns\n",
    "sns.set()"
   ]
  },
  {
   "cell_type": "code",
   "execution_count": 2,
   "metadata": {
    "collapsed": false
   },
   "outputs": [
    {
     "name": "stderr",
     "output_type": "stream",
     "text": [
      " /u/ki/swmclau2/.conda/envs/hodemulator/lib/python2.7/site-packages/sklearn/ensemble/weight_boosting.py:29: DeprecationWarning:numpy.core.umath_tests is an internal NumPy module and should not be imported. It will be removed in a future NumPy release.\n"
     ]
    }
   ],
   "source": [
    "import numpy as np\n",
    "import h5py\n",
    "from chainconsumer import ChainConsumer\n",
    "#from corner import corner\n",
    "from ast import literal_eval\n",
    "from pearce.emulator import LemonPepperWet\n",
    "from os import path\n",
    "from scipy.linalg import inv"
   ]
  },
  {
   "cell_type": "code",
   "execution_count": 3,
   "metadata": {
    "collapsed": true
   },
   "outputs": [],
   "source": [
    "fname = '/u/ki/swmclau2/des/PearceMCMC/CAB_HOD_fixed_cosmo_lsd_wp_ds_rmin_None_CAB.hdf5'"
   ]
  },
  {
   "cell_type": "code",
   "execution_count": 4,
   "metadata": {
    "collapsed": false
   },
   "outputs": [],
   "source": [
    "f = h5py.File(fname, 'r')"
   ]
  },
  {
   "cell_type": "code",
   "execution_count": 5,
   "metadata": {
    "collapsed": false
   },
   "outputs": [
    {
     "data": {
      "text/plain": [
       "[u'chain_fixed_params',\n",
       " u'cov',\n",
       " u'dlogz',\n",
       " u'emu_cov_fname',\n",
       " u'emu_hps',\n",
       " u'emu_type',\n",
       " u'fixed_params',\n",
       " u'mcmc_type',\n",
       " u'nburn',\n",
       " u'nlive',\n",
       " u'nsteps',\n",
       " u'nwalkers',\n",
       " u'obs',\n",
       " u'param_names',\n",
       " u'seed',\n",
       " u'sim',\n",
       " u'training_file']"
      ]
     },
     "execution_count": 5,
     "metadata": {},
     "output_type": "execute_result"
    }
   ],
   "source": [
    "f.attrs.keys()"
   ]
  },
  {
   "cell_type": "code",
   "execution_count": 6,
   "metadata": {
    "collapsed": false
   },
   "outputs": [],
   "source": [
    "sim_cfg = eval(f.attrs['sim'])"
   ]
  },
  {
   "cell_type": "code",
   "execution_count": 7,
   "metadata": {
    "collapsed": true
   },
   "outputs": [],
   "source": [
    "from pearce.mocks import cat_dict"
   ]
  },
  {
   "cell_type": "code",
   "execution_count": 8,
   "metadata": {
    "collapsed": false
   },
   "outputs": [],
   "source": [
    "#cat = cat_dict[sim_cfg['simname']](**sim_cfg['sim_hps'])#construct the specified catalog!\n",
    "cat = cat_dict[sim_cfg['simname']](boxno=3, realization=4)#construct the specified catalog!"
   ]
  },
  {
   "cell_type": "code",
   "execution_count": 9,
   "metadata": {
    "collapsed": false
   },
   "outputs": [
    {
     "data": {
      "text/plain": [
       "{'cosmo_params': {'H0': 65.7317,\n",
       "  'Neff': 3.2,\n",
       "  'ns': 0.971515,\n",
       "  'ombh2': 0.022762900000000003,\n",
       "  'omch2': 0.11283,\n",
       "  'sigma8': 0.7542319000000001,\n",
       "  'w0': -0.861513},\n",
       " 'gal_type': 'HOD',\n",
       " 'hod_name': 'hsabZheng07',\n",
       " 'hod_params': {'alpha': 1.083,\n",
       "  'conc_gal_bias': 1.0,\n",
       "  'logM0': 13.2,\n",
       "  'logM1': 14.2,\n",
       "  'logMmin': 13.06167443892987,\n",
       "  'mean_occupation_centrals_assembias_param1': 1.0,\n",
       "  'mean_occupation_satellites_assembias_param1': -1.0,\n",
       "  'sigma_logM': 0.2},\n",
       " 'min_ptcl': 100,\n",
       " 'nd': '5e-4',\n",
       " 'scale_factor': 1.0,\n",
       " 'sim_hps': {'boxno': 1,\n",
       "  'downsample_factor': 0.01,\n",
       "  'particles': True,\n",
       "  'realization': 1,\n",
       "  'sec_haloprop_key': 'halo_local_density_10',\n",
       "  'system': 'ki-ls'},\n",
       " 'simname': 'testbox'}"
      ]
     },
     "execution_count": 9,
     "metadata": {},
     "output_type": "execute_result"
    }
   ],
   "source": [
    "sim_cfg"
   ]
  },
  {
   "cell_type": "raw",
   "metadata": {},
   "source": [
    "cat.load(sim_cfg['scale_factor'], HOD=sim_cfg['hod_name'], **sim_cfg['sim_hps'])"
   ]
  },
  {
   "cell_type": "code",
   "execution_count": 10,
   "metadata": {
    "collapsed": false
   },
   "outputs": [
    {
     "name": "stderr",
     "output_type": "stream",
     "text": [
      " /u/ki/swmclau2/.local/lib/python2.7/site-packages/halotools-0.7.dev5005-py2.7-linux-x86_64.egg/halotools/sim_manager/cached_halo_catalog.py:567: H5pyDeprecationWarning:The default file mode will change to 'r' (read-only) in h5py 3.0. To suppress this warning, pass the mode you need to h5py.File(), or set the global default h5.get_config().default_file_mode, or set the environment variable H5PY_DEFAULT_READONLY=1. Available modes are: 'r', 'r+', 'w', 'w-'/'x', 'a'. See the docs for details.\n"
     ]
    }
   ],
   "source": [
    "cat.load(sim_cfg['scale_factor'], HOD='corrZheng07',\\\n",
    "         hod_kwargs={'sec_haloprop_key':'halo_nfw_conc'})"
   ]
  },
  {
   "cell_type": "code",
   "execution_count": 11,
   "metadata": {
    "collapsed": false
   },
   "outputs": [
    {
     "name": "stderr",
     "output_type": "stream",
     "text": [
      " /u/ki/swmclau2/.local/lib/python2.7/site-packages/halotools-0.7.dev5005-py2.7-linux-x86_64.egg/halotools/sim_manager/halo_table_cache_log_entry.py:404: H5pyDeprecationWarning:The default file mode will change to 'r' (read-only) in h5py 3.0. To suppress this warning, pass the mode you need to h5py.File(), or set the global default h5.get_config().default_file_mode, or set the environment variable H5PY_DEFAULT_READONLY=1. Available modes are: 'r', 'r+', 'w', 'w-'/'x', 'a'. See the docs for details.\n",
      " /u/ki/swmclau2/.local/lib/python2.7/site-packages/halotools-0.7.dev5005-py2.7-linux-x86_64.egg/halotools/sim_manager/halo_table_cache_log_entry.py:221: H5pyDeprecationWarning:The default file mode will change to 'r' (read-only) in h5py 3.0. To suppress this warning, pass the mode you need to h5py.File(), or set the global default h5.get_config().default_file_mode, or set the environment variable H5PY_DEFAULT_READONLY=1. Available modes are: 'r', 'r+', 'w', 'w-'/'x', 'a'. See the docs for details.\n",
      " /u/ki/swmclau2/.conda/envs/hodemulator/lib/python2.7/importlib/__init__.py:37: H5pyDeprecationWarning:The h5py.highlevel module is deprecated, code should import directly from h5py, e.g. 'from h5py import File'.\n",
      " /u/ki/swmclau2/.local/lib/python2.7/site-packages/halotools-0.7.dev5005-py2.7-linux-x86_64.egg/halotools/sim_manager/halo_table_cache_log_entry.py:307: H5pyDeprecationWarning:The default file mode will change to 'r' (read-only) in h5py 3.0. To suppress this warning, pass the mode you need to h5py.File(), or set the global default h5.get_config().default_file_mode, or set the environment variable H5PY_DEFAULT_READONLY=1. Available modes are: 'r', 'r+', 'w', 'w-'/'x', 'a'. See the docs for details.\n",
      " /u/ki/swmclau2/.local/lib/python2.7/site-packages/halotools-0.7.dev5005-py2.7-linux-x86_64.egg/halotools/empirical_models/phase_space_models/analytic_models/monte_carlo_helpers.py:205: FutureWarning:Using a non-tuple sequence for multidimensional indexing is deprecated; use `arr[tuple(seq)]` instead of `arr[seq]`. In the future this will be interpreted as an array index, `arr[np.array(seq)]`, which will result either in an error or a different result.\n",
      " /u/ki/swmclau2/.local/lib/python2.7/site-packages/halotools-0.7.dev5005-py2.7-linux-x86_64.egg/halotools/empirical_models/phase_space_models/analytic_models/monte_carlo_helpers.py:522: FutureWarning:Using a non-tuple sequence for multidimensional indexing is deprecated; use `arr[tuple(seq)]` instead of `arr[seq]`. In the future this will be interpreted as an array index, `arr[np.array(seq)]`, which will result either in an error or a different result.\n"
     ]
    }
   ],
   "source": [
    "cat.populate(sim_cfg['hod_params'])"
   ]
  },
  {
   "cell_type": "code",
   "execution_count": 12,
   "metadata": {
    "collapsed": false
   },
   "outputs": [
    {
     "data": {
      "text/plain": [
       "{'alpha': 1.083,\n",
       " 'conc_gal_bias': 1.0,\n",
       " 'logM0': 13.2,\n",
       " 'logM1': 14.2,\n",
       " 'logMmin': 13.06167443892987,\n",
       " 'mean_occupation_centrals_assembias_corr1': 0.5,\n",
       " 'mean_occupation_centrals_assembias_param1': 1.0,\n",
       " 'mean_occupation_satellites_assembias_corr1': 0.5,\n",
       " 'mean_occupation_satellites_assembias_param1': -1.0,\n",
       " 'sigma_logM': 0.2}"
      ]
     },
     "execution_count": 12,
     "metadata": {},
     "output_type": "execute_result"
    }
   ],
   "source": [
    "cat.model.param_dict"
   ]
  },
  {
   "cell_type": "code",
   "execution_count": 13,
   "metadata": {
    "collapsed": true
   },
   "outputs": [],
   "source": [
    "cat.model.param_dict['mean_occupation_centrals_assembias_param1'] = 0.6\n",
    "cat.model.param_dict['mean_occupation_satellites_assembias_param1'] = -0.3"
   ]
  },
  {
   "cell_type": "code",
   "execution_count": 14,
   "metadata": {
    "collapsed": false
   },
   "outputs": [
    {
     "data": {
      "text/plain": [
       "{'_assembias_strength_abscissa': [2],\n",
       " '_attrs_to_inherit': ['threshold'],\n",
       " '_galprop_dtypes_to_allocate': dtype([('halo_num_centrals', '<i4')]),\n",
       " '_loginterp': True,\n",
       " '_lower_occupation_bound': 0.0,\n",
       " '_method_name_to_decorate': 'mean_occupation',\n",
       " '_methods_to_inherit': ['mc_occupation',\n",
       "  'mean_occupation',\n",
       "  'assembias_strength'],\n",
       " '_mock_generation_calling_sequence': ['mc_occupation'],\n",
       " '_split_abscissa': [2],\n",
       " '_split_ordinates': [0.5],\n",
       " '_upper_occupation_bound': 1.0,\n",
       " 'baseline_mean_occupation': <bound method CorrAssembiasZheng07Cens.mean_occupation of <pearce.mocks.customHODModels.CorrAssembiasZheng07Cens object at 0x7f159cab3310>>,\n",
       " 'feature_name': 'occupation',\n",
       " 'gal_type': 'centrals',\n",
       " 'lower_bound_mean_occupation_centrals': 0.0,\n",
       " 'mean_occupation': <function halotools.empirical_models.occupation_models.zheng07_components.mean_occupation>,\n",
       " 'param_dict': {'logMmin': 13.06167443892987,\n",
       "  'mean_occupation_centrals_assembias_corr1': 0.5,\n",
       "  'sigma_logM': 0.2},\n",
       " 'prim_haloprop_key': 'halo_mvir',\n",
       " 'publications': ['arXiv:0408564', 'arXiv:0703457', 'arXiv:1512.03050'],\n",
       " 'redshift': 0.0,\n",
       " 'sec_haloprop_key': 'halo_nfw_conc',\n",
       " 'threshold': -20,\n",
       " 'upper_bound_mean_occupation_centrals': 1.0}"
      ]
     },
     "execution_count": 14,
     "metadata": {},
     "output_type": "execute_result"
    }
   ],
   "source": [
    "cat.model.model_dictionary['centrals_occupation'].__dict__"
   ]
  },
  {
   "cell_type": "code",
   "execution_count": 15,
   "metadata": {
    "collapsed": true
   },
   "outputs": [],
   "source": [
    "r_bins = np.logspace(-1, 1.6, 19)\n",
    "rbc = (r_bins[1:]+r_bins[:-1])/2.0"
   ]
  },
  {
   "cell_type": "code",
   "execution_count": 16,
   "metadata": {
    "collapsed": true
   },
   "outputs": [],
   "source": [
    "wp0 = cat.calc_wp(r_bins)"
   ]
  },
  {
   "cell_type": "code",
   "execution_count": 17,
   "metadata": {
    "collapsed": false
   },
   "outputs": [
    {
     "data": {
      "image/png": "[encoded data removed]",
      "text/plain": [
       "<matplotlib.figure.Figure at 0x7f159af05310>"
      ]
     },
     "metadata": {},
     "output_type": "display_data"
    }
   ],
   "source": [
    "plt.plot(rbc, wp0)\n",
    "plt.loglog();"
   ]
  },
  {
   "cell_type": "code",
   "execution_count": 18,
   "metadata": {
    "collapsed": false
   },
   "outputs": [
    {
     "data": {
      "text/plain": [
       "{'_assembias_strength_abscissa': [2],\n",
       " '_attrs_to_inherit': ['threshold'],\n",
       " '_galprop_dtypes_to_allocate': dtype([('halo_num_centrals', '<i4')]),\n",
       " '_loginterp': True,\n",
       " '_lower_occupation_bound': 0.0,\n",
       " '_method_name_to_decorate': 'mean_occupation',\n",
       " '_methods_to_inherit': ['mc_occupation',\n",
       "  'mean_occupation',\n",
       "  'assembias_strength'],\n",
       " '_mock_generation_calling_sequence': ['mc_occupation'],\n",
       " '_split_abscissa': [2],\n",
       " '_split_ordinates': [0.5],\n",
       " '_upper_occupation_bound': 1.0,\n",
       " 'baseline_mean_occupation': <bound method CorrAssembiasZheng07Cens.mean_occupation of <pearce.mocks.customHODModels.CorrAssembiasZheng07Cens object at 0x7f159cab3310>>,\n",
       " 'feature_name': 'occupation',\n",
       " 'gal_type': 'centrals',\n",
       " 'lower_bound_mean_occupation_centrals': 0.0,\n",
       " 'mean_occupation': <function halotools.empirical_models.occupation_models.zheng07_components.mean_occupation>,\n",
       " 'param_dict': {'logMmin': 13.06167443892987,\n",
       "  'mean_occupation_centrals_assembias_corr1': 0.5,\n",
       "  'sigma_logM': 0.2},\n",
       " 'prim_haloprop_key': 'halo_mvir',\n",
       " 'publications': ['arXiv:0408564', 'arXiv:0703457', 'arXiv:1512.03050'],\n",
       " 'redshift': 0.0,\n",
       " 'sec_haloprop_key': 'halo_nfw_conc',\n",
       " 'threshold': -20,\n",
       " 'upper_bound_mean_occupation_centrals': 1.0}"
      ]
     },
     "execution_count": 18,
     "metadata": {},
     "output_type": "execute_result"
    }
   ],
   "source": [
    "cat.model.model_dictionary['centrals_occupation'].__dict__"
   ]
  },
  {
   "cell_type": "raw",
   "metadata": {},
   "source": [
    "wps = np.zeros((11, 18))\n",
    "for i,ab in enumerate(np.linspace(-1, 1, 11)):\n",
    "    print ab\n",
    "    cat.populate({'mean_occupation_satellites_assembias_param1':ab})\n",
    "\n",
    "    wp = cat.calc_wp(r_bins)\n",
    "    wps[i] = wp"
   ]
  },
  {
   "cell_type": "raw",
   "metadata": {},
   "source": [
    "plt.plot(rbc, (wps/wp0).T)\n",
    "plt.loglog();"
   ]
  },
  {
   "cell_type": "code",
   "execution_count": 19,
   "metadata": {
    "collapsed": false
   },
   "outputs": [
    {
     "data": {
      "image/png": "[encoded data removed]",
      "text/plain": [
       "<matplotlib.figure.Figure at 0x7f15dffb7b90>"
      ]
     },
     "metadata": {},
     "output_type": "display_data"
    }
   ],
   "source": [
    "plt.hist(np.log10(cat.model.mock.galaxy_table['halo_mvir']), bins=100);\n",
    "plt.yscale('log')"
   ]
  },
  {
   "cell_type": "code",
   "execution_count": 20,
   "metadata": {
    "collapsed": false
   },
   "outputs": [
    {
     "data": {
      "text/plain": [
       "12.832643"
      ]
     },
     "execution_count": 20,
     "metadata": {},
     "output_type": "execute_result"
    }
   ],
   "source": [
    "np.log10(np.min(cat.model.mock.galaxy_table['halo_mvir']))"
   ]
  },
  {
   "cell_type": "code",
   "execution_count": 21,
   "metadata": {
    "collapsed": true
   },
   "outputs": [],
   "source": [
    "mass_bin_range=(11, 16)\n",
    "mass_bin_size=0.01"
   ]
  },
  {
   "cell_type": "code",
   "execution_count": 22,
   "metadata": {
    "collapsed": false
   },
   "outputs": [],
   "source": [
    "mass_bins = np.logspace(mass_bin_range[0], mass_bin_range[1],\n",
    "                   int((mass_bin_range[1] - mass_bin_range[0]) / mass_bin_size) + 1)\n",
    "mass_bin_centers = (mass_bins[:-1] + mass_bins[1:]) / 2"
   ]
  },
  {
   "cell_type": "code",
   "execution_count": 23,
   "metadata": {
    "collapsed": false
   },
   "outputs": [],
   "source": [
    "hod = cat.calc_hod(mass_bin_range=mass_bin_range)"
   ]
  },
  {
   "cell_type": "code",
   "execution_count": 24,
   "metadata": {
    "collapsed": false
   },
   "outputs": [
    {
     "data": {
      "image/png": "[encoded data removed]",
      "text/plain": [
       "<matplotlib.figure.Figure at 0x7f15df15d790>"
      ]
     },
     "metadata": {},
     "output_type": "display_data"
    }
   ],
   "source": [
    "plt.plot(mass_bin_centers, hod)\n",
    "plt.ylim([1e-6, 1e2])\n",
    "plt.loglog();"
   ]
  },
  {
   "cell_type": "code",
   "execution_count": 25,
   "metadata": {
    "collapsed": true
   },
   "outputs": [],
   "source": [
    "from halotools.mock_observables import hod_from_mock\n",
    "from halotools.utils.table_utils import compute_conditional_percentiles\n",
    "from halotools.mock_observables import hod_from_mock, get_haloprop_of_galaxies"
   ]
  },
  {
   "cell_type": "code",
   "execution_count": 26,
   "metadata": {
    "collapsed": false
   },
   "outputs": [
    {
     "data": {
      "image/png": "[encoded data removed]",
      "text/plain": [
       "<matplotlib.figure.Figure at 0x7f15dedeb9d0>"
      ]
     },
     "metadata": {},
     "output_type": "display_data"
    }
   ],
   "source": [
    "n_splits = 4\n",
    "catalog = cat.model.mock.galaxy_table\n",
    "sec_percentiles = compute_conditional_percentiles(prim_haloprop = cat.model.mock.halo_table['halo_mvir'],\\\n",
    "                                              sec_haloprop = cat.model.mock.halo_table['halo_nfw_conc'],\n",
    "                                          prim_haloprop_bin_boundaries= mass_bins)\n",
    "\n",
    "sec_gal_percentiles = get_haloprop_of_galaxies(catalog['halo_id'], cat.model.mock.halo_table['halo_id'],\n",
    "                                           sec_percentiles)\n",
    "\n",
    "# TODO bins here\n",
    "hods = np.zeros((n_splits, len(mass_bin_centers)))\n",
    "perc_ranges = np.linspace(0,1, n_splits+1)\n",
    "\n",
    "cmap = sns.color_palette('GnBu_d', n_splits)\n",
    "#cmap = sns.dark_palette(cmap_name, n_splits)\n",
    "\n",
    "for i,c in enumerate(cmap):\n",
    "    sec_bin_gals = np.logical_and(perc_ranges[i] < sec_gal_percentiles, sec_gal_percentiles<perc_ranges[i+1])\n",
    "    sec_bin_halos = np.logical_and(perc_ranges[i] < sec_percentiles, sec_percentiles<perc_ranges[i+1])\n",
    "\n",
    "    sec_gal_hist, _ = np.histogram(catalog[sec_bin_gals]['halo_mvir'], bins = mass_bins)\n",
    "    sec_halo_hist, _= np.histogram(cat.model.mock.halo_table[sec_bin_halos]['halo_mvir'], bins = mass_bins)\n",
    "\n",
    "    hods[i, :] = sec_gal_hist*1.0/sec_halo_hist\n",
    "    plt.plot(mass_bin_centers, hods[i], c = c, label = 'p < %0.2f'%perc_ranges[i+1])\n",
    "\n",
    "\n",
    "gal_hist, _ = np.histogram(catalog['halo_mvir'], bins = mass_bins)\n",
    "halo_hist, _= np.histogram(cat.model.mock.halo_table['halo_mvir'], bins = mass_bins)\n",
    "full_hod = gal_hist*1.0/halo_hist\n",
    "\n",
    "\n",
    "plt.plot(mass_bin_centers, full_hod, label = 'Full HOD', color = 'k')\n",
    "plt.legend(loc='best')\n",
    "plt.loglog()\n",
    "plt.xlim(1e12,5e14)\n",
    "plt.ylim([1e-2, 40])\n",
    "plt.xlabel(r\"Host Halo Mass [$M_{\\odot}$]\")\n",
    "plt.ylabel(r\"$\\langle N_t | M \\rangle$\")\n",
    "plt.show()"
   ]
  },
  {
   "cell_type": "code",
   "execution_count": null,
   "metadata": {
    "collapsed": true
   },
   "outputs": [],
   "source": []
  }
 ],
 "metadata": {
  "kernelspec": {
   "display_name": "Python [default]",
   "language": "python",
   "name": "python2"
  },
  "language_info": {
   "codemirror_mode": {
    "name": "ipython",
    "version": 2
   },
   "file_extension": ".py",
   "mimetype": "text/x-python",
   "name": "python",
   "nbconvert_exporter": "python",
   "pygments_lexer": "ipython2",
   "version": "2.7.13"
  }
 },
 "nbformat": 4,
 "nbformat_minor": 1
}

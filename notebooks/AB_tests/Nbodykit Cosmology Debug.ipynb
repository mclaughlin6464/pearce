{
 "cells": [
  {
   "cell_type": "code",
   "execution_count": 9,
   "metadata": {
    "collapsed": true
   },
   "outputs": [],
   "source": [
    "from nbodykit.cosmology import Cosmology, LinearPower, ZeldovichPower"
   ]
  },
  {
   "cell_type": "code",
   "execution_count": 2,
   "metadata": {
    "collapsed": true
   },
   "outputs": [],
   "source": [
    "from astropy.cosmology import FLRW, FlatwCDM\n",
    "import numpy as np"
   ]
  },
  {
   "cell_type": "code",
   "execution_count": 3,
   "metadata": {
    "collapsed": true
   },
   "outputs": [],
   "source": [
    "def make_cosmo(param_names, param_vals):\n",
    "    \"\"\"\n",
    "    Frequently, the parameters of our input will not align with what we need.\n",
    "    So, we convert them to the appropriate format.\n",
    "    :param param_names:\n",
    "    :param param_vals:\n",
    "    :return:\n",
    "    \"\"\"\n",
    "    param_dict = dict([(pn, param_vals[pn]) for pn in param_names] )\n",
    "    # TODO it'd be nice if this could be somehow generalized.\n",
    "    param_dict['N_ncdm'] = 3.0\n",
    "    param_dict['N_ur'] = param_dict['Neff']-3.0\n",
    "    del param_dict['Neff']\n",
    "\n",
    "    #param_dict['h'] = param_dict['H0']/100\n",
    "    #del param_dict['H0']\n",
    "    param_dict['h'] = param_dict['h0']\n",
    "    del param_dict['h0']\n",
    "\n",
    "    #param_dict['w0_fld'] = param_dict['w']\n",
    "    #del param_dict['w']\n",
    "\n",
    "    #param_dict['Omega0_b'] = param_dict['Omega_b']\n",
    "    param_dict['Omega_cdm'] = param_dict['Omega_m'] - param_dict['Omega_b']\n",
    "    del param_dict['Omega_b']\n",
    "    del param_dict['Omega_m']\n",
    "\n",
    "    #param_dict['ln_1e10_A_s'] = param_dict['ln(10^{10}A_s)']\n",
    "    param_dict['A_s'] = 10**(-10)*np.exp(param_dict['ln(10^{10}A_s)'])\n",
    "    del param_dict['ln(10^{10}A_s)']\n",
    "\n",
    "    param_dict['Omega_ncdm'] = [param_dict['Omeganuh2']/(param_dict['h']**2), 0.0, 0.0]\n",
    "    del param_dict['Omeganuh2']\n",
    "\n",
    "    #FlatwCDM\n",
    "    C=Cosmology()\n",
    "    C2 = C.from_dict(param_dict)\n",
    "    C3 = C2.clone(w0_fld=param_dict['w'])\n",
    "    return C3#osmology(m_ncdm=None, **param_dict)\n"
   ]
  },
  {
   "cell_type": "code",
   "execution_count": 4,
   "metadata": {
    "collapsed": true
   },
   "outputs": [],
   "source": [
    "import pandas as pd"
   ]
  },
  {
   "cell_type": "code",
   "execution_count": 5,
   "metadata": {
    "collapsed": true
   },
   "outputs": [],
   "source": [
    "lhc = pd.read_csv('/home/users/swmclau2/Git/pearce/bin/pmesh_tests/DES_training_points.csv', sep = ' ', index_col=None)\n",
    "param_names = list(lhc)"
   ]
  },
  {
   "cell_type": "code",
   "execution_count": 6,
   "metadata": {
    "collapsed": true
   },
   "outputs": [],
   "source": [
    "k = np.logspace(-4,2,1000)"
   ]
  },
  {
   "cell_type": "code",
   "execution_count": 12,
   "metadata": {},
   "outputs": [],
   "source": [
    "for idx, row in lhc.iterrows():\n",
    "    cosmo = make_cosmo(param_names, row)\n",
    "    #astro = cosmo.to_astropy()\n",
    "    p = LinearPower(cosmo, 0.0)(k)\n",
    "    break"
   ]
  },
  {
   "cell_type": "code",
   "execution_count": null,
   "metadata": {
    "collapsed": true
   },
   "outputs": [],
   "source": []
  }
 ],
 "metadata": {
  "kernelspec": {
   "display_name": "Python 2",
   "language": "python",
   "name": "python2"
  },
  "language_info": {
   "codemirror_mode": {
    "name": "ipython",
    "version": 2
   },
   "file_extension": ".py",
   "mimetype": "text/x-python",
   "name": "python",
   "nbconvert_exporter": "python",
   "pygments_lexer": "ipython2",
   "version": "2.7.13"
  }
 },
 "nbformat": 4,
 "nbformat_minor": 2
}

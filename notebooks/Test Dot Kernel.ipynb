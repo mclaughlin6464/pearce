{
 "cells": [
  {
   "cell_type": "markdown",
   "metadata": {},
   "source": [
    "I'm gonna overwrite a lot of this notebook's old content. I changed the way I'm calculating wt, and wanna test that my training worked. "
   ]
  },
  {
   "cell_type": "code",
   "execution_count": 1,
   "metadata": {
    "collapsed": true
   },
   "outputs": [],
   "source": [
    "from pearce.emulator import *\n",
    "from pearce.mocks import cat_dict\n",
    "import numpy as np\n",
    "from os import path"
   ]
  },
  {
   "cell_type": "code",
   "execution_count": 2,
   "metadata": {
    "collapsed": true
   },
   "outputs": [],
   "source": [
    "import matplotlib\n",
    "#matplotlib.use('Agg')\n",
    "from matplotlib import pyplot as plt\n",
    "%matplotlib inline\n",
    "import seaborn as sns\n",
    "sns.set()"
   ]
  },
  {
   "cell_type": "code",
   "execution_count": 3,
   "metadata": {
    "collapsed": true
   },
   "outputs": [],
   "source": [
    "training_file = '/home/users/swmclau2/scratch/xi_zheng07_cosmo_lowmsat/PearceRedMagicXiCosmoFixedNd.hdf5'\n",
    "test_file = '/home/users/swmclau2/scratch/xi_zheng07_cosmo_test_lowmsat2/PearceRedMagicXiCosmoFixedNd_Test.hdf5'\n",
    "\n",
    "em_method = 'gp'"
   ]
  },
  {
   "cell_type": "code",
   "execution_count": 4,
   "metadata": {
    "collapsed": true
   },
   "outputs": [],
   "source": [
    "a = 1.0\n",
    "z = 1.0/a - 1.0"
   ]
  },
  {
   "cell_type": "code",
   "execution_count": 5,
   "metadata": {
    "collapsed": true
   },
   "outputs": [],
   "source": [
    "scale_bin_centers = np.array([  0.09581734,   0.13534558,   0.19118072,   0.27004994,\n",
    "         0.38145568,   0.53882047,   0.76110414,   1.07508818,\n",
    "         1.51860241,   2.14508292,   3.03001016,   4.28000311,\n",
    "         6.04566509,   8.53972892,  12.06268772,  17.0389993 ,\n",
    "        24.06822623,  33.99727318])"
   ]
  },
  {
   "cell_type": "code",
   "execution_count": 6,
   "metadata": {
    "collapsed": true
   },
   "outputs": [],
   "source": [
    "fixed_params = {'z':z, 'r': scale_bin_centers[-2]}"
   ]
  },
  {
   "cell_type": "code",
   "execution_count": 7,
   "metadata": {
    "collapsed": true
   },
   "outputs": [],
   "source": [
    "from george.kernels import *\n",
    "N = 11#4\n",
    "kernel = 1.0*ExpSquaredKernel(np.ones(N,), ndim = N)# + LinearKernel(ndim = N, order = 1, log_gamma2 = 0.0)\n",
    "#kernel = DotProductKernel(ndim = N)"
   ]
  },
  {
   "cell_type": "raw",
   "metadata": {},
   "source": [
    "emu = SpicyBuffalo(training_file,  method = em_method, fixed_params=fixed_params,\n",
    "                 custom_mean_function = None, downsample_factor = 1.0, hyperparams = {'kernel': kernel})"
   ]
  },
  {
   "cell_type": "code",
   "execution_count": 8,
   "metadata": {
    "collapsed": true
   },
   "outputs": [],
   "source": [
    "emu = OriginalRecipe(training_file, method = em_method, fixed_params=fixed_params,\\\n",
    "                     downsample_factor=0.01, hyperparams = {'kernel': kernel})"
   ]
  },
  {
   "cell_type": "code",
   "execution_count": 9,
   "metadata": {},
   "outputs": [
    {
     "data": {
      "text/plain": [
       "(400, 11)"
      ]
     },
     "execution_count": 9,
     "metadata": {},
     "output_type": "execute_result"
    }
   ],
   "source": [
    "emu.downsample_x.shape"
   ]
  },
  {
   "cell_type": "code",
   "execution_count": 10,
   "metadata": {},
   "outputs": [
    {
     "data": {
      "text/plain": [
       "['ombh2',\n",
       " 'omch2',\n",
       " 'w0',\n",
       " 'ns',\n",
       " 'ln10As',\n",
       " 'H0',\n",
       " 'Neff',\n",
       " 'logM0',\n",
       " 'sigma_logM',\n",
       " 'logM1',\n",
       " 'alpha']"
      ]
     },
     "execution_count": 10,
     "metadata": {},
     "output_type": "execute_result"
    }
   ],
   "source": [
    "emu.get_param_names()"
   ]
  },
  {
   "cell_type": "raw",
   "metadata": {},
   "source": [
    "emu._emulator.set_parameter_vector(v)"
   ]
  },
  {
   "cell_type": "code",
   "execution_count": 11,
   "metadata": {},
   "outputs": [
    {
     "data": {
      "text/plain": [
       "      fun: -860.3906083536198\n",
       " hess_inv: array([[  1.91614533e-02,   5.52619462e-03,   9.39203550e-03,\n",
       "          1.64675817e-02,   2.23739354e-02,   3.83819714e-03,\n",
       "         -7.37729135e+02,   1.27803897e-02,   4.25042486e-03,\n",
       "          4.40869863e-03,   2.38467972e-03,   6.71167740e-03],\n",
       "       [  5.52619462e-03,   5.60625251e-02,   2.42462421e-03,\n",
       "         -5.08357514e-03,   4.76228175e-03,   2.14207901e-03,\n",
       "         -2.64591595e+02,  -1.87428474e-03,  -4.47162874e-03,\n",
       "         -2.77247423e-03,  -3.75089303e-03,   7.49168714e-03],\n",
       "       [  9.39203550e-03,   2.42462421e-03,   5.96168342e-02,\n",
       "         -1.48806643e-02,   1.03776830e-02,  -9.75109975e-03,\n",
       "         -3.64276253e+01,   1.05520214e-02,   3.03916294e-03,\n",
       "         -1.79662320e-02,   1.28865250e-03,   4.47095197e-03],\n",
       "       [  1.64675817e-02,  -5.08357514e-03,  -1.48806643e-02,\n",
       "          1.27543437e-01,   1.76240602e-02,  -3.94450907e-03,\n",
       "         -4.88466192e+02,   1.25331624e-02,  -4.69035969e-03,\n",
       "          2.58486126e-02,  -6.97060429e-04,   6.65161809e-03],\n",
       "       [  2.23739354e-02,   4.76228175e-03,   1.03776830e-02,\n",
       "          1.76240602e-02,   2.41310562e-01,  -6.00648028e-03,\n",
       "          9.88201378e+02,   1.90020681e-02,  -7.99432564e-03,\n",
       "          2.99577935e-03,   4.69144463e-03,   7.16590333e-03],\n",
       "       [  3.83819714e-03,   2.14207901e-03,  -9.75109975e-03,\n",
       "         -3.94450907e-03,  -6.00648028e-03,   2.76836701e-02,\n",
       "         -3.91586214e+02,  -5.63805100e-03,  -1.09501815e-03,\n",
       "         -1.31390816e-03,   2.98412467e-03,  -6.15580264e-03],\n",
       "       [ -7.37729135e+02,  -2.64591595e+02,  -3.64276253e+01,\n",
       "         -4.88466192e+02,   9.88201378e+02,  -3.91586214e+02,\n",
       "          1.99602768e+09,  -9.12831579e+02,   1.05775684e+01,\n",
       "         -6.95158299e+02,  -3.45209260e+02,   6.47525310e+01],\n",
       "       [  1.27803897e-02,  -1.87428474e-03,   1.05520214e-02,\n",
       "          1.25331624e-02,   1.90020681e-02,  -5.63805100e-03,\n",
       "         -9.12831579e+02,   8.12692469e-02,   3.15831479e-04,\n",
       "         -1.05717173e-02,   1.29776469e-03,  -2.83847863e-03],\n",
       "       [  4.25042486e-03,  -4.47162874e-03,   3.03916294e-03,\n",
       "         -4.69035969e-03,  -7.99432564e-03,  -1.09501815e-03,\n",
       "          1.05775684e+01,   3.15831479e-04,   1.53915669e-02,\n",
       "         -7.77698079e-03,  -2.48391196e-03,  -1.82515170e-03],\n",
       "       [  4.40869863e-03,  -2.77247423e-03,  -1.79662320e-02,\n",
       "          2.58486126e-02,   2.99577935e-03,  -1.31390816e-03,\n",
       "         -6.95158299e+02,  -1.05717173e-02,  -7.77698079e-03,\n",
       "          1.19888899e-01,  -8.95518946e-03,   7.72842092e-03],\n",
       "       [  2.38467972e-03,  -3.75089303e-03,   1.28865250e-03,\n",
       "         -6.97060429e-04,   4.69144463e-03,   2.98412467e-03,\n",
       "         -3.45209260e+02,   1.29776469e-03,  -2.48391196e-03,\n",
       "         -8.95518946e-03,   1.16970263e-02,  -7.04594831e-03],\n",
       "       [  6.71167740e-03,   7.49168714e-03,   4.47095197e-03,\n",
       "          6.65161809e-03,   7.16590333e-03,  -6.15580264e-03,\n",
       "          6.47525310e+01,  -2.83847863e-03,  -1.82515170e-03,\n",
       "          7.72842092e-03,  -7.04594831e-03,   4.01067966e-02]])\n",
       "      jac: array([ -1.63062899e-06,  -1.37998927e-06,  -2.17472299e-06,\n",
       "        -5.94777042e-07,   2.05118482e-07,  -3.71314691e-06,\n",
       "        -1.67390467e-10,  -2.12959597e-07,   8.41421952e-06,\n",
       "         1.39589010e-06,   6.40833592e-06,   4.23077259e-06])\n",
       "  message: 'Optimization terminated successfully.'\n",
       "     nfev: 68\n",
       "      nit: 58\n",
       "     njev: 68\n",
       "   status: 0\n",
       "  success: True\n",
       "        x: array([ -5.44436106,   3.4589724 ,   3.4149061 ,   3.95878809,\n",
       "         5.89084074,   2.49834517,  29.19210482,   4.68917248,\n",
       "         0.36975854,   4.76176797,   0.07218419,   3.17906026])"
      ]
     },
     "execution_count": 11,
     "metadata": {},
     "output_type": "execute_result"
    }
   ],
   "source": [
    "emu.train_metric()"
   ]
  },
  {
   "cell_type": "code",
   "execution_count": 12,
   "metadata": {
    "collapsed": true
   },
   "outputs": [],
   "source": [
    "acc = emu.goodness_of_fit(test_file, statistic = 'frac')"
   ]
  },
  {
   "cell_type": "code",
   "execution_count": 13,
   "metadata": {},
   "outputs": [
    {
     "name": "stdout",
     "output_type": "stream",
     "text": [
      "0.0374242313921\n"
     ]
    }
   ],
   "source": [
    "print acc.mean()"
   ]
  },
  {
   "cell_type": "raw",
   "metadata": {
    "collapsed": true
   },
   "source": [
    "y_pred, y_data = emu.goodness_of_fit(test_file, statistic=None)"
   ]
  },
  {
   "cell_type": "raw",
   "metadata": {},
   "source": [
    "plt_idx = 0\n",
    "\n",
    "for r, yp, yd in zip(emu.scale_bin_centers, y_pred, y_data):\n",
    "    plt.scatter(r, yp[plt_idx], color = 'r')\n",
    "    plt.scatter(r, yd[plt_idx], color = 'b')\n",
    "    \n",
    "plt.xscale('log')\n",
    "plt.show();"
   ]
  },
  {
   "cell_type": "code",
   "execution_count": null,
   "metadata": {
    "collapsed": true
   },
   "outputs": [],
   "source": []
  }
 ],
 "metadata": {
  "kernelspec": {
   "display_name": "Python 2",
   "language": "python",
   "name": "python2"
  },
  "language_info": {
   "codemirror_mode": {
    "name": "ipython",
    "version": 2
   },
   "file_extension": ".py",
   "mimetype": "text/x-python",
   "name": "python",
   "nbconvert_exporter": "python",
   "pygments_lexer": "ipython2",
   "version": "2.7.13"
  }
 },
 "nbformat": 4,
 "nbformat_minor": 1
}

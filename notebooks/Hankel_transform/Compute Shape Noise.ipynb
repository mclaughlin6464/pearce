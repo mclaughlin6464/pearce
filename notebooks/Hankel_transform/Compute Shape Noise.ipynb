{
 "cells": [
  {
   "cell_type": "code",
   "execution_count": 1,
   "metadata": {
    "collapsed": true
   },
   "outputs": [],
   "source": [
    "import camb\n",
    "pars = camb.CAMBparams()\n",
    "from scipy.special import jn, jn_zeros\n",
    "from camb import model, initialpower\n",
    "from scipy.interpolate import interp1d\n",
    "from hankel_transform import *\n",
    "from astropy.cosmology import Planck13 #use Planck15 if you can\n",
    "import astropy.units as u\n",
    "#rc('text', usetex=False)"
   ]
  },
  {
   "cell_type": "code",
   "execution_count": 2,
   "metadata": {
    "collapsed": true
   },
   "outputs": [],
   "source": [
    "from matplotlib.pyplot import *\n",
    "%matplotlib inline"
   ]
  },
  {
   "cell_type": "code",
   "execution_count": 3,
   "metadata": {
    "collapsed": true
   },
   "outputs": [],
   "source": [
    "cosmo=Planck13.clone()#we want h=1 for some comparisons"
   ]
  },
  {
   "cell_type": "code",
   "execution_count": 4,
   "metadata": {
    "collapsed": true
   },
   "outputs": [],
   "source": [
    "#Set up a new set of parameters for CAMB\n",
    "kmax=55#30\n",
    "kmin=.8e-3\n",
    "k_smooth=1\n",
    "nk=5000\n",
    "rmin=.055\n",
    "rmax=110\n",
    "non_linear=1\n",
    "\n",
    "pars = camb.CAMBparams()\n",
    "#This function sets up CosmoMC-like settings, with one massive neutrino and helium set using BBN consistency\n",
    "pars.set_cosmology(H0=67.27, ombh2=0.022250, omch2=0.119800, mnu=0.06, omk=0, tau=0.06)\n",
    "pars.InitPower.set_params(ns=0.965, r=0,As =2.14e-09)\n",
    "pars.set_for_lmax(2500, lens_potential_accuracy=0)\n",
    "zb=[.27]#[0.0]\n",
    "pars.set_matter_power(redshifts=zb,kmax=kmax);\n",
    "if non_linear==1:\n",
    "    pars.NonLinear = model.NonLinear_both\n",
    "else:\n",
    "    pars.NonLinear = model.NonLinear_none\n",
    "results = camb.get_results(pars)\n",
    "kh, z, pk =results.get_matter_power_spectrum(minkh=kmin, maxkh=kmax, npoints =nk)"
   ]
  },
  {
   "cell_type": "code",
   "execution_count": 5,
   "metadata": {},
   "outputs": [
    {
     "name": "stdout",
     "output_type": "stream",
     "text": [
      "('j-nu=', 0, ' not enough zeros to cover kmin, increasing by ', 1000, ' to', 29000)\n",
      "('j-nu=', 0, ' not enough zeros to cover kmin, increasing by ', 1000, ' to', 30000)\n",
      "('j-nu=', 0, ' not enough zeros to cover kmin, increasing by ', 1000, ' to', 31000)\n",
      "('j-nu=', 0, ' not enough zeros to cover kmin, increasing by ', 1000, ' to', 32000)\n",
      "('j-nu=', 0, ' not enough zeros to cover kmin, increasing by ', 1000, ' to', 33000)\n",
      "('j-nu=', 0, ' not enough zeros to cover kmin, increasing by ', 1000, ' to', 34000)\n",
      "('j-nu=', 0, ' not enough zeros to cover kmin, increasing by ', 1000, ' to', 35000)\n",
      "('j-nu=', 0, ' not enough zeros to cover kmin, increasing by ', 1000, ' to', 36000)\n",
      "('j-nu=', 0, ' not enough zeros to cover kmin, increasing by ', 1000, ' to', 37000)\n",
      "('j-nu=', 0, ' not enough zeros to cover kmin, increasing by ', 1000, ' to', 38000)\n",
      "('j-nu=', 0, ' not enough zeros to cover kmin, increasing by ', 1000, ' to', 39000)\n",
      "('j-nu=', 0, ' not enough zeros to cover kmin, increasing by ', 1000, ' to', 40000)\n",
      "('j-nu=', 0, ' not enough zeros to cover kmin, increasing by ', 1000, ' to', 41000)\n",
      "('j-nu=', 0, ' not enough zeros to cover kmin, increasing by ', 1000, ' to', 42000)\n",
      "('j-nu=', 0, ' not enough zeros to cover kmin, increasing by ', 1000, ' to', 43000)\n",
      "('j-nu=', 0, ' not enough zeros to cover kmin, increasing by ', 1000, ' to', 44000)\n",
      "('j-nu=', 0, ' not enough zeros to cover kmin, increasing by ', 1000, ' to', 45000)\n",
      "('j-nu=', 0, ' not enough zeros to cover kmin, increasing by ', 1000, ' to', 46000)\n",
      "('j-nu=', 0, ' not enough zeros to cover kmin, increasing by ', 1000, ' to', 47000)\n",
      "('j-nu=', 0, ' not enough zeros to cover kmin, increasing by ', 1000, ' to', 48000)\n",
      "('j-nu=', 0, ' not enough zeros to cover kmin, increasing by ', 1000, ' to', 49000)\n",
      "('j-nu=', 0, ' not enough zeros to cover kmin, increasing by ', 1000, ' to', 50000)\n",
      "('j-nu=', 0, ' not enough zeros to cover kmin, increasing by ', 1000, ' to', 51000)\n",
      "('j-nu=', 0, ' not enough zeros to cover kmin, increasing by ', 1000, ' to', 52000)\n",
      "('j-nu=', 0, ' not enough zeros to cover kmin, increasing by ', 1000, ' to', 53000)\n",
      "('nr:', 1927)\n",
      "CPU times: user 53.3 s, sys: 715 ms, total: 54 s\n",
      "Wall time: 54.3 s\n"
     ]
    }
   ],
   "source": [
    "#Setting up the Hankel Transform\n",
    "#This part is slower. But only needs to be run once. \n",
    "#If you only need wgg, set j_nu=[0]. For wg+ (or \\Delta\\Sigma) use j_nu=[2]\n",
    "%time HT=hankel_transform(rmin=rmin,rmax=rmax,kmax=kmax,j_nu=[0],n_zeros=28000,kmin=kmin)\n",
    "#HT=hankel_transform(rmin=1,rmax=rmax,kmax=1,j_nu=[0,2],n_zeros=2800,kmin=1.e-2)#quick test... inaccurate"
   ]
  },
  {
   "cell_type": "code",
   "execution_count": 6,
   "metadata": {
    "collapsed": true
   },
   "outputs": [],
   "source": [
    "pk_taper=HT.taper(k=kh,pk=pk[0],large_k_lower=5,large_k_upper=kmax,low_k_lower=kmin,\n",
    "                     low_k_upper=kmin*2)\n",
    "#need atleast k=10 and k=1.e-3 to get decent wgg for 1-100 Mpc/h range."
   ]
  },
  {
   "cell_type": "raw",
   "metadata": {},
   "source": [
    "r_gg,wgg=HT.projected_correlation(k_pk=kh,pk=pk[0]*b_g**2,j_nu=0)\n",
    "%time r_gg,wgg_taper=HT.projected_correlation(k_pk=kh,pk=pk_taper*b_g**2,j_nu=0)"
   ]
  },
  {
   "cell_type": "raw",
   "metadata": {
    "collapsed": true
   },
   "source": [
    "b_g=1"
   ]
  },
  {
   "cell_type": "raw",
   "metadata": {},
   "source": [
    "#Internal test case\n",
    "wgg_test_fact=1./np.pi**2\n",
    "wgg_test=np.genfromtxt('../data/planck15_wgg_rsd0_kz0_s0_k10_z0.27.dat',names=('rp','wgg'))\n",
    "wgp_test=np.genfromtxt('../data/planck15_wgp_rsd0_kz0_s0_k10_z0.27.dat',names=('rp','wgp'))"
   ]
  },
  {
   "cell_type": "raw",
   "metadata": {},
   "source": [
    "plot(kh,pk[0])\n",
    "plot(kh,pk_taper)\n",
    "xscale('log')\n",
    "yscale('log')\n",
    "xlim(1.e-4,30)\n",
    "ylim(1,5.e4)"
   ]
  },
  {
   "cell_type": "raw",
   "metadata": {},
   "source": [
    "plot(r_gg,r_gg*wgg,label='No tapering')\n",
    "plot(r_gg,r_gg*wgg_taper,label='tapering')\n",
    "#plot(wgg_test['rp'],wgg_test['rp']*wgg_test['wgg']*wgg_test_fact)\n",
    "xscale('log')\n",
    "#yscale('log')\n",
    "#ylim(1.e-2,1.e3)\n",
    "xlim(1,110)\n",
    "xlabel('$r_p$ [Mpc/h]')\n",
    "ylabel('$w_{gg}$ [Mpc/h]')\n",
    "ylim(0,72)\n",
    "legend()"
   ]
  },
  {
   "cell_type": "raw",
   "metadata": {},
   "source": [
    "plot(r_gg,wgg-wgg_taper,'r')\n",
    "xscale('log')\n",
    "xlabel('$r_p$ [Mpc/h]')"
   ]
  },
  {
   "cell_type": "raw",
   "metadata": {},
   "source": [
    "w_intp=interp1d(r,w,bounds_error=False,fill_value=np.nan)\n",
    "plot(wgg_test['rp'],w_intp(wgg_test['rp'])/(wgg_test['wgg']*wgg_test_fact),'r--')\n",
    "w_intp=interp1d(r,w2,bounds_error=False,fill_value=np.nan)\n",
    "plot(wgg_test['rp'],w_intp(wgg_test['rp'])/(wgg_test['wgg']*wgg_test_fact))\n",
    "xscale('log')\n",
    "ylim(.98,1.02)"
   ]
  },
  {
   "cell_type": "markdown",
   "metadata": {
    "collapsed": true
   },
   "source": [
    "# g-g Lensing covariance"
   ]
  },
  {
   "cell_type": "code",
   "execution_count": 7,
   "metadata": {
    "collapsed": true
   },
   "outputs": [],
   "source": [
    "h = 0.704"
   ]
  },
  {
   "cell_type": "code",
   "execution_count": 8,
   "metadata": {
    "collapsed": true
   },
   "outputs": [],
   "source": [
    "pars = camb.CAMBparams()\n",
    "#This function sets up CosmoMC-like settings, with one massive neutrino and helium set using BBN consistency\n",
    "\n",
    "# replaced with DarkSky values\n",
    "pars.set_cosmology(H0=70.4, ombh2=0.0231566, omch2=0.12293, mnu=0.06, omk=0, tau=0.06)\n",
    "pars.InitPower.set_params(ns=0.967, r=0,As =2.18e-09)\n",
    "pars.set_for_lmax(2500, lens_potential_accuracy=0)\n",
    "zb=[0.0]#[0.0]#\n",
    "pars.set_matter_power(redshifts=zb,kmax=kmax);\n",
    "if non_linear==1:\n",
    "    pars.NonLinear = model.NonLinear_both\n",
    "else:\n",
    "    pars.NonLinear = model.NonLinear_none\n",
    "results = camb.get_results(pars)\n",
    "kh, z, pk =results.get_matter_power_spectrum(minkh=kmin, maxkh=kmax, npoints =nk)"
   ]
  },
  {
   "cell_type": "code",
   "execution_count": 9,
   "metadata": {
    "scrolled": true
   },
   "outputs": [
    {
     "name": "stdout",
     "output_type": "stream",
     "text": [
      "('changed kmax to', 93.37495094255787, ' to cover rmin')\n",
      "('j-nu=', 2, ' not enough zeros to cover kmin, increasing by ', 1000, ' to', 61000)\n",
      "('j-nu=', 2, ' not enough zeros to cover kmin, increasing by ', 1000, ' to', 62000)\n",
      "('j-nu=', 2, ' not enough zeros to cover kmin, increasing by ', 1000, ' to', 63000)\n",
      "('j-nu=', 2, ' not enough zeros to cover kmin, increasing by ', 1000, ' to', 64000)\n",
      "('j-nu=', 2, ' not enough zeros to cover kmin, increasing by ', 1000, ' to', 65000)\n",
      "('j-nu=', 2, ' not enough zeros to cover kmin, increasing by ', 1000, ' to', 66000)\n",
      "('j-nu=', 2, ' not enough zeros to cover kmin, increasing by ', 1000, ' to', 67000)\n",
      "('j-nu=', 2, ' not enough zeros to cover kmin, increasing by ', 1000, ' to', 68000)\n",
      "('j-nu=', 2, ' not enough zeros to cover kmin, increasing by ', 1000, ' to', 69000)\n",
      "('j-nu=', 2, ' not enough zeros to cover kmin, increasing by ', 1000, ' to', 70000)\n",
      "('j-nu=', 2, ' not enough zeros to cover kmin, increasing by ', 1000, ' to', 71000)\n",
      "('j-nu=', 2, ' not enough zeros to cover kmin, increasing by ', 1000, ' to', 72000)\n",
      "('j-nu=', 2, ' not enough zeros to cover kmin, increasing by ', 1000, ' to', 73000)\n",
      "('j-nu=', 2, ' not enough zeros to cover kmin, increasing by ', 1000, ' to', 74000)\n",
      "('j-nu=', 2, ' not enough zeros to cover kmin, increasing by ', 1000, ' to', 75000)\n",
      "('j-nu=', 2, ' not enough zeros to cover kmin, increasing by ', 1000, ' to', 76000)\n",
      "('j-nu=', 2, ' not enough zeros to cover kmin, increasing by ', 1000, ' to', 77000)\n",
      "('j-nu=', 2, ' not enough zeros to cover kmin, increasing by ', 1000, ' to', 78000)\n",
      "('j-nu=', 2, ' not enough zeros to cover kmin, increasing by ', 1000, ' to', 79000)\n",
      "('j-nu=', 2, ' not enough zeros to cover kmin, increasing by ', 1000, ' to', 80000)\n",
      "('j-nu=', 2, ' not enough zeros to cover kmin, increasing by ', 1000, ' to', 81000)\n",
      "('j-nu=', 2, ' not enough zeros to cover kmin, increasing by ', 1000, ' to', 82000)\n",
      "('j-nu=', 2, ' not enough zeros to cover kmin, increasing by ', 1000, ' to', 83000)\n",
      "('j-nu=', 2, ' not enough zeros to cover kmin, increasing by ', 1000, ' to', 84000)\n",
      "('j-nu=', 2, ' not enough zeros to cover kmin, increasing by ', 1000, ' to', 85000)\n",
      "('j-nu=', 2, ' not enough zeros to cover kmin, increasing by ', 1000, ' to', 86000)\n",
      "('j-nu=', 2, ' not enough zeros to cover kmin, increasing by ', 1000, ' to', 87000)\n",
      "('j-nu=', 2, ' not enough zeros to cover kmin, increasing by ', 1000, ' to', 88000)\n",
      "('j-nu=', 2, ' not enough zeros to cover kmin, increasing by ', 1000, ' to', 89000)\n",
      "('j-nu=', 2, ' not enough zeros to cover kmin, increasing by ', 1000, ' to', 90000)\n",
      "('j-nu=', 2, ' not enough zeros to cover kmin, increasing by ', 1000, ' to', 91000)\n",
      "('j-nu=', 2, ' not enough zeros to cover kmin, increasing by ', 1000, ' to', 92000)\n",
      "('j-nu=', 2, ' not enough zeros to cover kmin, increasing by ', 1000, ' to', 93000)\n",
      "('j-nu=', 2, ' not enough zeros to cover kmin, increasing by ', 1000, ' to', 94000)\n",
      "('j-nu=', 2, ' not enough zeros to cover kmin, increasing by ', 1000, ' to', 95000)\n",
      "('j-nu=', 2, ' not enough zeros to cover kmin, increasing by ', 1000, ' to', 96000)\n",
      "('j-nu=', 2, ' not enough zeros to cover kmin, increasing by ', 1000, ' to', 97000)\n",
      "('j-nu=', 2, ' not enough zeros to cover kmin, increasing by ', 1000, ' to', 98000)\n",
      "('j-nu=', 2, ' not enough zeros to cover kmin, increasing by ', 1000, ' to', 99000)\n",
      "('j-nu=', 2, ' not enough zeros to cover kmin, increasing by ', 1000, ' to', 100000)\n",
      "('j-nu=', 2, ' not enough zeros to cover kmin, increasing by ', 1000, ' to', 101000)\n",
      "('j-nu=', 2, ' not enough zeros to cover kmin, increasing by ', 1000, ' to', 102000)\n",
      "('j-nu=', 2, ' not enough zeros to cover kmin, increasing by ', 1000, ' to', 103000)\n",
      "('j-nu=', 2, ' not enough zeros to cover kmin, increasing by ', 1000, ' to', 104000)\n",
      "('j-nu=', 2, ' not enough zeros to cover kmin, increasing by ', 1000, ' to', 105000)\n",
      "('j-nu=', 2, ' not enough zeros to cover kmin, increasing by ', 1000, ' to', 106000)\n",
      "('j-nu=', 2, ' not enough zeros to cover kmin, increasing by ', 1000, ' to', 107000)\n",
      "('j-nu=', 2, ' not enough zeros to cover kmin, increasing by ', 1000, ' to', 108000)\n",
      "('j-nu=', 2, ' not enough zeros to cover kmin, increasing by ', 1000, ' to', 109000)\n",
      "('j-nu=', 2, ' not enough zeros to cover kmin, increasing by ', 1000, ' to', 110000)\n",
      "('j-nu=', 2, ' not enough zeros to cover kmin, increasing by ', 1000, ' to', 111000)\n",
      "('j-nu=', 2, ' not enough zeros to cover kmin, increasing by ', 1000, ' to', 112000)\n",
      "('j-nu=', 2, ' not enough zeros to cover kmin, increasing by ', 1000, ' to', 113000)\n",
      "('j-nu=', 2, ' not enough zeros to cover kmin, increasing by ', 1000, ' to', 114000)\n",
      "('j-nu=', 2, ' not enough zeros to cover kmin, increasing by ', 1000, ' to', 115000)\n",
      "('j-nu=', 2, ' not enough zeros to cover kmin, increasing by ', 1000, ' to', 116000)\n",
      "('j-nu=', 2, ' not enough zeros to cover kmin, increasing by ', 1000, ' to', 117000)\n",
      "('j-nu=', 2, ' not enough zeros to cover kmin, increasing by ', 1000, ' to', 118000)\n",
      "('j-nu=', 2, ' not enough zeros to cover kmin, increasing by ', 1000, ' to', 119000)\n",
      "('j-nu=', 2, ' not enough zeros to cover kmin, increasing by ', 1000, ' to', 120000)\n",
      "('j-nu=', 2, ' not enough zeros to cover kmin, increasing by ', 1000, ' to', 121000)\n",
      "('j-nu=', 2, ' not enough zeros to cover kmin, increasing by ', 1000, ' to', 122000)\n",
      "('j-nu=', 2, ' not enough zeros to cover kmin, increasing by ', 1000, ' to', 123000)\n",
      "('j-nu=', 2, ' not enough zeros to cover kmin, increasing by ', 1000, ' to', 124000)\n",
      "('j-nu=', 2, ' not enough zeros to cover kmin, increasing by ', 1000, ' to', 125000)\n",
      "('j-nu=', 2, ' not enough zeros to cover kmin, increasing by ', 1000, ' to', 126000)\n",
      "('j-nu=', 2, ' not enough zeros to cover kmin, increasing by ', 1000, ' to', 127000)\n",
      "('j-nu=', 2, ' not enough zeros to cover kmin, increasing by ', 1000, ' to', 128000)\n",
      "('j-nu=', 2, ' not enough zeros to cover kmin, increasing by ', 1000, ' to', 129000)\n",
      "('j-nu=', 2, ' not enough zeros to cover kmin, increasing by ', 1000, ' to', 130000)\n",
      "('j-nu=', 2, ' not enough zeros to cover kmin, increasing by ', 1000, ' to', 131000)\n",
      "('j-nu=', 2, ' not enough zeros to cover kmin, increasing by ', 1000, ' to', 132000)\n",
      "('j-nu=', 2, ' not enough zeros to cover kmin, increasing by ', 1000, ' to', 133000)\n",
      "('j-nu=', 2, ' not enough zeros to cover kmin, increasing by ', 1000, ' to', 134000)\n",
      "('j-nu=', 2, ' not enough zeros to cover kmin, increasing by ', 1000, ' to', 135000)\n",
      "('j-nu=', 2, ' not enough zeros to cover kmin, increasing by ', 1000, ' to', 136000)\n",
      "('j-nu=', 2, ' not enough zeros to cover kmin, increasing by ', 1000, ' to', 137000)\n",
      "('j-nu=', 2, ' not enough zeros to cover kmin, increasing by ', 1000, ' to', 138000)\n",
      "('j-nu=', 2, ' not enough zeros to cover kmin, increasing by ', 1000, ' to', 139000)\n",
      "('j-nu=', 2, ' not enough zeros to cover kmin, increasing by ', 1000, ' to', 140000)\n",
      "('j-nu=', 2, ' not enough zeros to cover kmin, increasing by ', 1000, ' to', 141000)\n",
      "('j-nu=', 2, ' not enough zeros to cover kmin, increasing by ', 1000, ' to', 142000)\n",
      "('j-nu=', 2, ' not enough zeros to cover kmin, increasing by ', 1000, ' to', 143000)\n",
      "('j-nu=', 2, ' not enough zeros to cover kmin, increasing by ', 1000, ' to', 144000)\n",
      "('j-nu=', 2, ' not enough zeros to cover kmin, increasing by ', 1000, ' to', 145000)\n",
      "('j-nu=', 2, ' not enough zeros to cover kmin, increasing by ', 1000, ' to', 146000)\n",
      "('j-nu=', 2, ' not enough zeros to cover kmin, increasing by ', 1000, ' to', 147000)\n",
      "('j-nu=', 2, ' not enough zeros to cover kmin, increasing by ', 1000, ' to', 148000)\n",
      "('j-nu=', 2, ' not enough zeros to cover kmin, increasing by ', 1000, ' to', 149000)\n",
      "('j-nu=', 2, ' not enough zeros to cover kmin, increasing by ', 1000, ' to', 150000)\n",
      "('j-nu=', 2, ' not enough zeros to cover kmin, increasing by ', 1000, ' to', 151000)\n",
      "('j-nu=', 2, ' not enough zeros to cover kmin, increasing by ', 1000, ' to', 152000)\n",
      "('j-nu=', 2, ' not enough zeros to cover kmin, increasing by ', 1000, ' to', 153000)\n",
      "('j-nu=', 2, ' not enough zeros to cover kmin, increasing by ', 1000, ' to', 154000)\n",
      "('j-nu=', 2, ' not enough zeros to cover kmin, increasing by ', 1000, ' to', 155000)\n",
      "('j-nu=', 2, ' not enough zeros to cover kmin, increasing by ', 1000, ' to', 156000)\n"
     ]
    },
    {
     "name": "stdout",
     "output_type": "stream",
     "text": [
      "('j-nu=', 2, ' not enough zeros to cover kmin, increasing by ', 1000, ' to', 157000)\n",
      "('j-nu=', 2, ' not enough zeros to cover kmin, increasing by ', 1000, ' to', 158000)\n",
      "('j-nu=', 2, ' not enough zeros to cover kmin, increasing by ', 1000, ' to', 159000)\n",
      "('j-nu=', 2, ' not enough zeros to cover kmin, increasing by ', 1000, ' to', 160000)\n",
      "('j-nu=', 2, ' not enough zeros to cover kmin, increasing by ', 1000, ' to', 161000)\n",
      "('j-nu=', 2, ' not enough zeros to cover kmin, increasing by ', 1000, ' to', 162000)\n",
      "('j-nu=', 2, ' not enough zeros to cover kmin, increasing by ', 1000, ' to', 163000)\n",
      "('j-nu=', 2, ' not enough zeros to cover kmin, increasing by ', 1000, ' to', 164000)\n",
      "('j-nu=', 2, ' not enough zeros to cover kmin, increasing by ', 1000, ' to', 165000)\n",
      "('j-nu=', 2, ' not enough zeros to cover kmin, increasing by ', 1000, ' to', 166000)\n",
      "('j-nu=', 2, ' not enough zeros to cover kmin, increasing by ', 1000, ' to', 167000)\n",
      "('j-nu=', 2, ' not enough zeros to cover kmin, increasing by ', 1000, ' to', 168000)\n",
      "('j-nu=', 2, ' not enough zeros to cover kmin, increasing by ', 1000, ' to', 169000)\n",
      "('j-nu=', 2, ' not enough zeros to cover kmin, increasing by ', 1000, ' to', 170000)\n",
      "('j-nu=', 2, ' not enough zeros to cover kmin, increasing by ', 1000, ' to', 171000)\n",
      "('j-nu=', 2, ' not enough zeros to cover kmin, increasing by ', 1000, ' to', 172000)\n",
      "('j-nu=', 2, ' not enough zeros to cover kmin, increasing by ', 1000, ' to', 173000)\n",
      "('j-nu=', 2, ' not enough zeros to cover kmin, increasing by ', 1000, ' to', 174000)\n",
      "('j-nu=', 2, ' not enough zeros to cover kmin, increasing by ', 1000, ' to', 175000)\n",
      "('j-nu=', 2, ' not enough zeros to cover kmin, increasing by ', 1000, ' to', 176000)\n",
      "('j-nu=', 2, ' not enough zeros to cover kmin, increasing by ', 1000, ' to', 177000)\n",
      "('j-nu=', 2, ' not enough zeros to cover kmin, increasing by ', 1000, ' to', 178000)\n",
      "('j-nu=', 2, ' not enough zeros to cover kmin, increasing by ', 1000, ' to', 179000)\n",
      "('j-nu=', 2, ' not enough zeros to cover kmin, increasing by ', 1000, ' to', 180000)\n",
      "('j-nu=', 2, ' not enough zeros to cover kmin, increasing by ', 1000, ' to', 181000)\n",
      "('j-nu=', 2, ' not enough zeros to cover kmin, increasing by ', 1000, ' to', 182000)\n",
      "('j-nu=', 2, ' not enough zeros to cover kmin, increasing by ', 1000, ' to', 183000)\n",
      "('j-nu=', 2, ' not enough zeros to cover kmin, increasing by ', 1000, ' to', 184000)\n",
      "('j-nu=', 2, ' not enough zeros to cover kmin, increasing by ', 1000, ' to', 185000)\n",
      "('j-nu=', 2, ' not enough zeros to cover kmin, increasing by ', 1000, ' to', 186000)\n",
      "('j-nu=', 2, ' not enough zeros to cover kmin, increasing by ', 1000, ' to', 187000)\n",
      "('j-nu=', 2, ' not enough zeros to cover kmin, increasing by ', 1000, ' to', 188000)\n",
      "('j-nu=', 2, ' not enough zeros to cover kmin, increasing by ', 1000, ' to', 189000)\n",
      "('j-nu=', 2, ' not enough zeros to cover kmin, increasing by ', 1000, ' to', 190000)\n",
      "('j-nu=', 2, ' not enough zeros to cover kmin, increasing by ', 1000, ' to', 191000)\n",
      "('nr:', 3269)\n"
     ]
    }
   ],
   "source": [
    "HT=hankel_transform(rmin=rmin,rmax=rmax,kmax=kmax,j_nu=[2],n_zeros=60000,kmin=kmin)"
   ]
  },
  {
   "cell_type": "code",
   "execution_count": 10,
   "metadata": {
    "collapsed": true
   },
   "outputs": [],
   "source": [
    "sigma_crit=4.7e3"
   ]
  },
  {
   "cell_type": "code",
   "execution_count": 11,
   "metadata": {
    "collapsed": true
   },
   "outputs": [],
   "source": [
    "sigma_e=.36\n",
    "sigma_gamma=sigma_e/1.7\n",
    "n_s=8\n",
    "shape_noise=sigma_crit**2*sigma_gamma**2/n_s#*cosmo.H_z(z=0.27)/cosmo.c"
   ]
  },
  {
   "cell_type": "code",
   "execution_count": 12,
   "metadata": {
    "collapsed": true
   },
   "outputs": [],
   "source": [
    "rho=0.04180594698596614 #units of Msun/pc^2/mpc, using h=1"
   ]
  },
  {
   "cell_type": "code",
   "execution_count": 13,
   "metadata": {
    "collapsed": true
   },
   "outputs": [],
   "source": [
    "Dchi2=900 #integral over product of window functions\n",
    "p_kappa_kappa=pk[0]*(rho)**2*Dchi2"
   ]
  },
  {
   "cell_type": "code",
   "execution_count": 14,
   "metadata": {
    "collapsed": true
   },
   "outputs": [],
   "source": [
    "n_g=5e-4#3.e-4\n",
    "g_shot_noise=1./n_g\n",
    "b_g=1.838\n",
    "p_g=b_g**2*pk[0]\n",
    "#p_gk=b_g*pk[0]*rho"
   ]
  },
  {
   "cell_type": "code",
   "execution_count": 15,
   "metadata": {
    "collapsed": true
   },
   "outputs": [],
   "source": [
    "r_bins=np.logspace(-1,1.6,19)#*h"
   ]
  },
  {
   "cell_type": "code",
   "execution_count": 16,
   "metadata": {
    "collapsed": true
   },
   "outputs": [],
   "source": [
    "area=10000\n",
    "area_comoving=area*(np.pi/180)**2*cosmo.comoving_distance(z=.27)**2\n",
    "L_W=500\n",
    "#vol=(area_comoving*L_W).value\n",
    "vol=(1000)**3#vol.value # don't actually need the h"
   ]
  },
  {
   "cell_type": "code",
   "execution_count": 17,
   "metadata": {},
   "outputs": [
    {
     "data": {
      "text/plain": [
       "1.0082128926958325"
      ]
     },
     "execution_count": 17,
     "metadata": {},
     "output_type": "execute_result"
    }
   ],
   "source": [
    "(shape_noise*g_shot_noise)/(vol*h**4)"
   ]
  },
  {
   "cell_type": "raw",
   "metadata": {},
   "source": [
    "vol/vol_old.value"
   ]
  },
  {
   "cell_type": "raw",
   "metadata": {},
   "source": [
    "from pearce.mocks.kittens import DarkSky\n",
    "cat = DarkSky(264, system = 'sherlock')"
   ]
  },
  {
   "cell_type": "raw",
   "metadata": {},
   "source": [
    "#real_p_g = np.load('/home/users/swmclau2/Git/pearce/bin/covmat/galaxy_pk.npy')\n",
    "real_p_g = np.load('/home/users/swmclau2/Git/pearce/notebooks/p_g.npy')"
   ]
  },
  {
   "cell_type": "raw",
   "metadata": {},
   "source": [
    "real_p_g = real_p_g[1:]"
   ]
  },
  {
   "cell_type": "code",
   "execution_count": 18,
   "metadata": {
    "collapsed": true
   },
   "outputs": [],
   "source": [
    "taper_kw=dict({'large_k_lower':10,'large_k_upper':kmax,'low_k_lower':kmin,'low_k_upper':kmin*1.2})"
   ]
  },
  {
   "cell_type": "code",
   "execution_count": 19,
   "metadata": {
    "collapsed": true
   },
   "outputs": [],
   "source": [
    "r,cov_ggkk_shape=HT.projected_covariance(k_pk=kh,pk1=p_g+g_shot_noise,pk2=np.zeros_like(p_kappa_kappa)+shape_noise,j_nu=2,taper=True,**taper_kw)\n",
    "r,cov_ggkk=HT.projected_covariance(k_pk=kh,pk1=p_g+g_shot_noise,pk2=p_kappa_kappa,j_nu=2,taper=True,**taper_kw)\n",
    "\n",
    "r_re,cov_ggkk_shape_re=HT.bin_cov(r=r/h,cov=cov_ggkk_shape,r_bins=r_bins)\n",
    "\n",
    "r_re,cov_ggkk_re=HT.bin_cov(r=r/h,cov=cov_ggkk,r_bins=r_bins)\n",
    "corr=HT.corr_matrix(cov=cov_ggkk_shape_re)\n",
    "\n",
    "cov_ggkk_re/=vol # Don't forget!\n",
    "cov_ggkk_shape_re/=vol"
   ]
  },
  {
   "cell_type": "code",
   "execution_count": 20,
   "metadata": {},
   "outputs": [
    {
     "name": "stdout",
     "output_type": "stream",
     "text": [
      "[1.0263207  0.98494148 0.90722623 0.69274081 0.57677226 0.45103709\n",
      " 0.32990732 0.23736836 0.17742547 0.13398334 0.10010477 0.07595037\n",
      " 0.05802125 0.04515957 0.03575584 0.02910926 0.02429026 0.02063339]\n"
     ]
    }
   ],
   "source": [
    "print np.sqrt(np.diag(cov_ggkk_shape_re))"
   ]
  },
  {
   "cell_type": "raw",
   "metadata": {
    "collapsed": true
   },
   "source": [
    "# I've corrected this so its no longer necessary\n",
    "cov_ggkk_shape_re/=(h**4) # convert to the units I'm in\n",
    "cov_ggkk_re/=(h**4)"
   ]
  },
  {
   "cell_type": "code",
   "execution_count": 21,
   "metadata": {},
   "outputs": [
    {
     "name": "stdout",
     "output_type": "stream",
     "text": [
      "[0.12120075 0.1622098  0.20836593 0.22188417 0.2576347  0.28096789\n",
      " 0.28660307 0.28757834 0.29977384 0.31569886 0.32894359 0.34804948\n",
      " 0.37080248 0.40248509 0.44441775 0.50456842 0.5871721  0.69558191]\n"
     ]
    }
   ],
   "source": [
    "print r_re*np.sqrt(np.diag(cov_ggkk_shape_re))"
   ]
  },
  {
   "cell_type": "raw",
   "metadata": {
    "collapsed": true
   },
   "source": [
    "plot(kh, pk.squeeze())\n",
    "plot(real_p_g[:,0], real_p_g[:,1])\n",
    "loglog();"
   ]
  },
  {
   "cell_type": "raw",
   "metadata": {},
   "source": [
    "np.sqrt(real_p_g[np.argmin(np.abs(real_p_g[:,0] - 0.1) ),1]/pk.squeeze()[np.argmin(np.abs(kh - 0.1) )])"
   ]
  },
  {
   "cell_type": "raw",
   "metadata": {
    "collapsed": true
   },
   "source": [
    "r,cov_ggkk=HT.projected_covariance(k_pk=real_p_g[:,0],pk1=real_p_g[:,1]+g_shot_noise,pk2=np.zeros_like(real_p_g[:,0]) + shape_noise,j_nu=2,taper=True,**taper_kw)\n",
    "r_re,cov_ggkk_re=HT.bin_cov(r=r,cov=cov_ggkk,r_bins=r_bins)\n",
    "corr=HT.corr_matrix(cov=cov_ggkk_re)"
   ]
  },
  {
   "cell_type": "raw",
   "metadata": {},
   "source": [
    "np.sqrt(np.diag(cov_ggkk_re))"
   ]
  },
  {
   "cell_type": "code",
   "execution_count": 22,
   "metadata": {
    "collapsed": true
   },
   "outputs": [],
   "source": [
    "sim_covmat = np.load('/home/users/swmclau2/Git/pearce/bin/covmat/wp_ds_sim_covmat.npy')"
   ]
  },
  {
   "cell_type": "raw",
   "metadata": {},
   "source": [
    "plot(r_re, np.sqrt(np.diag(cov_ggkk_re)) )\n",
    "plot(r_re, np.sqrt(np.diag(cov_ggkk_shape_re)), color ='r' )\n",
    "plot(r_re, np.sqrt(np.diag(sim_covmat[18:][:,18:])), color = 'g')\n",
    "ylabel('Shape Noise Error')\n",
    "xlabel('r [Mpc]')\n",
    "loglog();"
   ]
  },
  {
   "cell_type": "code",
   "execution_count": 24,
   "metadata": {},
   "outputs": [
    {
     "name": "stderr",
     "output_type": "stream",
     "text": [
      "/share/software/user/open/py-scipystack/1.0_py27/lib/python2.7/site-packages/matplotlib/axes/_base.py:3179: UserWarning: Attempting to set identical bottom==top results\n",
      "in singular transformations; automatically expanding.\n",
      "bottom=1.0, top=1.0\n",
      "  'bottom=%s, top=%s') % (bottom, top))\n"
     ]
    },
    {
     "data": {
      "image/png": "[encoded data removed]",
      "text/plain": [
       "<matplotlib.figure.Figure at 0x7faaf778e310>"
      ]
     },
     "metadata": {},
     "output_type": "display_data"
    }
   ],
   "source": [
    "plot(r_re, np.ones_like(np.sqrt(np.diag(cov_ggkk_re)) ) )\n",
    "#plot(r_re, np.sqrt(np.diag(cov_ggkk_shape_re)), color ='r' )\n",
    "#plot(r_re, np.sqrt(np.diag(sim_covmat[18:][:,18:]))/np.sqrt(np.diag(cov_ggkk_re)), color = 'g')\n",
    "ylabel('Shape Noise Error')\n",
    "xlabel('r [Mpc]')\n",
    "loglog();"
   ]
  },
  {
   "cell_type": "code",
   "execution_count": 26,
   "metadata": {},
   "outputs": [],
   "source": [
    "#np.sqrt(np.diag(sim_covmat[18:][:,18:]))/np.sqrt(np.diag(cov_ggkk_re))"
   ]
  },
  {
   "cell_type": "code",
   "execution_count": 27,
   "metadata": {},
   "outputs": [
    {
     "data": {
      "image/png": "[encoded data removed]",
      "text/plain": [
       "<matplotlib.figure.Figure at 0x7faaf70e7b50>"
      ]
     },
     "metadata": {},
     "output_type": "display_data"
    }
   ],
   "source": [
    "#plot(r_re, np.sqrt(np.diag(cov_ggkk_re)) )\n",
    "plot(r_re, r_re*np.sqrt(np.diag(cov_ggkk_shape_re)), color ='r' )\n",
    "\n",
    "ylabel('Shape Noise Error')\n",
    "xlabel('r [Mpc]')\n",
    "loglog();"
   ]
  },
  {
   "cell_type": "code",
   "execution_count": 28,
   "metadata": {},
   "outputs": [
    {
     "name": "stdout",
     "output_type": "stream",
     "text": [
      "[1. 1. 1. 1. 1. 1. 1. 1. 1. 1. 1. 1. 1. 1. 1. 1. 1. 1.]\n"
     ]
    }
   ],
   "source": [
    "print np.sqrt(np.diag(corr))"
   ]
  },
  {
   "cell_type": "code",
   "execution_count": 29,
   "metadata": {},
   "outputs": [
    {
     "data": {
      "text/plain": [
       "array([1.0263207 , 0.98494148, 0.90722623, 0.69274081, 0.57677226,\n",
       "       0.45103709, 0.32990732, 0.23736836, 0.17742547, 0.13398334,\n",
       "       0.10010477, 0.07595037, 0.05802125, 0.04515957, 0.03575584,\n",
       "       0.02910926, 0.02429026, 0.02063339])"
      ]
     },
     "execution_count": 29,
     "metadata": {},
     "output_type": "execute_result"
    }
   ],
   "source": [
    "np.sqrt(np.diag(cov_ggkk_shape_re))"
   ]
  },
  {
   "cell_type": "code",
   "execution_count": 30,
   "metadata": {},
   "outputs": [
    {
     "data": {
      "text/plain": [
       "<matplotlib.image.AxesImage at 0x7faaf452d350>"
      ]
     },
     "execution_count": 30,
     "metadata": {},
     "output_type": "execute_result"
    },
    {
     "data": {
      "image/png": "[encoded data removed]",
      "text/plain": [
       "<matplotlib.figure.Figure at 0x7faaf77a3f90>"
      ]
     },
     "metadata": {},
     "output_type": "display_data"
    }
   ],
   "source": [
    "imshow(corr)"
   ]
  },
  {
   "cell_type": "code",
   "execution_count": 31,
   "metadata": {
    "collapsed": true
   },
   "outputs": [],
   "source": [
    "np.save('shape_noise.npy', cov_ggkk_shape_re)"
   ]
  },
  {
   "cell_type": "code",
   "execution_count": 32,
   "metadata": {},
   "outputs": [
    {
     "data": {
      "text/plain": [
       "(0.11809247432396976, 0.055)"
      ]
     },
     "execution_count": 32,
     "metadata": {},
     "output_type": "execute_result"
    }
   ],
   "source": [
    "np.min(r_re), np.min(r)"
   ]
  },
  {
   "cell_type": "code",
   "execution_count": 33,
   "metadata": {
    "collapsed": true
   },
   "outputs": [],
   "source": [
    "from matplotlib.colors import LogNorm"
   ]
  },
  {
   "cell_type": "code",
   "execution_count": 34,
   "metadata": {},
   "outputs": [
    {
     "data": {
      "text/plain": [
       "(0.055, 110)"
      ]
     },
     "execution_count": 34,
     "metadata": {},
     "output_type": "execute_result"
    },
    {
     "data": {
      "image/png": "[encoded data removed]",
      "text/plain": [
       "<matplotlib.figure.Figure at 0x7f15d60e7e50>"
      ]
     },
     "metadata": {},
     "output_type": "display_data"
    }
   ],
   "source": [
    "pcolor(r_re,r_re,corr,norm=LogNorm())\n",
    "colorbar()\n",
    "xscale('log')\n",
    "yscale('log')\n",
    "xlim(HT.rmin,HT.rmax)\n",
    "ylim(HT.rmin,HT.rmax)"
   ]
  },
  {
   "cell_type": "code",
   "execution_count": 35,
   "metadata": {},
   "outputs": [
    {
     "ename": "NameError",
     "evalue": "name 'p_gk' is not defined",
     "output_type": "error",
     "traceback": [
      "\u001b[0;31m\u001b[0m",
      "\u001b[0;31mNameError\u001b[0mTraceback (most recent call last)",
      "\u001b[0;32m<ipython-input-35-98df143096fb>\u001b[0m in \u001b[0;36m<module>\u001b[0;34m()\u001b[0m\n\u001b[0;32m----> 1\u001b[0;31m r,cov_gkgk=HT.projected_covariance(k_pk=kh,pk1=p_gk,pk2=p_gk,\n\u001b[0m\u001b[1;32m      2\u001b[0m                                kmax=100,rmin=.8,j_nu=2,rmax=110,n_zeros=3500)#return_Jrr=True,Jrr=Jrr\n\u001b[1;32m      3\u001b[0m \u001b[0mcov_gkgk\u001b[0m\u001b[0;34m*=\u001b[0m\u001b[0mDchi2\u001b[0m\u001b[0;34m\u001b[0m\u001b[0m\n\u001b[1;32m      4\u001b[0m \u001b[0mr_re\u001b[0m\u001b[0;34m,\u001b[0m\u001b[0mcov_gkgk_re\u001b[0m\u001b[0;34m=\u001b[0m\u001b[0mHT\u001b[0m\u001b[0;34m.\u001b[0m\u001b[0mbin_cov\u001b[0m\u001b[0;34m(\u001b[0m\u001b[0mr\u001b[0m\u001b[0;34m=\u001b[0m\u001b[0mr\u001b[0m\u001b[0;34m,\u001b[0m\u001b[0mcov\u001b[0m\u001b[0;34m=\u001b[0m\u001b[0mcov_gkgk\u001b[0m\u001b[0;34m,\u001b[0m\u001b[0mr_bins\u001b[0m\u001b[0;34m=\u001b[0m\u001b[0mr_bins\u001b[0m\u001b[0;34m)\u001b[0m\u001b[0;34m\u001b[0m\u001b[0m\n\u001b[1;32m      5\u001b[0m \u001b[0mcorr\u001b[0m\u001b[0;34m=\u001b[0m\u001b[0mHT\u001b[0m\u001b[0;34m.\u001b[0m\u001b[0mcorr_matrix\u001b[0m\u001b[0;34m(\u001b[0m\u001b[0mcov\u001b[0m\u001b[0;34m=\u001b[0m\u001b[0mcov_gkgk_re\u001b[0m\u001b[0;34m)\u001b[0m\u001b[0;34m\u001b[0m\u001b[0m\n",
      "\u001b[0;31mNameError\u001b[0m: name 'p_gk' is not defined"
     ]
    }
   ],
   "source": [
    "r,cov_gkgk=HT.projected_covariance(k_pk=kh,pk1=p_gk,pk2=p_gk,\n",
    "                               kmax=100,rmin=.8,j_nu=2,rmax=110,n_zeros=3500)#return_Jrr=True,Jrr=Jrr\n",
    "cov_gkgk*=Dchi2\n",
    "r_re,cov_gkgk_re=HT.bin_cov(r=r,cov=cov_gkgk,r_bins=r_bins)\n",
    "corr=HT.corr_matrix(cov=cov_gkgk_re)"
   ]
  },
  {
   "cell_type": "code",
   "execution_count": null,
   "metadata": {
    "collapsed": true
   },
   "outputs": [],
   "source": [
    "cov_final=(cov_ggkk_re+cov_gkgk_re)/vol\n",
    "corr=HT.corr_matrix(cov=cov_final)\n",
    "errors=HT.diagonal_err(cov=cov_final)"
   ]
  },
  {
   "cell_type": "code",
   "execution_count": null,
   "metadata": {
    "collapsed": true
   },
   "outputs": [],
   "source": [
    "pcolor(r_re,r_re,corr,norm=LogNorm())\n",
    "colorbar()\n",
    "xscale('log')\n",
    "yscale('log')\n",
    "xlim(HT.rmin,HT.rmax)\n",
    "ylim(HT.rmin,HT.rmax)"
   ]
  },
  {
   "cell_type": "raw",
   "metadata": {
    "collapsed": true
   },
   "source": [
    "error_qpm=np.genfromtxt('../data/qpm_DS_error_th.dat',names=True)"
   ]
  },
  {
   "cell_type": "code",
   "execution_count": null,
   "metadata": {
    "collapsed": true
   },
   "outputs": [],
   "source": [
    "plot(r_re,r_re*errors,label='new')\n",
    "#plot(error_qpm['rp'],error_qpm['rp']*error_qpm['DS_err_gR'])\n",
    "xscale('log')\n",
    "yscale('log')\n",
    "legend()\n",
    "xlim(1,100)"
   ]
  },
  {
   "cell_type": "code",
   "execution_count": null,
   "metadata": {
    "collapsed": true
   },
   "outputs": [],
   "source": []
  },
  {
   "cell_type": "code",
   "execution_count": null,
   "metadata": {
    "collapsed": true
   },
   "outputs": [],
   "source": []
  }
 ],
 "metadata": {
  "kernelspec": {
   "display_name": "Python 2",
   "language": "python",
   "name": "python2"
  },
  "language_info": {
   "codemirror_mode": {
    "name": "ipython",
    "version": 2
   },
   "file_extension": ".py",
   "mimetype": "text/x-python",
   "name": "python",
   "nbconvert_exporter": "python",
   "pygments_lexer": "ipython2",
   "version": "2.7.13"
  }
 },
 "nbformat": 4,
 "nbformat_minor": 1
}

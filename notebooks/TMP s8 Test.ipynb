{
 "cells": [
  {
   "cell_type": "markdown",
   "metadata": {},
   "source": [
    "My CAB wp emu is doing very poorly after the s8 change and I can't figure out why. I'm gonna see if I can find the source of the issue relative to the other emus."
   ]
  },
  {
   "cell_type": "code",
   "execution_count": 61,
   "metadata": {
    "collapsed": true
   },
   "outputs": [],
   "source": [
    "import h5py\n",
    "import numpy as np"
   ]
  },
  {
   "cell_type": "code",
   "execution_count": 62,
   "metadata": {
    "collapsed": true
   },
   "outputs": [],
   "source": [
    "from matplotlib import pyplot as plt\n",
    "%matplotlib inline"
   ]
  },
  {
   "cell_type": "code",
   "execution_count": 85,
   "metadata": {
    "collapsed": false
   },
   "outputs": [
    {
     "name": "stdout",
     "output_type": "stream",
     "text": [
      "['ombh2' 'omch2' 'w0' 'ns' 'H0' 'Neff' 'sigma8']\n",
      "\n",
      "['ombh2' 'omch2' 'w0' 'ns' 'H0' 'Neff' 'sigma8']\n"
     ]
    }
   ],
   "source": [
    "with h5py.File('/u/ki/swmclau2/des/wp_cab/PearceWpCABCosmo.hdf5' , 'r') as wp_cab,\\\n",
    "         h5py.File('/u/ki/swmclau2/des/wp_cab/PearceWpCABCosmo2.hdf5' , 'r') as wp_cab2:\n",
    "    \n",
    "    print wp_cab.attrs['cosmo_param_names']\n",
    "    print\n",
    "    print wp_cab2.attrs['cosmo_param_names']\n",
    "    \n",
    "    wp_cab_cosmo = wp_cab['attrs']['cosmo_param_vals'][()]\n",
    "    wp_cab2_cosmo = wp_cab2.attrs['cosmo_param_vals']\n",
    "    \n",
    "    wp_cab_ys = np.zeros((40,1000,18))\n",
    "    for i, key in enumerate(wp_cab.keys()):\n",
    "        if key=='attrs':\n",
    "            continue\n",
    "        wp_cab_ys[i-1] = wp_cab[key]['a_1.000']['obs'][()]\n",
    "        \n",
    "    wp_cab2_ys = np.zeros((40,1000,18))\n",
    "    for i, key in enumerate(wp_cab2.keys()):\n",
    "        if key=='attrs':\n",
    "            continue\n",
    "\n",
    "        wp_cab2_ys[i-1] = wp_cab2[key]['a_1.000']['obs'][()]"
   ]
  },
  {
   "cell_type": "code",
   "execution_count": 87,
   "metadata": {
    "collapsed": false
   },
   "outputs": [
    {
     "data": {
      "text/plain": [
       "True"
      ]
     },
     "execution_count": 87,
     "metadata": {},
     "output_type": "execute_result"
    }
   ],
   "source": [
    "np.all(wp_cab_ys==wp_cab2_ys)"
   ]
  },
  {
   "cell_type": "code",
   "execution_count": 89,
   "metadata": {
    "collapsed": false
   },
   "outputs": [
    {
     "data": {
      "text/plain": [
       "True"
      ]
     },
     "execution_count": 89,
     "metadata": {},
     "output_type": "execute_result"
    }
   ],
   "source": [
    "np.all(wp_cab_cosmo==wp_cab2_cosmo)"
   ]
  },
  {
   "cell_type": "code",
   "execution_count": 93,
   "metadata": {
    "collapsed": false
   },
   "outputs": [
    {
     "name": "stdout",
     "output_type": "stream",
     "text": [
      "['ombh2' 'omch2' 'w0' 'ns' 'H0' 'Neff' 'sigma8']\n",
      "\n",
      "['ombh2' 'omch2' 'w0' 'ns' 'H0' 'Neff' 'sigma8']\n"
     ]
    }
   ],
   "source": [
    "with h5py.File('/u/ki/swmclau2/des/wp_cab_test/PearceWpCABCosmoTest.hdf5' , 'r') as wp_cab,\\\n",
    "         h5py.File('/u/ki/swmclau2/des/wp_cab_test/PearceWpCABCosmoTest2.hdf5' , 'r') as wp_cab2:\n",
    "    \n",
    "    print wp_cab.attrs['cosmo_param_names']\n",
    "    print\n",
    "    print wp_cab2.attrs['cosmo_param_names']\n",
    "    \n",
    "    wp_cab_test_cosmo = wp_cab.attrs['cosmo_param_vals']\n",
    "    wp_cab_test2_cosmo = wp_cab2.attrs['cosmo_param_vals']\n",
    "    \n",
    "    wp_cab_test_ys = np.zeros((35,100,18))\n",
    "    for i, key in enumerate(wp_cab.keys()):\n",
    "        if key=='attrs':\n",
    "            continue\n",
    "        wp_cab_test_ys[i] = wp_cab[key]['a_1.000']['obs'][()]\n",
    "        \n",
    "    wp_cab_test2_ys = np.zeros((35,100,18))\n",
    "    for i, key in enumerate(wp_cab2.keys()):\n",
    "        if key=='attrs':\n",
    "            continue\n",
    "\n",
    "        wp_cab_test2_ys[i] = wp_cab2[key]['a_1.000']['obs'][()]"
   ]
  },
  {
   "cell_type": "code",
   "execution_count": 94,
   "metadata": {
    "collapsed": false
   },
   "outputs": [
    {
     "data": {
      "text/plain": [
       "True"
      ]
     },
     "execution_count": 94,
     "metadata": {},
     "output_type": "execute_result"
    }
   ],
   "source": [
    "np.all(wp_cab_test_ys==wp_cab_test2_ys)"
   ]
  },
  {
   "cell_type": "code",
   "execution_count": 99,
   "metadata": {
    "collapsed": false
   },
   "outputs": [
    {
     "data": {
      "text/plain": [
       "(array([ 2.268325e-02,  1.140598e-01, -8.165972e-01,  9.755890e-01,\n",
       "         6.336569e+01,  2.918750e+00,  7.730715e-01]),\n",
       " array([ 2.32629e-02,  1.07830e-01, -7.26513e-01,  9.80515e-01,\n",
       "         6.32317e+01,  2.95000e+00,  6.94428e-01]))"
      ]
     },
     "execution_count": 99,
     "metadata": {},
     "output_type": "execute_result"
    }
   ],
   "source": [
    "wp_cab_test_cosmo[0,:], wp_cab_test2_cosmo[0,:]"
   ]
  },
  {
   "cell_type": "code",
   "execution_count": 78,
   "metadata": {
    "collapsed": false
   },
   "outputs": [
    {
     "name": "stdout",
     "output_type": "stream",
     "text": [
      "['ombh2' 'omch2' 'w0' 'ns' 'H0' 'Neff' 'sigma8']\n",
      "\n",
      "['ombh2' 'omch2' 'w0' 'ns' 'H0' 'Neff' 'sigma8']\n"
     ]
    }
   ],
   "source": [
    "with h5py.File('/u/ki/swmclau2/des/wp_cab/PearceWpCABCosmo.hdf5' , 'r') as wp_cab,\\\n",
    "         h5py.File('/u/ki/swmclau2/des/wp_cab_test/PearceWpCABCosmoTest.hdf5' , 'r') as wp_cab_test:\n",
    "    \n",
    "    print wp_cab.attrs['cosmo_param_names']\n",
    "    print\n",
    "    print wp_cab_test.attrs['cosmo_param_names']\n",
    "    \n",
    "    wp_cab_cosmo = wp_cab['attrs']['cosmo_param_vals'][()]\n",
    "    wp_cab_test_cosmo = wp_cab_test.attrs['cosmo_param_vals']\n",
    "    \n",
    "    wp_cab_ys = np.zeros((40,1000,18))\n",
    "    for i, key in enumerate(wp_cab.keys()):\n",
    "        if key=='attrs':\n",
    "            continue\n",
    "        wp_cab_ys[i-1] = wp_cab[key]['a_1.000']['obs'][()]\n",
    "        \n",
    "    wp_cab_test_ys = np.zeros((35,100,18))\n",
    "    for i, key in enumerate(wp_cab_test.keys()):\n",
    "\n",
    "        wp_cab_test_ys[i] = wp_cab_test[key]['a_1.000']['obs'][()]"
   ]
  },
  {
   "cell_type": "code",
   "execution_count": 64,
   "metadata": {
    "collapsed": false
   },
   "outputs": [
    {
     "data": {
      "text/plain": [
       "((40, 7), (35, 7))"
      ]
     },
     "execution_count": 64,
     "metadata": {},
     "output_type": "execute_result"
    }
   ],
   "source": [
    "wp_cab_cosmo.shape, wp_cab_test_cosmo.shape"
   ]
  },
  {
   "cell_type": "code",
   "execution_count": 65,
   "metadata": {
    "collapsed": true
   },
   "outputs": [],
   "source": [
    "rb = np.logspace(-1,1.6, 19)\n",
    "rbc = (rb[1:]+rb[:-1])/2.0"
   ]
  },
  {
   "cell_type": "code",
   "execution_count": 66,
   "metadata": {
    "collapsed": false
   },
   "outputs": [
    {
     "data": {
      "image/png": "[encoded data removed]",
      "text/plain": [
       "<matplotlib.figure.Figure at 0x7f190b9d6ad0>"
      ]
     },
     "metadata": {},
     "output_type": "display_data"
    }
   ],
   "source": [
    "plt.plot(rbc, wp_cab_ys.mean(axis = (0,1)))\n",
    "plt.plot(rbc, wp_cab_test_ys.mean(axis = (0,1)) )\n",
    "plt.loglog();\n",
    "plt.show();"
   ]
  },
  {
   "cell_type": "code",
   "execution_count": 79,
   "metadata": {
    "collapsed": false
   },
   "outputs": [
    {
     "name": "stdout",
     "output_type": "stream",
     "text": [
      "['ombh2' 'omch2' 'w0' 'ns' 'H0' 'Neff' 'sigma8']\n",
      "\n",
      "['ombh2' 'omch2' 'w0' 'ns' 'H0' 'Neff' 'sigma8']\n"
     ]
    }
   ],
   "source": [
    "with h5py.File('/u/ki/swmclau2/des/wp_zheng07/PearceWpCosmo.hdf5' , 'r') as wp_hod,\\\n",
    "         h5py.File('/u/ki/swmclau2/des/wp_zheng07_test/PearceWpCosmoTest.hdf5' , 'r') as wp_hod_test:\n",
    "    \n",
    "    print wp_hod.attrs['cosmo_param_names']\n",
    "    print\n",
    "    print wp_hod_test.attrs['cosmo_param_names']\n",
    "    \n",
    "    wp_hod_cosmo = wp_hod.attrs['cosmo_param_vals']\n",
    "    wp_hod_test_cosmo = wp_hod_test.attrs['cosmo_param_vals']\n",
    "    \n",
    "    wp_hod_ys = np.zeros((40,1000,18))\n",
    "    for i, key in enumerate(wp_hod.keys()):\n",
    "        wp_hod_ys[i] = wp_hod[key]['a_1.000']['obs'][()]\n",
    "        \n",
    "    wp_hod_test_ys = np.zeros((35,1000,18))\n",
    "    for i, key in enumerate(wp_hod_test.keys()):\n",
    "\n",
    "        wp_hod_test_ys[i] = wp_hod_test[key]['a_1.000']['obs'][()]"
   ]
  },
  {
   "cell_type": "code",
   "execution_count": 70,
   "metadata": {
    "collapsed": false
   },
   "outputs": [
    {
     "data": {
      "text/plain": [
       "True"
      ]
     },
     "execution_count": 70,
     "metadata": {},
     "output_type": "execute_result"
    }
   ],
   "source": [
    "np.all(wp_cab_cosmo == wp_hod_cosmo)"
   ]
  },
  {
   "cell_type": "code",
   "execution_count": 71,
   "metadata": {
    "collapsed": false
   },
   "outputs": [
    {
     "data": {
      "text/plain": [
       "True"
      ]
     },
     "execution_count": 71,
     "metadata": {},
     "output_type": "execute_result"
    }
   ],
   "source": [
    "np.all(wp_cab_test_cosmo == wp_hod_test_cosmo)"
   ]
  },
  {
   "cell_type": "code",
   "execution_count": 80,
   "metadata": {
    "collapsed": false
   },
   "outputs": [
    {
     "name": "stdout",
     "output_type": "stream",
     "text": [
      "['ombh2' 'omch2' 'w0' 'ns' 'H0' 'Neff' 'sigma8']\n",
      "\n",
      "['ombh2' 'omch2' 'w0' 'ns' 'H0' 'Neff' 'sigma8']\n"
     ]
    }
   ],
   "source": [
    "with h5py.File('/u/ki/swmclau2/des/ds_cab/PearceDsCABCosmo.hdf5' , 'r') as ds_cab,\\\n",
    "         h5py.File('/u/ki/swmclau2/des/ds_cab_test/PearceDsCABCosmoTest.hdf5' , 'r') as ds_cab_test:\n",
    "    \n",
    "    print ds_cab.attrs['cosmo_param_names']\n",
    "    print\n",
    "    print ds_cab_test.attrs['cosmo_param_names']\n",
    "    \n",
    "    ds_cab_cosmo = ds_cab['attrs']['cosmo_param_vals'][()]\n",
    "    ds_cab_test_cosmo = ds_cab_test.attrs['cosmo_param_vals']\n",
    "    \n",
    "    ds_cab_ys = np.zeros((40,1000,18))\n",
    "    for i, key in enumerate(ds_cab.keys()):\n",
    "        if key=='attrs':\n",
    "            continue\n",
    "        ds_cab_ys[i-1] = ds_cab[key]['a_1.000']['obs'][()]\n",
    "        \n",
    "    ds_cab_test_ys = np.zeros((35,100,18))\n",
    "    for i, key in enumerate(ds_cab_test.keys()):\n",
    "\n",
    "        ds_cab_test_ys[i] = ds_cab_test[key]['a_1.000']['obs'][()]"
   ]
  },
  {
   "cell_type": "code",
   "execution_count": 81,
   "metadata": {
    "collapsed": false
   },
   "outputs": [
    {
     "name": "stdout",
     "output_type": "stream",
     "text": [
      "['ombh2' 'omch2' 'w0' 'ns' 'H0' 'Neff' 'sigma8']\n",
      "\n",
      "['ombh2' 'omch2' 'w0' 'ns' 'H0' 'Neff' 'sigma8']\n"
     ]
    }
   ],
   "source": [
    "with h5py.File('/u/ki/swmclau2/des/ds_zheng07/PearceDsCosmo.hdf5' , 'r') as ds_hod,\\\n",
    "         h5py.File('/u/ki/swmclau2/des/ds_zheng07_test/PearceDsCosmoTest.hdf5' , 'r') as ds_hod_test:\n",
    "    \n",
    "    print ds_hod.attrs['cosmo_param_names']\n",
    "    print\n",
    "    print ds_hod_test.attrs['cosmo_param_names']\n",
    "    \n",
    "    ds_hod_cosmo = ds_hod.attrs['cosmo_param_vals']\n",
    "    ds_hod_test_cosmo = ds_hod_test.attrs['cosmo_param_vals']\n",
    "    \n",
    "    ds_hod_ys = np.zeros((40,1000,18))\n",
    "    for i, key in enumerate(ds_hod.keys()):\n",
    "        ds_hod_ys[i] = ds_hod[key]['a_1.000']['obs'][()]\n",
    "        \n",
    "    ds_hod_test_ys = np.zeros((35,1000,18))\n",
    "    for i, key in enumerate(ds_hod_test.keys()):\n",
    "\n",
    "        ds_hod_test_ys[i] = ds_hod_test[key]['a_1.000']['obs'][()]"
   ]
  },
  {
   "cell_type": "code",
   "execution_count": 74,
   "metadata": {
    "collapsed": false
   },
   "outputs": [
    {
     "data": {
      "text/plain": [
       "True"
      ]
     },
     "execution_count": 74,
     "metadata": {},
     "output_type": "execute_result"
    }
   ],
   "source": [
    "np.all(ds_cab_cosmo == wp_cab_cosmo)"
   ]
  },
  {
   "cell_type": "code",
   "execution_count": 77,
   "metadata": {
    "collapsed": false
   },
   "outputs": [
    {
     "data": {
      "text/plain": [
       "True"
      ]
     },
     "execution_count": 77,
     "metadata": {},
     "output_type": "execute_result"
    }
   ],
   "source": [
    "np.all(ds_cab_test_cosmo == wp_cab_test_cosmo)"
   ]
  },
  {
   "cell_type": "code",
   "execution_count": null,
   "metadata": {
    "collapsed": true
   },
   "outputs": [],
   "source": []
  }
 ],
 "metadata": {
  "kernelspec": {
   "display_name": "Python [conda env:hodemulator]",
   "language": "python",
   "name": "conda-env-hodemulator-py"
  },
  "language_info": {
   "codemirror_mode": {
    "name": "ipython",
    "version": 2
   },
   "file_extension": ".py",
   "mimetype": "text/x-python",
   "name": "python",
   "nbconvert_exporter": "python",
   "pygments_lexer": "ipython2",
   "version": "2.7.13"
  }
 },
 "nbformat": 4,
 "nbformat_minor": 0
}

{
 "cells": [
  {
   "cell_type": "markdown",
   "metadata": {},
   "source": [
    "I'm gonna overwrite a lot of this notebook's old content. I changed the way I'm calculating wt, and wanna test that my training worked. "
   ]
  },
  {
   "cell_type": "code",
   "execution_count": 1,
   "metadata": {
    "collapsed": false
   },
   "outputs": [],
   "source": [
    "from pearce.emulator import OriginalRecipe, ExtraCrispy\n",
    "from pearce.mocks import cat_dict\n",
    "import numpy as np\n",
    "from os import path"
   ]
  },
  {
   "cell_type": "code",
   "execution_count": 2,
   "metadata": {
    "collapsed": true
   },
   "outputs": [],
   "source": [
    "import matplotlib\n",
    "#matplotlib.use('Agg')\n",
    "from matplotlib import pyplot as plt\n",
    "%matplotlib inline\n",
    "import seaborn as sns\n",
    "sns.set()"
   ]
  },
  {
   "cell_type": "code",
   "execution_count": 3,
   "metadata": {
    "collapsed": false
   },
   "outputs": [],
   "source": [
    "training_file = '/u/ki/swmclau2/des/xi_cosmo_trainer/PearceRedMagicXiCosmoFixedNd.hdf5'\n",
    "test_file = '/u/ki/swmclau2/des/xi_cosmo_tester/PearceRedMagicXiCosmoFixedNd_test.hdf5'\n",
    "em_method = 'gp'\n",
    "split_method = 'random'"
   ]
  },
  {
   "cell_type": "code",
   "execution_count": 4,
   "metadata": {
    "collapsed": false
   },
   "outputs": [],
   "source": [
    "a = 1.0\n",
    "z = 1.0/a - 1.0"
   ]
  },
  {
   "cell_type": "code",
   "execution_count": 5,
   "metadata": {
    "collapsed": false
   },
   "outputs": [],
   "source": [
    "fixed_params = {'z':z}#, 'r':24.06822623}"
   ]
  },
  {
   "cell_type": "code",
   "execution_count": 6,
   "metadata": {
    "collapsed": false
   },
   "outputs": [
    {
     "name": "stderr",
     "output_type": "stream",
     "text": [
      "/u/ki/swmclau2/.local/lib/python2.7/site-packages/pearce/emulator/emu.py:264: UserWarning: WARNING: NaN detected. Skipped 0 points in training data.\n",
      "  warnings.warn('WARNING: NaN detected. Skipped %d points in training data.' % (num_skipped))\n"
     ]
    }
   ],
   "source": [
    "n_leaves, n_overlap = 5000, 1\n",
    "emu = ExtraCrispy(training_file, n_leaves, n_overlap, split_method, method = em_method, fixed_params=fixed_params,\n",
    "                 custom_mean_function = 'linear', downsample_factor = 1.0)"
   ]
  },
  {
   "cell_type": "raw",
   "metadata": {
    "collapsed": false
   },
   "source": [
    "emu = OriginalRecipe(training_file, method = em_method, fixed_params=fixed_params,\\\n",
    "                     custom_mean_function = 'linear', downsample_factor=0.7)#,\n",
    "                    #hyperparams = {'n_estimators': 500,\n",
    "                    #              'max_depth': 5})"
   ]
  },
  {
   "cell_type": "code",
   "execution_count": 7,
   "metadata": {
    "collapsed": false
   },
   "outputs": [
    {
     "data": {
      "text/plain": [
       "(5000, 144, 12)"
      ]
     },
     "execution_count": 7,
     "metadata": {},
     "output_type": "execute_result"
    }
   ],
   "source": [
    "emu.x.shape"
   ]
  },
  {
   "cell_type": "code",
   "execution_count": 8,
   "metadata": {
    "collapsed": false,
    "scrolled": true
   },
   "outputs": [
    {
     "data": {
      "text/plain": [
       "['ombh2',\n",
       " 'omch2',\n",
       " 'w0',\n",
       " 'ns',\n",
       " 'ln10As',\n",
       " 'H0',\n",
       " 'Neff',\n",
       " 'logM0',\n",
       " 'sigma_logM',\n",
       " 'logM1',\n",
       " 'alpha',\n",
       " 'r']"
      ]
     },
     "execution_count": 8,
     "metadata": {},
     "output_type": "execute_result"
    }
   ],
   "source": [
    "emu.get_param_names()"
   ]
  },
  {
   "cell_type": "raw",
   "metadata": {},
   "source": [
    "names = ['amp']\n",
    "names.extend(emu.get_param_names())\n",
    "dict(zip(names, np.array([1.282969797894147446e+00, 8.951664721378283575e+05, 7.830465404301183298e+04,\n",
    "                                          5.388438442608223624e-05, 4.398317466650228198e+03, 3.169582088726115320e-04,\n",
    "                                          1.253707987440919602e-01, 9.682153059967076467e-06, 2.348234600554276300e-05,\n",
    "                                          1.009271514630569800e+04, 2.837303616516211350e-04, 1.208270935044775918e-05,\n",
    "                                          5.004939102700953768e-01])))"
   ]
  },
  {
   "cell_type": "raw",
   "metadata": {},
   "source": [
    "v = np.array([-2.76674688, 39.90074862, 41.97733577, 34.908274  , 25.45566919,\n",
    "       32.9653712 , 45.25126079, 44.36071403, 43.39705654, 31.30384076,\n",
    "       29.14249287, 33.35982685, 68.25178863, 55.50543659,  0.5289175 ,\n",
    "        3.26280959,  4.88974786,  5.20163106,  3.57189386,  4.0222253 ,\n",
    "       35.7317967 ,  3.04556806,  2.37166337,  1.22982813,  3.15514574,\n",
    "        1.06641224, 31.83494205,  0.12732846,  2.85868658])"
   ]
  },
  {
   "cell_type": "raw",
   "metadata": {
    "collapsed": true
   },
   "source": [
    "v = np.array([-3.49251486e+00,  2.56895286e+02,  6.34889263e+02,  4.23540423e+00,\n",
    "        3.06144854e+01,  5.32898437e+02,  4.65947388e+00,  2.10953081e-01,\n",
    "        3.69172960e+02,  1.85079107e+02,  3.14421111e+02,  3.45236442e+02,\n",
    "        2.62822319e+02,  4.87881663e+02,  1.61183292e+00,  8.53907861e+02,\n",
    "        9.39441074e+01,  2.41645851e+01,  8.46587668e+02,  3.01748847e+02,\n",
    "        1.81427178e+00,  1.72439999e+00,  4.14188992e+00,  3.80508709e+00,\n",
    "       -1.63855507e+00,  3.42620859e+02,  3.57459354e+00])"
   ]
  },
  {
   "cell_type": "raw",
   "metadata": {
    "collapsed": true
   },
   "source": [
    "v = np.array([-2.51875005e+00,  3.99882406e+02,  2.59229552e+01,  2.91540851e+01,\n",
    "        1.39254458e+02,  8.12407915e+01,  2.49876072e+02,  2.74786641e+02,\n",
    "        4.56201422e+03,  6.03402392e+03,  8.23854446e+03,  6.63104020e+03,\n",
    "        5.20905761e+03,  1.94554178e+02, -9.88314607e-01, -1.11352182e+00,\n",
    "        2.77140729e+01,  2.82694588e+01,  1.17727291e+02,  1.27938574e+02,\n",
    "       -2.12175268e+00, -1.49398245e+00, -2.46909795e+00, -8.50671268e-01,\n",
    "       -3.76457784e+00])"
   ]
  },
  {
   "cell_type": "raw",
   "metadata": {
    "collapsed": true
   },
   "source": [
    "v = np.array([-107.63201595,   -3.00623478,    1.30030219,   73.91837015,\n",
    "         -1.24519356,   61.31984424,   -2.73478191,   80.84539419,\n",
    "         86.27226179,  -16.47626201,  -30.44683545,  -35.42641201,\n",
    "        -12.96207967,  -43.95549179,   -3.36130433,   37.9852565 ,\n",
    "          3.28282274,   57.71964132,  105.93552856,   30.52956235,\n",
    "         81.30883655,   46.50496736,   -4.63570007,    2.25765005,\n",
    "        -11.86949411,   83.41893473,   75.44653974])"
   ]
  },
  {
   "cell_type": "raw",
   "metadata": {
    "collapsed": true
   },
   "source": [
    "v = np.array([ -3.70809017,  -3.44052739,  13.41401445,  10.36063547,  -9.56185908,\n",
    "   8.74668577,  -7.97667636,  -1.31782856,  -9.98796727,  -9.63452286,\n",
    "   7.68799877,  -7.48368788, -11.23455619,   1.13359274,  -3.41003473,\n",
    "  12.78588911,   9.81411492,  -9.12662602,   8.91865132, -7.61937602,\n",
    "  -1.7967975,  -11.04892756,  -9.49986017,   9.41407695,  -8.69062493,\n",
    " -11.28011457,  -1.44207183] )"
   ]
  },
  {
   "cell_type": "raw",
   "metadata": {},
   "source": [
    "#zhongxu kenrel\n",
    "param_names = ['Omegam', 'Omegab', 'sigma_8', 'h', 'n_s', 'Neff', 'w', 'M_sat', 'alpha', 'Mcut', 'sigma_logM',\n",
    "               'eta_con', 'eta_vc', 'eta_vs', 'gamma_f']\n",
    "v = np.array([  0.2661017,   0.1054246,   1.1295944,   0.3643993,   0.2408568,\n",
    "       11.5649985,   5.6407612,   4.9071932,  10.6279446,  11.7621938,\n",
    "        4.7031938,   6.3770235,  11.7578699,  11.7547548,   8.4866085,/\n",
    "      -12.0550382,   1.8339794,  10.6161248,   2.2441632,  13.8155106,\n",
    "       10.6371797,  11.3512804,   7.342365 ,   3.1795786,   3.7658774,\n",
    "        5.0188608,   4.6846614,  13.8155106,  13.8155106,   5.545777 ,\n",
    "       13.8155106,\\  -1.5383083, -13.8155106])"
   ]
  },
  {
   "cell_type": "raw",
   "metadata": {
    "collapsed": false
   },
   "source": [
    "zhongzhu_dict = {'omch2':[0.2661017,1.8339794 ], 'ombh2':[0.1054246,10.6161248], 'ln10As':[1.1295944,2.2441632],\\\n",
    "                 'H0':[0.3643993,13.8155106],\\\n",
    "                'ns':[0.2408568,10.6371797], 'Neff':[11.5649985,11.3512804], 'w0':[5.6407612,7.342365 ],\\\n",
    "                 'logM0': [4.9071932,3.1795786,],\\\n",
    "                 'alpha':[10.6279446,3.7658774], 'logM1':[11.7621938,5.0188608], 'sigma_logM':[4.7031938, 4.6846614], 'logMmin':[1.0, 1.0],\n",
    "                'amp':[-12.0550382, 0.0,-1.5383083], 'r':[0.0, 0.0]}\n",
    "\n",
    "names = ['amp']\n",
    "names.extend(emu.get_param_names())\n",
    "from itertools import cycle\n",
    "names = cycle(names)\n",
    "amp_count = 0\n",
    "v = []\n",
    "for n in names:\n",
    "    if n== 'amp':\n",
    "        amp_count+=1\n",
    "    v.append(zhongzhu_dict[n][amp_count-1]) #this is a poison hack dont judge me\n",
    "    #v.append(zhongzhu_dict[n][amp_count]) #this is a poison hack dont judge me\n",
    "\n",
    "    if amp_count==3:\n",
    "        break\n",
    "        \n",
    "v = np.array(v)\n",
    "print v"
   ]
  },
  {
   "cell_type": "code",
   "execution_count": 9,
   "metadata": {
    "collapsed": true
   },
   "outputs": [],
   "source": [
    "zhongzhu_dict = {'omch2':[0.2661017,1.8339794 ], 'ombh2':[0.1054246,10.6161248], 'ln10As':[1.1295944,2.2441632],\\\n",
    "                 'H0':[0.3643993,13.8155106],\\\n",
    "                'ns':[0.2408568,10.6371797], 'Neff':[11.5649985,11.3512804], 'w0':[5.6407612,7.342365 ],\\\n",
    "                 'logM0': [4.9071932,3.1795786,],\\\n",
    "                 'alpha':[10.6279446,3.7658774], 'logM1':[11.7621938,5.0188608], 'sigma_logM':[4.7031938, 4.6846614], 'logMmin':[1.0, 1.0],\n",
    "                'amp':[-12.0550382, 0.0], 'r':[0.0, 0.0]}\n",
    "\n",
    "names = ['amp']\n",
    "names.extend(emu.get_param_names())\n",
    "from itertools import cycle\n",
    "names = cycle(names)\n",
    "amp_count = 0\n",
    "v = [-1.5383083]\n",
    "for n in names:\n",
    "    if n== 'amp':\n",
    "        amp_count+=1\n",
    "    if amp_count==3:\n",
    "        break\n",
    "    if n in zhongzhu_dict:\n",
    "        v.append(zhongzhu_dict[n][amp_count-1]) #this is a poison hack dont judge me\n",
    "    else:\n",
    "        v.append(1.0)\n",
    "    #v.append(zhongzhu_dict[n][amp_count]) #this is a poison hack dont judge me\n",
    "\n",
    "\n",
    "        \n",
    "v = np.array(v)"
   ]
  },
  {
   "cell_type": "raw",
   "metadata": {
    "collapsed": true
   },
   "source": [
    "v = np.array([-1.59585658e+02, -4.28609431e+00,  5.26421111e+00,  2.23600305e+00,\n",
    "        3.31933458e+00,  3.94369625e+00,  5.49058429e+00,  1.18077464e+02,\n",
    "        1.39672483e+00,  6.05653776e+00,  8.85934071e+01,  5.02868853e+00,\n",
    "        6.16913182e+00,  9.16003441e+02, -2.56178530e+00,  2.34222918e+00,\n",
    "       -3.01172284e-01,  4.39990318e-01,  1.54266085e+00,  1.48328501e+02,\n",
    "        9.24908910e-01,  1.67154090e+00,  1.48260489e+00,  1.27269583e+00,\n",
    "       -8.56570699e+00, -2.53310968e+00, -4.39899560e+00])"
   ]
  },
  {
   "cell_type": "raw",
   "metadata": {
    "collapsed": false
   },
   "source": [
    "v = np.exp(np.array([ -12.05698765,\n",
    "                     -5.10156767,    4.99788515,    2.81202948,\n",
    "          5.07089351,    4.05994827,    5.32781005,    5.11743347,\n",
    "          4.3098708 ,    1.47288301,  104.8856619 ,    1.8027826 ,\n",
    "          4.16014079,   -1.07072829, 1.0,\n",
    "          32.70689385,   12.00788258,\n",
    "         97.2300853 ,   42.13811969,   13.22048025,  100.17968175,\n",
    "         32.05458436,    8.88193458,  118.77917715,    8.56671981,\n",
    "         10.72995083, 1.0]) )"
   ]
  },
  {
   "cell_type": "code",
   "execution_count": 10,
   "metadata": {
    "collapsed": false
   },
   "outputs": [
    {
     "ename": "ValueError",
     "evalue": "NumPy boolean array indexing assignment cannot assign 27 input values to the 14 output values where the mask is true",
     "output_type": "error",
     "traceback": [
      "\u001b[1;31m---------------------------------------------------------------------------\u001b[0m",
      "\u001b[1;31mValueError\u001b[0m                                Traceback (most recent call last)",
      "\u001b[1;32m<ipython-input-10-742bdddd1835>\u001b[0m in \u001b[0;36m<module>\u001b[1;34m()\u001b[0m\n\u001b[0;32m      1\u001b[0m \u001b[1;31m#emu._emulator.set_parameter_vector(v)\u001b[0m\u001b[1;33m\u001b[0m\u001b[1;33m\u001b[0m\u001b[0m\n\u001b[0;32m      2\u001b[0m \u001b[1;32mfor\u001b[0m \u001b[0m_emulator\u001b[0m \u001b[1;32min\u001b[0m \u001b[0memu\u001b[0m\u001b[1;33m.\u001b[0m\u001b[0m_emulators\u001b[0m\u001b[1;33m:\u001b[0m\u001b[1;33m\u001b[0m\u001b[0m\n\u001b[1;32m----> 3\u001b[1;33m     \u001b[0m_emulator\u001b[0m\u001b[1;33m.\u001b[0m\u001b[0mset_parameter_vector\u001b[0m\u001b[1;33m(\u001b[0m\u001b[0mv\u001b[0m\u001b[1;33m)\u001b[0m\u001b[1;33m\u001b[0m\u001b[0m\n\u001b[0m",
      "\u001b[1;32m/u/ki/swmclau2/.conda/envs/hodemulator/lib/python2.7/site-packages/george/modeling.pyc\u001b[0m in \u001b[0;36mset_parameter_vector\u001b[1;34m(self, vector, include_frozen)\u001b[0m\n\u001b[0;32m    248\u001b[0m             \u001b[0mv\u001b[0m\u001b[1;33m[\u001b[0m\u001b[1;33m:\u001b[0m\u001b[1;33m]\u001b[0m \u001b[1;33m=\u001b[0m \u001b[0mvector\u001b[0m\u001b[1;33m\u001b[0m\u001b[0m\n\u001b[0;32m    249\u001b[0m         \u001b[1;32melse\u001b[0m\u001b[1;33m:\u001b[0m\u001b[1;33m\u001b[0m\u001b[0m\n\u001b[1;32m--> 250\u001b[1;33m             \u001b[0mv\u001b[0m\u001b[1;33m[\u001b[0m\u001b[0mself\u001b[0m\u001b[1;33m.\u001b[0m\u001b[0munfrozen_mask\u001b[0m\u001b[1;33m]\u001b[0m \u001b[1;33m=\u001b[0m \u001b[0mvector\u001b[0m\u001b[1;33m\u001b[0m\u001b[0m\n\u001b[0m\u001b[0;32m    251\u001b[0m         \u001b[0mself\u001b[0m\u001b[1;33m.\u001b[0m\u001b[0mparameter_vector\u001b[0m \u001b[1;33m=\u001b[0m \u001b[0mv\u001b[0m\u001b[1;33m\u001b[0m\u001b[0m\n\u001b[0;32m    252\u001b[0m         \u001b[0mself\u001b[0m\u001b[1;33m.\u001b[0m\u001b[0mdirty\u001b[0m \u001b[1;33m=\u001b[0m \u001b[0mTrue\u001b[0m\u001b[1;33m\u001b[0m\u001b[0m\n",
      "\u001b[1;31mValueError\u001b[0m: NumPy boolean array indexing assignment cannot assign 27 input values to the 14 output values where the mask is true"
     ]
    }
   ],
   "source": [
    "#emu._emulator.set_parameter_vector(v)\n",
    "for _emulator in emu._emulators:\n",
    "    _emulator.set_parameter_vector(v)"
   ]
  },
  {
   "cell_type": "code",
   "execution_count": null,
   "metadata": {
    "collapsed": false
   },
   "outputs": [],
   "source": [
    "gof = emu.goodness_of_fit(training_file, N = 1000, statistic = 'log_frac')\n",
    "print gof.mean()"
   ]
  },
  {
   "cell_type": "code",
   "execution_count": null,
   "metadata": {
    "collapsed": false
   },
   "outputs": [],
   "source": [
    "gof = emu.goodness_of_fit(test_file, statistic = 'log_frac')\n",
    "print gof.mean(), np.median(gof)"
   ]
  },
  {
   "cell_type": "raw",
   "metadata": {
    "collapsed": false
   },
   "source": [
    "plt.hist(np.log10(gof) );"
   ]
  },
  {
   "cell_type": "raw",
   "metadata": {
    "collapsed": true
   },
   "source": [
    "from sklearn.model_selection import train_test_split"
   ]
  },
  {
   "cell_type": "raw",
   "metadata": {
    "collapsed": false
   },
   "source": [
    "x, y, yerr = emu.x, emu.y, emu.yerr\n",
    "downsample_idxs = np.random.choice(x.shape[0], size = int(0.08*x.shape[0]), replace = False)\n",
    "x,y, yerr = x[downsample_idxs, :], y[downsample_idxs], yerr[downsample_idxs]\n",
    "\n",
    "train_x, test_x, train_y, test_y, train_yerr, test_yerr = train_test_split(x, y, yerr, test_size = 0.1)\n"
   ]
  },
  {
   "cell_type": "code",
   "execution_count": null,
   "metadata": {
    "collapsed": false
   },
   "outputs": [],
   "source": [
    "emu.x.shape"
   ]
  },
  {
   "cell_type": "code",
   "execution_count": null,
   "metadata": {
    "collapsed": false
   },
   "outputs": [],
   "source": [
    "n_cosmo_params = 7\n",
    "loo_cosmo = emu.x[0, 0,  :n_cosmo_params]\n",
    "\n",
    "loo_cosmo_idxs = np.all(emu.x[:, :,:n_cosmo_params] == loo_cosmo, axis =2)\n",
    "train_x, train_y, train_yerr = emu.x[~loo_cosmo_idxs, :], emu.y[ ~loo_cosmo_idxs], emu.yerr[ ~loo_cosmo_idxs]\n",
    "test_x, test_y, test_yerr = emu.x[loo_cosmo_idxs, :], emu.y[loo_cosmo_idxs], emu.yerr[loo_cosmo_idxs]"
   ]
  },
  {
   "cell_type": "raw",
   "metadata": {},
   "source": [
    "train_x, train_y, train_yerr = emu.x, emu.y, emu.yerr"
   ]
  },
  {
   "cell_type": "code",
   "execution_count": null,
   "metadata": {
    "collapsed": false
   },
   "outputs": [],
   "source": [
    "model = emu._emulator\n",
    "model.compute(train_x, train_yerr)"
   ]
  },
  {
   "cell_type": "raw",
   "metadata": {
    "collapsed": false
   },
   "source": [
    "test_x, test_y, test_yerr, _ = emu.get_data(test_file,fixed_params, None)"
   ]
  },
  {
   "cell_type": "code",
   "execution_count": null,
   "metadata": {
    "collapsed": false
   },
   "outputs": [],
   "source": [
    "pred_y = model.predict(train_y, test_x, False, False, False)*emu._y_std + emu._y_mean\n"
   ]
  },
  {
   "cell_type": "code",
   "execution_count": null,
   "metadata": {
    "collapsed": false
   },
   "outputs": [],
   "source": [
    "np.mean(np.abs((pred_y-test_y)/test_y))\n",
    "#np.mean(np.abs((pred_y-train_y)/train_y))"
   ]
  },
  {
   "cell_type": "raw",
   "metadata": {
    "collapsed": false,
    "scrolled": false
   },
   "source": [
    "for idx in xrange(50):\n",
    "    plt.plot(emu.scale_bin_centers, ypred[idx*emu.n_bins:(idx+1)*emu.n_bins], label = 'Emu')\n",
    "    plt.plot(emu.scale_bin_centers, emu.y[idx*emu.n_bins:(idx+1)*emu.n_bins], label = 'True')\n",
    "    plt.title(np.sum(emu.x[(idx+1)*emu.n_bins, :-1]) )\n",
    "    plt.legend(loc='best')\n",
    "    plt.xscale('log')\n",
    "    plt.show()"
   ]
  },
  {
   "cell_type": "code",
   "execution_count": null,
   "metadata": {
    "collapsed": false
   },
   "outputs": [],
   "source": [
    "resids = np.abs(emu.y*emu._y_std+emu._y_mean - ypred)"
   ]
  },
  {
   "cell_type": "code",
   "execution_count": null,
   "metadata": {
    "collapsed": false
   },
   "outputs": [],
   "source": [
    "np.mean(resids/(emu.y*emu._y_std+emu._y_mean))"
   ]
  },
  {
   "cell_type": "code",
   "execution_count": null,
   "metadata": {
    "collapsed": false
   },
   "outputs": [],
   "source": [
    "ypred.mean(), emu._y_mean"
   ]
  },
  {
   "cell_type": "raw",
   "metadata": {
    "collapsed": false
   },
   "source": [
    "plt.plot(emu.scale_bin_centers, np.abs(gof.mean(axis = 0)) )\n",
    "plt.plot(emu.scale_bin_centers, np.ones_like(emu.scale_bin_centers)*0.01)\n",
    "plt.plot(emu.scale_bin_centers, np.ones_like(emu.scale_bin_centers)*0.05)\n",
    "plt.plot(emu.scale_bin_centers, np.ones_like(emu.scale_bin_centers)*0.1)\n",
    "\n",
    "\n",
    "plt.loglog();"
   ]
  },
  {
   "cell_type": "raw",
   "metadata": {
    "collapsed": false
   },
   "source": [
    "plt.plot(emu.scale_bin_centers, np.abs(gof.T),alpha = 0.1, color = 'b')\n",
    "plt.plot(emu.scale_bin_centers, np.ones_like(emu.scale_bin_centers)*0.01, lw = 2, color = 'k')\n",
    "plt.loglog();"
   ]
  },
  {
   "cell_type": "code",
   "execution_count": null,
   "metadata": {
    "collapsed": false
   },
   "outputs": [],
   "source": [
    "test_gof = emu.goodness_of_fit(test_file, statistic = 'log_frac')\n",
    "print test_gof.mean()"
   ]
  },
  {
   "cell_type": "code",
   "execution_count": null,
   "metadata": {
    "collapsed": false
   },
   "outputs": [],
   "source": [
    "test_gof = emu.goodness_of_fit(test_file, statistic = 'frac')\n",
    "print test_gof.mean()"
   ]
  },
  {
   "cell_type": "code",
   "execution_count": null,
   "metadata": {
    "collapsed": false
   },
   "outputs": [],
   "source": [
    "plt.hist(np.log10(test_gof));"
   ]
  },
  {
   "cell_type": "code",
   "execution_count": null,
   "metadata": {
    "collapsed": false
   },
   "outputs": [],
   "source": [
    "test_x"
   ]
  },
  {
   "cell_type": "code",
   "execution_count": null,
   "metadata": {
    "collapsed": false
   },
   "outputs": [],
   "source": [
    "(emu.x*emu._x_std) + emu._x_mean"
   ]
  },
  {
   "cell_type": "code",
   "execution_count": null,
   "metadata": {
    "collapsed": false
   },
   "outputs": [],
   "source": [
    "emu.get_param_names()"
   ]
  },
  {
   "cell_type": "code",
   "execution_count": null,
   "metadata": {
    "collapsed": true
   },
   "outputs": [],
   "source": [
    "test_x_white, test_y_white = (test_x - emu._x_mean)/(emu._x_std + 1e-5), (test_y - emu._y_mean)/(emu._y_std + 1e-5)"
   ]
  },
  {
   "cell_type": "code",
   "execution_count": null,
   "metadata": {
    "collapsed": true
   },
   "outputs": [],
   "source": [
    "model = emu._emulator"
   ]
  },
  {
   "cell_type": "code",
   "execution_count": null,
   "metadata": {
    "collapsed": false
   },
   "outputs": [],
   "source": [
    "pred_y_white = model.predict(emu.y, test_x_white, False, False, False)"
   ]
  },
  {
   "cell_type": "code",
   "execution_count": null,
   "metadata": {
    "collapsed": true
   },
   "outputs": [],
   "source": [
    "pred_y = pred_y_white*emu._y_std + emu._y_mean"
   ]
  },
  {
   "cell_type": "code",
   "execution_count": null,
   "metadata": {
    "collapsed": false
   },
   "outputs": [],
   "source": [
    "plt.plot(pred_y[:100], label = 'pred')\n",
    "plt.plot(test_y[:100], label = 'truth')\n",
    "\n",
    "plt.legend(loc = 'best')"
   ]
  },
  {
   "cell_type": "code",
   "execution_count": null,
   "metadata": {
    "collapsed": false
   },
   "outputs": [],
   "source": [
    "test_y.mean(), emu._y_mean, pred_y.mean()"
   ]
  },
  {
   "cell_type": "code",
   "execution_count": null,
   "metadata": {
    "collapsed": false
   },
   "outputs": [],
   "source": [
    "test_y.std(), emu._y_std, pred_y.std()"
   ]
  },
  {
   "cell_type": "code",
   "execution_count": null,
   "metadata": {
    "collapsed": false
   },
   "outputs": [],
   "source": [
    "plt.hist(pred_y_white, bins = np.linspace(-3, 3, 100), label = 'Pred')\n",
    "plt.hist(test_y_white, bins = np.linspace(-3, 3, 100), label = 'Test', alpha = 0.4);\n",
    "plt.legend(loc = 'best')"
   ]
  },
  {
   "cell_type": "code",
   "execution_count": null,
   "metadata": {
    "collapsed": true
   },
   "outputs": [],
   "source": []
  },
  {
   "cell_type": "code",
   "execution_count": null,
   "metadata": {
    "collapsed": true
   },
   "outputs": [],
   "source": []
  }
 ],
 "metadata": {
  "kernelspec": {
   "display_name": "Python [conda env:hodemulator]",
   "language": "python",
   "name": "conda-env-hodemulator-py"
  },
  "language_info": {
   "codemirror_mode": {
    "name": "ipython",
    "version": 2
   },
   "file_extension": ".py",
   "mimetype": "text/x-python",
   "name": "python",
   "nbconvert_exporter": "python",
   "pygments_lexer": "ipython2",
   "version": "2.7.13"
  }
 },
 "nbformat": 4,
 "nbformat_minor": 0
}

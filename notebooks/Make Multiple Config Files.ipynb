{
 "cells": [
  {
   "cell_type": "markdown",
   "metadata": {},
   "source": [
    "Now that I've streamlined the MCMC process, I am going to submit multiple chains simultaneously. This notebook will make multiple, similar config files, for broad comparison. \n",
    "\n",
    "This may be rolled into pearce as a helper function, I haven't decided."
   ]
  },
  {
   "cell_type": "markdown",
   "metadata": {},
   "source": [
    "Right now I'm interested in running chain in each of the 35 boxes, all at\n",
    " 1. The xi_gg & xi_gm analysis, neglecting covariance\n",
    " 2. The same, at fixed HOD\n",
    " 3. Full analysis just for xi\n",
    " 4. Full analysis just for xi_gm"
   ]
  },
  {
   "cell_type": "code",
   "execution_count": 2,
   "metadata": {
    "collapsed": true
   },
   "outputs": [],
   "source": [
    "import yaml\n",
    "import copy\n",
    "from os import path"
   ]
  },
  {
   "cell_type": "code",
   "execution_count": 3,
   "metadata": {
    "collapsed": true
   },
   "outputs": [],
   "source": [
    "orig_cfg_fname = '/home/users/swmclau2/Git/pearce/bin/mcmc/nh_gg_mcmc_config.yaml'\n",
    "with open(orig_cfg_fname, 'r') as yamlfile:\n",
    "    orig_cfg = yaml.load(yamlfile)"
   ]
  },
  {
   "cell_type": "code",
   "execution_count": 4,
   "metadata": {},
   "outputs": [
    {
     "data": {
      "text/plain": [
       "{'chain': {'fixed_params': {},\n",
       "  'nburn': 0,\n",
       "  'nsteps': 10000,\n",
       "  'nwalkers': 400,\n",
       "  'seed': 0},\n",
       " 'data': {'cov': {'emu_cov_fname': '/home/users/swmclau2/Git/pearce/bin/covmat/xi_gg_nh_emu_cov.npy',\n",
       "   'meas_cov_fname': '/home/users/swmclau2/Git/pearce/notebooks/meas_cov_testboxes_gg.npy',\n",
       "   'shot': True},\n",
       "  'obs': {'mean': False,\n",
       "   'obs': 'xi',\n",
       "   'rbins': [0.07943282,\n",
       "    0.11220185,\n",
       "    0.15848932,\n",
       "    0.22387211,\n",
       "    0.31622777,\n",
       "    0.44668359,\n",
       "    0.63095734,\n",
       "    0.89125094,\n",
       "    1.25892541,\n",
       "    1.77827941,\n",
       "    2.51188643,\n",
       "    3.54813389,\n",
       "    5.01187234,\n",
       "    7.07945784,\n",
       "    10.0,\n",
       "    14.12537545,\n",
       "    19.95262315,\n",
       "    28.18382931,\n",
       "    39.81071706]},\n",
       "  'sim': {'gal_type': 'HOD',\n",
       "   'hod_name': 'zheng07',\n",
       "   'hod_params': {'alpha': 1.083,\n",
       "    'logM0': 13.2,\n",
       "    'logM1': 14.2,\n",
       "    'sigma_logM': 0.2},\n",
       "   'nd': '5e-4',\n",
       "   'scale_factor': 1.0,\n",
       "   'sim_hps': {'boxno': 3,\n",
       "    'downsample_factor': '1e-2',\n",
       "    'particles': False,\n",
       "    'realization': 2,\n",
       "    'system': 'sherlock'},\n",
       "   'simname': 'testbox'}},\n",
       " 'emu': {'emu_hps': {},\n",
       "  'emu_type': 'NashvilleHot',\n",
       "  'fixed_params': {'z': 0.0},\n",
       "  'training_file': '/home/users/swmclau2/scratch/xi_gg_zheng07_cosmo_v3/PearceXiggCosmo.hdf5'},\n",
       " 'fname': '/scratch/users/swmclau2/PearceMCMC/pearce_mcmc_nh_gg_v6.hdf5'}"
      ]
     },
     "execution_count": 4,
     "metadata": {},
     "output_type": "execute_result"
    }
   ],
   "source": [
    "orig_cfg"
   ]
  },
  {
   "cell_type": "raw",
   "metadata": {},
   "source": [
    "orig_sbatch_fname = '/home/users/swmclau2/Git/pearce/bin/mcmc/config/pearce_mcmc_config_test.sbatch'\n",
    "with open(orig_sbatch_fname, 'r') as f:\n",
    "    lines = []\n",
    "    for line in f:\n",
    "        lines.append(line)\n",
    "        \n",
    "orig_sbatch = ''.join(lines)"
   ]
  },
  {
   "cell_type": "code",
   "execution_count": 5,
   "metadata": {
    "collapsed": true
   },
   "outputs": [],
   "source": [
    "#this will enable easier string formatting\n",
    "sbatch_template = \"\"\"#!/bin/bash\n",
    "#SBATCH --job-name={jobname}\n",
    "#SBATCH --time=08:00:00\n",
    "#SBATCH -p iric\n",
    "#SBATCH -o /home/users/swmclau2/Git/pearce/bin/mcmc/config/{jobname}.out\n",
    "#SBATCH --ntasks=16\n",
    "#SBATCH --exclusive\n",
    "\n",
    "module load python/2.7.13\n",
    "module load py-scipystack\n",
    "module load hdf5/1.10.0p1\n",
    "python /home/users/swmclau2/Git/pearce/pearce/inference/initialize_mcmc.py {jobname}.yaml\n",
    "python /home/users/swmclau2/Git/pearce/pearce/inference/run_mcmc.py {jobname}.yaml\n",
    "\"\"\""
   ]
  },
  {
   "cell_type": "markdown",
   "metadata": {},
   "source": [
    "## $$ \\xi_{gg} \\& \\xi_{gm} $$\n",
    "----\n",
    "For this one, only have to change boxno and realization no. "
   ]
  },
  {
   "cell_type": "raw",
   "metadata": {
    "collapsed": true
   },
   "source": [
    "tmp_cfg = copy.deepcopy(orig_cfg)\n",
    "directory = \"/home/users/swmclau2/Git/pearce/bin/mcmc/config/\"\n",
    "output_dir = \"/home/users/swmclau2/scratch/PearceMCMC/\"\n",
    "jobname_template = \"b{boxno}r{realization}_xi_gg_gm_joint_ind\"\n",
    "for boxno in xrange(7):\n",
    "    for realization in xrange(5):\n",
    "        tmp_cfg['data']['sim']['sim_hps']['boxno'] = boxno\n",
    "        tmp_cfg['data']['sim']['sim_hps']['realization'] = realization\n",
    "        \n",
    "        tmp_cfg['emu']['emu_type'] = ['SpicyBuffalo', 'SpicyBuffalo']\n",
    "        tmp_cfg['emu']['training_file'] = ['/scratch/users/swmclau2/xi_zheng07_cosmo_lowmsat/PearceRedMagicXiCosmoFixedNd.hdf5',\\\n",
    "                                           '/scratch/users/swmclau2/xi_gm_cosmo/PearceRedMagicXiGMCosmoFixedNd.hdf5']\n",
    "        \n",
    "        jobname = jobname_template.format(boxno=boxno, realization=realization)\n",
    "        tmp_cfg['fname'] = path.join(output_dir, jobname+'.hdf5')\n",
    "\n",
    "        with open(path.join(directory, jobname +'.yaml'), 'w') as f:\n",
    "            yaml.dump(tmp_cfg, f)\n",
    "            \n",
    "        with open(path.join(directory, jobname + '.sbatch'), 'w') as f:\n",
    "            f.write(sbatch_template.format(jobname=jobname))"
   ]
  },
  {
   "cell_type": "raw",
   "metadata": {},
   "source": [
    "%%bash\n",
    "ls /home/users/swmclau2/Git/pearce/bin/mcmc/config/*"
   ]
  },
  {
   "cell_type": "markdown",
   "metadata": {},
   "source": [
    "## $$ \\xi_{gg}$$,  Fixed HOD\n",
    "----\n",
    "Same as above, but also adjust fixed parameters. "
   ]
  },
  {
   "cell_type": "raw",
   "metadata": {
    "collapsed": true
   },
   "source": [
    "tmp_cfg = copy.deepcopy(orig_cfg)\n",
    "directory = \"/home/users/swmclau2/Git/pearce/bin/mcmc/config/\"\n",
    "jobname_template = \"b{boxno}r{realization}_xi_gg_gm_joint_ind_fixed_HOD\"\n",
    "output_dir = \"/home/users/swmclau2/scratch/PearceMCMC/\"\n",
    "\n",
    "for boxno in xrange(7):\n",
    "    for realization in xrange(5):\n",
    "        tmp_cfg['data']['sim']['sim_hps']['boxno'] = boxno\n",
    "        tmp_cfg['data']['sim']['sim_hps']['realization'] = realization\n",
    "        tmp_cfg['chain']['fixed_params'] = 'HOD'\n",
    "        \n",
    "        tmp_cfg['emu']['emu_type'] = ['SpicyBuffalo', 'SpicyBuffalo']\n",
    "        tmp_cfg['emu']['training_file'] = ['/scratch/users/swmclau2/xi_zheng07_cosmo_lowmsat/PearceRedMagicXiCosmoFixedNd.hdf5',\\\n",
    "                                           '/scratch/users/swmclau2/xi_gm_cosmo/PearceRedMagicXiGMCosmoFixedNd.hdf5']\n",
    "        \n",
    "        jobname = jobname_template.format(boxno=boxno, realization=realization)\n",
    "        tmp_cfg['fname'] = path.join(output_dir, jobname+'.hdf5')\n",
    "\n",
    "        with open(path.join(directory, jobname +'.yaml'), 'w') as f:\n",
    "            yaml.dump(tmp_cfg, f)\n",
    "            \n",
    "        with open(path.join(directory, jobname + '.sbatch'), 'w') as f:\n",
    "            f.write(sbatch_template.format(jobname=jobname))"
   ]
  },
  {
   "cell_type": "markdown",
   "metadata": {},
   "source": [
    "## $$ \\xi_{gg}$$\n",
    "----\n",
    "Have to change a few of the observations here. "
   ]
  },
  {
   "cell_type": "raw",
   "metadata": {},
   "source": [
    "tmp_cfg = copy.deepcopy(orig_cfg)\n",
    "directory = \"/home/users/swmclau2/Git/pearce/bin/mcmc/config/\"\n",
    "output_dir = \"/home/users/swmclau2/scratch/PearceMCMC/\"\n",
    "jobname_template = \"b{boxno}r{realization}_xi_gg\"\n",
    "#for boxno in xrange(7):\n",
    "boxno = 3\n",
    "for realization in xrange(5):\n",
    "    tmp_cfg['data']['sim']['sim_hps']['boxno'] = boxno\n",
    "    tmp_cfg['data']['sim']['sim_hps']['realization'] = realization\n",
    "\n",
    "    #tmp_cfg['data']['cov']['emu_cov_fname'] = 'xigg_scov.npy'\n",
    "\n",
    "    #tmp_cfg['data']['obs']['obs'] = 'xi'\n",
    "\n",
    "    jobname = jobname_template.format(boxno=boxno, realization=realization)\n",
    "    tmp_cfg['fname'] = path.join(output_dir, jobname+'.hdf5')\n",
    "\n",
    "    with open(path.join(directory, jobname +'.yaml'), 'w') as f:\n",
    "        yaml.dump(tmp_cfg, f)\n",
    "\n",
    "    with open(path.join(directory, jobname + '.sbatch'), 'w') as f:\n",
    "        f.write(sbatch_template.format(jobname=jobname))"
   ]
  },
  {
   "cell_type": "markdown",
   "metadata": {},
   "source": [
    "## $$ \\xi_{gg}$$ + AB\n",
    "----\n",
    "Have to change a few of the observations here. "
   ]
  },
  {
   "cell_type": "code",
   "execution_count": 6,
   "metadata": {},
   "outputs": [],
   "source": [
    "tmp_cfg = copy.deepcopy(orig_cfg)\n",
    "directory = \"/home/users/swmclau2/Git/pearce/bin/mcmc/config/\"\n",
    "output_dir = \"/home/users/swmclau2/scratch/PearceMCMC/\"\n",
    "jobname_template = \"b{boxno}r{realization}_xi_gg_hsab\"\n",
    "#for boxno in xrange(7):\n",
    "boxno = 3\n",
    "for realization in xrange(5):\n",
    "    tmp_cfg['data']['sim']['sim_hps']['boxno'] = boxno\n",
    "    tmp_cfg['data']['sim']['sim_hps']['realization'] = realization\n",
    "\n",
    "    #tmp_cfg['data']['cov']['emu_cov_fname'] = 'xigg_scov.npy'\n",
    "\n",
    "    #tmp_cfg['data']['obs']['obs'] = 'xi'\n",
    "    tmp_cfg['sim']= {'gal_type': 'HOD',\n",
    "   'hod_name': 'hsabZheng07',\n",
    "   'hod_params': {'alpha': 1.083,\n",
    "    'logM0': 13.2,\n",
    "    'logM1': 14.2,\n",
    "    'sigma_logM': 0.2,\n",
    "    'mean_occupation_cens_param1':0.6,\n",
    "    'mean_occupation_sats_param1':-0.4},\n",
    "   'nd': '5e-4',\n",
    "   'scale_factor': 1.0,\n",
    "   'sim_hps': {'boxno': 3,\n",
    "    'downsample_factor': '1e-2',\n",
    "    'particles': False,\n",
    "    'realization': 2,\n",
    "    'system': 'sherlock'},\n",
    "   'simname': 'testbox'}\n",
    "\n",
    "    jobname = jobname_template.format(boxno=boxno, realization=realization)\n",
    "    tmp_cfg['fname'] = path.join(output_dir, jobname+'.hdf5')\n",
    "\n",
    "    with open(path.join(directory, jobname +'.yaml'), 'w') as f:\n",
    "        yaml.dump(tmp_cfg, f)\n",
    "\n",
    "    with open(path.join(directory, jobname + '.sbatch'), 'w') as f:\n",
    "        f.write(sbatch_template.format(jobname=jobname))"
   ]
  },
  {
   "cell_type": "markdown",
   "metadata": {},
   "source": [
    "## $$ \\xi_{gm}$$\n",
    "----\n",
    "Have to change a few of the observations here. "
   ]
  },
  {
   "cell_type": "raw",
   "metadata": {
    "collapsed": true
   },
   "source": [
    "tmp_cfg = copy.deepcopy(orig_cfg)\n",
    "directory = \"/home/users/swmclau2/Git/pearce/bin/mcmc/config/\"\n",
    "output_dir = \"/home/users/swmclau2/scratch/PearceMCMC/\"\n",
    "jobname_template = \"b{boxno}r{realization}_xi_gm\"\n",
    "for boxno in xrange(7):\n",
    "    for realization in xrange(5):\n",
    "        tmp_cfg['data']['sim']['sim_hps']['boxno'] = boxno\n",
    "        tmp_cfg['data']['sim']['sim_hps']['realization'] = realization\n",
    "        \n",
    "        tmp_cfg['data']['cov']['emu_cov_fname'] = 'xigm_scov.npy'\n",
    "        \n",
    "        tmp_cfg['data']['obs']['obs'] = 'xi_gm'\n",
    "        \n",
    "        tmp_cfg['emu']['emu_type'] = 'SpicyBuffalo'\n",
    "        tmp_cfg['emu']['training_file'] =  '/scratch/users/swmclau2/xi_gm_cosmo/PearceRedMagicXiGMCosmoFixedNd.hdf5'\n",
    "        \n",
    "        jobname = jobname_template.format(boxno=boxno, realization=realization)\n",
    "        tmp_cfg['fname'] = path.join(output_dir, jobname+'.hdf5')\n",
    "\n",
    "        with open(path.join(directory, jobname +'.yaml'), 'w') as f:\n",
    "            yaml.dump(tmp_cfg, f)\n",
    "            \n",
    "        with open(path.join(directory, jobname + '.sbatch'), 'w') as f:\n",
    "            f.write(sbatch_template.format(jobname=jobname))"
   ]
  },
  {
   "cell_type": "raw",
   "metadata": {},
   "source": [
    "%%bash\n",
    "ls /home/users/swmclau2/Git/pearce/bin/mcmc/config/*.yaml"
   ]
  },
  {
   "cell_type": "code",
   "execution_count": null,
   "metadata": {
    "collapsed": true
   },
   "outputs": [],
   "source": []
  }
 ],
 "metadata": {
  "kernelspec": {
   "display_name": "Python 2",
   "language": "python",
   "name": "python2"
  },
  "language_info": {
   "codemirror_mode": {
    "name": "ipython",
    "version": 2
   },
   "file_extension": ".py",
   "mimetype": "text/x-python",
   "name": "python",
   "nbconvert_exporter": "python",
   "pygments_lexer": "ipython2",
   "version": "2.7.13"
  }
 },
 "nbformat": 4,
 "nbformat_minor": 2
}

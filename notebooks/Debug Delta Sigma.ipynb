{
 "cells": [
  {
   "cell_type": "markdown",
   "metadata": {},
   "source": [
    "I fixed the TPCF issues, but now the delta sigma projection integration is being troublesome. I'm gonna do them for a few rp_bins to figure out what is sensible agian. "
   ]
  },
  {
   "cell_type": "code",
   "execution_count": 2,
   "metadata": {
    "collapsed": false
   },
   "outputs": [],
   "source": [
    "import numpy as np\n",
    "from glob import glob\n",
    "from os import path"
   ]
  },
  {
   "cell_type": "code",
   "execution_count": 3,
   "metadata": {
    "collapsed": false
   },
   "outputs": [],
   "source": [
    "from matplotlib import pyplot as plt\n",
    "%matplotlib inline\n",
    "import seaborn as sns\n",
    "sns.set()\n",
    "import matplotlib.colors as colors"
   ]
  },
  {
   "cell_type": "code",
   "execution_count": 4,
   "metadata": {
    "collapsed": true
   },
   "outputs": [],
   "source": [
    "from pearce.mocks.kittens import DarkSky\n",
    "from pearce.mocks import tpcf as pearce_tpcf\n",
    "from halotools.mock_observables import tpcf as halotools_tpcf\n",
    "from halotools.empirical_models import Zheng07Cens, Zheng07Sats\n",
    "from collections import OrderedDict\n",
    "from time import time\n",
    "from scipy.optimize import minimize_scalar\n",
    "import yaml"
   ]
  },
  {
   "cell_type": "code",
   "execution_count": 5,
   "metadata": {
    "collapsed": true
   },
   "outputs": [],
   "source": [
    "output_dir = './'# '/home/users/swmclau2/Git/pearce/bin/covmat/ds14_covmat/'"
   ]
  },
  {
   "cell_type": "code",
   "execution_count": 6,
   "metadata": {
    "collapsed": true
   },
   "outputs": [],
   "source": [
    "config_fname = 'xi_cosmo_trainer.yaml'\n",
    "\n",
    "with open(path.join(output_dir, config_fname), 'r') as ymlfile:\n",
    "    cfg = yaml.load(ymlfile)\n",
    "\n",
    "nd = float(cfg['HOD']['fixed_nd'] )\n",
    "min_ptcl = int(cfg['HOD']['min_ptcl'])\n",
    "r_bins = np.array(cfg['observation']['bins'] ).astype(float)\n",
    "\n",
    "hod_param_ranges =  cfg['HOD']['ordered_params']\n",
    "\n",
    "\n",
    "logMmin_bounds = hod_param_ranges['logMmin']\n",
    "\n",
    "\n",
    "del hod_param_ranges['logMmin']"
   ]
  },
  {
   "cell_type": "code",
   "execution_count": 7,
   "metadata": {
    "collapsed": true
   },
   "outputs": [],
   "source": [
    "def make_LHC(ordered_params, N, seed = None):\n",
    "\n",
    "    if seed is None:\n",
    "        seed = int(time())\n",
    "    np.random.seed(seed)\n",
    "\n",
    "    points = []\n",
    "    # by linspacing each parameter and shuffling, I ensure there is only one point in each row, in each dimension.\n",
    "    for plow, phigh in ordered_params.itervalues():\n",
    "        point = np.linspace(plow, phigh, num=N)\n",
    "        np.random.shuffle(point)  # makes the cube random.\n",
    "        points.append(point)\n",
    "    return np.stack(points).T\n",
    "\n",
    "\n",
    "def add_logMmin(hod_params, cat):\n",
    "\n",
    "    hod_params['logMmin'] = 13.0 #initial guess\n",
    "    #cat.populate(hod_params) #may be overkill, but will ensure params are written everywhere\n",
    "    def func(logMmin, hod_params):\n",
    "        hod_params.update({'logMmin':logMmin})\n",
    "        return (cat.calc_analytic_nd(hod_params, min_ptcl = min_ptcl) - nd)**2\n",
    "\n",
    "    res = minimize_scalar(func, bounds = logMmin_bounds, args = (hod_params,), options = {'maxiter':100}, method = 'Bounded')\n",
    "\n",
    "    # assuming this doens't fail\n",
    "    #print 'logMmin', res.x\n",
    "    hod_params['logMmin'] = res.x"
   ]
  },
  {
   "cell_type": "code",
   "execution_count": 8,
   "metadata": {
    "collapsed": true
   },
   "outputs": [],
   "source": [
    "from pearce.mocks.kittens import TestBox\n",
    "cat = TestBox(boxno = 0, realization = 0, system = 'ki-ls')\n",
    "cat.load(1.0, HOD='zheng07', particles = True, downsample_factor = 1e-2)"
   ]
  },
  {
   "cell_type": "code",
   "execution_count": 9,
   "metadata": {
    "collapsed": true
   },
   "outputs": [],
   "source": [
    "# TODO seed here for constant HODs\n",
    "# TODO maybe just do 5, 10 may be overkill\n",
    "N = 10\n",
    "LHC = make_LHC(hod_param_ranges, N, 24)\n",
    "hod_dicts = [dict(zip(hod_param_ranges.keys(), vals)) for vals in LHC]"
   ]
  },
  {
   "cell_type": "code",
   "execution_count": 10,
   "metadata": {
    "collapsed": false
   },
   "outputs": [
    {
     "name": "stderr",
     "output_type": "stream",
     "text": [
      "/u/ki/swmclau2/.local/lib/python2.7/site-packages/halotools-0.7.dev5005-py2.7-linux-x86_64.egg/halotools/empirical_models/phase_space_models/analytic_models/monte_carlo_helpers.py:205: FutureWarning: Using a non-tuple sequence for multidimensional indexing is deprecated; use `arr[tuple(seq)]` instead of `arr[seq]`. In the future this will be interpreted as an array index, `arr[np.array(seq)]`, which will result either in an error or a different result.\n",
      "  self.rad_prof_func_table_indices[digitized_param_list]\n",
      "/u/ki/swmclau2/.local/lib/python2.7/site-packages/halotools-0.7.dev5005-py2.7-linux-x86_64.egg/halotools/empirical_models/phase_space_models/analytic_models/monte_carlo_helpers.py:522: FutureWarning: Using a non-tuple sequence for multidimensional indexing is deprecated; use `arr[tuple(seq)]` instead of `arr[seq]`. In the future this will be interpreted as an array index, `arr[np.array(seq)]`, which will result either in an error or a different result.\n",
      "  self.rad_prof_func_table_indices[digitized_param_list]\n"
     ]
    }
   ],
   "source": [
    "cat.populate(hod_dicts[1])"
   ]
  },
  {
   "cell_type": "code",
   "execution_count": 12,
   "metadata": {
    "collapsed": false
   },
   "outputs": [
    {
     "data": {
      "text/plain": [
       "(['ombh2', 'omch2', 'w0', 'ns', 'ln10As', 'H0', 'Neff'],\n",
       " array([ 2.32629e-02,  1.07830e-01, -7.26513e-01,  9.80515e-01,\n",
       "         3.03895e+00,  6.32317e+01,  2.95000e+00]))"
      ]
     },
     "execution_count": 12,
     "metadata": {},
     "output_type": "execute_result"
    }
   ],
   "source": [
    "cat._get_cosmo_param_names_vals()"
   ]
  },
  {
   "cell_type": "code",
   "execution_count": 13,
   "metadata": {
    "collapsed": true
   },
   "outputs": [],
   "source": [
    "from halotools.mock_observables import return_xyz_formatted_array, delta_sigma, tpcf"
   ]
  },
  {
   "cell_type": "code",
   "execution_count": 14,
   "metadata": {
    "collapsed": true
   },
   "outputs": [],
   "source": [
    "def calc_ds(cat, bins):\n",
    "    #n_cores = self._check_cores(n_cores)\n",
    "    n_cores = 2\n",
    "    \n",
    "    x_g, y_g, z_g = [cat.model.mock.galaxy_table[c] for c in ['x', 'y', 'z']]\n",
    "    pos_g = return_xyz_formatted_array(x_g, y_g, z_g, period=cat.Lbox)\n",
    "\n",
    "    x_m, y_m, z_m = [cat.halocat.ptcl_table[c] for c in ['x', 'y', 'z']]\n",
    "    pos_m = return_xyz_formatted_array(x_m, y_m, z_m, period=cat.Lbox)\n",
    "\n",
    "    rp_bins = bins #if not angular else self._rp_from_ang(bins)\n",
    "\n",
    "    # Halotools wnats downsampling factor defined oppositley\n",
    "    # TODO verify little h!\n",
    "    # TODO maybe split into a few lines for clarity\n",
    "    return delta_sigma(pos_g / cat.h, pos_m / cat.h, cat.pmass / cat.h,\n",
    "                   downsampling_factor=1. / cat._downsample_factor, rp_bins=rp_bins,\n",
    "                   period=cat.Lbox / cat.h, num_threads=n_cores, cosmology=cat.cosmology)[1] / (1e12)\n"
   ]
  },
  {
   "cell_type": "code",
   "execution_count": 15,
   "metadata": {
    "collapsed": true
   },
   "outputs": [],
   "source": [
    "from scipy.interpolate import interp1d\n",
    "import pyccl as ccl\n",
    "from scipy.integrate import quad"
   ]
  },
  {
   "cell_type": "raw",
   "metadata": {},
   "source": [
    "def calc_ds_analytic(cat, bins, xi = None, rbins = None):    \n",
    "    n_cores = 1#self._check_cores(n_cores)\n",
    "    # calculate xi_gg first\n",
    "    xi_kwargs = {}\n",
    "    if xi is None:\n",
    "        assert rbins is None\n",
    "        _rbins = np.logspace(-2, 1.6, 21)\n",
    "        rbins = np.zeros((_rbins.shape[0]-1))\n",
    "        rbins[0] = _rbins[0]\n",
    "        rbins[1:] = _rbins[2:]\n",
    "        xi = cat.calc_xi_gm(rbins, n_cores=n_cores, **xi_kwargs)\n",
    "    else:\n",
    "        assert rbins is not None, \"Must specify rbins along with xi\"\n",
    "\n",
    "    if np.any(xi <= 0):\n",
    "        warnings.warn(\n",
    "            \"Some values of xi are less than 0. Setting to a small nonzero value. This may have unexpected behavior, check your HOD\")\n",
    "        xi[xi <= 0] = 1e-3\n",
    "\n",
    "    rpoints = (rbins[:-1] + rbins[1:]) / 2.0\n",
    "    xi_rmin, xi_rmax = rpoints[0], rpoints[-1]\n",
    "\n",
    "    # make an interpolator for integrating\n",
    "    xi_interp = interp1d(np.log10(rpoints), np.log10(xi))\n",
    "\n",
    "    # get the theotertical matter xi, for large scale estimates\n",
    "    names, vals = cat._get_cosmo_param_names_vals()\n",
    "    param_dict = {n: v for n, v in zip(names, vals)}\n",
    "    if 'omch2' in param_dict: # in other units, convert\n",
    "        new_param_dict = {}\n",
    "        new_param_dict['Omega_c'] = param_dict['omch2']/cat.h**2\n",
    "        new_param_dict['Omega_b'] = param_dict['ombh2']/cat.h**2\n",
    "        new_param_dict['n_s'] = param_dict['ns']\n",
    "        new_param_dict['h'] = cat.h\n",
    "        new_param_dict['A_s'] = np.exp(param_dict['ln10As'])/(np.power(10, 10))\n",
    "\n",
    "        param_dict = new_param_dict\n",
    "\n",
    "    \n",
    "    elif 'Omega_c' not in param_dict:\n",
    "        param_dict['Omega_c'] = param_dict['Omega_m'] - param_dict['Omega_b']\n",
    "        del param_dict['Omega_m']\n",
    "\n",
    "    cosmo = ccl.Cosmology(**param_dict)\n",
    "\n",
    "    big_rbins = np.logspace(1, 2.3, 21)\n",
    "    big_rpoints = (big_rbins[1:] + big_rbins[:-1]) / 2.0\n",
    "    big_xi_rmax = big_rpoints[-1]\n",
    "    xi_mm = ccl.correlation_3d(cosmo, cat.a, big_rpoints)\n",
    "\n",
    "    xi_mm[xi_mm < 0] = 1e-6  # may wanna change this?\n",
    "    xi_mm_interp = interp1d(np.log10(big_rpoints), np.log10(xi_mm))\n",
    "\n",
    "    # correction factor\n",
    "    bias = np.power(10, xi_interp(1.2) - xi_mm_interp(1.2))\n",
    "    rhocrit = cat.cosmology.critical_density(0).to('Msun/(Mpc^3)').value\n",
    "    rhom = cat.cosmology.Om(0) * rhocrit * 1e-12  # SM h^2/pc^2/Mpc; integral is over Mpc/h\n",
    "\n",
    "    def sigma_integrand_medium_scales(lRz, Rp, xi_interp):\n",
    "        Rz = np.exp(lRz)\n",
    "        #print \"Med\", Rz, Rp, rpoints[0]\n",
    "        return Rz * 10 ** xi_interp(np.log10(Rz * Rz + Rp * Rp) * 0.5)\n",
    "\n",
    "    def sigma_integrand_large_scales(lRz, Rp, bias, xi_mm_interp):\n",
    "        Rz = np.exp(lRz)\n",
    "        #print \"Large\", Rz, Rp, rpoints[0]\n",
    "        return Rz * bias * 10 ** xi_mm_interp(np.log10(Rz * Rz + Rp * Rp) * 0.5)\n",
    "\n",
    "    ### calculate sigma first###\n",
    "\n",
    "    sigma_rpoints = np.logspace(-1.5, 2.2, 15)\n",
    "\n",
    "    sigma = np.zeros_like(sigma_rpoints)\n",
    "    for i, rp in enumerate(sigma_rpoints):\n",
    "        log_u_ss_max = np.log(xi_rmax ** 2 - rp ** 2) / 2.0  # Max distance to integrate to\n",
    "        log_u_ls_max = np.log(big_xi_rmax ** 2 - rp ** 2) / 2.0  # Max distance to integrate to\n",
    "\n",
    "        if not np.isnan(log_u_ss_max):  # rp > xi_rmax\n",
    "            small_scales_contribution = \\\n",
    "                    quad(sigma_integrand_medium_scales, -10, log_u_ss_max, args=(rp, xi_interp))[0]\n",
    "            Rz = np.exp(log_u_ls_max)\n",
    "\n",
    "            large_scales_contribution = quad(sigma_integrand_large_scales, log_u_ss_max, log_u_ls_max, \\\n",
    "                                             args=(rp, bias, xi_mm_interp))[0]\n",
    "        elif not np.isnan(log_u_ls_max):\n",
    "            small_scales_contribution = 0\n",
    "            large_scales_contribution = quad(sigma_integrand_large_scales, np.log(xi_rmax), log_u_ls_max, \\\n",
    "\n",
    "                                                                                              args=(rp, bias, xi_mm_interp))[0]\n",
    "        else:\n",
    "            small_scales_contribution = large_scales_contribution = 0.0\n",
    "\n",
    "        assert not any(np.isnan(c) for c in\n",
    "                       (small_scales_contribution, large_scales_contribution)), \"NaN found, aborting calculation\"\n",
    "        sigma[i] = (small_scales_contribution + large_scales_contribution) * rhom * 2;\n",
    "\n",
    "    sigma_interp = interp1d(np.log10(sigma_rpoints), sigma)\n",
    "\n",
    "    ### calculate delta sigma ###\n",
    "\n",
    "    def DS_integrand_medium_scales(lR, sigma_interp):\n",
    "        #print 'DS', np.exp(lR), rp_points[0]\n",
    "        return np.exp(2 * lR) * sigma_interp(np.log10(np.exp(lR)))\n",
    "\n",
    "    rp_bins = bins #if not angular else cat._rp_from_ang(bins)\n",
    "\n",
    "    rp_points = (rp_bins[1:] + rp_bins[:-1]) / 2.0\n",
    "    lrmin = np.log(sigma_rpoints[0])\n",
    "    ds = np.zeros_like(rp_points)\n",
    "\n",
    "    for i, rp in enumerate(rp_points):\n",
    "        result = quad(DS_integrand_medium_scales, lrmin, np.log(rp), args=(sigma_interp,))[0]\n",
    "        print i, np.exp(lrmin),  rp, result * 2 / (rp ** 2),  sigma_interp(np.log10(rp))\n",
    "# print result, rp, sigma_interp(np.log10(rp))\n",
    "        ds[i] = result * 2 / (rp ** 2) - sigma_interp(np.log10(rp))\n",
    "\n",
    "    return xi, sigma, ds\n"
   ]
  },
  {
   "cell_type": "code",
   "execution_count": 16,
   "metadata": {
    "collapsed": false
   },
   "outputs": [],
   "source": [
    "from halotools.mock_observables import delta_sigma_from_precomputed_pairs\n",
    "from halotools.mock_observables import  total_mass_enclosed_per_cylinder as tmepc_halotools\n",
    "from halotools.mock_observables.surface_density.mass_in_cylinders import _enclosed_mass_process_args\n",
    "from halotools.mock_observables.surface_density.weighted_npairs_per_object_xy import weighted_npairs_per_object_xy"
   ]
  },
  {
   "cell_type": "code",
   "execution_count": 17,
   "metadata": {
    "collapsed": false
   },
   "outputs": [],
   "source": [
    "def total_mass_enclosed_per_cylinder(centers, particles,\n",
    "        particle_masses, downsampling_factor, rp_bins, period,\n",
    "        num_threads=1, approx_cell1_size=None, approx_cell2_size=None):\n",
    "\n",
    "#  Perform bounds-checking and error-handling in private helper functions\n",
    "    #print period\n",
    "    args = (centers, particles, particle_masses, downsampling_factor,\n",
    "        rp_bins, period, num_threads)\n",
    "    result = _enclosed_mass_process_args(*args)\n",
    "    centers, particles, particle_masses, downsampling_factor, \\\n",
    "        rp_bins, period, num_threads, PBCs = result\n",
    "\n",
    "    #print 'PBCs:', PBCs\n",
    "    #print 'Period:', period\n",
    "    #period = None\n",
    "    mean_particle_mass = np.mean(particle_masses)\n",
    "    normalized_particle_masses = particle_masses/mean_particle_mass\n",
    "\n",
    "    # Calculate M_tot(< Rp) normalized with internal code units\n",
    "    total_mass_per_cylinder = weighted_npairs_per_object_xy(centers, particles,\n",
    "        normalized_particle_masses, rp_bins,\n",
    "        period=None, num_threads=num_threads, #try large finite PBCs\n",
    "        approx_cell1_size=approx_cell1_size,\n",
    "        approx_cell2_size=approx_cell2_size)\n",
    "\n",
    "    # Renormalize the particle masses and account for downsampling\n",
    "    total_mass_per_cylinder *= downsampling_factor*mean_particle_mass\n",
    "\n",
    "    return total_mass_per_cylinder\n"
   ]
  },
  {
   "cell_type": "code",
   "execution_count": 18,
   "metadata": {
    "collapsed": true
   },
   "outputs": [],
   "source": [
    "def calc_tm(cat, bins):\n",
    "    #n_cores = self._check_cores(n_cores)\n",
    "    n_cores = 2\n",
    "    \n",
    "    x_g, y_g, z_g = [cat.model.mock.galaxy_table[c] for c in ['x', 'y', 'z']]\n",
    "    pos_g = return_xyz_formatted_array(x_g, y_g, z_g, period=cat.Lbox)\n",
    "\n",
    "    x_m, y_m, z_m = [cat.halocat.ptcl_table[c] for c in ['x', 'y', 'z']]\n",
    "    pos_m = return_xyz_formatted_array(x_m, y_m, z_m, period=cat.Lbox)\n",
    "\n",
    "    rp_bins = bins #if not angular else self._rp_from_ang(bins)\n",
    "    tm = total_mass_enclosed_per_cylinder(pos_g/cat.h, pos_m/cat.h, cat.pmass/cat.h,\\\n",
    "                                     1./cat._downsample_factor, rp_bins,# cat.Lbox/cat.h,\\\n",
    "                                          cat.Lbox/cat.h,\\\n",
    "                                         num_threads = n_cores)\n",
    "    \n",
    "    tm_ht = tmepc_halotools(pos_g/cat.h, pos_m/cat.h, cat.pmass/cat.h,\\\n",
    "                                     1./cat._downsample_factor, rp_bins,# cat.Lbox/cat.h,\\\n",
    "                                          cat.Lbox/cat.h,\\\n",
    "                                         num_threads = n_cores)\n",
    "    \n",
    "    return tm, tm_ht"
   ]
  },
  {
   "cell_type": "code",
   "execution_count": 19,
   "metadata": {
    "collapsed": false
   },
   "outputs": [],
   "source": [
    "def calc_ds2(cat, bins, tm):\n",
    "    \n",
    "    x_g, y_g, z_g = [cat.model.mock.galaxy_table[c] for c in ['x', 'y', 'z']]\n",
    "    pos_g = return_xyz_formatted_array(x_g, y_g, z_g, period=cat.Lbox)\n",
    "\n",
    "   \n",
    "    ds = delta_sigma_from_precomputed_pairs(pos_g / cat.h, tm, bins, \\\n",
    "                                              cat.Lbox/cat.h, cosmology=cat.cosmology)[1] / (1e12)\n",
    "    \n",
    "    return ds"
   ]
  },
  {
   "cell_type": "code",
   "execution_count": 20,
   "metadata": {
    "collapsed": true
   },
   "outputs": [],
   "source": [
    "rp_bins = np.logspace(-0.5, 2.0, 11)"
   ]
  },
  {
   "cell_type": "code",
   "execution_count": 21,
   "metadata": {
    "collapsed": true
   },
   "outputs": [],
   "source": [
    "names, vals = cat._get_cosmo_param_names_vals()\n",
    "param_dict = {n: v for n, v in zip(names, vals)}\n",
    "\n",
    "new_param_dict = {}\n",
    "new_param_dict['Omega_c'] = param_dict['omch2']/cat.h**2\n",
    "new_param_dict['Omega_b'] = param_dict['ombh2']/cat.h**2\n",
    "new_param_dict['n_s'] = param_dict['ns']\n",
    "new_param_dict['h'] = cat.h\n",
    "new_param_dict['A_s'] = np.exp(param_dict['ln10As'])/(np.power(10, 10))"
   ]
  },
  {
   "cell_type": "code",
   "execution_count": 22,
   "metadata": {
    "collapsed": false
   },
   "outputs": [
    {
     "data": {
      "text/plain": [
       "{'H0': 63.2317,\n",
       " 'Neff': 2.95,\n",
       " 'ln10As': 3.03895,\n",
       " 'ns': 0.9805149999999999,\n",
       " 'ombh2': 0.023262900000000003,\n",
       " 'omch2': 0.10783,\n",
       " 'w0': -0.726513}"
      ]
     },
     "execution_count": 22,
     "metadata": {},
     "output_type": "execute_result"
    }
   ],
   "source": [
    "param_dict"
   ]
  },
  {
   "cell_type": "code",
   "execution_count": 23,
   "metadata": {
    "collapsed": false
   },
   "outputs": [
    {
     "data": {
      "text/plain": [
       "{'A_s': 2.088330424967889e-09,\n",
       " 'Omega_b': 0.058182735712595794,\n",
       " 'Omega_c': 0.2696931333535029,\n",
       " 'h': 0.632317,\n",
       " 'n_s': 0.9805149999999999}"
      ]
     },
     "execution_count": 23,
     "metadata": {},
     "output_type": "execute_result"
    }
   ],
   "source": [
    "new_param_dict"
   ]
  },
  {
   "cell_type": "code",
   "execution_count": null,
   "metadata": {
    "collapsed": false
   },
   "outputs": [
    {
     "data": {
      "text/plain": [
       "array([  0.31622777,   0.56234133,   1.        ,   1.77827941,\n",
       "         3.16227766,   5.62341325,  10.        ,  17.7827941 ,\n",
       "        31.6227766 ,  56.23413252, 100.        ])"
      ]
     },
     "execution_count": 24,
     "metadata": {},
     "output_type": "execute_result"
    }
   ],
   "source": [
    "rp_bins"
   ]
  },
  {
   "cell_type": "raw",
   "metadata": {},
   "source": [
    "xi, sigma, ds_analytic = calc_ds_analytic(cat, rp_bins)"
   ]
  },
  {
   "cell_type": "raw",
   "metadata": {
    "collapsed": true
   },
   "source": [
    "ds = calc_ds(cat, rp_bins)"
   ]
  },
  {
   "cell_type": "raw",
   "metadata": {
    "collapsed": false
   },
   "source": [
    "print ds"
   ]
  },
  {
   "cell_type": "code",
   "execution_count": null,
   "metadata": {
    "collapsed": true
   },
   "outputs": [],
   "source": [
    "tm, tm_ht = calc_tm(cat, rp_bins)"
   ]
  },
  {
   "cell_type": "code",
   "execution_count": null,
   "metadata": {
    "collapsed": false
   },
   "outputs": [],
   "source": [
    "ds = calc_ds2(cat, rp_bins, tm)"
   ]
  },
  {
   "cell_type": "code",
   "execution_count": 23,
   "metadata": {
    "collapsed": false
   },
   "outputs": [
    {
     "name": "stdout",
     "output_type": "stream",
     "text": [
      "[22.58607675 12.89149453  6.71443824  3.22071317  1.58431076  0.9439957\n",
      "  0.72106483  0.69260976  0.83840931  1.24368481]\n"
     ]
    }
   ],
   "source": [
    "print ds2"
   ]
  },
  {
   "cell_type": "code",
   "execution_count": 28,
   "metadata": {
    "collapsed": false
   },
   "outputs": [
    {
     "data": {
      "text/plain": [
       "array([  0.31622777,   0.56234133,   1.        ,   1.77827941,\n",
       "         3.16227766,   5.62341325,  10.        ,  17.7827941 ,\n",
       "        31.6227766 ,  56.23413252, 100.        ])"
      ]
     },
     "execution_count": 28,
     "metadata": {},
     "output_type": "execute_result"
    }
   ],
   "source": [
    "rp_bins"
   ]
  },
  {
   "cell_type": "code",
   "execution_count": 33,
   "metadata": {
    "collapsed": false
   },
   "outputs": [
    {
     "data": {
      "image/png": "[encoded data removed]",
      "text/plain": [
       "<matplotlib.figure.Figure at 0x7f879073c890>"
      ]
     },
     "metadata": {},
     "output_type": "display_data"
    },
    {
     "data": {
      "image/png": "[encoded data removed]",
      "text/plain": [
       "<matplotlib.figure.Figure at 0x7f879072fc10>"
      ]
     },
     "metadata": {},
     "output_type": "display_data"
    },
    {
     "data": {
      "image/png": "[encoded data removed]",
      "text/plain": [
       "<matplotlib.figure.Figure at 0x7f8790e45810>"
      ]
     },
     "metadata": {},
     "output_type": "display_data"
    },
    {
     "data": {
      "image/png": "[encoded data removed]",
      "text/plain": [
       "<matplotlib.figure.Figure at 0x7f8790827210>"
      ]
     },
     "metadata": {},
     "output_type": "display_data"
    },
    {
     "data": {
      "image/png": "[encoded data removed]",
      "text/plain": [
       "<matplotlib.figure.Figure at 0x7f8790e65790>"
      ]
     },
     "metadata": {},
     "output_type": "display_data"
    },
    {
     "data": {
      "image/png": "[encoded data removed]",
      "text/plain": [
       "<matplotlib.figure.Figure at 0x7f87b4506d50>"
      ]
     },
     "metadata": {},
     "output_type": "display_data"
    },
    {
     "data": {
      "image/png": "[encoded data removed]",
      "text/plain": [
       "<matplotlib.figure.Figure at 0x7f8790a64950>"
      ]
     },
     "metadata": {},
     "output_type": "display_data"
    },
    {
     "data": {
      "image/png": "[encoded data removed]",
      "text/plain": [
       "<matplotlib.figure.Figure at 0x7f8790ebe790>"
      ]
     },
     "metadata": {},
     "output_type": "display_data"
    },
    {
     "data": {
      "image/png": "[encoded data removed]",
      "text/plain": [
       "<matplotlib.figure.Figure at 0x7f8790278c10>"
      ]
     },
     "metadata": {},
     "output_type": "display_data"
    },
    {
     "data": {
      "image/png": "[encoded data removed]",
      "text/plain": [
       "<matplotlib.figure.Figure at 0x7f87b481e8d0>"
      ]
     },
     "metadata": {},
     "output_type": "display_data"
    }
   ],
   "source": [
    "for idx in xrange(10):\n",
    "    plt.hist(np.log10(tm[:, idx] + 1e-6), bins = np.linspace(12, 18, 100) , alpha = 0.5);\n",
    "    plt.hist(np.log10(tm_ht[:,idx] + 1e-6) , bins = np.linspace(12, 18, 100), alpha = 0.5);\n",
    "    #plt.loglog()\n",
    "    plt.show();"
   ]
  },
  {
   "cell_type": "code",
   "execution_count": 42,
   "metadata": {
    "collapsed": false
   },
   "outputs": [
    {
     "data": {
      "text/plain": [
       "(796509, 11)"
      ]
     },
     "execution_count": 42,
     "metadata": {},
     "output_type": "execute_result"
    }
   ],
   "source": [
    "tm.shape"
   ]
  },
  {
   "cell_type": "code",
   "execution_count": 77,
   "metadata": {
    "collapsed": false
   },
   "outputs": [],
   "source": [
    "idxs = cat.model.mock.galaxy_table['x'] < 10#, \\\n",
    "                    # cat.model.mock.galaxy_table['x'] > 999.99)"
   ]
  },
  {
   "cell_type": "code",
   "execution_count": 80,
   "metadata": {
    "collapsed": false
   },
   "outputs": [
    {
     "data": {
      "image/png": "[encoded data removed]",
      "text/plain": [
       "<matplotlib.figure.Figure at 0x7f8790ddf210>"
      ]
     },
     "metadata": {},
     "output_type": "display_data"
    }
   ],
   "source": [
    "plt.hist(np.log10(tm[idxs,idx] + 1e-6) , bins = 100, alpha = 0.3, label = 'No PBC');\n",
    "plt.hist(np.log10(tm_ht[idxs,idx] + 1e-6) , bins = 100, alpha = 0.3, label = 'PBC');\n"
   ]
  },
  {
   "cell_type": "code",
   "execution_count": 79,
   "metadata": {
    "collapsed": false
   },
   "outputs": [
    {
     "data": {
      "image/png": "[encoded data removed]",
      "text/plain": [
       "<matplotlib.figure.Figure at 0x7f8790a69a90>"
      ]
     },
     "metadata": {},
     "output_type": "display_data"
    }
   ],
   "source": [
    "plt.hist(np.log10(tm[~idxs,idx] + 1e-6) , bins = 100, alpha = 0.3);\n",
    "plt.hist(np.log10(tm_ht[~idxs,idx] + 1e-6) , bins = 100, alpha = 0.3);\n"
   ]
  },
  {
   "cell_type": "code",
   "execution_count": 49,
   "metadata": {
    "collapsed": false
   },
   "outputs": [
    {
     "data": {
      "text/plain": [
       "(array([3.0000e+00, 5.0000e+00, 1.0000e+00, 6.0000e+00, 7.0000e+00,\n",
       "        5.0000e+00, 5.0000e+00, 7.0000e+00, 4.0000e+00, 9.0000e+00,\n",
       "        1.0000e+01, 9.0000e+00, 8.0000e+00, 1.0000e+01, 1.2000e+01,\n",
       "        1.6000e+01, 1.6000e+01, 1.0000e+01, 1.7000e+01, 2.2000e+01,\n",
       "        1.7000e+01, 2.3000e+01, 2.1000e+01, 1.9000e+01, 2.6000e+01,\n",
       "        3.1000e+01, 2.9000e+01, 3.5000e+01, 3.2000e+01, 5.1000e+01,\n",
       "        4.8000e+01, 5.2000e+01, 7.3000e+01, 8.5000e+01, 1.1600e+02,\n",
       "        1.7200e+02, 2.5400e+02, 3.2700e+02, 4.7000e+02, 5.9600e+02,\n",
       "        7.1400e+02, 8.3700e+02, 9.4100e+02, 1.0300e+03, 1.0870e+03,\n",
       "        1.1870e+03, 1.2830e+03, 1.2760e+03, 1.4350e+03, 1.3670e+03,\n",
       "        1.3790e+03, 1.3930e+03, 1.4710e+03, 1.4870e+03, 1.5190e+03,\n",
       "        1.5010e+03, 1.5990e+03, 1.5610e+03, 1.6280e+03, 1.6540e+03,\n",
       "        1.6980e+03, 1.6800e+03, 1.7630e+03, 1.7520e+03, 1.7940e+03,\n",
       "        1.9240e+03, 1.8970e+03, 1.9280e+03, 1.9770e+03, 2.0220e+03,\n",
       "        2.0450e+03, 2.1780e+03, 2.2840e+03, 2.3380e+03, 2.4530e+03,\n",
       "        2.4300e+03, 2.5000e+03, 2.9410e+03, 4.0170e+03, 6.0910e+03,\n",
       "        1.3087e+04, 2.5209e+04, 3.7993e+04, 4.6703e+04, 6.1439e+04,\n",
       "        7.9624e+04, 8.4397e+04, 9.1546e+04, 7.5861e+04, 6.9424e+04,\n",
       "        5.2046e+04, 3.6217e+04, 2.1991e+04, 1.1594e+04, 6.5350e+03,\n",
       "        2.8270e+03, 1.0470e+03, 1.0060e+03, 1.0850e+03, 1.5800e+02]),\n",
       " array([17.21073651, 17.21726689, 17.22379726, 17.23032764, 17.23685801,\n",
       "        17.24338839, 17.24991876, 17.25644914, 17.26297951, 17.26950989,\n",
       "        17.27604026, 17.28257064, 17.28910102, 17.29563139, 17.30216177,\n",
       "        17.30869214, 17.31522252, 17.32175289, 17.32828327, 17.33481364,\n",
       "        17.34134402, 17.34787439, 17.35440477, 17.36093515, 17.36746552,\n",
       "        17.3739959 , 17.38052627, 17.38705665, 17.39358702, 17.4001174 ,\n",
       "        17.40664777, 17.41317815, 17.41970852, 17.4262389 , 17.43276928,\n",
       "        17.43929965, 17.44583003, 17.4523604 , 17.45889078, 17.46542115,\n",
       "        17.47195153, 17.4784819 , 17.48501228, 17.49154265, 17.49807303,\n",
       "        17.5046034 , 17.51113378, 17.51766416, 17.52419453, 17.53072491,\n",
       "        17.53725528, 17.54378566, 17.55031603, 17.55684641, 17.56337678,\n",
       "        17.56990716, 17.57643753, 17.58296791, 17.58949829, 17.59602866,\n",
       "        17.60255904, 17.60908941, 17.61561979, 17.62215016, 17.62868054,\n",
       "        17.63521091, 17.64174129, 17.64827166, 17.65480204, 17.66133242,\n",
       "        17.66786279, 17.67439317, 17.68092354, 17.68745392, 17.69398429,\n",
       "        17.70051467, 17.70704504, 17.71357542, 17.72010579, 17.72663617,\n",
       "        17.73316655, 17.73969692, 17.7462273 , 17.75275767, 17.75928805,\n",
       "        17.76581842, 17.7723488 , 17.77887917, 17.78540955, 17.79193992,\n",
       "        17.7984703 , 17.80500067, 17.81153105, 17.81806143, 17.8245918 ,\n",
       "        17.83112218, 17.83765255, 17.84418293, 17.8507133 , 17.85724368,\n",
       "        17.86377405]),\n",
       " <a list of 100 Patch objects>)"
      ]
     },
     "execution_count": 49,
     "metadata": {},
     "output_type": "execute_result"
    },
    {
     "data": {
      "image/png": "[encoded data removed]",
      "text/plain": [
       "<matplotlib.figure.Figure at 0x7f8790716f90>"
      ]
     },
     "metadata": {},
     "output_type": "display_data"
    }
   ],
   "source": [
    "plt.hist(np.log10(tm[:,idx] + 1e-6) , bins = 100, alpha = 0.3);\n",
    "plt.hist(np.log10(tm_ht[:,idx] + 1e-6) , bins = 100, alpha = 0.3);\n"
   ]
  },
  {
   "cell_type": "code",
   "execution_count": 25,
   "metadata": {
    "collapsed": false
   },
   "outputs": [
    {
     "data": {
      "image/png": "[encoded data removed]",
      "text/plain": [
       "<matplotlib.figure.Figure at 0x7f87b499b690>"
      ]
     },
     "metadata": {},
     "output_type": "display_data"
    }
   ],
   "source": [
    "rpoints = (rp_bins[1:] + rp_bins[:-1])/2.0\n",
    "#plt.plot(rpoints, ds.squeeze(), label = 'Halotools')\n",
    "plt.plot(rpoints, ds2.squeeze(), label = 'Halotools 2')\n",
    "plt.plot(rpoints, ds2_ht.squeeze(), label = 'Halotools 3')\n",
    "\n",
    "#plt.plot(rpoints, ds_analytic.squeeze(), label = 'Analytic')\n",
    "\n",
    "plt.legend(loc='best')\n",
    "plt.loglog();"
   ]
  },
  {
   "cell_type": "code",
   "execution_count": null,
   "metadata": {
    "collapsed": false
   },
   "outputs": [],
   "source": [
    "ds/ds2"
   ]
  },
  {
   "cell_type": "code",
   "execution_count": null,
   "metadata": {
    "collapsed": false
   },
   "outputs": [],
   "source": [
    "ds/ds2_ht"
   ]
  },
  {
   "cell_type": "markdown",
   "metadata": {},
   "source": [
    "To test:\n",
    "set period to large finite value\n",
    "set all periods to none\n",
    "run with larger rp bins to see if problems continue at larger scaels"
   ]
  }
 ],
 "metadata": {
  "kernelspec": {
   "display_name": "Python [default]",
   "language": "python",
   "name": "python2"
  },
  "language_info": {
   "codemirror_mode": {
    "name": "ipython",
    "version": 2
   },
   "file_extension": ".py",
   "mimetype": "text/x-python",
   "name": "python",
   "nbconvert_exporter": "python",
   "pygments_lexer": "ipython2",
   "version": "2.7.13"
  }
 },
 "nbformat": 4,
 "nbformat_minor": 2
}

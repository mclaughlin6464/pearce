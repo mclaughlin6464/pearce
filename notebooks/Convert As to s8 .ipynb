{
 "cells": [
  {
   "cell_type": "markdown",
   "metadata": {},
   "source": [
    "I realized it makes much more sense to emulate in s8 than in ln10As. I'm going to convert the emulators over to that and re fit them. "
   ]
  },
  {
   "cell_type": "code",
   "execution_count": 1,
   "metadata": {
    "collapsed": true
   },
   "outputs": [],
   "source": [
    "import numpy as np\n",
    "import h5py\n",
    "from os import path, rename\n",
    "from shutil import copyfile\n",
    "from glob import glob\n",
    "import pandas as pd"
   ]
  },
  {
   "cell_type": "code",
   "execution_count": 2,
   "metadata": {
    "collapsed": true
   },
   "outputs": [],
   "source": [
    "orig_param_fname = '~swmclau2/des/LH_eigenspace_lnA_np7_n40_s556.dat'"
   ]
  },
  {
   "cell_type": "code",
   "execution_count": 3,
   "metadata": {
    "collapsed": false
   },
   "outputs": [],
   "source": [
    "cosmo_params = pd.read_csv(orig_param_fname, sep = ' ', index_col = None)"
   ]
  },
  {
   "cell_type": "code",
   "execution_count": 4,
   "metadata": {
    "collapsed": false
   },
   "outputs": [
    {
     "data": {
      "text/plain": [
       "Index([u'ombh2', u'omch2', u'w0', u'ns', u'ln10As', u'H0', u'Neff'], dtype='object')"
      ]
     },
     "execution_count": 4,
     "metadata": {},
     "output_type": "execute_result"
    }
   ],
   "source": [
    "cosmo_params.columns"
   ]
  },
  {
   "cell_type": "code",
   "execution_count": 5,
   "metadata": {
    "collapsed": false
   },
   "outputs": [
    {
     "data": {
      "text/plain": [
       "ombh2      0.022683\n",
       "omch2      0.114060\n",
       "w0        -0.816597\n",
       "ns         0.975589\n",
       "ln10As     3.092918\n",
       "H0        63.365690\n",
       "Neff       2.918750\n",
       "Name: 0, dtype: float64"
      ]
     },
     "execution_count": 5,
     "metadata": {},
     "output_type": "execute_result"
    }
   ],
   "source": [
    "cosmo_params.iloc[0]"
   ]
  },
  {
   "cell_type": "code",
   "execution_count": 6,
   "metadata": {
    "collapsed": true
   },
   "outputs": [],
   "source": [
    "new_param_fname = '/afs/slac.stanford.edu/u/ki/jderose/public_html/aemulus/phase1/cosmos.txt'\n",
    "new_test_param_fname = '/afs/slac.stanford.edu/u/ki/jderose/public_html/aemulus/phase1/test_cosmos.txt'"
   ]
  },
  {
   "cell_type": "code",
   "execution_count": 7,
   "metadata": {
    "collapsed": false
   },
   "outputs": [],
   "source": [
    "new_cosmo_params = pd.read_csv(new_param_fname, sep = ' ', index_col=0)\n",
    "new_test_cosmo_params = pd.read_csv(new_test_param_fname, sep = ' ', index_col=0)"
   ]
  },
  {
   "cell_type": "code",
   "execution_count": 8,
   "metadata": {
    "collapsed": true
   },
   "outputs": [],
   "source": [
    "%matplotlib inline\n",
    "from matplotlib import pyplot as plt"
   ]
  },
  {
   "cell_type": "raw",
   "metadata": {},
   "source": [
    "plt.scatter(new_cosmo_params['sigma8'].as_matrix(), new_cosmo_params['ln10As'].as_matrix())\n",
    "plt.scatter(new_test_cosmo_params['sigma8'].as_matrix(), new_test_cosmo_params['ln10As'].as_matrix())\n",
    "\n",
    "plt.xlabel(r'$\\sigma_8$')\n",
    "plt.ylabel(r'$\\log 10^{10} A_s$')"
   ]
  },
  {
   "cell_type": "raw",
   "metadata": {
    "collapsed": false
   },
   "source": [
    "plt.scatter(new_cosmo_params['sigma8'].as_matrix(), new_cosmo_params['omch2'].as_matrix())\n",
    "plt.scatter(new_test_cosmo_params['sigma8'].as_matrix(), new_test_cosmo_params['omch2'].as_matrix())\n",
    "\n",
    "plt.xlabel(r'$\\sigma_8$')\n",
    "plt.ylabel(r'$\\Omega_c h^2$')"
   ]
  },
  {
   "cell_type": "code",
   "execution_count": 8,
   "metadata": {
    "collapsed": false
   },
   "outputs": [
    {
     "data": {
      "text/plain": [
       "ombh2      0.022683\n",
       "omch2      0.114060\n",
       "w0        -0.816597\n",
       "ns         0.975589\n",
       "ln10As     3.092918\n",
       "H0        63.365690\n",
       "Neff       2.918750\n",
       "sigma8     0.773072\n",
       "Name: 0, dtype: float64"
      ]
     },
     "execution_count": 8,
     "metadata": {},
     "output_type": "execute_result"
    }
   ],
   "source": [
    "new_cosmo_params.iloc[0]"
   ]
  },
  {
   "cell_type": "code",
   "execution_count": 9,
   "metadata": {
    "collapsed": false
   },
   "outputs": [],
   "source": [
    "new_cosmo_params = new_cosmo_params.drop('ln10As', axis = 1)"
   ]
  },
  {
   "cell_type": "code",
   "execution_count": 10,
   "metadata": {
    "collapsed": false
   },
   "outputs": [],
   "source": [
    "new_test_cosmo_params = new_test_cosmo_params.drop('ln10As', axis = 1)"
   ]
  },
  {
   "cell_type": "code",
   "execution_count": 11,
   "metadata": {
    "collapsed": false
   },
   "outputs": [
    {
     "name": "stderr",
     "output_type": "stream",
     "text": [
      "/afs/slac.stanford.edu/u/ki/swmclau2/.local/lib/python2.7/site-packages/ipykernel/__main__.py:1: FutureWarning: Method .as_matrix will be removed in a future version. Use .values instead.\n",
      "  if __name__ == '__main__':\n"
     ]
    },
    {
     "data": {
      "text/plain": [
       "array([0.7730715, 0.8954628, 0.6929467, 0.6715524, 0.749058 , 0.9339844,\n",
       "       0.7103632, 0.7778608, 0.8919908, 0.7220269, 0.8497577, 0.8055318,\n",
       "       0.7851298, 0.8660544, 0.9232811, 0.9078274, 0.8069646, 0.8695022,\n",
       "       0.7356345, 0.8083719, 0.8378528, 0.7617592, 0.880451 , 0.5746315,\n",
       "       0.6918467, 0.7900302, 0.9043988, 0.7285257, 0.9644551, 0.9344431,\n",
       "       0.8682105, 0.9417921, 0.7208264, 0.7771575, 0.8576372, 0.6845285,\n",
       "       0.9050606, 0.7255155, 0.7368773, 0.7613921])"
      ]
     },
     "execution_count": 11,
     "metadata": {},
     "output_type": "execute_result"
    }
   ],
   "source": [
    "new_cosmo_params['sigma8'].as_matrix()"
   ]
  },
  {
   "cell_type": "code",
   "execution_count": 12,
   "metadata": {
    "collapsed": false
   },
   "outputs": [
    {
     "name": "stderr",
     "output_type": "stream",
     "text": [
      "/afs/slac.stanford.edu/u/ki/swmclau2/.local/lib/python2.7/site-packages/ipykernel/__main__.py:1: FutureWarning: Method .as_matrix will be removed in a future version. Use .values instead.\n",
      "  if __name__ == '__main__':\n"
     ]
    },
    {
     "data": {
      "text/plain": [
       "array([0.694428 , 0.694428 , 0.694428 , 0.694428 , 0.694428 , 0.7542319,\n",
       "       0.7542319, 0.7542319, 0.7542319, 0.7542319, 0.8087561, 0.8087561,\n",
       "       0.8087561, 0.8087561, 0.8087561, 0.8596132, 0.8596132, 0.8596132,\n",
       "       0.8596132, 0.8596132, 0.9077866, 0.9077866, 0.9077866, 0.9077866,\n",
       "       0.9077866, 0.8177121, 0.8177121, 0.8177121, 0.8177121, 0.8177121,\n",
       "       0.7981356, 0.7981356, 0.7981356, 0.7981356, 0.7981356])"
      ]
     },
     "execution_count": 12,
     "metadata": {},
     "output_type": "execute_result"
    }
   ],
   "source": [
    "np.repeat(new_test_cosmo_params['sigma8'].as_matrix(), (5,))"
   ]
  },
  {
   "cell_type": "code",
   "execution_count": 13,
   "metadata": {
    "collapsed": true
   },
   "outputs": [],
   "source": [
    "base_dir = '/u/ki/swmclau2/des/'\n",
    "orig_fnames = ['wp_zheng07/PearceWpCosmo.hdf5',      'wp_zheng07_test/PearceWpCosmoTest.hdf5',\n",
    "               'wp_hsab/PearceWpHSABCosmo.hdf5',     'wp_hsab_test/PearceWpHSABCosmoTest.hdf5',\n",
    "               'wp_cab/PearceWpCABCosmo.hdf5',       'wp_cab_test/PearceWpCABCosmoTest.hdf5',\n",
    "               'wp_corrab/PearceWpCorrABCosmo.hdf5', 'wp_corrab_test/PearceWpCorrABCosmoTest.hdf5',\n",
    "               'ds_zheng07/PearceDsCosmo.hdf5',      'ds_zheng07_test/PearceDsCosmoTest.hdf5',\n",
    "               'ds_hsab/PearceDsHSABCosmo.hdf5',     'ds_hsab_test/PearceDsHSABCosmoTest.hdf5',\n",
    "               'ds_cab/PearceDsCABCosmo.hdf5',       'ds_cab_test/PearceDsCABCosmoTest.hdf5',\n",
    "               'ds_corrab/PearceDsCorrABCosmo.hdf5', 'ds_corrab_test/PearceDsCorrABCosmoTest.hdf5'] "
   ]
  },
  {
   "cell_type": "code",
   "execution_count": 14,
   "metadata": {
    "collapsed": true
   },
   "outputs": [],
   "source": [
    "tmp_fname = 'tmp.hdf5'"
   ]
  },
  {
   "cell_type": "raw",
   "metadata": {
    "collapsed": false,
    "scrolled": false
   },
   "source": [
    "for fname in orig_fnames:\n",
    "    print fname\n",
    "    orig_fname = path.join(base_dir, fname)\n",
    "    dirname = path.dirname(orig_fname)\n",
    "    new_fname = path.join(dirname, tmp_fname)\n",
    "    copyfile(orig_fname, new_fname)\n",
    "\n",
    "    with h5py.File(orig_fname, 'r') as orig_f, h5py.File(new_fname, 'a') as new_f:        \n",
    "        \n",
    "        new_f.attrs['cosmo_param_names'] = np.array(list(new_cosmo_params.columns))\n",
    "        \n",
    "        #cpv = new_f.attrs['cosmo_param_vals']\n",
    "        if 'test' in orig_fname:\n",
    "       \n",
    "\n",
    "            cpv = np.repeat(new_test_cosmo_params.as_matrix(), (5,), axis = 0)\n",
    "        else:\n",
    "            #cpv[:, insert_idx] = new_cosmo_params[new_key].as_matrix()\n",
    "            cpv = new_cosmo_params.as_matrix()\n",
    "        new_f.attrs['cosmo_param_vals'] = cpv\n",
    "        if 'attrs' in new_f.keys():\n",
    "            new_f['attrs']['cosmo_param_vals'][()] = cpv\n",
    "        \n",
    "    rename(orig_fname, orig_fname + '_as')\n",
    "    copyfile(new_fname, orig_fname)\n",
    "\n",
    "    "
   ]
  },
  {
   "cell_type": "code",
   "execution_count": null,
   "metadata": {
    "collapsed": true
   },
   "outputs": [],
   "source": []
  },
  {
   "cell_type": "code",
   "execution_count": null,
   "metadata": {
    "collapsed": true
   },
   "outputs": [],
   "source": []
  }
 ],
 "metadata": {
  "kernelspec": {
   "display_name": "Python [conda env:hodemulator]",
   "language": "python",
   "name": "conda-env-hodemulator-py"
  },
  "language_info": {
   "codemirror_mode": {
    "name": "ipython",
    "version": 2
   },
   "file_extension": ".py",
   "mimetype": "text/x-python",
   "name": "python",
   "nbconvert_exporter": "python",
   "pygments_lexer": "ipython2",
   "version": "2.7.13"
  }
 },
 "nbformat": 4,
 "nbformat_minor": 0
}

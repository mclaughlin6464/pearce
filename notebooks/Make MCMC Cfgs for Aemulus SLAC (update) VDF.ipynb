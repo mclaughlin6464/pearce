{
 "cells": [
  {
   "cell_type": "markdown",
   "metadata": {},
   "source": [
    "Now that I've streamlined the MCMC process, I am going to submit multiple chains simultaneously. This notebook will make multiple, similar config files, for broad comparison. \n",
    "\n",
    "This may be rolled into pearce as a helper function, I haven't decided.\n",
    "\n",
    "Update from the older SLAC notebook, which is now outdated"
   ]
  },
  {
   "cell_type": "markdown",
   "metadata": {},
   "source": [
    "For rmin 0, 0.5, 1.0:\n",
    "\n",
    "    For no ab, HSAB and CorrAB emu:\n",
    "\n",
    "        Vpeak sham\n",
    "        Mpeak sham\n",
    "        HOD\n",
    "        HSAB HOD "
   ]
  },
  {
   "cell_type": "code",
   "execution_count": 19,
   "metadata": {
    "collapsed": true
   },
   "outputs": [],
   "source": [
    "import yaml\n",
    "import copy\n",
    "from os import path\n",
    "import numpy as np\n",
    "import h5py"
   ]
  },
  {
   "cell_type": "code",
   "execution_count": 20,
   "metadata": {
    "collapsed": true
   },
   "outputs": [],
   "source": [
    "emu_path = '/u/ki/swmclau2/des/'\n",
    "#emu_path = '~/scratch'"
   ]
  },
  {
   "cell_type": "code",
   "execution_count": 21,
   "metadata": {
    "collapsed": true
   },
   "outputs": [],
   "source": [
    "cov_path = '/u/ki/swmclau2/Git/pearce/bin/'\n",
    "# cov_path = '~/Git/pearce/bin'"
   ]
  },
  {
   "cell_type": "code",
   "execution_count": 22,
   "metadata": {
    "collapsed": false
   },
   "outputs": [],
   "source": [
    "orig_cfg_fname = path.join(cov_path, 'mcmc/nh_gg_sham_hsab_mcmc_config.yaml')\n",
    "with open(orig_cfg_fname, 'r') as yamlfile:\n",
    "    orig_cfg = yaml.load(yamlfile)"
   ]
  },
  {
   "cell_type": "raw",
   "metadata": {
    "collapsed": false
   },
   "source": [
    "orig_cfg"
   ]
  },
  {
   "cell_type": "raw",
   "metadata": {
    "collapsed": true
   },
   "source": [
    "#this will enable easier string formatting\n",
    "sbatch_template = \"\"\"#!/bin/bash\n",
    "#SBATCH --job-name={jobname}\n",
    "#SBATCH --time=24:00:00\n",
    "#SBATCH -p kipac,iric\n",
    "#SBATCH -o /home/users/swmclau2/Git/pearce/bin/mcmc/config/{jobname}.out\n",
    "#SBATCH --nodes=1\n",
    "#SBATCH --ntasks=1\n",
    "#SBATCH --cpus-per-task=16\n",
    "###SBATCH --exclusive\n",
    "\n",
    "module load python/2.7.13\n",
    "module load py-scipystack\n",
    "module load hdf5/1.10.0p1\n",
    "module load py-numpy\n",
    "\n",
    "python /home/users/swmclau2/Git/pearce/pearce/inference/initialize_mcmc.py {jobname}.yaml\n",
    "python /home/users/swmclau2/Git/pearce/pearce/inference/run_mcmc.py {jobname}.yaml\n",
    "\"\"\""
   ]
  },
  {
   "cell_type": "code",
   "execution_count": 23,
   "metadata": {
    "collapsed": true
   },
   "outputs": [],
   "source": [
    "bsub_template=\"\"\"#BSUB -q medium \n",
    "#BSUB -W 8:00\n",
    "#BSUB -J {jobname}\n",
    "#BSUB -oo /u/ki/swmclau2/Git/pearce/bin/mcmc/config/{jobname}.out    \n",
    "#BSUB -n 8 \n",
    "#BSUB -R \"span[ptile=8]\"\n",
    "\n",
    "python /u/ki/swmclau2/Git/pearce/pearce/inference/initialize_mcmc.py {jobname}.yaml\n",
    "python /u/ki/swmclau2/Git/pearce/pearce/inference/run_mcmc.py {jobname}.yaml\n",
    "\"\"\""
   ]
  },
  {
   "cell_type": "raw",
   "metadata": {
    "collapsed": true
   },
   "source": [
    "bsub_restart_template=\"\"\"#BSUB -q medium \n",
    "#BSUB -W 8:00\n",
    "#BSUB -J {jobname}\n",
    "#BSUB -oo /u/ki/swmclau2/Git/pearce/bin/mcmc/config/{jobname}.out    \n",
    "#BSUB -n 8 \n",
    "#BSUB -R \"span[ptile=8]\"\n",
    "\n",
    "#python /u/ki/swmclau2/Git/pearce/pearce/inference/initialize_mcmc.py {jobname}.yaml\n",
    "python /u/ki/swmclau2/Git/pearce/pearce/inference/run_mcmc.py {jobname}.yaml --restart\n",
    "\"\"\""
   ]
  },
  {
   "cell_type": "code",
   "execution_count": 24,
   "metadata": {
    "collapsed": false
   },
   "outputs": [
    {
     "name": "stdout",
     "output_type": "stream",
     "text": [
      "[  0.50118723   0.65313055   0.85113804   1.10917482   1.44543977\n",
      "   1.88364909   2.45470892   3.19889511   4.16869383   5.43250331\n",
      "   7.07945784   9.22571427  12.02264435  15.6675107   20.41737945\n",
      "  26.6072506   34.67368505  45.18559444  58.88436554  76.73614894\n",
      " 100.        ]\n"
     ]
    }
   ],
   "source": [
    "import numpy as np\n",
    "r_bins = np.logspace(-0.3, 2, 21)\n",
    "print r_bins"
   ]
  },
  {
   "cell_type": "code",
   "execution_count": 25,
   "metadata": {
    "collapsed": false
   },
   "outputs": [],
   "source": [
    "emu_names = ['VDF', 'Xi', 'VDF_Xi']\n",
    "emu_fnames = [[path.join(emu_path, 'Aemulators/vdf_zheng07/PearceVDFCosmo.hdf5')],\n",
    "               [path.join(emu_path, 'Aemulators/xi_zheng07/PearceXiCosmo.hdf5')],\n",
    "             [path.join(emu_path, 'Aemulators/vdf_zheng07/PearceVDFCosmo.hdf5'),\n",
    "               path.join(emu_path, 'Aemulators/xi_zheng07/PearceXiCosmo.hdf5')]]\n"
   ]
  },
  {
   "cell_type": "code",
   "execution_count": 26,
   "metadata": {
    "collapsed": false
   },
   "outputs": [],
   "source": [
    "obs_names = ['vdf', 'xi']\n",
    "\n",
    "data_fnames = [path.join(cov_path, 'mock_measurements/testbox_1_1_%s.npy'%o)\n",
    "                for o in obs_names]\n",
    "\n",
    "data_fnames.append(copy.copy(data_fnames))"
   ]
  },
  {
   "cell_type": "code",
   "execution_count": 27,
   "metadata": {
    "collapsed": false
   },
   "outputs": [
    {
     "data": {
      "text/plain": [
       "['/u/ki/swmclau2/Git/pearce/bin/mock_measurements/testbox_1_1_vdf.npy',\n",
       " '/u/ki/swmclau2/Git/pearce/bin/mock_measurements/testbox_1_1_xi.npy',\n",
       " ['/u/ki/swmclau2/Git/pearce/bin/mock_measurements/testbox_1_1_vdf.npy',\n",
       "  '/u/ki/swmclau2/Git/pearce/bin/mock_measurements/testbox_1_1_xi.npy']]"
      ]
     },
     "execution_count": 27,
     "metadata": {},
     "output_type": "execute_result"
    }
   ],
   "source": [
    "data_fnames"
   ]
  },
  {
   "cell_type": "code",
   "execution_count": 28,
   "metadata": {
    "collapsed": true
   },
   "outputs": [],
   "source": [
    "meas_cov_fnames = []\n",
    "emu_cov_fnames = []\n",
    "for obs, emu, data in zip(obs_names, emu_fnames, data_fnames ):\n",
    "    #if obs =='vdf':\n",
    "    #    continue\n",
    "    #with h5py.File(emu[0], 'r') as f:\n",
    "    #    rel_meas_cov = f.attrs['rel_cov']\n",
    "    #    rel_emu_cov = f.attrs['rel_emu_cov']\n",
    "    \n",
    "    # get rid of nans \n",
    "    #rel_meas_cov[np.isnan(rel_meas_cov)] = 1e-9\n",
    "    #o = np.load(data)\n",
    "    #meas_cov = rel_meas_cov*np.outer(o, o)    \n",
    "    #emu_cov = rel_emu_cov*np.outer(o,o)\n",
    "    \n",
    "    meas_cov_fname = path.join(cov_path, 'covmat/%s_sim_covmat.npy'%obs)\n",
    "\n",
    "    emu_cov_fname = path.join(cov_path, 'optimization/%s_emu_cov_lpw.npy'%obs)\n",
    "    \n",
    "    meas_cov_fnames.append(meas_cov_fname)\n",
    "    emu_cov_fnames.append([emu_cov_fname])\n",
    "    "
   ]
  },
  {
   "cell_type": "code",
   "execution_count": 29,
   "metadata": {
    "collapsed": false
   },
   "outputs": [],
   "source": [
    "emu_cov_fnames.append([e[0] for e in emu_cov_fnames])"
   ]
  },
  {
   "cell_type": "code",
   "execution_count": 30,
   "metadata": {
    "collapsed": false
   },
   "outputs": [],
   "source": [
    "from scipy.linalg import block_diag\n",
    "mc = block_diag(*[np.load(fname) for fname in meas_cov_fnames])\n",
    "cov_fname = path.join(cov_path, 'covmat/%s_full_covmat.npy'%('_'.join(obs_names) ))\n",
    "np.save(cov_fname, mc)\n",
    "meas_cov_fnames.append(cov_fname)"
   ]
  },
  {
   "cell_type": "code",
   "execution_count": 31,
   "metadata": {
    "collapsed": true
   },
   "outputs": [],
   "source": [
    "obs_names.append(copy.copy(obs_names))"
   ]
  },
  {
   "cell_type": "code",
   "execution_count": 32,
   "metadata": {
    "collapsed": false
   },
   "outputs": [],
   "source": [
    "%matplotlib inline\n",
    "from matplotlib import pyplot as plt"
   ]
  },
  {
   "cell_type": "code",
   "execution_count": 33,
   "metadata": {
    "collapsed": true
   },
   "outputs": [],
   "source": [
    "def cov_to_corr(cov):\n",
    "    std = np.sqrt(np.diag(cov))\n",
    "    \n",
    "    denom = np.outer(std, std)\n",
    "    \n",
    "    return cov/denom"
   ]
  },
  {
   "cell_type": "code",
   "execution_count": 34,
   "metadata": {
    "collapsed": true
   },
   "outputs": [],
   "source": [
    "n_walkers = 250\n",
    "n_steps = 50000"
   ]
  },
  {
   "cell_type": "markdown",
   "metadata": {},
   "source": [
    "## Vpeak SHAM\n",
    "----\n"
   ]
  },
  {
   "cell_type": "raw",
   "metadata": {
    "collapsed": false
   },
   "source": [
    "tmp_cfg = copy.deepcopy(orig_cfg)\n",
    "\n",
    "directory = path.join(cov_path, \"mcmc/config/\")\n",
    "output_dir = path.join(emu_path, \"PearceMCMC/\")\n",
    "jobname_template = \"VpeakSHAM_wp_ds_rmin_{rmin}_{emu_name}\"\n",
    "\n",
    "for rmin in [None, 0.5, 1.0, 2.0]:\n",
    "    for emu_fname, emu_name, emu_cov in zip(emu_fnames, emu_names, emu_cov_fnames):\n",
    "        \n",
    "        if rmin is not None:\n",
    "            tmp_cfg['emu']['fixed_params'] = {'z': 0.0, 'rmin':rmin}\n",
    "            \n",
    "        tmp_cfg['emu']['training_file'] = emu_fname\n",
    "        tmp_cfg['emu']['emu_type'] = ['LemonPepperWet' for i in xrange(len(emu_fname))]\n",
    "        tmp_cfg['emu']['emu_cov_fname'] = emu_cov\n",
    "        \n",
    "        tmp_cfg['data']['true_data_fname']= [path.join(cov_path, 'mock_measurements/SHAMmock_wp.npy'),\n",
    "                                             path.join(cov_path, 'mock_measurements/SHAMmock_ds.npy')]\n",
    "        tmp_cfg['data']['true_cov_fname'] = meas_cov_fname\n",
    "        \n",
    "        tmp_cfg['data']['obs']['obs'] = ['wp','ds']\n",
    "        tmp_cfg['data']['obs']['rbins'] = list(r_bins)\n",
    "        \n",
    "\n",
    "        tmp_cfg['chain']['nsteps'] = n_steps\n",
    "        tmp_cfg['chain']['nwalkers'] = n_walkers\n",
    "        tmp_cfg['chain']['mcmc_type'] = 'normal'\n",
    "\n",
    "        \n",
    "        tmp_cfg['data']['sim']['sim_hps']['system'] = 'ki-ls'\n",
    "        tmp_cfg['data']['cov']['emu_cov_fname'] = tmp_cfg['emu']['emu_cov_fname'] \n",
    "        tmp_cfg['data']['cov']['meas_cov_fname'] = tmp_cfg['data']['true_cov_fname']\n",
    "        \n",
    "        jobname = jobname_template.format(rmin=rmin, emu_name=emu_name)\n",
    "        tmp_cfg['fname'] = path.join(output_dir, jobname+'.hdf5')\n",
    "\n",
    "        with open(path.join(directory, jobname +'.yaml'), 'w') as f:\n",
    "            yaml.dump(tmp_cfg, f)\n",
    "\n",
    "        #with open(path.join(directory, jobname + '.sbatch'), 'w') as f:\n",
    "        #    f.write(sbatch_template.format(jobname=jobname))\n",
    "        with open(path.join(directory, jobname + '.bsub'), 'w') as f:\n",
    "            f.write(bsub_template.format(jobname=jobname))\n",
    "            #f.write(bsub_restart_template.format(jobname=jobname))"
   ]
  },
  {
   "cell_type": "markdown",
   "metadata": {},
   "source": [
    "## NFWized SHAM\n",
    "----\n"
   ]
  },
  {
   "cell_type": "raw",
   "metadata": {
    "collapsed": false
   },
   "source": [
    "tmp_cfg = copy.deepcopy(orig_cfg)\n",
    "directory = path.join(cov_path, \"mcmc/config/\")\n",
    "output_dir = path.join(emu_path, \"PearceMCMC/\")\n",
    "jobname_template = \"NFWizedSHAM_wp_ds_rmin_{rmin}_{emu_name}\"\n",
    "\n",
    "for rmin in [None, 0.5, 1.0, 2.0]:\n",
    "    for emu_fname, emu_name, emu_cov in zip(emu_fnames, emu_names, emu_cov_fnames):\n",
    "        \n",
    "        if rmin is not None:\n",
    "            tmp_cfg['emu']['fixed_params'] = {'z': 0.0, 'rmin':rmin}\n",
    "            \n",
    "        tmp_cfg['emu']['training_file'] = emu_fname\n",
    "        tmp_cfg['emu']['emu_type'] = ['LemonPepperWet' for i in xrange(len(emu_fname))]\n",
    "        tmp_cfg['emu']['emu_cov_fname'] = emu_cov\n",
    "        \n",
    "        tmp_cfg['data']['true_data_fname']= [path.join(cov_path,'mock_measurements/NFWIZED_SHAMmock_wp.npy'),\n",
    "                                             path.join(cov_path,'mock_measurements/NFWIZED_SHAMmock_ds.npy')]\n",
    "        tmp_cfg['data']['true_cov_fname'] = meas_cov_fname\n",
    "        \n",
    "        tmp_cfg['data']['obs']['obs'] = ['wp','ds']\n",
    "        tmp_cfg['data']['obs']['rbins'] = list(r_bins)\n",
    "        \n",
    "\n",
    "        tmp_cfg['chain']['nsteps'] = n_steps\n",
    "        tmp_cfg['chain']['nwalkers'] = n_walkers\n",
    "        tmp_cfg['chain']['mcmc_type'] = 'normal'\n",
    "\n",
    "        \n",
    "        tmp_cfg['data']['sim']['sim_hps']['system'] = 'ki-ls'\n",
    "        tmp_cfg['data']['cov']['emu_cov_fname'] = tmp_cfg['emu']['emu_cov_fname'] \n",
    "        tmp_cfg['data']['cov']['meas_cov_fname'] = tmp_cfg['data']['true_cov_fname']\n",
    "        \n",
    "        jobname = jobname_template.format(rmin=rmin, emu_name=emu_name)\n",
    "        tmp_cfg['fname'] = path.join(output_dir, jobname+'.hdf5')\n",
    "\n",
    "        with open(path.join(directory, jobname +'.yaml'), 'w') as f:\n",
    "            yaml.dump(tmp_cfg, f)\n",
    "\n",
    "        with open(path.join(directory, jobname + '.bsub'), 'w') as f:\n",
    "            #f.write(bsub_template.format(jobname=jobname))\n",
    "            f.write(bsub_restart_template.format(jobname=jobname))"
   ]
  },
  {
   "cell_type": "raw",
   "metadata": {
    "collapsed": true
   },
   "source": [
    "h = 0.6777\n",
    "\n",
    "cosmo_pnames = ['ombh2', 'omch2', 'w0', 'ns', 'H0', 'Neff', 'sigma8']\n",
    "cosmo_true_vals = np.array([0.048206*h**2, 0.307115*h**2,\\\n",
    "                            -1, 0.9667, \\\n",
    "                            h*100, 3.046, 0.8228])"
   ]
  },
  {
   "cell_type": "raw",
   "metadata": {
    "collapsed": false
   },
   "source": [
    "# fixed cosmology\n",
    "tmp_cfg = copy.deepcopy(orig_cfg)\n",
    "directory = path.join(cov_path, \"mcmc/config/\")\n",
    "output_dir = path.join(emu_path, \"PearceMCMC/\")\n",
    "jobname_template = \"NFWizedSHAM_fixed_cosmo_wp_ds_rmin_{rmin}_{emu_name}\"\n",
    "\n",
    "for rmin in [None, 0.5, 1.0, 2.0]:\n",
    "    for emu_fname, emu_name, emu_cov in zip(emu_fnames, emu_names, emu_cov_fnames):\n",
    "        \n",
    "        if rmin is not None:\n",
    "            tmp_cfg['emu']['fixed_params'] = {'z': 0.0, 'rmin':rmin}\n",
    "            \n",
    "        tmp_cfg['emu']['training_file'] = emu_fname\n",
    "        tmp_cfg['emu']['emu_type'] = ['LemonPepperWet' for i in xrange(len(emu_fname))]\n",
    "        tmp_cfg['emu']['emu_cov_fname'] = emu_cov\n",
    "        \n",
    "        tmp_cfg['data']['true_data_fname']= [path.join(cov_path,'mock_measurements/NFWIZED_SHAMmock_wp.npy'),\n",
    "                                             path.join(cov_path,'mock_measurements/NFWIZED_SHAMmock_ds.npy')]\n",
    "        tmp_cfg['data']['true_cov_fname'] = meas_cov_fname\n",
    "        \n",
    "        tmp_cfg['data']['obs']['obs'] = ['wp','ds']\n",
    "        tmp_cfg['data']['obs']['rbins'] = list(r_bins)\n",
    "        \n",
    "\n",
    "        tmp_cfg['chain']['nsteps'] = n_steps\n",
    "        tmp_cfg['chain']['nwalkers'] = n_walkers\n",
    "        tmp_cfg['chain']['mcmc_type'] = 'normal'\n",
    "\n",
    "        \n",
    "        tmp_cfg['data']['sim']['sim_hps']['system'] = 'ki-ls'\n",
    "        tmp_cfg['data']['cov']['emu_cov_fname'] = tmp_cfg['emu']['emu_cov_fname'] \n",
    "        tmp_cfg['data']['cov']['meas_cov_fname'] = tmp_cfg['data']['true_cov_fname']\n",
    "        \n",
    "        tmp_cfg['chain']['fixed_params'] = 'cosmo'\n",
    "\n",
    "        tmp_cfg['sim']= {'gal_type': 'SHAM',\n",
    "       'nd': '5e-4',\n",
    "       'scale_factor': 1.0,\n",
    "       'min_ptcl': 100, \n",
    "       'cosmo_params': dict(zip(cosmo_pnames, cosmo_true_vals)),\n",
    "       'sim_hps': {},\n",
    "       'simname': 'mdpl2'}\n",
    "        \n",
    "        # TODO i shouldnt have to specify this this way\n",
    "        tmp_cfg['data']['sim'] = tmp_cfg['sim']\n",
    "        \n",
    "        jobname = jobname_template.format(rmin=rmin, emu_name=emu_name)\n",
    "        tmp_cfg['fname'] = path.join(output_dir, jobname+'.hdf5')\n",
    "\n",
    "        with open(path.join(directory, jobname +'.yaml'), 'w') as f:\n",
    "            yaml.dump(tmp_cfg, f)\n",
    "\n",
    "        with open(path.join(directory, jobname + '.bsub'), 'w') as f:\n",
    "            f.write(bsub_template.format(jobname=jobname))\n",
    "            #f.write(bsub_restart_template.format(jobname=jobname))"
   ]
  },
  {
   "cell_type": "markdown",
   "metadata": {},
   "source": [
    "## Shuffled SHAM\n",
    "----\n"
   ]
  },
  {
   "cell_type": "raw",
   "metadata": {
    "collapsed": true
   },
   "source": [
    "tmp_cfg = copy.deepcopy(orig_cfg)\n",
    "\n",
    "directory = path.join(cov_path, \"mcmc/config/\")\n",
    "output_dir = path.join(emu_path, \"PearceMCMC/\")\n",
    "jobname_template = \"ShuffledSHAM_wp_ds_rmin_{rmin}_{emu_name}\"\n",
    "\n",
    "for rmin in [None, 0.5, 1.0, 2.0]:\n",
    "    for emu_fname, emu_name, emu_cov in zip(emu_fnames, emu_names, emu_cov_fnames):\n",
    "        \n",
    "        if rmin is not None:\n",
    "            tmp_cfg['emu']['fixed_params'] = {'z': 0.0, 'rmin':rmin}\n",
    "            \n",
    "        tmp_cfg['emu']['training_file'] = emu_fname\n",
    "        tmp_cfg['emu']['emu_type'] = ['LemonPepperWet' for i in xrange(len(emu_fname))]\n",
    "        tmp_cfg['emu']['emu_cov_fname'] = emu_cov\n",
    "        \n",
    "        tmp_cfg['data']['true_data_fname']= [path.join(cov_path, 'mock_measurements/SHUFFLED_SHAMmock_wp.npy'),\n",
    "                                             path.join(cov_path, 'mock_measurements/SHUFFLED_SHAMmock_ds.npy')]\n",
    "        tmp_cfg['data']['true_cov_fname'] = meas_cov_fname\n",
    "        \n",
    "        tmp_cfg['data']['obs']['obs'] = ['wp','ds']\n",
    "        tmp_cfg['data']['obs']['rbins'] = list(r_bins)\n",
    "        \n",
    "\n",
    "        tmp_cfg['chain']['nsteps'] = n_steps\n",
    "        tmp_cfg['chain']['nwalkers'] = n_walkers\n",
    "        tmp_cfg['chain']['mcmc_type'] = 'normal'\n",
    "\n",
    "        \n",
    "        tmp_cfg['data']['sim']['sim_hps']['system'] = 'ki-ls'\n",
    "        tmp_cfg['data']['cov']['emu_cov_fname'] = tmp_cfg['emu']['emu_cov_fname'] \n",
    "        tmp_cfg['data']['cov']['meas_cov_fname'] = tmp_cfg['data']['true_cov_fname']\n",
    "        \n",
    "        jobname = jobname_template.format(rmin=rmin, emu_name=emu_name)\n",
    "        tmp_cfg['fname'] = path.join(output_dir, jobname+'.hdf5')\n",
    "\n",
    "        with open(path.join(directory, jobname +'.yaml'), 'w') as f:\n",
    "            yaml.dump(tmp_cfg, f)\n",
    "\n",
    "        #with open(path.join(directory, jobname + '.sbatch'), 'w') as f:\n",
    "        #    f.write(sbatch_template.format(jobname=jobname))\n",
    "        with open(path.join(directory, jobname + '.bsub'), 'w') as f:\n",
    "            f.write(bsub_template.format(jobname=jobname))\n",
    "            #f.write(bsub_restart_template.format(jobname=jobname))"
   ]
  },
  {
   "cell_type": "markdown",
   "metadata": {},
   "source": [
    "## Universe Machine\n",
    "----\n"
   ]
  },
  {
   "cell_type": "raw",
   "metadata": {
    "collapsed": false
   },
   "source": [
    "tmp_cfg = copy.deepcopy(orig_cfg)\n",
    "directory = path.join(cov_path, \"mcmc/config/\")\n",
    "output_dir = path.join(emu_path, \"PearceMCMC/\")\n",
    "jobname_template = \"UniverseMachine_wp_ds_rmin_{rmin}_{emu_name}\"\n",
    "\n",
    "for rmin in [None, 0.5, 1.0, 2.0]:\n",
    "    for emu_fname, emu_name, emu_cov in zip(emu_fnames, emu_names, emu_cov_fnames):\n",
    "        \n",
    "        if rmin is not None:\n",
    "            tmp_cfg['emu']['fixed_params'] = {'z': 0.0, 'rmin':rmin}\n",
    "            \n",
    "        tmp_cfg['emu']['training_file'] = emu_fname\n",
    "        tmp_cfg['emu']['emu_type'] = ['LemonPepperWet' for i in xrange(len(emu_fname))]\n",
    "        tmp_cfg['emu']['emu_cov_fname'] = emu_cov\n",
    "        \n",
    "        tmp_cfg['data']['true_data_fname']= [path.join(cov_path, 'mock_measurements/UMmock_wp.npy'),\n",
    "                                             path.join(cov_path, 'mock_measurements/UMmock_ds.npy')]\n",
    "        tmp_cfg['data']['true_cov_fname'] = meas_cov_fname\n",
    "        \n",
    "        tmp_cfg['data']['obs']['obs'] = ['wp','ds']\n",
    "        tmp_cfg['data']['obs']['rbins'] = list(r_bins)\n",
    "        \n",
    "\n",
    "        tmp_cfg['chain']['nsteps'] = n_steps\n",
    "        tmp_cfg['chain']['nwalkers'] = n_walkers\n",
    "        tmp_cfg['chain']['mcmc_type'] = 'normal'\n",
    "\n",
    "        \n",
    "        tmp_cfg['data']['sim']['sim_hps']['system'] = 'ki-ls'\n",
    "        tmp_cfg['data']['cov']['emu_cov_fname'] = tmp_cfg['emu']['emu_cov_fname'] \n",
    "        tmp_cfg['data']['cov']['meas_cov_fname'] = tmp_cfg['data']['true_cov_fname']\n",
    "        \n",
    "        jobname = jobname_template.format(rmin=rmin, emu_name=emu_name)\n",
    "        tmp_cfg['fname'] = path.join(output_dir, jobname+'.hdf5')\n",
    "\n",
    "        with open(path.join(directory, jobname +'.yaml'), 'w') as f:\n",
    "            yaml.dump(tmp_cfg, f)\n",
    "\n",
    "        #with open(path.join(directory, jobname + '.sbatch'), 'w') as f:\n",
    "        #    f.write(sbatch_template.format(jobname=jobname))\n",
    "        with open(path.join(directory, jobname + '.bsub'), 'w') as f:\n",
    "            f.write(bsub_template.format(jobname=jobname))\n",
    "            #f.write(bsub_restart_template.format(jobname=jobname))"
   ]
  },
  {
   "cell_type": "markdown",
   "metadata": {},
   "source": [
    "## HOD\n",
    "----\n"
   ]
  },
  {
   "cell_type": "code",
   "execution_count": 35,
   "metadata": {
    "collapsed": true
   },
   "outputs": [],
   "source": [
    "#orig_cfg_fname = '/u/ki/swmclau2//Git/pearce/bin/mcmc/nh_gg_sham_hsab_mcmc_config.yaml'\n",
    "with open(orig_cfg_fname, 'r') as yamlfile:\n",
    "    orig_cfg = yaml.load(yamlfile)"
   ]
  },
  {
   "cell_type": "raw",
   "metadata": {},
   "source": [
    "orig_cfg"
   ]
  },
  {
   "cell_type": "code",
   "execution_count": 37,
   "metadata": {
    "collapsed": false
   },
   "outputs": [],
   "source": [
    "tmp_cfg = copy.deepcopy(orig_cfg)\n",
    "\n",
    "directory = path.join(cov_path, \"mcmc/config/\")\n",
    "output_dir = path.join(emu_path, \"PearceMCMC/\")\n",
    "\n",
    "jobname_template = \"HOD_1_1_rmin_{rmin}_{emu_name}\"#_fixed_HOD\"\n",
    "\n",
    "for rmin in [0.1, 1.0, 5.0]:\n",
    "    for emu_fname, emu_name, emu_cov, obs, meas_cov, data_name in\\\n",
    "    zip(emu_fnames, emu_names, emu_cov_fnames, obs_names, meas_cov_fnames,\\\n",
    "        data_fnames):\n",
    "        \n",
    "        #if rmin is not None:\n",
    "        tmp_cfg['emu']['fixed_params'] = {'z': 0.0, 'rmin':rmin}#, 'cosmo':0}\n",
    "        #else:\n",
    "        #    tmp_cfg['emu']['fixed_params'] = {'z': 0.0, 'rmin':rmin, 'csomo':0}\n",
    "\n",
    "            \n",
    "        tmp_cfg['emu']['training_file'] = emu_fname\n",
    "        tmp_cfg['emu']['emu_type'] = ['LemonPepperWet' for i in xrange(len(emu_fname))]\n",
    "        tmp_cfg['emu']['emu_cov_fname'] = emu_cov\n",
    "        \n",
    "        tmp_cfg['data']['obs']['obs'] = [obs] if type(obs) is not list else obs\n",
    "        tmp_cfg['data']['obs']['rbins'] = list(r_bins)\n",
    "\n",
    "        tmp_cfg['data']['true_data_fname']= [data_name] if type(data_name) is not list else data_name\n",
    "        tmp_cfg['data']['true_cov_fname'] = meas_cov\n",
    "        \n",
    "        \n",
    "        tmp_cfg['data']['cov']['meas_cov_fname'] = meas_cov_fname#tmp_cfg['data']['true_cov_fname']\n",
    "        tmp_cfg['data']['cov']['emu_cov_fname'] = tmp_cfg['emu']['emu_cov_fname'] # TODO make this not be redundant\n",
    "        \n",
    "        jobname = jobname_template.format(rmin=rmin, emu_name=emu_name)\n",
    "        tmp_cfg['fname'] = path.join(output_dir, jobname+'.hdf5')\n",
    "        \n",
    "        tmp_cfg['sim']= {'gal_type': 'HOD',\n",
    "       'hod_name': 'zheng07',\n",
    "       'hod_params': {'alpha': 1.0,\n",
    "        'logM0': 13.0,\n",
    "        'logM1': 14.0,\n",
    "        'sigma_logM': 0.2,\n",
    "        'conc_gal_bias': 1.0},\n",
    "       'nd': '5e-4',\n",
    "       'scale_factor': 1.0,\n",
    "       'min_ptcl': 100, \n",
    "       'sim_hps': {'boxno': 1,\n",
    "        'realization': 0,\n",
    "        'system': 'ki-ls'},\n",
    "       'simname': 'trainingbox'}\n",
    "        \n",
    "        # TODO i shouldnt have to specify this this way\n",
    "        tmp_cfg['data']['sim'] = tmp_cfg['sim']\n",
    "        \n",
    "        tmp_cfg['chain']['nwalkers'] = n_walkers\n",
    "        tmp_cfg['chain']['nsteps'] = n_steps\n",
    "        tmp_cfg['chain']['mcmc_type'] = 'normal'\n",
    "        \n",
    "        # fix params during MCMC    \n",
    "        #tmp_cfg['chain']['fixed_params'].update(tmp_cfg['sim']['hod_params'])\n",
    "        \n",
    "        #try:\n",
    "        #    del tmp_cfg['data']['true_data_fname']\n",
    "        #    del tmp_cfg['data']['true_cov_fname']\n",
    "        #except KeyError:\n",
    "        #    pass\n",
    "\n",
    "        with open(path.join(directory, jobname +'.yaml'), 'w') as f:\n",
    "            yaml.dump(tmp_cfg, f)\n",
    "\n",
    "        #with open(path.join(directory, jobname + '.sbatch'), 'w') as f:\n",
    "        #    f.write(sbatch_template.format(jobname=jobname))\n",
    "            \n",
    "        with open(path.join(directory, jobname + '.bsub'), 'w') as f:\n",
    "            f.write(bsub_template.format(jobname=jobname))\n",
    "            #f.write(bsub_restart_template.format(jobname=jobname))"
   ]
  },
  {
   "cell_type": "markdown",
   "metadata": {},
   "source": [
    "## HSAB HOD\n",
    "----\n"
   ]
  },
  {
   "cell_type": "raw",
   "metadata": {
    "collapsed": true
   },
   "source": [
    "cosmo_pnames = ['ombh2', 'omch2', 'w0', 'ns', 'H0', 'Neff', 'sigma8']\n",
    "cosmo_true_vals = [0.022762900000000003,\n",
    " 0.11283,\n",
    " -0.861513,\n",
    " 0.971515,\n",
    " 65.7317,\n",
    " 3.2,\n",
    " 0.7542319000000001] # test box 1"
   ]
  },
  {
   "cell_type": "raw",
   "metadata": {
    "collapsed": false
   },
   "source": [
    "tmp_cfg = copy.deepcopy(orig_cfg)\n",
    "\n",
    "directory = path.join(cov_path, \"mcmc/config/\")\n",
    "output_dir = path.join(emu_path, \"PearceMCMC/\")\n",
    "\n",
    "jobname_template = \"CAB_HOD_fixed_cosmo_nfw_conc_wp_ds_rmin_{rmin}_{emu_name}\"#_fixed_HOD\"\n",
    "\n",
    "for rmin in [None, 0.5, 1.0, 2.0]:\n",
    "    for emu_fname, emu_name, emu_cov in zip(emu_fnames, emu_names, emu_cov_fnames):\n",
    "        \n",
    "        if rmin is not None:\n",
    "            tmp_cfg['emu']['fixed_params'] = {'z': 0.0, 'rmin':rmin}\n",
    "            \n",
    "        tmp_cfg['emu']['training_file'] = emu_fname\n",
    "        tmp_cfg['emu']['emu_type'] = ['LemonPepperWet' for i in xrange(len(emu_fname))]\n",
    "        tmp_cfg['emu']['emu_cov_fname'] = emu_cov\n",
    "        \n",
    "        tmp_cfg['data']['obs']['obs'] = ['wp','ds']\n",
    "        tmp_cfg['data']['obs']['rbins'] = list(r_bins)\n",
    "        \n",
    "        #tmp_cfg['data']['true_data_fname']= [path.join(cov_path, 'mock_measurements/HODmock_wp.npy'),\n",
    "        #                                     path.join(cov_path, 'mock_measurements/HODmock_ds.npy')]\n",
    "        tmp_cfg['data']['true_cov_fname'] = meas_cov_fname\n",
    "        \n",
    "        \n",
    "        tmp_cfg['data']['cov']['meas_cov_fname'] = tmp_cfg['data']['true_cov_fname']\n",
    "        tmp_cfg['data']['cov']['emu_cov_fname'] = tmp_cfg['emu']['emu_cov_fname'] # TODO make this not be redundant\n",
    "        \n",
    "        jobname = jobname_template.format(rmin=rmin, emu_name=emu_name)\n",
    "        tmp_cfg['fname'] = path.join(output_dir, jobname+'.hdf5')\n",
    "        \n",
    "        \n",
    "        tmp_cfg['chain']['fixed_params'] = 'cosmo'\n",
    "\n",
    "        \n",
    "        tmp_cfg['sim']= {'gal_type': 'HOD',\n",
    "       'hod_name': 'hsabZheng07',\n",
    "       'hod_params': {'alpha': 1.083,\n",
    "        'logM0': 13.2,\n",
    "        'logM1': 14.2,\n",
    "        'sigma_logM': 0.2,\n",
    "        'conc_gal_bias': 1.0,\n",
    "         'mean_occupation_centrals_assembias_param1': 1.0,\n",
    "          'mean_occupation_satellites_assembias_param1': -1.0},\n",
    "        'cosmo_params': dict(zip(cosmo_pnames, cosmo_true_vals)),\n",
    "       'nd': '5e-4',\n",
    "       'scale_factor': 1.0,\n",
    "       'min_ptcl': 100, \n",
    "       'sim_hps': {'boxno': 1,\n",
    "        'downsample_factor': 1e-2,\n",
    "        'particles': True,\n",
    "        'realization': 1,\n",
    "        'system': 'ki-ls',\n",
    "        'sec_haloprop_key': 'halo_nfw_conc'},\n",
    "       'simname': 'testbox'}\n",
    "        \n",
    "        # TODO i shouldnt have to specify this this way\n",
    "        tmp_cfg['data']['sim'] = tmp_cfg['sim']\n",
    "        \n",
    "        tmp_cfg['chain']['nwalkers'] = n_walkers\n",
    "        tmp_cfg['chain']['nsteps'] = n_steps\n",
    "        tmp_cfg['chain']['mcmc_type'] = 'normal'\n",
    "        \n",
    "        # fix params during MCMC    \n",
    "        #tmp_cfg['chain']['fixed_params'].update(tmp_cfg['sim']['hod_params'])\n",
    "        \n",
    "        try:\n",
    "            del tmp_cfg['data']['true_data_fname']\n",
    "            del tmp_cfg['data']['true_cov_fname']\n",
    "        except KeyError:\n",
    "            pass\n",
    "\n",
    "        with open(path.join(directory, jobname +'.yaml'), 'w') as f:\n",
    "            yaml.dump(tmp_cfg, f)\n",
    "\n",
    "        #with open(path.join(directory, jobname + '.sbatch'), 'w') as f:\n",
    "        #    f.write(sbatch_template.format(jobname=jobname))\n",
    "            \n",
    "        with open(path.join(directory, jobname + '.bsub'), 'w') as f:\n",
    "            f.write(bsub_template.format(jobname=jobname))\n",
    "            #f.write(bsub_restart_template.format(jobname=jobname))"
   ]
  },
  {
   "cell_type": "raw",
   "metadata": {
    "collapsed": false
   },
   "source": [
    "tmp_cfg = copy.deepcopy(orig_cfg)\n",
    "\n",
    "directory = path.join(cov_path, \"mcmc/config/\")\n",
    "output_dir = path.join(emu_path, \"PearceMCMC/\")\n",
    "\n",
    "jobname_template = \"CAB_HOD_fixed_cosmo_lsd_wp_ds_rmin_{rmin}_{emu_name}\"#_fixed_HOD\"\n",
    "\n",
    "for rmin in [None, 0.5, 1.0, 2.0]:\n",
    "    for emu_fname, emu_name, emu_cov in zip(emu_fnames, emu_names, emu_cov_fnames):\n",
    "        \n",
    "        if rmin is not None:\n",
    "            tmp_cfg['emu']['fixed_params'] = {'z': 0.0, 'rmin':rmin}\n",
    "            \n",
    "        tmp_cfg['emu']['training_file'] = emu_fname\n",
    "        tmp_cfg['emu']['emu_type'] = ['LemonPepperWet' for i in xrange(len(emu_fname))]\n",
    "        tmp_cfg['emu']['emu_cov_fname'] = emu_cov\n",
    "        \n",
    "        tmp_cfg['data']['obs']['obs'] = ['wp','ds']\n",
    "        tmp_cfg['data']['obs']['rbins'] = list(r_bins)\n",
    "        \n",
    "        #tmp_cfg['data']['true_data_fname']= [path.join(cov_path, 'mock_measurements/HODmock_wp.npy'),\n",
    "        #                                     path.join(cov_path, 'mock_measurements/HODmock_ds.npy')]\n",
    "        tmp_cfg['data']['true_cov_fname'] = meas_cov_fname\n",
    "        \n",
    "        \n",
    "        tmp_cfg['data']['cov']['meas_cov_fname'] = tmp_cfg['data']['true_cov_fname']\n",
    "        tmp_cfg['data']['cov']['emu_cov_fname'] = tmp_cfg['emu']['emu_cov_fname'] # TODO make this not be redundant\n",
    "        \n",
    "        jobname = jobname_template.format(rmin=rmin, emu_name=emu_name)\n",
    "        tmp_cfg['fname'] = path.join(output_dir, jobname+'.hdf5')\n",
    "        \n",
    "        \n",
    "        tmp_cfg['chain']['fixed_params'] = 'cosmo'\n",
    "\n",
    "        tmp_cfg['sim']= {'gal_type': 'SHAM',\n",
    "       'nd': '5e-4',\n",
    "       'scale_factor': 1.0,\n",
    "       'min_ptcl': 100, \n",
    "       'simname': 'mdpl2'}\n",
    "        tmp_cfg['sim']= {'gal_type': 'HOD',\n",
    "       'hod_name': 'hsabZheng07',\n",
    "       'hod_params': {'alpha': 1.083,\n",
    "        'logM0': 13.2,\n",
    "        'logM1': 14.2,\n",
    "        'sigma_logM': 0.2,\n",
    "        'conc_gal_bias': 1.0,\n",
    "         'mean_occupation_centrals_assembias_param1': 1.0,\n",
    "          'mean_occupation_satellites_assembias_param1': -1.0},\n",
    "        'cosmo_params': dict(zip(cosmo_pnames, cosmo_true_vals)),\n",
    "       'nd': '5e-4',\n",
    "       'scale_factor': 1.0,\n",
    "       'min_ptcl': 100, \n",
    "       'sim_hps': {'boxno': 1,\n",
    "        'downsample_factor': 1e-2,\n",
    "        'particles': True,\n",
    "        'realization': 1,\n",
    "        'system': 'ki-ls',\n",
    "         'sec_haloprop_key': 'halo_local_density_10'},\n",
    "       'simname': 'testbox'}\n",
    "        \n",
    "        # TODO i shouldnt have to specify this this way\n",
    "        tmp_cfg['data']['sim'] = tmp_cfg['sim']\n",
    "        \n",
    "        tmp_cfg['chain']['nwalkers'] = n_walkers\n",
    "        tmp_cfg['chain']['nsteps'] = n_steps\n",
    "        tmp_cfg['chain']['mcmc_type'] = 'normal'\n",
    "        \n",
    "        # fix params during MCMC    \n",
    "        #tmp_cfg['chain']['fixed_params'].update(tmp_cfg['sim']['hod_params'])\n",
    "        \n",
    "        try:\n",
    "            del tmp_cfg['data']['true_data_fname']\n",
    "            del tmp_cfg['data']['true_cov_fname']\n",
    "        except KeyError:\n",
    "            pass\n",
    "\n",
    "        with open(path.join(directory, jobname +'.yaml'), 'w') as f:\n",
    "            yaml.dump(tmp_cfg, f)\n",
    "\n",
    "        #with open(path.join(directory, jobname + '.sbatch'), 'w') as f:\n",
    "        #    f.write(sbatch_template.format(jobname=jobname))\n",
    "            \n",
    "        with open(path.join(directory, jobname + '.bsub'), 'w') as f:\n",
    "            f.write(bsub_template.format(jobname=jobname))\n",
    "            #f.write(bsub_restart_template.format(jobname=jobname))"
   ]
  },
  {
   "cell_type": "code",
   "execution_count": null,
   "metadata": {
    "collapsed": true
   },
   "outputs": [],
   "source": []
  }
 ],
 "metadata": {
  "kernelspec": {
   "display_name": "Python [default]",
   "language": "python",
   "name": "python2"
  },
  "language_info": {
   "codemirror_mode": {
    "name": "ipython",
    "version": 2
   },
   "file_extension": ".py",
   "mimetype": "text/x-python",
   "name": "python",
   "nbconvert_exporter": "python",
   "pygments_lexer": "ipython2",
   "version": "2.7.13"
  }
 },
 "nbformat": 4,
 "nbformat_minor": 2
}

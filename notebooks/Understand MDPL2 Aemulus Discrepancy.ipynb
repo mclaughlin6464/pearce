{
 "cells": [
  {
   "cell_type": "code",
   "execution_count": 1,
   "metadata": {
    "collapsed": true
   },
   "outputs": [],
   "source": [
    "%matplotlib inline\n",
    "from matplotlib import pyplot as plt\n",
    "import seaborn as sns"
   ]
  },
  {
   "cell_type": "code",
   "execution_count": 2,
   "metadata": {},
   "outputs": [
    {
     "name": "stderr",
     "output_type": "stream",
     "text": [
      "/home/users/swmclau2/.local/lib/python2.7/site-packages/h5py/__init__.py:36: FutureWarning: Conversion of the second argument of issubdtype from `float` to `np.floating` is deprecated. In future, it will be treated as `np.float64 == np.dtype(float).type`.\n",
      "  from ._conv import register_converters as _register_converters\n"
     ]
    }
   ],
   "source": [
    "from pearce.mocks.kittens import TrainingBox, MDPL2\n",
    "import numpy as np\n",
    "from scipy.optimize import minimize_scalar\n",
    "from halotools.mock_observables import hod_from_mock\n",
    "from astropy.table import Table\n",
    "import h5py"
   ]
  },
  {
   "cell_type": "markdown",
   "metadata": {},
   "source": [
    "I tried putting an HOD on the MDPL2 box and recovering it, but my result was very biased. Now i want to understand wtf is the problem. "
   ]
  },
  {
   "cell_type": "code",
   "execution_count": 3,
   "metadata": {
    "collapsed": true
   },
   "outputs": [],
   "source": [
    "galcat = np.load('/home/users/swmclau2/scratch/UniverseMachine/hod_catalog2.npy')\n",
    "#galcat = np.load('/home/users/swmclau2/scratch/UniverseMachine/cut_nfwized_sham_catalog.npy')"
   ]
  },
  {
   "cell_type": "code",
   "execution_count": 4,
   "metadata": {
    "collapsed": true
   },
   "outputs": [],
   "source": [
    "true_hod_params = {'alpha': 1.083, 'logM0': 13.2, 'logM1': 14.2, 'sigma_logM': 0.2}\n",
    "true_hod_params['logMmin'] = 13.0 # TODO fit nd\n",
    "\n",
    "nd = 5e-4\n",
    "min_ptcl = 100"
   ]
  },
  {
   "cell_type": "code",
   "execution_count": 5,
   "metadata": {
    "collapsed": true
   },
   "outputs": [],
   "source": [
    "def add_logMmin(cat, params, nd):\n",
    "    def func(logMmin, hod_params):\n",
    "        params.update({'logMmin':logMmin})\n",
    "        return (cat.calc_analytic_nd(params, min_ptcl=min_ptcl) - nd)**2\n",
    "\n",
    "    res = minimize_scalar(func, bounds = (12,16), args = (params,), options = {'maxiter':100}, method = 'Bounded')\n",
    "\n",
    "     # assuming this doens't fail\n",
    "    print 'logMmin', res.x\n",
    "    params['logMmin'] = res.x"
   ]
  },
  {
   "cell_type": "code",
   "execution_count": 6,
   "metadata": {
    "collapsed": true
   },
   "outputs": [],
   "source": [
    "cat = TrainingBox(10)\n",
    "cat.load(1.0, HOD='zheng07')"
   ]
  },
  {
   "cell_type": "code",
   "execution_count": 7,
   "metadata": {},
   "outputs": [
    {
     "name": "stdout",
     "output_type": "stream",
     "text": [
      "logMmin 13.067362624055738\n"
     ]
    }
   ],
   "source": [
    "add_logMmin(cat, true_hod_params, nd)"
   ]
  },
  {
   "cell_type": "code",
   "execution_count": 8,
   "metadata": {
    "collapsed": true
   },
   "outputs": [],
   "source": [
    "cat.populate(true_hod_params, min_ptcl=min_ptcl)"
   ]
  },
  {
   "cell_type": "code",
   "execution_count": 9,
   "metadata": {},
   "outputs": [
    {
     "data": {
      "text/plain": [
       "579576"
      ]
     },
     "execution_count": 9,
     "metadata": {},
     "output_type": "execute_result"
    }
   ],
   "source": [
    "len(cat.model.mock.galaxy_table)"
   ]
  },
  {
   "cell_type": "code",
   "execution_count": 10,
   "metadata": {},
   "outputs": [
    {
     "data": {
      "text/plain": [
       "0.0004951524663504945"
      ]
     },
     "execution_count": 10,
     "metadata": {},
     "output_type": "execute_result"
    }
   ],
   "source": [
    "cat.calc_analytic_nd()"
   ]
  },
  {
   "cell_type": "code",
   "execution_count": 11,
   "metadata": {},
   "outputs": [
    {
     "data": {
      "text/plain": [
       "499787"
      ]
     },
     "execution_count": 11,
     "metadata": {},
     "output_type": "execute_result"
    }
   ],
   "source": [
    "len(galcat)"
   ]
  },
  {
   "cell_type": "code",
   "execution_count": 12,
   "metadata": {},
   "outputs": [
    {
     "data": {
      "text/plain": [
       "dtype([('halo_upid', '<i8'), ('halo_hostid', '<i8'), ('conc_NFWmodel', '<f4'), ('halo_y', '<f4'), ('halo_x', '<f4'), ('halo_z', '<f4'), ('halo_vx', '<f4'), ('halo_vy', '<f4'), ('halo_vz', '<f4'), ('halo_rvir', '<f4'), ('halo_mvir', '<f4'), ('halo_id', '<i8'), ('halo_num_centrals', '<i4'), ('halo_num_satellites', '<i4'), ('gal_type', 'O'), ('vx', '<f4'), ('host_centric_distance', '<f8'), ('vy', '<f4'), ('y', '<f4'), ('x', '<f4'), ('vz', '<f4'), ('z', '<f4')])"
      ]
     },
     "execution_count": 12,
     "metadata": {},
     "output_type": "execute_result"
    }
   ],
   "source": [
    "galcat.dtype"
   ]
  },
  {
   "cell_type": "raw",
   "metadata": {},
   "source": [
    "plt.hist(galcat['host_centric_distance'][galcat['host_centric_distance']>0], bins = 100);"
   ]
  },
  {
   "cell_type": "raw",
   "metadata": {},
   "source": [
    "plt.hist(cat.model.mock.galaxy_table['host_centric_distance'][cat.model.mock.galaxy_table['host_centric_distance']>0], bins = 100);"
   ]
  },
  {
   "cell_type": "code",
   "execution_count": 13,
   "metadata": {
    "collapsed": true
   },
   "outputs": [],
   "source": [
    "mass_bins = np.logspace(11, 16, 61)\n",
    "mbc = (mass_bins[1:]+mass_bins[:-1])/2.0"
   ]
  },
  {
   "cell_type": "code",
   "execution_count": 14,
   "metadata": {
    "collapsed": true
   },
   "outputs": [],
   "source": [
    "aemulus_cenmask = cat.model.mock.galaxy_table['gal_type'] == 'centrals'"
   ]
  },
  {
   "cell_type": "code",
   "execution_count": 15,
   "metadata": {
    "collapsed": true
   },
   "outputs": [],
   "source": [
    "aemulus_hod = hod_from_mock(cat.model.mock.galaxy_table[aemulus_cenmask]['halo_mvir'], cat.model.mock.halo_table['halo_mvir'], mass_bins)[0]"
   ]
  },
  {
   "cell_type": "code",
   "execution_count": 16,
   "metadata": {
    "collapsed": true
   },
   "outputs": [],
   "source": [
    "cat2 = MDPL2()"
   ]
  },
  {
   "cell_type": "raw",
   "metadata": {
    "collapsed": true
   },
   "source": [
    "cat2.load(1.0, HOD='zheng07')"
   ]
  },
  {
   "cell_type": "code",
   "execution_count": 17,
   "metadata": {
    "collapsed": true
   },
   "outputs": [],
   "source": [
    "f = h5py.File('/home/users/swmclau2/scratch/hlists/hlist_1.00.list.mdpl2.hdf5')"
   ]
  },
  {
   "cell_type": "code",
   "execution_count": 18,
   "metadata": {},
   "outputs": [
    {
     "data": {
      "text/plain": [
       "127388160"
      ]
     },
     "execution_count": 18,
     "metadata": {},
     "output_type": "execute_result"
    }
   ],
   "source": [
    "len(f['data'])"
   ]
  },
  {
   "cell_type": "code",
   "execution_count": 19,
   "metadata": {
    "scrolled": true
   },
   "outputs": [
    {
     "name": "stdout",
     "output_type": "stream",
     "text": [
      "0\n",
      "1000000\n",
      "2000000\n",
      "3000000\n",
      "4000000\n",
      "5000000\n",
      "6000000\n",
      "7000000\n",
      "8000000\n",
      "9000000\n",
      "10000000\n",
      "11000000\n",
      "12000000\n",
      "13000000\n",
      "14000000\n",
      "15000000\n",
      "16000000\n",
      "17000000\n",
      "18000000\n",
      "19000000\n",
      "20000000\n",
      "21000000\n",
      "22000000\n",
      "23000000\n",
      "24000000\n",
      "25000000\n",
      "26000000\n",
      "27000000\n",
      "28000000\n",
      "29000000\n",
      "30000000\n",
      "31000000\n",
      "32000000\n",
      "33000000\n",
      "34000000\n",
      "35000000\n",
      "36000000\n",
      "37000000\n",
      "38000000\n",
      "39000000\n",
      "40000000\n",
      "41000000\n",
      "42000000\n",
      "43000000\n",
      "44000000\n",
      "45000000\n",
      "46000000\n",
      "47000000\n",
      "48000000\n",
      "49000000\n",
      "50000000\n",
      "51000000\n",
      "52000000\n",
      "53000000\n",
      "54000000\n",
      "55000000\n",
      "56000000\n",
      "57000000\n",
      "58000000\n",
      "59000000\n",
      "60000000\n",
      "61000000\n",
      "62000000\n",
      "63000000\n",
      "64000000\n",
      "65000000\n",
      "66000000\n",
      "67000000\n",
      "68000000\n",
      "69000000\n",
      "70000000\n",
      "71000000\n",
      "72000000\n",
      "73000000\n",
      "74000000\n",
      "75000000\n",
      "76000000\n",
      "77000000\n",
      "78000000\n",
      "79000000\n",
      "80000000\n",
      "81000000\n",
      "82000000\n",
      "83000000\n",
      "84000000\n",
      "85000000\n",
      "86000000\n",
      "87000000\n",
      "88000000\n",
      "89000000\n",
      "90000000\n",
      "91000000\n",
      "92000000\n",
      "93000000\n",
      "94000000\n",
      "95000000\n",
      "96000000\n",
      "97000000\n",
      "98000000\n",
      "99000000\n",
      "100000000\n",
      "101000000\n",
      "102000000\n",
      "103000000\n",
      "104000000\n",
      "105000000\n",
      "106000000\n",
      "107000000\n",
      "108000000\n",
      "109000000\n",
      "110000000\n",
      "111000000\n",
      "112000000\n",
      "113000000\n",
      "114000000\n",
      "115000000\n",
      "116000000\n",
      "117000000\n",
      "118000000\n",
      "119000000\n",
      "120000000\n",
      "121000000\n",
      "122000000\n",
      "123000000\n",
      "124000000\n",
      "125000000\n",
      "126000000\n",
      "127000000\n"
     ]
    }
   ],
   "source": [
    "rvirs = []\n",
    "for i in xrange(0, len(f['data']), int(1e6)):\n",
    "    print i\n",
    "    data = f['data'][i:i+int(1e6)]\n",
    "    rvirs.append(data[np.logical_and(data['halo_mvir']>np.min(galcat['halo_mvir']),\\\n",
    "                                     data['halo_upid']==-1)]['halo_rvir'])"
   ]
  },
  {
   "cell_type": "code",
   "execution_count": 20,
   "metadata": {
    "collapsed": true
   },
   "outputs": [],
   "source": [
    "f.close()"
   ]
  },
  {
   "cell_type": "code",
   "execution_count": 21,
   "metadata": {
    "collapsed": true
   },
   "outputs": [],
   "source": [
    "mdpl2_rvirs2 = np.concatenate(rvirs)"
   ]
  },
  {
   "cell_type": "code",
   "execution_count": 22,
   "metadata": {},
   "outputs": [
    {
     "name": "stderr",
     "output_type": "stream",
     "text": [
      "WARNING: path= was not specified but multiple tables are present, reading in first available table (path=halo_vpeak_catalog) [astropy.io.misc.hdf5]\n"
     ]
    }
   ],
   "source": [
    "catalog_fname = '/home/users/swmclau2/scratch/test_MDPL2_halo_vpeak_smf_sham_large.hdf5'\n",
    "\n",
    "#halos = np.fromfile(catalog_fname, dtype=um_dtype)\n",
    "mdpl2_halos = np.array(Table.read(catalog_fname, format = 'hdf5'))"
   ]
  },
  {
   "cell_type": "code",
   "execution_count": 23,
   "metadata": {
    "collapsed": true
   },
   "outputs": [],
   "source": [
    "mdpl2_host_halos = mdpl2_halos[np.logical_and(mdpl2_halos['halo_mvir']>np.min(galcat['halo_mvir']), mdpl2_halos['halo_upid']==-1)]"
   ]
  },
  {
   "cell_type": "code",
   "execution_count": 24,
   "metadata": {
    "collapsed": true
   },
   "outputs": [],
   "source": [
    "mdpl2_cenmask = galcat['gal_type'] == 'centrals'"
   ]
  },
  {
   "cell_type": "code",
   "execution_count": 25,
   "metadata": {
    "collapsed": true
   },
   "outputs": [],
   "source": [
    "mdpl2_hod = hod_from_mock(galcat[mdpl2_cenmask]['halo_mvir'], mdpl2_host_halos['halo_mvir'], mass_bins)[0]"
   ]
  },
  {
   "cell_type": "code",
   "execution_count": 26,
   "metadata": {},
   "outputs": [
    {
     "data": {
      "image/png": "[encoded data removed]",
      "text/plain": [
       "<matplotlib.figure.Figure at 0x7f0974ff0c50>"
      ]
     },
     "metadata": {},
     "output_type": "display_data"
    }
   ],
   "source": [
    "plt.plot(mbc, aemulus_hod, label = 'Aemulus')\n",
    "plt.plot(mbc, mdpl2_hod, label = 'MDPL2')\n",
    "plt.legend(loc='best')\n",
    "#plt.loglog()\n",
    "plt.xscale('log')"
   ]
  },
  {
   "cell_type": "code",
   "execution_count": 27,
   "metadata": {
    "collapsed": true
   },
   "outputs": [],
   "source": [
    "aemulus_host_halos = cat.halocat.halo_table[np.logical_and(\\\n",
    "                        cat.halocat.halo_table['halo_mvir']>np.min(cat.model.mock.halo_table['halo_mvir']),\n",
    "                        cat.halocat.halo_table['halo_upid']==-1)]"
   ]
  },
  {
   "cell_type": "code",
   "execution_count": 28,
   "metadata": {
    "collapsed": true
   },
   "outputs": [],
   "source": [
    "aemulus_conc = aemulus_host_halos['halo_nfw_conc']\n",
    "aemulus_mass = aemulus_host_halos['halo_mvir']\n",
    "\n",
    "idxs = np.logical_and(np.isfinite(aemulus_conc), ~np.isnan(aemulus_conc))\n",
    "aemulus_conc = aemulus_conc[idxs]\n",
    "aemulus_mass = aemulus_mass[idxs]"
   ]
  },
  {
   "cell_type": "code",
   "execution_count": 29,
   "metadata": {
    "collapsed": true
   },
   "outputs": [],
   "source": [
    "mdpl2_mass = mdpl2_host_halos['halo_mvir']\n",
    "mdpl2_conc = mdpl2_host_halos['halo_rvir']/mdpl2_host_halos['halo_rs']"
   ]
  },
  {
   "cell_type": "code",
   "execution_count": 30,
   "metadata": {},
   "outputs": [
    {
     "data": {
      "image/png": "[encoded data removed]",
      "text/plain": [
       "<matplotlib.figure.Figure at 0x7f096d958f10>"
      ]
     },
     "metadata": {},
     "output_type": "display_data"
    }
   ],
   "source": [
    "bins = np.linspace(0, 2.5, 150)\n",
    "plt.hist(np.log10(aemulus_conc), bins = bins, alpha = 0.3);\n",
    "plt.hist(np.log10(mdpl2_conc), bins = bins, alpha = 0.3);"
   ]
  },
  {
   "cell_type": "code",
   "execution_count": 31,
   "metadata": {},
   "outputs": [
    {
     "data": {
      "text/plain": [
       "<seaborn.axisgrid.JointGrid at 0x7f096e370d10>"
      ]
     },
     "execution_count": 31,
     "metadata": {},
     "output_type": "execute_result"
    },
    {
     "data": {
      "image/png": "[encoded data removed]",
      "text/plain": [
       "<matplotlib.figure.Figure at 0x7f09be2a76d0>"
      ]
     },
     "metadata": {},
     "output_type": "display_data"
    }
   ],
   "source": [
    "sns.jointplot(np.log10(aemulus_mass), np.log10(aemulus_conc), kind='hex')"
   ]
  },
  {
   "cell_type": "code",
   "execution_count": 32,
   "metadata": {},
   "outputs": [
    {
     "data": {
      "text/plain": [
       "<seaborn.axisgrid.JointGrid at 0x7f096d9b1690>"
      ]
     },
     "execution_count": 32,
     "metadata": {},
     "output_type": "execute_result"
    },
    {
     "data": {
      "image/png": "[encoded data removed]",
      "text/plain": [
       "<matplotlib.figure.Figure at 0x7f096d9b1850>"
      ]
     },
     "metadata": {},
     "output_type": "display_data"
    }
   ],
   "source": [
    "sns.jointplot(np.log10(mdpl2_mass), np.log10(mdpl2_conc), kind = 'hex')"
   ]
  },
  {
   "cell_type": "code",
   "execution_count": 33,
   "metadata": {},
   "outputs": [
    {
     "data": {
      "image/png": "[encoded data removed]",
      "text/plain": [
       "<matplotlib.figure.Figure at 0x7f09711e8c10>"
      ]
     },
     "metadata": {},
     "output_type": "display_data"
    }
   ],
   "source": [
    "bins = np.linspace(12.5,16,101)\n",
    "plt.hist(np.log10(aemulus_mass), bins = bins, alpha = 0.3);\n",
    "plt.hist(np.log10(mdpl2_mass), bins = bins , alpha = 0.4);\n",
    "\n",
    "plt.yscale('log')"
   ]
  },
  {
   "cell_type": "code",
   "execution_count": 34,
   "metadata": {
    "collapsed": true
   },
   "outputs": [],
   "source": [
    "mdpl2_hcd = galcat['host_centric_distance']\n",
    "mdpl2_hcd = mdpl2_hcd[mdpl2_hcd>0]"
   ]
  },
  {
   "cell_type": "code",
   "execution_count": 35,
   "metadata": {
    "collapsed": true
   },
   "outputs": [],
   "source": [
    "aemulus_hcd = cat.model.mock.galaxy_table['host_centric_distance']\n",
    "aemulus_hcd = aemulus_hcd[aemulus_hcd>0]"
   ]
  },
  {
   "cell_type": "code",
   "execution_count": 36,
   "metadata": {},
   "outputs": [
    {
     "data": {
      "image/png": "[encoded data removed]",
      "text/plain": [
       "<matplotlib.figure.Figure at 0x7f0970d5b350>"
      ]
     },
     "metadata": {},
     "output_type": "display_data"
    }
   ],
   "source": [
    "plt.hist(aemulus_hcd, bins = 100);\n",
    "plt.hist(mdpl2_hcd, bins = 100, alpha = 0.8)\n",
    "plt.yscale('log')"
   ]
  },
  {
   "cell_type": "code",
   "execution_count": 37,
   "metadata": {
    "collapsed": true
   },
   "outputs": [],
   "source": [
    "mdpl2_rs = mdpl2_host_halos['halo_rs']"
   ]
  },
  {
   "cell_type": "code",
   "execution_count": 38,
   "metadata": {
    "collapsed": true
   },
   "outputs": [],
   "source": [
    "aemulus_rs = aemulus_host_halos['halo_rs']"
   ]
  },
  {
   "cell_type": "code",
   "execution_count": 39,
   "metadata": {},
   "outputs": [
    {
     "data": {
      "image/png": "[encoded data removed]",
      "text/plain": [
       "<matplotlib.figure.Figure at 0x7f0969b29190>"
      ]
     },
     "metadata": {},
     "output_type": "display_data"
    }
   ],
   "source": [
    "bins = np.linspace(0, 2, 100)\n",
    "plt.hist(aemulus_rs, bins = bins);\n",
    "plt.hist(mdpl2_rs, bins = bins, alpha = 0.7);\n",
    "plt.yscale('log')"
   ]
  },
  {
   "cell_type": "code",
   "execution_count": 40,
   "metadata": {
    "collapsed": true
   },
   "outputs": [],
   "source": [
    "mdpl2_rvir = mdpl2_host_halos['halo_rvir']"
   ]
  },
  {
   "cell_type": "code",
   "execution_count": 41,
   "metadata": {
    "collapsed": true
   },
   "outputs": [],
   "source": [
    "aemulus_rvir = aemulus_host_halos['halo_rvir'] # remember, actually r200b"
   ]
  },
  {
   "cell_type": "code",
   "execution_count": 42,
   "metadata": {},
   "outputs": [
    {
     "data": {
      "image/png": "[encoded data removed]",
      "text/plain": [
       "<matplotlib.figure.Figure at 0x7f0970d65bd0>"
      ]
     },
     "metadata": {},
     "output_type": "display_data"
    }
   ],
   "source": [
    "bins = np.linspace(0, 5, 100)\n",
    "plt.hist(aemulus_rvir, bins = bins);\n",
    "plt.hist(mdpl2_rvir, bins = bins, alpha = 0.7)\n",
    "plt.hist(mdpl2_rvirs2, bins=bins, alpha = 0.5)\n",
    "#plt.hist(mdpl2_rvir3, bins = bins, alpha = 0.5)\n",
    "plt.yscale('log')"
   ]
  },
  {
   "cell_type": "code",
   "execution_count": 43,
   "metadata": {},
   "outputs": [
    {
     "data": {
      "text/plain": [
       "False"
      ]
     },
     "execution_count": 43,
     "metadata": {},
     "output_type": "execute_result"
    }
   ],
   "source": [
    "np.all(np.isclose(mdpl2_rvir, mdpl2_rvirs2))"
   ]
  },
  {
   "cell_type": "code",
   "execution_count": 54,
   "metadata": {},
   "outputs": [
    {
     "data": {
      "text/plain": [
       "1.2970027220326676"
      ]
     },
     "execution_count": 54,
     "metadata": {},
     "output_type": "execute_result"
    }
   ],
   "source": [
    "np.power(0.677, -2.0/3)"
   ]
  },
  {
   "cell_type": "code",
   "execution_count": 70,
   "metadata": {},
   "outputs": [
    {
     "data": {
      "text/plain": [
       "<matplotlib.collections.PathCollection at 0x7f0969db9ed0>"
      ]
     },
     "execution_count": 70,
     "metadata": {},
     "output_type": "execute_result"
    },
    {
     "data": {
      "image/png": "[encoded data removed]",
      "text/plain": [
       "<matplotlib.figure.Figure at 0x7f0970d5b210>"
      ]
     },
     "metadata": {},
     "output_type": "display_data"
    }
   ],
   "source": [
    "plt.scatter(np.log10(aemulus_host_halos['halo_mvir']), aemulus_rvir)\n",
    "#plt.scatter(np.log10(mdpl2_host_halos['halo_mvir']), mdpl2_host_halos['halo_rvir'])\n",
    "plt.scatter(sorted(np.log10(mdpl2_host_halos['halo_mvir'])), sorted(mdpl2_rvirs2) )\n",
    "plt.scatter(np.log10(mdpl2_m200b), mdpl2_rvirs3+1)"
   ]
  },
  {
   "cell_type": "code",
   "execution_count": 45,
   "metadata": {
    "collapsed": true
   },
   "outputs": [],
   "source": [
    "import astropy.constants as const\n",
    "from astropy import units as u"
   ]
  },
  {
   "cell_type": "code",
   "execution_count": 66,
   "metadata": {
    "collapsed": true
   },
   "outputs": [],
   "source": [
    "def mass_to_r(halo_masses):\n",
    "     return np.cbrt( (const.G*const.M_sun/(67.7*u.km/u.s/u.Mpc)**2)*halo_masses/100).to('Mpc').value\n"
   ]
  },
  {
   "cell_type": "code",
   "execution_count": 47,
   "metadata": {
    "collapsed": true
   },
   "outputs": [],
   "source": [
    "f = h5py.File('/home/users/swmclau2/scratch/hlists/hlist_1.00.list.mdpl2.hdf5')"
   ]
  },
  {
   "cell_type": "code",
   "execution_count": 59,
   "metadata": {
    "scrolled": true
   },
   "outputs": [
    {
     "name": "stdout",
     "output_type": "stream",
     "text": [
      "0\n",
      "1000000\n",
      "2000000\n",
      "3000000\n",
      "4000000\n",
      "5000000\n",
      "6000000\n",
      "7000000\n",
      "8000000\n",
      "9000000\n",
      "10000000\n",
      "11000000\n",
      "12000000\n",
      "13000000\n",
      "14000000\n",
      "15000000\n",
      "16000000\n",
      "17000000\n",
      "18000000\n",
      "19000000\n",
      "20000000\n",
      "21000000\n",
      "22000000\n",
      "23000000\n",
      "24000000\n",
      "25000000\n",
      "26000000\n",
      "27000000\n",
      "28000000\n",
      "29000000\n",
      "30000000\n",
      "31000000\n",
      "32000000\n",
      "33000000\n",
      "34000000\n",
      "35000000\n",
      "36000000\n",
      "37000000\n",
      "38000000\n",
      "39000000\n",
      "40000000\n",
      "41000000\n",
      "42000000\n",
      "43000000\n",
      "44000000\n",
      "45000000\n",
      "46000000\n",
      "47000000\n",
      "48000000\n",
      "49000000\n",
      "50000000\n",
      "51000000\n",
      "52000000\n",
      "53000000\n",
      "54000000\n",
      "55000000\n",
      "56000000\n",
      "57000000\n",
      "58000000\n",
      "59000000\n",
      "60000000\n",
      "61000000\n",
      "62000000\n",
      "63000000\n",
      "64000000\n",
      "65000000\n",
      "66000000\n",
      "67000000\n",
      "68000000\n",
      "69000000\n",
      "70000000\n",
      "71000000\n",
      "72000000\n",
      "73000000\n",
      "74000000\n",
      "75000000\n",
      "76000000\n",
      "77000000\n",
      "78000000\n",
      "79000000\n",
      "80000000\n",
      "81000000\n",
      "82000000\n",
      "83000000\n",
      "84000000\n",
      "85000000\n",
      "86000000\n",
      "87000000\n",
      "88000000\n",
      "89000000\n",
      "90000000\n",
      "91000000\n",
      "92000000\n",
      "93000000\n",
      "94000000\n",
      "95000000\n",
      "96000000\n",
      "97000000\n",
      "98000000\n",
      "99000000\n",
      "100000000\n",
      "101000000\n",
      "102000000\n",
      "103000000\n",
      "104000000\n",
      "105000000\n",
      "106000000\n",
      "107000000\n",
      "108000000\n",
      "109000000\n",
      "110000000\n",
      "111000000\n",
      "112000000\n",
      "113000000\n",
      "114000000\n",
      "115000000\n",
      "116000000\n",
      "117000000\n",
      "118000000\n",
      "119000000\n",
      "120000000\n",
      "121000000\n",
      "122000000\n",
      "123000000\n",
      "124000000\n",
      "125000000\n",
      "126000000\n",
      "127000000\n"
     ]
    }
   ],
   "source": [
    "m200bs = []\n",
    "for i in xrange(0, len(f['data']), int(1e6)):\n",
    "    print i\n",
    "    data = f['data'][i:i+int(1e6)]\n",
    "    m200bs.append(data[np.logical_and(data['halo_mvir']>np.min(galcat['halo_mvir']),\\\n",
    "                                     data['halo_upid']==-1)]['halo_mvir'])"
   ]
  },
  {
   "cell_type": "code",
   "execution_count": 60,
   "metadata": {
    "collapsed": true
   },
   "outputs": [],
   "source": [
    "mdpl2_m200b = np.concatenate(m200bs)"
   ]
  },
  {
   "cell_type": "code",
   "execution_count": 67,
   "metadata": {
    "collapsed": true
   },
   "outputs": [],
   "source": [
    "mdpl2_rvirs3 = mass_to_r(mdpl2_m200b)"
   ]
  },
  {
   "cell_type": "code",
   "execution_count": 68,
   "metadata": {},
   "outputs": [
    {
     "data": {
      "text/plain": [
       "array([1.9495e+14, 1.6469e+14, 1.4017e+14, ..., 4.0676e+12, 4.2347e+12,\n",
       "       4.0360e+12], dtype=float32)"
      ]
     },
     "execution_count": 68,
     "metadata": {},
     "output_type": "execute_result"
    }
   ],
   "source": [
    "mdpl2_m200b"
   ]
  },
  {
   "cell_type": "code",
   "execution_count": null,
   "metadata": {
    "collapsed": true
   },
   "outputs": [],
   "source": []
  }
 ],
 "metadata": {
  "kernelspec": {
   "display_name": "Python 2",
   "language": "python",
   "name": "python2"
  },
  "language_info": {
   "codemirror_mode": {
    "name": "ipython",
    "version": 2
   },
   "file_extension": ".py",
   "mimetype": "text/x-python",
   "name": "python",
   "nbconvert_exporter": "python",
   "pygments_lexer": "ipython2",
   "version": "2.7.13"
  }
 },
 "nbformat": 4,
 "nbformat_minor": 2
}

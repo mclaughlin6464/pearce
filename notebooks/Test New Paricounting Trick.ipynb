{
 "cells": [
  {
   "cell_type": "markdown",
   "metadata": {},
   "source": [
    "I'm speculating if I can do my RR pairs by splitting the list of randoms into N parts and doing all the (N+1, 2) = (N+1)*N/2"
   ]
  },
  {
   "cell_type": "code",
   "execution_count": 1,
   "metadata": {
    "collapsed": true
   },
   "outputs": [],
   "source": [
    "from halotools.mock_observables.pair_counters import npairs_jackknife_3d\n",
    "from halotools.mock_observables.catalog_analysis_helpers import cuboid_subvolume_labels\n",
    "import yaml\n",
    "import numpy as np"
   ]
  },
  {
   "cell_type": "code",
   "execution_count": 2,
   "metadata": {
    "collapsed": true
   },
   "outputs": [],
   "source": [
    "config_fname = '/home/users/swmclau2/Git/pearce/bin/trainer/xi_cosmo_trainer.yaml'"
   ]
  },
  {
   "cell_type": "code",
   "execution_count": 3,
   "metadata": {},
   "outputs": [],
   "source": [
    "with open(config_fname, 'r') as ymlfile:\n",
    "    cfg = yaml.load(ymlfile)"
   ]
  },
  {
   "cell_type": "code",
   "execution_count": 4,
   "metadata": {
    "collapsed": true
   },
   "outputs": [],
   "source": [
    "min_ptcl = int(cfg['HOD']['min_ptcl'])\n",
    "r_bins = np.array(cfg['observation']['bins'] ).astype(float)"
   ]
  },
  {
   "cell_type": "code",
   "execution_count": 5,
   "metadata": {},
   "outputs": [],
   "source": [
    "def compute_RR(cat, rbins, n_rands= 5, n_sub = 5, n_cores = 16):\n",
    "\n",
    "    n_cores = cat._check_cores(n_cores)\n",
    "#pos_m = return_xyz_formatted_array(x_m, y_m, z_m, period=cat.Lbox)\n",
    "    rbins = np.array(rbins)\n",
    "    np.random.seed(0)\n",
    "\n",
    "    randoms = np.random.random((int(cat.halocat.ptcl_table['x'].shape[0] * n_rands), 3)) * cat.Lbox/cat.h  # Solution to NaNs: Just fuck me up with randoms\n",
    "    \n",
    "    j_index_randoms, N_sub_vol = cuboid_subvolume_labels(randoms, n_sub, cat.Lbox/cat.h)\n",
    "\n",
    "    RR = npairs_jackknife_3d(randoms, randoms, rbins, period=cat.Lbox/cat.h,\\\n",
    "                jtags1=j_index_randoms, jtags2=j_index_randoms,\\\n",
    "                            N_samples=N_sub_vol, num_threads=n_cores)\n",
    "    RR = np.diff(RR, axis=1)\n",
    "\n",
    "    return RR"
   ]
  },
  {
   "cell_type": "code",
   "execution_count": null,
   "metadata": {},
   "outputs": [],
   "source": [
    "from pearce.mocks.kittens import TestBox\n",
    "cat = TestBox(boxno = 0, realization = 0, system = 'sherlock')\n",
    "cat.load(1.0, HOD = str('zheng07'), particles = True, downsample_factor = 1e-2)"
   ]
  },
  {
   "cell_type": "code",
   "execution_count": null,
   "metadata": {},
   "outputs": [],
   "source": [
    "RR = compute_RR(cat, r_bins, n_rands = 0.1)"
   ]
  },
  {
   "cell_type": "code",
   "execution_count": null,
   "metadata": {},
   "outputs": [],
   "source": [
    "RR2 = compute_RR_hack(cat, r_bins, n_rands = 0.1)"
   ]
  },
  {
   "cell_type": "raw",
   "metadata": {},
   "source": [
    "np.savetxt('RR.npy', RR)"
   ]
  },
  {
   "cell_type": "code",
   "execution_count": null,
   "metadata": {},
   "outputs": [],
   "source": [
    "print np.all(RR == RR2)"
   ]
  },
  {
   "cell_type": "code",
   "execution_count": null,
   "metadata": {
    "collapsed": true
   },
   "outputs": [],
   "source": []
  }
 ],
 "metadata": {
  "kernelspec": {
   "display_name": "Python 2",
   "language": "python",
   "name": "python2"
  },
  "language_info": {
   "codemirror_mode": {
    "name": "ipython",
    "version": 2
   },
   "file_extension": ".py",
   "mimetype": "text/x-python",
   "name": "python",
   "nbconvert_exporter": "python",
   "pygments_lexer": "ipython2",
   "version": "2.7.13"
  }
 },
 "nbformat": 4,
 "nbformat_minor": 1
}

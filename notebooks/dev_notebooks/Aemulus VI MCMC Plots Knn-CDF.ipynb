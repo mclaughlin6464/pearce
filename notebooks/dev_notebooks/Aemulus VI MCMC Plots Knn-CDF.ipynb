{
 "cells": [
  {
   "cell_type": "code",
   "execution_count": 1,
   "metadata": {
    "collapsed": true
   },
   "outputs": [],
   "source": [
    "import matplotlib\n",
    "#matplotlib.use('Agg')\n",
    "from matplotlib import pyplot as plt\n",
    "%matplotlib inline\n",
    "import seaborn as sns\n",
    "#sns.set()"
   ]
  },
  {
   "cell_type": "code",
   "execution_count": 2,
   "metadata": {
    "collapsed": false
   },
   "outputs": [],
   "source": [
    "import numpy as np\n",
    "import h5py\n",
    "from chainconsumer import ChainConsumer\n",
    "from glob import glob\n",
    "from os import path\n",
    "from copy import deepcopy\n",
    "from collections import OrderedDict\n",
    "from os.path import basename"
   ]
  },
  {
   "cell_type": "code",
   "execution_count": 3,
   "metadata": {
    "collapsed": true
   },
   "outputs": [],
   "source": [
    "boxno = 1"
   ]
  },
  {
   "cell_type": "code",
   "execution_count": 4,
   "metadata": {
    "collapsed": true
   },
   "outputs": [],
   "source": [
    "fnames = sorted(glob('/u/ki/swmclau2/des/PearceMCMC/HOD_%d_1_rmin_1.0_Knn1CDF_v3.hdf5'%boxno))\n",
    "fnames.extend(glob('/u/ki/swmclau2/des/PearceMCMC/HOD_%d_1_rmin_1.0_Xi.hdf5'%boxno))\n",
    "fnames.extend(glob('/u/ki/swmclau2/des/PearceMCMC/HOD_%d_1_rmin_1.0_Xi+Knn1CDF.hdf5'%boxno))"
   ]
  },
  {
   "cell_type": "raw",
   "metadata": {
    "collapsed": true
   },
   "source": [
    "fnames = sorted(glob('/u/ki/swmclau2/des/PearceMCMC/HOD_%d_1_fixed_rmin_1.0_Knn1CDF.hdf5'%boxno))\n",
    "fnames.extend(glob('/u/ki/swmclau2/des/PearceMCMC/HOD_%d_1_fixed_rmin_1.0_Xi.hdf5'%boxno))\n",
    "fnames.extend(glob('/u/ki/swmclau2/des/PearceMCMC/HOD_%d_1_fixed_rmin_1.0_Xi+Knn1CDF.hdf5'%boxno))"
   ]
  },
  {
   "cell_type": "raw",
   "metadata": {
    "collapsed": true
   },
   "source": [
    "fnames = sorted(glob('/u/ki/swmclau2/des/PearceMCMC/HOD_%d_1_rmin_1.0_Knn1CDF.hdf5'%boxno))\n",
    "#fnames = fnames[:-1]\n",
    "fnames.extend(glob('/u/ki/swmclau2/des/PearceMCMC/HOD_%d_1_rmin_1.0_KnnCDFAll.hdf5'%boxno))"
   ]
  },
  {
   "cell_type": "raw",
   "metadata": {
    "collapsed": true
   },
   "source": [
    "fnames = sorted(glob('/u/ki/swmclau2/des/PearceMCMC/HOD_%d_1_fixed_rmin_1.0_Knn?CDF.hdf5'%boxno))\n",
    "#fnames = fnames[:-1]\n",
    "fnames.extend(glob('/u/ki/swmclau2/des/PearceMCMC/HOD_%d_1_fixed_rmin_1.0_KnnCDFAll.hdf5'%boxno))"
   ]
  },
  {
   "cell_type": "markdown",
   "metadata": {},
   "source": [
    "Assume all chains run with same true values, only thing that differs is the rmin. "
   ]
  },
  {
   "cell_type": "raw",
   "metadata": {
    "collapsed": false
   },
   "source": [
    "fnames = list(reversed(fnames))\n",
    "print fnames"
   ]
  },
  {
   "cell_type": "code",
   "execution_count": 5,
   "metadata": {
    "collapsed": false
   },
   "outputs": [],
   "source": [
    "model = path.basename(fnames[0]).split('_')[-1].split('.')[0]\n",
    "#model = path.basename(fnames[0]).split('_')[-2]#.split('.')[0]"
   ]
  },
  {
   "cell_type": "code",
   "execution_count": 6,
   "metadata": {
    "collapsed": false
   },
   "outputs": [
    {
     "data": {
      "text/plain": [
       "'v3'"
      ]
     },
     "execution_count": 6,
     "metadata": {},
     "output_type": "execute_result"
    }
   ],
   "source": [
    "model"
   ]
  },
  {
   "cell_type": "code",
   "execution_count": 7,
   "metadata": {
    "collapsed": false
   },
   "outputs": [],
   "source": [
    "f = h5py.File(fnames[0], 'r')"
   ]
  },
  {
   "cell_type": "code",
   "execution_count": 8,
   "metadata": {
    "collapsed": false
   },
   "outputs": [
    {
     "data": {
      "text/plain": [
       "[u'chain_fixed_params',\n",
       " u'cov',\n",
       " u'dlogz',\n",
       " u'emu_cov_fname',\n",
       " u'emu_hps',\n",
       " u'emu_type',\n",
       " u'fixed_params',\n",
       " u'mcmc_type',\n",
       " u'nburn',\n",
       " u'nlive',\n",
       " u'nsteps',\n",
       " u'nwalkers',\n",
       " u'obs',\n",
       " u'param_names',\n",
       " u'seed',\n",
       " u'sim',\n",
       " u'training_file',\n",
       " u'true_cov_fname',\n",
       " u'true_data_fname']"
      ]
     },
     "execution_count": 8,
     "metadata": {},
     "output_type": "execute_result"
    }
   ],
   "source": [
    "f.attrs.keys()"
   ]
  },
  {
   "cell_type": "code",
   "execution_count": 9,
   "metadata": {
    "collapsed": false
   },
   "outputs": [
    {
     "data": {
      "text/plain": [
       "[u'chain', u'cov', u'data', u'lnprob']"
      ]
     },
     "execution_count": 9,
     "metadata": {},
     "output_type": "execute_result"
    }
   ],
   "source": [
    "f.keys()"
   ]
  },
  {
   "cell_type": "code",
   "execution_count": 10,
   "metadata": {
    "collapsed": false
   },
   "outputs": [],
   "source": [
    "n_walkers = f.attrs['nwalkers']"
   ]
  },
  {
   "cell_type": "code",
   "execution_count": 11,
   "metadata": {
    "collapsed": false
   },
   "outputs": [],
   "source": [
    "chain_pnames = list(f.attrs['param_names'])"
   ]
  },
  {
   "cell_type": "code",
   "execution_count": 12,
   "metadata": {
    "collapsed": false
   },
   "outputs": [],
   "source": [
    "chain_pnames.extend(['Om', 'S8']) # temporary"
   ]
  },
  {
   "cell_type": "code",
   "execution_count": 13,
   "metadata": {
    "collapsed": false
   },
   "outputs": [],
   "source": [
    "sim_info = eval(f.attrs['sim'])\n",
    "#sim_info = f.attrs['sim']"
   ]
  },
  {
   "cell_type": "code",
   "execution_count": 14,
   "metadata": {
    "collapsed": true
   },
   "outputs": [],
   "source": [
    "#gal_type = eval(f.attrs['sim'])['gal_type']\n",
    "if basename(fnames[0])[:3] == 'HOD' and basename(fnames[0])[4:9] != 'MDPL2':\n",
    "    gal_type = 'HOD'\n",
    "else:\n",
    "    gal_type = 'SHAM'#'HOD'"
   ]
  },
  {
   "cell_type": "code",
   "execution_count": 15,
   "metadata": {
    "collapsed": true
   },
   "outputs": [],
   "source": [
    "f.close()"
   ]
  },
  {
   "cell_type": "code",
   "execution_count": 16,
   "metadata": {
    "collapsed": false
   },
   "outputs": [
    {
     "data": {
      "text/plain": [
       "['ombh2',\n",
       " 'omch2',\n",
       " 'w0',\n",
       " 'ns',\n",
       " 'H0',\n",
       " 'Neff',\n",
       " 'sigma8',\n",
       " 'mean_occupation_centrals_assembias_param1',\n",
       " 'logM0',\n",
       " 'sigma_logM',\n",
       " 'mean_occupation_satellites_assembias_param1',\n",
       " 'logM1',\n",
       " 'alpha',\n",
       " 'conc_gal_bias',\n",
       " 'Om',\n",
       " 'S8']"
      ]
     },
     "execution_count": 16,
     "metadata": {},
     "output_type": "execute_result"
    }
   ],
   "source": [
    "chain_pnames"
   ]
  },
  {
   "cell_type": "code",
   "execution_count": 17,
   "metadata": {
    "collapsed": true
   },
   "outputs": [],
   "source": [
    "param_name_dict = {'ombh2': r'$\\Omega_b h^2$', 'omch2': r'$\\Omega_c h^2$','w0': r'$w_0$','ns': r'$n_s$', \\\n",
    "                   'sigma8': r'$\\sigma_8$', 'ln10As':r'$\\ln 10^{10} A_s$', 'H0': r'$H_0$','Neff': r'$N_{eff}$',\\\n",
    "               'mean_occupation_centrals_assembias_corr1': r'$\\rho_{cen}$',\\\n",
    "                 'mean_occupation_satellites_assembias_corr1':r'$\\rho_{sat}$',\\\n",
    "                   'mean_occupation_centrals_assembias_param1': r'$\\mathcal{A}_{cen}$',\\\n",
    "                 'mean_occupation_satellites_assembias_param1':r'$\\mathcal{A}_{sat}$',\\\n",
    "                   'mean_occupation_centrals_assembias_slope1': r'$\\mathcal{B}_{cen}$',\\\n",
    "                 'mean_occupation_satellites_assembias_slope1':r'$\\mathcal{B}_{sat}$',\\\n",
    "                   'logM1': r'$\\log(M_1)$','logM0': r'$\\log(M_0)$',\n",
    "                   'sigma_logM': r'$\\sigma_{\\log M }$',\n",
    "                   'conc_gal_bias': r'$\\eta$', 'alpha':r'$\\alpha$',\n",
    "                  'Om': r'$\\Omega_m$', 'S8': r'$S_8$'}"
   ]
  },
  {
   "cell_type": "code",
   "execution_count": 18,
   "metadata": {
    "collapsed": false
   },
   "outputs": [],
   "source": [
    "bounds_dict = {'H0': (61.69472, 74.76751999999999),\n",
    " 'Neff': (2.62125, 4.27875),\n",
    " 'alpha': (0.7, 1.3),\n",
    " 'conc_gal_bias': (0.5, 2.0),\n",
    " 'sigma8': (0.65, 1.0), # TODO update\n",
    " 'logM0': (12.6, 13.6),\n",
    " 'logM1': (13.7, 14.7),\n",
    " 'ns': (0.9278462, 0.9974495999999999),\n",
    " 'ombh2': (0.02066455, 0.02371239),\n",
    " 'omch2': (0.1012181, 0.13177679999999997),\n",
    " 'sigma_logM': (0.05, 0.6),\n",
    " 'ln10As': (3.0, 3.1),\n",
    " 'w0': (-1.399921, -0.5658486),\n",
    " 'Om': (0.25, 0.35),\n",
    " 'S8': (0.7, 1.0),\n",
    " #'Om': (0.15, 0.4),\n",
    " #'S8': (0.5, 1.1),\n",
    " 'mean_occupation_centrals_assembias_corr1': (-1.0, 1.0),\n",
    " 'mean_occupation_satellites_assembias_corr1': (-1.0, 1.0),\n",
    " 'mean_occupation_centrals_assembias_param1': (-1.0, 1.0),\n",
    " 'mean_occupation_satellites_assembias_param1': (-1.0, 1.0),\n",
    " 'mean_occupation_centrals_assembias_slope1': (-3.0, 3.0),\n",
    " 'mean_occupation_satellites_assembias_slope1': (-3.0, 3.0)}"
   ]
  },
  {
   "cell_type": "code",
   "execution_count": 19,
   "metadata": {
    "collapsed": false
   },
   "outputs": [],
   "source": [
    "hod_param_names = []\n",
    "cosmo_param_names = []\n",
    "\n",
    "hod_bounds = []\n",
    "cosmo_bounds = []\n",
    "cosmo_names = set(['ombh2', 'omch2', 'w0', 'ns', 'sigma8', 'H0', 'Neff', 'ln10As', 'Om', 'S8'])\n",
    "for pname in chain_pnames:\n",
    "    if pname in cosmo_names:\n",
    "        cosmo_param_names.append(param_name_dict[pname])\n",
    "        cosmo_bounds.append(bounds_dict[pname])\n",
    "    else:\n",
    "        hod_param_names.append(param_name_dict[pname])\n",
    "        hod_bounds.append(bounds_dict[pname])\n",
    "param_names = deepcopy(cosmo_param_names)\n",
    "param_names.extend(hod_param_names)\n",
    "\n",
    "bounds = deepcopy(cosmo_bounds)\n",
    "bounds.extend(hod_bounds)"
   ]
  },
  {
   "cell_type": "code",
   "execution_count": 20,
   "metadata": {
    "collapsed": false
   },
   "outputs": [],
   "source": [
    "c = ChainConsumer()"
   ]
  },
  {
   "cell_type": "raw",
   "metadata": {},
   "source": [
    "modify_chain = lambda x,y : x,y # default, do nothing"
   ]
  },
  {
   "cell_type": "code",
   "execution_count": 21,
   "metadata": {
    "collapsed": true
   },
   "outputs": [],
   "source": [
    "def modify_chain(chain, param_names):\n",
    "    new_pnames = ['Om', 'S8']\n",
    "    h = chain[:,param_names.index('H0')]/100\n",
    "    \n",
    "    Omc, Omb = chain[:,param_names.index('omch2')]/(h**2), chain[:,param_names.index('ombh2')]/(h**2)\n",
    "    Om = Omc+Omb\n",
    "    \n",
    "    S8 = chain[:,param_names.index('sigma8')]*np.sqrt(Om/0.3)\n",
    "\n",
    "    new_chain = np.hstack([chain[:,:7], Om.reshape((-1,1)), S8.reshape((-1,1)), chain[:,7:]])\n",
    "    param_names.insert(7, new_pnames[0])\n",
    "    param_names.insert(8, new_pnames[1])\n",
    "\n",
    "    return new_chain, param_names"
   ]
  },
  {
   "cell_type": "code",
   "execution_count": 22,
   "metadata": {
    "collapsed": false
   },
   "outputs": [
    {
     "name": "stdout",
     "output_type": "stream",
     "text": [
      "/u/ki/swmclau2/des/PearceMCMC/HOD_1_1_rmin_1.0_Knn1CDF_v3.hdf5\n",
      "90000\n",
      "/u/ki/swmclau2/des/PearceMCMC/HOD_1_1_rmin_1.0_Xi.hdf5\n",
      "43763\n",
      "/u/ki/swmclau2/des/PearceMCMC/HOD_1_1_rmin_1.0_Xi+Knn1CDF.hdf5\n",
      "100000\n"
     ]
    }
   ],
   "source": [
    "n_burn = 10000\n",
    "global_chain_pnames = []\n",
    "global_hod_pnames = []\n",
    "#for name, fname in zip(['wp','ds','wpds'], fnames):\n",
    "for fname in fnames:\n",
    "#for fname in [fnames[0], fnames[3]]:\n",
    "    try:\n",
    "        f = h5py.File(fname, 'r')\n",
    "\n",
    "        chain = f['chain'][n_burn*n_walkers:]\n",
    "        lnprob = f['lnprob'][n_burn*n_walkers:]\n",
    "        keep_idxs = np.all(chain!=0.0, axis = 1)\n",
    "        chain = chain[keep_idxs, :]\n",
    "        lnprob = lnprob[keep_idxs]\n",
    "    except:\n",
    "        print 'Error loading', fname\n",
    "        continue\n",
    "    \n",
    "\n",
    "    chain = chain.reshape((-1, n_walkers, chain.shape[1]))\n",
    "    #print chain.shape\n",
    "    chain = chain.reshape((-1, chain.shape[2]), order = 'F')\n",
    "    lnprob = lnprob.reshape((-1, n_walkers)).reshape((-1,), order = 'F')\n",
    "    \n",
    "    if np.any(np.isnan(lnprob)) or np.any(~np.isfinite(lnprob)):\n",
    "        lnprob[np.isnan(lnprob)] = -1e9\n",
    "        lnprob[~np.isfinite(lnprob)] = -1e9\n",
    "    #chain = chain[:, 0, :]\n",
    "    if chain.shape[0] == 0:\n",
    "        print 'Insufficient samples in', fname\n",
    "        continue\n",
    "    \n",
    "    name = path.basename(fname).split('_')[-1].split('.')[0]\n",
    "    #name = path.basename(fname).split('_')[-2]#[4][5]\n",
    "    #name = path.basename(fname).split('_')[0]\n",
    "    #name = path.basename(fname).split('_')[-4]#[4][5]\n",
    "\n",
    "    if name == 'Xi':\n",
    "        name = r'$\\xi_{gg}$'\n",
    "    elif name[:3] == 'Knn':\n",
    "        if name[-3:]=='All':\n",
    "            name = r'$k$NN-CDF, k=%s'%'[1,2,4,8]'\n",
    "        else:\n",
    "            name = r'$k$NN-CDF, k=%s'%name[3]\n",
    "    elif name[:6] == 'Xi+Knn':\n",
    "        name = r'$\\xi_{gg}$ + $k$NN-CDF, k=%s'%name[6]\n",
    "\n",
    "        \n",
    "    #name = r\"$r_{min} = %s$\"%name\n",
    "    \n",
    "    hod_param_names = []\n",
    "    cosmo_param_names = []\n",
    "    chain_pnames = list(f.attrs['param_names'])\n",
    "    cosmo_names = set(['ombh2', 'omch2', 'w0', 'ns', 'sigma8', 'H0', 'Neff', 'Om', 'S8'])\n",
    "    \n",
    "    chain, chain_pnames = modify_chain(chain, chain_pnames)\n",
    "    max_steps = 100000\n",
    "    if chain.shape[0]/n_walkers > max_steps:\n",
    "        chain = chain[:max_steps*n_walkers]\n",
    "        lnprob = lnprob[:max_steps*n_walkers]\n",
    "    \n",
    "    for pname in chain_pnames:\n",
    "        if pname in cosmo_names:\n",
    "            cosmo_param_names.append(param_name_dict[pname])\n",
    "        else:\n",
    "            hod_param_names.append(param_name_dict[pname])\n",
    "\n",
    "    param_names = deepcopy(cosmo_param_names)\n",
    "    param_names.extend(hod_param_names)\n",
    "    print fname\n",
    "\n",
    "    print chain.shape[0]/n_walkers\n",
    "    \n",
    "    c.add_chain(chain, parameters=param_names, name = name, walkers = n_walkers,\n",
    "                posterior = lnprob)\n",
    "    f.close()\n",
    "\n",
    "    for cname in chain_pnames:\n",
    "        if cname not in global_chain_pnames:\n",
    "            global_chain_pnames.append(cname)\n",
    "            \n",
    "    for cname in hod_param_names:\n",
    "        if cname not in global_hod_pnames:\n",
    "            global_hod_pnames.append(cname) \n",
    "            \n",
    "chain_pnames = global_chain_pnames\n",
    "hod_param_names = global_hod_pnames"
   ]
  },
  {
   "cell_type": "code",
   "execution_count": 23,
   "metadata": {
    "collapsed": false
   },
   "outputs": [
    {
     "data": {
      "text/plain": [
       "['$\\\\Omega_b h^2$',\n",
       " '$\\\\Omega_c h^2$',\n",
       " '$w_0$',\n",
       " '$n_s$',\n",
       " '$H_0$',\n",
       " '$N_{eff}$',\n",
       " '$\\\\sigma_8$',\n",
       " '$\\\\Omega_m$',\n",
       " '$S_8$',\n",
       " '$\\\\mathcal{A}_{cen}$',\n",
       " '$\\\\log(M_0)$',\n",
       " '$\\\\sigma_{\\\\log M }$',\n",
       " '$\\\\mathcal{A}_{sat}$',\n",
       " '$\\\\log(M_1)$',\n",
       " '$\\\\alpha$',\n",
       " '$\\\\eta$']"
      ]
     },
     "execution_count": 23,
     "metadata": {},
     "output_type": "execute_result"
    }
   ],
   "source": [
    "param_names"
   ]
  },
  {
   "cell_type": "code",
   "execution_count": 24,
   "metadata": {
    "collapsed": true
   },
   "outputs": [],
   "source": [
    "f.close()"
   ]
  },
  {
   "cell_type": "code",
   "execution_count": 25,
   "metadata": {
    "collapsed": false
   },
   "outputs": [],
   "source": [
    "MAPs  = c.analysis.get_max_posteriors()#[0]"
   ]
  },
  {
   "cell_type": "code",
   "execution_count": 26,
   "metadata": {
    "collapsed": false
   },
   "outputs": [
    {
     "name": "stdout",
     "output_type": "stream",
     "text": [
      "['v3', '$\\\\xi_{gg}$', '$\\\\xi_{gg}$ + $k$NN-CDF, k=1']\n"
     ]
    }
   ],
   "source": [
    "print [_c.name for _c in c.chains]"
   ]
  },
  {
   "cell_type": "raw",
   "metadata": {},
   "source": [
    "for start in np.arange(0.0, 3.0, 0.2):\n",
    "    palette = sns.cubehelix_palette(len(fnames), start = start, rot = 0.2, gamma = 0.7)\n",
    "    print start\n",
    "    sns.palplot(palette)\n",
    "    plt.show()"
   ]
  },
  {
   "cell_type": "code",
   "execution_count": 27,
   "metadata": {
    "collapsed": false
   },
   "outputs": [
    {
     "data": {
      "image/png": "[encoded data removed]",
      "text/plain": [
       "<Figure size 1000x100 with 1 Axes>"
      ]
     },
     "metadata": {},
     "output_type": "display_data"
    }
   ],
   "source": [
    "sns.palplot(sns.color_palette())"
   ]
  },
  {
   "cell_type": "code",
   "execution_count": 28,
   "metadata": {
    "collapsed": false
   },
   "outputs": [
    {
     "ename": "NotImplementedError",
     "evalue": "",
     "output_type": "error",
     "traceback": [
      "\u001b[1;31m---------------------------------------------------------------------------\u001b[0m",
      "\u001b[1;31mNotImplementedError\u001b[0m                       Traceback (most recent call last)",
      "\u001b[1;32m<ipython-input-28-ed8d2a13b5cf>\u001b[0m in \u001b[0;36m<module>\u001b[1;34m()\u001b[0m\n\u001b[0;32m     30\u001b[0m         \u001b[0midx\u001b[0m \u001b[1;33m=\u001b[0m \u001b[1;36m6\u001b[0m\u001b[1;33m\u001b[0m\u001b[0m\n\u001b[0;32m     31\u001b[0m     \u001b[1;32melse\u001b[0m\u001b[1;33m:\u001b[0m\u001b[1;33m\u001b[0m\u001b[0m\n\u001b[1;32m---> 32\u001b[1;33m         \u001b[1;32mraise\u001b[0m \u001b[0mNotImplementedError\u001b[0m\u001b[1;33m\u001b[0m\u001b[0m\n\u001b[0m\u001b[0;32m     33\u001b[0m     \u001b[1;31m#palettes.append(palette[0])\u001b[0m\u001b[1;33m\u001b[0m\u001b[1;33m\u001b[0m\u001b[0m\n\u001b[0;32m     34\u001b[0m     \u001b[0mpalette_idxs\u001b[0m\u001b[1;33m.\u001b[0m\u001b[0mappend\u001b[0m\u001b[1;33m(\u001b[0m\u001b[0midx\u001b[0m\u001b[1;33m)\u001b[0m\u001b[1;33m\u001b[0m\u001b[0m\n",
      "\u001b[1;31mNotImplementedError\u001b[0m: "
     ]
    }
   ],
   "source": [
    "palette_idxs = []\n",
    "for  _c in c.chains:\n",
    "    model = _c.name\n",
    "    if model == r'$\\xi_{gg}$':\n",
    "        #palette = sns.cubehelix_palette(len(fnames), start = 2.6, rot = 0.1, gamma = 0.7)\n",
    "        #palette = sns.cubehelix_palette(len(fnames), start = 2.6, rot = 0.1, gamma =1.5)\n",
    "        idx = 0\n",
    "    elif model == r'$k$NN-CDF, k=1' or model =='Knn1pCDF':\n",
    "        #palette = sns.cubehelix_palette(len(fnames), start = 2.0, rot = 0.1, gamma = 1.5)\n",
    "        #palette = sns.cubehelix_palette(len(fnames), start = 1.2, rot = 0.6, gamma = 1.7)\n",
    "        idx = 1\n",
    "    elif model ==  r'$k$NN-CDF, k=2'or model =='Knn2pCDF':\n",
    "        #palette = sns.cubehelix_palette(len(fnames), start = 0.6, rot = 0.1, gamma = 1.5)\n",
    "        idx =2 \n",
    "    elif model ==  r'$k$NN-CDF, k=4'or model =='Knn4pCDF':\n",
    "        #palette = sns.cubehelix_palette(len(fnames), start = 1.2, rot = 0.1, gamma = 1.2)\n",
    "        #palette = sns.cubehelix_palette(len(fnames), start = 1.2, rot = 0.1, gamma = 1.0)\n",
    "        idx = 3\n",
    "    elif model ==  r'$k$NN-CDF, k=8'or model =='Knn8pCDF':\n",
    "        #palette = sns.cubehelix_palette(len(fnames), start = 1.2, rot = 0.1, gamma = 1.2)\n",
    "        #palette = sns.cubehelix_palette(len(fnames), start = 1.2, rot = 0.1, gamma = 1.0)\n",
    "        idx = 4\n",
    "    elif model == r'$k$NN-CDF, k=%s'%'[1,2,4,8]':\n",
    "        #palette = sns.cubehelix_palette(len(fnames), start = 1.2, rot = 0.1, gamma = 1.2)\n",
    "        #palette = sns.cubehelix_palette(len(fnames), start = 1.2, rot = 0.1, gamma = 1.0)\n",
    "        idx = 5\n",
    "    elif model == r'$\\xi_{gg}$ + $k$NN-CDF, k=1':\n",
    "        #palette = sns.cubehelix_palette(len(fnames), start = 1.2, rot = 0.1, gamma = 1.2)\n",
    "        #palette = sns.cubehelix_palette(len(fnames), start = 1.2, rot = 0.1, gamma = 1.0)\n",
    "        idx = 6\n",
    "    else:\n",
    "        raise NotImplementedError\n",
    "    #palettes.append(palette[0])\n",
    "    palette_idxs.append(idx)\n",
    "\n",
    "palette = [sns.color_palette()[i] for i in palette_idxs]    \n",
    "sns.palplot(palette)"
   ]
  },
  {
   "cell_type": "code",
   "execution_count": null,
   "metadata": {
    "collapsed": false
   },
   "outputs": [],
   "source": [
    "palette"
   ]
  },
  {
   "cell_type": "raw",
   "metadata": {
    "collapsed": false
   },
   "source": [
    "#palette = sns.cubehelix_palette(len(fnames), start = 0.75, rot = 0.1, gamma = 2.5)\n",
    "palette = sns.cubehelix_palette(len(fnames), start = 1.5, rot = 0.1, gamma = 2.5)\n",
    "sns.palplot(palette)"
   ]
  },
  {
   "cell_type": "raw",
   "metadata": {
    "collapsed": false
   },
   "source": [
    "for start in np.linspace(0,3,15):\n",
    "    palette = sns.cubehelix_palette(len(fnames), start = start, rot = 0.1, gamma = 2.5)\n",
    "    print start\n",
    "    sns.palplot(palette)\n",
    "    plt.show()"
   ]
  },
  {
   "cell_type": "code",
   "execution_count": null,
   "metadata": {
    "collapsed": true
   },
   "outputs": [],
   "source": [
    "def color_to_hex(color):\n",
    "    return np.array(color)#*255"
   ]
  },
  {
   "cell_type": "code",
   "execution_count": null,
   "metadata": {
    "collapsed": false
   },
   "outputs": [],
   "source": [
    "n_params = chain.shape[1] if len(chain.shape) > 1 else 1"
   ]
  },
  {
   "cell_type": "code",
   "execution_count": null,
   "metadata": {
    "collapsed": true
   },
   "outputs": [],
   "source": [
    "hod_idxs = np.array(range(len(cosmo_param_names), len(cosmo_param_names)+len(hod_param_names)-1)) #skip eta\n",
    "cosmo_idxs = np.array(range(len(cosmo_param_names)))"
   ]
  },
  {
   "cell_type": "code",
   "execution_count": null,
   "metadata": {
    "collapsed": false
   },
   "outputs": [],
   "source": [
    "cosmo_param_names"
   ]
  },
  {
   "cell_type": "code",
   "execution_count": null,
   "metadata": {
    "collapsed": false
   },
   "outputs": [],
   "source": [
    "hod_param_names"
   ]
  },
  {
   "cell_type": "raw",
   "metadata": {
    "collapsed": false
   },
   "source": [
    "if chain.shape[1] == 9:\n",
    "    cosmo_chain = chain\n",
    "    \n",
    "elif chain.shape[1] == 5:\n",
    "    hod_chain = chain\n",
    "else:\n",
    "    hod_chain = chain[:,7:]\n",
    "    #cosmo_chain = chain[:,cosmo_idxs]"
   ]
  },
  {
   "cell_type": "code",
   "execution_count": null,
   "metadata": {
    "collapsed": false
   },
   "outputs": [],
   "source": [
    "gal_type"
   ]
  },
  {
   "cell_type": "code",
   "execution_count": null,
   "metadata": {
    "collapsed": true
   },
   "outputs": [],
   "source": [
    "boxno = int(basename(fnames[0]).split('_')[1])"
   ]
  },
  {
   "cell_type": "code",
   "execution_count": null,
   "metadata": {
    "collapsed": false
   },
   "outputs": [],
   "source": [
    "if gal_type == 'HOD':\n",
    "    print 'A'\n",
    "    from pearce.mocks import cat_dict\n",
    "    #cosmo_params = {'simname': sim_info['simname'], 'boxno': sim_info['sim_hps']['boxno'],\\\n",
    "    #                'realization': sim_info['sim_hps']['realization'], 'scale_factors':[sim_info['scale_factor']],\\\n",
    "    #                'system': 'ki-ls'}\n",
    "    cosmo_params = {'simname': 'testbox', 'boxno': boxno,\\\n",
    "                    'realization':1, 'scale_factors':[1.0],\\\n",
    "                    'system': 'ki-ls'}\n",
    "    \n",
    "    print cosmo_params['simname'], cosmo_params['boxno']\n",
    "    cat = cat_dict[cosmo_params['simname']](**cosmo_params)#construct the specified catalog!\n",
    "    \n",
    "    cpv = cat._get_cosmo_param_names_vals()\n",
    "\n",
    "    cat_val_dict =  {key: val for key, val in zip(cpv[0], cpv[1])}\n",
    "\n",
    "    cosmo_true_vals = [cat_val_dict[pn] for pn in chain_pnames if pn in cat_val_dict]\n",
    "    \n",
    "    Om = (cat_val_dict['ombh2']+cat_val_dict['omch2'])/((cat_val_dict['H0']/100)**2)\n",
    "    S8 = cat_val_dict['sigma8']*np.sqrt(Om/0.3)\n",
    "    cosmo_true_vals.extend([Om, S8])\n",
    "    \n",
    "    #hod_params = {'alpha': 1.083, 'conc_gal_bias': 1.0, 'logM0': 13.2,'logM1': 14.2, 'sigma_logM': 0.2}#sim_info['hod_params']\n",
    "    #hod_true_vals = [hod_params[key] for key in chain_pnames if key in hod_params]\n",
    "    \n",
    "    #if model!= 'HOD':\n",
    "    #    hod_true_vals.extend([0, 0])\n",
    "    #    if model == 'CAB':\n",
    "    #        hod_true_vals.extend([0,0])\n",
    "else: #SHAM, etc on MDPL2\n",
    "    print 'B'\n",
    "    # multidark planck2\n",
    "    #cosmo_true_vals = np.array([0.0223, 0.1188, -1, 0.9667, 3.047, \\\n",
    "    #                            0.6774*100, 3.046]) #darksky\n",
    "    \n",
    "    h = 0.6777\n",
    "    #cosmo_pnames = ['ombh2', 'omch2', 'w0', 'ns', 'H0', 'Neff', 'sigma8', 'Om', 'S8']\n",
    "    #cosmo_true_vals = np.array([0.048206*h**2, 0.307115*h**2- 0.048206*h**2,\\\n",
    "    #                            -1, 0.9667, \\\n",
    "    #                            h*100, 3.046, 0.8228, ]) #mdpl2\n",
    "    cosmo_true_vals = np.array([0.048206*h**2, 0.2589*h**2,\\\n",
    "                                -1, 0.9667, \\\n",
    "                                h*100, 3.046, 0.8228, 0.3089,\\\n",
    "                                0.8228*np.sqrt(0.3089/0.3) ]) #mdpl2\n",
    "    #hod_true_vals = np.array([np.inf for p in hod_param_names])"
   ]
  },
  {
   "cell_type": "code",
   "execution_count": null,
   "metadata": {
    "collapsed": false
   },
   "outputs": [],
   "source": [
    "cosmo_true_vals"
   ]
  },
  {
   "cell_type": "raw",
   "metadata": {
    "collapsed": false
   },
   "source": [
    "c.plotter.plot_walks(parameters = [cosmo_param_names[1]],\\\n",
    "                     truth=[cosmo_true_vals[1]]);#, convolve = 10);"
   ]
  },
  {
   "cell_type": "code",
   "execution_count": null,
   "metadata": {
    "collapsed": false
   },
   "outputs": [],
   "source": [
    "hod_param_names"
   ]
  },
  {
   "cell_type": "raw",
   "metadata": {
    "collapsed": false
   },
   "source": [
    "# Enforce a consistent order for the plots\n",
    "#if gal_type == 'HOD':\n",
    "    \n",
    "plot_hod_param_names = ['$\\\\sigma_{\\\\log M }$', '$\\\\log(M_0)$', '$\\\\log(M_1)$', '$\\\\alpha$', '$\\\\eta$']\n",
    "plot_hod_true_vals = [0.2, 13.2, 14.2, 1.083, 1.0]\n",
    "\n",
    "plot_hod_bounds = [(0.05, 0.5), (12.6, 13.6), (13.7, 14.7), (0.7, 1.3), (0.5, 2.0)]\n",
    "\n",
    "ab_param_names = [r'$\\mathcal{A}_{%s}$', r'$\\mathcal{B}_{%s}$', r'$\\rho_{%s}$']\n",
    "ab_true_vals = [0.0, np.inf,0.0]\n",
    "for abpn, hodtv in zip(ab_param_names, ab_true_vals):\n",
    "    if abpn%'cen' in hod_param_names: # this pname is in the model\n",
    "        for gal_type in ['cen', 'sat']:\n",
    "            plot_hod_param_names.append(abpn%gal_type)\n",
    "            if gal_type == 'cen':\n",
    "                plot_hod_true_vals.append(1.0)\n",
    "            else:\n",
    "                plot_hod_true_vals.append(-1.0)\n",
    "\n",
    "            plot_hod_bounds.append((-1.0, 1.0))\n",
    "\n",
    "#for phpn in plot_hod_param_names:\n",
    "#    i = hod_param_names.index(phpn)\n",
    "#    print phpn, i, hod_true_vals[i]\n",
    "#    plot_hod_true_vals.append(hod_true_vals[i])\n",
    "#    plot_hod_bounds.append(hod_bounds[i])\n"
   ]
  },
  {
   "cell_type": "code",
   "execution_count": null,
   "metadata": {
    "collapsed": false
   },
   "outputs": [],
   "source": [
    "# Enforce a consistent order for the plots\n",
    "#if gal_type == 'HOD':\n",
    "    \n",
    "plot_hod_param_names = ['$\\\\sigma_{\\\\log M }$', '$\\\\log(M_0)$', '$\\\\log(M_1)$', '$\\\\alpha$', '$\\\\eta$']\n",
    "if boxno==1:\n",
    "    plot_hod_true_vals = [0.2, 13.0, 14.0, 1.0, 1.0]\n",
    "    ab_cen, ab_sat = 0.0,0.0\n",
    "elif boxno==5:\n",
    "    plot_hod_true_vals = [0.4, 13.5, 14.2, 0.95, 1.0]\n",
    "    ab_cen, ab_sat = 0.3, -0.7\n",
    "else:\n",
    "    assert False\n",
    "\n",
    "\n",
    "\n",
    "plot_hod_bounds = [(0.05, 0.5), (12.6, 13.6), (13.7, 14.7), (0.7, 1.3), (0.5, 2.0)]\n",
    "\n",
    "ab_param_names = [r'$\\mathcal{A}_{%s}$', r'$\\mathcal{B}_{%s}$', r'$\\rho_{%s}$']\n",
    "ab_true_vals = [0.0, np.inf,0.0]\n",
    "for abpn, hodtv in zip(ab_param_names, ab_true_vals):\n",
    "    if abpn%'cen' in hod_param_names: # this pname is in the model\n",
    "        if 'B' in abpn:\n",
    "            plot_hod_true_vals.extend([np.inf, np.inf])\n",
    "            plot_hod_param_names.extend([abpn%'cen', abpn%'sat'])\n",
    "\n",
    "            continue\n",
    "        for gal_type in ['cen', 'sat']:\n",
    "            plot_hod_param_names.append(abpn%gal_type)#\n",
    "\n",
    "            if gal_type == 'cen':\n",
    "                plot_hod_true_vals.append(ab_cen)#0.3\n",
    "            else:\n",
    "                plot_hod_true_vals.append(ab_sat)#-0.7\n",
    "\n",
    "            plot_hod_bounds.append((-1.0, 1.0))\n",
    "\n",
    "#for phpn in plot_hod_param_names:\n",
    "#    i = hod_param_names.index(phpn)\n",
    "#    print phpn, i, hod_true_vals[i]\n",
    "#    plot_hod_true_vals.append(hod_true_vals[i])\n",
    "#    plot_hod_bounds.append(hod_bounds[i])\n"
   ]
  },
  {
   "cell_type": "code",
   "execution_count": null,
   "metadata": {
    "collapsed": false
   },
   "outputs": [],
   "source": [
    "c.configure(colors = [color_to_hex(p) for p in palette], shade = True, \n",
    "            shade_alpha=0.2, shade_gradient=1.0,\n",
    "            diagonal_tick_labels=True, tick_font_size=8, label_font_size=25, \\\n",
    "            max_ticks=8, plot_hists=True)#, statistics='cumulative')"
   ]
  },
  {
   "cell_type": "raw",
   "metadata": {
    "collapsed": false
   },
   "source": [
    "c.configure(shade = True, \n",
    "            shade_alpha=0.2, shade_gradient=1.0,\n",
    "            diagonal_tick_labels=True, tick_font_size=8, label_font_size=25, \\\n",
    "            max_ticks=8, plot_hists=True)#, statistics='cumulative')"
   ]
  },
  {
   "cell_type": "raw",
   "metadata": {
    "collapsed": false
   },
   "source": [
    "fig = c.plotter.plot(figsize='GROW', parameters = plot_hod_param_names, \n",
    "                     truth=plot_hod_true_vals, extents=plot_hod_bounds) \n",
    "#plt.suptitle('HSAB')\n",
    "fig.show()"
   ]
  },
  {
   "cell_type": "raw",
   "metadata": {
    "collapsed": false
   },
   "source": [
    "fig = c.plotter.plot(figsize='PAGE', parameters = cosmo_param_names, truth=cosmo_true_vals, extents=cosmo_bounds) \n",
    "fig.show()"
   ]
  },
  {
   "cell_type": "code",
   "execution_count": null,
   "metadata": {
    "collapsed": false
   },
   "outputs": [],
   "source": [
    "from copy import deepcopy\n",
    "true_vals  = list(deepcopy(cosmo_true_vals))\n",
    "true_vals.extend(plot_hod_true_vals)"
   ]
  },
  {
   "cell_type": "code",
   "execution_count": null,
   "metadata": {
    "collapsed": false
   },
   "outputs": [],
   "source": [
    "plot_hod_true_vals"
   ]
  },
  {
   "cell_type": "code",
   "execution_count": null,
   "metadata": {
    "collapsed": false
   },
   "outputs": [],
   "source": [
    "true_vals"
   ]
  },
  {
   "cell_type": "code",
   "execution_count": null,
   "metadata": {
    "collapsed": true
   },
   "outputs": [],
   "source": [
    "plot_param_names = list(deepcopy(cosmo_param_names))\n",
    "plot_param_names.extend(plot_hod_param_names)"
   ]
  },
  {
   "cell_type": "code",
   "execution_count": null,
   "metadata": {
    "collapsed": false
   },
   "outputs": [],
   "source": [
    "plot_param_bounds =list(deepcopy(cosmo_bounds))\n",
    "plot_param_bounds.extend(plot_hod_bounds)"
   ]
  },
  {
   "cell_type": "code",
   "execution_count": null,
   "metadata": {
    "collapsed": false
   },
   "outputs": [],
   "source": [
    "plot_param_names"
   ]
  },
  {
   "cell_type": "code",
   "execution_count": null,
   "metadata": {
    "collapsed": false
   },
   "outputs": [],
   "source": [
    "split_fname = basename(fnames[-1]).split('_')\n",
    "mock_name = split_fname[0]\n",
    "model_name = split_fname[-1].split('.')[0]\n",
    "\n",
    "if mock_name == 'HOD':\n",
    "    mock_name = 'HOD'\n",
    "if boxno == 5:\n",
    "    mock_name = 'HSAB'\n",
    "    \n",
    "if any('Xi' in f for f in fnames):\n",
    "    model_name = 'Xi_KnnCDF'\n",
    "else:\n",
    "    model_name = 'KnnCDF'"
   ]
  },
  {
   "cell_type": "code",
   "execution_count": null,
   "metadata": {
    "collapsed": false
   },
   "outputs": [],
   "source": [
    "mock_name, model_name"
   ]
  },
  {
   "cell_type": "raw",
   "metadata": {
    "collapsed": false
   },
   "source": [
    "summary_idxs=[7,8,9,11,12,14,15]\n",
    "#_s = [s-7 for s in summary_idxs]\n",
    "#summary_idxs = _s\n",
    "\n",
    "summary_pnames = [plot_param_names[i] for i in summary_idxs]\n",
    "summary_truths = [true_vals[i] for i in summary_idxs]\n",
    "summary_bounds = [plot_param_bounds[i] for i in summary_idxs]"
   ]
  },
  {
   "cell_type": "code",
   "execution_count": null,
   "metadata": {
    "collapsed": false
   },
   "outputs": [],
   "source": [
    "np.any(~np.isfinite(c.chains[0].chain))"
   ]
  },
  {
   "cell_type": "raw",
   "metadata": {
    "collapsed": false
   },
   "source": [
    "fig = c.plotter.plot(figsize='PAGE', parameters =summary_pnames,\\\n",
    "                                     truth=summary_truths, extents=summary_bounds) \n",
    "fig.patch.set_facecolor('white')\n",
    "fig.axes[1].text(0.05, 0.1, 'Mock: %s'%(mock_name),\n",
    "                 fontdict={'fontsize':30})\n",
    "fig.savefig('%s_KnnCDF_fid.pdf'%(mock_name), format = 'pdf', bbox_inches='tight')\n",
    "fig.show()"
   ]
  },
  {
   "cell_type": "code",
   "execution_count": null,
   "metadata": {
    "collapsed": false
   },
   "outputs": [],
   "source": [
    "summary_idxs=[9,11,12,14,15]\n",
    "#summary_idxs=[0,2,3,5,6]\n",
    "\n",
    "summary_pnames = [plot_param_names[i] for i in summary_idxs]\n",
    "summary_truths = [true_vals[i] for i in summary_idxs]\n",
    "summary_bounds = [plot_param_bounds[i] for i in summary_idxs]"
   ]
  },
  {
   "cell_type": "code",
   "execution_count": null,
   "metadata": {
    "collapsed": false
   },
   "outputs": [],
   "source": [
    "fig = c.plotter.plot(figsize='PAGE', parameters =summary_pnames\\\n",
    "                                    , truth=summary_truths, extents=summary_bounds) \n",
    "fig.patch.set_facecolor('white')\n",
    "#fig.axes[1].text(0.05, 0.1, 'Mock: %s'%(mock_name),\n",
    "#                 fontdict={'fontsize':30})\n",
    "fig.axes[1].text(0.05, 0.1, 'Mock: %s'%(mock_name),\n",
    "                 fontdict={'fontsize':30})\n",
    "fig.savefig('%s_%s_HOD.pdf'%(mock_name, model_name), format = 'pdf', bbox_inches='tight')\n",
    "fig.show()"
   ]
  },
  {
   "cell_type": "code",
   "execution_count": null,
   "metadata": {
    "collapsed": false
   },
   "outputs": [],
   "source": [
    "summary_idxs=[7,8,14,15]\n",
    "summary_pnames = [plot_param_names[i] for i in summary_idxs]\n",
    "summary_truths = [true_vals[i] for i in summary_idxs]\n",
    "summary_bounds = [plot_param_bounds[i] for i in summary_idxs]"
   ]
  },
  {
   "cell_type": "code",
   "execution_count": null,
   "metadata": {
    "collapsed": false
   },
   "outputs": [],
   "source": [
    "fig = c.plotter.plot(figsize='PAGE', parameters =summary_pnames\\\n",
    "                                    , truth=summary_truths, extents=summary_bounds) \n",
    "fig.patch.set_facecolor('white')\n",
    "fig.axes[1].text(0.05, 0.1, 'Mock: %s'%(mock_name),\n",
    "                 fontdict={'fontsize':30})\n",
    "fig.savefig('%s_%s_AB.pdf'%(mock_name, model_name), format = 'pdf', bbox_inches='tight')\n",
    "fig.show()"
   ]
  },
  {
   "cell_type": "code",
   "execution_count": null,
   "metadata": {
    "collapsed": false
   },
   "outputs": [],
   "source": [
    "for chain in c.chains:\n",
    "    print chain.name\n",
    "    print len(np.unique(chain.chain[:,6]))/(1.0*chain.chain.shape[0])"
   ]
  },
  {
   "cell_type": "code",
   "execution_count": null,
   "metadata": {
    "collapsed": false
   },
   "outputs": [],
   "source": [
    "param_names"
   ]
  },
  {
   "cell_type": "code",
   "execution_count": null,
   "metadata": {
    "collapsed": true
   },
   "outputs": [],
   "source": []
  },
  {
   "cell_type": "raw",
   "metadata": {
    "collapsed": false
   },
   "source": [
    "fig = c.plotter.plot(figsize='GROW',  truth=true_vals) \n",
    "fig.patch.set_facecolor('white')\n",
    "fig.show()"
   ]
  },
  {
   "cell_type": "raw",
   "metadata": {
    "collapsed": false
   },
   "source": [
    "fig = c.plotter.plot(figsize='PAGE', truth=true_vals) \n",
    "fig.patch.set_facecolor('white')\n",
    "fig.show()"
   ]
  },
  {
   "cell_type": "raw",
   "metadata": {
    "collapsed": false
   },
   "source": [
    "fig = c.plotter.plot(figsize='PAGE',\\\n",
    "                     parameters =[r\"$S_8$\",r'$H_0$',\\\n",
    "                                  r'$\\sigma_{\\log M }$',\n",
    "                                  r'$\\log(M_1)$'],\\\n",
    "                                     truth=[0.835, 67.77, 0.2, 14.2])#, extents=summary_bounds) \n",
    "fig.show()"
   ]
  },
  {
   "cell_type": "raw",
   "metadata": {},
   "source": [
    "fig = c.plotter.plot(chains =[r\"$r_{min} = %s$\"%str(r) for r in [ 0.5, 1.0]],\n",
    " figsize='PAGE', parameters =[r'$\\sigma_8$', r'$\\sigma_{\\log M }$', r'$\\alpha$'],\n",
    "                    truth = [0.83, 0.2, 1.02])#, extents=summary_bounds) \n",
    "fig.show()"
   ]
  },
  {
   "cell_type": "code",
   "execution_count": null,
   "metadata": {
    "collapsed": false
   },
   "outputs": [],
   "source": [
    "for pname in summary_pnames:\n",
    "    print pname,'\\t',\n",
    "print\n",
    "print '*'*20\n",
    "\n",
    "for MAP in MAPs:\n",
    "    for pname in summary_pnames:\n",
    "        print MAP[pname],'\\t',\n",
    "    print \n",
    "print '*'*20\n",
    "for st in summary_truths:\n",
    "    print '%.4f'%st,'\\t'*2,"
   ]
  },
  {
   "cell_type": "code",
   "execution_count": null,
   "metadata": {
    "collapsed": true
   },
   "outputs": [],
   "source": [
    "MAP = [MAPs[0][pname] for pname in summary_pnames]"
   ]
  },
  {
   "cell_type": "raw",
   "metadata": {
    "collapsed": false
   },
   "source": [
    "fig = c.plotter.plot(chains =[r\"$r_{min} = %s$\"%strOD(5.0)], figsize='PAGE', parameters =summary_pnames\\\n",
    "                                    , truth=summary_truths)#, extents=summary_bounds) \n",
    "fig.show()"
   ]
  },
  {
   "cell_type": "raw",
   "metadata": {
    "collapsed": false
   },
   "source": [
    "fig = c.plotter.plot_summary(parameters=summary_pnames, truth=summary_truths,\\\n",
    "                             extents=summary_bounds,\\\n",
    "                             figsize=2, errorbar=False) \n",
    "#fig.suptitle(model) # + galtype\n",
    "fig.show()"
   ]
  },
  {
   "cell_type": "code",
   "execution_count": null,
   "metadata": {
    "collapsed": true
   },
   "outputs": [],
   "source": [
    "summary_names = ['Om','S8','H0']\n",
    "Om = 0.3089\n",
    "S8 = 0.8228*np.sqrt(0.3089/0.3)\n",
    "h = 0.6777\n",
    "H0=h*100\n",
    "true_vals_dict = dict(zip(summary_names, [Om, S8, H0]))\n",
    "\n",
    "true_point = np.array([true_vals_dict[name] for name in summary_names])"
   ]
  },
  {
   "cell_type": "code",
   "execution_count": null,
   "metadata": {
    "collapsed": false
   },
   "outputs": [],
   "source": [
    "from numpy.random import multivariate_normal"
   ]
  },
  {
   "cell_type": "code",
   "execution_count": null,
   "metadata": {
    "collapsed": false
   },
   "outputs": [],
   "source": [
    "_pnames, corr = c.analysis.get_correlations()"
   ]
  },
  {
   "cell_type": "code",
   "execution_count": null,
   "metadata": {
    "collapsed": false
   },
   "outputs": [],
   "source": [
    "print _pnames"
   ]
  },
  {
   "cell_type": "code",
   "execution_count": null,
   "metadata": {
    "collapsed": true
   },
   "outputs": [],
   "source": [
    "corr = corr[np.array([9,12])]"
   ]
  },
  {
   "cell_type": "code",
   "execution_count": null,
   "metadata": {
    "collapsed": false
   },
   "outputs": [],
   "source": [
    "im = plt.imshow(corr[:,:8], vmin = -1, vmax = 1)\n",
    "plt.colorbar(im)"
   ]
  },
  {
   "cell_type": "raw",
   "metadata": {},
   "source": [
    "for n, c in zip(_pnames, corr[0]):\n",
    "    print n,c"
   ]
  },
  {
   "cell_type": "code",
   "execution_count": null,
   "metadata": {
    "collapsed": false
   },
   "outputs": [],
   "source": [
    "#idxs = np.ones_like(corr[0], dtype=bool)\n",
    "#idxs[9] = idxs[12] = False\n",
    "_corr = corr[:, :8]\n",
    "plt.hist(_corr.flatten(), bins = np.linspace(-1, 1, 21), normed=True)"
   ]
  },
  {
   "cell_type": "code",
   "execution_count": null,
   "metadata": {
    "collapsed": false,
    "scrolled": false
   },
   "outputs": [],
   "source": [
    "from scipy.linalg import inv\n",
    "\n",
    "for i,chain in enumerate(c.chains[:4]):\n",
    "    print chain.name\n",
    "    \n",
    "    names, cov = c.analysis.get_covariance(chain.name)\n",
    "    #print cov\n",
    "    idxs = np.array([names.index(sp) for sp in summary_pnames])\n",
    "    cov = cov[idxs][:,idxs]\n",
    "    inv_cov = inv(cov)\n",
    "\n",
    "    #max_dict = c.analysis.get_max_posteriors()[i]#chain.name)\n",
    "    #max_point = np.array([max_dict[name] for name in summary_pnames])\n",
    "    max_dict = c.analysis.get_summary(chains = chain.name)\n",
    "    max_point = np.array([max_dict[name][1] for name in summary_pnames])\n",
    "    print true_point\n",
    "    print max_point\n",
    "    print np.sqrt(np.diag(cov))\n",
    "    delta = true_point-max_point\n",
    "    d2 = delta.T.dot(inv_cov.dot(delta))\n",
    "    print np.sqrt(d2)\n",
    "    true_d = np.sqrt(d2)\n",
    "    \n",
    "    all_points = c.chains[i].chain[:,idxs]\n",
    "    all_delta = (all_points-max_point)#[:1000]\n",
    "    all_d2 = np.array([d.T.dot(inv_cov.dot(d)) for d in all_delta])\n",
    "    all_d = np.sqrt(all_d2)\n",
    "    print 'Sorta p value:', np.sum(true_d<all_d)*1.0/all_d.shape[0]\n",
    "\n",
    "    posterior_samples = multivariate_normal(max_point, cov, 25000)\n",
    "    name = '%d Fit'%i\n",
    "    c.add_chain(posterior_samples, parameters=summary_pnames, name = name)\n",
    "    \n",
    "    fig = c.plotter.plot(chains = [0+i,4+i], figsize='PAGE', parameters =summary_pnames\\\n",
    "                                    , truth=summary_truths, extents=summary_bounds)\n",
    "    plt.show()\n"
   ]
  },
  {
   "cell_type": "code",
   "execution_count": null,
   "metadata": {
    "collapsed": false
   },
   "outputs": [],
   "source": [
    "c.chains[0].chain.shape"
   ]
  },
  {
   "cell_type": "code",
   "execution_count": null,
   "metadata": {
    "collapsed": true
   },
   "outputs": [],
   "source": [
    "def lnlike(theta, param_names, fixed_params, r_bin_centers, y, combined_inv_cov):\n",
    "\n",
    "    param_dict = dict(izip(param_names, theta))\n",
    "    param_dict.update(fixed_params)\n",
    "\n",
    "    emu_preds = []\n",
    "    for _emu, rbc in izip(_emus, r_bin_centers):\n",
    "        y_bar = _emu.emulate_wrt_r(param_dict, rbc)[0]\n",
    "\n",
    "        emu_preds.append(10**y_bar)\n",
    "        #delta = y_bar - y\n",
    "        #chi2 -= np.dot(delta, np.dot(combined_inv_cov, delta))\n",
    "\n",
    "    emu_pred = np.hstack(emu_preds)\n",
    "\n",
    "    delta = emu_pred - y\n",
    "    #print delta\n",
    "    return - np.dot(delta, np.dot(combined_inv_cov, delta))\n"
   ]
  },
  {
   "cell_type": "raw",
   "metadata": {
    "collapsed": false
   },
   "source": [
    "cosmo_param_names"
   ]
  },
  {
   "cell_type": "code",
   "execution_count": null,
   "metadata": {
    "collapsed": false
   },
   "outputs": [],
   "source": [
    "c.chains[0].name.split()"
   ]
  },
  {
   "cell_type": "code",
   "execution_count": null,
   "metadata": {
    "collapsed": false
   },
   "outputs": [],
   "source": [
    "deltas = []\n",
    "rmins = []\n",
    "for chain in c.chains:\n",
    "    summary = c.analysis.get_parameter_summary(chain, r'$S_8$')\n",
    "    delta = summary[2]-summary[0]\n",
    "    deltas.append(delta)\n",
    "    rmin = chain.name.split()[-1][:-1]\n",
    "    rmins.append(float(rmin))\n",
    "    print rmin, delta"
   ]
  },
  {
   "cell_type": "code",
   "execution_count": null,
   "metadata": {
    "collapsed": false
   },
   "outputs": [],
   "source": [
    "true_s8 = 0.8349"
   ]
  },
  {
   "cell_type": "code",
   "execution_count": null,
   "metadata": {
    "collapsed": false
   },
   "outputs": [],
   "source": [
    "plt.plot(np.array(rmins), np.array(deltas)/true_s8, color = 'b')\n",
    "plt.xscale('log')\n",
    "plt.ylabel(r'$\\Delta S_8/S_8$')\n",
    "plt.xlabel(r'$r_{min}$ [Mpc/h]')"
   ]
  },
  {
   "cell_type": "code",
   "execution_count": null,
   "metadata": {
    "collapsed": true
   },
   "outputs": [],
   "source": []
  },
  {
   "cell_type": "code",
   "execution_count": null,
   "metadata": {
    "collapsed": true
   },
   "outputs": [],
   "source": []
  },
  {
   "cell_type": "code",
   "execution_count": null,
   "metadata": {
    "collapsed": true
   },
   "outputs": [],
   "source": []
  }
 ],
 "metadata": {
  "kernelspec": {
   "display_name": "Python [default]",
   "language": "python",
   "name": "python2"
  },
  "language_info": {
   "codemirror_mode": {
    "name": "ipython",
    "version": 2
   },
   "file_extension": ".py",
   "mimetype": "text/x-python",
   "name": "python",
   "nbconvert_exporter": "python",
   "pygments_lexer": "ipython2",
   "version": "2.7.13"
  }
 },
 "nbformat": 4,
 "nbformat_minor": 1
}

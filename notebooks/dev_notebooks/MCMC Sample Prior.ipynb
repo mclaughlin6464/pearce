{
 "cells": [
  {
   "cell_type": "code",
   "execution_count": 1,
   "metadata": {
    "collapsed": true
   },
   "outputs": [],
   "source": [
    "import matplotlib\n",
    "#matplotlib.use('Agg')\n",
    "from matplotlib import pyplot as plt\n",
    "%matplotlib inline\n",
    "import seaborn as sns\n",
    "#sns.set()"
   ]
  },
  {
   "cell_type": "code",
   "execution_count": 2,
   "metadata": {
    "collapsed": false
   },
   "outputs": [],
   "source": [
    "import numpy as np\n",
    "from chainconsumer import ChainConsumer\n",
    "from glob import glob\n",
    "from os import path\n",
    "from copy import deepcopy\n",
    "from collections import OrderedDict\n",
    "from os.path import basename\n",
    "import emcee as mc\n",
    "import h5py"
   ]
  },
  {
   "cell_type": "raw",
   "metadata": {
    "collapsed": false
   },
   "source": [
    "fnames = sorted(glob('/u/ki/swmclau2/des/PearceMCMC/HOD*_wp_ds_rmin_0.5_HOD.hdf5'))"
   ]
  },
  {
   "cell_type": "code",
   "execution_count": 3,
   "metadata": {
    "collapsed": false
   },
   "outputs": [],
   "source": [
    "fnames = ['/u/ki/swmclau2/des/PearceMCMC/HOD_wp_ds_rmin_0.5_HOD.hdf5']"
   ]
  },
  {
   "cell_type": "code",
   "execution_count": 4,
   "metadata": {
    "collapsed": false
   },
   "outputs": [],
   "source": [
    "f = h5py.File(fnames[0], 'r')"
   ]
  },
  {
   "cell_type": "code",
   "execution_count": 5,
   "metadata": {
    "collapsed": false
   },
   "outputs": [
    {
     "data": {
      "text/plain": [
       "[u'chain_fixed_params',\n",
       " u'cov',\n",
       " u'dlogz',\n",
       " u'emu_cov_fname',\n",
       " u'emu_hps',\n",
       " u'emu_type',\n",
       " u'fixed_params',\n",
       " u'mcmc_type',\n",
       " u'nburn',\n",
       " u'nlive',\n",
       " u'nsteps',\n",
       " u'nwalkers',\n",
       " u'obs',\n",
       " u'param_names',\n",
       " u'seed',\n",
       " u'sim',\n",
       " u'training_file',\n",
       " u'true_cov_fname',\n",
       " u'true_data_fname']"
      ]
     },
     "execution_count": 5,
     "metadata": {},
     "output_type": "execute_result"
    }
   ],
   "source": [
    "f.attrs.keys()"
   ]
  },
  {
   "cell_type": "code",
   "execution_count": 6,
   "metadata": {
    "collapsed": false
   },
   "outputs": [],
   "source": [
    "n_walkers = f.attrs['nwalkers']"
   ]
  },
  {
   "cell_type": "code",
   "execution_count": 7,
   "metadata": {
    "collapsed": true
   },
   "outputs": [],
   "source": [
    "chain_pnames = list(f.attrs['param_names'])"
   ]
  },
  {
   "cell_type": "code",
   "execution_count": 8,
   "metadata": {
    "collapsed": false
   },
   "outputs": [],
   "source": [
    "chain_pnames.extend(['Om', 'S8']) # temporary"
   ]
  },
  {
   "cell_type": "code",
   "execution_count": 9,
   "metadata": {
    "collapsed": false
   },
   "outputs": [],
   "source": [
    "#sim_info = eval(f.attrs['sim'])\n",
    "sim_info = f.attrs['sim']"
   ]
  },
  {
   "cell_type": "code",
   "execution_count": 10,
   "metadata": {
    "collapsed": true
   },
   "outputs": [],
   "source": [
    "#gal_type = eval(f.attrs['sim'])['gal_type']\n",
    "if basename(fnames[0])[:3] == 'HOD' and basename(fnames[0])[4:9] != 'MDPL2':\n",
    "    gal_type = 'HOD'\n",
    "else:\n",
    "    gal_type = 'SHAM'#'HOD'"
   ]
  },
  {
   "cell_type": "code",
   "execution_count": 11,
   "metadata": {
    "collapsed": true
   },
   "outputs": [],
   "source": [
    "f.close()"
   ]
  },
  {
   "cell_type": "code",
   "execution_count": 12,
   "metadata": {
    "collapsed": false
   },
   "outputs": [
    {
     "data": {
      "text/plain": [
       "['ombh2',\n",
       " 'omch2',\n",
       " 'w0',\n",
       " 'ns',\n",
       " 'H0',\n",
       " 'Neff',\n",
       " 'sigma8',\n",
       " 'logM1',\n",
       " 'logM0',\n",
       " 'sigma_logM',\n",
       " 'alpha',\n",
       " 'conc_gal_bias',\n",
       " 'Om',\n",
       " 'S8']"
      ]
     },
     "execution_count": 12,
     "metadata": {},
     "output_type": "execute_result"
    }
   ],
   "source": [
    "chain_pnames"
   ]
  },
  {
   "cell_type": "code",
   "execution_count": 13,
   "metadata": {
    "collapsed": true
   },
   "outputs": [],
   "source": [
    "param_name_dict = {'ombh2': r'$\\Omega_b h^2$', 'omch2': r'$\\Omega_c h^2$','w0': r'$w_0$','ns': r'$n_s$', \\\n",
    "                   'sigma8': r'$\\sigma_8$', 'ln10As':r'$\\ln 10^{10} A_s$',\n",
    "                   'H0': r'$H_0$','Neff': r'$N_{eff}$',\\\n",
    "               'mean_occupation_centrals_assembias_corr1': r'$\\rho_{cen}$',\\\n",
    "                 'mean_occupation_satellites_assembias_corr1':r'$\\rho_{sat}$',\\\n",
    "                   'mean_occupation_centrals_assembias_param1': r'$\\mathcal{A}_{cen}$',\\\n",
    "                 'mean_occupation_satellites_assembias_param1':r'$\\mathcal{A}_{sat}$',\\\n",
    "                   'mean_occupation_centrals_assembias_slope1': r'$\\mathcal{B}_{cen}$',\\\n",
    "                 'mean_occupation_satellites_assembias_slope1':r'$\\mathcal{B}_{sat}$',\\\n",
    "                   'logM1': r'$\\log(M_1)$','logM0': r'$\\log(M_0)$',\n",
    "                   'sigma_logM': r'$\\sigma_{\\log M }$',\n",
    "                   'conc_gal_bias': r'$\\eta$', 'alpha':r'$\\alpha$',\n",
    "                  'Om': r'$\\Omega_m$', 'S8': r'$S_8$'}"
   ]
  },
  {
   "cell_type": "code",
   "execution_count": 14,
   "metadata": {
    "collapsed": false
   },
   "outputs": [],
   "source": [
    "bounds_dict = {'H0': (61.69472, 74.76751999999999),\n",
    "    #'H0': (50., 90.),\n",
    " #'Neff': (2.62125, 4.27875),\n",
    "# 'alpha': (0.7, 1.3),\n",
    "# 'conc_gal_bias': (0.5, 2.0),\n",
    " 'sigma8': (0.65, 1.0), # TODO update\n",
    "# 'logM0': (12.6, 13.6),\n",
    "# 'logM1': (13.7, 14.7),\n",
    "# 'ns': (0.9278462, 0.9974495999999999),\n",
    " 'ombh2': (0.02066455, 0.02371239),\n",
    " 'omch2': (0.1012181, 0.13177679999999997)}\n",
    "#'ombh2': (0.0, 0.05),\n",
    " #'omch2': (0.8, 0.15)}\n",
    "\n",
    "# 'sigma_logM': (0.05, 0.5),\n",
    "# 'ln10As': (3.0, 3.1),\n",
    "# 'w0': (-1.399921, -0.5658486)}\n",
    " #'Om': (0.15, 0.45),\n",
    " #'S8': (0.6, 1.0),\n",
    " #'mean_occupation_centrals_assembias_corr1': (-1.0, 1.0),\n",
    " #'mean_occupation_satellites_assembias_corr1': (-1.0, 1.0),\n",
    " #'mean_occupation_centrals_assembias_param1': (-1.0, 1.0),\n",
    " #'mean_occupation_satellites_assembias_param1': (-1.0, 1.0),\n",
    " #'mean_occupation_centrals_assembias_slope1': (-3.0, 3.0),\n",
    " #'mean_occupation_satellites_assembias_slope1': (-3.0, 3.0)}"
   ]
  },
  {
   "cell_type": "code",
   "execution_count": 15,
   "metadata": {
    "collapsed": false
   },
   "outputs": [],
   "source": [
    "from itertools import izip\n",
    "def lnprior(theta, param_names):\n",
    "    \"\"\"\n",
    "    Prior for an MCMC. Default is to assume flat prior for all parameters defined by the boundaries the\n",
    "    emulator is built from. Retuns negative infinity if outside bounds or NaN\n",
    "    :param theta:\n",
    "        The parameters proposed by the sampler.\n",
    "    :param param_names\n",
    "        The names identifying the values in theta, needed to extract their boundaries\n",
    "    :return:\n",
    "        Either 0 or -np.inf, depending if the params are allowed or not.\n",
    "    \"\"\"\n",
    "    for p, t in izip(param_names, theta):\n",
    "        low, high = bounds_dict[p]\n",
    "        if p=='H0':\n",
    "            h = t/100.0\n",
    "        elif p == 'omch2':\n",
    "            wc = t\n",
    "        elif p == 'ombh2':\n",
    "            wb = t\n",
    "        if np.isnan(t) or t < low or t > high:\n",
    "            return -np.inf\n",
    "    #print 5*np.log(h),np.log(wc+wb)\n",
    "    #p = 5*np.log(h)+np.log(wc+wb)\n",
    "    return 0#-3*np.log(h)#0#-np.inf if np.isnan(p) else p\n",
    "    #return -h**(-2)*(wc+wb)"
   ]
  },
  {
   "cell_type": "code",
   "execution_count": 16,
   "metadata": {
    "collapsed": false
   },
   "outputs": [],
   "source": [
    "def random_initial_guess(param_names, nwalkers, num_params):\n",
    "    pos0 = np.zeros((nwalkers, num_params))\n",
    "    for idx, pname in enumerate(param_names):\n",
    "        low, high = bounds_dict[pname]\n",
    "        pos0[:, idx] = np.random.randn(nwalkers) * (np.abs(high - low) / 3.0) +\\\n",
    "        (low + high) / 2.0\n",
    "        # TODO variable with of the initial guess\n",
    "        \n",
    "    prior = np.array([lnprior(p, param_names) for p in pos0])\n",
    "    #pos0[~np.isfinite(prior)] = (low+high)/2.0+np.random.randn()*1e-3\n",
    "\n",
    "    return pos0"
   ]
  },
  {
   "cell_type": "code",
   "execution_count": 17,
   "metadata": {
    "collapsed": true
   },
   "outputs": [],
   "source": [
    "param_names = bounds_dict.keys()\n",
    "nwalkers = 250\n",
    "num_params = len(bounds_dict)\n",
    "nburn=10000#*nwalkers\n",
    "nsteps = 60000"
   ]
  },
  {
   "cell_type": "code",
   "execution_count": 18,
   "metadata": {
    "collapsed": false
   },
   "outputs": [],
   "source": [
    "\n",
    "\n",
    "sampler = mc.EnsembleSampler(nwalkers, num_params, lnprior,\n",
    "                             threads=4, args=((param_names,)))\n",
    "\n",
    "pos0 = random_initial_guess(param_names, nwalkers, num_params)"
   ]
  },
  {
   "cell_type": "code",
   "execution_count": 19,
   "metadata": {
    "collapsed": false,
    "scrolled": false
   },
   "outputs": [
    {
     "name": "stderr",
     "output_type": "stream",
     "text": [
      "/u/ki/swmclau2/.conda/envs/hodemulator/lib/python2.7/site-packages/emcee/ensemble.py:335: RuntimeWarning: invalid value encountered in subtract\n",
      "  lnpdiff = (self.dim - 1.) * np.log(zz) + newlnprob - lnprob0\n",
      "/u/ki/swmclau2/.conda/envs/hodemulator/lib/python2.7/site-packages/emcee/ensemble.py:336: RuntimeWarning: invalid value encountered in greater\n",
      "  accept = (lnpdiff > np.log(self._random.rand(len(lnpdiff))))\n"
     ]
    }
   ],
   "source": [
    "sampler.run_mcmc(pos0, nsteps);"
   ]
  },
  {
   "cell_type": "code",
   "execution_count": 20,
   "metadata": {
    "collapsed": true
   },
   "outputs": [],
   "source": [
    "chain = sampler.chain[:, nburn:, :].reshape((-1, num_params))"
   ]
  },
  {
   "cell_type": "code",
   "execution_count": 21,
   "metadata": {
    "collapsed": true
   },
   "outputs": [],
   "source": [
    "def modify_chain(chain, param_names):\n",
    "    new_pnames = ['Om', 'S8']\n",
    "    h = chain[:,param_names.index('H0')]/100\n",
    "    ih2 = 1/(h**2)\n",
    "    Omc, Omb = chain[:,param_names.index('omch2')]/(h**2), chain[:,param_names.index('ombh2')]/(h**2)\n",
    "    Om = Omc+Omb\n",
    "    #print np.sum(chain[:,param_names.index('omch2')]<0)\n",
    "    #print np.sum(Omc<0)\n",
    "    #print np.sum(Omb<0)\n",
    "    #print np.sum(Om<0)\n",
    "    S8 = chain[:,param_names.index('sigma8')]*np.sqrt(Om/0.3)\n",
    "\n",
    "    new_chain = np.hstack([chain[:,:7], ih2.reshape((-1,1)), Om.reshape((-1,1)), S8.reshape((-1,1)), chain[:,7:]])\n",
    "    param_names.insert(7, 'iH2')\n",
    "    param_names.insert(8, new_pnames[0])\n",
    "    param_names.insert(9, new_pnames[1])\n",
    "\n",
    "    return new_chain, param_names"
   ]
  },
  {
   "cell_type": "code",
   "execution_count": 22,
   "metadata": {
    "collapsed": false
   },
   "outputs": [],
   "source": [
    "chain, param_names = modify_chain(chain, param_names)"
   ]
  },
  {
   "cell_type": "code",
   "execution_count": 23,
   "metadata": {
    "collapsed": false
   },
   "outputs": [
    {
     "data": {
      "text/plain": [
       "(12500000, 7)"
      ]
     },
     "execution_count": 23,
     "metadata": {},
     "output_type": "execute_result"
    }
   ],
   "source": [
    "chain.shape"
   ]
  },
  {
   "cell_type": "code",
   "execution_count": 24,
   "metadata": {
    "collapsed": false
   },
   "outputs": [
    {
     "data": {
      "text/plain": [
       "<chainconsumer.chainconsumer.ChainConsumer at 0x7f5bfa22e890>"
      ]
     },
     "execution_count": 24,
     "metadata": {},
     "output_type": "execute_result"
    }
   ],
   "source": [
    "c = ChainConsumer()\n",
    "param_name_dict['iH2'] = r'$1/(h^2)$'\n",
    "plot_param_names = [param_name_dict[p] for p in param_names]\n",
    "bounds_dict['iH2'] = ((100.0/bounds_dict['H0'][1])**2,(100.0/bounds_dict['H0'][0])**2)\n",
    "bounds_dict['Om'] = (0.225, 0.4)\n",
    "bounds_dict['S8'] = (0.6, 1.1)\n",
    "\n",
    "plot_bounds = [bounds_dict[p] for p in param_names]\n",
    "c.add_chain(chain, parameters=plot_param_names, walkers = n_walkers)"
   ]
  },
  {
   "cell_type": "code",
   "execution_count": 25,
   "metadata": {
    "collapsed": false
   },
   "outputs": [
    {
     "data": {
      "text/plain": [
       "<chainconsumer.chainconsumer.ChainConsumer at 0x7f5bfa22e890>"
      ]
     },
     "execution_count": 25,
     "metadata": {},
     "output_type": "execute_result"
    }
   ],
   "source": [
    "#c.configure(colors = [color_to_hex(p) for p in palette], shade = True, shade_alpha=0.2, shade_gradient=1.0)\n",
    "c.configure(diagonal_tick_labels=False, tick_font_size=8, label_font_size=25, \\\n",
    "            max_ticks=8, summary=False)#, statistics='cumulative')"
   ]
  },
  {
   "cell_type": "raw",
   "metadata": {
    "collapsed": false
   },
   "source": [
    "fig = c.plotter.plot(figsize='PAGE',\n",
    "                     parameters=plot_param_names,\n",
    "                    extents = plot_bounds)\n",
    "fig.patch.set_facecolor('white')\n",
    "\n",
    "fig.show()"
   ]
  },
  {
   "cell_type": "code",
   "execution_count": 28,
   "metadata": {
    "collapsed": false
   },
   "outputs": [
    {
     "name": "stderr",
     "output_type": "stream",
     "text": [
      "/u/ki/swmclau2/.conda/envs/hodemulator/lib/python2.7/site-packages/matplotlib/figure.py:403: UserWarning: matplotlib is currently using a non-GUI backend, so cannot show the figure\n",
      "  \"matplotlib is currently using a non-GUI backend, \"\n"
     ]
    },
    {
     "data": {
      "image/png": "[encoded data removed]",
      "text/plain": [
       "<matplotlib.figure.Figure at 0x7f5bc3a7f850>"
      ]
     },
     "metadata": {},
     "output_type": "display_data"
    }
   ],
   "source": [
    "fig = c.plotter.plot(figsize='PAGE', parameters=[r'$\\Omega_m$',r'$S_8$'],\n",
    "                    )\n",
    "fig.patch.set_facecolor('white')\n",
    "\n",
    "fig.show()\n",
    "plt.savefig('mcmc_prior.pdf', format='pdf', bbox_inches ='tight')"
   ]
  },
  {
   "cell_type": "code",
   "execution_count": 28,
   "metadata": {
    "collapsed": false
   },
   "outputs": [],
   "source": [
    "#h = np.random.rand(10000)*15+62\n",
    "#h = np.random.rand(10000)*70+33\n",
    "h0, h1 = 0.6, 0.8\n",
    "h0m2, h1m2 = 1/(h0**2), 1/(h1**2)\n",
    "hm2 = np.random.rand(10000)*(h1m2-h0m2) + h0m2\n",
    "h = 100*(1/np.sqrt(hm2))\n",
    "omch2 = np.random.rand(10000)*0.04+0.1\n",
    "sigma8 = np.random.rand(10000)*0.4+0.6\n",
    "om = omch2/((h/100)**2)\n",
    "s8 = sigma8*np.sqrt(om/0.3)"
   ]
  },
  {
   "cell_type": "code",
   "execution_count": 29,
   "metadata": {
    "collapsed": false
   },
   "outputs": [
    {
     "data": {
      "image/png": "[encoded data removed]",
      "text/plain": [
       "<matplotlib.figure.Figure at 0x7fb20c51ef10>"
      ]
     },
     "metadata": {},
     "output_type": "display_data"
    }
   ],
   "source": [
    "plt.hist(h, bins = 100);"
   ]
  },
  {
   "cell_type": "code",
   "execution_count": 30,
   "metadata": {
    "collapsed": false
   },
   "outputs": [
    {
     "data": {
      "image/png": "[encoded data removed]",
      "text/plain": [
       "<matplotlib.figure.Figure at 0x7fb1e6f6bed0>"
      ]
     },
     "metadata": {},
     "output_type": "display_data"
    }
   ],
   "source": [
    "plt.hist((h/100)**(-2), bins = 100);"
   ]
  },
  {
   "cell_type": "code",
   "execution_count": 31,
   "metadata": {
    "collapsed": false
   },
   "outputs": [
    {
     "data": {
      "image/png": "[encoded data removed]",
      "text/plain": [
       "<matplotlib.figure.Figure at 0x7fb20cd33f10>"
      ]
     },
     "metadata": {},
     "output_type": "display_data"
    }
   ],
   "source": [
    "plt.hist(om, bins = 100, normed = True);"
   ]
  },
  {
   "cell_type": "code",
   "execution_count": 32,
   "metadata": {
    "collapsed": false
   },
   "outputs": [
    {
     "data": {
      "image/png": "[encoded data removed]",
      "text/plain": [
       "<matplotlib.figure.Figure at 0x7fb20ca331d0>"
      ]
     },
     "metadata": {},
     "output_type": "display_data"
    }
   ],
   "source": [
    "plt.hist(s8, bins = 100, normed=True);"
   ]
  },
  {
   "cell_type": "code",
   "execution_count": 33,
   "metadata": {
    "collapsed": false
   },
   "outputs": [
    {
     "ename": "NameError",
     "evalue": "name 'cosmo_param_names' is not defined",
     "output_type": "error",
     "traceback": [
      "\u001b[1;31m---------------------------------------------------------------------------\u001b[0m",
      "\u001b[1;31mNameError\u001b[0m                                 Traceback (most recent call last)",
      "\u001b[1;32m<ipython-input-33-2bd1d7407ba0>\u001b[0m in \u001b[0;36m<module>\u001b[1;34m()\u001b[0m\n\u001b[1;32m----> 1\u001b[1;33m \u001b[0mfig\u001b[0m \u001b[1;33m=\u001b[0m \u001b[0mc\u001b[0m\u001b[1;33m.\u001b[0m\u001b[0mplotter\u001b[0m\u001b[1;33m.\u001b[0m\u001b[0mplot\u001b[0m\u001b[1;33m(\u001b[0m\u001b[0mfigsize\u001b[0m\u001b[1;33m=\u001b[0m\u001b[1;34m'PAGE'\u001b[0m\u001b[1;33m,\u001b[0m \u001b[0mparameters\u001b[0m \u001b[1;33m=\u001b[0m \u001b[0mcosmo_param_names\u001b[0m\u001b[1;33m,\u001b[0m \u001b[0mtruth\u001b[0m\u001b[1;33m=\u001b[0m\u001b[0mcosmo_true_vals\u001b[0m\u001b[1;33m,\u001b[0m \u001b[0mextents\u001b[0m\u001b[1;33m=\u001b[0m\u001b[0mcosmo_bounds\u001b[0m\u001b[1;33m)\u001b[0m\u001b[1;33m\u001b[0m\u001b[0m\n\u001b[0m\u001b[0;32m      2\u001b[0m \u001b[0mfig\u001b[0m\u001b[1;33m.\u001b[0m\u001b[0mshow\u001b[0m\u001b[1;33m(\u001b[0m\u001b[1;33m)\u001b[0m\u001b[1;33m\u001b[0m\u001b[0m\n",
      "\u001b[1;31mNameError\u001b[0m: name 'cosmo_param_names' is not defined"
     ]
    }
   ],
   "source": [
    "fig = c.plotter.plot(figsize='PAGE', parameters = cosmo_param_names, truth=cosmo_true_vals, extents=cosmo_bounds) \n",
    "fig.show()"
   ]
  },
  {
   "cell_type": "code",
   "execution_count": null,
   "metadata": {
    "collapsed": true
   },
   "outputs": [],
   "source": [
    "from copy import deepcopy\n",
    "true_vals  = list(deepcopy(cosmo_true_vals))\n",
    "true_vals.extend(plot_hod_true_vals)"
   ]
  },
  {
   "cell_type": "code",
   "execution_count": null,
   "metadata": {
    "collapsed": true
   },
   "outputs": [],
   "source": [
    "plot_param_names = list(deepcopy(cosmo_param_names))\n",
    "plot_param_names.extend(plot_hod_param_names)"
   ]
  },
  {
   "cell_type": "code",
   "execution_count": null,
   "metadata": {
    "collapsed": true
   },
   "outputs": [],
   "source": [
    "plot_param_bounds = list(deepcopy(cosmo_bounds))\n",
    "plot_param_bounds.extend(plot_hod_bounds)"
   ]
  },
  {
   "cell_type": "code",
   "execution_count": null,
   "metadata": {
    "collapsed": false
   },
   "outputs": [],
   "source": [
    "plot_param_names"
   ]
  },
  {
   "cell_type": "code",
   "execution_count": null,
   "metadata": {
    "collapsed": false
   },
   "outputs": [],
   "source": [
    "# TODO can choose these by galaxy model \n",
    "# TODO combine multiple chains? \n",
    "#summary_idxs = [1, 4]\n",
    "summary_idxs = [7,6,8,4,13]\n",
    "#summary_idxs = [7, 8,4]#,13]\n",
    "if len(plot_param_names) > 14:\n",
    "    #summary_idxs.extend([14,15])#,18,19])\n",
    "    #summary_idxs.extend([11,12])\n",
    "    pass\n",
    "\n",
    "\n",
    "summary_pnames = [plot_param_names[i] for i in summary_idxs]\n",
    "summary_truths = [true_vals[i] for i in summary_idxs]\n",
    "summary_bounds = [plot_param_bounds[i] for i in summary_idxs]"
   ]
  },
  {
   "cell_type": "code",
   "execution_count": null,
   "metadata": {
    "collapsed": false
   },
   "outputs": [],
   "source": [
    "fig = c.plotter.plot(figsize='PAGE', parameters =summary_pnames\\\n",
    "                                    , truth=summary_truths, extents=summary_bounds) \n",
    "fig.patch.set_facecolor('white')\n",
    "fig.show()"
   ]
  },
  {
   "cell_type": "code",
   "execution_count": null,
   "metadata": {
    "collapsed": false
   },
   "outputs": [],
   "source": [
    "fig = c.plotter.plot(figsize='PAGE', truth=true_vals) \n",
    "fig.patch.set_facecolor('white')\n",
    "fig.show()"
   ]
  },
  {
   "cell_type": "raw",
   "metadata": {
    "collapsed": false
   },
   "source": [
    "fig = c.plotter.plot(figsize='PAGE',\\\n",
    "                     parameters =[r\"$S_8$\",r'$H_0$',\\\n",
    "                                  r'$\\sigma_{\\log M }$',\n",
    "                                  r'$\\log(M_1)$'],\\\n",
    "                                     truth=[0.835, 67.77, 0.2, 14.2])#, extents=summary_bounds) \n",
    "fig.show()"
   ]
  },
  {
   "cell_type": "raw",
   "metadata": {},
   "source": [
    "fig = c.plotter.plot(chains =[r\"$r_{min} = %s$\"%str(r) for r in [ 0.5, 1.0]],\n",
    " figsize='PAGE', parameters =[r'$\\sigma_8$', r'$\\sigma_{\\log M }$', r'$\\alpha$'],\n",
    "                    truth = [0.83, 0.2, 1.02])#, extents=summary_bounds) \n",
    "fig.show()"
   ]
  },
  {
   "cell_type": "code",
   "execution_count": null,
   "metadata": {
    "collapsed": false
   },
   "outputs": [],
   "source": [
    "for pname in summary_pnames:\n",
    "    print pname,'\\t',\n",
    "print\n",
    "print '*'*20\n",
    "\n",
    "for MAP in MAPs:\n",
    "    for pname in summary_pnames:\n",
    "        print MAP[pname],'\\t',\n",
    "    print \n",
    "print '*'*20\n",
    "for st in summary_truths:\n",
    "    print '%.4f'%st,'\\t'*2,"
   ]
  },
  {
   "cell_type": "code",
   "execution_count": null,
   "metadata": {
    "collapsed": true
   },
   "outputs": [],
   "source": [
    "MAP = [MAPs[0][pname] for pname in summary_pnames]"
   ]
  },
  {
   "cell_type": "code",
   "execution_count": null,
   "metadata": {
    "collapsed": false
   },
   "outputs": [],
   "source": [
    "fig = c.plotter.plot(chains =[r\"$r_{min} = %s$\"%str(5.0)], figsize='PAGE', parameters =summary_pnames\\\n",
    "                                    , truth=summary_truths)#, extents=summary_bounds) \n",
    "fig.show()"
   ]
  },
  {
   "cell_type": "code",
   "execution_count": null,
   "metadata": {
    "collapsed": false
   },
   "outputs": [],
   "source": [
    "c.configure(bar_shade=True)"
   ]
  },
  {
   "cell_type": "code",
   "execution_count": null,
   "metadata": {
    "collapsed": false
   },
   "outputs": [],
   "source": [
    "fig = c.plotter.plot_summary(parameters=summary_pnames, truth=summary_truths,\\\n",
    "                             extents=summary_bounds,\\\n",
    "                             figsize=2, errorbar=False) \n",
    "#fig.suptitle(model) # + galtype\n",
    "fig.show()"
   ]
  },
  {
   "cell_type": "raw",
   "metadata": {
    "collapsed": false
   },
   "source": [
    "cosmo_param_names"
   ]
  },
  {
   "cell_type": "code",
   "execution_count": null,
   "metadata": {
    "collapsed": true
   },
   "outputs": [],
   "source": []
  },
  {
   "cell_type": "code",
   "execution_count": null,
   "metadata": {
    "collapsed": true
   },
   "outputs": [],
   "source": []
  }
 ],
 "metadata": {
  "kernelspec": {
   "display_name": "Python [default]",
   "language": "python",
   "name": "python2"
  },
  "language_info": {
   "codemirror_mode": {
    "name": "ipython",
    "version": 2
   },
   "file_extension": ".py",
   "mimetype": "text/x-python",
   "name": "python",
   "nbconvert_exporter": "python",
   "pygments_lexer": "ipython2",
   "version": "2.7.13"
  }
 },
 "nbformat": 4,
 "nbformat_minor": 1
}

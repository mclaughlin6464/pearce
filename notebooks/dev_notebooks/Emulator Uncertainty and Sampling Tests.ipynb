{
 "cells": [
  {
   "cell_type": "markdown",
   "metadata": {},
   "source": [
    "The contours from the MCMC seem to be too large. I'm going to take some points on the chain and plot the emulator prediciton along with the \"truth\" at that point and see if they make sense. Additionally, part of my concern is that the errors for the emulator are not right. If I draw a lot of samples from the emulator at that point vs several repops, they should be similar. "
   ]
  },
  {
   "cell_type": "code",
   "execution_count": 8,
   "metadata": {
    "collapsed": true
   },
   "outputs": [],
   "source": [
    "from pearce.emulator import OriginalRecipe, ExtraCrispy\n",
    "from pearce.mocks import cat_dict\n",
    "import numpy as np\n",
    "from os import path"
   ]
  },
  {
   "cell_type": "code",
   "execution_count": 9,
   "metadata": {
    "collapsed": true
   },
   "outputs": [],
   "source": [
    "import matplotlib\n",
    "#matplotlib.use('Agg')\n",
    "from matplotlib import pyplot as plt\n",
    "%matplotlib inline\n",
    "import seaborn as sns\n",
    "sns.set()\n",
    "from chainconsumer import ChainConsumer"
   ]
  },
  {
   "cell_type": "code",
   "execution_count": 10,
   "metadata": {
    "collapsed": true
   },
   "outputs": [],
   "source": [
    "training_dir = '/u/ki/swmclau2/des/PearceLHC_wp_z_normal_errors'\n",
    "\n",
    "em_method = 'gp'\n",
    "split_method = 'random'"
   ]
  },
  {
   "cell_type": "code",
   "execution_count": 11,
   "metadata": {
    "collapsed": true
   },
   "outputs": [],
   "source": [
    "fixed_params = {'z':0.0}#, 'r':0.18477483}"
   ]
  },
  {
   "cell_type": "raw",
   "metadata": {},
   "source": [
    "n_leaves, n_overlap = 10, 2\n",
    "emu = ExtraCrispy(training_dir, n_leaves, n_overlap, split_method, method = em_method, fixed_params=fixed_params)"
   ]
  },
  {
   "cell_type": "raw",
   "metadata": {
    "collapsed": false
   },
   "source": [
    "emu = OriginalRecipe(training_dir, method = em_method, fixed_params=fixed_params)"
   ]
  },
  {
   "cell_type": "code",
   "execution_count": 12,
   "metadata": {
    "collapsed": false
   },
   "outputs": [],
   "source": [
    "emu = ExtraCrispy(training_dir,10,2,'random', method = em_method, fixed_params=fixed_params)"
   ]
  },
  {
   "cell_type": "code",
   "execution_count": 13,
   "metadata": {
    "collapsed": false
   },
   "outputs": [
    {
     "data": {
      "text/plain": [
       "array([  0.0937359 ,   0.18477483,   0.29469917,   0.41375889,\n",
       "         0.58091924,   0.81561308,   1.14512422,   1.60775928,\n",
       "         2.25730085,   3.16925998,   4.44965447,   6.24733375,\n",
       "         8.77128311,  12.31491873,  17.29019819,  24.27551166,  34.08292144])"
      ]
     },
     "execution_count": 13,
     "metadata": {},
     "output_type": "execute_result"
    }
   ],
   "source": [
    "emu.scale_bin_centers"
   ]
  },
  {
   "cell_type": "code",
   "execution_count": 14,
   "metadata": {
    "collapsed": false
   },
   "outputs": [
    {
     "data": {
      "text/plain": [
       "(0.2, 0.7)"
      ]
     },
     "execution_count": 14,
     "metadata": {},
     "output_type": "execute_result"
    }
   ],
   "source": [
    "emu.get_param_bounds('sigma_logM')"
   ]
  },
  {
   "cell_type": "code",
   "execution_count": 15,
   "metadata": {
    "collapsed": true
   },
   "outputs": [],
   "source": [
    "emulation_point = [('f_c', 0.233), ('logM0', 12.0), ('sigma_logM', 0.333),\n",
    "                    ('alpha', 1.053),('logM1', 13.5), ('logMmin', 12.033)]\n",
    "\n",
    "em_params = dict(emulation_point)\n",
    "\n",
    "em_params.update(fixed_params)\n",
    "del em_params['z']\n",
    "\n",
    "param_names = em_params.keys()"
   ]
  },
  {
   "cell_type": "code",
   "execution_count": 16,
   "metadata": {
    "collapsed": true
   },
   "outputs": [],
   "source": [
    "cosmo_params = {'simname':'chinchilla', 'Lbox':400.0, 'scale_factors':[1.0]}\n",
    "cat = cat_dict[cosmo_params['simname']](**cosmo_params)"
   ]
  },
  {
   "cell_type": "code",
   "execution_count": 17,
   "metadata": {
    "collapsed": true
   },
   "outputs": [],
   "source": [
    "scale_factor = 1.0\n",
    "HOD = 'redMagic'\n",
    "cat.load(scale_factor, HOD=HOD)"
   ]
  },
  {
   "cell_type": "code",
   "execution_count": 18,
   "metadata": {
    "collapsed": true
   },
   "outputs": [],
   "source": [
    "rp_bins =  list(np.logspace(-1,1.5,19) )\n",
    "rp_bins.pop(1)\n",
    "rp_bins = np.array(rp_bins)\n",
    "rpoints =  (rp_bins[1:]+rp_bins[:-1])/2.0"
   ]
  },
  {
   "cell_type": "code",
   "execution_count": 19,
   "metadata": {
    "collapsed": true
   },
   "outputs": [],
   "source": [
    "fname = '/u/ki/swmclau2/des/PearceMCMC/100_walkers_5000_steps_chain_large_errors.npy'"
   ]
  },
  {
   "cell_type": "code",
   "execution_count": 20,
   "metadata": {
    "collapsed": true
   },
   "outputs": [],
   "source": [
    "chain = np.genfromtxt(fname)"
   ]
  },
  {
   "cell_type": "code",
   "execution_count": 22,
   "metadata": {
    "collapsed": false
   },
   "outputs": [],
   "source": [
    "sample_idx = 1\n",
    "#em_point = dict(zip(param_names, chain[sample_idx, :]))\n",
    "#em_point = dict(zip(emu.get_param_names(), emu.x[sample_idx, :]))\n",
    "em_point = dict(zip(emu.get_param_names(), emu.x[sample_idx, :]))"
   ]
  },
  {
   "cell_type": "raw",
   "metadata": {
    "collapsed": false
   },
   "source": [
    "n_samples = 10\n",
    "mock_wp_samples = np.zeros((n_samples, rpoints.shape[0]))\n",
    "mock_nd_samples = np.zeros((n_samples,))\n",
    "for i in xrange(n_samples):\n",
    "    print i\n",
    "    cat.populate(em_point)\n",
    "    mock_wp_samples[i,:] = np.log10(cat.calc_wp(rp_bins, 40))\n",
    "    mock_nd_samples[i] = cat.calc_number_density()"
   ]
  },
  {
   "cell_type": "raw",
   "metadata": {},
   "source": [
    "np.savetxt('mock_wp_samples.npy',mock_wp_samples)\n",
    "np.savetxt('mock_nd_samples.npy',mock_nd_samples)"
   ]
  },
  {
   "cell_type": "raw",
   "metadata": {
    "collapsed": true
   },
   "source": [
    "mock_wp_samples = np.loadtxt('mock_wp_samples.npy')\n",
    "mock_nd_samples = np.loadtxt('mock_nd_samples.npy')"
   ]
  },
  {
   "cell_type": "raw",
   "metadata": {},
   "source": [
    "emulator_wp_samples = np.zeros((n_samples, rpoints.shape[0]))\n",
    "emulator_nd_samples = np.zeros((n_samples,))\n",
    "for i in xrange(n_samples):\n",
    "    emulator_wp_samples[i,:] = emu.emulate_wrt_r(em_point, rpoints)\n",
    "    emulator_nd_samples[i] = cat.calc_analytic_nd(em_point)"
   ]
  },
  {
   "cell_type": "code",
   "execution_count": 23,
   "metadata": {
    "collapsed": false
   },
   "outputs": [
    {
     "data": {
      "text/plain": [
       "OrderedDict([('logMmin', (11.7, 12.5)),\n",
       "             ('sigma_logM', (0.2, 0.7)),\n",
       "             ('logM0', (10, 13)),\n",
       "             ('logM1', (13.1, 14.3)),\n",
       "             ('alpha', (0.75, 1.25)),\n",
       "             ('f_c', (0.1, 0.5)),\n",
       "             ('r', (0.093735900000000011, 34.082921444999997))])"
      ]
     },
     "execution_count": 23,
     "metadata": {},
     "output_type": "execute_result"
    }
   ],
   "source": [
    "emu._ordered_params"
   ]
  },
  {
   "cell_type": "code",
   "execution_count": 24,
   "metadata": {
    "collapsed": false
   },
   "outputs": [
    {
     "data": {
      "text/plain": [
       "{'alpha': array([ 12.117     ,   0.555     ,  11.449     ,  13.829     ,\n",
       "          1.035     ,   0.454     ,   0.50095787]),\n",
       " 'f_c': array([ 12.003     ,   0.244     ,  12.549     ,  13.167     ,\n",
       "          0.981     ,   0.473     ,  -0.73335719]),\n",
       " 'logM0': array([ 12.245    ,   0.408    ,  11.575    ,  13.552    ,   0.877    ,\n",
       "          0.107    ,   0.0588526]),\n",
       " 'logM1': array([ 12.049     ,   0.323     ,  11.816     ,  14.158     ,\n",
       "          1.036     ,   0.268     ,   0.20622102]),\n",
       " 'logMmin': array([ 12.001     ,   0.664     ,  10.908     ,  13.843     ,\n",
       "          0.999     ,   0.397     ,   1.53253681]),\n",
       " 'r': array([ 12.407     ,   0.474     ,  12.976     ,  13.126     ,\n",
       "          1.219     ,   0.415     ,  -0.73335719]),\n",
       " 'sigma_logM': array([ 12.075     ,   0.437     ,  11.725     ,  13.437     ,\n",
       "          1.117     ,   0.322     ,   0.20622102])}"
      ]
     },
     "execution_count": 24,
     "metadata": {},
     "output_type": "execute_result"
    }
   ],
   "source": [
    "em_point"
   ]
  },
  {
   "cell_type": "code",
   "execution_count": 25,
   "metadata": {
    "collapsed": true
   },
   "outputs": [],
   "source": [
    "colors = sns.color_palette(\"husl\")\n",
    "mock_color = colors[0]\n",
    "emulator_color = colors[2]"
   ]
  },
  {
   "cell_type": "raw",
   "metadata": {
    "collapsed": false
   },
   "source": [
    "n_repops = 50\n",
    "true_wp_samples = np.zeros((n_repops, rpoints.shape[0]))\n",
    "true_nd_samples = np.zeros((n_repops,))\n",
    "for i in xrange(n_repops):\n",
    "    if i%5==0:\n",
    "        print i\n",
    "    cat.populate(em_params)\n",
    "    true_wp_samples[i,:] = np.log10(cat.calc_wp(rp_bins, 40))\n",
    "    true_nd_samples[i] = cat.calc_number_density()\n",
    "    \n",
    "true_wp = np.mean(true_wp_samples, axis = 0)\n",
    "true_wp_errs = np.std(true_wp_samples, axis = 0)"
   ]
  },
  {
   "cell_type": "code",
   "execution_count": 26,
   "metadata": {
    "collapsed": false
   },
   "outputs": [
    {
     "ename": "NameError",
     "evalue": "name 'true_wp' is not defined",
     "output_type": "error",
     "traceback": [
      "\u001b[1;31m---------------------------------------------------------------------------\u001b[0m",
      "\u001b[1;31mNameError\u001b[0m                                 Traceback (most recent call last)",
      "\u001b[1;32m<ipython-input-26-3710260bad96>\u001b[0m in \u001b[0;36m<module>\u001b[1;34m()\u001b[0m\n\u001b[1;32m----> 1\u001b[1;33m \u001b[1;32mprint\u001b[0m \u001b[0mtrue_wp\u001b[0m\u001b[1;33m\u001b[0m\u001b[0m\n\u001b[0m",
      "\u001b[1;31mNameError\u001b[0m: name 'true_wp' is not defined"
     ]
    }
   ],
   "source": [
    "print true_wp"
   ]
  },
  {
   "cell_type": "code",
   "execution_count": 108,
   "metadata": {
    "collapsed": false
   },
   "outputs": [
    {
     "data": {
      "text/plain": [
       "array([ 0.00209754,  0.00171462,  0.00270575,  0.00253459,  0.00294978,\n",
       "        0.00327155,  0.00399784,  0.00401551,  0.00361685,  0.0028892 ,\n",
       "        0.00206353,  0.00262676,  0.00209266,  0.00310619,  0.00527247,\n",
       "        0.00343469,  0.00668499])"
      ]
     },
     "execution_count": 108,
     "metadata": {},
     "output_type": "execute_result"
    }
   ],
   "source": [
    "true_wp_errs/np.sqrt(n_repops)"
   ]
  },
  {
   "cell_type": "code",
   "execution_count": 123,
   "metadata": {
    "collapsed": false
   },
   "outputs": [
    {
     "data": {
      "image/png": "[encoded data removed]",
      "text/plain": [
       "<matplotlib.figure.Figure at 0x7fec7985cb50>"
      ]
     },
     "metadata": {},
     "output_type": "display_data"
    }
   ],
   "source": [
    "plt.plot(rpoints, (true_wp_samples/true_wp).T, color = mock_color, alpha = 0.7);\n",
    "plt.ylim([0.95, 1.05])\n",
    "plt.xscale('log')"
   ]
  },
  {
   "cell_type": "raw",
   "metadata": {
    "collapsed": false
   },
   "source": [
    "n_repops = 10\n",
    "true_wp_samples_em = np.zeros((n_repops, rpoints.shape[0]))\n",
    "true_nd_samples_em = np.zeros((n_repops,))\n",
    "for i in xrange(n_repops):\n",
    "    cat.populate(em_params)\n",
    "    true_wp_samples_em[i,:] = emu.emulate_wrt_r(em_params, rpoints)\n",
    "    true_nd_samples_em[i] = cat.calc_analytic_nd(em_params)\n",
    "    \n",
    "true_wp_emulator = np.mean(true_wp_samples_em, axis = 0)\n",
    "true_wp_errs_emulator = np.std(true_wp_samples_em, axis = 0)"
   ]
  },
  {
   "cell_type": "raw",
   "metadata": {
    "collapsed": false
   },
   "source": [
    "chain_wp_samples = np.zeros((n_samples, rpoints.shape[0]))\n",
    "chain_nd_samples = np.zeros((n_samples,))\n",
    "n_samples = 50\n",
    "for i in xrange(n_samples):\n",
    "    print i\n",
    "    sample_idx = -1*(1+i*1000)\n",
    "    em_point = dict(zip(param_names, chain[sample_idx, :]))\n",
    "    \n",
    "    wp_samples = np.zeros((n_repops, rpoints.shape[0]))\n",
    "    nd_samples = np.zeros((n_repops,))\n",
    "    for j in xrange(n_repops):\n",
    "        cat.populate(em_point)\n",
    "        wp_samples[j,:] = np.log10(cat.calc_wp(rp_bins, 40))\n",
    "        nd_samples[j] = cat.calc_number_density()\n",
    "        \n",
    "    chain_wp_samples[i,:] = wp_samples.mean(axis=0)\n",
    "    chain_nd_samples[i] = nd_samples.mean()\n",
    "    \n",
    "    #chain_wp_samples[i,:] = emu.emulate_wrt_r(em_point, rpoints)\n",
    "    #chain_nd_samples[i] = cat.calc_analytic_nd(em_point)"
   ]
  },
  {
   "cell_type": "raw",
   "metadata": {
    "collapsed": false
   },
   "source": [
    "for i in xrange(n_samples):\n",
    "    sample_idx = -1*(1+i*1000)\n",
    "    print chain[sample_idx, :]"
   ]
  },
  {
   "cell_type": "raw",
   "metadata": {
    "collapsed": false
   },
   "source": [
    "plt.plot(rpoints, (chain_wp_samples/true_wp).T, alpha = 0.4)\n",
    "#plt.errorbar(rpoints, true_wp, yerr=true_wp_errs)\n",
    "plt.xscale('log')\n",
    "plt.ylim([0.95, 1.05])\n",
    "plt.title('Computed average wp of %d random chain samples over wp of \"true\" point'%n_samples)"
   ]
  },
  {
   "cell_type": "raw",
   "metadata": {
    "collapsed": false
   },
   "source": [
    "plt.hist(chain_nd_samples/true_nd_samples.mean())\n"
   ]
  },
  {
   "cell_type": "code",
   "execution_count": 28,
   "metadata": {
    "collapsed": false
   },
   "outputs": [
    {
     "name": "stderr",
     "output_type": "stream",
     "text": [
      "/u/ki/swmclau2/.conda/envs/hodemulator/lib/python2.7/site-packages/pearce/emulator/emu.py:383: UserWarning: One value for r is outside the bounds (0.094, 34.083) of the emulator.\n",
      "  pname, plow, phigh))\n"
     ]
    },
    {
     "ename": "ValueError",
     "evalue": "array must not contain infs or NaNs",
     "output_type": "error",
     "traceback": [
      "\u001b[1;31m---------------------------------------------------------------------------\u001b[0m",
      "\u001b[1;31mValueError\u001b[0m                                Traceback (most recent call last)",
      "\u001b[1;32m<ipython-input-28-75f4152a7143>\u001b[0m in \u001b[0;36m<module>\u001b[1;34m()\u001b[0m\n\u001b[1;32m----> 1\u001b[1;33m \u001b[0memu\u001b[0m\u001b[1;33m.\u001b[0m\u001b[0memulate_wrt_r\u001b[0m\u001b[1;33m(\u001b[0m\u001b[0mem_point\u001b[0m\u001b[1;33m,\u001b[0m \u001b[0mrpoints\u001b[0m\u001b[1;33m)\u001b[0m\u001b[1;33m\u001b[0m\u001b[0m\n\u001b[0m",
      "\u001b[1;32m/u/ki/swmclau2/.conda/envs/hodemulator/lib/python2.7/site-packages/pearce/emulator/emu.pyc\u001b[0m in \u001b[0;36memulate_wrt_r\u001b[1;34m(self, em_params, r_bin_centers, gp_errs)\u001b[0m\n\u001b[0;32m    695\u001b[0m             \u001b[1;32mdel\u001b[0m \u001b[0mep\u001b[0m\u001b[1;33m[\u001b[0m\u001b[1;34m'z'\u001b[0m\u001b[1;33m]\u001b[0m\u001b[1;33m\u001b[0m\u001b[0m\n\u001b[0;32m    696\u001b[0m \u001b[1;33m\u001b[0m\u001b[0m\n\u001b[1;32m--> 697\u001b[1;33m         \u001b[0mout\u001b[0m \u001b[1;33m=\u001b[0m \u001b[0mself\u001b[0m\u001b[1;33m.\u001b[0m\u001b[0memulate_wrt_r_z\u001b[0m\u001b[1;33m(\u001b[0m\u001b[0mep\u001b[0m\u001b[1;33m,\u001b[0m \u001b[0mr_bin_centers\u001b[0m\u001b[1;33m,\u001b[0m \u001b[0mz_bin_centers\u001b[0m\u001b[1;33m,\u001b[0m \u001b[0mgp_errs\u001b[0m\u001b[1;33m)\u001b[0m\u001b[1;33m\u001b[0m\u001b[0m\n\u001b[0m\u001b[0;32m    698\u001b[0m \u001b[1;33m\u001b[0m\u001b[0m\n\u001b[0;32m    699\u001b[0m         \u001b[1;31m# Extract depending on if there are errors\u001b[0m\u001b[1;33m\u001b[0m\u001b[1;33m\u001b[0m\u001b[0m\n",
      "\u001b[1;32m/u/ki/swmclau2/.conda/envs/hodemulator/lib/python2.7/site-packages/pearce/emulator/emu.pyc\u001b[0m in \u001b[0;36memulate_wrt_r_z\u001b[1;34m(self, em_params, r_bin_centers, z_bin_centers, gp_errs)\u001b[0m\n\u001b[0;32m    780\u001b[0m \u001b[1;33m\u001b[0m\u001b[0m\n\u001b[0;32m    781\u001b[0m         \u001b[1;31m# now, emulate.\u001b[0m\u001b[1;33m\u001b[0m\u001b[1;33m\u001b[0m\u001b[0m\n\u001b[1;32m--> 782\u001b[1;33m         \u001b[0mout\u001b[0m \u001b[1;33m=\u001b[0m \u001b[0mself\u001b[0m\u001b[1;33m.\u001b[0m\u001b[0memulate\u001b[0m\u001b[1;33m(\u001b[0m\u001b[0mvep\u001b[0m\u001b[1;33m,\u001b[0m \u001b[0mgp_errs\u001b[0m\u001b[1;33m)\u001b[0m\u001b[1;33m\u001b[0m\u001b[0m\n\u001b[0m\u001b[0;32m    783\u001b[0m         \u001b[1;32mif\u001b[0m \u001b[0mgp_errs\u001b[0m\u001b[1;33m:\u001b[0m\u001b[1;33m\u001b[0m\u001b[0m\n\u001b[0;32m    784\u001b[0m             \u001b[0m_mu\u001b[0m\u001b[1;33m,\u001b[0m \u001b[0m_errs\u001b[0m \u001b[1;33m=\u001b[0m \u001b[0mout\u001b[0m\u001b[1;33m\u001b[0m\u001b[0m\n",
      "\u001b[1;32m/u/ki/swmclau2/.conda/envs/hodemulator/lib/python2.7/site-packages/pearce/emulator/emu.pyc\u001b[0m in \u001b[0;36memulate\u001b[1;34m(self, em_params, gp_errs)\u001b[0m\n\u001b[0;32m    664\u001b[0m             \u001b[0mt\u001b[0m \u001b[1;33m=\u001b[0m \u001b[0mnp\u001b[0m\u001b[1;33m.\u001b[0m\u001b[0marray\u001b[0m\u001b[1;33m(\u001b[0m\u001b[1;33m[\u001b[0m\u001b[0mt\u001b[0m\u001b[1;33m]\u001b[0m\u001b[1;33m)\u001b[0m\u001b[1;33m\u001b[0m\u001b[0m\n\u001b[0;32m    665\u001b[0m \u001b[1;33m\u001b[0m\u001b[0m\n\u001b[1;32m--> 666\u001b[1;33m         \u001b[1;32mreturn\u001b[0m \u001b[0mself\u001b[0m\u001b[1;33m.\u001b[0m\u001b[0m_emulate_helper\u001b[0m\u001b[1;33m(\u001b[0m\u001b[0mt\u001b[0m\u001b[1;33m,\u001b[0m \u001b[0mgp_errs\u001b[0m\u001b[1;33m)\u001b[0m\u001b[1;33m\u001b[0m\u001b[0m\n\u001b[0m\u001b[0;32m    667\u001b[0m \u001b[1;33m\u001b[0m\u001b[0m\n\u001b[0;32m    668\u001b[0m     \u001b[1;33m@\u001b[0m\u001b[0mabstractmethod\u001b[0m\u001b[1;33m\u001b[0m\u001b[0m\n",
      "\u001b[1;32m/u/ki/swmclau2/.conda/envs/hodemulator/lib/python2.7/site-packages/pearce/emulator/emu.pyc\u001b[0m in \u001b[0;36m_emulate_helper\u001b[1;34m(self, t, gp_errs)\u001b[0m\n\u001b[0;32m   1406\u001b[0m         \u001b[1;32mfor\u001b[0m \u001b[0mi\u001b[0m\u001b[1;33m,\u001b[0m \u001b[1;33m(\u001b[0m\u001b[0memulator\u001b[0m\u001b[1;33m,\u001b[0m \u001b[0m_y\u001b[0m\u001b[1;33m)\u001b[0m \u001b[1;32min\u001b[0m \u001b[0menumerate\u001b[0m\u001b[1;33m(\u001b[0m\u001b[0mizip\u001b[0m\u001b[1;33m(\u001b[0m\u001b[0mself\u001b[0m\u001b[1;33m.\u001b[0m\u001b[0m_emulators\u001b[0m\u001b[1;33m,\u001b[0m \u001b[0mself\u001b[0m\u001b[1;33m.\u001b[0m\u001b[0my\u001b[0m\u001b[1;33m)\u001b[0m\u001b[1;33m)\u001b[0m\u001b[1;33m:\u001b[0m\u001b[1;33m\u001b[0m\u001b[0m\n\u001b[0;32m   1407\u001b[0m             \u001b[1;32mif\u001b[0m \u001b[0mself\u001b[0m\u001b[1;33m.\u001b[0m\u001b[0mmethod\u001b[0m \u001b[1;33m==\u001b[0m \u001b[1;34m'gp'\u001b[0m\u001b[1;33m:\u001b[0m\u001b[1;33m\u001b[0m\u001b[0m\n\u001b[1;32m-> 1408\u001b[1;33m                 \u001b[0mlocal_mu\u001b[0m\u001b[1;33m,\u001b[0m \u001b[0mlocal_cov\u001b[0m \u001b[1;33m=\u001b[0m \u001b[0memulator\u001b[0m\u001b[1;33m.\u001b[0m\u001b[0mpredict\u001b[0m\u001b[1;33m(\u001b[0m\u001b[0m_y\u001b[0m\u001b[1;33m,\u001b[0m \u001b[0mt\u001b[0m\u001b[1;33m,\u001b[0m \u001b[0mmean_only\u001b[0m\u001b[1;33m=\u001b[0m\u001b[0mFalse\u001b[0m\u001b[1;33m)\u001b[0m\u001b[1;33m\u001b[0m\u001b[0m\n\u001b[0m\u001b[0;32m   1409\u001b[0m                 \u001b[0mlocal_err\u001b[0m \u001b[1;33m=\u001b[0m \u001b[0mnp\u001b[0m\u001b[1;33m.\u001b[0m\u001b[0msqrt\u001b[0m\u001b[1;33m(\u001b[0m\u001b[0mnp\u001b[0m\u001b[1;33m.\u001b[0m\u001b[0mdiag\u001b[0m\u001b[1;33m(\u001b[0m\u001b[0mlocal_cov\u001b[0m\u001b[1;33m)\u001b[0m\u001b[1;33m)\u001b[0m\u001b[1;33m\u001b[0m\u001b[0m\n\u001b[0;32m   1410\u001b[0m             \u001b[1;32melse\u001b[0m\u001b[1;33m:\u001b[0m\u001b[1;33m\u001b[0m\u001b[0m\n",
      "\u001b[1;32m/u/ki/swmclau2/.conda/envs/hodemulator/lib/python2.7/site-packages/george-0.2.1-py2.7-linux-x86_64.egg/george/gp.pyc\u001b[0m in \u001b[0;36mpredict\u001b[1;34m(self, y, t, mean_only)\u001b[0m\n\u001b[0;32m    296\u001b[0m         \"\"\"\n\u001b[0;32m    297\u001b[0m         \u001b[0mself\u001b[0m\u001b[1;33m.\u001b[0m\u001b[0mrecompute\u001b[0m\u001b[1;33m(\u001b[0m\u001b[1;33m)\u001b[0m\u001b[1;33m\u001b[0m\u001b[0m\n\u001b[1;32m--> 298\u001b[1;33m         \u001b[0mself\u001b[0m\u001b[1;33m.\u001b[0m\u001b[0m_compute_alpha\u001b[0m\u001b[1;33m(\u001b[0m\u001b[0my\u001b[0m\u001b[1;33m)\u001b[0m\u001b[1;33m\u001b[0m\u001b[0m\n\u001b[0m\u001b[0;32m    299\u001b[0m         \u001b[0mxs\u001b[0m\u001b[1;33m,\u001b[0m \u001b[0mi\u001b[0m \u001b[1;33m=\u001b[0m \u001b[0mself\u001b[0m\u001b[1;33m.\u001b[0m\u001b[0mparse_samples\u001b[0m\u001b[1;33m(\u001b[0m\u001b[0mt\u001b[0m\u001b[1;33m,\u001b[0m \u001b[0mFalse\u001b[0m\u001b[1;33m)\u001b[0m\u001b[1;33m\u001b[0m\u001b[0m\n\u001b[0;32m    300\u001b[0m \u001b[1;33m\u001b[0m\u001b[0m\n",
      "\u001b[1;32m/u/ki/swmclau2/.conda/envs/hodemulator/lib/python2.7/site-packages/george-0.2.1-py2.7-linux-x86_64.egg/george/gp.pyc\u001b[0m in \u001b[0;36m_compute_alpha\u001b[1;34m(self, y)\u001b[0m\n\u001b[0;32m    149\u001b[0m             r = np.ascontiguousarray(self._check_dimensions(y)[self.inds]\n\u001b[0;32m    150\u001b[0m                                      - self.mean(self._x), dtype=np.float64)\n\u001b[1;32m--> 151\u001b[1;33m             \u001b[0mself\u001b[0m\u001b[1;33m.\u001b[0m\u001b[0m_alpha\u001b[0m \u001b[1;33m=\u001b[0m \u001b[0mself\u001b[0m\u001b[1;33m.\u001b[0m\u001b[0msolver\u001b[0m\u001b[1;33m.\u001b[0m\u001b[0mapply_inverse\u001b[0m\u001b[1;33m(\u001b[0m\u001b[0mr\u001b[0m\u001b[1;33m,\u001b[0m \u001b[0min_place\u001b[0m\u001b[1;33m=\u001b[0m\u001b[0mTrue\u001b[0m\u001b[1;33m)\u001b[0m\u001b[1;33m\u001b[0m\u001b[0m\n\u001b[0m\u001b[0;32m    152\u001b[0m \u001b[1;33m\u001b[0m\u001b[0m\n\u001b[0;32m    153\u001b[0m     \u001b[1;32mdef\u001b[0m \u001b[0mcompute\u001b[0m\u001b[1;33m(\u001b[0m\u001b[0mself\u001b[0m\u001b[1;33m,\u001b[0m \u001b[0mx\u001b[0m\u001b[1;33m,\u001b[0m \u001b[0myerr\u001b[0m\u001b[1;33m=\u001b[0m\u001b[0mTINY\u001b[0m\u001b[1;33m,\u001b[0m \u001b[0msort\u001b[0m\u001b[1;33m=\u001b[0m\u001b[0mTrue\u001b[0m\u001b[1;33m,\u001b[0m \u001b[1;33m**\u001b[0m\u001b[0mkwargs\u001b[0m\u001b[1;33m)\u001b[0m\u001b[1;33m:\u001b[0m\u001b[1;33m\u001b[0m\u001b[0m\n",
      "\u001b[1;32m/u/ki/swmclau2/.conda/envs/hodemulator/lib/python2.7/site-packages/george-0.2.1-py2.7-linux-x86_64.egg/george/basic.pyc\u001b[0m in \u001b[0;36mapply_inverse\u001b[1;34m(self, y, in_place)\u001b[0m\n\u001b[0;32m     96\u001b[0m \u001b[1;33m\u001b[0m\u001b[0m\n\u001b[0;32m     97\u001b[0m         \"\"\"\n\u001b[1;32m---> 98\u001b[1;33m         \u001b[1;32mreturn\u001b[0m \u001b[0mcho_solve\u001b[0m\u001b[1;33m(\u001b[0m\u001b[0mself\u001b[0m\u001b[1;33m.\u001b[0m\u001b[0m_factor\u001b[0m\u001b[1;33m,\u001b[0m \u001b[0my\u001b[0m\u001b[1;33m,\u001b[0m \u001b[0moverwrite_b\u001b[0m\u001b[1;33m=\u001b[0m\u001b[0min_place\u001b[0m\u001b[1;33m)\u001b[0m\u001b[1;33m\u001b[0m\u001b[0m\n\u001b[0m\u001b[0;32m     99\u001b[0m \u001b[1;33m\u001b[0m\u001b[0m\n\u001b[0;32m    100\u001b[0m     \u001b[1;32mdef\u001b[0m \u001b[0mapply_sqrt\u001b[0m\u001b[1;33m(\u001b[0m\u001b[0mself\u001b[0m\u001b[1;33m,\u001b[0m \u001b[0mr\u001b[0m\u001b[1;33m)\u001b[0m\u001b[1;33m:\u001b[0m\u001b[1;33m\u001b[0m\u001b[0m\n",
      "\u001b[1;32m/u/ki/swmclau2/.conda/envs/hodemulator/lib/python2.7/site-packages/scipy/linalg/decomp_cholesky.pyc\u001b[0m in \u001b[0;36mcho_solve\u001b[1;34m(c_and_lower, b, overwrite_b, check_finite)\u001b[0m\n\u001b[0;32m    162\u001b[0m     \u001b[1;33m(\u001b[0m\u001b[0mc\u001b[0m\u001b[1;33m,\u001b[0m \u001b[0mlower\u001b[0m\u001b[1;33m)\u001b[0m \u001b[1;33m=\u001b[0m \u001b[0mc_and_lower\u001b[0m\u001b[1;33m\u001b[0m\u001b[0m\n\u001b[0;32m    163\u001b[0m     \u001b[1;32mif\u001b[0m \u001b[0mcheck_finite\u001b[0m\u001b[1;33m:\u001b[0m\u001b[1;33m\u001b[0m\u001b[0m\n\u001b[1;32m--> 164\u001b[1;33m         \u001b[0mb1\u001b[0m \u001b[1;33m=\u001b[0m \u001b[0masarray_chkfinite\u001b[0m\u001b[1;33m(\u001b[0m\u001b[0mb\u001b[0m\u001b[1;33m)\u001b[0m\u001b[1;33m\u001b[0m\u001b[0m\n\u001b[0m\u001b[0;32m    165\u001b[0m         \u001b[0mc\u001b[0m \u001b[1;33m=\u001b[0m \u001b[0masarray_chkfinite\u001b[0m\u001b[1;33m(\u001b[0m\u001b[0mc\u001b[0m\u001b[1;33m)\u001b[0m\u001b[1;33m\u001b[0m\u001b[0m\n\u001b[0;32m    166\u001b[0m     \u001b[1;32melse\u001b[0m\u001b[1;33m:\u001b[0m\u001b[1;33m\u001b[0m\u001b[0m\n",
      "\u001b[1;32m/u/ki/swmclau2/.conda/envs/hodemulator/lib/python2.7/site-packages/numpy/lib/function_base.pyc\u001b[0m in \u001b[0;36masarray_chkfinite\u001b[1;34m(a, dtype, order)\u001b[0m\n\u001b[0;32m   1213\u001b[0m     \u001b[1;32mif\u001b[0m \u001b[0ma\u001b[0m\u001b[1;33m.\u001b[0m\u001b[0mdtype\u001b[0m\u001b[1;33m.\u001b[0m\u001b[0mchar\u001b[0m \u001b[1;32min\u001b[0m \u001b[0mtypecodes\u001b[0m\u001b[1;33m[\u001b[0m\u001b[1;34m'AllFloat'\u001b[0m\u001b[1;33m]\u001b[0m \u001b[1;32mand\u001b[0m \u001b[1;32mnot\u001b[0m \u001b[0mnp\u001b[0m\u001b[1;33m.\u001b[0m\u001b[0misfinite\u001b[0m\u001b[1;33m(\u001b[0m\u001b[0ma\u001b[0m\u001b[1;33m)\u001b[0m\u001b[1;33m.\u001b[0m\u001b[0mall\u001b[0m\u001b[1;33m(\u001b[0m\u001b[1;33m)\u001b[0m\u001b[1;33m:\u001b[0m\u001b[1;33m\u001b[0m\u001b[0m\n\u001b[0;32m   1214\u001b[0m         raise ValueError(\n\u001b[1;32m-> 1215\u001b[1;33m             \"array must not contain infs or NaNs\")\n\u001b[0m\u001b[0;32m   1216\u001b[0m     \u001b[1;32mreturn\u001b[0m \u001b[0ma\u001b[0m\u001b[1;33m\u001b[0m\u001b[0m\n\u001b[0;32m   1217\u001b[0m \u001b[1;33m\u001b[0m\u001b[0m\n",
      "\u001b[1;31mValueError\u001b[0m: array must not contain infs or NaNs"
     ]
    }
   ],
   "source": [
    "emu.emulate_wrt_r(em_point, rpoints)"
   ]
  },
  {
   "cell_type": "code",
   "execution_count": 27,
   "metadata": {
    "collapsed": false
   },
   "outputs": [
    {
     "ename": "NameError",
     "evalue": "name 'true_wp' is not defined",
     "output_type": "error",
     "traceback": [
      "\u001b[1;31m---------------------------------------------------------------------------\u001b[0m",
      "\u001b[1;31mNameError\u001b[0m                                 Traceback (most recent call last)",
      "\u001b[1;32m<ipython-input-27-ade7f79f1c38>\u001b[0m in \u001b[0;36m<module>\u001b[1;34m()\u001b[0m\n\u001b[0;32m      1\u001b[0m \u001b[0mMAP\u001b[0m \u001b[1;33m=\u001b[0m \u001b[0mchain\u001b[0m\u001b[1;33m.\u001b[0m\u001b[0mmean\u001b[0m\u001b[1;33m(\u001b[0m\u001b[0maxis\u001b[0m \u001b[1;33m=\u001b[0m \u001b[1;36m0\u001b[0m\u001b[1;33m)\u001b[0m\u001b[1;33m\u001b[0m\u001b[0m\n\u001b[0;32m      2\u001b[0m \u001b[0mem_point\u001b[0m \u001b[1;33m=\u001b[0m \u001b[0mdict\u001b[0m\u001b[1;33m(\u001b[0m\u001b[0mzip\u001b[0m\u001b[1;33m(\u001b[0m\u001b[0mparam_names\u001b[0m\u001b[1;33m,\u001b[0m \u001b[0mMAP\u001b[0m\u001b[1;33m)\u001b[0m\u001b[1;33m)\u001b[0m\u001b[1;33m\u001b[0m\u001b[0m\n\u001b[1;32m----> 3\u001b[1;33m \u001b[1;32mprint\u001b[0m \u001b[0mnp\u001b[0m\u001b[1;33m.\u001b[0m\u001b[0msum\u001b[0m\u001b[1;33m(\u001b[0m \u001b[1;33m(\u001b[0m \u001b[1;33m(\u001b[0m\u001b[0mtrue_wp\u001b[0m\u001b[1;33m-\u001b[0m\u001b[0memu\u001b[0m\u001b[1;33m.\u001b[0m\u001b[0memulate_wrt_r\u001b[0m\u001b[1;33m(\u001b[0m\u001b[0mem_point\u001b[0m\u001b[1;33m,\u001b[0m \u001b[0mrpoints\u001b[0m\u001b[1;33m)\u001b[0m\u001b[1;33m)\u001b[0m\u001b[1;33m/\u001b[0m\u001b[1;33m(\u001b[0m\u001b[0mtrue_wp_errs\u001b[0m\u001b[1;33m)\u001b[0m \u001b[1;33m)\u001b[0m\u001b[1;33m**\u001b[0m\u001b[1;36m2\u001b[0m\u001b[1;33m)\u001b[0m\u001b[1;33m\u001b[0m\u001b[0m\n\u001b[0m",
      "\u001b[1;31mNameError\u001b[0m: name 'true_wp' is not defined"
     ]
    }
   ],
   "source": [
    "MAP = chain.mean(axis = 0)\n",
    "em_point = dict(zip(param_names, MAP))\n",
    "print np.sum( ( (true_wp-emu.emulate_wrt_r(em_point, rpoints))/(true_wp_errs) )**2)"
   ]
  },
  {
   "cell_type": "code",
   "execution_count": 110,
   "metadata": {
    "collapsed": false
   },
   "outputs": [
    {
     "data": {
      "text/plain": [
       "array([[-16.69542764, -22.4876462 , -13.77470447, -13.93359851,\n",
       "        -11.03962012,  -8.8317279 ,  -6.32030995,  -4.36582549,\n",
       "         -3.09686489,  -4.97890701,  -6.60491542,  -4.5602991 ,\n",
       "         -6.67843814,  -3.53565068,  -2.04078573,  -3.63070902,\n",
       "         -1.62744048]])"
      ]
     },
     "execution_count": 110,
     "metadata": {},
     "output_type": "execute_result"
    }
   ],
   "source": [
    "(true_wp-emu.emulate_wrt_r(em_point, rpoints))/true_wp_errs"
   ]
  },
  {
   "cell_type": "code",
   "execution_count": 111,
   "metadata": {
    "collapsed": false
   },
   "outputs": [
    {
     "data": {
      "text/plain": [
       "array([ 0.00663301,  0.00542211,  0.00855634,  0.00801506,  0.00932803,\n",
       "        0.01034554,  0.01264228,  0.01269816,  0.01143748,  0.00913645,\n",
       "        0.00652546,  0.00830653,  0.00661757,  0.00982265,  0.016673  ,\n",
       "        0.01086144,  0.02113979])"
      ]
     },
     "execution_count": 111,
     "metadata": {},
     "output_type": "execute_result"
    }
   ],
   "source": [
    "true_wp_errs"
   ]
  },
  {
   "cell_type": "code",
   "execution_count": 112,
   "metadata": {
    "collapsed": false
   },
   "outputs": [
    {
     "name": "stdout",
     "output_type": "stream",
     "text": [
      "2205.26964888\n"
     ]
    }
   ],
   "source": [
    "print np.sum( ( (true_nd_samples.mean()-cat.calc_analytic_nd(em_point))/(true_nd_samples.std()) )**2)"
   ]
  },
  {
   "cell_type": "code",
   "execution_count": 113,
   "metadata": {
    "collapsed": false
   },
   "outputs": [
    {
     "data": {
      "text/plain": [
       "0.0014003319672255823"
      ]
     },
     "execution_count": 113,
     "metadata": {},
     "output_type": "execute_result"
    }
   ],
   "source": [
    "cat.calc_analytic_nd(em_point)"
   ]
  },
  {
   "cell_type": "code",
   "execution_count": 114,
   "metadata": {
    "collapsed": false
   },
   "outputs": [
    {
     "data": {
      "text/plain": [
       "0.0015561359374999999"
      ]
     },
     "execution_count": 114,
     "metadata": {},
     "output_type": "execute_result"
    }
   ],
   "source": [
    "true_nd_samples.mean()"
   ]
  },
  {
   "cell_type": "code",
   "execution_count": 26,
   "metadata": {
    "collapsed": true
   },
   "outputs": [],
   "source": [
    "_emu = emu\n",
    "_cat = cat\n",
    "global _emu\n",
    "global _cat"
   ]
  },
  {
   "cell_type": "code",
   "execution_count": 27,
   "metadata": {
    "collapsed": true
   },
   "outputs": [],
   "source": [
    "from itertools import izip\n",
    "def lnprior(theta, param_names, *args):\n",
    "    \"\"\"\n",
    "    Prior for an MCMC. Default is to assume flat prior for all parameters defined by the boundaries the\n",
    "    emulator is built from. Retuns negative infinity if outside bounds or NaN\n",
    "    :param theta:\n",
    "        The parameters proposed by the sampler.\n",
    "    :param param_names\n",
    "        The names identifying the values in theta, needed to extract their boundaries\n",
    "    :return:\n",
    "        Either 0 or -np.inf, depending if the params are allowed or not.\n",
    "    \"\"\"\n",
    "    for p, t in izip(param_names, theta):\n",
    "        low, high = _emu.get_param_bounds(p)\n",
    "        if np.isnan(t) or t < low or t > high:\n",
    "            return -np.inf\n",
    "    return 0\n",
    "\n",
    "\n",
    "def lnlike(theta, param_names, r_bin_centers, y, combined_inv_cov, obs_nd, obs_nd_err, nd_func_name):\n",
    "    \"\"\"\n",
    "    :param theta:\n",
    "        Proposed parameters.\n",
    "    :param param_names:\n",
    "        The names of the parameters in theta\n",
    "    :param r_bin_centers:\n",
    "        The centers of the r bins y is measured in, angular or radial.\n",
    "    :param y:\n",
    "        The measured value of the observable to compare to the emulator.\n",
    "    :param combined_inv_cov:\n",
    "        The inverse covariance matrix. Explicitly, the inverse of the sum of the mesurement covaraince matrix\n",
    "        and the matrix from the emulator. Both are independent of emulator parameters, so can be precomputed.\n",
    "    :param obs_nd\n",
    "        Observed number density\n",
    "    :param obs_nd_err\n",
    "        Uncertainty in the observed nd\n",
    "    :param nd_func\n",
    "        Function that can compute the number density given a dictionary of HOD params.\n",
    "    :return:\n",
    "        The log liklihood of theta given the measurements and the emulator.\n",
    "    \"\"\"\n",
    "    param_dict = dict(izip(param_names, theta))\n",
    "    y_bar = _emu.emulate_wrt_r(param_dict, r_bin_centers)[0]\n",
    "    # should chi2 be calculated in log or linear?\n",
    "    # answer: the user is responsible for taking the log before it comes here.\n",
    "    delta = y_bar - y\n",
    "\n",
    "    chi2 = -0.5 * np.dot(delta, np.dot(combined_inv_cov, delta))\n",
    "\n",
    "    #print y_bar\n",
    "    #print y\n",
    "    #print obs_nd-getattr(_cat, nd_func_name)(param_dict),obs_nd, getattr(_cat, nd_func_name)(param_dict)\n",
    "    #print chi2,\n",
    "    #return chi2 - 0.5*((obs_nd-getattr(_cat, nd_func_name)(param_dict))/obs_nd_err)**2\n",
    "    return chi2, chi2 - 0.5*((obs_nd-getattr(_cat, nd_func_name)(param_dict))/obs_nd_err)**2\n",
    "\n",
    "\n",
    "def lnprob(theta, *args):\n",
    "    \"\"\"\n",
    "    The total liklihood for an MCMC. Mostly a generic wrapper for the below functions.\n",
    "    :param theta:\n",
    "        Parameters for the proposal\n",
    "    :param args:\n",
    "        Arguments to pass into the liklihood\n",
    "    :return:\n",
    "        Log Liklihood of theta, a float.\n",
    "    \"\"\"\n",
    "    lp = lnprior(theta, *args)\n",
    "    if not np.isfinite(lp):\n",
    "        return -np.inf\n",
    "\n",
    "    return lp + lnlike(theta, *args)\n"
   ]
  },
  {
   "cell_type": "code",
   "execution_count": 28,
   "metadata": {
    "collapsed": false
   },
   "outputs": [],
   "source": [
    "from scipy.linalg import inv\n",
    "cov = np.cov(true_wp_samples.T)\n",
    "#cov/=n_repops\n",
    "cov*=10\n",
    "combined_inv_cov = inv(np.diag(_emu.ycov)+cov)"
   ]
  },
  {
   "cell_type": "code",
   "execution_count": 29,
   "metadata": {
    "collapsed": false
   },
   "outputs": [
    {
     "data": {
      "text/plain": [
       "<matplotlib.image.AxesImage at 0x7fec7988d4d0>"
      ]
     },
     "execution_count": 29,
     "metadata": {},
     "output_type": "execute_result"
    },
    {
     "data": {
      "image/png": "[encoded data removed]",
      "text/plain": [
       "<matplotlib.figure.Figure at 0x7fed2835cc10>"
      ]
     },
     "metadata": {},
     "output_type": "display_data"
    }
   ],
   "source": [
    "plt.imshow(combined_inv_cov)"
   ]
  },
  {
   "cell_type": "code",
   "execution_count": 30,
   "metadata": {
    "collapsed": false
   },
   "outputs": [
    {
     "name": "stdout",
     "output_type": "stream",
     "text": [
      "[ 0.02021142  0.03078334  0.02003874  0.02720543  0.03155438  0.03144383\n",
      "  0.02854052  0.0170365   0.0202627   0.0282202   0.03053264  0.01741168\n",
      "  0.02226164  0.01914338  0.01793872  0.03275594  0.03627023]\n"
     ]
    }
   ],
   "source": [
    "print np.sqrt(np.diag(cov))"
   ]
  },
  {
   "cell_type": "code",
   "execution_count": 31,
   "metadata": {
    "collapsed": true
   },
   "outputs": [],
   "source": [
    "obs_nd = true_nd_samples.mean()\n",
    "obs_nd_err = true_nd_samples.std()\n",
    "nd_func_name = 'calc_analytic_nd'"
   ]
  },
  {
   "cell_type": "code",
   "execution_count": 32,
   "metadata": {
    "collapsed": false
   },
   "outputs": [],
   "source": [
    "args = (param_names, rpoints, true_wp_samples.mean(axis = 0), combined_inv_cov, obs_nd, obs_nd_err, nd_func_name)"
   ]
  },
  {
   "cell_type": "code",
   "execution_count": 33,
   "metadata": {
    "collapsed": false
   },
   "outputs": [
    {
     "name": "stdout",
     "output_type": "stream",
     "text": [
      "(-17.201516209409434, -17.205148955569673)\n"
     ]
    }
   ],
   "source": [
    "true_point = np.array([em_params[p] for p in param_names])\n",
    "true_chi2 =  lnlike(true_point, *args)\n",
    "print true_chi2"
   ]
  },
  {
   "cell_type": "code",
   "execution_count": 34,
   "metadata": {
    "collapsed": false
   },
   "outputs": [],
   "source": [
    "chi2s = []\n",
    "chi2nds = []\n",
    "for i in xrange(chain.shape[0]/200):\n",
    "    sample_idx = i*100+chain.shape[0]/2\n",
    "    chi2, chi2_nd = lnlike(chain[sample_idx, :], *args)\n",
    "    chi2s.append(chi2)\n",
    "    chi2nds.append(chi2s)\n",
    "    \n",
    "chi2s = np.array(chi2s)*-2\n",
    "chi2nds = np.array(chi2s)*-2"
   ]
  },
  {
   "cell_type": "code",
   "execution_count": 35,
   "metadata": {
    "collapsed": false
   },
   "outputs": [
    {
     "name": "stdout",
     "output_type": "stream",
     "text": [
      "(2500,)\n"
     ]
    }
   ],
   "source": [
    "print chi2s.shape"
   ]
  },
  {
   "cell_type": "code",
   "execution_count": 36,
   "metadata": {
    "collapsed": false
   },
   "outputs": [
    {
     "data": {
      "image/png": "[encoded data removed]",
      "text/plain": [
       "<matplotlib.figure.Figure at 0x7fec7985c990>"
      ]
     },
     "metadata": {},
     "output_type": "display_data"
    }
   ],
   "source": [
    "idxs = chi2s < 100\n",
    "plt.hist(chi2s[idxs], bins = 100);\n",
    "plt.xlim([0, 100])\n",
    "plt.vlines(true_chi2[0]*-2,0,200, lw = 2, label = r'Truth $\\chi^2$')\n",
    "plt.title(r'$\\chi^2$ for 2500 random chain samples')\n",
    "plt.legend(loc='best')\n",
    "plt.show()"
   ]
  },
  {
   "cell_type": "code",
   "execution_count": null,
   "metadata": {
    "collapsed": true
   },
   "outputs": [],
   "source": []
  }
 ],
 "metadata": {
  "kernelspec": {
   "display_name": "Python [conda env:hodemulator]",
   "language": "python",
   "name": "conda-env-hodemulator-py"
  },
  "language_info": {
   "codemirror_mode": {
    "name": "ipython",
    "version": 2
   },
   "file_extension": ".py",
   "mimetype": "text/x-python",
   "name": "python",
   "nbconvert_exporter": "python",
   "pygments_lexer": "ipython2",
   "version": "2.7.13"
  }
 },
 "nbformat": 4,
 "nbformat_minor": 0
}

{
 "cells": [
  {
   "cell_type": "markdown",
   "metadata": {},
   "source": [
    "It has been suggested by Nick that I can compute a Fischer Forecast with the VDF by just doing finite different around each point in the parameter space. Gonna try to do that here. "
   ]
  },
  {
   "cell_type": "code",
   "execution_count": 13,
   "metadata": {
    "collapsed": true
   },
   "outputs": [],
   "source": [
    "%matplotlib inline\n",
    "from matplotlib import pyplot as plt\n",
    "import seaborn as sns\n",
    "sns.set()"
   ]
  },
  {
   "cell_type": "code",
   "execution_count": 14,
   "metadata": {
    "collapsed": false
   },
   "outputs": [],
   "source": [
    "from pearce.emulator import LemonPepperWet, NashvilleHot\n",
    "import numpy as np\n",
    "from os import path\n",
    "import h5py\n",
    "from copy import deepcopy\n",
    "from scipy.linalg import inv"
   ]
  },
  {
   "cell_type": "code",
   "execution_count": 15,
   "metadata": {
    "collapsed": true
   },
   "outputs": [],
   "source": [
    "peaked=False"
   ]
  },
  {
   "cell_type": "raw",
   "metadata": {
    "collapsed": true
   },
   "source": [
    "training_file ='/u/ki/swmclau2/des/Aemulators/xi_hsab_box0/PearceHSABXiBox0.hdf5'\n",
    "test_file = '/u/ki/swmclau2/des/xi_hsab_box0_test/PearceHSABXi.hdf5'\n",
    "obs = 'xi'"
   ]
  },
  {
   "cell_type": "code",
   "execution_count": 16,
   "metadata": {
    "collapsed": true
   },
   "outputs": [],
   "source": [
    "training_file ='/u/ki/swmclau2/des/Aemulators/vdf_hsab_box0/PearceHSABVDFBox0.hdf5'\n",
    "test_file = '/u/ki/swmclau2/des/vdf_hsab_box0_test/PearceHSABVDF.hdf5'\n",
    "obs='vdf'"
   ]
  },
  {
   "cell_type": "raw",
   "metadata": {
    "collapsed": true
   },
   "source": [
    "training_file ='/u/ki/swmclau2/des/Aemulators/vdf_hsab_box0/PearceHSABPVDFBox0.hdf5'\n",
    "test_file = '/u/ki/swmclau2/des/vdf_hsab_box0_test/PearceHSABPVDF.hdf5'\n",
    "obs='vdf'\n",
    "peaked=True"
   ]
  },
  {
   "cell_type": "code",
   "execution_count": 17,
   "metadata": {
    "collapsed": true
   },
   "outputs": [],
   "source": [
    "fixed_params = {'z':0.0, 'cosmo':0}"
   ]
  },
  {
   "cell_type": "code",
   "execution_count": 18,
   "metadata": {
    "collapsed": true
   },
   "outputs": [],
   "source": [
    "fiducial_hod = {'sigma_logM':0.2, 'logM0': 13.0, 'logM1': 14.0,\n",
    "                'alpha':1.0,'conc_gal_bias': 1.0,\\\n",
    "                'mean_occupation_centrals_assembias_param1': 0.0,\n",
    "               'mean_occupation_satellites_assembias_param1': 0.0}"
   ]
  },
  {
   "cell_type": "code",
   "execution_count": 19,
   "metadata": {
    "collapsed": false
   },
   "outputs": [],
   "source": [
    "np.random.seed(0)\n",
    "emu = LemonPepperWet(training_file,# hyperparams=hyperparams,\\\n",
    "                     fixed_params = fixed_params,\\\n",
    "                     downsample_factor = 1.0 )"
   ]
  },
  {
   "cell_type": "code",
   "execution_count": 20,
   "metadata": {
    "collapsed": true
   },
   "outputs": [],
   "source": [
    "pnames = emu.get_param_names()\n",
    "pbounds = [emu.get_param_bounds(p) for p in pnames]"
   ]
  },
  {
   "cell_type": "code",
   "execution_count": 21,
   "metadata": {
    "collapsed": false
   },
   "outputs": [
    {
     "data": {
      "text/plain": [
       "['mean_occupation_centrals_assembias_param1',\n",
       " 'logM0',\n",
       " 'sigma_logM',\n",
       " 'mean_occupation_satellites_assembias_param1',\n",
       " 'logM1',\n",
       " 'alpha',\n",
       " 'conc_gal_bias']"
      ]
     },
     "execution_count": 21,
     "metadata": {},
     "output_type": "execute_result"
    }
   ],
   "source": [
    "pnames"
   ]
  },
  {
   "cell_type": "code",
   "execution_count": 22,
   "metadata": {
    "collapsed": true
   },
   "outputs": [],
   "source": [
    "from pearce.mocks.kittens import TrainingBox"
   ]
  },
  {
   "cell_type": "code",
   "execution_count": 23,
   "metadata": {
    "collapsed": false
   },
   "outputs": [],
   "source": [
    "cat = TrainingBox(0, system='ki-ls')"
   ]
  },
  {
   "cell_type": "code",
   "execution_count": 24,
   "metadata": {
    "collapsed": true
   },
   "outputs": [],
   "source": [
    "cat.load(1.0, HOD='hsabZheng07')"
   ]
  },
  {
   "cell_type": "code",
   "execution_count": 25,
   "metadata": {
    "collapsed": true
   },
   "outputs": [],
   "source": [
    "from scipy.optimize import minimize_scalar\n",
    "def add_logMmin(hod_params, cat):\n",
    "\n",
    "    hod_params['logMmin'] = 13.0 #initial guess\n",
    "    #cat.populate(hod_params) #may be overkill, but will ensure params are written everywhere\n",
    "    def func(logMmin, hod_params):\n",
    "        hod_params.update({'logMmin':logMmin})\n",
    "        return (cat.calc_analytic_nd(hod_params, min_ptcl=100) - 5e-4)**2\n",
    "\n",
    "    res = minimize_scalar(func, bounds = (12,15), args = (hod_params,), options = {'maxiter':100}, method = 'Bounded')\n",
    "\n",
    "    # assuming this doens't fail\n",
    "    print 'logMmin', res.x\n",
    "    hod_params['logMmin'] = res.x\n"
   ]
  },
  {
   "cell_type": "code",
   "execution_count": 26,
   "metadata": {
    "collapsed": false
   },
   "outputs": [
    {
     "name": "stdout",
     "output_type": "stream",
     "text": [
      "logMmin 13.205627959576999\n"
     ]
    }
   ],
   "source": [
    "add_logMmin(fiducial_hod, cat)"
   ]
  },
  {
   "cell_type": "code",
   "execution_count": 27,
   "metadata": {
    "collapsed": true
   },
   "outputs": [],
   "source": [
    "r_bins = np.logspace(-0.3, 2.0, 21)"
   ]
  },
  {
   "cell_type": "code",
   "execution_count": 28,
   "metadata": {
    "collapsed": false
   },
   "outputs": [],
   "source": [
    "def calc_vdf_n_times(N, hod, n_ran=1e6):\n",
    "#N = 5\n",
    "    vals = np.zeros((N, len(r_bins)-1))\n",
    "\n",
    "    for i in xrange(N):\n",
    "        #print i\n",
    "        cat.populate(hod)\n",
    "\n",
    "        vals[i] = cat.calc_vdf(r_bins, n_ran=n_ran)\n",
    "        \n",
    "    return vals"
   ]
  },
  {
   "cell_type": "code",
   "execution_count": 29,
   "metadata": {
    "collapsed": false
   },
   "outputs": [],
   "source": [
    "def calc_xi_n_times(N, hod):\n",
    "#N = 5\n",
    "    vals = np.zeros((N, len(r_bins)-1))\n",
    "\n",
    "    for i in xrange(N):\n",
    "        #print i\n",
    "        cat.populate(hod)\n",
    "\n",
    "        vals[i] = cat.calc_xi(r_bins)#, n_ran=n_ran)\n",
    "        \n",
    "    return vals"
   ]
  },
  {
   "cell_type": "code",
   "execution_count": 39,
   "metadata": {
    "collapsed": true
   },
   "outputs": [],
   "source": [
    "N = 100"
   ]
  },
  {
   "cell_type": "code",
   "execution_count": 40,
   "metadata": {
    "collapsed": false
   },
   "outputs": [
    {
     "name": "stdout",
     "output_type": "stream",
     "text": [
      "477.390314102 826.992179871\n"
     ]
    }
   ],
   "source": [
    "from time import time\n",
    "t0 = time()\n",
    "vdf_vals= calc_vdf_n_times(N, fiducial_hod)\n",
    "t1 = time()\n",
    "xi_vals = calc_xi_n_times(N, fiducial_hod)\n",
    "t2 = time()\n",
    "print t1-t0, t2-t1"
   ]
  },
  {
   "cell_type": "code",
   "execution_count": 41,
   "metadata": {
    "collapsed": false
   },
   "outputs": [
    {
     "name": "stdout",
     "output_type": "stream",
     "text": [
      "477.390314102\n"
     ]
    }
   ],
   "source": [
    "print t1- t0"
   ]
  },
  {
   "cell_type": "code",
   "execution_count": 42,
   "metadata": {
    "collapsed": false
   },
   "outputs": [],
   "source": [
    "vdf_covmat = np.cov(vdf_vals, rowvar=False)\n",
    "vdf_covmat[vdf_covmat==0] = 1e-12\n",
    "vdf_covmat+=np.diag(np.ones(vdf_covmat.shape[0])*1e-12)"
   ]
  },
  {
   "cell_type": "code",
   "execution_count": 43,
   "metadata": {
    "collapsed": true
   },
   "outputs": [],
   "source": [
    "xi_covmat = np.cov(xi_vals, rowvar=False)\n",
    "#vdf_covmat[covmat==0] = 1e-12\n",
    "xi_covmat+=np.diag(np.ones(xi_covmat.shape[0])*1e-12)"
   ]
  },
  {
   "cell_type": "code",
   "execution_count": 44,
   "metadata": {
    "collapsed": false
   },
   "outputs": [
    {
     "data": {
      "image/png": "[encoded data removed]",
      "text/plain": [
       "<matplotlib.figure.Figure at 0x7f11e96ae750>"
      ]
     },
     "metadata": {},
     "output_type": "display_data"
    }
   ],
   "source": [
    "plt.plot(np.sqrt(np.diag(xi_covmat))/np.mean(xi_vals, axis=0))\n",
    "plt.plot(np.sqrt(np.diag(vdf_covmat))/np.mean(vdf_vals, axis=0))\n",
    "\n",
    "plt.xscale('log')"
   ]
  },
  {
   "cell_type": "code",
   "execution_count": 45,
   "metadata": {
    "collapsed": true
   },
   "outputs": [],
   "source": [
    "def cov_to_corr(cov):\n",
    "    std = np.sqrt(np.diag(cov))\n",
    "    denom = np.outer(std, std)\n",
    "    return cov/denom"
   ]
  },
  {
   "cell_type": "code",
   "execution_count": 46,
   "metadata": {
    "collapsed": false
   },
   "outputs": [
    {
     "data": {
      "text/plain": [
       "<matplotlib.image.AxesImage at 0x7f11ad96bd50>"
      ]
     },
     "execution_count": 46,
     "metadata": {},
     "output_type": "execute_result"
    },
    {
     "data": {
      "image/png": "[encoded data removed]",
      "text/plain": [
       "<matplotlib.figure.Figure at 0x7f11e96300d0>"
      ]
     },
     "metadata": {},
     "output_type": "display_data"
    }
   ],
   "source": [
    "plt.imshow(cov_to_corr(vdf_covmat))"
   ]
  },
  {
   "cell_type": "code",
   "execution_count": 47,
   "metadata": {
    "collapsed": false
   },
   "outputs": [
    {
     "data": {
      "text/plain": [
       "<matplotlib.image.AxesImage at 0x7f11ad891ad0>"
      ]
     },
     "execution_count": 47,
     "metadata": {},
     "output_type": "execute_result"
    },
    {
     "data": {
      "image/png": "[encoded data removed]",
      "text/plain": [
       "<matplotlib.figure.Figure at 0x7f11ad9131d0>"
      ]
     },
     "metadata": {},
     "output_type": "display_data"
    }
   ],
   "source": [
    "plt.imshow(cov_to_corr(xi_covmat))"
   ]
  },
  {
   "cell_type": "code",
   "execution_count": null,
   "metadata": {
    "collapsed": true
   },
   "outputs": [],
   "source": []
  },
  {
   "cell_type": "code",
   "execution_count": 26,
   "metadata": {
    "collapsed": false
   },
   "outputs": [],
   "source": [
    "inv_vdf_covmat = inv(vdf_covmat)\n",
    "inv_xi_covmat = inv(xi_covmat)"
   ]
  },
  {
   "cell_type": "code",
   "execution_count": 27,
   "metadata": {
    "collapsed": false
   },
   "outputs": [
    {
     "data": {
      "text/plain": [
       "<matplotlib.image.AxesImage at 0x7f990f611150>"
      ]
     },
     "execution_count": 27,
     "metadata": {},
     "output_type": "execute_result"
    },
    {
     "data": {
      "image/png": "[encoded data removed]",
      "text/plain": [
       "<matplotlib.figure.Figure at 0x7f991287fad0>"
      ]
     },
     "metadata": {},
     "output_type": "display_data"
    }
   ],
   "source": [
    "plt.imshow(cov_to_corr(inv_vdf_covmat))"
   ]
  },
  {
   "cell_type": "code",
   "execution_count": 28,
   "metadata": {
    "collapsed": false
   },
   "outputs": [
    {
     "data": {
      "text/plain": [
       "<matplotlib.image.AxesImage at 0x7f990f53fdd0>"
      ]
     },
     "execution_count": 28,
     "metadata": {},
     "output_type": "execute_result"
    },
    {
     "data": {
      "image/png": "[encoded data removed]",
      "text/plain": [
       "<matplotlib.figure.Figure at 0x7f990f6201d0>"
      ]
     },
     "metadata": {},
     "output_type": "display_data"
    }
   ],
   "source": [
    "plt.imshow(cov_to_corr(inv_xi_covmat))"
   ]
  },
  {
   "cell_type": "code",
   "execution_count": 29,
   "metadata": {
    "collapsed": false
   },
   "outputs": [
    {
     "name": "stdout",
     "output_type": "stream",
     "text": [
      "mean_occupation_centrals_assembias_param1\n",
      "logM0\n",
      "sigma_logM\n",
      "mean_occupation_satellites_assembias_param1\n",
      "logM1\n",
      "alpha\n",
      "conc_gal_bias\n"
     ]
    }
   ],
   "source": [
    "fd_vdf_vals = np.zeros((len(pnames), 2, N, len(r_bins)-1))\n",
    "fd_xi_vals = np.zeros((len(pnames), 2, N, len(r_bins)-1))\n",
    "\n",
    "step_sizes = np.zeros((len(pnames), ))\n",
    "for i, (name, bound) in enumerate(zip(pnames, pbounds)):\n",
    "    hod = deepcopy(fiducial_hod)\n",
    "    step_size = (bound[1]-bound[0])/10\n",
    "    vals = (hod[name]-step_size, hod[name]+step_size)\n",
    "    print name#, step_size\n",
    "    step_sizes[i] = step_size\n",
    "    for j,v in enumerate(vals):\n",
    "        hod[name]=v\n",
    "        out = calc_vdf_n_times(N, hod)\n",
    "        \n",
    "        fd_vdf_vals[i,j] = out\n",
    "        \n",
    "        out = calc_xi_n_times(N, hod)\n",
    "        \n",
    "        fd_xi_vals[i,j] = out"
   ]
  },
  {
   "cell_type": "code",
   "execution_count": 11,
   "metadata": {
    "collapsed": false
   },
   "outputs": [
    {
     "data": {
      "text/plain": [
       "[(-1.0, 1.0),\n",
       " (12.6, 13.6),\n",
       " (0.05, 0.5),\n",
       " (-1.0, 1.0),\n",
       " (13.7, 14.7),\n",
       " (0.7, 1.3),\n",
       " (0.5, 2.0)]"
      ]
     },
     "execution_count": 11,
     "metadata": {},
     "output_type": "execute_result"
    }
   ],
   "source": [
    "pbounds"
   ]
  },
  {
   "cell_type": "code",
   "execution_count": 30,
   "metadata": {
    "collapsed": true
   },
   "outputs": [],
   "source": [
    "def deriv(fd_vals, step_sizes):\n",
    "    avg_vals = fd_vals.mean(axis=2)\n",
    "    deriv = (avg_vals[:, 1] - avg_vals[:,0]).T/(2*step_sizes)\n",
    "    return deriv.T"
   ]
  },
  {
   "cell_type": "code",
   "execution_count": 31,
   "metadata": {
    "collapsed": false
   },
   "outputs": [],
   "source": [
    "d_vdf = deriv(fd_vdf_vals, step_sizes)\n",
    "d_xi = deriv(fd_xi_vals, step_sizes)"
   ]
  },
  {
   "cell_type": "code",
   "execution_count": 12,
   "metadata": {
    "collapsed": false
   },
   "outputs": [
    {
     "data": {
      "text/plain": [
       "array([ 0.57715889,  0.7521343 ,  0.98015643,  1.27730729,  1.66454443,\n",
       "        2.16917901,  2.82680202,  3.68379447,  4.80059857,  6.25598058,\n",
       "        8.15258606, 10.62417931, 13.84507753, 18.04244507, 23.51231502,\n",
       "       30.64046783, 39.92963975, 52.03497999, 67.81025724, 88.36807447])"
      ]
     },
     "execution_count": 12,
     "metadata": {},
     "output_type": "execute_result"
    }
   ],
   "source": [
    "emu.scale_bin_centers"
   ]
  },
  {
   "cell_type": "code",
   "execution_count": 32,
   "metadata": {
    "collapsed": false
   },
   "outputs": [
    {
     "data": {
      "image/png": "[encoded data removed]",
      "text/plain": [
       "<matplotlib.figure.Figure at 0x7f983426bf50>"
      ]
     },
     "metadata": {},
     "output_type": "display_data"
    }
   ],
   "source": [
    "for i, name in enumerate(pnames):\n",
    "    plt.plot(emu.scale_bin_centers, d_vdf[i], label = name)\n",
    "plt.legend(loc='best')\n",
    "plt.xscale('log')"
   ]
  },
  {
   "cell_type": "code",
   "execution_count": 33,
   "metadata": {
    "collapsed": false
   },
   "outputs": [
    {
     "data": {
      "image/png": "[encoded data removed]",
      "text/plain": [
       "<matplotlib.figure.Figure at 0x7f982fc450d0>"
      ]
     },
     "metadata": {},
     "output_type": "display_data"
    }
   ],
   "source": [
    "for i, name in enumerate(pnames):\n",
    "    plt.plot(emu.scale_bin_centers, d_xi[i], label = name)\n",
    "plt.legend(loc='best')\n",
    "plt.xscale('log')"
   ]
  },
  {
   "cell_type": "code",
   "execution_count": 34,
   "metadata": {
    "collapsed": false
   },
   "outputs": [],
   "source": [
    "vdf_fischer_mat = np.dot(d_vdf, np.dot(inv_vdf_covmat, d_vdf.T))\n",
    "xi_fischer_mat = np.dot(d_xi, np.dot(inv_xi_covmat, d_xi.T))"
   ]
  },
  {
   "cell_type": "code",
   "execution_count": 35,
   "metadata": {
    "collapsed": true
   },
   "outputs": [],
   "source": [
    "vdf_info_mat = inv(vdf_fischer_mat)\n",
    "xi_info_mat = inv(xi_fischer_mat)"
   ]
  },
  {
   "cell_type": "raw",
   "metadata": {},
   "source": [
    "plt.imshow(cov_to_corr(info_mat))"
   ]
  },
  {
   "cell_type": "code",
   "execution_count": 46,
   "metadata": {
    "collapsed": true
   },
   "outputs": [],
   "source": [
    "from matplotlib.patches import Ellipse\n",
    "def ellipse_plot(inv_fisher, mean_x, mean_y, xname, yname, fig, ax, co):\n",
    "    #alpha paramaters for 1 and 2 sigma contours\n",
    "    alpha1 = 1.52\n",
    "    alpha2 = 2.48\n",
    "    #extracting relevant params from the input inverse fisher matrix\n",
    "    sigma_x2 = inv_fisher[0][0]\n",
    "    sigma_y2 = inv_fisher[1][1]\n",
    "    sigma_xy = inv_fisher[0][1]\n",
    "    #building a^2 and b^2 for the ellipse\n",
    "    a2 = (sigma_x2 + sigma_y2)/2. + np.sqrt((sigma_x2 - sigma_y2)**2/4. + sigma_xy**2)\n",
    "    b2 = (sigma_x2 + sigma_y2)/2. - np.sqrt((sigma_x2 - sigma_y2)**2/4. + sigma_xy**2)\n",
    "    #print a2, b2\n",
    "    #tilt angle\n",
    "    tan2theta = 2.*(sigma_xy)/(sigma_x2 - sigma_y2)\n",
    "    ang = -0.5*np.arctan(tan2theta)\n",
    "    #print ang\n",
    "    #plotting 1 and 2 sigma contours\n",
    "    ell = Ellipse(xy = [mean_x, mean_y], height = alpha1*np.sqrt(a2), width = alpha1*np.sqrt(b2), angle = np.degrees(ang), alpha=0.5, fill=True, color=co)\n",
    "    ell2 = Ellipse(xy = [mean_x, mean_y], height = alpha2*np.sqrt(a2), width = alpha2*np.sqrt(b2), angle = np.degrees(ang), alpha=0.35, fill=True,  color=co)\n",
    "    #adding patches, axis names, etc\n",
    "    ax.add_patch(ell)\n",
    "    ax.add_patch(ell2)\n",
    "    #ax.set_aspect('equal')\n",
    "    ax.autoscale()\n",
    "    ax.set_xlabel(xname)\n",
    "    ax.set_ylabel(yname)"
   ]
  },
  {
   "cell_type": "code",
   "execution_count": 1,
   "metadata": {
    "collapsed": false
   },
   "outputs": [
    {
     "ename": "NameError",
     "evalue": "name 'pnames' is not defined",
     "output_type": "error",
     "traceback": [
      "\u001b[1;31m---------------------------------------------------------------------------\u001b[0m",
      "\u001b[1;31mNameError\u001b[0m                                 Traceback (most recent call last)",
      "\u001b[1;32m<ipython-input-1-8db026f33769>\u001b[0m in \u001b[0;36m<module>\u001b[1;34m()\u001b[0m\n\u001b[1;32m----> 1\u001b[1;33m \u001b[0msize\u001b[0m \u001b[1;33m=\u001b[0m \u001b[0mlen\u001b[0m\u001b[1;33m(\u001b[0m\u001b[0mpnames\u001b[0m\u001b[1;33m)\u001b[0m\u001b[1;33m*\u001b[0m\u001b[1;36m3\u001b[0m\u001b[1;33m\u001b[0m\u001b[0m\n\u001b[0m\u001b[0;32m      2\u001b[0m \u001b[0mfig\u001b[0m\u001b[1;33m,\u001b[0m \u001b[0maxes\u001b[0m \u001b[1;33m=\u001b[0m \u001b[0mplt\u001b[0m\u001b[1;33m.\u001b[0m\u001b[0msubplots\u001b[0m\u001b[1;33m(\u001b[0m\u001b[0mncols\u001b[0m\u001b[1;33m=\u001b[0m\u001b[0mlen\u001b[0m\u001b[1;33m(\u001b[0m\u001b[0mpnames\u001b[0m\u001b[1;33m)\u001b[0m\u001b[1;33m-\u001b[0m\u001b[1;36m1\u001b[0m\u001b[1;33m,\u001b[0m \u001b[0mnrows\u001b[0m\u001b[1;33m=\u001b[0m\u001b[0mlen\u001b[0m\u001b[1;33m(\u001b[0m\u001b[0mpnames\u001b[0m\u001b[1;33m)\u001b[0m\u001b[1;33m-\u001b[0m\u001b[1;36m1\u001b[0m\u001b[1;33m,\u001b[0m \u001b[0mfigsize\u001b[0m\u001b[1;33m=\u001b[0m\u001b[1;33m(\u001b[0m\u001b[1;33m(\u001b[0m\u001b[0msize\u001b[0m\u001b[1;33m,\u001b[0m\u001b[0msize\u001b[0m\u001b[1;33m)\u001b[0m\u001b[1;33m)\u001b[0m\u001b[1;33m)\u001b[0m\u001b[1;33m\u001b[0m\u001b[0m\n\u001b[0;32m      3\u001b[0m \u001b[0mbool_slice\u001b[0m \u001b[1;33m=\u001b[0m \u001b[0mnp\u001b[0m\u001b[1;33m.\u001b[0m\u001b[0mzeros_like\u001b[0m\u001b[1;33m(\u001b[0m\u001b[0mxi_info_mat\u001b[0m\u001b[1;33m)\u001b[0m\u001b[1;33m.\u001b[0m\u001b[0mastype\u001b[0m\u001b[1;33m(\u001b[0m\u001b[0mbool\u001b[0m\u001b[1;33m)\u001b[0m\u001b[1;33m\u001b[0m\u001b[0m\n\u001b[0;32m      4\u001b[0m \u001b[1;33m\u001b[0m\u001b[0m\n\u001b[0;32m      5\u001b[0m \u001b[1;32mfor\u001b[0m \u001b[0mi\u001b[0m\u001b[1;33m,\u001b[0m \u001b[0mname1\u001b[0m \u001b[1;32min\u001b[0m \u001b[0menumerate\u001b[0m\u001b[1;33m(\u001b[0m\u001b[0mpnames\u001b[0m\u001b[1;33m)\u001b[0m\u001b[1;33m:\u001b[0m\u001b[1;33m\u001b[0m\u001b[0m\n",
      "\u001b[1;31mNameError\u001b[0m: name 'pnames' is not defined"
     ]
    }
   ],
   "source": [
    "size = len(pnames)*3\n",
    "fig, axes = plt.subplots(ncols=len(pnames)-1, nrows=len(pnames)-1, figsize=((size,size)))\n",
    "bool_slice = np.zeros_like(xi_info_mat).astype(bool)\n",
    "\n",
    "for i, name1 in enumerate(pnames):\n",
    "\n",
    "    for j, name2 in enumerate(pnames[:i]):\n",
    "        ellipse_plot(vdf_info_mat[np.ix_([i,j],[i,j])], fiducial_hod[name1], fiducial_hod[name2], name1, name2, fig, axes[j][i-1], co = 'b')\n",
    "        ellipse_plot(1e6*xi_info_mat[np.ix_([i,j],[i,j])], fiducial_hod[name1], fiducial_hod[name2], name1, name2, fig, axes[j][i-1], co = 'r')\n"
   ]
  },
  {
   "cell_type": "code",
   "execution_count": null,
   "metadata": {
    "collapsed": true
   },
   "outputs": [],
   "source": [
    "\n",
    "\n",
    "\n"
   ]
  },
  {
   "cell_type": "code",
   "execution_count": null,
   "metadata": {
    "collapsed": true
   },
   "outputs": [],
   "source": []
  }
 ],
 "metadata": {
  "kernelspec": {
   "display_name": "Python [default]",
   "language": "python",
   "name": "python2"
  },
  "language_info": {
   "codemirror_mode": {
    "name": "ipython",
    "version": 2
   },
   "file_extension": ".py",
   "mimetype": "text/x-python",
   "name": "python",
   "nbconvert_exporter": "python",
   "pygments_lexer": "ipython2",
   "version": "2.7.13"
  }
 },
 "nbformat": 4,
 "nbformat_minor": 2
}

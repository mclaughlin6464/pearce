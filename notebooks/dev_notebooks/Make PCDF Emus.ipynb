{
 "cells": [
  {
   "cell_type": "markdown",
   "metadata": {},
   "source": [
    "I'm going to try converting the CDF emulators into pCDF emulators to see if that form lends itself to better emulatin. "
   ]
  },
  {
   "cell_type": "code",
   "execution_count": 1,
   "metadata": {
    "collapsed": true
   },
   "outputs": [],
   "source": [
    "import h5py\n",
    "import numpy as np"
   ]
  },
  {
   "cell_type": "code",
   "execution_count": 2,
   "metadata": {
    "collapsed": true
   },
   "outputs": [],
   "source": [
    "def peak_cdf(cdf):\n",
    "    out = np.zeros_like(cdf)\n",
    "    lt_half = cdf<0.5\n",
    "    out[lt_half] = cdf[lt_half]\n",
    "    out[~lt_half] = 1 - cdf[~lt_half]\n",
    "    return out"
   ]
  },
  {
   "cell_type": "raw",
   "metadata": {
    "collapsed": true
   },
   "source": [
    "fname = '/u/ki/swmclau2/des/Aemulators/knn_{k}_cdf_hsab/PearceKNN{k}CDFHSABCosmo.hdf5'\n",
    "new_fname = '/u/ki/swmclau2/des/Aemulators/knn_{k}_cdf_hsab/PearceKNN{k}pCDFHSABCosmo.hdf5'"
   ]
  },
  {
   "cell_type": "code",
   "execution_count": 5,
   "metadata": {
    "collapsed": true
   },
   "outputs": [],
   "source": [
    "fname = '/u/ki/swmclau2/des/Aemulators/knn_{k}_cdf_hsab_test/PearceKNN{k}CDFHSABCosmoTest.hdf5'\n",
    "new_fname = '/u/ki/swmclau2/des/Aemulators/knn_{k}_cdf_hsab_test/PearceKNN{k}pCDFHSABCosmoTest.hdf5'"
   ]
  },
  {
   "cell_type": "code",
   "execution_count": 6,
   "metadata": {
    "collapsed": false
   },
   "outputs": [
    {
     "name": "stdout",
     "output_type": "stream",
     "text": [
      "1\n",
      "2\n",
      "4\n",
      "8\n"
     ]
    },
    {
     "name": "stderr",
     "output_type": "stream",
     "text": [
      "/afs/slac.stanford.edu/u/ki/swmclau2/.local/lib/python2.7/site-packages/ipykernel/__main__.py:11: RuntimeWarning: divide by zero encountered in log10\n"
     ]
    }
   ],
   "source": [
    "for k in [1,2,4,8]:\n",
    "    print k\n",
    "    with h5py.File(fname.format(k=k), 'r') as f, h5py.File(new_fname.format(k=k), 'w') as nf:\n",
    "        for key in f.attrs:\n",
    "            nf.attrs[key] = f.attrs[key]\n",
    "            \n",
    "        for key in f:\n",
    "            cdf =  10**f[key]['a_1.000']['obs'][()]\n",
    "            pcdf = peak_cdf(cdf)\n",
    "            grp = nf.create_group(key+'/a_1.000/')\n",
    "            obs_dset = grp.create_dataset('obs', data = np.log10(pcdf), compression='gzip')\n",
    "            cov_dset = grp.create_dataset('cov', data = f[key]['a_1.000']['cov'][()], compression='gzip')\n"
   ]
  },
  {
   "cell_type": "code",
   "execution_count": null,
   "metadata": {
    "collapsed": true
   },
   "outputs": [],
   "source": []
  }
 ],
 "metadata": {
  "kernelspec": {
   "display_name": "Python [conda env:hodemulator]",
   "language": "python",
   "name": "conda-env-hodemulator-py"
  },
  "language_info": {
   "codemirror_mode": {
    "name": "ipython",
    "version": 2
   },
   "file_extension": ".py",
   "mimetype": "text/x-python",
   "name": "python",
   "nbconvert_exporter": "python",
   "pygments_lexer": "ipython2",
   "version": "2.7.13"
  }
 },
 "nbformat": 4,
 "nbformat_minor": 0
}

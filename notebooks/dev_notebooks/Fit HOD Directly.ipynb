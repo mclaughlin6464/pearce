{
 "cells": [
  {
   "cell_type": "code",
   "execution_count": 407,
   "metadata": {
    "collapsed": false
   },
   "outputs": [],
   "source": [
    "from itertools import izip\n",
    "from time import time\n",
    "import numpy as np\n",
    "import astropy\n",
    "from pearce.mocks.customHODModels import *\n",
    "from pearce.mocks import cat_dict\n",
    "from scipy.optimize import minimize"
   ]
  },
  {
   "cell_type": "code",
   "execution_count": 408,
   "metadata": {
    "collapsed": true
   },
   "outputs": [],
   "source": [
    "from SloppyJoes import lazy_wrapper"
   ]
  },
  {
   "cell_type": "code",
   "execution_count": 409,
   "metadata": {
    "collapsed": true
   },
   "outputs": [],
   "source": [
    "from matplotlib import pyplot as plt\n",
    "%matplotlib inline\n",
    "import seaborn as sns\n",
    "sns.set()"
   ]
  },
  {
   "cell_type": "code",
   "execution_count": 410,
   "metadata": {
    "collapsed": true
   },
   "outputs": [],
   "source": [
    "AB = True"
   ]
  },
  {
   "cell_type": "code",
   "execution_count": 411,
   "metadata": {
    "collapsed": false
   },
   "outputs": [],
   "source": [
    "PRIORS = {'f_c': (0, 1),\n",
    "          'alpha': (0, 2),\n",
    "          'logMmin':(10,16),\n",
    "          'logM1': (10, 16),\n",
    "          'logM0': (9,16),\n",
    "          'sigma_logM': (0.1, 1.5),\n",
    "          'logMcut': (9,15),\n",
    "          'logMlin':(9,15),\n",
    "          'f_cen': (0.0,1.0)}\n",
    "\n",
    "_cens_model = RedMagicCens\n",
    "cens_model = _cens_model(z = 0.0)\n",
    "#cens_model = AssembiasReddick14Cens()\n",
    "_sats_model = RedMagicSats\n",
    "#sats_model = AssembiasReddick14Sats()\n",
    "\n",
    "cosmo_params = {'simname':'chinchilla', 'Lbox':400.0, 'scale_factors':[0.658, 1.0]}\n",
    "\n",
    "cat = cat_dict[cosmo_params['simname']](**cosmo_params)#construct the specified catalog!\n",
    "\n",
    "cat.load(1.0, HOD=(_cens_model, _sats_model), hod_kwargs = {'cenocc_model': cens_model})\n",
    "\n",
    "LBOX = 400.0\n",
    "\n",
    "#sats_model.modulate_with_cenocc = False"
   ]
  },
  {
   "cell_type": "code",
   "execution_count": 412,
   "metadata": {
    "collapsed": false
   },
   "outputs": [
    {
     "data": {
      "text/plain": [
       "OrderedDict([('centrals_occupation',\n",
       "              <pearce.mocks.customHODModels.RedMagicCens at 0x7f55d0165c50>),\n",
       "             ('satellites_occupation',\n",
       "              <pearce.mocks.customHODModels.RedMagicSats at 0x7f55d0165710>),\n",
       "             ('centrals_profile',\n",
       "              <halotools.empirical_models.phase_space_models.analytic_models.centrals.trivial_phase_space.TrivialPhaseSpace at 0x7f55d0165910>),\n",
       "             ('satellites_profile',\n",
       "              <halotools.empirical_models.phase_space_models.analytic_models.satellites.nfw.nfw_phase_space.NFWPhaseSpace at 0x7f55d01654d0>)])"
      ]
     },
     "execution_count": 412,
     "metadata": {},
     "output_type": "execute_result"
    }
   ],
   "source": [
    "cat.model.model_dictionary"
   ]
  },
  {
   "cell_type": "code",
   "execution_count": 413,
   "metadata": {
    "collapsed": true
   },
   "outputs": [],
   "source": [
    "cens_model = cat.model.model_dictionary['centrals_occupation']\n",
    "sats_model = cat.model.model_dictionary['satellites_occupation']"
   ]
  },
  {
   "cell_type": "code",
   "execution_count": 414,
   "metadata": {
    "collapsed": false
   },
   "outputs": [],
   "source": [
    "def liklihood(theta,params,cens_occ, sats_occ,mbc):\n",
    "      \n",
    "    cens_model.param_dict['f_c'] = 1.0\n",
    "    sats_model.param_dict['f_c'] = 1.0\n",
    "    cat.model.param_dict['f_c'] = 1.0\n",
    "    cens_model.param_dict.update({p:x for p, x in izip(params, theta)})\n",
    "    sats_model.param_dict.update({p:x for p, x in izip(params, theta)})\n",
    "    cat.model.param_dict.update({p:x for p, x in izip(params, theta)})\n",
    "\n",
    "    cens_preds = cens_model.mean_occupation(prim_haloprop = mbc)\n",
    "    sats_preds = sats_model.mean_occupation(prim_haloprop = mbc)\n",
    "\n",
    "    #Weird edge cases can occur?\n",
    "    #cens_preds[cens_preds < 1e-9] = 0\n",
    "    #sats_preds[sats_preds < 1e-9] = 0\n",
    "    \n",
    "    mf = cat.calc_mf(mass_bin_range = (11, 15.5), mass_bin_size=0.1)\n",
    "    \n",
    "    \n",
    "    cens_vars = cens_preds*(1-cens_preds)*mf\n",
    "    cens_vars[cens_vars < 1e-6] = 1e-6\n",
    "    sats_vars = sats_preds*mf\n",
    "    sats_vars[sats_vars< 1e-6] = 1e-6\n",
    "\n",
    "    Ngal_pred = np.sum((cens_preds+sats_preds)*mf)\n",
    "    Ngal_obs = np.sum((cens_occ+sats_occ)*mf)\n",
    "    \n",
    "    #print cens_preds\n",
    "    #print cens_occ\n",
    "    \n",
    "    #print ((cens_preds-cens_occ)**2)/cens_vars\n",
    "    \n",
    "    chi2 = np.sum(((np.log10(cens_preds)-np.log10(cens_occ))**2)/np.log10(cens_vars))\n",
    "    chi2+= np.sum(((np.log10(sats_preds)-np.log10(sats_occ))**2)/np.log10(sats_vars))\n",
    "    chi2+= ((Ngal_pred-Ngal_obs)**2)/Ngal_obs\n",
    "         \n",
    "    return chi2"
   ]
  },
  {
   "cell_type": "raw",
   "metadata": {},
   "source": [
    "# plt.plot(mbc, sat_hod)\n",
    "plt.loglog();\n",
    "#plt.ylim(1e-5, 1.2)"
   ]
  },
  {
   "cell_type": "code",
   "execution_count": 415,
   "metadata": {
    "collapsed": false
   },
   "outputs": [],
   "source": [
    "catalog = astropy.table.Table.read('/u/ki/swmclau2/des/AB_tests/abmatched_halos.hdf5', format = 'hdf5')"
   ]
  },
  {
   "cell_type": "code",
   "execution_count": 416,
   "metadata": {
    "collapsed": false
   },
   "outputs": [],
   "source": [
    "mag_cut = -21\n",
    "min_ptcl = 200\n",
    "if AB:\n",
    "    catalog = catalog[np.logical_and(catalog['halo_mvir'] > min_ptcl*cat.pmass, catalog['halo_vpeak_mag'] <=mag_cut)]\n",
    "else:\n",
    "    catalog = catalog[np.logical_and(catalog['halo_mvir'] > min_ptcl*cat.pmass, catalog['halo_vvir_mag'] <=mag_cut)]"
   ]
  },
  {
   "cell_type": "code",
   "execution_count": 417,
   "metadata": {
    "collapsed": false
   },
   "outputs": [],
   "source": [
    "if not AB:\n",
    "    pass\n",
    "else:\n",
    "    MAP = np.array([ 12.87956269,  12.24461447,   0.5345765,   13.98105124,   1.04527197])\n",
    "       \n",
    "['$\\\\log{M_{min}}$', '$\\\\log{M_0}$', '$\\\\sigma_{log{M}}$', '$\\\\log{M_1}$', '$\\\\alpha$']\n",
    "\n",
    "names = ['logMmin', 'logM0', 'sigma_logM',  'logM1', 'alpha']\n",
    "hod_params = dict(zip(names, MAP))"
   ]
  },
  {
   "cell_type": "code",
   "execution_count": 418,
   "metadata": {
    "collapsed": true
   },
   "outputs": [],
   "source": [
    "ab_params = {'mean_occupation_centrals_assembias_param1':0.4, 'mean_occupation_satellites_assembias_slope1':3,\\\n",
    "             'mean_occupation_satellites_assembias_param1':-0.5, 'mean_occupation_centrals_assembias_slope1':3,}"
   ]
  },
  {
   "cell_type": "code",
   "execution_count": 419,
   "metadata": {
    "collapsed": false
   },
   "outputs": [],
   "source": [
    "sats_model.param_dict.update(cens_model.param_dict)"
   ]
  },
  {
   "cell_type": "code",
   "execution_count": 420,
   "metadata": {
    "collapsed": false
   },
   "outputs": [],
   "source": [
    "param_dict = hod_params\n",
    "#param_dict.update(ab_params)\n",
    "cens_model.param_dict.update(param_dict)\n",
    "sats_model.param_dict.update(param_dict)\n",
    "\n",
    "params = sats_model.param_dict.keys()\n",
    "########################\n",
    "params.remove('f_c')\n",
    "#######################3\n",
    "ndim = len(params)"
   ]
  },
  {
   "cell_type": "code",
   "execution_count": 421,
   "metadata": {
    "collapsed": false
   },
   "outputs": [],
   "source": [
    "halo_table = cat.halocat.halo_table[cat.halocat.halo_table['halo_mvir'] > min_ptcl*cat.pmass]"
   ]
  },
  {
   "cell_type": "code",
   "execution_count": 422,
   "metadata": {
    "collapsed": true
   },
   "outputs": [],
   "source": [
    "detected_central_ids = set(catalog[catalog['halo_upid']==-1]['halo_id'])"
   ]
  },
  {
   "cell_type": "code",
   "execution_count": 423,
   "metadata": {
    "collapsed": true
   },
   "outputs": [],
   "source": [
    "from collections import Counter\n",
    "def compute_occupations(halo_table):\n",
    "    #halo_table = cat.halocat.halo_table[cat.halocat.halo_table['halo_mvir'] > min_ptcl*cat.pmass]\n",
    "\n",
    "    cens_occ = np.zeros((np.sum(halo_table['halo_upid'] == -1),))\n",
    "    #cens_occ = np.zeros((len(halo_table),))\n",
    "    sats_occ = np.zeros_like(cens_occ)\n",
    "    detected_central_ids = set(catalog[catalog['halo_upid']==-1]['halo_id'])\n",
    "    detected_satellite_upids = Counter(catalog[catalog['halo_upid']!=-1]['halo_upid'])\n",
    "\n",
    "    for idx, row  in enumerate(halo_table[halo_table['halo_upid'] == -1]):\n",
    "        cens_occ[idx] = 1.0 if row['halo_id'] in detected_central_ids else 0.0\n",
    "        sats_occ[idx]+= detected_satellite_upids[row['halo_id']]\n",
    "\n",
    "    return cens_occ, sats_occ"
   ]
  },
  {
   "cell_type": "code",
   "execution_count": 424,
   "metadata": {
    "collapsed": true
   },
   "outputs": [],
   "source": [
    "from halotools.utils.table_utils import compute_prim_haloprop_bins\n",
    "def compute_hod(masses, centrals, satellites, mass_bins):\n",
    "    mass_bin_idxs = compute_prim_haloprop_bins(prim_haloprop_bin_boundaries=mass_bins, prim_haloprop = masses)\n",
    "    mass_bin_nos = set(mass_bin_idxs)\n",
    "\n",
    "    cens_occ = np.zeros((mass_bins.shape[0]-1,))\n",
    "    sats_occ = np.zeros_like(cens_occ)\n",
    "    for mb in mass_bin_nos:\n",
    "        indices_of_mb = np.where(mass_bin_idxs == mb)[0]\n",
    "        denom = len(indices_of_mb)\n",
    "        #TODO what to do about bout 0 mean std's?\n",
    "        cens_occ[mb-1] = np.mean(centrals[indices_of_mb])\n",
    "        sats_occ[mb-1] = np.mean(satellites[indices_of_mb])\n",
    "    return cens_occ, sats_occ"
   ]
  },
  {
   "cell_type": "code",
   "execution_count": 425,
   "metadata": {
    "collapsed": true
   },
   "outputs": [],
   "source": [
    "mass_bin_range = (11,15.5)\n",
    "mass_bin_size = 0.1\n",
    "mass_bins = np.logspace(mass_bin_range[0], mass_bin_range[1], int( (mass_bin_range[1]-mass_bin_range[0])/mass_bin_size )+1 )\n",
    "mbc = (mass_bins[1:]+mass_bins[:-1])/2"
   ]
  },
  {
   "cell_type": "code",
   "execution_count": 426,
   "metadata": {
    "collapsed": false
   },
   "outputs": [],
   "source": [
    "cens_occ, sats_occ = compute_occupations(halo_table )\n",
    "mock_masses = halo_table[halo_table['halo_upid']==-1]['halo_mvir']\n",
    "#mock_concentrations = halo_table[halo_table['halo_upid']==-1]['halo_nfw_conc']"
   ]
  },
  {
   "cell_type": "raw",
   "metadata": {
    "collapsed": false,
    "scrolled": true
   },
   "source": [
    "from halotools.utils.table_utils import compute_conditional_percentiles\n",
    "mock_percentiles = compute_conditional_percentiles(prim_haloprop = mock_masses, sec_haloprop = mock_concentrations,\n",
    "                                              prim_haloprop_bin_boundaries= mass_bins)\n",
    "\n",
    "splits = np.arange(0,1.1,0.2)"
   ]
  },
  {
   "cell_type": "code",
   "execution_count": 427,
   "metadata": {
    "collapsed": true
   },
   "outputs": [],
   "source": [
    "cen_hod, sat_hod = compute_hod(mock_masses, cens_occ, sats_occ, mass_bins)"
   ]
  },
  {
   "cell_type": "code",
   "execution_count": 428,
   "metadata": {
    "collapsed": false
   },
   "outputs": [
    {
     "data": {
      "text/plain": [
       "['logM0', 'sigma_logM', 'logMmin', 'alpha', 'logM1']"
      ]
     },
     "execution_count": 428,
     "metadata": {},
     "output_type": "execute_result"
    }
   ],
   "source": [
    "param_dict.keys()"
   ]
  },
  {
   "cell_type": "code",
   "execution_count": 429,
   "metadata": {
    "collapsed": false
   },
   "outputs": [
    {
     "data": {
      "text/plain": [
       "['logMmin', 'logM0', 'logM1', 'sigma_logM', 'alpha']"
      ]
     },
     "execution_count": 429,
     "metadata": {},
     "output_type": "execute_result"
    }
   ],
   "source": [
    "params"
   ]
  },
  {
   "cell_type": "code",
   "execution_count": 430,
   "metadata": {
    "collapsed": false
   },
   "outputs": [
    {
     "name": "stdout",
     "output_type": "stream",
     "text": [
      "['logMmin', 'logM0', 'logM1', 'sigma_logM', 'alpha']\n"
     ]
    }
   ],
   "source": [
    "vals = np.array([param_dict[key] for key in params])\n",
    "cens_idxs = halo_table['halo_upid'] == -1\n",
    "args = (params, cen_hod, sat_hod,mbc)\n",
    "print params"
   ]
  },
  {
   "cell_type": "code",
   "execution_count": 431,
   "metadata": {
    "collapsed": false
   },
   "outputs": [
    {
     "name": "stdout",
     "output_type": "stream",
     "text": [
      "0.15759\n"
     ]
    }
   ],
   "source": [
    "test = cens_model.mean_occupation(prim_haloprop = cat.halocat.halo_table['halo_mvir'][:100],\\\n",
    "                           sec_haloprop= cat.halocat.halo_table['halo_nfw_conc'][:100])\n",
    "print np.mean(test)"
   ]
  },
  {
   "cell_type": "code",
   "execution_count": 432,
   "metadata": {
    "collapsed": true
   },
   "outputs": [],
   "source": [
    "import scipy.optimize as op"
   ]
  },
  {
   "cell_type": "code",
   "execution_count": 457,
   "metadata": {
    "collapsed": false
   },
   "outputs": [
    {
     "name": "stdout",
     "output_type": "stream",
     "text": [
      "[ 12.87956269  12.24461447  13.98105124   0.5345765    1.04527197]\n",
      "[ 12.87364502  12.23898854  13.97462748   0.53433088   1.04479171]\n"
     ]
    }
   ],
   "source": [
    "print vals\n",
    "vals2=vals*(np.ones_like(vals)+0.01*(np.random.randn()-0.5))\n",
    "print vals2"
   ]
  },
  {
   "cell_type": "code",
   "execution_count": 458,
   "metadata": {
    "collapsed": false,
    "scrolled": false
   },
   "outputs": [],
   "source": [
    "results = op.minimize(liklihood, vals2, args, method = 'L-BFGS-B', bounds = [PRIORS[p] for p in params])"
   ]
  },
  {
   "cell_type": "code",
   "execution_count": 459,
   "metadata": {
    "collapsed": false
   },
   "outputs": [
    {
     "data": {
      "text/plain": [
       "False"
      ]
     },
     "execution_count": 459,
     "metadata": {},
     "output_type": "execute_result"
    }
   ],
   "source": [
    "results.success"
   ]
  },
  {
   "cell_type": "code",
   "execution_count": 460,
   "metadata": {
    "collapsed": false
   },
   "outputs": [
    {
     "data": {
      "text/plain": [
       "['logMmin', 'logM0', 'logM1', 'sigma_logM', 'alpha']"
      ]
     },
     "execution_count": 460,
     "metadata": {},
     "output_type": "execute_result"
    }
   ],
   "source": [
    "params"
   ]
  },
  {
   "cell_type": "code",
   "execution_count": 461,
   "metadata": {
    "collapsed": false
   },
   "outputs": [
    {
     "data": {
      "text/plain": [
       "array([ 12.87364502,  12.23898854,  13.97462748,   0.53433088,   1.04479171])"
      ]
     },
     "execution_count": 461,
     "metadata": {},
     "output_type": "execute_result"
    }
   ],
   "source": [
    "results.x"
   ]
  },
  {
   "cell_type": "code",
   "execution_count": 462,
   "metadata": {
    "collapsed": false
   },
   "outputs": [
    {
     "data": {
      "text/plain": [
       "array([ 12.87956269,  12.24461447,  13.98105124,   0.5345765 ,   1.04527197])"
      ]
     },
     "execution_count": 462,
     "metadata": {},
     "output_type": "execute_result"
    }
   ],
   "source": [
    "vals"
   ]
  },
  {
   "cell_type": "code",
   "execution_count": 463,
   "metadata": {
    "collapsed": true
   },
   "outputs": [],
   "source": [
    "theta = results.x"
   ]
  },
  {
   "cell_type": "code",
   "execution_count": 464,
   "metadata": {
    "collapsed": true
   },
   "outputs": [],
   "source": [
    "cens_model.param_dict.update({p:x for p, x in izip(params, theta)})\n",
    "sats_model.param_dict.update({p:x for p, x in izip(params, theta)})\n",
    "cat.model.param_dict.update({p:x for p, x in izip(params, theta)})\n",
    "\n",
    "cens_preds = cens_model.mean_occupation(prim_haloprop = mbc)\n",
    "sats_preds = sats_model.mean_occupation(prim_haloprop = mbc)"
   ]
  },
  {
   "cell_type": "code",
   "execution_count": 465,
   "metadata": {
    "collapsed": true
   },
   "outputs": [],
   "source": [
    "cens_model.param_dict.update({p:x for p, x in izip(params, vals)})\n",
    "sats_model.param_dict.update({p:x for p, x in izip(params, vals)})\n",
    "cat.model.param_dict.update({p:x for p, x in izip(params, vals)})\n",
    "\n",
    "mcmc_cens_preds = cens_model.mean_occupation(prim_haloprop = mbc)\n",
    "mcmc_sats_preds = sats_model.mean_occupation(prim_haloprop = mbc)"
   ]
  },
  {
   "cell_type": "code",
   "execution_count": 466,
   "metadata": {
    "collapsed": false
   },
   "outputs": [
    {
     "data": {
      "text/plain": [
       "(1e-06, 100.0)"
      ]
     },
     "execution_count": 466,
     "metadata": {},
     "output_type": "execute_result"
    },
    {
     "data": {
      "image/png": "[encoded data removed]",
      "text/plain": [
       "<matplotlib.figure.Figure at 0x7f55cfa61710>"
      ]
     },
     "metadata": {},
     "output_type": "display_data"
    }
   ],
   "source": [
    "plt.plot(mbc, cen_hod+sat_hod)\n",
    "plt.plot(mbc, mcmc_cens_preds+mcmc_sats_preds, label = 'MCMC')\n",
    "plt.plot(mbc, cens_preds+sats_preds, label = 'Fit')\n",
    "plt.loglog()\n",
    "plt.legend(loc='best')\n",
    "plt.ylim([1e-6, 1e2])"
   ]
  },
  {
   "cell_type": "code",
   "execution_count": 467,
   "metadata": {
    "collapsed": false
   },
   "outputs": [
    {
     "data": {
      "text/plain": [
       "(1e-06, 10.0)"
      ]
     },
     "execution_count": 467,
     "metadata": {},
     "output_type": "execute_result"
    },
    {
     "data": {
      "image/png": "[encoded data removed]",
      "text/plain": [
       "<matplotlib.figure.Figure at 0x7f55cfff2e10>"
      ]
     },
     "metadata": {},
     "output_type": "display_data"
    }
   ],
   "source": [
    "plt.plot(mbc, cen_hod)\n",
    "plt.plot(mbc, mcmc_cens_preds)\n",
    "plt.plot(mbc, cens_preds)\n",
    "plt.loglog()\n",
    "plt.ylim([1e-6, 1e1])"
   ]
  },
  {
   "cell_type": "code",
   "execution_count": 468,
   "metadata": {
    "collapsed": false
   },
   "outputs": [
    {
     "data": {
      "text/plain": [
       "(1e-06, 100.0)"
      ]
     },
     "execution_count": 468,
     "metadata": {},
     "output_type": "execute_result"
    },
    {
     "data": {
      "image/png": "[encoded data removed]",
      "text/plain": [
       "<matplotlib.figure.Figure at 0x7f55d007e8d0>"
      ]
     },
     "metadata": {},
     "output_type": "display_data"
    }
   ],
   "source": [
    "plt.plot(mbc, sat_hod)\n",
    "plt.plot(mbc, mcmc_sats_preds)\n",
    "plt.plot(mbc, sats_preds)\n",
    "plt.loglog()\n",
    "plt.ylim([1e-6, 1e2])"
   ]
  },
  {
   "cell_type": "code",
   "execution_count": null,
   "metadata": {
    "collapsed": true
   },
   "outputs": [],
   "source": []
  }
 ],
 "metadata": {
  "kernelspec": {
   "display_name": "Python [conda env:hodemulator]",
   "language": "python",
   "name": "conda-env-hodemulator-py"
  },
  "language_info": {
   "codemirror_mode": {
    "name": "ipython",
    "version": 2
   },
   "file_extension": ".py",
   "mimetype": "text/x-python",
   "name": "python",
   "nbconvert_exporter": "python",
   "pygments_lexer": "ipython2",
   "version": "2.7.13"
  }
 },
 "nbformat": 4,
 "nbformat_minor": 0
}

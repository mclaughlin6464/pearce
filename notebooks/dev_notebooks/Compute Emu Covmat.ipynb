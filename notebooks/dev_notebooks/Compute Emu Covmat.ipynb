{
 "cells": [
  {
   "cell_type": "markdown",
   "metadata": {},
   "source": [
    "I did this a bit flippantly before, but I want to fomalize the process by which we estimate the uncertainty on emulator predictions. "
   ]
  },
  {
   "cell_type": "code",
   "execution_count": 4,
   "metadata": {},
   "outputs": [],
   "source": [
    "from pearce.emulator import LemonPepperWet\n",
    "from GPy.kern import *\n",
    "import numpy as np\n",
    "from os import path"
   ]
  },
  {
   "cell_type": "code",
   "execution_count": 5,
   "metadata": {
    "collapsed": true
   },
   "outputs": [],
   "source": [
    "import matplotlib\n",
    "#matplotlib.use('Agg')\n",
    "from matplotlib import pyplot as plt\n",
    "%matplotlib inline\n",
    "import seaborn as sns\n",
    "sns.set()"
   ]
  },
  {
   "cell_type": "code",
   "execution_count": 6,
   "metadata": {
    "collapsed": true
   },
   "outputs": [],
   "source": [
    "training_file = '/home/users/swmclau2/scratch/Aemulators/ds_hsab_h/PearceHSABDsCosmo.hdf5'\n",
    "test_file = '/home/users/swmclau2/scratch/Aemulators/ds_hsab_test_h/PearceHSABDsCosmoTest.hdf5'"
   ]
  },
  {
   "cell_type": "raw",
   "metadata": {
    "collapsed": true
   },
   "source": [
    "#xi gm\n",
    "training_file = '/scratch/users/swmclau2/xi_gm_cosmo/PearceRedMagicXiGMCosmoFixedNd.hdf5'\n",
    "test_file = '/scratch/users/swmclau2/xi_gm_cosmo_test2/PearceRedMagicXiGMCosmoFixedNdTest.hdf5'"
   ]
  },
  {
   "cell_type": "code",
   "execution_count": 7,
   "metadata": {
    "collapsed": true
   },
   "outputs": [],
   "source": [
    "em_method = 'gp'"
   ]
  },
  {
   "cell_type": "code",
   "execution_count": 8,
   "metadata": {
    "collapsed": true
   },
   "outputs": [],
   "source": [
    "fixed_params = {'z':0.0}"
   ]
  },
  {
   "cell_type": "raw",
   "metadata": {},
   "source": [
    "hyperparams = {'kernel': (Linear(input_dim=7, ARD=True) + RBF(input_dim=7, ARD=True)+Bias(input_dim=7),\n",
    "                            RBF(input_dim=4, ARD=True)+Bias(input_dim=4) ), \\\n",
    "               'optimize': True}"
   ]
  },
  {
   "cell_type": "code",
   "execution_count": 9,
   "metadata": {},
   "outputs": [
    {
     "name": "stdout",
     "output_type": "stream",
     "text": [
      "3\n"
     ]
    }
   ],
   "source": [
    "emu = LemonPepperWet(training_file, fixed_params = fixed_params)"
   ]
  },
  {
   "cell_type": "code",
   "execution_count": 10,
   "metadata": {},
   "outputs": [
    {
     "name": "stdout",
     "output_type": "stream",
     "text": [
      "(35, 7) (100, 7)\n",
      "3\n",
      "(35, 7) (7,) (18, 1)\n",
      "(40, 1000, 18)\n",
      "(35, 7)\n",
      "(1, 7)\n",
      "(18, 1)\n",
      "(35, 7) (7,) (18, 1)\n",
      "(40, 1000, 18)\n",
      "(35, 7)\n",
      "(1, 7)\n",
      "(18, 1)\n",
      "(35, 7) (7,) (18, 1)\n",
      "(40, 1000, 18)\n",
      "(35, 7)\n",
      "(1, 7)\n",
      "(18, 1)\n",
      "(35, 7) (7,) (18, 1)\n",
      "(40, 1000, 18)\n",
      "(35, 7)\n",
      "(1, 7)\n",
      "(18, 1)\n",
      "(35, 7) (7,) (18, 1)\n",
      "(40, 1000, 18)\n",
      "(35, 7)\n",
      "(1, 7)\n",
      "(18, 1)\n",
      "(35, 7) (7,) (18, 1)\n",
      "(40, 1000, 18)\n",
      "(35, 7)\n",
      "(1, 7)\n",
      "(18, 1)\n",
      "(35, 7) (7,) (18, 1)\n",
      "(40, 1000, 18)\n",
      "(35, 7)\n",
      "(1, 7)\n",
      "(18, 1)\n",
      "(35, 7) (7,) (18, 1)\n",
      "(40, 1000, 18)\n",
      "(35, 7)\n",
      "(1, 7)\n",
      "(18, 1)\n",
      "(35, 7) (7,) (18, 1)\n",
      "(40, 1000, 18)\n",
      "(35, 7)\n",
      "(1, 7)\n",
      "(18, 1)\n",
      "(35, 7) (7,) (18, 1)\n",
      "(40, 1000, 18)\n",
      "(35, 7)\n",
      "(1, 7)\n",
      "(18, 1)\n",
      "(35, 7) (7,) (18, 1)\n",
      "(40, 1000, 18)\n",
      "(35, 7)\n",
      "(1, 7)\n",
      "(18, 1)\n",
      "(35, 7) (7,) (18, 1)\n",
      "(40, 1000, 18)\n",
      "(35, 7)\n",
      "(1, 7)\n",
      "(18, 1)\n",
      "(35, 7) (7,) (18, 1)\n",
      "(40, 1000, 18)\n",
      "(35, 7)\n",
      "(1, 7)\n",
      "(18, 1)\n",
      "(35, 7) (7,) (18, 1)\n",
      "(40, 1000, 18)\n",
      "(35, 7)\n",
      "(1, 7)\n",
      "(18, 1)\n",
      "(35, 7) (7,) (18, 1)\n",
      "(40, 1000, 18)\n",
      "(35, 7)\n",
      "(1, 7)\n",
      "(18, 1)\n",
      "(35, 7) (7,) (18, 1)\n",
      "(40, 1000, 18)\n",
      "(35, 7)\n",
      "(1, 7)\n",
      "(18, 1)\n",
      "(35, 7) (7,) (18, 1)\n",
      "(40, 1000, 18)\n",
      "(35, 7)\n",
      "(1, 7)\n",
      "(18, 1)\n",
      "(35, 7) (7,) (18, 1)\n",
      "(40, 1000, 18)\n",
      "(35, 7)\n",
      "(1, 7)\n",
      "(18, 1)\n",
      "(35, 7) (7,) (18, 1)\n",
      "(40, 1000, 18)\n",
      "(35, 7)\n",
      "(1, 7)\n",
      "(18, 1)\n",
      "(35, 7) (7,) (18, 1)\n",
      "(40, 1000, 18)\n",
      "(35, 7)\n",
      "(1, 7)\n",
      "(18, 1)\n",
      "(35, 7) (7,) (18, 1)\n",
      "(40, 1000, 18)\n",
      "(35, 7)\n",
      "(1, 7)\n",
      "(18, 1)\n",
      "(35, 7) (7,) (18, 1)\n",
      "(40, 1000, 18)\n",
      "(35, 7)\n",
      "(1, 7)\n",
      "(18, 1)\n",
      "(35, 7) (7,) (18, 1)\n",
      "(40, 1000, 18)\n",
      "(35, 7)\n",
      "(1, 7)\n",
      "(18, 1)\n",
      "(35, 7) (7,) (18, 1)\n",
      "(40, 1000, 18)\n",
      "(35, 7)\n",
      "(1, 7)\n",
      "(18, 1)\n",
      "(35, 7) (7,) (18, 1)\n",
      "(40, 1000, 18)\n",
      "(35, 7)\n",
      "(1, 7)\n",
      "(18, 1)\n",
      "(35, 7) (7,) (18, 1)\n",
      "(40, 1000, 18)\n",
      "(35, 7)\n",
      "(1, 7)\n",
      "(18, 1)\n",
      "(35, 7) (7,) (18, 1)\n",
      "(40, 1000, 18)\n",
      "(35, 7)\n",
      "(1, 7)\n",
      "(18, 1)\n",
      "(35, 7) (7,) (18, 1)\n",
      "(40, 1000, 18)\n",
      "(35, 7)\n",
      "(1, 7)\n",
      "(18, 1)\n",
      "(35, 7) (7,) (18, 1)\n",
      "(40, 1000, 18)\n",
      "(35, 7)\n",
      "(1, 7)\n",
      "(18, 1)\n",
      "(35, 7) (7,) (18, 1)\n",
      "(40, 1000, 18)\n",
      "(35, 7)\n",
      "(1, 7)\n",
      "(18, 1)\n",
      "(35, 7) (7,) (18, 1)\n",
      "(40, 1000, 18)\n",
      "(35, 7)\n",
      "(1, 7)\n",
      "(18, 1)\n",
      "(35, 7) (7,) (18, 1)\n",
      "(40, 1000, 18)\n",
      "(35, 7)\n",
      "(1, 7)\n",
      "(18, 1)\n",
      "(35, 7) (7,) (18, 1)\n",
      "(40, 1000, 18)\n",
      "(35, 7)\n",
      "(1, 7)\n",
      "(18, 1)\n",
      "(35, 7) (7,) (18, 1)\n",
      "(40, 1000, 18)\n",
      "(35, 7)\n",
      "(1, 7)\n",
      "(18, 1)\n",
      "(35, 7) (7,) (18, 1)\n",
      "(40, 1000, 18)\n",
      "(35, 7)\n",
      "(1, 7)\n",
      "(18, 1)\n",
      "(35, 7) (7,) (18, 1)\n",
      "(40, 1000, 18)\n",
      "(35, 7)\n",
      "(1, 7)\n",
      "(18, 1)\n",
      "(35, 7) (7,) (18, 1)\n",
      "(40, 1000, 18)\n",
      "(35, 7)\n",
      "(1, 7)\n",
      "(18, 1)\n",
      "(35, 7) (7,) (18, 1)\n",
      "(40, 1000, 18)\n",
      "(35, 7)\n",
      "(1, 7)\n",
      "(18, 1)\n",
      "(35, 7) (7,) (18, 1)\n",
      "(40, 1000, 18)\n",
      "(35, 7)\n",
      "(1, 7)\n",
      "(18, 1)\n",
      "(35, 7) (7,) (18, 1)\n",
      "(40, 1000, 18)\n",
      "(35, 7)\n",
      "(1, 7)\n",
      "(18, 1)\n",
      "(35, 7) (7,) (18, 1)\n",
      "(40, 1000, 18)\n",
      "(35, 7)\n",
      "(1, 7)\n",
      "(18, 1)\n",
      "(35, 7) (7,) (18, 1)\n",
      "(40, 1000, 18)\n",
      "(35, 7)\n",
      "(1, 7)\n",
      "(18, 1)\n",
      "(35, 7) (7,) (18, 1)\n",
      "(40, 1000, 18)\n",
      "(35, 7)\n",
      "(1, 7)\n",
      "(18, 1)\n",
      "(35, 7) (7,) (18, 1)\n",
      "(40, 1000, 18)\n",
      "(35, 7)\n",
      "(1, 7)\n",
      "(18, 1)\n",
      "(35, 7) (7,) (18, 1)\n",
      "(40, 1000, 18)\n",
      "(35, 7)\n",
      "(1, 7)\n",
      "(18, 1)\n",
      "(35, 7) (7,) (18, 1)\n",
      "(40, 1000, 18)\n",
      "(35, 7)\n",
      "(1, 7)\n",
      "(18, 1)\n",
      "(35, 7) (7,) (18, 1)\n",
      "(40, 1000, 18)\n",
      "(35, 7)\n",
      "(1, 7)\n",
      "(18, 1)\n",
      "(35, 7) (7,) (18, 1)\n",
      "(40, 1000, 18)\n",
      "(35, 7)\n",
      "(1, 7)\n",
      "(18, 1)\n",
      "(35, 7) (7,) (18, 1)\n",
      "(40, 1000, 18)\n",
      "(35, 7)\n",
      "(1, 7)\n",
      "(18, 1)\n",
      "(35, 7) (7,) (18, 1)\n",
      "(40, 1000, 18)\n",
      "(35, 7)\n",
      "(1, 7)\n",
      "(18, 1)\n",
      "(35, 7) (7,) (18, 1)\n",
      "(40, 1000, 18)\n",
      "(35, 7)\n",
      "(1, 7)\n",
      "(18, 1)\n",
      "(35, 7) (7,) (18, 1)\n",
      "(40, 1000, 18)\n",
      "(35, 7)\n",
      "(1, 7)\n",
      "(18, 1)\n",
      "(35, 7) (7,) (18, 1)\n",
      "(40, 1000, 18)\n",
      "(35, 7)\n",
      "(1, 7)\n",
      "(18, 1)\n",
      "(35, 7) (7,) (18, 1)\n",
      "(40, 1000, 18)\n",
      "(35, 7)\n",
      "(1, 7)\n",
      "(18, 1)\n",
      "(35, 7) (7,) (18, 1)\n",
      "(40, 1000, 18)\n",
      "(35, 7)\n",
      "(1, 7)\n",
      "(18, 1)\n",
      "(35, 7) (7,) (18, 1)\n",
      "(40, 1000, 18)\n",
      "(35, 7)\n",
      "(1, 7)\n",
      "(18, 1)\n",
      "(35, 7) (7,) (18, 1)\n",
      "(40, 1000, 18)\n",
      "(35, 7)\n",
      "(1, 7)\n",
      "(18, 1)\n",
      "(35, 7) (7,) (18, 1)\n",
      "(40, 1000, 18)\n",
      "(35, 7)\n",
      "(1, 7)\n",
      "(18, 1)\n",
      "(35, 7) (7,) (18, 1)\n",
      "(40, 1000, 18)\n",
      "(35, 7)\n",
      "(1, 7)\n",
      "(18, 1)\n",
      "(35, 7) (7,) (18, 1)\n",
      "(40, 1000, 18)\n",
      "(35, 7)\n",
      "(1, 7)\n",
      "(18, 1)\n",
      "(35, 7) (7,) (18, 1)\n",
      "(40, 1000, 18)\n",
      "(35, 7)\n",
      "(1, 7)\n",
      "(18, 1)\n",
      "(35, 7) (7,) (18, 1)\n",
      "(40, 1000, 18)\n",
      "(35, 7)\n",
      "(1, 7)\n",
      "(18, 1)\n",
      "(35, 7) (7,) (18, 1)\n",
      "(40, 1000, 18)\n",
      "(35, 7)\n",
      "(1, 7)\n",
      "(18, 1)\n",
      "(35, 7) (7,) (18, 1)\n",
      "(40, 1000, 18)\n",
      "(35, 7)\n",
      "(1, 7)\n",
      "(18, 1)\n",
      "(35, 7) (7,) (18, 1)\n",
      "(40, 1000, 18)\n",
      "(35, 7)\n",
      "(1, 7)\n",
      "(18, 1)\n",
      "(35, 7) (7,) (18, 1)\n",
      "(40, 1000, 18)\n",
      "(35, 7)\n",
      "(1, 7)\n",
      "(18, 1)\n",
      "(35, 7) (7,) (18, 1)\n",
      "(40, 1000, 18)\n",
      "(35, 7)\n",
      "(1, 7)\n",
      "(18, 1)\n",
      "(35, 7) (7,) (18, 1)\n",
      "(40, 1000, 18)\n",
      "(35, 7)\n",
      "(1, 7)\n",
      "(18, 1)\n",
      "(35, 7) (7,) (18, 1)\n",
      "(40, 1000, 18)\n",
      "(35, 7)\n",
      "(1, 7)\n",
      "(18, 1)\n",
      "(35, 7) (7,) (18, 1)\n",
      "(40, 1000, 18)\n",
      "(35, 7)\n",
      "(1, 7)\n",
      "(18, 1)\n",
      "(35, 7) (7,) (18, 1)\n",
      "(40, 1000, 18)\n",
      "(35, 7)\n",
      "(1, 7)\n",
      "(18, 1)\n",
      "(35, 7) (7,) (18, 1)\n",
      "(40, 1000, 18)\n",
      "(35, 7)\n",
      "(1, 7)\n",
      "(18, 1)\n",
      "(35, 7) (7,) (18, 1)\n",
      "(40, 1000, 18)\n",
      "(35, 7)\n",
      "(1, 7)\n",
      "(18, 1)\n",
      "(35, 7) (7,) (18, 1)\n",
      "(40, 1000, 18)\n",
      "(35, 7)\n",
      "(1, 7)\n",
      "(18, 1)\n",
      "(35, 7) (7,) (18, 1)\n",
      "(40, 1000, 18)\n",
      "(35, 7)\n",
      "(1, 7)\n",
      "(18, 1)\n",
      "(35, 7) (7,) (18, 1)\n",
      "(40, 1000, 18)\n",
      "(35, 7)\n",
      "(1, 7)\n",
      "(18, 1)\n",
      "(35, 7) (7,) (18, 1)\n",
      "(40, 1000, 18)\n",
      "(35, 7)\n",
      "(1, 7)\n",
      "(18, 1)\n",
      "(35, 7) (7,) (18, 1)\n",
      "(40, 1000, 18)\n",
      "(35, 7)\n",
      "(1, 7)\n",
      "(18, 1)\n",
      "(35, 7) (7,) (18, 1)\n",
      "(40, 1000, 18)\n",
      "(35, 7)\n",
      "(1, 7)\n",
      "(18, 1)\n",
      "(35, 7) (7,) (18, 1)\n",
      "(40, 1000, 18)\n",
      "(35, 7)\n",
      "(1, 7)\n",
      "(18, 1)\n",
      "(35, 7) (7,) (18, 1)\n",
      "(40, 1000, 18)\n",
      "(35, 7)\n",
      "(1, 7)\n",
      "(18, 1)\n",
      "(35, 7) (7,) (18, 1)\n",
      "(40, 1000, 18)\n",
      "(35, 7)\n",
      "(1, 7)\n",
      "(18, 1)\n",
      "(35, 7) (7,) (18, 1)\n",
      "(40, 1000, 18)\n",
      "(35, 7)\n",
      "(1, 7)\n",
      "(18, 1)\n",
      "(35, 7) (7,) (18, 1)\n",
      "(40, 1000, 18)\n",
      "(35, 7)\n",
      "(1, 7)\n",
      "(18, 1)\n",
      "(35, 7) (7,) (18, 1)\n",
      "(40, 1000, 18)\n",
      "(35, 7)\n",
      "(1, 7)\n",
      "(18, 1)\n",
      "(35, 7) (7,) (18, 1)\n",
      "(40, 1000, 18)\n",
      "(35, 7)\n",
      "(1, 7)\n",
      "(18, 1)\n",
      "(35, 7) (7,) (18, 1)\n",
      "(40, 1000, 18)\n",
      "(35, 7)\n",
      "(1, 7)\n",
      "(18, 1)\n",
      "(35, 7) (7,) (18, 1)\n",
      "(40, 1000, 18)\n",
      "(35, 7)\n",
      "(1, 7)\n",
      "(18, 1)\n",
      "(35, 7) (7,) (18, 1)\n",
      "(40, 1000, 18)\n",
      "(35, 7)\n",
      "(1, 7)\n",
      "(18, 1)\n",
      "(35, 7) (7,) (18, 1)\n",
      "(40, 1000, 18)\n",
      "(35, 7)\n",
      "(1, 7)\n",
      "(18, 1)\n",
      "(35, 7) (7,) (18, 1)\n",
      "(40, 1000, 18)\n",
      "(35, 7)\n",
      "(1, 7)\n",
      "(18, 1)\n",
      "(35, 7) (7,) (18, 1)\n",
      "(40, 1000, 18)\n",
      "(35, 7)\n",
      "(1, 7)\n",
      "(18, 1)\n",
      "(35, 7) (7,) (18, 1)\n",
      "(40, 1000, 18)\n",
      "(35, 7)\n",
      "(1, 7)\n",
      "(18, 1)\n",
      "(35, 7) (7,) (18, 1)\n",
      "(40, 1000, 18)\n",
      "(35, 7)\n",
      "(1, 7)\n",
      "(18, 1)\n",
      "(35, 7) (7,) (18, 1)\n",
      "(40, 1000, 18)\n",
      "(35, 7)\n",
      "(1, 7)\n",
      "(18, 1)\n",
      "(35, 7) (7,) (18, 1)\n",
      "(40, 1000, 18)\n",
      "(35, 7)\n",
      "(1, 7)\n",
      "(18, 1)\n",
      "(35, 7) (7,) (18, 1)\n",
      "(40, 1000, 18)\n",
      "(35, 7)\n",
      "(1, 7)\n",
      "(18, 1)\n",
      "(35, 7) (7,) (18, 1)\n",
      "(40, 1000, 18)\n",
      "(35, 7)\n",
      "(1, 7)\n",
      "(18, 1)\n",
      "(35, 7) (7,) (18, 1)\n",
      "(40, 1000, 18)\n",
      "(35, 7)\n",
      "(1, 7)\n",
      "(18, 1)\n",
      "(35, 7) (7,) (18, 1)\n",
      "(40, 1000, 18)\n",
      "(35, 7)\n",
      "(1, 7)\n",
      "(18, 1)\n"
     ]
    }
   ],
   "source": [
    "pred_y, data_y = emu.goodness_of_fit(test_file, statistic = None)"
   ]
  },
  {
   "cell_type": "code",
   "execution_count": 11,
   "metadata": {},
   "outputs": [
    {
     "data": {
      "text/plain": [
       "((35, 100, 18), (100, 630))"
      ]
     },
     "execution_count": 11,
     "metadata": {},
     "output_type": "execute_result"
    }
   ],
   "source": [
    "data_y.shape, pred_y.shape"
   ]
  },
  {
   "cell_type": "code",
   "execution_count": 12,
   "metadata": {},
   "outputs": [],
   "source": [
    "pred_y = pred_y.reshape((100, 35, 18), order = 'F')"
   ]
  },
  {
   "cell_type": "code",
   "execution_count": 13,
   "metadata": {},
   "outputs": [],
   "source": [
    "#pred_y = np.swapaxes(pred_y, 0, 1)"
   ]
  },
  {
   "cell_type": "code",
   "execution_count": 14,
   "metadata": {},
   "outputs": [
    {
     "data": {
      "image/png": "[encoded data removed]",
      "text/plain": [
       "<matplotlib.figure.Figure at 0x7fe4f51ee510>"
      ]
     },
     "metadata": {},
     "output_type": "display_data"
    }
   ],
   "source": [
    "idx1, idx2 = 66, 10\n",
    "plt.plot(emu.scale_bin_centers, pred_y[idx1, idx2, :])\n",
    "plt.plot(emu.scale_bin_centers, data_y[idx2, idx1, :])\n",
    "plt.xscale('log')"
   ]
  },
  {
   "cell_type": "code",
   "execution_count": 15,
   "metadata": {},
   "outputs": [
    {
     "data": {
      "text/plain": [
       "array([ 0.02322477,  0.01778819,  0.01466584,  0.01271747,  0.01172079,\n",
       "        0.0115687 ,  0.01266164,  0.01490488,  0.01715634,  0.01941594,\n",
       "        0.02066906,  0.02029788,  0.01964202,  0.02036174,  0.02345209,\n",
       "        0.02816602,  0.03670859,  0.05698424])"
      ]
     },
     "execution_count": 15,
     "metadata": {},
     "output_type": "execute_result"
    }
   ],
   "source": [
    "np.mean( np.abs(10**pred_y.swapaxes(0,1) - 10**data_y)/(10**data_y), axis = (0,1))"
   ]
  },
  {
   "cell_type": "code",
   "execution_count": 16,
   "metadata": {},
   "outputs": [
    {
     "data": {
      "text/plain": [
       "0.021228122105258793"
      ]
     },
     "execution_count": 16,
     "metadata": {},
     "output_type": "execute_result"
    }
   ],
   "source": [
    "np.mean( np.abs(10**pred_y.swapaxes(0,1) - 10**data_y)/(10**data_y), axis = (0,1,2))"
   ]
  },
  {
   "cell_type": "markdown",
   "metadata": {},
   "source": [
    "Contract over the realizations. "
   ]
  },
  {
   "cell_type": "code",
   "execution_count": 17,
   "metadata": {},
   "outputs": [
    {
     "ename": "ValueError",
     "evalue": "cannot reshape array of size 63000 into shape (18,5,7,1000)",
     "output_type": "error",
     "traceback": [
      "\u001b[0;31m\u001b[0m",
      "\u001b[0;31mValueError\u001b[0mTraceback (most recent call last)",
      "\u001b[0;32m<ipython-input-17-f4f85c4def83>\u001b[0m in \u001b[0;36m<module>\u001b[0;34m()\u001b[0m\n\u001b[0;32m----> 1\u001b[0;31m \u001b[0mpred_y_rs\u001b[0m\u001b[0;34m=\u001b[0m \u001b[0mpred_y\u001b[0m\u001b[0;34m.\u001b[0m\u001b[0mreshape\u001b[0m\u001b[0;34m(\u001b[0m\u001b[0;34m(\u001b[0m\u001b[0;36m18\u001b[0m\u001b[0;34m,\u001b[0m\u001b[0;36m5\u001b[0m\u001b[0;34m,\u001b[0m\u001b[0;36m7\u001b[0m\u001b[0;34m,\u001b[0m \u001b[0;36m1000\u001b[0m\u001b[0;34m)\u001b[0m\u001b[0;34m,\u001b[0m \u001b[0morder\u001b[0m \u001b[0;34m=\u001b[0m \u001b[0;34m'F'\u001b[0m\u001b[0;34m)\u001b[0m\u001b[0;34m[\u001b[0m\u001b[0;34m:\u001b[0m\u001b[0;34m,\u001b[0m\u001b[0;36m0\u001b[0m\u001b[0;34m,\u001b[0m\u001b[0;34m:\u001b[0m\u001b[0;34m,\u001b[0m\u001b[0;34m:\u001b[0m\u001b[0;34m]\u001b[0m\u001b[0;34m\u001b[0m\u001b[0m\n\u001b[0m\u001b[1;32m      2\u001b[0m \u001b[0mdata_y_rs\u001b[0m\u001b[0;34m=\u001b[0m \u001b[0mdata_y\u001b[0m\u001b[0;34m.\u001b[0m\u001b[0mreshape\u001b[0m\u001b[0;34m(\u001b[0m\u001b[0;34m(\u001b[0m\u001b[0;36m18\u001b[0m\u001b[0;34m,\u001b[0m\u001b[0;36m5\u001b[0m\u001b[0;34m,\u001b[0m\u001b[0;36m7\u001b[0m\u001b[0;34m,\u001b[0m \u001b[0;36m1000\u001b[0m\u001b[0;34m)\u001b[0m\u001b[0;34m,\u001b[0m \u001b[0morder\u001b[0m \u001b[0;34m=\u001b[0m \u001b[0;34m'F'\u001b[0m\u001b[0;34m)\u001b[0m\u001b[0;34m.\u001b[0m\u001b[0mmean\u001b[0m\u001b[0;34m(\u001b[0m\u001b[0maxis\u001b[0m \u001b[0;34m=\u001b[0m \u001b[0;36m1\u001b[0m\u001b[0;34m)\u001b[0m\u001b[0;34m\u001b[0m\u001b[0m\n",
      "\u001b[0;31mValueError\u001b[0m: cannot reshape array of size 63000 into shape (18,5,7,1000)"
     ]
    }
   ],
   "source": [
    "pred_y_rs= pred_y.reshape((18,5,7, 1000), order = 'F')[:,0,:,:]\n",
    "data_y_rs= data_y.reshape((18,5,7, 1000), order = 'F').mean(axis = 1)"
   ]
  },
  {
   "cell_type": "code",
   "execution_count": null,
   "metadata": {
    "collapsed": true
   },
   "outputs": [],
   "source": [
    "data_y_rs2 = data_y.resha]pe((18, 5, 7, 1000), order ='F')"
   ]
  },
  {
   "cell_type": "code",
   "execution_count": null,
   "metadata": {
    "collapsed": true
   },
   "outputs": [],
   "source": [
    "R = np.zeros((18,1000))\n",
    "for i in xrange(7):\n",
    "    R += (data_y_rs2[:,:,i,:] - data_y_rs[:,i,:].reshape((-1, 1, 1000))).mean(axis =1)"
   ]
  },
  {
   "cell_type": "code",
   "execution_count": null,
   "metadata": {
    "collapsed": true
   },
   "outputs": [],
   "source": [
    "cov = R.dot(R.T)/(R.shape[1]-1)"
   ]
  },
  {
   "cell_type": "code",
   "execution_count": null,
   "metadata": {},
   "outputs": [],
   "source": [
    "im = plt.imshow(np.log10(cov))\n",
    "plt.colorbar(im)"
   ]
  },
  {
   "cell_type": "code",
   "execution_count": null,
   "metadata": {
    "collapsed": true
   },
   "outputs": [],
   "source": [
    "R = (10**pred_y_rs - 10**data_y_rs).reshape((18,-1), order = 'F')"
   ]
  },
  {
   "cell_type": "code",
   "execution_count": null,
   "metadata": {
    "collapsed": true
   },
   "outputs": [],
   "source": [
    "cov2 = R.dot(R.T)/(R.shape[1]-1)"
   ]
  },
  {
   "cell_type": "code",
   "execution_count": null,
   "metadata": {},
   "outputs": [],
   "source": [
    "im = plt.imshow(np.log10(cov2))\n",
    "plt.colorbar(im)"
   ]
  },
  {
   "cell_type": "raw",
   "metadata": {
    "collapsed": true
   },
   "source": [
    "np.savetxt('xi_gg_nh_emu_cov_v1.npy', cov)"
   ]
  },
  {
   "cell_type": "code",
   "execution_count": null,
   "metadata": {
    "collapsed": true
   },
   "outputs": [],
   "source": []
  }
 ],
 "metadata": {
  "kernelspec": {
   "display_name": "Python 2",
   "language": "python",
   "name": "python2"
  },
  "language_info": {
   "codemirror_mode": {
    "name": "ipython",
    "version": 2
   },
   "file_extension": ".py",
   "mimetype": "text/x-python",
   "name": "python",
   "nbconvert_exporter": "python",
   "pygments_lexer": "ipython2",
   "version": "2.7.13"
  }
 },
 "nbformat": 4,
 "nbformat_minor": 2
}

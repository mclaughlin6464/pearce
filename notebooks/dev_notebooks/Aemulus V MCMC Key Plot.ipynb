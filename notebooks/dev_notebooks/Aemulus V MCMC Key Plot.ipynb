{
 "cells": [
  {
   "cell_type": "markdown",
   "metadata": {},
   "source": [
    "Risa and I discussed one figure that shows all results for all tests. The proposal was an image that shows how far the true value deviates from the posterior peak in terms of standard deviations for the key params. It'll take some tinkering but we should be able to find something that works. "
   ]
  },
  {
   "cell_type": "code",
   "execution_count": 1,
   "metadata": {
    "collapsed": false
   },
   "outputs": [],
   "source": [
    "import matplotlib\n",
    "#matplotlib.use('Agg')\n",
    "from matplotlib import pyplot as plt\n",
    "%matplotlib inline\n",
    "import seaborn as sns\n",
    "#sns.set()"
   ]
  },
  {
   "cell_type": "code",
   "execution_count": 2,
   "metadata": {
    "collapsed": false
   },
   "outputs": [],
   "source": [
    "import numpy as np\n",
    "import h5py\n",
    "from chainconsumer import ChainConsumer\n",
    "from glob import glob\n",
    "from os import path\n",
    "from copy import deepcopy\n",
    "from collections import OrderedDict"
   ]
  },
  {
   "cell_type": "code",
   "execution_count": 3,
   "metadata": {
    "collapsed": false
   },
   "outputs": [],
   "source": [
    "fnames = []\n",
    "models = ['HOD_2', 'HSAB_2', 'CAB_2', 'CorrAB_3']\n",
    "mocks = ['HOD_MDPL2', 'HSAB_MDPL2', 'VpeakSHAM', 'UniverseMachine']\n",
    "\n",
    "mock_no = 3\n",
    "\n",
    "for mock in mocks[mock_no:mock_no+1]:\n",
    "    for model in models:\n",
    "        fn = sorted(glob('/u/ki/swmclau2/des/PearceMCMC/%s_wp_ds_rmin_*_%s.hdf5'%(mock,model))) \n",
    "        # put the None chain first instead of last \n",
    "        \n",
    "        _fnames = []\n",
    "        _fnames.extend(reversed(fn[:-1]) )\n",
    "        _fnames.append(fn[-1])\n",
    "        fn = _fnames\n",
    "\n",
    "        fnames.extend(fn)"
   ]
  },
  {
   "cell_type": "markdown",
   "metadata": {},
   "source": [
    "Assume all chains run with same true values, only thing that differs is the rmin. "
   ]
  },
  {
   "cell_type": "code",
   "execution_count": 4,
   "metadata": {
    "collapsed": true
   },
   "outputs": [],
   "source": [
    "names_to_remove = []\n",
    "for fname in fnames:\n",
    "    if '2.0' in fname:\n",
    "        names_to_remove.append(fname)\n",
    "    #pass    \n",
    "for fname in names_to_remove:\n",
    "    fnames.remove(fname)"
   ]
  },
  {
   "cell_type": "code",
   "execution_count": 5,
   "metadata": {
    "collapsed": false
   },
   "outputs": [],
   "source": [
    "f = h5py.File(fnames[0], 'r')"
   ]
  },
  {
   "cell_type": "code",
   "execution_count": 6,
   "metadata": {
    "collapsed": false
   },
   "outputs": [
    {
     "data": {
      "text/plain": [
       "[u'chain_fixed_params',\n",
       " u'cov',\n",
       " u'dlogz',\n",
       " u'emu_cov_fname',\n",
       " u'emu_hps',\n",
       " u'emu_type',\n",
       " u'fixed_params',\n",
       " u'mcmc_type',\n",
       " u'nburn',\n",
       " u'nlive',\n",
       " u'nsteps',\n",
       " u'nwalkers',\n",
       " u'obs',\n",
       " u'param_names',\n",
       " u'seed',\n",
       " u'sim',\n",
       " u'training_file',\n",
       " u'true_cov_fname',\n",
       " u'true_data_fname']"
      ]
     },
     "execution_count": 6,
     "metadata": {},
     "output_type": "execute_result"
    }
   ],
   "source": [
    "f.attrs.keys()"
   ]
  },
  {
   "cell_type": "code",
   "execution_count": 7,
   "metadata": {
    "collapsed": false
   },
   "outputs": [],
   "source": [
    "#sim_info = eval(f.attrs['sim'])\n",
    "sim_info = f.attrs['sim']"
   ]
  },
  {
   "cell_type": "code",
   "execution_count": 8,
   "metadata": {
    "collapsed": true
   },
   "outputs": [],
   "source": [
    "f.close()"
   ]
  },
  {
   "cell_type": "code",
   "execution_count": 9,
   "metadata": {
    "collapsed": true
   },
   "outputs": [],
   "source": [
    "param_name_dict = {'ombh2': r'$\\Omega_b h^2$', 'omch2': r'$\\Omega_c h^2$','w0': r'$w_0$','ns': r'$n_s$', \\\n",
    "                   'sigma8': r'$\\sigma_8$', 'ln10As':r'$\\ln 10^{10} A_s$', 'H0': r'$H_0$','Neff': r'$N_{eff}$',\\\n",
    "               'mean_occupation_centrals_assembias_corr1': r'$\\rho_{cen}$',\\\n",
    "                 'mean_occupation_satellites_assembias_corr1':r'$\\rho_{sat}$',\\\n",
    "                   'mean_occupation_centrals_assembias_param1': r'$\\mathcal{A}_{cen}$',\\\n",
    "                 'mean_occupation_satellites_assembias_param1':r'$\\mathcal{A}_{sat}$',\\\n",
    "                   'mean_occupation_centrals_assembias_slope1': r'$\\mathcal{B}_{cen}$',\\\n",
    "                 'mean_occupation_satellites_assembias_slope1':r'$\\mathcal{B}_{sat}$',\\\n",
    "                   'logM1': r'$\\log(M_1)$','logM0': r'$\\log(M_0)$','sigma_logM': r'$\\sigma_{\\log M }$',\n",
    "                   'conc_gal_bias': r'$\\eta$', 'alpha':r'$\\alpha$',\n",
    "                  'Om': r'$\\Omega_m$', 'S8': r'$S_8$'}"
   ]
  },
  {
   "cell_type": "code",
   "execution_count": 10,
   "metadata": {
    "collapsed": false
   },
   "outputs": [],
   "source": [
    "bounds_dict = {'H0': (61.69472, 74.76751999999999),\n",
    " 'Neff': (2.62125, 4.27875),\n",
    " 'alpha': (0.7, 1.3),\n",
    " 'conc_gal_bias': (0.5, 2.0),\n",
    " 'sigma8': (0.65, 1.0), # TODO update\n",
    " 'logM0': (12.6, 13.6),\n",
    " 'logM1': (13.7, 14.7),\n",
    " 'ns': (0.9278462, 0.9974495999999999),\n",
    " 'ombh2': (0.02066455, 0.02371239),\n",
    " 'omch2': (0.1012181, 0.13177679999999997),\n",
    " 'sigma_logM': (0.05, 0.5),\n",
    " 'ln10As': (3.0, 3.1),\n",
    " 'w0': (-1.399921, -0.5658486),\n",
    " 'Om': (0.25, 0.35),\n",
    " 'S8': (0.7, 1.0),\n",
    " 'mean_occupation_centrals_assembias_corr1': (-1.0, 1.0),\n",
    " 'mean_occupation_satellites_assembias_corr1': (-1.0, 1.0),\n",
    " 'mean_occupation_centrals_assembias_param1': (-1.0, 1.0),\n",
    " 'mean_occupation_satellites_assembias_param1': (-1.0, 1.0),\n",
    " 'mean_occupation_centrals_assembias_slope1': (-3.0, 3.0),\n",
    " 'mean_occupation_satellites_assembias_slope1': (-3.0, 3.0)}"
   ]
  },
  {
   "cell_type": "code",
   "execution_count": 11,
   "metadata": {
    "collapsed": true
   },
   "outputs": [],
   "source": [
    "# multidark planck2\n",
    "#cosmo_true_vals = np.array([0.0223, 0.1188, -1, 0.9667, 3.047, \\\n",
    "#                            0.6774*100, 3.046]) #darksky\n",
    "\n",
    "h = 0.6777\n",
    "#cosmo_pnames = ['ombh2', 'omch2', 'w0', 'ns', 'H0', 'Neff', 'sigma8', 'Om', 'S8']\n",
    "#cosmo_true_vals = np.array([0.048206*h**2, 0.307115*h**2- 0.048206*h**2,\\\n",
    "#                            -1, 0.9667, \\\n",
    "#                            h*100, 3.046, 0.8228, ]) #mdpl2\n",
    "cosmo_true_vals = np.array([0.048206*h**2, 0.2589*h**2- 0.048206*h**2,\\\n",
    "                        -1, 0.9667, \\\n",
    "                        h*100, 3.046, 0.8228, 0.3089, 0.8228*np.sqrt(0.3089/0.3) ]) #mdpl2\n",
    "#hod_true_vals = np.array([np.inf for p in hod_param_names])\n",
    "Om = 0.3089\n",
    "S8 = 0.8228*np.sqrt(0.3089/0.3)\n",
    "H0=h*100"
   ]
  },
  {
   "cell_type": "code",
   "execution_count": 12,
   "metadata": {
    "collapsed": false
   },
   "outputs": [],
   "source": [
    "summary_names = ['Om','S8','H0']\n",
    "true_vals_dict = dict(zip(summary_names, [Om, S8, H0]))\n",
    "def_ab_val = np.inf#0.0"
   ]
  },
  {
   "cell_type": "code",
   "execution_count": 13,
   "metadata": {
    "collapsed": false
   },
   "outputs": [],
   "source": [
    "c = ChainConsumer()"
   ]
  },
  {
   "cell_type": "raw",
   "metadata": {},
   "source": [
    "modify_chain = lambda x,y : x,y # default, do nothing"
   ]
  },
  {
   "cell_type": "code",
   "execution_count": 14,
   "metadata": {
    "collapsed": true
   },
   "outputs": [],
   "source": [
    "def modify_chain(chain, param_names):\n",
    "    new_pnames = ['Om', 'S8']\n",
    "    h = chain[:,param_names.index('H0')]/100\n",
    "    \n",
    "    Omc, Omb = chain[:,param_names.index('omch2')]/(h**2), chain[:,param_names.index('ombh2')]/(h**2)\n",
    "    Om = Omc+Omb\n",
    "    \n",
    "    S8 = chain[:,param_names.index('sigma8')]*np.sqrt(Om/0.3)\n",
    "\n",
    "    new_chain = np.hstack([chain[:,:7], Om.reshape((-1,1)), S8.reshape((-1,1)), chain[:,7:]])\n",
    "    param_names.insert(7, new_pnames[0])\n",
    "    param_names.insert(8, new_pnames[1])\n",
    "\n",
    "    return new_chain, param_names"
   ]
  },
  {
   "cell_type": "code",
   "execution_count": 15,
   "metadata": {
    "collapsed": true
   },
   "outputs": [],
   "source": [
    "f = h5py.File(fname, 'r')"
   ]
  },
  {
   "cell_type": "code",
   "execution_count": 16,
   "metadata": {
    "collapsed": true
   },
   "outputs": [],
   "source": [
    "r = np.logspace(-1, 1.6, 19)\n",
    "rbc = (r[1:]+r[:-1])/2.0"
   ]
  },
  {
   "cell_type": "code",
   "execution_count": 17,
   "metadata": {
    "collapsed": false
   },
   "outputs": [],
   "source": [
    "num_eff_dict = {5.0:np.sum(rbc>5.0)*2, 1.0:np.sum(rbc>1.0)*2, 0.5:np.sum(rbc>0.5)*2,\\\n",
    "0.1:np.sum(rbc>0.5)+np.sum(rbc>0.1)}"
   ]
  },
  {
   "cell_type": "code",
   "execution_count": 18,
   "metadata": {
    "collapsed": false
   },
   "outputs": [
    {
     "name": "stdout",
     "output_type": "stream",
     "text": [
      "UniverseMachine HOD $r_{min} = 5.0\n",
      "(12500000, 14) 50000 3\n",
      "UniverseMachine HOD $r_{min} = 1.0\n",
      "(12500000, 14) 50000 3\n",
      "UniverseMachine HOD $r_{min} = 0.5\n",
      "(12500000, 14) 50000 3\n",
      "UniverseMachine HOD $r_{min} = 0.1\n",
      "(12500000, 14) 50000 3\n",
      "UniverseMachine HSAB $r_{min} = 5.0\n",
      "(12500000, 16) 50000 3\n",
      "UniverseMachine HSAB $r_{min} = 1.0\n",
      "(12500000, 16) 50000 3\n",
      "UniverseMachine HSAB $r_{min} = 0.5\n",
      "(12500000, 16) 50000 3\n",
      "UniverseMachine HSAB $r_{min} = 0.1\n",
      "(12500000, 16) 50000 3\n",
      "UniverseMachine CAB $r_{min} = 5.0\n",
      "(12500000, 18) 50000 3\n",
      "UniverseMachine CAB $r_{min} = 1.0\n",
      "(12500000, 18) 50000 3\n",
      "UniverseMachine CAB $r_{min} = 0.5\n",
      "(12500000, 18) 50000 3\n",
      "UniverseMachine CAB $r_{min} = 0.1\n",
      "(12500000, 18) 50000 3\n",
      "UniverseMachine CorrAB $r_{min} = 5.0\n",
      "(12500000, 16) 50000 3\n",
      "UniverseMachine CorrAB $r_{min} = 1.0\n",
      "(12500000, 16) 50000 3\n",
      "UniverseMachine CorrAB $r_{min} = 0.5\n",
      "(12500000, 16) 50000 3\n",
      "UniverseMachine CorrAB $r_{min} = 0.1\n",
      "(12500000, 16) 50000 3\n"
     ]
    }
   ],
   "source": [
    "n_burn = 10000\n",
    "plot_true_vals_dict = dict()\n",
    "plot_bounds_dict = dict()\n",
    "plot_param_names_set = set()\n",
    "for fname in fnames:\n",
    "    try:\n",
    "        f = h5py.File(fname, 'r')\n",
    "        n_walkers = f.attrs['nwalkers']\n",
    "\n",
    "        chain = f['chain'][n_burn*n_walkers:]\n",
    "        lnprob = f['lnprob'][n_burn*n_walkers:]\n",
    "        keep_idxs = np.all(chain!=0.0, axis = 1)\n",
    "        chain = chain[keep_idxs, :]\n",
    "        lnprob = lnprob[keep_idxs]\n",
    "    except IOError:\n",
    "        print 'Error loading', fname\n",
    "        #f.close()\n",
    "        chain = np.random.randn(n_walkers, chain.shape[1])+10\n",
    "        lnprob = np.ones((chain.shape[0],))*-np.inf\n",
    "        #continue\n",
    "    \n",
    "    chain = chain.reshape((-1, n_walkers, chain.shape[1]))\n",
    "    chain = chain.reshape((-1, chain.shape[2]), order = 'F')\n",
    "    if chain.shape[0] == 0:\n",
    "        print 'Insufficient samples in', fname\n",
    "        #f.close()\n",
    "        chain = np.random.randn(n_walkers, chain.shape[1])+10\n",
    "        lnprob = np.zeros((chain.shape[0],))\n",
    "        #continue\n",
    "    \n",
    "    #name = path.basename(fname).split('_')[-1].split('.')[0]\n",
    "    split_fname = path.basename(fname).split('_')#[4]\n",
    "    r = split_fname[-3] #[4]\n",
    "    model = split_fname[-2]#[:-5]#[5]\n",
    "    mock = split_fname[0]\n",
    "    \n",
    "    #print r, model, mock\n",
    "    #break\n",
    "\n",
    "    if r == \"None\":\n",
    "        r = \"0.1\"\n",
    "        \n",
    "    name = r\"%s %s $r_{min} = %s\"%(mock, model, r)\n",
    "    \n",
    "    hod_param_names = []\n",
    "    cosmo_param_names = []\n",
    "    chain_pnames = list(f.attrs['param_names'])\n",
    "    #cosmo_names = set(['ombh2', 'omch2', 'w0', 'ns', 'sigma8', 'H0', 'Neff', 'Om', 'S8'])\n",
    "    chain, chain_pnames = modify_chain(chain, chain_pnames)\n",
    "    summary_idxs = []\n",
    "    param_names = []\n",
    "    for i, pname in enumerate(chain_pnames):\n",
    "        if pname in summary_names:# or ('mean_occupation' in pname and 'slope' not in pname):\n",
    "            param_names.append(param_name_dict[pname])\n",
    "            summary_idxs.append(i)\n",
    "            plot_true_vals_dict[param_names[-1]] = true_vals_dict[pname] if pname in true_vals_dict else def_ab_val\n",
    "            plot_bounds_dict[param_names[-1]] = bounds_dict[pname] \n",
    "            plot_param_names_set.add(param_names[-1])\n",
    "    #print fname\n",
    "    if chain.shape[0]/n_walkers > 50000:\n",
    "        chain = chain[:50000*n_walkers]\n",
    "        lnprob = lnprob[:50000*n_walkers]\n",
    "    #print summary_idxs, param_names\n",
    "    print name\n",
    "    print chain.shape, chain.shape[0]/n_walkers, len(param_names)\n",
    "    \n",
    "    c.add_chain(chain[:, np.array(summary_idxs)], parameters=param_names,\n",
    "                name = name, walkers = n_walkers, posterior = lnprob,\n",
    "               num_eff_data_points = num_eff_dict[float(r)], num_free_params = len(param_names))\n",
    "    f.close()\n"
   ]
  },
  {
   "cell_type": "code",
   "execution_count": 19,
   "metadata": {
    "collapsed": false
   },
   "outputs": [],
   "source": [
    "from scipy.linalg import inv, det"
   ]
  },
  {
   "cell_type": "code",
   "execution_count": 20,
   "metadata": {
    "collapsed": false
   },
   "outputs": [],
   "source": [
    "try:\n",
    "    dist_mat=np.load('dist_mat.npy')\n",
    "except IOError:\n",
    "    #pass  \n",
    "    dist_mat = np.zeros((4,4,4))\n",
    "rmins = [5.0, 1.0, 0.5, 0.1]"
   ]
  },
  {
   "cell_type": "code",
   "execution_count": 21,
   "metadata": {
    "collapsed": false
   },
   "outputs": [
    {
     "name": "stdout",
     "output_type": "stream",
     "text": [
      "[67.77        0.3089      0.83491567]\n",
      "----------\n",
      "UniverseMachine\n",
      "HOD\n",
      "[[ 7.20915479e+00 -4.53940883e-02  4.24873451e-02]\n",
      " [-4.53940883e-02  3.56576685e-04 -3.25078959e-04]\n",
      " [ 4.24873451e-02 -3.25078959e-04  1.38952710e-03]]\n",
      "1.3840075974209263\n",
      "UniverseMachine HOD $r_{min} = 5.0 UniverseMachine HOD $r_{min} = 5.0\n",
      "[[ 5.67048809e+00 -3.52717350e-02  2.31603489e-02]\n",
      " [-3.52717350e-02  2.86781283e-04 -1.74185701e-04]\n",
      " [ 2.31603489e-02 -1.74185701e-04  6.05024430e-04]]\n",
      "1.3388566007205642\n",
      "UniverseMachine HOD $r_{min} = 1.0 UniverseMachine HOD $r_{min} = 1.0\n",
      "[[ 5.13126256e+00 -3.07526188e-02  1.78612701e-02]\n",
      " [-3.07526188e-02  2.53793641e-04 -1.43402585e-04]\n",
      " [ 1.78612701e-02 -1.43402585e-04  5.51839255e-04]]\n",
      "1.282071391182042\n",
      "UniverseMachine HOD $r_{min} = 0.5 UniverseMachine HOD $r_{min} = 0.5\n",
      "[[ 4.90658719e+00 -2.98658158e-02  1.57663495e-02]\n",
      " [-2.98658158e-02  2.49512181e-04 -1.26906818e-04]\n",
      " [ 1.57663495e-02 -1.26906818e-04  4.06670020e-04]]\n",
      "1.5751211850159275\n",
      "UniverseMachine HOD $r_{min} = 0.1 UniverseMachine HOD $r_{min} = 0.1\n",
      "HSAB\n",
      "[[ 8.30866550e+00 -5.35333661e-02  5.16100832e-02]\n",
      " [-5.35333661e-02  4.69327728e-04 -4.33734223e-04]\n",
      " [ 5.16100832e-02 -4.33734223e-04  1.24933334e-03]]\n",
      "1.649890798984457\n",
      "UniverseMachine HSAB $r_{min} = 5.0 UniverseMachine HSAB $r_{min} = 5.0\n",
      "[[ 7.19037627e+00 -4.93583410e-02  3.31083938e-02]\n",
      " [-4.93583410e-02  4.43887210e-04 -2.86988625e-04]\n",
      " [ 3.31083938e-02 -2.86988625e-04  5.78357656e-04]]\n",
      "1.0449624778428075\n",
      "UniverseMachine HSAB $r_{min} = 1.0 UniverseMachine HSAB $r_{min} = 1.0\n",
      "[[ 7.08182063e+00 -4.67735768e-02  3.12773184e-02]\n",
      " [-4.67735768e-02  4.15032784e-04 -2.83160584e-04]\n",
      " [ 3.12773184e-02 -2.83160584e-04  5.91036421e-04]]\n",
      "1.8641458240271456\n",
      "UniverseMachine HSAB $r_{min} = 0.5 UniverseMachine HSAB $r_{min} = 0.5\n",
      "[[ 5.87397390e+00 -3.84027068e-02  2.60153323e-02]\n",
      " [-3.84027068e-02  3.30603338e-04 -2.04468112e-04]\n",
      " [ 2.60153323e-02 -2.04468112e-04  3.96624665e-04]]\n",
      "1.5810037083399713\n",
      "UniverseMachine HSAB $r_{min} = 0.1 UniverseMachine HSAB $r_{min} = 0.1\n",
      "CAB\n",
      "[[ 8.60314986e+00 -6.38749595e-02  8.01542615e-03]\n",
      " [-6.38749595e-02  6.48231870e-04 -1.36746934e-04]\n",
      " [ 8.01542615e-03 -1.36746934e-04  2.54807063e-03]]\n",
      "1.6374775630937053\n",
      "UniverseMachine CAB $r_{min} = 5.0 UniverseMachine CAB $r_{min} = 5.0\n",
      "[[ 8.70960883e+00 -6.53561204e-02  8.43303611e-03]\n",
      " [-6.53561204e-02  6.52490143e-04 -1.09434557e-04]\n",
      " [ 8.43303611e-03 -1.09434557e-04  8.59009685e-04]]\n",
      "1.2217097222178523\n",
      "UniverseMachine CAB $r_{min} = 1.0 UniverseMachine CAB $r_{min} = 1.0\n",
      "[[ 7.95592214e+00 -5.74469533e-02  9.68396513e-03]\n",
      " [-5.74469533e-02  5.68437096e-04 -1.32769198e-04]\n",
      " [ 9.68396513e-03 -1.32769198e-04  7.81748480e-04]]\n",
      "1.2409894247803301\n",
      "UniverseMachine CAB $r_{min} = 0.5 UniverseMachine CAB $r_{min} = 0.5\n",
      "[[ 6.90372392e+00 -5.04980669e-02  1.30621460e-02]\n",
      " [-5.04980669e-02  5.03329950e-04 -1.35625305e-04]\n",
      " [ 1.30621460e-02 -1.35625305e-04  5.07543162e-04]]\n",
      "1.9027602750127501\n",
      "UniverseMachine CAB $r_{min} = 0.1 UniverseMachine CAB $r_{min} = 0.1\n",
      "CorrAB\n",
      "[[ 7.46816292e+00 -5.00005988e-02  4.77045002e-02]\n",
      " [-5.00005988e-02  4.18239709e-04 -3.24531944e-04]\n",
      " [ 4.77045002e-02 -3.24531944e-04  1.55226298e-03]]\n",
      "1.97587254224485\n",
      "UniverseMachine CorrAB $r_{min} = 5.0 UniverseMachine CorrAB $r_{min} = 5.0\n",
      "[[ 7.48641144e+00 -4.91894293e-02  3.69867861e-02]\n",
      " [-4.91894293e-02  4.02421271e-04 -2.66555995e-04]\n",
      " [ 3.69867861e-02 -2.66555995e-04  5.03946531e-04]]\n",
      "1.483641853664444\n",
      "UniverseMachine CorrAB $r_{min} = 1.0 UniverseMachine CorrAB $r_{min} = 1.0\n",
      "[[ 7.36859716e+00 -4.75900623e-02  3.32264853e-02]\n",
      " [-4.75900623e-02  3.89900026e-04 -2.48440311e-04]\n",
      " [ 3.32264853e-02 -2.48440311e-04  4.16977527e-04]]\n",
      "0.8457164687815579\n",
      "UniverseMachine CorrAB $r_{min} = 0.5 UniverseMachine CorrAB $r_{min} = 0.5\n",
      "[[ 6.61476270e+00 -3.89467979e-02  3.30508778e-02]\n",
      " [-3.89467979e-02  3.04495772e-04 -2.31480960e-04]\n",
      " [ 3.30508778e-02 -2.31480960e-04  3.69273950e-04]]\n",
      "1.2691824328760049\n",
      "UniverseMachine CorrAB $r_{min} = 0.1 UniverseMachine CorrAB $r_{min} = 0.1\n"
     ]
    }
   ],
   "source": [
    "true_point = np.array([true_vals_dict[name] for name in sorted(summary_names)])\n",
    "print true_point\n",
    "print '-'*10\n",
    "models = ['HOD', 'HSAB', 'CAB', 'CorrAB']\n",
    "mocks = ['HOD', 'HSAB', 'VpeakSHAM', 'UniverseMachine']\n",
    "base_str = '%s %s $r_{min} = %0.1f'\n",
    "for i, mock in enumerate(mocks[mock_no:mock_no+1]):\n",
    "    print mock\n",
    "    for j, model in enumerate(models):\n",
    "        print model\n",
    "        for k, rmin in enumerate(rmins):\n",
    "            chain_name = base_str%(mock, model, rmin)\n",
    "            #print chain_name\n",
    "            #print c.chains[0].name\n",
    "            names, cov = c.analysis.get_covariance(chain_name)\n",
    "            #print cov\n",
    "            inv_cov = inv(cov)\n",
    "\n",
    "            #max_dict = c.analysis.get_max_posteriors(chains=chain_name)\n",
    "            #max_point = np.array([max_dict[name] for name in names])\n",
    "            max_dict = c.analysis.get_summary(chains = chain_name)\n",
    "            max_point = np.array([max_dict[name][1] for name in names])\n",
    "\n",
    "            delta = true_point-max_point\n",
    "            d2 = delta.T.dot(inv_cov.dot(delta))\n",
    "            true_d = np.sqrt(d2)\n",
    "            print cov\n",
    "        \n",
    "            print true_d\n",
    "            print c.chains[j*4+k].name, chain_name\n",
    "            all_points = c.chains[j*4+k].chain#[:,idxs]\n",
    "            all_delta = (all_points-max_point)#[:1000]\n",
    "            all_d2 = np.array([d.T.dot(inv_cov.dot(d)) for d in all_delta])\n",
    "            all_d = np.sqrt(all_d2)\n",
    "            #print max_point\n",
    "            dist_mat[i+mock_no,j,k] = np.sum(true_d<all_d)*1.0/all_d.shape[0]#np.sqrt(d2)\n",
    "            #print chain_name,  np.sqrt(d2)#, likelihood(cov, d2)\n",
    "            #print "
   ]
  },
  {
   "cell_type": "raw",
   "metadata": {
    "collapsed": false
   },
   "source": [
    "cov"
   ]
  },
  {
   "cell_type": "code",
   "execution_count": null,
   "metadata": {
    "collapsed": true
   },
   "outputs": [],
   "source": []
  },
  {
   "cell_type": "code",
   "execution_count": 22,
   "metadata": {
    "collapsed": true
   },
   "outputs": [],
   "source": [
    "np.save('dist_mat.npy', dist_mat)"
   ]
  },
  {
   "cell_type": "code",
   "execution_count": 23,
   "metadata": {
    "collapsed": false
   },
   "outputs": [
    {
     "data": {
      "text/plain": [
       "array([[0.563266  , 0.92795752, 0.420704  , 0.29244352],\n",
       "       [0.22234176, 0.77025576, 0.92309032, 0.82421664],\n",
       "       [0.61937624, 0.93214352, 0.80748688, 0.77256592],\n",
       "       [0.19210456, 0.46489728, 0.12617744, 0.13041104]])"
      ]
     },
     "execution_count": 23,
     "metadata": {},
     "output_type": "execute_result"
    }
   ],
   "source": [
    "dist_mat[1]"
   ]
  },
  {
   "cell_type": "raw",
   "metadata": {
    "collapsed": true
   },
   "source": [
    "dist_mat = np.load('dist_mat.npy')"
   ]
  },
  {
   "cell_type": "code",
   "execution_count": 24,
   "metadata": {
    "collapsed": true
   },
   "outputs": [],
   "source": [
    "import seaborn as sns\n",
    "cmap = sns.diverging_palette(220, 20, n=3, as_cmap=True)"
   ]
  },
  {
   "cell_type": "code",
   "execution_count": 25,
   "metadata": {
    "collapsed": false
   },
   "outputs": [
    {
     "data": {
      "image/png": "[encoded data removed]",
      "text/plain": [
       "<matplotlib.figure.Figure at 0x7f3630240e50>"
      ]
     },
     "metadata": {},
     "output_type": "display_data"
    }
   ],
   "source": [
    "sns.palplot(sns.diverging_palette(220, 20, n=3))"
   ]
  },
  {
   "cell_type": "code",
   "execution_count": 26,
   "metadata": {
    "collapsed": false
   },
   "outputs": [
    {
     "data": {
      "image/png": "[encoded data removed]",
      "text/plain": [
       "<matplotlib.figure.Figure at 0x7f354c367810>"
      ]
     },
     "metadata": {},
     "output_type": "display_data"
    }
   ],
   "source": [
    "import numpy as np\n",
    "import matplotlib\n",
    "import matplotlib.pyplot as plt\n",
    "# sphinx_gallery_thumbnail_number = 2\n",
    "\n",
    "fig, axes = plt.subplots(1,4, figsize = (12,6))\n",
    "floor = 0\n",
    "\n",
    "mocks = ['Std. HOD', 'HSAB', 'SHAM', 'UM']\n",
    "models = ['Std. HOD', 'HSAB', 'cHSAB', 'CorrAB']\n",
    "for mock, d, ax in zip(mocks, dist_mat, axes.flatten()):\n",
    "    ax.set_title(mock)\n",
    "    im = ax.imshow(1-d, vmin = 0.5, vmax = 1.0, cmap = cmap)\n",
    "\n",
    "    # We want to show all ticks...\n",
    "    ax.set_xticks(np.arange(len(rmins)))\n",
    "    ax.set_yticks(np.arange(len(models)))\n",
    "    # ... and label them with the respective list entries\n",
    "    ax.set_xticklabels(rmins)\n",
    "    ax.set_yticklabels(models)\n",
    "\n",
    "    # Rotate the tick labels and set their alignment.\n",
    "    plt.setp(ax.get_xticklabels(), rotation=45, ha=\"right\",\n",
    "             rotation_mode=\"anchor\")\n",
    "\n",
    "    # Loop over data dimensions and create text annotations.\n",
    "    for i in range(len(rmins)):\n",
    "        for j in range(len(models)):\n",
    "            if d[i,j] < floor:\n",
    "                ax.text(j, i, r'$< %d \\sigma$'%floor,\n",
    "                           ha=\"center\", va=\"center\", color=\"k\")\n",
    "            else:\n",
    "                text = ax.text(j, i, round(d[i, j],2),\n",
    "                           ha=\"center\", va=\"center\", color=\"k\")\n",
    "\n",
    "#ax.set_title(\"Harvest of local farmers (in tons/year)\")\n",
    "fig.tight_layout()\n",
    "#plt.show()\n",
    "plt.savefig('key_plot.pdf', format='pdf')"
   ]
  },
  {
   "cell_type": "raw",
   "metadata": {
    "collapsed": false
   },
   "source": [
    "import numpy as np\n",
    "import matplotlib\n",
    "import matplotlib.pyplot as plt\n",
    "# sphinx_gallery_thumbnail_number = 2\n",
    "\n",
    "fig, axes = plt.subplots(2,2, figsize = (6,6))\n",
    "floor = 0\n",
    "\n",
    "mocks = ['Zheng07', 'HSAB', 'SHAM', 'UM']\n",
    "models = ['Zheng07', 'HSAB', 'CAB', 'CorrAB']\n",
    "for mock, d, ax in zip(mocks, dist_mat, axes.flatten()):\n",
    "    ax.set_title(mock)\n",
    "    im = ax.imshow(1-d, vmin = 0.5, vmax = 1.0, cmap = cmap)\n",
    "\n",
    "    # We want to show all ticks...\n",
    "    ax.set_xticks(np.arange(len(rmins)))\n",
    "    ax.set_yticks(np.arange(len(models)))\n",
    "    # ... and label them with the respective list entries\n",
    "    ax.set_xticklabels(rmins)\n",
    "    ax.set_yticklabels(models)\n",
    "\n",
    "    # Rotate the tick labels and set their alignment.\n",
    "    plt.setp(ax.get_xticklabels(), rotation=45, ha=\"right\",\n",
    "             rotation_mode=\"anchor\")\n",
    "\n",
    "    # Loop over data dimensions and create text annotations.\n",
    "    for i in range(len(rmins)):\n",
    "        for j in range(len(models)):\n",
    "            if d[i,j] < floor:\n",
    "                ax.text(j, i, r'$< %d \\sigma$'%floor,\n",
    "                           ha=\"center\", va=\"center\", color=\"k\")\n",
    "            else:\n",
    "                text = ax.text(j, i, round(d[i, j],2),\n",
    "                           ha=\"center\", va=\"center\", color=\"k\")\n",
    "\n",
    "#ax.set_title(\"Harvest of local farmers (in tons/year)\")\n",
    "fig.tight_layout()\n",
    "plt.show()\n",
    "#plt.savefig('key_plot.pdf', format='pdf')"
   ]
  },
  {
   "cell_type": "raw",
   "metadata": {},
   "source": [
    "c.plotter.plot(chains = '%s %s $r_{min} = %0.1f$'%(mocks[3],models[2], rmins[0]))"
   ]
  },
  {
   "cell_type": "code",
   "execution_count": null,
   "metadata": {
    "collapsed": false
   },
   "outputs": [],
   "source": [
    "summary_pnames = list(plot_param_names_set)\n",
    "summary_true_vals = [plot_true_vals_dict[pname] for pname in summary_pnames]\n",
    "summary_bounds = [plot_bounds_dict[pname] for pname in summary_pnames]"
   ]
  },
  {
   "cell_type": "raw",
   "metadata": {
    "collapsed": false
   },
   "source": [
    "palettes = []\n",
    "for model in models:\n",
    "    if model == 'HOD':\n",
    "        #palette = sns.cubehelix_palette(len(fnames), start = 2.6, rot = 0.1, gamma = 0.7)\n",
    "        palette = sns.cubehelix_palette(4, start = 2.6, rot = 0.1, gamma = 1.0, light = 0.6)\n",
    "\n",
    "    elif model == 'HSAB':\n",
    "        palette = sns.cubehelix_palette(4, start = 2.0, rot = 0.1, gamma = 1.0, light = 0.6)\n",
    "        #palette = sns.cubehelix_palette(len(fnames), start = 1.2, rot = 0.6, gamma = 1.7)\n",
    "    elif model == 'CAB':\n",
    "        palette = sns.cubehelix_palette(4, start = 0.6, rot = 0.1, gamma = 1.0, light = 0.6)\n",
    "    elif model == 'CorrAB':\n",
    "        #palette = sns.cubehelix_palette(len(fnames), start = 1.2, rot = 0.1, gamma = 1.2)\n",
    "        palette = sns.cubehelix_palette(4, start = 1.2, rot = 0.1, gamma = 2.0)\n",
    "    else:\n",
    "        palette = sns.cubehelix_palette(4, start = 2.6, rot = 0.1, gamma = 1.2)\n",
    "    palettes.append(palette)\n",
    "#sns.palplot(palette)"
   ]
  },
  {
   "cell_type": "raw",
   "metadata": {
    "collapsed": true
   },
   "source": [
    "def color_to_hex(color):\n",
    "    return np.array(color)#*255"
   ]
  },
  {
   "cell_type": "raw",
   "metadata": {
    "collapsed": false
   },
   "source": [
    "colors = []\n",
    "for palette in palettes:\n",
    "    for p in palette:\n",
    "        colors.append(color_to_hex(p))\n",
    "c.configure(colors = colors, shade = True, shade_alpha=0.2, shade_gradient=1.0, bar_shade=True)\n",
    "c.configure(diagonal_tick_labels=False, tick_font_size=8, label_font_size=25, max_ticks=8)"
   ]
  },
  {
   "cell_type": "raw",
   "metadata": {
    "collapsed": false
   },
   "source": [
    "#reorder_idxs = [3, 1, 0, 4, 2]\n",
    "#reorder_idxs = [2, 6, 5, 4, 3, 1, 0]\n",
    "reorder_idxs = [1, 6, 5, 4, 2, 3,0]\n",
    "\n",
    "summary_pnames = [summary_pnames[i] for i in reorder_idxs]\n",
    "summary_true_vals = [summary_true_vals[i] for i in reorder_idxs]\n",
    "summary_bounds = [summary_bounds[i] for i in reorder_idxs]"
   ]
  },
  {
   "cell_type": "raw",
   "metadata": {
    "collapsed": false
   },
   "source": [
    "bic = c.comparison.bic()\n",
    "\n",
    "for chain_name, b in zip(c.chains, bic):\n",
    "    print chain_name.name,'\\t', b"
   ]
  },
  {
   "cell_type": "code",
   "execution_count": null,
   "metadata": {
    "collapsed": true
   },
   "outputs": [],
   "source": []
  },
  {
   "cell_type": "code",
   "execution_count": null,
   "metadata": {
    "collapsed": true
   },
   "outputs": [],
   "source": []
  }
 ],
 "metadata": {
  "kernelspec": {
   "display_name": "Python [default]",
   "language": "python",
   "name": "python2"
  },
  "language_info": {
   "codemirror_mode": {
    "name": "ipython",
    "version": 2
   },
   "file_extension": ".py",
   "mimetype": "text/x-python",
   "name": "python",
   "nbconvert_exporter": "python",
   "pygments_lexer": "ipython2",
   "version": "2.7.13"
  }
 },
 "nbformat": 4,
 "nbformat_minor": 1
}

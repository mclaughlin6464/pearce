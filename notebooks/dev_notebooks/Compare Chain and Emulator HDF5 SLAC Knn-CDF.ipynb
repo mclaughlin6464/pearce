{
 "cells": [
  {
   "cell_type": "markdown",
   "metadata": {},
   "source": [
    "That last notebook got messy so I'm making a new cleaner one that will enable me to sample over both emulators simultaneously. "
   ]
  },
  {
   "cell_type": "code",
   "execution_count": 1,
   "metadata": {
    "collapsed": false
   },
   "outputs": [],
   "source": [
    "import matplotlib\n",
    "#matplotlib.use('Agg')\n",
    "from matplotlib import pyplot as plt\n",
    "%matplotlib inline\n",
    "import seaborn as sns\n",
    "#sns.set()"
   ]
  },
  {
   "cell_type": "code",
   "execution_count": 2,
   "metadata": {
    "collapsed": false
   },
   "outputs": [
    {
     "name": "stderr",
     "output_type": "stream",
     "text": [
      " /u/ki/swmclau2/.conda/envs/hodemulator/lib/python2.7/site-packages/sklearn/ensemble/weight_boosting.py:29: DeprecationWarning:numpy.core.umath_tests is an internal NumPy module and should not be imported. It will be removed in a future NumPy release.\n"
     ]
    }
   ],
   "source": [
    "import numpy as np\n",
    "import h5py\n",
    "from chainconsumer import ChainConsumer\n",
    "#from corner import corner\n",
    "from ast import literal_eval\n",
    "from pearce.emulator import LemonPepperWet\n",
    "from os import path\n",
    "from scipy.linalg import inv"
   ]
  },
  {
   "cell_type": "raw",
   "metadata": {
    "collapsed": true
   },
   "source": [
    "fname = '/u/ki/swmclau2/des/PearceMCMC/TAB_HOD_wp_ds_rmin_0.5_TAB_Zheng.hdf5'"
   ]
  },
  {
   "cell_type": "code",
   "execution_count": 3,
   "metadata": {
    "collapsed": true
   },
   "outputs": [],
   "source": [
    "fname = '/u/ki/swmclau2/des/PearceMCMC/HOD_1_1_rmin_1.0_Knn1CDF_v3.hdf5'"
   ]
  },
  {
   "cell_type": "raw",
   "metadata": {
    "collapsed": true
   },
   "source": [
    "fname = '/u/ki/swmclau2/des/PearceMCMC/HOD_5_1_rmin_1.0_Xi.hdf5'"
   ]
  },
  {
   "cell_type": "code",
   "execution_count": 4,
   "metadata": {
    "collapsed": false
   },
   "outputs": [],
   "source": [
    "f = h5py.File(fname, 'r')"
   ]
  },
  {
   "cell_type": "code",
   "execution_count": 5,
   "metadata": {
    "collapsed": false
   },
   "outputs": [],
   "source": [
    "tf = f.attrs['training_file']\n",
    "fixed_params = literal_eval(f.attrs['fixed_params'])\n",
    "if 'rmin' in fixed_params:\n",
    "    del fixed_params['rmin']\n",
    "emu_hps = literal_eval(f.attrs['emu_hps'])"
   ]
  },
  {
   "cell_type": "code",
   "execution_count": 6,
   "metadata": {
    "collapsed": false
   },
   "outputs": [
    {
     "data": {
      "text/plain": [
       "array(['/u/ki/swmclau2/des/Aemulators/knn_1_cdf_hsab/PearceKNN1CDFCutHSABCosmo.hdf5'],\n",
       "      dtype='|S75')"
      ]
     },
     "execution_count": 6,
     "metadata": {},
     "output_type": "execute_result"
    }
   ],
   "source": [
    "tf"
   ]
  },
  {
   "cell_type": "code",
   "execution_count": 7,
   "metadata": {
    "collapsed": false
   },
   "outputs": [],
   "source": [
    "fixed_params = fixed_params[0] if type(fixed_params) is list else fixed_params"
   ]
  },
  {
   "cell_type": "raw",
   "metadata": {},
   "source": [
    "tf_base = '/u/ki/swmclau2/des/Aemulators/'\n",
    "\n",
    "_tf = []\n",
    "for t in tf:\n",
    "    last2 = t.split('/')[-2:]\n",
    "    _tf.append(path.join(tf_base, last2[0], last2[1]))\n",
    "    \n",
    "tf = _tf"
   ]
  },
  {
   "cell_type": "code",
   "execution_count": 8,
   "metadata": {
    "collapsed": false
   },
   "outputs": [
    {
     "name": "stdout",
     "output_type": "stream",
     "text": [
      "/u/ki/swmclau2/des/Aemulators/knn_1_cdf_hsab/PearceKNN1CDFCutHSABCosmo.hdf5\n",
      "Mean -1.3546453325152716\n",
      "Std 1.0\n"
     ]
    }
   ],
   "source": [
    "emus = []\n",
    "for t in tf:\n",
    "    print t\n",
    "    emus.append(LemonPepperWet(t, fixed_params = fixed_params))#, hyperparams = emu_hps) )"
   ]
  },
  {
   "cell_type": "code",
   "execution_count": 9,
   "metadata": {
    "collapsed": false
   },
   "outputs": [
    {
     "name": "stdout",
     "output_type": "stream",
     "text": [
      "mean_occupation_centrals_assembias_param1 (-1.0, 1.0)\n",
      "logM0 (12.6, 13.6)\n",
      "sigma_logM (0.05, 0.5)\n",
      "mean_occupation_satellites_assembias_param1 (-1.0, 1.0)\n",
      "logM1 (13.7, 14.7)\n",
      "alpha (0.7, 1.3)\n",
      "conc_gal_bias (0.5, 2.0)\n"
     ]
    }
   ],
   "source": [
    "pnames = emus[0].get_param_names()[7:]\n",
    "for p in pnames:\n",
    "    print p, emus[0].get_param_bounds(p)"
   ]
  },
  {
   "cell_type": "code",
   "execution_count": 10,
   "metadata": {
    "collapsed": true
   },
   "outputs": [],
   "source": [
    "reorder_idxs = [5,1,0,6,2,3,4]"
   ]
  },
  {
   "cell_type": "markdown",
   "metadata": {},
   "source": [
    "['ombh2',\n",
    " 'omch2',\n",
    " 'w0',\n",
    " 'ns',\n",
    " 'H0',\n",
    " 'Neff',\n",
    " 'sigma8',\n",
    " 'mean_occupation_centrals_assembias_param1',\n",
    " 'logM0',\n",
    " 'sigma_logM',\n",
    " 'mean_occupation_satellites_assembias_param1',\n",
    " 'logM1',\n",
    " 'alpha',\n",
    " 'conc_gal_bias']"
   ]
  },
  {
   "cell_type": "raw",
   "metadata": {
    "collapsed": false,
    "scrolled": true
   },
   "source": [
    "for emu in emus:\n",
    "    print emu._emulator\n",
    "    print emu._emulator.kern0#.Mat32.lengthscale\n",
    "    print emu._emulator.kern0.Mat32.lengthscale\n",
    "    #print emu._emulator.kern1.rbf.lengthscale\n",
    "\n",
    "    print "
   ]
  },
  {
   "cell_type": "raw",
   "metadata": {},
   "source": [
    "k=1\n",
    "index  |  KGPR.sum.Mat32.lengthscale  |  constraints  |  priors\n",
    "  [0]    |                  2.38054272  |      +ve      |        \n",
    "  [1]    |                  0.86609865  |      +ve      |        \n",
    "  [2]    |                  0.52744707  |      +ve      |        \n",
    "  [3]    |                  0.81346928  |      +ve      |        \n",
    "  [4]    |                  0.31581797  |      +ve      |        \n",
    "  [5]    |                  0.23501161  |      +ve      |        \n",
    "  [6]    |                  0.75105464  |      +ve      |        \n"
   ]
  },
  {
   "cell_type": "raw",
   "metadata": {},
   "source": [
    "k=2\n",
    "index  |  KGPR.sum.Mat32.lengthscale  |  constraints  |  priors\n",
    "  [0]    |                  0.29284932  |      +ve      |        \n",
    "  [1]    |                  0.97849551  |      +ve      |        \n",
    "  [2]    |                  1.19208850  |      +ve      |        \n",
    "  [3]    |                  0.77390025  |      +ve      |        \n",
    "  [4]    |                  1.42402467  |      +ve      |        \n",
    "  [5]    |                  1.37737695  |      +ve      |        \n",
    "  [6]    |                  0.59129424  |      +ve      |        "
   ]
  },
  {
   "cell_type": "raw",
   "metadata": {},
   "source": [
    "k=4\n",
    "index  |  KGPR.sum.Mat32.lengthscale  |  constraints  |  priors\n",
    "  [0]    |                 30.89378167  |      +ve      |        \n",
    "  [1]    |                  6.59134835  |      +ve      |        \n",
    "  [2]    |                 22.35477885  |      +ve      |        \n",
    "  [3]    |                 39.72304664  |      +ve      |        \n",
    "  [4]    |                  5.56252266  |      +ve      |        \n",
    "  [5]    |                 36.32862504  |      +ve      |        \n",
    "  [6]    |                  3.51263967  |      +ve      |        \n"
   ]
  },
  {
   "cell_type": "code",
   "execution_count": 11,
   "metadata": {
    "collapsed": true
   },
   "outputs": [],
   "source": [
    "emu = emus[0]"
   ]
  },
  {
   "cell_type": "code",
   "execution_count": 12,
   "metadata": {
    "collapsed": false
   },
   "outputs": [
    {
     "data": {
      "text/plain": [
       "(40, 1000, 15)"
      ]
     },
     "execution_count": 12,
     "metadata": {},
     "output_type": "execute_result"
    }
   ],
   "source": [
    "emu.y.shape"
   ]
  },
  {
   "cell_type": "code",
   "execution_count": 13,
   "metadata": {
    "collapsed": false
   },
   "outputs": [
    {
     "data": {
      "text/plain": [
       "['mean_occupation_centrals_assembias_param1',\n",
       " 'logM0',\n",
       " 'sigma_logM',\n",
       " 'mean_occupation_satellites_assembias_param1',\n",
       " 'logM1',\n",
       " 'alpha',\n",
       " 'conc_gal_bias']"
      ]
     },
     "execution_count": 13,
     "metadata": {},
     "output_type": "execute_result"
    }
   ],
   "source": [
    "emu.get_param_names()[7:]"
   ]
  },
  {
   "cell_type": "raw",
   "metadata": {},
   "source": [
    "(emu.x*emu._x2_std+emu._x2_mean)[:,5].min()"
   ]
  },
  {
   "cell_type": "code",
   "execution_count": 14,
   "metadata": {
    "collapsed": false
   },
   "outputs": [],
   "source": [
    "idxs = np.argsort(emu.x1[:,1])"
   ]
  },
  {
   "cell_type": "code",
   "execution_count": 15,
   "metadata": {
    "collapsed": false
   },
   "outputs": [],
   "source": [
    "cmaps = sns.cubehelix_palette(n_colors = 40)"
   ]
  },
  {
   "cell_type": "code",
   "execution_count": 16,
   "metadata": {
    "collapsed": false
   },
   "outputs": [
    {
     "data": {
      "image/png": "[encoded data removed]",
      "text/plain": [
       "<Figure size 600x400 with 1 Axes>"
      ]
     },
     "metadata": {},
     "output_type": "display_data"
    }
   ],
   "source": [
    "for i,c in zip(idxs, cmaps):#[20:25]:\n",
    "    plt.plot(emu.scale_bin_centers, emu.y[i,9],color=c,  label = i );\n",
    "plt.xscale('log')\n",
    "#plt.legend(loc='best')"
   ]
  },
  {
   "cell_type": "code",
   "execution_count": 17,
   "metadata": {
    "collapsed": false
   },
   "outputs": [
    {
     "data": {
      "text/plain": [
       "array([ 0,  1,  2,  3,  4,  5,  6,  7,  8,  9, 10, 11, 12, 13, 14, 15, 16,\n",
       "       17, 18, 19, 20, 21, 22, 23, 24, 25, 26, 27, 28, 29, 30, 31, 32, 33,\n",
       "       34, 35, 36, 37, 38, 39])"
      ]
     },
     "execution_count": 17,
     "metadata": {},
     "output_type": "execute_result"
    }
   ],
   "source": [
    "np.where(emu.y[:,9][:,0]<0.5)[0]"
   ]
  },
  {
   "cell_type": "code",
   "execution_count": 18,
   "metadata": {
    "collapsed": false
   },
   "outputs": [
    {
     "data": {
      "text/plain": [
       "['ombh2', 'omch2', 'w0', 'ns', 'H0', 'Neff', 'sigma8']"
      ]
     },
     "execution_count": 18,
     "metadata": {},
     "output_type": "execute_result"
    }
   ],
   "source": [
    "emu.get_param_names()[:7]"
   ]
  },
  {
   "cell_type": "code",
   "execution_count": 19,
   "metadata": {
    "collapsed": true
   },
   "outputs": [],
   "source": [
    "chain_pnames = f.attrs['param_names']"
   ]
  },
  {
   "cell_type": "code",
   "execution_count": 20,
   "metadata": {
    "collapsed": true
   },
   "outputs": [],
   "source": [
    "n_walkers = f.attrs['nwalkers']"
   ]
  },
  {
   "cell_type": "code",
   "execution_count": 21,
   "metadata": {
    "collapsed": false
   },
   "outputs": [],
   "source": [
    "n_burn =0\n",
    "chain = f['chain'][n_burn*n_walkers:, :]\n",
    "lnprob = f['lnprob'][n_burn*n_walkers:]"
   ]
  },
  {
   "cell_type": "code",
   "execution_count": 22,
   "metadata": {
    "collapsed": false
   },
   "outputs": [],
   "source": [
    "try:\n",
    "    rmin = eval(f.attrs['fixed_params'])['rmin']\n",
    "except:\n",
    "    rmin = 0"
   ]
  },
  {
   "cell_type": "code",
   "execution_count": 23,
   "metadata": {
    "collapsed": true
   },
   "outputs": [],
   "source": [
    "n_params = chain.shape[1] if len(chain.shape) > 1 else 1"
   ]
  },
  {
   "cell_type": "code",
   "execution_count": 24,
   "metadata": {
    "collapsed": false
   },
   "outputs": [
    {
     "name": "stdout",
     "output_type": "stream",
     "text": [
      "(2143250, 14) 8573\n"
     ]
    }
   ],
   "source": [
    "print chain.shape, chain.shape[0]/n_walkers"
   ]
  },
  {
   "cell_type": "code",
   "execution_count": 25,
   "metadata": {
    "collapsed": false
   },
   "outputs": [
    {
     "data": {
      "text/plain": [
       "<chainconsumer.chainconsumer.ChainConsumer at 0x7fe88f88b350>"
      ]
     },
     "execution_count": 25,
     "metadata": {},
     "output_type": "execute_result"
    }
   ],
   "source": [
    "c = ChainConsumer()\n",
    "chain = chain.reshape((-1, n_walkers, chain.shape[1]))\n",
    "chain = chain.reshape((-1, chain.shape[2]), order = 'F')\n",
    "lnprob = lnprob.reshape((-1, n_walkers)).reshape((-1,), order = 'F')\n",
    "lnprob[~np.isfinite(lnprob)] = -1e9\n",
    "c.add_chain(chain, parameters=list(chain_pnames), walkers = n_walkers, posterior=lnprob)\n"
   ]
  },
  {
   "cell_type": "raw",
   "metadata": {
    "collapsed": false
   },
   "source": [
    "#MAP = chain.mean(axis = 0)\n",
    "c.configure(statistics='cumulative')\n",
    "summary = c.analysis.get_summary(chains=0)\n",
    "MAP = np.array([summary[key][1] for key in chain_pnames])\n",
    "print MAP"
   ]
  },
  {
   "cell_type": "code",
   "execution_count": 26,
   "metadata": {
    "collapsed": false
   },
   "outputs": [],
   "source": [
    "MAP_dict = c.analysis.get_max_posteriors()"
   ]
  },
  {
   "cell_type": "code",
   "execution_count": 27,
   "metadata": {
    "collapsed": false
   },
   "outputs": [],
   "source": [
    "#fixed_params = eval(f.attrs['chain_fixed_params'])\n",
    "#fixed_params.update(eval(f.attrs['sim'])['cosmo_params'])"
   ]
  },
  {
   "cell_type": "code",
   "execution_count": 28,
   "metadata": {
    "collapsed": false
   },
   "outputs": [],
   "source": [
    "MAP_dict.update(fixed_params)"
   ]
  },
  {
   "cell_type": "code",
   "execution_count": 29,
   "metadata": {
    "collapsed": false
   },
   "outputs": [
    {
     "data": {
      "text/plain": [
       "{'H0': 65.194885,\n",
       " 'Neff': 4.2552752,\n",
       " 'alpha': 0.9815507,\n",
       " 'conc_gal_bias': 0.9278828,\n",
       " 'logM0': 13.211898,\n",
       " 'logM1': 14.002002,\n",
       " 'mean_occupation_centrals_assembias_param1': -0.41920412,\n",
       " 'mean_occupation_satellites_assembias_param1': -0.048989765,\n",
       " 'ns': 0.9548922,\n",
       " 'ombh2': 0.022214372,\n",
       " 'omch2': 0.12219822,\n",
       " 'sigma8': 0.7831468,\n",
       " 'sigma_logM': 0.22673719,\n",
       " 'w0': -0.97155195,\n",
       " 'z': 0.0}"
      ]
     },
     "execution_count": 29,
     "metadata": {},
     "output_type": "execute_result"
    }
   ],
   "source": [
    "MAP_dict"
   ]
  },
  {
   "cell_type": "code",
   "execution_count": 30,
   "metadata": {
    "collapsed": false
   },
   "outputs": [],
   "source": [
    "MAP_pred = [emu.emulate_wrt_r(MAP_dict, r_bin_centers=emu.scale_bin_centers).squeeze() for emu in emus]#)\n",
    "#MAP_pred = MAP_pred.reshape((len(emus), -1))"
   ]
  },
  {
   "cell_type": "code",
   "execution_count": 31,
   "metadata": {
    "collapsed": true
   },
   "outputs": [],
   "source": [
    "hod_idxs = np.array(range(7, len(chain_pnames)))\n",
    "cosmo_idxs = np.array(range(7))"
   ]
  },
  {
   "cell_type": "code",
   "execution_count": 32,
   "metadata": {
    "collapsed": true
   },
   "outputs": [],
   "source": [
    "if chain.shape[1] == 7:\n",
    "    cosmo_chain = chain\n",
    "else:\n",
    "    hod_chain = chain[:,7:]#[:, hod_idxs]\n",
    "    cosmo_chain = chain[:,:7]#[:, cosmo_idxs]"
   ]
  },
  {
   "cell_type": "code",
   "execution_count": 33,
   "metadata": {
    "collapsed": true
   },
   "outputs": [],
   "source": [
    "from pearce.mocks import cat_dict\n",
    "cosmo_params = {}"
   ]
  },
  {
   "cell_type": "code",
   "execution_count": 34,
   "metadata": {
    "collapsed": true
   },
   "outputs": [],
   "source": [
    "cosmo_params['boxno'] = 1#5\n",
    "cosmo_params['realization'] = 1"
   ]
  },
  {
   "cell_type": "code",
   "execution_count": 35,
   "metadata": {
    "collapsed": true
   },
   "outputs": [],
   "source": [
    "cat = cat_dict['testbox'](**cosmo_params)#construct the specified catalog!"
   ]
  },
  {
   "cell_type": "code",
   "execution_count": 36,
   "metadata": {
    "collapsed": true
   },
   "outputs": [],
   "source": [
    "cpv = cat._get_cosmo_param_names_vals()\n",
    "\n",
    "cat_val_dict =  {key: val for key, val in zip(cpv[0], cpv[1])}"
   ]
  },
  {
   "cell_type": "raw",
   "metadata": {
    "collapsed": true
   },
   "source": [
    "h = 0.6777\n",
    "cosmo_pnames = ['ombh2', 'omch2', 'w0', 'ns', 'H0', 'Neff', 'sigma8']\n",
    "cosmo_true_vals = np.array([0.048206*h**2, 0.307115*h**2-0.048206*h**2,\\\n",
    "                            -1, 0.9667, \\\n",
    "                                h*100, 3.046, 0.8228]) #mdpl2\n",
    "\n",
    "cat_val_dict = dict(zip(cosmo_pnames, cosmo_true_vals))"
   ]
  },
  {
   "cell_type": "code",
   "execution_count": 37,
   "metadata": {
    "collapsed": false
   },
   "outputs": [
    {
     "data": {
      "text/plain": [
       "{'H0': 65.7317,\n",
       " 'Neff': 3.2,\n",
       " 'ns': 0.971515,\n",
       " 'ombh2': 0.022762900000000003,\n",
       " 'omch2': 0.11283,\n",
       " 'sigma8': 0.7542319000000001,\n",
       " 'w0': -0.861513}"
      ]
     },
     "execution_count": 37,
     "metadata": {},
     "output_type": "execute_result"
    }
   ],
   "source": [
    "cat_val_dict"
   ]
  },
  {
   "cell_type": "code",
   "execution_count": 38,
   "metadata": {
    "collapsed": false
   },
   "outputs": [
    {
     "data": {
      "text/plain": [
       "['ombh2',\n",
       " 'omch2',\n",
       " 'w0',\n",
       " 'ns',\n",
       " 'H0',\n",
       " 'Neff',\n",
       " 'sigma8',\n",
       " 'mean_occupation_centrals_assembias_param1',\n",
       " 'logM0',\n",
       " 'sigma_logM',\n",
       " 'mean_occupation_satellites_assembias_param1',\n",
       " 'logM1',\n",
       " 'alpha',\n",
       " 'conc_gal_bias']"
      ]
     },
     "execution_count": 38,
     "metadata": {},
     "output_type": "execute_result"
    }
   ],
   "source": [
    "emu.get_param_names()"
   ]
  },
  {
   "cell_type": "code",
   "execution_count": 39,
   "metadata": {
    "collapsed": false
   },
   "outputs": [],
   "source": [
    "true_param_dict = cat_val_dict.copy()\n",
    "hod_params = {'alpha': 1.0, 'conc_gal_bias': 1.0, 'logM0': 13.0,'logM1': 14.0,\\\n",
    "              'sigma_logM': 0.2}#sim_info['hod_params']\n",
    "#hod_params = {'alpha': 1.09, 'conc_gal_bias': 1.0, 'logM0': 13.4,\n",
    "#              'logM1': 14.6, 'sigma_logM': 0.6}#sim_info['hod_params']\n",
    "#hod_params = {'conc_gal_bias':1.0}\n",
    "#hod_params = {'alpha':0.95, 'conc_gal_bias': 1.0, 'logM0': 13.5,\n",
    "#              'logM1': 14.2, 'sigma_logM': 0.4}\n",
    "#plot_hod_true_vals = [0.4, 13.5, 14.2, 0.95, 1.0]\n",
    "\n",
    "#plot_hod_true_vals = [0.2, 13.0, 14.0, 1.0, 1.0]\n",
    "\n",
    "hod_params['mean_occupation_centrals_assembias_param1'] = 0.0#25\n",
    "hod_params['mean_occupation_satellites_assembias_param1'] = -0.0#75\n",
    "#hod_params['mean_occupation_centrals_assembias_slope1'] = 3.0\n",
    "#hod_params['mean_occupation_satellites_assembias_slope1'] = 3.0\n",
    "#hod_params['mean_occupation_centrals_assembias_corr1'] = 0.0#25\n",
    "#hod_params['mean_occupation_satellites_assembias_corr1'] = -0.0#75\n",
    "#for pname in emu.get_param_names():\n",
    "#    if 'mean_occupation' in pname:\n",
    "#        hod_params[pname] = 0.0\n",
    "\n",
    "for hp, hv in hod_params.iteritems():\n",
    "#for hp, hv in MAP_dict.iteritems():\n",
    "    if hp == 'logMmin':\n",
    "        continue\n",
    "    elif hp in true_param_dict: #don't overwrite the correct cosmology\n",
    "        continue\n",
    "\n",
    "    true_param_dict[hp] = hv\n",
    "\n",
    "#for hp, hv in MAP_dict.iteritems():\n",
    "#    if hp == 'logMmin':\n",
    "#        continue\n",
    "    #elif hp in true_param_dict: #don't overwrite the correct cosmology\n",
    "    #    continue\n",
    "#    elif hp in true_param_dict: #don't overwrite the correct cosmology\n",
    "#        true_param_dict[hp] = hv\n",
    "    \n",
    "true_param_dict['conc_gal_bias'] = 1.0\n",
    "true_pred = emu.emulate_wrt_r(true_param_dict)[0]"
   ]
  },
  {
   "cell_type": "code",
   "execution_count": 40,
   "metadata": {
    "collapsed": false
   },
   "outputs": [
    {
     "data": {
      "text/plain": [
       "{'H0': 65.7317,\n",
       " 'Neff': 3.2,\n",
       " 'alpha': 1.0,\n",
       " 'conc_gal_bias': 1.0,\n",
       " 'logM0': 13.0,\n",
       " 'logM1': 14.0,\n",
       " 'mean_occupation_centrals_assembias_param1': 0.0,\n",
       " 'mean_occupation_satellites_assembias_param1': -0.0,\n",
       " 'ns': 0.971515,\n",
       " 'ombh2': 0.022762900000000003,\n",
       " 'omch2': 0.11283,\n",
       " 'sigma8': 0.7542319000000001,\n",
       " 'sigma_logM': 0.2,\n",
       " 'w0': -0.861513}"
      ]
     },
     "execution_count": 40,
     "metadata": {},
     "output_type": "execute_result"
    }
   ],
   "source": [
    "true_param_dict"
   ]
  },
  {
   "cell_type": "code",
   "execution_count": 41,
   "metadata": {
    "collapsed": false
   },
   "outputs": [
    {
     "data": {
      "text/plain": [
       "{'H0': 65.194885,\n",
       " 'Neff': 4.2552752,\n",
       " 'alpha': 0.9815507,\n",
       " 'conc_gal_bias': 0.9278828,\n",
       " 'logM0': 13.211898,\n",
       " 'logM1': 14.002002,\n",
       " 'mean_occupation_centrals_assembias_param1': -0.41920412,\n",
       " 'mean_occupation_satellites_assembias_param1': -0.048989765,\n",
       " 'ns': 0.9548922,\n",
       " 'ombh2': 0.022214372,\n",
       " 'omch2': 0.12219822,\n",
       " 'sigma8': 0.7831468,\n",
       " 'sigma_logM': 0.22673719,\n",
       " 'w0': -0.97155195,\n",
       " 'z': 0.0}"
      ]
     },
     "execution_count": 41,
     "metadata": {},
     "output_type": "execute_result"
    }
   ],
   "source": [
    "MAP_dict"
   ]
  },
  {
   "cell_type": "code",
   "execution_count": 42,
   "metadata": {
    "collapsed": true
   },
   "outputs": [],
   "source": [
    "true_data = f['data'][()].flatten()"
   ]
  },
  {
   "cell_type": "raw",
   "metadata": {
    "collapsed": false
   },
   "source": [
    "np.save('/u/ki/swmclau2/Git/pearce/bin/mock_measurements/testbox_1_1_knn_8_cdf.npy', true_data)"
   ]
  },
  {
   "cell_type": "code",
   "execution_count": 43,
   "metadata": {
    "collapsed": false
   },
   "outputs": [
    {
     "data": {
      "text/plain": [
       "array([0.00035448, 0.00076424, 0.0016436 , 0.00352052, 0.00749887,\n",
       "       0.01582761, 0.03289377, 0.06671295])"
      ]
     },
     "execution_count": 43,
     "metadata": {},
     "output_type": "execute_result"
    }
   ],
   "source": [
    "true_data[:-7]"
   ]
  },
  {
   "cell_type": "code",
   "execution_count": 44,
   "metadata": {
    "collapsed": true
   },
   "outputs": [],
   "source": [
    "y = true_data\n",
    "true_data = true_data.reshape((len(emus), -1))"
   ]
  },
  {
   "cell_type": "raw",
   "metadata": {
    "collapsed": false
   },
   "source": [
    "y = true_data\n",
    "true_data = [true_data[:emus[0].n_bins].squeeze(), true_data[emus[0].n_bins:emus[0].n_bins+emus[1].n_bins].squeeze(), true_data[emus[0].n_bins+emus[1].n_bins:].squeeze()]"
   ]
  },
  {
   "cell_type": "raw",
   "metadata": {
    "collapsed": false
   },
   "source": [
    "plt.plot(emus[0].scale_bin_centers, true_data[0])\n",
    "plt.plot(emus[1].scale_bin_centers, true_data[1])\n",
    "plt.plot(emus[2].scale_bin_centers, true_data[2])\n",
    "\n",
    "plt.loglog();"
   ]
  },
  {
   "cell_type": "code",
   "execution_count": 45,
   "metadata": {
    "collapsed": true
   },
   "outputs": [],
   "source": [
    "rbc = emu.scale_bin_centers#[-len(emu.scale_bin_centers):]"
   ]
  },
  {
   "cell_type": "code",
   "execution_count": 46,
   "metadata": {
    "collapsed": true
   },
   "outputs": [],
   "source": [
    "cov = f['cov'][()]\n",
    "yerr = np.sqrt(np.diag(cov))#.reshape((len(emus), -1))\n",
    "#yerr = [yerr[:emus[0].n_bins].squeeze(), yerr[emus[0].n_bins:emus[0].n_bins+emus[1].n_bins].squeeze(), yerr[emus[0].n_bins+emus[1].n_bins:].squeeze()]"
   ]
  },
  {
   "cell_type": "raw",
   "metadata": {
    "collapsed": true
   },
   "source": [
    "cov1 = np.load('/u/ki/swmclau2/Git/pearce/bin/covmat/knn_1_cdf_cut_sim_covmat.npy')\n",
    "cov2 = np.load('/u/ki/swmclau2/Git/pearce/bin/optimization/knn_1_cdf_cut_hsab_emu_cov_lpw.npy')\n",
    "cov = cov1+cov2\n",
    "yerr = np.sqrt(np.diag(cov))#.reshape((len(emus), -1))\n",
    "#yerr = [yerr[:emus[0].n_bins].squeeze(), yerr[emus[0].n_bins:emus[0].n_bins+emus[1].n_bins].squeeze(), yerr[emus[0].n_bins+emus[1].n_bins:].squeeze()]"
   ]
  },
  {
   "cell_type": "raw",
   "metadata": {
    "collapsed": false
   },
   "source": [
    "plt.plot(rbc, np.sqrt(np.diag(cov1)))\n",
    "plt.plot(rbc, np.sqrt(np.diag(cov2)))\n",
    "plt.loglog()"
   ]
  },
  {
   "cell_type": "raw",
   "metadata": {
    "collapsed": false
   },
   "source": [
    "print np.sqrt(np.diag(cov2))/np.sqrt(np.diag(cov1))"
   ]
  },
  {
   "cell_type": "raw",
   "metadata": {
    "collapsed": false
   },
   "source": [
    "_rp = []\n",
    "_y = []\n",
    "print y.shape, y\n",
    "print cov.shape, np.sqrt(np.diag(cov))\n",
    "init_idx = 0\n",
    "print '*'*20\n",
    "fixed_params = [{'z':0.0, 'rmin':2.0} for e in emus]\n",
    "rpoints = [e.scale_bin_centers for e in emus]\n",
    "\n",
    "for _tf, rp, fp in zip(tf, rpoints, fixed_params): # TODO iterate over the others?\n",
    "# TODO how will cic work with rmin?\n",
    "    print fp\n",
    "    emu = LemonPepperWet(_tf, fixed_params = fp,\n",
    "                         **{})\n",
    "    orig_n_bins = len(rp)\n",
    "    cut_n_bins = orig_n_bins - emu.n_bins\n",
    "    print orig_n_bins, emu.n_bins, cut_n_bins\n",
    "    _rp.append(np.array(rp[-emu.n_bins:]))\n",
    "    _y.append(y[init_idx+cut_n_bins:init_idx + orig_n_bins])\n",
    "    print 'y', len(_y[-1]), _y\n",
    "    #print '_y', _y\n",
    "    cov_idxs = np.ones((cov.shape[0],), dtype = bool)\n",
    "    cov_idxs[init_idx:init_idx+cut_n_bins] = False # deselect the bins we're cutting\n",
    "    print 'cov', cov_idxs\n",
    "    cov = cov[cov_idxs]\n",
    "    cov = cov[:, cov_idxs]\n",
    "    print 'cov', cov.shape, np.sqrt(np.diag(cov))\n",
    "\n",
    "    init_idx+=orig_n_bins#emu.n_bins\n",
    "    print '*'*20"
   ]
  },
  {
   "cell_type": "raw",
   "metadata": {},
   "source": [
    "true_data2 = np.zeros_like(true_data)\n",
    "true_data2[0] = np.load('/u/ki/swmclau2/Git/pearce/bin/mock_measurements/HOD6mock_wp.npy')\n",
    "true_data2[1] = np.load('/u/ki/swmclau2/Git/pearce/bin/mock_measurements/HOD6mock_ds.npy')"
   ]
  },
  {
   "cell_type": "code",
   "execution_count": 47,
   "metadata": {
    "collapsed": false
   },
   "outputs": [
    {
     "data": {
      "text/plain": [
       "{'H0': 65.7317,\n",
       " 'Neff': 3.2,\n",
       " 'alpha': 1.0,\n",
       " 'conc_gal_bias': 1.0,\n",
       " 'logM0': 13.0,\n",
       " 'logM1': 14.0,\n",
       " 'mean_occupation_centrals_assembias_param1': 0.0,\n",
       " 'mean_occupation_satellites_assembias_param1': -0.0,\n",
       " 'ns': 0.971515,\n",
       " 'ombh2': 0.022762900000000003,\n",
       " 'omch2': 0.11283,\n",
       " 'sigma8': 0.7542319000000001,\n",
       " 'sigma_logM': 0.2,\n",
       " 'w0': -0.861513}"
      ]
     },
     "execution_count": 47,
     "metadata": {},
     "output_type": "execute_result"
    }
   ],
   "source": [
    "true_param_dict"
   ]
  },
  {
   "cell_type": "code",
   "execution_count": 48,
   "metadata": {
    "collapsed": false
   },
   "outputs": [],
   "source": [
    "true_pred = emus[0].emulate_wrt_r(true_param_dict).squeeze()"
   ]
  },
  {
   "cell_type": "code",
   "execution_count": 49,
   "metadata": {
    "collapsed": false
   },
   "outputs": [
    {
     "data": {
      "text/plain": [
       "(15,)"
      ]
     },
     "execution_count": 49,
     "metadata": {},
     "output_type": "execute_result"
    }
   ],
   "source": [
    "true_pred.shape"
   ]
  },
  {
   "cell_type": "code",
   "execution_count": 50,
   "metadata": {
    "collapsed": false
   },
   "outputs": [
    {
     "data": {
      "image/png": "[encoded data removed]",
      "text/plain": [
       "<Figure size 600x400 with 1 Axes>"
      ]
     },
     "metadata": {},
     "output_type": "display_data"
    }
   ],
   "source": [
    "plt.plot(emus[0].scale_bin_centers, 10**true_pred.T)\n",
    "plt.xscale('log')\n",
    "plt.yscale('log')"
   ]
  },
  {
   "cell_type": "code",
   "execution_count": 51,
   "metadata": {
    "collapsed": false
   },
   "outputs": [
    {
     "data": {
      "image/png": "[encoded data removed]",
      "text/plain": [
       "<Figure size 600x400 with 1 Axes>"
      ]
     },
     "metadata": {},
     "output_type": "display_data"
    }
   ],
   "source": [
    "#fig = plt.figure(figsize = (12,5))\n",
    "for i in xrange(len(emus)):\n",
    "    #plt.subplot(1,3,i+1)\n",
    "    rbc = emus[i].scale_bin_centers\n",
    "    true_pred = emus[i].emulate_wrt_r(true_param_dict)[0].squeeze()\n",
    "    plt.errorbar(rbc, true_data[i], yerr=yerr[i], label = 'Data')\n",
    "    #plt.plot(rbc, 10**MAP_pred, label = 'MAP')\n",
    "    plt.plot(rbc, 10**true_pred, label = 'Emu at Truth')\n",
    "\n",
    "    plt.loglog()\n",
    "    #plt.legend(loc='best')\n",
    "plt.show();"
   ]
  },
  {
   "cell_type": "code",
   "execution_count": 52,
   "metadata": {
    "collapsed": false
   },
   "outputs": [
    {
     "data": {
      "text/plain": [
       "array([1.24242174e-06, 1.74757140e-06, 3.37982284e-06, 7.60277262e-06,\n",
       "       1.74146655e-05, 3.89380388e-05, 8.42486755e-05, 1.74956608e-04,\n",
       "       3.44819661e-04, 6.33993311e-04, 1.04983738e-03, 1.47090220e-03,\n",
       "       1.57018216e-03, 1.07718805e-03, 3.77298293e-04])"
      ]
     },
     "execution_count": 52,
     "metadata": {},
     "output_type": "execute_result"
    }
   ],
   "source": [
    "yerr"
   ]
  },
  {
   "cell_type": "code",
   "execution_count": 53,
   "metadata": {
    "collapsed": false
   },
   "outputs": [
    {
     "data": {
      "text/plain": [
       "{'H0': 65.7317,\n",
       " 'Neff': 3.2,\n",
       " 'alpha': 1.0,\n",
       " 'conc_gal_bias': 1.0,\n",
       " 'logM0': 13.0,\n",
       " 'logM1': 14.0,\n",
       " 'mean_occupation_centrals_assembias_param1': 0.0,\n",
       " 'mean_occupation_satellites_assembias_param1': -0.0,\n",
       " 'ns': 0.971515,\n",
       " 'ombh2': 0.022762900000000003,\n",
       " 'omch2': 0.11283,\n",
       " 'sigma8': 0.7542319000000001,\n",
       " 'sigma_logM': 0.2,\n",
       " 'w0': -0.861513}"
      ]
     },
     "execution_count": 53,
     "metadata": {},
     "output_type": "execute_result"
    }
   ],
   "source": [
    "true_param_dict"
   ]
  },
  {
   "cell_type": "code",
   "execution_count": 54,
   "metadata": {
    "collapsed": false
   },
   "outputs": [
    {
     "data": {
      "text/plain": [
       "array([[-3.45391286e+00, -3.12041768e+00, -2.78774220e+00,\n",
       "        -2.45625416e+00, -2.12696664e+00, -1.80188956e+00,\n",
       "        -1.48375527e+00, -1.17627467e+00, -8.84716817e-01,\n",
       "        -6.16403610e-01, -3.81610151e-01, -1.94410386e-01,\n",
       "        -6.97180792e-02, -1.21812868e-02,  3.77933167e-04]])"
      ]
     },
     "execution_count": 54,
     "metadata": {},
     "output_type": "execute_result"
    }
   ],
   "source": [
    "emus[i].emulate_wrt_r(true_param_dict)#.shape"
   ]
  },
  {
   "cell_type": "code",
   "execution_count": 55,
   "metadata": {
    "collapsed": true
   },
   "outputs": [],
   "source": [
    "sherlock_pred = np.array([ -3.45391286e+00,  -3.12041768e+00,  -2.78774220e+00 , -2.45625416e+00\n",
    " , -2.12696664e+00,  -1.80188956e+00 , -1.48375527e+00,  -1.17627467e+00,\n",
    "  -8.84716817e-01 , -6.16403610e-01 , -3.81610151e-01,  -1.94410386e-01,\n",
    "  -6.97180792e-02 , -1.21812868e-02 ,  3.77933725e-04]\n",
    ")"
   ]
  },
  {
   "cell_type": "code",
   "execution_count": 56,
   "metadata": {
    "collapsed": false
   },
   "outputs": [
    {
     "data": {
      "image/png": "[encoded data removed]",
      "text/plain": [
       "<Figure size 600x400 with 1 Axes>"
      ]
     },
     "metadata": {},
     "output_type": "display_data"
    }
   ],
   "source": [
    "#fig = plt.figure(figsize = (12,5))\n",
    "for i in xrange(len(emus)):\n",
    "\n",
    "    #plt.subplot(1,3,i+1)\n",
    "    #if i == 0:\n",
    "    #    plt.title('Wp Ratio')\n",
    "    #else:\n",
    "    #    plt.title('Ds Ratio')\n",
    "    rbc = emus[i].scale_bin_centers\n",
    "    true_pred = emus[i].emulate_wrt_r(true_param_dict)[0].squeeze()\n",
    "    plt.errorbar(rbc, np.ones_like(true_data[i]), yerr=yerr/true_data[i], label = 'Data')\n",
    "\n",
    "    plt.plot(rbc, (10**MAP_pred[i])/true_data[i], label = 'MAP')\n",
    "    plt.plot(rbc, (10**true_pred)/true_data[i], label = 'Emu at Truth')\n",
    "    plt.plot(rbc, (10**sherlock_pred)/true_data[i], label = 'Emu at Truth Sherlock')\n",
    "\n",
    "    #plt.vlines(rmin, 0.7, 1.3, alpha = 0.3)\n",
    "    plt.legend(loc='best')\n",
    "    plt.xscale('log')\n",
    "    #plt.ylim([0.7, 1.3])\n",
    "    \n",
    "#plt.plot(rbc, x/true_data[0])\n",
    "plt.show();"
   ]
  },
  {
   "cell_type": "code",
   "execution_count": 57,
   "metadata": {
    "collapsed": false
   },
   "outputs": [
    {
     "name": "stdout",
     "output_type": "stream",
     "text": [
      "[0.99196004 0.99163142 0.99188338 0.99343543 0.99549091 0.99700011\n",
      " 0.99800116 0.99888434 0.99958447 1.00048023 1.00153269 1.00237798\n",
      " 1.00307374 1.00301462 1.00250524]\n",
      "[-3.45391286e+00 -3.12041768e+00 -2.78774220e+00 -2.45625416e+00\n",
      " -2.12696664e+00 -1.80188956e+00 -1.48375527e+00 -1.17627467e+00\n",
      " -8.84716817e-01 -6.16403610e-01 -3.81610151e-01 -1.94410386e-01\n",
      " -6.97180792e-02 -1.21812868e-02  3.77933167e-04]\n"
     ]
    },
    {
     "data": {
      "image/png": "[encoded data removed]",
      "text/plain": [
       "<Figure size 600x800 with 2 Axes>"
      ]
     },
     "metadata": {},
     "output_type": "display_data"
    }
   ],
   "source": [
    "fig = plt.figure(figsize=(6,8))\n",
    "plt.subplot(211)\n",
    "plt.plot(rbc,(10**true_pred)/true_data[0])\n",
    "print (10**true_pred)/true_data[0]\n",
    "plt.xscale('log')\n",
    "plt.subplot(212)\n",
    "plt.plot(rbc, 10**(true_pred-emu._y_mean))\n",
    "print true_pred\n",
    "plt.loglog();"
   ]
  },
  {
   "cell_type": "code",
   "execution_count": 58,
   "metadata": {
    "collapsed": false
   },
   "outputs": [
    {
     "data": {
      "text/plain": [
       "array([-2.09926753, -1.76577235, -1.43309686, -1.10160882, -0.77232131,\n",
       "       -0.44724423, -0.12910994,  0.17837066,  0.46992852,  0.73824172,\n",
       "        0.97303518,  1.16023495,  1.28492725,  1.34246405,  1.35502327])"
      ]
     },
     "execution_count": 58,
     "metadata": {},
     "output_type": "execute_result"
    }
   ],
   "source": [
    "true_pred-emu._y_mean"
   ]
  },
  {
   "cell_type": "code",
   "execution_count": 59,
   "metadata": {
    "collapsed": true
   },
   "outputs": [],
   "source": [
    "rmin_idxs = rbc>rmin#np.logical_and(rbc > rmin, true_data[0]>1e-2)"
   ]
  },
  {
   "cell_type": "raw",
   "metadata": {
    "collapsed": false
   },
   "source": [
    "plt.plot(emu.scale_bin_centers[rmin_idxs], \\\n",
    "         (10**true_pred[rmin_idxs]-true_data[0,rmin_idxs])/np.sqrt(np.diag(cov[rmin_idxs][:,rmin_idxs])))\n",
    "plt.xscale('log')"
   ]
  },
  {
   "cell_type": "code",
   "execution_count": 60,
   "metadata": {
    "collapsed": false
   },
   "outputs": [
    {
     "data": {
      "text/plain": [
       "array([False, False, False,  True,  True,  True,  True,  True,  True,\n",
       "        True,  True,  True,  True,  True,  True])"
      ]
     },
     "execution_count": 60,
     "metadata": {},
     "output_type": "execute_result"
    }
   ],
   "source": [
    "rmin_idxs"
   ]
  },
  {
   "cell_type": "code",
   "execution_count": 61,
   "metadata": {
    "collapsed": true
   },
   "outputs": [],
   "source": [
    "cov_rmin_idxs = rmin_idxs# np.r_[rmin_idxs, rmin_idxs]"
   ]
  },
  {
   "cell_type": "raw",
   "metadata": {
    "collapsed": false
   },
   "source": [
    "rbc[true_data[0]<1e-3]"
   ]
  },
  {
   "cell_type": "code",
   "execution_count": 62,
   "metadata": {
    "collapsed": false
   },
   "outputs": [],
   "source": [
    "true_pred= []\n",
    "for i in xrange(len(emus)):\n",
    "    true_pred.append(emus[i].emulate_wrt_r(true_param_dict).squeeze())\n",
    "    \n",
    "MAP_pred= []\n",
    "for i in xrange(len(emus)):\n",
    "    MAP_pred.append(emus[i].emulate_wrt_r(MAP_dict).squeeze())"
   ]
  },
  {
   "cell_type": "code",
   "execution_count": 63,
   "metadata": {
    "collapsed": false
   },
   "outputs": [
    {
     "name": "stdout",
     "output_type": "stream",
     "text": [
      "True Red. Chi2\n",
      "14.835541866038739\n"
     ]
    }
   ],
   "source": [
    "print 'True Red. Chi2'\n",
    "R = (10**np.hstack(true_pred).flatten()-np.hstack(true_data.squeeze()).flatten())\n",
    "p#rint R/(true_data[:,rmin_idxs].flatten())\n",
    "chi2 =  R.T.dot(inv(cov)).dot(R)\n",
    "dof = len(chain_pnames)\n",
    "Rt = R\n",
    "print chi2/dof"
   ]
  },
  {
   "cell_type": "code",
   "execution_count": 64,
   "metadata": {
    "collapsed": false
   },
   "outputs": [
    {
     "name": "stdout",
     "output_type": "stream",
     "text": [
      "Map Red. Chi2\n",
      "0.5911645280763315\n"
     ]
    }
   ],
   "source": [
    "print 'Map Red. Chi2'\n",
    "#R = (10**MAP_pred[:,rmin_idxs].flatten()-true_data[:,rmin_idxs].flatten())\n",
    "R = (10**np.array(MAP_pred).squeeze()-np.hstack(true_data.squeeze()).flatten())\n",
    "\n",
    "#print R/(np.hstack(true_data).flatten())\n",
    "\n",
    "#chi2 =  R.T.dot(inv(cov[cov_rmin_idxs][:,cov_rmin_idxs])).dot(R)\n",
    "chi2 =  R.T.dot(inv(cov)).dot(R)\n",
    "\n",
    "dof = len(chain_pnames)\n",
    "Rm = R\n",
    "print chi2/dof"
   ]
  },
  {
   "cell_type": "code",
   "execution_count": 65,
   "metadata": {
    "collapsed": true
   },
   "outputs": [],
   "source": [
    "def covtocorr(cov):\n",
    "    diag = np.sqrt(np.diag(cov))\n",
    "    return cov/np.outer(diag,diag)"
   ]
  },
  {
   "cell_type": "code",
   "execution_count": 66,
   "metadata": {
    "collapsed": false
   },
   "outputs": [
    {
     "data": {
      "text/plain": [
       "<matplotlib.image.AxesImage at 0x7fe88c6f2610>"
      ]
     },
     "execution_count": 66,
     "metadata": {},
     "output_type": "execute_result"
    },
    {
     "data": {
      "image/png": "[encoded data removed]",
      "text/plain": [
       "<Figure size 600x400 with 1 Axes>"
      ]
     },
     "metadata": {},
     "output_type": "display_data"
    }
   ],
   "source": [
    "plt.imshow(covtocorr(cov))"
   ]
  },
  {
   "cell_type": "code",
   "execution_count": 67,
   "metadata": {
    "collapsed": false
   },
   "outputs": [
    {
     "data": {
      "image/png": "[encoded data removed]",
      "text/plain": [
       "<Figure size 600x400 with 1 Axes>"
      ]
     },
     "metadata": {},
     "output_type": "display_data"
    }
   ],
   "source": [
    "plt.plot(rbc, Rt/yerr)\n",
    "plt.plot(rbc, Rm/yerr)\n",
    "#plt.errorbar(rbc, np.zeros_like(rbc), yerr=yerr)\n",
    "plt.xscale('log')"
   ]
  },
  {
   "cell_type": "code",
   "execution_count": 68,
   "metadata": {
    "collapsed": false
   },
   "outputs": [
    {
     "name": "stderr",
     "output_type": "stream",
     "text": [
      " /u/ki/swmclau2/.local/lib/python2.7/site-packages/matplotlib/cbook/deprecation.py:107: MatplotlibDeprecationWarning:Adding an axes using the same arguments as a previous axes currently reuses the earlier instance.  In a future version, a new instance will always be created and returned.  Meanwhile, this warning can be suppressed, and the future behavior ensured, by passing a unique label to each axes instance.\n",
      " /u/ki/swmclau2/.local/lib/python2.7/site-packages/matplotlib/cbook/deprecation.py:107: MatplotlibDeprecationWarning:Adding an axes using the same arguments as a previous axes currently reuses the earlier instance.  In a future version, a new instance will always be created and returned.  Meanwhile, this warning can be suppressed, and the future behavior ensured, by passing a unique label to each axes instance.\n",
      " /u/ki/swmclau2/.local/lib/python2.7/site-packages/matplotlib/cbook/deprecation.py:107: MatplotlibDeprecationWarning:Adding an axes using the same arguments as a previous axes currently reuses the earlier instance.  In a future version, a new instance will always be created and returned.  Meanwhile, this warning can be suppressed, and the future behavior ensured, by passing a unique label to each axes instance.\n",
      " /u/ki/swmclau2/.local/lib/python2.7/site-packages/matplotlib/cbook/deprecation.py:107: MatplotlibDeprecationWarning:Adding an axes using the same arguments as a previous axes currently reuses the earlier instance.  In a future version, a new instance will always be created and returned.  Meanwhile, this warning can be suppressed, and the future behavior ensured, by passing a unique label to each axes instance.\n",
      " /u/ki/swmclau2/.local/lib/python2.7/site-packages/matplotlib/cbook/deprecation.py:107: MatplotlibDeprecationWarning:Adding an axes using the same arguments as a previous axes currently reuses the earlier instance.  In a future version, a new instance will always be created and returned.  Meanwhile, this warning can be suppressed, and the future behavior ensured, by passing a unique label to each axes instance.\n",
      " /u/ki/swmclau2/.local/lib/python2.7/site-packages/matplotlib/cbook/deprecation.py:107: MatplotlibDeprecationWarning:Adding an axes using the same arguments as a previous axes currently reuses the earlier instance.  In a future version, a new instance will always be created and returned.  Meanwhile, this warning can be suppressed, and the future behavior ensured, by passing a unique label to each axes instance.\n",
      " /u/ki/swmclau2/.local/lib/python2.7/site-packages/matplotlib/cbook/deprecation.py:107: MatplotlibDeprecationWarning:Adding an axes using the same arguments as a previous axes currently reuses the earlier instance.  In a future version, a new instance will always be created and returned.  Meanwhile, this warning can be suppressed, and the future behavior ensured, by passing a unique label to each axes instance.\n",
      " /u/ki/swmclau2/.local/lib/python2.7/site-packages/matplotlib/cbook/deprecation.py:107: MatplotlibDeprecationWarning:Adding an axes using the same arguments as a previous axes currently reuses the earlier instance.  In a future version, a new instance will always be created and returned.  Meanwhile, this warning can be suppressed, and the future behavior ensured, by passing a unique label to each axes instance.\n",
      " /u/ki/swmclau2/.local/lib/python2.7/site-packages/matplotlib/cbook/deprecation.py:107: MatplotlibDeprecationWarning:Adding an axes using the same arguments as a previous axes currently reuses the earlier instance.  In a future version, a new instance will always be created and returned.  Meanwhile, this warning can be suppressed, and the future behavior ensured, by passing a unique label to each axes instance.\n",
      " /u/ki/swmclau2/.local/lib/python2.7/site-packages/matplotlib/cbook/deprecation.py:107: MatplotlibDeprecationWarning:Adding an axes using the same arguments as a previous axes currently reuses the earlier instance.  In a future version, a new instance will always be created and returned.  Meanwhile, this warning can be suppressed, and the future behavior ensured, by passing a unique label to each axes instance.\n",
      " /u/ki/swmclau2/.local/lib/python2.7/site-packages/matplotlib/cbook/deprecation.py:107: MatplotlibDeprecationWarning:Adding an axes using the same arguments as a previous axes currently reuses the earlier instance.  In a future version, a new instance will always be created and returned.  Meanwhile, this warning can be suppressed, and the future behavior ensured, by passing a unique label to each axes instance.\n",
      " /u/ki/swmclau2/.local/lib/python2.7/site-packages/matplotlib/cbook/deprecation.py:107: MatplotlibDeprecationWarning:Adding an axes using the same arguments as a previous axes currently reuses the earlier instance.  In a future version, a new instance will always be created and returned.  Meanwhile, this warning can be suppressed, and the future behavior ensured, by passing a unique label to each axes instance.\n",
      " /u/ki/swmclau2/.local/lib/python2.7/site-packages/matplotlib/cbook/deprecation.py:107: MatplotlibDeprecationWarning:Adding an axes using the same arguments as a previous axes currently reuses the earlier instance.  In a future version, a new instance will always be created and returned.  Meanwhile, this warning can be suppressed, and the future behavior ensured, by passing a unique label to each axes instance.\n",
      " /u/ki/swmclau2/.local/lib/python2.7/site-packages/matplotlib/cbook/deprecation.py:107: MatplotlibDeprecationWarning:Adding an axes using the same arguments as a previous axes currently reuses the earlier instance.  In a future version, a new instance will always be created and returned.  Meanwhile, this warning can be suppressed, and the future behavior ensured, by passing a unique label to each axes instance.\n",
      " /u/ki/swmclau2/.local/lib/python2.7/site-packages/matplotlib/cbook/deprecation.py:107: MatplotlibDeprecationWarning:Adding an axes using the same arguments as a previous axes currently reuses the earlier instance.  In a future version, a new instance will always be created and returned.  Meanwhile, this warning can be suppressed, and the future behavior ensured, by passing a unique label to each axes instance.\n",
      " /u/ki/swmclau2/.local/lib/python2.7/site-packages/matplotlib/cbook/deprecation.py:107: MatplotlibDeprecationWarning:Adding an axes using the same arguments as a previous axes currently reuses the earlier instance.  In a future version, a new instance will always be created and returned.  Meanwhile, this warning can be suppressed, and the future behavior ensured, by passing a unique label to each axes instance.\n",
      " /u/ki/swmclau2/.local/lib/python2.7/site-packages/matplotlib/cbook/deprecation.py:107: MatplotlibDeprecationWarning:Adding an axes using the same arguments as a previous axes currently reuses the earlier instance.  In a future version, a new instance will always be created and returned.  Meanwhile, this warning can be suppressed, and the future behavior ensured, by passing a unique label to each axes instance.\n",
      " /u/ki/swmclau2/.local/lib/python2.7/site-packages/matplotlib/cbook/deprecation.py:107: MatplotlibDeprecationWarning:Adding an axes using the same arguments as a previous axes currently reuses the earlier instance.  In a future version, a new instance will always be created and returned.  Meanwhile, this warning can be suppressed, and the future behavior ensured, by passing a unique label to each axes instance.\n",
      " /u/ki/swmclau2/.local/lib/python2.7/site-packages/matplotlib/cbook/deprecation.py:107: MatplotlibDeprecationWarning:Adding an axes using the same arguments as a previous axes currently reuses the earlier instance.  In a future version, a new instance will always be created and returned.  Meanwhile, this warning can be suppressed, and the future behavior ensured, by passing a unique label to each axes instance.\n",
      " /u/ki/swmclau2/.local/lib/python2.7/site-packages/matplotlib/cbook/deprecation.py:107: MatplotlibDeprecationWarning:Adding an axes using the same arguments as a previous axes currently reuses the earlier instance.  In a future version, a new instance will always be created and returned.  Meanwhile, this warning can be suppressed, and the future behavior ensured, by passing a unique label to each axes instance.\n",
      " /u/ki/swmclau2/.local/lib/python2.7/site-packages/matplotlib/cbook/deprecation.py:107: MatplotlibDeprecationWarning:Adding an axes using the same arguments as a previous axes currently reuses the earlier instance.  In a future version, a new instance will always be created and returned.  Meanwhile, this warning can be suppressed, and the future behavior ensured, by passing a unique label to each axes instance.\n",
      " /u/ki/swmclau2/.local/lib/python2.7/site-packages/matplotlib/cbook/deprecation.py:107: MatplotlibDeprecationWarning:Adding an axes using the same arguments as a previous axes currently reuses the earlier instance.  In a future version, a new instance will always be created and returned.  Meanwhile, this warning can be suppressed, and the future behavior ensured, by passing a unique label to each axes instance.\n",
      " /u/ki/swmclau2/.local/lib/python2.7/site-packages/matplotlib/cbook/deprecation.py:107: MatplotlibDeprecationWarning:Adding an axes using the same arguments as a previous axes currently reuses the earlier instance.  In a future version, a new instance will always be created and returned.  Meanwhile, this warning can be suppressed, and the future behavior ensured, by passing a unique label to each axes instance.\n",
      " /u/ki/swmclau2/.local/lib/python2.7/site-packages/matplotlib/cbook/deprecation.py:107: MatplotlibDeprecationWarning:Adding an axes using the same arguments as a previous axes currently reuses the earlier instance.  In a future version, a new instance will always be created and returned.  Meanwhile, this warning can be suppressed, and the future behavior ensured, by passing a unique label to each axes instance.\n",
      " /u/ki/swmclau2/.local/lib/python2.7/site-packages/matplotlib/cbook/deprecation.py:107: MatplotlibDeprecationWarning:Adding an axes using the same arguments as a previous axes currently reuses the earlier instance.  In a future version, a new instance will always be created and returned.  Meanwhile, this warning can be suppressed, and the future behavior ensured, by passing a unique label to each axes instance.\n",
      " /u/ki/swmclau2/.local/lib/python2.7/site-packages/matplotlib/cbook/deprecation.py:107: MatplotlibDeprecationWarning:Adding an axes using the same arguments as a previous axes currently reuses the earlier instance.  In a future version, a new instance will always be created and returned.  Meanwhile, this warning can be suppressed, and the future behavior ensured, by passing a unique label to each axes instance.\n",
      " /u/ki/swmclau2/.local/lib/python2.7/site-packages/matplotlib/cbook/deprecation.py:107: MatplotlibDeprecationWarning:Adding an axes using the same arguments as a previous axes currently reuses the earlier instance.  In a future version, a new instance will always be created and returned.  Meanwhile, this warning can be suppressed, and the future behavior ensured, by passing a unique label to each axes instance.\n",
      " /u/ki/swmclau2/.local/lib/python2.7/site-packages/matplotlib/cbook/deprecation.py:107: MatplotlibDeprecationWarning:Adding an axes using the same arguments as a previous axes currently reuses the earlier instance.  In a future version, a new instance will always be created and returned.  Meanwhile, this warning can be suppressed, and the future behavior ensured, by passing a unique label to each axes instance.\n",
      " /u/ki/swmclau2/.local/lib/python2.7/site-packages/matplotlib/cbook/deprecation.py:107: MatplotlibDeprecationWarning:Adding an axes using the same arguments as a previous axes currently reuses the earlier instance.  In a future version, a new instance will always be created and returned.  Meanwhile, this warning can be suppressed, and the future behavior ensured, by passing a unique label to each axes instance.\n",
      " /u/ki/swmclau2/.local/lib/python2.7/site-packages/matplotlib/cbook/deprecation.py:107: MatplotlibDeprecationWarning:Adding an axes using the same arguments as a previous axes currently reuses the earlier instance.  In a future version, a new instance will always be created and returned.  Meanwhile, this warning can be suppressed, and the future behavior ensured, by passing a unique label to each axes instance.\n",
      " /u/ki/swmclau2/.local/lib/python2.7/site-packages/matplotlib/cbook/deprecation.py:107: MatplotlibDeprecationWarning:Adding an axes using the same arguments as a previous axes currently reuses the earlier instance.  In a future version, a new instance will always be created and returned.  Meanwhile, this warning can be suppressed, and the future behavior ensured, by passing a unique label to each axes instance.\n",
      " /u/ki/swmclau2/.local/lib/python2.7/site-packages/matplotlib/cbook/deprecation.py:107: MatplotlibDeprecationWarning:Adding an axes using the same arguments as a previous axes currently reuses the earlier instance.  In a future version, a new instance will always be created and returned.  Meanwhile, this warning can be suppressed, and the future behavior ensured, by passing a unique label to each axes instance.\n",
      " /u/ki/swmclau2/.local/lib/python2.7/site-packages/matplotlib/cbook/deprecation.py:107: MatplotlibDeprecationWarning:Adding an axes using the same arguments as a previous axes currently reuses the earlier instance.  In a future version, a new instance will always be created and returned.  Meanwhile, this warning can be suppressed, and the future behavior ensured, by passing a unique label to each axes instance.\n",
      " /u/ki/swmclau2/.local/lib/python2.7/site-packages/matplotlib/cbook/deprecation.py:107: MatplotlibDeprecationWarning:Adding an axes using the same arguments as a previous axes currently reuses the earlier instance.  In a future version, a new instance will always be created and returned.  Meanwhile, this warning can be suppressed, and the future behavior ensured, by passing a unique label to each axes instance.\n",
      " /u/ki/swmclau2/.local/lib/python2.7/site-packages/matplotlib/cbook/deprecation.py:107: MatplotlibDeprecationWarning:Adding an axes using the same arguments as a previous axes currently reuses the earlier instance.  In a future version, a new instance will always be created and returned.  Meanwhile, this warning can be suppressed, and the future behavior ensured, by passing a unique label to each axes instance.\n",
      " /u/ki/swmclau2/.local/lib/python2.7/site-packages/matplotlib/cbook/deprecation.py:107: MatplotlibDeprecationWarning:Adding an axes using the same arguments as a previous axes currently reuses the earlier instance.  In a future version, a new instance will always be created and returned.  Meanwhile, this warning can be suppressed, and the future behavior ensured, by passing a unique label to each axes instance.\n",
      " /u/ki/swmclau2/.local/lib/python2.7/site-packages/matplotlib/cbook/deprecation.py:107: MatplotlibDeprecationWarning:Adding an axes using the same arguments as a previous axes currently reuses the earlier instance.  In a future version, a new instance will always be created and returned.  Meanwhile, this warning can be suppressed, and the future behavior ensured, by passing a unique label to each axes instance.\n",
      " /u/ki/swmclau2/.local/lib/python2.7/site-packages/matplotlib/cbook/deprecation.py:107: MatplotlibDeprecationWarning:Adding an axes using the same arguments as a previous axes currently reuses the earlier instance.  In a future version, a new instance will always be created and returned.  Meanwhile, this warning can be suppressed, and the future behavior ensured, by passing a unique label to each axes instance.\n",
      " /u/ki/swmclau2/.local/lib/python2.7/site-packages/matplotlib/cbook/deprecation.py:107: MatplotlibDeprecationWarning:Adding an axes using the same arguments as a previous axes currently reuses the earlier instance.  In a future version, a new instance will always be created and returned.  Meanwhile, this warning can be suppressed, and the future behavior ensured, by passing a unique label to each axes instance.\n",
      " /u/ki/swmclau2/.local/lib/python2.7/site-packages/matplotlib/cbook/deprecation.py:107: MatplotlibDeprecationWarning:Adding an axes using the same arguments as a previous axes currently reuses the earlier instance.  In a future version, a new instance will always be created and returned.  Meanwhile, this warning can be suppressed, and the future behavior ensured, by passing a unique label to each axes instance.\n",
      " /u/ki/swmclau2/.local/lib/python2.7/site-packages/matplotlib/cbook/deprecation.py:107: MatplotlibDeprecationWarning:Adding an axes using the same arguments as a previous axes currently reuses the earlier instance.  In a future version, a new instance will always be created and returned.  Meanwhile, this warning can be suppressed, and the future behavior ensured, by passing a unique label to each axes instance.\n",
      " /u/ki/swmclau2/.local/lib/python2.7/site-packages/matplotlib/cbook/deprecation.py:107: MatplotlibDeprecationWarning:Adding an axes using the same arguments as a previous axes currently reuses the earlier instance.  In a future version, a new instance will always be created and returned.  Meanwhile, this warning can be suppressed, and the future behavior ensured, by passing a unique label to each axes instance.\n",
      " /u/ki/swmclau2/.local/lib/python2.7/site-packages/matplotlib/cbook/deprecation.py:107: MatplotlibDeprecationWarning:Adding an axes using the same arguments as a previous axes currently reuses the earlier instance.  In a future version, a new instance will always be created and returned.  Meanwhile, this warning can be suppressed, and the future behavior ensured, by passing a unique label to each axes instance.\n",
      " /u/ki/swmclau2/.local/lib/python2.7/site-packages/matplotlib/cbook/deprecation.py:107: MatplotlibDeprecationWarning:Adding an axes using the same arguments as a previous axes currently reuses the earlier instance.  In a future version, a new instance will always be created and returned.  Meanwhile, this warning can be suppressed, and the future behavior ensured, by passing a unique label to each axes instance.\n",
      " /u/ki/swmclau2/.local/lib/python2.7/site-packages/matplotlib/cbook/deprecation.py:107: MatplotlibDeprecationWarning:Adding an axes using the same arguments as a previous axes currently reuses the earlier instance.  In a future version, a new instance will always be created and returned.  Meanwhile, this warning can be suppressed, and the future behavior ensured, by passing a unique label to each axes instance.\n",
      " /u/ki/swmclau2/.local/lib/python2.7/site-packages/matplotlib/cbook/deprecation.py:107: MatplotlibDeprecationWarning:Adding an axes using the same arguments as a previous axes currently reuses the earlier instance.  In a future version, a new instance will always be created and returned.  Meanwhile, this warning can be suppressed, and the future behavior ensured, by passing a unique label to each axes instance.\n",
      " /u/ki/swmclau2/.local/lib/python2.7/site-packages/matplotlib/cbook/deprecation.py:107: MatplotlibDeprecationWarning:Adding an axes using the same arguments as a previous axes currently reuses the earlier instance.  In a future version, a new instance will always be created and returned.  Meanwhile, this warning can be suppressed, and the future behavior ensured, by passing a unique label to each axes instance.\n",
      " /u/ki/swmclau2/.local/lib/python2.7/site-packages/matplotlib/cbook/deprecation.py:107: MatplotlibDeprecationWarning:Adding an axes using the same arguments as a previous axes currently reuses the earlier instance.  In a future version, a new instance will always be created and returned.  Meanwhile, this warning can be suppressed, and the future behavior ensured, by passing a unique label to each axes instance.\n",
      " /u/ki/swmclau2/.local/lib/python2.7/site-packages/matplotlib/cbook/deprecation.py:107: MatplotlibDeprecationWarning:Adding an axes using the same arguments as a previous axes currently reuses the earlier instance.  In a future version, a new instance will always be created and returned.  Meanwhile, this warning can be suppressed, and the future behavior ensured, by passing a unique label to each axes instance.\n",
      " /u/ki/swmclau2/.local/lib/python2.7/site-packages/matplotlib/cbook/deprecation.py:107: MatplotlibDeprecationWarning:Adding an axes using the same arguments as a previous axes currently reuses the earlier instance.  In a future version, a new instance will always be created and returned.  Meanwhile, this warning can be suppressed, and the future behavior ensured, by passing a unique label to each axes instance.\n",
      " /u/ki/swmclau2/.local/lib/python2.7/site-packages/matplotlib/cbook/deprecation.py:107: MatplotlibDeprecationWarning:Adding an axes using the same arguments as a previous axes currently reuses the earlier instance.  In a future version, a new instance will always be created and returned.  Meanwhile, this warning can be suppressed, and the future behavior ensured, by passing a unique label to each axes instance.\n",
      " /u/ki/swmclau2/.local/lib/python2.7/site-packages/matplotlib/cbook/deprecation.py:107: MatplotlibDeprecationWarning:Adding an axes using the same arguments as a previous axes currently reuses the earlier instance.  In a future version, a new instance will always be created and returned.  Meanwhile, this warning can be suppressed, and the future behavior ensured, by passing a unique label to each axes instance.\n",
      " /u/ki/swmclau2/.local/lib/python2.7/site-packages/matplotlib/cbook/deprecation.py:107: MatplotlibDeprecationWarning:Adding an axes using the same arguments as a previous axes currently reuses the earlier instance.  In a future version, a new instance will always be created and returned.  Meanwhile, this warning can be suppressed, and the future behavior ensured, by passing a unique label to each axes instance.\n",
      " /u/ki/swmclau2/.local/lib/python2.7/site-packages/matplotlib/cbook/deprecation.py:107: MatplotlibDeprecationWarning:Adding an axes using the same arguments as a previous axes currently reuses the earlier instance.  In a future version, a new instance will always be created and returned.  Meanwhile, this warning can be suppressed, and the future behavior ensured, by passing a unique label to each axes instance.\n",
      " /u/ki/swmclau2/.local/lib/python2.7/site-packages/matplotlib/cbook/deprecation.py:107: MatplotlibDeprecationWarning:Adding an axes using the same arguments as a previous axes currently reuses the earlier instance.  In a future version, a new instance will always be created and returned.  Meanwhile, this warning can be suppressed, and the future behavior ensured, by passing a unique label to each axes instance.\n",
      " /u/ki/swmclau2/.local/lib/python2.7/site-packages/matplotlib/cbook/deprecation.py:107: MatplotlibDeprecationWarning:Adding an axes using the same arguments as a previous axes currently reuses the earlier instance.  In a future version, a new instance will always be created and returned.  Meanwhile, this warning can be suppressed, and the future behavior ensured, by passing a unique label to each axes instance.\n",
      " /u/ki/swmclau2/.local/lib/python2.7/site-packages/matplotlib/cbook/deprecation.py:107: MatplotlibDeprecationWarning:Adding an axes using the same arguments as a previous axes currently reuses the earlier instance.  In a future version, a new instance will always be created and returned.  Meanwhile, this warning can be suppressed, and the future behavior ensured, by passing a unique label to each axes instance.\n",
      " /u/ki/swmclau2/.local/lib/python2.7/site-packages/matplotlib/cbook/deprecation.py:107: MatplotlibDeprecationWarning:Adding an axes using the same arguments as a previous axes currently reuses the earlier instance.  In a future version, a new instance will always be created and returned.  Meanwhile, this warning can be suppressed, and the future behavior ensured, by passing a unique label to each axes instance.\n",
      " /u/ki/swmclau2/.local/lib/python2.7/site-packages/matplotlib/cbook/deprecation.py:107: MatplotlibDeprecationWarning:Adding an axes using the same arguments as a previous axes currently reuses the earlier instance.  In a future version, a new instance will always be created and returned.  Meanwhile, this warning can be suppressed, and the future behavior ensured, by passing a unique label to each axes instance.\n",
      " /u/ki/swmclau2/.local/lib/python2.7/site-packages/matplotlib/cbook/deprecation.py:107: MatplotlibDeprecationWarning:Adding an axes using the same arguments as a previous axes currently reuses the earlier instance.  In a future version, a new instance will always be created and returned.  Meanwhile, this warning can be suppressed, and the future behavior ensured, by passing a unique label to each axes instance.\n",
      " /u/ki/swmclau2/.local/lib/python2.7/site-packages/matplotlib/cbook/deprecation.py:107: MatplotlibDeprecationWarning:Adding an axes using the same arguments as a previous axes currently reuses the earlier instance.  In a future version, a new instance will always be created and returned.  Meanwhile, this warning can be suppressed, and the future behavior ensured, by passing a unique label to each axes instance.\n",
      " /u/ki/swmclau2/.local/lib/python2.7/site-packages/matplotlib/cbook/deprecation.py:107: MatplotlibDeprecationWarning:Adding an axes using the same arguments as a previous axes currently reuses the earlier instance.  In a future version, a new instance will always be created and returned.  Meanwhile, this warning can be suppressed, and the future behavior ensured, by passing a unique label to each axes instance.\n",
      " /u/ki/swmclau2/.local/lib/python2.7/site-packages/matplotlib/cbook/deprecation.py:107: MatplotlibDeprecationWarning:Adding an axes using the same arguments as a previous axes currently reuses the earlier instance.  In a future version, a new instance will always be created and returned.  Meanwhile, this warning can be suppressed, and the future behavior ensured, by passing a unique label to each axes instance.\n",
      " /u/ki/swmclau2/.local/lib/python2.7/site-packages/matplotlib/cbook/deprecation.py:107: MatplotlibDeprecationWarning:Adding an axes using the same arguments as a previous axes currently reuses the earlier instance.  In a future version, a new instance will always be created and returned.  Meanwhile, this warning can be suppressed, and the future behavior ensured, by passing a unique label to each axes instance.\n",
      " /u/ki/swmclau2/.local/lib/python2.7/site-packages/matplotlib/cbook/deprecation.py:107: MatplotlibDeprecationWarning:Adding an axes using the same arguments as a previous axes currently reuses the earlier instance.  In a future version, a new instance will always be created and returned.  Meanwhile, this warning can be suppressed, and the future behavior ensured, by passing a unique label to each axes instance.\n",
      " /u/ki/swmclau2/.local/lib/python2.7/site-packages/matplotlib/cbook/deprecation.py:107: MatplotlibDeprecationWarning:Adding an axes using the same arguments as a previous axes currently reuses the earlier instance.  In a future version, a new instance will always be created and returned.  Meanwhile, this warning can be suppressed, and the future behavior ensured, by passing a unique label to each axes instance.\n",
      " /u/ki/swmclau2/.local/lib/python2.7/site-packages/matplotlib/cbook/deprecation.py:107: MatplotlibDeprecationWarning:Adding an axes using the same arguments as a previous axes currently reuses the earlier instance.  In a future version, a new instance will always be created and returned.  Meanwhile, this warning can be suppressed, and the future behavior ensured, by passing a unique label to each axes instance.\n",
      " /u/ki/swmclau2/.local/lib/python2.7/site-packages/matplotlib/cbook/deprecation.py:107: MatplotlibDeprecationWarning:Adding an axes using the same arguments as a previous axes currently reuses the earlier instance.  In a future version, a new instance will always be created and returned.  Meanwhile, this warning can be suppressed, and the future behavior ensured, by passing a unique label to each axes instance.\n",
      " /u/ki/swmclau2/.local/lib/python2.7/site-packages/matplotlib/cbook/deprecation.py:107: MatplotlibDeprecationWarning:Adding an axes using the same arguments as a previous axes currently reuses the earlier instance.  In a future version, a new instance will always be created and returned.  Meanwhile, this warning can be suppressed, and the future behavior ensured, by passing a unique label to each axes instance.\n",
      " /u/ki/swmclau2/.local/lib/python2.7/site-packages/matplotlib/cbook/deprecation.py:107: MatplotlibDeprecationWarning:Adding an axes using the same arguments as a previous axes currently reuses the earlier instance.  In a future version, a new instance will always be created and returned.  Meanwhile, this warning can be suppressed, and the future behavior ensured, by passing a unique label to each axes instance.\n",
      " /u/ki/swmclau2/.local/lib/python2.7/site-packages/matplotlib/cbook/deprecation.py:107: MatplotlibDeprecationWarning:Adding an axes using the same arguments as a previous axes currently reuses the earlier instance.  In a future version, a new instance will always be created and returned.  Meanwhile, this warning can be suppressed, and the future behavior ensured, by passing a unique label to each axes instance.\n",
      " /u/ki/swmclau2/.local/lib/python2.7/site-packages/matplotlib/cbook/deprecation.py:107: MatplotlibDeprecationWarning:Adding an axes using the same arguments as a previous axes currently reuses the earlier instance.  In a future version, a new instance will always be created and returned.  Meanwhile, this warning can be suppressed, and the future behavior ensured, by passing a unique label to each axes instance.\n",
      " /u/ki/swmclau2/.local/lib/python2.7/site-packages/matplotlib/cbook/deprecation.py:107: MatplotlibDeprecationWarning:Adding an axes using the same arguments as a previous axes currently reuses the earlier instance.  In a future version, a new instance will always be created and returned.  Meanwhile, this warning can be suppressed, and the future behavior ensured, by passing a unique label to each axes instance.\n",
      " /u/ki/swmclau2/.local/lib/python2.7/site-packages/matplotlib/cbook/deprecation.py:107: MatplotlibDeprecationWarning:Adding an axes using the same arguments as a previous axes currently reuses the earlier instance.  In a future version, a new instance will always be created and returned.  Meanwhile, this warning can be suppressed, and the future behavior ensured, by passing a unique label to each axes instance.\n",
      " /u/ki/swmclau2/.local/lib/python2.7/site-packages/matplotlib/cbook/deprecation.py:107: MatplotlibDeprecationWarning:Adding an axes using the same arguments as a previous axes currently reuses the earlier instance.  In a future version, a new instance will always be created and returned.  Meanwhile, this warning can be suppressed, and the future behavior ensured, by passing a unique label to each axes instance.\n",
      " /u/ki/swmclau2/.local/lib/python2.7/site-packages/matplotlib/cbook/deprecation.py:107: MatplotlibDeprecationWarning:Adding an axes using the same arguments as a previous axes currently reuses the earlier instance.  In a future version, a new instance will always be created and returned.  Meanwhile, this warning can be suppressed, and the future behavior ensured, by passing a unique label to each axes instance.\n",
      " /u/ki/swmclau2/.local/lib/python2.7/site-packages/matplotlib/cbook/deprecation.py:107: MatplotlibDeprecationWarning:Adding an axes using the same arguments as a previous axes currently reuses the earlier instance.  In a future version, a new instance will always be created and returned.  Meanwhile, this warning can be suppressed, and the future behavior ensured, by passing a unique label to each axes instance.\n",
      " /u/ki/swmclau2/.local/lib/python2.7/site-packages/matplotlib/cbook/deprecation.py:107: MatplotlibDeprecationWarning:Adding an axes using the same arguments as a previous axes currently reuses the earlier instance.  In a future version, a new instance will always be created and returned.  Meanwhile, this warning can be suppressed, and the future behavior ensured, by passing a unique label to each axes instance.\n",
      " /u/ki/swmclau2/.local/lib/python2.7/site-packages/matplotlib/cbook/deprecation.py:107: MatplotlibDeprecationWarning:Adding an axes using the same arguments as a previous axes currently reuses the earlier instance.  In a future version, a new instance will always be created and returned.  Meanwhile, this warning can be suppressed, and the future behavior ensured, by passing a unique label to each axes instance.\n",
      " /u/ki/swmclau2/.local/lib/python2.7/site-packages/matplotlib/cbook/deprecation.py:107: MatplotlibDeprecationWarning:Adding an axes using the same arguments as a previous axes currently reuses the earlier instance.  In a future version, a new instance will always be created and returned.  Meanwhile, this warning can be suppressed, and the future behavior ensured, by passing a unique label to each axes instance.\n",
      " /u/ki/swmclau2/.local/lib/python2.7/site-packages/matplotlib/cbook/deprecation.py:107: MatplotlibDeprecationWarning:Adding an axes using the same arguments as a previous axes currently reuses the earlier instance.  In a future version, a new instance will always be created and returned.  Meanwhile, this warning can be suppressed, and the future behavior ensured, by passing a unique label to each axes instance.\n",
      " /u/ki/swmclau2/.local/lib/python2.7/site-packages/matplotlib/cbook/deprecation.py:107: MatplotlibDeprecationWarning:Adding an axes using the same arguments as a previous axes currently reuses the earlier instance.  In a future version, a new instance will always be created and returned.  Meanwhile, this warning can be suppressed, and the future behavior ensured, by passing a unique label to each axes instance.\n",
      " /u/ki/swmclau2/.local/lib/python2.7/site-packages/matplotlib/cbook/deprecation.py:107: MatplotlibDeprecationWarning:Adding an axes using the same arguments as a previous axes currently reuses the earlier instance.  In a future version, a new instance will always be created and returned.  Meanwhile, this warning can be suppressed, and the future behavior ensured, by passing a unique label to each axes instance.\n",
      " /u/ki/swmclau2/.local/lib/python2.7/site-packages/matplotlib/cbook/deprecation.py:107: MatplotlibDeprecationWarning:Adding an axes using the same arguments as a previous axes currently reuses the earlier instance.  In a future version, a new instance will always be created and returned.  Meanwhile, this warning can be suppressed, and the future behavior ensured, by passing a unique label to each axes instance.\n",
      " /u/ki/swmclau2/.local/lib/python2.7/site-packages/matplotlib/cbook/deprecation.py:107: MatplotlibDeprecationWarning:Adding an axes using the same arguments as a previous axes currently reuses the earlier instance.  In a future version, a new instance will always be created and returned.  Meanwhile, this warning can be suppressed, and the future behavior ensured, by passing a unique label to each axes instance.\n",
      " /u/ki/swmclau2/.local/lib/python2.7/site-packages/matplotlib/cbook/deprecation.py:107: MatplotlibDeprecationWarning:Adding an axes using the same arguments as a previous axes currently reuses the earlier instance.  In a future version, a new instance will always be created and returned.  Meanwhile, this warning can be suppressed, and the future behavior ensured, by passing a unique label to each axes instance.\n",
      " /u/ki/swmclau2/.local/lib/python2.7/site-packages/matplotlib/cbook/deprecation.py:107: MatplotlibDeprecationWarning:Adding an axes using the same arguments as a previous axes currently reuses the earlier instance.  In a future version, a new instance will always be created and returned.  Meanwhile, this warning can be suppressed, and the future behavior ensured, by passing a unique label to each axes instance.\n",
      " /u/ki/swmclau2/.local/lib/python2.7/site-packages/matplotlib/cbook/deprecation.py:107: MatplotlibDeprecationWarning:Adding an axes using the same arguments as a previous axes currently reuses the earlier instance.  In a future version, a new instance will always be created and returned.  Meanwhile, this warning can be suppressed, and the future behavior ensured, by passing a unique label to each axes instance.\n",
      " /u/ki/swmclau2/.local/lib/python2.7/site-packages/matplotlib/cbook/deprecation.py:107: MatplotlibDeprecationWarning:Adding an axes using the same arguments as a previous axes currently reuses the earlier instance.  In a future version, a new instance will always be created and returned.  Meanwhile, this warning can be suppressed, and the future behavior ensured, by passing a unique label to each axes instance.\n",
      " /u/ki/swmclau2/.local/lib/python2.7/site-packages/matplotlib/cbook/deprecation.py:107: MatplotlibDeprecationWarning:Adding an axes using the same arguments as a previous axes currently reuses the earlier instance.  In a future version, a new instance will always be created and returned.  Meanwhile, this warning can be suppressed, and the future behavior ensured, by passing a unique label to each axes instance.\n",
      " /u/ki/swmclau2/.local/lib/python2.7/site-packages/matplotlib/cbook/deprecation.py:107: MatplotlibDeprecationWarning:Adding an axes using the same arguments as a previous axes currently reuses the earlier instance.  In a future version, a new instance will always be created and returned.  Meanwhile, this warning can be suppressed, and the future behavior ensured, by passing a unique label to each axes instance.\n",
      " /u/ki/swmclau2/.local/lib/python2.7/site-packages/matplotlib/cbook/deprecation.py:107: MatplotlibDeprecationWarning:Adding an axes using the same arguments as a previous axes currently reuses the earlier instance.  In a future version, a new instance will always be created and returned.  Meanwhile, this warning can be suppressed, and the future behavior ensured, by passing a unique label to each axes instance.\n",
      " /u/ki/swmclau2/.local/lib/python2.7/site-packages/matplotlib/cbook/deprecation.py:107: MatplotlibDeprecationWarning:Adding an axes using the same arguments as a previous axes currently reuses the earlier instance.  In a future version, a new instance will always be created and returned.  Meanwhile, this warning can be suppressed, and the future behavior ensured, by passing a unique label to each axes instance.\n",
      " /u/ki/swmclau2/.local/lib/python2.7/site-packages/matplotlib/cbook/deprecation.py:107: MatplotlibDeprecationWarning:Adding an axes using the same arguments as a previous axes currently reuses the earlier instance.  In a future version, a new instance will always be created and returned.  Meanwhile, this warning can be suppressed, and the future behavior ensured, by passing a unique label to each axes instance.\n",
      " /u/ki/swmclau2/.local/lib/python2.7/site-packages/matplotlib/cbook/deprecation.py:107: MatplotlibDeprecationWarning:Adding an axes using the same arguments as a previous axes currently reuses the earlier instance.  In a future version, a new instance will always be created and returned.  Meanwhile, this warning can be suppressed, and the future behavior ensured, by passing a unique label to each axes instance.\n",
      " /u/ki/swmclau2/.local/lib/python2.7/site-packages/matplotlib/cbook/deprecation.py:107: MatplotlibDeprecationWarning:Adding an axes using the same arguments as a previous axes currently reuses the earlier instance.  In a future version, a new instance will always be created and returned.  Meanwhile, this warning can be suppressed, and the future behavior ensured, by passing a unique label to each axes instance.\n",
      " /u/ki/swmclau2/.local/lib/python2.7/site-packages/matplotlib/cbook/deprecation.py:107: MatplotlibDeprecationWarning:Adding an axes using the same arguments as a previous axes currently reuses the earlier instance.  In a future version, a new instance will always be created and returned.  Meanwhile, this warning can be suppressed, and the future behavior ensured, by passing a unique label to each axes instance.\n",
      " /u/ki/swmclau2/.local/lib/python2.7/site-packages/matplotlib/cbook/deprecation.py:107: MatplotlibDeprecationWarning:Adding an axes using the same arguments as a previous axes currently reuses the earlier instance.  In a future version, a new instance will always be created and returned.  Meanwhile, this warning can be suppressed, and the future behavior ensured, by passing a unique label to each axes instance.\n",
      " /u/ki/swmclau2/.local/lib/python2.7/site-packages/matplotlib/cbook/deprecation.py:107: MatplotlibDeprecationWarning:Adding an axes using the same arguments as a previous axes currently reuses the earlier instance.  In a future version, a new instance will always be created and returned.  Meanwhile, this warning can be suppressed, and the future behavior ensured, by passing a unique label to each axes instance.\n",
      " /u/ki/swmclau2/.local/lib/python2.7/site-packages/matplotlib/cbook/deprecation.py:107: MatplotlibDeprecationWarning:Adding an axes using the same arguments as a previous axes currently reuses the earlier instance.  In a future version, a new instance will always be created and returned.  Meanwhile, this warning can be suppressed, and the future behavior ensured, by passing a unique label to each axes instance.\n"
     ]
    },
    {
     "data": {
      "image/png": "[encoded data removed]",
      "text/plain": [
       "<Figure size 1400x600 with 1 Axes>"
      ]
     },
     "metadata": {},
     "output_type": "display_data"
    }
   ],
   "source": [
    "fig = plt.figure(figsize = (14,6))\n",
    "chain_samples = np.random.choice(chain.shape[0], size = 100, replace = False)\n",
    "\n",
    "for i in xrange(len(emus)):\n",
    "    plt.subplot(1,2,i+1)\n",
    "    plt.errorbar(rbc, np.ones_like(true_data[i]), yerr=yerr/true_data[i], label = 'Data')\n",
    "    plt.xscale('log')\n",
    "    #plt.ylim([0.8, 1.2])\n",
    "    #plt.vlines(rmin, 0.8, 1.2, alpha = 0.3)\n",
    "    \n",
    "for sample in chain[chain_samples]:\n",
    "    param_dict = dict(zip(chain_pnames, sample))\n",
    "    param_dict.update(fixed_params)\n",
    "    for i in xrange(len(emus)):\n",
    "        plt.subplot(1,2,i+1)\n",
    "        pred = emus[i].emulate_wrt_r(param_dict).squeeze()\n",
    "        plt.plot(rbc, (10**pred)/true_data[i], alpha = 0.2)#, label = 'MAP')\n",
    "\n",
    "\n",
    "plt.legend(loc='best')\n",
    "plt.show();"
   ]
  },
  {
   "cell_type": "code",
   "execution_count": 69,
   "metadata": {
    "collapsed": false
   },
   "outputs": [
    {
     "data": {
      "image/png": "[encoded data removed]",
      "text/plain": [
       "<Figure size 600x400 with 1 Axes>"
      ]
     },
     "metadata": {},
     "output_type": "display_data"
    }
   ],
   "source": [
    "chain_samples = np.random.choice(chain.shape[0], size = 2000, replace = False)\n",
    "\n",
    "plt.hist(chain[chain_samples][:,4], bins = 100);\n",
    "plt.show();  "
   ]
  },
  {
   "cell_type": "code",
   "execution_count": 70,
   "metadata": {
    "collapsed": false
   },
   "outputs": [
    {
     "data": {
      "text/plain": [
       "array([ 2.2294687e-02,  1.1728185e-01, -9.4202644e-01,  9.5976293e-01,\n",
       "        6.6152855e+01,  3.5342610e+00,  7.8970766e-01, -4.3836087e-02,\n",
       "        1.2996176e+01,  1.9989239e-01, -1.5586068e-01,  1.4006231e+01,\n",
       "        1.0632112e+00,  8.6987090e-01], dtype=float32)"
      ]
     },
     "execution_count": 70,
     "metadata": {},
     "output_type": "execute_result"
    }
   ],
   "source": [
    "np.mean(chain[chain[:,4]<67],axis=0)"
   ]
  },
  {
   "cell_type": "raw",
   "metadata": {},
   "source": [
    "baseline_params = dict(zip(chain_pnames,np.mean(chain[chain[:,4]<100],axis=0)))"
   ]
  },
  {
   "cell_type": "raw",
   "metadata": {
    "collapsed": false
   },
   "source": [
    "baseline_params2 = dict(zip(chain_pnames,np.mean(\n",
    "                        chain[np.logical_and(chain[:,4]>69,\n",
    "                                            chain[:,4]<71,)],axis=0)))"
   ]
  },
  {
   "cell_type": "code",
   "execution_count": 71,
   "metadata": {
    "collapsed": false
   },
   "outputs": [],
   "source": [
    "baseline_params2 = dict(zip(chain_pnames,\n",
    "                        chain[np.logical_and(chain[:,4]>69,\n",
    "                                            chain[:,4]<71,)][-1]))"
   ]
  },
  {
   "cell_type": "code",
   "execution_count": 72,
   "metadata": {
    "collapsed": false
   },
   "outputs": [
    {
     "data": {
      "text/plain": [
       "array(['ombh2', 'omch2', 'w0', 'ns', 'H0', 'Neff', 'sigma8',\n",
       "       'mean_occupation_centrals_assembias_param1', 'logM0', 'sigma_logM',\n",
       "       'mean_occupation_satellites_assembias_param1', 'logM1', 'alpha',\n",
       "       'conc_gal_bias'], dtype='|S43')"
      ]
     },
     "execution_count": 72,
     "metadata": {},
     "output_type": "execute_result"
    }
   ],
   "source": [
    "chain_pnames"
   ]
  },
  {
   "cell_type": "code",
   "execution_count": 73,
   "metadata": {
    "collapsed": true
   },
   "outputs": [],
   "source": [
    "N = 24\n",
    "cmap = sns.color_palette(\"BrBG_d\", N)"
   ]
  },
  {
   "cell_type": "code",
   "execution_count": 74,
   "metadata": {
    "collapsed": false
   },
   "outputs": [
    {
     "data": {
      "text/plain": [
       "['ombh2',\n",
       " 'omch2',\n",
       " 'w0',\n",
       " 'ns',\n",
       " 'H0',\n",
       " 'Neff',\n",
       " 'sigma8',\n",
       " 'mean_occupation_centrals_assembias_param1',\n",
       " 'logM0',\n",
       " 'sigma_logM',\n",
       " 'mean_occupation_satellites_assembias_param1',\n",
       " 'logM1',\n",
       " 'alpha',\n",
       " 'conc_gal_bias']"
      ]
     },
     "execution_count": 74,
     "metadata": {},
     "output_type": "execute_result"
    }
   ],
   "source": [
    "emu.get_param_names()"
   ]
  },
  {
   "cell_type": "code",
   "execution_count": 75,
   "metadata": {
    "collapsed": false
   },
   "outputs": [
    {
     "data": {
      "text/plain": [
       "{'H0': 65.194885,\n",
       " 'Neff': 4.2552752,\n",
       " 'alpha': 0.9815507,\n",
       " 'conc_gal_bias': 0.9278828,\n",
       " 'logM0': 13.211898,\n",
       " 'logM1': 14.002002,\n",
       " 'mean_occupation_centrals_assembias_param1': -0.41920412,\n",
       " 'mean_occupation_satellites_assembias_param1': -0.048989765,\n",
       " 'ns': 0.9548922,\n",
       " 'ombh2': 0.022214372,\n",
       " 'omch2': 0.12219822,\n",
       " 'sigma8': 0.7831468,\n",
       " 'sigma_logM': 0.22673719,\n",
       " 'w0': -0.97155195,\n",
       " 'z': 0.0}"
      ]
     },
     "execution_count": 75,
     "metadata": {},
     "output_type": "execute_result"
    }
   ],
   "source": [
    "MAP_dict"
   ]
  },
  {
   "cell_type": "code",
   "execution_count": 88,
   "metadata": {
    "collapsed": false
   },
   "outputs": [
    {
     "data": {
      "image/png": "[encoded data removed]",
      "text/plain": [
       "<Figure size 700x500 with 1 Axes>"
      ]
     },
     "metadata": {},
     "output_type": "display_data"
    }
   ],
   "source": [
    "import matplotlib\n",
    "from copy import deepcopy\n",
    "font = {'size'   : 12}\n",
    "matplotlib.rc('font', **font)\n",
    "\n",
    "#fig = plt.figure(figsize=(15,6))\n",
    "fig = plt.figure(figsize=(7,5))\n",
    "\n",
    "\n",
    "varied_pname = 'sigma_logM'\n",
    "lower, upper = emu.get_param_bounds(varied_pname)\n",
    "#lower, upper = 0,200\n",
    "baseline_params = true_param_dict\n",
    "#baseline_params = MAP_dict\n",
    "#baseline_params2 = deepcopy(true_param_dict)\n",
    "#baseline_params2['H0'] = 71\n",
    "#baseline_params2['omch2']=0.12\n",
    "#baseline_params2['mean_occupation_centrals_assembias_param1'] = 0.45\n",
    "\n",
    "\n",
    "for i in xrange(len(emus)):\n",
    "    if i>0:\n",
    "        break\n",
    "    #plt.subplot(1,2,i+1)\n",
    "    plt.errorbar(rbc, np.ones_like(true_data[i]), yerr=yerr/true_data[i], \n",
    "                 label = 'Data', color = 'k')\n",
    "\n",
    "    pred = emus[i].emulate_wrt_r(baseline_params.copy()).squeeze()\n",
    "\n",
    "    plt.plot(rbc, (10**pred)/true_data[i], label = 'Truth', color = 'r')    \n",
    "\n",
    "    #pred = emus[i].emulate_wrt_r(baseline_params2.copy()).squeeze()\n",
    "\n",
    "    #plt.plot(rbc, (10**pred)/true_data[i], label = 'Truth2', color = 'b')   \n",
    "    \n",
    "    plt.xscale('log')\n",
    "    #plt.vlines(rmin, 0.8, 1.1, alpha = 0.6)\n",
    "    plt.xlabel(r'$r_p$ [Mpc/h]')\n",
    "    #if i == 0:\n",
    "    #    plt.title(r'$w_p(r_p)$')\n",
    "    #else:\n",
    "    #    plt.title(r'$\\Delta \\Sigma(r_p)$')\n",
    "\n",
    "\n",
    "for c, val in zip(cmap, np.linspace(lower, upper, N) ):\n",
    "    param_dict = baseline_params.copy() #true_param_dict.copy()\n",
    "    param_dict[varied_pname] = val\n",
    "\n",
    "    for i in xrange(len(emus)):\n",
    "        #plt.subplot(1,2,i+1)\n",
    "        if i > 0:\n",
    "            continue\n",
    "        pred = emus[i].emulate_wrt_r(param_dict).squeeze()\n",
    "        if i ==1:\n",
    "            const = 1#np.power(val/(100*h), 2)\n",
    "        else:\n",
    "            const= 1 #np.power(val/(100*h), 1)\n",
    "        plt.plot(rbc, const*((10**pred)/(true_data[i])), label = '%.3f'%val, color = c)\n",
    "\n",
    "#plt.subplot(1,2,1)\n",
    "plt.ylabel('Emu Pred/Baseline Pred')\n",
    "#plt.subplot(1,2,2)\n",
    "\n",
    "#plt.legend(loc='best')\n",
    "plt.title(varied_pname, fontsize=26)\n",
    "#plt.title(r'$\\rho_{sat}$', fontsize=26)\n",
    "#plt.ylim(0.95,1.05)\n",
    "\n",
    "#plt.savefig('hsab_ratio.pdf', format='pdf', bbox_inches='tight')\n",
    "#plt.savefig('corrab_ratio.pdf', format='pdf', bbox_inches='tight')\n",
    "\n",
    "plt.show();"
   ]
  },
  {
   "cell_type": "code",
   "execution_count": 77,
   "metadata": {
    "collapsed": false
   },
   "outputs": [],
   "source": [
    "all_y = emu.y*emu._y_std+emu._y_mean"
   ]
  },
  {
   "cell_type": "code",
   "execution_count": 78,
   "metadata": {
    "collapsed": false
   },
   "outputs": [
    {
     "data": {
      "text/plain": [
       "(40, 1000, 15)"
      ]
     },
     "execution_count": 78,
     "metadata": {},
     "output_type": "execute_result"
    }
   ],
   "source": [
    "all_y.shape"
   ]
  },
  {
   "cell_type": "code",
   "execution_count": 79,
   "metadata": {
    "collapsed": false
   },
   "outputs": [],
   "source": [
    "x1 = emu.x1*emu._x1_std+emu._x1_mean"
   ]
  },
  {
   "cell_type": "code",
   "execution_count": 80,
   "metadata": {
    "collapsed": false
   },
   "outputs": [
    {
     "data": {
      "text/plain": [
       "['ombh2', 'omch2', 'w0', 'ns', 'H0', 'Neff', 'sigma8']"
      ]
     },
     "execution_count": 80,
     "metadata": {},
     "output_type": "execute_result"
    }
   ],
   "source": [
    "emu.get_param_names()[:7]"
   ]
  },
  {
   "cell_type": "code",
   "execution_count": 81,
   "metadata": {
    "collapsed": false
   },
   "outputs": [
    {
     "data": {
      "text/plain": [
       "['mean_occupation_centrals_assembias_param1',\n",
       " 'logM0',\n",
       " 'sigma_logM',\n",
       " 'mean_occupation_satellites_assembias_param1',\n",
       " 'logM1',\n",
       " 'alpha',\n",
       " 'conc_gal_bias']"
      ]
     },
     "execution_count": 81,
     "metadata": {},
     "output_type": "execute_result"
    }
   ],
   "source": [
    "emu.get_param_names()[7:]"
   ]
  },
  {
   "cell_type": "code",
   "execution_count": 82,
   "metadata": {
    "collapsed": false
   },
   "outputs": [
    {
     "data": {
      "text/plain": [
       "array([ 2.26832494e-02,  1.14059801e-01, -8.16597201e-01,  9.75588999e-01,\n",
       "        6.33656900e+01,  2.91875000e+00,  7.73071500e-01])"
      ]
     },
     "execution_count": 82,
     "metadata": {},
     "output_type": "execute_result"
    }
   ],
   "source": [
    "x1[0]"
   ]
  },
  {
   "cell_type": "code",
   "execution_count": 83,
   "metadata": {
    "collapsed": false
   },
   "outputs": [],
   "source": [
    "fname = '/u/ki/swmclau2/des/Aemulators/knn_1_cdf_hsab/PearceKNN1CDFHSABCosmo.hdf5'\n",
    "\n",
    "with h5py.File(fname, 'r') as f:\n",
    "    kernel =  eval(f.attrs['lpw_kernel'])"
   ]
  },
  {
   "cell_type": "code",
   "execution_count": 84,
   "metadata": {
    "collapsed": false
   },
   "outputs": [
    {
     "data": {
      "text/plain": [
       "{'active_dims': [0, 1, 2, 3, 4, 5, 6],\n",
       " 'class': 'GPy.kern.Add',\n",
       " 'input_dim': 7,\n",
       " 'name': 'sum',\n",
       " 'parts': {0: {'ARD': True,\n",
       "   'active_dims': [0, 1, 2, 3, 4, 5, 6],\n",
       "   'class': 'GPy.kern.RBF',\n",
       "   'input_dim': 7,\n",
       "   'inv_l': False,\n",
       "   'lengthscale': [15.782763610187814,\n",
       "    2.7377902574284776,\n",
       "    8.321485598758773,\n",
       "    20.59827836485229,\n",
       "    2.2300147511748794,\n",
       "    18.55379012116235,\n",
       "    1.4003976835412384],\n",
       "   'name': 'rbf',\n",
       "   'useGPU': False,\n",
       "   'variance': [2.4587219989658213]},\n",
       "  1: {'active_dims': [0, 1, 2, 3, 4, 5, 6],\n",
       "   'class': 'GPy.kern.Bias',\n",
       "   'input_dim': 7,\n",
       "   'name': 'bias',\n",
       "   'useGPU': False,\n",
       "   'variance': [2.0930416281972497]}},\n",
       " 'useGPU': False}"
      ]
     },
     "execution_count": 84,
     "metadata": {},
     "output_type": "execute_result"
    }
   ],
   "source": [
    "kernel[0]"
   ]
  },
  {
   "cell_type": "code",
   "execution_count": 85,
   "metadata": {
    "collapsed": false
   },
   "outputs": [
    {
     "ename": "AttributeError",
     "evalue": "'RBF' object has no attribute 'rbf'",
     "output_type": "error",
     "traceback": [
      "\u001b[1;31m---------------------------------------------------------------------------\u001b[0m",
      "\u001b[1;31mAttributeError\u001b[0m                            Traceback (most recent call last)",
      "\u001b[1;32m<ipython-input-85-748754f58969>\u001b[0m in \u001b[0;36m<module>\u001b[1;34m()\u001b[0m\n\u001b[0;32m      1\u001b[0m \u001b[1;31m#emu._emulator.kern0.rbf.variance = 1.0\u001b[0m\u001b[1;33m\u001b[0m\u001b[1;33m\u001b[0m\u001b[0m\n\u001b[0;32m      2\u001b[0m \u001b[1;32mfor\u001b[0m \u001b[0mi\u001b[0m \u001b[1;32min\u001b[0m \u001b[0mxrange\u001b[0m\u001b[1;33m(\u001b[0m\u001b[1;36m7\u001b[0m\u001b[1;33m)\u001b[0m\u001b[1;33m:\u001b[0m\u001b[1;33m\u001b[0m\u001b[0m\n\u001b[1;32m----> 3\u001b[1;33m     \u001b[0memu\u001b[0m\u001b[1;33m.\u001b[0m\u001b[0m_emulator\u001b[0m\u001b[1;33m.\u001b[0m\u001b[0mkern0\u001b[0m\u001b[1;33m.\u001b[0m\u001b[0mrbf\u001b[0m\u001b[1;33m.\u001b[0m\u001b[0mlengthscale\u001b[0m\u001b[1;33m[\u001b[0m\u001b[0mi\u001b[0m\u001b[1;33m]\u001b[0m\u001b[1;33m=\u001b[0m \u001b[0mkernel\u001b[0m\u001b[1;33m[\u001b[0m\u001b[1;36m0\u001b[0m\u001b[1;33m]\u001b[0m\u001b[1;33m[\u001b[0m\u001b[1;34m'parts'\u001b[0m\u001b[1;33m]\u001b[0m\u001b[1;33m[\u001b[0m\u001b[1;36m0\u001b[0m\u001b[1;33m]\u001b[0m\u001b[1;33m[\u001b[0m\u001b[1;34m'lengthscale'\u001b[0m\u001b[1;33m]\u001b[0m\u001b[1;33m[\u001b[0m\u001b[0mi\u001b[0m\u001b[1;33m]\u001b[0m\u001b[1;33m\u001b[0m\u001b[0m\n\u001b[0m\u001b[0;32m      4\u001b[0m \u001b[1;33m\u001b[0m\u001b[0m\n\u001b[0;32m      5\u001b[0m \u001b[0memu\u001b[0m\u001b[1;33m.\u001b[0m\u001b[0m_emulator\u001b[0m\u001b[1;33m.\u001b[0m\u001b[0mkern0\u001b[0m\u001b[1;33m.\u001b[0m\u001b[0mrbf\u001b[0m\u001b[1;33m.\u001b[0m\u001b[0mvariance\u001b[0m \u001b[1;33m=\u001b[0m \u001b[0mkernel\u001b[0m\u001b[1;33m[\u001b[0m\u001b[1;36m0\u001b[0m\u001b[1;33m]\u001b[0m\u001b[1;33m[\u001b[0m\u001b[1;34m'parts'\u001b[0m\u001b[1;33m]\u001b[0m\u001b[1;33m[\u001b[0m\u001b[1;36m0\u001b[0m\u001b[1;33m]\u001b[0m\u001b[1;33m[\u001b[0m\u001b[1;34m'variance'\u001b[0m\u001b[1;33m]\u001b[0m\u001b[1;33m[\u001b[0m\u001b[1;36m0\u001b[0m\u001b[1;33m]\u001b[0m\u001b[1;31m#5.0\u001b[0m\u001b[1;33m\u001b[0m\u001b[0m\n",
      "\u001b[1;31mAttributeError\u001b[0m: 'RBF' object has no attribute 'rbf'"
     ]
    }
   ],
   "source": [
    "#emu._emulator.kern0.rbf.variance = 1.0\n",
    "for i in xrange(7):\n",
    "    emu._emulator.kern0.rbf.lengthscale[i]= kernel[0]['parts'][0]['lengthscale'][i]\n",
    "    \n",
    "emu._emulator.kern0.rbf.variance = kernel[0]['parts'][0]['variance'][0]#5.0"
   ]
  },
  {
   "cell_type": "raw",
   "metadata": {
    "collapsed": false
   },
   "source": [
    "emu.save_as_default_kernel()"
   ]
  },
  {
   "cell_type": "raw",
   "metadata": {},
   "source": [
    "emu.train_metric()"
   ]
  },
  {
   "cell_type": "raw",
   "metadata": {},
   "source": [
    "plt.plot(emu.scale_bin_centers, (10**all_y[:10,0]/(10**all_y[0,0])).T);\n",
    "plt.xscale('log')\n",
    "plt.ylim([0.8,1.2])"
   ]
  },
  {
   "cell_type": "code",
   "execution_count": null,
   "metadata": {
    "collapsed": false
   },
   "outputs": [],
   "source": [
    "true_param_dict"
   ]
  },
  {
   "cell_type": "code",
   "execution_count": null,
   "metadata": {
    "collapsed": false
   },
   "outputs": [],
   "source": [
    "import matplotlib\n",
    "font = {'size'   : 12}\n",
    "matplotlib.rc('font', **font)\n",
    "\n",
    "#fig = plt.figure(figsize=(15,6))\n",
    "fig = plt.figure(figsize=(7,5))\n",
    "\n",
    "\n",
    "varied_pname = 'omch2'\n",
    "lower, upper = emu.get_param_bounds(varied_pname)\n",
    "baseline_params = true_param_dict\n",
    "#baseline_params = MAP_dict\n",
    "\n",
    "for i in xrange(len(emus)):\n",
    "    if i>0:\n",
    "        break\n",
    "    #plt.subplot(1,2,i+1)\n",
    "    plt.errorbar(rbc, np.ones_like(true_data[i]), yerr=yerr[i]/true_data[i], \n",
    "                 label = 'Data', color = 'k')\n",
    "    pred = emus[i].emulate_wrt_r(baseline_params.copy()).squeeze()\n",
    "    if i ==1:\n",
    "        const = 1#np.power(MAP_dict['H0']/(100*h), 2)\n",
    "    else:\n",
    "        const = 1\n",
    "    #plt.plot(rbc, const*(10**pred)/true_data[i], label = 'Truth', color = 'k')    \n",
    "\n",
    "    plt.xscale('log')\n",
    "    #plt.vlines(rmin, 0.8, 1.1, alpha = 0.6)\n",
    "    plt.xlabel(r'$r_p$ [Mpc/h]')\n",
    "    #if i == 0:\n",
    "    #    plt.title(r'$w_p(r_p)$')\n",
    "    #else:\n",
    "    #    plt.title(r'$\\Delta \\Sigma(r_p)$')\n",
    "\n",
    "\n",
    "for c, val in zip(cmap, np.linspace(lower, upper, N) ):\n",
    "    param_dict = baseline_params.copy() #true_param_dict.copy()\n",
    "    param_dict[varied_pname] = val\n",
    "\n",
    "    for i in xrange(len(emus)):\n",
    "        #plt.subplot(1,2,i+1)\n",
    "        if i > 0:\n",
    "            continue\n",
    "        pred = emus[i].emulate_wrt_r(param_dict).squeeze()\n",
    "        if i ==1:\n",
    "            const = 1#np.power(val/(100*h), 2)\n",
    "        else:\n",
    "            const= 1 #np.power(val/(100*h), 1)\n",
    "        plt.plot(rbc, const*((10**pred)/(true_data[i])), label = '%.3f'%val, color = c)\n",
    "\n",
    "#plt.subplot(1,2,1)\n",
    "plt.ylabel('Emu Pred/Baseline Pred')\n",
    "#plt.subplot(1,2,2)\n",
    "\n",
    "plt.legend(loc='best')\n",
    "plt.title(varied_pname, fontsize=26)\n",
    "#plt.title(r'$\\rho_{sat}$', fontsize=26)\n",
    "#plt.ylim(0.95,1.05)\n",
    "\n",
    "#plt.savefig('hsab_ratio.pdf', format='pdf', bbox_inches='tight')\n",
    "#plt.savefig('corrab_ratio.pdf', format='pdf', bbox_inches='tight')\n",
    "\n",
    "plt.show();"
   ]
  },
  {
   "cell_type": "code",
   "execution_count": null,
   "metadata": {
    "collapsed": false
   },
   "outputs": [],
   "source": [
    "assert False"
   ]
  },
  {
   "cell_type": "code",
   "execution_count": null,
   "metadata": {
    "collapsed": true
   },
   "outputs": [],
   "source": [
    "N = 100\n",
    "cmap = sns.color_palette(\"BrBG_d\", N)\n",
    "rbin = 1\n",
    "hod_idx = 235"
   ]
  },
  {
   "cell_type": "code",
   "execution_count": null,
   "metadata": {
    "collapsed": false
   },
   "outputs": [],
   "source": [
    "hod_dict = dict(zip(emu.get_param_names()[7:], (emu.x2*emu._x2_std+emu._x2_mean)[hod_idx]))"
   ]
  },
  {
   "cell_type": "code",
   "execution_count": null,
   "metadata": {
    "collapsed": false
   },
   "outputs": [],
   "source": [
    "hod_dict"
   ]
  },
  {
   "cell_type": "code",
   "execution_count": null,
   "metadata": {
    "collapsed": false
   },
   "outputs": [],
   "source": [
    "emu = emus[0]\n",
    "y = (emu.y*emu._y_std+emu._y_mean)[:,hod_idx,rbin]\n",
    "\n",
    "y_bar = y#.mean(axis = 1)\n",
    "y_std = np.zeros_like(y)#.std(axis=1)"
   ]
  },
  {
   "cell_type": "code",
   "execution_count": null,
   "metadata": {
    "collapsed": false
   },
   "outputs": [],
   "source": [
    "y_bar.shape, y_std.shape"
   ]
  },
  {
   "cell_type": "code",
   "execution_count": null,
   "metadata": {
    "collapsed": false
   },
   "outputs": [],
   "source": [
    "idx = emu.get_param_names().index(varied_pname)"
   ]
  },
  {
   "cell_type": "code",
   "execution_count": null,
   "metadata": {
    "collapsed": false
   },
   "outputs": [],
   "source": [
    "emu.get_param_names()"
   ]
  },
  {
   "cell_type": "code",
   "execution_count": null,
   "metadata": {
    "collapsed": false
   },
   "outputs": [],
   "source": [
    "aem_vals = (emu.x1*emu._x1_std+emu._x1_mean)[:, idx]"
   ]
  },
  {
   "cell_type": "code",
   "execution_count": null,
   "metadata": {
    "collapsed": false
   },
   "outputs": [],
   "source": [
    "baseline_param2 = baseline_params.copy()\n",
    "baseline_param2.update(hod_dict)"
   ]
  },
  {
   "cell_type": "code",
   "execution_count": null,
   "metadata": {
    "collapsed": false
   },
   "outputs": [],
   "source": [
    "np.argmin(y_bar)"
   ]
  },
  {
   "cell_type": "code",
   "execution_count": null,
   "metadata": {
    "collapsed": false
   },
   "outputs": [],
   "source": [
    "param_dict"
   ]
  },
  {
   "cell_type": "code",
   "execution_count": null,
   "metadata": {
    "collapsed": false
   },
   "outputs": [],
   "source": [
    "for c, val in zip(cmap, np.linspace(lower, upper, N) ):\n",
    "    param_dict = baseline_param2.copy() #true_param_dict.copy()\n",
    "    param_dict[varied_pname] = val\n",
    "\n",
    "    plt.scatter(val,  emus[0].emulate_wrt_r(param_dict).squeeze()[rbin], color = c )\n",
    "plt.errorbar(aem_vals, y_bar, yerr=y_std, fmt = 'o', color='r', ls = None)\n",
    "    \n",
    "plt.show() "
   ]
  },
  {
   "cell_type": "code",
   "execution_count": null,
   "metadata": {
    "collapsed": false
   },
   "outputs": [],
   "source": [
    "assert False"
   ]
  },
  {
   "cell_type": "code",
   "execution_count": null,
   "metadata": {
    "collapsed": true
   },
   "outputs": [],
   "source": [
    "from pearce.mocks.kittens import TrainingBox\n",
    "cat = TrainingBox(0)"
   ]
  },
  {
   "cell_type": "raw",
   "metadata": {},
   "source": [
    "del hod_params['mean_occupation_centrals_assembias_slope1']\n",
    "del hod_params['mean_occupation_satellites_assembias_slope1']"
   ]
  },
  {
   "cell_type": "code",
   "execution_count": null,
   "metadata": {
    "collapsed": true
   },
   "outputs": [],
   "source": [
    "cat.load(1.0, 'hsabZheng07',\\\n",
    "         hod_kwargs = {'sec_haloprop_key':'halo_nfw_conc'})"
   ]
  },
  {
   "cell_type": "code",
   "execution_count": null,
   "metadata": {
    "collapsed": false
   },
   "outputs": [],
   "source": [
    "hod_params['mean_occupation_satellites_assembias_param1'] = 1.0\n",
    "hod_params['mean_occupation_centrals_assembias_param1'] = 0.0\n",
    "\n",
    "cat.populate(hod_params, min_ptcl = 20)\n",
    "cat._add_logMmin(5e-4, min_ptcl = 20)"
   ]
  },
  {
   "cell_type": "code",
   "execution_count": null,
   "metadata": {
    "collapsed": true
   },
   "outputs": [],
   "source": [
    "r_bins = np.logspace(-1, 1.6, 19)"
   ]
  },
  {
   "cell_type": "code",
   "execution_count": null,
   "metadata": {
    "collapsed": true
   },
   "outputs": [],
   "source": [
    "wp_p1 = cat.calc_wp(r_bins)"
   ]
  },
  {
   "cell_type": "code",
   "execution_count": null,
   "metadata": {
    "collapsed": false
   },
   "outputs": [],
   "source": [
    "hod_params['mean_occupation_satellites_assembias_param1'] = -1.0\n",
    "hod_params['mean_occupation_centrals_assembias_param1'] = 0.0\n",
    "cat.populate(hod_params, min_ptcl = 20)\n",
    "cat._add_logMmin(5e-4, min_ptcl = 20)"
   ]
  },
  {
   "cell_type": "code",
   "execution_count": null,
   "metadata": {
    "collapsed": true
   },
   "outputs": [],
   "source": [
    "wp_p2 = cat.calc_wp(r_bins)"
   ]
  },
  {
   "cell_type": "code",
   "execution_count": null,
   "metadata": {
    "collapsed": false
   },
   "outputs": [],
   "source": [
    "plt.plot(emu.scale_bin_centers, wp_p1/wp_p2)\n",
    "plt.xscale('log')"
   ]
  },
  {
   "cell_type": "code",
   "execution_count": null,
   "metadata": {
    "collapsed": false
   },
   "outputs": [],
   "source": [
    "from pearce.mocks.kittens import Chinchilla"
   ]
  },
  {
   "cell_type": "code",
   "execution_count": null,
   "metadata": {
    "collapsed": true
   },
   "outputs": [],
   "source": [
    "cat = Chinchilla(400, 2048)"
   ]
  },
  {
   "cell_type": "code",
   "execution_count": null,
   "metadata": {
    "collapsed": false
   },
   "outputs": [],
   "source": [
    "cat.load(1.0, HOD='zheng07')"
   ]
  },
  {
   "cell_type": "code",
   "execution_count": null,
   "metadata": {
    "collapsed": true
   },
   "outputs": [],
   "source": [
    "from scipy.optimize import minimize_scalar\n",
    "def add_logMmin(cat, hod_params):\n",
    "    hod_params['logMmin'] = 13.0 #initial guess\n",
    "    #cat.populate(hod_params) #may be overkill, but will ensure params are written everywhere\n",
    "    def func(logMmin, hod_params):\n",
    "        hod_params.update({'logMmin':logMmin})\n",
    "        return (cat.calc_analytic_nd(hod_params, min_ptcl=20) - 5e-4)**2\n",
    "\n",
    "    res = minimize_scalar(func, bounds = (12,15), args = (hod_params,), options = {'maxiter':100}, method = 'Bounded')\n",
    "\n",
    "    # assuming this doens't fail\n",
    "    print 'logMmin', res.x\n",
    "    hod_params['logMmin'] = res.x"
   ]
  },
  {
   "cell_type": "code",
   "execution_count": null,
   "metadata": {
    "collapsed": false
   },
   "outputs": [],
   "source": [
    "add_logMmin(cat, hod_params)\n",
    "r_bins = np.logspace(-1, 1.6, 19)"
   ]
  },
  {
   "cell_type": "code",
   "execution_count": null,
   "metadata": {
    "collapsed": true
   },
   "outputs": [],
   "source": [
    "N = 5\n",
    "wps = np.zeros((N, 18))\n",
    "for i in xrange(N):\n",
    "    pritn i\n",
    "    cat.populate(hod_params, min_ptcl=20)\n",
    "    wps[i] = cat.calc_wp(r_bins)\n",
    "    \n",
    "wp = wps.mean(axis=0)\n",
    "wp_err = wps.std(axis=0)"
   ]
  },
  {
   "cell_type": "code",
   "execution_count": null,
   "metadata": {
    "collapsed": true
   },
   "outputs": [],
   "source": [
    "chinchilla_pnames, chinchilla_pvals = cat._get_cosmo_param_names_vals()"
   ]
  },
  {
   "cell_type": "code",
   "execution_count": null,
   "metadata": {
    "collapsed": false
   },
   "outputs": [],
   "source": [
    "chinchilla_pnames"
   ]
  },
  {
   "cell_type": "code",
   "execution_count": null,
   "metadata": {
    "collapsed": true
   },
   "outputs": [],
   "source": [
    "cosmo_pnames = ['ombh2', 'omch2', 'w0', 'ns', 'H0', 'Neff', 'sigma8']\n",
    "cosmo_true_vals = [chinchilla_pvals[1]*chinchilla_pvals[2]**2, (chinchilla_pvals[0]-chinchilla_pvals[1])*chinchilla_pvals[2]**2,\n",
    "                   -1, chinchilla_pvals[4], 100*chinchilla_pvals[2], 3.046, chinchilla_pvals[3]]\n",
    "\n",
    "cat_val_dict = dict(zip(cosmo_pnames, cosmo_true_vals))"
   ]
  },
  {
   "cell_type": "code",
   "execution_count": null,
   "metadata": {
    "collapsed": false
   },
   "outputs": [],
   "source": [
    "params = cat_val_dict.copy()\n",
    "del hod_params['logMmin']\n",
    "params.update(hod_params)"
   ]
  },
  {
   "cell_type": "code",
   "execution_count": null,
   "metadata": {
    "collapsed": false
   },
   "outputs": [],
   "source": [
    "emu_wp = 10**emus[0].emulate_wrt_r(params)[0]"
   ]
  },
  {
   "cell_type": "code",
   "execution_count": null,
   "metadata": {
    "collapsed": false
   },
   "outputs": [],
   "source": [
    "plt.plot(emu.scale_bin_centers, wp, label = 'Chinchilla')\n",
    "plt.plot(emu.scale_bin_centers, emu_wp, label = 'Emu')\n",
    "plt.legend(loc='best')\n",
    "plt.loglog();"
   ]
  },
  {
   "cell_type": "code",
   "execution_count": null,
   "metadata": {
    "collapsed": false
   },
   "outputs": [],
   "source": [
    "plt.plot(emu.scale_bin_centers, wp/emu_wp)\n",
    "plt.errorbar(emu.scale_bin_centers, np.ones_like(wp), yerr = wp_err/wp)\n",
    "plt.xscale('log')"
   ]
  },
  {
   "cell_type": "code",
   "execution_count": null,
   "metadata": {
    "collapsed": false
   },
   "outputs": [],
   "source": [
    "plt.hist(cat.model.mock.galaxy_table['conc_NFWmodel'], bins = 100, normed = True);"
   ]
  },
  {
   "cell_type": "code",
   "execution_count": null,
   "metadata": {
    "collapsed": true
   },
   "outputs": [],
   "source": [
    "from pearce.mocks.kittens import TrainingBox"
   ]
  },
  {
   "cell_type": "code",
   "execution_count": null,
   "metadata": {
    "collapsed": false
   },
   "outputs": [],
   "source": [
    "cat2 = TrainingBox(0)\n",
    "cat2.load(1.0, HOD='zheng07')"
   ]
  },
  {
   "cell_type": "code",
   "execution_count": null,
   "metadata": {
    "collapsed": false
   },
   "outputs": [],
   "source": [
    "add_logMmin(cat2, hod_params)\n",
    "cat2.populate(hod_params, min_ptcl=20)"
   ]
  },
  {
   "cell_type": "code",
   "execution_count": null,
   "metadata": {
    "collapsed": false
   },
   "outputs": [],
   "source": [
    "bins = np.linspace(2.5, 20.0, 100)\n",
    "plt.hist(cat.model.mock.galaxy_table['conc_NFWmodel'], bins = bins, normed = True, alpha = 0.3, label = 'Chinchilla');\n",
    "plt.hist(cat2.model.mock.galaxy_table['conc_NFWmodel'], bins = bins, normed = True, alpha = 0.3, label = 'Aemulus');\n",
    "plt.legend(loc='best')"
   ]
  },
  {
   "cell_type": "code",
   "execution_count": null,
   "metadata": {
    "collapsed": false
   },
   "outputs": [],
   "source": [
    "bins = np.linspace(-4, 0, 100)\n",
    "plt.hist(np.log10(cat.halocat.halo_table['halo_rs']), bins = bins, normed=True, alpha = 0.3, label ='Chinchilla');\n",
    "plt.hist(np.log10(cat2.halocat.halo_table['halo_rs']), bins = bins, normed=True, alpha = 0.3, label = 'Aemulus');\n",
    "plt.legend(loc='best')"
   ]
  },
  {
   "cell_type": "code",
   "execution_count": null,
   "metadata": {
    "collapsed": false
   },
   "outputs": [],
   "source": [
    "bins = np.linspace(-4, 0, 100)\n",
    "plt.hist(np.log10(cat.halocat.halo_table['halo_rvir']), bins = bins, normed=True, alpha = 0.3, label ='Chinchilla');\n",
    "plt.hist(np.log10(cat2.halocat.halo_table['halo_rvir']), bins = bins, normed=True, alpha = 0.3, label = 'Aemulus');\n",
    "plt.legend(loc='best')"
   ]
  },
  {
   "cell_type": "code",
   "execution_count": null,
   "metadata": {
    "collapsed": false
   },
   "outputs": [],
   "source": [
    "plt.hist2d(np.log10(cat.halocat.halo_table['halo_mvir']), np.log10(cat.halocat.halo_table['halo_rs']),\\\n",
    "           bins = 100, normed =True);\n",
    "plt.hist2d(np.log10(cat2.halocat.halo_table['halo_mvir']), np.log10(cat2.halocat.halo_table['halo_rs']+1e-6),\\\n",
    "           bins = 100, normed =True);\n",
    "plt.xlim([9, 13])\n",
    "plt.ylim([-3, 0])"
   ]
  },
  {
   "cell_type": "code",
   "execution_count": null,
   "metadata": {
    "collapsed": true
   },
   "outputs": [],
   "source": [
    "m_min = np.min(cat2.halocat.halo_table['halo_mvir'])*10"
   ]
  },
  {
   "cell_type": "code",
   "execution_count": null,
   "metadata": {
    "collapsed": false
   },
   "outputs": [],
   "source": [
    "np.log10(m_min)"
   ]
  },
  {
   "cell_type": "code",
   "execution_count": null,
   "metadata": {
    "collapsed": true
   },
   "outputs": [],
   "source": [
    "mass_cut = np.logical_and(cat.halocat.halo_table['halo_mvir']>10**(12.0), cat.halocat.halo_table['halo_mvir']<10**(14.5))\n",
    "mass_cut2 = np.logical_and(cat2.halocat.halo_table['halo_mvir']>10**(12.0), cat2.halocat.halo_table['halo_mvir']<10**(14.5)) "
   ]
  },
  {
   "cell_type": "code",
   "execution_count": null,
   "metadata": {
    "collapsed": false
   },
   "outputs": [],
   "source": [
    "bins = np.linspace(11, 16, 100)\n",
    "plt.hist(np.log10(cat.halocat.halo_table['halo_mvir'][mass_cut]), bins = bins, normed=True, alpha = 0.3, label ='Chinchilla');\n",
    "plt.hist(np.log10(cat2.halocat.halo_table['halo_mvir'])[mass_cut2], bins = bins, normed=True, alpha = 0.3, label = 'Aemulus');\n",
    "plt.legend(loc='best')"
   ]
  },
  {
   "cell_type": "code",
   "execution_count": null,
   "metadata": {
    "collapsed": false
   },
   "outputs": [],
   "source": [
    "1./0.01"
   ]
  },
  {
   "cell_type": "code",
   "execution_count": null,
   "metadata": {
    "collapsed": false
   },
   "outputs": [],
   "source": [
    "bins = np.linspace(1./0.2, 1./0.01, 50)\n",
    "plt.hist(1./cat.halocat.halo_table['halo_rs'][mass_cut], bins = bins, normed=True, alpha = 0.3, label ='Chinchilla');\n",
    "plt.hist(1./cat2.halocat.halo_table['halo_rs'][mass_cut2], bins = bins, normed=True, alpha = 0.3, label = 'Aemulus');\n",
    "plt.legend(loc='best')"
   ]
  },
  {
   "cell_type": "code",
   "execution_count": null,
   "metadata": {
    "collapsed": false
   },
   "outputs": [],
   "source": [
    "bins = np.linspace(0.0, 1.0, 100)\n",
    "plt.hist(cat.halocat.halo_table['halo_rvir'][mass_cut], bins = bins, normed=True, alpha = 0.3, label ='Chinchilla');\n",
    "plt.hist(cat2.halocat.halo_table['halo_rvir'][mass_cut2], bins = bins, normed=True, alpha = 0.3, label = 'Aemulus');\n",
    "plt.legend(loc='best')"
   ]
  },
  {
   "cell_type": "code",
   "execution_count": null,
   "metadata": {
    "collapsed": false
   },
   "outputs": [],
   "source": [
    "bins = np.linspace(2.5, 20, 100)\n",
    "plt.hist(cat.halocat.halo_table['halo_nfw_conc'][mass_cut], bins = bins, normed=True, alpha = 0.3, label ='Chinchilla');\n",
    "plt.hist(cat2.halocat.halo_table['halo_nfw_conc'][mass_cut2], bins = bins, normed=True, alpha = 0.3, label = 'Aemulus');\n",
    "plt.legend(loc='best')\n",
    "#plt.yscale('log')"
   ]
  },
  {
   "cell_type": "code",
   "execution_count": null,
   "metadata": {
    "collapsed": true
   },
   "outputs": [],
   "source": [
    "finite_idxs = np.isfinite(cat2.halocat.halo_table['halo_nfw_conc'])\n",
    "mass_cut2 = np.logical_and(finite_idxs, mass_cut2)"
   ]
  },
  {
   "cell_type": "code",
   "execution_count": null,
   "metadata": {
    "collapsed": false
   },
   "outputs": [],
   "source": [
    "sns.jointplot(np.log10(cat2.halocat.halo_table['halo_mvir'][mass_cut2]), np.log10(1./cat2.halocat.halo_table['halo_rs'][mass_cut2]), kind='hex')"
   ]
  },
  {
   "cell_type": "code",
   "execution_count": null,
   "metadata": {
    "collapsed": false
   },
   "outputs": [],
   "source": [
    "sns.jointplot(np.log10(cat.halocat.halo_table['halo_mvir'][mass_cut]), np.log10(1./cat.halocat.halo_table['halo_rs'][mass_cut]), kind='hex')"
   ]
  },
  {
   "cell_type": "code",
   "execution_count": null,
   "metadata": {
    "collapsed": false
   },
   "outputs": [],
   "source": [
    "sns.jointplot(cat2.halocat.halo_table['halo_rvir'][mass_cut2], np.log10(cat2.halocat.halo_table['halo_mvir'][mass_cut2]), kind='hex')"
   ]
  },
  {
   "cell_type": "code",
   "execution_count": null,
   "metadata": {
    "collapsed": false
   },
   "outputs": [],
   "source": [
    "sns.jointplot(cat.halocat.halo_table['halo_rvir'][mass_cut], np.log10(cat.halocat.halo_table['halo_mvir'][mass_cut]), kind='hex')"
   ]
  },
  {
   "cell_type": "code",
   "execution_count": null,
   "metadata": {
    "collapsed": true
   },
   "outputs": [],
   "source": []
  }
 ],
 "metadata": {
  "kernelspec": {
   "display_name": "Python [default]",
   "language": "python",
   "name": "python2"
  },
  "language_info": {
   "codemirror_mode": {
    "name": "ipython",
    "version": 2
   },
   "file_extension": ".py",
   "mimetype": "text/x-python",
   "name": "python",
   "nbconvert_exporter": "python",
   "pygments_lexer": "ipython2",
   "version": "2.7.13"
  }
 },
 "nbformat": 4,
 "nbformat_minor": 1
}

{
 "cells": [
  {
   "cell_type": "markdown",
   "metadata": {},
   "source": [
    "I'm gonna  just sanity check the performance of the KNN-CDF computation I implemented. "
   ]
  },
  {
   "cell_type": "code",
   "execution_count": 1,
   "metadata": {
    "collapsed": true
   },
   "outputs": [],
   "source": [
    "%matplotlib inline\n",
    "from matplotlib import pyplot as plt\n",
    "import seaborn as sns\n",
    "sns.set()"
   ]
  },
  {
   "cell_type": "code",
   "execution_count": 2,
   "metadata": {
    "collapsed": true
   },
   "outputs": [],
   "source": [
    "from pearce.mocks.kittens import TrainingBox\n",
    "import numpy as np\n",
    "from copy import deepcopy\n",
    "from halotools.utils.table_utils import compute_conditional_percentiles\n",
    "from halotools.mock_observables import get_haloprop_of_galaxies\n",
    "from pearce.mocks.void_density_function import knn_cdf\n",
    "from matplotlib.colors import ListedColormap"
   ]
  },
  {
   "cell_type": "code",
   "execution_count": 3,
   "metadata": {
    "collapsed": true
   },
   "outputs": [],
   "source": [
    "boxno = 20"
   ]
  },
  {
   "cell_type": "code",
   "execution_count": 4,
   "metadata": {
    "collapsed": false
   },
   "outputs": [],
   "source": [
    "cat = TrainingBox(boxno, system = 'ki-ls')"
   ]
  },
  {
   "cell_type": "code",
   "execution_count": 5,
   "metadata": {
    "collapsed": false
   },
   "outputs": [
    {
     "name": "stderr",
     "output_type": "stream",
     "text": [
      "/u/ki/swmclau2/.conda/envs/hodemulator/lib/python2.7/site-packages/halotools/empirical_models/phase_space_models/analytic_models/satellites/nfw/biased_nfw_phase_space.py:197: UserWarning: You have selected 99 bins to digitize host halo concentration \n",
      "and 11 bins to digitize the galaxy bias parameter.\n",
      "To populate mocks, the BiasedNFWPhaseSpace class builds a lookup table with shape (99, 11, 101),\n",
      "one entry for every numerical solution to the Jeans equation.\n",
      "Using this fine of a binning requires a long pre-computation of 109989 integrals\n",
      ".Make sure you actually need to use so many bins\n",
      "  warn(lookup_table_performance_warning.format(*args))\n",
      "/u/ki/swmclau2/.conda/envs/hodemulator/lib/python2.7/site-packages/halotools/empirical_models/phase_space_models/analytic_models/satellites/nfw/biased_nfw_phase_space.py:197: UserWarning: You have selected 99 bins to digitize host halo concentration \n",
      "and 11 bins to digitize the galaxy bias parameter.\n",
      "To populate mocks, the BiasedNFWPhaseSpace class builds a lookup table with shape (99, 11, 101),\n",
      "one entry for every numerical solution to the Jeans equation.\n",
      "Using this fine of a binning requires a long pre-computation of 109989 integrals\n",
      ".Make sure you actually need to use so many bins\n",
      "  warn(lookup_table_performance_warning.format(*args))\n"
     ]
    }
   ],
   "source": [
    "cat.load(1.0, HOD='zheng07', biased_satellites=True)"
   ]
  },
  {
   "cell_type": "code",
   "execution_count": 6,
   "metadata": {
    "collapsed": false
   },
   "outputs": [],
   "source": [
    "r_bins = np.logspace(-0.3, 2, 21)\n",
    "rbins = r_bins\n",
    "rbc = (r_bins[1:]+r_bins[:-1])/2.0"
   ]
  },
  {
   "cell_type": "code",
   "execution_count": 7,
   "metadata": {
    "collapsed": false
   },
   "outputs": [],
   "source": [
    "mass_bin_range = (12,16)\n",
    "mass_bin_size = 0.1\n",
    "mass_bins = np.logspace(mass_bin_range[0], mass_bin_range[1],\n",
    "                           int((mass_bin_range[1] - mass_bin_range[0]) / mass_bin_size) + 1)\n",
    "mass_bin_centers = (mass_bins[:-1] + mass_bins[1:]) / 2"
   ]
  },
  {
   "cell_type": "code",
   "execution_count": 8,
   "metadata": {
    "collapsed": true
   },
   "outputs": [],
   "source": [
    "k=2"
   ]
  },
  {
   "cell_type": "code",
   "execution_count": 9,
   "metadata": {
    "collapsed": true
   },
   "outputs": [],
   "source": [
    "def peaked_cdf(cdf):\n",
    "    cdf[cdf>0.5] = 1-cdf[cdf>0.5]\n",
    "    return cdf"
   ]
  },
  {
   "cell_type": "code",
   "execution_count": 10,
   "metadata": {
    "collapsed": false
   },
   "outputs": [],
   "source": [
    "def split_hod_knn_cdf_plot(HOD, ab_params,sec_haloprop_key,ks=[1,2,4,8], cmap_name = 'BrBG'):\n",
    "    cat.load_model(1.0, HOD=HOD, hod_kwargs= {'sec_haloprop_key': sec_haloprop_key})\n",
    "    cat.model.param_dict['logMmin'] = 13.5\n",
    "    cat.model.param_dict['logM0'] = 12.5\n",
    "    n_splits = len(ks)\n",
    "    cat.populate(ab_params, min_ptcl = 20)\n",
    "    #print cat.model.param_dict\n",
    "    catalog = cat.model.mock.galaxy_table\n",
    "    #sec_percentiles = compute_conditional_percentiles(prim_haloprop = cat.model.mock.halo_table['halo_mvir'],\\\n",
    "    #                                              sec_haloprop = cat.model.mock.halo_table[sec_haloprop_key],\n",
    "    #                                          prim_haloprop_bin_boundaries= mass_bins)\n",
    "    \n",
    "    #sec_gal_percentiles = get_haloprop_of_galaxies(catalog['halo_id'], cat.model.mock.halo_table['halo_id'],\n",
    "    #                                           sec_percentiles)\n",
    "    \n",
    "    # TODO bins here\n",
    "    vdfs = np.zeros((n_splits, len(rbc)))\n",
    "    #perc_ranges = np.linspace(0,1, n_splits+1)\n",
    "    \n",
    "    #cmap = [ListedColormap(c) for c in sns.color_palette(cmap_name, n_splits)]\n",
    "    cmap = sns.color_palette(cmap_name, n_splits)\n",
    "\n",
    "    #cmap = sns.dark_palette(cmap_name, n_splits)\n",
    "    #gal_pos = np.c_[[catalog[_c] for _c in ['x','y','z']]].T\n",
    "\n",
    "    #base_vdf = void_density_function(gal_pos, rbins, n_ran=int(1e7), period = cat.Lbox, n_jobs = 4, PBC=True)\n",
    "    #plt.plot(rbc, base_vdf, c = 'k', label = 'All')\n",
    "\n",
    "    for i,(c,k) in enumerate(zip(cmap,ks)):\n",
    "        #sec_bin_gals = np.logical_and(perc_ranges[i] < sec_gal_percentiles, sec_gal_percentiles<perc_ranges[i+1])\n",
    "        \n",
    "        gal_pos = np.c_[[catalog[_c] for _c in ['x','y','z']]].T\n",
    "\n",
    "        vdfs[i,:] = knn_cdf(gal_pos, rbins, k=k, n_ran=int(1e7), period = cat.Lbox, n_jobs = 4, PBC=True)\n",
    "        #print c\n",
    "        vdfs[i] = peaked_cdf(vdfs[i])\n",
    "        plt.plot(rbc, vdfs[i], c = c, label = 'k=%d'%k)\n",
    "\n",
    "    \n",
    "    #gal_hist, _ = np.histogram(catalog['halo_mvir'], bins = mass_bins)\n",
    "    #halo_hist, _= np.histogram(cat.model.mock.halo_table['halo_mvir'], bins = mass_bins)\n",
    "    #full_hod = gal_hist*1.0/halo_hist\n",
    "    \n",
    "    \n",
    "    #plt.plot(mass_bin_centers, full_hod, label = 'Full HOD', color = 'k')\n",
    "    plt.legend(loc='best')\n",
    "    plt.xscale('log');\n",
    "    #plt.xscale('log')\n",
    "    #plt.xlim(1e12,5e14)\n",
    "    #plt.ylim([0, 40])\n",
    "    plt.xlabel(r\"$r$ [Mpc/h]\")\n",
    "    plt.ylabel(r\"KNN_CDF K=%d\"%k)\n",
    "    plt.title(sec_haloprop_key)\n",
    "    plt.show()"
   ]
  },
  {
   "cell_type": "raw",
   "metadata": {
    "collapsed": true
   },
   "source": [
    "ab_params = {'mean_occupation_centrals_assembias_param1': 0.0,\n",
    "             'mean_occupation_satellites_assembias_param1': -1.0}"
   ]
  },
  {
   "cell_type": "code",
   "execution_count": null,
   "metadata": {
    "collapsed": true
   },
   "outputs": [],
   "source": [
    "ab_params = {'mean_occupation_centrals_assembias_corr1': 0.0,\n",
    "             'mean_occupation_satellites_assembias_corr1': -1.0}"
   ]
  },
  {
   "cell_type": "code",
   "execution_count": null,
   "metadata": {
    "collapsed": false
   },
   "outputs": [],
   "source": [
    "split_hod_knn_cdf_plot('corrZheng07', ab_params, 'halo_local_density_10')"
   ]
  },
  {
   "cell_type": "code",
   "execution_count": null,
   "metadata": {
    "collapsed": true
   },
   "outputs": [],
   "source": [
    "fiducial_hod = {'log_Mmin': 13.0, 'sigma_logM': 0.2, 'logM0': 12.5, 'logM1': 14.0, 'alpha': 1.05}"
   ]
  },
  {
   "cell_type": "code",
   "execution_count": null,
   "metadata": {
    "collapsed": false
   },
   "outputs": [],
   "source": [
    "cat.populate(fiducial_hod)"
   ]
  },
  {
   "cell_type": "code",
   "execution_count": null,
   "metadata": {
    "collapsed": false
   },
   "outputs": [],
   "source": [
    "cat.calc_analytic_nd()"
   ]
  },
  {
   "cell_type": "code",
   "execution_count": null,
   "metadata": {
    "collapsed": false
   },
   "outputs": [],
   "source": [
    "fiducial_vdf = cat.calc_knn_cdf(r_bins,k=1, n_ran=1e6)"
   ]
  },
  {
   "cell_type": "code",
   "execution_count": null,
   "metadata": {
    "collapsed": false
   },
   "outputs": [],
   "source": [
    "plt.plot(rbc, fiducial_vdf)\n",
    "plt.loglog();"
   ]
  },
  {
   "cell_type": "code",
   "execution_count": null,
   "metadata": {
    "collapsed": false
   },
   "outputs": [],
   "source": [
    "# measure shot noise\n",
    "N = 10\n",
    "vdfs = np.zeros((N, rbc.shape[0]))\n",
    "for i in xrange(N):\n",
    "    vdfs[i] = cat.calc_knn_cdf(r_bins, n_ran =1e6,k=k)"
   ]
  },
  {
   "cell_type": "code",
   "execution_count": null,
   "metadata": {
    "collapsed": false
   },
   "outputs": [],
   "source": [
    "plt.errorbar(rbc, vdfs.mean(axis=0), yerr = vdfs.std(axis=0) )\n",
    "plt.loglog();"
   ]
  },
  {
   "cell_type": "code",
   "execution_count": null,
   "metadata": {
    "collapsed": false
   },
   "outputs": [],
   "source": [
    "plt.plot(rbc, vdfs.mean(axis=0)/vdfs.std(axis=0))\n",
    "plt.loglog();"
   ]
  },
  {
   "cell_type": "code",
   "execution_count": null,
   "metadata": {
    "collapsed": true
   },
   "outputs": [],
   "source": [
    "#np.save('vdfs_nran100.npy', vdfs)\n",
    "#np.save('vdfs_nran10.npy', vdfs)"
   ]
  },
  {
   "cell_type": "raw",
   "metadata": {},
   "source": [
    "np.save('rbins.npy', r_bins)"
   ]
  },
  {
   "cell_type": "code",
   "execution_count": null,
   "metadata": {
    "collapsed": true
   },
   "outputs": [],
   "source": [
    "varied_pname = 'alpha'\n",
    "low, high = 0.8, 1.2 \n",
    "N = 6\n",
    "cmap = sns.cubehelix_palette(N, rot=-.4, as_cmap=False)\n",
    "vals = np.linspace(low, high, N)"
   ]
  },
  {
   "cell_type": "code",
   "execution_count": null,
   "metadata": {
    "collapsed": false
   },
   "outputs": [],
   "source": [
    "sns.palplot(cmap)"
   ]
  },
  {
   "cell_type": "code",
   "execution_count": null,
   "metadata": {
    "collapsed": false
   },
   "outputs": [],
   "source": [
    "plot_vdfs = np.zeros((N, len(rbc)))\n",
    "for i,(c,v) in enumerate(zip(cmap, vals)):\n",
    "    print v\n",
    "    params = deepcopy(fiducial_hod)\n",
    "    params[varied_pname] = v\n",
    "    cat.populate(params)\n",
    "    plot_vdfs[i] = cat.calc_knn_cdf(r_bins, n_ran=1e6, k =k )"
   ]
  },
  {
   "cell_type": "code",
   "execution_count": null,
   "metadata": {
    "collapsed": false
   },
   "outputs": [],
   "source": [
    "for c, pv, val in zip(cmap, plot_vdfs, vals):\n",
    "    plt.plot(rbc, pv/fiducial_vdf, color = c, label=val)\n",
    "    \n",
    "plt.legend(loc='best')\n",
    "plt.title(varied_pname)    \n",
    "plt.xscale('log');"
   ]
  },
  {
   "cell_type": "code",
   "execution_count": null,
   "metadata": {
    "collapsed": false
   },
   "outputs": [],
   "source": [
    "# do random HODs\n",
    "bounds_dict = {#'H0': (61.69472, 74.76751999999999),\n",
    " #'Neff': (2.62125, 4.27875),\n",
    " 'alpha': (0.7, 1.3),\n",
    " 'conc_gal_bias': (0.5, 2.0),\n",
    " #'sigma8': (0.65, 1.0), # TODO update\n",
    " 'logM0': (12.6, 13.6),\n",
    " 'logM1': (13.7, 14.7),\n",
    "#'ns': (0.9278462, 0.9974495999999999),\n",
    "# 'ombh2': (0.02066455, 0.02371239),\n",
    "# 'omch2': (0.1012181, 0.13177679999999997),\n",
    " 'sigma_logM': (0.05, 0.6)}\n",
    "# 'ln10As': (3.0, 3.1),\n",
    "# 'w0': (-1.399921, -0.5658486),\n",
    "# 'Om': (0.25, 0.35),\n",
    "# 'S8': (0.7, 1.0),\n",
    " #'Om': (0.15, 0.4),\n",
    " #'S8': (0.5, 1.1),\n",
    "# 'mean_occupation_centrals_assembias_corr1': (-1.0, 1.0),\n",
    "# 'mean_occupation_satellites_assembias_corr1': (-1.0, 1.0),\n",
    "# 'mean_occupation_centrals_assembias_param1': (-1.0, 1.0),\n",
    "# 'mean_occupation_satellites_assembias_param1': (-1.0, 1.0),\n",
    "# 'mean_occupation_centrals_assembias_slope1': (-3.0, 3.0),\n",
    "# 'mean_occupation_satellites_assembias_slope1': (-3.0, 3.0)}"
   ]
  },
  {
   "cell_type": "code",
   "execution_count": null,
   "metadata": {
    "collapsed": false
   },
   "outputs": [],
   "source": [
    "N = 10\n",
    "\n",
    "for i in xrange(N):\n",
    "    point = {}\n",
    "    for key, bounds in bounds_dict.iteritems():\n",
    "        point[key] = np.random.uniform(bounds[0], bounds[1])\n",
    "        \n",
    "    cat.populate(point)\n",
    "    cat._add_logMmin(5e-4, 0)\n",
    "    cat.populate()\n",
    "    \n",
    "    val = cat.calc_knn_cdf(r_bins, n_ran=1e8, k=8)\n",
    "    plt.plot(rbc, peaked_cdf(val), alpha = 0.3)\n",
    "    \n",
    "plt.loglog()\n",
    "plt.ylim([1e-4, 1.0])\n",
    "plt.show()"
   ]
  },
  {
   "cell_type": "code",
   "execution_count": null,
   "metadata": {
    "collapsed": true
   },
   "outputs": [],
   "source": []
  }
 ],
 "metadata": {
  "kernelspec": {
   "display_name": "Python [conda env:hodemulator]",
   "language": "python",
   "name": "conda-env-hodemulator-py"
  },
  "language_info": {
   "codemirror_mode": {
    "name": "ipython",
    "version": 2
   },
   "file_extension": ".py",
   "mimetype": "text/x-python",
   "name": "python",
   "nbconvert_exporter": "python",
   "pygments_lexer": "ipython2",
   "version": "2.7.13"
  }
 },
 "nbformat": 4,
 "nbformat_minor": 0
}

{
 "cells": [
  {
   "cell_type": "markdown",
   "metadata": {},
   "source": [
    "I have found that certain scales in k-cdfs are not informative. This notebook will make copies of them that apply these scale cuts. Gotta do it for \n",
    "\n",
    "* Emus\n",
    "* Sim Covmats\n",
    "* Mock Measurements"
   ]
  },
  {
   "cell_type": "code",
   "execution_count": 21,
   "metadata": {
    "collapsed": true
   },
   "outputs": [],
   "source": [
    "import h5py\n",
    "import numpy as np"
   ]
  },
  {
   "cell_type": "raw",
   "metadata": {
    "collapsed": true
   },
   "source": [
    "fname = '/u/ki/swmclau2/des/Aemulators/knn_{k}_cdf_hsab/PearceKNN{k}pCDFHSABCosmo.hdf5'\n",
    "new_fname = '/u/ki/swmclau2/des/Aemulators/knn_{k}_cdf_hsab/PearceKNN{k}pCDFCutHSABCosmo.hdf5'"
   ]
  },
  {
   "cell_type": "code",
   "execution_count": 22,
   "metadata": {
    "collapsed": true
   },
   "outputs": [],
   "source": [
    "fname = '/u/ki/swmclau2/des/Aemulators/knn_{k}_cdf_hsab_test/PearceKNN{k}pCDFHSABCosmoTest.hdf5'\n",
    "new_fname = '/u/ki/swmclau2/des/Aemulators/knn_{k}_cdf_hsab_test/PearceKNN{k}pCDFCutHSABCosmoTest.hdf5'"
   ]
  },
  {
   "cell_type": "code",
   "execution_count": 23,
   "metadata": {
    "collapsed": true
   },
   "outputs": [],
   "source": [
    "# these computed where the average values - 1 std is less than 1/sqrt(n_ran)\n",
    "keep_scales = {1: [True, True, True, True, True, True, True, True, True, True, True, True, True, True, True, False, False, False, False, False],\n",
    "#2: [False, True, True, True, True, True, True, True, True, True, True, True, True, True, True, False, False, False, False, False],\n",
    "2: [False, False, True, True, True, True, True, True, True, True, True, True, True, True, True, False, False, False, False, False],\n",
    "4: [False, False, False, False, False, True, True, True, True, True, True, True, True, True, True, True, False, False, False, False],\n",
    "#8: [False, False, False, False, False, False, False, True, True, True, True, True, True, True, True, True, False, False, False, False]}\n",
    "8: [False, False, False, False, False, False, False, True, True, True, True, True, True, True, True, True, False, False, False, False]}"
   ]
  },
  {
   "cell_type": "code",
   "execution_count": 24,
   "metadata": {
    "collapsed": false
   },
   "outputs": [
    {
     "name": "stdout",
     "output_type": "stream",
     "text": [
      "1\n",
      "2\n",
      "4\n",
      "8\n"
     ]
    }
   ],
   "source": [
    "for k in [1,2,4,8]:\n",
    "    print k\n",
    "    with h5py.File(fname.format(k=k), 'r') as f, h5py.File(new_fname.format(k=k), 'w') as nf:\n",
    "        for key in f.attrs:\n",
    "            nf.attrs[key] = f.attrs[key]\n",
    "        \n",
    "        scales = np.array(keep_scales[k])\n",
    "        # gotta add a bin \n",
    "        last_true = False\n",
    "        last_true_idx = -1\n",
    "        for i, c in enumerate(scales):\n",
    "            if  c: \n",
    "                last_true = True\n",
    "            if last_true and not c:\n",
    "                last_true_idx = i\n",
    "                break\n",
    "        scales2 = list(scales)\n",
    "        scales2.insert(last_true_idx, True)\n",
    "        scales2 = np.array(scales2)\n",
    "\n",
    "        nf.attrs['scale_bins'] = f.attrs['scale_bins'][scales2]\n",
    "            \n",
    "        for key in f:\n",
    "            cdf =  f[key]['a_1.000']['obs'][()]\n",
    "            cov =  f[key]['a_1.000']['cov'][()]\n",
    "\n",
    "            cdf = cdf[:,scales]\n",
    "            cov = cov[:,scales,:][:,:,scales]\n",
    "            \n",
    "            grp = nf.create_group(key+'/a_1.000/')\n",
    "            obs_dset = grp.create_dataset('obs', data = cdf, compression='gzip')\n",
    "            cov_dset = grp.create_dataset('cov', data = cov, compression='gzip')\n"
   ]
  },
  {
   "cell_type": "code",
   "execution_count": 5,
   "metadata": {
    "collapsed": false
   },
   "outputs": [],
   "source": [
    "cov_fname = '/u/ki/swmclau2/Git/pearce/bin/covmat/knn_%d_pcdf_sim_covmat.npy'\n",
    "new_cov_fname = '/u/ki/swmclau2/Git/pearce/bin/covmat/knn_%d_pcdf_cut_sim_covmat.npy'"
   ]
  },
  {
   "cell_type": "code",
   "execution_count": 6,
   "metadata": {
    "collapsed": false
   },
   "outputs": [],
   "source": [
    "for k in [1,2,4,8]:\n",
    "    scales = np.array(keep_scales[k])\n",
    "    cov = np.load(cov_fname%k)\n",
    "    \n",
    "    cov = cov[scales, :][:, scales]\n",
    "    np.save(new_cov_fname%k, cov)"
   ]
  },
  {
   "cell_type": "code",
   "execution_count": 7,
   "metadata": {
    "collapsed": false
   },
   "outputs": [],
   "source": [
    "cov_fname = '/u/ki/swmclau2/Git/pearce/bin/covmat/knn_pcdf_sim_covmat.npy'\n",
    "new_cov_fname = '/u/ki/swmclau2/Git/pearce/bin/covmat/knn_pcdf_cut_sim_covmat.npy'"
   ]
  },
  {
   "cell_type": "code",
   "execution_count": 8,
   "metadata": {
    "collapsed": false
   },
   "outputs": [],
   "source": [
    "cov = np.load(cov_fname)\n",
    "scales = np.hstack([np.array(keep_scales[k]) for k in [1,2,4,8]])\n",
    "cov = cov[scales, :][:,scales]\n",
    "np.save(new_cov_fname, cov)"
   ]
  },
  {
   "cell_type": "code",
   "execution_count": 9,
   "metadata": {
    "collapsed": true
   },
   "outputs": [],
   "source": [
    "meas_fname = '/u/ki/swmclau2/Git/pearce/bin/mock_measurements/testbox_1_1_knn_%d_pcdf.npy'\n",
    "new_meas_fname = '/u/ki/swmclau2/Git/pearce/bin/mock_measurements/testbox_1_1_knn_%d_pcdf_cut.npy'"
   ]
  },
  {
   "cell_type": "code",
   "execution_count": 10,
   "metadata": {
    "collapsed": false
   },
   "outputs": [
    {
     "name": "stdout",
     "output_type": "stream",
     "text": [
      "(20,)\n",
      "(15,)\n",
      "(20,)\n",
      "(13,)\n",
      "(20,)\n",
      "(11,)\n",
      "(20,)\n",
      "(9,)\n"
     ]
    }
   ],
   "source": [
    "for k in [1,2,4,8]:\n",
    "    obs = np.load(meas_fname%(k))\n",
    "    print obs.shape\n",
    "    obs = obs[np.array(keep_scales[k])]\n",
    "    print obs.shape\n",
    "    np.save(new_meas_fname%(k), obs)"
   ]
  },
  {
   "cell_type": "code",
   "execution_count": 11,
   "metadata": {
    "collapsed": true
   },
   "outputs": [],
   "source": [
    "meas_fname = '/u/ki/swmclau2/Git/pearce/bin/mock_measurements/testbox_5_1_hsab_knn_%d_pcdf.npy'\n",
    "new_meas_fname = '/u/ki/swmclau2/Git/pearce/bin/mock_measurements/testbox_5_1_hsab_knn_%d_cdf_pcut.npy'"
   ]
  },
  {
   "cell_type": "code",
   "execution_count": 12,
   "metadata": {
    "collapsed": false
   },
   "outputs": [
    {
     "name": "stdout",
     "output_type": "stream",
     "text": [
      "(20,)\n",
      "(15,)\n",
      "(20,)\n",
      "(13,)\n",
      "(20,)\n",
      "(11,)\n",
      "(20,)\n",
      "(9,)\n"
     ]
    }
   ],
   "source": [
    "for k in [1,2,4,8]:\n",
    "    obs = np.load(meas_fname%(k))\n",
    "    print obs.shape\n",
    "    obs = obs[np.array(keep_scales[k])]\n",
    "    print obs.shape\n",
    "    np.save(new_meas_fname%(k), obs)"
   ]
  },
  {
   "cell_type": "code",
   "execution_count": null,
   "metadata": {
    "collapsed": true
   },
   "outputs": [],
   "source": []
  }
 ],
 "metadata": {
  "kernelspec": {
   "display_name": "Python [conda env:hodemulator]",
   "language": "python",
   "name": "conda-env-hodemulator-py"
  },
  "language_info": {
   "codemirror_mode": {
    "name": "ipython",
    "version": 2
   },
   "file_extension": ".py",
   "mimetype": "text/x-python",
   "name": "python",
   "nbconvert_exporter": "python",
   "pygments_lexer": "ipython2",
   "version": "2.7.13"
  }
 },
 "nbformat": 4,
 "nbformat_minor": 0
}

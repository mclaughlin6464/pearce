{
 "cells": [
  {
   "cell_type": "markdown",
   "metadata": {},
   "source": [
    "I just want to get a sense of how long the likelihood evaluation takes. "
   ]
  },
  {
   "cell_type": "code",
   "execution_count": 1,
   "metadata": {
    "collapsed": true
   },
   "outputs": [],
   "source": [
    "import matplotlib\n",
    "#matplotlib.use('Agg')\n",
    "from matplotlib import pyplot as plt\n",
    "%matplotlib inline\n",
    "import seaborn as sns\n",
    "sns.set()"
   ]
  },
  {
   "cell_type": "code",
   "execution_count": 2,
   "metadata": {
    "collapsed": false
   },
   "outputs": [
    {
     "name": "stderr",
     "output_type": "stream",
     "text": [
      " /u/ki/swmclau2/.conda/envs/hodemulator/lib/python2.7/site-packages/sklearn/ensemble/weight_boosting.py:29: DeprecationWarning:numpy.core.umath_tests is an internal NumPy module and should not be imported. It will be removed in a future NumPy release.\n"
     ]
    }
   ],
   "source": [
    "from time import time\n",
    "from multiprocessing import cpu_count, Pool\n",
    "import warnings\n",
    "from itertools import izip\n",
    "from os import path\n",
    "from ast import literal_eval\n",
    "\n",
    "import numpy as np\n",
    "import emcee as mc\n",
    "import dynesty as dyn\n",
    "from functools import partial\n",
    "from scipy.linalg import inv\n",
    "import h5py\n",
    "\n",
    "from pearce.emulator import OriginalRecipe, ExtraCrispy, SpicyBuffalo, NashvilleHot, LemonPepperWet"
   ]
  },
  {
   "cell_type": "code",
   "execution_count": 3,
   "metadata": {
    "collapsed": true
   },
   "outputs": [],
   "source": [
    "def lnprior(theta, param_names, *args):\n",
    "    for p, t in izip(param_names, theta):\n",
    "        low, high = _emus[0].get_param_bounds(p)\n",
    "\n",
    "        if np.isnan(t) or t < low or t > high:\n",
    "            return -np.inf\n",
    "    return 0\n",
    "\n",
    "\n"
   ]
  },
  {
   "cell_type": "code",
   "execution_count": 40,
   "metadata": {
    "collapsed": true
   },
   "outputs": [],
   "source": [
    "from time import time\n",
    "def lnlike(theta, param_names, fixed_params, r_bin_centers, y, combined_inv_cov):\n",
    "    t0 = time()\n",
    "    param_dict = dict(izip(param_names, theta))\n",
    "    param_dict.update(fixed_params)\n",
    "\n",
    "    emu_preds = []\n",
    "    t1 = time()\n",
    "    for _emu, rbc in zip(_emus, r_bin_centers):\n",
    "        y_bar = _emu.emulate_wrt_r(param_dict, rbc)[0]\n",
    "\n",
    "        emu_preds.append(10**y_bar)\n",
    "        #delta = y_bar - y\n",
    "        #chi2 -= np.dot(delta, np.dot(combined_inv_cov, delta))\n",
    "    t2 = time()\n",
    "    emu_pred = np.hstack(emu_preds)\n",
    "\n",
    "    delta = emu_pred - y\n",
    "    #print delta\n",
    "    out =  - np.dot(delta, np.dot(combined_inv_cov, delta))\n",
    "    t3 = time()\n",
    "    print t1-t0, t2-t1, t3-t2\n",
    "    return out "
   ]
  },
  {
   "cell_type": "raw",
   "metadata": {
    "collapsed": true
   },
   "source": [
    "def lnlike2(theta, param_names, fixed_params, r_bin_centers, y, cov):\n",
    "    param_dict = dict(izip(param_names, theta))\n",
    "    param_dict.update(fixed_params)\n",
    "\n",
    "    emu_preds = []\n",
    "    for _emu, rbc in zip(_emus, r_bin_centers):\n",
    "        y_bar = _emu.emulate_wrt_r(param_dict, rbc)[0]\n",
    "\n",
    "        emu_preds.append(10**y_bar)\n",
    "        #delta = y_bar - y\n",
    "        #chi2 -= np.dot(delta, np.dot(combined_inv_cov, delta))\n",
    "\n",
    "    emu_pred = np.hstack(emu_preds)\n",
    "\n",
    "    delta = emu_pred - y\n",
    "    #print delta\n",
    "    return - np.dot(delta, np.linalg.solve(cov, delta))"
   ]
  },
  {
   "cell_type": "code",
   "execution_count": 5,
   "metadata": {
    "collapsed": true
   },
   "outputs": [],
   "source": [
    "def lnprob(theta, *args):\n",
    "    \"\"\"\n",
    "    The total liklihood for an MCMC. Mostly a generic wrapper for the below functions.\n",
    "    :param theta:\n",
    "        Parameters for the proposal\n",
    "    :param args:\n",
    "        Arguments to pass into the liklihood\n",
    "    :return:\n",
    "        Log Liklihood of theta, a float.\n",
    "    \"\"\"\n",
    "    lp = lnprior(theta, *args)\n",
    "    if not np.isfinite(lp):\n",
    "        return -np.inf\n",
    "\n",
    "    return lp + lnlike(theta, *args)\n"
   ]
  },
  {
   "cell_type": "code",
   "execution_count": 6,
   "metadata": {
    "collapsed": true
   },
   "outputs": [],
   "source": [
    "fname = '/u/ki/swmclau2/des/PearceMCMC/HOD_MDPL2_wp_ds_rmin_0.5_HOD.hdf5'"
   ]
  },
  {
   "cell_type": "code",
   "execution_count": 7,
   "metadata": {
    "collapsed": false
   },
   "outputs": [],
   "source": [
    "f = h5py.File(fname, 'r')"
   ]
  },
  {
   "cell_type": "code",
   "execution_count": 8,
   "metadata": {
    "collapsed": false
   },
   "outputs": [],
   "source": [
    "tf = f.attrs['training_file']\n",
    "fixed_params = literal_eval(f.attrs['fixed_params'])\n",
    "if 'rmin' in fixed_params:\n",
    "    del fixed_params['rmin']\n",
    "emu_hps = literal_eval(f.attrs['emu_hps'])"
   ]
  },
  {
   "cell_type": "code",
   "execution_count": 9,
   "metadata": {
    "collapsed": false
   },
   "outputs": [
    {
     "data": {
      "text/plain": [
       "array(['/u/ki/swmclau2/des/Aemulators/wp_zheng07_h/PearceWpCosmo.hdf5',\n",
       "       '/u/ki/swmclau2/des/Aemulators/ds_zheng07_h/PearceDsCosmo.hdf5'],\n",
       "      dtype='|S61')"
      ]
     },
     "execution_count": 9,
     "metadata": {},
     "output_type": "execute_result"
    }
   ],
   "source": [
    "tf"
   ]
  },
  {
   "cell_type": "code",
   "execution_count": 10,
   "metadata": {
    "collapsed": false
   },
   "outputs": [],
   "source": [
    "fixed_params = fixed_params[0] if type(fixed_params) is list else fixed_params"
   ]
  },
  {
   "cell_type": "raw",
   "metadata": {},
   "source": [
    "tf_base = '/u/ki/swmclau2/des/Aemulators/'\n",
    "\n",
    "_tf = []\n",
    "for t in tf:\n",
    "    last2 = t.split('/')[-2:]\n",
    "    _tf.append(path.join(tf_base, last2[0], last2[1]))\n",
    "    \n",
    "tf = _tf"
   ]
  },
  {
   "cell_type": "code",
   "execution_count": 11,
   "metadata": {
    "collapsed": false
   },
   "outputs": [
    {
     "name": "stdout",
     "output_type": "stream",
     "text": [
      "/u/ki/swmclau2/des/Aemulators/wp_zheng07_h/PearceWpCosmo.hdf5\n",
      "/u/ki/swmclau2/des/Aemulators/ds_zheng07_h/PearceDsCosmo.hdf5\n"
     ]
    }
   ],
   "source": [
    "global _emus\n",
    "_emus = []\n",
    "for t in tf:\n",
    "    print t\n",
    "    _emus.append(LemonPepperWet(t, fixed_params = fixed_params))#, hyperparams = emu_hps) )"
   ]
  },
  {
   "cell_type": "code",
   "execution_count": 12,
   "metadata": {
    "collapsed": true
   },
   "outputs": [],
   "source": [
    "chain_pnames = f.attrs['param_names']"
   ]
  },
  {
   "cell_type": "code",
   "execution_count": 13,
   "metadata": {
    "collapsed": true
   },
   "outputs": [],
   "source": [
    "n_walkers = f.attrs['nwalkers']"
   ]
  },
  {
   "cell_type": "code",
   "execution_count": 30,
   "metadata": {
    "collapsed": false
   },
   "outputs": [],
   "source": [
    "theta = f['chain'][-1, :]"
   ]
  },
  {
   "cell_type": "code",
   "execution_count": 31,
   "metadata": {
    "collapsed": true
   },
   "outputs": [],
   "source": [
    "y = f['data'][()].flatten()"
   ]
  },
  {
   "cell_type": "code",
   "execution_count": 32,
   "metadata": {
    "collapsed": true
   },
   "outputs": [],
   "source": [
    "cov = f['cov'][()]\n",
    "inv_cov = inv(cov)"
   ]
  },
  {
   "cell_type": "code",
   "execution_count": 41,
   "metadata": {
    "collapsed": false
   },
   "outputs": [
    {
     "name": "stdout",
     "output_type": "stream",
     "text": [
      "1.97887420654e-05 0.0476112365723 0.000159978866577\n",
      "0.000106811523438 0.0579030513763 0.000158071517944\n",
      "5.07831573486e-05 0.0624830722809 0.000111103057861\n",
      "0.00019383430481 0.0584101676941 0.000108957290649\n",
      "6.41345977783e-05 0.0440258979797 0.000113010406494\n",
      "5.91278076172e-05 0.0377328395844 0.000125169754028\n",
      "5.10215759277e-05 0.0377469062805 0.000108957290649\n",
      "6.00814819336e-05 0.0375418663025 0.000128030776978\n",
      "4.91142272949e-05 0.0391318798065 0.000108957290649\n",
      "5.98430633545e-05 0.0374441146851 0.000108957290649\n",
      "4.6968460083e-05 0.0170390605927 5.60283660889e-05\n",
      "2.78949737549e-05 0.0164730548859 5.60283660889e-05\n",
      "2.28881835938e-05 0.0165579319 5.60283660889e-05\n",
      "2.31266021729e-05 0.016569852829 6.103515625e-05\n",
      "2.78949737549e-05 0.0166471004486 5.60283660889e-05\n",
      "2.28881835938e-05 0.0164740085602 5.50746917725e-05\n",
      "2.19345092773e-05 0.0165810585022 5.50746917725e-05\n",
      "2.78949737549e-05 0.0164911746979 6.29425048828e-05\n",
      "2.40802764893e-05 0.0165188312531 5.50746917725e-05\n",
      "2.31266021729e-05 0.0166888237 5.60283660889e-05\n",
      "2.8133392334e-05 0.0165109634399 5.50746917725e-05\n",
      "2.19345092773e-05 0.0165100097656 6.19888305664e-05\n",
      "2.19345092773e-05 0.016667842865 5.41210174561e-05\n",
      "2.78949737549e-05 0.0164971351624 5.48362731934e-05\n",
      "2.40802764893e-05 0.016480922699 5.3882598877e-05\n",
      "2.21729278564e-05 0.0166299343109 5.50746917725e-05\n",
      "2.8133392334e-05 0.0165519714355 5.50746917725e-05\n",
      "2.19345092773e-05 0.0165030956268 5.57899475098e-05\n",
      "2.19345092773e-05 0.0166130065918 5.50746917725e-05\n",
      "2.78949737549e-05 0.0165951251984 5.48362731934e-05\n",
      "2.40802764893e-05 0.0165128707886 5.60283660889e-05\n",
      "2.21729278564e-05 0.0166459083557 5.60283660889e-05\n",
      "2.69412994385e-05 0.0165200233459 5.50746917725e-05\n",
      "2.40802764893e-05 0.0165719985962 5.50746917725e-05\n",
      "2.19345092773e-05 0.0166139602661 5.60283660889e-05\n",
      "2.8133392334e-05 0.0165138244629 5.50746917725e-05\n",
      "2.40802764893e-05 0.0165050029755 5.50746917725e-05\n",
      "2.21729278564e-05 0.0166518688202 5.50746917725e-05\n",
      "2.71797180176e-05 0.0162928104401 5.31673431396e-05\n",
      "2.28881835938e-05 0.0167691707611 5.48362731934e-05\n",
      "2.09808349609e-05 0.0165150165558 7.89165496826e-05\n",
      "10 loops, best of 3: 17.6 ms per loop\n"
     ]
    }
   ],
   "source": [
    "%%timeit\n",
    "lnprob(theta, chain_pnames, {}, \n",
    "       [_emus[i].scale_bin_centers for i in xrange(2)], y, inv_cov)\n",
    "\n"
   ]
  },
  {
   "cell_type": "raw",
   "metadata": {
    "collapsed": false
   },
   "source": [
    "%%timeit\n",
    "lnlike2(theta, chain_pnames, {}, \n",
    "       [_emus[i].scale_bin_centers for i in xrange(2)], y, cov)\n",
    "\n"
   ]
  },
  {
   "cell_type": "code",
   "execution_count": null,
   "metadata": {
    "collapsed": true
   },
   "outputs": [],
   "source": []
  }
 ],
 "metadata": {
  "kernelspec": {
   "display_name": "Python [default]",
   "language": "python",
   "name": "python2"
  },
  "language_info": {
   "codemirror_mode": {
    "name": "ipython",
    "version": 2
   },
   "file_extension": ".py",
   "mimetype": "text/x-python",
   "name": "python",
   "nbconvert_exporter": "python",
   "pygments_lexer": "ipython2",
   "version": "2.7.13"
  }
 },
 "nbformat": 4,
 "nbformat_minor": 1
}

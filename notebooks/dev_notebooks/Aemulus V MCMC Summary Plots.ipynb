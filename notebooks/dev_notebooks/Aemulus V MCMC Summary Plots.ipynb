{
 "cells": [
  {
   "cell_type": "code",
   "execution_count": 31,
   "metadata": {
    "collapsed": true
   },
   "outputs": [],
   "source": [
    "import matplotlib\n",
    "#matplotlib.use('Agg')\n",
    "from matplotlib import pyplot as plt\n",
    "%matplotlib inline\n",
    "import seaborn as sns\n",
    "#sns.set()"
   ]
  },
  {
   "cell_type": "code",
   "execution_count": 32,
   "metadata": {
    "collapsed": false
   },
   "outputs": [],
   "source": [
    "import numpy as np\n",
    "import h5py\n",
    "from chainconsumer import ChainConsumer\n",
    "from glob import glob\n",
    "from os import path\n",
    "from copy import deepcopy\n",
    "from collections import OrderedDict"
   ]
  },
  {
   "cell_type": "code",
   "execution_count": 33,
   "metadata": {
    "collapsed": false
   },
   "outputs": [
    {
     "name": "stdout",
     "output_type": "stream",
     "text": [
      "-rw-r--r-- 1 swmclau2 des  690884158 Jun  8 23:29 /u/ki/swmclau2/des/PearceMCMC/VpeakSHAM_wp_ds_rmin_2.0_HOD.hdf5\r\n",
      "-rw-r--r-- 1 swmclau2 des 1237555483 Aug  5 09:36 /u/ki/swmclau2/des/PearceMCMC/VpeakSHAM_wp_ds_rmin_1.0_HOD.hdf5\r\n",
      "-rw-r--r-- 1 swmclau2 des 1026628333 Aug  5 09:36 /u/ki/swmclau2/des/PearceMCMC/VpeakSHAM_wp_ds_rmin_5.0_HOD.hdf5\r\n",
      "-rw-r--r-- 1 swmclau2 des  775376339 Aug  5 09:45 /u/ki/swmclau2/des/PearceMCMC/VpeakSHAM_wp_ds_rmin_0.5_HOD.hdf5\r\n",
      "-rw-r--r-- 1 swmclau2 des 1206455297 Aug  5 09:45 /u/ki/swmclau2/des/PearceMCMC/VpeakSHAM_wp_ds_rmin_None_HOD.hdf5\r\n"
     ]
    }
   ],
   "source": [
    "! ls -ltr ~/des/PearceMCMC/Vpeak*HOD.hdf5"
   ]
  },
  {
   "cell_type": "code",
   "execution_count": 34,
   "metadata": {
    "collapsed": false
   },
   "outputs": [],
   "source": [
    "fnames = []\n",
    "models = ['HOD', 'HSAB', 'CAB', 'CorrAB']\n",
    "for model in models:\n",
    "    fn = sorted(glob('/u/ki/swmclau2/des/PearceMCMC/UniverseMachine_wp_ds_rmin_*_%s_2.hdf5'%model)) \n",
    "    # put the None chain first instead of last \n",
    "    \n",
    "    _fnames = []\n",
    "    _fnames.extend(reversed(fn[:-1]) )\n",
    "    _fnames.append(fn[-1])\n",
    "    fn = _fnames\n",
    "    \n",
    "    fnames.extend(fn)"
   ]
  },
  {
   "cell_type": "code",
   "execution_count": null,
   "metadata": {
    "collapsed": true
   },
   "outputs": [],
   "source": []
  },
  {
   "cell_type": "markdown",
   "metadata": {},
   "source": [
    "Assume all chains run with same true values, only thing that differs is the rmin. "
   ]
  },
  {
   "cell_type": "code",
   "execution_count": 35,
   "metadata": {
    "collapsed": false,
    "scrolled": true
   },
   "outputs": [
    {
     "data": {
      "text/plain": [
       "['/u/ki/swmclau2/des/PearceMCMC/UniverseMachine_wp_ds_rmin_5.0_HOD_2.hdf5',\n",
       " '/u/ki/swmclau2/des/PearceMCMC/UniverseMachine_wp_ds_rmin_1.0_HOD_2.hdf5',\n",
       " '/u/ki/swmclau2/des/PearceMCMC/UniverseMachine_wp_ds_rmin_0.5_HOD_2.hdf5',\n",
       " '/u/ki/swmclau2/des/PearceMCMC/UniverseMachine_wp_ds_rmin_None_HOD_2.hdf5',\n",
       " '/u/ki/swmclau2/des/PearceMCMC/UniverseMachine_wp_ds_rmin_5.0_HSAB_2.hdf5',\n",
       " '/u/ki/swmclau2/des/PearceMCMC/UniverseMachine_wp_ds_rmin_1.0_HSAB_2.hdf5',\n",
       " '/u/ki/swmclau2/des/PearceMCMC/UniverseMachine_wp_ds_rmin_0.5_HSAB_2.hdf5',\n",
       " '/u/ki/swmclau2/des/PearceMCMC/UniverseMachine_wp_ds_rmin_None_HSAB_2.hdf5',\n",
       " '/u/ki/swmclau2/des/PearceMCMC/UniverseMachine_wp_ds_rmin_5.0_CAB_2.hdf5',\n",
       " '/u/ki/swmclau2/des/PearceMCMC/UniverseMachine_wp_ds_rmin_1.0_CAB_2.hdf5',\n",
       " '/u/ki/swmclau2/des/PearceMCMC/UniverseMachine_wp_ds_rmin_0.5_CAB_2.hdf5',\n",
       " '/u/ki/swmclau2/des/PearceMCMC/UniverseMachine_wp_ds_rmin_None_CAB_2.hdf5',\n",
       " '/u/ki/swmclau2/des/PearceMCMC/UniverseMachine_wp_ds_rmin_5.0_CorrAB_2.hdf5',\n",
       " '/u/ki/swmclau2/des/PearceMCMC/UniverseMachine_wp_ds_rmin_1.0_CorrAB_2.hdf5',\n",
       " '/u/ki/swmclau2/des/PearceMCMC/UniverseMachine_wp_ds_rmin_0.5_CorrAB_2.hdf5',\n",
       " '/u/ki/swmclau2/des/PearceMCMC/UniverseMachine_wp_ds_rmin_None_CorrAB_2.hdf5']"
      ]
     },
     "execution_count": 35,
     "metadata": {},
     "output_type": "execute_result"
    }
   ],
   "source": [
    "fnames"
   ]
  },
  {
   "cell_type": "code",
   "execution_count": 36,
   "metadata": {
    "collapsed": true
   },
   "outputs": [],
   "source": [
    "names_to_remove = []\n",
    "for fname in fnames:\n",
    "    if '2.0' in fname:\n",
    "        names_to_remove.append(fname)\n",
    "    #pass    \n",
    "for fname in names_to_remove:\n",
    "    fnames.remove(fname)"
   ]
  },
  {
   "cell_type": "code",
   "execution_count": 37,
   "metadata": {
    "collapsed": false
   },
   "outputs": [],
   "source": [
    "f = h5py.File(fnames[0], 'r')"
   ]
  },
  {
   "cell_type": "code",
   "execution_count": 38,
   "metadata": {
    "collapsed": false
   },
   "outputs": [
    {
     "data": {
      "text/plain": [
       "[u'chain_fixed_params',\n",
       " u'cov',\n",
       " u'dlogz',\n",
       " u'emu_cov_fname',\n",
       " u'emu_hps',\n",
       " u'emu_type',\n",
       " u'fixed_params',\n",
       " u'mcmc_type',\n",
       " u'nburn',\n",
       " u'nlive',\n",
       " u'nsteps',\n",
       " u'nwalkers',\n",
       " u'obs',\n",
       " u'param_names',\n",
       " u'seed',\n",
       " u'sim',\n",
       " u'training_file',\n",
       " u'true_cov_fname',\n",
       " u'true_data_fname']"
      ]
     },
     "execution_count": 38,
     "metadata": {},
     "output_type": "execute_result"
    }
   ],
   "source": [
    "f.attrs.keys()"
   ]
  },
  {
   "cell_type": "code",
   "execution_count": 39,
   "metadata": {
    "collapsed": false
   },
   "outputs": [],
   "source": [
    "#sim_info = eval(f.attrs['sim'])\n",
    "sim_info = f.attrs['sim']"
   ]
  },
  {
   "cell_type": "code",
   "execution_count": 40,
   "metadata": {
    "collapsed": true
   },
   "outputs": [],
   "source": [
    "f.close()"
   ]
  },
  {
   "cell_type": "code",
   "execution_count": 41,
   "metadata": {
    "collapsed": true
   },
   "outputs": [],
   "source": [
    "param_name_dict = {'ombh2': r'$\\Omega_b h^2$', 'omch2': r'$\\Omega_c h^2$','w0': r'$w_0$','ns': r'$n_s$', \\\n",
    "                   'sigma8': r'$\\sigma_8$', 'ln10As':r'$\\ln 10^{10} A_s$', 'H0': r'$H_0$','Neff': r'$N_{eff}$',\\\n",
    "               'mean_occupation_centrals_assembias_corr1': r'$\\rho_{cen}$',\\\n",
    "                 'mean_occupation_satellites_assembias_corr1':r'$\\rho_{sat}$',\\\n",
    "                   'mean_occupation_centrals_assembias_param1': r'$\\mathcal{A}_{cen}$',\\\n",
    "                 'mean_occupation_satellites_assembias_param1':r'$\\mathcal{A}_{sat}$',\\\n",
    "                   'mean_occupation_centrals_assembias_slope1': r'$\\mathcal{B}_{cen}$',\\\n",
    "                 'mean_occupation_satellites_assembias_slope1':r'$\\mathcal{B}_{sat}$',\\\n",
    "                   'logM1': r'$\\log(M_1)$','logM0': r'$\\log(M_0)$','sigma_logM': r'$\\sigma_{\\log M }$',\n",
    "                   'conc_gal_bias': r'$\\eta$', 'alpha':r'$\\alpha$',\n",
    "                  'Om': r'$\\Omega_m$', 'S8': r'$S_8$'}"
   ]
  },
  {
   "cell_type": "code",
   "execution_count": 42,
   "metadata": {
    "collapsed": false
   },
   "outputs": [],
   "source": [
    "bounds_dict = {'H0': (61.69472, 74.76751999999999),\n",
    " 'Neff': (2.62125, 4.27875),\n",
    " 'alpha': (0.7, 1.3),\n",
    " 'conc_gal_bias': (0.5, 2.0),\n",
    " 'sigma8': (0.65, 1.0), # TODO update\n",
    " 'logM0': (12.6, 13.6),\n",
    " 'logM1': (13.7, 14.7),\n",
    " 'ns': (0.9278462, 0.9974495999999999),\n",
    " 'ombh2': (0.02066455, 0.02371239),\n",
    " 'omch2': (0.1012181, 0.13177679999999997),\n",
    " 'sigma_logM': (0.05, 0.5),\n",
    " 'ln10As': (3.0, 3.1),\n",
    " 'w0': (-1.399921, -0.5658486),\n",
    " 'Om': (0.25, 0.35),\n",
    " 'S8': (0.7, 1.0),\n",
    " 'mean_occupation_centrals_assembias_corr1': (-1.0, 1.0),\n",
    " 'mean_occupation_satellites_assembias_corr1': (-1.0, 1.0),\n",
    " 'mean_occupation_centrals_assembias_param1': (-1.0, 1.0),\n",
    " 'mean_occupation_satellites_assembias_param1': (-1.0, 1.0),\n",
    " 'mean_occupation_centrals_assembias_slope1': (-3.0, 3.0),\n",
    " 'mean_occupation_satellites_assembias_slope1': (-3.0, 3.0)}"
   ]
  },
  {
   "cell_type": "raw",
   "metadata": {
    "collapsed": true
   },
   "source": [
    "### HOD ### \n",
    "from pearce.mocks import cat_dict\n",
    "#cosmo_params = {'simname': sim_info['simname'], 'boxno': sim_info['sim_hps']['boxno'],\\\n",
    "#                'realization': sim_info['sim_hps']['realization'], 'scale_factors':[sim_info['scale_factor']],\\\n",
    "#                'system': 'ki-ls'}\n",
    "cosmo_params = {'simname': 'testbox', 'boxno': 1,\\\n",
    "                'realization':1, 'scale_factors':[1.0],\\\n",
    "                'system': 'ki-ls'}\n",
    "cat = cat_dict[cosmo_params['simname']](**cosmo_params)#construct the specified catalog!\n",
    "\n",
    "cpv = cat._get_cosmo_param_names_vals()\n",
    "\n",
    "cat_val_dict =  {key: val for key, val in zip(cpv[0], cpv[1])}\n",
    "\n",
    "Om = (cat_val_dict['ombh2']+cat_val_dict['omch2'])/((cat_val_dict['H0']/100)**2)\n",
    "S8 = cat_val_dict['sigma8']*np.sqrt(Om/0.3)\n",
    "H0 = cat_val_dict['H0']"
   ]
  },
  {
   "cell_type": "code",
   "execution_count": 43,
   "metadata": {
    "collapsed": true
   },
   "outputs": [],
   "source": [
    "# multidark planck2\n",
    "#cosmo_true_vals = np.array([0.0223, 0.1188, -1, 0.9667, 3.047, \\\n",
    "#                            0.6774*100, 3.046]) #darksky\n",
    "\n",
    "h = 0.6777\n",
    "#cosmo_pnames = ['ombh2', 'omch2', 'w0', 'ns', 'H0', 'Neff', 'sigma8', 'Om', 'S8']\n",
    "#cosmo_true_vals = np.array([0.048206*h**2, 0.307115*h**2- 0.048206*h**2,\\\n",
    "#                            -1, 0.9667, \\\n",
    "#                            h*100, 3.046, 0.8228, ]) #mdpl2\n",
    "cosmo_true_vals = np.array([0.048206*h**2, 0.2589*h**2- 0.048206*h**2,\\\n",
    "                        -1, 0.9667, \\\n",
    "                        h*100, 3.046, 0.8228, 0.3089, 0.8228*np.sqrt(0.3089/0.3) ]) #mdpl2\n",
    "#hod_true_vals = np.array([np.inf for p in hod_param_names])\n",
    "Om = 0.3089\n",
    "S8 = 0.8228*np.sqrt(0.3089/0.3)\n",
    "H0=h*100"
   ]
  },
  {
   "cell_type": "code",
   "execution_count": 44,
   "metadata": {
    "collapsed": false
   },
   "outputs": [],
   "source": [
    "summary_names = ['Om','S8','H0']\n",
    "true_vals_dict = dict(zip(summary_names, [Om, S8, H0]))\n",
    "def_ab_val = np.inf#0.0"
   ]
  },
  {
   "cell_type": "code",
   "execution_count": 45,
   "metadata": {
    "collapsed": false
   },
   "outputs": [],
   "source": [
    "c = ChainConsumer()"
   ]
  },
  {
   "cell_type": "raw",
   "metadata": {},
   "source": [
    "modify_chain = lambda x,y : x,y # default, do nothing"
   ]
  },
  {
   "cell_type": "code",
   "execution_count": 46,
   "metadata": {
    "collapsed": true
   },
   "outputs": [],
   "source": [
    "def modify_chain(chain, param_names):\n",
    "    new_pnames = ['Om', 'S8']\n",
    "    h = chain[:,param_names.index('H0')]/100\n",
    "    \n",
    "    Omc, Omb = chain[:,param_names.index('omch2')]/(h**2), chain[:,param_names.index('ombh2')]/(h**2)\n",
    "    Om = Omc+Omb\n",
    "    \n",
    "    S8 = chain[:,param_names.index('sigma8')]*np.sqrt(Om/0.3)\n",
    "\n",
    "    new_chain = np.hstack([chain[:,:7], Om.reshape((-1,1)), S8.reshape((-1,1)), chain[:,7:]])\n",
    "    param_names.insert(7, new_pnames[0])\n",
    "    param_names.insert(8, new_pnames[1])\n",
    "\n",
    "    return new_chain, param_names"
   ]
  },
  {
   "cell_type": "code",
   "execution_count": 47,
   "metadata": {
    "collapsed": false
   },
   "outputs": [],
   "source": [
    "true_Om, true_s8 = Om, S8"
   ]
  },
  {
   "cell_type": "code",
   "execution_count": 48,
   "metadata": {
    "collapsed": true
   },
   "outputs": [],
   "source": [
    "f = h5py.File(fname, 'r')"
   ]
  },
  {
   "cell_type": "code",
   "execution_count": 49,
   "metadata": {
    "collapsed": true
   },
   "outputs": [],
   "source": [
    "r = np.logspace(-1, 1.6, 19)\n",
    "rbc = (r[1:]+r[:-1])/2.0"
   ]
  },
  {
   "cell_type": "code",
   "execution_count": 50,
   "metadata": {
    "collapsed": false
   },
   "outputs": [],
   "source": [
    "num_eff_dict = {5.0:np.sum(rbc>5.0)*2, 1.0:np.sum(rbc>1.0)*2, 0.5:np.sum(rbc>0.5)*2,\\\n",
    "0.1:np.sum(rbc>0.5)+np.sum(rbc>0.1)}"
   ]
  },
  {
   "cell_type": "code",
   "execution_count": 51,
   "metadata": {
    "collapsed": false
   },
   "outputs": [
    {
     "name": "stdout",
     "output_type": "stream",
     "text": [
      "/u/ki/swmclau2/des/PearceMCMC/UniverseMachine_wp_ds_rmin_5.0_HOD_2.hdf5\n",
      "(7133250, 14) 28533 3\n",
      "/u/ki/swmclau2/des/PearceMCMC/UniverseMachine_wp_ds_rmin_1.0_HOD_2.hdf5\n",
      "(5988750, 14) 23955 3\n",
      "/u/ki/swmclau2/des/PearceMCMC/UniverseMachine_wp_ds_rmin_0.5_HOD_2.hdf5\n",
      "(7164500, 14) 28658 3\n",
      "/u/ki/swmclau2/des/PearceMCMC/UniverseMachine_wp_ds_rmin_None_HOD_2.hdf5\n",
      "(5403000, 14) 21612 3\n",
      "/u/ki/swmclau2/des/PearceMCMC/UniverseMachine_wp_ds_rmin_5.0_HSAB_2.hdf5\n",
      "(8768250, 16) 35073 5\n",
      "/u/ki/swmclau2/des/PearceMCMC/UniverseMachine_wp_ds_rmin_1.0_HSAB_2.hdf5\n",
      "(7545750, 16) 30183 5\n",
      "/u/ki/swmclau2/des/PearceMCMC/UniverseMachine_wp_ds_rmin_0.5_HSAB_2.hdf5\n",
      "(8261000, 16) 33044 5\n",
      "/u/ki/swmclau2/des/PearceMCMC/UniverseMachine_wp_ds_rmin_None_HSAB_2.hdf5\n",
      "(4319000, 16) 17276 5\n",
      "/u/ki/swmclau2/des/PearceMCMC/UniverseMachine_wp_ds_rmin_5.0_CAB_2.hdf5\n",
      "(7412250, 18) 29649 5\n",
      "/u/ki/swmclau2/des/PearceMCMC/UniverseMachine_wp_ds_rmin_1.0_CAB_2.hdf5\n",
      "(4730250, 18) 18921 5\n",
      "/u/ki/swmclau2/des/PearceMCMC/UniverseMachine_wp_ds_rmin_0.5_CAB_2.hdf5\n",
      "(5576500, 18) 22306 5\n",
      "/u/ki/swmclau2/des/PearceMCMC/UniverseMachine_wp_ds_rmin_None_CAB_2.hdf5\n",
      "(5443000, 18) 21772 5\n",
      "/u/ki/swmclau2/des/PearceMCMC/UniverseMachine_wp_ds_rmin_5.0_CorrAB_2.hdf5\n",
      "(7297500, 16) 29190 5\n",
      "/u/ki/swmclau2/des/PearceMCMC/UniverseMachine_wp_ds_rmin_1.0_CorrAB_2.hdf5\n",
      "(7721250, 16) 30885 5\n",
      "/u/ki/swmclau2/des/PearceMCMC/UniverseMachine_wp_ds_rmin_0.5_CorrAB_2.hdf5\n",
      "(6209500, 16) 24838 5\n",
      "/u/ki/swmclau2/des/PearceMCMC/UniverseMachine_wp_ds_rmin_None_CorrAB_2.hdf5\n",
      "(5008500, 16) 20034 5\n"
     ]
    }
   ],
   "source": [
    "n_burn = 10000\n",
    "plot_true_vals_dict = dict()\n",
    "plot_bounds_dict = dict()\n",
    "plot_param_names_set = set()\n",
    "for fname in fnames:\n",
    "    try:\n",
    "        f = h5py.File(fname, 'r')\n",
    "        n_walkers = f.attrs['nwalkers']\n",
    "\n",
    "        chain = f['chain'][n_burn*n_walkers:]\n",
    "        lnprob = f['lnprob'][n_burn*n_walkers:]\n",
    "        keep_idxs = np.all(chain!=0.0, axis = 1)\n",
    "        chain = chain[keep_idxs, :]\n",
    "        lnprob = lnprob[keep_idxs]\n",
    "    except IOError:\n",
    "        print 'Error loading', fname\n",
    "        #f.close()\n",
    "        chain = np.random.randn(n_walkers, chain.shape[1])+10\n",
    "        lnprob = np.ones((chain.shape[0],))*-np.inf\n",
    "        #continue\n",
    "    \n",
    "    chain = chain.reshape((-1, n_walkers, chain.shape[1]))\n",
    "    chain = chain.reshape((-1, chain.shape[2]), order = 'F')\n",
    "    if chain.shape[0] == 0:\n",
    "        print 'Insufficient samples in', fname\n",
    "        #f.close()\n",
    "        chain = np.random.randn(n_walkers, chain.shape[1])+10\n",
    "        lnprob = np.zeros((chain.shape[0],))\n",
    "        #continue\n",
    "    \n",
    "    #name = path.basename(fname).split('_')[-1].split('.')[0]\n",
    "    split_fname = path.basename(fname).split('_')#[4]\n",
    "    r = split_fname[-3] #[4]\n",
    "    model = split_fname[-2]#[:-5]#[5]\n",
    "\n",
    "    if r == \"None\":\n",
    "        r = \"0.1\"\n",
    "        \n",
    "    if model == 'HOD':\n",
    "        model = 'Std. HOD'\n",
    "        \n",
    "    name = r\"%s $r_{min} = %s$\"%(model, r)\n",
    "    \n",
    "    hod_param_names = []\n",
    "    cosmo_param_names = []\n",
    "    chain_pnames = list(f.attrs['param_names'])\n",
    "    #cosmo_names = set(['ombh2', 'omch2', 'w0', 'ns', 'sigma8', 'H0', 'Neff', 'Om', 'S8'])\n",
    "    chain, chain_pnames = modify_chain(chain, chain_pnames)\n",
    "    summary_idxs = []\n",
    "    param_names = []\n",
    "    for i, pname in enumerate(chain_pnames):\n",
    "        if pname in summary_names or ('mean_occupation' in pname and 'slope' not in pname):\n",
    "            param_names.append(param_name_dict[pname])\n",
    "            summary_idxs.append(i)\n",
    "            plot_true_vals_dict[param_names[-1]] = true_vals_dict[pname] if pname in true_vals_dict else def_ab_val\n",
    "            plot_bounds_dict[param_names[-1]] = bounds_dict[pname] \n",
    "            plot_param_names_set.add(param_names[-1])\n",
    "    print fname\n",
    "    N = 50000\n",
    "    if chain.shape[0]/n_walkers > N:\n",
    "        chain = chain[:N*n_walkers]\n",
    "        lnprob = lnprob[:N*n_walkers]\n",
    "    #print summary_idxs, param_names\n",
    "    print chain.shape, chain.shape[0]/n_walkers, len(param_names)\n",
    "    \n",
    "    c.add_chain(chain[:, np.array(summary_idxs)], parameters=param_names,\n",
    "                name = name, walkers = n_walkers, posterior = lnprob,\n",
    "               num_eff_data_points = num_eff_dict[float(r)], num_free_params = len(param_names))\n",
    "    f.close()\n"
   ]
  },
  {
   "cell_type": "code",
   "execution_count": 52,
   "metadata": {
    "collapsed": false
   },
   "outputs": [],
   "source": [
    "summary_pnames = list(plot_param_names_set)\n",
    "summary_true_vals = [plot_true_vals_dict[pname] for pname in summary_pnames]\n",
    "summary_bounds = [plot_bounds_dict[pname] for pname in summary_pnames]"
   ]
  },
  {
   "cell_type": "raw",
   "metadata": {
    "collapsed": false
   },
   "source": [
    "palettes = []\n",
    "for model in models:\n",
    "    if model == 'HOD':\n",
    "        #palette = sns.cubehelix_palette(len(fnames), start = 2.6, rot = 0.1, gamma = 0.7)\n",
    "        palette = sns.cubehelix_palette(4, start = 2.6, rot = 0.1, gamma = 1.0, light = 0.6)\n",
    "\n",
    "    elif model == 'HSAB':\n",
    "        palette = sns.cubehelix_palette(4, start = 2.0, rot = 0.1, gamma = 1.0, light = 0.6)\n",
    "        #palette = sns.cubehelix_palette(len(fnames), start = 1.2, rot = 0.6, gamma = 1.7)\n",
    "    elif model == 'CAB':\n",
    "        palette = sns.cubehelix_palette(4, start = 0.6, rot = 0.1, gamma = 1.0, light = 0.6)\n",
    "    elif model == 'CorrAB':\n",
    "        #palette = sns.cubehelix_palette(len(fnames), start = 1.2, rot = 0.1, gamma = 1.2)\n",
    "        palette = sns.cubehelix_palette(4, start = 1.2, rot = 0.1, gamma = 2.0)\n",
    "    else:\n",
    "        palette = sns.cubehelix_palette(4, start = 2.6, rot = 0.1, gamma = 1.2)\n",
    "    palettes.append(palette)\n",
    "#sns.palplot(palette)"
   ]
  },
  {
   "cell_type": "code",
   "execution_count": 53,
   "metadata": {
    "collapsed": false
   },
   "outputs": [],
   "source": [
    "palettes = []\n",
    "for model in models:\n",
    "    if model == 'HOD':\n",
    "        #palette = sns.cubehelix_palette(len(fnames), start = 2.6, rot = 0.1, gamma = 0.7)\n",
    "        palette = sns.cubehelix_palette(4, start = 2.6, rot = 0.1, gamma = 2.5)#,\n",
    "                                        #light = 0.6)\n",
    "\n",
    "    elif model == 'HSAB':\n",
    "        palette = sns.cubehelix_palette(4, start = 2.0, rot = 0.1, gamma = 2.5)#,\n",
    "                                        #light = 0.6)\n",
    "        #palette = sns.cubehelix_palette(len(fnames), start = 1.2, rot = 0.6, gamma = 1.7)\n",
    "    elif model == 'CAB':\n",
    "        palette = sns.cubehelix_palette(4, start = 0.6, rot = 0.1, gamma = 2.5)# \n",
    "                                        #light = 0.6)\n",
    "    elif model == 'CorrAB':\n",
    "        #palette = sns.cubehelix_palette(len(fnames), start = 1.2, rot = 0.1, gamma = 1.2)\n",
    "        palette = sns.cubehelix_palette(4, start = 1.2, rot = 0.1, \n",
    "                                        gamma = 2.5)\n",
    "    else:\n",
    "        palette = sns.cubehelix_palette(4, start = 2.6, rot = 0.1, \n",
    "                                        gamma = 2.5)\n",
    "    palettes.append(palette)\n",
    "#sns.palplot(palette)"
   ]
  },
  {
   "cell_type": "code",
   "execution_count": 54,
   "metadata": {
    "collapsed": true
   },
   "outputs": [],
   "source": [
    "def color_to_hex(color):\n",
    "    return np.array(color)#*255"
   ]
  },
  {
   "cell_type": "code",
   "execution_count": 55,
   "metadata": {
    "collapsed": false
   },
   "outputs": [
    {
     "data": {
      "text/plain": [
       "<chainconsumer.chainconsumer.ChainConsumer at 0x7f309a669290>"
      ]
     },
     "execution_count": 55,
     "metadata": {},
     "output_type": "execute_result"
    }
   ],
   "source": [
    "colors = []\n",
    "for palette in palettes:\n",
    "    for p in palette:\n",
    "        colors.append(color_to_hex(p))\n",
    "c.configure(colors = colors, shade = False, shade_alpha=0.2,\\\n",
    "            shade_gradient=1.0, bar_shade=True, plot_hists=False,\n",
    "            diagonal_tick_labels=False, tick_font_size=8, label_font_size=25,\n",
    "            max_ticks=8)"
   ]
  },
  {
   "cell_type": "code",
   "execution_count": 56,
   "metadata": {
    "collapsed": false
   },
   "outputs": [
    {
     "data": {
      "text/plain": [
       "['$\\\\rho_{sat}$',\n",
       " '$\\\\Omega_m$',\n",
       " '$\\\\mathcal{A}_{sat}$',\n",
       " '$\\\\rho_{cen}$',\n",
       " '$\\\\mathcal{A}_{cen}$',\n",
       " '$H_0$',\n",
       " '$S_8$']"
      ]
     },
     "execution_count": 56,
     "metadata": {},
     "output_type": "execute_result"
    }
   ],
   "source": [
    "summary_pnames # ugh dont know a nice way to make sure these are sorted"
   ]
  },
  {
   "cell_type": "code",
   "execution_count": 57,
   "metadata": {
    "collapsed": false
   },
   "outputs": [],
   "source": [
    "#reorder_idxs = [3, 1, 0, 4, 2]\n",
    "#reorder_idxs = [2, 6, 5, 4, 3, 1, 0]\n",
    "reorder_idxs = [1, 6, 5, 4, 2, 3,0]\n",
    "\n",
    "summary_pnames = [summary_pnames[i] for i in reorder_idxs]\n",
    "summary_true_vals = [summary_true_vals[i] for i in reorder_idxs]\n",
    "summary_bounds = [summary_bounds[i] for i in reorder_idxs]"
   ]
  },
  {
   "cell_type": "code",
   "execution_count": null,
   "metadata": {
    "collapsed": false
   },
   "outputs": [],
   "source": [
    "from os.path import basename\n",
    "split_fname = basename(fnames[-1]).split('_')\n",
    "mock_name = split_fname[0]\n",
    "#model_name = split_fname[-1].split('.')[0]\n",
    "\n",
    "if mock_name == 'HOD':\n",
    "    mock_name = 'Std. HOD'# Aemulus'\n",
    "    \n",
    "elif mock_name == 'VpeakSHAM':\n",
    "    mock_name = 'SHAM'\n",
    "elif mock_name == 'UniverseMachine':\n",
    "    mock_name = 'UM'\n",
    "    \n",
    "#if model_name == 'HOD':\n",
    "#    model_name = 'Std. HOD'"
   ]
  },
  {
   "cell_type": "code",
   "execution_count": null,
   "metadata": {
    "collapsed": false
   },
   "outputs": [],
   "source": [
    "fig = c.plotter.plot_summary(parameters = summary_pnames,\\\n",
    "                             truth=summary_true_vals, extents=summary_bounds,\\\n",
    "                             figsize=1.0, errorbar=False) \n",
    "#fig.suptitle(mock_name) # + galtype\n",
    "fig.savefig('%s_summary.pdf'%mock_name, format='pdf', bbox_inches='tight')\n",
    "fig.show()"
   ]
  },
  {
   "cell_type": "raw",
   "metadata": {
    "collapsed": false
   },
   "source": [
    "fig = c.plotter.plot(parameters = summary_pnames[:3], truth=summary_true_vals[:3],\\\n",
    "                     extents=summary_bounds[:3],figsize='PAGE') \n",
    "#fig.suptitle(model) # + galtype\n",
    "fig.show()"
   ]
  },
  {
   "cell_type": "code",
   "execution_count": null,
   "metadata": {
    "collapsed": false
   },
   "outputs": [],
   "source": [
    "models = ['Std. HOD', 'HSAB', 'CAB', 'CorrAB']\n",
    "deltas = np.zeros((4,len(models),2))\n",
    "for i, model in enumerate(models):\n",
    "    print model\n",
    "    rmins = []\n",
    "\n",
    "    for chain in c.chains:\n",
    "        #print chain.name[:len(model)], model\n",
    "        if chain.name[:len(model)] != model:\n",
    "            continue\n",
    "        for k, param in enumerate([r'$S_8$', r'$\\Omega_m$']):\n",
    "            summary = c.analysis.get_parameter_summary(chain, param)\n",
    "            #try:\n",
    "            delta = summary[2]-summary[0]\n",
    "            deltas[len(rmins), i, k] = delta\n",
    "        rmin = chain.name.split()[-1][:-1]\n",
    "        rmins.append(float(rmin))\n",
    "        \n",
    "        print rmin, delta\n",
    "    print "
   ]
  },
  {
   "cell_type": "code",
   "execution_count": null,
   "metadata": {
    "collapsed": false
   },
   "outputs": [],
   "source": [
    "import seaborn as sns\n",
    "sns.set_palette('deep')\n",
    "current_palette = sns.color_palette()\n",
    "sns.palplot(current_palette)\n",
    "model_color_map = {'Std. HOD': (current_palette[0], \"GnBu_d\"),\n",
    "                    'HSAB': (current_palette[1], \"YlGn_d\"),\n",
    "                   'SHAM': (current_palette[2], \"OrRd_d\"),\n",
    "                   'CAB': (current_palette[3], \"RdPu_d\"),\n",
    "                   'CorrAB': (current_palette[4], \"YlOrBr_d\"),\n",
    "                    'Halos': (current_palette[5], 'PuBu_d')} # add CMAPs too"
   ]
  },
  {
   "cell_type": "code",
   "execution_count": null,
   "metadata": {
    "collapsed": false
   },
   "outputs": [],
   "source": [
    "import matplotlib.ticker as mticker\n",
    "matplotlib.rc('font', **{'size': 20})\n",
    "\n",
    "fig, axes = plt.subplots(2,1, figsize = (6,8), sharex=True)\n",
    "models = ['Std. HOD', 'HSAB', 'CAB', 'CorrAB']\n",
    "for k,(ax, param, true_param) in enumerate(zip(axes,[r'$S_8$', r'$\\Omega_m$'],\n",
    "                                          [true_s8, true_Om])):\n",
    "    for i, model  in enumerate(models):\n",
    "        ax.plot(np.array(rmins), deltas[:,i,k]/true_param,\n",
    "                color = model_color_map[model][0],\n",
    "               label = model)\n",
    "        ax.set_ylabel(r'$\\Delta %s/%s$'%(param[1:-1],param[1:-1]))\n",
    "\n",
    "    ax.set_xscale('log')\n",
    "axes[1].set_xlabel(r'$r_{min}$ [Mpc/h]')\n",
    "axes[0].legend(loc='best', frameon=False)\n",
    "for ax in axes:\n",
    "    ax.xaxis.set_major_formatter(mticker.ScalarFormatter())\n",
    "fig.tight_layout()\n",
    "#fig.savefig('delta_plot.pdf', format='pdf')"
   ]
  },
  {
   "cell_type": "code",
   "execution_count": null,
   "metadata": {
    "collapsed": false
   },
   "outputs": [],
   "source": [
    "c.chains[0].name"
   ]
  },
  {
   "cell_type": "code",
   "execution_count": null,
   "metadata": {
    "collapsed": false
   },
   "outputs": [],
   "source": [
    "bic = c.comparison.bic()\n",
    "\n",
    "for chain_name, b in zip(c.chains, bic):\n",
    "    print chain_name.name,'\\t', b"
   ]
  },
  {
   "cell_type": "code",
   "execution_count": null,
   "metadata": {
    "collapsed": false
   },
   "outputs": [],
   "source": [
    "c.diagnostic.gelman_rubin()"
   ]
  },
  {
   "cell_type": "code",
   "execution_count": null,
   "metadata": {
    "collapsed": true
   },
   "outputs": [],
   "source": []
  }
 ],
 "metadata": {
  "kernelspec": {
   "display_name": "Python [default]",
   "language": "python",
   "name": "python2"
  },
  "language_info": {
   "codemirror_mode": {
    "name": "ipython",
    "version": 2
   },
   "file_extension": ".py",
   "mimetype": "text/x-python",
   "name": "python",
   "nbconvert_exporter": "python",
   "pygments_lexer": "ipython2",
   "version": "2.7.13"
  }
 },
 "nbformat": 4,
 "nbformat_minor": 1
}

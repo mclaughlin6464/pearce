{
 "cells": [
  {
   "cell_type": "code",
   "execution_count": null,
   "metadata": {
    "collapsed": true
   },
   "outputs": [],
   "source": [
    "import matplotlib\n",
    "#matplotlib.use('Agg')\n",
    "from matplotlib import pyplot as plt\n",
    "%matplotlib inline\n",
    "import seaborn as sns\n",
    "sns.set()"
   ]
  },
  {
   "cell_type": "code",
   "execution_count": null,
   "metadata": {
    "collapsed": true
   },
   "outputs": [],
   "source": [
    "import numpy as np\n",
    "import h5py\n",
    "#from chainconsumer import ChainConsumer\n",
    "from corner import corner"
   ]
  },
  {
   "cell_type": "code",
   "execution_count": null,
   "metadata": {},
   "outputs": [],
   "source": [
    "training_file = '/scratch/users/swmclau2/xi_gg_corrabzheng07/PearceXiggCosmoCorrAB.hdf5'"
   ]
  },
  {
   "cell_type": "code",
   "execution_count": null,
   "metadata": {
    "collapsed": true
   },
   "outputs": [],
   "source": [
    "from pearce.emulator import NashvilleHot\n",
    "fixed_params = {'z':0.0}\n",
    "emu_hps = {}"
   ]
  },
  {
   "cell_type": "code",
   "execution_count": null,
   "metadata": {},
   "outputs": [],
   "source": [
    "emu = NashvilleHot(training_file, fixed_params = fixed_params, hyperparams = emu_hps)"
   ]
  },
  {
   "cell_type": "code",
   "execution_count": null,
   "metadata": {},
   "outputs": [],
   "source": [
    "emu.get_param_names()"
   ]
  },
  {
   "cell_type": "code",
   "execution_count": null,
   "metadata": {},
   "outputs": [],
   "source": [
    "true_param_dict = dict(zip(emu.get_param_names(), [np.mean(emu.get_param_bounds(p)) for p in emu.get_param_names()]))"
   ]
  },
  {
   "cell_type": "code",
   "execution_count": null,
   "metadata": {
    "collapsed": true
   },
   "outputs": [],
   "source": [
    "N = 6\n",
    "cmap = sns.color_palette(\"BrBG_d\", N)"
   ]
  },
  {
   "cell_type": "code",
   "execution_count": null,
   "metadata": {},
   "outputs": [],
   "source": [
    "fig = plt.figure(figsize=(10,7))\n",
    "varied_pname = 'ln10As'\n",
    "lower, upper = emu.get_param_bounds(varied_pname)\n",
    "mean = (upper+lower)/2.0\n",
    "param_dict[varied_pname] = mean\n",
    "mean_pred = emu.emulate_wrt_r(param_dict)[0]\n",
    "for c, val in zip(cmap, np.linspace(lower, upper, N) ):\n",
    "    param_dict = true_param_dict.copy()\n",
    "    param_dict[varied_pname] = val\n",
    "    pred = emu.emulate_wrt_r(param_dict)[0]\n",
    "    plt.plot(emu.scale_bin_centers, 10**(pred-mean_pred), alpha = 1.0,label = val, color =c)\n",
    "    \n",
    "plt.title(r'$\\ln(10^{10} A_s)$')\n",
    "plt.xscale('log')\n",
    "plt.xlabel('r [Mpc]')\n",
    "plt.ylabel(r'$\\xi_{gg}(r)/\\xi_{mean}(r)$')\n",
    "plt.legend(loc='best')\n",
    "plt.show();"
   ]
  },
  {
   "cell_type": "code",
   "execution_count": null,
   "metadata": {},
   "outputs": [],
   "source": [
    "cmap = sns.color_palette(\"OrRd_d\", N)"
   ]
  },
  {
   "cell_type": "code",
   "execution_count": null,
   "metadata": {},
   "outputs": [],
   "source": [
    "fig = plt.figure(figsize=(10,7))\n",
    "varied_pname = 'mean_occupation_satellites_assembias_corr1'\n",
    "lower, upper = emu.get_param_bounds(varied_pname)\n",
    "mean = (upper+lower)/2.0\n",
    "param_dict[varied_pname] = mean\n",
    "mean_pred = emu.emulate_wrt_r(param_dict)[0]\n",
    "for c, val in zip(cmap, np.linspace(lower, upper, N) ):\n",
    "    param_dict = true_param_dict.copy()\n",
    "    param_dict[varied_pname] = val\n",
    "    pred = emu.emulate_wrt_r(param_dict)[0]\n",
    "\n",
    "    plt.plot(emu.scale_bin_centers, 10**(pred-mean_pred), alpha = 1.0,label = val, color =c)\n",
    "    \n",
    "plt.title(r'$\\mathcal{A}_{sat}$')\n",
    "plt.xscale('log')\n",
    "plt.legend(loc='best')\n",
    "plt.show();"
   ]
  },
  {
   "cell_type": "code",
   "execution_count": null,
   "metadata": {
    "collapsed": true
   },
   "outputs": [],
   "source": []
  },
  {
   "cell_type": "code",
   "execution_count": null,
   "metadata": {
    "collapsed": true
   },
   "outputs": [],
   "source": []
  }
 ],
 "metadata": {
  "kernelspec": {
   "display_name": "Python 2",
   "language": "python",
   "name": "python2"
  },
  "language_info": {
   "codemirror_mode": {
    "name": "ipython",
    "version": 2
   },
   "file_extension": ".py",
   "mimetype": "text/x-python",
   "name": "python",
   "nbconvert_exporter": "python",
   "pygments_lexer": "ipython2",
   "version": "2.7.13"
  }
 },
 "nbformat": 4,
 "nbformat_minor": 1
}

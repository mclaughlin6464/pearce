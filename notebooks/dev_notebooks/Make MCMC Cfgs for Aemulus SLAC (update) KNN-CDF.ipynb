{
 "cells": [
  {
   "cell_type": "markdown",
   "metadata": {},
   "source": [
    "Now that I've streamlined the MCMC process, I am going to submit multiple chains simultaneously. This notebook will make multiple, similar config files, for broad comparison. \n",
    "\n",
    "This may be rolled into pearce as a helper function, I haven't decided.\n",
    "\n",
    "Update from the older SLAC notebook, which is now outdated"
   ]
  },
  {
   "cell_type": "markdown",
   "metadata": {},
   "source": [
    "For rmin 0, 0.5, 1.0:\n",
    "\n",
    "    For no ab, HSAB and CorrAB emu:\n",
    "\n",
    "        Vpeak sham\n",
    "        Mpeak sham\n",
    "        HOD\n",
    "        HSAB HOD "
   ]
  },
  {
   "cell_type": "code",
   "execution_count": 31,
   "metadata": {
    "collapsed": true
   },
   "outputs": [],
   "source": [
    "import yaml\n",
    "import copy\n",
    "from os import path\n",
    "import numpy as np\n",
    "import h5py"
   ]
  },
  {
   "cell_type": "code",
   "execution_count": 32,
   "metadata": {
    "collapsed": true
   },
   "outputs": [],
   "source": [
    "emu_path = '/u/ki/swmclau2/des/'\n",
    "#emu_path = '~/scratch'"
   ]
  },
  {
   "cell_type": "code",
   "execution_count": 33,
   "metadata": {
    "collapsed": true
   },
   "outputs": [],
   "source": [
    "cov_path = '/u/ki/swmclau2/Git/pearce/bin/'\n",
    "# cov_path = '~/Git/pearce/bin'"
   ]
  },
  {
   "cell_type": "code",
   "execution_count": 34,
   "metadata": {
    "collapsed": false
   },
   "outputs": [],
   "source": [
    "orig_cfg_fname = path.join(cov_path, 'mcmc/nh_gg_sham_hsab_mcmc_config.yaml')\n",
    "with open(orig_cfg_fname, 'r') as yamlfile:\n",
    "    orig_cfg = yaml.load(yamlfile)"
   ]
  },
  {
   "cell_type": "raw",
   "metadata": {
    "collapsed": false
   },
   "source": [
    "orig_cfg"
   ]
  },
  {
   "cell_type": "raw",
   "metadata": {
    "collapsed": true
   },
   "source": [
    "#this will enable easier string formatting\n",
    "sbatch_template = \"\"\"#!/bin/bash\n",
    "#SBATCH --job-name={jobname}\n",
    "#SBATCH --time=24:00:00\n",
    "#SBATCH -p kipac,iric\n",
    "#SBATCH -o /home/users/swmclau2/Git/pearce/bin/mcmc/config/{jobname}.out\n",
    "#SBATCH --nodes=1\n",
    "#SBATCH --ntasks=1\n",
    "#SBATCH --cpus-per-task=16\n",
    "###SBATCH --exclusive\n",
    "\n",
    "module load python/2.7.13\n",
    "module load py-scipystack\n",
    "module load hdf5/1.10.0p1\n",
    "module load py-numpy\n",
    "\n",
    "python /home/users/swmclau2/Git/pearce/pearce/inference/initialize_mcmc.py {jobname}.yaml\n",
    "python /home/users/swmclau2/Git/pearce/pearce/inference/run_mcmc.py {jobname}.yaml\n",
    "\"\"\""
   ]
  },
  {
   "cell_type": "code",
   "execution_count": 35,
   "metadata": {
    "collapsed": true
   },
   "outputs": [],
   "source": [
    "bsub_template=\"\"\"#BSUB -q medium \n",
    "#BSUB -W 24:00\n",
    "#BSUB -J {jobname}\n",
    "#BSUB -oo /u/ki/swmclau2/Git/pearce/bin/mcmc/config/{jobname}.out    \n",
    "#BSUB -n 8 \n",
    "#BSUB -R \"span[ptile=8]\"\n",
    "\n",
    "python /u/ki/swmclau2/Git/pearce/pearce/inference/initialize_mcmc.py {jobname}.yaml\n",
    "python /u/ki/swmclau2/Git/pearce/pearce/inference/run_mcmc.py {jobname}.yaml\n",
    "\"\"\""
   ]
  },
  {
   "cell_type": "code",
   "execution_count": 36,
   "metadata": {
    "collapsed": true
   },
   "outputs": [],
   "source": [
    "bsub_restart_template=\"\"\"#BSUB -q medium \n",
    "#BSUB -W 24:00\n",
    "#BSUB -J {jobname}\n",
    "#BSUB -oo /u/ki/swmclau2/Git/pearce/bin/mcmc/config/{jobname}.out    \n",
    "#BSUB -n 8 \n",
    "#BSUB -R \"span[ptile=8]\"\n",
    "\n",
    "#python /u/ki/swmclau2/Git/pearce/pearce/inference/initialize_mcmc.py {jobname}.yaml\n",
    "python /u/ki/swmclau2/Git/pearce/pearce/inference/run_mcmc.py {jobname}.yaml --restart\n",
    "\"\"\""
   ]
  },
  {
   "cell_type": "code",
   "execution_count": 37,
   "metadata": {
    "collapsed": false
   },
   "outputs": [
    {
     "name": "stdout",
     "output_type": "stream",
     "text": [
      "[  0.50118723   0.65313055   0.85113804   1.10917482   1.44543977\n",
      "   1.88364909   2.45470892   3.19889511   4.16869383   5.43250331\n",
      "   7.07945784   9.22571427  12.02264435  15.6675107   20.41737945\n",
      "  26.6072506   34.67368505  45.18559444  58.88436554  76.73614894\n",
      " 100.        ]\n"
     ]
    }
   ],
   "source": [
    "import numpy as np\n",
    "r_bins = np.logspace(-0.3, 2, 21)\n",
    "print r_bins"
   ]
  },
  {
   "cell_type": "raw",
   "metadata": {
    "collapsed": false
   },
   "source": [
    "emu_names = ['Xi', 'Knn1CDF', 'Knn2CDF', 'Knn4CDF', 'Knn8CDF']\n",
    "emu_fnames = [[path.join(emu_path, 'Aemulators/xi_hsab/PearceXiHSABCosmo.hdf5')],\n",
    "        [path.join(emu_path, 'Aemulators/knn_1_cdf_hsab/PearceKNN1CDFCutHSABCosmo.hdf5')],\n",
    "             [path.join(emu_path, 'Aemulators/knn_2_cdf_hsab/PearceKNN2CDFCutHSABCosmo.hdf5')],\n",
    "             [path.join(emu_path, 'Aemulators/knn_4_cdf_hsab/PearceKNN4CDFCutHSABCosmo.hdf5')],\n",
    "             [path.join(emu_path, 'Aemulators/knn_8_cdf_hsab/PearceKNN8CDFCutHSABCosmo.hdf5')]]\n",
    "\n",
    "emu_names.append('Xi+Knn1CDF')\n",
    "emu_fnames.append([emu_fnames[0][0], emu_fnames[1][0]])\n",
    "\n",
    "emu_names.append('KnnCDFAll')\n",
    "emu_fnames.append([emu_fnames[1][0],emu_fnames[2][0],emu_fnames[3][0],emu_fnames[4][0]])"
   ]
  },
  {
   "cell_type": "code",
   "execution_count": 38,
   "metadata": {
    "collapsed": false
   },
   "outputs": [],
   "source": [
    "emu_names = ['Xi', 'Knn1pCDF', 'Knn2pCDF', 'Knn4pCDF', 'Knn8pCDF']\n",
    "emu_fnames = [[path.join(emu_path, 'Aemulators/xi_hsab/PearceXiHSABCosmo.hdf5')],\n",
    "        [path.join(emu_path, 'Aemulators/knn_1_cdf_hsab/PearceKNN1pCDFHSABCosmo.hdf5')],\n",
    "             [path.join(emu_path, 'Aemulators/knn_2_cdf_hsab/PearceKNN2pCDFHSABCosmo.hdf5')],\n",
    "             [path.join(emu_path, 'Aemulators/knn_4_cdf_hsab/PearceKNN4pCDFHSABCosmo.hdf5')],\n",
    "             [path.join(emu_path, 'Aemulators/knn_8_cdf_hsab/PearceKNN8pCDFHSABCosmo.hdf5')]]\n",
    "\n",
    "emu_names.append('Xi+Knnp1CDF')\n",
    "emu_fnames.append([emu_fnames[0][0], emu_fnames[1][0]])\n",
    "\n",
    "emu_names.append('KnnpCDFAll')\n",
    "emu_fnames.append([emu_fnames[1][0],emu_fnames[2][0],emu_fnames[3][0],emu_fnames[4][0]])"
   ]
  },
  {
   "cell_type": "code",
   "execution_count": 39,
   "metadata": {
    "collapsed": false
   },
   "outputs": [],
   "source": [
    "#obs_names = ['xi', 'knn_1_pcdf_cut', 'knn_2_pcdf_cut', 'knn_4_pcdf_cut', 'knn_8_pcdf_cut']\n",
    "obs_names = ['xi', 'knn_1_pcdf', 'knn_2_pcdf', 'knn_4_pcdf','knn_8_pcdf']\n",
    "\n",
    "data_fnames = [path.join(cov_path, 'mock_measurements/testbox_1_1_%s.npy'%o)\n",
    "                for o in obs_names]\n",
    "\n",
    "data_fnames.append([data_fnames[0], data_fnames[1]]) # xi X knn1\n",
    "obs_names.append([obs_names[0], obs_names[1]]) # xi X knn1\n",
    "\n",
    "data_fnames.append([data_fnames[1],data_fnames[2],data_fnames[3],data_fnames[4]]) # xi X knn1\n",
    "obs_names.append([obs_names[1],obs_names[2],obs_names[3],obs_names[4]]) # xi X knn1"
   ]
  },
  {
   "cell_type": "code",
   "execution_count": 40,
   "metadata": {
    "collapsed": false
   },
   "outputs": [
    {
     "name": "stdout",
     "output_type": "stream",
     "text": [
      "(20,)\n",
      "(20,)\n",
      "(20,)\n",
      "(20,)\n"
     ]
    }
   ],
   "source": [
    "for d in data_fnames[-1]:\n",
    "    print np.load(d).shape"
   ]
  },
  {
   "cell_type": "code",
   "execution_count": 41,
   "metadata": {
    "collapsed": false
   },
   "outputs": [
    {
     "data": {
      "text/plain": [
       "40"
      ]
     },
     "execution_count": 41,
     "metadata": {},
     "output_type": "execute_result"
    }
   ],
   "source": [
    "15+14+11"
   ]
  },
  {
   "cell_type": "raw",
   "metadata": {
    "collapsed": false
   },
   "source": [
    "from os import path\n",
    "# this doesn't work, need more tweaks\n",
    "# Going to just remove some of the problematic large scales\n",
    "keep_scales = np.array(r_bins < 33).astype(bool)\n",
    "\n",
    "\n",
    "kbc = np.zeros((keep_scales.shape[0]-1,)).astype(bool)\n",
    "kbc = keep_scales[1:]\n",
    "\n",
    "new_data_fnames = []\n",
    "new_r_bins = []\n",
    "\n",
    "for dfname in data_fnames:\n",
    "    if 'knn' in dfname:\n",
    "        d = np.load(dfname)\n",
    "        _d = d[kbc]\n",
    "        print d\n",
    "        print \n",
    "        print _d\n",
    "        datadir, bname =  path.split(dfname)\n",
    "        split_bname = bname.split('.')\n",
    "        new_split_fname = [split_bname[0]+'_cut', split_bname[1]]\n",
    "        new_fname = path.join(datadir, '.'.join(new_split_fname))\n",
    "        np.save(new_fname, _d)\n",
    "        new_data_fnames.append(new_fname)\n",
    "        new_rb = r_bins[keep_scales]\n",
    "        new_r_bins.append(new_rb)\n",
    "    else:\n",
    "        new_data_fnames.append(dfname)\n",
    "        new_r_bins.append(r_bins)\n",
    "    \n",
    "data_fnames = new_data_fnames\n",
    "r_bins = new_r_bins"
   ]
  },
  {
   "cell_type": "code",
   "execution_count": 42,
   "metadata": {
    "collapsed": false
   },
   "outputs": [
    {
     "name": "stdout",
     "output_type": "stream",
     "text": [
      "xi\n",
      "/u/ki/swmclau2/Git/pearce/bin/covmat/xi_sim_covmat.npy /u/ki/swmclau2/Git/pearce/bin/optimization/xi_hsab_emu_cov_lpw.npy\n",
      "knn_1_pcdf\n",
      "/u/ki/swmclau2/Git/pearce/bin/covmat/knn_1_pcdf_sim_covmat.npy /u/ki/swmclau2/Git/pearce/bin/optimization/knn_1_pcdf_hsab_emu_cov_lpw.npy\n",
      "knn_2_pcdf\n",
      "/u/ki/swmclau2/Git/pearce/bin/covmat/knn_2_pcdf_sim_covmat.npy /u/ki/swmclau2/Git/pearce/bin/optimization/knn_2_pcdf_hsab_emu_cov_lpw.npy\n",
      "knn_4_pcdf\n",
      "/u/ki/swmclau2/Git/pearce/bin/covmat/knn_4_pcdf_sim_covmat.npy /u/ki/swmclau2/Git/pearce/bin/optimization/knn_4_pcdf_hsab_emu_cov_lpw.npy\n",
      "knn_8_pcdf\n",
      "/u/ki/swmclau2/Git/pearce/bin/covmat/knn_8_pcdf_sim_covmat.npy /u/ki/swmclau2/Git/pearce/bin/optimization/knn_8_pcdf_hsab_emu_cov_lpw.npy\n",
      "['xi', 'knn_1_pcdf']\n",
      "['knn_1_pcdf', 'knn_2_pcdf', 'knn_4_pcdf', 'knn_8_pcdf']\n"
     ]
    }
   ],
   "source": [
    "meas_cov_fnames = []\n",
    "emu_cov_fnames = []\n",
    "\n",
    "for obs, emu, data in zip(obs_names, emu_fnames, data_fnames ):\n",
    "    #if obs =='vdf':\n",
    "    #    continue\n",
    "    #with h5py.File(emu[0], 'r') as f:\n",
    "    #    rel_meas_cov = f.attrs['rel_cov']\n",
    "    #    rel_emu_cov = f.attrs['rel_emu_cov']\n",
    "    \n",
    "    # get rid of nans \n",
    "    #rel_meas_cov[np.isnan(rel_meas_cov)] = 1e-9\n",
    "    #o = np.load(data)\n",
    "    #meas_cov = rel_meas_cov*np.outer(o, o)    \n",
    "    #emu_cov = rel_emu_cov*np.outer(o,o)\n",
    "    print obs\n",
    "    if type(obs) is str:\n",
    "        meas_cov_fname = path.join(cov_path, 'covmat/%s_sim_covmat.npy'%obs)\n",
    "\n",
    "        emu_cov_fname = path.join(cov_path, 'optimization/%s_hsab_emu_cov_lpw.npy'%obs)\n",
    "    else:\n",
    "        continue\n",
    "        #ms = []\n",
    "        #es = []\n",
    "        #for o in obs:\n",
    "        #    ms.append(path.join(cov_path, 'covmat/%s_sim_covmat.npy'%o))\n",
    "        #    es.append(path.join(cov_path, 'optimization/%s_hsab_emu_cov_lpw.npy'%o))\n",
    "            \n",
    "        #emu_cov_fname = es # these are separate\n",
    "    \n",
    "    print meas_cov_fname, emu_cov_fname\n",
    "    meas_cov_fnames.append(meas_cov_fname)\n",
    "    emu_cov_fnames.append([emu_cov_fname])\n",
    "    "
   ]
  },
  {
   "cell_type": "raw",
   "metadata": {
    "collapsed": false
   },
   "source": [
    "meas_cov_fnames = []\n",
    "emu_cov_fnames = []\n",
    "obs_names2 = ['xi', 'knn_1_cdf_cut', 'knn_2_cdf_cut', 'knn_4_cdf_cut', 'knn_8_cdf_cut']\n",
    "\n",
    "for obs, emu, data in zip(obs_names2, emu_fnames, data_fnames ):\n",
    "    #if obs =='vdf':\n",
    "    #    continue\n",
    "    #with h5py.File(emu[0], 'r') as f:\n",
    "    #    rel_meas_cov = f.attrs['rel_cov']\n",
    "    #    rel_emu_cov = f.attrs['rel_emu_cov']\n",
    "    \n",
    "    # get rid of nans \n",
    "    #rel_meas_cov[np.isnan(rel_meas_cov)] = 1e-9\n",
    "    #o = np.load(data)\n",
    "    #meas_cov = rel_meas_cov*np.outer(o, o)    \n",
    "    #emu_cov = rel_emu_cov*np.outer(o,o)\n",
    "    print obs\n",
    "    if type(obs) is str:\n",
    "        meas_cov_fname = path.join(cov_path, 'covmat/%s_sim_covmat.npy'%obs)\n",
    "\n",
    "        emu_cov_fname = path.join(cov_path, 'optimization/%s_hsab_emu_cov_lpw.npy'%obs)\n",
    "    else:\n",
    "        continue\n",
    "        #ms = []\n",
    "        #es = []\n",
    "        #for o in obs:\n",
    "        #    ms.append(path.join(cov_path, 'covmat/%s_sim_covmat.npy'%o))\n",
    "        #    es.append(path.join(cov_path, 'optimization/%s_hsab_emu_cov_lpw.npy'%o))\n",
    "            \n",
    "        #emu_cov_fname = es # these are separate\n",
    "    \n",
    "    print meas_cov_fname, emu_cov_fname\n",
    "    meas_cov_fnames.append(meas_cov_fname)\n",
    "    emu_cov_fnames.append([emu_cov_fname])\n",
    "    "
   ]
  },
  {
   "cell_type": "code",
   "execution_count": 43,
   "metadata": {
    "collapsed": true
   },
   "outputs": [],
   "source": [
    "# special case for xi+knn1\n",
    "# TODO fix for cut case \n",
    "cov = np.load(path.join(cov_path, 'covmat/xi_knnpcdf_sim_covmat.npy'))\n",
    "np.save(path.join(cov_path, 'covmat/xi_knn1pcdf_sim_covmat.npy'), cov[:35][:,:35]) #cut last 5 bins of k=1\n",
    "\n",
    "meas_cov_fnames.append(path.join(cov_path, 'covmat/xi_knn1pcdf_sim_covmat.npy'))\n",
    "\n",
    "emu_cov_fnames.append([emu_cov_fnames[0][0], emu_cov_fnames[1][0]])"
   ]
  },
  {
   "cell_type": "code",
   "execution_count": 44,
   "metadata": {
    "collapsed": true
   },
   "outputs": [],
   "source": [
    "# special case for knn*\n",
    "#cov = np.load(path.join(cov_path, 'covmat/knn_pcdf_sim_covmat.npy'))\n",
    "#np.save(path.join(cov_path, 'covmat/knn_pcdf_part_sim_covmat.npy'), cov[:60][:,:60])\n",
    "#cov = np.load(path.join(cov_path, 'covmat/knn_cdf_cut_sim_covmat.npy'))\n",
    "#np.save(path.join(cov_path,'covmat/knn_cdf_cut_sim_covmat2.npy' ), cov[:-9][:,:-9])\n",
    "meas_cov_fnames.append(path.join(cov_path, 'covmat/knn_pcdf_cut_sim_covmat.npy'))\n",
    "\n",
    "emu_cov_fnames.append([emu_cov_fnames[1][0],emu_cov_fnames[2][0],emu_cov_fnames[3][0],\\\n",
    "                       emu_cov_fnames[4][0]])"
   ]
  },
  {
   "cell_type": "raw",
   "metadata": {
    "collapsed": false
   },
   "source": [
    "emu_cov_fnames.append([e[0] for e in emu_cov_fnames])"
   ]
  },
  {
   "cell_type": "raw",
   "metadata": {
    "collapsed": false
   },
   "source": [
    "from scipy.linalg import block_diag\n",
    "mc = block_diag(*[np.load(fname) for fname in meas_cov_fnames])\n",
    "cov_fname = path.join(cov_path, 'covmat/%s_full_covmat.npy'%('_'.join(obs_names) ))\n",
    "np.save(cov_fname, mc)\n",
    "meas_cov_fnames.append(cov_fname)"
   ]
  },
  {
   "cell_type": "raw",
   "metadata": {
    "collapsed": true
   },
   "source": [
    "obs_names.append(copy.copy(obs_names))"
   ]
  },
  {
   "cell_type": "code",
   "execution_count": 45,
   "metadata": {
    "collapsed": false
   },
   "outputs": [],
   "source": [
    "%matplotlib inline\n",
    "from matplotlib import pyplot as plt"
   ]
  },
  {
   "cell_type": "code",
   "execution_count": 46,
   "metadata": {
    "collapsed": true
   },
   "outputs": [],
   "source": [
    "def cov_to_corr(cov):\n",
    "    std = np.sqrt(np.diag(cov))\n",
    "    \n",
    "    denom = np.outer(std, std)\n",
    "    \n",
    "    return cov/denom"
   ]
  },
  {
   "cell_type": "code",
   "execution_count": 47,
   "metadata": {
    "collapsed": true
   },
   "outputs": [],
   "source": [
    "n_walkers = 250\n",
    "n_steps = 110000"
   ]
  },
  {
   "cell_type": "code",
   "execution_count": 48,
   "metadata": {
    "collapsed": true
   },
   "outputs": [],
   "source": [
    "# these computed where the average values - 1 std is less than 1/sqrt(n_ran)\n",
    "# ntoe these are the wins for bins not bin centers\n",
    "keep_scales = {1: [True, True, True, True, True, True, True, True, True, True,\\\n",
    "                   True, True, True, True, True, True,True, True, True, True,\\\n",
    "                   True],\n",
    "#2: [False, True, True, True, True, True, True, True, True, True, True, True, True,\\\n",
    "#    True, True,True, False, False, False, False, False],\n",
    "2: [True, True, True, True, True, True, True, True, True, True, True, True, True,\\\n",
    "    True, True,True, True, True, True, True, True],\n",
    "4: [True, True, True, True, True, True, True, True, True, True, True, True,\\\n",
    "    True, True, True, True, True, True, True, True, True],\n",
    "#8: [False, False, False, False, False, False, False, True, True, True,\\\n",
    "#    True, True, True, True, True, True, True, False, False, False, False]}\n",
    "8: [True, True, True, True, True, True, True, True, True, True,\\\n",
    "    True, True, True, True, True, True, True, True, True, True, True]}"
   ]
  },
  {
   "cell_type": "raw",
   "metadata": {
    "collapsed": true
   },
   "source": [
    "# these computed where the average values - 1 std is less than 1/sqrt(n_ran)\n",
    "# ntoe these are the wins for bins not bin centers\n",
    "keep_scales = {1: [True, True, True, True, True, True, True, True, True, True,\\\n",
    "                   True, True, True, True, True, True,False, False, False, False,\\\n",
    "                   False],\n",
    "#2: [False, True, True, True, True, True, True, True, True, True, True, True, True,\\\n",
    "#    True, True,True, False, False, False, False, False],\n",
    "2: [False, False, True, True, True, True, True, True, True, True, True, True, True,\\\n",
    "    True, True,True, False, False, False, False, False],\n",
    "4: [False, False, False, False, False, True, True, True, True, True, True, True,\\\n",
    "    True, True, True, True, True, False, False, False, False],\n",
    "#8: [False, False, False, False, False, False, False, True, True, True,\\\n",
    "#    True, True, True, True, True, True, True, False, False, False, False]}\n",
    "8: [False, False, False, False, False, False, False, True, True, True,\\\n",
    "    True, True, True, True, True, True, True, False, False, False, False]}"
   ]
  },
  {
   "cell_type": "code",
   "execution_count": 49,
   "metadata": {
    "collapsed": false
   },
   "outputs": [],
   "source": [
    "k_rbins = [[list(r_bins)]]\n",
    "for k in [1,2,4,8]:\n",
    "    k_rbins.append([list(r_bins[keep_scales[k]])])\n",
    "           \n",
    "k_rbins.append([list(r_bins), list(r_bins[keep_scales[1]])])\n",
    "k_rbins.append([list(r_bins[keep_scales[k]]) for k in [1,2,4,8]])"
   ]
  },
  {
   "cell_type": "code",
   "execution_count": 50,
   "metadata": {
    "collapsed": false
   },
   "outputs": [
    {
     "name": "stdout",
     "output_type": "stream",
     "text": [
      "['xi', 'knn_1_pcdf', 'knn_2_pcdf', 'knn_4_pcdf', 'knn_8_pcdf', ['xi', 'knn_1_pcdf'], ['knn_1_pcdf', 'knn_2_pcdf', 'knn_4_pcdf', 'knn_8_pcdf']]\n"
     ]
    }
   ],
   "source": [
    "print obs_names"
   ]
  },
  {
   "cell_type": "markdown",
   "metadata": {},
   "source": [
    "## HOD\n",
    "----\n"
   ]
  },
  {
   "cell_type": "code",
   "execution_count": 51,
   "metadata": {
    "collapsed": true
   },
   "outputs": [],
   "source": [
    "#orig_cfg_fname = '/u/ki/swmclau2//Git/pearce/bin/mcmc/nh_gg_sham_hsab_mcmc_config.yaml'\n",
    "with open(orig_cfg_fname, 'r') as yamlfile:\n",
    "    orig_cfg = yaml.load(yamlfile)"
   ]
  },
  {
   "cell_type": "code",
   "execution_count": 52,
   "metadata": {
    "collapsed": false
   },
   "outputs": [],
   "source": [
    "tmp_cfg = copy.deepcopy(orig_cfg)\n",
    "\n",
    "directory = path.join(cov_path, \"mcmc/config/\")\n",
    "output_dir = path.join(emu_path, \"PearceMCMC/\")\n",
    "\n",
    "jobname_template = \"HOD_1_1_rmin_{rmin}_{emu_name}\"#_fixed_HOD\"\n",
    "\n",
    "for rmin in [0.1, 1.0, 5.0]:\n",
    "    for emu_fname, emu_name, emu_cov, obs, meas_cov, data_name, rb in\\\n",
    "    zip(emu_fnames, emu_names, emu_cov_fnames, obs_names, meas_cov_fnames,\\\n",
    "        data_fnames, k_rbins):\n",
    "        \n",
    "        #if rmin is not None:\n",
    "        tmp_cfg['emu']['fixed_params'] = {'z': 0.0, 'rmin':rmin}#, 'cosmo':0}\n",
    "        #else:\n",
    "        #    tmp_cfg['emu']['fixed_params'] = {'z': 0.0, 'rmin':rmin, 'csomo':0}\n",
    "\n",
    "        tmp_cfg['emu']['training_file'] = emu_fname\n",
    "        tmp_cfg['emu']['emu_type'] = ['LemonPepperWet' for i in xrange(len(emu_fname))]\n",
    "        #print emu_cov\n",
    "        tmp_cfg['emu']['emu_cov_fname'] = emu_cov\n",
    "        \n",
    "        tmp_cfg['data']['obs']['obs'] = [obs] if type(obs) is not list else obs\n",
    "        tmp_cfg['data']['obs']['rbins'] = rb\n",
    "        tmp_cfg['data']['true_data_fname']= [data_name] if type(data_name) is not list else data_name\n",
    "        tmp_cfg['data']['true_cov_fname'] = meas_cov\n",
    "        \n",
    "        \n",
    "        tmp_cfg['data']['cov']['meas_cov_fname'] = meas_cov#tmp_cfg['data']['true_cov_fname']\n",
    "        tmp_cfg['data']['cov']['emu_cov_fname'] = tmp_cfg['emu']['emu_cov_fname'] # TODO make this not be redundant\n",
    "        \n",
    "        jobname = jobname_template.format(rmin=rmin, emu_name=emu_name)\n",
    "        tmp_cfg['fname'] = path.join(output_dir, jobname+'.hdf5')\n",
    "        \n",
    "        tmp_cfg['sim']= {'gal_type': 'HOD',\n",
    "       'hod_name': 'zheng07',\n",
    "       'hod_params': {'alpha': 1.0,\n",
    "        'logM0': 13.5,\n",
    "        'logM1': 14.0,\n",
    "        'sigma_logM': 0.3,\n",
    "        'conc_gal_bias': 0.95},\n",
    "       'nd': '5e-4',\n",
    "       'scale_factor': 1.0,\n",
    "       'min_ptcl': 100, \n",
    "       'sim_hps': {'boxno': 1,\n",
    "        'realization': 1,\n",
    "        'system': 'ki-ls'},\n",
    "       'simname': 'testbox'}\n",
    "        \n",
    "        # TODO i shouldnt have to specify this this way\n",
    "        tmp_cfg['data']['sim'] = tmp_cfg['sim']\n",
    "        \n",
    "        tmp_cfg['chain']['nwalkers'] = n_walkers\n",
    "        tmp_cfg['chain']['nsteps'] = n_steps\n",
    "        tmp_cfg['chain']['mcmc_type'] = 'normal'\n",
    "        \n",
    "        # fix params during MCMC    \n",
    "        #tmp_cfg['chain']['fixed_params'].update(tmp_cfg['sim']['hod_params'])\n",
    "        \n",
    "        #try:\n",
    "        #    del tmp_cfg['data']['true_data_fname']\n",
    "        #    del tmp_cfg['data']['true_cov_fname']\n",
    "        #except KeyError:\n",
    "        #    pass\n",
    "\n",
    "        with open(path.join(directory, jobname +'.yaml'), 'w') as f:\n",
    "            yaml.dump(tmp_cfg, f)\n",
    "\n",
    "        #with open(path.join(directory, jobname + '.sbatch'), 'w') as f:\n",
    "        #    f.write(sbatch_template.format(jobname=jobname))\n",
    "            \n",
    "        with open(path.join(directory, jobname + '.bsub'), 'w') as f:\n",
    "            f.write(bsub_template.format(jobname=jobname))\n",
    "            #f.write(bsub_restart_template.format(jobname=jobname))"
   ]
  },
  {
   "cell_type": "code",
   "execution_count": 53,
   "metadata": {
    "collapsed": false
   },
   "outputs": [],
   "source": [
    "from pearce.mocks.kittens import TestBox"
   ]
  },
  {
   "cell_type": "code",
   "execution_count": 54,
   "metadata": {
    "collapsed": false
   },
   "outputs": [],
   "source": [
    "cat = TestBox(1,1)\n",
    "pv = cat._get_cosmo_param_names_vals()\n",
    "cosmo_params = dict(zip(pv[0], pv[1]))"
   ]
  },
  {
   "cell_type": "raw",
   "metadata": {
    "collapsed": false
   },
   "source": [
    "## fixed_cosmo\n",
    "tmp_cfg = copy.deepcopy(orig_cfg)\n",
    "\n",
    "directory = path.join(cov_path, \"mcmc/config/\")\n",
    "output_dir = path.join(emu_path, \"PearceMCMC/\")\n",
    "\n",
    "jobname_template = \"HOD_1_1_fixed_rmin_{rmin}_{emu_name}\"#_fixed_HOD\"\n",
    "\n",
    "for rmin in [0.1, 1.0, 5.0]:\n",
    "    for emu_fname, emu_name, emu_cov, obs, meas_cov, data_name, rb in\\\n",
    "    zip(emu_fnames, emu_names, emu_cov_fnames, obs_names, meas_cov_fnames,\\\n",
    "        data_fnames, k_rbins):\n",
    "        \n",
    "        #if rmin is not None:\n",
    "        tmp_cfg['emu']['fixed_params'] = {'z': 0.0, 'rmin':rmin}#, 'cosmo':0}\n",
    "        #else:\n",
    "        #    tmp_cfg['emu']['fixed_params'] = {'z': 0.0, 'rmin':rmin, 'csomo':0}\n",
    "\n",
    "        tmp_cfg['emu']['training_file'] = emu_fname\n",
    "        tmp_cfg['emu']['emu_type'] = ['LemonPepperWet' for i in xrange(len(emu_fname))]\n",
    "        #print emu_cov\n",
    "        tmp_cfg['emu']['emu_cov_fname'] = emu_cov\n",
    "        \n",
    "        tmp_cfg['data']['obs']['obs'] = [obs] if type(obs) is not list else obs\n",
    "        tmp_cfg['data']['obs']['rbins'] = rb\n",
    "        tmp_cfg['data']['true_data_fname']= [data_name] if type(data_name) is not list else data_name\n",
    "        tmp_cfg['data']['true_cov_fname'] = meas_cov\n",
    "        \n",
    "        \n",
    "        tmp_cfg['data']['cov']['meas_cov_fname'] = meas_cov#tmp_cfg['data']['true_cov_fname']\n",
    "        tmp_cfg['data']['cov']['emu_cov_fname'] = tmp_cfg['emu']['emu_cov_fname'] # TODO make this not be redundant\n",
    "        \n",
    "        jobname = jobname_template.format(rmin=rmin, emu_name=emu_name)\n",
    "        tmp_cfg['fname'] = path.join(output_dir, jobname+'.hdf5')\n",
    "        \n",
    "        tmp_cfg['sim']= {'gal_type': 'HOD',\n",
    "       'hod_name': 'zheng07',\n",
    "       'hod_params': {'alpha': 1.0,\n",
    "        'logM0': 13.5,\n",
    "        'logM1': 14.0,\n",
    "        'sigma_logM': 0.3,\n",
    "        'conc_gal_bias': 0.95},\n",
    "        'cosmo_params': cosmo_params,\n",
    "       'nd': '5e-4',\n",
    "       'scale_factor': 1.0,\n",
    "       'min_ptcl': 100, \n",
    "       'sim_hps': {'boxno': 1,\n",
    "        'realization': 1,\n",
    "        'system': 'ki-ls'},\n",
    "       'simname': 'testbox'}\n",
    "        \n",
    "        # TODO i shouldnt have to specify this this way\n",
    "        tmp_cfg['data']['sim'] = tmp_cfg['sim']\n",
    "        \n",
    "        tmp_cfg['chain']['nwalkers'] = n_walkers\n",
    "        tmp_cfg['chain']['nsteps'] = n_steps\n",
    "        tmp_cfg['chain']['mcmc_type'] = 'normal'\n",
    "        \n",
    "        # fix params during MCMC    \n",
    "        tmp_cfg['chain']['fixed_params'].update(tmp_cfg['sim']['cosmo_params'])\n",
    "        \n",
    "        #try:\n",
    "        #    del tmp_cfg['data']['true_data_fname']\n",
    "        #    del tmp_cfg['data']['true_cov_fname']\n",
    "        #except KeyError:\n",
    "        #    pass\n",
    "\n",
    "        with open(path.join(directory, jobname +'.yaml'), 'w') as f:\n",
    "            yaml.dump(tmp_cfg, f)\n",
    "\n",
    "        #with open(path.join(directory, jobname + '.sbatch'), 'w') as f:\n",
    "        #    f.write(sbatch_template.format(jobname=jobname))\n",
    "            \n",
    "        with open(path.join(directory, jobname + '.bsub'), 'w') as f:\n",
    "            f.write(bsub_template.format(jobname=jobname))\n",
    "            #f.write(bsub_restart_template.format(jobname=jobname))"
   ]
  },
  {
   "cell_type": "markdown",
   "metadata": {},
   "source": [
    "## HSAB\n",
    "----\n"
   ]
  },
  {
   "cell_type": "code",
   "execution_count": 55,
   "metadata": {
    "collapsed": false
   },
   "outputs": [],
   "source": [
    "obs_names = ['xi', 'knn_1_cdf_cut', 'knn_2_cdf_cut', 'knn_4_cdf_cut', 'knn_8_cdf_cut']\n",
    "#obs_names = ['xi', 'knn_1_pcdf', 'knn_2_pcdf', 'knn_4_pcdf','knn_8_pcdf']\n",
    "\n",
    "data_fnames = [path.join(cov_path, 'mock_measurements/testbox_5_1_hsab_%s.npy'%o)\n",
    "                for o in obs_names]\n",
    "\n",
    "#data_fnames.append(copy.copy(data_fnames))\n",
    "\n",
    "data_fnames.append([data_fnames[0], data_fnames[1]]) # xi X knn1\n",
    "obs_names.append([obs_names[0], obs_names[1]]) # xi X knn1\n",
    "\n",
    "data_fnames.append([data_fnames[1],data_fnames[2],data_fnames[3],data_fnames[4]]) # xi X knn1\n",
    "obs_names.append([obs_names[1],obs_names[2],obs_names[3],obs_names[4]]) # xi X knn1"
   ]
  },
  {
   "cell_type": "code",
   "execution_count": 56,
   "metadata": {
    "collapsed": true
   },
   "outputs": [],
   "source": [
    "#orig_cfg_fname = '/u/ki/swmclau2//Git/pearce/bin/mcmc/nh_gg_sham_hsab_mcmc_config.yaml'\n",
    "with open(orig_cfg_fname, 'r') as yamlfile:\n",
    "    orig_cfg = yaml.load(yamlfile)"
   ]
  },
  {
   "cell_type": "raw",
   "metadata": {
    "collapsed": false
   },
   "source": [
    "tmp_cfg = copy.deepcopy(orig_cfg)\n",
    "\n",
    "directory = path.join(cov_path, \"mcmc/config/\")\n",
    "output_dir = path.join(emu_path, \"PearceMCMC/\")\n",
    "\n",
    "jobname_template = \"HOD_5_1_rmin_{rmin}_{emu_name}_v2\"#_fixed_HOD\"\n",
    "\n",
    "for rmin in [0.1, 1.0, 5.0]:\n",
    "    for emu_fname, emu_name, emu_cov, obs, meas_cov, data_name, rb in\\\n",
    "    zip(emu_fnames, emu_names, emu_cov_fnames, obs_names, meas_cov_fnames,\\\n",
    "        data_fnames, k_rbins):\n",
    "        \n",
    "        #if rmin is not None:\n",
    "        tmp_cfg['emu']['fixed_params'] = {'z': 0.0, 'rmin':rmin}#, 'cosmo':0}\n",
    "        #else:\n",
    "        #    tmp_cfg['emu']['fixed_params'] = {'z': 0.0, 'rmin':rmin, 'csomo':0}\n",
    "\n",
    "            \n",
    "        tmp_cfg['emu']['training_file'] = emu_fname\n",
    "        tmp_cfg['emu']['emu_type'] = ['LemonPepperWet' for i in xrange(len(emu_fname))]\n",
    "        tmp_cfg['emu']['emu_cov_fname'] = emu_cov\n",
    "        \n",
    "        tmp_cfg['data']['obs']['obs'] = [obs] if type(obs) is not list else obs\n",
    "        tmp_cfg['data']['obs']['rbins'] = rb\n",
    "\n",
    "        tmp_cfg['data']['true_data_fname']= [data_name] if type(data_name) is not list else data_name\n",
    "        tmp_cfg['data']['true_cov_fname'] = meas_cov\n",
    "        \n",
    "        \n",
    "        tmp_cfg['data']['cov']['meas_cov_fname'] = meas_cov#tmp_cfg['data']['true_cov_fname']\n",
    "        tmp_cfg['data']['cov']['emu_cov_fname'] = tmp_cfg['emu']['emu_cov_fname'] # TODO make this not be redundant\n",
    "        \n",
    "        jobname = jobname_template.format(rmin=rmin, emu_name=emu_name)\n",
    "        tmp_cfg['fname'] = path.join(output_dir, jobname+'.hdf5')\n",
    "        \n",
    "        tmp_cfg['sim']= {'gal_type': 'HOD',\n",
    "       'hod_name': 'zheng07',\n",
    "       'hod_params': {'alpha': 1.0,\n",
    "        'logM0': 13.5,\n",
    "        'logM1': 14.0,\n",
    "        'sigma_logM': 0.3,\n",
    "        'conc_gal_bias': 0.95},\n",
    "       'nd': '5e-4',\n",
    "       'scale_factor': 1.0,\n",
    "       'min_ptcl': 100, \n",
    "       'sim_hps': {'boxno': 1,\n",
    "        'realization': 1,\n",
    "        'system': 'ki-ls'},\n",
    "       'simname': 'testbox'}\n",
    "        \n",
    "        # TODO i shouldnt have to specify this this way\n",
    "        tmp_cfg['data']['sim'] = tmp_cfg['sim']\n",
    "        \n",
    "        tmp_cfg['chain']['nwalkers'] = n_walkers\n",
    "        tmp_cfg['chain']['nsteps'] = n_steps\n",
    "        tmp_cfg['chain']['mcmc_type'] = 'normal'\n",
    "        \n",
    "        # fix params during MCMC    \n",
    "        #tmp_cfg['chain']['fixed_params'].update(tmp_cfg['sim']['hod_params'])\n",
    "        \n",
    "        #try:\n",
    "        #    del tmp_cfg['data']['true_data_fname']\n",
    "        #    del tmp_cfg['data']['true_cov_fname']\n",
    "        #except KeyError:\n",
    "        #    pass\n",
    "\n",
    "        with open(path.join(directory, jobname +'.yaml'), 'w') as f:\n",
    "            yaml.dump(tmp_cfg, f)\n",
    "\n",
    "        #with open(path.join(directory, jobname + '.sbatch'), 'w') as f:\n",
    "        #    f.write(sbatch_template.format(jobname=jobname))\n",
    "            \n",
    "        with open(path.join(directory, jobname + '.bsub'), 'w') as f:\n",
    "            f.write(bsub_template.format(jobname=jobname))\n",
    "            #f.write(bsub_restart_template.format(jobname=jobname))"
   ]
  },
  {
   "cell_type": "code",
   "execution_count": 57,
   "metadata": {
    "collapsed": false
   },
   "outputs": [],
   "source": [
    "cat = TestBox(5,1)\n",
    "pv = cat._get_cosmo_param_names_vals()\n",
    "cosmo_params = dict(zip(pv[0], pv[1]))"
   ]
  },
  {
   "cell_type": "raw",
   "metadata": {
    "collapsed": false
   },
   "source": [
    "tmp_cfg = copy.deepcopy(orig_cfg)\n",
    "\n",
    "directory = path.join(cov_path, \"mcmc/config/\")\n",
    "output_dir = path.join(emu_path, \"PearceMCMC/\")\n",
    "\n",
    "jobname_template = \"HOD_5_1_fixed_rmin_{rmin}_{emu_name}_v2\"#_fixed_HOD\"\n",
    "\n",
    "for rmin in [0.1, 1.0, 5.0]:\n",
    "    for emu_fname, emu_name, emu_cov, obs, meas_cov, data_name, rb in\\\n",
    "    zip(emu_fnames, emu_names, emu_cov_fnames, obs_names, meas_cov_fnames,\\\n",
    "        data_fnames, k_rbins):\n",
    "        \n",
    "        #if rmin is not None:\n",
    "        tmp_cfg['emu']['fixed_params'] = {'z': 0.0, 'rmin':rmin}#, 'cosmo':0}\n",
    "        #else:\n",
    "        #    tmp_cfg['emu']['fixed_params'] = {'z': 0.0, 'rmin':rmin, 'csomo':0}\n",
    "\n",
    "            \n",
    "        tmp_cfg['emu']['training_file'] = emu_fname\n",
    "        tmp_cfg['emu']['emu_type'] = ['LemonPepperWet' for i in xrange(len(emu_fname))]\n",
    "        tmp_cfg['emu']['emu_cov_fname'] = emu_cov\n",
    "        \n",
    "        tmp_cfg['data']['obs']['obs'] = [obs] if type(obs) is not list else obs\n",
    "        tmp_cfg['data']['obs']['rbins'] = rb\n",
    "\n",
    "        tmp_cfg['data']['true_data_fname']= [data_name] if type(data_name) is not list else data_name\n",
    "        tmp_cfg['data']['true_cov_fname'] = meas_cov\n",
    "        \n",
    "        \n",
    "        tmp_cfg['data']['cov']['meas_cov_fname'] = meas_cov#tmp_cfg['data']['true_cov_fname']\n",
    "        tmp_cfg['data']['cov']['emu_cov_fname'] = tmp_cfg['emu']['emu_cov_fname'] # TODO make this not be redundant\n",
    "        \n",
    "        jobname = jobname_template.format(rmin=rmin, emu_name=emu_name)\n",
    "        tmp_cfg['fname'] = path.join(output_dir, jobname+'.hdf5')\n",
    "        \n",
    "        tmp_cfg['sim']= {'gal_type': 'HOD',\n",
    "       'hod_name': 'zheng07',\n",
    "       'hod_params': {'alpha': 1.0,\n",
    "        'logM0': 13.5,\n",
    "        'logM1': 14.0,\n",
    "        'sigma_logM': 0.3,\n",
    "        'conc_gal_bias': 0.95},\n",
    "        'cosmo_params':cosmo_params,\n",
    "       'nd': '5e-4',\n",
    "       'scale_factor': 1.0,\n",
    "       'min_ptcl': 100, \n",
    "       'sim_hps': {'boxno': 1,\n",
    "        'realization': 1,\n",
    "        'system': 'ki-ls'},\n",
    "       'simname': 'testbox'}\n",
    "        \n",
    "        # TODO i shouldnt have to specify this this way\n",
    "        tmp_cfg['data']['sim'] = tmp_cfg['sim']\n",
    "        \n",
    "        tmp_cfg['chain']['nwalkers'] = n_walkers\n",
    "        tmp_cfg['chain']['nsteps'] = n_steps\n",
    "        tmp_cfg['chain']['mcmc_type'] = 'normal'\n",
    "        \n",
    "        # fix params during MCMC    \n",
    "        tmp_cfg['chain']['fixed_params'].update(tmp_cfg['sim']['cosmo_params'])\n",
    "        \n",
    "        #try:\n",
    "        #    del tmp_cfg['data']['true_data_fname']\n",
    "        #    del tmp_cfg['data']['true_cov_fname']\n",
    "        #except KeyError:\n",
    "        #    pass\n",
    "\n",
    "        with open(path.join(directory, jobname +'.yaml'), 'w') as f:\n",
    "            yaml.dump(tmp_cfg, f)\n",
    "\n",
    "        #with open(path.join(directory, jobname + '.sbatch'), 'w') as f:\n",
    "        #    f.write(sbatch_template.format(jobname=jobname))\n",
    "            \n",
    "        with open(path.join(directory, jobname + '.bsub'), 'w') as f:\n",
    "            f.write(bsub_template.format(jobname=jobname))\n",
    "            #f.write(bsub_restart_template.format(jobname=jobname))"
   ]
  },
  {
   "cell_type": "code",
   "execution_count": null,
   "metadata": {
    "collapsed": true
   },
   "outputs": [],
   "source": []
  }
 ],
 "metadata": {
  "kernelspec": {
   "display_name": "Python [default]",
   "language": "python",
   "name": "python2"
  },
  "language_info": {
   "codemirror_mode": {
    "name": "ipython",
    "version": 2
   },
   "file_extension": ".py",
   "mimetype": "text/x-python",
   "name": "python",
   "nbconvert_exporter": "python",
   "pygments_lexer": "ipython2",
   "version": "2.7.13"
  }
 },
 "nbformat": 4,
 "nbformat_minor": 2
}

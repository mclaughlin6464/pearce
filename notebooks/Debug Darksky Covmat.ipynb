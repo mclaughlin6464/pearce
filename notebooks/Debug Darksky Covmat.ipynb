{
 "cells": [
  {
   "cell_type": "markdown",
   "metadata": {},
   "source": [
    "The correlation functions from this computation looks wrong. I'm gonna look at them and figure out why :( "
   ]
  },
  {
   "cell_type": "code",
   "execution_count": 1,
   "metadata": {
    "collapsed": true
   },
   "outputs": [],
   "source": [
    "from matplotlib import pyplot as plt\n",
    "%matplotlib inline\n",
    "import seaborn as sns\n",
    "sns.set()\n",
    "import matplotlib.colors as colors"
   ]
  },
  {
   "cell_type": "code",
   "execution_count": 2,
   "metadata": {
    "collapsed": true
   },
   "outputs": [],
   "source": [
    "import numpy as np\n",
    "from glob import glob\n",
    "from os import path"
   ]
  },
  {
   "cell_type": "code",
   "execution_count": 3,
   "metadata": {
    "collapsed": true
   },
   "outputs": [],
   "source": [
    "output_dir = '/home/users/swmclau2/Git/pearce/bin/covmat/ds14_covmat/'"
   ]
  },
  {
   "cell_type": "code",
   "execution_count": 4,
   "metadata": {
    "collapsed": true
   },
   "outputs": [],
   "source": [
    "outputs = sorted(glob(path.join(output_dir, 'xi_gg_gm_darksky_obs_v8_???.npy')))"
   ]
  },
  {
   "cell_type": "raw",
   "metadata": {},
   "source": [
    "outputs = sorted(glob(path.join(output_dir, 'xi_gg_gm_darksky_obs_???.npy')))\n",
    "print len(outputs)"
   ]
  },
  {
   "cell_type": "code",
   "execution_count": 5,
   "metadata": {
    "collapsed": true
   },
   "outputs": [],
   "source": [
    "N = len(outputs) # Should be 512, but a few may not have finished. Should make sure that those get reestarted, but likely not super important\n",
    "all_outputs = np.zeros((N, 5, 2*18)) # num bins and num HODs "
   ]
  },
  {
   "cell_type": "code",
   "execution_count": 6,
   "metadata": {
    "collapsed": true
   },
   "outputs": [],
   "source": [
    "for i,output_file in enumerate(outputs):\n",
    "    output = np.load(output_file)\n",
    "    all_outputs[i] = output"
   ]
  },
  {
   "cell_type": "code",
   "execution_count": 7,
   "metadata": {
    "collapsed": true
   },
   "outputs": [],
   "source": [
    "r_bins = np.logspace(-1.1, 1.6, 19)\n",
    "rpoints = (r_bins[1:]+r_bins[:-1])/2.0"
   ]
  },
  {
   "cell_type": "code",
   "execution_count": 8,
   "metadata": {},
   "outputs": [
    {
     "data": {
      "text/plain": [
       "(1, 5, 36)"
      ]
     },
     "execution_count": 8,
     "metadata": {},
     "output_type": "execute_result"
    }
   ],
   "source": [
    "all_outputs.shape"
   ]
  },
  {
   "cell_type": "code",
   "execution_count": 11,
   "metadata": {},
   "outputs": [
    {
     "name": "stdout",
     "output_type": "stream",
     "text": [
      "[  5.23617320e+04   2.92842735e+04   1.57463530e+04   8.34535187e+03\n",
      "   4.37330408e+03   2.22578937e+03   1.09930998e+03   5.08974511e+02\n",
      "   2.19880163e+02   8.80789309e+01   3.34248278e+01   1.36426553e+01\n",
      "   6.58832956e+00   3.44325309e+00   1.65681835e+00   5.97975471e-01\n",
      "  -3.06498095e-02  -3.88894686e-01]\n"
     ]
    }
   ],
   "source": [
    "print all_outputs[0,0,:18]"
   ]
  },
  {
   "cell_type": "code",
   "execution_count": 12,
   "metadata": {},
   "outputs": [
    {
     "name": "stdout",
     "output_type": "stream",
     "text": [
      "[-491.72171276 -170.91076871  -12.89229487   44.30698783   66.52388333\n",
      "   66.97679546   57.27685936   48.34518708   34.68788577   24.94844124\n",
      "   16.8645739    10.83628546    7.1368162     4.67062499    3.21093771\n",
      "    2.29883513    1.26971492    0.66626105]\n"
     ]
    }
   ],
   "source": [
    "print all_outputs[0,0,18:]"
   ]
  },
  {
   "cell_type": "code",
   "execution_count": 10,
   "metadata": {},
   "outputs": [
    {
     "data": {
      "text/plain": [
       "[]"
      ]
     },
     "execution_count": 10,
     "metadata": {},
     "output_type": "execute_result"
    },
    {
     "data": {
      "image/png": "[encoded data removed]",
      "text/plain": [
       "<matplotlib.figure.Figure at 0x7fb547aa6a50>"
      ]
     },
     "metadata": {},
     "output_type": "display_data"
    }
   ],
   "source": [
    "plt.plot(rpoints, all_outputs[0, 0, :18].T, color = 'b')\n",
    "plt.plot(rpoints, all_outputs[0, 0, 18:].T, color = 'r')\n",
    "\n",
    "plt.loglog()"
   ]
  },
  {
   "cell_type": "code",
   "execution_count": 11,
   "metadata": {
    "collapsed": true
   },
   "outputs": [],
   "source": [
    "from pearce.mocks.kittens import DarkSky\n",
    "from pearce.mocks import tpcf\n",
    "#from halotools.mock_observables import tpcf\n",
    "from halotools.empirical_models import Zheng07Cens, Zheng07Sats\n",
    "import numpy as np\n",
    "from collections import OrderedDict\n",
    "from time import time\n",
    "from scipy.optimize import minimize_scalar\n",
    "import yaml\n",
    "#import sys"
   ]
  },
  {
   "cell_type": "code",
   "execution_count": 12,
   "metadata": {
    "collapsed": true
   },
   "outputs": [],
   "source": [
    "randoms = np.load('/scratch/users/swmclau2/randoms_gm.npy')"
   ]
  },
  {
   "cell_type": "code",
   "execution_count": null,
   "metadata": {
    "collapsed": true
   },
   "outputs": [],
   "source": []
  },
  {
   "cell_type": "code",
   "execution_count": 14,
   "metadata": {},
   "outputs": [
    {
     "data": {
      "text/plain": [
       "2743973"
      ]
     },
     "execution_count": 14,
     "metadata": {},
     "output_type": "execute_result"
    }
   ],
   "source": [
    "randoms.shape[0]/100"
   ]
  },
  {
   "cell_type": "code",
   "execution_count": 11,
   "metadata": {
    "collapsed": true
   },
   "outputs": [],
   "source": [
    "config_fname = 'xi_cosmo_trainer.yaml'\n",
    "\n",
    "RR = np.loadtxt(path.join(output_dir, 'RR.npy'))[0]\n",
    "\n",
    "with open(path.join(output_dir, config_fname), 'r') as ymlfile:\n",
    "    cfg = yaml.load(ymlfile)\n",
    "\n",
    "nd = float(cfg['HOD']['fixed_nd'] )\n",
    "min_ptcl = int(cfg['HOD']['min_ptcl'])\n",
    "r_bins = np.array(cfg['observation']['bins'] ).astype(float)\n",
    "\n",
    "hod_param_ranges =  cfg['HOD']['ordered_params']\n",
    "\n",
    "\n",
    "logMmin_bounds = hod_param_ranges['logMmin']\n",
    "\n",
    "\n",
    "del hod_param_ranges['logMmin']"
   ]
  },
  {
   "cell_type": "code",
   "execution_count": 12,
   "metadata": {
    "collapsed": true
   },
   "outputs": [],
   "source": [
    "def make_LHC(ordered_params, N, seed = None):\n",
    "\n",
    "    if seed is None:\n",
    "        seed = int(time())\n",
    "    np.random.seed(seed)\n",
    "\n",
    "    points = []\n",
    "    # by linspacing each parameter and shuffling, I ensure there is only one point in each row, in each dimension.\n",
    "    for plow, phigh in ordered_params.itervalues():\n",
    "        point = np.linspace(plow, phigh, num=N)\n",
    "        np.random.shuffle(point)  # makes the cube random.\n",
    "        points.append(point)\n",
    "    return np.stack(points).T\n",
    "\n",
    "\n",
    "def add_logMmin(hod_params, cat):\n",
    "\n",
    "    hod_params['logMmin'] = 13.0 #initial guess\n",
    "    #cat.populate(hod_params) #may be overkill, but will ensure params are written everywhere\n",
    "    def func(logMmin, hod_params):\n",
    "        hod_params.update({'logMmin':logMmin})\n",
    "        return (cat.calc_analytic_nd(hod_params, min_ptcl = min_ptcl) - nd)**2\n",
    "\n",
    "    res = minimize_scalar(func, bounds = logMmin_bounds, args = (hod_params,), options = {'maxiter':100}, method = 'Bounded')\n",
    "\n",
    "    # assuming this doens't fail\n",
    "    #print 'logMmin', res.x\n",
    "    hod_params['logMmin'] = res.x"
   ]
  },
  {
   "cell_type": "code",
   "execution_count": 13,
   "metadata": {},
   "outputs": [
    {
     "name": "stdout",
     "output_type": "stream",
     "text": [
      "0.632317\n"
     ]
    }
   ],
   "source": [
    "from pearce.mocks.kittens import TestBox\n",
    "cat2 = TestBox(boxno = 0, realization = 0, system = 'sherlock')\n",
    "print cat2.h"
   ]
  },
  {
   "cell_type": "code",
   "execution_count": 14,
   "metadata": {
    "collapsed": true
   },
   "outputs": [],
   "source": [
    "def compute_obs(cat, rbins, randoms, RR=RR):#, rand_scalecut = 1.0 ,  n_rands= [10, 5, 5], n_sub = 3, RR=RR):\n",
    "#np.random.seed(int(time()))\n",
    "\n",
    "    n_cores = 1# cat._check_cores(4)#16)\n",
    "\n",
    "    x_g, y_g, z_g = [cat.model.mock.galaxy_table[c] for c in ['x', 'y', 'z']]\n",
    "#pos_g = return_xyz_formatted_array(x_g, y_g, z_g, period=cat.Lbox)\n",
    "    pos_g = np.vstack([x_g, y_g, z_g]).T\n",
    "    #x_m, y_m, z_m = [cat.halocat.ptcl_table[c] for c in ['x', 'y', 'z']]\n",
    "    #pos_m = np.vstack([x_m, y_m, z_m]).T\n",
    "\n",
    "    rbins = np.array(rbins)\n",
    "\n",
    "    #cov_gg, cov_gg_gm, cov_gm = np.zeros((rbins.shape[0]-1, rbins.shape[0]-1))\n",
    "    #cov = np.zeros((rbins.shape[0]-1, rbins.shape[0]-1))\n",
    "\n",
    "    #for rb,idxs,  nr in zip([rbins_small,rbins_mid, rbins_large],\\\n",
    "    #                        [(0, len(rbins_small)), (boundary_idx-mid_size_ov2, boundary_idx+mid_size_ov2), len(rbins_small), len(rbins)],\\\n",
    "    #                        n_rands): #\n",
    "#for rb, nr in zip([rbins_large], n_rands): #\n",
    "    # nr removed\n",
    "    orig_randoms_h = 0.632317\n",
    "    xi_gg = tpcf(pos_g / cat.h, rbins,randoms=randoms*orig_randoms_h/cat.h, sample2 = None, period=None,\n",
    "                          num_threads=n_cores, estimator='Landy-Szalay',\\\n",
    "                          do_auto1 = True, do_cross = False, RR_precomputed=RR, NR_precomputed=randoms.shape[0])#, do_auto2 = False)\n",
    "    #xi_gg = tpcf(pos_g / cat.h, rbins, period=cat.Lbox/cat.h,\n",
    "    #                      num_threads=n_cores, estimator='Landy-Szalay',\\\n",
    "    #                      do_auto = True, do_cross = False)#, RR_precomputed=RR, NR_precomputed=randoms.shape[0])#, do_auto2 = False)\n",
    "\n",
    "    return xi_gg#np.r_[xi_gg, xi_gm]\n"
   ]
  },
  {
   "cell_type": "code",
   "execution_count": 15,
   "metadata": {
    "collapsed": true
   },
   "outputs": [],
   "source": [
    "# TODO seed here for constant HODs\n",
    "# TODO maybe just do 5, 10 may be overkill\n",
    "N = 10\n",
    "LHC = make_LHC(hod_param_ranges, N, 24)\n",
    "hod_dicts = [dict(zip(hod_param_ranges.keys(), vals)) for vals in LHC]"
   ]
  },
  {
   "cell_type": "code",
   "execution_count": null,
   "metadata": {
    "collapsed": true
   },
   "outputs": [],
   "source": [
    "randoms = np.load('/scratch/users/swmclau2/randoms_gm.npy')\n",
    "\n",
    "obs_vals = np.zeros((512, N, 2*(len(r_bins)-1)))\n",
    "#obs_vals = np.load('xi_gg_darksky_obs.npy')\n",
    "from itertools import product\n",
    "HOD = (Zheng07Cens, Zheng07Sats)\n",
    "\n",
    "#b1, b2, b3 = sys.argv[1], sys.argv[2], sys.argv[3]\n",
    "start_subbox = (0,0,0)#(b1,  b2, b3)"
   ]
  },
  {
   "cell_type": "code",
   "execution_count": null,
   "metadata": {},
   "outputs": [
    {
     "name": "stdout",
     "output_type": "stream",
     "text": [
      "('0', '0', '0')\n"
     ]
    },
    {
     "name": "stderr",
     "output_type": "stream",
     "text": [
      "/home/users/swmclau2/.local/lib/python2.7/site-packages/halotools/empirical_models/occupation_models/zheng07_components.py:323: UserWarning: You chose to input a ``cenocc_model``, but you set the \n",
      "``modulate_with_cenocc`` keyword to False, so your ``cenocc_model`` will have no impact on the model's behavior.\n",
      "Be sure this is what you intend before proceeding.\n",
      "Refer to the Zheng et al. (2007) composite model tutorial for details.\n",
      "\n",
      "  warnings.warn(msg)\n"
     ]
    },
    {
     "name": "stdout",
     "output_type": "stream",
     "text": [
      "0"
     ]
    }
   ],
   "source": [
    "start_idx = 64*int(start_subbox[0])+8*int(start_subbox[1])+int(start_subbox[2])\n",
    "for subbox_idx, subbox in enumerate(product(''.join([str(i) for i in xrange(8)]), repeat = 3)):\n",
    "    if subbox_idx < start_idx:\n",
    "        continue\n",
    "    print subbox\n",
    "    cat = DarkSky(int(''.join(subbox)), system = 'sherlock')\n",
    "    cat.load_model(1.0, HOD = HOD, hod_kwargs = {'modlulate_with_cenocc': True})\n",
    "    cat.load_catalog_no_cache(1.0, min_ptcl=min_ptcl, particles = False)#, downsample_factor = 1e-2)\n",
    "    for hod_idx, hod_params in enumerate(hod_dicts):\n",
    "        print hod_idx,\n",
    "        add_logMmin(hod_params, cat)\n",
    "        cat.populate(hod_params, min_ptcl = min_ptcl)\n",
    "        #sys.stdout.flush()\n",
    "        obs = compute_obs(cat, r_bins, randoms, RR)\n",
    "# TODO need to save all the outputs not just the last one dumdumdum \n",
    "        #obs_vals[subbox_idx, hod_idx] = obs\n",
    "        #np.save('xi_gg_gm_darksky_obs_%s%s%s.npy'%(b1,b2,b3), obs.squeeze())\n",
    "        #print 'Exiting.'\n",
    "        #from sys import exit\n",
    "        #exit(0)\n",
    "        break\n",
    "    break"
   ]
  },
  {
   "cell_type": "code",
   "execution_count": null,
   "metadata": {
    "collapsed": true
   },
   "outputs": [],
   "source": [
    "cat2.h, cat.h"
   ]
  },
  {
   "cell_type": "code",
   "execution_count": null,
   "metadata": {
    "collapsed": true
   },
   "outputs": [],
   "source": [
    "rpoints = (r_bins[1:] + r_bins[:-1])/2.0\n",
    "plt.plot(rpoints, obs.squeeze())\n",
    "plt.loglog()"
   ]
  },
  {
   "cell_type": "code",
   "execution_count": null,
   "metadata": {
    "collapsed": true
   },
   "outputs": [],
   "source": []
  }
 ],
 "metadata": {
  "kernelspec": {
   "display_name": "Python 2",
   "language": "python",
   "name": "python2"
  },
  "language_info": {
   "codemirror_mode": {
    "name": "ipython",
    "version": 2
   },
   "file_extension": ".py",
   "mimetype": "text/x-python",
   "name": "python",
   "nbconvert_exporter": "python",
   "pygments_lexer": "ipython2",
   "version": "2.7.13"
  }
 },
 "nbformat": 4,
 "nbformat_minor": 2
}

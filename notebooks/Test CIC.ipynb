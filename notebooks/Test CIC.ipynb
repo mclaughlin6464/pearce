{
 "cells": [
  {
   "cell_type": "markdown",
   "metadata": {},
   "source": [
    "I fixed the TPCF issues, but now the delta sigma projection integration is being troublesome. I'm gonna do them for a few rp_bins to figure out what is sensible agian. "
   ]
  },
  {
   "cell_type": "code",
   "execution_count": 1,
   "metadata": {
    "collapsed": true
   },
   "outputs": [],
   "source": [
    "from matplotlib import pyplot as plt\n",
    "%matplotlib inline\n",
    "import seaborn as sns\n",
    "sns.set()\n",
    "import matplotlib.colors as colors"
   ]
  },
  {
   "cell_type": "code",
   "execution_count": 2,
   "metadata": {
    "collapsed": true
   },
   "outputs": [],
   "source": [
    "import numpy as np\n",
    "from glob import glob\n",
    "from os import path"
   ]
  },
  {
   "cell_type": "code",
   "execution_count": 3,
   "metadata": {
    "collapsed": true
   },
   "outputs": [],
   "source": [
    "from pearce.mocks.kittens import DarkSky\n",
    "from halotools.mock_observables import tpcf# as halotools_tpcf\n",
    "from halotools.mock_observables import counts_in_cylinders\n",
    "from halotools.empirical_models import Zheng07Cens, Zheng07Sats\n",
    "from collections import OrderedDict\n",
    "from time import time\n",
    "from scipy.optimize import minimize_scalar\n",
    "import yaml"
   ]
  },
  {
   "cell_type": "code",
   "execution_count": 4,
   "metadata": {
    "collapsed": true
   },
   "outputs": [],
   "source": [
    "output_dir = './'# '/home/users/swmclau2/Git/pearce/bin/covmat/ds14_covmat/'"
   ]
  },
  {
   "cell_type": "code",
   "execution_count": 5,
   "metadata": {
    "collapsed": true
   },
   "outputs": [],
   "source": [
    "config_fname = 'xi_cosmo_trainer.yaml'\n",
    "\n",
    "with open(path.join(output_dir, config_fname), 'r') as ymlfile:\n",
    "    cfg = yaml.load(ymlfile)\n",
    "\n",
    "nd = float(cfg['HOD']['fixed_nd'] )\n",
    "min_ptcl = int(cfg['HOD']['min_ptcl'])\n",
    "r_bins = np.array(cfg['observation']['bins'] ).astype(float)\n",
    "\n",
    "hod_param_ranges =  cfg['HOD']['ordered_params']\n",
    "\n",
    "\n",
    "logMmin_bounds = hod_param_ranges['logMmin']\n",
    "\n",
    "\n",
    "del hod_param_ranges['logMmin']"
   ]
  },
  {
   "cell_type": "code",
   "execution_count": 6,
   "metadata": {
    "collapsed": true
   },
   "outputs": [],
   "source": [
    "def make_LHC(ordered_params, N, seed = None):\n",
    "\n",
    "    if seed is None:\n",
    "        seed = int(time())\n",
    "    np.random.seed(seed)\n",
    "\n",
    "    points = []\n",
    "    # by linspacing each parameter and shuffling, I ensure there is only one point in each row, in each dimension.\n",
    "    for plow, phigh in ordered_params.itervalues():\n",
    "        point = np.linspace(plow, phigh, num=N)\n",
    "        np.random.shuffle(point)  # makes the cube random.\n",
    "        points.append(point)\n",
    "    return np.stack(points).T\n",
    "\n",
    "\n",
    "def add_logMmin(hod_params, cat):\n",
    "\n",
    "    hod_params['logMmin'] = 13.0 #initial guess\n",
    "    #cat.populate(hod_params) #may be overkill, but will ensure params are written everywhere\n",
    "    def func(logMmin, hod_params):\n",
    "        hod_params.update({'logMmin':logMmin})\n",
    "        return (cat.calc_analytic_nd(hod_params, min_ptcl = min_ptcl) - nd)**2\n",
    "\n",
    "    res = minimize_scalar(func, bounds = logMmin_bounds, args = (hod_params,), options = {'maxiter':100}, method = 'Bounded')\n",
    "\n",
    "    # assuming this doens't fail\n",
    "    #print 'logMmin', res.x\n",
    "    hod_params['logMmin'] = res.x"
   ]
  },
  {
   "cell_type": "code",
   "execution_count": 7,
   "metadata": {
    "collapsed": false
   },
   "outputs": [],
   "source": [
    "from pearce.mocks.kittens import TestBox\n",
    "cat = TestBox(boxno = 0, realization = 0, system = 'ki-ls')\n",
    "cat.load(1.0, HOD='zheng07', particles = True, downsample_factor = 1e-2)"
   ]
  },
  {
   "cell_type": "code",
   "execution_count": 8,
   "metadata": {
    "collapsed": true
   },
   "outputs": [],
   "source": [
    "from halotools.mock_observables import return_xyz_formatted_array"
   ]
  },
  {
   "cell_type": "code",
   "execution_count": 21,
   "metadata": {
    "collapsed": true
   },
   "outputs": [],
   "source": [
    "# TODO seed here for constant HODs\n",
    "# TODO maybe just do 5, 10 may be overkill\n",
    "N = 10\n",
    "LHC = make_LHC(hod_param_ranges, N, 24)\n",
    "hod_dicts = [dict(zip(hod_param_ranges.keys(), vals)) for vals in LHC]\n",
    "\n",
    "n_cores = 1\n",
    "bins = np.arange(1, 101, 5)"
   ]
  },
  {
   "cell_type": "code",
   "execution_count": 23,
   "metadata": {
    "collapsed": false
   },
   "outputs": [
    {
     "data": {
      "image/png": "[encoded data removed]",
      "text/plain": [
       "<matplotlib.figure.Figure at 0x7f35bd660910>"
      ]
     },
     "metadata": {},
     "output_type": "display_data"
    }
   ],
   "source": [
    "for hd in hod_dicts:\n",
    "    cat.populate(hd)\n",
    "\n",
    "    x_g, y_g, z_g = [cat.model.mock.galaxy_table[c] for c in ['x', 'y', 'z']]\n",
    "    pos_g = return_xyz_formatted_array(x_g, y_g, z_g, period=cat.Lbox).astype(float)\n",
    "\n",
    "    cic = counts_in_cylinders(pos_g, pos_g, proj_search_radius = 2,\n",
    "                   cylinder_half_length = 10, \n",
    "                   period=cat.Lbox, num_threads=n_cores)\n",
    "    #print np.max(cic)\n",
    "    hist, _ = np.histogram(cic, bins = bins, density=True)\n",
    "    hist[hist<=0] = 1e-8\n",
    "    \n",
    "    plt.plot(bins[:-1],hist, alpha = 0.5) \n",
    "\n",
    "plt.yscale('log')\n",
    "plt.show();"
   ]
  },
  {
   "cell_type": "code",
   "execution_count": null,
   "metadata": {
    "collapsed": true
   },
   "outputs": [],
   "source": []
  },
  {
   "cell_type": "code",
   "execution_count": null,
   "metadata": {
    "collapsed": true
   },
   "outputs": [],
   "source": []
  }
 ],
 "metadata": {
  "kernelspec": {
   "display_name": "Python [default]",
   "language": "python",
   "name": "python2"
  },
  "language_info": {
   "codemirror_mode": {
    "name": "ipython",
    "version": 2
   },
   "file_extension": ".py",
   "mimetype": "text/x-python",
   "name": "python",
   "nbconvert_exporter": "python",
   "pygments_lexer": "ipython2",
   "version": "2.7.13"
  }
 },
 "nbformat": 4,
 "nbformat_minor": 2
}

{
 "cells": [
  {
   "cell_type": "markdown",
   "metadata": {},
   "source": [
    "I fixed the TPCF issues, but now the delta sigma projection integration is being troublesome. I'm gonna do them for a few rp_bins to figure out what is sensible agian. "
   ]
  },
  {
   "cell_type": "code",
   "execution_count": 1,
   "metadata": {
    "collapsed": true
   },
   "outputs": [],
   "source": [
    "from matplotlib import pyplot as plt\n",
    "%matplotlib inline\n",
    "import seaborn as sns\n",
    "sns.set()\n",
    "import matplotlib.colors as colors"
   ]
  },
  {
   "cell_type": "code",
   "execution_count": 2,
   "metadata": {
    "collapsed": true
   },
   "outputs": [],
   "source": [
    "import numpy as np\n",
    "from glob import glob\n",
    "from os import path"
   ]
  },
  {
   "cell_type": "code",
   "execution_count": 3,
   "metadata": {
    "collapsed": true
   },
   "outputs": [],
   "source": [
    "from pearce.mocks.kittens import TestBox, TrainingBox\n",
    "from halotools.mock_observables import tpcf# as halotools_tpcf\n",
    "from halotools.mock_observables import counts_in_cylinders\n",
    "from halotools.empirical_models import Zheng07Cens, Zheng07Sats\n",
    "from collections import OrderedDict\n",
    "from time import time\n",
    "from scipy.optimize import minimize_scalar\n",
    "import yaml"
   ]
  },
  {
   "cell_type": "code",
   "execution_count": 4,
   "metadata": {
    "collapsed": true
   },
   "outputs": [],
   "source": [
    "output_dir = './'# '/home/users/swmclau2/Git/pearce/bin/covmat/ds14_covmat/'"
   ]
  },
  {
   "cell_type": "code",
   "execution_count": 5,
   "metadata": {
    "collapsed": true
   },
   "outputs": [],
   "source": [
    "config_fname = 'xi_cosmo_trainer.yaml'\n",
    "\n",
    "with open(path.join(output_dir, config_fname), 'r') as ymlfile:\n",
    "    cfg = yaml.load(ymlfile)\n",
    "\n",
    "nd = float(cfg['HOD']['fixed_nd'] )\n",
    "min_ptcl = int(cfg['HOD']['min_ptcl'])\n",
    "r_bins = np.array(cfg['observation']['bins'] ).astype(float)\n",
    "\n",
    "hod_param_ranges =  cfg['HOD']['ordered_params']\n",
    "\n",
    "\n",
    "logMmin_bounds = hod_param_ranges['logMmin']\n",
    "\n",
    "\n",
    "del hod_param_ranges['logMmin']"
   ]
  },
  {
   "cell_type": "code",
   "execution_count": 6,
   "metadata": {
    "collapsed": true
   },
   "outputs": [],
   "source": [
    "def make_LHC(ordered_params, N, seed = None):\n",
    "\n",
    "    if seed is None:\n",
    "        seed = int(time())\n",
    "    np.random.seed(seed)\n",
    "\n",
    "    points = []\n",
    "    # by linspacing each parameter and shuffling, I ensure there is only one point in each row, in each dimension.\n",
    "    for plow, phigh in ordered_params.itervalues():\n",
    "        point = np.linspace(plow, phigh, num=N)\n",
    "        np.random.shuffle(point)  # makes the cube random.\n",
    "        points.append(point)\n",
    "    return np.stack(points).T\n",
    "\n",
    "\n",
    "def add_logMmin(hod_params, cat):\n",
    "\n",
    "    hod_params['logMmin'] = 13.0 #initial guess\n",
    "    #cat.populate(hod_params) #may be overkill, but will ensure params are written everywhere\n",
    "    def func(logMmin, hod_params):\n",
    "        hod_params.update({'logMmin':logMmin})\n",
    "        return (cat.calc_analytic_nd(hod_params, min_ptcl = min_ptcl) - nd)**2\n",
    "\n",
    "    res = minimize_scalar(func, bounds = logMmin_bounds, args = (hod_params,), options = {'maxiter':100}, method = 'Bounded')\n",
    "\n",
    "    # assuming this doens't fail\n",
    "    #print 'logMmin', res.x\n",
    "    hod_params['logMmin'] = res.x"
   ]
  },
  {
   "cell_type": "code",
   "execution_count": 7,
   "metadata": {
    "collapsed": false
   },
   "outputs": [],
   "source": [
    "#, particles = False, downsample_factor = 1e-2)"
   ]
  },
  {
   "cell_type": "code",
   "execution_count": 8,
   "metadata": {
    "collapsed": true
   },
   "outputs": [],
   "source": [
    "from halotools.mock_observables import return_xyz_formatted_array"
   ]
  },
  {
   "cell_type": "code",
   "execution_count": 9,
   "metadata": {
    "collapsed": true
   },
   "outputs": [],
   "source": [
    "# TODO seed here for constant HODs\n",
    "# TODO maybe just do 5, 10 may be overkill\n",
    "np.random.seed(0)\n",
    "N = 5\n",
    "LHC = make_LHC(hod_param_ranges, N, 24)\n",
    "hod_dicts = [dict(zip(hod_param_ranges.keys(), vals)) for vals in LHC]\n",
    "\n",
    "n_cores = 1\n",
    "bins = np.r_[np.arange(1,10), np.round(np.logspace(1,2,7))]"
   ]
  },
  {
   "cell_type": "code",
   "execution_count": 10,
   "metadata": {
    "collapsed": false
   },
   "outputs": [
    {
     "data": {
      "text/plain": [
       "array([  1.,   2.,   3.,   4.,   5.,   6.,   7.,   8.,   9.,  10.,  15.,\n",
       "        22.,  32.,  46.,  68., 100.])"
      ]
     },
     "execution_count": 10,
     "metadata": {},
     "output_type": "execute_result"
    }
   ],
   "source": [
    "bins"
   ]
  },
  {
   "cell_type": "code",
   "execution_count": 11,
   "metadata": {
    "collapsed": false
   },
   "outputs": [],
   "source": [
    "def calc_cics(cat, hod_dicts):\n",
    "    cics = np.zeros((len(hod_dicts), bins.shape[0]-1))\n",
    "    for i, hd in enumerate(hod_dicts):\n",
    "        cat.populate(hd)\n",
    "\n",
    "        x_g, y_g, z_g = [cat.model.mock.galaxy_table[c] for c in ['x', 'y', 'z']]\n",
    "        pos_g = return_xyz_formatted_array(x_g, y_g, z_g, period=cat.Lbox).astype(float)\n",
    "\n",
    "        cic = counts_in_cylinders(pos_g, pos_g, proj_search_radius = 2,\n",
    "                       cylinder_half_length = 10, \n",
    "                       period=cat.Lbox, num_threads=n_cores)\n",
    "        #print np.max(cic)\n",
    "        hist, _ = np.histogram(cic, bins = bins, density=True)\n",
    "        cics[i] = hist\n",
    "        \n",
    "    return cics"
   ]
  },
  {
   "cell_type": "raw",
   "metadata": {
    "collapsed": false,
    "scrolled": true
   },
   "source": [
    "train_cics = np.zeros((40, len(hod_dicts), bins.shape[0]-1))\n",
    "for i in xrange(40):\n",
    "    print i\n",
    "    cat = TrainingBox(boxno = i, system = 'ki-ls')\n",
    "    cat.load(1.0, HOD='zheng07')\n",
    "    train_cics[i] = calc_cics(cat, hod_dicts)"
   ]
  },
  {
   "cell_type": "raw",
   "metadata": {
    "collapsed": false
   },
   "source": [
    "test_cics = np.zeros((35, len(hod_dicts), bins.shape[0]-1))\n",
    "for i in xrange(7):\n",
    "    for j in xrange(5):\n",
    "        print i,j\n",
    "        cat = TestBox(boxno = i, realization=j system = 'ki-ls')\n",
    "        cat.load(1.0, HOD='zheng07')\n",
    "        test_cics[i*5+j] = calc_cics(cat, hod_dicts)"
   ]
  },
  {
   "cell_type": "code",
   "execution_count": 12,
   "metadata": {
    "collapsed": true
   },
   "outputs": [],
   "source": [
    "train_cics = np.load('/u/ki/swmclau2/Git/pearce/bin/cic/train_cics.npy')\n",
    "test_cics = np.load('/u/ki/swmclau2/Git/pearce/bin/cic/test_cics.npy')"
   ]
  },
  {
   "cell_type": "code",
   "execution_count": 26,
   "metadata": {
    "collapsed": false
   },
   "outputs": [],
   "source": [
    "hod_idx = 0"
   ]
  },
  {
   "cell_type": "code",
   "execution_count": 27,
   "metadata": {
    "collapsed": false
   },
   "outputs": [
    {
     "data": {
      "image/png": "[encoded data removed]",
      "text/plain": [
       "<matplotlib.figure.Figure at 0x7fadc5d8d4d0>"
      ]
     },
     "metadata": {},
     "output_type": "display_data"
    }
   ],
   "source": [
    "plt.plot(bins[:-1], train_cics[:,hod_idx,:].mean(axis = 0), color = 'b', label = 'Train')\n",
    "plt.plot(bins[:-1], test_cics[:,hod_idx,:].mean(axis = 0), color = 'r', label = 'Test')\n",
    "\n",
    "plt.loglog();"
   ]
  },
  {
   "cell_type": "code",
   "execution_count": 25,
   "metadata": {
    "collapsed": false
   },
   "outputs": [
    {
     "data": {
      "image/png": "[encoded data removed]",
      "text/plain": [
       "<matplotlib.figure.Figure at 0x7fadc5efca50>"
      ]
     },
     "metadata": {},
     "output_type": "display_data"
    }
   ],
   "source": [
    "plt.plot(bins[:-1], train_cics[:,hod_idx,:].T, alpha = 0.3, color = 'b', label = 'Train')\n",
    "plt.plot(bins[:-1], test_cics[:,hod_idx,:].T, alpha = 0.3, color = 'r', label = 'Test')\n",
    "\n",
    "plt.loglog();"
   ]
  },
  {
   "cell_type": "code",
   "execution_count": null,
   "metadata": {
    "collapsed": true
   },
   "outputs": [],
   "source": []
  }
 ],
 "metadata": {
  "kernelspec": {
   "display_name": "Python [default]",
   "language": "python",
   "name": "python2"
  },
  "language_info": {
   "codemirror_mode": {
    "name": "ipython",
    "version": 2
   },
   "file_extension": ".py",
   "mimetype": "text/x-python",
   "name": "python",
   "nbconvert_exporter": "python",
   "pygments_lexer": "ipython2",
   "version": "2.7.13"
  }
 },
 "nbformat": 4,
 "nbformat_minor": 2
}

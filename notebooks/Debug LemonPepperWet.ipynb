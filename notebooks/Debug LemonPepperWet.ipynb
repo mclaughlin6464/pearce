{
 "cells": [
  {
   "cell_type": "markdown",
   "metadata": {},
   "source": [
    "Some of my emu optimizations have poor performance, and I want to make some plots to see if there is a bug I should be fixing. "
   ]
  },
  {
   "cell_type": "code",
   "execution_count": 16,
   "metadata": {
    "collapsed": false
   },
   "outputs": [
    {
     "name": "stdout",
     "output_type": "stream",
     "text": [
      "The autoreload extension is already loaded. To reload it, use:\n",
      "  %reload_ext autoreload\n"
     ]
    }
   ],
   "source": [
    "%load_ext autoreload\n",
    "%autoreload 2"
   ]
  },
  {
   "cell_type": "code",
   "execution_count": 17,
   "metadata": {
    "collapsed": false
   },
   "outputs": [],
   "source": [
    "import matplotlib\n",
    "#matplotlib.use('Agg')\n",
    "from matplotlib import pyplot as plt\n",
    "%matplotlib inline\n",
    "import seaborn as sns\n",
    "sns.set()"
   ]
  },
  {
   "cell_type": "code",
   "execution_count": 18,
   "metadata": {
    "collapsed": true
   },
   "outputs": [],
   "source": [
    "from pearce.emulator import LemonPepperWet\n",
    "from itertools import product\n",
    "from GPy.kern import *\n",
    "import numpy as np\n",
    "from os import path\n",
    "from sys import argv\n",
    "import h5py"
   ]
  },
  {
   "cell_type": "raw",
   "metadata": {
    "collapsed": true
   },
   "source": [
    "training_file = '/u/ki/swmclau2/des/ds_hsab/PearceDsHSABCosmo.hdf5'\n",
    "assert path.isfile(training_file)\n",
    "test_file = '/u/ki/swmclau2/des/ds_hsab_test/PearceDsHSABCosmoTest.hdf5'\n",
    "assert path.isfile(test_file)"
   ]
  },
  {
   "cell_type": "code",
   "execution_count": 19,
   "metadata": {
    "collapsed": true
   },
   "outputs": [],
   "source": [
    "training_file = '/u/ki/swmclau2/des/ds_zheng07/PearceDsCosmo.hdf5'\n",
    "assert path.isfile(training_file)\n",
    "test_file = '/u/ki/swmclau2/des/ds_zheng07_test/PearceDsCosmoTest.hdf5'\n",
    "assert path.isfile(test_file)"
   ]
  },
  {
   "cell_type": "code",
   "execution_count": 20,
   "metadata": {
    "collapsed": true
   },
   "outputs": [],
   "source": [
    "with h5py.File(training_file, 'r') as f:\n",
    "    HOD_params = len(f.attrs['hod_param_names'])"
   ]
  },
  {
   "cell_type": "raw",
   "metadata": {},
   "source": [
    "emu.scale_bin_centers[0]"
   ]
  },
  {
   "cell_type": "code",
   "execution_count": 21,
   "metadata": {
    "collapsed": true
   },
   "outputs": [],
   "source": [
    "fixed_params = {'z':0.0}#, 'r':0.11972916}"
   ]
  },
  {
   "cell_type": "code",
   "execution_count": 22,
   "metadata": {
    "collapsed": false
   },
   "outputs": [],
   "source": [
    "cosmo_idx, hod_idx = 2,0\n",
    "cosmo_kernels = [Linear(input_dim=7, ARD=True), RBF(input_dim=7, ARD=True), Linear(input_dim=7, ARD=True) + RBF(input_dim=7, ARD=True), Linear(input_dim=7, ARD=True) + Matern32(input_dim=7, ARD=True), \\\n",
    "          Matern32(input_dim=7, ARD=True)+RBF(input_dim=7, ARD=True) + Bias(input_dim=7)]\n",
    "HOD_kernels = [ Matern32(input_dim=HOD_params, ARD=True), RBF(input_dim=HOD_params, ARD=True) + Linear(input_dim=HOD_params, ARD=True), Matern32(input_dim=HOD_params, ARD=True)+RBF(input_dim=HOD_params, ARD=True) + Bias(input_dim=HOD_params)\\\n",
    "               , RBF(input_dim=HOD_params, ARD=True) +Bias(input_dim=HOD_params)]\n",
    "\n",
    "#k = (cosmo_kernels[3], HOD_kernels[0])\n",
    "k = (cosmo_kernels[cosmo_idx], HOD_kernels[hod_idx], RBF(input_dim=1, ARD=True)+ Bias(input_dim=1))"
   ]
  },
  {
   "cell_type": "code",
   "execution_count": 23,
   "metadata": {
    "collapsed": true
   },
   "outputs": [],
   "source": [
    "hyperparams = hyperparams = {'kernel': k , \\\n",
    "               'optimize': True}"
   ]
  },
  {
   "cell_type": "code",
   "execution_count": 24,
   "metadata": {
    "collapsed": false
   },
   "outputs": [
    {
     "name": "stdout",
     "output_type": "stream",
     "text": [
      "(40, 7) (1000, 5) (18, 1)\n"
     ]
    },
    {
     "name": "stderr",
     "output_type": "stream",
     "text": [
      " /u/ki/swmclau2/.local/lib/python2.7/site-packages/paramz/transformations.py:111: RuntimeWarning:overflow encountered in expm1\n"
     ]
    }
   ],
   "source": [
    "emu = LemonPepperWet(training_file,# hyperparams=hyperparams,\n",
    "                     fixed_params = fixed_params, downsample_factor = 1.0)"
   ]
  },
  {
   "cell_type": "code",
   "execution_count": 25,
   "metadata": {
    "collapsed": false
   },
   "outputs": [
    {
     "name": "stderr",
     "output_type": "stream",
     "text": [
      " /u/ki/swmclau2/.local/lib/python2.7/site-packages/pearce/emulator/emu.py:2944: H5pyDeprecationWarning:The default file mode will change to 'r' (read-only) in h5py 3.0. To suppress this warning, pass the mode you need to h5py.File(), or set the global default h5.get_config().default_file_mode, or set the environment variable H5PY_DEFAULT_READONLY=1. Available modes are: 'r', 'r+', 'w', 'w-'/'x', 'a'. See the docs for details.\n"
     ]
    }
   ],
   "source": [
    "emu.save_as_default_kernel()"
   ]
  },
  {
   "cell_type": "code",
   "execution_count": 26,
   "metadata": {
    "collapsed": false
   },
   "outputs": [
    {
     "data": {
      "text/plain": [
       "(40, 1000, 18)"
      ]
     },
     "execution_count": 26,
     "metadata": {},
     "output_type": "execute_result"
    }
   ],
   "source": [
    "emu.y.shape"
   ]
  },
  {
   "cell_type": "code",
   "execution_count": 27,
   "metadata": {
    "collapsed": false
   },
   "outputs": [
    {
     "name": "stdout",
     "output_type": "stream",
     "text": [
      "(40, 7)\n",
      "(1000, 5)\n",
      "(18, 1)\n"
     ]
    }
   ],
   "source": [
    "print emu._emulator.X0.shape\n",
    "print emu._emulator.X1.shape\n",
    "print emu._emulator.X2.shape"
   ]
  },
  {
   "cell_type": "code",
   "execution_count": 28,
   "metadata": {
    "collapsed": false,
    "scrolled": true
   },
   "outputs": [],
   "source": [
    "pred_y, data_y = emu.goodness_of_fit(test_file, statistic = None)"
   ]
  },
  {
   "cell_type": "raw",
   "metadata": {},
   "source": [
    "pred_y = pred_y.squeeze()\n",
    "pred_y = np.swapaxes(pred_y, 0, 1)\n",
    "pred_y = pred_y.reshape((-1, 18),order ='F')"
   ]
  },
  {
   "cell_type": "raw",
   "metadata": {},
   "source": [
    "# data_y = data_y.reshape((-1, 18), order = 'F')"
   ]
  },
  {
   "cell_type": "raw",
   "metadata": {},
   "source": [
    "pred_y, data_y = pred_y.T, data_y.T"
   ]
  },
  {
   "cell_type": "code",
   "execution_count": 29,
   "metadata": {
    "collapsed": false
   },
   "outputs": [
    {
     "data": {
      "image/png": "[encoded data removed]",
      "text/plain": [
       "<matplotlib.figure.Figure at 0x7f1f0995d710>"
      ]
     },
     "metadata": {},
     "output_type": "display_data"
    }
   ],
   "source": [
    "idx = np.random.randint(0, 3500)\n",
    "plt.plot(emu.scale_bin_centers, data_y[:,idx], label = 'Data')\n",
    "plt.plot(emu.scale_bin_centers, pred_y[:,idx], label = 'Emu')\n",
    "plt.legend(loc='best')\n",
    "plt.xscale('log')"
   ]
  },
  {
   "cell_type": "code",
   "execution_count": 30,
   "metadata": {
    "collapsed": false
   },
   "outputs": [
    {
     "data": {
      "image/png": "[encoded data removed]",
      "text/plain": [
       "<matplotlib.figure.Figure at 0x7f1f0daf2a10>"
      ]
     },
     "metadata": {},
     "output_type": "display_data"
    }
   ],
   "source": [
    "plt.plot(emu.scale_bin_centers, ((10**pred_y - 10**data_y)/(10**data_y)).mean(axis=1), label= 'Bias')\n",
    "plt.plot(emu.scale_bin_centers, (np.abs(10**pred_y - 10**data_y)/(10**data_y)).mean(axis =1), label = 'Acc')\n",
    "plt.plot(emu.scale_bin_centers, np.zeros_like(emu.scale_bin_centers))\n",
    "plt.xscale('log')\n",
    "plt.legend(loc='best')\n",
    "#plt.ylim([-0.05, 0.2])\n",
    "plt.show()\n",
    "# average over realizations"
   ]
  },
  {
   "cell_type": "code",
   "execution_count": 58,
   "metadata": {
    "collapsed": false
   },
   "outputs": [],
   "source": [
    "pred_y_rs= pred_y.reshape((len(emu.scale_bin_centers),5,7, -1), order = 'F')[:,0,:,:]\n",
    "data_y_rs= data_y.reshape((len(emu.scale_bin_centers),5,7, -1), order = 'F').mean(axis = 1)\n",
    "R = (10**pred_y_rs - 10**data_y_rs).reshape((18,-1), order = 'F')"
   ]
  },
  {
   "cell_type": "code",
   "execution_count": 59,
   "metadata": {
    "collapsed": false
   },
   "outputs": [
    {
     "name": "stdout",
     "output_type": "stream",
     "text": [
      "Yerr [0.07752582 0.06974877 0.05760022 0.04221729 0.03891663 0.06392238\n",
      " 0.09873114 0.14250404 0.18864993 0.22922431 0.25347687 0.25117421\n",
      " 0.22711211 0.19516557 0.16768022 0.14122506 0.1265593  0.1224677 ]\n",
      "**********\n"
     ]
    }
   ],
   "source": [
    "cov = R.dot(R.T)/(R.shape[1]-1)\n",
    "print 'Yerr', np.sqrt(np.diag(cov))/(10**data_y.mean(axis=1))\n",
    "print '*'*10\n",
    "\n",
    "#np.save(save_fname, cov)"
   ]
  },
  {
   "cell_type": "code",
   "execution_count": 60,
   "metadata": {
    "collapsed": true
   },
   "outputs": [],
   "source": [
    "from pearce.mocks import cat_dict\n",
    "np.random.seed(0)\n",
    "boxno = np.random.randint(0,7)\n",
    "hod_idx = np.random.randint(0,100)\n",
    "\n",
    "realization = 0\n",
    "cat = cat_dict['testbox'](boxno = boxno, realization = realization )#construct the specified catalog!"
   ]
  },
  {
   "cell_type": "code",
   "execution_count": 61,
   "metadata": {
    "collapsed": false
   },
   "outputs": [
    {
     "name": "stdout",
     "output_type": "stream",
     "text": [
      "47 4\n"
     ]
    }
   ],
   "source": [
    "print hod_idx, boxno"
   ]
  },
  {
   "cell_type": "code",
   "execution_count": 62,
   "metadata": {
    "collapsed": false
   },
   "outputs": [],
   "source": [
    "with h5py.File(test_file, 'r') as f:\n",
    "    hod_param_names = f.attrs['hod_param_names']\n",
    "    hod_param_vals = f.attrs['hod_param_vals'][hod_idx]\n",
    "    \n",
    "    cosmo_param_names = f.attrs['cosmo_param_names']\n",
    "    cosmo_param_vals = f.attrs['cosmo_param_vals'][boxno*5+realization]\n",
    "    \n",
    "    true_data = f['cosmo_no_%02d'%(boxno*5+realization)]['a_1.000']['obs'][hod_idx]\n",
    "\n",
    "hod_params = dict(zip(hod_param_names, hod_param_vals))\n",
    "\n",
    "#hod_params.update(dict(zip(cosmo_param_names, cosmo_param_vals)))"
   ]
  },
  {
   "cell_type": "code",
   "execution_count": 63,
   "metadata": {
    "collapsed": true
   },
   "outputs": [],
   "source": [
    "cpv = cat._get_cosmo_param_names_vals()\n",
    "\n",
    "cat_val_dict =  {key: val for key, val in zip(cpv[0], cpv[1])}"
   ]
  },
  {
   "cell_type": "code",
   "execution_count": 64,
   "metadata": {
    "collapsed": false
   },
   "outputs": [],
   "source": [
    "true_param_dict = cat_val_dict.copy()\n",
    "for hp, hv in hod_params.iteritems():\n",
    "    if hp == 'logMmin':\n",
    "        continue\n",
    "    true_param_dict[hp] = hv\n",
    "true_pred = emu.emulate_wrt_r(true_param_dict)[0]"
   ]
  },
  {
   "cell_type": "code",
   "execution_count": 65,
   "metadata": {
    "collapsed": true
   },
   "outputs": [],
   "source": [
    "rbc = emu.scale_bin_centers"
   ]
  },
  {
   "cell_type": "raw",
   "metadata": {
    "collapsed": false
   },
   "source": [
    "plt.plot(rbc, 10**true_pred, label = 'Emu')\n",
    "plt.plot(rbc, true_data, label = 'NB Calculation')\n",
    "plt.plot(rbc, 10**test_y, label = 'Testbox')\n",
    "plt.legend(loc ='best')\n",
    "plt.loglog();"
   ]
  },
  {
   "cell_type": "raw",
   "metadata": {
    "collapsed": false
   },
   "source": [
    "plt.plot(rbc, 10**true_pred/true_data, label = 'Emu')\n",
    "plt.plot(rbc, true_data/true_data, label = 'NB Calculation')\n",
    "plt.plot(rbc, 10**test_y/true_data, label = 'Testbox')\n",
    "plt.legend(loc ='best')\n",
    "plt.xscale('log');"
   ]
  },
  {
   "cell_type": "code",
   "execution_count": 66,
   "metadata": {
    "collapsed": false
   },
   "outputs": [
    {
     "data": {
      "image/png": "[encoded data removed]",
      "text/plain": [
       "<matplotlib.figure.Figure at 0x7f2bfc210150>"
      ]
     },
     "metadata": {},
     "output_type": "display_data"
    }
   ],
   "source": [
    "fig = plt.figure(figsize=(10,7))\n",
    "\n",
    "plt.plot(rbc, 10**true_pred/10**true_data,label = 'Emu at Truth', color ='k')\n",
    "#plt.plot(rbc, 10**pop_xi.mean(axis = 0), label = 'Sim' )\n",
    "#plt.errorbar(rbc, np.ones_like(true_data), yerr=yerr/true_data, label = 'Data')\n",
    "plt.plot(rbc, np.ones_like(true_data), label = 'Data')\n",
    "\n",
    "plt.xscale('log')\n",
    "plt.legend(loc='best')\n",
    "plt.show();"
   ]
  },
  {
   "cell_type": "code",
   "execution_count": 67,
   "metadata": {
    "collapsed": false
   },
   "outputs": [
    {
     "data": {
      "text/plain": [
       "['ombh2',\n",
       " 'omch2',\n",
       " 'w0',\n",
       " 'ns',\n",
       " 'ln10As',\n",
       " 'H0',\n",
       " 'Neff',\n",
       " 'logM1',\n",
       " 'logM0',\n",
       " 'sigma_logM',\n",
       " 'alpha',\n",
       " 'conc_gal_bias']"
      ]
     },
     "execution_count": 67,
     "metadata": {},
     "output_type": "execute_result"
    }
   ],
   "source": [
    "emu.get_param_names()"
   ]
  },
  {
   "cell_type": "code",
   "execution_count": 68,
   "metadata": {
    "collapsed": true
   },
   "outputs": [],
   "source": [
    "N = 100\n",
    "cmap = sns.color_palette(\"BrBG_d\", N)"
   ]
  },
  {
   "cell_type": "code",
   "execution_count": 69,
   "metadata": {
    "collapsed": false
   },
   "outputs": [
    {
     "ename": "KeyError",
     "evalue": "'Parameter mean_occupation_centrals_assembias_param1 could not be found.'",
     "output_type": "error",
     "traceback": [
      "\u001b[1;31m---------------------------------------------------------------------------\u001b[0m",
      "\u001b[1;31mKeyError\u001b[0m                                  Traceback (most recent call last)",
      "\u001b[1;32m<ipython-input-69-31011b75fa77>\u001b[0m in \u001b[0;36m<module>\u001b[1;34m()\u001b[0m\n\u001b[0;32m      1\u001b[0m \u001b[0mfig\u001b[0m \u001b[1;33m=\u001b[0m \u001b[0mplt\u001b[0m\u001b[1;33m.\u001b[0m\u001b[0mfigure\u001b[0m\u001b[1;33m(\u001b[0m\u001b[0mfigsize\u001b[0m\u001b[1;33m=\u001b[0m\u001b[1;33m(\u001b[0m\u001b[1;36m10\u001b[0m\u001b[1;33m,\u001b[0m\u001b[1;36m7\u001b[0m\u001b[1;33m)\u001b[0m\u001b[1;33m)\u001b[0m\u001b[1;33m\u001b[0m\u001b[0m\n\u001b[0;32m      2\u001b[0m \u001b[0mvaried_pname\u001b[0m \u001b[1;33m=\u001b[0m \u001b[1;34m'mean_occupation_centrals_assembias_param1'\u001b[0m\u001b[1;33m\u001b[0m\u001b[0m\n\u001b[1;32m----> 3\u001b[1;33m \u001b[0mlower\u001b[0m\u001b[1;33m,\u001b[0m \u001b[0mupper\u001b[0m \u001b[1;33m=\u001b[0m \u001b[0memu\u001b[0m\u001b[1;33m.\u001b[0m\u001b[0mget_param_bounds\u001b[0m\u001b[1;33m(\u001b[0m\u001b[0mvaried_pname\u001b[0m\u001b[1;33m)\u001b[0m\u001b[1;33m\u001b[0m\u001b[0m\n\u001b[0m\u001b[0;32m      4\u001b[0m \u001b[0mi\u001b[0m \u001b[1;33m=\u001b[0m \u001b[1;36m0\u001b[0m\u001b[1;33m\u001b[0m\u001b[0m\n\u001b[0;32m      5\u001b[0m \u001b[1;32mfor\u001b[0m \u001b[0mc\u001b[0m\u001b[1;33m,\u001b[0m \u001b[0mval\u001b[0m \u001b[1;32min\u001b[0m \u001b[0mzip\u001b[0m\u001b[1;33m(\u001b[0m\u001b[0mcmap\u001b[0m\u001b[1;33m,\u001b[0m \u001b[0mnp\u001b[0m\u001b[1;33m.\u001b[0m\u001b[0mlinspace\u001b[0m\u001b[1;33m(\u001b[0m\u001b[0mlower\u001b[0m\u001b[1;33m,\u001b[0m \u001b[0mupper\u001b[0m\u001b[1;33m,\u001b[0m \u001b[0mN\u001b[0m\u001b[1;33m)\u001b[0m \u001b[1;33m)\u001b[0m\u001b[1;33m:\u001b[0m\u001b[1;33m\u001b[0m\u001b[0m\n",
      "\u001b[1;32m/u/ki/swmclau2/.local/lib/python2.7/site-packages/pearce/emulator/emu.pyc\u001b[0m in \u001b[0;36mget_param_bounds\u001b[1;34m(self, param)\u001b[0m\n\u001b[0;32m    437\u001b[0m             \u001b[1;32mreturn\u001b[0m \u001b[0mself\u001b[0m\u001b[1;33m.\u001b[0m\u001b[0m_ordered_params\u001b[0m\u001b[1;33m[\u001b[0m\u001b[0mparam\u001b[0m\u001b[1;33m]\u001b[0m\u001b[1;33m\u001b[0m\u001b[0m\n\u001b[0;32m    438\u001b[0m         \u001b[1;32mexcept\u001b[0m \u001b[0mKeyError\u001b[0m\u001b[1;33m:\u001b[0m\u001b[1;33m\u001b[0m\u001b[0m\n\u001b[1;32m--> 439\u001b[1;33m             \u001b[1;32mraise\u001b[0m \u001b[0mKeyError\u001b[0m\u001b[1;33m(\u001b[0m\u001b[1;34m\"Parameter %s could not be found.\"\u001b[0m \u001b[1;33m%\u001b[0m \u001b[0mparam\u001b[0m\u001b[1;33m)\u001b[0m\u001b[1;33m\u001b[0m\u001b[0m\n\u001b[0m\u001b[0;32m    440\u001b[0m \u001b[1;33m\u001b[0m\u001b[0m\n\u001b[0;32m    441\u001b[0m     \u001b[1;31m# TODO Should I unify some syntax between this and the one below?\u001b[0m\u001b[1;33m\u001b[0m\u001b[1;33m\u001b[0m\u001b[0m\n",
      "\u001b[1;31mKeyError\u001b[0m: 'Parameter mean_occupation_centrals_assembias_param1 could not be found.'"
     ]
    },
    {
     "data": {
      "text/plain": [
       "<matplotlib.figure.Figure at 0x7f2bff401210>"
      ]
     },
     "metadata": {},
     "output_type": "display_data"
    }
   ],
   "source": [
    "fig = plt.figure(figsize=(10,7))\n",
    "varied_pname = 'mean_occupation_centrals_assembias_param1'\n",
    "lower, upper = emu.get_param_bounds(varied_pname)\n",
    "i = 0\n",
    "for c, val in zip(cmap, np.linspace(lower, upper, N) ):\n",
    "    #print i, val\n",
    "    #i+=1\n",
    "    param_dict = true_param_dict.copy()\n",
    "    param_dict[varied_pname] = val\n",
    "    pred = emu.emulate_wrt_r(param_dict)[0]\n",
    "    plt.plot(rbc, (10**pred-10**true_data[-len(emu.scale_bin_centers):])/10**true_data[-len(emu.scale_bin_centers):],\\\n",
    "             alpha = 0.5,label = val, color =c)\n",
    "    \n",
    "pred = emu.emulate_wrt_r(true_param_dict)[0]\n",
    "plt.plot(rbc, (10**pred-10**true_data[-len(emu.scale_bin_centers):])/10**true_data[-len(emu.scale_bin_centers):], label = 'Truth', color = 'k')    \n",
    "#plt.errorbar(rbc, np.zeros_like(true_data[-len(emu.scale_bin_centers):]), yerr=yerr/true_data[-len(emu.scale_bin_centers):], label = 'Data')\n",
    "#plt.loglog()\n",
    "plt.xscale('log')\n",
    "#plt.legend(loc='best')\n",
    "plt.show();"
   ]
  },
  {
   "cell_type": "code",
   "execution_count": null,
   "metadata": {
    "collapsed": false
   },
   "outputs": [],
   "source": [
    "train_y = (emu.y.T*emu._y_std + emu._y_mean).T"
   ]
  },
  {
   "cell_type": "code",
   "execution_count": null,
   "metadata": {
    "collapsed": true
   },
   "outputs": [],
   "source": [
    "test_y = data_y.reshape((18, 35, 100))"
   ]
  },
  {
   "cell_type": "code",
   "execution_count": null,
   "metadata": {
    "collapsed": false
   },
   "outputs": [],
   "source": [
    "plt.plot(emu.scale_bin_centers, emu._y_mean)\n",
    "plt.plot(emu.scale_bin_centers, test_y.mean(axis = (1,2)))\n",
    "plt.xscale('log')"
   ]
  },
  {
   "cell_type": "code",
   "execution_count": null,
   "metadata": {
    "collapsed": true
   },
   "outputs": [],
   "source": []
  }
 ],
 "metadata": {
  "kernelspec": {
   "display_name": "Python [conda env:hodemulator]",
   "language": "python",
   "name": "conda-env-hodemulator-py"
  },
  "language_info": {
   "codemirror_mode": {
    "name": "ipython",
    "version": 2
   },
   "file_extension": ".py",
   "mimetype": "text/x-python",
   "name": "python",
   "nbconvert_exporter": "python",
   "pygments_lexer": "ipython2",
   "version": "2.7.13"
  }
 },
 "nbformat": 4,
 "nbformat_minor": 0
}

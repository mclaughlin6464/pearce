{
 "cells": [
  {
   "cell_type": "code",
   "execution_count": 19,
   "metadata": {
    "collapsed": true
   },
   "outputs": [],
   "source": [
    "from time import time\n",
    "from multiprocessing import cpu_count, Pool\n",
    "import warnings\n",
    "from itertools import izip\n",
    "from os import path\n",
    "from ast import literal_eval\n",
    "\n",
    "import numpy as np\n",
    "import emcee as mc\n",
    "from scipy.linalg import inv\n",
    "import h5py\n",
    "\n",
    "from pearce.emulator import OriginalRecipe, ExtraCrispy, SpicyBuffalo, NashvilleHot"
   ]
  },
  {
   "cell_type": "code",
   "execution_count": 20,
   "metadata": {},
   "outputs": [],
   "source": [
    "lnprob = lambda x: 0"
   ]
  },
  {
   "cell_type": "code",
   "execution_count": 21,
   "metadata": {},
   "outputs": [],
   "source": [
    "num_params = 4\n",
    "nwalkers = 50\n",
    "pos0 = np.random.randn(nwalkers, num_params)"
   ]
  },
  {
   "cell_type": "raw",
   "metadata": {},
   "source": [
    "pool=Pool(processes=4)"
   ]
  },
  {
   "cell_type": "raw",
   "metadata": {},
   "source": [
    "sampler = mc.EnsembleSampler(nwalkers, num_params, lnprob, pool=pool)"
   ]
  },
  {
   "cell_type": "code",
   "execution_count": 22,
   "metadata": {},
   "outputs": [],
   "source": [
    "from pearce.inference import run_mcmc_config"
   ]
  },
  {
   "cell_type": "raw",
   "metadata": {},
   "source": [
    "rmi = run_mcmc_iterator([None], ['','','',''],[None], [np.eye(10)], np.arange(10),\\\n",
    "                     nwalkers=nwalkers, nsteps=100, nburn = 0)"
   ]
  },
  {
   "cell_type": "code",
   "execution_count": 31,
   "metadata": {
    "collapsed": true
   },
   "outputs": [],
   "source": [
    "fname = '/scratch/users/swmclau2/PearceMCMC/pearce_mcmc_nh_gg.hdf5'"
   ]
  },
  {
   "cell_type": "code",
   "execution_count": 40,
   "metadata": {
    "scrolled": true
   },
   "outputs": [
    {
     "name": "stdout",
     "output_type": "stream",
     "text": [
      "Emu\n",
      "Emu\n",
      "Emu\n",
      "Emu\n",
      "Emu\n",
      "Emu\n",
      "Emu\n",
      "Emu\n",
      "Emu\n",
      "Emu\n",
      "Emu\n",
      "Emu\n",
      "Emu\n",
      "Emu\n",
      "Emu\n",
      "Emu\n",
      "Emu\n",
      "Emu\n",
      "Emu\n",
      "Emu\n",
      "Emu\n",
      "Emu\n",
      "Emu\n",
      "Emu\n",
      "Emu\n",
      "Emu\n",
      "Emu\n",
      "Emu\n",
      "Emu\n",
      "Emu\n",
      "Emu\n",
      "Emu\n",
      "Emu\n",
      "Emu\n",
      "Emu\n",
      "Emu\n",
      "Emu\n",
      "Emu\n",
      "Emu\n",
      "Emu\n",
      "Emu\n",
      "Emu\n",
      "Emu\n",
      "Emu\n",
      "Emu\n",
      "Emu\n",
      "Emu\n",
      "Emu\n",
      "Emu\n",
      "Emu\n",
      "Emu\n",
      "Emu\n",
      "Emu\n",
      "Emu\n",
      "Emu\n",
      "Emu\n",
      "Emu\n",
      "Emu\n",
      "Emu\n",
      "Emu\n",
      "Emu\n",
      "Emu\n",
      "Emu\n",
      "Emu\n",
      "Emu\n",
      "Emu\n",
      "Emu\n",
      "Emu\n",
      "Emu\n",
      "Emu\n",
      "Emu\n",
      "Emu\n",
      "Emu\n",
      "Emu\n",
      "Emu\n",
      "Emu\n",
      "Emu\n",
      "Emu\n",
      "Emu\n",
      "Emu\n",
      "Emu\n",
      "Emu\n",
      "Emu\n",
      "Emu\n",
      "Emu\n",
      "Emu\n",
      "Emu\n",
      "Emu\n",
      "Emu\n",
      "Emu\n",
      "Emu\n",
      "Emu\n",
      "Emu\n",
      "Emu\n",
      "Emu\n",
      "Emu\n",
      "Emu\n",
      "Emu\n",
      "Emu\n",
      "Emu\n",
      "Emu\n",
      "Emu\n",
      "Emu\n",
      "Emu\n",
      "Emu\n",
      "Emu\n",
      "Emu\n",
      "Emu\n",
      "Emu\n",
      "Emu\n",
      "Emu\n",
      "Emu\n",
      "Emu\n",
      "Emu\n",
      "Emu\n",
      "Emu\n",
      "Emu\n",
      "Emu\n",
      "Emu\n",
      "Emu\n",
      "Emu\n",
      "Emu\n",
      "Emu\n",
      "Emu\n",
      "Emu\n",
      "Emu\n",
      "Emu\n",
      "Emu\n",
      "Emu\n",
      "Emu\n",
      "Emu\n",
      "Emu\n",
      "Emu\n",
      "Emu\n",
      "Emu\n",
      "Emu\n",
      "Emu\n",
      "Emu\n",
      "Emu\n",
      "Emu\n",
      "Emu\n",
      "Emu\n",
      "Emu\n",
      "Emu\n",
      "Emu\n",
      "Emu\n",
      "Emu\n",
      "Emu\n",
      "Emu\n",
      "Emu\n",
      "Emu\n",
      "Emu\n",
      "Emu\n",
      "Emu\n",
      "Emu\n",
      "Emu\n",
      "Emu\n",
      "Emu\n",
      "Emu\n",
      "Emu\n",
      "Emu\n",
      "Emu\n",
      "Emu\n",
      "Emu\n",
      "Emu\n",
      "Emu\n",
      "Emu\n"
     ]
    }
   ],
   "source": [
    "run_mcmc_config(fname)"
   ]
  },
  {
   "cell_type": "code",
   "execution_count": 44,
   "metadata": {
    "collapsed": true
   },
   "outputs": [],
   "source": [
    "import h5py"
   ]
  },
  {
   "cell_type": "code",
   "execution_count": 53,
   "metadata": {},
   "outputs": [],
   "source": [
    "f = h5py.File(fname, 'r')"
   ]
  },
  {
   "cell_type": "code",
   "execution_count": 54,
   "metadata": {},
   "outputs": [
    {
     "data": {
      "text/plain": [
       "50"
      ]
     },
     "execution_count": 54,
     "metadata": {},
     "output_type": "execute_result"
    }
   ],
   "source": [
    "f.attrs['nwalkers']"
   ]
  },
  {
   "cell_type": "code",
   "execution_count": 36,
   "metadata": {
    "collapsed": true
   },
   "outputs": [],
   "source": [
    "f.attrs['nsteps'] = 5"
   ]
  },
  {
   "cell_type": "code",
   "execution_count": 37,
   "metadata": {},
   "outputs": [
    {
     "data": {
      "text/plain": [
       "[u'emu_type',\n",
       " u'training_file',\n",
       " u'fixed_params',\n",
       " u'emu_hps',\n",
       " u'sim',\n",
       " u'obs',\n",
       " u'cov',\n",
       " u'nburn',\n",
       " u'seed',\n",
       " u'chain_fixed_params',\n",
       " u'nwalkers',\n",
       " u'nsteps',\n",
       " u'param_names']"
      ]
     },
     "execution_count": 37,
     "metadata": {},
     "output_type": "execute_result"
    }
   ],
   "source": [
    "f.attrs.keys()"
   ]
  },
  {
   "cell_type": "code",
   "execution_count": 43,
   "metadata": {},
   "outputs": [
    {
     "data": {
      "text/plain": [
       "array([[  0.02361925,   0.10700469,  -1.17617762, ...,   0.18557537,\n",
       "         14.5115366 ,   1.055632  ],\n",
       "       [  0.02239174,   0.10926513,  -0.85765904, ...,   0.21402553,\n",
       "         14.20062828,   0.88841033],\n",
       "       [  0.02254332,   0.10574937,  -1.0205977 , ...,   0.28405845,\n",
       "         14.29493618,   1.14422739],\n",
       "       ..., \n",
       "       [  0.02242335,   0.11394774,  -0.91191655, ...,   0.24203114,\n",
       "         14.32448864,   1.01942146],\n",
       "       [  0.02241263,   0.11718851,  -0.92839056, ...,   0.25440517,\n",
       "         14.46947861,   1.07101607],\n",
       "       [  0.02203491,   0.11678351,  -0.85468692, ...,   0.32152689,\n",
       "         14.34209156,   1.00782597]], dtype=float32)"
      ]
     },
     "execution_count": 43,
     "metadata": {},
     "output_type": "execute_result"
    }
   ],
   "source": [
    "f['chain'].value"
   ]
  },
  {
   "cell_type": "code",
   "execution_count": 55,
   "metadata": {
    "collapsed": true
   },
   "outputs": [],
   "source": [
    "f.close()"
   ]
  },
  {
   "cell_type": "code",
   "execution_count": null,
   "metadata": {
    "collapsed": true
   },
   "outputs": [],
   "source": [
    "f.attrs"
   ]
  }
 ],
 "metadata": {
  "kernelspec": {
   "display_name": "Python 2",
   "language": "python",
   "name": "python2"
  },
  "language_info": {
   "codemirror_mode": {
    "name": "ipython",
    "version": 2
   },
   "file_extension": ".py",
   "mimetype": "text/x-python",
   "name": "python",
   "nbconvert_exporter": "python",
   "pygments_lexer": "ipython2",
   "version": "2.7.13"
  }
 },
 "nbformat": 4,
 "nbformat_minor": 2
}

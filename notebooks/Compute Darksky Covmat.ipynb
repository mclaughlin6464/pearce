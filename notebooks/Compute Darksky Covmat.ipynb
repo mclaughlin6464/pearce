{
 "cells": [
  {
   "cell_type": "markdown",
   "metadata": {},
   "source": [
    "I computed realizations of multiple HODs for a few statistics in the darksky boxes. This notebook is gonna combine them into a jackknife covmat. It'll also add some estimate of the shape noise contribution. "
   ]
  },
  {
   "cell_type": "code",
   "execution_count": null,
   "metadata": {
    "collapsed": true
   },
   "outputs": [],
   "source": [
    "from matplotlib import pyplot as plt\n",
    "%matplotlib inline\n",
    "import seaborn as sns\n",
    "sns.set()\n",
    "import matplotlib.colors as colors"
   ]
  },
  {
   "cell_type": "code",
   "execution_count": null,
   "metadata": {
    "collapsed": true
   },
   "outputs": [],
   "source": [
    "cmap = sns.diverging_palette(240, 10, n=7, as_cmap = True)"
   ]
  },
  {
   "cell_type": "code",
   "execution_count": null,
   "metadata": {
    "collapsed": true
   },
   "outputs": [],
   "source": [
    "import numpy as np\n",
    "from glob import glob\n",
    "from os import path\n",
    "from copy import deepcopy"
   ]
  },
  {
   "cell_type": "code",
   "execution_count": null,
   "metadata": {
    "collapsed": true
   },
   "outputs": [],
   "source": [
    "#shape_noise_covmat = np.load('/u/ki/swmclau2/Git/pearce/bin/covmat/shape_noise.npy')\n",
    "shape_noise_covmat = np.load('./Hankel_transform/shape_noise.npy')"
   ]
  },
  {
   "cell_type": "code",
   "execution_count": null,
   "metadata": {},
   "outputs": [],
   "source": [
    "print np.sqrt(np.diag(shape_noise_covmat))"
   ]
  },
  {
   "cell_type": "code",
   "execution_count": null,
   "metadata": {
    "collapsed": true
   },
   "outputs": [],
   "source": [
    "darksky_h = 0.7036893781978598"
   ]
  },
  {
   "cell_type": "code",
   "execution_count": null,
   "metadata": {
    "collapsed": true
   },
   "outputs": [],
   "source": [
    "output_dir = '/home/users/swmclau2/Git/pearce/bin/covmat/ds14_covmat_v2/'"
   ]
  },
  {
   "cell_type": "code",
   "execution_count": null,
   "metadata": {},
   "outputs": [],
   "source": [
    "outputs = sorted(glob(path.join(output_dir, 'wp_ds_cic_darksky_obs_???_v2.npy')))\n",
    "print len(outputs)"
   ]
  },
  {
   "cell_type": "code",
   "execution_count": null,
   "metadata": {
    "collapsed": true
   },
   "outputs": [],
   "source": [
    "N = len(outputs) # Should be 512, but a few may not have finished. Should make sure that those get reestarted, but likely not super important\n",
    "all_outputs = np.zeros((N, 5,  2*18 + 14)) # num bins and num HODs "
   ]
  },
  {
   "cell_type": "code",
   "execution_count": null,
   "metadata": {},
   "outputs": [],
   "source": [
    "2*18+14"
   ]
  },
  {
   "cell_type": "code",
   "execution_count": null,
   "metadata": {
    "collapsed": true
   },
   "outputs": [],
   "source": [
    "for i,output_file in enumerate(outputs):\n",
    "    if i == 0:\n",
    "        continue\n",
    "    output = np.load(output_file)\n",
    "    all_outputs[i] = output#.mean(axis = 0)\n"
   ]
  },
  {
   "cell_type": "code",
   "execution_count": null,
   "metadata": {
    "collapsed": true
   },
   "outputs": [],
   "source": [
    "all_outputs[0] = all_outputs[1:].mean(axis = 0)"
   ]
  },
  {
   "cell_type": "code",
   "execution_count": null,
   "metadata": {},
   "outputs": [],
   "source": [
    "all_outputs.shape"
   ]
  },
  {
   "cell_type": "code",
   "execution_count": null,
   "metadata": {
    "collapsed": true
   },
   "outputs": [],
   "source": [
    "# undo a little h error of mine. \n",
    "# WARNING i've since corrected this so it will no longer be necessary with new computations\n",
    "all_outputs[:, :, 18:36]*=darksky_h**2"
   ]
  },
  {
   "cell_type": "code",
   "execution_count": null,
   "metadata": {
    "collapsed": true
   },
   "outputs": [],
   "source": [
    "rp_bins = np.logspace(-1.0, 1.6, 19)\n",
    "cic_bins = np.round(np.r_[np.linspace(1, 9, 8), np.round(np.logspace(1,2, 7))] )"
   ]
  },
  {
   "cell_type": "code",
   "execution_count": null,
   "metadata": {},
   "outputs": [],
   "source": [
    "cic_bins"
   ]
  },
  {
   "cell_type": "code",
   "execution_count": null,
   "metadata": {
    "collapsed": true
   },
   "outputs": [],
   "source": [
    "rp_points = (rp_bins[1:]+rp_bins[:-1])/2.0\n",
    "cic_points = (cic_bins[1:]+cic_bins[:-1])/2.0"
   ]
  },
  {
   "cell_type": "code",
   "execution_count": null,
   "metadata": {
    "scrolled": false
   },
   "outputs": [],
   "source": [
    "for hod_idx in xrange(5):\n",
    "    color = 'b' \n",
    "    plt.plot(rp_points, (all_outputs[:,hod_idx, :18]).T, alpha = 0.1, color = color)\n",
    "    plt.loglog();\n",
    "plt.show();\n",
    "for hod_idx in xrange(4):\n",
    "    plt.plot(rp_points, (all_outputs[:,hod_idx, 18:36]).T, alpha = 0.1, color = 'g')\n",
    "    plt.loglog();\n",
    "plt.show();\n",
    "\n",
    "for hod_idx in xrange(4):\n",
    "    plt.plot(cic_points, all_outputs[:, hod_idx, 36:].T, alpha = 0.1, color = 'r')\n",
    "    plt.loglog();\n",
    "plt.show();"
   ]
  },
  {
   "cell_type": "code",
   "execution_count": null,
   "metadata": {
    "collapsed": true
   },
   "outputs": [],
   "source": [
    "mean = all_outputs.mean(axis = 0)"
   ]
  },
  {
   "cell_type": "raw",
   "metadata": {},
   "source": [
    "plt.plot(rp_points, (all_outputs[:,hod_idx, :18]/mean[hod_idx,:18]).T, alpha = 0.1, color = 'b')\n",
    "plt.xscale('log');\n",
    "plt.show();\n",
    "plt.plot(rp_points, (all_outputs[:,hod_idx, 18:36]/mean[hod_idx, 18:36]).T, alpha = 0.1, color = 'g')\n",
    "plt.xscale('log');\n",
    "plt.show();\n",
    "plt.plot(cic_points, (all_outputs[:, hod_idx, 36:]/mean[hod_idx, 36:]).T, alpha = 0.1, color = 'r')\n",
    "plt.xscale('log');\n",
    "plt.ylim(1e-1, 2)\n",
    "plt.show();"
   ]
  },
  {
   "cell_type": "raw",
   "metadata": {
    "collapsed": true
   },
   "source": [
    "mean = all_outputs.mean(axis = 0)\n",
    "R =(all_outputs - mean)\n",
    "\n",
    "cov = np.zeros((R.shape[2], R.shape[2]))\n",
    "for i in xrange(R.shape[1]):\n",
    "    cov+= R[:,i].T.dot(R[:,i])#/(N-1)\n",
    "    \n",
    "cov/=(R.shape[1]*(N-1))\n",
    "#cov/=(N-1)"
   ]
  },
  {
   "cell_type": "code",
   "execution_count": null,
   "metadata": {
    "collapsed": true
   },
   "outputs": [],
   "source": [
    "def cov_to_corr(cov):\n",
    "    std = np.sqrt(np.diag(cov))\n",
    "    \n",
    "    denom = np.outer(std, std)\n",
    "    \n",
    "    return cov/denom"
   ]
  },
  {
   "cell_type": "code",
   "execution_count": null,
   "metadata": {},
   "outputs": [],
   "source": [
    "np.zeros(len(cic_bins)-1)"
   ]
  },
  {
   "cell_type": "code",
   "execution_count": null,
   "metadata": {
    "collapsed": true
   },
   "outputs": [],
   "source": [
    "# from my HOD mock on planck\n",
    "planck_y = np.array([3.67046115e+03, 2.68587097e+03, 1.86704547e+03, 1.33957041e+03,\n",
    "       9.30848932e+02, 6.45761466e+02, 4.44257796e+02, 3.02746585e+02,\n",
    "       2.09074584e+02, 1.52330606e+02, 1.14548962e+02, 8.90682088e+01,\n",
    "       6.94674502e+01, 5.30164183e+01, 3.92803031e+01, 2.74329581e+01,\n",
    "       1.77901804e+01, 1.03439673e+01, 8.12760963e+01, 6.53112366e+01,\n",
    "       5.11718897e+01, 3.92571969e+01, 2.95591990e+01, 2.18952850e+01,\n",
    "       1.59647482e+01, 1.14391216e+01, 7.99808271e+00, 5.44370980e+00,\n",
    "       3.61379155e+00, 2.33425032e+00, 1.55491234e+00, 1.10505031e+00,\n",
    "       8.02946770e-01, 6.28019530e-01, 5.08370232e-01, 4.01059480e-01,\n",
    "      0., 0., 0., 0., 0., 0., 0., 0., 0., 0., 0., 0., 0., 0.              ])"
   ]
  },
  {
   "cell_type": "code",
   "execution_count": null,
   "metadata": {
    "collapsed": true
   },
   "outputs": [],
   "source": [
    "mean = all_outputs.mean(axis = 0)\n",
    "R =(all_outputs - mean)\n",
    "\n",
    "corr = np.zeros((R.shape[2], R.shape[2]))\n",
    "yerr_ratio = np.zeros((R.shape[2]))\n",
    "for i in xrange(R.shape[1]):\n",
    "    c= R[:,i].T.dot(R[:,i])/(N-1)\n",
    "    corr += cov_to_corr(c)\n",
    "    yerr_ratio += np.sqrt(np.diag(c))/mean[i]\n",
    "    \n",
    "    \n",
    "corr/= (mean.shape[0])#*(N-1)\n",
    "yerr_ratio/=(mean.shape[0])"
   ]
  },
  {
   "cell_type": "code",
   "execution_count": null,
   "metadata": {},
   "outputs": [],
   "source": [
    "print yerr_ratio"
   ]
  },
  {
   "cell_type": "code",
   "execution_count": null,
   "metadata": {},
   "outputs": [],
   "source": [
    "plt.imshow(corr, cmap = cmap, vmin=-1)"
   ]
  },
  {
   "cell_type": "code",
   "execution_count": null,
   "metadata": {
    "collapsed": true
   },
   "outputs": [],
   "source": [
    "yerr = yerr_ratio*planck_y\n",
    "cov = corr*np.outer(yerr, yerr)"
   ]
  },
  {
   "cell_type": "code",
   "execution_count": null,
   "metadata": {},
   "outputs": [],
   "source": [
    "cov.shape"
   ]
  },
  {
   "cell_type": "code",
   "execution_count": null,
   "metadata": {},
   "outputs": [],
   "source": [
    "np.min(cov)"
   ]
  },
  {
   "cell_type": "code",
   "execution_count": null,
   "metadata": {},
   "outputs": [],
   "source": [
    "plt.imshow(cov_to_corr(shape_noise_covmat), cmap = 'viridis')"
   ]
  },
  {
   "cell_type": "code",
   "execution_count": null,
   "metadata": {},
   "outputs": [],
   "source": [
    "print(cov_to_corr(shape_noise_covmat))[:5, :5]"
   ]
  },
  {
   "cell_type": "code",
   "execution_count": null,
   "metadata": {},
   "outputs": [],
   "source": [
    "full_cov = deepcopy(cov)\n",
    "\n",
    "full_cov[18:36][:, 18:36] = full_cov[18:36][:, 18:36]+ shape_noise_covmat"
   ]
  },
  {
   "cell_type": "code",
   "execution_count": null,
   "metadata": {},
   "outputs": [],
   "source": [
    "corr = cov_to_corr(cov)\n",
    "full_corr = cov_to_corr(full_cov)"
   ]
  },
  {
   "cell_type": "code",
   "execution_count": null,
   "metadata": {},
   "outputs": [],
   "source": [
    "fig = plt.figure(figsize = (10, 5))\n",
    "plt.subplot(121)\n",
    "im = plt.imshow(corr, cmap = cmap, vmin = -1)\n",
    "plt.colorbar(im);\n",
    "plt.subplot(122)\n",
    "im = plt.imshow(full_corr, cmap = cmap, vmin = -1)\n",
    "plt.colorbar(im);\n",
    "plt.show()"
   ]
  },
  {
   "cell_type": "code",
   "execution_count": null,
   "metadata": {},
   "outputs": [],
   "source": [
    "fig = plt.figure(figsize = (15, 5))\n",
    "plt.subplot(131)\n",
    "im = plt.imshow(corr[18:36][:, 18:36], cmap = cmap, vmin = -1)\n",
    "plt.colorbar(im);\n",
    "plt.subplot(132)\n",
    "im = plt.imshow(cov_to_corr(shape_noise_covmat), cmap = cmap, vmin = -1)\n",
    "plt.colorbar(im);\n",
    "plt.subplot(133)\n",
    "im = plt.imshow(full_corr[18:36][:, 18:36], cmap = cmap, vmin = -1)\n",
    "plt.colorbar(im);\n",
    "plt.show()"
   ]
  },
  {
   "cell_type": "code",
   "execution_count": null,
   "metadata": {},
   "outputs": [],
   "source": [
    "np.sqrt(np.diag(full_corr)[18:36])"
   ]
  },
  {
   "cell_type": "code",
   "execution_count": null,
   "metadata": {},
   "outputs": [],
   "source": [
    "plt.plot(rp_points, np.sqrt(np.diag(cov)[18:36]), label = 'Sim')\n",
    "plt.plot(rp_points,np.sqrt(np.diag(shape_noise_covmat)), label = 'Shape')\n",
    "\n",
    "plt.plot(rp_points,np.sqrt(np.diag(full_cov)[18:36]), label = 'Total')\n",
    "#plt.xscale('log')\n",
    "plt.loglog();\n",
    "plt.legend(loc = 'best')"
   ]
  },
  {
   "cell_type": "code",
   "execution_count": null,
   "metadata": {},
   "outputs": [],
   "source": [
    "print full_corr[30:30+5][:, 30:30+5]"
   ]
  },
  {
   "cell_type": "raw",
   "metadata": {},
   "source": [
    "covmat = np.load('/u/ki/swmclau2/Git/pearce/bin/covmat/wp_ds_full_covmat.npy')#, full_cov[:36][:,:36])"
   ]
  },
  {
   "cell_type": "code",
   "execution_count": null,
   "metadata": {
    "collapsed": true
   },
   "outputs": [],
   "source": [
    "np.save('/home/users/swmclau2/Git/pearce/bin/covmat/wp_ds_full_covmat.npy', full_cov[:36][:, :36])\n",
    "np.save('/home/users/swmclau2/Git/pearce/bin/covmat/wp_full_covmat.npy', full_cov[:18][:, :18])\n",
    "np.save('/home/users/swmclau2/Git/pearce/bin/covmat/ds_full_covmat.npy', full_cov[18:36][:, 18:36])\n",
    "np.save('/home/users/swmclau2/Git/pearce/bin/covmat/wp_ds_sim_covmat.npy', cov[:36][:, :36])"
   ]
  },
  {
   "cell_type": "code",
   "execution_count": 94,
   "metadata": {},
   "outputs": [
    {
     "data": {
      "text/plain": [
       "<matplotlib.legend.Legend at 0x7f20934be8d0>"
      ]
     },
     "execution_count": 94,
     "metadata": {},
     "output_type": "execute_result"
    },
    {
     "data": {
      "image/png": "[encoded data removed]",
      "text/plain": [
       "<matplotlib.figure.Figure at 0x7f20934ffc50>"
      ]
     },
     "metadata": {},
     "output_type": "display_data"
    }
   ],
   "source": [
    "plt.plot(rp_points, rp_points*np.sqrt(np.diag(full_cov[:18, :18]) ), label = 'wp')\n",
    "#plt.plot(rp_points, np.sqrt(np.diag(shape_noise_covmat) ), label = 'Shape')\n",
    "#plt.plot(rp_points, np.sqrt(np.diag(cov[18:36, 18:36]) ), label = 'ds')\n",
    "plt.plot(rp_points, rp_points*np.sqrt(np.diag(full_cov[18:36, 18:36]) ), label = 'ds')\n",
    "\n",
    "plt.loglog()\n",
    "plt.legend(loc='best')"
   ]
  },
  {
   "cell_type": "code",
   "execution_count": 95,
   "metadata": {},
   "outputs": [
    {
     "name": "stdout",
     "output_type": "stream",
     "text": [
      "[7.76342651e+01 4.92811538e+01 3.25762794e+01 2.29874934e+01\n",
      " 1.51333047e+01 1.04075886e+01 7.18888869e+00 5.03565087e+00\n",
      " 3.77559541e+00 2.94036425e+00 2.35766475e+00 1.76926487e+00\n",
      " 1.20360634e+00 9.20662808e-01 7.72582034e-01 6.30990729e-01\n",
      " 5.22016402e-01 4.43040771e-01 1.52715641e+00 1.19049197e+00\n",
      " 9.96397312e-01 7.34656111e-01 5.96836050e-01 4.60430543e-01\n",
      " 3.36125829e-01 2.43813755e-01 1.84249699e-01 1.41410422e-01\n",
      " 1.07300410e-01 8.22089453e-02 6.29814218e-02 4.97808088e-02\n",
      " 4.00279814e-02 3.42958831e-02 3.11503736e-02 2.95013596e-02]\n"
     ]
    }
   ],
   "source": [
    "print np.sqrt(np.diag(full_cov[:36][:,:36]))"
   ]
  },
  {
   "cell_type": "code",
   "execution_count": 96,
   "metadata": {},
   "outputs": [
    {
     "name": "stdout",
     "output_type": "stream",
     "text": [
      "[1.52715641 1.19049197 0.99639731 0.73465611 0.59683605 0.46043054\n",
      " 0.33612583 0.24381375 0.1842497  0.14141042 0.10730041 0.08220895\n",
      " 0.06298142 0.04978081 0.04002798 0.03429588 0.03115037 0.02950136]\n"
     ]
    }
   ],
   "source": [
    "print  np.sqrt(np.diag(full_cov[18:36, 18:36]) )"
   ]
  },
  {
   "cell_type": "code",
   "execution_count": 97,
   "metadata": {
    "collapsed": true
   },
   "outputs": [],
   "source": [
    "#emu covs\n",
    "emu_cov_fnames = ['/home/users/swmclau2/Git/pearce/bin/optimization/wp_hod_emu_cov_lpw.npy',\n",
    "                  '/home/users/swmclau2/Git/pearce/bin/optimization/ds_hod_emu_cov_lpw.npy']"
   ]
  },
  {
   "cell_type": "code",
   "execution_count": 98,
   "metadata": {
    "collapsed": true
   },
   "outputs": [],
   "source": [
    "emu_cov = np.zeros_like(full_cov[:36][:, :36])\n",
    "\n",
    "for i, fname in enumerate(emu_cov_fnames):\n",
    "    \n",
    "    emu_cov[i*18:(i+1)*18][:, i*18:(i+1)*18] = np.load(fname)"
   ]
  },
  {
   "cell_type": "code",
   "execution_count": 99,
   "metadata": {
    "collapsed": true
   },
   "outputs": [],
   "source": [
    "emu_corr = cov_to_corr(emu_cov)"
   ]
  },
  {
   "cell_type": "code",
   "execution_count": 100,
   "metadata": {},
   "outputs": [
    {
     "data": {
      "text/plain": [
       "<matplotlib.image.AxesImage at 0x7f2094465450>"
      ]
     },
     "execution_count": 100,
     "metadata": {},
     "output_type": "execute_result"
    },
    {
     "data": {
      "image/png": "[encoded data removed]",
      "text/plain": [
       "<matplotlib.figure.Figure at 0x7f20943125d0>"
      ]
     },
     "metadata": {},
     "output_type": "display_data"
    }
   ],
   "source": [
    "plt.imshow(emu_corr, cmap = cmap, vmin = -1)"
   ]
  },
  {
   "cell_type": "code",
   "execution_count": 101,
   "metadata": {
    "collapsed": true
   },
   "outputs": [],
   "source": [
    "full_emu_cov = full_cov[:36][:, :36] + emu_cov"
   ]
  },
  {
   "cell_type": "code",
   "execution_count": 102,
   "metadata": {},
   "outputs": [
    {
     "name": "stdout",
     "output_type": "stream",
     "text": [
      "[7.07619919e+02 3.67130185e+02 1.50402773e+02 5.95041340e+01\n",
      " 2.60452566e+01 2.44459357e+01 2.11211695e+01 1.40443359e+01\n",
      " 8.07519351e+00 4.68086871e+00 2.99129327e+00 2.07400315e+00\n",
      " 1.45453642e+00 1.17037012e+00 9.81732601e-01 8.33404044e-01\n",
      " 7.11037106e-01 6.18712661e-01 2.24983909e+00 1.86350123e+00\n",
      " 1.63190521e+00 1.31654640e+00 1.06154856e+00 8.03086962e-01\n",
      " 5.60035478e-01 3.67028308e-01 2.39964663e-01 1.63311851e-01\n",
      " 1.18208088e-01 8.85465400e-02 6.71263950e-02 5.24673566e-02\n",
      " 4.25241300e-02 3.63812876e-02 3.43779394e-02 3.33100650e-02]\n"
     ]
    }
   ],
   "source": [
    "print np.sqrt(np.diag(full_emu_cov[:36][:,:36]))"
   ]
  },
  {
   "cell_type": "code",
   "execution_count": 103,
   "metadata": {
    "collapsed": true
   },
   "outputs": [],
   "source": [
    "full_emu_corr = cov_to_corr(full_emu_cov)"
   ]
  },
  {
   "cell_type": "code",
   "execution_count": 104,
   "metadata": {},
   "outputs": [
    {
     "data": {
      "text/plain": [
       "<matplotlib.image.AxesImage at 0x7f2093cfc590>"
      ]
     },
     "execution_count": 104,
     "metadata": {},
     "output_type": "execute_result"
    },
    {
     "data": {
      "image/png": "[encoded data removed]",
      "text/plain": [
       "<matplotlib.figure.Figure at 0x7f2093c93210>"
      ]
     },
     "metadata": {},
     "output_type": "display_data"
    }
   ],
   "source": [
    "plt.imshow(full_emu_corr, cmap = cmap, vmin = -1)"
   ]
  },
  {
   "cell_type": "code",
   "execution_count": 105,
   "metadata": {},
   "outputs": [
    {
     "data": {
      "text/plain": [
       "array([7407.57577016, 5860.73332887, 4562.57221101, 3528.4855154 ,\n",
       "       2653.86635206, 1942.18765577, 1375.70010706,  920.94666884,\n",
       "        574.1329663 ,  334.4338443 ,  189.53636194,  118.15514169,\n",
       "         84.2912142 ,   62.74489775,   45.52641089,   31.41342237,\n",
       "         20.19772416,   11.76164792])"
      ]
     },
     "execution_count": 105,
     "metadata": {},
     "output_type": "execute_result"
    }
   ],
   "source": [
    "mean[:,:18].mean(axis=0)"
   ]
  },
  {
   "cell_type": "code",
   "execution_count": null,
   "metadata": {
    "collapsed": true
   },
   "outputs": [],
   "source": []
  },
  {
   "cell_type": "code",
   "execution_count": 106,
   "metadata": {},
   "outputs": [
    {
     "data": {
      "text/plain": [
       "array([0.17686479, 0.12449373, 0.07090224, 0.03944567, 0.02491593,\n",
       "       0.03427243, 0.0437005 , 0.04326766, 0.03671197, 0.03039257,\n",
       "       0.02655751, 0.02418775, 0.02211743, 0.02365729, 0.02733281,\n",
       "       0.03363806, 0.04469265, 0.06731582])"
      ]
     },
     "execution_count": 106,
     "metadata": {},
     "output_type": "execute_result"
    }
   ],
   "source": [
    "np.sqrt(np.diag(full_emu_cov[:18, :18]) )/mean[:-1, :18].mean(axis=0)"
   ]
  },
  {
   "cell_type": "code",
   "execution_count": 112,
   "metadata": {},
   "outputs": [
    {
     "data": {
      "text/plain": [
       "<matplotlib.legend.Legend at 0x7f2093ebc490>"
      ]
     },
     "execution_count": 112,
     "metadata": {},
     "output_type": "execute_result"
    },
    {
     "data": {
      "image/png": "[encoded data removed]",
      "text/plain": [
       "<matplotlib.figure.Figure at 0x7f2094090e50>"
      ]
     },
     "metadata": {},
     "output_type": "display_data"
    }
   ],
   "source": [
    "plt.plot(rp_points, np.sqrt(np.diag(full_emu_cov[:18, :18]) ), label = 'Total')\n",
    "plt.plot(rp_points, np.sqrt(np.diag(cov[:18, :18]) ), ls = '--', label = 'Sim')\n",
    "plt.plot(rp_points, np.sqrt(np.diag(emu_cov[:18, :18]) ), ls = ':', label = 'Emu')\n",
    "\n",
    "\n",
    "plt.plot(rp_points, np.sqrt(np.diag(full_emu_cov[18:36, 18:36])) , label = 'ds', color ='r')\n",
    "plt.plot(rp_points, np.sqrt(np.diag(cov[18:36, 18:36]) ),  color = 'r', ls = '--')\n",
    "plt.plot(rp_points, np.sqrt(np.diag(emu_cov[18:36, 18:36]) ), color = 'r', ls = ':')\n",
    "plt.plot(rp_points, np.sqrt(np.diag(shape_noise_covmat)), color = 'r',  ls = '-.')\n",
    "\n",
    "#plt.ylabel('Delta Sigma Unc')\n",
    "plt.xlabel('r [Mpc]')\n",
    "plt.loglog()\n",
    "plt.legend(loc='best')"
   ]
  },
  {
   "cell_type": "code",
   "execution_count": 110,
   "metadata": {},
   "outputs": [
    {
     "data": {
      "text/plain": [
       "<matplotlib.legend.Legend at 0x7f2094618390>"
      ]
     },
     "execution_count": 110,
     "metadata": {},
     "output_type": "execute_result"
    },
    {
     "data": {
      "image/png": "[encoded data removed]",
      "text/plain": [
       "<matplotlib.figure.Figure at 0x7f20946496d0>"
      ]
     },
     "metadata": {},
     "output_type": "display_data"
    }
   ],
   "source": [
    "#plt.plot(rp_points, np.sqrt(np.diag(cov[18:36, 18:36]) ), label = 'ds')\n",
    "plt.plot(rp_points, np.sqrt(np.diag(full_emu_cov[18:36, 18:36])) , label = 'Total', color ='r')\n",
    "plt.plot(rp_points, np.sqrt(np.diag(cov[18:36, 18:36]) ),  color = 'g', label = 'Sim', ls = '--')\n",
    "plt.plot(rp_points, np.sqrt(np.diag(emu_cov[18:36, 18:36]) ), color = 'r', ls = ':', label = 'Emu')\n",
    "plt.plot(rp_points, np.sqrt(np.diag(shape_noise_covmat)), color = 'b', label = 'Shape Noise',ls = '-.')\n",
    "\n",
    "plt.ylabel('Delta Sigma Unc')\n",
    "plt.xlabel('r [Mpc]')\n",
    "plt.loglog()\n",
    "plt.legend(loc='best')"
   ]
  },
  {
   "cell_type": "code",
   "execution_count": 109,
   "metadata": {},
   "outputs": [
    {
     "data": {
      "text/plain": [
       "0.48999999999999994"
      ]
     },
     "execution_count": 109,
     "metadata": {},
     "output_type": "execute_result"
    }
   ],
   "source": [
    "0.7**2"
   ]
  },
  {
   "cell_type": "code",
   "execution_count": null,
   "metadata": {
    "collapsed": true
   },
   "outputs": [],
   "source": []
  },
  {
   "cell_type": "code",
   "execution_count": null,
   "metadata": {
    "collapsed": true
   },
   "outputs": [],
   "source": []
  },
  {
   "cell_type": "code",
   "execution_count": null,
   "metadata": {
    "collapsed": true
   },
   "outputs": [],
   "source": []
  }
 ],
 "metadata": {
  "kernelspec": {
   "display_name": "Python 2",
   "language": "python",
   "name": "python2"
  },
  "language_info": {
   "codemirror_mode": {
    "name": "ipython",
    "version": 2
   },
   "file_extension": ".py",
   "mimetype": "text/x-python",
   "name": "python",
   "nbconvert_exporter": "python",
   "pygments_lexer": "ipython2",
   "version": "2.7.13"
  }
 },
 "nbformat": 4,
 "nbformat_minor": 2
}

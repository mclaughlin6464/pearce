{
 "cells": [
  {
   "cell_type": "markdown",
   "metadata": {},
   "source": [
    "I have a universe machine catalog, gonna compute statistics on them now & make sure everything seems sensible. "
   ]
  },
  {
   "cell_type": "code",
   "execution_count": 1,
   "metadata": {
    "collapsed": true
   },
   "outputs": [],
   "source": [
    "%matplotlib inline\n",
    "from matplotlib import pyplot as plt\n",
    "import seaborn as sns\n",
    "sns.set()"
   ]
  },
  {
   "cell_type": "code",
   "execution_count": 2,
   "metadata": {
    "collapsed": true
   },
   "outputs": [],
   "source": [
    "import numpy as np"
   ]
  },
  {
   "cell_type": "code",
   "execution_count": 3,
   "metadata": {},
   "outputs": [
    {
     "name": "stderr",
     "output_type": "stream",
     "text": [
      "/home/users/swmclau2/.local/lib/python2.7/site-packages/h5py/__init__.py:36: FutureWarning: Conversion of the second argument of issubdtype from `float` to `np.floating` is deprecated. In future, it will be treated as `np.float64 == np.dtype(float).type`.\n",
      "  from ._conv import register_converters as _register_converters\n"
     ]
    }
   ],
   "source": [
    "from pearce.mocks.kittens import MDPL2, TrainingBox"
   ]
  },
  {
   "cell_type": "code",
   "execution_count": 4,
   "metadata": {},
   "outputs": [],
   "source": [
    "cat = TrainingBox(0,system = 'sherlock')"
   ]
  },
  {
   "cell_type": "code",
   "execution_count": 5,
   "metadata": {
    "collapsed": true
   },
   "outputs": [],
   "source": [
    "cat.load(1.0, particles = True)"
   ]
  },
  {
   "cell_type": "code",
   "execution_count": 6,
   "metadata": {},
   "outputs": [
    {
     "data": {
      "text/html": [
       "&lt;Table length=10055159&gt;\n",
       "<table id=\"table140256495175632\" class=\"table-striped table-bordered table-condensed\">\n",
       "<thead><tr><th>halo_upid</th><th>halo_vx</th><th>halo_y</th><th>halo_x</th><th>halo_z</th><th>halo_vy</th><th>halo_vz</th><th>halo_rs</th><th>halo_rvir</th><th>halo_mvir</th><th>halo_id</th><th>halo_nfw_conc</th><th>halo_hostid</th><th>halo_local_density_1</th><th>halo_local_density_5</th><th>halo_local_density_10</th><th>halo_mvir_host_halo</th></tr></thead>\n",
       "<thead><tr><th>int64</th><th>float32</th><th>float32</th><th>float32</th><th>float32</th><th>float32</th><th>float32</th><th>float32</th><th>float32</th><th>float32</th><th>int64</th><th>float32</th><th>int64</th><th>float64</th><th>float64</th><th>float64</th><th>float32</th></tr></thead>\n",
       "<tr><td>-1</td><td>246.87485</td><td>102.52383</td><td>106.99912</td><td>183.05856</td><td>37.936943</td><td>-535.23517</td><td>0.019872999</td><td>0.23570101</td><td>1036800000000.0</td><td>5187094</td><td>11.860365</td><td>5187094</td><td>30.214571227602015</td><td>17.725881786859848</td><td>6.999709001061133</td><td>1036800000000.0</td></tr>\n",
       "<tr><td>5187174</td><td>-974.71326</td><td>104.59491</td><td>110.74285</td><td>177.89935</td><td>72.32447</td><td>19.520681</td><td>0.018565001</td><td>0.33848098</td><td>3070500000000.0</td><td>5187095</td><td>18.232208</td><td>5187174</td><td>70.50066619773804</td><td>27.877977719334122</td><td>12.539047059454834</td><td>19540000000000.0</td></tr>\n",
       "<tr><td>5187151</td><td>-932.22003</td><td>105.14327</td><td>110.985855</td><td>177.40489</td><td>615.9403</td><td>-1.137215</td><td>0.014115</td><td>0.327897</td><td>2791400000000.0</td><td>5187096</td><td>23.230394</td><td>5187151</td><td>40.28609497013602</td><td>31.906587216347724</td><td>12.206686775951212</td><td>838370000000000.0</td></tr>\n",
       "<tr><td>5187102</td><td>713.0239</td><td>104.19983</td><td>110.667</td><td>179.15486</td><td>772.3499</td><td>269.75558</td><td>0.020917999</td><td>0.45170498</td><td>7297500000000.0</td><td>5187097</td><td>21.594082</td><td>5187102</td><td>423.0039971864282</td><td>28.5225552388563</td><td>11.5218231614589</td><td>106310000000000.0</td></tr>\n",
       "<tr><td>5187178</td><td>1496.8752</td><td>104.97381</td><td>110.18847</td><td>179.91116</td><td>-675.5206</td><td>-17.7335</td><td>0.043587003</td><td>0.576783</td><td>15193000000000.0</td><td>5187098</td><td>13.232913</td><td>5187178</td><td>382.7179022162922</td><td>27.877977719334122</td><td>11.793754302507319</td><td>73374000000000.0</td></tr>\n",
       "<tr><td>5187151</td><td>1364.2133</td><td>103.91988</td><td>110.11275</td><td>178.95863</td><td>1145.8024</td><td>-661.19305</td><td>0.053097</td><td>0.443322</td><td>6898700000000.0</td><td>5187099</td><td>8.349285</td><td>5187151</td><td>120.85828491040806</td><td>27.79740552939385</td><td>11.541966208943968</td><td>838370000000000.0</td></tr>\n",
       "<tr><td>-1</td><td>770.9919</td><td>102.41203</td><td>108.071335</td><td>182.7319</td><td>1157.6224</td><td>-103.78365</td><td>0.028978001</td><td>0.371739</td><td>4067400000000.0</td><td>5187100</td><td>12.828318</td><td>5187100</td><td>50.357618712670025</td><td>19.981903105187463</td><td>7.976646804086931</td><td>4067400000000.0</td></tr>\n",
       "<tr><td>5187178</td><td>1365.237</td><td>104.34914</td><td>110.74132</td><td>180.61777</td><td>2048.1526</td><td>550.4253</td><td>0.214767</td><td>0.436381</td><td>6579700000000.0</td><td>5187101</td><td>2.031881</td><td>5187178</td><td>161.14437988054408</td><td>29.005988378497932</td><td>11.008175450589667</td><td>73374000000000.0</td></tr>\n",
       "<tr><td>5187148</td><td>1100.5853</td><td>104.63169</td><td>111.21566</td><td>179.27124</td><td>2912.1895</td><td>245.31432</td><td>0.035836</td><td>1.1032081</td><td>106310000000000.0</td><td>5187102</td><td>30.78491</td><td>5187148</td><td>1107.8676116787406</td><td>29.972854657781195</td><td>11.57218078017157</td><td>150340000000000.0</td></tr>\n",
       "<tr><td>-1</td><td>-121.38994</td><td>99.02711</td><td>105.870544</td><td>187.76155</td><td>440.34564</td><td>-1587.7352</td><td>0.022794</td><td>0.33994</td><td>3110400000000.0</td><td>5187103</td><td>14.913573</td><td>5187103</td><td>20.14304748506801</td><td>16.59787112769604</td><td>3.575390928599571</td><td>3110400000000.0</td></tr>\n",
       "<tr><td>...</td><td>...</td><td>...</td><td>...</td><td>...</td><td>...</td><td>...</td><td>...</td><td>...</td><td>...</td><td>...</td><td>...</td><td>...</td><td>...</td><td>...</td><td>...</td><td>...</td></tr>\n",
       "<tr><td>-1</td><td>360.65402</td><td>787.7205</td><td>807.9131</td><td>823.8222</td><td>126.01348</td><td>119.062294</td><td>0.012146</td><td>0.204576</td><td>677910000000.0</td><td>5187084</td><td>16.843077</td><td>5187084</td><td>0.0</td><td>0.48343313964163215</td><td>0.7352212332049822</td><td>677910000000.0</td></tr>\n",
       "<tr><td>-1</td><td>154.72903</td><td>796.98584</td><td>803.2846</td><td>833.7656</td><td>-94.21632</td><td>186.45187</td><td>0.017252</td><td>0.187076</td><td>518400000000.0</td><td>5187085</td><td>10.843728</td><td>5187085</td><td>20.14304748506801</td><td>1.2085828491040804</td><td>0.8862940893429924</td><td>518400000000.0</td></tr>\n",
       "<tr><td>-1</td><td>103.847626</td><td>799.7953</td><td>792.1817</td><td>826.944</td><td>-90.245514</td><td>264.44522</td><td>0.025333</td><td>0.212303</td><td>757660000000.0</td><td>5187086</td><td>8.380491</td><td>5187086</td><td>0.0</td><td>0.24171656982081607</td><td>0.7150781857199142</td><td>757660000000.0</td></tr>\n",
       "<tr><td>-1</td><td>120.597015</td><td>808.9011</td><td>804.5984</td><td>789.77905</td><td>-345.85385</td><td>287.0697</td><td>0.016949</td><td>0.159123</td><td>319020000000.0</td><td>5187087</td><td>9.388342</td><td>5187087</td><td>20.14304748506801</td><td>0.9668662792832643</td><td>0.6949351382348462</td><td>319020000000.0</td></tr>\n",
       "<tr><td>-1</td><td>351.06</td><td>807.7606</td><td>813.7482</td><td>792.35474</td><td>-460.61057</td><td>294.90707</td><td>0.016157</td><td>0.100241</td><td>79754000000.0</td><td>5187088</td><td>6.204184</td><td>5187088</td><td>0.0</td><td>0.8862940893429924</td><td>0.7755073281751182</td><td>79754000000.0</td></tr>\n",
       "<tr><td>-1</td><td>399.60214</td><td>805.8018</td><td>815.9428</td><td>790.18463</td><td>-455.32162</td><td>367.83643</td><td>0.012503999</td><td>0.212303</td><td>757660000000.0</td><td>5187089</td><td>16.978807</td><td>5187089</td><td>10.071523742534005</td><td>0.7251497094624483</td><td>1.1078676116787405</td><td>757660000000.0</td></tr>\n",
       "<tr><td>-1</td><td>-3.825646</td><td>802.99316</td><td>794.1816</td><td>796.77747</td><td>-193.77182</td><td>157.44429</td><td>0.009544</td><td>0.208511</td><td>717790000000.0</td><td>5187090</td><td>21.847338</td><td>5187090</td><td>0.0</td><td>0.40286094970136016</td><td>0.9970808505108664</td><td>717790000000.0</td></tr>\n",
       "<tr><td>-1</td><td>-39.194416</td><td>796.59906</td><td>819.9801</td><td>817.6079</td><td>-740.96136</td><td>503.27197</td><td>0.034438998</td><td>0.196216</td><td>598150000000.0</td><td>5187091</td><td>5.6974945</td><td>5187091</td><td>0.0</td><td>2.900598837849793</td><td>3.504890262401833</td><td>598150000000.0</td></tr>\n",
       "<tr><td>-1</td><td>334.18</td><td>792.66815</td><td>818.57416</td><td>816.44604</td><td>179.23204</td><td>380.19702</td><td>0.057549</td><td>0.19175501</td><td>558280000000.0</td><td>5187092</td><td>3.3320303</td><td>5187092</td><td>0.0</td><td>1.9337325585665286</td><td>3.4545326436891632</td><td>558280000000.0</td></tr>\n",
       "<tr><td>-1</td><td>245.128</td><td>791.10986</td><td>798.86536</td><td>801.14343</td><td>-208.66121</td><td>193.09265</td><td>0.035951</td><td>0.152196</td><td>279140000000.0</td><td>5187093</td><td>4.233429</td><td>5187093</td><td>0.0</td><td>0.40286094970136016</td><td>0.5136477108692342</td><td>279140000000.0</td></tr>\n",
       "</table>"
      ],
      "text/plain": [
       "<Table length=10055159>\n",
       "halo_upid  halo_vx     halo_y  ... halo_local_density_10 halo_mvir_host_halo\n",
       "  int64    float32    float32  ...        float64              float32      \n",
       "--------- ---------- --------- ... --------------------- -------------------\n",
       "       -1  246.87485 102.52383 ...     6.999709001061133     1036800000000.0\n",
       "  5187174 -974.71326 104.59491 ...    12.539047059454834    19540000000000.0\n",
       "  5187151 -932.22003 105.14327 ...    12.206686775951212   838370000000000.0\n",
       "  5187102   713.0239 104.19983 ...      11.5218231614589   106310000000000.0\n",
       "  5187178  1496.8752 104.97381 ...    11.793754302507319    73374000000000.0\n",
       "  5187151  1364.2133 103.91988 ...    11.541966208943968   838370000000000.0\n",
       "       -1   770.9919 102.41203 ...     7.976646804086931     4067400000000.0\n",
       "  5187178   1365.237 104.34914 ...    11.008175450589667    73374000000000.0\n",
       "  5187148  1100.5853 104.63169 ...     11.57218078017157   150340000000000.0\n",
       "       -1 -121.38994  99.02711 ...     3.575390928599571     3110400000000.0\n",
       "      ...        ...       ... ...                   ...                 ...\n",
       "       -1  360.65402  787.7205 ...    0.7352212332049822      677910000000.0\n",
       "       -1  154.72903 796.98584 ...    0.8862940893429924      518400000000.0\n",
       "       -1 103.847626  799.7953 ...    0.7150781857199142      757660000000.0\n",
       "       -1 120.597015  808.9011 ...    0.6949351382348462      319020000000.0\n",
       "       -1     351.06  807.7606 ...    0.7755073281751182       79754000000.0\n",
       "       -1  399.60214  805.8018 ...    1.1078676116787405      757660000000.0\n",
       "       -1  -3.825646 802.99316 ...    0.9970808505108664      717790000000.0\n",
       "       -1 -39.194416 796.59906 ...     3.504890262401833      598150000000.0\n",
       "       -1     334.18 792.66815 ...    3.4545326436891632      558280000000.0\n",
       "       -1    245.128 791.10986 ...    0.5136477108692342      279140000000.0"
      ]
     },
     "execution_count": 6,
     "metadata": {},
     "output_type": "execute_result"
    }
   ],
   "source": [
    "cat.halocat.halo_table"
   ]
  },
  {
   "cell_type": "code",
   "execution_count": 10,
   "metadata": {
    "collapsed": true
   },
   "outputs": [],
   "source": [
    "from halotools.sim_manager import PtclTableCache"
   ]
  },
  {
   "cell_type": "code",
   "execution_count": 11,
   "metadata": {
    "collapsed": true
   },
   "outputs": [],
   "source": [
    "cache = PtclTableCache()"
   ]
  },
  {
   "cell_type": "code",
   "execution_count": 15,
   "metadata": {},
   "outputs": [],
   "source": [
    "ptcl_vname = cat.version_name + '_particle_%.2f' % (-1 * np.log10(1e-2))"
   ]
  },
  {
   "cell_type": "code",
   "execution_count": 18,
   "metadata": {
    "collapsed": true
   },
   "outputs": [],
   "source": [
    "?? cache.matching_log_entry_generator"
   ]
  },
  {
   "cell_type": "code",
   "execution_count": 25,
   "metadata": {},
   "outputs": [
    {
     "data": {
      "text/plain": [
       "'trainingbox'"
      ]
     },
     "execution_count": 25,
     "metadata": {},
     "output_type": "execute_result"
    }
   ],
   "source": [
    "cat.simname"
   ]
  },
  {
   "cell_type": "code",
   "execution_count": 26,
   "metadata": {},
   "outputs": [
    {
     "data": {
      "text/plain": [
       "'most_recent_00'"
      ]
     },
     "execution_count": 26,
     "metadata": {},
     "output_type": "execute_result"
    }
   ],
   "source": [
    "cat.version_name"
   ]
  },
  {
   "cell_type": "code",
   "execution_count": 19,
   "metadata": {},
   "outputs": [],
   "source": [
    "gen0 = cache.matching_log_entry_generator(simname = cat.simname,\n",
    "        version_name = ptcl_vname, redshift = cat.z, dz_tol = 0.1)"
   ]
  },
  {
   "cell_type": "code",
   "execution_count": 21,
   "metadata": {},
   "outputs": [],
   "source": [
    "entries = list(gen0)"
   ]
  },
  {
   "cell_type": "code",
   "execution_count": 24,
   "metadata": {},
   "outputs": [
    {
     "data": {
      "text/plain": [
       "u'/scratch/users/swmclau2/halocats/ptcl_1.00.list.trainingbox_most_recent_00.hdf5'"
      ]
     },
     "execution_count": 24,
     "metadata": {},
     "output_type": "execute_result"
    }
   ],
   "source": [
    "entries[0].fname"
   ]
  },
  {
   "cell_type": "code",
   "execution_count": 13,
   "metadata": {},
   "outputs": [
    {
     "data": {
      "text/plain": [
       "[<halotools.sim_manager.ptcl_table_cache_log_entry.PtclTableCacheLogEntry at 0x7f90029ccb10>,\n",
       " <halotools.sim_manager.ptcl_table_cache_log_entry.PtclTableCacheLogEntry at 0x7f90029cc890>,\n",
       " <halotools.sim_manager.ptcl_table_cache_log_entry.PtclTableCacheLogEntry at 0x7f90028c0790>,\n",
       " <halotools.sim_manager.ptcl_table_cache_log_entry.PtclTableCacheLogEntry at 0x7f90028c07d0>,\n",
       " <halotools.sim_manager.ptcl_table_cache_log_entry.PtclTableCacheLogEntry at 0x7f90028c0890>,\n",
       " <halotools.sim_manager.ptcl_table_cache_log_entry.PtclTableCacheLogEntry at 0x7f90028c0690>,\n",
       " <halotools.sim_manager.ptcl_table_cache_log_entry.PtclTableCacheLogEntry at 0x7f90028c0710>,\n",
       " <halotools.sim_manager.ptcl_table_cache_log_entry.PtclTableCacheLogEntry at 0x7f90028c0f50>,\n",
       " <halotools.sim_manager.ptcl_table_cache_log_entry.PtclTableCacheLogEntry at 0x7f90028c06d0>,\n",
       " <halotools.sim_manager.ptcl_table_cache_log_entry.PtclTableCacheLogEntry at 0x7f90028c02d0>,\n",
       " <halotools.sim_manager.ptcl_table_cache_log_entry.PtclTableCacheLogEntry at 0x7f90028c0510>,\n",
       " <halotools.sim_manager.ptcl_table_cache_log_entry.PtclTableCacheLogEntry at 0x7f90028c0210>,\n",
       " <halotools.sim_manager.ptcl_table_cache_log_entry.PtclTableCacheLogEntry at 0x7f90028c0910>,\n",
       " <halotools.sim_manager.ptcl_table_cache_log_entry.PtclTableCacheLogEntry at 0x7f90028c0950>,\n",
       " <halotools.sim_manager.ptcl_table_cache_log_entry.PtclTableCacheLogEntry at 0x7f90028c0990>,\n",
       " <halotools.sim_manager.ptcl_table_cache_log_entry.PtclTableCacheLogEntry at 0x7f90028c09d0>,\n",
       " <halotools.sim_manager.ptcl_table_cache_log_entry.PtclTableCacheLogEntry at 0x7f90028c0a10>,\n",
       " <halotools.sim_manager.ptcl_table_cache_log_entry.PtclTableCacheLogEntry at 0x7f90028c0a50>,\n",
       " <halotools.sim_manager.ptcl_table_cache_log_entry.PtclTableCacheLogEntry at 0x7f90028c0a90>,\n",
       " <halotools.sim_manager.ptcl_table_cache_log_entry.PtclTableCacheLogEntry at 0x7f90028c0ad0>,\n",
       " <halotools.sim_manager.ptcl_table_cache_log_entry.PtclTableCacheLogEntry at 0x7f90028c0b10>,\n",
       " <halotools.sim_manager.ptcl_table_cache_log_entry.PtclTableCacheLogEntry at 0x7f90028c0b50>,\n",
       " <halotools.sim_manager.ptcl_table_cache_log_entry.PtclTableCacheLogEntry at 0x7f90028c0b90>,\n",
       " <halotools.sim_manager.ptcl_table_cache_log_entry.PtclTableCacheLogEntry at 0x7f90028c0bd0>,\n",
       " <halotools.sim_manager.ptcl_table_cache_log_entry.PtclTableCacheLogEntry at 0x7f90028c0c10>,\n",
       " <halotools.sim_manager.ptcl_table_cache_log_entry.PtclTableCacheLogEntry at 0x7f90028c0c50>,\n",
       " <halotools.sim_manager.ptcl_table_cache_log_entry.PtclTableCacheLogEntry at 0x7f90028c0c90>,\n",
       " <halotools.sim_manager.ptcl_table_cache_log_entry.PtclTableCacheLogEntry at 0x7f90028c0cd0>,\n",
       " <halotools.sim_manager.ptcl_table_cache_log_entry.PtclTableCacheLogEntry at 0x7f90028c0d10>,\n",
       " <halotools.sim_manager.ptcl_table_cache_log_entry.PtclTableCacheLogEntry at 0x7f90028c0d50>,\n",
       " <halotools.sim_manager.ptcl_table_cache_log_entry.PtclTableCacheLogEntry at 0x7f90028c0d90>,\n",
       " <halotools.sim_manager.ptcl_table_cache_log_entry.PtclTableCacheLogEntry at 0x7f90028c0dd0>,\n",
       " <halotools.sim_manager.ptcl_table_cache_log_entry.PtclTableCacheLogEntry at 0x7f90028c0e10>,\n",
       " <halotools.sim_manager.ptcl_table_cache_log_entry.PtclTableCacheLogEntry at 0x7f90028c0e50>,\n",
       " <halotools.sim_manager.ptcl_table_cache_log_entry.PtclTableCacheLogEntry at 0x7f90028c0e90>,\n",
       " <halotools.sim_manager.ptcl_table_cache_log_entry.PtclTableCacheLogEntry at 0x7f90028c0f10>,\n",
       " <halotools.sim_manager.ptcl_table_cache_log_entry.PtclTableCacheLogEntry at 0x7f90028c0ed0>,\n",
       " <halotools.sim_manager.ptcl_table_cache_log_entry.PtclTableCacheLogEntry at 0x7f90028c0fd0>,\n",
       " <halotools.sim_manager.ptcl_table_cache_log_entry.PtclTableCacheLogEntry at 0x7f90028a9050>,\n",
       " <halotools.sim_manager.ptcl_table_cache_log_entry.PtclTableCacheLogEntry at 0x7f90028a9090>,\n",
       " <halotools.sim_manager.ptcl_table_cache_log_entry.PtclTableCacheLogEntry at 0x7f90028a90d0>,\n",
       " <halotools.sim_manager.ptcl_table_cache_log_entry.PtclTableCacheLogEntry at 0x7f90028a9110>,\n",
       " <halotools.sim_manager.ptcl_table_cache_log_entry.PtclTableCacheLogEntry at 0x7f90028a9150>,\n",
       " <halotools.sim_manager.ptcl_table_cache_log_entry.PtclTableCacheLogEntry at 0x7f90028a9190>,\n",
       " <halotools.sim_manager.ptcl_table_cache_log_entry.PtclTableCacheLogEntry at 0x7f90028a91d0>,\n",
       " <halotools.sim_manager.ptcl_table_cache_log_entry.PtclTableCacheLogEntry at 0x7f90028a9210>,\n",
       " <halotools.sim_manager.ptcl_table_cache_log_entry.PtclTableCacheLogEntry at 0x7f90028a9250>,\n",
       " <halotools.sim_manager.ptcl_table_cache_log_entry.PtclTableCacheLogEntry at 0x7f90028a9290>,\n",
       " <halotools.sim_manager.ptcl_table_cache_log_entry.PtclTableCacheLogEntry at 0x7f90028a92d0>,\n",
       " <halotools.sim_manager.ptcl_table_cache_log_entry.PtclTableCacheLogEntry at 0x7f90028a9310>,\n",
       " <halotools.sim_manager.ptcl_table_cache_log_entry.PtclTableCacheLogEntry at 0x7f90028a9350>,\n",
       " <halotools.sim_manager.ptcl_table_cache_log_entry.PtclTableCacheLogEntry at 0x7f90028a9390>,\n",
       " <halotools.sim_manager.ptcl_table_cache_log_entry.PtclTableCacheLogEntry at 0x7f90028a93d0>,\n",
       " <halotools.sim_manager.ptcl_table_cache_log_entry.PtclTableCacheLogEntry at 0x7f90028a9410>,\n",
       " <halotools.sim_manager.ptcl_table_cache_log_entry.PtclTableCacheLogEntry at 0x7f90028a9450>,\n",
       " <halotools.sim_manager.ptcl_table_cache_log_entry.PtclTableCacheLogEntry at 0x7f90028a9490>,\n",
       " <halotools.sim_manager.ptcl_table_cache_log_entry.PtclTableCacheLogEntry at 0x7f90028a94d0>,\n",
       " <halotools.sim_manager.ptcl_table_cache_log_entry.PtclTableCacheLogEntry at 0x7f90028a9510>,\n",
       " <halotools.sim_manager.ptcl_table_cache_log_entry.PtclTableCacheLogEntry at 0x7f90028a9550>,\n",
       " <halotools.sim_manager.ptcl_table_cache_log_entry.PtclTableCacheLogEntry at 0x7f90028a9590>,\n",
       " <halotools.sim_manager.ptcl_table_cache_log_entry.PtclTableCacheLogEntry at 0x7f90028a95d0>,\n",
       " <halotools.sim_manager.ptcl_table_cache_log_entry.PtclTableCacheLogEntry at 0x7f90028a9610>,\n",
       " <halotools.sim_manager.ptcl_table_cache_log_entry.PtclTableCacheLogEntry at 0x7f90028a9650>,\n",
       " <halotools.sim_manager.ptcl_table_cache_log_entry.PtclTableCacheLogEntry at 0x7f90028a9690>,\n",
       " <halotools.sim_manager.ptcl_table_cache_log_entry.PtclTableCacheLogEntry at 0x7f90028a96d0>,\n",
       " <halotools.sim_manager.ptcl_table_cache_log_entry.PtclTableCacheLogEntry at 0x7f90028a9710>,\n",
       " <halotools.sim_manager.ptcl_table_cache_log_entry.PtclTableCacheLogEntry at 0x7f90028a9750>,\n",
       " <halotools.sim_manager.ptcl_table_cache_log_entry.PtclTableCacheLogEntry at 0x7f90028a9790>,\n",
       " <halotools.sim_manager.ptcl_table_cache_log_entry.PtclTableCacheLogEntry at 0x7f90028a97d0>,\n",
       " <halotools.sim_manager.ptcl_table_cache_log_entry.PtclTableCacheLogEntry at 0x7f90028a9810>,\n",
       " <halotools.sim_manager.ptcl_table_cache_log_entry.PtclTableCacheLogEntry at 0x7f90028a9850>,\n",
       " <halotools.sim_manager.ptcl_table_cache_log_entry.PtclTableCacheLogEntry at 0x7f90028a9890>,\n",
       " <halotools.sim_manager.ptcl_table_cache_log_entry.PtclTableCacheLogEntry at 0x7f90028a98d0>,\n",
       " <halotools.sim_manager.ptcl_table_cache_log_entry.PtclTableCacheLogEntry at 0x7f90028a9910>,\n",
       " <halotools.sim_manager.ptcl_table_cache_log_entry.PtclTableCacheLogEntry at 0x7f90028a9950>,\n",
       " <halotools.sim_manager.ptcl_table_cache_log_entry.PtclTableCacheLogEntry at 0x7f90028a9990>,\n",
       " <halotools.sim_manager.ptcl_table_cache_log_entry.PtclTableCacheLogEntry at 0x7f90028a99d0>,\n",
       " <halotools.sim_manager.ptcl_table_cache_log_entry.PtclTableCacheLogEntry at 0x7f90028a9a10>,\n",
       " <halotools.sim_manager.ptcl_table_cache_log_entry.PtclTableCacheLogEntry at 0x7f90028a9a50>,\n",
       " <halotools.sim_manager.ptcl_table_cache_log_entry.PtclTableCacheLogEntry at 0x7f90028a9a90>,\n",
       " <halotools.sim_manager.ptcl_table_cache_log_entry.PtclTableCacheLogEntry at 0x7f90028a9ad0>,\n",
       " <halotools.sim_manager.ptcl_table_cache_log_entry.PtclTableCacheLogEntry at 0x7f90028a9b10>,\n",
       " <halotools.sim_manager.ptcl_table_cache_log_entry.PtclTableCacheLogEntry at 0x7f90028a9b50>,\n",
       " <halotools.sim_manager.ptcl_table_cache_log_entry.PtclTableCacheLogEntry at 0x7f90028a9b90>,\n",
       " <halotools.sim_manager.ptcl_table_cache_log_entry.PtclTableCacheLogEntry at 0x7f90028a9bd0>,\n",
       " <halotools.sim_manager.ptcl_table_cache_log_entry.PtclTableCacheLogEntry at 0x7f90028a9c10>,\n",
       " <halotools.sim_manager.ptcl_table_cache_log_entry.PtclTableCacheLogEntry at 0x7f90028a9c50>,\n",
       " <halotools.sim_manager.ptcl_table_cache_log_entry.PtclTableCacheLogEntry at 0x7f90028a9c90>,\n",
       " <halotools.sim_manager.ptcl_table_cache_log_entry.PtclTableCacheLogEntry at 0x7f90028a9cd0>,\n",
       " <halotools.sim_manager.ptcl_table_cache_log_entry.PtclTableCacheLogEntry at 0x7f90028a9d10>,\n",
       " <halotools.sim_manager.ptcl_table_cache_log_entry.PtclTableCacheLogEntry at 0x7f90028a9d50>,\n",
       " <halotools.sim_manager.ptcl_table_cache_log_entry.PtclTableCacheLogEntry at 0x7f90028a9d90>,\n",
       " <halotools.sim_manager.ptcl_table_cache_log_entry.PtclTableCacheLogEntry at 0x7f90028a9dd0>,\n",
       " <halotools.sim_manager.ptcl_table_cache_log_entry.PtclTableCacheLogEntry at 0x7f90028a9e10>,\n",
       " <halotools.sim_manager.ptcl_table_cache_log_entry.PtclTableCacheLogEntry at 0x7f90028a9e50>,\n",
       " <halotools.sim_manager.ptcl_table_cache_log_entry.PtclTableCacheLogEntry at 0x7f90028a9e90>,\n",
       " <halotools.sim_manager.ptcl_table_cache_log_entry.PtclTableCacheLogEntry at 0x7f90028a9ed0>,\n",
       " <halotools.sim_manager.ptcl_table_cache_log_entry.PtclTableCacheLogEntry at 0x7f90028a9f10>,\n",
       " <halotools.sim_manager.ptcl_table_cache_log_entry.PtclTableCacheLogEntry at 0x7f90028a9f50>,\n",
       " <halotools.sim_manager.ptcl_table_cache_log_entry.PtclTableCacheLogEntry at 0x7f90028a9f90>,\n",
       " <halotools.sim_manager.ptcl_table_cache_log_entry.PtclTableCacheLogEntry at 0x7f90028a9fd0>,\n",
       " <halotools.sim_manager.ptcl_table_cache_log_entry.PtclTableCacheLogEntry at 0x7f900284c050>,\n",
       " <halotools.sim_manager.ptcl_table_cache_log_entry.PtclTableCacheLogEntry at 0x7f900284c090>,\n",
       " <halotools.sim_manager.ptcl_table_cache_log_entry.PtclTableCacheLogEntry at 0x7f900284c0d0>,\n",
       " <halotools.sim_manager.ptcl_table_cache_log_entry.PtclTableCacheLogEntry at 0x7f900284c110>,\n",
       " <halotools.sim_manager.ptcl_table_cache_log_entry.PtclTableCacheLogEntry at 0x7f900284c150>,\n",
       " <halotools.sim_manager.ptcl_table_cache_log_entry.PtclTableCacheLogEntry at 0x7f900284c190>,\n",
       " <halotools.sim_manager.ptcl_table_cache_log_entry.PtclTableCacheLogEntry at 0x7f900284c1d0>,\n",
       " <halotools.sim_manager.ptcl_table_cache_log_entry.PtclTableCacheLogEntry at 0x7f900284c210>,\n",
       " <halotools.sim_manager.ptcl_table_cache_log_entry.PtclTableCacheLogEntry at 0x7f900284c250>,\n",
       " <halotools.sim_manager.ptcl_table_cache_log_entry.PtclTableCacheLogEntry at 0x7f900284c290>,\n",
       " <halotools.sim_manager.ptcl_table_cache_log_entry.PtclTableCacheLogEntry at 0x7f900284c2d0>,\n",
       " <halotools.sim_manager.ptcl_table_cache_log_entry.PtclTableCacheLogEntry at 0x7f900284c310>,\n",
       " <halotools.sim_manager.ptcl_table_cache_log_entry.PtclTableCacheLogEntry at 0x7f900284c350>,\n",
       " <halotools.sim_manager.ptcl_table_cache_log_entry.PtclTableCacheLogEntry at 0x7f900284c390>,\n",
       " <halotools.sim_manager.ptcl_table_cache_log_entry.PtclTableCacheLogEntry at 0x7f900284c3d0>,\n",
       " <halotools.sim_manager.ptcl_table_cache_log_entry.PtclTableCacheLogEntry at 0x7f900284c410>,\n",
       " <halotools.sim_manager.ptcl_table_cache_log_entry.PtclTableCacheLogEntry at 0x7f900284c450>,\n",
       " <halotools.sim_manager.ptcl_table_cache_log_entry.PtclTableCacheLogEntry at 0x7f900284c490>,\n",
       " <halotools.sim_manager.ptcl_table_cache_log_entry.PtclTableCacheLogEntry at 0x7f900284c4d0>,\n",
       " <halotools.sim_manager.ptcl_table_cache_log_entry.PtclTableCacheLogEntry at 0x7f900284c510>,\n",
       " <halotools.sim_manager.ptcl_table_cache_log_entry.PtclTableCacheLogEntry at 0x7f900284c550>,\n",
       " <halotools.sim_manager.ptcl_table_cache_log_entry.PtclTableCacheLogEntry at 0x7f900284c590>,\n",
       " <halotools.sim_manager.ptcl_table_cache_log_entry.PtclTableCacheLogEntry at 0x7f900284c5d0>,\n",
       " <halotools.sim_manager.ptcl_table_cache_log_entry.PtclTableCacheLogEntry at 0x7f900284c610>,\n",
       " <halotools.sim_manager.ptcl_table_cache_log_entry.PtclTableCacheLogEntry at 0x7f900284c650>,\n",
       " <halotools.sim_manager.ptcl_table_cache_log_entry.PtclTableCacheLogEntry at 0x7f900284c690>,\n",
       " <halotools.sim_manager.ptcl_table_cache_log_entry.PtclTableCacheLogEntry at 0x7f900284c6d0>,\n",
       " <halotools.sim_manager.ptcl_table_cache_log_entry.PtclTableCacheLogEntry at 0x7f900284c710>,\n",
       " <halotools.sim_manager.ptcl_table_cache_log_entry.PtclTableCacheLogEntry at 0x7f900284c750>,\n",
       " <halotools.sim_manager.ptcl_table_cache_log_entry.PtclTableCacheLogEntry at 0x7f900284c790>,\n",
       " <halotools.sim_manager.ptcl_table_cache_log_entry.PtclTableCacheLogEntry at 0x7f900284c7d0>,\n",
       " <halotools.sim_manager.ptcl_table_cache_log_entry.PtclTableCacheLogEntry at 0x7f900284c810>,\n",
       " <halotools.sim_manager.ptcl_table_cache_log_entry.PtclTableCacheLogEntry at 0x7f900284c850>,\n",
       " <halotools.sim_manager.ptcl_table_cache_log_entry.PtclTableCacheLogEntry at 0x7f900284c890>,\n",
       " <halotools.sim_manager.ptcl_table_cache_log_entry.PtclTableCacheLogEntry at 0x7f900284c8d0>,\n",
       " <halotools.sim_manager.ptcl_table_cache_log_entry.PtclTableCacheLogEntry at 0x7f900284c910>,\n",
       " <halotools.sim_manager.ptcl_table_cache_log_entry.PtclTableCacheLogEntry at 0x7f900284c950>,\n",
       " <halotools.sim_manager.ptcl_table_cache_log_entry.PtclTableCacheLogEntry at 0x7f900284c990>,\n",
       " <halotools.sim_manager.ptcl_table_cache_log_entry.PtclTableCacheLogEntry at 0x7f900284c9d0>]"
      ]
     },
     "execution_count": 13,
     "metadata": {},
     "output_type": "execute_result"
    }
   ],
   "source": [
    "cache.log"
   ]
  },
  {
   "cell_type": "code",
   "execution_count": 7,
   "metadata": {},
   "outputs": [
    {
     "ename": "InvalidCacheLogEntry",
     "evalue": "The particle catalog and/or its associated metadata fail the following tests:\n\n1. The input filename does not exist.\n\n",
     "output_type": "error",
     "traceback": [
      "\u001b[0;31m\u001b[0m",
      "\u001b[0;31mInvalidCacheLogEntry\u001b[0mTraceback (most recent call last)",
      "\u001b[0;32m<ipython-input-7-bad5e4c16504>\u001b[0m in \u001b[0;36m<module>\u001b[0;34m()\u001b[0m\n\u001b[0;32m----> 1\u001b[0;31m \u001b[0mcat\u001b[0m\u001b[0;34m.\u001b[0m\u001b[0mhalocat\u001b[0m\u001b[0;34m.\u001b[0m\u001b[0mptcl_table\u001b[0m\u001b[0;34m\u001b[0m\u001b[0m\n\u001b[0m",
      "\u001b[0;32m/home/users/swmclau2/.local/lib/python2.7/site-packages/halotools-0.7.dev5048-py2.7-linux-x86_64.egg/halotools/sim_manager/cached_halo_catalog.pyc\u001b[0m in \u001b[0;36mptcl_table\u001b[0;34m(self)\u001b[0m\n\u001b[1;32m    630\u001b[0m                 \u001b[0;32mreturn\u001b[0m \u001b[0mself\u001b[0m\u001b[0;34m.\u001b[0m\u001b[0m_ptcl_table\u001b[0m\u001b[0;34m\u001b[0m\u001b[0m\n\u001b[1;32m    631\u001b[0m             \u001b[0;32melse\u001b[0m\u001b[0;34m:\u001b[0m\u001b[0;34m\u001b[0m\u001b[0m\n\u001b[0;32m--> 632\u001b[0;31m                 \u001b[0;32mraise\u001b[0m \u001b[0mInvalidCacheLogEntry\u001b[0m\u001b[0;34m(\u001b[0m\u001b[0mptcl_log_entry\u001b[0m\u001b[0;34m.\u001b[0m\u001b[0m_cache_safety_message\u001b[0m\u001b[0;34m)\u001b[0m\u001b[0;34m\u001b[0m\u001b[0m\n\u001b[0m\u001b[1;32m    633\u001b[0m \u001b[0;34m\u001b[0m\u001b[0m\n\u001b[1;32m    634\u001b[0m     def _disallow_catalogs_with_known_bugs(self, simname=sim_defaults.default_simname,\n",
      "\u001b[0;31mInvalidCacheLogEntry\u001b[0m: The particle catalog and/or its associated metadata fail the following tests:\n\n1. The input filename does not exist.\n\n"
     ]
    }
   ],
   "source": [
    "cat.halocat.ptcl_table"
   ]
  },
  {
   "cell_type": "code",
   "execution_count": null,
   "metadata": {
    "collapsed": true
   },
   "outputs": [],
   "source": [
    "um_galcat = np.load('/home/users/swmclau2/scratch/UniverseMachine/cut_um_catalog.npy')"
   ]
  },
  {
   "cell_type": "code",
   "execution_count": null,
   "metadata": {
    "collapsed": true
   },
   "outputs": [],
   "source": [
    "pos = um_galcat['pos'][:, :3]"
   ]
  },
  {
   "cell_type": "code",
   "execution_count": null,
   "metadata": {
    "collapsed": true
   },
   "outputs": [],
   "source": [
    "rbins = np.logspace(-1.1, 1.6, 19)\n",
    "rpoints = (rbins[1:] + rbins[:-1])/2.0"
   ]
  },
  {
   "cell_type": "markdown",
   "metadata": {},
   "source": [
    "Note: make sure the luminosity cut i did makes snese with the min ptcl count I do on the emus"
   ]
  },
  {
   "cell_type": "code",
   "execution_count": null,
   "metadata": {
    "collapsed": true
   },
   "outputs": [],
   "source": [
    "cat.model.mock.galaxy_table.colnames"
   ]
  },
  {
   "cell_type": "code",
   "execution_count": null,
   "metadata": {
    "collapsed": true
   },
   "outputs": [],
   "source": [
    "plt.plot(rpoints, xi_gg)\n",
    "plt.loglog();"
   ]
  },
  {
   "cell_type": "code",
   "execution_count": null,
   "metadata": {
    "collapsed": true
   },
   "outputs": [],
   "source": []
  }
 ],
 "metadata": {
  "kernelspec": {
   "display_name": "Python 2",
   "language": "python",
   "name": "python2"
  },
  "language_info": {
   "codemirror_mode": {
    "name": "ipython",
    "version": 2
   },
   "file_extension": ".py",
   "mimetype": "text/x-python",
   "name": "python",
   "nbconvert_exporter": "python",
   "pygments_lexer": "ipython2",
   "version": "2.7.13"
  }
 },
 "nbformat": 4,
 "nbformat_minor": 2
}

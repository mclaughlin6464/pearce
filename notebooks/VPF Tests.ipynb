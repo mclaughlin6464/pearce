{
 "cells": [
  {
   "cell_type": "markdown",
   "metadata": {},
   "source": [
    "Playing with Arka's VPF code. Trying to understand it and ultimately put it into halotools. "
   ]
  },
  {
   "cell_type": "code",
   "execution_count": 1,
   "metadata": {
    "collapsed": true
   },
   "outputs": [],
   "source": [
    "import numpy as np\n",
    "from scipy import spatial, interpolate\n",
    "from scipy.stats import percentileofscore\n",
    "from pearce.mocks.kittens import TrainingBox\n",
    "from time import time"
   ]
  },
  {
   "cell_type": "code",
   "execution_count": 2,
   "metadata": {
    "collapsed": true
   },
   "outputs": [],
   "source": [
    "%matplotlib inline\n",
    "from matplotlib import pyplot as plt"
   ]
  },
  {
   "cell_type": "raw",
   "metadata": {},
   "source": [
    "import numpy as np\n",
    "import sys\n",
    "import scipy.spatial\n",
    "import matplotlib.pylab as plt\n",
    "from scipy import interpolate\n",
    "from os import urandom\n",
    "import readfof\n",
    "from numba import jit\n",
    "import subprocess\n",
    "import os"
   ]
  },
  {
   "cell_type": "code",
   "execution_count": 3,
   "metadata": {
    "collapsed": true
   },
   "outputs": [],
   "source": [
    "def CDFVolkNN(vol):\n",
    "    N = vol.shape[0]\n",
    "    gof = ((np.arange(0, N) + 1) / (N*1.0))\n",
    "\n",
    "    ind = np.argsort(vol)\n",
    "    sVol= vol[ind]\n",
    "    print sVol.shape, gof.shape, N\n",
    "    # return array of interpolating functions\n",
    "    CDF = interpolate.interp1d(sVol,gof, kind='linear', \\\n",
    "                                        bounds_error=False)\n",
    "    return CDF"
   ]
  },
  {
   "cell_type": "code",
   "execution_count": 4,
   "metadata": {
    "collapsed": true
   },
   "outputs": [],
   "source": [
    "def my_CDFVolkNN(vol, binc):\n",
    "   \n",
    "    sVol= np.sort(vol)\n",
    "    CDF =  np.searchsorted(sVol, binc)\n",
    "    \n",
    "    return CDF/float(vol.shape[0])"
   ]
  },
  {
   "cell_type": "code",
   "execution_count": 116,
   "metadata": {
    "collapsed": false
   },
   "outputs": [],
   "source": [
    "def VDF(halo_table, nrandoms,cat, bins):\n",
    "    t0=time()\n",
    "    halo_pos = np.stack(halo_table['halo_%s'%coord] for coord in ['x', 'y', 'z']).T\n",
    "    #print halo_pos.shape\n",
    "\n",
    "    #Build Tree with halo positions\n",
    "    periodic=0 # TODO whats this do?\n",
    "\n",
    "    #Generate  nrandoms randoms on the same volume\n",
    "    random_pos = np.random.rand(nrandoms,3)*cat.Lbox\n",
    "    # Leaf size from 16-. 256 slowed down queery time a lot\n",
    "    # flipping the defintion the other way doesnt work\n",
    "    #xtree = spatial.cKDTree(halo_pos, boxsize=periodic, leafsize = 256)\n",
    "    xtree = spatial.cKDTree(halo_pos, boxsize=periodic, leafsize = 16)\n",
    "\n",
    "    #Get nearest neighbor distance\n",
    "    dis, disi = xtree.query(random_pos, k=1, eps = 1.0, n_jobs=-1)\n",
    "    vol = dis\n",
    "\n",
    "    #Define the bins\n",
    "    binw = bins[1:] - bins[:-1]\n",
    "    binc = (bins[1:] + bins[:-1]) / 2\n",
    "    #Now get the VPF\n",
    "    #CDFs = CDFVolkNN(vol)\n",
    "    dummyvpf = my_CDFVolkNN(vol, binc)\n",
    "\n",
    "    #Remove NaN from outside interpolation region\n",
    "    #dummyvpf[np.isnan(dummyvpf)] = 1.0\n",
    "    #return CDFs, dummyvpf\n",
    "    return dummyvpf"
   ]
  },
  {
   "cell_type": "code",
   "execution_count": 73,
   "metadata": {
    "collapsed": true
   },
   "outputs": [],
   "source": [
    "cat = TrainingBox(0)"
   ]
  },
  {
   "cell_type": "code",
   "execution_count": 74,
   "metadata": {
    "collapsed": false
   },
   "outputs": [],
   "source": [
    "cat.load_catalog(1.0)"
   ]
  },
  {
   "cell_type": "code",
   "execution_count": 75,
   "metadata": {
    "collapsed": false
   },
   "outputs": [
    {
     "data": {
      "text/plain": [
       "10055159"
      ]
     },
     "execution_count": 75,
     "metadata": {},
     "output_type": "execute_result"
    }
   ],
   "source": [
    "len(cat.halocat.halo_table)"
   ]
  },
  {
   "cell_type": "code",
   "execution_count": 102,
   "metadata": {
    "collapsed": true
   },
   "outputs": [],
   "source": [
    "nrandoms = 100**3\n",
    "Boxsize = cat.Lbox\n",
    "\n",
    "n1 = 3000 #Number of data points to subsample down to.\n",
    "           #For analysis on 10Mpc-50Mpc scales, a range of 30000<n1<90000\n",
    "           #seems optimal. For pushing to lower scales, you can try increasing\n",
    "           #n1 and see if you get more information.\n",
    "\n",
    "Ncut = 100000 #Rank on halo mass list to go down to.\n"
   ]
  },
  {
   "cell_type": "code",
   "execution_count": 103,
   "metadata": {
    "collapsed": true
   },
   "outputs": [],
   "source": [
    "halo_masses = cat.halocat.halo_table['halo_mvir']"
   ]
  },
  {
   "cell_type": "code",
   "execution_count": 104,
   "metadata": {
    "collapsed": true
   },
   "outputs": [],
   "source": [
    "mass_idxs = np.argsort(halo_masses)"
   ]
  },
  {
   "cell_type": "code",
   "execution_count": 105,
   "metadata": {
    "collapsed": false
   },
   "outputs": [],
   "source": [
    "cut_idxs = mass_idxs[-Ncut:]"
   ]
  },
  {
   "cell_type": "code",
   "execution_count": 106,
   "metadata": {
    "collapsed": true
   },
   "outputs": [],
   "source": [
    "halo_table = cat.halocat.halo_table[cut_idxs]"
   ]
  },
  {
   "cell_type": "code",
   "execution_count": 107,
   "metadata": {
    "collapsed": true
   },
   "outputs": [],
   "source": [
    "bins = np.logspace(-1, 1.8, 1000)"
   ]
  },
  {
   "cell_type": "code",
   "execution_count": 108,
   "metadata": {
    "collapsed": false
   },
   "outputs": [
    {
     "name": "stdout",
     "output_type": "stream",
     "text": [
      "A 0.00191688537598\n",
      "B 0.111558914185\n",
      "C 0.577996969223\n",
      "D 0.671555042267\n"
     ]
    },
    {
     "name": "stderr",
     "output_type": "stream",
     "text": [
      "/afs/slac.stanford.edu/u/ki/swmclau2/.local/lib/python2.7/site-packages/ipykernel/__main__.py:3: FutureWarning: arrays to stack must be passed as a \"sequence\" type such as list or tuple. Support for non-sequence iterables such as generators is deprecated as of NumPy 1.16 and will raise an error in the future.\n",
      "  app.launch_new_instance()\n"
     ]
    }
   ],
   "source": [
    "sim_vpf_n1 = VDF(halo_table, Ncut*10,cat, bins)"
   ]
  },
  {
   "cell_type": "code",
   "execution_count": 109,
   "metadata": {
    "collapsed": false
   },
   "outputs": [],
   "source": [
    "#interpolator, vpf = sim_vpf_n1\n",
    "vpf = sim_vpf_n1"
   ]
  },
  {
   "cell_type": "code",
   "execution_count": 110,
   "metadata": {
    "collapsed": false
   },
   "outputs": [],
   "source": [
    "binc = (bins[1:] + bins[:-1]) / 2"
   ]
  },
  {
   "cell_type": "code",
   "execution_count": 111,
   "metadata": {
    "collapsed": false
   },
   "outputs": [
    {
     "data": {
      "text/plain": [
       "[<matplotlib.lines.Line2D at 0x7f9c3b00f5d0>]"
      ]
     },
     "execution_count": 111,
     "metadata": {},
     "output_type": "execute_result"
    },
    {
     "data": {
      "image/png": "[encoded data removed]",
      "text/plain": [
       "<matplotlib.figure.Figure at 0x7f9c04077910>"
      ]
     },
     "metadata": {},
     "output_type": "display_data"
    }
   ],
   "source": [
    "plt.plot(binc, vpf);\n",
    "#plt.xscale('log')"
   ]
  },
  {
   "cell_type": "code",
   "execution_count": 112,
   "metadata": {
    "collapsed": false
   },
   "outputs": [
    {
     "data": {
      "text/plain": [
       "10055159"
      ]
     },
     "execution_count": 112,
     "metadata": {},
     "output_type": "execute_result"
    }
   ],
   "source": [
    "len(mass_idxs)"
   ]
  },
  {
   "cell_type": "code",
   "execution_count": 124,
   "metadata": {
    "collapsed": false
   },
   "outputs": [
    {
     "name": "stdout",
     "output_type": "stream",
     "text": [
      "1e+14\n",
      "55532\n",
      "1e+13\n",
      "946302\n",
      "1e+12\n",
      "6453631\n",
      "1e+11\n",
      "10019345\n"
     ]
    },
    {
     "name": "stderr",
     "output_type": "stream",
     "text": [
      "/afs/slac.stanford.edu/u/ki/swmclau2/.local/lib/python2.7/site-packages/ipykernel/__main__.py:3: FutureWarning: arrays to stack must be passed as a \"sequence\" type such as list or tuple. Support for non-sequence iterables such as generators is deprecated as of NumPy 1.16 and will raise an error in the future.\n",
      "  app.launch_new_instance()\n"
     ]
    },
    {
     "data": {
      "image/png": "[encoded data removed]",
      "text/plain": [
       "<matplotlib.figure.Figure at 0x7f9c254b3990>"
      ]
     },
     "metadata": {},
     "output_type": "display_data"
    }
   ],
   "source": [
    "for mass_cut in [1e14, 1e13,1e12,1e11]:\n",
    "    print mass_cut\n",
    "    cut_idxs = np.where(halo_masses>mass_cut)[0]\n",
    "    halo_table = cat.halocat.halo_table[cut_idxs]\n",
    "    print len(halo_table)\n",
    "    vpf = VDF(halo_table, Ncut*10,cat, bins)\n",
    "    plt.plot(binc, 1-vpf, label = r'$Mass > 10^{%0.1f} M_{\\odot}$'%np.log10(mass_cut));\n",
    "plt.legend(loc='best')\n",
    "#plt.xscale('log')\n",
    "plt.loglog()\n",
    "plt.show();"
   ]
  },
  {
   "cell_type": "code",
   "execution_count": null,
   "metadata": {
    "collapsed": true
   },
   "outputs": [],
   "source": []
  }
 ],
 "metadata": {
  "kernelspec": {
   "display_name": "Python [conda env:hodemulator]",
   "language": "python",
   "name": "conda-env-hodemulator-py"
  },
  "language_info": {
   "codemirror_mode": {
    "name": "ipython",
    "version": 2
   },
   "file_extension": ".py",
   "mimetype": "text/x-python",
   "name": "python",
   "nbconvert_exporter": "python",
   "pygments_lexer": "ipython2",
   "version": "2.7.13"
  }
 },
 "nbformat": 4,
 "nbformat_minor": 0
}

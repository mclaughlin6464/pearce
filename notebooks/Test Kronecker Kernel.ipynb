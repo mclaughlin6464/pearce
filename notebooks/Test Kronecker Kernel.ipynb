{
 "cells": [
  {
   "cell_type": "markdown",
   "metadata": {},
   "source": [
    "I'm gonna overwrite a lot of this notebook's old content. I changed the way I'm calculating wt, and wanna test that my training worked. "
   ]
  },
  {
   "cell_type": "code",
   "execution_count": 53,
   "metadata": {
    "collapsed": true
   },
   "outputs": [],
   "source": [
    "from pearce.emulator import *\n",
    "from pearce.mocks import cat_dict\n",
    "import numpy as np\n",
    "from os import path"
   ]
  },
  {
   "cell_type": "code",
   "execution_count": 54,
   "metadata": {
    "collapsed": true
   },
   "outputs": [],
   "source": [
    "import matplotlib\n",
    "#matplotlib.use('Agg')\n",
    "from matplotlib import pyplot as plt\n",
    "%matplotlib inline\n",
    "import seaborn as sns\n",
    "sns.set()"
   ]
  },
  {
   "cell_type": "code",
   "execution_count": 55,
   "metadata": {
    "collapsed": true
   },
   "outputs": [],
   "source": [
    "from GPy.models import GPKroneckerGaussianRegression, GPRegression\n",
    "from GPy.kern import *\n",
    "import h5py"
   ]
  },
  {
   "cell_type": "code",
   "execution_count": 56,
   "metadata": {
    "collapsed": true
   },
   "outputs": [],
   "source": [
    "training_file = '/home/users/swmclau2/scratch/xi_gg_zheng07_cosmo_v3/PearceXiggCosmo.hdf5'\n",
    "test_file = '/home/users/swmclau2/scratch/xi_gg_zheng07_cosmo_test_v3/PearceXiggCosmoTest.hdf5'"
   ]
  },
  {
   "cell_type": "code",
   "execution_count": 57,
   "metadata": {
    "collapsed": true
   },
   "outputs": [],
   "source": [
    "f = h5py.File(training_file, 'r')"
   ]
  },
  {
   "cell_type": "code",
   "execution_count": 58,
   "metadata": {
    "collapsed": true
   },
   "outputs": [],
   "source": [
    "Ys = []\n",
    "rbin = 0\n",
    "for i in xrange(40):\n",
    "    Ys.append(f['cosmo_no_%02d'%i]['a_1.000']['obs'].value[:, rbin])"
   ]
  },
  {
   "cell_type": "code",
   "execution_count": 59,
   "metadata": {
    "collapsed": true
   },
   "outputs": [],
   "source": [
    "n_hods = 100\n",
    "start_idx = 0\n",
    "X1 = f.attrs['cosmo_param_vals']\n",
    "X2 = f.attrs['hod_param_vals'][start_idx:start_idx+n_hods]\n",
    "Y = np.vstack(Ys)[:, start_idx:start_idx+n_hods]"
   ]
  },
  {
   "cell_type": "code",
   "execution_count": 60,
   "metadata": {},
   "outputs": [
    {
     "data": {
      "text/plain": [
       "array([[  2.19279200e-02,   1.23913700e-01,  -1.22368100e+00,\n",
       "          9.55235800e-01,   3.11828200e+00,   7.34315200e+01,\n",
       "          4.06625000e+00],\n",
       "       [  2.12396400e-02,   1.27578700e-01,  -1.38164500e+00,\n",
       "          9.56072500e-01,   3.07641300e+00,   7.37599700e+01,\n",
       "          3.34375000e+00],\n",
       "       [  2.24968800e-02,   1.12845000e-01,  -9.25757800e-01,\n",
       "          9.49484200e-01,   3.04281000e+00,   6.84034200e+01,\n",
       "          3.98125000e+00],\n",
       "       [  2.33731900e-02,   1.14970300e-01,  -8.75220700e-01,\n",
       "          9.89173100e-01,   3.14916300e+00,   6.60523100e+01,\n",
       "          3.64125000e+00],\n",
       "       [  2.27557300e-02,   1.22229300e-01,  -1.03229000e+00,\n",
       "          9.50028100e-01,   3.10694000e+00,   6.90703800e+01,\n",
       "          3.13125000e+00],\n",
       "       [  2.34107700e-02,   1.07640600e-01,  -6.12819700e-01,\n",
       "          9.95567600e-01,   3.14028900e+00,   6.16947200e+01,\n",
       "          3.04625000e+00],\n",
       "       [  2.19989400e-02,   1.21296700e-01,  -1.10822200e+00,\n",
       "          9.67361000e-01,   3.17942400e+00,   7.04112900e+01,\n",
       "          3.30125000e+00],\n",
       "       [  2.28744700e-02,   1.09744000e-01,  -8.48745500e-01,\n",
       "          9.77622700e-01,   3.07228700e+00,   6.67262000e+01,\n",
       "          3.51375000e+00],\n",
       "       [  2.37123900e-02,   1.14974700e-01,  -9.55007500e-01,\n",
       "          9.76590700e-01,   3.05350800e+00,   6.97468000e+01,\n",
       "          4.10875000e+00],\n",
       "       [  2.17407200e-02,   1.20070000e-01,  -9.41052900e-01,\n",
       "          9.60207200e-01,   3.09270400e+00,   6.47043000e+01,\n",
       "          4.19375000e+00]])"
      ]
     },
     "execution_count": 60,
     "metadata": {},
     "output_type": "execute_result"
    }
   ],
   "source": [
    "X1[-10:,:]"
   ]
  },
  {
   "cell_type": "code",
   "execution_count": 61,
   "metadata": {},
   "outputs": [
    {
     "data": {
      "text/plain": [
       "array([[ 12.96736737,   0.06126126,  14.3966967 ,   1.26756757],\n",
       "       [ 13.04444444,   0.4027027 ,  14.18548549,   1.10960961],\n",
       "       [ 13.52692693,   0.18558559,  14.5028028 ,   1.22312312],\n",
       "       [ 12.82122122,   0.27072072,  13.73403403,   1.11021021],\n",
       "       [ 12.91331331,   0.4018018 ,  14.44374374,   0.7960961 ],\n",
       "       [ 12.97337337,   0.2518018 ,  14.55085085,   1.1006006 ],\n",
       "       [ 13.52892893,   0.29279279,  13.85915916,   1.04054054],\n",
       "       [ 12.83423423,   0.05720721,  13.89119119,   0.98108108],\n",
       "       [ 13.41981982,   0.30675676,  14.11341341,   1.25435435],\n",
       "       [ 13.58998999,   0.32162162,  13.8981982 ,   0.74624625]])"
      ]
     },
     "execution_count": 61,
     "metadata": {},
     "output_type": "execute_result"
    }
   ],
   "source": [
    "X2[-10:,:]"
   ]
  },
  {
   "cell_type": "code",
   "execution_count": 62,
   "metadata": {},
   "outputs": [
    {
     "data": {
      "text/plain": [
       "((40, 7), (100, 4), (40, 100))"
      ]
     },
     "execution_count": 62,
     "metadata": {},
     "output_type": "execute_result"
    }
   ],
   "source": [
    "X1.shape, X2.shape, Y.shape"
   ]
  },
  {
   "cell_type": "code",
   "execution_count": 63,
   "metadata": {
    "collapsed": true
   },
   "outputs": [],
   "source": [
    "# how to add training errors?"
   ]
  },
  {
   "cell_type": "code",
   "execution_count": 64,
   "metadata": {},
   "outputs": [
    {
     "name": "stdout",
     "output_type": "stream",
     "text": [
      "(40, 40)\n",
      "[ 1.  1.  1.  1.  1.  1.  1.  1.  1.  1.  1.  1.  1.  1.  1.  1.  1.  1.\n",
      "  1.  1.  1.  1.  1.  1.  1.  1.  1.  1.  1.  1.  1.  1.  1.  1.  1.  1.\n",
      "  1.  1.  1.  1.]\n"
     ]
    }
   ],
   "source": [
    "c = np.eye(X1.shape[0])\n",
    "print c.shape\n",
    "print c.diagonal()"
   ]
  },
  {
   "cell_type": "raw",
   "metadata": {
    "collapsed": true
   },
   "source": [
    "K1 = RBF(input_dim = 7, ARD = False)+ Fixed(input_dim = 7, covariance_matrix=np.eye(X1.shape[0]))#+Bias(input_dim=7) + Linear(input_dim = 7, ARD = True)# + Bias(input_dim=7)# + White(input_dim=7)\n",
    "K2 =  RBF(input_dim=4, ARD = False)#+ Linear(input_dim = 4, ARD = False) + Bias(input_dim=4)# + White(input_dim=4)"
   ]
  },
  {
   "cell_type": "code",
   "execution_count": 65,
   "metadata": {
    "collapsed": true
   },
   "outputs": [],
   "source": [
    "K1 = RBF(input_dim = 7, ARD=False)#+ Linear(input_dim = 7, ARD = False) + Bias(input_dim=7)# + White(input_dim=7)\n",
    "K2 =  RBF(input_dim=4, ARD = False)#Linear(input_dim = 4, ARD = True) + Bias(input_dim=4)# + White(input_dim=4)"
   ]
  },
  {
   "cell_type": "code",
   "execution_count": 66,
   "metadata": {
    "collapsed": true
   },
   "outputs": [],
   "source": [
    "model = GPKroneckerGaussianRegression(X1, X2, Y,K1, K2 )"
   ]
  },
  {
   "cell_type": "code",
   "execution_count": 67,
   "metadata": {},
   "outputs": [
    {
     "name": "stdout",
     "output_type": "stream",
     "text": [
      "Optimization restart 1/10, f = -13151.9502508\n",
      "Optimization restart 2/10, f = -13151.9502413\n",
      "Optimization restart 3/10, f = -13151.9502523\n",
      "Optimization restart 4/10, f = -13151.9502642\n",
      "Optimization restart 5/10, f = -13151.9502335\n",
      "Optimization restart 6/10, f = -13151.950267\n",
      "Optimization restart 7/10, f = -13151.9502604\n",
      "Optimization restart 8/10, f = -13151.9502683\n",
      "Optimization restart 9/10, f = -13151.9502764\n",
      "Optimization restart 10/10, f = -13151.9502728\n"
     ]
    },
    {
     "data": {
      "text/plain": [
       "[<paramz.optimization.optimization.opt_lbfgsb at 0x7fa40165ee50>,\n",
       " <paramz.optimization.optimization.opt_lbfgsb at 0x7fa401615bd0>,\n",
       " <paramz.optimization.optimization.opt_lbfgsb at 0x7fa4015ed290>,\n",
       " <paramz.optimization.optimization.opt_lbfgsb at 0x7fa4015ed210>,\n",
       " <paramz.optimization.optimization.opt_lbfgsb at 0x7fa401651e10>,\n",
       " <paramz.optimization.optimization.opt_lbfgsb at 0x7fa401651f50>,\n",
       " <paramz.optimization.optimization.opt_lbfgsb at 0x7fa401651fd0>,\n",
       " <paramz.optimization.optimization.opt_lbfgsb at 0x7fa401651ed0>,\n",
       " <paramz.optimization.optimization.opt_lbfgsb at 0x7fa401651f10>,\n",
       " <paramz.optimization.optimization.opt_lbfgsb at 0x7fa401651dd0>]"
      ]
     },
     "execution_count": 67,
     "metadata": {},
     "output_type": "execute_result"
    }
   ],
   "source": [
    "model.optimize_restarts(num_restarts=10)"
   ]
  },
  {
   "cell_type": "code",
   "execution_count": 85,
   "metadata": {},
   "outputs": [
    {
     "data": {
      "text/html": [
       "<style type=\"text/css\">\n",
       ".tg  {font-family:\"Courier New\", Courier, monospace !important;padding:2px 3px;word-break:normal;border-collapse:collapse;border-spacing:0;border-color:#DCDCDC;margin:0px auto;width:100%;}\n",
       ".tg td{font-family:\"Courier New\", Courier, monospace !important;font-weight:bold;color:#444;background-color:#F7FDFA;border-style:solid;border-width:1px;overflow:hidden;word-break:normal;border-color:#DCDCDC;}\n",
       ".tg th{font-family:\"Courier New\", Courier, monospace !important;font-weight:normal;color:#fff;background-color:#26ADE4;border-style:solid;border-width:1px;overflow:hidden;word-break:normal;border-color:#DCDCDC;}\n",
       ".tg .tg-left{font-family:\"Courier New\", Courier, monospace !important;font-weight:normal;text-align:left;}\n",
       ".tg .tg-center{font-family:\"Courier New\", Courier, monospace !important;font-weight:normal;text-align:center;}\n",
       ".tg .tg-right{font-family:\"Courier New\", Courier, monospace !important;font-weight:normal;text-align:right;}\n",
       "</style>\n",
       "<table class=\"tg\"><tr><th><b>  rbf.       </b></th><th><b>        value</b></th><th><b>constraints</b></th><th><b>priors</b></th></tr>\n",
       "<tr><td class=tg-left>  variance   </td><td class=tg-right>69.5743322297</td><td class=tg-center>    +ve    </td><td class=tg-center>      </td></tr>\n",
       "<tr><td class=tg-left>  lengthscale</td><td class=tg-right>6.14360809854</td><td class=tg-center>    +ve    </td><td class=tg-center>      </td></tr>\n",
       "</table>"
      ],
      "text/plain": [
       "<GPy.kern.src.rbf.RBF at 0x7fa40165ef50>"
      ]
     },
     "execution_count": 85,
     "metadata": {},
     "output_type": "execute_result"
    }
   ],
   "source": [
    "model.kern1"
   ]
  },
  {
   "cell_type": "code",
   "execution_count": 68,
   "metadata": {},
   "outputs": [
    {
     "data": {
      "text/plain": [
       "array([ 69.57433223,   6.1436081 ])"
      ]
     },
     "execution_count": 68,
     "metadata": {},
     "output_type": "execute_result"
    }
   ],
   "source": [
    "K1.param_array"
   ]
  },
  {
   "cell_type": "code",
   "execution_count": 69,
   "metadata": {},
   "outputs": [
    {
     "data": {
      "text/plain": [
       "array([ 45.88148894,   1.97012146])"
      ]
     },
     "execution_count": 69,
     "metadata": {},
     "output_type": "execute_result"
    }
   ],
   "source": [
    "K2.param_array"
   ]
  },
  {
   "cell_type": "code",
   "execution_count": 70,
   "metadata": {
    "collapsed": true
   },
   "outputs": [],
   "source": [
    "f2 = h5py.File(test_file, 'r')"
   ]
  },
  {
   "cell_type": "code",
   "execution_count": 71,
   "metadata": {
    "collapsed": true
   },
   "outputs": [],
   "source": [
    "Y2s = []\n",
    "for i in xrange(35):\n",
    "    Y2s.append(f2['cosmo_no_%02d'%i]['a_1.000']['obs'].value[:, rbin])"
   ]
  },
  {
   "cell_type": "code",
   "execution_count": 72,
   "metadata": {
    "collapsed": true
   },
   "outputs": [],
   "source": [
    "testX1 = f2.attrs['cosmo_param_vals']\n",
    "testX2 = f2.attrs['hod_param_vals']\n",
    "testY = np.vstack(Y2s)"
   ]
  },
  {
   "cell_type": "code",
   "execution_count": 73,
   "metadata": {},
   "outputs": [
    {
     "name": "stdout",
     "output_type": "stream",
     "text": [
      "(35, 7)\n",
      "(1000, 4)\n",
      "(35, 1000)\n"
     ]
    }
   ],
   "source": [
    "print testX1.shape\n",
    "print testX2.shape\n",
    "print testY.shape"
   ]
  },
  {
   "cell_type": "code",
   "execution_count": 74,
   "metadata": {},
   "outputs": [
    {
     "name": "stdout",
     "output_type": "stream",
     "text": [
      "[  2.32629000e-02   1.07830000e-01  -7.26513000e-01   9.80515000e-01\n",
      "   3.03895000e+00   6.32317000e+01   2.95000000e+00]\n",
      "[ 13.48388388   0.26666667  14.14344344   1.26636637]\n"
     ]
    }
   ],
   "source": [
    "print testX1[0,:]\n",
    "print testX2[0,:]"
   ]
  },
  {
   "cell_type": "code",
   "execution_count": 75,
   "metadata": {},
   "outputs": [],
   "source": [
    "predY, _ = model.predict(testX1, testX2)"
   ]
  },
  {
   "cell_type": "code",
   "execution_count": 76,
   "metadata": {},
   "outputs": [
    {
     "name": "stdout",
     "output_type": "stream",
     "text": [
      "(35000, 1)\n"
     ]
    }
   ],
   "source": [
    "print predY.shape"
   ]
  },
  {
   "cell_type": "code",
   "execution_count": 77,
   "metadata": {},
   "outputs": [
    {
     "name": "stdout",
     "output_type": "stream",
     "text": [
      "[ 3.81625036]\n"
     ]
    }
   ],
   "source": [
    "print predY[0]"
   ]
  },
  {
   "cell_type": "code",
   "execution_count": 78,
   "metadata": {},
   "outputs": [
    {
     "data": {
      "text/plain": [
       "0.029989317626029389"
      ]
     },
     "execution_count": 78,
     "metadata": {},
     "output_type": "execute_result"
    }
   ],
   "source": [
    "np.median( np.abs( (10**predY[:,0] - 10**testY.flatten(order='F'))/10**testY.flatten(order='F') )  ) "
   ]
  },
  {
   "cell_type": "code",
   "execution_count": 79,
   "metadata": {},
   "outputs": [
    {
     "data": {
      "text/plain": [
       "0.037938955447990814"
      ]
     },
     "execution_count": 79,
     "metadata": {},
     "output_type": "execute_result"
    }
   ],
   "source": [
    "np.mean( np.abs( (10**predY[:,0] - 10**testY.flatten(order='F'))/10**testY.flatten(order='F') )  ) "
   ]
  },
  {
   "cell_type": "code",
   "execution_count": 80,
   "metadata": {},
   "outputs": [
    {
     "data": {
      "text/plain": [
       "array([ 3.81625036,  3.81625036,  3.81625036, ...,  3.8831422 ,\n",
       "        3.8831422 ,  3.8831422 ])"
      ]
     },
     "execution_count": 80,
     "metadata": {},
     "output_type": "execute_result"
    }
   ],
   "source": [
    "predY[:,0]"
   ]
  },
  {
   "cell_type": "code",
   "execution_count": 81,
   "metadata": {},
   "outputs": [
    {
     "data": {
      "text/plain": [
       "array([ 3.75435156,  3.76497942,  3.76070541, ...,  3.89549228,\n",
       "        3.89280012,  3.89538578])"
      ]
     },
     "execution_count": 81,
     "metadata": {},
     "output_type": "execute_result"
    }
   ],
   "source": [
    "testY.flatten(order='F')"
   ]
  },
  {
   "cell_type": "code",
   "execution_count": 82,
   "metadata": {
    "collapsed": true
   },
   "outputs": [],
   "source": [
    "k_dict = K1.to_dict()"
   ]
  },
  {
   "cell_type": "code",
   "execution_count": 83,
   "metadata": {},
   "outputs": [
    {
     "ename": "KeyError",
     "evalue": "'parts'",
     "output_type": "error",
     "traceback": [
      "\u001b[0;31m\u001b[0m",
      "\u001b[0;31mKeyError\u001b[0mTraceback (most recent call last)",
      "\u001b[0;32m<ipython-input-83-4a2605541446>\u001b[0m in \u001b[0;36m<module>\u001b[0;34m()\u001b[0m\n\u001b[0;32m----> 1\u001b[0;31m \u001b[0mk_dict\u001b[0m\u001b[0;34m[\u001b[0m\u001b[0;34m'parts'\u001b[0m\u001b[0;34m]\u001b[0m\u001b[0;34m.\u001b[0m\u001b[0mkeys\u001b[0m\u001b[0;34m(\u001b[0m\u001b[0;34m)\u001b[0m\u001b[0;34m\u001b[0m\u001b[0m\n\u001b[0m",
      "\u001b[0;31mKeyError\u001b[0m: 'parts'"
     ]
    }
   ],
   "source": [
    "k_dict['parts'].keys()"
   ]
  },
  {
   "cell_type": "code",
   "execution_count": null,
   "metadata": {
    "collapsed": true
   },
   "outputs": [],
   "source": []
  }
 ],
 "metadata": {
  "kernelspec": {
   "display_name": "Python 2",
   "language": "python",
   "name": "python2"
  },
  "language_info": {
   "codemirror_mode": {
    "name": "ipython",
    "version": 2
   },
   "file_extension": ".py",
   "mimetype": "text/x-python",
   "name": "python",
   "nbconvert_exporter": "python",
   "pygments_lexer": "ipython2",
   "version": "2.7.13"
  }
 },
 "nbformat": 4,
 "nbformat_minor": 1
}

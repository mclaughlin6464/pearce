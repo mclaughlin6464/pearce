{
 "cells": [
  {
   "cell_type": "markdown",
   "metadata": {},
   "source": [
    "I did this a bit flippantly before, but I want to fomalize the process by which we estimate the uncertainty on emulator predictions. "
   ]
  },
  {
   "cell_type": "code",
   "execution_count": 1,
   "metadata": {
    "collapsed": true
   },
   "outputs": [],
   "source": [
    "from pearce.emulator import NashvilleHot\n",
    "from GPy.kern import *\n",
    "import numpy as np\n",
    "from os import path"
   ]
  },
  {
   "cell_type": "code",
   "execution_count": 2,
   "metadata": {
    "collapsed": true
   },
   "outputs": [],
   "source": [
    "import matplotlib\n",
    "#matplotlib.use('Agg')\n",
    "from matplotlib import pyplot as plt\n",
    "%matplotlib inline\n",
    "import seaborn as sns\n",
    "sns.set()"
   ]
  },
  {
   "cell_type": "code",
   "execution_count": 3,
   "metadata": {
    "collapsed": true
   },
   "outputs": [],
   "source": [
    "training_file = '/home/users/swmclau2/scratch/xi_gg_zheng07_cosmo_v3/PearceXiggCosmo.hdf5'\n",
    "test_file = '/home/users/swmclau2/scratch/xi_gg_zheng07_cosmo_test_v3/PearceXiggCosmoTest.hdf5'"
   ]
  },
  {
   "cell_type": "code",
   "execution_count": 4,
   "metadata": {
    "collapsed": true
   },
   "outputs": [],
   "source": [
    "fixed_params = {'z':0.0}"
   ]
  },
  {
   "cell_type": "code",
   "execution_count": 5,
   "metadata": {
    "collapsed": true
   },
   "outputs": [],
   "source": [
    "hyperparams = {'kernel': ( RBF(input_dim=7, ARD=False)+Bias(input_dim=7),\n",
    "                            RBF(input_dim=4, ARD=False)+Bias(input_dim=4) ), \\\n",
    "               'optimize': True}"
   ]
  },
  {
   "cell_type": "code",
   "execution_count": 6,
   "metadata": {},
   "outputs": [
    {
     "name": "stdout",
     "output_type": "stream",
     "text": [
      "0 ***************\n",
      "Optimization restart 1/5, f = -14877.9415991\n",
      "Optimization restart 2/5, f = -14877.9408714\n",
      "Optimization restart 3/5, f = -14877.941564\n",
      "Optimization restart 4/5, f = -14877.9416854\n",
      "Optimization restart 5/5, f = -14877.9415817\n",
      "1 ***************\n",
      "Optimization restart 1/5, f = -14459.5592928\n",
      "Optimization restart 2/5, f = -15348.8828817\n",
      "Optimization restart 3/5, f = -14459.0628592\n",
      "Optimization restart 4/5, f = -15348.8829769\n",
      "Optimization restart 5/5, f = -15348.8795973\n",
      "2 ***************\n",
      "Optimization restart 1/5, f = -14912.3766433\n",
      "Optimization restart 2/5, f = -15805.3587306\n",
      "Optimization restart 3/5, f = -15805.3587337\n",
      "Optimization restart 4/5, f = -15805.3587326\n",
      "Optimization restart 5/5, f = -15805.3587379\n",
      "3 ***************\n",
      "Optimization restart 1/5, f = -15243.6828342\n",
      "Optimization restart 2/5, f = -16172.7221935\n",
      "Optimization restart 3/5, f = -16172.7221926\n",
      "Optimization restart 4/5, f = -15243.4924968\n",
      "Optimization restart 5/5, f = -16172.7221941\n",
      "4 ***************\n",
      "Optimization restart 1/5, f = -16463.6657877\n",
      "Optimization restart 2/5, f = -16463.6657866\n",
      "Optimization restart 3/5, f = -16463.665785\n",
      "Optimization restart 4/5, f = -16463.6657846\n",
      "Optimization restart 5/5, f = -16463.6657861\n",
      "5 ***************\n"
     ]
    },
    {
     "name": "stderr",
     "output_type": "stream",
     "text": [
      " /home/users/swmclau2/.local/lib/python2.7/site-packages/GPy/kern/src/stationary.py:168: RuntimeWarning:overflow encountered in divide\n"
     ]
    },
    {
     "name": "stdout",
     "output_type": "stream",
     "text": [
      "Optimization restart 1/5, f = -16657.7264295\n",
      "Optimization restart 2/5, f = -15633.5018977\n",
      "Optimization restart 3/5, f = -15633.759048\n",
      "Optimization restart 4/5, f = 38039.1002485\n",
      "Optimization restart 5/5, f = -16657.7263767\n",
      "6 ***************\n",
      "Optimization restart 1/5, f = -16284.7124437\n",
      "Optimization restart 2/5, f = nan\n",
      "Optimization restart 3/5, f = -16284.7124655\n",
      "Optimization restart 4/5, f = -16284.7124659\n",
      "Optimization restart 5/5, f = -16284.712465\n",
      "7 ***************\n",
      "Optimization restart 1/5, f = -17022.1480337\n",
      "Optimization restart 2/5, f = -15534.6726094\n",
      "Optimization restart 3/5, f = -17022.1480343\n",
      "Optimization restart 4/5, f = -17022.1480341\n",
      "Optimization restart 5/5, f = -17022.1480339\n",
      "8 ***************\n",
      "Optimization restart 1/5, f = -17549.5952619\n",
      "Optimization restart 2/5, f = -17549.5952627\n",
      "Optimization restart 3/5, f = -17549.5952631\n",
      "Optimization restart 4/5, f = -17549.5952631\n",
      "Optimization restart 5/5, f = -17549.5952628\n",
      "9 ***************\n",
      "Optimization restart 1/5, f = -17530.57917\n",
      "Optimization restart 2/5, f = -17530.5791315\n",
      "Optimization restart 3/5, f = -17530.5791702\n",
      "Optimization restart 4/5, f = -17530.5791697\n",
      "Optimization restart 5/5, f = -17530.5791552\n",
      "10 ***************\n",
      "Optimization restart 1/5, f = -17605.6373912\n",
      "Optimization restart 2/5, f = -17605.6373912\n",
      "Optimization restart 3/5, f = -17605.6373912\n",
      "Optimization restart 4/5, f = -17605.6373912\n",
      "Optimization restart 5/5, f = -17605.6373912\n",
      "11 ***************\n",
      "Optimization restart 1/5, f = -18375.4582039\n",
      "Optimization restart 2/5, f = -18375.4582102\n",
      "Optimization restart 3/5, f = -18375.4582095\n",
      "Optimization restart 4/5, f = -18375.4582102\n",
      "Optimization restart 5/5, f = -18375.4582102\n",
      "12 ***************\n",
      "Optimization restart 1/5, f = -19831.5225127\n",
      "Optimization restart 2/5, f = -19831.5225778\n",
      "Optimization restart 3/5, f = -17825.6619457\n",
      "Optimization restart 4/5, f = -19831.5225778\n",
      "Optimization restart 5/5, f = -19831.5225777\n",
      "13 ***************\n",
      "Optimization restart 1/5, f = -20854.5849513\n",
      "Optimization restart 2/5, f = -20854.5848518\n",
      "Optimization restart 3/5, f = -20854.5849489\n",
      "Optimization restart 4/5, f = -20854.5849511\n",
      "Optimization restart 5/5, f = -20854.5849501\n",
      "14 ***************\n",
      "Optimization restart 1/5, f = -21192.8642154\n",
      "Optimization restart 2/5, f = -21192.8642112\n",
      "Optimization restart 3/5, f = -21192.8642144\n",
      "Optimization restart 4/5, f = -21192.8642153\n",
      "Optimization restart 5/5, f = -21192.8642149\n",
      "15 ***************\n",
      "Optimization restart 1/5, f = -19222.4410008\n",
      "Optimization restart 2/5, f = -21036.2124471\n",
      "Optimization restart 3/5, f = -19222.4323599\n",
      "Optimization restart 4/5, f = -21036.2124469\n",
      "Optimization restart 5/5, f = -21036.212445\n",
      "16 ***************\n",
      "Optimization restart 1/5, f = -20930.2159773\n",
      "Optimization restart 2/5, f = -19119.935235\n",
      "Optimization restart 3/5, f = -20930.2159751\n",
      "Optimization restart 4/5, f = -20930.2159772\n",
      "Optimization restart 5/5, f = -20930.2159731\n",
      "17 ***************\n",
      "Optimization restart 1/5, f = -20298.9497176\n",
      "Optimization restart 2/5, f = -20298.9497197\n",
      "Optimization restart 3/5, f = -20298.9497196\n",
      "Optimization restart 4/5, f = -20298.9497182\n",
      "Optimization restart 5/5, f = -20298.9497197\n"
     ]
    }
   ],
   "source": [
    "emu = NashvilleHot(training_file, hyperparams=hyperparams,fixed_params = fixed_params, downsample_factor = 0.1)"
   ]
  },
  {
   "cell_type": "code",
   "execution_count": 7,
   "metadata": {},
   "outputs": [],
   "source": [
    "x = emu.save_as_default_kernel()"
   ]
  },
  {
   "cell_type": "code",
   "execution_count": 8,
   "metadata": {
    "collapsed": true
   },
   "outputs": [],
   "source": [
    "from ast import literal_eval"
   ]
  },
  {
   "cell_type": "code",
   "execution_count": 9,
   "metadata": {},
   "outputs": [
    {
     "name": "stdout",
     "output_type": "stream",
     "text": [
      "[u'obs', u'min_ptcl', u'cosmo_param_names', u'scale_factors', u'hod_param_names', u'scale_bins', u'cosmo_param_vals', u'hod_param_vals', u'nh_kernel']\n"
     ]
    }
   ],
   "source": [
    "import h5py\n",
    "f = h5py.File(training_file)\n",
    "print f.attrs.keys()\n",
    "f.close()"
   ]
  },
  {
   "cell_type": "code",
   "execution_count": 10,
   "metadata": {},
   "outputs": [
    {
     "name": "stderr",
     "output_type": "stream",
     "text": [
      " /home/users/swmclau2/.local/lib/python2.7/site-packages/paramz/transformations.py:111: RuntimeWarning:overflow encountered in expm1\n"
     ]
    }
   ],
   "source": [
    "emu2 = NashvilleHot(training_file, hyperparams={},fixed_params = fixed_params, downsample_factor = 0.1)"
   ]
  },
  {
   "cell_type": "code",
   "execution_count": 11,
   "metadata": {},
   "outputs": [
    {
     "data": {
      "text/html": [
       "<style type=\"text/css\">\n",
       ".tg  {font-family:\"Courier New\", Courier, monospace !important;padding:2px 3px;word-break:normal;border-collapse:collapse;border-spacing:0;border-color:#DCDCDC;margin:0px auto;width:100%;}\n",
       ".tg td{font-family:\"Courier New\", Courier, monospace !important;font-weight:bold;color:#444;background-color:#F7FDFA;border-style:solid;border-width:1px;overflow:hidden;word-break:normal;border-color:#DCDCDC;}\n",
       ".tg th{font-family:\"Courier New\", Courier, monospace !important;font-weight:normal;color:#fff;background-color:#26ADE4;border-style:solid;border-width:1px;overflow:hidden;word-break:normal;border-color:#DCDCDC;}\n",
       ".tg .tg-left{font-family:\"Courier New\", Courier, monospace !important;font-weight:normal;text-align:left;}\n",
       ".tg .tg-center{font-family:\"Courier New\", Courier, monospace !important;font-weight:normal;text-align:center;}\n",
       ".tg .tg-right{font-family:\"Courier New\", Courier, monospace !important;font-weight:normal;text-align:right;}\n",
       "</style>\n",
       "<table class=\"tg\"><tr><th><b>  sum.           </b></th><th><b>        value</b></th><th><b>constraints</b></th><th><b>priors</b></th></tr>\n",
       "<tr><td class=tg-left>  rbf.variance   </td><td class=tg-right>0.42703565894</td><td class=tg-center>    +ve    </td><td class=tg-center>      </td></tr>\n",
       "<tr><td class=tg-left>  rbf.lengthscale</td><td class=tg-right>4.01371774995</td><td class=tg-center>    +ve    </td><td class=tg-center>      </td></tr>\n",
       "<tr><td class=tg-left>  bias.variance  </td><td class=tg-right>2.58577489641</td><td class=tg-center>    +ve    </td><td class=tg-center>      </td></tr>\n",
       "</table>"
      ],
      "text/plain": [
       "<GPy.kern.src.add.Add at 0x7f8dadf6e250>"
      ]
     },
     "execution_count": 11,
     "metadata": {},
     "output_type": "execute_result"
    }
   ],
   "source": [
    "emu._kernels[0][0]"
   ]
  },
  {
   "cell_type": "code",
   "execution_count": 12,
   "metadata": {},
   "outputs": [
    {
     "data": {
      "text/html": [
       "<style type=\"text/css\">\n",
       ".tg  {font-family:\"Courier New\", Courier, monospace !important;padding:2px 3px;word-break:normal;border-collapse:collapse;border-spacing:0;border-color:#DCDCDC;margin:0px auto;width:100%;}\n",
       ".tg td{font-family:\"Courier New\", Courier, monospace !important;font-weight:bold;color:#444;background-color:#F7FDFA;border-style:solid;border-width:1px;overflow:hidden;word-break:normal;border-color:#DCDCDC;}\n",
       ".tg th{font-family:\"Courier New\", Courier, monospace !important;font-weight:normal;color:#fff;background-color:#26ADE4;border-style:solid;border-width:1px;overflow:hidden;word-break:normal;border-color:#DCDCDC;}\n",
       ".tg .tg-left{font-family:\"Courier New\", Courier, monospace !important;font-weight:normal;text-align:left;}\n",
       ".tg .tg-center{font-family:\"Courier New\", Courier, monospace !important;font-weight:normal;text-align:center;}\n",
       ".tg .tg-right{font-family:\"Courier New\", Courier, monospace !important;font-weight:normal;text-align:right;}\n",
       "</style>\n",
       "<table class=\"tg\"><tr><th><b>  sum.           </b></th><th><b>        value</b></th><th><b>constraints</b></th><th><b>priors</b></th></tr>\n",
       "<tr><td class=tg-left>  rbf.variance   </td><td class=tg-right>0.42703565894</td><td class=tg-center>    +ve    </td><td class=tg-center>      </td></tr>\n",
       "<tr><td class=tg-left>  rbf.lengthscale</td><td class=tg-right>4.01371774995</td><td class=tg-center>    +ve    </td><td class=tg-center>      </td></tr>\n",
       "<tr><td class=tg-left>  bias.variance  </td><td class=tg-right>2.58577489641</td><td class=tg-center>    +ve    </td><td class=tg-center>      </td></tr>\n",
       "</table>"
      ],
      "text/plain": [
       "<GPy.kern.src.add.Add at 0x7f8dac7eb410>"
      ]
     },
     "execution_count": 12,
     "metadata": {},
     "output_type": "execute_result"
    }
   ],
   "source": [
    "emu2._kernels[0][0]"
   ]
  },
  {
   "cell_type": "code",
   "execution_count": null,
   "metadata": {
    "collapsed": true
   },
   "outputs": [],
   "source": []
  }
 ],
 "metadata": {
  "kernelspec": {
   "display_name": "Python 2",
   "language": "python",
   "name": "python2"
  },
  "language_info": {
   "codemirror_mode": {
    "name": "ipython",
    "version": 2
   },
   "file_extension": ".py",
   "mimetype": "text/x-python",
   "name": "python",
   "nbconvert_exporter": "python",
   "pygments_lexer": "ipython2",
   "version": "2.7.13"
  }
 },
 "nbformat": 4,
 "nbformat_minor": 2
}

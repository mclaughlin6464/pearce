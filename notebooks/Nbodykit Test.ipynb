{
 "cells": [
  {
   "cell_type": "markdown",
   "metadata": {},
   "source": [
    "I'm using Nbodykit for some fastpm stuff and debugging it in scripts is a pain, so I'm doing it here."
   ]
  },
  {
   "cell_type": "code",
   "execution_count": 16,
   "metadata": {
    "collapsed": true
   },
   "outputs": [],
   "source": [
    "from os import path, mkdir\n",
    "from subprocess import call\n",
    "from time import time\n",
    "import numpy as np\n",
    "import pandas as pd\n",
    "import yaml\n",
    "from nbodykit.cosmology import Cosmology\n",
    "from nbodykit.cosmology.power import EHPower, ZeldovichPower"
   ]
  },
  {
   "cell_type": "code",
   "execution_count": 17,
   "metadata": {
    "collapsed": true
   },
   "outputs": [],
   "source": [
    "from pearce.sims import sim_config_template, submission_file_template"
   ]
  },
  {
   "cell_type": "code",
   "execution_count": 25,
   "metadata": {},
   "outputs": [
    {
     "name": "stdout",
     "output_type": "stream",
     "text": [
      "\n"
     ]
    }
   ],
   "source": [
    "def submit_sims(lhc_fname, output_dir, powerspectrum, initial_z, final_z,\\\n",
    "                npart, boxsize, ncores, sim_time):\n",
    "\n",
    "    assert path.isdir(output_dir), \"Invalid output directory %s\"%output_dir\n",
    "\n",
    "    lhc = pd.read_csv('/home/users/swmclau2/Git/pearce/bin/pmesh_tests/'+lhc_fname, sep=' ', index_col=None)\n",
    "    param_names = list(lhc)\n",
    "\n",
    "    k = np.logspace(-4, 2, 1000)\n",
    "    # others?\n",
    "    assert powerspectrum.lower() in {'linear', 'zeldovich'}, \"Invalid initial power specturm\"\n",
    "\n",
    "    if powerspectrum.lower() == 'linear':\n",
    "        power = EHPower\n",
    "    else:\n",
    "        power = ZeldovichPower\n",
    "\n",
    "    initial_a, final_a = 1./(1+initial_z), 1./(1+final_z)\n",
    "\n",
    "    for idx, row in lhc.iterrows():\n",
    "        # TODO what to do if already exists? likely will throw some kind of error\n",
    "        \n",
    "        boxdir = path.join(output_dir, \"Box_%03d/\"%idx)\n",
    "        #mkdir(boxdir)\n",
    "\n",
    "        # TODO parse Jeremy's header, or adjust it to be compliant here\n",
    "        param_dict = dict([(pn, row[pn]) for pn in param_names] )\n",
    "        print param_dict.keys()\n",
    "        param_dict['N_ncdm'] = 3.0\n",
    "        param_dict['N_ur'] = param_dict['Neff']-3.0\n",
    "        del param_dict['Neff']\n",
    "        \n",
    "        param_dict['h'] = param_dict['H0']/100\n",
    "        del param_dict['H0']\n",
    "        \n",
    "        param_dict['w0_fld'] = param_dict['w0']\n",
    "        del param_dict['w0']\n",
    "        \n",
    "        cosmo = Cosmology(**param_dict)\n",
    "        # TODO i wanted to do this with fixed amplitudes, not sure how\n",
    "        p = power(cosmo, initial_z)(k)\n",
    "        np.savetxt(path.join(boxdir,'powerspec.txt'), np.array((k,p)).T)\n",
    "        return 0\n",
    "        with open(path.join(boxdir, 'nbodykit.lua')) as f:\n",
    "           f.write(sim_config_template.format(nc = npart, boxsize = boxsize,\n",
    "                                              initial_a = initial_a,\n",
    "                                              final_a = final_a,\n",
    "                                              final_z = final_z,\n",
    "                                              omega_m = cosmo.Om0,\n",
    "                                              h = cosmo.h,\n",
    "                                              seed = int(time())%1000,\n",
    "                                              boxdir = boxdir))\n",
    "\n",
    "        # now, write submission file and submit\n",
    "\n",
    "        with open(path.join(boxdir, 'submit_sim.sbatch')) as f:\n",
    "            f.write(submission_file_template.format(jobname = 'Box_%03d'%idx,\n",
    "                                                    boxdir = boxdir,\n",
    "                                                    time = sim_time*60, #TODO in config\n",
    "                                                    ntasks = ncores))\n",
    "\n",
    "        call(\"sbatch {boxdir}submit_sim.sbatch\".format(boxdir), shell=True)\n"
   ]
  },
  {
   "cell_type": "code",
   "execution_count": 26,
   "metadata": {},
   "outputs": [
    {
     "name": "stdout",
     "output_type": "stream",
     "text": [
      "['Neff', 'H0', 'w0', 'omch2', 'ln10As', 'ns', 'ombh2']\n"
     ]
    },
    {
     "data": {
      "text/plain": [
       "0"
      ]
     },
     "execution_count": 26,
     "metadata": {},
     "output_type": "execute_result"
    }
   ],
   "source": [
    "config_fname = '/home/users/swmclau2/Git/pearce/bin/pmesh_tests/pmesh_test.yaml'\n",
    "# NOTE could use a vars(args) to turn into a dictionary.\n",
    "# currently not doing that if some of those end up not being arguments for submit_sims\n",
    "try:\n",
    "    assert path.isfile(config_fname)\n",
    "except AssertionError:\n",
    "    raise AssertionError(\"%s is not a valid filename.\" % config_fname)\n",
    "\n",
    "with open(config_fname, 'r') as ymlfile:\n",
    "    cfg = yaml.load(ymlfile)\n",
    "\n",
    "#try:\n",
    "submit_sims(**cfg)\n",
    "#except TypeError:\n",
    "#    raise TypeError(\"Not all require arguments specified in yaml config.\")\n",
    "                                                                                                 "
   ]
  },
  {
   "cell_type": "code",
   "execution_count": null,
   "metadata": {
    "collapsed": true
   },
   "outputs": [],
   "source": []
  }
 ],
 "metadata": {
  "kernelspec": {
   "display_name": "Python 2",
   "language": "python",
   "name": "python2"
  },
  "language_info": {
   "codemirror_mode": {
    "name": "ipython",
    "version": 2
   },
   "file_extension": ".py",
   "mimetype": "text/x-python",
   "name": "python",
   "nbconvert_exporter": "python",
   "pygments_lexer": "ipython2",
   "version": "2.7.13"
  }
 },
 "nbformat": 4,
 "nbformat_minor": 2
}

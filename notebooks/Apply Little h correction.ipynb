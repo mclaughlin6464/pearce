{
 "cells": [
  {
   "cell_type": "code",
   "execution_count": 1,
   "metadata": {
    "collapsed": true
   },
   "outputs": [],
   "source": [
    "import numpy as np\n",
    "import h5py\n",
    "from os import path, rename\n",
    "from shutil import copyfile\n",
    "from glob import glob"
   ]
  },
  {
   "cell_type": "raw",
   "metadata": {
    "collapsed": true
   },
   "source": [
    "orig_fname = '/u/ki/swmclau2/des/ds_zheng07/PearceDsCosmo.hdf5'\n",
    "new_fname = '/u/ki/swmclau2/des/ds_zheng07/PearceDsCosmo.hdf5'"
   ]
  },
  {
   "cell_type": "raw",
   "metadata": {
    "collapsed": true
   },
   "source": [
    "orig_fname = '/u/ki/swmclau2/des/ds_zheng07_test/PearceDsCosmoTest.hdf5'\n",
    "new_fname = '/u/ki/swmclau2/des/ds_zheng07_test/PearceDsCosmoTest_littleh_correction.hdf5'"
   ]
  },
  {
   "cell_type": "code",
   "execution_count": 7,
   "metadata": {
    "collapsed": true
   },
   "outputs": [],
   "source": [
    "base_dir = '/u/ki/swmclau2/des/Aemulators'\n",
    "orig_fnames = [#'ds_zheng07/PearceDsCosmo.hdf5', 'ds_zheng07_test/PearceDsCosmoTest.hdf5',\n",
    "              #'ds_hsab/PearceDsHSABCosmo.hdf5']#, \n",
    "               'ds_hsab_test2/PearceDsHSABCosmoTest.hdf5']#,\n",
    "              #'ds_cab/PearceDsCABCosmo.hdf5', 'ds_cab_test/PearceDsCABCosmoTest.hdf5',\n",
    "              #'ds_corrab/PearceDsCorrABCosmo.hdf5', 'ds_corrab_test/PearceDsCorrABCosmoTest.hdf5']"
   ]
  },
  {
   "cell_type": "code",
   "execution_count": 8,
   "metadata": {
    "collapsed": true
   },
   "outputs": [],
   "source": [
    "tmp_fname = 'tmp.hdf5'"
   ]
  },
  {
   "cell_type": "code",
   "execution_count": 9,
   "metadata": {
    "collapsed": true
   },
   "outputs": [],
   "source": [
    "def h_factor(h):\n",
    "    return np.log10(h)*2"
   ]
  },
  {
   "cell_type": "code",
   "execution_count": 10,
   "metadata": {
    "collapsed": false
   },
   "outputs": [
    {
     "name": "stdout",
     "output_type": "stream",
     "text": [
      "ds_hsab_test2/PearceDsHSABCosmoTest.hdf5\n"
     ]
    }
   ],
   "source": [
    "for fname in orig_fnames:\n",
    "    print fname\n",
    "    orig_fname = path.join(base_dir, fname)\n",
    "    dirname = path.dirname(orig_fname)\n",
    "    new_fname = path.join(dirname, tmp_fname)\n",
    "    copyfile(orig_fname, new_fname)\n",
    "\n",
    "    with h5py.File(orig_fname, 'r') as orig_f, h5py.File(new_fname, 'a') as new_f:\n",
    "        little_hs =  orig_f.attrs['cosmo_param_vals'][:, 4]/100\n",
    "\n",
    "        #print len(little_hs)\n",
    "        keys = orig_f.keys()\n",
    "        if 'attrs' in keys:\n",
    "            keys.remove('attrs')\n",
    "        \n",
    "        for h, dset_key in zip(little_hs, keys):\n",
    "\n",
    "            orig_data = orig_f[dset_key]['a_1.000']['obs']\n",
    "            new_data = orig_data+h_factor(h)\n",
    "\n",
    "            new_f[dset_key]['a_1.000']['obs'][()] = new_data\n",
    "            \n",
    "            # TODO cov as well\n",
    "    \n",
    "    rename(orig_fname, orig_fname + '_old')\n",
    "    copyfile(new_fname, orig_fname)\n",
    "\n",
    "    "
   ]
  },
  {
   "cell_type": "code",
   "execution_count": null,
   "metadata": {
    "collapsed": false
   },
   "outputs": [],
   "source": [
    "%%bash\n",
    "ls /u/ki/swmclau2/des/ds_cab/*.hdf5* -ltr"
   ]
  },
  {
   "cell_type": "code",
   "execution_count": null,
   "metadata": {
    "collapsed": true
   },
   "outputs": [],
   "source": [
    "mock_measurements_dir = '/afs/slac.stanford.edu/u/ki/swmclau2/Git/pearce/bin/mock_measurements/'"
   ]
  },
  {
   "cell_type": "code",
   "execution_count": null,
   "metadata": {
    "collapsed": true
   },
   "outputs": [],
   "source": [
    "mock_measurements_files = glob(path.join(mock_measurements_dir, '*ds.npy'))"
   ]
  },
  {
   "cell_type": "raw",
   "metadata": {},
   "source": [
    "hs = {'HOD': 0.657317, 'other': 0.6777}\n",
    "for m in mock_measurements_files:\n",
    "    print m\n",
    "    if 'HOD' in m:\n",
    "        h = hs['HOD']\n",
    "    else:\n",
    "        h = hs['other']\n",
    "    x =  np.load(m)\n",
    "    np.save(m + '_old', x)\n",
    "    np.save(m , x*h**2 )"
   ]
  },
  {
   "cell_type": "code",
   "execution_count": null,
   "metadata": {
    "collapsed": true
   },
   "outputs": [],
   "source": [
    "darksky_h = 0.7036893781978598"
   ]
  },
  {
   "cell_type": "code",
   "execution_count": null,
   "metadata": {
    "collapsed": true
   },
   "outputs": [],
   "source": [
    "covmat_dir = '/u/ki/swmclau2/Git/pearce/bin/covmat/'"
   ]
  },
  {
   "cell_type": "raw",
   "metadata": {},
   "source": [
    "for fname in ['wp_ds_full_covmat.npy', 'wp_ds_sim_covmat.npy']:\n",
    "    c = np.load(path.join(covmat_dir, fname))\n",
    "    np.save(path.join(covmat_dir, fname+ '_old'), c)\n",
    "    np.save(path.join(covmat_dir, fname), c[18:36][18:36]*darksky_h**4)\n",
    "\n",
    "c = np.load(path.join(covmat_dir, 'ds_full_covmat.npy') )\n",
    "np.save(path.join(covmat_dir, 'ds_full_covmat.npy'+ '_old'), c)\n",
    "np.save(path.join(covmat_dir, 'ds_full_covmat.npy'), c*darksky_h**4)"
   ]
  },
  {
   "cell_type": "code",
   "execution_count": null,
   "metadata": {
    "collapsed": true
   },
   "outputs": [],
   "source": []
  }
 ],
 "metadata": {
  "kernelspec": {
   "display_name": "Python [conda env:hodemulator]",
   "language": "python",
   "name": "conda-env-hodemulator-py"
  },
  "language_info": {
   "codemirror_mode": {
    "name": "ipython",
    "version": 2
   },
   "file_extension": ".py",
   "mimetype": "text/x-python",
   "name": "python",
   "nbconvert_exporter": "python",
   "pygments_lexer": "ipython2",
   "version": "2.7.13"
  }
 },
 "nbformat": 4,
 "nbformat_minor": 0
}

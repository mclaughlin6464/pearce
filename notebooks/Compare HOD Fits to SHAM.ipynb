{
 "cells": [
  {
   "cell_type": "markdown",
   "metadata": {},
   "source": [
    "I'm curious what the HOD parameters I recover from SHAM (and UM) in a cosmological context. Similarly, do the Assembly bias values I recover make sense? "
   ]
  },
  {
   "cell_type": "code",
   "execution_count": 60,
   "metadata": {
    "collapsed": true
   },
   "outputs": [],
   "source": [
    "from matplotlib import pyplot as plt\n",
    "%matplotlib inline"
   ]
  },
  {
   "cell_type": "code",
   "execution_count": 61,
   "metadata": {
    "collapsed": true
   },
   "outputs": [],
   "source": [
    "import numpy as np\n",
    "from os import path\n",
    "import h5py\n",
    "import astropy\n",
    "from scipy.special import erf\n",
    "from halotools.mock_observables import hod_from_mock\n",
    "from halotools.utils import broadcast_host_halo_property, add_halo_hostid"
   ]
  },
  {
   "cell_type": "code",
   "execution_count": 62,
   "metadata": {
    "collapsed": true
   },
   "outputs": [],
   "source": [
    "from pearce.mocks.kittens import TrainingBox"
   ]
  },
  {
   "cell_type": "code",
   "execution_count": 63,
   "metadata": {
    "collapsed": true
   },
   "outputs": [],
   "source": [
    "um_dir = '/u/ki/swmclau2/des/aemulus_mock_catalogs/'"
   ]
  },
  {
   "cell_type": "code",
   "execution_count": 64,
   "metadata": {
    "collapsed": false
   },
   "outputs": [],
   "source": [
    "cen_hod = np.load(path.join(um_dir,'mdpl2_hod.npy'))\n",
    "sat_hod = np.load(path.join(um_dir,'mdpl2_sat_hod.npy'))\n",
    "tot_hod = np.load(path.join(um_dir,'mdpl2_hod.npy'))"
   ]
  },
  {
   "cell_type": "code",
   "execution_count": 65,
   "metadata": {
    "collapsed": false
   },
   "outputs": [],
   "source": [
    "mass_func = np.load(path.join(um_dir, 'mass_function.npy'))"
   ]
  },
  {
   "cell_type": "code",
   "execution_count": 66,
   "metadata": {
    "collapsed": true
   },
   "outputs": [],
   "source": [
    "haloprop_bins = np.logspace(10,16, 60)\n",
    "mbc = (haloprop_bins[1:]+haloprop_bins[:-1])/2.0"
   ]
  },
  {
   "cell_type": "code",
   "execution_count": 67,
   "metadata": {
    "collapsed": false
   },
   "outputs": [
    {
     "data": {
      "image/png": "[encoded data removed]",
      "text/plain": [
       "<matplotlib.figure.Figure at 0x7fb79ffd4110>"
      ]
     },
     "metadata": {},
     "output_type": "display_data"
    }
   ],
   "source": [
    "plt.plot(mbc, cen_hod)\n",
    "plt.plot(mbc, sat_hod)\n",
    "plt.plot(mbc, cen_hod+sat_hod)\n",
    "plt.plot(mbc, tot_hod)\n",
    "plt.loglog();"
   ]
  },
  {
   "cell_type": "raw",
   "metadata": {},
   "source": [
    "cfname = '/home/users/swmclau2/scratch/UniverseMachine/hod_catalog3.npy'\n",
    "cat = astropy.table.Table(np.load(cfname))\n"
   ]
  },
  {
   "cell_type": "raw",
   "metadata": {},
   "source": [
    "cenmask = cat['gal_type'] == 'centrals'\n"
   ]
  },
  {
   "cell_type": "raw",
   "metadata": {},
   "source": [
    "len(cat[cenmask]['halo_id']), len(np.unique(cat[cenmask]['halo_id']))"
   ]
  },
  {
   "cell_type": "raw",
   "metadata": {},
   "source": [
    "tot_hod = np.histogram(cat['halo_mvir'], haloprop_bins)[0]\n",
    "cen_hod = np.histogram(cat[cenmask]['halo_mvir'], haloprop_bins)[0]"
   ]
  },
  {
   "cell_type": "raw",
   "metadata": {},
   "source": [
    "plt.plot(mbc, tot_hod)\n",
    "plt.plot(mbc, cen_hod)\n",
    "plt.plot(mbc, mass_func)\n",
    "plt.loglog();"
   ]
  },
  {
   "cell_type": "raw",
   "metadata": {},
   "source": [
    "plt.plot(mbc, tot_hod*1.0/mass_func)\n",
    "plt.plot(mbc, cen_hod*1.0/mass_func)\n",
    "plt.loglog();"
   ]
  },
  {
   "cell_type": "code",
   "execution_count": 68,
   "metadata": {
    "collapsed": true
   },
   "outputs": [],
   "source": [
    "def ZhengCenHOD(mass, param_dict):\n",
    "    \n",
    "    logM = np.log10(mass)\n",
    "    mean_ncen = 0.5*(1.0 + erf(\n",
    "        (logM - param_dict['logMmin']) / param_dict['sigma_logM']))\n",
    "\n",
    "    return mean_ncen\n",
    "\n",
    "def ZhengSatHOD(mass, param_dict, mean_ncen = None):\n",
    "    M0 = 10.**param_dict['logM0']\n",
    "    M1 = 10.**param_dict['logM1']\n",
    "\n",
    "    mean_nsat = np.zeros_like(mass)\n",
    "\n",
    "    idx_nonzero = np.where(mass - M0 > 0)[0]\n",
    "    \n",
    "    mean_nsat[idx_nonzero] = ((mass[idx_nonzero] - M0)/M1)**param_dict['alpha']\n",
    "\n",
    "    # If a central occupation model was passed to the constructor,\n",
    "    # multiply mean_nsat by an overall factor of mean_ncen\n",
    "    if mean_ncen is not None:\n",
    "        # compatible with AB models\n",
    "        mean_nsat *= mean_ncen\n",
    "\n",
    "    return mean_nsat\n",
    "\n",
    "def ZhengHOD(mass, param_dict):\n",
    "    mean_ncen = ZhengCenHOD(mass, param_dict)\n",
    "    mean_nsat = ZhengSatHOD(mass, param_dict, mean_ncen)\n",
    "    return mean_ncen, mean_nsat"
   ]
  },
  {
   "cell_type": "code",
   "execution_count": 69,
   "metadata": {
    "collapsed": true
   },
   "outputs": [],
   "source": [
    "def calc_nd(mass,param_dict, mass_func):\n",
    "    cen_hod, sat_hod = ZhengHOD(mass, param_dict)\n",
    "    hod = cen_hod+sat_hod\n",
    "    return np.dot(mass_func, hod)/(1000.0**3)\n",
    "\n",
    "from scipy.optimize import minimize_scalar\n",
    "def add_logMmin(hod_params, mass, mass_func):\n",
    "\n",
    "    hod_params['logMmin'] = 13.0 #initial guess\n",
    "    #cat.populate(hod_params) #may be overkill, but will ensure params are written everywhere\n",
    "    def func(logMmin, hod_params):\n",
    "        hod_params.update({'logMmin':logMmin})\n",
    "        return (calc_nd(mass, hod_params, mass_func) - 5e-4)**2\n",
    "\n",
    "    res = minimize_scalar(func, bounds = (12,15), args = (hod_params,), options = {'maxiter':100}, method = 'Bounded')\n",
    "\n",
    "    # assuming this doens't fail\n",
    "    print 'logMmin', res.x\n",
    "    hod_params['logMmin'] = res.x"
   ]
  },
  {
   "cell_type": "code",
   "execution_count": 70,
   "metadata": {
    "collapsed": false
   },
   "outputs": [
    {
     "data": {
      "text/plain": [
       "0.00048649635535305086"
      ]
     },
     "execution_count": 70,
     "metadata": {},
     "output_type": "execute_result"
    }
   ],
   "source": [
    "calc_nd(mbc, true_hod_params, mass_func)"
   ]
  },
  {
   "cell_type": "code",
   "execution_count": 30,
   "metadata": {
    "collapsed": true
   },
   "outputs": [],
   "source": [
    "with h5py.File('/u/ki/swmclau2/des/PearceMCMC/HOD_MDPL2_wp_ds_rmin_0.5_HOD.hdf5', 'r') as f:\n",
    "    hod_pnames =  f.attrs['param_names'][7:-1]\n",
    "    chain = f['chain'][:, 7:-1]"
   ]
  },
  {
   "cell_type": "code",
   "execution_count": 31,
   "metadata": {
    "collapsed": true
   },
   "outputs": [],
   "source": [
    "param_dict = dict(zip(hod_pnames, chain[0]))"
   ]
  },
  {
   "cell_type": "code",
   "execution_count": 32,
   "metadata": {
    "collapsed": false
   },
   "outputs": [
    {
     "name": "stdout",
     "output_type": "stream",
     "text": [
      "logMmin 13.215872548431053\n"
     ]
    }
   ],
   "source": [
    "add_logMmin(param_dict, mbc, mass_func)"
   ]
  },
  {
   "cell_type": "code",
   "execution_count": 33,
   "metadata": {
    "collapsed": true
   },
   "outputs": [],
   "source": [
    "true_hod_params = {'alpha': 1.083, 'logM0': 13.2, 'logM1': 14.2, 'sigma_logM': 0.2}\n",
    "true_hod_params['logMmin'] = 13.0 #approx, can fit if i have to"
   ]
  },
  {
   "cell_type": "code",
   "execution_count": 34,
   "metadata": {
    "collapsed": true
   },
   "outputs": [],
   "source": [
    "cat = TrainingBox(0)\n",
    "cat.load(1.0, HOD='zheng07')"
   ]
  },
  {
   "cell_type": "code",
   "execution_count": 35,
   "metadata": {
    "collapsed": true
   },
   "outputs": [],
   "source": [
    "def add_logMmin2(cat, params, nd):\n",
    "    def func(logMmin, hod_params):\n",
    "        params.update({'logMmin':logMmin})\n",
    "        return (cat.calc_analytic_nd(params, min_ptcl=20) - nd)**2\n",
    "\n",
    "    res = minimize_scalar(func, bounds = (12,16), args = (params,), options = {'maxiter':100}, method = 'Bounded')\n",
    "\n",
    "     # assuming this doens't fail\n",
    "    print 'logMmin', res.x\n",
    "    params['logMmin'] = res.x\n"
   ]
  },
  {
   "cell_type": "code",
   "execution_count": 36,
   "metadata": {
    "collapsed": false
   },
   "outputs": [
    {
     "name": "stdout",
     "output_type": "stream",
     "text": [
      "logMmin 13.13668041816722\n"
     ]
    }
   ],
   "source": [
    "add_logMmin2(cat, true_hod_params, 5e-4)\n",
    "cat.populate(true_hod_params)"
   ]
  },
  {
   "cell_type": "code",
   "execution_count": 55,
   "metadata": {
    "collapsed": false
   },
   "outputs": [
    {
     "name": "stdout",
     "output_type": "stream",
     "text": [
      "0.0005000001824937846\n"
     ]
    }
   ],
   "source": [
    "print cat.calc_analytic_nd(true_hod_params,min_ptcl=20)"
   ]
  },
  {
   "cell_type": "code",
   "execution_count": 58,
   "metadata": {
    "collapsed": false
   },
   "outputs": [
    {
     "data": {
      "text/plain": [
       "0.000457595"
      ]
     },
     "execution_count": 58,
     "metadata": {},
     "output_type": "execute_result"
    }
   ],
   "source": [
    "np.sum(mass_func*cen_hod)/(1000.0**3)"
   ]
  },
  {
   "cell_type": "code",
   "execution_count": 38,
   "metadata": {
    "collapsed": false
   },
   "outputs": [
    {
     "name": "stdout",
     "output_type": "stream",
     "text": [
      "logMmin 13.148201449794596\n",
      "logMmin 13.119554402620256\n",
      "logMmin 13.184052788324424\n",
      "logMmin 13.183954733534119\n",
      "logMmin 13.164949536672617\n",
      "logMmin 13.198899876626477\n",
      "logMmin 13.154760805386308\n",
      "logMmin 13.116953718463314\n",
      "logMmin 13.114447241075643\n",
      "logMmin 13.237657077210862\n",
      "logMmin 13.222659224239651\n",
      "logMmin 13.129089585297189\n",
      "logMmin 13.13617387485246\n",
      "logMmin 13.172001398102651\n",
      "logMmin 13.164684995657836\n",
      "logMmin 13.13331864408366\n",
      "logMmin 13.136130109032877\n",
      "logMmin 13.185382289895795\n",
      "logMmin 13.135631068710516\n",
      "logMmin 13.168942386560136\n",
      "logMmin 13.19522524014936\n",
      "logMmin 13.177066414819599\n",
      "logMmin 13.192768549485027\n",
      "logMmin 13.11864860700625\n",
      "logMmin 13.159653956356706\n",
      "logMmin 13.138164544312277\n",
      "logMmin 13.158681616886714\n",
      "logMmin 13.133126968874874\n",
      "logMmin 13.118701868364964\n",
      "logMmin 13.15635330344866\n",
      "logMmin 13.179968596281816\n",
      "logMmin 13.174213224729117\n",
      "logMmin 13.16650603288803\n",
      "logMmin 13.143374202863411\n",
      "logMmin 13.178579008573948\n",
      "logMmin 13.163214427588878\n",
      "logMmin 13.207098575613738\n",
      "logMmin 13.18133798295062\n",
      "logMmin 13.127183128787761\n",
      "logMmin 13.199486897805288\n",
      "logMmin 13.183026701141669\n",
      "logMmin 13.119758952680902\n",
      "logMmin 13.164245555120628\n",
      "logMmin 13.138538060316199\n",
      "logMmin 13.130249935320485\n",
      "logMmin 13.273447762794454\n",
      "logMmin 13.12861738492566\n",
      "logMmin 13.134733757244875\n",
      "logMmin 13.118287047538553\n",
      "logMmin 13.163730072834491\n",
      "logMmin 13.114080687602558\n",
      "logMmin 13.139156091121503\n",
      "logMmin 13.14823756438149\n",
      "logMmin 13.158289074932043\n",
      "logMmin 13.12285303900995\n",
      "logMmin 13.132302418678053\n",
      "logMmin 13.15403546592238\n",
      "logMmin 13.20708098193404\n",
      "logMmin 13.15262847150554\n",
      "logMmin 13.229012180307459\n",
      "logMmin 13.191233595653406\n",
      "logMmin 13.201840196162097\n",
      "logMmin 13.164439957340926\n",
      "logMmin 13.136526128794014\n",
      "logMmin 13.159866974296078\n",
      "logMmin 13.250616347907481\n",
      "logMmin 13.147195132477624\n",
      "logMmin 13.13731347366145\n",
      "logMmin 13.174994376381722\n",
      "logMmin 13.11836810391865\n",
      "logMmin 13.185541099754541\n",
      "logMmin 13.147911973427172\n",
      "logMmin 13.134620910526003\n",
      "logMmin 13.125323491034289\n",
      "logMmin 13.135007972716757\n",
      "logMmin 13.132185913202113\n",
      "logMmin 13.151699969308796\n",
      "logMmin 13.132480667138964\n",
      "logMmin 13.144881182123832\n",
      "logMmin 13.109812746258795\n",
      "logMmin 13.210883206923732\n",
      "logMmin 13.139578020854378\n",
      "logMmin 13.136513812584004\n",
      "logMmin 13.174996685631431\n",
      "logMmin 13.131034502570298\n",
      "logMmin 13.161899883754462\n",
      "logMmin 13.143199989421896\n",
      "logMmin 13.163829605991088\n",
      "logMmin 13.157034235717234\n",
      "logMmin 13.17442741978734\n",
      "logMmin 13.11990970193781\n",
      "logMmin 13.124501345022443\n",
      "logMmin 13.180998371114448\n",
      "logMmin 13.130865379753736\n",
      "logMmin 13.14588108231449\n",
      "logMmin 13.14383846638957\n",
      "logMmin 13.17458344791391\n",
      "logMmin 13.223657344067497\n",
      "logMmin 13.148208211932097\n",
      "logMmin 13.183998242558465\n",
      "**********\n"
     ]
    },
    {
     "data": {
      "text/plain": [
       "(0.0001, 100.0)"
      ]
     },
     "execution_count": 38,
     "metadata": {},
     "output_type": "execute_result"
    },
    {
     "data": {
      "image/png": "[encoded data removed]",
      "text/plain": [
       "<matplotlib.figure.Figure at 0x7fb79fa9eb50>"
      ]
     },
     "metadata": {},
     "output_type": "display_data"
    }
   ],
   "source": [
    "N = 100\n",
    "idxs = np.random.choice(chain.shape[0], size=N, replace=False)\n",
    "\n",
    "for i in idxs:\n",
    "    param_dict = dict(zip(hod_pnames, chain[i]))\n",
    "    add_logMmin(param_dict, mbc, mass_func)\n",
    "    c, s = ZhengHOD(mbc, param_dict)\n",
    "    plt.plot(mbc, c+s, alpha = 0.1, color = 'b')\n",
    "    \n",
    "plt.plot(mbc, tot_hod, color = 'r', lw =2)\n",
    "print '*'*10\n",
    "#add_logMmin(param)\n",
    "c,s = ZhengHOD(mbc, true_hod_params)\n",
    "plt.plot(mbc, c+s, color ='k')\n",
    "plt.loglog();\n",
    "plt.ylim([1e-4, 1e2])"
   ]
  },
  {
   "cell_type": "code",
   "execution_count": 39,
   "metadata": {
    "collapsed": false
   },
   "outputs": [],
   "source": [
    "catalog = np.load(path.join(um_dir,'hod_catalog3.npy'), allow_pickle=True )"
   ]
  },
  {
   "cell_type": "code",
   "execution_count": 40,
   "metadata": {
    "collapsed": true
   },
   "outputs": [],
   "source": [
    "mdpl2_sat_mask = np.ones_like(catalog['gal_type'], dtype=bool)# == 'satellites'"
   ]
  },
  {
   "cell_type": "code",
   "execution_count": 41,
   "metadata": {
    "collapsed": false
   },
   "outputs": [
    {
     "data": {
      "image/png": "[encoded data removed]",
      "text/plain": [
       "<matplotlib.figure.Figure at 0x7fb79a756d50>"
      ]
     },
     "metadata": {},
     "output_type": "display_data"
    }
   ],
   "source": [
    "plt.hist(catalog[mdpl2_sat_mask]['host_centric_distance'], bins = 100);"
   ]
  },
  {
   "cell_type": "code",
   "execution_count": 42,
   "metadata": {
    "collapsed": true
   },
   "outputs": [],
   "source": [
    "gal_table = cat.model.mock.galaxy_table\n",
    "sat_mask= np.ones_like(gal_table['gal_type'], dtype = bool)"
   ]
  },
  {
   "cell_type": "code",
   "execution_count": 43,
   "metadata": {
    "collapsed": false
   },
   "outputs": [
    {
     "data": {
      "image/png": "[encoded data removed]",
      "text/plain": [
       "<matplotlib.figure.Figure at 0x7fb79a66c290>"
      ]
     },
     "metadata": {},
     "output_type": "display_data"
    }
   ],
   "source": [
    "bins = np.linspace(0, 3, 100)\n",
    "plt.hist(gal_table[sat_mask]['host_centric_distance'], bins = bins, alpha = 0.3, normed=True);\n",
    "plt.hist(catalog[mdpl2_sat_mask]['host_centric_distance'], bins = bins, alpha = 0.3, normed=True);\n"
   ]
  },
  {
   "cell_type": "code",
   "execution_count": 44,
   "metadata": {
    "collapsed": false
   },
   "outputs": [
    {
     "data": {
      "text/plain": [
       "<matplotlib.text.Text at 0x7fb79a5f51d0>"
      ]
     },
     "execution_count": 44,
     "metadata": {},
     "output_type": "execute_result"
    },
    {
     "data": {
      "image/png": "[encoded data removed]",
      "text/plain": [
       "<matplotlib.figure.Figure at 0x7fb79fe419d0>"
      ]
     },
     "metadata": {},
     "output_type": "display_data"
    }
   ],
   "source": [
    "bins = np.linspace(0,3, 100)\n",
    "plt.hist(gal_table[sat_mask]['halo_rvir'], bins = bins, alpha = 0.3, normed=True, label = 'Aemulus');\n",
    "plt.hist(1.0*catalog[mdpl2_sat_mask]['halo_rvir'], bins = bins, alpha = 0.3, normed=True, label = 'MDPL2');\n",
    "plt.legend(loc='best')\n",
    "plt.title('Halo rvir')"
   ]
  },
  {
   "cell_type": "code",
   "execution_count": 45,
   "metadata": {
    "collapsed": false
   },
   "outputs": [],
   "source": [
    "mass_bins = np.logspace(12, 16, 4.0/0.1+1)\n",
    "rvir_perc = np.zeros((len(mass_bins)-1,))\n",
    "for i, (mb_low, mb_high) in enumerate(zip(mass_bins[:-1], mass_bins[1:])):\n",
    "    mass_cut = np.logical_and(mb_low < catalog['halo_mvir'], mb_high > catalog['halo_mvir'])\n",
    "    cat_at_m = catalog[mass_cut]\n",
    "    if len(cat_at_m) == 0:\n",
    "        continue\n",
    "    rvir_perc[i] = np.percentile(cat_at_m['halo_rvir'], [50])[0]"
   ]
  },
  {
   "cell_type": "code",
   "execution_count": 46,
   "metadata": {
    "collapsed": false
   },
   "outputs": [],
   "source": [
    "mass_bins = np.logspace(12, 16, 4.0/0.1+1)\n",
    "rvir_perc_aemulus = np.zeros((len(mass_bins)-1,))\n",
    "for i, (mb_low, mb_high) in enumerate(zip(mass_bins[:-1], mass_bins[1:])):\n",
    "    mass_cut = np.logical_and(mb_low < gal_table['halo_mvir'], mb_high > gal_table['halo_mvir'])\n",
    "    cat_at_m = gal_table[mass_cut]\n",
    "    if len(cat_at_m) == 0:\n",
    "        continue\n",
    "    rvir_perc_aemulus[i] = np.percentile(cat_at_m['halo_rvir'], [50])[0]"
   ]
  },
  {
   "cell_type": "code",
   "execution_count": 47,
   "metadata": {
    "collapsed": false
   },
   "outputs": [
    {
     "data": {
      "text/plain": [
       "(1.0, 1.2)"
      ]
     },
     "execution_count": 47,
     "metadata": {},
     "output_type": "execute_result"
    },
    {
     "data": {
      "image/png": "[encoded data removed]",
      "text/plain": [
       "<matplotlib.figure.Figure at 0x7fb79a7eb490>"
      ]
     },
     "metadata": {},
     "output_type": "display_data"
    }
   ],
   "source": [
    "mbc = (mass_bins[1:]+mass_bins[:-1])/2.0\n",
    "#plt.plot(mbc, rvir_perc)#, yerr = (rvir_perc[:,2]-rvir_perc[:,0])/2 )\n",
    "plt.plot(mbc, rvir_perc_aemulus/rvir_perc, label ='Aemulus/mdpl2')\n",
    "plt.xscale('log')\n",
    "plt.ylim([1.0, 1.2])"
   ]
  },
  {
   "cell_type": "code",
   "execution_count": 48,
   "metadata": {
    "collapsed": false
   },
   "outputs": [],
   "source": [
    "import astropy.constants as const\n",
    "from astropy import units as u\n",
    "Om0 = 0.341\n",
    "C = (const.G*const.M_sun/((100*u.km/u.s/u.Mpc)**2))\n",
    "new_rvir = np.cbrt( C*(gal_table['halo_mvir']/(100*Om0))).to('Mpc').value"
   ]
  },
  {
   "cell_type": "code",
   "execution_count": 49,
   "metadata": {
    "collapsed": false
   },
   "outputs": [
    {
     "data": {
      "text/html": [
       "&lt;Column name=&apos;halo_rvir&apos; dtype=&apos;float32&apos; length=573024&gt;\n",
       "<table>\n",
       "<tr><td>0.9995536</td></tr>\n",
       "<tr><td>0.9995576</td></tr>\n",
       "<tr><td>0.9995439</td></tr>\n",
       "<tr><td>0.9995488</td></tr>\n",
       "<tr><td>0.9995505</td></tr>\n",
       "<tr><td>0.9995489</td></tr>\n",
       "<tr><td>0.999551</td></tr>\n",
       "<tr><td>0.99955285</td></tr>\n",
       "<tr><td>0.9995439</td></tr>\n",
       "<tr><td>0.99954665</td></tr>\n",
       "<tr><td>0.99955225</td></tr>\n",
       "<tr><td>0.99955887</td></tr>\n",
       "<tr><td>...</td></tr>\n",
       "<tr><td>0.999557</td></tr>\n",
       "<tr><td>0.9995469</td></tr>\n",
       "<tr><td>0.99954766</td></tr>\n",
       "<tr><td>0.99954695</td></tr>\n",
       "<tr><td>0.99955815</td></tr>\n",
       "<tr><td>0.99954796</td></tr>\n",
       "<tr><td>0.9995567</td></tr>\n",
       "<tr><td>0.9995486</td></tr>\n",
       "<tr><td>0.99955064</td></tr>\n",
       "<tr><td>0.9995527</td></tr>\n",
       "<tr><td>0.99955493</td></tr>\n",
       "<tr><td>0.99954313</td></tr>\n",
       "</table>"
      ],
      "text/plain": [
       "<Column name='halo_rvir' dtype='float32' length=573024>\n",
       " 0.9995536\n",
       " 0.9995576\n",
       " 0.9995439\n",
       " 0.9995488\n",
       " 0.9995505\n",
       " 0.9995489\n",
       "  0.999551\n",
       "0.99955285\n",
       " 0.9995439\n",
       "0.99954665\n",
       "0.99955225\n",
       "0.99955887\n",
       "       ...\n",
       "  0.999557\n",
       " 0.9995469\n",
       "0.99954766\n",
       "0.99954695\n",
       "0.99955815\n",
       "0.99954796\n",
       " 0.9995567\n",
       " 0.9995486\n",
       "0.99955064\n",
       " 0.9995527\n",
       "0.99955493\n",
       "0.99954313"
      ]
     },
     "execution_count": 49,
     "metadata": {},
     "output_type": "execute_result"
    }
   ],
   "source": [
    "new_rvir/gal_table['halo_rvir']#)#, bins = np.linspace(0.9,1.1,11));"
   ]
  },
  {
   "cell_type": "code",
   "execution_count": 50,
   "metadata": {
    "collapsed": false
   },
   "outputs": [
    {
     "data": {
      "text/plain": [
       "trainingbox\n",
       "-------------------------\n",
       "Halo finder:\t rockstar\n",
       "Version name:\tmost_recent_00\n",
       "Cosmology:\n",
       "FlatwCDM(H0=63.4 km / (Mpc s), Om0=0.341, w0=-0.817, Tcmb0=0 K, Neff=2.92, m_nu=None, Ob0=0.0565)\n",
       "Redshifts:\t[3.0, 2.003003003003003, 1.0, 0.8499984275013364, 0.7000008500004251, 0.550000697500314, 0.399999440000224, 0.25, 0.09999989000001097, 0.0]\n",
       "-------------------------\n",
       "Location:\t/nfs/slac/g/ki/ki18/des/swmclau2/NewAemulusBoxes/Box000/halos/m200b/\n",
       "Lbox:\t1050.0\n",
       "Particle Mass:\t39876900000.000000\n",
       "Columns to Keep:\n",
       "{'halo_upid': (14, 'i8'), 'halo_vx': (11, 'f4'), 'halo_y': (9, 'f4'), 'halo_x': (8, 'f4'), 'halo_z': (10, 'f4'), 'halo_vy': (12, 'f4'), 'halo_vz': (13, 'f4'), 'halo_rs': (6, 'f4'), 'halo_rvir': (5, 'f4'), 'halo_mvir': (2, 'f4'), 'halo_id': (0, 'i8')}"
      ]
     },
     "execution_count": 50,
     "metadata": {},
     "output_type": "execute_result"
    }
   ],
   "source": [
    "cat"
   ]
  },
  {
   "cell_type": "code",
   "execution_count": 51,
   "metadata": {
    "collapsed": false
   },
   "outputs": [
    {
     "data": {
      "text/plain": [
       "<matplotlib.text.Text at 0x7fb79a7b7090>"
      ]
     },
     "execution_count": 51,
     "metadata": {},
     "output_type": "execute_result"
    },
    {
     "data": {
      "image/png": "[encoded data removed]",
      "text/plain": [
       "<matplotlib.figure.Figure at 0x7fb8000884d0>"
      ]
     },
     "metadata": {},
     "output_type": "display_data"
    }
   ],
   "source": [
    "bins = np.linspace(1, 30, 100)\n",
    "plt.hist(gal_table[sat_mask]['conc_NFWmodel'], bins = bins, alpha = 0.3, normed=True, label = 'Aemulus');\n",
    "plt.hist(1.0*catalog[mdpl2_sat_mask]['conc_NFWmodel'], bins = bins, alpha = 0.3, normed=True, label = 'MDPL2');\n",
    "plt.legend(loc='best')\n",
    "plt.title('NFW Conc')"
   ]
  },
  {
   "cell_type": "code",
   "execution_count": 52,
   "metadata": {
    "collapsed": false
   },
   "outputs": [
    {
     "data": {
      "image/png": "[encoded data removed]",
      "text/plain": [
       "<matplotlib.figure.Figure at 0x7fb79efa8410>"
      ]
     },
     "metadata": {},
     "output_type": "display_data"
    },
    {
     "data": {
      "image/png": "[encoded data removed]",
      "text/plain": [
       "<matplotlib.figure.Figure at 0x7fb79a7a8a90>"
      ]
     },
     "metadata": {},
     "output_type": "display_data"
    },
    {
     "data": {
      "image/png": "[encoded data removed]",
      "text/plain": [
       "<matplotlib.figure.Figure at 0x7fb79e9d8410>"
      ]
     },
     "metadata": {},
     "output_type": "display_data"
    },
    {
     "data": {
      "image/png": "[encoded data removed]",
      "text/plain": [
       "<matplotlib.figure.Figure at 0x7fb79e41fdd0>"
      ]
     },
     "metadata": {},
     "output_type": "display_data"
    },
    {
     "data": {
      "image/png": "[encoded data removed]",
      "text/plain": [
       "<matplotlib.figure.Figure at 0x7fb79e40f250>"
      ]
     },
     "metadata": {},
     "output_type": "display_data"
    },
    {
     "data": {
      "image/png": "[encoded data removed]",
      "text/plain": [
       "<matplotlib.figure.Figure at 0x7fb79f09d850>"
      ]
     },
     "metadata": {},
     "output_type": "display_data"
    }
   ],
   "source": [
    "cbins = np.linspace(1, 30, 100)\n",
    "rbins = np.linspace(0, 3, 100)\n",
    "\n",
    "haloprop_bins = np.logspace(13,16,7)\n",
    "\n",
    "for i,(mbl, mbh) in enumerate(zip(haloprop_bins[:-1], haloprop_bins[1:])):\n",
    "    fig = plt.figure(figsize=(8,3))\n",
    "    mass_cut = np.logical_and(mbl<gal_table['halo_mvir'], gal_table['halo_mvir']<mbh)\n",
    "    mask = np.logical_and(mass_cut, sat_mask)\n",
    "    plt.subplot(121)\n",
    "    plt.hist(gal_table[mask]['conc_NFWmodel'], bins = cbins, alpha = 0.3, normed=True, label = 'Aemulus');\n",
    "    \n",
    "    mass_cut = np.logical_and(mbl<catalog['halo_mvir'], catalog['halo_mvir']<mbh)\n",
    "    mask2 = np.logical_and(mass_cut, mdpl2_sat_mask)\n",
    "    plt.hist(1.0*catalog[mask2]['conc_NFWmodel'], bins = cbins, alpha = 0.3, normed=True, label = 'MDPL2');\n",
    "    plt.title('%0.1f - %0.1f'%(np.log10(mbl),np.log10(mbh)))\n",
    "    plt.legend(loc='best')\n",
    "    plt.subplot(122)\n",
    "    plt.hist(gal_table[mask]['host_centric_distance'], bins = rbins, alpha = 0.3, normed=True);\n",
    "    plt.hist(catalog[mask2]['host_centric_distance'], bins = rbins, alpha = 0.3, normed=True);\n",
    "\n",
    "    plt.show()"
   ]
  },
  {
   "cell_type": "code",
   "execution_count": 53,
   "metadata": {
    "collapsed": false
   },
   "outputs": [
    {
     "data": {
      "image/png": "[encoded data removed]",
      "text/plain": [
       "<matplotlib.figure.Figure at 0x7fb79a867710>"
      ]
     },
     "metadata": {},
     "output_type": "display_data"
    }
   ],
   "source": [
    "bins = np.linspace(0.5, 4, 100)\n",
    "plt.hist(gal_table[sat_mask]['halo_rvir'], bins = bins, alpha = 0.3, normed=True, label = 'Aemulus');\n",
    "plt.hist(catalog[mdpl2_sat_mask]['halo_rvir'], bins = bins, alpha = 0.3, normed=True, label = 'MDPL2');\n",
    "plt.legend(loc='best')\n",
    "plt.yscale('log')"
   ]
  },
  {
   "cell_type": "code",
   "execution_count": null,
   "metadata": {
    "collapsed": true
   },
   "outputs": [],
   "source": []
  },
  {
   "cell_type": "code",
   "execution_count": null,
   "metadata": {
    "collapsed": true
   },
   "outputs": [],
   "source": []
  }
 ],
 "metadata": {
  "kernelspec": {
   "display_name": "Python [default]",
   "language": "python",
   "name": "python2"
  },
  "language_info": {
   "codemirror_mode": {
    "name": "ipython",
    "version": 2
   },
   "file_extension": ".py",
   "mimetype": "text/x-python",
   "name": "python",
   "nbconvert_exporter": "python",
   "pygments_lexer": "ipython2",
   "version": "2.7.13"
  }
 },
 "nbformat": 4,
 "nbformat_minor": 2
}

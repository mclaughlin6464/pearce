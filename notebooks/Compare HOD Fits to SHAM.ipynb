{
 "cells": [
  {
   "cell_type": "markdown",
   "metadata": {},
   "source": [
    "I'm curious what the HOD parameters I recover from SHAM (and UM) in a cosmological context. Similarly, do the Assembly bias values I recover make sense? "
   ]
  },
  {
   "cell_type": "code",
   "execution_count": 45,
   "metadata": {
    "collapsed": true
   },
   "outputs": [],
   "source": [
    "from matplotlib import pyplot as plt\n",
    "%matplotlib inline"
   ]
  },
  {
   "cell_type": "code",
   "execution_count": 46,
   "metadata": {
    "collapsed": false
   },
   "outputs": [
    {
     "name": "stdout",
     "output_type": "stream",
     "text": [
      "ERROR! Session/line number was not unique in database. History logging moved to new session 9\n"
     ]
    }
   ],
   "source": [
    "import numpy as np\n",
    "from os import path\n",
    "import h5py\n",
    "import astropy\n",
    "from scipy.special import erf\n",
    "from halotools.mock_observables import hod_from_mock\n",
    "from halotools.utils import broadcast_host_halo_property, add_halo_hostid"
   ]
  },
  {
   "cell_type": "code",
   "execution_count": 47,
   "metadata": {
    "collapsed": true
   },
   "outputs": [],
   "source": [
    "from pearce.mocks.kittens import TrainingBox"
   ]
  },
  {
   "cell_type": "code",
   "execution_count": 48,
   "metadata": {
    "collapsed": true
   },
   "outputs": [],
   "source": [
    "um_dir = '/u/ki/swmclau2/des/aemulus_mock_catalogs/'"
   ]
  },
  {
   "cell_type": "raw",
   "metadata": {},
   "source": [
    "cen_hod = np.load(path.join(um_dir,'sham_cen_hod.npy'))\n",
    "sat_hod = np.load(path.join(um_dir,'sham_sat_hod.npy'))\n",
    "tot_hod = np.load(path.join(um_dir,'sham_hod.npy'))"
   ]
  },
  {
   "cell_type": "code",
   "execution_count": 49,
   "metadata": {
    "collapsed": true
   },
   "outputs": [],
   "source": [
    "cen_hod = np.load(path.join(um_dir,'um_cen_hod.npy'))\n",
    "sat_hod = np.load(path.join(um_dir,'um_sat_hod.npy'))\n",
    "tot_hod = np.load(path.join(um_dir,'um_hod.npy'))"
   ]
  },
  {
   "cell_type": "code",
   "execution_count": 50,
   "metadata": {
    "collapsed": true
   },
   "outputs": [],
   "source": [
    "mass_func = np.load(path.join(um_dir, 'mass_function.npy'))"
   ]
  },
  {
   "cell_type": "code",
   "execution_count": 51,
   "metadata": {
    "collapsed": true
   },
   "outputs": [],
   "source": [
    "haloprop_bins = np.logspace(10,16, 60)\n",
    "mbc = (haloprop_bins[1:]+haloprop_bins[:-1])/2.0"
   ]
  },
  {
   "cell_type": "code",
   "execution_count": 52,
   "metadata": {
    "collapsed": false
   },
   "outputs": [
    {
     "data": {
      "image/png": "[encoded data removed]",
      "text/plain": [
       "<matplotlib.figure.Figure at 0x7faca5fdfe90>"
      ]
     },
     "metadata": {},
     "output_type": "display_data"
    }
   ],
   "source": [
    "plt.plot(mbc, cen_hod)\n",
    "plt.plot(mbc, sat_hod)\n",
    "plt.plot(mbc, cen_hod+sat_hod)\n",
    "plt.plot(mbc, tot_hod)\n",
    "plt.loglog();"
   ]
  },
  {
   "cell_type": "raw",
   "metadata": {},
   "source": [
    "cfname = '/home/users/swmclau2/scratch/UniverseMachine/hod_catalog3.npy'\n",
    "cat = astropy.table.Table(np.load(cfname))\n"
   ]
  },
  {
   "cell_type": "raw",
   "metadata": {},
   "source": [
    "cenmask = cat['gal_type'] == 'centrals'\n"
   ]
  },
  {
   "cell_type": "raw",
   "metadata": {},
   "source": [
    "len(cat[cenmask]['halo_id']), len(np.unique(cat[cenmask]['halo_id']))"
   ]
  },
  {
   "cell_type": "raw",
   "metadata": {},
   "source": [
    "tot_hod = np.histogram(cat['halo_mvir'], haloprop_bins)[0]\n",
    "cen_hod = np.histogram(cat[cenmask]['halo_mvir'], haloprop_bins)[0]"
   ]
  },
  {
   "cell_type": "raw",
   "metadata": {},
   "source": [
    "plt.plot(mbc, tot_hod)\n",
    "plt.plot(mbc, cen_hod)\n",
    "plt.plot(mbc, mass_func)\n",
    "plt.loglog();"
   ]
  },
  {
   "cell_type": "raw",
   "metadata": {},
   "source": [
    "plt.plot(mbc, tot_hod*1.0/mass_func)\n",
    "plt.plot(mbc, cen_hod*1.0/mass_func)\n",
    "plt.loglog();"
   ]
  },
  {
   "cell_type": "code",
   "execution_count": 53,
   "metadata": {
    "collapsed": true
   },
   "outputs": [],
   "source": [
    "def ZhengCenHOD(mass, param_dict):\n",
    "    \n",
    "    logM = np.log10(mass)\n",
    "    mean_ncen = 0.5*(1.0 + erf(\n",
    "        (logM - param_dict['logMmin']) / param_dict['sigma_logM']))\n",
    "\n",
    "    return mean_ncen\n",
    "\n",
    "def ZhengSatHOD(mass, param_dict, mean_ncen = None):\n",
    "    M0 = 10.**param_dict['logM0']\n",
    "    M1 = 10.**param_dict['logM1']\n",
    "\n",
    "    mean_nsat = np.zeros_like(mass)\n",
    "\n",
    "    idx_nonzero = np.where(mass - M0 > 0)[0]\n",
    "    \n",
    "    mean_nsat[idx_nonzero] = ((mass[idx_nonzero] - M0)/M1)**param_dict['alpha']\n",
    "\n",
    "    # If a central occupation model was passed to the constructor,\n",
    "    # multiply mean_nsat by an overall factor of mean_ncen\n",
    "    if mean_ncen is not None:\n",
    "        # compatible with AB models\n",
    "        mean_nsat *= mean_ncen\n",
    "\n",
    "    return mean_nsat\n",
    "\n",
    "def ZhengHOD(mass, param_dict):\n",
    "    mean_ncen = ZhengCenHOD(mass, param_dict)\n",
    "    mean_nsat = ZhengSatHOD(mass, param_dict, mean_ncen)\n",
    "    return mean_ncen, mean_nsat"
   ]
  },
  {
   "cell_type": "code",
   "execution_count": 54,
   "metadata": {
    "collapsed": true
   },
   "outputs": [],
   "source": [
    "def calc_nd(mass,param_dict, mass_func):\n",
    "    cen_hod, sat_hod = ZhengHOD(mass, param_dict)\n",
    "    hod = cen_hod+sat_hod\n",
    "    return np.dot(mass_func, hod)/(1000.0**3)\n",
    "\n",
    "from scipy.optimize import minimize_scalar\n",
    "def add_logMmin(hod_params, mass, mass_func):\n",
    "\n",
    "    hod_params['logMmin'] = 13.0 #initial guess\n",
    "    #cat.populate(hod_params) #may be overkill, but will ensure params are written everywhere\n",
    "    def func(logMmin, hod_params):\n",
    "        hod_params.update({'logMmin':logMmin})\n",
    "        return (calc_nd(mass, hod_params, mass_func) - 5e-4)**2\n",
    "\n",
    "    res = minimize_scalar(func, bounds = (12,15), args = (hod_params,), options = {'maxiter':100}, method = 'Bounded')\n",
    "\n",
    "    # assuming this doens't fail\n",
    "    #print 'logMmin', res.x\n",
    "    hod_params['logMmin'] = res.x"
   ]
  },
  {
   "cell_type": "raw",
   "metadata": {},
   "source": [
    "calc_nd(mbc, true_hod_params, mass_func)"
   ]
  },
  {
   "cell_type": "code",
   "execution_count": 55,
   "metadata": {
    "collapsed": true
   },
   "outputs": [],
   "source": [
    "with h5py.File('/u/ki/swmclau2/des/PearceMCMC/UniverseMachine_wp_ds_rmin_0.5_HOD.hdf5', 'r') as f:\n",
    "    hod_pnames =  f.attrs['param_names'][7:-1]\n",
    "    chain = f['chain'][:, 7:-1]"
   ]
  },
  {
   "cell_type": "code",
   "execution_count": 56,
   "metadata": {
    "collapsed": true
   },
   "outputs": [],
   "source": [
    "param_dict = dict(zip(hod_pnames, chain[0]))"
   ]
  },
  {
   "cell_type": "code",
   "execution_count": 57,
   "metadata": {
    "collapsed": false
   },
   "outputs": [],
   "source": [
    "add_logMmin(param_dict, mbc, mass_func)"
   ]
  },
  {
   "cell_type": "raw",
   "metadata": {
    "collapsed": true
   },
   "source": [
    "true_hod_params = {'alpha': 1.083, 'logM0': 13.2, 'logM1': 14.2, 'sigma_logM': 0.2}\n",
    "true_hod_params['logMmin'] = 13.0 #approx, can fit if i have to"
   ]
  },
  {
   "cell_type": "code",
   "execution_count": 58,
   "metadata": {
    "collapsed": true
   },
   "outputs": [],
   "source": [
    "cat = TrainingBox(0)\n",
    "cat.load(1.0, HOD='zheng07')"
   ]
  },
  {
   "cell_type": "code",
   "execution_count": 59,
   "metadata": {
    "collapsed": true
   },
   "outputs": [],
   "source": [
    "def add_logMmin2(cat, params, nd):\n",
    "    def func(logMmin, hod_params):\n",
    "        params.update({'logMmin':logMmin})\n",
    "        return (cat.calc_analytic_nd(params, min_ptcl=20) - nd)**2\n",
    "\n",
    "    res = minimize_scalar(func, bounds = (12,16), args = (params,), options = {'maxiter':100}, method = 'Bounded')\n",
    "\n",
    "     # assuming this doens't fail\n",
    "    #print 'logMmin', res.x\n",
    "    params['logMmin'] = res.x\n"
   ]
  },
  {
   "cell_type": "raw",
   "metadata": {},
   "source": [
    "add_logMmin2(cat, true_hod_params, 5e-4)\n",
    "cat.populate(true_hod_params)"
   ]
  },
  {
   "cell_type": "raw",
   "metadata": {},
   "source": [
    "print cat.calc_analytic_nd(true_hod_params,min_ptcl=20)"
   ]
  },
  {
   "cell_type": "code",
   "execution_count": 60,
   "metadata": {
    "collapsed": false
   },
   "outputs": [
    {
     "data": {
      "text/plain": [
       "0.000418701"
      ]
     },
     "execution_count": 60,
     "metadata": {},
     "output_type": "execute_result"
    }
   ],
   "source": [
    "np.sum(mass_func*cen_hod)/(1000.0**3)"
   ]
  },
  {
   "cell_type": "code",
   "execution_count": 61,
   "metadata": {
    "collapsed": false
   },
   "outputs": [
    {
     "name": "stdout",
     "output_type": "stream",
     "text": [
      "**********\n"
     ]
    },
    {
     "data": {
      "image/png": "[encoded data removed]",
      "text/plain": [
       "<matplotlib.figure.Figure at 0x7faca29bd410>"
      ]
     },
     "metadata": {},
     "output_type": "display_data"
    }
   ],
   "source": [
    "N = 100\n",
    "plt.rcParams.update({'font.size': 18})\n",
    "fig = plt.figure(figsize=(6,4))\n",
    "idxs = np.random.choice(chain.shape[0], size=N, replace=False)\n",
    "\n",
    "for ino, i in enumerate(idxs):\n",
    "    param_dict = dict(zip(hod_pnames, chain[i]))\n",
    "    add_logMmin(param_dict, mbc, mass_func)\n",
    "    c, s = ZhengHOD(mbc, param_dict)\n",
    "    if ino == 0:\n",
    "        plt.plot(mbc, c+s, alpha = 0.05, color = 'b', label = 'Posterior HOD Samples')\n",
    "\n",
    "    else:\n",
    "        plt.plot(mbc, c+s, alpha = 0.05, color = 'b')\n",
    "    \n",
    "plt.plot(mbc, tot_hod, color = 'r', lw =2, label = 'True HOD')\n",
    "print '*'*10\n",
    "#add_logMmin(param)\n",
    "#c,s = ZhengHOD(mbc, true_hod_params)\n",
    "#plt.plot(mbc, c+s, color ='k')\n",
    "plt.loglog();\n",
    "plt.legend(loc=2, frameon=False)\n",
    "#plt.title('HOD Posterior Samples')\n",
    "plt.ylim([1e-4, 1e2])\n",
    "plt.xlabel(r'Halo Mass [$M_{\\odot}/h$]')\n",
    "plt.ylabel(r'$\\langle N | M \\rangle$')\n",
    "plt.savefig('sham_hod_fit.pdf', format='pdf')"
   ]
  },
  {
   "cell_type": "code",
   "execution_count": 62,
   "metadata": {
    "collapsed": false
   },
   "outputs": [
    {
     "name": "stdout",
     "output_type": "stream",
     "text": [
      "**********\n"
     ]
    },
    {
     "data": {
      "text/plain": [
       "<matplotlib.text.Text at 0x7faca2c2fcd0>"
      ]
     },
     "execution_count": 62,
     "metadata": {},
     "output_type": "execute_result"
    },
    {
     "data": {
      "image/png": "[encoded data removed]",
      "text/plain": [
       "<matplotlib.figure.Figure at 0x7faca2ece490>"
      ]
     },
     "metadata": {},
     "output_type": "display_data"
    }
   ],
   "source": [
    "N = 100\n",
    "plt.rcParams.update({'font.size': 18})\n",
    "fig = plt.figure(figsize=(6,4))\n",
    "idxs = np.random.choice(chain.shape[0], size=N, replace=False)\n",
    "\n",
    "for ino, i in enumerate(idxs):\n",
    "    param_dict = dict(zip(hod_pnames, chain[i]))\n",
    "    add_logMmin(param_dict, mbc, mass_func)\n",
    "    c, s = ZhengHOD(mbc, param_dict)\n",
    "    if ino == 0:\n",
    "        plt.plot(mbc, c, alpha = 0.05, color = 'b', label = 'Posterior HOD Samples')\n",
    "\n",
    "    else:\n",
    "        plt.plot(mbc, c, alpha = 0.05, color = 'b')\n",
    "    \n",
    "plt.plot(mbc, cen_hod, color = 'r', lw =2, label = 'True HOD')\n",
    "print '*'*10\n",
    "#add_logMmin(param)\n",
    "#c,s = ZhengHOD(mbc, true_hod_params)\n",
    "#plt.plot(mbc, c+s, color ='k')\n",
    "plt.loglog();\n",
    "plt.legend(loc=2, frameon=False)\n",
    "#plt.title('HOD Posterior Samples')\n",
    "plt.ylim([1e-4, 1e2])\n",
    "plt.xlabel(r'Halo Mass [$M_{\\odot}/h$]')\n",
    "plt.ylabel(r'$\\langle N | M \\rangle$')"
   ]
  },
  {
   "cell_type": "code",
   "execution_count": 63,
   "metadata": {
    "collapsed": false
   },
   "outputs": [
    {
     "name": "stdout",
     "output_type": "stream",
     "text": [
      "**********\n"
     ]
    },
    {
     "data": {
      "text/plain": [
       "<matplotlib.text.Text at 0x7fac9fd371d0>"
      ]
     },
     "execution_count": 63,
     "metadata": {},
     "output_type": "execute_result"
    },
    {
     "data": {
      "image/png": "[encoded data removed]",
      "text/plain": [
       "<matplotlib.figure.Figure at 0x7fac9f4a1c10>"
      ]
     },
     "metadata": {},
     "output_type": "display_data"
    }
   ],
   "source": [
    "N = 100\n",
    "plt.rcParams.update({'font.size': 18})\n",
    "fig = plt.figure(figsize=(6,4))\n",
    "idxs = np.random.choice(chain.shape[0], size=N, replace=False)\n",
    "\n",
    "for ino, i in enumerate(idxs):\n",
    "    param_dict = dict(zip(hod_pnames, chain[i]))\n",
    "    add_logMmin(param_dict, mbc, mass_func)\n",
    "    c, s = ZhengHOD(mbc, param_dict)\n",
    "    if ino == 0:\n",
    "        plt.plot(mbc, s, alpha = 0.05, color = 'b', label = 'Posterior HOD Samples')\n",
    "\n",
    "    else:\n",
    "        plt.plot(mbc, s, alpha = 0.05, color = 'b')\n",
    "    \n",
    "plt.plot(mbc, sat_hod, color = 'r', lw =2, label = 'True HOD')\n",
    "print '*'*10\n",
    "#add_logMmin(param)\n",
    "#c,s = ZhengHOD(mbc, true_hod_params)\n",
    "#plt.plot(mbc, c+s, color ='k')\n",
    "plt.loglog();\n",
    "plt.legend(loc=2, frameon=False)\n",
    "#plt.title('HOD Posterior Samples')\n",
    "plt.ylim([1e-4, 1e2])\n",
    "plt.xlabel(r'Halo Mass [$M_{\\odot}/h$]')\n",
    "plt.ylabel(r'$\\langle N | M \\rangle$')"
   ]
  },
  {
   "cell_type": "code",
   "execution_count": 64,
   "metadata": {
    "collapsed": true
   },
   "outputs": [],
   "source": [
    "catalog = np.load(path.join(um_dir,'hod_catalog3.npy'), allow_pickle=True )"
   ]
  },
  {
   "cell_type": "code",
   "execution_count": 65,
   "metadata": {
    "collapsed": true
   },
   "outputs": [],
   "source": [
    "mdpl2_sat_mask = np.ones_like(catalog['gal_type'], dtype=bool)# == 'satellites'"
   ]
  },
  {
   "cell_type": "code",
   "execution_count": 66,
   "metadata": {
    "collapsed": false
   },
   "outputs": [
    {
     "data": {
      "image/png": "[encoded data removed]",
      "text/plain": [
       "<matplotlib.figure.Figure at 0x7faca2993d90>"
      ]
     },
     "metadata": {},
     "output_type": "display_data"
    }
   ],
   "source": [
    "plt.hist(catalog[mdpl2_sat_mask]['host_centric_distance'], bins = 100);"
   ]
  },
  {
   "cell_type": "code",
   "execution_count": 67,
   "metadata": {
    "collapsed": false
   },
   "outputs": [
    {
     "ename": "AttributeError",
     "evalue": "'PrebuiltHodModelFactory' object has no attribute 'mock'",
     "output_type": "error",
     "traceback": [
      "\u001b[1;31m---------------------------------------------------------------------------\u001b[0m",
      "\u001b[1;31mAttributeError\u001b[0m                            Traceback (most recent call last)",
      "\u001b[1;32m<ipython-input-67-cab188eade20>\u001b[0m in \u001b[0;36m<module>\u001b[1;34m()\u001b[0m\n\u001b[1;32m----> 1\u001b[1;33m \u001b[0mgal_table\u001b[0m \u001b[1;33m=\u001b[0m \u001b[0mcat\u001b[0m\u001b[1;33m.\u001b[0m\u001b[0mmodel\u001b[0m\u001b[1;33m.\u001b[0m\u001b[0mmock\u001b[0m\u001b[1;33m.\u001b[0m\u001b[0mgalaxy_table\u001b[0m\u001b[1;33m\u001b[0m\u001b[0m\n\u001b[0m\u001b[0;32m      2\u001b[0m \u001b[0msat_mask\u001b[0m\u001b[1;33m=\u001b[0m \u001b[0mnp\u001b[0m\u001b[1;33m.\u001b[0m\u001b[0mones_like\u001b[0m\u001b[1;33m(\u001b[0m\u001b[0mgal_table\u001b[0m\u001b[1;33m[\u001b[0m\u001b[1;34m'gal_type'\u001b[0m\u001b[1;33m]\u001b[0m\u001b[1;33m,\u001b[0m \u001b[0mdtype\u001b[0m \u001b[1;33m=\u001b[0m \u001b[0mbool\u001b[0m\u001b[1;33m)\u001b[0m\u001b[1;33m\u001b[0m\u001b[0m\n",
      "\u001b[1;31mAttributeError\u001b[0m: 'PrebuiltHodModelFactory' object has no attribute 'mock'"
     ]
    }
   ],
   "source": [
    "gal_table = cat.model.mock.galaxy_table\n",
    "sat_mask= np.ones_like(gal_table['gal_type'], dtype = bool)"
   ]
  },
  {
   "cell_type": "code",
   "execution_count": null,
   "metadata": {
    "collapsed": false
   },
   "outputs": [],
   "source": [
    "bins = np.linspace(0, 3, 100)\n",
    "plt.hist(gal_table[sat_mask]['host_centric_distance'], bins = bins, alpha = 0.3, normed=True);\n",
    "plt.hist(catalog[mdpl2_sat_mask]['host_centric_distance'], bins = bins, alpha = 0.3, normed=True);\n"
   ]
  },
  {
   "cell_type": "code",
   "execution_count": null,
   "metadata": {
    "collapsed": false
   },
   "outputs": [],
   "source": [
    "bins = np.linspace(0,3, 100)\n",
    "plt.hist(gal_table[sat_mask]['halo_rvir'], bins = bins, alpha = 0.3, normed=True, label = 'Aemulus');\n",
    "plt.hist(1.0*catalog[mdpl2_sat_mask]['halo_rvir'], bins = bins, alpha = 0.3, normed=True, label = 'MDPL2');\n",
    "plt.legend(loc='best')\n",
    "plt.title('Halo rvir')"
   ]
  },
  {
   "cell_type": "code",
   "execution_count": null,
   "metadata": {
    "collapsed": true
   },
   "outputs": [],
   "source": [
    "mass_bins = np.logspace(12, 16, 4.0/0.1+1)\n",
    "rvir_perc = np.zeros((len(mass_bins)-1,))\n",
    "for i, (mb_low, mb_high) in enumerate(zip(mass_bins[:-1], mass_bins[1:])):\n",
    "    mass_cut = np.logical_and(mb_low < catalog['halo_mvir'], mb_high > catalog['halo_mvir'])\n",
    "    cat_at_m = catalog[mass_cut]\n",
    "    if len(cat_at_m) == 0:\n",
    "        continue\n",
    "    rvir_perc[i] = np.percentile(cat_at_m['halo_rvir'], [50])[0]"
   ]
  },
  {
   "cell_type": "code",
   "execution_count": null,
   "metadata": {
    "collapsed": true
   },
   "outputs": [],
   "source": [
    "mass_bins = np.logspace(12, 16, 4.0/0.1+1)\n",
    "rvir_perc_aemulus = np.zeros((len(mass_bins)-1,))\n",
    "for i, (mb_low, mb_high) in enumerate(zip(mass_bins[:-1], mass_bins[1:])):\n",
    "    mass_cut = np.logical_and(mb_low < gal_table['halo_mvir'], mb_high > gal_table['halo_mvir'])\n",
    "    cat_at_m = gal_table[mass_cut]\n",
    "    if len(cat_at_m) == 0:\n",
    "        continue\n",
    "    rvir_perc_aemulus[i] = np.percentile(cat_at_m['halo_rvir'], [50])[0]"
   ]
  },
  {
   "cell_type": "code",
   "execution_count": null,
   "metadata": {
    "collapsed": false
   },
   "outputs": [],
   "source": [
    "mbc = (mass_bins[1:]+mass_bins[:-1])/2.0\n",
    "#plt.plot(mbc, rvir_perc)#, yerr = (rvir_perc[:,2]-rvir_perc[:,0])/2 )\n",
    "plt.plot(mbc, rvir_perc_aemulus/rvir_perc, label ='Aemulus/mdpl2')\n",
    "plt.xscale('log')\n",
    "plt.ylim([1.0, 1.2])"
   ]
  },
  {
   "cell_type": "code",
   "execution_count": null,
   "metadata": {
    "collapsed": true
   },
   "outputs": [],
   "source": [
    "import astropy.constants as const\n",
    "from astropy import units as u\n",
    "Om0 = 0.341\n",
    "C = (const.G*const.M_sun/((100*u.km/u.s/u.Mpc)**2))\n",
    "new_rvir = np.cbrt( C*(gal_table['halo_mvir']/(100*Om0))).to('Mpc').value"
   ]
  },
  {
   "cell_type": "code",
   "execution_count": null,
   "metadata": {
    "collapsed": false
   },
   "outputs": [],
   "source": [
    "new_rvir/gal_table['halo_rvir']#)#, bins = np.linspace(0.9,1.1,11));"
   ]
  },
  {
   "cell_type": "code",
   "execution_count": null,
   "metadata": {
    "collapsed": false
   },
   "outputs": [],
   "source": [
    "cat"
   ]
  },
  {
   "cell_type": "code",
   "execution_count": null,
   "metadata": {
    "collapsed": false
   },
   "outputs": [],
   "source": [
    "bins = np.linspace(1, 30, 100)\n",
    "plt.hist(gal_table[sat_mask]['conc_NFWmodel'], bins = bins, alpha = 0.3, normed=True, label = 'Aemulus');\n",
    "plt.hist(1.0*catalog[mdpl2_sat_mask]['conc_NFWmodel'], bins = bins, alpha = 0.3, normed=True, label = 'MDPL2');\n",
    "plt.legend(loc='best')\n",
    "plt.title('NFW Conc')"
   ]
  },
  {
   "cell_type": "code",
   "execution_count": null,
   "metadata": {
    "collapsed": false
   },
   "outputs": [],
   "source": [
    "cbins = np.linspace(1, 30, 100)\n",
    "rbins = np.linspace(0, 3, 100)\n",
    "\n",
    "haloprop_bins = np.logspace(13,16,7)\n",
    "\n",
    "for i,(mbl, mbh) in enumerate(zip(haloprop_bins[:-1], haloprop_bins[1:])):\n",
    "    fig = plt.figure(figsize=(8,3))\n",
    "    mass_cut = np.logical_and(mbl<gal_table['halo_mvir'], gal_table['halo_mvir']<mbh)\n",
    "    mask = np.logical_and(mass_cut, sat_mask)\n",
    "    plt.subplot(121)\n",
    "    plt.hist(gal_table[mask]['conc_NFWmodel'], bins = cbins, alpha = 0.3, normed=True, label = 'Aemulus');\n",
    "    \n",
    "    mass_cut = np.logical_and(mbl<catalog['halo_mvir'], catalog['halo_mvir']<mbh)\n",
    "    mask2 = np.logical_and(mass_cut, mdpl2_sat_mask)\n",
    "    plt.hist(1.0*catalog[mask2]['conc_NFWmodel'], bins = cbins, alpha = 0.3, normed=True, label = 'MDPL2');\n",
    "    plt.title('%0.1f - %0.1f'%(np.log10(mbl),np.log10(mbh)))\n",
    "    plt.legend(loc='best')\n",
    "    plt.subplot(122)\n",
    "    plt.hist(gal_table[mask]['host_centric_distance'], bins = rbins, alpha = 0.3, normed=True);\n",
    "    plt.hist(catalog[mask2]['host_centric_distance'], bins = rbins, alpha = 0.3, normed=True);\n",
    "\n",
    "    plt.show()"
   ]
  },
  {
   "cell_type": "code",
   "execution_count": null,
   "metadata": {
    "collapsed": false
   },
   "outputs": [],
   "source": [
    "bins = np.linspace(0.5, 4, 100)\n",
    "plt.hist(gal_table[sat_mask]['halo_rvir'], bins = bins, alpha = 0.3, normed=True, label = 'Aemulus');\n",
    "plt.hist(catalog[mdpl2_sat_mask]['halo_rvir'], bins = bins, alpha = 0.3, normed=True, label = 'MDPL2');\n",
    "plt.legend(loc='best')\n",
    "plt.yscale('log')"
   ]
  },
  {
   "cell_type": "code",
   "execution_count": null,
   "metadata": {
    "collapsed": true
   },
   "outputs": [],
   "source": []
  },
  {
   "cell_type": "code",
   "execution_count": null,
   "metadata": {
    "collapsed": true
   },
   "outputs": [],
   "source": []
  }
 ],
 "metadata": {
  "kernelspec": {
   "display_name": "Python [default]",
   "language": "python",
   "name": "python2"
  },
  "language_info": {
   "codemirror_mode": {
    "name": "ipython",
    "version": 2
   },
   "file_extension": ".py",
   "mimetype": "text/x-python",
   "name": "python",
   "nbconvert_exporter": "python",
   "pygments_lexer": "ipython2",
   "version": "2.7.13"
  }
 },
 "nbformat": 4,
 "nbformat_minor": 2
}

{
 "cells": [
  {
   "cell_type": "markdown",
   "metadata": {},
   "source": [
    "Given that we do not appear to have access to the Minerva sims, I'm going to compute covariances from the test boxes. I'm gonna start by computing a separate one for each HOD and Cosmology used, across realizations, and convince myself they don't vary much. "
   ]
  },
  {
   "cell_type": "code",
   "execution_count": 31,
   "metadata": {
    "collapsed": true
   },
   "outputs": [],
   "source": [
    "from pearce.mocks.kittens import TestBox\n",
    "from pearce.mocks import tpcf_subregions\n",
    "import numpy as np\n",
    "from collections import OrderedDict\n",
    "from time import time\n",
    "from scipy.optimize import minimize_scalar"
   ]
  },
  {
   "cell_type": "code",
   "execution_count": 32,
   "metadata": {
    "collapsed": true
   },
   "outputs": [],
   "source": [
    "import matplotlib\n",
    "#matplotlib.use('Agg')\n",
    "from matplotlib import pyplot as plt\n",
    "%matplotlib inline\n",
    "import seaborn as sns\n",
    "sns.set()"
   ]
  },
  {
   "cell_type": "code",
   "execution_count": 33,
   "metadata": {
    "collapsed": true
   },
   "outputs": [],
   "source": [
    "nd = 1e-4\n",
    "min_ptcl = 100\n",
    "r_bins = np.logspace(-0.4, 1.6, 11)\n",
    "logMmin_bounds = (12.0, 14.0)"
   ]
  },
  {
   "cell_type": "code",
   "execution_count": 34,
   "metadata": {},
   "outputs": [
    {
     "data": {
      "text/plain": [
       "array([  0.39810717,   0.63095734,   1.        ,   1.58489319,\n",
       "         2.51188643,   3.98107171,   6.30957344,  10.        ,\n",
       "        15.84893192,  25.11886432,  39.81071706])"
      ]
     },
     "execution_count": 34,
     "metadata": {},
     "output_type": "execute_result"
    }
   ],
   "source": [
    "r_bins"
   ]
  },
  {
   "cell_type": "code",
   "execution_count": 35,
   "metadata": {
    "collapsed": true
   },
   "outputs": [],
   "source": [
    "hod_param_ranges =  OrderedDict({'sigma_logM': [0.05, 0.3], 'logM0': [13.1, 14.6], 'logM1': [13.1, 14.6], 'alpha': [0.8, 1.2]})"
   ]
  },
  {
   "cell_type": "code",
   "execution_count": 36,
   "metadata": {
    "collapsed": true
   },
   "outputs": [],
   "source": [
    "def make_LHC(ordered_params, N, seed = None):\n",
    "\n",
    "    if seed is None:\n",
    "        seed = int(time())\n",
    "    np.random.seed(seed)\n",
    "\n",
    "    points = []\n",
    "    # by linspacing each parameter and shuffling, I ensure there is only one point in each row, in each dimension.\n",
    "    for plow, phigh in ordered_params.itervalues():\n",
    "        point = np.linspace(plow, phigh, num=N)\n",
    "        np.random.shuffle(point)  # makes the cube random.\n",
    "        points.append(point)\n",
    "    return np.stack(points).T"
   ]
  },
  {
   "cell_type": "code",
   "execution_count": 37,
   "metadata": {
    "collapsed": true
   },
   "outputs": [],
   "source": [
    "def add_logMmin(hod_params, cat):\n",
    "\n",
    "    hod_params['logMmin'] = 13.0 #initial guess\n",
    "    #cat.populate(hod_params) #may be overkill, but will ensure params are written everywhere\n",
    "    def func(logMmin, hod_params):\n",
    "        hod_params.update({'logMmin':logMmin}) \n",
    "        return (cat.calc_analytic_nd(hod_params) - nd)**2\n",
    "\n",
    "    #res = minimize_scalar(func, bounds = logMmin_bounds, args = (hod_params,), options = {'maxiter':100}, method = 'Bounded')\n",
    "\n",
    "    # assuming this doens't fail\n",
    "    #print 'logMmin', res.x\n",
    "    hod_params['logMmin'] = 15.0#res.x"
   ]
  },
  {
   "cell_type": "code",
   "execution_count": 38,
   "metadata": {
    "collapsed": true
   },
   "outputs": [],
   "source": [
    "N = 10\n",
    "LHC = make_LHC(hod_param_ranges, N)\n",
    "hod_dicts = [dict(zip(hod_param_ranges.keys(), vals)) for vals in LHC]"
   ]
  },
  {
   "cell_type": "code",
   "execution_count": 39,
   "metadata": {
    "collapsed": true
   },
   "outputs": [],
   "source": [
    "from scipy.linalg import block_diag"
   ]
  },
  {
   "cell_type": "code",
   "execution_count": 40,
   "metadata": {
    "collapsed": true
   },
   "outputs": [],
   "source": [
    "-"
   ]
  },
  {
   "cell_type": "code",
   "execution_count": 6,
   "metadata": {},
   "outputs": [
    {
     "name": "stdout",
     "output_type": "stream",
     "text": [
      "[ 0.  0.  1.  0.  1.  2.]\n",
      "[[], [0], [0, 1], [0, 1, 2]]\n"
     ]
    }
   ],
   "source": [
    "out = [range(i) for i in xrange(4)]\n",
    "import numpy as np\n",
    "print np.hstack(out)\n",
    "print out"
   ]
  },
  {
   "cell_type": "code",
   "execution_count": 42,
   "metadata": {},
   "outputs": [
    {
     "name": "stdout",
     "output_type": "stream",
     "text": [
      "{'logM0': 14.266666666666666, 'sigma_logM': 0.16111111111111109, 'logM1': 13.266666666666666, 'logMmin': 15.0, 'alpha': 0.88888888888888895}\n"
     ]
    },
    {
     "name": "stderr",
     "output_type": "stream",
     "text": [
      "/home/users/swmclau2/.local/lib/python2.7/site-packages/pearce/mocks/cat.py:284: UserWarning: n_cores invalid. Changing from 100 to maximum 16.\n",
      "  warnings.warn('n_cores invalid. Changing from %d to maximum %d.' % (n_cores, max_cores))\n"
     ]
    },
    {
     "name": "stdout",
     "output_type": "stream",
     "text": [
      "True True\n",
      "45688 456880\n",
      "[ 0.39810717  0.63095734] [ 1660.55949785  1660.55949785  1660.55949785] 16\n",
      "True True\n",
      "\n",
      "A\n",
      "B\n",
      "C\n",
      "(27, 1)\n",
      "[[ 80307.03467913]\n",
      " [ 87574.49373991]\n",
      " [ 80152.7864895 ]\n",
      " [ 79432.8560821 ]\n",
      " [ 93104.60567729]\n",
      " [ 80649.13922977]\n",
      " [ 74764.79373644]\n",
      " [ 74638.03740602]\n",
      " [ 74959.67096925]\n",
      " [ 80367.46370381]\n",
      " [ 74328.08542864]\n",
      " [ 74509.90219362]\n",
      " [ 80949.30825906]\n",
      " [ 75046.29755305]\n",
      " [ 75199.62617734]\n",
      " [ 75567.75156179]\n",
      " [ 75117.51993911]\n",
      " [ 75113.81871287]\n",
      " [ 86948.19024289]\n",
      " [ 75006.41648796]\n",
      " [ 74977.72228714]\n",
      " [ 75472.99314119]\n",
      " [ 75266.15865228]\n",
      " [ 75010.16231616]\n",
      " [ 80681.96755157]\n",
      " [ 80929.11224539]\n",
      " [ 75646.71477444]]\n",
      "\n",
      "True True\n",
      "45688 228440\n",
      "[  0.63095734   1.           1.58489319   2.51188643   3.98107171\n",
      "   6.30957344  10.          15.84893192  25.11886432  39.81071706] [ 1660.55949785  1660.55949785  1660.55949785] 16\n",
      "True True\n",
      "\n",
      "A\n",
      "B\n",
      "C\n",
      "(27, 9)\n",
      "[[  2.73638103e+04   1.90450064e+04   6.90339277e+03   1.65587586e+03\n",
      "    1.32019487e+02   2.07884262e+01   8.72280610e+00   3.32741246e+00\n",
      "    1.01741160e+00]\n",
      " [  2.88961901e+04   1.86078879e+04   6.90165010e+03   1.67418783e+03\n",
      "    1.34116947e+02   2.09344985e+01   8.70848492e+00   3.38784670e+00\n",
      "    1.03592487e+00]\n",
      " [  2.87408255e+04   1.79525915e+04   6.77949810e+03   1.64358759e+03\n",
      "    1.31698845e+02   2.10671575e+01   9.05588504e+00   3.36976826e+00\n",
      "    1.05228303e+00]\n",
      " [  2.72571268e+04   1.81095208e+04   6.80330239e+03   1.64143482e+03\n",
      "    1.28068755e+02   2.09122665e+01   8.65458534e+00   3.29874867e+00\n",
      "    1.06343746e+00]\n",
      " [  2.85356021e+04   1.83600210e+04   6.72671395e+03   1.62005034e+03\n",
      "    1.29815178e+02   2.08401293e+01   8.75775131e+00   3.30387629e+00\n",
      "    1.04024184e+00]\n",
      " [  2.75548149e+04   1.85781460e+04   6.73731275e+03   1.66752014e+03\n",
      "    1.33605584e+02   2.11173636e+01   8.81823175e+00   3.38797122e+00\n",
      "    1.03770442e+00]\n",
      " [  2.73315188e+04   1.83887176e+04   6.82502922e+03   1.65018219e+03\n",
      "    1.31459385e+02   2.09501918e+01   8.73966378e+00   3.32906997e+00\n",
      "    1.05950787e+00]\n",
      " [  2.73402406e+04   1.84115839e+04   6.76483712e+03   1.66019013e+03\n",
      "    1.31651256e+02   2.07403658e+01   8.83407134e+00   3.30831835e+00\n",
      "    1.04093193e+00]\n",
      " [  2.87093294e+04   1.87837879e+04   6.88178516e+03   1.65425864e+03\n",
      "    1.33992962e+02   2.12011114e+01   8.82054864e+00   3.38412621e+00\n",
      "    1.05461016e+00]\n",
      " [  2.86553105e+04   1.94014474e+04   6.87402692e+03   1.67421300e+03\n",
      "    1.34154621e+02   2.14105595e+01   8.65266496e+00   3.30690499e+00\n",
      "    1.03358565e+00]\n",
      " [  2.86089076e+04   1.86713492e+04   6.97026566e+03   1.65559464e+03\n",
      "    1.30647573e+02   2.11171702e+01   8.83687760e+00   3.33945645e+00\n",
      "    1.06429013e+00]\n",
      " [  2.86000120e+04   1.81771357e+04   6.85385485e+03   1.66250603e+03\n",
      "    1.30053375e+02   2.07605275e+01   8.69185090e+00   3.19033467e+00\n",
      "    9.95756260e-01]\n",
      " [  2.89097370e+04   1.83273029e+04   6.99844946e+03   1.67044769e+03\n",
      "    1.34807001e+02   2.11996348e+01   8.81309601e+00   3.41582640e+00\n",
      "    1.02521552e+00]\n",
      " [  2.74865959e+04   1.84380583e+04   6.90048761e+03   1.66645676e+03\n",
      "    1.32840785e+02   2.10569366e+01   8.77423056e+00   3.31820550e+00\n",
      "    1.05260094e+00]\n",
      " [  3.17212207e+04   1.91473740e+04   6.79619889e+03   1.68402024e+03\n",
      "    1.31270648e+02   2.07576360e+01   8.83811359e+00   3.40834920e+00\n",
      "    1.05106485e+00]\n",
      " [  2.76828400e+04   1.94676706e+04   6.81616503e+03   1.65097766e+03\n",
      "    1.30162349e+02   2.09253168e+01   8.60984287e+00   3.24733012e+00\n",
      "    1.05995610e+00]\n",
      " [  3.14339910e+04   1.93233775e+04   6.82597590e+03   1.68236392e+03\n",
      "    1.34381885e+02   2.11155506e+01   8.81236231e+00   3.32602544e+00\n",
      "    1.04069775e+00]\n",
      " [  2.87870804e+04   1.85872773e+04   6.89909284e+03   1.67374703e+03\n",
      "    1.30027025e+02   2.07206730e+01   8.85269647e+00   3.39156233e+00\n",
      "    1.05749187e+00]\n",
      " [  3.01578195e+04   1.91423850e+04   6.86156347e+03   1.64081526e+03\n",
      "    1.26001368e+02   2.05871935e+01   8.86980782e+00   3.47946616e+00\n",
      "    1.08350016e+00]\n",
      " [  2.87589239e+04   1.91620728e+04   6.82701237e+03   1.67459753e+03\n",
      "    1.32704123e+02   2.05638983e+01   8.62248432e+00   3.39949889e+00\n",
      "    1.05613161e+00]\n",
      " [  2.74725726e+04   1.82543778e+04   6.99457061e+03   1.67331407e+03\n",
      "    1.33025484e+02   2.09314150e+01   8.81517952e+00   3.36123082e+00\n",
      "    1.05056885e+00]\n",
      " [  2.75294208e+04   1.85573900e+04   6.77810747e+03   1.63887817e+03\n",
      "    1.32037371e+02   2.06272431e+01   8.75622801e+00   3.40829563e+00\n",
      "    1.03731991e+00]\n",
      " [  2.74731568e+04   1.85393209e+04   6.87329889e+03   1.67347506e+03\n",
      "    1.34020195e+02   2.08725918e+01   8.81519970e+00   3.30806814e+00\n",
      "    1.03754942e+00]\n",
      " [  3.01781186e+04   1.85741089e+04   6.96090981e+03   1.64622883e+03\n",
      "    1.32445555e+02   2.06074748e+01   8.67817999e+00   3.40617720e+00\n",
      "    1.03467746e+00]\n",
      " [  2.86666944e+04   1.84587479e+04   6.91631471e+03   1.66243708e+03\n",
      "    1.30778093e+02   2.06817260e+01   8.98142644e+00   3.42768462e+00\n",
      "    1.03691200e+00]\n",
      " [  3.02236212e+04   1.86381480e+04   6.81990359e+03   1.66442893e+03\n",
      "    1.33273620e+02   2.11179668e+01   8.73080389e+00   3.40779057e+00\n",
      "    1.05708859e+00]\n",
      " [  2.75824712e+04   1.91975392e+04   6.85186841e+03   1.67432722e+03\n",
      "    1.33299421e+02   2.03481809e+01   8.75607491e+00   3.37147038e+00\n",
      "    1.04137070e+00]]\n",
      "\n"
     ]
    }
   ],
   "source": [
    "cov_mats = np.zeros((7,N, 5, 2*len(r_bins)-2, 2*len(r_bins)-2))\n",
    "\n",
    "for boxno in xrange(7):\n",
    "    for realization in xrange(5):\n",
    "        cat = TestBox(boxno = boxno, realization = realization, system = 'sherlock')\n",
    "        cat.load(1.0, HOD = str('zheng07'), particles = True, downsample_factor = 1e-2)\n",
    "        for hod_idx, hod_params in enumerate(hod_dicts):\n",
    "            add_logMmin(hod_params, cat)\n",
    "            print hod_params\n",
    "\n",
    "            cat.populate(hod_params)\n",
    "            mat =  compute_full_jk(cat, r_bins)\n",
    "            break\n",
    "        break\n",
    "    break"
   ]
  },
  {
   "cell_type": "code",
   "execution_count": 44,
   "metadata": {},
   "outputs": [
    {
     "data": {
      "text/plain": [
       "<matplotlib.image.AxesImage at 0x7f5fc9f36dd0>"
      ]
     },
     "execution_count": 44,
     "metadata": {},
     "output_type": "execute_result"
    },
    {
     "data": {
      "image/png": "[encoded data removed]",
      "text/plain": [
       "<matplotlib.figure.Figure at 0x7f5fc9fa9d50>"
      ]
     },
     "metadata": {},
     "output_type": "display_data"
    }
   ],
   "source": [
    "plt.imshow(np.log10(mat) )"
   ]
  },
  {
   "cell_type": "code",
   "execution_count": null,
   "metadata": {
    "collapsed": true
   },
   "outputs": [],
   "source": []
  }
 ],
 "metadata": {
  "kernelspec": {
   "display_name": "Python 2",
   "language": "python",
   "name": "python2"
  },
  "language_info": {
   "codemirror_mode": {
    "name": "ipython",
    "version": 2
   },
   "file_extension": ".py",
   "mimetype": "text/x-python",
   "name": "python",
   "nbconvert_exporter": "python",
   "pygments_lexer": "ipython2",
   "version": "2.7.13"
  }
 },
 "nbformat": 4,
 "nbformat_minor": 1
}

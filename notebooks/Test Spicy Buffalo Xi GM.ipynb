{
 "cells": [
  {
   "cell_type": "markdown",
   "metadata": {},
   "source": [
    "I'm gonna overwrite a lot of this notebook's old content. I changed the way I'm calculating wt, and wanna test that my training worked. "
   ]
  },
  {
   "cell_type": "code",
   "execution_count": 1,
   "metadata": {
    "collapsed": true
   },
   "outputs": [],
   "source": [
    "from pearce.emulator import OriginalRecipe, ExtraCrispy, SpicyBuffalo\n",
    "from pearce.mocks import cat_dict\n",
    "import numpy as np\n",
    "from os import path"
   ]
  },
  {
   "cell_type": "code",
   "execution_count": 2,
   "metadata": {
    "collapsed": true
   },
   "outputs": [],
   "source": [
    "import matplotlib\n",
    "#matplotlib.use('Agg')\n",
    "from matplotlib import pyplot as plt\n",
    "%matplotlib inline\n",
    "import seaborn as sns\n",
    "sns.set()"
   ]
  },
  {
   "cell_type": "code",
   "execution_count": 3,
   "metadata": {
    "collapsed": true
   },
   "outputs": [],
   "source": [
    "training_file = '/scratch/users/swmclau2/xi_gm_cosmo/PearceRedMagicXiGMCosmoFixedNd.hdf5'\n",
    "#training_file = '/u/ki/swmclau2/des/PearceRedMagicXiCosmoFixedNdLowMsat.hdf5'\n",
    "test_file = '/scratch/users/swmclau2/xi_gm_cosmo_test/PearceRedMagicXiGMCosmoFixedNdTest.hdf5'\n",
    "#test_file = '/u/ki/swmclau2/des/PearceRedMagicXiCosmoFixedNdLowMsatTest.hdf5'\n",
    "\n",
    "em_method = 'gp'\n",
    "split_method = 'random'"
   ]
  },
  {
   "cell_type": "code",
   "execution_count": 4,
   "metadata": {
    "collapsed": true
   },
   "outputs": [],
   "source": [
    "a = 1.0\n",
    "z = 1.0/a - 1.0"
   ]
  },
  {
   "cell_type": "code",
   "execution_count": 5,
   "metadata": {
    "collapsed": true
   },
   "outputs": [],
   "source": [
    "fixed_params = {'z':z}#, 'cosmo': 0}#, 'r':24.06822623}"
   ]
  },
  {
   "cell_type": "raw",
   "metadata": {
    "collapsed": true
   },
   "source": [
    "v = np.array([  2.68607108,  -4.29605403, -12. ,         12.,         -11.18424935,\n",
    "  -8.39772494 , -8.88556884,   9.00797499 , 12.    ,      10.56121261,  12.,\n",
    "   5.50280428,   0.59482347 , -6.24363245 , -8.26644505,   0.25342135,\n",
    "   0.96977814 , 12.,           3.37450278,  12. ,          7.15832218,\n",
    "   0.79122102,  11.9455156 ,   1.64464882,   4.03020203])\n"
   ]
  },
  {
   "cell_type": "raw",
   "metadata": {},
   "source": [
    "v = np.array([ 0.2661017,  0.1054246,  1.1295944,  0.3643993,  0.2408568,\n",
    "    11.5649985,  5.6407612,  4.9071932, 10.6279446, 11.7621938,\n",
    "     4.7031938,  6.3770235, 11.7578699, 11.7547548,  8.4866085,\n",
    "    -12.0550382,  1.8339794, 10.6161248,  2.2441632, 13.8155106,\n",
    "    10.6371797, 11.3512804,  7.342365 ,  3.1795786,  3.7658774,\n",
    "     5.0188608,  4.6846614, 13.8155106, 13.8155106,  5.545777 ,\n",
    "    13.8155106, -1.5383083, -13.8155106])"
   ]
  },
  {
   "cell_type": "code",
   "execution_count": 6,
   "metadata": {
    "collapsed": true
   },
   "outputs": [],
   "source": [
    "v = np.loadtxt('/home/users/swmclau2/Git/pearce/bin/optimization/sloppy_joes_result_xigm.npy')"
   ]
  },
  {
   "cell_type": "code",
   "execution_count": 7,
   "metadata": {
    "collapsed": true
   },
   "outputs": [],
   "source": [
    "param_names = ['ombh2', 'omch2', 'w0', 'ns', 'ln10As', 'H0', 'Neff', 'logM0', 'sigma_logM', 'logM1', 'alpha']"
   ]
  },
  {
   "cell_type": "code",
   "execution_count": 8,
   "metadata": {
    "collapsed": true
   },
   "outputs": [],
   "source": [
    "pnames = ['bias', 'amp']\n",
    "pnames.extend(param_names)\n",
    "pnames.append('amp')\n",
    "pnames.extend(param_names)"
   ]
  },
  {
   "cell_type": "code",
   "execution_count": 9,
   "metadata": {
    "collapsed": true
   },
   "outputs": [],
   "source": [
    "from collections import defaultdict\n",
    "metric = defaultdict(list)\n",
    "for val, pname in zip(v, pnames):\n",
    "    metric[pname].append(val)"
   ]
  },
  {
   "cell_type": "raw",
   "metadata": {
    "collapsed": true
   },
   "source": [
    "# guessing cosmo comes first? \n",
    "zx_kernel_pnames = ['omch2', 'ombh2', 'ln10As', 'H0', 'ns', 'Neff', 'w0', 'logM1', 'alpha', 'logM0', 'sigma_logM',None, None, None, None, 'amp']\n",
    "zx_kernel_pnames.extend(zx_kernel_pnames)\n",
    "zx_kernel_pnames.append('amp')"
   ]
  },
  {
   "cell_type": "raw",
   "metadata": {},
   "source": [
    "zx_metric = {}\n",
    "for pname, val in zip(zx_kernel_pnames, v):\n",
    "    if pname is None:\n",
    "        continue\n",
    "    if pname not in zx_metric:\n",
    "        zx_metric[pname] = []\n",
    "    zx_metric[pname].append(val)"
   ]
  },
  {
   "cell_type": "raw",
   "metadata": {},
   "source": [
    "m1 = [zx_metric[pname][0] for pname in param_names]\n",
    "m2 = [zx_metric[pname][0] for pname in param_names]\n",
    "a1, a2, a3 = zx_metric['amp']"
   ]
  },
  {
   "cell_type": "raw",
   "metadata": {
    "collapsed": true
   },
   "source": [
    "from george.kernels import *"
   ]
  },
  {
   "cell_type": "raw",
   "metadata": {},
   "source": [
    "#kernel = ExpSquaredKernel(np.exp(m1), ndim=11) * ConstantKernel(a1, ndim=11)\\\n",
    "#+ Matern32Kernel(np.exp(m2), ndim=11) + ConstantKernel(a2, ndim=11)#+ WhiteKernel(a3, ndim=11)\n",
    "kernel = Matern52Kernel(np.exp(0),ndim=11)+ ConstantKernel(0, ndim = 11)"
   ]
  },
  {
   "cell_type": "raw",
   "metadata": {},
   "source": [
    "np.random.seed(0)\n",
    "emu = OriginalRecipe(training_file, method = em_method, fixed_params=fixed_params,\\\n",
    "                     custom_mean_function = 'linear', downsample_factor=0.02)#,\n",
    "                    #hyperparams = {'n_estimators': 500,\n",
    "                    #              'max_depth': 5})"
   ]
  },
  {
   "cell_type": "code",
   "execution_count": 10,
   "metadata": {
    "collapsed": true
   },
   "outputs": [],
   "source": [
    "np.random.seed(0)\n",
    "emu = SpicyBuffalo(training_file, method = em_method,hyperparams = {'metric':metric}, fixed_params=fixed_params,\n",
    "                 custom_mean_function = 'linear', downsample_factor = 0.1)"
   ]
  },
  {
   "cell_type": "raw",
   "metadata": {},
   "source": [
    "for pname, val in zip(emu._emulators[0].get_parameter_names(), emu._emulators[0].get_parameter_vector()):\n",
    "    print pname, val"
   ]
  },
  {
   "cell_type": "raw",
   "metadata": {},
   "source": [
    "for pname in emu.get_param_names():\n",
    "    print pname, emu.get_param_bounds(pname)"
   ]
  },
  {
   "cell_type": "raw",
   "metadata": {},
   "source": [
    "n_leaves, n_overlap = 5000, 1\n",
    "emu = ExtraCrispy(training_file, n_leaves, n_overlap, split_method, method = em_method, fixed_params=fixed_params,\n",
    "                 custom_mean_function = 'linear', downsample_factor = 1.0)"
   ]
  },
  {
   "cell_type": "code",
   "execution_count": 11,
   "metadata": {},
   "outputs": [
    {
     "data": {
      "text/plain": [
       "array([  0.09581734,   0.13534558,   0.19118072,   0.27004994,\n",
       "         0.38145568,   0.53882047,   0.76110414,   1.07508818,\n",
       "         1.51860241,   2.14508292,   3.03001016,   4.28000311,\n",
       "         6.04566509,   8.53972892,  12.06268772,  17.0389993 ,\n",
       "        24.06822623,  33.99727318])"
      ]
     },
     "execution_count": 11,
     "metadata": {},
     "output_type": "execute_result"
    }
   ],
   "source": [
    "emu.scale_bin_centers"
   ]
  },
  {
   "cell_type": "code",
   "execution_count": 12,
   "metadata": {},
   "outputs": [
    {
     "name": "stdout",
     "output_type": "stream",
     "text": [
      "[  0.09581733   0.13534558   0.19118072   0.27004994   0.38145568\n",
      "   0.53882047   0.76110414   1.07508817   1.51860241   2.14508292\n",
      "   3.03001016   4.28000311   6.04566509   8.53972892  12.06268772\n",
      "  17.0389993   24.06822623  33.99727318]\n"
     ]
    }
   ],
   "source": [
    "rbins = np.logspace(-1.1, 1.6, 19)\n",
    "print (rbins[1:]+rbins[:-1])/2"
   ]
  },
  {
   "cell_type": "raw",
   "metadata": {
    "collapsed": true
   },
   "source": [
    "#v = [  5.30324096,  -2.92565173,  -4.42429766,  -2.48246708,  10.0699553,                                                           \n",
    "#  -8.69248089,   0.15083459,  -4.72773171,   1.49655743,   1.17087069,                                                                 \n",
    "#   0.97997249,  -1.91976981,   7.17709699, -10.26944746,  10.37865121,                                                                 \n",
    "#   0.50210416,  12.01525603,   5.89975769,   4.78413158,  -1.33582408,                                                                 \n",
    "#  -9.94571436,   6.50103759,   9.70125021, -11.7173251,   -0.10738552] \n",
    "\n",
    "#v = [-12.,          -5.56039378,   5.01999226,   9.63986449, -12.,\n",
    "# -12.,          -2.13397232,   7.90203306, -12.,           0.51574787,\n",
    "#   7.25074046,  -1.28201782,   2.84486642, -12.,         -12.,\n",
    "#  12.,          -7.75414731,  12.,          12.,         -12.,\n",
    "#   5.15929851, -12.,           0.53369134,  -3.81346879,  -6.9684267, ]\n",
    "\n",
    "#v = [ -1.14028239, -12.,          -8.08712614 , -1.51590059 ,  2.66822232,\n",
    "# -12.,         -10.17631757,   6.17448276,   6.2380102,  -12.,\n",
    "#  -3.63076923,  -1.3260091,    1.84463374,  -2.57120539,   0.42652469,\n",
    "#   0.94596673,   2.04145112,  -5.13442469,  12.,           8.86492205,\n",
    "# -12.,           2.44659378,  12.,           2.10889078,   9.36958256]\n",
    "\n",
    "v = [ 12. ,         12. ,         12.  ,        12.   ,       12.     ,     12.,\n",
    "  11.67920429 ,  6.81656135 , 12.   ,        1.92715272 , 12.    ,       7.72884642,\n",
    "  12.,        -12.     ,      2.57697301,  12. ,          8.85016763,\n",
    "   9.96558899 ,  6.24704116 , 12.      ,    12.   ,      -12.    ,     -12. ,        -12.,\n",
    "  12.,       ]\n",
    "\n",
    "v = np.ones_like(v)*12.0\n",
    "\n",
    "#[ -8.16992654,   8.67223223,  -2.21244202,  -8.9034059,    2.12923655,\n",
    "#  -9.85755136,   8.6699058,    1.24032812,  -0.41040494 ,  1.93942663,\n",
    "#   3.70688402,   5.53623883,  10.27060377,  -8.96397854,  -1.54633767,\n",
    "#   6.72846738,  -9.38415988,  -9.68900453,  -3.5219898,   -9.2396184,\n",
    "#  10.60952486,  -2.12807193,  -9.92944798,  -2.87456867,  -8.28144359]\n",
    "\n",
    "#[-2.30321746, -6.,          2.74986581, -0.59132415,  0.74564814, -1.47243557,\n",
    "#5.38958859,  2.36982126,  5.35110678,  1.6798139,   6.,          2.82272942,\n",
    "#6.        ]\n",
    "\n",
    "#[ 6.         -6.         -2.95890662 -6.         -3.63039154  6.\n",
    "# -0.93930637 -6.         -6.          2.2162459   6.          2.75175138\n",
    "#  5.09211467]"
   ]
  },
  {
   "cell_type": "raw",
   "metadata": {
    "collapsed": true
   },
   "source": [
    "if hasattr(emu, \"_emulator\"):\n",
    "    emu._emulator.set_parameter_vector(v) \n",
    "    emu._emulator.recompute()\n",
    "else:\n",
    "    for _emulator in emu._emulators:\n",
    "        _emulator.set_parameter_vector(v)\n",
    "        _emulator.recompute()"
   ]
  },
  {
   "cell_type": "code",
   "execution_count": 13,
   "metadata": {},
   "outputs": [
    {
     "name": "stdout",
     "output_type": "stream",
     "text": [
      "{'logM1': 14.267701848157271, 'Neff': 3.6095427706197905, 'logM0': 13.578807613765713, 'sigma_logM': 0.2502193887675708, 'H0': 73.31620420249872, 'w0': -0.5886073500474833, 'omch2': 0.10271736946651576, 'ln10As': 3.0459840518637358, 'alpha': 1.031390598923265, 'ns': 0.9832511796584299, 'ombh2': 0.021913242278466367}\n"
     ]
    }
   ],
   "source": [
    "params = {}\n",
    "for pname in emu.get_param_names():\n",
    "    if pname == 'r':\n",
    "        continue\n",
    "    low, high = emu.get_param_bounds(pname)\n",
    "    params[pname] = np.random.uniform(low, high)\n",
    "    \n",
    "print params"
   ]
  },
  {
   "cell_type": "code",
   "execution_count": 14,
   "metadata": {},
   "outputs": [
    {
     "name": "stdout",
     "output_type": "stream",
     "text": [
      "[ 4.04004748  3.75891956  3.44550816  3.12585732  2.7892213   2.44664001\n",
      "  2.07815025  1.68794447  1.28838445  0.93358763  0.6619232   0.43599471\n",
      "  0.21960341 -0.01169283 -0.23920516 -0.49295352 -0.73753417 -1.0304472 ]\n"
     ]
    }
   ],
   "source": [
    "pred_y = emu.emulate_wrt_r(params)[0]\n",
    "print pred_y"
   ]
  },
  {
   "cell_type": "code",
   "execution_count": 15,
   "metadata": {},
   "outputs": [
    {
     "data": {
      "image/png": "[encoded data removed]",
      "text/plain": [
       "<matplotlib.figure.Figure at 0x7f23c97ce890>"
      ]
     },
     "metadata": {},
     "output_type": "display_data"
    }
   ],
   "source": [
    "plt.plot(emu.scale_bin_centers, pred_y)\n",
    "plt.xscale('log')"
   ]
  },
  {
   "cell_type": "raw",
   "metadata": {},
   "source": [
    "pred_y = emu.emulate(params)[0]\n",
    "print pred_y"
   ]
  },
  {
   "cell_type": "raw",
   "metadata": {},
   "source": [
    "plt.plot(emu.scale_bin_centers, pred_y)\n",
    "plt.xscale(\"log\")"
   ]
  },
  {
   "cell_type": "code",
   "execution_count": 16,
   "metadata": {},
   "outputs": [
    {
     "name": "stdout",
     "output_type": "stream",
     "text": [
      "0.0234517600943 0.0121923981071\n",
      "0.0192527749647 0.0109628666191\n",
      "0.0188197683256 0.0125569191338\n",
      "0.0174105517534 0.0115639485909\n",
      "0.0180021921549 0.0138528889531\n",
      "0.0170768295276 0.0115808824458\n",
      "0.0170542635561 0.0126511857355\n",
      "0.0164322821349 0.0117216605456\n",
      "0.0162993074686 0.0112952571418\n",
      "0.0184492766357 0.0138849150335\n",
      "0.0207765933422 0.0165579597545\n",
      "0.0172226956557 0.0125498110043\n",
      "0.01102411654 0.0074401020925\n",
      "0.0123994008471 0.009087794042\n",
      "0.0137004409511 0.0117419100576\n",
      "0.0113102910711 0.00830910180484\n",
      "0.0119856512156 0.0067302607619\n",
      "0.0224484907575 0.0184341607037\n"
     ]
    }
   ],
   "source": [
    "gof = emu.goodness_of_fit(test_file, statistic = 'frac')\n",
    "#print gof.mean(), np.median(gof)\n",
    "for g in gof:\n",
    "    print g.mean(), np.median(g)"
   ]
  },
  {
   "cell_type": "code",
   "execution_count": 17,
   "metadata": {
    "collapsed": true
   },
   "outputs": [],
   "source": [
    "pred_y, data_y = emu.goodness_of_fit(test_file, statistic = None)"
   ]
  },
  {
   "cell_type": "code",
   "execution_count": 18,
   "metadata": {},
   "outputs": [
    {
     "data": {
      "text/plain": [
       "['ombh2',\n",
       " 'omch2',\n",
       " 'w0',\n",
       " 'ns',\n",
       " 'ln10As',\n",
       " 'H0',\n",
       " 'Neff',\n",
       " 'logM0',\n",
       " 'sigma_logM',\n",
       " 'logM1',\n",
       " 'alpha']"
      ]
     },
     "execution_count": 18,
     "metadata": {},
     "output_type": "execute_result"
    }
   ],
   "source": [
    "test_x, _, _, _ = emu.get_data(test_file, fixed_params=fixed_params)\n",
    "\n",
    "train_x, _, _, _ = emu.get_data(training_file, fixed_params=fixed_params)\n",
    "\n",
    "emu.get_param_names()"
   ]
  },
  {
   "cell_type": "code",
   "execution_count": 19,
   "metadata": {},
   "outputs": [
    {
     "name": "stdout",
     "output_type": "stream",
     "text": [
      "(126000, 12) (720000, 12)\n",
      "1000 1000\n"
     ]
    }
   ],
   "source": [
    "print test_x.shape, train_x.shape\n",
    "print test_x.shape[0]/(7*emu.n_bins), train_x.shape[0]/(40*emu.n_bins)"
   ]
  },
  {
   "cell_type": "code",
   "execution_count": 20,
   "metadata": {},
   "outputs": [
    {
     "data": {
      "text/plain": [
       "<matplotlib.collections.PathCollection at 0x7f23c73c7d50>"
      ]
     },
     "execution_count": 20,
     "metadata": {},
     "output_type": "execute_result"
    },
    {
     "data": {
      "image/png": "[encoded data removed]",
      "text/plain": [
       "<matplotlib.figure.Figure at 0x7f23c73b4890>"
      ]
     },
     "metadata": {},
     "output_type": "display_data"
    }
   ],
   "source": [
    "idx1, idx2 = -5, -2\n",
    "plt.scatter(test_x[0:1000*emu.n_bins:emu.n_bins, idx1], test_x[0:1000*emu.n_bins:emu.n_bins, idx2], alpha = 0.5)\n",
    "plt.scatter(train_x[0:1000*emu.n_bins:emu.n_bins, idx1], train_x[0:1000*emu.n_bins:emu.n_bins, idx2], color = 'g', alpha = 0.5)"
   ]
  },
  {
   "cell_type": "code",
   "execution_count": 21,
   "metadata": {
    "collapsed": true
   },
   "outputs": [],
   "source": [
    "resmat = np.zeros( (len(pred_y), pred_y[0].shape[0]))\n",
    "for bin_no in xrange(len(pred_y)):\n",
    "    py, dy = pred_y[bin_no], data_y[bin_no]\n",
    "    resmat[bin_no] = 10**py - 10**dy\n",
    "    \n",
    "    #print np.sqrt(np.mean( (py - dy)**2)*py.shape[0]/(py.shape[0]-1) )"
   ]
  },
  {
   "cell_type": "code",
   "execution_count": 22,
   "metadata": {
    "collapsed": true
   },
   "outputs": [],
   "source": [
    "scovmat = resmat.dot(resmat.T)/(len(pred_y[0])-1)"
   ]
  },
  {
   "cell_type": "code",
   "execution_count": 23,
   "metadata": {},
   "outputs": [
    {
     "name": "stdout",
     "output_type": "stream",
     "text": [
      "[  3.29453937e+02   1.64128669e+02   9.23737801e+01   5.12651187e+01\n",
      "   2.82956875e+01   1.65647486e+01   9.05888752e+00   5.32473359e+00\n",
      "   2.62057192e+00   1.25187794e+00   5.18920220e-01   1.83799943e-01\n",
      "   5.62377534e-02   3.11488548e-02   1.88440419e-02   9.49574675e-03\n",
      "   4.99840516e-03   4.12298800e-03]\n"
     ]
    }
   ],
   "source": [
    "print np.sqrt(np.diag(scovmat))"
   ]
  },
  {
   "cell_type": "raw",
   "metadata": {
    "collapsed": true
   },
   "source": [
    "np.savetxt('/home/users/swmclau2/Git/pearce/bin/mcmc/xigm_scov.npy', scovmat)"
   ]
  },
  {
   "cell_type": "raw",
   "metadata": {
    "collapsed": true
   },
   "source": [
    "emu._save_as_default_metric(metric)"
   ]
  },
  {
   "cell_type": "code",
   "execution_count": 52,
   "metadata": {},
   "outputs": [
    {
     "name": "stderr",
     "output_type": "stream",
     "text": [
      "cp: cannot create regular file ‘/home/users/swmclau2/Git/pearce/emulator/default_metrics.pkl’: No such file or directory\n"
     ]
    }
   ],
   "source": [
    "%%bash\n",
    "cp /home/users/swmclau2/.local/lib/python2.7/site-packages/pearce/emulator/default_metrics.pkl /home/users/swmclau2/Git/pearce/emulator/default_metrics.pkl"
   ]
  },
  {
   "cell_type": "raw",
   "metadata": {},
   "source": [
    "metric['amp'] = [1, 1]\n",
    "metric['bias'] = [0.0]"
   ]
  },
  {
   "cell_type": "raw",
   "metadata": {},
   "source": [
    "for downsample_factor in [ 0.01, 0.05, 0.2, 0.4, 0.6, 0.8, 1.0]:\n",
    "    np.random.seed(0)\n",
    "    emu = OriginalRecipe(training_file, method = em_method, fixed_params=fixed_params,\\\n",
    "                     custom_mean_function = 'linear', downsample_factor=downsample_factor)\n",
    "    gof = emu.goodness_of_fit(test_file, statistic = 'log_frac')\n",
    "    print downsample_factor, gof.mean(), np.median(gof)"
   ]
  },
  {
   "cell_type": "raw",
   "metadata": {},
   "source": [
    "emu._save_as_default_metric(metric)"
   ]
  },
  {
   "cell_type": "code",
   "execution_count": 53,
   "metadata": {
    "collapsed": true
   },
   "outputs": [],
   "source": [
    "#print g.mean(), np.median(g)"
   ]
  },
  {
   "cell_type": "raw",
   "metadata": {},
   "source": [
    "for g in gof:\n",
    "    print g.mean(), np.median(g)"
   ]
  },
  {
   "cell_type": "code",
   "execution_count": 54,
   "metadata": {},
   "outputs": [
    {
     "ename": "NameError",
     "evalue": "name 'y' is not defined",
     "output_type": "error",
     "traceback": [
      "\u001b[0;31m\u001b[0m",
      "\u001b[0;31mNameError\u001b[0mTraceback (most recent call last)",
      "\u001b[0;32m<ipython-input-54-3b2670a335aa>\u001b[0m in \u001b[0;36m<module>\u001b[0;34m()\u001b[0m\n\u001b[0;32m----> 1\u001b[0;31m \u001b[0mplt\u001b[0m\u001b[0;34m.\u001b[0m\u001b[0mhist\u001b[0m\u001b[0;34m(\u001b[0m\u001b[0my\u001b[0m\u001b[0;34m)\u001b[0m\u001b[0;34m\u001b[0m\u001b[0m\n\u001b[0m",
      "\u001b[0;31mNameError\u001b[0m: name 'y' is not defined"
     ]
    }
   ],
   "source": [
    "plt.hist(y)"
   ]
  },
  {
   "cell_type": "code",
   "execution_count": null,
   "metadata": {
    "collapsed": true
   },
   "outputs": [],
   "source": [
    "plt.hist(pred_y)"
   ]
  },
  {
   "cell_type": "code",
   "execution_count": null,
   "metadata": {
    "collapsed": true
   },
   "outputs": [],
   "source": [
    "plt.hist(emu.y)"
   ]
  },
  {
   "cell_type": "raw",
   "metadata": {
    "scrolled": false
   },
   "source": [
    "for idx in xrange(emu.n_bins):\n",
    "    fig = plt.figure(figsize=(10, 4))\n",
    "    rat = np.abs(pred_y[idx] - y[idx])/np.abs(y[idx])\n",
    "    print rat.mean(), np.percentile(rat, [ 50, 68, 95])\n",
    "    plt.subplot(121)\n",
    "    plt.hist(np.log10(rat), bins = 50 );\n",
    "    plt.subplot(122)\n",
    "    plt.hist(pred_y[idx]-y[idx], bins = np.linspace(-1, 1, 51) );\n",
    "    plt.show()"
   ]
  },
  {
   "cell_type": "code",
   "execution_count": null,
   "metadata": {
    "collapsed": true
   },
   "outputs": [],
   "source": [
    "plt.hist(np.log10(gof));"
   ]
  },
  {
   "cell_type": "code",
   "execution_count": null,
   "metadata": {
    "collapsed": true
   },
   "outputs": [],
   "source": [
    "plt.hist(emu.y)"
   ]
  },
  {
   "cell_type": "code",
   "execution_count": null,
   "metadata": {
    "collapsed": true
   },
   "outputs": [],
   "source": [
    "for i in xrange(50):    \n",
    "    params = {}\n",
    "\n",
    "    for pname in emu.get_param_names():\n",
    "        if pname == 'r':\n",
    "            continue\n",
    "        low, high = emu.get_param_bounds(pname)\n",
    "        params[pname] = np.random.uniform(low, high)\n",
    "    pred_y = emu.emulate(params)[0]\n",
    "    print pred_y\n",
    "    #print params"
   ]
  },
  {
   "cell_type": "code",
   "execution_count": null,
   "metadata": {
    "collapsed": true,
    "scrolled": false
   },
   "outputs": [],
   "source": [
    "for i, (g, r) in enumerate(zip(gof, emu.scale_bin_centers)):\n",
    "    print r, g.mean(), np.median(g)\n",
    "    #plt.hist(np.log10(g))\n",
    "    #plt.show()"
   ]
  },
  {
   "cell_type": "raw",
   "metadata": {},
   "source": [
    "plt.hist(np.log10(gof) );"
   ]
  },
  {
   "cell_type": "raw",
   "metadata": {
    "collapsed": true
   },
   "source": [
    "from sklearn.model_selection import train_test_split"
   ]
  },
  {
   "cell_type": "raw",
   "metadata": {},
   "source": [
    "x, y, yerr = emu.x, emu.y, emu.yerr\n",
    "downsample_idxs = np.random.choice(x.shape[0], size = int(0.08*x.shape[0]), replace = False)\n",
    "x,y, yerr = x[downsample_idxs, :], y[downsample_idxs], yerr[downsample_idxs]\n",
    "\n",
    "train_x, test_x, train_y, test_y, train_yerr, test_yerr = train_test_split(x, y, yerr, test_size = 0.1)\n"
   ]
  },
  {
   "cell_type": "code",
   "execution_count": null,
   "metadata": {
    "collapsed": true
   },
   "outputs": [],
   "source": [
    "n_cosmo_params = 7\n",
    "loo_cosmo = emu.x[0, 0,  :n_cosmo_params]\n",
    "\n",
    "loo_cosmo_idxs = np.all(emu.x[:, :,:n_cosmo_params] == loo_cosmo, axis =2)\n",
    "train_x, train_y, train_yerr = emu.x[~loo_cosmo_idxs, :], emu.y[ ~loo_cosmo_idxs], emu.yerr[ ~loo_cosmo_idxs]\n",
    "test_x, test_y, test_yerr = emu.x[loo_cosmo_idxs, :], emu.y[loo_cosmo_idxs], emu.yerr[loo_cosmo_idxs]"
   ]
  },
  {
   "cell_type": "raw",
   "metadata": {},
   "source": [
    "train_x, train_y, train_yerr = emu.x, emu.y, emu.yerr"
   ]
  },
  {
   "cell_type": "code",
   "execution_count": null,
   "metadata": {
    "collapsed": true
   },
   "outputs": [],
   "source": [
    "model = emu._emulator\n",
    "model.compute(train_x, train_yerr)"
   ]
  },
  {
   "cell_type": "raw",
   "metadata": {},
   "source": [
    "test_x, test_y, test_yerr, _ = emu.get_data(test_file,fixed_params, None)"
   ]
  },
  {
   "cell_type": "code",
   "execution_count": null,
   "metadata": {
    "collapsed": true
   },
   "outputs": [],
   "source": [
    "pred_y = model.predict(train_y, test_x, False, False, False)*emu._y_std + emu._y_mean\n"
   ]
  },
  {
   "cell_type": "code",
   "execution_count": null,
   "metadata": {
    "collapsed": true
   },
   "outputs": [],
   "source": [
    "np.mean(np.abs((pred_y-test_y)/test_y))\n",
    "#np.mean(np.abs((pred_y-train_y)/train_y))"
   ]
  },
  {
   "cell_type": "raw",
   "metadata": {
    "scrolled": false
   },
   "source": [
    "for idx in xrange(50):\n",
    "    plt.plot(emu.scale_bin_centers, ypred[idx*emu.n_bins:(idx+1)*emu.n_bins], label = 'Emu')\n",
    "    plt.plot(emu.scale_bin_centers, emu.y[idx*emu.n_bins:(idx+1)*emu.n_bins], label = 'True')\n",
    "    plt.title(np.sum(emu.x[(idx+1)*emu.n_bins, :-1]) )\n",
    "    plt.legend(loc='best')\n",
    "    plt.xscale('log')\n",
    "    plt.show()"
   ]
  },
  {
   "cell_type": "code",
   "execution_count": null,
   "metadata": {
    "collapsed": true
   },
   "outputs": [],
   "source": [
    "        queue_skipper: True\n",
    "        system: sherlock\n",
    "        n_jobs: 400\n",
    "        max_time: 6\n",
    "resids = np.abs(emu.y*emu._y_std+emu._y_mean - ypred)"
   ]
  },
  {
   "cell_type": "code",
   "execution_count": null,
   "metadata": {
    "collapsed": true
   },
   "outputs": [],
   "source": [
    "np.mean(resids/(emu.y*emu._y_std+emu._y_mean))"
   ]
  },
  {
   "cell_type": "code",
   "execution_count": null,
   "metadata": {
    "collapsed": true
   },
   "outputs": [],
   "source": [
    "ypred.mean(), emu._y_mean"
   ]
  },
  {
   "cell_type": "raw",
   "metadata": {},
   "source": [
    "plt.plot(emu.scale_bin_centers, np.abs(gof.mean(axis = 0)) )\n",
    "plt.plot(emu.scale_bin_centers, np.ones_like(emu.scale_bin_centers)*0.01)\n",
    "plt.plot(emu.scale_bin_centers, np.ones_like(emu.scale_bin_centers)*0.05)\n",
    "plt.plot(emu.scale_bin_centers, np.ones_like(emu.scale_bin_centers)*0.1)\n",
    "\n",
    "\n",
    "plt.loglog();"
   ]
  },
  {
   "cell_type": "raw",
   "metadata": {},
   "source": [
    "plt.plot(emu.scale_bin_centers, np.abs(gof.T),alpha = 0.1, color = 'b')\n",
    "plt.plot(emu.scale_bin_centers, np.ones_like(emu.scale_bin_centers)*0.01, lw = 2, color = 'k')\n",
    "plt.loglog();"
   ]
  },
  {
   "cell_type": "code",
   "execution_count": null,
   "metadata": {
    "collapsed": true
   },
   "outputs": [],
   "source": [
    "test_gof = emu.goodness_of_fit(test_file, statistic = 'log_frac')\n",
    "print test_gof.mean()"
   ]
  },
  {
   "cell_type": "code",
   "execution_count": null,
   "metadata": {
    "collapsed": true
   },
   "outputs": [],
   "source": [
    "test_gof = emu.goodness_of_fit(test_file, statistic = 'frac')\n",
    "print test_gof.mean()"
   ]
  },
  {
   "cell_type": "code",
   "execution_count": null,
   "metadata": {
    "collapsed": true
   },
   "outputs": [],
   "source": [
    "plt.hist(np.log10(test_gof));"
   ]
  },
  {
   "cell_type": "code",
   "execution_count": null,
   "metadata": {
    "collapsed": true
   },
   "outputs": [],
   "source": [
    "test_x"
   ]
  },
  {
   "cell_type": "code",
   "execution_count": null,
   "metadata": {
    "collapsed": true
   },
   "outputs": [],
   "source": [
    "(emu.x*emu._x_std) + emu._x_mean"
   ]
  },
  {
   "cell_type": "code",
   "execution_count": null,
   "metadata": {
    "collapsed": true
   },
   "outputs": [],
   "source": [
    "emu.get_param_names()"
   ]
  },
  {
   "cell_type": "code",
   "execution_count": null,
   "metadata": {
    "collapsed": true
   },
   "outputs": [],
   "source": [
    "test_x_white, test_y_white = (test_x - emu._x_mean)/(emu._x_std + 1e-5), (test_y - emu._y_mean)/(emu._y_std + 1e-5)"
   ]
  },
  {
   "cell_type": "code",
   "execution_count": null,
   "metadata": {
    "collapsed": true
   },
   "outputs": [],
   "source": [
    "model = emu._emulator"
   ]
  },
  {
   "cell_type": "code",
   "execution_count": null,
   "metadata": {
    "collapsed": true
   },
   "outputs": [],
   "source": [
    "pred_y_white = model.predict(emu.y, test_x_white, False, False, False)"
   ]
  },
  {
   "cell_type": "code",
   "execution_count": null,
   "metadata": {
    "collapsed": true
   },
   "outputs": [],
   "source": [
    "pred_y = pred_y_white*emu._y_std + emu._y_mean"
   ]
  },
  {
   "cell_type": "code",
   "execution_count": null,
   "metadata": {
    "collapsed": true
   },
   "outputs": [],
   "source": [
    "plt.plot(pred_y[:100], label = 'pred')\n",
    "plt.plot(test_y[:100], label = 'truth')\n",
    "\n",
    "plt.legend(loc = 'best')"
   ]
  },
  {
   "cell_type": "code",
   "execution_count": null,
   "metadata": {
    "collapsed": true
   },
   "outputs": [],
   "source": [
    "test_y.mean(), emu._y_mean, pred_y.mean()"
   ]
  },
  {
   "cell_type": "code",
   "execution_count": null,
   "metadata": {
    "collapsed": true
   },
   "outputs": [],
   "source": [
    "test_y.std(), emu._y_std, pred_y.std()"
   ]
  },
  {
   "cell_type": "code",
   "execution_count": null,
   "metadata": {
    "collapsed": true
   },
   "outputs": [],
   "source": [
    "plt.hist(pred_y_white, bins = np.linspace(-3, 3, 100), label = 'Pred')\n",
    "plt.hist(test_y_white, bins = np.linspace(-3, 3, 100), label = 'Test', alpha = 0.4);\n",
    "plt.legend(loc = 'best')"
   ]
  },
  {
   "cell_type": "code",
   "execution_count": null,
   "metadata": {
    "collapsed": true
   },
   "outputs": [],
   "source": []
  },
  {
   "cell_type": "code",
   "execution_count": null,
   "metadata": {
    "collapsed": true
   },
   "outputs": [],
   "source": []
  }
 ],
 "metadata": {
  "kernelspec": {
   "display_name": "Python 2",
   "language": "python",
   "name": "python2"
  },
  "language_info": {
   "codemirror_mode": {
    "name": "ipython",
    "version": 2
   },
   "file_extension": ".py",
   "mimetype": "text/x-python",
   "name": "python",
   "nbconvert_exporter": "python",
   "pygments_lexer": "ipython2",
   "version": "2.7.13"
  }
 },
 "nbformat": 4,
 "nbformat_minor": 1
}

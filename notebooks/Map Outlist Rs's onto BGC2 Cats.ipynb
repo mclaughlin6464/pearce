{
 "cells": [
  {
   "cell_type": "markdown",
   "metadata": {},
   "source": [
    "Going to Map Rs's onto BGC2 Cats."
   ]
  },
  {
   "cell_type": "code",
   "execution_count": 15,
   "metadata": {
    "collapsed": true
   },
   "outputs": [],
   "source": [
    "from os.path import join\n",
    "from csv import DictReader, DictWriter"
   ]
  },
  {
   "cell_type": "code",
   "execution_count": 16,
   "metadata": {
    "collapsed": true
   },
   "outputs": [],
   "source": [
    "fieldnames = '#ID DescID M200b Vmax Vrms R200b Rs Np X Y Z VX VY VZ Parent_ID'.split(' ')"
   ]
  },
  {
   "cell_type": "raw",
   "metadata": {
    "collapsed": false
   },
   "source": [
    "missed_keys = dict()\n",
    "for cosmo_idx in xrange(40):\n",
    "    halodir = '/u/ki/swmclau2/des/NewAemulusBoxes/Box%03d/halos/m200b/'%cosmo_idx\n",
    "    #halodir = '/home/users/swmclau2/scratch/NewTrainingBoxes/Box%03d/halos/m200b/'%cosmo_idx\n",
    "    #halodir = '/home/users/swmclau2/scratch/TrainingBoxes/Box000/halos/m200b/'\n",
    "    #halodir = '/home/users/swmclau2/scratch/TestBoxes/TestBox000-000/halos/m200b/'\n",
    "    for snapshot_idx in xrange(10):\n",
    "        outlist_fname = join(halodir, \"out_%d.list\"%snapshot_idx)\n",
    "        bgc2list_fname = join(halodir, \"outbgc2_%d.list\"%snapshot_idx)\n",
    "        bgc2list_fname2 = join(halodir, \"outbgc2_rs_%d.list\"%snapshot_idx)\n",
    "        \n",
    "        print cosmo_idx, snapshot_idx\n",
    "\n",
    "        outlist_rs = dict()\n",
    "        with open(outlist_fname) as csvfile:\n",
    "            reader = DictReader(filter(lambda row: row[0]!='#' or row[:3]=='#ID', csvfile), delimiter = ' ')\n",
    "            for row in reader:\n",
    "                outlist_rs[row['#ID']] = row['Rs']\n",
    "\n",
    "        with open(bgc2list_fname) as oldfile, open(bgc2list_fname2, 'w') as newfile:\n",
    "            reader = DictReader(filter(lambda row: row[0]!='#' or row[:3]=='#ID', oldfile), delimiter = ' ')\n",
    "            #writer = DictWriter(newfile, fieldnames, delimiter = ' ')\n",
    "            #writer.writeheader()\n",
    "\n",
    "            for row in reader:\n",
    "                try:\n",
    "                    row['Rs'] = outlist_rs[row['#ID']]\n",
    "                except KeyError:\n",
    "                    missed_keys[cosmo_idx] = row['#ID']\n",
    "                    \n",
    "                #writer.writerow(row)\n",
    "    break"
   ]
  },
  {
   "cell_type": "code",
   "execution_count": 17,
   "metadata": {
    "collapsed": false
   },
   "outputs": [
    {
     "name": "stdout",
     "output_type": "stream",
     "text": [
      "(0, 2) 50 0\n"
     ]
    }
   ],
   "source": [
    "missed_keys = dict()\n",
    "cosmo_idx = 0\n",
    "halodir = '/u/ki/swmclau2/des/NewAemulusBoxes/Box%03d/halos/m200b/'%cosmo_idx\n",
    "#halodir = '/home/users/swmclau2/scratch/NewTrainingBoxes/Box%03d/halos/m200b/'%cosmo_idx\n",
    "#halodir = '/home/users/swmclau2/scratch/TrainingBoxes/Box000/halos/m200b/'\n",
    "#halodir = '/home/users/swmclau2/scratch/TestBoxes/TestBox000-000/halos/m200b/'\n",
    "#for snapshot_idx in xrange(10):\n",
    "snapshot_idx = 2\n",
    "\n",
    "outlist_fname = join(halodir, \"out_%d.list\"%snapshot_idx)\n",
    "bgc2list_fname = join(halodir, \"outbgc2_%d.list\"%snapshot_idx)\n",
    "bgc2list_fname2 = join(halodir, \"outbgc2_rs_%d.list\"%snapshot_idx)\n",
    "\n",
    "print (cosmo_idx, snapshot_idx),\n",
    "\n",
    "outlist_idxs = set()\n",
    "with open(outlist_fname) as csvfile:\n",
    "    reader = DictReader(filter(lambda row: row[0]!='#' or row[:3]=='#ID', csvfile), delimiter = ' ')\n",
    "    for row in reader:\n",
    "        #outlist_rs[row['#ID']] = row['Rs']\n",
    "        outlist_idxs.add(int(row['#ID']))\n",
    "\n",
    "bgc2_idxs = set()\n",
    "with open(bgc2list_fname) as oldfile, open(bgc2list_fname2, 'r') as newfile:\n",
    "    reader = DictReader(filter(lambda row: row[0]!='#' or row[:3]=='#ID', newfile), delimiter = ' ')\n",
    "    #writer = DictWriter(newfile, fieldnames, delimiter = ' ')\n",
    "    #writer.writeheader()\n",
    "\n",
    "    for row in reader:\n",
    "        bgc2_idxs.add(int(row['#ID']) )\n",
    "        #try:\n",
    "        #    row['Rs'] = outlist_rs[row['#ID']]\n",
    "        #except KeyError:\n",
    "        #    missed_keys[cosmo_idx] = row['#ID']\n",
    "\n",
    "        #writer.writerow(row)\n",
    "print len(bgc2_idxs - outlist_idxs), len(outlist_idxs - bgc2_idxs)"
   ]
  },
  {
   "cell_type": "code",
   "execution_count": 18,
   "metadata": {
    "collapsed": false
   },
   "outputs": [
    {
     "name": "stdout",
     "output_type": "stream",
     "text": [
      "set([8836805, 8836806, 8836807, 8836808, 8836809, 8836810, 8836811, 8836812, 8836813, 8836814, 8836815, 8836816, 8836817, 8836818, 8836819, 8836820, 8836821, 8836822, 8836823, 8836824, 8836825, 8836826, 8836827, 8836828, 8836829, 8836830, 8836831, 8836832, 8836833, 8836834, 8836835, 8836836, 8836837, 8836838, 8836839, 8836840, 8836841, 8836842, 8836843, 8836844, 8836845, 8836846, 8836847, 8836848, 8836849, 8836850, 8836851, 8836852, 8836853, 8836854])\n"
     ]
    }
   ],
   "source": [
    "print bgc2_idxs - outlist_idxs"
   ]
  },
  {
   "cell_type": "raw",
   "metadata": {},
   "source": [
    "(0, 0) 0 0\n",
    "(0, 1) 528 0\n",
    "(0, 2) 50 0\n",
    "(0, 3) 2 0\n",
    "(0, 4) 0 639\n",
    "(0, 5) 0 794\n",
    "(0, 6) 39 0\n",
    "(0, 7) 2 0\n",
    "(0, 8) 0 617\n",
    "(0, 9) 0 636"
   ]
  },
  {
   "cell_type": "code",
   "execution_count": 19,
   "metadata": {
    "collapsed": false
   },
   "outputs": [
    {
     "name": "stdout",
     "output_type": "stream",
     "text": [
      "31219\n"
     ]
    }
   ],
   "source": [
    "bgc2list_rs = dict()\n",
    "bgc2_zero_rs = set()\n",
    "with open(bgc2list_fname2) as csvfile:\n",
    "    reader = DictReader(filter(lambda row: row[0]!='#' or row[:3]=='#ID', csvfile), delimiter = ' ')\n",
    "    for row in reader:\n",
    "        bgc2list_rs[int(row['#ID'])] = float(row['Rs'])\n",
    "        if float(row['Rs']) <= 0:\n",
    "            bgc2_zero_rs.add(int(row['#ID']) )\n",
    "            #print row\n",
    "\n",
    "print len(zero_rs)"
   ]
  },
  {
   "cell_type": "code",
   "execution_count": 20,
   "metadata": {
    "collapsed": false
   },
   "outputs": [
    {
     "name": "stdout",
     "output_type": "stream",
     "text": [
      "31219\n"
     ]
    }
   ],
   "source": [
    "outlist_rs = dict()\n",
    "outlist_zero_rs = set()\n",
    "with open(outlist_fname) as csvfile:\n",
    "    reader = DictReader(filter(lambda row: row[0]!='#' or row[:3]=='#ID', csvfile), delimiter = ' ')\n",
    "    for row in reader:\n",
    "        outlist_rs[int(row['#ID'])] = float(row['Rs'])\n",
    "        if float(row['Rs']) <= 0:\n",
    "            outlist_zero_rs.add(int(row['#ID']) )\n",
    "            #print row\n",
    "\n",
    "print len(zero_rs)"
   ]
  },
  {
   "cell_type": "raw",
   "metadata": {},
   "source": [
    "rs_file_keys = set(outlist_rs.keys())"
   ]
  },
  {
   "cell_type": "code",
   "execution_count": 21,
   "metadata": {
    "collapsed": false
   },
   "outputs": [
    {
     "name": "stdout",
     "output_type": "stream",
     "text": [
      "18827 18827\n"
     ]
    }
   ],
   "source": [
    "outlist_counter = 0\n",
    "bgc2_counter = 0\n",
    "for key in outlist_zero_rs:\n",
    "    if key in outlist_idxs:\n",
    "        outlist_counter+=1\n",
    "    if key in bgc2_idxs:\n",
    "        bgc2_counter+=1\n",
    "        \n",
    "print outlist_counter, bgc2_counter"
   ]
  },
  {
   "cell_type": "code",
   "execution_count": 22,
   "metadata": {
    "collapsed": false
   },
   "outputs": [
    {
     "name": "stdout",
     "output_type": "stream",
     "text": [
      "826 2162 7304 22752 32758 47021 47292 55384 55603 57918 58808 60356 62380 64054 65571 66618 66728 67060 68249 68344 69395 69646 70193 70699 71703 71721 72697 72842 73014 73453 73476 73925 74734 74774 75820 76266 76438 76919 77782 77960 78180 78512 79038 79116 79500 80286 81118 81193 81734 81885 82382\n"
     ]
    }
   ],
   "source": [
    "print_counter = 0\n",
    "for idx, rs in outlist_rs.iteritems():\n",
    "    if rs == 0:\n",
    "        print idx,\n",
    "        print_counter+=1\n",
    "        \n",
    "    if print_counter > 50:\n",
    "        break"
   ]
  },
  {
   "cell_type": "code",
   "execution_count": 23,
   "metadata": {
    "collapsed": false
   },
   "outputs": [
    {
     "name": "stdout",
     "output_type": "stream",
     "text": [
      "18827 18877\n"
     ]
    }
   ],
   "source": [
    "outlist_counter = 0\n",
    "bgc2_counter = 0\n",
    "for key in bgc2_zero_rs:\n",
    "    if key in outlist_idxs:\n",
    "        outlist_counter+=1\n",
    "    if key in bgc2_idxs:\n",
    "        bgc2_counter+=1\n",
    "        \n",
    "print outlist_counter, bgc2_counter"
   ]
  },
  {
   "cell_type": "code",
   "execution_count": 24,
   "metadata": {
    "collapsed": false
   },
   "outputs": [
    {
     "ename": "SyntaxError",
     "evalue": "invalid syntax (<ipython-input-24-52c990ed79ee>, line 1)",
     "output_type": "error",
     "traceback": [
      "\u001b[1;36m  File \u001b[1;32m\"<ipython-input-24-52c990ed79ee>\"\u001b[1;36m, line \u001b[1;32m1\u001b[0m\n\u001b[1;33m    for key in zero_rs\u001b[0m\n\u001b[1;37m                      ^\u001b[0m\n\u001b[1;31mSyntaxError\u001b[0m\u001b[1;31m:\u001b[0m invalid syntax\n"
     ]
    }
   ],
   "source": [
    "for key in zero_rs"
   ]
  },
  {
   "cell_type": "code",
   "execution_count": null,
   "metadata": {
    "collapsed": false
   },
   "outputs": [],
   "source": [
    "outlist_rs.values()"
   ]
  },
  {
   "cell_type": "code",
   "execution_count": null,
   "metadata": {
    "collapsed": false
   },
   "outputs": [],
   "source": [
    "import numpy as np\n",
    "rs_arr = np.array(list(outlist_rs.itervalues())).astype(float)"
   ]
  },
  {
   "cell_type": "code",
   "execution_count": null,
   "metadata": {
    "collapsed": true
   },
   "outputs": [],
   "source": [
    "from matplotlib import pyplot as plt\n",
    "%matplotlib inline"
   ]
  },
  {
   "cell_type": "code",
   "execution_count": null,
   "metadata": {
    "collapsed": false
   },
   "outputs": [],
   "source": [
    "n_zero_rs = np.sum(rs_arr == 0)\n",
    "print n_zero_rs, n_zero_rs*1.0/rs_arr.shape[0]"
   ]
  },
  {
   "cell_type": "code",
   "execution_count": null,
   "metadata": {
    "collapsed": false
   },
   "outputs": [],
   "source": [
    "plt.hist(rs_arr)"
   ]
  },
  {
   "cell_type": "code",
   "execution_count": null,
   "metadata": {
    "collapsed": true
   },
   "outputs": [],
   "source": []
  }
 ],
 "metadata": {
  "kernelspec": {
   "display_name": "Python [default]",
   "language": "python",
   "name": "python2"
  },
  "language_info": {
   "codemirror_mode": {
    "name": "ipython",
    "version": 2
   },
   "file_extension": ".py",
   "mimetype": "text/x-python",
   "name": "python",
   "nbconvert_exporter": "python",
   "pygments_lexer": "ipython2",
   "version": "2.7.13"
  }
 },
 "nbformat": 4,
 "nbformat_minor": 2
}

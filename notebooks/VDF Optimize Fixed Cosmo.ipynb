{
 "cells": [
  {
   "cell_type": "markdown",
   "metadata": {},
   "source": [
    "I realized I can't use the test boxes to do fixed cosmology optimization. They'll also be small enough to do in a notebook. So I'll do them here. "
   ]
  },
  {
   "cell_type": "code",
   "execution_count": 1,
   "metadata": {
    "collapsed": true
   },
   "outputs": [],
   "source": [
    "%matplotlib inline\n",
    "from matplotlib import pyplot as plt\n",
    "import seaborn as sns\n",
    "sns.set()"
   ]
  },
  {
   "cell_type": "code",
   "execution_count": 2,
   "metadata": {
    "collapsed": false
   },
   "outputs": [
    {
     "name": "stderr",
     "output_type": "stream",
     "text": [
      " /u/ki/swmclau2/.conda/envs/hodemulator/lib/python2.7/site-packages/sklearn/ensemble/weight_boosting.py:29: DeprecationWarning:numpy.core.umath_tests is an internal NumPy module and should not be imported. It will be removed in a future NumPy release.\n"
     ]
    }
   ],
   "source": [
    "from pearce.emulator import LemonPepperWet, NashvilleHot\n",
    "from itertools import product\n",
    "from GPy.kern import *\n",
    "import numpy as np\n",
    "from os import path\n",
    "from sys import argv\n",
    "import h5py\n",
    "from time import time"
   ]
  },
  {
   "cell_type": "code",
   "execution_count": 3,
   "metadata": {
    "collapsed": true
   },
   "outputs": [],
   "source": [
    "peaked=False"
   ]
  },
  {
   "cell_type": "raw",
   "metadata": {
    "collapsed": true
   },
   "source": [
    "training_file ='/u/ki/swmclau2/des/Aemulators/xi_hsab_box0/PearceHSABXiBox0.hdf5'\n",
    "test_file = '/u/ki/swmclau2/des/xi_hsab_box0_test/PearceHSABXi.hdf5'\n",
    "obs = 'xi'"
   ]
  },
  {
   "cell_type": "raw",
   "metadata": {
    "collapsed": true
   },
   "source": [
    "training_file ='/u/ki/swmclau2/des/Aemulators/vdf_hsab_box0/PearceHSABVDFBox0.hdf5'\n",
    "test_file = '/u/ki/swmclau2/des/vdf_hsab_box0_test/PearceHSABVDF.hdf5'\n",
    "obs='vdf'"
   ]
  },
  {
   "cell_type": "code",
   "execution_count": 4,
   "metadata": {
    "collapsed": true
   },
   "outputs": [],
   "source": [
    "training_file ='/u/ki/swmclau2/des/Aemulators/vdf_hsab_box0/PearceHSABPVDFBox0.hdf5'\n",
    "test_file = '/u/ki/swmclau2/des/vdf_hsab_box0_test/PearceHSABPVDF.hdf5'\n",
    "obs='vdf'\n",
    "peaked=True"
   ]
  },
  {
   "cell_type": "raw",
   "metadata": {
    "collapsed": true
   },
   "source": [
    "def convert_file(in_name, out_name):\n",
    "    with h5py.File(in_name, 'r') as in_f, h5py.File(out_name, 'w') as out_f:\n",
    "        for key in in_f.attrs.keys():\n",
    "            out_f.attrs[key] = in_f.attrs[key]\n",
    "            \n",
    "        orig_out = 10**in_f['cosmo_no_00']['a_1.000']['obs'][()]\n",
    "        \n",
    "        orig_out[orig_out>0.5] = 1- orig_out[orig_out>0.5]\n",
    "        \n",
    "        g1 = out_f.create_group('cosmo_no_00')\n",
    "        g2 = g1.create_group('a_1.000')\n",
    "        g2.create_dataset('obs', data = np.log10(orig_out))\n",
    "        g2.create_dataset('cov', data = in_f['cosmo_no_00']['a_1.000']['cov'][()])"
   ]
  },
  {
   "cell_type": "raw",
   "metadata": {
    "collapsed": false
   },
   "source": [
    "convert_file(training_file, '/u/ki/swmclau2/des/Aemulators/vdf_hsab_box0/PearceHSABPVDFBox0.hdf5')"
   ]
  },
  {
   "cell_type": "raw",
   "metadata": {
    "collapsed": true
   },
   "source": [
    "convert_file(test_file,  '/u/ki/swmclau2/des/vdf_hsab_box0_test/PearceHSABPVDF.hdf5')"
   ]
  },
  {
   "cell_type": "code",
   "execution_count": 5,
   "metadata": {
    "collapsed": false
   },
   "outputs": [],
   "source": [
    "with h5py.File(training_file, 'r') as f:\n",
    "    HOD_params = len(f.attrs['hod_param_names'])"
   ]
  },
  {
   "cell_type": "code",
   "execution_count": 6,
   "metadata": {
    "collapsed": true
   },
   "outputs": [],
   "source": [
    "fixed_params = {'z':0.0, 'cosmo':0}"
   ]
  },
  {
   "cell_type": "code",
   "execution_count": 7,
   "metadata": {
    "collapsed": true
   },
   "outputs": [],
   "source": [
    "HOD_kernels = [Matern32(input_dim=HOD_params, ARD=True)+\\\n",
    "               RBF(input_dim=HOD_params, ARD=True)]# + Bias(input_dim=HOD_params)]\n",
    "               #RBF(input_dim=HOD_params, ARD=True) + Linear(input_dim=HOD_params, ARD=True) + Bias(input_dim=HOD_params), \n",
    "               #Matern32(input_dim=HOD_params, ARD=True)+RBF(input_dim=HOD_params, ARD=True) + Bias(input_dim=HOD_params)]#, RBF(input_dim=HOD_params, ARD=True) + Matern32(input_dim=HOD_params, ARD=True)]\n",
    "\n",
    "\n",
    "radial_kernels = [RBF(input_dim=1, ARD=True)]# + Bias(input_dim=1)]\n",
    "                  #Linear(input_dim=1, ARD=True) + RBF(input_dim=1, ARD=True) +Bias(input_dim=1)]\n",
    "                  #Matern32(input_dim=7, ARD=True)+RBF(input_dim=7, ARD=True) + Bias(input_dim=7)]\n"
   ]
  },
  {
   "cell_type": "code",
   "execution_count": 8,
   "metadata": {
    "collapsed": true
   },
   "outputs": [],
   "source": [
    "def cov_to_corr(cov):\n",
    "    std = np.sqrt(np.diag(cov))\n",
    "    denom = np.outer(std, std)\n",
    "    return cov/denom"
   ]
  },
  {
   "cell_type": "code",
   "execution_count": 9,
   "metadata": {
    "collapsed": true
   },
   "outputs": [],
   "source": [
    "fiducial_hod = {'sigma_logM':0.2, 'logM0': 13.0, 'logM1': 14.0,\n",
    "                'alpha':1.0,'conc_gal_bias': 1.0,\\\n",
    "                'mean_occupation_centrals_assembias_param1': 0.0,\n",
    "               'mean_occupation_satellites_assembias_param1': 0.0}"
   ]
  },
  {
   "cell_type": "code",
   "execution_count": 10,
   "metadata": {
    "collapsed": true
   },
   "outputs": [],
   "source": [
    "#for j, hk in enumerate(HOD_kernels):\n",
    "#    for k, rk in enumerate(radial_kernels):\n",
    "hyperparams = {'kernel': [ HOD_kernels[0], radial_kernels[0]] , \\\n",
    "               'optimize':  True}"
   ]
  },
  {
   "cell_type": "code",
   "execution_count": 11,
   "metadata": {
    "collapsed": false
   },
   "outputs": [
    {
     "name": "stdout",
     "output_type": "stream",
     "text": [
      "Optimization restart 1/5, f = -1466.51235949\n",
      "Optimization restart 2/5, f = -706.38526324"
     ]
    },
    {
     "name": "stderr",
     "output_type": "stream",
     "text": [
      " /u/ki/swmclau2/.local/lib/python2.7/site-packages/pearce/emulator/emu.py:2832: UserWarning:WARNING: NaN detected. Skipped 0 points in training data.\n",
      " /u/ki/swmclau2/.local/lib/python2.7/site-packages/GPy-1.9.9-py2.7-linux-x86_64.egg/GPy/kern/src/stationary.py:166: RuntimeWarning:overflow encountered in divide\n"
     ]
    },
    {
     "name": "stdout",
     "output_type": "stream",
     "text": [
      "\n",
      "Optimization restart 3/5, f = -1344.67070434\n",
      "Optimization restart 4/5, f = 6024.81181325\n",
      "Optimization restart 5/5, f = -1331.28577682\n"
     ]
    },
    {
     "name": "stderr",
     "output_type": "stream",
     "text": [
      " /u/ki/swmclau2/.local/lib/python2.7/site-packages/GPy-1.9.9-py2.7-linux-x86_64.egg/GPy/kern/src/stationary.py:137: RuntimeWarning:overflow encountered in square\n"
     ]
    }
   ],
   "source": [
    "np.random.seed(0)\n",
    "emu = LemonPepperWet(training_file, hyperparams=hyperparams,\\\n",
    "                     fixed_params = fixed_params,\\\n",
    "                     downsample_factor = 1.0 )"
   ]
  },
  {
   "cell_type": "raw",
   "metadata": {
    "collapsed": false
   },
   "source": [
    "print emu.emulate_wrt_r(fiducial_hod).squeeze()"
   ]
  },
  {
   "cell_type": "code",
   "execution_count": 12,
   "metadata": {
    "collapsed": false
   },
   "outputs": [
    {
     "name": "stderr",
     "output_type": "stream",
     "text": [
      " /u/ki/swmclau2/.local/lib/python2.7/site-packages/pearce/emulator/emu.py:2985: H5pyDeprecationWarning:The default file mode will change to 'r' (read-only) in h5py 3.0. To suppress this warning, pass the mode you need to h5py.File(), or set the global default h5.get_config().default_file_mode, or set the environment variable H5PY_DEFAULT_READONLY=1. Available modes are: 'r', 'r+', 'w', 'w-'/'x', 'a'. See the docs for details.\n"
     ]
    }
   ],
   "source": [
    "emu.save_as_default_kernel()"
   ]
  },
  {
   "cell_type": "code",
   "execution_count": 13,
   "metadata": {
    "collapsed": false
   },
   "outputs": [
    {
     "name": "stdout",
     "output_type": "stream",
     "text": [
      "Total Acc 0.25882516861894805\n",
      "Acc [0.01438998 0.01770803 0.02002844 0.02224071 0.02386391 0.02495406\n",
      " 0.02530343 0.02526796 0.02438396 0.02449153 0.02035163 0.0267048\n",
      " 0.06325518 0.10356801 0.24481858 3.8091044  0.57050605 0.07442494\n",
      " 0.0218541  0.01928368]\n",
      "Bias 0.20097438625449876\n"
     ]
    },
    {
     "name": "stderr",
     "output_type": "stream",
     "text": [
      " /u/ki/swmclau2/.local/lib/python2.7/site-packages/pearce/emulator/emu.py:2832: UserWarning:WARNING: NaN detected. Skipped 0 points in training data.\n"
     ]
    }
   ],
   "source": [
    "pred_y, data_y = emu.goodness_of_fit(test_file, statistic = None)#, downsample_factor = 0.5)\n",
    "\n",
    "#print pred_y.shape\n",
    "\n",
    "N_points = emu.x2.shape[0]\n",
    "downsample_N_points = int(emu._downsample_factor * N_points)\n",
    "\n",
    "#pred_y = pred_y[:,downsample_N_points:]\n",
    "#data_y = data_y[:,downsample_N_points:]\n",
    "\n",
    "R = (10**pred_y - 10**data_y)\n",
    "acc =(np.abs(R)/(10**data_y)).mean()\n",
    "rel_R = (R/(10**data_y))#.mean(axis=1)\n",
    "\n",
    "print 'Total Acc', acc \n",
    "print 'Acc', (np.abs(R)/(10**data_y)).mean(axis=1)\n",
    "print 'Bias', rel_R.mean()#axis=1)\n",
    "\n",
    "cov = R.dot(R.T)/(R.shape[1]-1)\n",
    "rel_cov = rel_R.dot(rel_R.T)/(rel_R.shape[1]-1)"
   ]
  },
  {
   "cell_type": "code",
   "execution_count": 14,
   "metadata": {
    "collapsed": false
   },
   "outputs": [
    {
     "data": {
      "text/plain": [
       "<matplotlib.image.AxesImage at 0x7f0bb9b5ae10>"
      ]
     },
     "execution_count": 14,
     "metadata": {},
     "output_type": "execute_result"
    },
    {
     "data": {
      "image/png": "[encoded data removed]",
      "text/plain": [
       "<matplotlib.figure.Figure at 0x7f0bbdbc1850>"
      ]
     },
     "metadata": {},
     "output_type": "display_data"
    }
   ],
   "source": [
    "plt.imshow(cov_to_corr(cov))"
   ]
  },
  {
   "cell_type": "code",
   "execution_count": 15,
   "metadata": {
    "collapsed": false
   },
   "outputs": [
    {
     "data": {
      "text/plain": [
       "<matplotlib.image.AxesImage at 0x7f0bb99f7990>"
      ]
     },
     "execution_count": 15,
     "metadata": {},
     "output_type": "execute_result"
    },
    {
     "data": {
      "image/png": "[encoded data removed]",
      "text/plain": [
       "<matplotlib.figure.Figure at 0x7f0bb9b19c10>"
      ]
     },
     "metadata": {},
     "output_type": "display_data"
    }
   ],
   "source": [
    "plt.imshow(cov_to_corr(rel_cov))"
   ]
  },
  {
   "cell_type": "code",
   "execution_count": 16,
   "metadata": {
    "collapsed": false
   },
   "outputs": [
    {
     "data": {
      "image/png": "[encoded data removed]",
      "text/plain": [
       "<matplotlib.figure.Figure at 0x7f0bb9a11510>"
      ]
     },
     "metadata": {},
     "output_type": "display_data"
    }
   ],
   "source": [
    "plt.plot(emu.scale_bin_centers, np.sqrt(np.diag(cov)))\n",
    "#plt.xscale('log')\n",
    "plt.loglog();"
   ]
  },
  {
   "cell_type": "code",
   "execution_count": 17,
   "metadata": {
    "collapsed": true
   },
   "outputs": [],
   "source": [
    "from pearce.mocks.kittens import TrainingBox"
   ]
  },
  {
   "cell_type": "code",
   "execution_count": 18,
   "metadata": {
    "collapsed": false
   },
   "outputs": [],
   "source": [
    "cat = TrainingBox(0, system='ki-ls')"
   ]
  },
  {
   "cell_type": "code",
   "execution_count": 19,
   "metadata": {
    "collapsed": true
   },
   "outputs": [],
   "source": [
    "cat.load(1.0, HOD='hsabZheng07')"
   ]
  },
  {
   "cell_type": "code",
   "execution_count": 20,
   "metadata": {
    "collapsed": true
   },
   "outputs": [],
   "source": [
    "from scipy.optimize import minimize_scalar\n",
    "def add_logMmin(hod_params, cat):\n",
    "\n",
    "    hod_params['logMmin'] = 13.0 #initial guess\n",
    "    #cat.populate(hod_params) #may be overkill, but will ensure params are written everywhere\n",
    "    def func(logMmin, hod_params):\n",
    "        hod_params.update({'logMmin':logMmin})\n",
    "        return (cat.calc_analytic_nd(hod_params, min_ptcl=100) - 5e-4)**2\n",
    "\n",
    "    res = minimize_scalar(func, bounds = (12,15), args = (hod_params,), options = {'maxiter':100}, method = 'Bounded')\n",
    "\n",
    "    # assuming this doens't fail\n",
    "    print 'logMmin', res.x\n",
    "    hod_params['logMmin'] = res.x\n"
   ]
  },
  {
   "cell_type": "code",
   "execution_count": 21,
   "metadata": {
    "collapsed": false
   },
   "outputs": [
    {
     "name": "stdout",
     "output_type": "stream",
     "text": [
      "logMmin 13.205627959576999\n"
     ]
    }
   ],
   "source": [
    "add_logMmin(fiducial_hod, cat)"
   ]
  },
  {
   "cell_type": "code",
   "execution_count": 22,
   "metadata": {
    "collapsed": true
   },
   "outputs": [],
   "source": [
    "r_bins = np.logspace(-0.3, 2.0, 21)"
   ]
  },
  {
   "cell_type": "code",
   "execution_count": 23,
   "metadata": {
    "collapsed": false
   },
   "outputs": [
    {
     "name": "stdout",
     "output_type": "stream",
     "text": [
      "0\n",
      "1\n",
      "2\n",
      "3\n",
      "4\n"
     ]
    }
   ],
   "source": [
    "N = 5\n",
    "vals = np.zeros((N, len(r_bins)-1))\n",
    "\n",
    "for i in xrange(N):\n",
    "    print i\n",
    "    cat.populate(fiducial_hod)\n",
    "    if obs == 'xi':\n",
    "        vals[i] =  cat.calc_xi(r_bins)\n",
    "    else:\n",
    "        vals[i] = cat.calc_vdf(r_bins, n_ran=1e8)"
   ]
  },
  {
   "cell_type": "code",
   "execution_count": 24,
   "metadata": {
    "collapsed": true
   },
   "outputs": [],
   "source": [
    "if peaked:\n",
    "    vals[vals>0.5] = 1-vals[vals>0.5]"
   ]
  },
  {
   "cell_type": "code",
   "execution_count": 48,
   "metadata": {
    "collapsed": true
   },
   "outputs": [],
   "source": [
    "meas_cov = np.cov(vals, rowvar=False)"
   ]
  },
  {
   "cell_type": "code",
   "execution_count": 49,
   "metadata": {
    "collapsed": true
   },
   "outputs": [],
   "source": [
    "meas_cov[meas_cov==0] = (1e-6)**2"
   ]
  },
  {
   "cell_type": "code",
   "execution_count": 50,
   "metadata": {
    "collapsed": false
   },
   "outputs": [
    {
     "data": {
      "text/plain": [
       "<matplotlib.image.AxesImage at 0x7f0bb9468c90>"
      ]
     },
     "execution_count": 50,
     "metadata": {},
     "output_type": "execute_result"
    },
    {
     "data": {
      "image/png": "[encoded data removed]",
      "text/plain": [
       "<matplotlib.figure.Figure at 0x7f0bb92c8dd0>"
      ]
     },
     "metadata": {},
     "output_type": "display_data"
    }
   ],
   "source": [
    "plt.imshow(cov_to_corr(meas_cov))"
   ]
  },
  {
   "cell_type": "code",
   "execution_count": 51,
   "metadata": {
    "collapsed": false
   },
   "outputs": [
    {
     "data": {
      "text/plain": [
       "<matplotlib.legend.Legend at 0x7f0bb94dbcd0>"
      ]
     },
     "execution_count": 51,
     "metadata": {},
     "output_type": "execute_result"
    },
    {
     "data": {
      "image/png": "[encoded data removed]",
      "text/plain": [
       "<matplotlib.figure.Figure at 0x7f0bb9277dd0>"
      ]
     },
     "metadata": {},
     "output_type": "display_data"
    }
   ],
   "source": [
    "plt.plot(emu.scale_bin_centers, np.sqrt(np.diag(meas_cov)), label = 'Meas')\n",
    "plt.plot(emu.scale_bin_centers, np.sqrt(np.diag(cov)), label = 'Emu')\n",
    "plt.loglog();\n",
    "plt.legend(loc='best')"
   ]
  },
  {
   "cell_type": "code",
   "execution_count": 52,
   "metadata": {
    "collapsed": false
   },
   "outputs": [],
   "source": [
    "full_cov = meas_cov + cov\n",
    "#cov = np.mean(shot_cov, axis=0)"
   ]
  },
  {
   "cell_type": "code",
   "execution_count": 53,
   "metadata": {
    "collapsed": false
   },
   "outputs": [
    {
     "data": {
      "text/plain": [
       "{'alpha': 1.0,\n",
       " 'conc_gal_bias': 1.0,\n",
       " 'logM0': 13.0,\n",
       " 'logM1': 14.0,\n",
       " 'mean_occupation_centrals_assembias_param1': 0.0,\n",
       " 'mean_occupation_satellites_assembias_param1': 0.0,\n",
       " 'sigma_logM': 0.2}"
      ]
     },
     "execution_count": 53,
     "metadata": {},
     "output_type": "execute_result"
    }
   ],
   "source": [
    "fiducial_hod"
   ]
  },
  {
   "cell_type": "code",
   "execution_count": 54,
   "metadata": {
    "collapsed": false
   },
   "outputs": [
    {
     "data": {
      "image/png": "[encoded data removed]",
      "text/plain": [
       "<matplotlib.figure.Figure at 0x7f0bb90a1f50>"
      ]
     },
     "metadata": {},
     "output_type": "display_data"
    }
   ],
   "source": [
    "plt.errorbar(emu.scale_bin_centers, np.ones_like(vals.mean(axis=0)),\\\n",
    "             yerr = np.sqrt(np.diag(full_cov))/vals.mean(axis=0) )\n",
    "if 'logMmin' in fiducial_hod:\n",
    "    del fiducial_hod['logMmin']\n",
    "plt.plot(emu.scale_bin_centers, 10**emu.emulate_wrt_r(fiducial_hod).squeeze()/vals.mean(axis=0))\n",
    "plt.xscale('log');"
   ]
  },
  {
   "cell_type": "code",
   "execution_count": 55,
   "metadata": {
    "collapsed": false
   },
   "outputs": [],
   "source": [
    "ratio_mat = np.outer(vals.mean(axis=0), vals.mean(axis=0))/np.outer(10**data_y.mean(axis=1), 10**data_y.mean(axis=1))"
   ]
  },
  {
   "cell_type": "code",
   "execution_count": 56,
   "metadata": {
    "collapsed": false
   },
   "outputs": [
    {
     "data": {
      "text/plain": [
       "<matplotlib.image.AxesImage at 0x7f0bb8dbe590>"
      ]
     },
     "execution_count": 56,
     "metadata": {},
     "output_type": "execute_result"
    },
    {
     "data": {
      "image/png": "[encoded data removed]",
      "text/plain": [
       "<matplotlib.figure.Figure at 0x7f0bb9429e50>"
      ]
     },
     "metadata": {},
     "output_type": "display_data"
    }
   ],
   "source": [
    "plt.imshow(np.log10(ratio_mat))"
   ]
  },
  {
   "cell_type": "code",
   "execution_count": 57,
   "metadata": {
    "collapsed": true
   },
   "outputs": [],
   "source": [
    "np.save('/u/ki/swmclau2/Git/pearce/bin/optimization/%s_box0_emu_cov_lpw.npy'%obs, cov)#*ratio_mat)\n",
    "np.save('/u/ki/swmclau2/Git/pearce/bin/covmat/%s_box0_full_covmat.npy'%obs, meas_cov)\n",
    "np.save('/u/ki/swmclau2/Git/pearce/bin/mock_measurements/%s_box0.npy'%obs, vals[0])"
   ]
  },
  {
   "cell_type": "code",
   "execution_count": 58,
   "metadata": {
    "collapsed": false
   },
   "outputs": [
    {
     "data": {
      "image/png": "[encoded data removed]",
      "text/plain": [
       "<matplotlib.figure.Figure at 0x7f0bb8dd6a50>"
      ]
     },
     "metadata": {},
     "output_type": "display_data"
    }
   ],
   "source": [
    "plt.plot(emu.scale_bin_centers, 10**data_y.mean(axis=1))\n",
    "plt.plot(emu.scale_bin_centers, vals.mean(axis=0))\n",
    "plt.loglog();"
   ]
  },
  {
   "cell_type": "code",
   "execution_count": 59,
   "metadata": {
    "collapsed": false
   },
   "outputs": [
    {
     "data": {
      "image/png": "[encoded data removed]",
      "text/plain": [
       "<matplotlib.figure.Figure at 0x7f0bb8d03810>"
      ]
     },
     "metadata": {},
     "output_type": "display_data"
    }
   ],
   "source": [
    "plt.plot(emu.scale_bin_centers, 10**data_y.mean(axis=1)/vals.mean(axis=0))\n",
    "plt.xscale('log');"
   ]
  },
  {
   "cell_type": "code",
   "execution_count": null,
   "metadata": {
    "collapsed": true
   },
   "outputs": [],
   "source": []
  },
  {
   "cell_type": "code",
   "execution_count": null,
   "metadata": {
    "collapsed": true
   },
   "outputs": [],
   "source": []
  }
 ],
 "metadata": {
  "kernelspec": {
   "display_name": "Python [default]",
   "language": "python",
   "name": "python2"
  },
  "language_info": {
   "codemirror_mode": {
    "name": "ipython",
    "version": 2
   },
   "file_extension": ".py",
   "mimetype": "text/x-python",
   "name": "python",
   "nbconvert_exporter": "python",
   "pygments_lexer": "ipython2",
   "version": "2.7.13"
  }
 },
 "nbformat": 4,
 "nbformat_minor": 2
}

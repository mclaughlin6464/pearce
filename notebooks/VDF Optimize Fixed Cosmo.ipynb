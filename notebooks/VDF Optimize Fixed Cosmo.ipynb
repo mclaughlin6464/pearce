{
 "cells": [
  {
   "cell_type": "markdown",
   "metadata": {},
   "source": [
    "I realized I can't use the test boxes to do fixed cosmology optimization. They'll also be small enough to do in a notebook. So I'll do them here. "
   ]
  },
  {
   "cell_type": "code",
   "execution_count": 1,
   "metadata": {
    "collapsed": true
   },
   "outputs": [],
   "source": [
    "%matplotlib inline\n",
    "from matplotlib import pyplot as plt\n",
    "import seaborn as sns\n",
    "sns.set()"
   ]
  },
  {
   "cell_type": "code",
   "execution_count": 2,
   "metadata": {
    "collapsed": false
   },
   "outputs": [
    {
     "name": "stderr",
     "output_type": "stream",
     "text": [
      " /u/ki/swmclau2/.conda/envs/hodemulator/lib/python2.7/site-packages/sklearn/ensemble/weight_boosting.py:29: DeprecationWarning:numpy.core.umath_tests is an internal NumPy module and should not be imported. It will be removed in a future NumPy release.\n"
     ]
    }
   ],
   "source": [
    "from pearce.emulator import LemonPepperWet, NashvilleHot\n",
    "from itertools import product\n",
    "from GPy.kern import *\n",
    "import numpy as np\n",
    "from os import path\n",
    "from sys import argv\n",
    "import h5py\n",
    "from time import time"
   ]
  },
  {
   "cell_type": "code",
   "execution_count": 3,
   "metadata": {
    "collapsed": true
   },
   "outputs": [],
   "source": [
    "#training_file ='/u/ki/swmclau2/des/Aemulators/xi_hsab_box0/PearceHSABXiBox0.hdf5'\n",
    "training_file ='/u/ki/swmclau2/des/Aemulators/vdf_hsab_box0/PearceHSABVDFBox0.hdf5'"
   ]
  },
  {
   "cell_type": "code",
   "execution_count": 4,
   "metadata": {
    "collapsed": true
   },
   "outputs": [],
   "source": [
    "#test_file = '/u/ki/swmclau2/des/xi_hsab_box0_test/PearceHSABXi.hdf5'\n",
    "test_file = '/u/ki/swmclau2/des/vdf_hsab_box0_test/PearceHSABVDF.hdf5'"
   ]
  },
  {
   "cell_type": "code",
   "execution_count": 5,
   "metadata": {
    "collapsed": true
   },
   "outputs": [],
   "source": [
    "with h5py.File(training_file, 'r') as f:\n",
    "    HOD_params = len(f.attrs['hod_param_names'])"
   ]
  },
  {
   "cell_type": "code",
   "execution_count": 6,
   "metadata": {
    "collapsed": true
   },
   "outputs": [],
   "source": [
    "fixed_params = {'z':0.0, 'cosmo':0}"
   ]
  },
  {
   "cell_type": "code",
   "execution_count": 7,
   "metadata": {
    "collapsed": true
   },
   "outputs": [],
   "source": [
    "HOD_kernels = [Matern32(input_dim=HOD_params, ARD=True)+\\\n",
    "               RBF(input_dim=HOD_params, ARD=True)]# + Bias(input_dim=HOD_params)]\n",
    "               #RBF(input_dim=HOD_params, ARD=True) + Linear(input_dim=HOD_params, ARD=True) + Bias(input_dim=HOD_params), \n",
    "               #Matern32(input_dim=HOD_params, ARD=True)+RBF(input_dim=HOD_params, ARD=True) + Bias(input_dim=HOD_params)]#, RBF(input_dim=HOD_params, ARD=True) + Matern32(input_dim=HOD_params, ARD=True)]\n",
    "\n",
    "\n",
    "radial_kernels = [RBF(input_dim=1, ARD=True)]# + Bias(input_dim=1)]\n",
    "                  #Linear(input_dim=1, ARD=True) + RBF(input_dim=1, ARD=True) +Bias(input_dim=1)]\n",
    "                  #Matern32(input_dim=7, ARD=True)+RBF(input_dim=7, ARD=True) + Bias(input_dim=7)]\n"
   ]
  },
  {
   "cell_type": "code",
   "execution_count": 8,
   "metadata": {
    "collapsed": true
   },
   "outputs": [],
   "source": [
    "def cov_to_corr(cov):\n",
    "    std = np.sqrt(np.diag(cov))\n",
    "    denom = np.outer(std, std)\n",
    "    return cov/denom"
   ]
  },
  {
   "cell_type": "code",
   "execution_count": 9,
   "metadata": {
    "collapsed": true
   },
   "outputs": [],
   "source": [
    "best_acc = np.inf\n",
    "#best_idxs = None"
   ]
  },
  {
   "cell_type": "code",
   "execution_count": 10,
   "metadata": {
    "collapsed": true
   },
   "outputs": [],
   "source": [
    "#for j, hk in enumerate(HOD_kernels):\n",
    "#    for k, rk in enumerate(radial_kernels):\n",
    "hyperparams = {'kernel': [ HOD_kernels[0], radial_kernels[0]] , \\\n",
    "               'optimize':  True}"
   ]
  },
  {
   "cell_type": "code",
   "execution_count": 11,
   "metadata": {
    "collapsed": false
   },
   "outputs": [
    {
     "name": "stdout",
     "output_type": "stream",
     "text": [
      "Optimization restart 1/5, f = 4443.76086024\n",
      "Optimization restart 2/5, f = 4606.3393502\n",
      "Optimization restart 3/5, f = -19608.1570272\n",
      "Optimization restart 4/5, f = -19246.5182973\n",
      "Optimization restart 5/5, f = -19596.1505417\n"
     ]
    },
    {
     "name": "stderr",
     "output_type": "stream",
     "text": [
      " /u/ki/swmclau2/.local/lib/python2.7/site-packages/GPy-1.9.9-py2.7-linux-x86_64.egg/GPy/kern/src/stationary.py:166: RuntimeWarning:overflow encountered in divide\n",
      " /u/ki/swmclau2/.local/lib/python2.7/site-packages/GPy-1.9.9-py2.7-linux-x86_64.egg/GPy/kern/src/stationary.py:137: RuntimeWarning:overflow encountered in square\n"
     ]
    }
   ],
   "source": [
    "np.random.seed(0)\n",
    "emu = LemonPepperWet(training_file, hyperparams=hyperparams,\\\n",
    "                     fixed_params = fixed_params,\\\n",
    "                     downsample_factor = 1.0 )"
   ]
  },
  {
   "cell_type": "code",
   "execution_count": 12,
   "metadata": {
    "collapsed": false
   },
   "outputs": [
    {
     "name": "stderr",
     "output_type": "stream",
     "text": [
      " /u/ki/swmclau2/.local/lib/python2.7/site-packages/pearce/emulator/emu.py:2986: H5pyDeprecationWarning:The default file mode will change to 'r' (read-only) in h5py 3.0. To suppress this warning, pass the mode you need to h5py.File(), or set the global default h5.get_config().default_file_mode, or set the environment variable H5PY_DEFAULT_READONLY=1. Available modes are: 'r', 'r+', 'w', 'w-'/'x', 'a'. See the docs for details.\n"
     ]
    }
   ],
   "source": [
    "emu.save_as_default_kernel()"
   ]
  },
  {
   "cell_type": "code",
   "execution_count": 13,
   "metadata": {
    "collapsed": false
   },
   "outputs": [
    {
     "name": "stdout",
     "output_type": "stream",
     "text": [
      "Total Acc 0.012595014490315576\n",
      "Acc [0.01364907 0.01526986 0.01699071 0.01852764 0.01964664 0.02032445\n",
      " 0.02062181 0.02061583 0.0204484  0.02022161 0.01889787 0.01540298\n",
      " 0.00973013 0.00434811 0.00282264 0.00287156 0.00287926 0.00287963\n",
      " 0.0028746  0.00287748]\n",
      "Bias -0.0009817926780271743\n"
     ]
    }
   ],
   "source": [
    "pred_y, data_y = emu.goodness_of_fit(test_file, statistic = None)#, downsample_factor = 0.5)\n",
    "\n",
    "#print pred_y.shape\n",
    "\n",
    "N_points = emu.x2.shape[0]\n",
    "downsample_N_points = int(emu._downsample_factor * N_points)\n",
    "\n",
    "#pred_y = pred_y[:,downsample_N_points:]\n",
    "#data_y = data_y[:,downsample_N_points:]\n",
    "\n",
    "R = (10**pred_y - 10**data_y)\n",
    "acc =(np.abs(R)/(10**data_y)).mean()\n",
    "rel_R = (R/(10**data_y))#.mean(axis=1)\n",
    "\n",
    "print 'Total Acc', acc \n",
    "print 'Acc', (np.abs(R)/(10**data_y)).mean(axis=1)\n",
    "print 'Bias', rel_R.mean()#axis=1)\n",
    "\n",
    "#if acc < best_acc:\n",
    "best_acc = acc\n",
    "#best_idxs = (j,k)\n",
    "\n",
    "#emu.save_as_default_kernel()\n",
    "\n",
    "#pred_y_rs= pred_y.reshape((len(emu.scale_bin_centers), -1), order = 'F')\n",
    "#data_y_rs= data_y.reshape((len(emu.scale_bin_centers), -1), order = 'F').mean(axis = 1)\n",
    "#print pred_y_rs.shape\n",
    "cov = R.dot(R.T)/(R.shape[1]-1)\n",
    "rel_cov = rel_R.dot(rel_R.T)/(rel_R.shape[1]-1)"
   ]
  },
  {
   "cell_type": "code",
   "execution_count": 14,
   "metadata": {
    "collapsed": false
   },
   "outputs": [
    {
     "data": {
      "text/plain": [
       "<matplotlib.image.AxesImage at 0x7f2e52d5cd10>"
      ]
     },
     "execution_count": 14,
     "metadata": {},
     "output_type": "execute_result"
    },
    {
     "data": {
      "image/png": "[encoded data removed]",
      "text/plain": [
       "<matplotlib.figure.Figure at 0x7f2e56e3d850>"
      ]
     },
     "metadata": {},
     "output_type": "display_data"
    }
   ],
   "source": [
    "plt.imshow(cov_to_corr(cov))"
   ]
  },
  {
   "cell_type": "code",
   "execution_count": 15,
   "metadata": {
    "collapsed": true
   },
   "outputs": [],
   "source": [
    "#np.save('/u/ki/swmclau2/Git/pearce/bin/optimization/xi_box0_emu_cov_lpw.npy', cov)\n",
    "np.save('/u/ki/swmclau2/Git/pearce/bin/optimization/vdf_box0_emu_cov_lpw.npy', cov)"
   ]
  },
  {
   "cell_type": "code",
   "execution_count": 16,
   "metadata": {
    "collapsed": false
   },
   "outputs": [
    {
     "data": {
      "image/png": "[encoded data removed]",
      "text/plain": [
       "<matplotlib.figure.Figure at 0x7f2e56e3d750>"
      ]
     },
     "metadata": {},
     "output_type": "display_data"
    }
   ],
   "source": [
    "plt.plot(emu.scale_bin_centers, np.sqrt(np.diag(cov)))\n",
    "#plt.xscale('log')\n",
    "plt.loglog();"
   ]
  },
  {
   "cell_type": "code",
   "execution_count": 17,
   "metadata": {
    "collapsed": true
   },
   "outputs": [],
   "source": [
    "with h5py.File(training_file, 'r') as f:\n",
    "    #f.attrs['rel_emu_cov'] = rel_cov\n",
    "    shot_cov = f['cosmo_no_00']['a_1.000']['cov'][()]\n",
    "    obs = f['cosmo_no_00']['a_1.000']['obs'][()]"
   ]
  },
  {
   "cell_type": "code",
   "execution_count": 18,
   "metadata": {
    "collapsed": false
   },
   "outputs": [
    {
     "data": {
      "text/plain": [
       "<matplotlib.image.AxesImage at 0x7f2e52916f10>"
      ]
     },
     "execution_count": 18,
     "metadata": {},
     "output_type": "execute_result"
    },
    {
     "data": {
      "image/png": "[encoded data removed]",
      "text/plain": [
       "<matplotlib.figure.Figure at 0x7f2e52cc6190>"
      ]
     },
     "metadata": {},
     "output_type": "display_data"
    }
   ],
   "source": [
    "plt.imshow(cov_to_corr(np.mean(shot_cov, axis=0)))"
   ]
  },
  {
   "cell_type": "raw",
   "metadata": {},
   "source": [
    "with h5py.File(training_file) as f:\n",
    "    f.attrs['rel_cov'] = rc"
   ]
  },
  {
   "cell_type": "code",
   "execution_count": 19,
   "metadata": {
    "collapsed": true
   },
   "outputs": [],
   "source": [
    "fiducial_hod = {'sigma_logM':0.2, 'logM0': 13.0, 'logM1': 14.0,\n",
    "                'alpha':1.0,'conc_gal_bias': 1.0,\\\n",
    "                'mean_occupation_centrals_assembias_param1': 0.0,\n",
    "               'mean_occupation_satellites_assembias_param1': 0.0}"
   ]
  },
  {
   "cell_type": "code",
   "execution_count": 20,
   "metadata": {
    "collapsed": true
   },
   "outputs": [],
   "source": [
    "from pearce.mocks.kittens import TrainingBox"
   ]
  },
  {
   "cell_type": "code",
   "execution_count": 21,
   "metadata": {
    "collapsed": false
   },
   "outputs": [],
   "source": [
    "cat = TrainingBox(0, system='ki-ls')"
   ]
  },
  {
   "cell_type": "code",
   "execution_count": 22,
   "metadata": {
    "collapsed": true
   },
   "outputs": [],
   "source": [
    "cat.load(1.0, HOD='hsabZheng07')"
   ]
  },
  {
   "cell_type": "code",
   "execution_count": 23,
   "metadata": {
    "collapsed": true
   },
   "outputs": [],
   "source": [
    "from scipy.optimize import minimize_scalar\n",
    "def add_logMmin(hod_params, cat):\n",
    "\n",
    "    hod_params['logMmin'] = 13.0 #initial guess\n",
    "    #cat.populate(hod_params) #may be overkill, but will ensure params are written everywhere\n",
    "    def func(logMmin, hod_params):\n",
    "        hod_params.update({'logMmin':logMmin})\n",
    "        return (cat.calc_analytic_nd(hod_params, min_ptcl=100) - 5e-4)**2\n",
    "\n",
    "    res = minimize_scalar(func, bounds = (12,15), args = (hod_params,), options = {'maxiter':100}, method = 'Bounded')\n",
    "\n",
    "    # assuming this doens't fail\n",
    "    print 'logMmin', res.x\n",
    "    hod_params['logMmin'] = res.x\n"
   ]
  },
  {
   "cell_type": "code",
   "execution_count": 24,
   "metadata": {
    "collapsed": false
   },
   "outputs": [
    {
     "name": "stdout",
     "output_type": "stream",
     "text": [
      "logMmin 13.205627959576999\n"
     ]
    }
   ],
   "source": [
    "add_logMmin(fiducial_hod, cat)"
   ]
  },
  {
   "cell_type": "code",
   "execution_count": 25,
   "metadata": {
    "collapsed": true
   },
   "outputs": [],
   "source": [
    "r_bins = np.logspace(-0.3, 2.0, 21)"
   ]
  },
  {
   "cell_type": "code",
   "execution_count": 26,
   "metadata": {
    "collapsed": false
   },
   "outputs": [
    {
     "name": "stdout",
     "output_type": "stream",
     "text": [
      "0\n",
      "1\n",
      "2\n",
      "3\n",
      "4\n",
      "5\n",
      "6\n",
      "7\n",
      "8\n",
      "9\n"
     ]
    }
   ],
   "source": [
    "N = 10\n",
    "vals = np.zeros((N, len(r_bins)-1))\n",
    "\n",
    "for i in xrange(N):\n",
    "    print i\n",
    "    cat.populate(fiducial_hod)\n",
    "\n",
    "    #vals[i] =  cat.calc_xi(r_bins)\n",
    "    vals[i] = cat.calc_vdf(r_bins, n_ran=1e6)"
   ]
  },
  {
   "cell_type": "code",
   "execution_count": 39,
   "metadata": {
    "collapsed": true
   },
   "outputs": [],
   "source": [
    "meas_cov = np.cov(vals, rowvar=False)"
   ]
  },
  {
   "cell_type": "code",
   "execution_count": 40,
   "metadata": {
    "collapsed": true
   },
   "outputs": [],
   "source": [
    "meas_cov[meas_cov==0] = 1e-4"
   ]
  },
  {
   "cell_type": "code",
   "execution_count": 41,
   "metadata": {
    "collapsed": false
   },
   "outputs": [
    {
     "data": {
      "text/plain": [
       "<matplotlib.image.AxesImage at 0x7f2e2b1459d0>"
      ]
     },
     "execution_count": 41,
     "metadata": {},
     "output_type": "execute_result"
    },
    {
     "data": {
      "image/png": "[encoded data removed]",
      "text/plain": [
       "<matplotlib.figure.Figure at 0x7f2e52996e50>"
      ]
     },
     "metadata": {},
     "output_type": "display_data"
    }
   ],
   "source": [
    "plt.imshow(cov_to_corr(meas_cov))"
   ]
  },
  {
   "cell_type": "code",
   "execution_count": 42,
   "metadata": {
    "collapsed": false
   },
   "outputs": [
    {
     "data": {
      "text/plain": [
       "<matplotlib.legend.Legend at 0x7f2e526e8fd0>"
      ]
     },
     "execution_count": 42,
     "metadata": {},
     "output_type": "execute_result"
    },
    {
     "data": {
      "image/png": "[encoded data removed]",
      "text/plain": [
       "<matplotlib.figure.Figure at 0x7f2e2b084810>"
      ]
     },
     "metadata": {},
     "output_type": "display_data"
    }
   ],
   "source": [
    "plt.plot(emu.scale_bin_centers, np.sqrt(np.diag(meas_cov)), label = 'Meas')\n",
    "plt.plot(emu.scale_bin_centers, np.sqrt(np.diag(cov)), label = 'Emu')\n",
    "plt.loglog();\n",
    "plt.legend(loc='best')"
   ]
  },
  {
   "cell_type": "code",
   "execution_count": 43,
   "metadata": {
    "collapsed": false
   },
   "outputs": [],
   "source": [
    "full_cov = meas_cov + cov\n",
    "#cov = np.mean(shot_cov, axis=0)"
   ]
  },
  {
   "cell_type": "code",
   "execution_count": 44,
   "metadata": {
    "collapsed": false
   },
   "outputs": [
    {
     "data": {
      "image/png": "[encoded data removed]",
      "text/plain": [
       "<matplotlib.figure.Figure at 0x7f2e52c2c190>"
      ]
     },
     "metadata": {},
     "output_type": "display_data"
    }
   ],
   "source": [
    "plt.errorbar(emu.scale_bin_centers, np.ones_like(vals.mean(axis=0)),\\\n",
    "             yerr = np.sqrt(np.diag(full_cov))/vals.mean(axis=0) )\n",
    "if 'logMmin' in fiducial_hod:\n",
    "    del fiducial_hod['logMmin']\n",
    "plt.plot(emu.scale_bin_centers, 10**emu.emulate_wrt_r(fiducial_hod).squeeze()/vals.mean(axis=0))\n",
    "plt.xscale('log');"
   ]
  },
  {
   "cell_type": "code",
   "execution_count": 45,
   "metadata": {
    "collapsed": true
   },
   "outputs": [],
   "source": [
    "#np.save('/u/ki/swmclau2/Git/pearce/bin/covmat/xi_box0_full_covmat.npy', full_cov)\n",
    "np.save('/u/ki/swmclau2/Git/pearce/bin/covmat/vdf_box0_full_covmat.npy', full_cov)"
   ]
  },
  {
   "cell_type": "code",
   "execution_count": null,
   "metadata": {
    "collapsed": true
   },
   "outputs": [],
   "source": []
  }
 ],
 "metadata": {
  "kernelspec": {
   "display_name": "Python [default]",
   "language": "python",
   "name": "python2"
  },
  "language_info": {
   "codemirror_mode": {
    "name": "ipython",
    "version": 2
   },
   "file_extension": ".py",
   "mimetype": "text/x-python",
   "name": "python",
   "nbconvert_exporter": "python",
   "pygments_lexer": "ipython2",
   "version": "2.7.13"
  }
 },
 "nbformat": 4,
 "nbformat_minor": 2
}

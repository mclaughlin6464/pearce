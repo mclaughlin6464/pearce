{
 "cells": [
  {
   "cell_type": "markdown",
   "metadata": {},
   "source": [
    "I realized I can't use the test boxes to do fixed cosmology optimization. They'll also be small enough to do in a notebook. So I'll do them here. "
   ]
  },
  {
   "cell_type": "code",
   "execution_count": 65,
   "metadata": {
    "collapsed": true
   },
   "outputs": [],
   "source": [
    "%matplotlib inline\n",
    "from matplotlib import pyplot as plt\n",
    "import seaborn as sns\n",
    "sns.set()"
   ]
  },
  {
   "cell_type": "code",
   "execution_count": 66,
   "metadata": {},
   "outputs": [],
   "source": [
    "from pearce.emulator import LemonPepperWet, NashvilleHot\n",
    "from itertools import product\n",
    "from GPy.kern import *\n",
    "import numpy as np\n",
    "from os import path\n",
    "from sys import argv\n",
    "import h5py\n",
    "from time import time"
   ]
  },
  {
   "cell_type": "code",
   "execution_count": 67,
   "metadata": {
    "collapsed": true
   },
   "outputs": [],
   "source": [
    "#training_file ='/home/users/swmclau2/scratch/Aemulators/xi_zheng07_box0/PearceXiCosmo.hdf5'\n",
    "training_file ='/home/users/swmclau2/scratch/Aemulators/vdf_zheng07_box0/PearceVDFCosmo_peaked.hdf5'"
   ]
  },
  {
   "cell_type": "code",
   "execution_count": 68,
   "metadata": {
    "collapsed": true
   },
   "outputs": [],
   "source": [
    "with h5py.File(training_file, 'r') as f:\n",
    "    HOD_params = len(f.attrs['hod_param_names'])"
   ]
  },
  {
   "cell_type": "code",
   "execution_count": 69,
   "metadata": {
    "collapsed": true
   },
   "outputs": [],
   "source": [
    "fixed_params = {'z':0.0, 'cosmo':0}"
   ]
  },
  {
   "cell_type": "code",
   "execution_count": 70,
   "metadata": {
    "collapsed": true
   },
   "outputs": [],
   "source": [
    "HOD_kernels = [Matern32(input_dim=HOD_params, ARD=True)+\\\n",
    "               RBF(input_dim=HOD_params, ARD=True)]# + Bias(input_dim=HOD_params)]\n",
    "               #RBF(input_dim=HOD_params, ARD=True) + Linear(input_dim=HOD_params, ARD=True) + Bias(input_dim=HOD_params), \n",
    "               #Matern32(input_dim=HOD_params, ARD=True)+RBF(input_dim=HOD_params, ARD=True) + Bias(input_dim=HOD_params)]#, RBF(input_dim=HOD_params, ARD=True) + Matern32(input_dim=HOD_params, ARD=True)]\n",
    "\n",
    "\n",
    "radial_kernels = [RBF(input_dim=1, ARD=True)]# + Bias(input_dim=1)]\n",
    "                  #Linear(input_dim=1, ARD=True) + RBF(input_dim=1, ARD=True) +Bias(input_dim=1)]\n",
    "                  #Matern32(input_dim=7, ARD=True)+RBF(input_dim=7, ARD=True) + Bias(input_dim=7)]\n"
   ]
  },
  {
   "cell_type": "code",
   "execution_count": 71,
   "metadata": {
    "collapsed": true
   },
   "outputs": [],
   "source": [
    "def cov_to_corr(cov):\n",
    "    std = np.sqrt(np.diag(cov))\n",
    "    denom = np.outer(std, std)\n",
    "    return cov/denom"
   ]
  },
  {
   "cell_type": "code",
   "execution_count": 72,
   "metadata": {
    "collapsed": true
   },
   "outputs": [],
   "source": [
    "best_acc = np.inf\n",
    "#best_idxs = None"
   ]
  },
  {
   "cell_type": "code",
   "execution_count": 73,
   "metadata": {
    "collapsed": true
   },
   "outputs": [],
   "source": [
    "#for j, hk in enumerate(HOD_kernels):\n",
    "#    for k, rk in enumerate(radial_kernels):\n",
    "hyperparams = {'kernel': [ HOD_kernels[0], radial_kernels[0]] , \\\n",
    "               'optimize':  True}"
   ]
  },
  {
   "cell_type": "code",
   "execution_count": 74,
   "metadata": {},
   "outputs": [
    {
     "name": "stderr",
     "output_type": "stream",
     "text": [
      " /home/users/swmclau2/.local/lib/python2.7/site-packages/pearce/emulator/emu.py:2832: UserWarning:WARNING: NaN detected. Skipped 0 points in training data.\n"
     ]
    },
    {
     "name": "stdout",
     "output_type": "stream",
     "text": [
      "Optimization restart 1/5, f = -1467.66166816\n",
      "Optimization restart 2/5, f = -706.380087464\n",
      "Optimization restart 3/5, f = -1349.8523435\n",
      "Optimization restart 4/5, f = 6024.81189644\n",
      "Optimization restart 5/5, f = -1326.33158286\n"
     ]
    }
   ],
   "source": [
    "np.random.seed(0)\n",
    "emu = LemonPepperWet(training_file, hyperparams=hyperparams,\\\n",
    "                     fixed_params = fixed_params,\\\n",
    "                     downsample_factor = 1.0 )"
   ]
  },
  {
   "cell_type": "raw",
   "metadata": {},
   "source": [
    "emu.save_as_default_kernel()"
   ]
  },
  {
   "cell_type": "raw",
   "metadata": {},
   "source": [
    "pred_y, data_y = emu.goodness_of_fit(training_file, statistic = None)#, downsample_factor = 0.5)\n",
    "\n",
    "#print pred_y.shape\n",
    "\n",
    "N_points = emu.x2.shape[0]\n",
    "downsample_N_points = int(emu._downsample_factor * N_points)\n",
    "\n",
    "pred_y = pred_y[:,downsample_N_points:]\n",
    "data_y = data_y[:,downsample_N_points:]\n",
    "\n",
    "R = (10**pred_y - 10**data_y)\n",
    "acc =(np.abs(R)/(10**data_y)).mean()\n",
    "rel_R = (R/(10**data_y))#.mean(axis=1)\n",
    "\n",
    "print 'Total Acc', acc \n",
    "print 'Acc', (np.abs(R)/(10**data_y)).mean(axis=1)\n",
    "print 'Bias', rel_R.mean()#axis=1)\n",
    "\n",
    "#if acc < best_acc:\n",
    "best_acc = acc\n",
    "#best_idxs = (j,k)\n",
    "\n",
    "#emu.save_as_default_kernel()\n",
    "\n",
    "#pred_y_rs= pred_y.reshape((len(emu.scale_bin_centers), -1), order = 'F')\n",
    "#data_y_rs= data_y.reshape((len(emu.scale_bin_centers), -1), order = 'F').mean(axis = 1)\n",
    "#print pred_y_rs.shape\n",
    "#cov = R.dot(R.T)/(R.shape[1]-1)\n",
    "rel_cov = rel_R.dot(rel_R.T)/(rel_R.shape[1]-1)"
   ]
  },
  {
   "cell_type": "raw",
   "metadata": {},
   "source": [
    "plt.plot(emu.scale_bin_centers, np.sqrt(np.diag(rel_cov)))\n",
    "plt.xscale('log')"
   ]
  },
  {
   "cell_type": "code",
   "execution_count": 75,
   "metadata": {},
   "outputs": [],
   "source": [
    "with h5py.File(training_file, 'r') as f:\n",
    "    #f.attrs['rel_emu_cov'] = rel_cov\n",
    "    shot_cov = f['cosmo_no_00']['a_1.000']['cov'][()]\n",
    "    obs = f['cosmo_no_00']['a_1.000']['obs'][()]"
   ]
  },
  {
   "cell_type": "code",
   "execution_count": 76,
   "metadata": {},
   "outputs": [
    {
     "data": {
      "text/plain": [
       "(200, 20)"
      ]
     },
     "execution_count": 76,
     "metadata": {},
     "output_type": "execute_result"
    }
   ],
   "source": [
    "obs.shape"
   ]
  },
  {
   "cell_type": "code",
   "execution_count": 77,
   "metadata": {},
   "outputs": [],
   "source": [
    "rel_covs = np.array([shot_cov[i]/np.outer(obs[i], obs[i]) for i in xrange(obs.shape[0])])"
   ]
  },
  {
   "cell_type": "code",
   "execution_count": 78,
   "metadata": {},
   "outputs": [],
   "source": [
    "rc = rel_covs.mean(axis=0)"
   ]
  },
  {
   "cell_type": "code",
   "execution_count": 79,
   "metadata": {
    "collapsed": true
   },
   "outputs": [],
   "source": [
    "corr_mat = cov_to_corr(rc)"
   ]
  },
  {
   "cell_type": "code",
   "execution_count": 80,
   "metadata": {},
   "outputs": [
    {
     "data": {
      "text/plain": [
       "<matplotlib.image.AxesImage at 0x7f8e5e9fb290>"
      ]
     },
     "execution_count": 80,
     "metadata": {},
     "output_type": "execute_result"
    },
    {
     "data": {
      "image/png": "[encoded data removed]",
      "text/plain": [
       "<matplotlib.figure.Figure at 0x7f8e5e844490>"
      ]
     },
     "metadata": {},
     "output_type": "display_data"
    }
   ],
   "source": [
    "plt.imshow(corr_mat)"
   ]
  },
  {
   "cell_type": "code",
   "execution_count": 85,
   "metadata": {},
   "outputs": [
    {
     "data": {
      "text/plain": [
       "array([ 0.57715889,  0.7521343 ,  0.98015643,  1.27730729,  1.66454443,\n",
       "        2.16917901,  2.82680202,  3.68379447,  4.80059857,  6.25598058,\n",
       "        8.15258606, 10.62417931, 13.84507753, 18.04244507, 23.51231502,\n",
       "       30.64046783, 39.92963975, 52.03497999, 67.81025724, 88.36807447])"
      ]
     },
     "execution_count": 85,
     "metadata": {},
     "output_type": "execute_result"
    }
   ],
   "source": [
    "emu.scale_bin_centers"
   ]
  },
  {
   "cell_type": "code",
   "execution_count": 81,
   "metadata": {},
   "outputs": [],
   "source": [
    "with h5py.File(training_file) as f:\n",
    "    f.attrs['rel_cov'] = rc"
   ]
  },
  {
   "cell_type": "code",
   "execution_count": 82,
   "metadata": {
    "collapsed": true
   },
   "outputs": [],
   "source": [
    "fiducial_hod = {'sigma_logM':0.2, 'logM0': 13.0, 'logM1': 14.0,\n",
    "                'alpha':1.0,'conc_gal_bias': 1.0,\\\n",
    "                'mean_occupation_centrals_assembias_param1': 0.0,\n",
    "               'mean_occupation_satellites_assembias_param1': 0.0}"
   ]
  },
  {
   "cell_type": "code",
   "execution_count": 83,
   "metadata": {
    "collapsed": true
   },
   "outputs": [],
   "source": [
    "xi = emu.emulate_wrt_r(fiducial_hod).squeeze()"
   ]
  },
  {
   "cell_type": "raw",
   "metadata": {},
   "source": [
    "yerr = np.sqrt(np.diag(rel_cov))*10**xi\n",
    "plt.errorbar(emu.scale_bin_centers, 10**xi, yerr=  yerr)\n",
    "\n",
    "#plt.xscale('log');\n",
    "plt.loglog();"
   ]
  },
  {
   "cell_type": "code",
   "execution_count": 86,
   "metadata": {
    "collapsed": true
   },
   "outputs": [],
   "source": [
    "from pearce.mocks.kittens import TrainingBox"
   ]
  },
  {
   "cell_type": "code",
   "execution_count": 87,
   "metadata": {
    "collapsed": true
   },
   "outputs": [],
   "source": [
    "cat = TrainingBox(0, system='sherlock')"
   ]
  },
  {
   "cell_type": "code",
   "execution_count": 88,
   "metadata": {
    "collapsed": true
   },
   "outputs": [],
   "source": [
    "cat.load(1.0, HOD='hsabZheng07')"
   ]
  },
  {
   "cell_type": "code",
   "execution_count": 89,
   "metadata": {
    "collapsed": true
   },
   "outputs": [],
   "source": [
    "cat.populate(fiducial_hod)"
   ]
  },
  {
   "cell_type": "code",
   "execution_count": 90,
   "metadata": {
    "collapsed": true
   },
   "outputs": [],
   "source": [
    "r_bins = np.logspace(-0.3, 2.0, 21)"
   ]
  },
  {
   "cell_type": "code",
   "execution_count": 91,
   "metadata": {
    "collapsed": true
   },
   "outputs": [],
   "source": [
    "xi = cat.calc_xi(r_bins)"
   ]
  },
  {
   "cell_type": "code",
   "execution_count": 93,
   "metadata": {
    "collapsed": true
   },
   "outputs": [],
   "source": [
    "vdf = cat.calc_vdf(r_bins, n_ran = 100)"
   ]
  },
  {
   "cell_type": "code",
   "execution_count": 95,
   "metadata": {},
   "outputs": [
    {
     "data": {
      "image/png": "[encoded data removed]",
      "text/plain": [
       "<matplotlib.figure.Figure at 0x7f8e4fb30910>"
      ]
     },
     "metadata": {},
     "output_type": "display_data"
    }
   ],
   "source": [
    "plt.plot(emu.scale_bin_centers, vdf)\n",
    "plt.loglog();"
   ]
  },
  {
   "cell_type": "code",
   "execution_count": 96,
   "metadata": {},
   "outputs": [
    {
     "data": {
      "image/png": "[encoded data removed]",
      "text/plain": [
       "<matplotlib.figure.Figure at 0x7f8e6229ea90>"
      ]
     },
     "metadata": {},
     "output_type": "display_data"
    }
   ],
   "source": [
    "plt.plot(emu.scale_bin_centers, xi)\n",
    "plt.loglog();"
   ]
  },
  {
   "cell_type": "code",
   "execution_count": null,
   "metadata": {
    "collapsed": true
   },
   "outputs": [],
   "source": []
  }
 ],
 "metadata": {
  "kernelspec": {
   "display_name": "Python 2",
   "language": "python",
   "name": "python2"
  },
  "language_info": {
   "codemirror_mode": {
    "name": "ipython",
    "version": 2
   },
   "file_extension": ".py",
   "mimetype": "text/x-python",
   "name": "python",
   "nbconvert_exporter": "python",
   "pygments_lexer": "ipython2",
   "version": "2.7.13"
  }
 },
 "nbformat": 4,
 "nbformat_minor": 2
}

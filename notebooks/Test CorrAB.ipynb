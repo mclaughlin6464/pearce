{
 "cells": [
  {
   "cell_type": "code",
   "execution_count": 32,
   "metadata": {
    "collapsed": true
   },
   "outputs": [],
   "source": [
    "import numpy as np"
   ]
  },
  {
   "cell_type": "code",
   "execution_count": 33,
   "metadata": {
    "collapsed": true
   },
   "outputs": [],
   "source": [
    "pred_y = np.load('/u/ki/swmclau2/Git/pearce/bin/covmat/pred_y.npy')"
   ]
  },
  {
   "cell_type": "code",
   "execution_count": 34,
   "metadata": {
    "collapsed": false
   },
   "outputs": [],
   "source": [
    "data_y = np.load('/u/ki/swmclau2/Git/pearce/bin/covmat/data_y.npy')"
   ]
  },
  {
   "cell_type": "code",
   "execution_count": 35,
   "metadata": {
    "collapsed": false
   },
   "outputs": [
    {
     "data": {
      "text/plain": [
       "0"
      ]
     },
     "execution_count": 35,
     "metadata": {},
     "output_type": "execute_result"
    }
   ],
   "source": [
    "np.sum(np.all(data_y == 0.0, axis = 0))"
   ]
  },
  {
   "cell_type": "code",
   "execution_count": 36,
   "metadata": {
    "collapsed": false
   },
   "outputs": [
    {
     "data": {
      "text/plain": [
       "(18, 34803)"
      ]
     },
     "execution_count": 36,
     "metadata": {},
     "output_type": "execute_result"
    }
   ],
   "source": [
    "data_y.shape"
   ]
  },
  {
   "cell_type": "code",
   "execution_count": 37,
   "metadata": {
    "collapsed": true
   },
   "outputs": [],
   "source": [
    "from matplotlib import pyplot as plt\n",
    "%matplotlib inline"
   ]
  },
  {
   "cell_type": "code",
   "execution_count": 47,
   "metadata": {
    "collapsed": true
   },
   "outputs": [],
   "source": [
    "R = (10**pred_y- 10**data_y)/(10**data_y)\n",
    "##R = (pred_y - data_y)\n",
    "#cov = R.dot(R.T)/(R.shape[1]-1)"
   ]
  },
  {
   "cell_type": "code",
   "execution_count": 48,
   "metadata": {
    "collapsed": false
   },
   "outputs": [
    {
     "data": {
      "text/plain": [
       "(array([3.3165e+04, 1.2180e+03, 2.9000e+02, 8.4000e+01, 2.8000e+01,\n",
       "        9.0000e+00, 5.0000e+00, 3.0000e+00, 0.0000e+00, 1.0000e+00]),\n",
       " array([-0.98433856,  1.60062725,  4.18559306,  6.77055888,  9.35552469,\n",
       "        11.9404905 , 14.52545632, 17.11042213, 19.69538794, 22.28035376,\n",
       "        24.86531957]),\n",
       " <a list of 10 Patch objects>)"
      ]
     },
     "execution_count": 48,
     "metadata": {},
     "output_type": "execute_result"
    },
    {
     "data": {
      "image/png": "[encoded data removed]",
      "text/plain": [
       "<matplotlib.figure.Figure at 0x7fc4194bc610>"
      ]
     },
     "metadata": {},
     "output_type": "display_data"
    }
   ],
   "source": [
    "plt.hist(R[0]);\n",
    "#plt.xscale('log')\n",
    "#plt.yscale('log');"
   ]
  },
  {
   "cell_type": "code",
   "execution_count": 54,
   "metadata": {
    "collapsed": false
   },
   "outputs": [
    {
     "data": {
      "text/plain": [
       "array([8221.49716631, 8052.12516699, 5576.45102775, ..., 6526.49171429,\n",
       "       3330.29222323, 4929.39411412])"
      ]
     },
     "execution_count": 54,
     "metadata": {},
     "output_type": "execute_result"
    }
   ],
   "source": [
    "10**data_y[0, R[0] > 1]"
   ]
  },
  {
   "cell_type": "code",
   "execution_count": 55,
   "metadata": {
    "collapsed": false
   },
   "outputs": [
    {
     "data": {
      "text/plain": [
       "array([16913.28512377, 16913.28512377, 16913.28512377, ...,\n",
       "       19513.63976387, 12738.30977647, 12738.30977647])"
      ]
     },
     "execution_count": 55,
     "metadata": {},
     "output_type": "execute_result"
    }
   ],
   "source": [
    "10**pred_y[0, R[0]>1]"
   ]
  },
  {
   "cell_type": "code",
   "execution_count": 13,
   "metadata": {
    "collapsed": false
   },
   "outputs": [],
   "source": [
    "idx = np.all(data_y==0.0, axis = 0)#)[0]"
   ]
  },
  {
   "cell_type": "code",
   "execution_count": 14,
   "metadata": {
    "collapsed": false
   },
   "outputs": [
    {
     "data": {
      "text/plain": [
       "array([False, False, False, ...,  True, False, False])"
      ]
     },
     "execution_count": 14,
     "metadata": {},
     "output_type": "execute_result"
    }
   ],
   "source": [
    "idx"
   ]
  },
  {
   "cell_type": "code",
   "execution_count": 20,
   "metadata": {
    "collapsed": false
   },
   "outputs": [
    {
     "data": {
      "text/plain": [
       "array([[ 4.11838003,  4.10221795,  4.11693687, ...,  4.98437113,\n",
       "         4.91514731,  4.15238808],\n",
       "       [ 3.75939547,  3.76115248,  3.75398315, ...,  4.67793847,\n",
       "         4.61570999,  3.8030483 ],\n",
       "       [ 3.40152412,  3.39552926,  3.39431375, ...,  4.3643377 ,\n",
       "         4.30721256,  3.44421774],\n",
       "       ...,\n",
       "       [-0.17267683, -0.17037957, -0.17783609, ..., -0.23072924,\n",
       "        -0.11767299,  0.08055333],\n",
       "       [-0.44802075, -0.44671271, -0.45747991, ..., -0.5129851 ,\n",
       "        -0.40135364, -0.22929061],\n",
       "       [-0.75254936, -0.74923422, -0.76753095, ..., -0.83867383,\n",
       "        -0.71219954, -0.55200283]])"
      ]
     },
     "execution_count": 20,
     "metadata": {},
     "output_type": "execute_result"
    }
   ],
   "source": [
    "data_y[:, ~idx]"
   ]
  },
  {
   "cell_type": "code",
   "execution_count": 21,
   "metadata": {
    "collapsed": false
   },
   "outputs": [
    {
     "data": {
      "text/plain": [
       "array([[ 3.9150556 ,  3.9150556 ,  3.9150556 , ...,  4.26256363,\n",
       "         4.26256363,  4.26256363],\n",
       "       [ 3.64043547,  3.64043547,  3.64043547, ...,  3.98569088,\n",
       "         3.98569088,  3.98569088],\n",
       "       [ 3.3017141 ,  3.3017141 ,  3.3017141 , ...,  3.71863677,\n",
       "         3.71863677,  3.71863677],\n",
       "       ...,\n",
       "       [-0.18634271, -0.18634271, -0.18634271, ...,  0.12577705,\n",
       "         0.12577705,  0.12577705],\n",
       "       [-0.46100042, -0.46100042, -0.46100042, ..., -0.13300802,\n",
       "        -0.13300802, -0.13300802],\n",
       "       [-0.76423197, -0.76423197, -0.76423197, ..., -0.44993651,\n",
       "        -0.44993651, -0.44993651]])"
      ]
     },
     "execution_count": 21,
     "metadata": {},
     "output_type": "execute_result"
    }
   ],
   "source": [
    "pred_y[:,~idx]"
   ]
  },
  {
   "cell_type": "raw",
   "metadata": {
    "collapsed": true
   },
   "source": [
    "R = (10**pred_y[:,~idx] - 10**data_y[:,~idx])\n",
    "##R = (pred_y - data_y)\n",
    "cov = R.dot(R.T)/(R.shape[1]-1)"
   ]
  },
  {
   "cell_type": "code",
   "execution_count": 17,
   "metadata": {
    "collapsed": false
   },
   "outputs": [
    {
     "name": "stdout",
     "output_type": "stream",
     "text": [
      "[156.69064996  81.58986949  42.67205311  21.62070892  11.61350012\n",
      "   6.06503616   3.37484636   1.96848642   1.13942661   0.69239594\n",
      "   0.44652251   0.34090538   0.34407876   0.44513515   0.76723441\n",
      "   0.45432373   0.39043311   0.38987021]\n"
     ]
    }
   ],
   "source": [
    "print (np.abs(10**pred_y - 10**data_y)/(10**data_y)).mean(axis =1)"
   ]
  },
  {
   "cell_type": "code",
   "execution_count": 19,
   "metadata": {
    "collapsed": false
   },
   "outputs": [
    {
     "name": "stdout",
     "output_type": "stream",
     "text": [
      "[0.63758194 0.63463386 0.64438464 0.65487216 0.71850737 0.78757685\n",
      " 0.88191457 0.83872168 0.67990476 0.51379105 0.3750293  0.30920634\n",
      " 0.32954652 0.43979423 0.76848754 0.45482544 0.38908898 0.38743915]\n"
     ]
    }
   ],
   "source": [
    "print (np.abs(10**pred_y[:,~idx] - 10**data_y[:,~idx])/(10**data_y[:,~idx])).mean(axis =1)"
   ]
  },
  {
   "cell_type": "code",
   "execution_count": 23,
   "metadata": {
    "collapsed": false
   },
   "outputs": [
    {
     "data": {
      "text/plain": [
       "72"
      ]
     },
     "execution_count": 23,
     "metadata": {},
     "output_type": "execute_result"
    }
   ],
   "source": [
    "1000*16%88"
   ]
  },
  {
   "cell_type": "code",
   "execution_count": 27,
   "metadata": {
    "collapsed": true
   },
   "outputs": [],
   "source": [
    "output = np.load('/nfs/slac/g/ki/ki18/des/swmclau2/xi_gg_corrabzheng07_test_v2/output_0200.npy')"
   ]
  },
  {
   "cell_type": "code",
   "execution_count": 28,
   "metadata": {
    "collapsed": false
   },
   "outputs": [
    {
     "data": {
      "text/plain": [
       "True"
      ]
     },
     "execution_count": 28,
     "metadata": {},
     "output_type": "execute_result"
    }
   ],
   "source": [
    "np.any(np.all(output == 0.0, axis = 1) )"
   ]
  },
  {
   "cell_type": "code",
   "execution_count": 29,
   "metadata": {
    "collapsed": false
   },
   "outputs": [
    {
     "data": {
      "text/plain": [
       "array([False, False, False, False, False, False, False, False, False,\n",
       "       False, False, False, False, False, False, False, False, False,\n",
       "       False, False, False, False, False, False, False, False, False,\n",
       "       False, False, False, False, False, False, False, False, False,\n",
       "       False, False, False, False, False, False, False, False, False,\n",
       "       False, False, False, False, False, False, False, False, False,\n",
       "       False, False, False, False, False, False, False, False, False,\n",
       "       False, False, False, False, False, False, False, False, False,\n",
       "       False, False, False, False, False, False, False, False, False,\n",
       "       False, False, False, False, False, False,  True])"
      ]
     },
     "execution_count": 29,
     "metadata": {},
     "output_type": "execute_result"
    }
   ],
   "source": [
    "np.all(output==0.0, axis = 1)"
   ]
  },
  {
   "cell_type": "code",
   "execution_count": 42,
   "metadata": {
    "collapsed": false
   },
   "outputs": [
    {
     "data": {
      "text/plain": [
       "array([ 5.05407834e+00,  4.74243783e+00,  4.41788886e+00,  4.07753464e+00,\n",
       "        3.72948666e+00,  3.36533425e+00,  2.99406083e+00,  2.60826370e+00,\n",
       "        2.18848191e+00,  1.72897029e+00,  1.30115833e+00,  9.90957820e-01,\n",
       "        7.45103642e-01,  5.10272667e-01,  2.69493097e-01,  2.03637922e-03,\n",
       "       -2.84013291e-01, -5.91268435e-01])"
      ]
     },
     "execution_count": 42,
     "metadata": {},
     "output_type": "execute_result"
    }
   ],
   "source": [
    "output[264%88]"
   ]
  },
  {
   "cell_type": "code",
   "execution_count": 43,
   "metadata": {
    "collapsed": true
   },
   "outputs": [],
   "source": [
    "import h5py"
   ]
  },
  {
   "cell_type": "code",
   "execution_count": 44,
   "metadata": {
    "collapsed": true
   },
   "outputs": [],
   "source": [
    "f = h5py.File('/nfs/slac/g/ki/ki18/des/swmclau2/xi_gg_corrabzheng07_test_v2/PearceXiggCosmoCorrABTest.hdf5', 'r')"
   ]
  },
  {
   "cell_type": "code",
   "execution_count": 45,
   "metadata": {
    "collapsed": false
   },
   "outputs": [
    {
     "data": {
      "text/plain": [
       "array([ 4.58452852,  4.23025209,  3.86812086,  3.49986129,  3.1170586 ,\n",
       "        2.72898277,  2.32850633,  1.95072324,  1.62719941,  1.3721967 ,\n",
       "        1.16226295,  0.96732309,  0.76413756,  0.560868  ,  0.35742791,\n",
       "        0.08080695, -0.22537171, -0.54293441])"
      ]
     },
     "execution_count": 45,
     "metadata": {},
     "output_type": "execute_result"
    }
   ],
   "source": [
    "f['cosmo_no_00']['a_1.000']['obs'].value[265]"
   ]
  },
  {
   "cell_type": "code",
   "execution_count": 46,
   "metadata": {
    "collapsed": false
   },
   "outputs": [
    {
     "name": "stderr",
     "output_type": "stream",
     "text": [
      " /u/ki/swmclau2/.local/lib/python2.7/site-packages/pearce/emulator/emu.py:2100: UserWarning:WARNING: NaN detected. Skipped 226 points in training data.\n",
      " /u/ki/swmclau2/.local/lib/python2.7/site-packages/paramz/transformations.py:111: RuntimeWarning:overflow encountered in expm1\n"
     ]
    }
   ],
   "source": [
    "from pearce.emulator import NashvilleHot\n",
    "#from GPy.kern import *\n",
    "import numpy as np\n",
    "from os import path\n",
    "\n",
    "#training_file = '/home/users/swmclau2/scratch/xi_gg_zheng07_cosmo_v4/PearceXiggCosmo.hdf5'\n",
    "#test_file = '/home/users/swmclau2/scratch/xi_gg_zheng07_cosmo_test_v4/PearceXiggCosmoTest.hdf5'\n",
    "training_file = '/nfs/slac/g/ki/ki18/des/swmclau2/xi_gg_corrabzheng07_v2/PearceXiggCosmoCorrAB.hdf5'\n",
    "test_file = '/nfs/slac/g/ki/ki18/des/swmclau2/xi_gg_corrabzheng07_test_v2/PearceXiggCosmoCorrABTest.hdf5'\n",
    "\n",
    "\n",
    "em_method = 'gp'\n",
    "fixed_params = {'z':0.0}\n",
    "hyperparams = {}\n",
    "\n",
    "emu = NashvilleHot(training_file, hyperparams=hyperparams,fixed_params = fixed_params, downsample_factor = 0.1)\n",
    "\n"
   ]
  },
  {
   "cell_type": "code",
   "execution_count": null,
   "metadata": {
    "collapsed": false
   },
   "outputs": [],
   "source": [
    "pred_y, data_y = emu.goodness_of_fit(test_file, statistic = None)"
   ]
  },
  {
   "cell_type": "code",
   "execution_count": null,
   "metadata": {
    "collapsed": true
   },
   "outputs": [],
   "source": []
  }
 ],
 "metadata": {
  "kernelspec": {
   "display_name": "Python [conda env:hodemulator]",
   "language": "python",
   "name": "conda-env-hodemulator-py"
  },
  "language_info": {
   "codemirror_mode": {
    "name": "ipython",
    "version": 2
   },
   "file_extension": ".py",
   "mimetype": "text/x-python",
   "name": "python",
   "nbconvert_exporter": "python",
   "pygments_lexer": "ipython2",
   "version": "2.7.13"
  }
 },
 "nbformat": 4,
 "nbformat_minor": 0
}

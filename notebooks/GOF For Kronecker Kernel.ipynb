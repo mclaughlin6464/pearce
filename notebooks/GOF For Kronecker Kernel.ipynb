{
 "cells": [
  {
   "cell_type": "markdown",
   "metadata": {},
   "source": [
    "I'm gonna overwrite a lot of this notebook's old content. I changed the way I'm calculating wt, and wanna test that my training worked. "
   ]
  },
  {
   "cell_type": "code",
   "execution_count": 23,
   "metadata": {
    "collapsed": true
   },
   "outputs": [],
   "source": [
    "from pearce.emulator import *\n",
    "from pearce.mocks import cat_dict\n",
    "import numpy as np\n",
    "from os import path"
   ]
  },
  {
   "cell_type": "code",
   "execution_count": 24,
   "metadata": {
    "collapsed": true
   },
   "outputs": [],
   "source": [
    "import matplotlib\n",
    "#matplotlib.use('Agg')\n",
    "from matplotlib import pyplot as plt\n",
    "%matplotlib inline\n",
    "import seaborn as sns\n",
    "sns.set()"
   ]
  },
  {
   "cell_type": "code",
   "execution_count": 25,
   "metadata": {
    "collapsed": true
   },
   "outputs": [],
   "source": [
    "from GPy.models import GPKroneckerGaussianRegression\n",
    "from GPy.kern import *\n",
    "import h5py"
   ]
  },
  {
   "cell_type": "code",
   "execution_count": 26,
   "metadata": {
    "collapsed": true
   },
   "outputs": [],
   "source": [
    "from pearce.emulator import GPKroneckerGaussianRegressionVar"
   ]
  },
  {
   "cell_type": "code",
   "execution_count": 27,
   "metadata": {
    "collapsed": true
   },
   "outputs": [],
   "source": [
    "training_file = '/home/users/swmclau2/scratch/xi_gg_zheng07_cosmo_v3/PearceXiggCosmo.hdf5'\n",
    "test_file = '/home/users/swmclau2/scratch/xi_gg_zheng07_cosmo_test_v3/PearceXiggCosmoTest.hdf5'"
   ]
  },
  {
   "cell_type": "code",
   "execution_count": null,
   "metadata": {},
   "outputs": [
    {
     "name": "stdout",
     "output_type": "stream",
     "text": [
      "Optimization restart 1/10, f = -12457.688126\n",
      "Optimization restart 2/10, f = -12537.0855969\n",
      "Optimization restart 3/10, f = -12501.4506292\n",
      "Optimization restart 4/10, f = -12566.4494755\n",
      "Optimization restart 5/10, f = -12435.2716288\n",
      "Optimization restart 6/10, f = -12498.8169023\n",
      "Optimization restart 7/10, f = -12484.0924991\n",
      "Optimization restart 8/10, f = -12494.3221698\n",
      "Optimization restart 9/10, f = -12496.1188084\n",
      "Optimization restart 10/10, f = -12509.1425\n",
      "[ 5.6786562   3.87988861]\n",
      "[ 5.76537255  1.9063896   0.68449335  2.00579988  2.55791227]\n",
      "\n",
      "0 0.0473102786902 0.0690457923812\n",
      "\n",
      "Optimization restart 1/10, f = -13087.9693754\n",
      "Optimization restart 2/10, f = -12978.4467835\n",
      "Optimization restart 3/10, f = -13079.8284725\n",
      "Optimization restart 4/10, f = -13157.1642855\n",
      "Optimization restart 5/10, f = -13085.8563531\n",
      "Optimization restart 6/10, f = -13117.4313165\n",
      "Optimization restart 7/10, f = -13083.1004805\n",
      "Optimization restart 8/10, f = -13130.6212697\n",
      "Optimization restart 9/10, f = -13063.5703509\n",
      "Optimization restart 10/10, f = -13071.8490987\n",
      "[ 15.19250025   4.89725609]\n",
      "[ 13.83904354   2.26474982   0.71895658   2.50120791   6.21636794]\n",
      "\n",
      "1 0.022749784407 0.0382069781499\n",
      "\n",
      "Optimization restart 1/10, f = -13533.5598235\n",
      "Optimization restart 2/10, f = -13661.4445731\n",
      "Optimization restart 3/10, f = -13636.8328723\n",
      "Optimization restart 4/10, f = -13629.880735\n",
      "Optimization restart 5/10, f = -13636.4076964\n",
      "Optimization restart 6/10, f = -13643.0289664\n",
      "Optimization restart 7/10, f = -13650.8739466\n",
      "Optimization restart 8/10, f = -13645.511221\n",
      "Optimization restart 9/10, f = -13618.3162557\n",
      "Optimization restart 10/10, f = -13558.2625579\n",
      "[ 6.90278677  4.0065251 ]\n",
      "[ 6.91287152  2.0317279   0.63224059  2.20545651  2.95543234]\n",
      "\n",
      "2 0.0294319606301 0.0481316365829\n",
      "\n",
      "Optimization restart 1/10, f = -13854.2476055\n",
      "Optimization restart 2/10, f = -14034.4811906\n",
      "Optimization restart 3/10, f = -13881.2246229\n",
      "Optimization restart 4/10, f = -14073.8233192\n",
      "Optimization restart 5/10, f = -14086.9594634\n",
      "Optimization restart 6/10, f = -14100.6307016\n",
      "Optimization restart 7/10, f = -13973.3133096\n",
      "Optimization restart 8/10, f = -13979.2481077\n",
      "Optimization restart 9/10, f = -13928.558213\n",
      "Optimization restart 10/10, f = -13945.2793142\n",
      "[ 8.74452615  4.30130321]\n",
      "[ 9.88447638  2.31910481  0.67935808  2.49614309  3.33168624]\n",
      "\n",
      "3 0.0194708492302 0.0343097936396\n",
      "\n",
      "Optimization restart 1/10, f = -14335.3144375\n",
      "Optimization restart 2/10, f = -14333.4465607\n",
      "Optimization restart 3/10, f = -14331.2681037\n",
      "Optimization restart 4/10, f = -14253.1504803\n",
      "Optimization restart 5/10, f = -14318.964644\n",
      "Optimization restart 6/10, f = -14335.2322544\n",
      "Optimization restart 7/10, f = -14330.1353388\n",
      "Optimization restart 8/10, f = -14325.9403671\n",
      "Optimization restart 9/10, f = -14367.9970811\n",
      "Optimization restart 10/10, f = -14348.0650155\n",
      "[ 6.78123037  3.94502394]\n",
      "[ 6.76440505  2.1395258   0.60502036  2.24698723  2.68159732]\n",
      "\n",
      "4 0.0251307708409 0.0388964336412\n",
      "\n",
      "Optimization restart 1/10, f = -14651.3487636\n",
      "Optimization restart 2/10, f = -14664.2528455\n",
      "Optimization restart 3/10, f = -14617.41534\n"
     ]
    }
   ],
   "source": [
    "accs = []\n",
    "log_accs = []\n",
    "noise = []\n",
    "for rbin in xrange(18):\n",
    "\n",
    "    f = h5py.File(training_file, 'r')\n",
    "\n",
    "    Ys = []\n",
    "    Yerrs = []\n",
    "    for i in xrange(40):\n",
    "        Ys.append(f['cosmo_no_%02d'%i]['a_1.000']['obs'].value[:, rbin])\n",
    "        Yerrs.append(f['cosmo_no_%02d'%i]['a_1.000']['cov'].value[:, rbin, rbin]) \n",
    "\n",
    "    n_hods = 100\n",
    "    start_idx = 0\n",
    "    X1 = f.attrs['cosmo_param_vals']\n",
    "    X2 = f.attrs['hod_param_vals'][start_idx:start_idx+n_hods]\n",
    "    Y = np.vstack(Ys)[:, start_idx:start_idx+n_hods]\n",
    "    Yerr = np.vstack(Yerrs)[:, start_idx:start_idx+n_hods]\n",
    "    \n",
    "    noise.append([Y, Yerr])\n",
    "\n",
    "    f.close()\n",
    "    # how to add training errors?\n",
    "\n",
    "    K1 =RBF(input_dim=7, ARD = False)# + RBF(input_dim=7, ARD = False)#+ Linear(input_dim = 7, ARD = False) + Bias(input_dim=7)# + White(input_dim=7)\n",
    "    K2 = RBF(input_dim=4, ARD = True)# + RBF(input_dim=4, ARD = False)#+ Linear(input_dim = 4, ARD = False) + Bias(input_dim=4)# + White(input_dim=4)\n",
    "\n",
    "    model = GPKroneckerGaussianRegressionVar(X1, X2, Y, Yerr, K1, K2)#, noise_var = 0.01 )\n",
    "\n",
    "    model.optimize_restarts(num_restarts=10, verbose = True)\n",
    "\n",
    "    print K1.param_array\n",
    "    print K2.param_array\n",
    "    print \n",
    "    \n",
    "    f2 = h5py.File(test_file, 'r')\n",
    "\n",
    "    Y2s = []\n",
    "    for i in xrange(35):\n",
    "        Y2s.append(f2['cosmo_no_%02d'%i]['a_1.000']['obs'].value[:, rbin])\n",
    "\n",
    "    testX1 = f2.attrs['cosmo_param_vals']\n",
    "    testX2 = f2.attrs['hod_param_vals']#[:100]\n",
    "    testY = np.vstack(Y2s)#[:, :100]\n",
    "    f2.close()\n",
    "\n",
    "    predY, _ = model.predict(testX1, testX2)\n",
    "    med_acc, mean_acc = np.median( np.abs( (10**predY[:,0] - 10**testY.flatten(order='F'))/10**testY.flatten(order='F') )  ), \\\n",
    "np.mean( np.abs( (10**predY[:,0] - 10**testY.flatten(order='F'))/10**testY.flatten(order='F') )  ) \n",
    "    print rbin, med_acc, mean_acc\n",
    "    accs.append((med_acc, mean_acc))\n",
    "    log_accs.append((np.median( np.abs( (predY[:,0] - testY.flatten(order='F'))/testY.flatten(order='F') )  ), \\\n",
    "np.mean( np.abs( (predY[:,0] - testY.flatten(order='F'))/testY.flatten(order='F') )  ) ))\n",
    "    print"
   ]
  },
  {
   "cell_type": "code",
   "execution_count": null,
   "metadata": {
    "collapsed": true
   },
   "outputs": [],
   "source": [
    "accs = np.array(accs)"
   ]
  },
  {
   "cell_type": "code",
   "execution_count": null,
   "metadata": {},
   "outputs": [],
   "source": [
    "noise = np.array(noise)\n",
    "noise.shape"
   ]
  },
  {
   "cell_type": "code",
   "execution_count": null,
   "metadata": {
    "collapsed": true
   },
   "outputs": [],
   "source": [
    "Y, Yvar = noise[:, 0], noise[:,1]"
   ]
  },
  {
   "cell_type": "raw",
   "metadata": {},
   "source": [
    "exp_Yvar = Yvar*np.exp(np.log(10)*Y*2)\n",
    "\n",
    "exp_errs = np.sqrt(exp_Yvar.mean(axis = (1,2)))/(np.exp(np.log(10)*Y.mean(axis = (1,2))))"
   ]
  },
  {
   "cell_type": "code",
   "execution_count": null,
   "metadata": {
    "collapsed": true
   },
   "outputs": [],
   "source": [
    "exp_Yerr = np.sqrt(Yvar)*10**(Y)\n",
    "\n",
    "exp_accs = np.mean(exp_Yerr/(10**Y), axis = (1,2) )"
   ]
  },
  {
   "cell_type": "code",
   "execution_count": null,
   "metadata": {
    "collapsed": true
   },
   "outputs": [],
   "source": [
    "f = h5py.File(training_file, 'r')\n",
    "#print f.attrs.keys()\n",
    "r_bins = f.attrs['scale_bins']\n",
    "f.close()\n",
    "rpoints = (r_bins[1:]+r_bins[:-1])/2.0"
   ]
  },
  {
   "cell_type": "code",
   "execution_count": null,
   "metadata": {},
   "outputs": [],
   "source": [
    "plt.plot(rpoints, exp_accs)\n",
    "plt.loglog()"
   ]
  },
  {
   "cell_type": "code",
   "execution_count": null,
   "metadata": {},
   "outputs": [],
   "source": [
    "plt.plot(rpoints, accs[:,0], label = 'Median Error')\n",
    "plt.plot(rpoints, accs[:,1], label = 'Mean Error')\n",
    "plt.plot(rpoints, exp_accs, label = 'Shot noise')\n",
    "plt.ylim([0.001, 0.5])\n",
    "plt.ylabel('Perc. Accuracy')\n",
    "plt.xlabel(r'$r$ [Mpc]')\n",
    "plt.legend(loc = 'best')\n",
    "plt.loglog();"
   ]
  },
  {
   "cell_type": "code",
   "execution_count": null,
   "metadata": {
    "collapsed": true
   },
   "outputs": [],
   "source": [
    "log_accs = np.array(log_accs)"
   ]
  },
  {
   "cell_type": "code",
   "execution_count": null,
   "metadata": {},
   "outputs": [],
   "source": [
    "plt.title('Log Acc')\n",
    "plt.plot(rpoints, log_accs[:,0], label = 'Median Error')\n",
    "plt.plot(rpoints, log_accs[:,1], label = 'Mean Error')\n",
    "plt.plot(rpoints, (np.sqrt(Yvar)/np.abs(Y)).mean(axis = (1,2)), label = 'Shot noise')\n",
    "plt.ylim([0.001, 0.5])\n",
    "plt.ylabel('Perc. Accuracy')\n",
    "plt.xlabel(r'$r$ [Mpc]')\n",
    "plt.legend(loc = 'best')\n",
    "plt.loglog();"
   ]
  },
  {
   "cell_type": "code",
   "execution_count": null,
   "metadata": {
    "collapsed": true
   },
   "outputs": [],
   "source": []
  }
 ],
 "metadata": {
  "kernelspec": {
   "display_name": "Python 2",
   "language": "python",
   "name": "python2"
  },
  "language_info": {
   "codemirror_mode": {
    "name": "ipython",
    "version": 2
   },
   "file_extension": ".py",
   "mimetype": "text/x-python",
   "name": "python",
   "nbconvert_exporter": "python",
   "pygments_lexer": "ipython2",
   "version": "2.7.15rc1"
  }
 },
 "nbformat": 4,
 "nbformat_minor": 1
}

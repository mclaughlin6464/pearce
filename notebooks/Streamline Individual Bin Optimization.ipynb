{
 "cells": [
  {
   "cell_type": "markdown",
   "metadata": {},
   "source": [
    "I want to streamline the process of submitting several optimization jobs for individual bins.It is similar enouch to the mcmc config notebook that I'm gonna port some functionality from that here. "
   ]
  },
  {
   "cell_type": "code",
   "execution_count": 1,
   "metadata": {
    "collapsed": true
   },
   "outputs": [],
   "source": [
    "from os import path\n",
    "import numpy as np\n",
    "import h5py"
   ]
  },
  {
   "cell_type": "code",
   "execution_count": 2,
   "metadata": {
    "collapsed": true
   },
   "outputs": [],
   "source": [
    "training_file = '/scratch/users/swmclau2/xi_zheng07_cosmo_lowmsat/PearceRedMagicXiCosmoFixedNd.hdf5'\n",
    "f = h5py.File(training_file, 'r')"
   ]
  },
  {
   "cell_type": "code",
   "execution_count": 3,
   "metadata": {
    "collapsed": true
   },
   "outputs": [],
   "source": [
    "rbins = f.attrs['scale_bins']\n",
    "rpoints = (rbins[1:]+rbins[:-1])/2.0"
   ]
  },
  {
   "cell_type": "code",
   "execution_count": 4,
   "metadata": {
    "collapsed": true
   },
   "outputs": [],
   "source": [
    "np.save('/home/users/swmclau2/Git/pearce/bin/optimization/sloppy_joes_indiv_bins/rpoints.npy', rpoints)"
   ]
  },
  {
   "cell_type": "raw",
   "metadata": {},
   "source": [
    "orig_sbatch_fname = '/home/users/swmclau2/Git/pearce/bin/mcmc/config/pearce_mcmc_config_test.sbatch'\n",
    "with open(orig_sbatch_fname, 'r') as f:\n",
    "    lines = []\n",
    "    for line in f:\n",
    "        lines.append(line)\n",
    "        \n",
    "orig_sbatch = ''.join(lines)"
   ]
  },
  {
   "cell_type": "code",
   "execution_count": 5,
   "metadata": {
    "collapsed": true
   },
   "outputs": [],
   "source": [
    "sbatch_template = \"\"\"#!/bin/bash\n",
    "#SBATCH --job-name={ridx:02d}_sloppy_joes_optimization_indiv_bin\n",
    "#SBATCH --time=04:00:00\n",
    "#SBATCH -p iric\n",
    "#SBATCH -o {dirname}/sloppy_joes_optimization_indiv_bin_{ridx:02d}.out\n",
    "#SBATCH --ntasks=16\n",
    "#SBATCH --exclusive\n",
    "\n",
    "module load python/2.7.13\n",
    "module load py-scipystack\n",
    "module load hdf5/1.10.0p1\n",
    "python {dirname}/sloppy_joes_optimization_indiv_bins.py {ridx:02d}\n",
    "\"\"\""
   ]
  },
  {
   "cell_type": "code",
   "execution_count": 6,
   "metadata": {
    "collapsed": true
   },
   "outputs": [],
   "source": [
    "directory = \"/home/users/swmclau2/Git/pearce/bin/optimization/sloppy_joes_indiv_bins\"\n",
    "jobname_template = \"sloppy_joes_indiv_bin_{ridx:02d}\"\n",
    "for ridx,  _ in enumerate(rpoints):\n",
    "        jobname = jobname_template.format(ridx=ridx)\n",
    "            \n",
    "        with open(path.join(directory, jobname + '.sbatch'), 'w') as f:\n",
    "            f.write(sbatch_template.format(dirname = directory, ridx = ridx))"
   ]
  },
  {
   "cell_type": "code",
   "execution_count": null,
   "metadata": {
    "collapsed": true
   },
   "outputs": [],
   "source": []
  }
 ],
 "metadata": {
  "kernelspec": {
   "display_name": "Python 2",
   "language": "python",
   "name": "python2"
  },
  "language_info": {
   "codemirror_mode": {
    "name": "ipython",
    "version": 2
   },
   "file_extension": ".py",
   "mimetype": "text/x-python",
   "name": "python",
   "nbconvert_exporter": "python",
   "pygments_lexer": "ipython2",
   "version": "2.7.13"
  }
 },
 "nbformat": 4,
 "nbformat_minor": 2
}

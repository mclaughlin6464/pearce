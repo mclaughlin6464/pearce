{
 "cells": [
  {
   "cell_type": "markdown",
   "metadata": {},
   "source": [
    "We're running the Aemulus beta sims to output all particles. Now we need to delete the snapshots we don't need. However there is a bug where there can be off by one errors in the snap numbers. So I'm gonna manually confirm the actual redshifts of them before deleting them. "
   ]
  },
  {
   "cell_type": "markdown",
   "metadata": {},
   "source": [
    "Box000_sherlock snaps to save\n",
    "* 68 (z= 5.0)\n",
    "* 97 (z= 3.0)\n",
    "* 119 (z =2.0)\n",
    "* 149 (z=1.0)\n",
    "* 155 (z=0.85)\n",
    "* 161 (z=0.7)\n",
    "* 168 (z=0.55)\n",
    "* 175 (z=0.4)\n",
    "* 184 (z=0.25)\n",
    "* 188 (z = 0.17)\n",
    "* 193 (z=0.1)\n",
    "* 196 (z=0.05)\n",
    "* 200 (z=0.0)"
   ]
  },
  {
   "cell_type": "code",
   "execution_count": 1,
   "metadata": {},
   "outputs": [],
   "source": [
    "import numpy as np\n",
    "from pearce.mocks.readGadgetSnapshot import readGadgetSnapshot\n",
    "from glob import glob"
   ]
  },
  {
   "cell_type": "code",
   "execution_count": 2,
   "metadata": {
    "collapsed": true
   },
   "outputs": [],
   "source": [
    "redshifts_to_keep = np.array([5.0, 3.0, 2.0, 1.0, 0.85, 0.7, 0.55, 0.4, 0.25, 0.17, 0.1, 0.05, 0.0])"
   ]
  },
  {
   "cell_type": "code",
   "execution_count": 3,
   "metadata": {},
   "outputs": [],
   "source": [
    "redshifts = []\n",
    "for i in xrange(202):\n",
    "    fname = '/home/users/swmclau2/oak/../../aemulus/highres_emu/Box000_sherlock/output/snapdir_{0:03d}/snapshot_{0:03d}.0'.format(i)\n",
    "    header = readGadgetSnapshot(fname, read_pos=False)#[0] \n",
    "    redshifts.append(header.redshift)"
   ]
  },
  {
   "cell_type": "code",
   "execution_count": 4,
   "metadata": {
    "collapsed": true
   },
   "outputs": [],
   "source": [
    "redshifts = np.array(redshifts)"
   ]
  },
  {
   "cell_type": "code",
   "execution_count": 5,
   "metadata": {},
   "outputs": [
    {
     "data": {
      "text/plain": [
       "[<matplotlib.lines.Line2D at 0x7f0ff623ea10>]"
      ]
     },
     "execution_count": 5,
     "metadata": {},
     "output_type": "execute_result"
    },
    {
     "data": {
      "image/png": "[encoded data removed]",
      "text/plain": [
       "<matplotlib.figure.Figure at 0x7f0ff8557b90>"
      ]
     },
     "metadata": {},
     "output_type": "display_data"
    }
   ],
   "source": [
    "from matplotlib import pyplot as plt\n",
    "%matplotlib inline \n",
    "plt.plot(range(202), redshifts)"
   ]
  },
  {
   "cell_type": "code",
   "execution_count": 6,
   "metadata": {},
   "outputs": [
    {
     "data": {
      "text/plain": [
       "[<matplotlib.lines.Line2D at 0x7f0ff6158150>]"
      ]
     },
     "execution_count": 6,
     "metadata": {},
     "output_type": "execute_result"
    },
    {
     "data": {
      "image/png": "[encoded data removed]",
      "text/plain": [
       "<matplotlib.figure.Figure at 0x7f0ff6228710>"
      ]
     },
     "metadata": {},
     "output_type": "display_data"
    }
   ],
   "source": [
    "from matplotlib import pyplot as plt\n",
    "%matplotlib inline \n",
    "plt.plot(range(202)[95:105], redshifts[95:105])"
   ]
  },
  {
   "cell_type": "code",
   "execution_count": 8,
   "metadata": {},
   "outputs": [],
   "source": [
    "idxs_to_keep = []\n",
    "for z in redshifts_to_keep:\n",
    "    idxs_to_keep.append(np.argmin(np.abs(z-redshifts)))"
   ]
  },
  {
   "cell_type": "code",
   "execution_count": 9,
   "metadata": {},
   "outputs": [
    {
     "name": "stdout",
     "output_type": "stream",
     "text": [
      "[ 67  97 119 149 155 161 168 175 184 188 193 196 201]\n"
     ]
    }
   ],
   "source": [
    "print np.array(idxs_to_keep)"
   ]
  },
  {
   "cell_type": "code",
   "execution_count": null,
   "metadata": {
    "collapsed": true
   },
   "outputs": [],
   "source": []
  }
 ],
 "metadata": {
  "kernelspec": {
   "display_name": "Python 2",
   "language": "python",
   "name": "python2"
  },
  "language_info": {
   "codemirror_mode": {
    "name": "ipython",
    "version": 2
   },
   "file_extension": ".py",
   "mimetype": "text/x-python",
   "name": "python",
   "nbconvert_exporter": "python",
   "pygments_lexer": "ipython2",
   "version": "2.7.13"
  }
 },
 "nbformat": 4,
 "nbformat_minor": 2
}

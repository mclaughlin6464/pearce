{
 "cells": [
  {
   "cell_type": "code",
   "execution_count": 1,
   "metadata": {
    "collapsed": true
   },
   "outputs": [],
   "source": [
    "%load_ext autoreload\n",
    "%autoreload 2"
   ]
  },
  {
   "cell_type": "code",
   "execution_count": 2,
   "metadata": {
    "collapsed": false
   },
   "outputs": [
    {
     "name": "stderr",
     "output_type": "stream",
     "text": [
      "/usr/local/lib/python2.7/dist-packages/h5py/__init__.py:36: FutureWarning: Conversion of the second argument of issubdtype from `float` to `np.floating` is deprecated. In future, it will be treated as `np.float64 == np.dtype(float).type`.\n",
      "  from ._conv import register_converters as _register_converters\n"
     ]
    }
   ],
   "source": [
    "from pearce.emulator import OriginalRecipe, ExtraCrispy\n",
    "from pearce.mocks import cat_dict\n",
    "import numpy as np\n",
    "from os import path"
   ]
  },
  {
   "cell_type": "code",
   "execution_count": 3,
   "metadata": {
    "collapsed": true
   },
   "outputs": [],
   "source": [
    "import tensorflow as tf"
   ]
  },
  {
   "cell_type": "code",
   "execution_count": 4,
   "metadata": {
    "collapsed": true
   },
   "outputs": [],
   "source": [
    "import matplotlib\n",
    "#matplotlib.use('Agg')\n",
    "from matplotlib import pyplot as plt\n",
    "%matplotlib inline\n",
    "import seaborn as sns\n",
    "sns.set()"
   ]
  },
  {
   "cell_type": "markdown",
   "metadata": {},
   "source": [
    "The files include:\n",
    "\n",
    "cosmology_camb.dat : the input training cosmology, only 5 parameters: Om, Ob, sigma_8, h, n_s.    w and N_eff are not used here because the analytic method is only for LCDM.\n",
    "\n",
    "HOD_design_m_4_n_400_tinker.dat : 400 HOD designs for the training set.\n",
    "\n",
    "EH_test_200COSMO_tinker.dat : the 200 test cosmologies from Tinker.\n",
    "\n",
    "EH_test_200COSMO_tinker.dat : the 1000 test HODs, just use the first 200.\n",
    "\n",
    "Cosmo_err.dat : the fractional error of wp estimated from the test boxes.\n",
    "\n",
    "wp_clustering_emu: folder contains the wp data for training, the columns are rp, wp\n",
    "\n",
    "test_200COSMO_tinker_wp_clustering_emu: folder contains the wp data for test, same format as training set.\n",
    "\n",
    "example.py: is an example script for my GP modeling. you should fill out the missing places. My comment on line 31 may not be right: because 0-49 for line 1 and 50-99 for line 2 etc will result repeated HOD sampling for different cosmologies, 400/50=8<40, so a better choice might be just randomly choose 50 HOD for each cosmology. (edited)"
   ]
  },
  {
   "cell_type": "code",
   "execution_count": 5,
   "metadata": {
    "collapsed": true
   },
   "outputs": [],
   "source": [
    "dir = '/home/sean/Downloads/Zhongxu_data/for_Sean/'\n",
    "cosmo_data_fname = 'EH_test_200COSMO_tinker.dat'\n",
    "hod_data_fname = 'GP_test_HOD_1000.dat'"
   ]
  },
  {
   "cell_type": "code",
   "execution_count": 6,
   "metadata": {
    "collapsed": true
   },
   "outputs": [],
   "source": [
    "from os.path import join"
   ]
  },
  {
   "cell_type": "code",
   "execution_count": 7,
   "metadata": {
    "collapsed": true
   },
   "outputs": [],
   "source": [
    "cosmo_colnames = ['Om', 'Ob', 'sigma_8', 'h', 'n_s']\n",
    "cosmo_data = np.loadtxt(join(dir, cosmo_data_fname), delimiter=' ')"
   ]
  },
  {
   "cell_type": "code",
   "execution_count": 8,
   "metadata": {
    "collapsed": true
   },
   "outputs": [],
   "source": [
    "hod_colnames = ['M1', 'alpha', 'Mmin', 'sigma_logM']\n",
    "hod_data = np.loadtxt(join(dir, hod_data_fname), delimiter = ' ')"
   ]
  },
  {
   "cell_type": "code",
   "execution_count": 9,
   "metadata": {
    "collapsed": true
   },
   "outputs": [],
   "source": [
    "training_file = '/home/sean/PearceRedMagicXiCosmoFixedNd.hdf5'\n",
    "#test_file = '/home/sean/PearceRedMagicXiCosmoTest.hdf5'"
   ]
  },
  {
   "cell_type": "raw",
   "metadata": {},
   "source": [
    "training_file = '/home/sean/PearceRedMagicXiCosmo.hdf5'\n",
    "test_file = '/home/sean/PearceRedMagicXiCosmoTest.hdf5'"
   ]
  },
  {
   "cell_type": "code",
   "execution_count": 10,
   "metadata": {
    "collapsed": true
   },
   "outputs": [],
   "source": [
    "em_method = 'nn'\n",
    "split_method = 'random'"
   ]
  },
  {
   "cell_type": "code",
   "execution_count": 11,
   "metadata": {
    "collapsed": true
   },
   "outputs": [],
   "source": [
    "a = 1.0\n",
    "z = 1.0/a - 1.0"
   ]
  },
  {
   "cell_type": "raw",
   "metadata": {},
   "source": [
    "emu.scale_bin_centers"
   ]
  },
  {
   "cell_type": "code",
   "execution_count": 12,
   "metadata": {
    "collapsed": true
   },
   "outputs": [],
   "source": [
    "fixed_params = {'z':z}#, 'r':17.0389993 }"
   ]
  },
  {
   "cell_type": "raw",
   "metadata": {
    "collapsed": true
   },
   "source": [
    "n_leaves, n_overlap = 50, 1\n",
    "emu = ExtraCrispy(training_file, n_leaves, n_overlap, split_method, method = em_method, fixed_params=fixed_params,\n",
    "                 custom_mean_function = None, downsample_factor = 1.0)"
   ]
  },
  {
   "cell_type": "code",
   "execution_count": 13,
   "metadata": {
    "collapsed": false,
    "scrolled": true
   },
   "outputs": [
    {
     "name": "stderr",
     "output_type": "stream",
     "text": [
      "/home/sean/.local/lib/python2.7/site-packages/pearce/emulator/emu.py:266: UserWarning: WARNING: NaN detected. Skipped 14165 points in training data.\n",
      "  warnings.warn('WARNING: NaN detected. Skipped %d points in training data.' % (num_skipped))\n"
     ]
    },
    {
     "name": "stdout",
     "output_type": "stream",
     "text": [
      "Iteration 1, loss = 0.29971794\n",
      "Iteration 2, loss = 0.07723210\n",
      "Iteration 3, loss = 0.04192174\n",
      "Iteration 4, loss = 0.03060604\n",
      "Iteration 5, loss = 0.02670722\n",
      "Iteration 6, loss = 0.02455795\n",
      "Iteration 7, loss = 0.02244993\n",
      "Iteration 8, loss = 0.02018971\n",
      "Iteration 9, loss = 0.01798920\n",
      "Iteration 10, loss = 0.01575943\n"
     ]
    },
    {
     "name": "stderr",
     "output_type": "stream",
     "text": [
      "/usr/local/lib/python2.7/dist-packages/sklearn/neural_network/multilayer_perceptron.py:564: ConvergenceWarning: Stochastic Optimizer: Maximum iterations (10) reached and the optimization hasn't converged yet.\n",
      "  % self.max_iter, ConvergenceWarning)\n"
     ]
    }
   ],
   "source": [
    "emu = OriginalRecipe(training_file, method = em_method, fixed_params=fixed_params,\n",
    "                    hyperparams = {'hidden_layer_sizes': (10),\n",
    "                                 'activation': 'relu', 'verbose': True, \n",
    "                                    'tol': 1e-8, 'learning_rate_init':1e-4,\\\n",
    "                                   'max_iter':10, 'alpha':0, 'early_stopping':False, 'validation_fraction':0.3})"
   ]
  },
  {
   "cell_type": "raw",
   "metadata": {},
   "source": [
    "#convert zhongxu's data to my format\n",
    "emu.get_param_names()"
   ]
  },
  {
   "cell_type": "raw",
   "metadata": {},
   "source": [
    "my_cosmo_data = np.zeros((cosmo_data.shape[0], 7))\n",
    "my_hod_data = np.zeros((200, 4))\n",
    "\n",
    "my_cosmo_data[:,0] = cosmo_data[:,1]*(cosmo_data[:,3])**2\n",
    "my_cosmo_data[:,1] = cosmo_data[:,0]*(cosmo_data[:,3])**2 - my_cosmo_data[:,0]\n",
    "my_cosmo_data[:,2] = -1.0\n",
    "my_cosmo_data[:,3] = cosmo_data[:,4]\n",
    "#my_cosmo_data[:,4]\n",
    "my_cosmo_data[:, 5] = cosmo_data[:,3]*100\n",
    "my_cosmo_data[:, 6] = 3.046"
   ]
  },
  {
   "cell_type": "raw",
   "metadata": {},
   "source": [
    "from classy import Class\n",
    "cosmo = Class()\n",
    "\n",
    "for i, row in enumerate(cosmo_data):\n",
    "    Om, Ob, sigma_8, h, n_s = row\n",
    "    params = {\n",
    "            'output': 'mPk',\n",
    "            'sigma8': sigma_8,\n",
    "            'n_s': n_s,\n",
    "            'h': h,\n",
    "            'non linear': 'halofit',\n",
    "            'omega_b': Ob*h*h,\n",
    "            'omega_cdm': (Om-Ob)*h*h,\n",
    "            'z_pk': 0.0}\n",
    "\n",
    "\n",
    "    cosmo.set(params)\n",
    "    cosmo.compute()\n",
    "    #print cosmo.pm\n",
    "    val = cosmo.get_current_derived_parameters(['ln10^{10}A_s'])['ln10^{10}A_s']\n",
    "    my_cosmo_data[i,4] = val"
   ]
  },
  {
   "cell_type": "raw",
   "metadata": {},
   "source": [
    "my_hod_data[:,0] = hod_data[:200,3]\n",
    "my_hod_data[:,1] = np.log10(hod_data[:200,2])\n",
    "my_hod_data[:,2] = np.log10(hod_data[:200,0])\n",
    "my_hod_data[:,3] = hod_data[:200,1]"
   ]
  },
  {
   "cell_type": "code",
   "execution_count": null,
   "metadata": {
    "collapsed": true
   },
   "outputs": [],
   "source": [
    "clustering_dir = 'test_200COSMO_tinker_wp_clustering_emu/'\n",
    "from glob import glob\n",
    "\n",
    "clustering_files = sorted(glob(join(dir, clustering_dir) + '*') )"
   ]
  },
  {
   "cell_type": "code",
   "execution_count": null,
   "metadata": {
    "collapsed": true
   },
   "outputs": [],
   "source": [
    "nbins = 9\n",
    "zx = np.zeros((len(clustering_files)*nbins, 12))\n",
    "zy = np.zeros((len(clustering_files)*nbins,))"
   ]
  },
  {
   "cell_type": "code",
   "execution_count": null,
   "metadata": {
    "collapsed": true
   },
   "outputs": [],
   "source": [
    "for i, cf in enumerate(clustering_files):\n",
    "    if i%1000==0:\n",
    "        print i\n",
    "    data = np.loadtxt(cf, delimiter = ' ')\n",
    "    rs = np.log10(data[:,0])\n",
    "    wp = np.log10(data[:,1])\n",
    "    fbase = cf.split('/')[-1]\n",
    "    split_fbase = fbase.split('_')\n",
    "    cosmo, hod = int(split_fbase[1]), int(split_fbase[3])\n",
    "    \n",
    "    zx[i*nbins:(i+1)*nbins, :7] = my_cosmo_data[cosmo]\n",
    "    zx[i*nbins:(i+1)*nbins, 7:-1] = my_hod_data[hod]\n",
    "    zx[i*nbins:(i+1)*nbins, -1] = rs\n",
    "    zy[i*nbins:(i+1)*nbins] = wp\n",
    "    \n",
    "    "
   ]
  },
  {
   "cell_type": "code",
   "execution_count": null,
   "metadata": {
    "collapsed": true
   },
   "outputs": [],
   "source": [
    "np.savetxt('zx.npy', zx)\n",
    "np.savetxt('zy.npy', zy)"
   ]
  },
  {
   "cell_type": "code",
   "execution_count": 14,
   "metadata": {
    "collapsed": true
   },
   "outputs": [],
   "source": [
    "zx = np.loadtxt('zx.npy')\n",
    "zy = np.loadtxt('zy.npy')"
   ]
  },
  {
   "cell_type": "code",
   "execution_count": 15,
   "metadata": {
    "collapsed": true
   },
   "outputs": [],
   "source": [
    "idxs = np.random.choice(emu.x.shape[0], size = int(emu.x.shape[0]*1.0), replace=False)\n",
    "\n",
    "x_train, y_train,yerr_train = emu.x[idxs, :],emu.y[idxs],emu.yerr[idxs]\n",
    "\n",
    "y_train = y_train*(emu._y_std + 1e-5) + emu._y_mean\n",
    "yerr_train = yerr_train*(emu._y_std+1e-5)"
   ]
  },
  {
   "cell_type": "code",
   "execution_count": 16,
   "metadata": {
    "collapsed": false
   },
   "outputs": [
    {
     "data": {
      "text/plain": [
       "array([349164, 286993,  73717, ..., 463187, 381956, 256815])"
      ]
     },
     "execution_count": 16,
     "metadata": {},
     "output_type": "execute_result"
    }
   ],
   "source": [
    "idxs"
   ]
  },
  {
   "cell_type": "code",
   "execution_count": 17,
   "metadata": {
    "collapsed": false
   },
   "outputs": [
    {
     "data": {
      "text/plain": [
       "12"
      ]
     },
     "execution_count": 17,
     "metadata": {},
     "output_type": "execute_result"
    }
   ],
   "source": [
    "len(emu.get_param_names())"
   ]
  },
  {
   "cell_type": "code",
   "execution_count": 18,
   "metadata": {
    "collapsed": true
   },
   "outputs": [],
   "source": [
    "unique_cosmos = np.unique(x_train[:, :7], axis =0)#*(emu._x_std[:7]+1e-5) + emu._x_mean[:7]"
   ]
  },
  {
   "cell_type": "code",
   "execution_count": 19,
   "metadata": {
    "collapsed": false
   },
   "outputs": [
    {
     "data": {
      "text/plain": [
       "(40, 7)"
      ]
     },
     "execution_count": 19,
     "metadata": {},
     "output_type": "execute_result"
    }
   ],
   "source": [
    "unique_cosmos.shape"
   ]
  },
  {
   "cell_type": "code",
   "execution_count": 20,
   "metadata": {
    "collapsed": true
   },
   "outputs": [],
   "source": [
    "left_out_cosmo = unique_cosmos[0]\n",
    "is_loc = np.all(x_train[:,:7] == left_out_cosmo, axis = 1)\n",
    "x_test = x_train[is_loc]\n",
    "x_train = x_train[~is_loc]\n",
    "y_test = y_train[is_loc]\n",
    "y_train = y_train[~is_loc]\n",
    "yerr_test = yerr_train[is_loc]\n",
    "yerr_train = yerr_train[~is_loc]"
   ]
  },
  {
   "cell_type": "raw",
   "metadata": {},
   "source": [
    "x_test, y_test, ycov_test, _ = emu.get_data(test_file, fixed_params, None, False)\n",
    "x_test = (x_test - emu._x_mean)/(emu._x_std+1e-5)\n",
    "\n",
    "#split_ycov = np.dsplit(ycov_test, ycov_test.shape[-1])\n",
    "        #fullcov = block_diag(*[yc[:,:,0] for yc in split_ycov])\n",
    "#yerr_test = np.sqrt(np.hstack(np.diag(syc[:,:,0]) for syc in split_ycov))"
   ]
  },
  {
   "cell_type": "raw",
   "metadata": {},
   "source": [
    "from sklearn.model_selection import train_test_split\n",
    "x_train, x_test, y_train, y_test, yerr_train, _ = train_test_split(x_train, y_train,yerr_train, test_size = 0.3, shuffle = True)"
   ]
  },
  {
   "cell_type": "raw",
   "metadata": {},
   "source": [
    "pnames = emu.get_param_names()\n",
    "for i in xrange(x_train.shape[1]):\n",
    "    for j in xrange(i+1,x_train.shape[1]):\n",
    "        plt.scatter(x_train[:,i], x_train[:,j])\n",
    "        plt.scatter(x_test[:,i], x_test[:,j])\n",
    "        plt.title('%s vs %s'%(pnames[i], pnames[j]))\n",
    "        plt.show();"
   ]
  },
  {
   "cell_type": "raw",
   "metadata": {},
   "source": [
    "plt.plot(x_np[:emu.n_bins, -1:], y_np[:emu.n_bins])"
   ]
  },
  {
   "cell_type": "code",
   "execution_count": 21,
   "metadata": {
    "collapsed": true
   },
   "outputs": [],
   "source": [
    "def n_layer_fc(x, hidden_sizes, training=False, l = 1e-8):\n",
    "    initializer = tf.variance_scaling_initializer(scale=2.0)\n",
    "    regularizer = tf.contrib.layers.l2_regularizer(l)\n",
    "    fc_output = tf.layers.dense(x, hidden_sizes[0], activation=tf.nn.relu,\n",
    "                                 kernel_initializer = initializer, kernel_regularizer = regularizer)\n",
    "                                 #kernel_regularizer = tf.nn.l2_loss)\n",
    "    #fc2_output = tf.layers.dense(fc1_output, hidden_sizes[1], activation=tf.nn.relu,\n",
    "    #                             kernel_initializer = initializer, kernel_regularizer = regularizer)\n",
    "    for size in hidden_sizes[1:]:\n",
    "        fc_output = tf.layers.dense(fc_output, size, activation=tf.nn.relu, kernel_initializer=initializer,\n",
    "                                 kernel_regularizer = regularizer)\n",
    "    pred = tf.layers.dense(fc_output, 1, kernel_initializer=initializer, \n",
    "                              kernel_regularizer = regularizer)[:,0]#,\n",
    "    return pred"
   ]
  },
  {
   "cell_type": "code",
   "execution_count": 22,
   "metadata": {
    "collapsed": true
   },
   "outputs": [],
   "source": [
    "def novel_fc(x, hidden_sizes, training=False, l = (1e-6, 1e-6, 1e-6), p = (0.5, 0.5, 0.5),\\\n",
    "             n_cosmo_params = 7, n_hod_params = 4):\n",
    "    \n",
    "    cosmo_sizes, hod_sizes, cap_sizes = hidden_sizes\n",
    "    \n",
    "    if type(l) is float:\n",
    "        cosmo_l, hod_l, cap_l = l, l, l\n",
    "    else:\n",
    "        cosmo_l, hod_l, cap_l = l\n",
    "        \n",
    "    if type(p) is float:\n",
    "        cosmo_p, hod_p, cap_p = p,p,p\n",
    "    else:\n",
    "        cosmo_p, hod_p, cap_p = p\n",
    "    \n",
    "    initializer = tf.variance_scaling_initializer(scale=2.0)\n",
    "    \n",
    "    #onlly for duplicating r\n",
    "    n_params = n_cosmo_params+n_hod_params\n",
    "    cosmo_x = tf.slice(x, [0,0], [-1, n_cosmo_params])\n",
    "    cosmo_x = tf.concat(values=[cosmo_x, tf.slice(x, [0, n_params-1], [-1, -1]) ], axis = 1)\n",
    "    #print tf.shape(cosmo_x)\n",
    "    #print tf.shape(tf.slice(x, [0, n_params-1], [-1, -1]))\n",
    "    hod_x = tf.slice(x, [0, n_cosmo_params], [-1, -1])\n",
    "    \n",
    "    cosmo_regularizer = tf.contrib.layers.l2_regularizer(cosmo_l)\n",
    "    cosmo_out = cosmo_x\n",
    "    \n",
    "    for size in cosmo_sizes:\n",
    "        fc_output = tf.layers.dense(cosmo_out, size,\n",
    "                                 kernel_initializer = initializer,\\\n",
    "                                    kernel_regularizer = cosmo_regularizer)\n",
    "        bd_out = tf.layers.dropout(fc_output, cosmo_p, training = training)\n",
    "        bn_out = tf.layers.batch_normalization(bd_out, axis = -1, training=training)\n",
    "        cosmo_out = tf.nn.relu(bn_out)#tf.nn.leaky_relu(bn_out, alpha=0.01)\n",
    "    \n",
    "    hod_regularizer = tf.contrib.layers.l1_regularizer(hod_l)\n",
    "    hod_out = hod_x\n",
    "    \n",
    "    for size in hod_sizes:\n",
    "        fc_output = tf.layers.dense(hod_out, size,\n",
    "                                 kernel_initializer = initializer,\\\n",
    "                                    kernel_regularizer = hod_regularizer)\n",
    "        bd_out = tf.layers.dropout(fc_output, hod_p, training = training)\n",
    "        bn_out = tf.layers.batch_normalization(bd_out, axis = -1, training=training)\n",
    "        hod_out = tf.nn.relu(bn_out)#tf.nn.leaky_relu(bn_out, alpha=0.01)\n",
    "    \n",
    "    cap_out=tf.concat(values=[cosmo_out, hod_out], axis = 1)\n",
    "    \n",
    "    return cap_out"
   ]
  },
  {
   "cell_type": "code",
   "execution_count": 23,
   "metadata": {
    "collapsed": true
   },
   "outputs": [],
   "source": [
    "def pretrain_cap(cap_input, hidden_sizes, training=False, l = (1e-6, 1e-6, 1e-6), p = (0.5, 0.5, 0.5)):\n",
    "    initializer = tf.variance_scaling_initializer(scale=2.0)\n",
    "\n",
    "    cosmo_sizes, hod_sizes, cap_sizes = hidden_sizes\n",
    "    \n",
    "    if type(l) is float:\n",
    "        cosmo_l, hod_l, cap_l = l, l, l\n",
    "    else:\n",
    "        cosmo_l, hod_l, cap_l = l\n",
    "        \n",
    "    if type(p) is float:\n",
    "        cosmo_p, hod_p, cap_p = p,p,p\n",
    "    else:\n",
    "        cosmo_p, hod_p, cap_p = p\n",
    "    \n",
    "    cap_out=cap_input\n",
    "    cap_regularizer = tf.contrib.layers.l2_regularizer(cap_l)\n",
    "\n",
    "    for size in cap_sizes:\n",
    "        fc_output = tf.layers.dense(cap_out, size,\n",
    "                                 kernel_initializer = initializer,\\\n",
    "                                    kernel_regularizer = cap_regularizer)\n",
    "        bd_out = tf.layers.dropout(fc_output, cap_p, training = training)\n",
    "        bn_out = tf.layers.batch_normalization(bd_out, axis = -1, training=training)\n",
    "        cap_out = tf.nn.relu(bn_out)#tf.nn.leaky_relu(bn_out, alpha=0.01)\n",
    "    \n",
    "    pred = tf.layers.dense(cap_out, 1, kernel_initializer=initializer, \n",
    "                              kernel_regularizer = cap_regularizer)[:,0]#,\n",
    "    return pred"
   ]
  },
  {
   "cell_type": "code",
   "execution_count": 24,
   "metadata": {
    "collapsed": true
   },
   "outputs": [],
   "source": [
    "def final_cap(cap_input, hidden_sizes, training=False, l = (1e-6, 1e-6, 1e-6), p = (0.5, 0.5, 0.5)):\n",
    "    initializer = tf.variance_scaling_initializer(scale=2.0)\n",
    "\n",
    "    cosmo_sizes, hod_sizes, cap_sizes = hidden_sizes\n",
    "    \n",
    "    if type(l) is float:\n",
    "        cosmo_l, hod_l, cap_l = l, l, l\n",
    "    else:\n",
    "        cosmo_l, hod_l, cap_l = l\n",
    "        \n",
    "    if type(p) is float:\n",
    "        cosmo_p, hod_p, cap_p = p,p,p\n",
    "    else:\n",
    "        cosmo_p, hod_p, cap_p = p\n",
    "    \n",
    "    cap_out=cap_input\n",
    "    cap_regularizer = tf.contrib.layers.l2_regularizer(cap_l)\n",
    "\n",
    "    for size in cap_sizes:\n",
    "        fc_output = tf.layers.dense(cap_out, size,\n",
    "                                 kernel_initializer = initializer,\\\n",
    "                                    kernel_regularizer = cap_regularizer)\n",
    "        bd_out = tf.layers.dropout(fc_output, cap_p, training = training)\n",
    "        bn_out = tf.layers.batch_normalization(bd_out, axis = -1, training=training)\n",
    "        cap_out = tf.nn.relu(bn_out)#tf.nn.leaky_relu(bn_out, alpha=0.01)\n",
    "    \n",
    "    pred = tf.layers.dense(cap_out, 1, kernel_initializer=initializer, \n",
    "                              kernel_regularizer = cap_regularizer)[:,0]#,\n",
    "    return pred"
   ]
  },
  {
   "cell_type": "code",
   "execution_count": 25,
   "metadata": {
    "collapsed": true
   },
   "outputs": [],
   "source": [
    "def optimizer_init_fn(learning_rate = 1e-7):\n",
    "    return tf.train.AdamOptimizer(learning_rate)#, beta1=0.9, beta2=0.999, epsilon=1e-6)"
   ]
  },
  {
   "cell_type": "code",
   "execution_count": 26,
   "metadata": {
    "collapsed": true
   },
   "outputs": [],
   "source": [
    "from sklearn.metrics import r2_score, mean_squared_error"
   ]
  },
  {
   "cell_type": "code",
   "execution_count": 27,
   "metadata": {
    "collapsed": true
   },
   "outputs": [],
   "source": [
    "def check_accuracy(sess, val_data,batch_size, x, weights, preds, is_training=None):\n",
    "    val_x, val_y = val_data\n",
    "    perc_acc, scores = [],[]\n",
    "    for idx in xrange(0, val_x.shape[0], batch_size):\n",
    "        feed_dict = {x: val_x[idx:idx+batch_size],\n",
    "                     is_training: 0}\n",
    "        y_pred = sess.run(preds, feed_dict=feed_dict)\n",
    "        #print y_pred.shape, val_y[idx:idx+batch_size].shape\n",
    "        score = r2_score(val_y[idx:idx+batch_size], y_pred)\n",
    "        scores.append(score)\n",
    "        \n",
    "        perc_acc = np.mean(emu._y_std*np.abs(val_y[idx:idx+batch_size]-y_pred)/np.abs(emu._y_std*val_y[idx:idx+batch_size] + emu._y_mean) )\n",
    "\n",
    "        \n",
    "    print 'Val score: %.6f, %.2f %% Loss'%(np.mean(np.array(scores)), 100*np.mean(np.array(perc_acc)))"
   ]
  },
  {
   "cell_type": "code",
   "execution_count": null,
   "metadata": {
    "collapsed": true
   },
   "outputs": [],
   "source": [
    "device = '/device:GPU:0'\n",
    "#device = '/cpu:0'\n",
    "def train(model_init_fn, optimizer_init_fn,num_params, pretrain_data, train_data, val_data, hidden_sizes,\\\n",
    "               num_pretrain_epochs = 500, num_epochs=1000, batch_size = 200, l = 1e-6, p = 0.5, print_every=10):\n",
    "    tf.reset_default_graph()\n",
    "    pretrain = True\n",
    "    with tf.device(device):\n",
    "        # Construct the computational graph we will use to train the model. We\n",
    "        # use the model_init_fn to construct the model, declare placeholders for\n",
    "        # the data and labels\n",
    "        x = tf.placeholder(tf.float32, [None,num_params])\n",
    "        y = tf.placeholder(tf.float32, [None])\n",
    "        weights = tf.placeholder(tf.float32, [None])\n",
    "        \n",
    "        is_training = tf.placeholder(tf.bool, name='is_training')\n",
    "        \n",
    "        cap_input = model_init_fn(x, hidden_sizes, is_training, l = l, p=p)\n",
    "        \n",
    "        if pretrain:\n",
    "            preds = pretrain_cap(cap_input, hidden_sizes, is_training, l=l, p=p)\n",
    "        else:\n",
    "            preds = final_cap(cap_input, hidden_sizes, is_training, l=l, p=p)\n",
    "\n",
    "        # Compute the loss like we did in Part II\n",
    "        #loss = tf.reduce_mean(loss)\n",
    "        \n",
    "    with tf.device('/cpu:0'):\n",
    "        loss = tf.losses.mean_squared_error(labels=y,\\\n",
    "                   predictions=preds, weights = weights)#weights?\n",
    "        #loss = tf.losses.absolute_difference(labels=y, predictions=preds, weights = tf.abs(1.0/y))#weights?\n",
    "        pass\n",
    "    with tf.device(device):\n",
    "        optimizer = optimizer_init_fn()\n",
    "        update_ops = tf.get_collection(tf.GraphKeys.UPDATE_OPS)\n",
    "        with tf.control_dependencies(update_ops):\n",
    "            train_op = optimizer.minimize(loss)\n",
    "        \n",
    "    with tf.Session() as sess:\n",
    "        sess.run(tf.global_variables_initializer())\n",
    "        #t = 0\n",
    "        pretrain_x, pretrain_y = pretrain_data\n",
    "        rand_idxs = range(pretrain_x.shape[0])\n",
    "        for epoch in range(num_pretrain_epochs):\n",
    "            #print('Starting epoch %d' % epoch)\n",
    "            np.random.shuffle(rand_idxs)\n",
    "            losses = []\n",
    "            for idx in xrange(0, pretrain_x.shape[0], batch_size):\n",
    "                feed_dict = {x: pretrain_x[rand_idxs[idx:idx+batch_size]],\\\n",
    "                             y: pretrain_y[rand_idxs[idx:idx+batch_size]],\\\n",
    "                             weights: np.ones_like(pretrain_y[rand_idxs[idx:idx+batch_size]]),\\\n",
    "                             is_training:1}\n",
    "                loss_np, _ = sess.run([loss, train_op], feed_dict=feed_dict)\n",
    "                losses.append(loss_np)\n",
    "                \n",
    "            if epoch % print_every == 0:\n",
    "                loss_avg = np.mean(np.array(losses))\n",
    "                print('Epoch %d, loss = %e' % (epoch, loss_avg))\n",
    "                check_accuracy(sess, val_data, batch_size, x, weights, preds, is_training=is_training)\n",
    "        \n",
    "        pretrain = False \n",
    "        train_x, train_y, train_yerr = train_data\n",
    "        rand_idxs = range(train_x.shape[0])\n",
    "        for epoch in range(num_epochs):\n",
    "            #print('Starting epoch %d' % epoch)\n",
    "            \n",
    "            \n",
    "            np.random.shuffle(rand_idxs)\n",
    "            losses = []\n",
    "            for idx in xrange(0, train_x.shape[0], batch_size):\n",
    "                yerrbatch = train_yerr[rand_idxs[idx:idx+batch_size]]\n",
    "                _bs = yerrbatch.shape[0]\n",
    "                feed_dict = {x: train_x[rand_idxs[idx:idx+batch_size]],\\\n",
    "                             y: train_y[rand_idxs[idx:idx+batch_size]] + np.random.randn(_bs)*yerrbatch,\\\n",
    "                             weights: 1/yerrbatch,\\\n",
    "                             is_training:1}\n",
    "                loss_np, _ = sess.run([loss, train_op,], feed_dict=feed_dict)\n",
    "                losses.append(loss_np)\n",
    "                \n",
    "            if epoch % print_every == 0:\n",
    "                loss_avg = np.mean(np.array(losses))\n",
    "                print('Epoch %d, loss = %e' % (epoch, loss_avg))\n",
    "                check_accuracy(sess, val_data, batch_size, x, weights, preds, is_training=is_training)\n",
    "            #t += 1"
   ]
  },
  {
   "cell_type": "code",
   "execution_count": null,
   "metadata": {
    "collapsed": false,
    "scrolled": true
   },
   "outputs": [
    {
     "name": "stdout",
     "output_type": "stream",
     "text": [
      "Epoch 0, loss = 4.851408e+00\n",
      "Val score: -2.232738, 2692.53 % Loss\n",
      "Epoch 100, loss = 1.217454e+00\n",
      "Val score: 0.356224, 6462.37 % Loss\n",
      "Epoch 200, loss = 2.721347e-01\n",
      "Val score: -0.410839, 10095.98 % Loss\n",
      "Epoch 300, loss = 1.949713e-01\n",
      "Val score: -0.805621, 10479.64 % Loss\n",
      "Epoch 400, loss = 1.506267e-01\n",
      "Val score: -1.104694, 10732.21 % Loss\n",
      "Epoch 0, loss = 5.480755e+02\n",
      "Val score: 0.394571, 3771.28 % Loss\n",
      "Epoch 100, loss = 3.736455e+01\n",
      "Val score: 0.898391, 1013.44 % Loss\n"
     ]
    }
   ],
   "source": [
    "train(novel_fc, optimizer_init_fn, x_train.shape[1],\\\n",
    "           (zx, zy), (x_train, y_train, yerr_train), (x_test, y_test),\\\n",
    "           [(100,100), (200,100,200), (500,100)], num_pretrain_epochs = 500,  num_epochs= int(1e3),\\\n",
    "           batch_size = 200, l = (1e-6, 1e-8, 1e-8), p = (0.333, 0.1, 0.1),\\\n",
    "           print_every = 100)"
   ]
  },
  {
   "cell_type": "code",
   "execution_count": null,
   "metadata": {
    "collapsed": true
   },
   "outputs": [],
   "source": [
    "np.abs(emu.goodness_of_fit(training_file, statistic = 'log_frac')).mean()"
   ]
  },
  {
   "cell_type": "code",
   "execution_count": null,
   "metadata": {
    "collapsed": true
   },
   "outputs": [],
   "source": [
    "np.abs(emu.goodness_of_fit(training_file, statistic = 'frac')).mean()"
   ]
  },
  {
   "cell_type": "code",
   "execution_count": null,
   "metadata": {
    "collapsed": true
   },
   "outputs": [],
   "source": [
    "fit_idxs = np.argsort(gof.mean(axis = 1))"
   ]
  },
  {
   "cell_type": "code",
   "execution_count": null,
   "metadata": {
    "collapsed": true
   },
   "outputs": [],
   "source": [
    "emu.goodness_of_fit(training_file).mean()#, statistic = 'log_frac')).mean()"
   ]
  },
  {
   "cell_type": "code",
   "execution_count": null,
   "metadata": {
    "collapsed": true
   },
   "outputs": [],
   "source": [
    "model = emu._emulator"
   ]
  },
  {
   "cell_type": "code",
   "execution_count": null,
   "metadata": {
    "collapsed": true
   },
   "outputs": [],
   "source": [
    "ypred = model.predict(emu.x)"
   ]
  },
  {
   "cell_type": "code",
   "execution_count": null,
   "metadata": {
    "collapsed": true
   },
   "outputs": [],
   "source": [
    "plt.hist( np.log10( (emu._y_std+1e-5)*np.abs(ypred-emu.y)/np.abs((emu._y_std+1e-5)*emu.y+emu._y_mean) ))"
   ]
  },
  {
   "cell_type": "code",
   "execution_count": null,
   "metadata": {
    "collapsed": true
   },
   "outputs": [],
   "source": [
    "( (emu._y_std+1e-5)*np.abs(ypred-emu.y)/np.abs((emu._y_std+1e-5)*emu.y+emu._y_mean) ).mean()"
   ]
  },
  {
   "cell_type": "code",
   "execution_count": null,
   "metadata": {
    "collapsed": true
   },
   "outputs": [],
   "source": [
    "emu._y_mean, emu._y_std"
   ]
  },
  {
   "cell_type": "code",
   "execution_count": null,
   "metadata": {
    "collapsed": true,
    "scrolled": false
   },
   "outputs": [],
   "source": [
    "for idx in fit_idxs[:10]:\n",
    "    print gof[idx].mean()\n",
    "    print (ypred[idx*emu.n_bins:(idx+1)*emu.n_bins]-emu.y[idx*emu.n_bins:(idx+1)*emu.n_bins])/emu.y[idx*emu.n_bins:(idx+1)*emu.n_bins]\n",
    "    plt.plot(emu.scale_bin_centers, ypred[idx*emu.n_bins:(idx+1)*emu.n_bins], label = 'Emu')\n",
    "    plt.plot(emu.scale_bin_centers, emu.y[idx*emu.n_bins:(idx+1)*emu.n_bins], label = 'True')\n",
    "    plt.legend(loc='best')\n",
    "    plt.xscale('log')\n",
    "    plt.show()"
   ]
  },
  {
   "cell_type": "code",
   "execution_count": null,
   "metadata": {
    "collapsed": true
   },
   "outputs": [],
   "source": [
    "print dict(zip(emu.get_param_names(), emu.x[8*emu.n_bins, :]*emu._x_std+emu._x_mean))"
   ]
  },
  {
   "cell_type": "code",
   "execution_count": null,
   "metadata": {
    "collapsed": true
   },
   "outputs": [],
   "source": [
    "emu.get_param_names()"
   ]
  },
  {
   "cell_type": "raw",
   "metadata": {},
   "source": [
    "#print emu.x.shape\n",
    "#print emu.downsample_x.shape\n",
    "if hasattr(emu, \"_emulators\"):\n",
    "    print emu._emulators[0]._x.shape\n",
    "else:\n",
    "    print emu._emulator._x.shape"
   ]
  },
  {
   "cell_type": "code",
   "execution_count": null,
   "metadata": {
    "collapsed": true
   },
   "outputs": [],
   "source": [
    "emu._ordered_params"
   ]
  },
  {
   "cell_type": "raw",
   "metadata": {},
   "source": [
    "x, y, y_pred = emu.goodness_of_fit(training_file, statistic = 'log_frac')"
   ]
  },
  {
   "cell_type": "raw",
   "metadata": {},
   "source": [
    "x, y, y_pred"
   ]
  },
  {
   "cell_type": "raw",
   "metadata": {},
   "source": [
    "N = 25\n",
    "for _y, yp in zip(y[:N], y_pred[:N]):\n",
    "    #plt.plot(emu.scale_bin_centers ,  (_y - yp)/yp ,alpha = 0.3, color = 'b')\n",
    "    \n",
    "    plt.plot(emu.scale_bin_centers, _y, alpha = 0.3, color = 'b')\n",
    "    plt.plot(emu.scale_bin_centers, yp, alpha = 0.3, color = 'r')\n",
    "    \n",
    "plt.loglog();"
   ]
  },
  {
   "cell_type": "raw",
   "metadata": {},
   "source": [
    "%%timeit\n",
    "#truth_file = '/u/ki/swmclau2/des/PearceRedMagicWpCosmoTest.hdf5'\n",
    "gof = emu.goodness_of_fit(training_file, N = 100, statistic = 'log_frac')"
   ]
  },
  {
   "cell_type": "code",
   "execution_count": null,
   "metadata": {
    "collapsed": true
   },
   "outputs": [],
   "source": [
    "gof = emu.goodness_of_fit(training_file, statistic = 'frac')\n",
    "print gof.mean()"
   ]
  },
  {
   "cell_type": "code",
   "execution_count": null,
   "metadata": {
    "collapsed": true,
    "scrolled": true
   },
   "outputs": [],
   "source": [
    "for row in gof:\n",
    "    print row"
   ]
  },
  {
   "cell_type": "code",
   "execution_count": null,
   "metadata": {
    "collapsed": true
   },
   "outputs": [],
   "source": [
    "gof = emu.goodness_of_fit(training_file, statistic = 'frac')\n",
    "print gof.mean()"
   ]
  },
  {
   "cell_type": "code",
   "execution_count": null,
   "metadata": {
    "collapsed": true
   },
   "outputs": [],
   "source": [
    "model = emu._emulator"
   ]
  },
  {
   "cell_type": "code",
   "execution_count": null,
   "metadata": {
    "collapsed": true
   },
   "outputs": [],
   "source": [
    "model.score(emu.x, emu.y)"
   ]
  },
  {
   "cell_type": "code",
   "execution_count": null,
   "metadata": {
    "collapsed": true
   },
   "outputs": [],
   "source": [
    "ypred = model.predict(emu.x)\n",
    "\n",
    "np.mean(np.abs(ypred-emu.y)/emu.y)"
   ]
  },
  {
   "cell_type": "code",
   "execution_count": null,
   "metadata": {
    "collapsed": true
   },
   "outputs": [],
   "source": [
    "plt.plot(emu.scale_bin_centers, np.abs(gof.mean(axis = 0)) )\n",
    "plt.plot(emu.scale_bin_centers, np.ones_like(emu.scale_bin_centers)*0.01)\n",
    "plt.plot(emu.scale_bin_centers, np.ones_like(emu.scale_bin_centers)*0.05)\n",
    "plt.plot(emu.scale_bin_centers, np.ones_like(emu.scale_bin_centers)*0.1)\n",
    "\n",
    "\n",
    "plt.loglog();"
   ]
  },
  {
   "cell_type": "code",
   "execution_count": null,
   "metadata": {
    "collapsed": true
   },
   "outputs": [],
   "source": [
    "plt.plot(emu.scale_bin_centers, np.abs(gof.T),alpha = 0.1, color = 'b')\n",
    "plt.plot(emu.scale_bin_centers, np.ones_like(emu.scale_bin_centers)*0.01, lw = 2, color = 'k')\n",
    "plt.loglog();"
   ]
  },
  {
   "cell_type": "code",
   "execution_count": null,
   "metadata": {
    "collapsed": true
   },
   "outputs": [],
   "source": [
    "gof[:,i].shape"
   ]
  },
  {
   "cell_type": "code",
   "execution_count": null,
   "metadata": {
    "collapsed": true
   },
   "outputs": [],
   "source": [
    "for i in xrange(gof.shape[1]):\n",
    "    plt.hist(np.log10(gof[:, i]), label = str(i), alpha = 0.2);\n",
    "    \n",
    "plt.legend(loc='best')\n",
    "plt.show()"
   ]
  },
  {
   "cell_type": "code",
   "execution_count": null,
   "metadata": {
    "collapsed": true
   },
   "outputs": [],
   "source": []
  }
 ],
 "metadata": {
  "kernelspec": {
   "display_name": "Python [default]",
   "language": "python",
   "name": "python2"
  },
  "language_info": {
   "codemirror_mode": {
    "name": "ipython",
    "version": 2
   },
   "file_extension": ".py",
   "mimetype": "text/x-python",
   "name": "python",
   "nbconvert_exporter": "python",
   "pygments_lexer": "ipython2",
   "version": "2.7.13"
  }
 },
 "nbformat": 4,
 "nbformat_minor": 1
}

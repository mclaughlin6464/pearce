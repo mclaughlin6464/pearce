{
 "cells": [
  {
   "cell_type": "markdown",
   "metadata": {},
   "source": [
    "Given that we do not appear to have access to the Minerva sims, I'm going to compute covariances from the test boxes. I'm gonna start by computing a separate one for each HOD and Cosmology used, across realizations, and convince myself they don't vary much. "
   ]
  },
  {
   "cell_type": "code",
   "execution_count": 15,
   "metadata": {},
   "outputs": [],
   "source": [
    "from pearce.mocks.kittens import TestBox\n",
    "from pearce.mocks import tpcf_subregions\n",
    "from halotools.mock_observables import tpcf_jackknife\n",
    "import numpy as np\n",
    "from collections import OrderedDict\n",
    "from time import time\n",
    "from scipy.optimize import minimize_scalar\n",
    "import yaml"
   ]
  },
  {
   "cell_type": "code",
   "execution_count": 2,
   "metadata": {
    "collapsed": true
   },
   "outputs": [],
   "source": [
    "import matplotlib\n",
    "#matplotlib.use('Agg')\n",
    "from matplotlib import pyplot as plt\n",
    "%matplotlib inline\n",
    "import seaborn as sns\n",
    "sns.set()"
   ]
  },
  {
   "cell_type": "code",
   "execution_count": 5,
   "metadata": {
    "collapsed": true
   },
   "outputs": [],
   "source": [
    "emu_config = '/home/users/swmclau2/scratch/xi_gg_zheng07_cosmo_v3/config.yaml'"
   ]
  },
  {
   "cell_type": "code",
   "execution_count": 6,
   "metadata": {},
   "outputs": [],
   "source": [
    "with open(emu_config, 'r') as yamlfile:\n",
    "    cfg = yaml.load(yamlfile)"
   ]
  },
  {
   "cell_type": "code",
   "execution_count": 8,
   "metadata": {},
   "outputs": [
    {
     "data": {
      "text/plain": [
       "{'HOD': {'fixed_nd': '5e-4',\n",
       "  'min_ptcl': 100,\n",
       "  'model': 'zheng07',\n",
       "  'num_hods': 1000,\n",
       "  'ordered_params': {'alpha': [0.7, 1.3],\n",
       "   'logM0': [12.6, 13.6],\n",
       "   'logM1': [13.7, 14.7],\n",
       "   'logMmin': [12.0, 16.0],\n",
       "   'sigma_logM': [0.05, 0.5]},\n",
       "  'system': 'sherlock'},\n",
       " 'computation': {'filename': '/home/users/swmclau2/scratch/xi_gg_zheng07_cosmo_v3/PearceXiggCosmo.hdf5',\n",
       "  'max_time': 6,\n",
       "  'n_jobs': 800,\n",
       "  'overwrite': True,\n",
       "  'queue_skipper': True,\n",
       "  'system': 'sherlock'},\n",
       " 'cosmology': {'boxno': '0:40',\n",
       "  'particles': False,\n",
       "  'scale_factors': 1.0,\n",
       "  'simname': 'trainingbox',\n",
       "  'system': 'sherlock'},\n",
       " 'observation': {'bins': [0.07943282,\n",
       "   0.11220185,\n",
       "   0.15848932,\n",
       "   0.22387211,\n",
       "   0.31622777,\n",
       "   0.44668359,\n",
       "   0.63095734,\n",
       "   0.89125094,\n",
       "   1.25892541,\n",
       "   1.77827941,\n",
       "   2.51188643,\n",
       "   3.54813389,\n",
       "   5.01187234,\n",
       "   7.07945784,\n",
       "   10.0,\n",
       "   14.12537545,\n",
       "   19.95262315,\n",
       "   28.18382931,\n",
       "   39.81071706],\n",
       "  'log_obs': True,\n",
       "  'n_repops': 20,\n",
       "  'obs': 'xi'}}"
      ]
     },
     "execution_count": 8,
     "metadata": {},
     "output_type": "execute_result"
    }
   ],
   "source": [
    "cfg"
   ]
  },
  {
   "cell_type": "code",
   "execution_count": 9,
   "metadata": {
    "collapsed": true
   },
   "outputs": [],
   "source": [
    "nd = cfg['HOD']['fixed_nd']\n",
    "min_ptcl = cfg['HOD']['min_ptcl']\n",
    "r_bins = np.array(cfg['observation']['bins'])\n",
    "logMmin_bounds = cfg['HOD']['ordered_params']['logMmin']"
   ]
  },
  {
   "cell_type": "code",
   "execution_count": 10,
   "metadata": {
    "collapsed": true
   },
   "outputs": [],
   "source": [
    "hod_param_ranges =  cfg['HOD']['ordered_params']\n",
    "del hod_param_ranges['logMmin']"
   ]
  },
  {
   "cell_type": "code",
   "execution_count": 11,
   "metadata": {
    "collapsed": true
   },
   "outputs": [],
   "source": [
    "def make_LHC(ordered_params, N, seed = None):\n",
    "\n",
    "    if seed is None:\n",
    "        seed = int(time())\n",
    "    np.random.seed(seed)\n",
    "\n",
    "    points = []\n",
    "    # by linspacing each parameter and shuffling, I ensure there is only one point in each row, in each dimension.\n",
    "    for plow, phigh in ordered_params.itervalues():\n",
    "        point = np.linspace(plow, phigh, num=N)\n",
    "        np.random.shuffle(point)  # makes the cube random.\n",
    "        points.append(point)\n",
    "    return np.stack(points).T"
   ]
  },
  {
   "cell_type": "code",
   "execution_count": 12,
   "metadata": {
    "collapsed": true
   },
   "outputs": [],
   "source": [
    "def add_logMmin(hod_params, cat):\n",
    "\n",
    "    hod_params['logMmin'] = 13.0 #initial guess\n",
    "    #cat.populate(hod_params) #may be overkill, but will ensure params are written everywhere\n",
    "    def func(logMmin, hod_params):\n",
    "        hod_params.update({'logMmin':logMmin}) \n",
    "        return (cat.calc_analytic_nd(hod_params) - nd)**2\n",
    "\n",
    "    #res = minimize_scalar(func, bounds = logMmin_bounds, args = (hod_params,), options = {'maxiter':100}, method = 'Bounded')\n",
    "\n",
    "    # assuming this doens't fail\n",
    "    #print 'logMmin', res.x\n",
    "    hod_params['logMmin'] = 15.0#res.x"
   ]
  },
  {
   "cell_type": "code",
   "execution_count": 13,
   "metadata": {
    "collapsed": true
   },
   "outputs": [],
   "source": [
    "N = 10\n",
    "LHC = make_LHC(hod_param_ranges, N)\n",
    "hod_dicts = [dict(zip(hod_param_ranges.keys(), vals)) for vals in LHC]"
   ]
  },
  {
   "cell_type": "code",
   "execution_count": 24,
   "metadata": {},
   "outputs": [
    {
     "name": "stdout",
     "output_type": "stream",
     "text": [
      "**********\n",
      "0 0 0\n"
     ]
    },
    {
     "ename": "ValueError",
     "evalue": "When calculating the two-point function, there was at least one \nseparation bin with zero RR pairs. Since the ``Landy-Szalay`` estimator you chose \ndivides by RR, you will have at least one NaN returned value.\nMost likely, the innermost separation bin is the problem.\nTry increasing the number of randoms and/or using broader bins.\nTo estimate the number of required randoms, the following expression \nfor the expected number of pairs inside a sphere of radius ``r`` may be useful:\n\n<Npairs> = (Nran_tot)*(4pi/3)*(r/Lbox)^3 \n\n",
     "output_type": "error",
     "traceback": [
      "\u001b[0;31m\u001b[0m",
      "\u001b[0;31mValueError\u001b[0mTraceback (most recent call last)",
      "\u001b[0;32m<ipython-input-24-58a918d205b3>\u001b[0m in \u001b[0;36m<module>\u001b[0;34m()\u001b[0m\n\u001b[1;32m     12\u001b[0m             \u001b[0madd_logMmin\u001b[0m\u001b[0;34m(\u001b[0m\u001b[0mhod_params\u001b[0m\u001b[0;34m,\u001b[0m \u001b[0mcat\u001b[0m\u001b[0;34m)\u001b[0m\u001b[0;34m\u001b[0m\u001b[0m\n\u001b[1;32m     13\u001b[0m             \u001b[0mcat\u001b[0m\u001b[0;34m.\u001b[0m\u001b[0mpopulate\u001b[0m\u001b[0;34m(\u001b[0m\u001b[0mhod_params\u001b[0m\u001b[0;34m)\u001b[0m\u001b[0;34m\u001b[0m\u001b[0m\n\u001b[0;32m---> 14\u001b[0;31m             \u001b[0m_\u001b[0m\u001b[0;34m,\u001b[0m \u001b[0mmat\u001b[0m \u001b[0;34m=\u001b[0m \u001b[0mcat\u001b[0m\u001b[0;34m.\u001b[0m\u001b[0mcalc_xi\u001b[0m\u001b[0;34m(\u001b[0m\u001b[0mr_bins\u001b[0m\u001b[0;34m,\u001b[0m \u001b[0mdo_jackknife\u001b[0m\u001b[0;34m=\u001b[0m\u001b[0mTrue\u001b[0m\u001b[0;34m,\u001b[0m \u001b[0mjk_args\u001b[0m\u001b[0;34m=\u001b[0m \u001b[0;34m{\u001b[0m\u001b[0;34m'n_rands'\u001b[0m\u001b[0;34m:\u001b[0m\u001b[0;36m20\u001b[0m\u001b[0;34m,\u001b[0m \u001b[0;34m'n_sub'\u001b[0m\u001b[0;34m:\u001b[0m\u001b[0;36m5\u001b[0m\u001b[0;34m}\u001b[0m\u001b[0;34m)\u001b[0m\u001b[0;34m\u001b[0m\u001b[0m\n\u001b[0m\u001b[1;32m     15\u001b[0m             \u001b[0mcov_mats\u001b[0m\u001b[0;34m[\u001b[0m\u001b[0mboxno\u001b[0m\u001b[0;34m,\u001b[0m \u001b[0mhod_idx\u001b[0m\u001b[0;34m,\u001b[0m \u001b[0mrealization\u001b[0m\u001b[0;34m]\u001b[0m \u001b[0;34m=\u001b[0m \u001b[0mmat\u001b[0m\u001b[0;34m\u001b[0m\u001b[0m\n",
      "\u001b[0;32m/home/users/swmclau2/.local/lib/python2.7/site-packages/pearce/mocks/cat.pyc\u001b[0m in \u001b[0;36m_func\u001b[0;34m(self, *args, **kwargs)\u001b[0m\n\u001b[1;32m     81\u001b[0m                     raise AssertionError(\"The function you called requires the loading of particles, but the catalog loaded\\\n\u001b[1;32m     82\u001b[0m                      doesn't have a particle table. Please try a different catalog\")\n\u001b[0;32m---> 83\u001b[0;31m             \u001b[0;32mreturn\u001b[0m \u001b[0mfunc\u001b[0m\u001b[0;34m(\u001b[0m\u001b[0mself\u001b[0m\u001b[0;34m,\u001b[0m \u001b[0;34m*\u001b[0m\u001b[0margs\u001b[0m\u001b[0;34m,\u001b[0m \u001b[0;34m**\u001b[0m\u001b[0mkwargs\u001b[0m\u001b[0;34m)\u001b[0m\u001b[0;34m\u001b[0m\u001b[0m\n\u001b[0m\u001b[1;32m     84\u001b[0m \u001b[0;34m\u001b[0m\u001b[0m\n\u001b[1;32m     85\u001b[0m         \u001b[0;31m# store the arguments, as the decorator destroys the spec\u001b[0m\u001b[0;34m\u001b[0m\u001b[0;34m\u001b[0m\u001b[0m\n",
      "\u001b[0;32m/home/users/swmclau2/.local/lib/python2.7/site-packages/pearce/mocks/cat.pyc\u001b[0m in \u001b[0;36mcalc_xi\u001b[0;34m(self, rbins, n_cores, do_jackknife, use_corrfunc, jk_args, halo)\u001b[0m\n\u001b[1;32m    843\u001b[0m                                                 3)) * self.Lbox / self.h  # Solution to NaNs: Just fuck me up with randoms\n\u001b[1;32m    844\u001b[0m                     xi_all, xi_cov = tpcf_jackknife(pos / self.h, randoms, rbins, period=self.Lbox / self.h,\n\u001b[0;32m--> 845\u001b[0;31m                                                 num_threads=n_cores, Nsub=n_sub, estimator='Landy-Szalay')\n\u001b[0m\u001b[1;32m    846\u001b[0m             \u001b[0;32melse\u001b[0m\u001b[0;34m:\u001b[0m\u001b[0;34m\u001b[0m\u001b[0m\n\u001b[1;32m    847\u001b[0m                 xi_all = tpcf(pos / self.h, rbins, period=self.Lbox / self.h, num_threads=n_cores,\n",
      "\u001b[0;32m/home/users/swmclau2/.local/lib/python2.7/site-packages/halotools/mock_observables/two_point_clustering/tpcf_jackknife.pyc\u001b[0m in \u001b[0;36mtpcf_jackknife\u001b[0;34m(sample1, randoms, rbins, Nsub, sample2, period, do_auto, do_cross, estimator, num_threads, seed)\u001b[0m\n\u001b[1;32m    280\u001b[0m \u001b[0;34m\u001b[0m\u001b[0m\n\u001b[1;32m    281\u001b[0m     \u001b[0;31m# calculate the correlation function for the full sample\u001b[0m\u001b[0;34m\u001b[0m\u001b[0;34m\u001b[0m\u001b[0m\n\u001b[0;32m--> 282\u001b[0;31m     \u001b[0mxi_11_full\u001b[0m \u001b[0;34m=\u001b[0m \u001b[0m_TP_estimator\u001b[0m\u001b[0;34m(\u001b[0m\u001b[0mD1D1_full\u001b[0m\u001b[0;34m,\u001b[0m \u001b[0mD1R_full\u001b[0m\u001b[0;34m,\u001b[0m \u001b[0mRR_full\u001b[0m\u001b[0;34m,\u001b[0m \u001b[0mN1\u001b[0m\u001b[0;34m,\u001b[0m \u001b[0mN1\u001b[0m\u001b[0;34m,\u001b[0m \u001b[0mNR\u001b[0m\u001b[0;34m,\u001b[0m \u001b[0mNR\u001b[0m\u001b[0;34m,\u001b[0m \u001b[0mestimator\u001b[0m\u001b[0;34m)\u001b[0m\u001b[0;34m\u001b[0m\u001b[0m\n\u001b[0m\u001b[1;32m    283\u001b[0m     \u001b[0mxi_12_full\u001b[0m \u001b[0;34m=\u001b[0m \u001b[0m_TP_estimator\u001b[0m\u001b[0;34m(\u001b[0m\u001b[0mD1D2_full\u001b[0m\u001b[0;34m,\u001b[0m \u001b[0mD1R_full\u001b[0m\u001b[0;34m,\u001b[0m \u001b[0mRR_full\u001b[0m\u001b[0;34m,\u001b[0m \u001b[0mN1\u001b[0m\u001b[0;34m,\u001b[0m \u001b[0mN2\u001b[0m\u001b[0;34m,\u001b[0m \u001b[0mNR\u001b[0m\u001b[0;34m,\u001b[0m \u001b[0mNR\u001b[0m\u001b[0;34m,\u001b[0m \u001b[0mestimator\u001b[0m\u001b[0;34m)\u001b[0m\u001b[0;34m\u001b[0m\u001b[0m\n\u001b[1;32m    284\u001b[0m     \u001b[0mxi_22_full\u001b[0m \u001b[0;34m=\u001b[0m \u001b[0m_TP_estimator\u001b[0m\u001b[0;34m(\u001b[0m\u001b[0mD2D2_full\u001b[0m\u001b[0;34m,\u001b[0m \u001b[0mD2R_full\u001b[0m\u001b[0;34m,\u001b[0m \u001b[0mRR_full\u001b[0m\u001b[0;34m,\u001b[0m \u001b[0mN2\u001b[0m\u001b[0;34m,\u001b[0m \u001b[0mN2\u001b[0m\u001b[0;34m,\u001b[0m \u001b[0mNR\u001b[0m\u001b[0;34m,\u001b[0m \u001b[0mNR\u001b[0m\u001b[0;34m,\u001b[0m \u001b[0mestimator\u001b[0m\u001b[0;34m)\u001b[0m\u001b[0;34m\u001b[0m\u001b[0m\n",
      "\u001b[0;32m/home/users/swmclau2/.local/lib/python2.7/site-packages/halotools/mock_observables/two_point_clustering/tpcf_estimators.pyc\u001b[0m in \u001b[0;36m_TP_estimator\u001b[0;34m(DD, DR, RR, ND1, ND2, NR1, NR2, estimator)\u001b[0m\n\u001b[1;32m     34\u001b[0m             \u001b[0;32mreturn\u001b[0m \u001b[0mx\u001b[0m\u001b[0;34m*\u001b[0m\u001b[0my\u001b[0m\u001b[0;34m\u001b[0m\u001b[0m\n\u001b[1;32m     35\u001b[0m \u001b[0;34m\u001b[0m\u001b[0m\n\u001b[0;32m---> 36\u001b[0;31m     \u001b[0m_test_for_zero_division\u001b[0m\u001b[0;34m(\u001b[0m\u001b[0mDD\u001b[0m\u001b[0;34m,\u001b[0m \u001b[0mDR\u001b[0m\u001b[0;34m,\u001b[0m \u001b[0mRR\u001b[0m\u001b[0;34m,\u001b[0m \u001b[0mND1\u001b[0m\u001b[0;34m,\u001b[0m \u001b[0mND2\u001b[0m\u001b[0;34m,\u001b[0m \u001b[0mNR1\u001b[0m\u001b[0;34m,\u001b[0m \u001b[0mNR2\u001b[0m\u001b[0;34m,\u001b[0m \u001b[0mestimator\u001b[0m\u001b[0;34m)\u001b[0m\u001b[0;34m\u001b[0m\u001b[0m\n\u001b[0m\u001b[1;32m     37\u001b[0m \u001b[0;34m\u001b[0m\u001b[0m\n\u001b[1;32m     38\u001b[0m     \u001b[0;32mif\u001b[0m \u001b[0mestimator\u001b[0m \u001b[0;34m==\u001b[0m \u001b[0;34m'Natural'\u001b[0m\u001b[0;34m:\u001b[0m\u001b[0;34m\u001b[0m\u001b[0m\n",
      "\u001b[0;32m/home/users/swmclau2/.local/lib/python2.7/site-packages/halotools/mock_observables/two_point_clustering/tpcf_estimators.pyc\u001b[0m in \u001b[0;36m_test_for_zero_division\u001b[0;34m(DD, DR, RR, ND1, ND2, NR1, NR2, estimator)\u001b[0m\n\u001b[1;32m    119\u001b[0m     \u001b[0mestimators_dividing_by_rr\u001b[0m \u001b[0;34m=\u001b[0m \u001b[0;34m(\u001b[0m\u001b[0;34m'Natural'\u001b[0m\u001b[0;34m,\u001b[0m \u001b[0;34m'Davis-Peebles'\u001b[0m\u001b[0;34m,\u001b[0m \u001b[0;34m'Hewett'\u001b[0m\u001b[0;34m,\u001b[0m \u001b[0;34m'Landy-Szalay'\u001b[0m\u001b[0;34m)\u001b[0m\u001b[0;34m\u001b[0m\u001b[0m\n\u001b[1;32m    120\u001b[0m     \u001b[0;32mif\u001b[0m \u001b[0;34m(\u001b[0m\u001b[0mestimator\u001b[0m \u001b[0;32min\u001b[0m \u001b[0mestimators_dividing_by_rr\u001b[0m\u001b[0;34m)\u001b[0m \u001b[0;34m&\u001b[0m \u001b[0;34m(\u001b[0m\u001b[0mnp\u001b[0m\u001b[0;34m.\u001b[0m\u001b[0many\u001b[0m\u001b[0;34m(\u001b[0m\u001b[0mRR\u001b[0m \u001b[0;34m==\u001b[0m \u001b[0;36m0\u001b[0m\u001b[0;34m)\u001b[0m\u001b[0;34m)\u001b[0m\u001b[0;34m:\u001b[0m\u001b[0;34m\u001b[0m\u001b[0m\n\u001b[0;32m--> 121\u001b[0;31m         \u001b[0;32mraise\u001b[0m \u001b[0mValueError\u001b[0m\u001b[0;34m(\u001b[0m\u001b[0mzero_msg\u001b[0m\u001b[0;34m.\u001b[0m\u001b[0mformat\u001b[0m\u001b[0;34m(\u001b[0m\u001b[0;34m'RR'\u001b[0m\u001b[0;34m,\u001b[0m \u001b[0mestimator\u001b[0m\u001b[0;34m)\u001b[0m\u001b[0;34m)\u001b[0m\u001b[0;34m\u001b[0m\u001b[0m\n\u001b[0m\u001b[1;32m    122\u001b[0m \u001b[0;34m\u001b[0m\u001b[0m\n\u001b[1;32m    123\u001b[0m     \u001b[0mestimators_dividing_by_dr\u001b[0m \u001b[0;34m=\u001b[0m \u001b[0;34m(\u001b[0m\u001b[0;34m'Hamilton'\u001b[0m\u001b[0;34m,\u001b[0m \u001b[0;34m)\u001b[0m\u001b[0;34m\u001b[0m\u001b[0m\n",
      "\u001b[0;31mValueError\u001b[0m: When calculating the two-point function, there was at least one \nseparation bin with zero RR pairs. Since the ``Landy-Szalay`` estimator you chose \ndivides by RR, you will have at least one NaN returned value.\nMost likely, the innermost separation bin is the problem.\nTry increasing the number of randoms and/or using broader bins.\nTo estimate the number of required randoms, the following expression \nfor the expected number of pairs inside a sphere of radius ``r`` may be useful:\n\n<Npairs> = (Nran_tot)*(4pi/3)*(r/Lbox)^3 \n\n"
     ]
    }
   ],
   "source": [
    "cov_mats = np.zeros((7,N, 5, 2*len(r_bins)-2, 2*len(r_bins)-2))\n",
    "\n",
    "for boxno in xrange(7):\n",
    "    for realization in xrange(5):\n",
    "        print '*'*10\n",
    "        cat = TestBox(boxno = boxno, realization = realization, system = 'sherlock')\n",
    "        \n",
    "        cat.load(1.0, HOD = str('zheng07'), particles = True, downsample_factor = 1e-2)\n",
    "        \n",
    "        for hod_idx, hod_params in enumerate(hod_dicts):\n",
    "            print boxno, realization, hod_idx\n",
    "            add_logMmin(hod_params, cat)\n",
    "            cat.populate(hod_params)\n",
    "            _, mat = cat.calc_xi(r_bins, do_jackknife=True, jk_args= {'n_rands':20, 'n_sub':5})\n",
    "            cov_mats[boxno, hod_idx, realization] = mat\n"
   ]
  },
  {
   "cell_type": "code",
   "execution_count": 44,
   "metadata": {},
   "outputs": [
    {
     "data": {
      "text/plain": [
       "<matplotlib.image.AxesImage at 0x7f5fc9f36dd0>"
      ]
     },
     "execution_count": 44,
     "metadata": {},
     "output_type": "execute_result"
    },
    {
     "data": {
      "image/png": "[encoded data removed]",
      "text/plain": [
       "<matplotlib.figure.Figure at 0x7f5fc9fa9d50>"
      ]
     },
     "metadata": {},
     "output_type": "display_data"
    }
   ],
   "source": [
    "plt.imshow(np.log10(mat) )"
   ]
  },
  {
   "cell_type": "code",
   "execution_count": null,
   "metadata": {
    "collapsed": true
   },
   "outputs": [],
   "source": []
  }
 ],
 "metadata": {
  "kernelspec": {
   "display_name": "Python 2",
   "language": "python",
   "name": "python2"
  },
  "language_info": {
   "codemirror_mode": {
    "name": "ipython",
    "version": 2
   },
   "file_extension": ".py",
   "mimetype": "text/x-python",
   "name": "python",
   "nbconvert_exporter": "python",
   "pygments_lexer": "ipython2",
   "version": "2.7.13"
  }
 },
 "nbformat": 4,
 "nbformat_minor": 1
}

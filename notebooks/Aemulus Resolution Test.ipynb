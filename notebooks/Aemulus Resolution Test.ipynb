{
 "cells": [
  {
   "cell_type": "markdown",
   "metadata": {},
   "source": [
    "Comparing the resolution of Aemulus to MDPL2, since there seems to be inconsistanceis with the Delta Sigma measurements"
   ]
  },
  {
   "cell_type": "code",
   "execution_count": 1,
   "metadata": {},
   "outputs": [
    {
     "name": "stderr",
     "output_type": "stream",
     "text": [
      "/home/users/swmclau2/.local/lib/python2.7/site-packages/h5py/__init__.py:36: FutureWarning: Conversion of the second argument of issubdtype from `float` to `np.floating` is deprecated. In future, it will be treated as `np.float64 == np.dtype(float).type`.\n",
      "  from ._conv import register_converters as _register_converters\n"
     ]
    }
   ],
   "source": [
    "import numpy as np\n",
    "from pearce.emulator import LemonPepperWet"
   ]
  },
  {
   "cell_type": "code",
   "execution_count": 2,
   "metadata": {
    "collapsed": true
   },
   "outputs": [],
   "source": [
    "from GPy.kern import *"
   ]
  },
  {
   "cell_type": "code",
   "execution_count": 3,
   "metadata": {},
   "outputs": [],
   "source": [
    "%matplotlib inline\n",
    "from matplotlib import pyplot as plt"
   ]
  },
  {
   "cell_type": "code",
   "execution_count": 4,
   "metadata": {},
   "outputs": [],
   "source": [
    "mdpl2_xi_gm = np.load('/home/users/swmclau2/Git/pearce/bin/mock_measurements/HOD3mock_xi_gm.npy')"
   ]
  },
  {
   "cell_type": "code",
   "execution_count": 5,
   "metadata": {
    "collapsed": true
   },
   "outputs": [],
   "source": [
    "rbins = np.logspace(-1, 1.6, 19)\n",
    "rbc = (rbins[1:]+rbins[:-1])/2.0"
   ]
  },
  {
   "cell_type": "raw",
   "metadata": {},
   "source": [
    "cosmo_kernels = [#RBF(input_dim=7, ARD=True)]#+Bias(input_dim=7)]\n",
    "                 #Linear(input_dim=7, ARD=True) + RBF(input_dim=7, ARD=True) +Bias(input_dim=7),\n",
    "                 Matern32(input_dim=7, ARD=True)+RBF(input_dim=7, ARD=False) + Bias(input_dim=7)]\n",
    "\n",
    "\n",
    "HOD_kernels = [RBF(input_dim=7, ARD=True) + Bias(input_dim=5)]\n",
    "               #RBF(input_dim=HOD_params, ARD=True) + Linear(input_dim=HOD_params, ARD=True) + Bias(input_dim=HOD_params), \n",
    "               #Matern32(input_dim=HOD_params, ARD=True)+RBF(input_dim=HOD_params, ARD=True) + Bias(input_dim=HOD_params)]#, RBF(input_dim=HOD_params, ARD=True) + Matern32(input_dim=HOD_params, ARD=True)]\n",
    "\n",
    "\n",
    "radial_kernels = [RBF(input_dim=1, ARD=True) + Bias(input_dim=1)]\n"
   ]
  },
  {
   "cell_type": "raw",
   "metadata": {},
   "source": [
    "hyperparams = {'kernel': (cosmo_kernels[0], HOD_kernels[0], radial_kernels[0]) , \\\n",
    "                           'optimize':  True}"
   ]
  },
  {
   "cell_type": "code",
   "execution_count": 8,
   "metadata": {},
   "outputs": [
    {
     "name": "stderr",
     "output_type": "stream",
     "text": [
      " /home/users/swmclau2/.local/lib/python2.7/site-packages/GPy-1.9.9-py2.7-linux-x86_64.egg/GPy/models/gp_kronecker_gaussian_regression.py:82: RuntimeWarning:overflow encountered in multiply\n",
      " /share/software/user/open/py-numpy/1.14.3_py27/lib/python2.7/site-packages/numpy/core/_methods.py:32: RuntimeWarning:overflow encountered in reduce\n",
      " /home/users/swmclau2/.local/lib/python2.7/site-packages/GPy-1.9.9-py2.7-linux-x86_64.egg/GPy/models/gp_kronecker_gaussian_regression.py:114: RuntimeWarning:overflow encountered in square\n"
     ]
    },
    {
     "name": "stdout",
     "output_type": "stream",
     "text": [
      "Optimization restart 1/5, f = -4545810.57745\n",
      "Optimization restart 2/5, f = -4544084.92436\n",
      "Optimization restart 3/5, f = -4543878.79776\n",
      "Optimization restart 4/5, f = -4544527.89351\n",
      "Optimization restart 5/5, f = -4551640.70495\n"
     ]
    }
   ],
   "source": [
    "emu = LemonPepperWet('/scratch/users/swmclau2/xi_gm_zheng07/PearceXigmCosmo.hdf5',fixed_params = {'z':0.0})"
   ]
  },
  {
   "cell_type": "raw",
   "metadata": {},
   "source": [
    "emu.save_as_default_kernel()"
   ]
  },
  {
   "cell_type": "code",
   "execution_count": 9,
   "metadata": {},
   "outputs": [],
   "source": [
    "all_emu_xi_gm = emu.y+emu._y_mean"
   ]
  },
  {
   "cell_type": "code",
   "execution_count": 10,
   "metadata": {},
   "outputs": [
    {
     "data": {
      "image/png": "[encoded data removed]",
      "text/plain": [
       "<matplotlib.figure.Figure at 0x7f15118a2710>"
      ]
     },
     "metadata": {},
     "output_type": "display_data"
    }
   ],
   "source": [
    "plt.plot(rbc, mdpl2_xi_gm, label = '')\n",
    "plt.plot(rbc, (10**all_emu_xi_gm).mean(axis=(0,1)))\n",
    "plt.loglog();"
   ]
  },
  {
   "cell_type": "code",
   "execution_count": 11,
   "metadata": {
    "collapsed": true
   },
   "outputs": [],
   "source": [
    "h = 0.6777\n",
    "#cosmo_pnames = ['ombh2', 'omch2', 'w0', 'ns', 'H0', 'Neff', 'sigma8']\n",
    "#cosmo_true_vals = np.array([0.048206*h**2, 0.307115*h**2,\\\n",
    "#                            -1, 0.9667, \\\n",
    "#                        h*100, 3.046, 0.8228]) #mdpl2\n",
    "\n",
    "cosmo_true_vals = np.array([0.048206*h**2, 0.307115*h**2-0.048206*h**2,\\\n",
    "                            -1, 0.9667, 3.044,\\\n",
    "                        h*100, 3.046]) #mdpl2"
   ]
  },
  {
   "cell_type": "code",
   "execution_count": 12,
   "metadata": {},
   "outputs": [],
   "source": [
    "hod_true_vals = [0.0, 13.2, 0.2, 0.0, 14.2, 1.083, 1.0]"
   ]
  },
  {
   "cell_type": "code",
   "execution_count": 13,
   "metadata": {},
   "outputs": [],
   "source": [
    "true_param_dict = dict(zip(emu.get_param_names(), np.r_[cosmo_true_vals, hod_true_vals]))"
   ]
  },
  {
   "cell_type": "code",
   "execution_count": 19,
   "metadata": {},
   "outputs": [
    {
     "data": {
      "image/png": "[encoded data removed]",
      "text/plain": [
       "<matplotlib.figure.Figure at 0x7f15108cc790>"
      ]
     },
     "metadata": {},
     "output_type": "display_data"
    }
   ],
   "source": [
    "plt.plot(rbc, mdpl2_xi_gm, label = 'Sim')\n",
    "plt.plot(rbc, 10**emu.emulate_wrt_r(true_param_dict, r_bin_centers=rbc).squeeze(), label = 'Emu')\n",
    "plt.legend(loc='best')\n",
    "plt.loglog();"
   ]
  },
  {
   "cell_type": "code",
   "execution_count": 22,
   "metadata": {},
   "outputs": [
    {
     "data": {
      "image/png": "[encoded data removed]",
      "text/plain": [
       "<matplotlib.figure.Figure at 0x7f150f389050>"
      ]
     },
     "metadata": {},
     "output_type": "display_data"
    }
   ],
   "source": [
    "plt.plot(rbc, np.ones_like(mdpl2_xi_gm), label = 'Sim')\n",
    "plt.plot(rbc, (10**emu.emulate_wrt_r(true_param_dict, r_bin_centers=rbc).squeeze()/mdpl2_xi_gm), label = 'Emu')\n",
    "plt.legend(loc='best')\n",
    "plt.ylabel('xi_gm ratio')\n",
    "plt.xscale('log');"
   ]
  },
  {
   "cell_type": "code",
   "execution_count": 16,
   "metadata": {},
   "outputs": [
    {
     "data": {
      "text/plain": [
       "{'H0': 67.77,\n",
       " 'Neff': 3.046,\n",
       " 'alpha': 1.083,\n",
       " 'conc_gal_bias': 1.0,\n",
       " 'ln10As': 3.044,\n",
       " 'logM0': 13.2,\n",
       " 'logM1': 14.2,\n",
       " 'mean_occupation_centrals_assembias_corr1': 0.0,\n",
       " 'mean_occupation_satellites_assembias_corr1': 0.0,\n",
       " 'ns': 0.9667,\n",
       " 'ombh2': 0.022139921041739997,\n",
       " 'omch2': 0.11891102387661,\n",
       " 'sigma_logM': 0.2,\n",
       " 'w0': -1.0}"
      ]
     },
     "execution_count": 16,
     "metadata": {},
     "output_type": "execute_result"
    }
   ],
   "source": [
    "true_param_dict"
   ]
  },
  {
   "cell_type": "code",
   "execution_count": null,
   "metadata": {
    "collapsed": true
   },
   "outputs": [],
   "source": []
  }
 ],
 "metadata": {
  "kernelspec": {
   "display_name": "Python 2",
   "language": "python",
   "name": "python2"
  },
  "language_info": {
   "codemirror_mode": {
    "name": "ipython",
    "version": 2
   },
   "file_extension": ".py",
   "mimetype": "text/x-python",
   "name": "python",
   "nbconvert_exporter": "python",
   "pygments_lexer": "ipython2",
   "version": "2.7.13"
  }
 },
 "nbformat": 4,
 "nbformat_minor": 2
}

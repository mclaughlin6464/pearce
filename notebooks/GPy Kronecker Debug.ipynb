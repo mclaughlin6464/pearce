{
 "cells": [
  {
   "cell_type": "markdown",
   "metadata": {},
   "source": [
    "My kronecker regression is not passing tests and I can't figure out why. Gonna debug the test here. "
   ]
  },
  {
   "cell_type": "code",
   "execution_count": 1,
   "metadata": {
    "collapsed": true
   },
   "outputs": [],
   "source": [
    "%load_ext autoreload\n",
    "%autoreload 2"
   ]
  },
  {
   "cell_type": "code",
   "execution_count": 2,
   "metadata": {
    "collapsed": true
   },
   "outputs": [],
   "source": [
    "from __future__ import division\n",
    "\n",
    "import unittest\n",
    "import numpy as np\n",
    "import GPy"
   ]
  },
  {
   "cell_type": "code",
   "execution_count": 8,
   "metadata": {
    "collapsed": true
   },
   "outputs": [],
   "source": [
    "from matplotlib import pyplot as plt\n",
    "%matplotlib inline"
   ]
  },
  {
   "cell_type": "code",
   "execution_count": 3,
   "metadata": {},
   "outputs": [
    {
     "name": "stdout",
     "output_type": "stream",
     "text": [
      "Y (30, 20)\n",
      "Y (30, 30)\n",
      "Y (20, 20)\n",
      "Y (30, 20)\n",
      "Y (30, 30)\n",
      "Y (20, 20)\n",
      "\n",
      "Name : KGPR\n",
      "Objective : 892.252976548\n",
      "Number of Parameters : 5\n",
      "Number of Optimization Parameters : 5\n",
      "Updates : True\n",
      "Parameters:\n",
      "  \u001b[1mKGPR.                  \u001b[0;0m  |                value  |  constraints  |  priors\n",
      "  \u001b[1mrbf.variance           \u001b[0;0m  |   0.8468536004566632  |      +ve      |        \n",
      "  \u001b[1mrbf.lengthscale        \u001b[0;0m  |  0.09368631781879513  |      +ve      |        \n",
      "  \u001b[1mrbf_1.variance         \u001b[0;0m  |   0.8642490016685567  |      +ve      |        \n",
      "  \u001b[1mrbf_1.lengthscale      \u001b[0;0m  |   0.9865985656948761  |      +ve      |        \n",
      "  \u001b[1mGaussian_noise.variance\u001b[0;0m  |   0.8123004681155028  |      +ve      |        \n",
      "\n",
      "Name : GP regression\n",
      "Objective : 892.252975828\n",
      "Number of Parameters : 5\n",
      "Number of Optimization Parameters : 5\n",
      "Updates : True\n",
      "Parameters:\n",
      "  \u001b[1mGP_regression.         \u001b[0;0m  |                value  |  constraints  |  priors\n",
      "  \u001b[1mmul.rbf.variance       \u001b[0;0m  |   0.8468536004566632  |      +ve      |        \n",
      "  \u001b[1mmul.rbf.lengthscale    \u001b[0;0m  |  0.09368631781879513  |      +ve      |        \n",
      "  \u001b[1mmul.rbf_1.variance     \u001b[0;0m  |   0.8642490016685567  |      +ve      |        \n",
      "  \u001b[1mmul.rbf_1.lengthscale  \u001b[0;0m  |   0.9865985656948761  |      +ve      |        \n",
      "  \u001b[1mGaussian_noise.variance\u001b[0;0m  |   0.8123004681155028  |      +ve      |        \n",
      "-892.2529765476293 -892.2529758281815\n"
     ]
    }
   ],
   "source": [
    "np.random.seed(0)\n",
    "N1, N2 = 30, 20\n",
    "X1 = np.random.randn(N1, 1)\n",
    "X2 = np.random.randn(N2, 1)\n",
    "X1.sort(0); X2.sort(0)\n",
    "k1 = GPy.kern.RBF(1)  # + GPy.kern.White(1)\n",
    "k2 = GPy.kern.RBF(1)  # + GPy.kern.White(1)\n",
    "Y = np.random.randn(N1, N2)\n",
    "Y = Y - Y.mean(0)\n",
    "Y = Y / Y.std(0)\n",
    "m = GPy.models.GPKroneckerGaussianRegression(X1, X2, Y, k1, k2)\n",
    "\n",
    "# build the model the dumb way\n",
    "assert (N1 * N2 < 1000), \"too much data for standard GPs!\"\n",
    "yy, xx = np.meshgrid(X2, X1)\n",
    "Xgrid = np.vstack((xx.flatten(order='F'), yy.flatten(order='F'))).T\n",
    "kg = GPy.kern.RBF(1, active_dims=[0]) * GPy.kern.RBF(1, active_dims=[1])\n",
    "mm = GPy.models.GPRegression(Xgrid, Y.reshape(-1, 1, order='F'), kernel=kg)\n",
    "\n",
    "m.randomize()\n",
    "mm[:] = m[:]\n",
    "print m\n",
    "print mm\n",
    "\n",
    "print m.log_likelihood(), mm.log_likelihood()\n",
    "assert np.allclose(m.log_likelihood(), mm.log_likelihood())\n",
    "assert np.allclose(m.gradient, mm.gradient)\n",
    "X1test = np.random.randn(100, 1)\n",
    "X2test = np.random.randn(100, 1)\n",
    "mean1, var1 = m.predict(X1test, X2test)\n",
    "yy, xx = np.meshgrid(X2test, X1test)\n",
    "Xgrid = np.vstack((xx.flatten(order='F'), yy.flatten(order='F'))).T\n",
    "mean2, var2 = mm.predict(Xgrid)\n",
    "\n",
    "assert np.allclose(mean1, mean2) \n",
    "assert np.allclose(var1, var2) \n"
   ]
  },
  {
   "cell_type": "code",
   "execution_count": 4,
   "metadata": {
    "collapsed": true
   },
   "outputs": [],
   "source": [
    "from itertools import permutations"
   ]
  },
  {
   "cell_type": "code",
   "execution_count": 5,
   "metadata": {},
   "outputs": [
    {
     "name": "stdout",
     "output_type": "stream",
     "text": [
      "('x', 'y', 'z')\n",
      "('x', 'z', 'y')\n",
      "('y', 'x', 'z')\n",
      "('y', 'z', 'x')\n",
      "('z', 'x', 'y')\n",
      "('z', 'y', 'x')\n"
     ]
    }
   ],
   "source": [
    "for p in permutations(['x','y','z']):\n",
    "    print p"
   ]
  },
  {
   "cell_type": "code",
   "execution_count": 93,
   "metadata": {
    "collapsed": true
   },
   "outputs": [],
   "source": [
    "def get_full_kron_row(Xs):\n",
    "    Ks = []\n",
    "    for i,X in enumerate(Xs):\n",
    "        k = getattr(m, 'kern%d'%i)\n",
    "        K = k.K(X)\n",
    "        Ks.append(K)\n",
    "    \n",
    "    return reduce(np.kron, reversed(Ks))[0]"
   ]
  },
  {
   "cell_type": "code",
   "execution_count": 176,
   "metadata": {
    "scrolled": false
   },
   "outputs": [
    {
     "name": "stdout",
     "output_type": "stream",
     "text": [
      "Extension Test ******************************\n",
      "LL -1099.7367113886637 -1100.8769278230081\n",
      "False\n"
     ]
    },
    {
     "data": {
      "image/png": "[encoded data removed]",
      "text/plain": [
       "<matplotlib.figure.Figure at 0x7f7c29bbd150>"
      ]
     },
     "metadata": {},
     "output_type": "display_data"
    }
   ],
   "source": [
    "print 'Extension Test', '*'*30\n",
    "# test with additional kernels\n",
    "np.random.seed(0)\n",
    "N1, N2, N3 = 50,4,3\n",
    "X1 = np.random.randn(N1, 1)*3+1\n",
    "X2 = np.random.randn(N2, 1)\n",
    "X3 = np.random.randn(N3, 1)\n",
    "X1.sort(0); X2.sort(0); X3.sort(0)\n",
    "\n",
    "\n",
    "#k1 = GPy.kern.RBF(1, lengthscale=1)  # + GPy.kern.White(1)\n",
    "#k2 = GPy.kern.RBF(1, lengthscale=1)  # + GPy.kern.White(1)\n",
    "#k3 = GPy.kern.RBF(1, lengthscale=1)\n",
    "\n",
    "k1 = GPy.kern.Linear(1)\n",
    "k2 = GPy.kern.Linear(1)\n",
    "k3 = GPy.kern.Linear(1)\n",
    "\n",
    "Y = np.random.randn(N1, N2, N3)\n",
    "#Y = Y - Y.mean((0,1))\n",
    "#Y = Y / Y.std((0,1))\n",
    "\n",
    "m = GPy.models.GPKroneckerGaussianRegression(X1, X2, Y, k1, k2,\\\n",
    "                            additional_Xs = [X3],\\\n",
    "                            additional_kerns = [k3])\n",
    "\n",
    "\n",
    "\n",
    "# build the model the dumb way\n",
    "assert (N1 * N2 * N3 < 1000), \"too much data for standard GPs!\"\n",
    "zz, yy, xx = np.meshgrid(X3, X2, X1)\n",
    "\n",
    "\n",
    "Xgrid = np.vstack((zz.flatten(order='F'), xx.flatten(order='F'), yy.flatten(order='F'))).T\n",
    "\n",
    "\n",
    "kg = GPy.kern.Linear(1, active_dims=[0], ARD=True) * GPy.kern.Linear(1, active_dims=[1], ARD=True)\\\n",
    "* GPy.kern.Linear(1, active_dims=[2], ARD=True)\n",
    "mm = GPy.models.GPRegression(Xgrid, Y.reshape(-1, 1, order='F'), kernel=kg)\n",
    "# build the model the dumb way\n",
    "\n",
    "m.randomize()\n",
    "mm[:] = m[:]\n",
    "\n",
    "print'LL', m.log_likelihood(), mm.log_likelihood()#, mmm.log_likelihood()\n",
    "print np.allclose(m.log_likelihood(), mm.log_likelihood())\n",
    "#assert np.allclose(m.log_likelihood(), mm.log_likelihood())\n",
    "#assert np.allclose(m.gradient, mm.gradient)\n",
    "X1test = np.random.randn(2, 1)*3+1\n",
    "X2test = np.random.randn(2, 1)\n",
    "X3test = np.random.randn(2, 1)\n",
    "\n",
    "zz, yy, xx = np.meshgrid(X3test, X2test, X1test)\n",
    "\n",
    "Xtest = np.vstack((zz.flatten(order='F'), xx.flatten(order='F'), yy.flatten(order='F'))).T\n",
    "\n",
    "mean1, var1 = m.predict(X1test, X2test, additional_Xnews=[X3test])\n",
    "mean2, var2 = mm.predict(Xtest)\n",
    "\n",
    "plt.plot(mean1)\n",
    "\n",
    "plt.plot(mean2)\n",
    "#plt.yscale('log')\n",
    "plt.show()\n",
    "#print mean3[:5]\n",
    "#assert np.allclose(mean1, mean2) \n",
    "#assert np.allclose(var1, var2) \n"
   ]
  },
  {
   "cell_type": "code",
   "execution_count": null,
   "metadata": {
    "collapsed": true
   },
   "outputs": [],
   "source": []
  }
 ],
 "metadata": {
  "kernelspec": {
   "display_name": "Python 2",
   "language": "python",
   "name": "python2"
  },
  "language_info": {
   "codemirror_mode": {
    "name": "ipython",
    "version": 2
   },
   "file_extension": ".py",
   "mimetype": "text/x-python",
   "name": "python",
   "nbconvert_exporter": "python",
   "pygments_lexer": "ipython2",
   "version": "2.7.13"
  }
 },
 "nbformat": 4,
 "nbformat_minor": 2
}

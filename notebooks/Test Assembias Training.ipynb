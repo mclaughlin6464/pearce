{
 "cells": [
  {
   "cell_type": "markdown",
   "metadata": {},
   "source": [
    "My training of AB emus isn't working... going to explore"
   ]
  },
  {
   "cell_type": "code",
   "execution_count": 1,
   "metadata": {
    "collapsed": true
   },
   "outputs": [],
   "source": [
    "import matplotlib\n",
    "#matplotlib.use('Agg')\n",
    "from matplotlib import pyplot as plt\n",
    "%matplotlib inline\n",
    "import seaborn as sns\n",
    "sns.set()"
   ]
  },
  {
   "cell_type": "code",
   "execution_count": 2,
   "metadata": {
    "collapsed": true
   },
   "outputs": [],
   "source": [
    "import numpy as np\n",
    "from pearce.mocks.kittens import TrainingBox"
   ]
  },
  {
   "cell_type": "code",
   "execution_count": 3,
   "metadata": {
    "collapsed": true
   },
   "outputs": [],
   "source": [
    "cat = TrainingBox(boxno=0)"
   ]
  },
  {
   "cell_type": "code",
   "execution_count": 4,
   "metadata": {
    "collapsed": false
   },
   "outputs": [
    {
     "name": "stdout",
     "output_type": "stream",
     "text": [
      "hsabZheng07\n",
      "HOD: hsabZheng07\n"
     ]
    },
    {
     "name": "stderr",
     "output_type": "stream",
     "text": [
      "/u/ki/swmclau2/.local/lib/python2.7/site-packages/halotools-0.7.dev5005-py2.7-linux-x86_64.egg/halotools/empirical_models/factories/hod_model_factory.py:741: UserWarning: \n",
      "\n",
      "The param_dict key sigma_logM appears in more than one component model.\n",
      "This is permissible, but if you are seeing this message you should be sure you understand it.\n",
      "In particular, double-check that this parameter does not have conflicting meanings across components.\n",
      "\n",
      "If you do not wish to see this message every time you instantiate, \n",
      "simply attach a _suppress_repeated_param_warning attribute \n",
      "to any of your component models and set this variable to ``True``.\n",
      "\n",
      "  warn(msg % key)\n",
      "/u/ki/swmclau2/.local/lib/python2.7/site-packages/halotools-0.7.dev5005-py2.7-linux-x86_64.egg/halotools/empirical_models/factories/hod_model_factory.py:741: UserWarning: \n",
      "\n",
      "The param_dict key logMmin appears in more than one component model.\n",
      "This is permissible, but if you are seeing this message you should be sure you understand it.\n",
      "In particular, double-check that this parameter does not have conflicting meanings across components.\n",
      "\n",
      "If you do not wish to see this message every time you instantiate, \n",
      "simply attach a _suppress_repeated_param_warning attribute \n",
      "to any of your component models and set this variable to ``True``.\n",
      "\n",
      "  warn(msg % key)\n",
      "/u/ki/swmclau2/.local/lib/python2.7/site-packages/halotools-0.7.dev5005-py2.7-linux-x86_64.egg/halotools/empirical_models/factories/hod_model_factory.py:741: UserWarning: \n",
      "\n",
      "The param_dict key mean_occupation_centrals_assembias_param1 appears in more than one component model.\n",
      "This is permissible, but if you are seeing this message you should be sure you understand it.\n",
      "In particular, double-check that this parameter does not have conflicting meanings across components.\n",
      "\n",
      "If you do not wish to see this message every time you instantiate, \n",
      "simply attach a _suppress_repeated_param_warning attribute \n",
      "to any of your component models and set this variable to ``True``.\n",
      "\n",
      "  warn(msg % key)\n"
     ]
    }
   ],
   "source": [
    "cat.load(1.0, HOD = 'hsabZheng07', hod_kwargs={'sec_haloprop_key': 'halo_local_density_5'})"
   ]
  },
  {
   "cell_type": "code",
   "execution_count": 5,
   "metadata": {
    "collapsed": false
   },
   "outputs": [
    {
     "data": {
      "text/plain": [
       "1.6254820559053744"
      ]
     },
     "execution_count": 5,
     "metadata": {},
     "output_type": "execute_result"
    }
   ],
   "source": [
    "cat.halocat.halo_table['halo_local_density_10'].mean()"
   ]
  },
  {
   "cell_type": "code",
   "execution_count": 6,
   "metadata": {
    "collapsed": true
   },
   "outputs": [],
   "source": [
    "default_params = cat.model.param_dict\n",
    "default_params['mean_occupation_cens_assembias_param'] = 0.0\n",
    "default_params['mean_occupation_sats_assembias_param'] = 0.0"
   ]
  },
  {
   "cell_type": "code",
   "execution_count": 7,
   "metadata": {
    "collapsed": false
   },
   "outputs": [
    {
     "data": {
      "text/plain": [
       "'halo_local_density_5'"
      ]
     },
     "execution_count": 7,
     "metadata": {},
     "output_type": "execute_result"
    }
   ],
   "source": [
    "cat.model.model_dictionary['centrals_occupation'].sec_haloprop_key"
   ]
  },
  {
   "cell_type": "code",
   "execution_count": null,
   "metadata": {
    "collapsed": false
   },
   "outputs": [],
   "source": [
    "r_bins = np.logspace(-1.1, 1.6, 19)\n",
    "rbc = (r_bins[1:]+r_bins[:-1])/2.0"
   ]
  },
  {
   "cell_type": "code",
   "execution_count": null,
   "metadata": {
    "collapsed": false
   },
   "outputs": [
    {
     "name": "stderr",
     "output_type": "stream",
     "text": [
      "/u/ki/swmclau2/.local/lib/python2.7/site-packages/halotools-0.7.dev5005-py2.7-linux-x86_64.egg/halotools/empirical_models/phase_space_models/analytic_models/monte_carlo_helpers.py:205: FutureWarning: Using a non-tuple sequence for multidimensional indexing is deprecated; use `arr[tuple(seq)]` instead of `arr[seq]`. In the future this will be interpreted as an array index, `arr[np.array(seq)]`, which will result either in an error or a different result.\n",
      "  self.rad_prof_func_table_indices[digitized_param_list]\n",
      "/u/ki/swmclau2/.local/lib/python2.7/site-packages/halotools-0.7.dev5005-py2.7-linux-x86_64.egg/halotools/empirical_models/phase_space_models/analytic_models/monte_carlo_helpers.py:522: FutureWarning: Using a non-tuple sequence for multidimensional indexing is deprecated; use `arr[tuple(seq)]` instead of `arr[seq]`. In the future this will be interpreted as an array index, `arr[np.array(seq)]`, which will result either in an error or a different result.\n",
      "  self.rad_prof_func_table_indices[digitized_param_list]\n"
     ]
    },
    {
     "name": "stdout",
     "output_type": "stream",
     "text": [
      "0"
     ]
    }
   ],
   "source": [
    "default_y = np.zeros((18,))\n",
    "for i in xrange(10):\n",
    "    print i,\n",
    "    cat.populate(default_params)\n",
    "    default_y+= cat.calc_xi(r_bins)\n",
    "default_y/=10"
   ]
  },
  {
   "cell_type": "code",
   "execution_count": null,
   "metadata": {
    "collapsed": false
   },
   "outputs": [],
   "source": [
    "N = 3\n",
    "cmap = sns.color_palette(\"GnBu_d\", N)"
   ]
  },
  {
   "cell_type": "code",
   "execution_count": null,
   "metadata": {
    "collapsed": false
   },
   "outputs": [],
   "source": [
    "pname = 'mean_occupation_cens_assembias_param'\n",
    "l, h = -1.0, 1.0\n",
    "d = default_params.copy()\n",
    "for v, c in zip(np.linspace(l,h,N), cmap):\n",
    "    d[pname] = v\n",
    "    y = np.zeros((18,))\n",
    "    for i in xrange(10):\n",
    "        print i,\n",
    "        cat.populate(d)\n",
    "        y+= cat.calc_xi(r_bins)\n",
    "    y/=10\n",
    "    print \n",
    "    plt.plot(rbc, y/default_y, label = v, c = c)\n",
    "    \n",
    "plt.xscale('log')\n",
    "#plt.loglog()\n",
    "plt.legend(loc = 'best')\n",
    "plt.show();"
   ]
  },
  {
   "cell_type": "code",
   "execution_count": null,
   "metadata": {
    "collapsed": true
   },
   "outputs": [],
   "source": []
  }
 ],
 "metadata": {
  "kernelspec": {
   "display_name": "Python [conda env:hodemulator]",
   "language": "python",
   "name": "conda-env-hodemulator-py"
  },
  "language_info": {
   "codemirror_mode": {
    "name": "ipython",
    "version": 2
   },
   "file_extension": ".py",
   "mimetype": "text/x-python",
   "name": "python",
   "nbconvert_exporter": "python",
   "pygments_lexer": "ipython2",
   "version": "2.7.13"
  }
 },
 "nbformat": 4,
 "nbformat_minor": 0
}

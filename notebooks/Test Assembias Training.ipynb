{
 "cells": [
  {
   "cell_type": "markdown",
   "metadata": {},
   "source": [
    "My training of AB emus isn't working... going to explore"
   ]
  },
  {
   "cell_type": "code",
   "execution_count": 24,
   "metadata": {
    "collapsed": true
   },
   "outputs": [],
   "source": [
    "import matplotlib\n",
    "#matplotlib.use('Agg')\n",
    "from matplotlib import pyplot as plt\n",
    "%matplotlib inline\n",
    "import seaborn as sns\n",
    "sns.set()"
   ]
  },
  {
   "cell_type": "code",
   "execution_count": 25,
   "metadata": {},
   "outputs": [],
   "source": [
    "import numpy as np\n",
    "from pearce.mocks.kittens import TrainingBox, MDHR"
   ]
  },
  {
   "cell_type": "code",
   "execution_count": 26,
   "metadata": {
    "collapsed": true
   },
   "outputs": [],
   "source": [
    "cat = TrainingBox(boxno=0, system = 'sherlock')"
   ]
  },
  {
   "cell_type": "code",
   "execution_count": 27,
   "metadata": {},
   "outputs": [
    {
     "name": "stderr",
     "output_type": "stream",
     "text": [
      "/home/users/swmclau2/.local/lib/python2.7/site-packages/halotools/empirical_models/factories/hod_model_factory.py:741: UserWarning: \n",
      "\n",
      "The param_dict key sigma_logM appears in more than one component model.\n",
      "This is permissible, but if you are seeing this message you should be sure you understand it.\n",
      "In particular, double-check that this parameter does not have conflicting meanings across components.\n",
      "\n",
      "If you do not wish to see this message every time you instantiate, \n",
      "simply attach a _suppress_repeated_param_warning attribute \n",
      "to any of your component models and set this variable to ``True``.\n",
      "\n",
      "  warn(msg % key)\n",
      "/home/users/swmclau2/.local/lib/python2.7/site-packages/halotools/empirical_models/factories/hod_model_factory.py:741: UserWarning: \n",
      "\n",
      "The param_dict key logMmin appears in more than one component model.\n",
      "This is permissible, but if you are seeing this message you should be sure you understand it.\n",
      "In particular, double-check that this parameter does not have conflicting meanings across components.\n",
      "\n",
      "If you do not wish to see this message every time you instantiate, \n",
      "simply attach a _suppress_repeated_param_warning attribute \n",
      "to any of your component models and set this variable to ``True``.\n",
      "\n",
      "  warn(msg % key)\n",
      "/home/users/swmclau2/.local/lib/python2.7/site-packages/halotools/empirical_models/factories/hod_model_factory.py:741: UserWarning: \n",
      "\n",
      "The param_dict key mean_occupation_centrals_assembias_corr1 appears in more than one component model.\n",
      "This is permissible, but if you are seeing this message you should be sure you understand it.\n",
      "In particular, double-check that this parameter does not have conflicting meanings across components.\n",
      "\n",
      "If you do not wish to see this message every time you instantiate, \n",
      "simply attach a _suppress_repeated_param_warning attribute \n",
      "to any of your component models and set this variable to ``True``.\n",
      "\n",
      "  warn(msg % key)\n"
     ]
    }
   ],
   "source": [
    "cat.load(1.0, HOD = 'corrZheng07', hod_kwargs={'sec_haloprop_key': 'halo_local_density_10'})"
   ]
  },
  {
   "cell_type": "code",
   "execution_count": 28,
   "metadata": {},
   "outputs": [
    {
     "data": {
      "text/plain": [
       "['halo_upid',\n",
       " 'halo_vx',\n",
       " 'halo_y',\n",
       " 'halo_x',\n",
       " 'halo_z',\n",
       " 'halo_vy',\n",
       " 'halo_vz',\n",
       " 'halo_rs',\n",
       " 'halo_rvir',\n",
       " 'halo_mvir',\n",
       " 'halo_id',\n",
       " 'halo_nfw_conc',\n",
       " 'halo_hostid',\n",
       " 'halo_local_density_1',\n",
       " 'halo_local_density_5',\n",
       " 'halo_local_density_10',\n",
       " 'halo_mvir_host_halo']"
      ]
     },
     "execution_count": 28,
     "metadata": {},
     "output_type": "execute_result"
    }
   ],
   "source": [
    "cat.halocat.halo_table.colnames"
   ]
  },
  {
   "cell_type": "code",
   "execution_count": 29,
   "metadata": {},
   "outputs": [
    {
     "data": {
      "text/plain": [
       "{'alpha': 1.06,\n",
       " 'logM0': 11.38,\n",
       " 'logM1': 13.31,\n",
       " 'logMmin': 12.02,\n",
       " 'mean_occupation_centrals_assembias_corr1': 0.5,\n",
       " 'mean_occupation_satellites_assembias_corr1': 0.5,\n",
       " 'sigma_logM': 0.26}"
      ]
     },
     "execution_count": 29,
     "metadata": {},
     "output_type": "execute_result"
    }
   ],
   "source": [
    "cat.model.param_dict"
   ]
  },
  {
   "cell_type": "raw",
   "metadata": {},
   "source": [
    "cat.halocat.halo_table['halo_local_density_10'].mean()"
   ]
  },
  {
   "cell_type": "code",
   "execution_count": 30,
   "metadata": {},
   "outputs": [
    {
     "name": "stdout",
     "output_type": "stream",
     "text": [
      "['mean_occupation_centrals_assembias_corr1', 'logMmin', 'logM0', 'sigma_logM', 'mean_occupation_satellites_assembias_corr1', 'logM1', 'alpha']\n"
     ]
    }
   ],
   "source": [
    "print cat.model.param_dict.keys()"
   ]
  },
  {
   "cell_type": "code",
   "execution_count": 31,
   "metadata": {
    "collapsed": true
   },
   "outputs": [],
   "source": [
    "default_params = cat.model.param_dict\n",
    "default_params['mean_occupation_centrals_assembias_corr1'] = 0.0\n",
    "default_params['mean_occupation_satellites_assembias_corr1'] = 0.0\n",
    "#default_params['mean_occupation_centrals_assembias_split1'] = 0.5\n",
    "#default_params['mean_occupation_satellites_assembias_split1'] = 0.5"
   ]
  },
  {
   "cell_type": "code",
   "execution_count": 32,
   "metadata": {
    "collapsed": true
   },
   "outputs": [],
   "source": [
    "default_params['sigma_logM'] = 0.5\n",
    "default_params['logMmin'] = 13.5"
   ]
  },
  {
   "cell_type": "code",
   "execution_count": 33,
   "metadata": {},
   "outputs": [
    {
     "data": {
      "text/plain": [
       "'halo_local_density_10'"
      ]
     },
     "execution_count": 33,
     "metadata": {},
     "output_type": "execute_result"
    }
   ],
   "source": [
    "cat.model.model_dictionary['centrals_occupation'].sec_haloprop_key"
   ]
  },
  {
   "cell_type": "code",
   "execution_count": 34,
   "metadata": {
    "collapsed": true
   },
   "outputs": [],
   "source": [
    "r_bins = np.logspace(-1.1, 1.6, 19)\n",
    "rbc = (r_bins[1:]+r_bins[:-1])/2.0"
   ]
  },
  {
   "cell_type": "code",
   "execution_count": 35,
   "metadata": {},
   "outputs": [],
   "source": [
    "#default_y = np.zeros((18,))\n",
    "#for i in xrange(N):\n",
    "#    print i,\n",
    "cat.populate(default_params)\n",
    "default_y= cat.calc_xi(r_bins)\n",
    "#default_y/=N"
   ]
  },
  {
   "cell_type": "code",
   "execution_count": 36,
   "metadata": {
    "collapsed": true
   },
   "outputs": [],
   "source": [
    "N = 7\n",
    "cmap = sns.color_palette(\"GnBu_d\", N)"
   ]
  },
  {
   "cell_type": "code",
   "execution_count": 37,
   "metadata": {},
   "outputs": [
    {
     "name": "stdout",
     "output_type": "stream",
     "text": [
      "-1.0 0.306122131974\n",
      "-0.666666666667 0.486792528167\n",
      "-0.333333333333 0.707733761227\n",
      "0.0 1.00397133791\n",
      "0.333333333333 1.33223628625\n",
      "0.666666666667 1.71057971987\n",
      "1.0 2.16084104148\n"
     ]
    },
    {
     "data": {
      "image/png": "[encoded data removed]",
      "text/plain": [
       "<matplotlib.figure.Figure at 0x7f3385a01d10>"
      ]
     },
     "metadata": {},
     "output_type": "display_data"
    }
   ],
   "source": [
    "pname = 'mean_occupation_satellites_assembias_corr1'\n",
    "l, h = -1.0, 1.0\n",
    "#l, h = 0.0, 1.0\n",
    "\n",
    "d = default_params.copy()\n",
    "for v, c in zip(np.linspace(l,h,N), cmap):\n",
    "    d[pname] = v\n",
    "    #y = np.zeros((18,))\n",
    "    #for i in xrange(N):\n",
    "       # print i,\n",
    "    cat.populate(d)\n",
    "    y= cat.calc_xi(r_bins)\n",
    "    print v, (y/default_y)[14]\n",
    "    #y/=N\n",
    "    plt.plot(rbc, y/default_y, label = v, c = c)\n",
    "    \n",
    "plt.xscale('log')\n",
    "#plt.loglog()\n",
    "plt.legend(loc = 'best')\n",
    "plt.show();"
   ]
  },
  {
   "cell_type": "code",
   "execution_count": 38,
   "metadata": {},
   "outputs": [],
   "source": [
    "from halotools.empirical_models.abunmatch.noisy_percentile import noisy_percentile\n",
    "from scipy.stats import rankdata"
   ]
  },
  {
   "cell_type": "code",
   "execution_count": 39,
   "metadata": {},
   "outputs": [],
   "source": [
    "N =11\n",
    "x=(rankdata(np.linspace(0,10,N), 'ordinal')*1.0)/N# - 0.5"
   ]
  },
  {
   "cell_type": "code",
   "execution_count": 40,
   "metadata": {},
   "outputs": [
    {
     "name": "stdout",
     "output_type": "stream",
     "text": [
      "[ 0.09090909  0.18181818  0.27272727  0.36363636  0.45454545  0.54545455\n",
      "  0.63636364  0.72727273  0.81818182  0.90909091  1.        ]\n",
      "[ 0.09090909  0.18181818  0.27272727  0.36363636  0.45454545  0.54545455\n",
      "  0.63636364  0.72727273  0.81818182  0.90909091  1.        ]\n"
     ]
    }
   ],
   "source": [
    "print x\n",
    "print noisy_percentile(x, -1)"
   ]
  },
  {
   "cell_type": "code",
   "execution_count": 41,
   "metadata": {},
   "outputs": [
    {
     "data": {
      "text/plain": [
       "array([ 1.        ,  0.90909091,  0.81818182,  0.72727273,  0.63636364,\n",
       "        0.54545455,  0.45454545,  0.36363636,  0.27272727,  0.18181818,\n",
       "        0.09090909])"
      ]
     },
     "execution_count": 41,
     "metadata": {},
     "output_type": "execute_result"
    }
   ],
   "source": [
    "x[::-1]"
   ]
  },
  {
   "cell_type": "code",
   "execution_count": 42,
   "metadata": {},
   "outputs": [
    {
     "data": {
      "text/plain": [
       "(array([  1.01000000e+02,   3.71800000e+03,   4.59880000e+04,\n",
       "          5.68025000e+05,   3.85037000e+06,   4.64361300e+06,\n",
       "          7.20414000e+05,   8.40740000e+04,   4.30800000e+03,\n",
       "          6.00000000e+01]),\n",
       " array([-2.52582169, -1.57553906, -0.62525644,  0.32502618,  1.2753088 ,\n",
       "         2.22559142,  3.17587404,  4.12615666,  5.07643929,  6.02672191,\n",
       "         6.97700453]),\n",
       " <a list of 10 Patch objects>)"
      ]
     },
     "execution_count": 42,
     "metadata": {},
     "output_type": "execute_result"
    },
    {
     "data": {
      "image/png": "[encoded data removed]",
      "text/plain": [
       "<matplotlib.figure.Figure at 0x7f33e0f81810>"
      ]
     },
     "metadata": {},
     "output_type": "display_data"
    }
   ],
   "source": [
    "plt.hist(np.log(cat.halocat.halo_table['halo_nfw_conc'][np.isfinite(cat.halocat.halo_table['halo_nfw_conc'])] ))"
   ]
  },
  {
   "cell_type": "code",
   "execution_count": null,
   "metadata": {
    "collapsed": true
   },
   "outputs": [],
   "source": []
  }
 ],
 "metadata": {
  "kernelspec": {
   "display_name": "Python 2",
   "language": "python",
   "name": "python2"
  },
  "language_info": {
   "codemirror_mode": {
    "name": "ipython",
    "version": 2
   },
   "file_extension": ".py",
   "mimetype": "text/x-python",
   "name": "python",
   "nbconvert_exporter": "python",
   "pygments_lexer": "ipython2",
   "version": "2.7.13"
  }
 },
 "nbformat": 4,
 "nbformat_minor": 1
}

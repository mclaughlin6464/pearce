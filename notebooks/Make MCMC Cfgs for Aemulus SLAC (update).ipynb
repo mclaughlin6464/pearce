{
 "cells": [
  {
   "cell_type": "markdown",
   "metadata": {},
   "source": [
    "Now that I've streamlined the MCMC process, I am going to submit multiple chains simultaneously. This notebook will make multiple, similar config files, for broad comparison. \n",
    "\n",
    "This may be rolled into pearce as a helper function, I haven't decided.\n",
    "\n",
    "Update from the older SLAC notebook, which is now outdated"
   ]
  },
  {
   "cell_type": "markdown",
   "metadata": {},
   "source": [
    "For rmin 0, 0.5, 1.0:\n",
    "\n",
    "    For no ab, HSAB and CorrAB emu:\n",
    "\n",
    "        Vpeak sham\n",
    "        Mpeak sham\n",
    "        HOD\n",
    "        HSAB HOD "
   ]
  },
  {
   "cell_type": "code",
   "execution_count": 1,
   "metadata": {
    "collapsed": true
   },
   "outputs": [],
   "source": [
    "import yaml\n",
    "import copy\n",
    "from os import path\n",
    "import numpy as np"
   ]
  },
  {
   "cell_type": "code",
   "execution_count": 2,
   "metadata": {
    "collapsed": true
   },
   "outputs": [],
   "source": [
    "emu_path = '/u/ki/swmclau2/des/'\n",
    "#emu_path = '~/scratch'"
   ]
  },
  {
   "cell_type": "code",
   "execution_count": 3,
   "metadata": {
    "collapsed": true
   },
   "outputs": [],
   "source": [
    "cov_path = '/u/ki/swmclau2/Git/pearce/bin/'\n",
    "# cov_path = '~/Git/pearce/bin'"
   ]
  },
  {
   "cell_type": "code",
   "execution_count": 4,
   "metadata": {
    "collapsed": false
   },
   "outputs": [],
   "source": [
    "orig_cfg_fname = path.join(cov_path, 'mcmc/nh_gg_sham_hsab_mcmc_config.yaml')\n",
    "with open(orig_cfg_fname, 'r') as yamlfile:\n",
    "    orig_cfg = yaml.load(yamlfile)"
   ]
  },
  {
   "cell_type": "code",
   "execution_count": 5,
   "metadata": {
    "collapsed": false
   },
   "outputs": [
    {
     "data": {
      "text/plain": [
       "{'chain': {'fixed_params': {},\n",
       "  'nburn': 0,\n",
       "  'nsteps': 10000,\n",
       "  'nwalkers': 500,\n",
       "  'seed': 0},\n",
       " 'data': {'cov': {'emu_cov_fname': '/home/users/swmclau2/Git/pearce/bin/covmat/xi_gg_nh_emu_cov.npy',\n",
       "   'meas_cov_fname': '/home/users/swmclau2/Git/pearce/notebooks/meas_cov_testboxes_gg.npy'},\n",
       "  'obs': {'mean': False,\n",
       "   'obs': 'xi',\n",
       "   'rbins': [0.07943282,\n",
       "    0.11220185,\n",
       "    0.15848932,\n",
       "    0.22387211,\n",
       "    0.31622777,\n",
       "    0.44668359,\n",
       "    0.63095734,\n",
       "    0.89125094,\n",
       "    1.25892541,\n",
       "    1.77827941,\n",
       "    2.51188643,\n",
       "    3.54813389,\n",
       "    5.01187234,\n",
       "    7.07945784,\n",
       "    10.0,\n",
       "    14.12537545,\n",
       "    19.95262315,\n",
       "    28.18382931,\n",
       "    39.81071706]},\n",
       "  'sim': {'gal_type': 'SHAM',\n",
       "   'halo_property': 'halo_vpeak',\n",
       "   'min_ptcl': 100,\n",
       "   'nd': '5e-4',\n",
       "   'scale_factor': 1.001,\n",
       "   'scatter': 0.2,\n",
       "   'sim_hps': {'system': 'sherlock'},\n",
       "   'simname': 'ds_14_b_sub'},\n",
       "  'true_cov_fname': ['/home/users/swmclau2/Git/pearce/bin/shams/xigg_cov_mcmc.npy'],\n",
       "  'true_data_fname': ['/home/users/swmclau2/Git/pearce/bin/shams/ds14b_sub_xi_gg.npy']},\n",
       " 'emu': {'emu_hps': {},\n",
       "  'emu_type': 'NashvilleHot',\n",
       "  'fixed_params': {'z': 0.0},\n",
       "  'training_file': '/home/users/swmclau2/scratch/xi_gg_abzheng07/PearceXiggHSABCosmo.hdf5'},\n",
       " 'fname': '/scratch/users/swmclau2/PearceMCMC/pearce_mcmc_nh_gg_sham_hsab.hdf5'}"
      ]
     },
     "execution_count": 5,
     "metadata": {},
     "output_type": "execute_result"
    }
   ],
   "source": [
    "orig_cfg"
   ]
  },
  {
   "cell_type": "raw",
   "metadata": {
    "collapsed": true
   },
   "source": [
    "#this will enable easier string formatting\n",
    "sbatch_template = \"\"\"#!/bin/bash\n",
    "#SBATCH --job-name={jobname}\n",
    "#SBATCH --time=24:00:00\n",
    "#SBATCH -p kipac,iric\n",
    "#SBATCH -o /home/users/swmclau2/Git/pearce/bin/mcmc/config/{jobname}.out\n",
    "#SBATCH --nodes=1\n",
    "#SBATCH --ntasks=1\n",
    "#SBATCH --cpus-per-task=16\n",
    "###SBATCH --exclusive\n",
    "\n",
    "module load python/2.7.13\n",
    "module load py-scipystack\n",
    "module load hdf5/1.10.0p1\n",
    "module load py-numpy\n",
    "\n",
    "python /home/users/swmclau2/Git/pearce/pearce/inference/initialize_mcmc.py {jobname}.yaml\n",
    "python /home/users/swmclau2/Git/pearce/pearce/inference/run_mcmc.py {jobname}.yaml\n",
    "\"\"\""
   ]
  },
  {
   "cell_type": "code",
   "execution_count": 6,
   "metadata": {
    "collapsed": true
   },
   "outputs": [],
   "source": [
    "bsub_template=\"\"\"#BSUB -q medium \n",
    "#BSUB -W 8:00\n",
    "#BSUB -J {jobname}\n",
    "#BSUB -oo /u/ki/swmclau2/Git/pearce/bin/mcmc/config/{jobname}.out    \n",
    "#BSUB -n 8 \n",
    "#BSUB -R \"span[ptile=8]\"\n",
    "\n",
    "python /u/ki/swmclau2/Git/pearce/pearce/inference/initialize_mcmc.py {jobname}.yaml\n",
    "python /u/ki/swmclau2/Git/pearce/pearce/inference/run_mcmc.py {jobname}.yaml\n",
    "\"\"\""
   ]
  },
  {
   "cell_type": "code",
   "execution_count": 7,
   "metadata": {
    "collapsed": true
   },
   "outputs": [],
   "source": [
    "bsub_restart_template=\"\"\"#BSUB -q medium \n",
    "#BSUB -W 8:00\n",
    "#BSUB -J {jobname}\n",
    "#BSUB -oo /u/ki/swmclau2/Git/pearce/bin/mcmc/config/{jobname}.out    \n",
    "#BSUB -n 8 \n",
    "#BSUB -R \"span[ptile=8]\"\n",
    "\n",
    "#python /u/ki/swmclau2/Git/pearce/pearce/inference/initialize_mcmc.py {jobname}.yaml\n",
    "python /u/ki/swmclau2/Git/pearce/pearce/inference/run_mcmc.py {jobname}.yaml --restart\n",
    "\"\"\""
   ]
  },
  {
   "cell_type": "code",
   "execution_count": 8,
   "metadata": {
    "collapsed": true
   },
   "outputs": [],
   "source": [
    "r_bins = np.logspace(-1, 1.6, 19)"
   ]
  },
  {
   "cell_type": "code",
   "execution_count": 9,
   "metadata": {
    "collapsed": true
   },
   "outputs": [],
   "source": [
    "emu_names = ['HOD','HSAB','CAB','CorrAB']\n",
    "emu_fnames = [[path.join(emu_path, 'Aemulators/wp_zheng07_h/PearceWpCosmo.hdf5'), path.join(emu_path, 'Aemulators/ds_zheng07_h/PearceDsCosmo.hdf5')],\\\n",
    "              [path.join(emu_path, 'Aemulators/wp_hsab_h/PearceWpHSABCosmo.hdf5'), path.join(emu_path, 'Aemulators/ds_hsab_h/PearceDsHSABCosmo.hdf5')],\n",
    "              [path.join(emu_path, 'Aemulators/wp_cab_h/PearceWpCABCosmo.hdf5'), path.join(emu_path,'Aemulators/ds_cab_h/PearceDsCABCosmo.hdf5')],\n",
    "              [path.join(emu_path, 'Aemulators/wp_corrab_h/PearceWpCorrABCosmo.hdf5'), path.join(emu_path, 'Aemulators/ds_corrab_h/PearceDsCorrABCosmo.hdf5')]]\n"
   ]
  },
  {
   "cell_type": "code",
   "execution_count": 10,
   "metadata": {
    "collapsed": true
   },
   "outputs": [],
   "source": [
    "meas_cov_fname = path.join(cov_path, 'covmat/wp_ds_full_covmat.npy')\n",
    "\n",
    "emu_cov_fnames = [[path.join(cov_path, 'optimization/wp_hod_emu_cov_lpw.npy'), \n",
    "                   path.join(cov_path, 'optimization/ds_hod_emu_cov_lpw.npy')],\n",
    "                  [path.join(cov_path, 'optimization/wp_hsab_emu_cov_lpw.npy'), \n",
    "                   path.join(cov_path, 'optimization/ds_hsab_emu_cov_lpw.npy')],\n",
    "                 [path.join(cov_path, 'optimization/wp_cab_emu_cov_lpw.npy'), \n",
    "                   path.join(cov_path, 'optimization/ds_cab_emu_cov_lpw.npy')],\n",
    "                 [path.join(cov_path, 'optimization/wp_corrab_emu_cov_lpw.npy'),\n",
    "                  path.join(cov_path, 'optimization/ds_corrab_emu_cov_lpw.npy')]]"
   ]
  },
  {
   "cell_type": "code",
   "execution_count": 11,
   "metadata": {
    "collapsed": true
   },
   "outputs": [],
   "source": [
    "n_walkers = 250\n",
    "n_steps = 100000"
   ]
  },
  {
   "cell_type": "markdown",
   "metadata": {},
   "source": [
    "## Vpeak SHAM\n",
    "----\n"
   ]
  },
  {
   "cell_type": "code",
   "execution_count": 12,
   "metadata": {
    "collapsed": true
   },
   "outputs": [],
   "source": [
    "tmp_cfg = copy.deepcopy(orig_cfg)\n",
    "\n",
    "directory = path.join(cov_path, \"mcmc/config/\")\n",
    "output_dir = path.join(emu_path, \"PearceMCMC/\")\n",
    "jobname_template = \"VpeakSHAM_wp_ds_rmin_{rmin}_{emu_name}\"\n",
    "\n",
    "for rmin in [None, 0.5, 1.0, 2.0]:\n",
    "    for emu_fname, emu_name, emu_cov in zip(emu_fnames, emu_names, emu_cov_fnames):\n",
    "        \n",
    "        if rmin is not None:\n",
    "            tmp_cfg['emu']['fixed_params'] = {'z': 0.0, 'rmin':rmin}\n",
    "        else:\n",
    "            tmp_cfg['emu']['fixed_params'] =  [{'z': 0.0}, {'z': 0.0, 'rmin': 0.5}]\n",
    "            \n",
    "        tmp_cfg['emu']['training_file'] = emu_fname\n",
    "        tmp_cfg['emu']['emu_type'] = ['LemonPepperWet' for i in xrange(len(emu_fname))]\n",
    "        tmp_cfg['emu']['emu_cov_fname'] = emu_cov\n",
    "        \n",
    "        tmp_cfg['data']['true_data_fname']= [path.join(cov_path, 'mock_measurements/SHAMmock_wp.npy'),\n",
    "                                             path.join(cov_path, 'mock_measurements/SHAMmock_ds.npy')]\n",
    "        tmp_cfg['data']['true_cov_fname'] = meas_cov_fname\n",
    "        \n",
    "        tmp_cfg['data']['obs']['obs'] = ['wp','ds']\n",
    "        tmp_cfg['data']['obs']['rbins'] = list(r_bins)\n",
    "        \n",
    "\n",
    "        tmp_cfg['chain']['nsteps'] = n_steps\n",
    "        tmp_cfg['chain']['nwalkers'] = n_walkers\n",
    "        tmp_cfg['chain']['mcmc_type'] = 'normal'\n",
    "\n",
    "        \n",
    "        tmp_cfg['data']['sim']['sim_hps']['system'] = 'ki-ls'\n",
    "        tmp_cfg['data']['cov']['emu_cov_fname'] = tmp_cfg['emu']['emu_cov_fname'] \n",
    "        tmp_cfg['data']['cov']['meas_cov_fname'] = tmp_cfg['data']['true_cov_fname']\n",
    "        \n",
    "        jobname = jobname_template.format(rmin=rmin, emu_name=emu_name)\n",
    "        tmp_cfg['fname'] = path.join(output_dir, jobname+'.hdf5')\n",
    "\n",
    "        with open(path.join(directory, jobname +'.yaml'), 'w') as f:\n",
    "            yaml.dump(tmp_cfg, f)\n",
    "\n",
    "        #with open(path.join(directory, jobname + '.sbatch'), 'w') as f:\n",
    "        #    f.write(sbatch_template.format(jobname=jobname))\n",
    "        with open(path.join(directory, jobname + '.bsub'), 'w') as f:\n",
    "            f.write(bsub_template.format(jobname=jobname))\n",
    "            #f.write(bsub_restart_template.format(jobname=jobname))"
   ]
  },
  {
   "cell_type": "markdown",
   "metadata": {},
   "source": [
    "## NFWized SHAM\n",
    "----\n"
   ]
  },
  {
   "cell_type": "raw",
   "metadata": {
    "collapsed": false
   },
   "source": [
    "tmp_cfg = copy.deepcopy(orig_cfg)\n",
    "directory = path.join(cov_path, \"mcmc/config/\")\n",
    "output_dir = path.join(emu_path, \"PearceMCMC/\")\n",
    "jobname_template = \"NFWizedSHAM_wp_ds_rmin_{rmin}_{emu_name}\"\n",
    "\n",
    "for rmin in [None, 0.5, 1.0, 2.0]:\n",
    "    for emu_fname, emu_name, emu_cov in zip(emu_fnames, emu_names, emu_cov_fnames):\n",
    "        \n",
    "        if rmin is not None:\n",
    "            tmp_cfg['emu']['fixed_params'] = {'z': 0.0, 'rmin':rmin}\n",
    "            \n",
    "        tmp_cfg['emu']['training_file'] = emu_fname\n",
    "        tmp_cfg['emu']['emu_type'] = ['LemonPepperWet' for i in xrange(len(emu_fname))]\n",
    "        tmp_cfg['emu']['emu_cov_fname'] = emu_cov\n",
    "        \n",
    "        tmp_cfg['data']['true_data_fname']= [path.join(cov_path,'mock_measurements/NFWIZED_SHAMmock_wp.npy'),\n",
    "                                             path.join(cov_path,'mock_measurements/NFWIZED_SHAMmock_ds.npy')]\n",
    "        tmp_cfg['data']['true_cov_fname'] = meas_cov_fname\n",
    "        \n",
    "        tmp_cfg['data']['obs']['obs'] = ['wp','ds']\n",
    "        tmp_cfg['data']['obs']['rbins'] = list(r_bins)\n",
    "        \n",
    "\n",
    "        tmp_cfg['chain']['nsteps'] = n_steps\n",
    "        tmp_cfg['chain']['nwalkers'] = n_walkers\n",
    "        tmp_cfg['chain']['mcmc_type'] = 'normal'\n",
    "\n",
    "        \n",
    "        tmp_cfg['data']['sim']['sim_hps']['system'] = 'ki-ls'\n",
    "        tmp_cfg['data']['cov']['emu_cov_fname'] = tmp_cfg['emu']['emu_cov_fname'] \n",
    "        tmp_cfg['data']['cov']['meas_cov_fname'] = tmp_cfg['data']['true_cov_fname']\n",
    "        \n",
    "        jobname = jobname_template.format(rmin=rmin, emu_name=emu_name)\n",
    "        tmp_cfg['fname'] = path.join(output_dir, jobname+'.hdf5')\n",
    "\n",
    "        with open(path.join(directory, jobname +'.yaml'), 'w') as f:\n",
    "            yaml.dump(tmp_cfg, f)\n",
    "\n",
    "        with open(path.join(directory, jobname + '.bsub'), 'w') as f:\n",
    "            #f.write(bsub_template.format(jobname=jobname))\n",
    "            f.write(bsub_restart_template.format(jobname=jobname))"
   ]
  },
  {
   "cell_type": "raw",
   "metadata": {
    "collapsed": true
   },
   "source": [
    "h = 0.6777\n",
    "\n",
    "cosmo_pnames = ['ombh2', 'omch2', 'w0', 'ns', 'H0', 'Neff', 'sigma8']\n",
    "cosmo_true_vals = np.array([0.048206*h**2, 0.307115*h**2,\\\n",
    "                            -1, 0.9667, \\\n",
    "                            h*100, 3.046, 0.8228])"
   ]
  },
  {
   "cell_type": "raw",
   "metadata": {
    "collapsed": true
   },
   "source": [
    "# fixed cosmology\n",
    "tmp_cfg = copy.deepcopy(orig_cfg)\n",
    "directory = path.join(cov_path, \"mcmc/config/\")\n",
    "output_dir = path.join(emu_path, \"PearceMCMC/\")\n",
    "jobname_template = \"NFWizedSHAM_fixed_cosmo_wp_ds_rmin_{rmin}_{emu_name}\"\n",
    "\n",
    "for rmin in [None, 0.5, 1.0, 2.0]:\n",
    "    for emu_fname, emu_name, emu_cov in zip(emu_fnames, emu_names, emu_cov_fnames):\n",
    "        \n",
    "        if rmin is not None:\n",
    "            tmp_cfg['emu']['fixed_params'] = {'z': 0.0, 'rmin':rmin}\n",
    "        else:\n",
    "            tmp_cfg['emu']['fixed_params'] =  [{'z': 0.0}, {'z': 0.0, 'rmin': 0.5}]\n",
    "            \n",
    "        tmp_cfg['emu']['training_file'] = emu_fname\n",
    "        tmp_cfg['emu']['emu_type'] = ['LemonPepperWet' for i in xrange(len(emu_fname))]\n",
    "        tmp_cfg['emu']['emu_cov_fname'] = emu_cov\n",
    "        \n",
    "        tmp_cfg['data']['true_data_fname']= [path.join(cov_path,'mock_measurements/NFWIZED_SHAMmock_wp.npy'),\n",
    "                                             path.join(cov_path,'mock_measurements/NFWIZED_SHAMmock_ds.npy')]\n",
    "        tmp_cfg['data']['true_cov_fname'] = meas_cov_fname\n",
    "        \n",
    "        tmp_cfg['data']['obs']['obs'] = ['wp','ds']\n",
    "        tmp_cfg['data']['obs']['rbins'] = list(r_bins)\n",
    "        \n",
    "\n",
    "        tmp_cfg['chain']['nsteps'] = n_steps\n",
    "        tmp_cfg['chain']['nwalkers'] = n_walkers\n",
    "        tmp_cfg['chain']['mcmc_type'] = 'normal'\n",
    "\n",
    "        \n",
    "        tmp_cfg['data']['sim']['sim_hps']['system'] = 'ki-ls'\n",
    "        tmp_cfg['data']['cov']['emu_cov_fname'] = tmp_cfg['emu']['emu_cov_fname'] \n",
    "        tmp_cfg['data']['cov']['meas_cov_fname'] = tmp_cfg['data']['true_cov_fname']\n",
    "        \n",
    "        tmp_cfg['chain']['fixed_params'] = 'cosmo'\n",
    "\n",
    "        tmp_cfg['sim']= {'gal_type': 'SHAM',\n",
    "       'nd': '5e-4',\n",
    "       'scale_factor': 1.0,\n",
    "       'min_ptcl': 100, \n",
    "       'cosmo_params': dict(zip(cosmo_pnames, cosmo_true_vals)),\n",
    "       'sim_hps': {},\n",
    "       'simname': 'mdpl2'}\n",
    "        \n",
    "        # TODO i shouldnt have to specify this this way\n",
    "        tmp_cfg['data']['sim'] = tmp_cfg['sim']\n",
    "        \n",
    "        jobname = jobname_template.format(rmin=rmin, emu_name=emu_name)\n",
    "        tmp_cfg['fname'] = path.join(output_dir, jobname+'.hdf5')\n",
    "\n",
    "        with open(path.join(directory, jobname +'.yaml'), 'w') as f:\n",
    "            yaml.dump(tmp_cfg, f)\n",
    "\n",
    "        with open(path.join(directory, jobname + '.bsub'), 'w') as f:\n",
    "            f.write(bsub_template.format(jobname=jobname))\n",
    "            #f.write(bsub_restart_template.format(jobname=jobname))"
   ]
  },
  {
   "cell_type": "markdown",
   "metadata": {},
   "source": [
    "## Shuffled SHAM\n",
    "----\n"
   ]
  },
  {
   "cell_type": "raw",
   "metadata": {
    "collapsed": true
   },
   "source": [
    "tmp_cfg = copy.deepcopy(orig_cfg)\n",
    "\n",
    "directory = path.join(cov_path, \"mcmc/config/\")\n",
    "output_dir = path.join(emu_path, \"PearceMCMC/\")\n",
    "jobname_template = \"ShuffledSHAM_wp_ds_rmin_{rmin}_{emu_name}\"\n",
    "\n",
    "for rmin in [None, 0.5, 1.0, 2.0]:\n",
    "    for emu_fname, emu_name, emu_cov in zip(emu_fnames, emu_names, emu_cov_fnames):\n",
    "        \n",
    "        if rmin is not None:\n",
    "            tmp_cfg['emu']['fixed_params'] = {'z': 0.0, 'rmin':rmin}\n",
    "            \n",
    "        tmp_cfg['emu']['training_file'] = emu_fname\n",
    "        tmp_cfg['emu']['emu_type'] = ['LemonPepperWet' for i in xrange(len(emu_fname))]\n",
    "        tmp_cfg['emu']['emu_cov_fname'] = emu_cov\n",
    "        \n",
    "        tmp_cfg['data']['true_data_fname']= [path.join(cov_path, 'mock_measurements/SHUFFLED_SHAMmock_wp.npy'),\n",
    "                                             path.join(cov_path, 'mock_measurements/SHUFFLED_SHAMmock_ds.npy')]\n",
    "        tmp_cfg['data']['true_cov_fname'] = meas_cov_fname\n",
    "        \n",
    "        tmp_cfg['data']['obs']['obs'] = ['wp','ds']\n",
    "        tmp_cfg['data']['obs']['rbins'] = list(r_bins)\n",
    "        \n",
    "\n",
    "        tmp_cfg['chain']['nsteps'] = n_steps\n",
    "        tmp_cfg['chain']['nwalkers'] = n_walkers\n",
    "        tmp_cfg['chain']['mcmc_type'] = 'normal'\n",
    "\n",
    "        \n",
    "        tmp_cfg['data']['sim']['sim_hps']['system'] = 'ki-ls'\n",
    "        tmp_cfg['data']['cov']['emu_cov_fname'] = tmp_cfg['emu']['emu_cov_fname'] \n",
    "        tmp_cfg['data']['cov']['meas_cov_fname'] = tmp_cfg['data']['true_cov_fname']\n",
    "        \n",
    "        jobname = jobname_template.format(rmin=rmin, emu_name=emu_name)\n",
    "        tmp_cfg['fname'] = path.join(output_dir, jobname+'.hdf5')\n",
    "\n",
    "        with open(path.join(directory, jobname +'.yaml'), 'w') as f:\n",
    "            yaml.dump(tmp_cfg, f)\n",
    "\n",
    "        #with open(path.join(directory, jobname + '.sbatch'), 'w') as f:\n",
    "        #    f.write(sbatch_template.format(jobname=jobname))\n",
    "        with open(path.join(directory, jobname + '.bsub'), 'w') as f:\n",
    "            f.write(bsub_template.format(jobname=jobname))\n",
    "            #f.write(bsub_restart_template.format(jobname=jobname))"
   ]
  },
  {
   "cell_type": "markdown",
   "metadata": {},
   "source": [
    "## Universe Machine\n",
    "----\n"
   ]
  },
  {
   "cell_type": "raw",
   "metadata": {
    "collapsed": true
   },
   "source": [
    "tmp_cfg = copy.deepcopy(orig_cfg)\n",
    "directory = path.join(cov_path, \"mcmc/config/\")\n",
    "output_dir = path.join(emu_path, \"PearceMCMC/\")\n",
    "jobname_template = \"UniverseMachine_wp_ds_rmin_{rmin}_{emu_name}\"\n",
    "\n",
    "for rmin in [None, 0.5, 1.0, 2.0, 5.0]:\n",
    "    for emu_fname, emu_name, emu_cov in zip(emu_fnames, emu_names, emu_cov_fnames):\n",
    "        \n",
    "        if rmin is not None:\n",
    "            tmp_cfg['emu']['fixed_params'] = {'z': 0.0, 'rmin':rmin}\n",
    "        else:\n",
    "            tmp_cfg['emu']['fixed_params'] =  [{'z': 0.0}, {'z': 0.0, 'rmin': 0.5}]\n",
    "            \n",
    "        tmp_cfg['emu']['training_file'] = emu_fname\n",
    "        tmp_cfg['emu']['emu_type'] = ['LemonPepperWet' for i in xrange(len(emu_fname))]\n",
    "        tmp_cfg['emu']['emu_cov_fname'] = emu_cov\n",
    "        \n",
    "        tmp_cfg['data']['true_data_fname']= [path.join(cov_path, 'mock_measurements/UMmock_wp.npy'),\n",
    "                                             path.join(cov_path, 'mock_measurements/UMmock_ds.npy')]\n",
    "        tmp_cfg['data']['true_cov_fname'] = meas_cov_fname\n",
    "        \n",
    "        tmp_cfg['data']['obs']['obs'] = ['wp','ds']\n",
    "        tmp_cfg['data']['obs']['rbins'] = list(r_bins)\n",
    "        \n",
    "\n",
    "        tmp_cfg['chain']['nsteps'] = n_steps\n",
    "        tmp_cfg['chain']['nwalkers'] = n_walkers\n",
    "        tmp_cfg['chain']['mcmc_type'] = 'normal'\n",
    "\n",
    "        \n",
    "        tmp_cfg['data']['sim']['sim_hps']['system'] = 'ki-ls'\n",
    "        tmp_cfg['data']['cov']['emu_cov_fname'] = tmp_cfg['emu']['emu_cov_fname'] \n",
    "        tmp_cfg['data']['cov']['meas_cov_fname'] = tmp_cfg['data']['true_cov_fname']\n",
    "        \n",
    "        jobname = jobname_template.format(rmin=rmin, emu_name=emu_name)\n",
    "        tmp_cfg['fname'] = path.join(output_dir, jobname+'.hdf5')\n",
    "\n",
    "        with open(path.join(directory, jobname +'.yaml'), 'w') as f:\n",
    "            yaml.dump(tmp_cfg, f)\n",
    "\n",
    "        #with open(path.join(directory, jobname + '.sbatch'), 'w') as f:\n",
    "        #    f.write(sbatch_template.format(jobname=jobname))\n",
    "        with open(path.join(directory, jobname + '.bsub'), 'w') as f:\n",
    "            f.write(bsub_template.format(jobname=jobname))\n",
    "            #f.write(bsub_restart_template.format(jobname=jobname))"
   ]
  },
  {
   "cell_type": "markdown",
   "metadata": {},
   "source": [
    "## HOD\n",
    "----\n"
   ]
  },
  {
   "cell_type": "code",
   "execution_count": 13,
   "metadata": {
    "collapsed": true
   },
   "outputs": [],
   "source": [
    "#orig_cfg_fname = '/u/ki/swmclau2//Git/pearce/bin/mcmc/nh_gg_sham_hsab_mcmc_config.yaml'\n",
    "with open(orig_cfg_fname, 'r') as yamlfile:\n",
    "    orig_cfg = yaml.load(yamlfile)"
   ]
  },
  {
   "cell_type": "raw",
   "metadata": {},
   "source": [
    "orig_cfg"
   ]
  },
  {
   "cell_type": "code",
   "execution_count": 16,
   "metadata": {
    "collapsed": false
   },
   "outputs": [],
   "source": [
    "tmp_cfg = copy.deepcopy(orig_cfg)\n",
    "\n",
    "directory = path.join(cov_path, \"mcmc/config/\")\n",
    "output_dir = path.join(emu_path, \"PearceMCMC/\")\n",
    "\n",
    "jobname_template = \"HOD_wp_ds_rmin_{rmin}_{emu_name}\"#_fixed_HOD\"\n",
    "\n",
    "for rmin in [None, 0.5, 1.0, 2.0]:\n",
    "    for emu_fname, emu_name, emu_cov in zip(emu_fnames, emu_names, emu_cov_fnames):\n",
    "        \n",
    "        if rmin is not None:\n",
    "            tmp_cfg['emu']['fixed_params'] = {'z': 0.0, 'rmin':rmin}\n",
    "        else:\n",
    "            tmp_cfg['emu']['fixed_params'] =  [{'z': 0.0}, {'z': 0.0, 'rmin': 0.5}] # can't go to 0 with ds\n",
    "            \n",
    "        tmp_cfg['emu']['training_file'] = emu_fname\n",
    "        tmp_cfg['emu']['emu_type'] = ['LemonPepperWet' for i in xrange(len(emu_fname))]\n",
    "        tmp_cfg['emu']['emu_cov_fname'] = emu_cov\n",
    "        \n",
    "        tmp_cfg['data']['obs']['obs'] = ['wp','ds']\n",
    "        tmp_cfg['data']['obs']['rbins'] = list(r_bins)\n",
    "        \n",
    "        tmp_cfg['data']['true_data_fname']= [path.join(cov_path, 'mock_measurements/HOD4mock_wp.npy'),\n",
    "                                             path.join(cov_path, 'mock_measurements/HOD4mock_ds.npy')]\n",
    "        tmp_cfg['data']['true_cov_fname'] = meas_cov_fname\n",
    "        \n",
    "        \n",
    "        tmp_cfg['data']['cov']['meas_cov_fname'] = tmp_cfg['data']['true_cov_fname']\n",
    "        tmp_cfg['data']['cov']['emu_cov_fname'] = tmp_cfg['emu']['emu_cov_fname'] # TODO make this not be redundant\n",
    "        \n",
    "        jobname = jobname_template.format(rmin=rmin, emu_name=emu_name)\n",
    "        tmp_cfg['fname'] = path.join(output_dir, jobname+'.hdf5')\n",
    "        \n",
    "        tmp_cfg['sim']= {'gal_type': 'HOD',\n",
    "       'hod_name': 'zheng07',\n",
    "       'hod_params': {'alpha': 1.083,\n",
    "        'logM0': 13.2,\n",
    "        'logM1': 14.2,\n",
    "        'sigma_logM': 0.2,\n",
    "        'conc_gal_bias': 1.0},\n",
    "       'nd': '5e-4',\n",
    "       'scale_factor': 1.0,\n",
    "       'min_ptcl': 20, \n",
    "       'sim_hps': {'boxno': 1,\n",
    "        'downsample_factor': 1e-2,\n",
    "        'particles': True,\n",
    "        'realization': 1,\n",
    "        'system': 'ki-ls'},\n",
    "       'simname': 'testbox'}\n",
    "        \n",
    "        # TODO i shouldnt have to specify this this way\n",
    "        tmp_cfg['data']['sim'] = tmp_cfg['sim']\n",
    "        \n",
    "        tmp_cfg['chain']['nwalkers'] = n_walkers\n",
    "        tmp_cfg['chain']['nsteps'] = n_steps\n",
    "        tmp_cfg['chain']['mcmc_type'] = 'normal'\n",
    "        \n",
    "        # fix params during MCMC    \n",
    "        #tmp_cfg['chain']['fixed_params'].update(tmp_cfg['sim']['hod_params'])\n",
    "        \n",
    "        #try:\n",
    "        #    del tmp_cfg['data']['true_data_fname']\n",
    "        #    del tmp_cfg['data']['true_cov_fname']\n",
    "        #except KeyError:\n",
    "        #    pass\n",
    "\n",
    "        with open(path.join(directory, jobname +'.yaml'), 'w') as f:\n",
    "            yaml.dump(tmp_cfg, f)\n",
    "\n",
    "        #with open(path.join(directory, jobname + '.sbatch'), 'w') as f:\n",
    "        #    f.write(sbatch_template.format(jobname=jobname))\n",
    "            \n",
    "        with open(path.join(directory, jobname + '.bsub'), 'w') as f:\n",
    "            f.write(bsub_template.format(jobname=jobname))\n",
    "            #f.write(bsub_restart_template.format(jobname=jobname))"
   ]
  },
  {
   "cell_type": "markdown",
   "metadata": {},
   "source": [
    "## HSAB HOD\n",
    "----\n"
   ]
  },
  {
   "cell_type": "code",
   "execution_count": 15,
   "metadata": {
    "collapsed": true
   },
   "outputs": [],
   "source": [
    "cosmo_pnames = ['ombh2', 'omch2', 'w0', 'ns', 'H0', 'Neff', 'sigma8']\n",
    "cosmo_true_vals = [0.022762900000000003,\n",
    " 0.11283,\n",
    " -0.861513,\n",
    " 0.971515,\n",
    " 65.7317,\n",
    " 3.2,\n",
    " 0.7542319000000001] # test box 1"
   ]
  },
  {
   "cell_type": "raw",
   "metadata": {
    "collapsed": false
   },
   "source": [
    "tmp_cfg = copy.deepcopy(orig_cfg)\n",
    "\n",
    "directory = path.join(cov_path, \"mcmc/config/\")\n",
    "output_dir = path.join(emu_path, \"PearceMCMC/\")\n",
    "\n",
    "jobname_template = \"CAB_HOD_fixed_cosmo_nfw_conc_wp_ds_rmin_{rmin}_{emu_name}\"#_fixed_HOD\"\n",
    "\n",
    "for rmin in [None, 0.5, 1.0, 2.0]:\n",
    "    for emu_fname, emu_name, emu_cov in zip(emu_fnames, emu_names, emu_cov_fnames):\n",
    "        \n",
    "        if rmin is not None:\n",
    "            tmp_cfg['emu']['fixed_params'] = {'z': 0.0, 'rmin':rmin}\n",
    "            \n",
    "        tmp_cfg['emu']['training_file'] = emu_fname\n",
    "        tmp_cfg['emu']['emu_type'] = ['LemonPepperWet' for i in xrange(len(emu_fname))]\n",
    "        tmp_cfg['emu']['emu_cov_fname'] = emu_cov\n",
    "        \n",
    "        tmp_cfg['data']['obs']['obs'] = ['wp','ds']\n",
    "        tmp_cfg['data']['obs']['rbins'] = list(r_bins)\n",
    "        \n",
    "        #tmp_cfg['data']['true_data_fname']= [path.join(cov_path, 'mock_measurements/HODmock_wp.npy'),\n",
    "        #                                     path.join(cov_path, 'mock_measurements/HODmock_ds.npy')]\n",
    "        tmp_cfg['data']['true_cov_fname'] = meas_cov_fname\n",
    "        \n",
    "        \n",
    "        tmp_cfg['data']['cov']['meas_cov_fname'] = tmp_cfg['data']['true_cov_fname']\n",
    "        tmp_cfg['data']['cov']['emu_cov_fname'] = tmp_cfg['emu']['emu_cov_fname'] # TODO make this not be redundant\n",
    "        \n",
    "        jobname = jobname_template.format(rmin=rmin, emu_name=emu_name)\n",
    "        tmp_cfg['fname'] = path.join(output_dir, jobname+'.hdf5')\n",
    "        \n",
    "        \n",
    "        tmp_cfg['chain']['fixed_params'] = 'cosmo'\n",
    "\n",
    "        \n",
    "        tmp_cfg['sim']= {'gal_type': 'HOD',\n",
    "       'hod_name': 'hsabZheng07',\n",
    "       'hod_params': {'alpha': 1.083,\n",
    "        'logM0': 13.2,\n",
    "        'logM1': 14.2,\n",
    "        'sigma_logM': 0.2,\n",
    "        'conc_gal_bias': 1.0,\n",
    "         'mean_occupation_centrals_assembias_param1': 1.0,\n",
    "          'mean_occupation_satellites_assembias_param1': -1.0},\n",
    "        'cosmo_params': dict(zip(cosmo_pnames, cosmo_true_vals)),\n",
    "       'nd': '5e-4',\n",
    "       'scale_factor': 1.0,\n",
    "       'min_ptcl': 100, \n",
    "       'sim_hps': {'boxno': 1,\n",
    "        'downsample_factor': 1e-2,\n",
    "        'particles': True,\n",
    "        'realization': 1,\n",
    "        'system': 'ki-ls',\n",
    "        'sec_haloprop_key': 'halo_nfw_conc'},\n",
    "       'simname': 'testbox'}\n",
    "        \n",
    "        # TODO i shouldnt have to specify this this way\n",
    "        tmp_cfg['data']['sim'] = tmp_cfg['sim']\n",
    "        \n",
    "        tmp_cfg['chain']['nwalkers'] = n_walkers\n",
    "        tmp_cfg['chain']['nsteps'] = n_steps\n",
    "        tmp_cfg['chain']['mcmc_type'] = 'normal'\n",
    "        \n",
    "        # fix params during MCMC    \n",
    "        #tmp_cfg['chain']['fixed_params'].update(tmp_cfg['sim']['hod_params'])\n",
    "        \n",
    "        try:\n",
    "            del tmp_cfg['data']['true_data_fname']\n",
    "            del tmp_cfg['data']['true_cov_fname']\n",
    "        except KeyError:\n",
    "            pass\n",
    "\n",
    "        with open(path.join(directory, jobname +'.yaml'), 'w') as f:\n",
    "            yaml.dump(tmp_cfg, f)\n",
    "\n",
    "        #with open(path.join(directory, jobname + '.sbatch'), 'w') as f:\n",
    "        #    f.write(sbatch_template.format(jobname=jobname))\n",
    "            \n",
    "        with open(path.join(directory, jobname + '.bsub'), 'w') as f:\n",
    "            f.write(bsub_template.format(jobname=jobname))\n",
    "            #f.write(bsub_restart_template.format(jobname=jobname))"
   ]
  },
  {
   "cell_type": "raw",
   "metadata": {
    "collapsed": false
   },
   "source": [
    "tmp_cfg = copy.deepcopy(orig_cfg)\n",
    "\n",
    "directory = path.join(cov_path, \"mcmc/config/\")\n",
    "output_dir = path.join(emu_path, \"PearceMCMC/\")\n",
    "\n",
    "jobname_template = \"CAB_HOD_fixed_cosmo_lsd_wp_ds_rmin_{rmin}_{emu_name}\"#_fixed_HOD\"\n",
    "\n",
    "for rmin in [None, 0.5, 1.0, 2.0]:\n",
    "    for emu_fname, emu_name, emu_cov in zip(emu_fnames, emu_names, emu_cov_fnames):\n",
    "        \n",
    "        if rmin is not None:\n",
    "            tmp_cfg['emu']['fixed_params'] = {'z': 0.0, 'rmin':rmin}\n",
    "            \n",
    "        tmp_cfg['emu']['training_file'] = emu_fname\n",
    "        tmp_cfg['emu']['emu_type'] = ['LemonPepperWet' for i in xrange(len(emu_fname))]\n",
    "        tmp_cfg['emu']['emu_cov_fname'] = emu_cov\n",
    "        \n",
    "        tmp_cfg['data']['obs']['obs'] = ['wp','ds']\n",
    "        tmp_cfg['data']['obs']['rbins'] = list(r_bins)\n",
    "        \n",
    "        #tmp_cfg['data']['true_data_fname']= [path.join(cov_path, 'mock_measurements/HODmock_wp.npy'),\n",
    "        #                                     path.join(cov_path, 'mock_measurements/HODmock_ds.npy')]\n",
    "        tmp_cfg['data']['true_cov_fname'] = meas_cov_fname\n",
    "        \n",
    "        \n",
    "        tmp_cfg['data']['cov']['meas_cov_fname'] = tmp_cfg['data']['true_cov_fname']\n",
    "        tmp_cfg['data']['cov']['emu_cov_fname'] = tmp_cfg['emu']['emu_cov_fname'] # TODO make this not be redundant\n",
    "        \n",
    "        jobname = jobname_template.format(rmin=rmin, emu_name=emu_name)\n",
    "        tmp_cfg['fname'] = path.join(output_dir, jobname+'.hdf5')\n",
    "        \n",
    "        \n",
    "        tmp_cfg['chain']['fixed_params'] = 'cosmo'\n",
    "\n",
    "        tmp_cfg['sim']= {'gal_type': 'SHAM',\n",
    "       'nd': '5e-4',\n",
    "       'scale_factor': 1.0,\n",
    "       'min_ptcl': 100, \n",
    "       'simname': 'mdpl2'}\n",
    "        tmp_cfg['sim']= {'gal_type': 'HOD',\n",
    "       'hod_name': 'hsabZheng07',\n",
    "       'hod_params': {'alpha': 1.083,\n",
    "        'logM0': 13.2,\n",
    "        'logM1': 14.2,\n",
    "        'sigma_logM': 0.2,\n",
    "        'conc_gal_bias': 1.0,\n",
    "         'mean_occupation_centrals_assembias_param1': 1.0,\n",
    "          'mean_occupation_satellites_assembias_param1': -1.0},\n",
    "        'cosmo_params': dict(zip(cosmo_pnames, cosmo_true_vals)),\n",
    "       'nd': '5e-4',\n",
    "       'scale_factor': 1.0,\n",
    "       'min_ptcl': 100, \n",
    "       'sim_hps': {'boxno': 1,\n",
    "        'downsample_factor': 1e-2,\n",
    "        'particles': True,\n",
    "        'realization': 1,\n",
    "        'system': 'ki-ls',\n",
    "         'sec_haloprop_key': 'halo_local_density_10'},\n",
    "       'simname': 'testbox'}\n",
    "        \n",
    "        # TODO i shouldnt have to specify this this way\n",
    "        tmp_cfg['data']['sim'] = tmp_cfg['sim']\n",
    "        \n",
    "        tmp_cfg['chain']['nwalkers'] = n_walkers\n",
    "        tmp_cfg['chain']['nsteps'] = n_steps\n",
    "        tmp_cfg['chain']['mcmc_type'] = 'normal'\n",
    "        \n",
    "        # fix params during MCMC    \n",
    "        #tmp_cfg['chain']['fixed_params'].update(tmp_cfg['sim']['hod_params'])\n",
    "        \n",
    "        try:\n",
    "            del tmp_cfg['data']['true_data_fname']\n",
    "            del tmp_cfg['data']['true_cov_fname']\n",
    "        except KeyError:\n",
    "            pass\n",
    "\n",
    "        with open(path.join(directory, jobname +'.yaml'), 'w') as f:\n",
    "            yaml.dump(tmp_cfg, f)\n",
    "\n",
    "        #with open(path.join(directory, jobname + '.sbatch'), 'w') as f:\n",
    "        #    f.write(sbatch_template.format(jobname=jobname))\n",
    "            \n",
    "        with open(path.join(directory, jobname + '.bsub'), 'w') as f:\n",
    "            f.write(bsub_template.format(jobname=jobname))\n",
    "            #f.write(bsub_restart_template.format(jobname=jobname))"
   ]
  },
  {
   "cell_type": "code",
   "execution_count": null,
   "metadata": {
    "collapsed": true
   },
   "outputs": [],
   "source": []
  }
 ],
 "metadata": {
  "kernelspec": {
   "display_name": "Python [default]",
   "language": "python",
   "name": "python2"
  },
  "language_info": {
   "codemirror_mode": {
    "name": "ipython",
    "version": 2
   },
   "file_extension": ".py",
   "mimetype": "text/x-python",
   "name": "python",
   "nbconvert_exporter": "python",
   "pygments_lexer": "ipython2",
   "version": "2.7.13"
  }
 },
 "nbformat": 4,
 "nbformat_minor": 2
}

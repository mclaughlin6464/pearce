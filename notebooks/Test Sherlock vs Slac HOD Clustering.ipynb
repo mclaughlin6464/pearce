{
 "cells": [
  {
   "cell_type": "markdown",
   "metadata": {},
   "source": [
    "I've had issues in the past about the concentrations being wrong in some of the hlists. I suspect that the ones on sherlock are wrong relative to the ones on SLAC, and I want to confirm here. \n",
    "\n",
    "I'm gonna load up the xi_gg saved with the MCMC I ran. I'll then load up the box and HOD of the same params and compute it and see if they align. "
   ]
  },
  {
   "cell_type": "code",
   "execution_count": 1,
   "metadata": {
    "collapsed": true
   },
   "outputs": [],
   "source": [
    "import matplotlib\n",
    "from matplotlib import pyplot as plt\n",
    "%matplotlib inline\n",
    "import seaborn as sns\n",
    "sns.set()"
   ]
  },
  {
   "cell_type": "code",
   "execution_count": 2,
   "metadata": {
    "collapsed": true
   },
   "outputs": [],
   "source": [
    "import numpy as np\n",
    "import h5py\n",
    "from glob import glob\n",
    "from ast import literal_eval\n",
    "from os import path"
   ]
  },
  {
   "cell_type": "code",
   "execution_count": 15,
   "metadata": {
    "collapsed": true
   },
   "outputs": [],
   "source": [
    "from pearce.mocks import cat_dict"
   ]
  },
  {
   "cell_type": "code",
   "execution_count": 24,
   "metadata": {
    "collapsed": true
   },
   "outputs": [],
   "source": [
    "f = h5py.File('/u/ki/swmclau2/des/SherlockPearceMCMC/HOD_xi_gg_rmin_None_HOD_v5.hdf5', 'r')"
   ]
  },
  {
   "cell_type": "code",
   "execution_count": 12,
   "metadata": {
    "collapsed": false
   },
   "outputs": [],
   "source": [
    "xi_sherlock = f['data'][()]"
   ]
  },
  {
   "cell_type": "code",
   "execution_count": 13,
   "metadata": {
    "collapsed": false
   },
   "outputs": [],
   "source": [
    "sim_config = eval(f.attrs['sim'])"
   ]
  },
  {
   "cell_type": "code",
   "execution_count": 14,
   "metadata": {
    "collapsed": false
   },
   "outputs": [
    {
     "data": {
      "text/plain": [
       "{'cosmo_params': {'H0': 70.7317,\n",
       "  'Neff': 3.7,\n",
       "  'ln10As': 3.11395,\n",
       "  'ns': 0.953515,\n",
       "  'ombh2': 0.0217629,\n",
       "  'omch2': 0.12283,\n",
       "  'w0': -1.13151},\n",
       " 'gal_type': 'HOD',\n",
       " 'hod_name': 'zheng07',\n",
       " 'hod_params': {'alpha': 1.083,\n",
       "  'logM0': 13.2,\n",
       "  'logM1': 14.2,\n",
       "  'logMmin': 13.065313910378768,\n",
       "  'sigma_logM': 0.2},\n",
       " 'nd': '5e-4',\n",
       " 'scale_factor': 1.0,\n",
       " 'sim_hps': {'boxno': 3,\n",
       "  'downsample_factor': '1e-2',\n",
       "  'particles': False,\n",
       "  'realization': 2,\n",
       "  'system': 'sherlock'},\n",
       " 'simname': 'testbox'}"
      ]
     },
     "execution_count": 14,
     "metadata": {},
     "output_type": "execute_result"
    }
   ],
   "source": [
    "sim_config"
   ]
  },
  {
   "cell_type": "code",
   "execution_count": 26,
   "metadata": {
    "collapsed": true
   },
   "outputs": [],
   "source": [
    "f.close()"
   ]
  },
  {
   "cell_type": "code",
   "execution_count": 18,
   "metadata": {
    "collapsed": true
   },
   "outputs": [],
   "source": [
    "sim_hps = sim_config['sim_hps']\n",
    "sim_hps['system'] = 'ki-ls'"
   ]
  },
  {
   "cell_type": "code",
   "execution_count": 75,
   "metadata": {
    "collapsed": false
   },
   "outputs": [
    {
     "data": {
      "text/plain": [
       "{'boxno': 3,\n",
       " 'downsample_factor': '1e-2',\n",
       " 'particles': False,\n",
       " 'realization': 2,\n",
       " 'system': 'ki-ls'}"
      ]
     },
     "execution_count": 75,
     "metadata": {},
     "output_type": "execute_result"
    }
   ],
   "source": [
    "sim_hps"
   ]
  },
  {
   "cell_type": "code",
   "execution_count": 19,
   "metadata": {
    "collapsed": false
   },
   "outputs": [],
   "source": [
    "cat = cat_dict[sim_config['simname']](scale_factor = sim_config['scale_factor'], **sim_hps)"
   ]
  },
  {
   "cell_type": "code",
   "execution_count": 20,
   "metadata": {
    "collapsed": true
   },
   "outputs": [],
   "source": [
    "cat.load(sim_config['scale_factor'], HOD = sim_config['hod_name'])"
   ]
  },
  {
   "cell_type": "code",
   "execution_count": 23,
   "metadata": {
    "collapsed": false
   },
   "outputs": [
    {
     "name": "stderr",
     "output_type": "stream",
     "text": [
      "/u/ki/swmclau2/.local/lib/python2.7/site-packages/halotools-0.7.dev5005-py2.7-linux-x86_64.egg/halotools/empirical_models/phase_space_models/analytic_models/monte_carlo_helpers.py:205: FutureWarning: Using a non-tuple sequence for multidimensional indexing is deprecated; use `arr[tuple(seq)]` instead of `arr[seq]`. In the future this will be interpreted as an array index, `arr[np.array(seq)]`, which will result either in an error or a different result.\n",
      "  self.rad_prof_func_table_indices[digitized_param_list]\n",
      "/u/ki/swmclau2/.local/lib/python2.7/site-packages/halotools-0.7.dev5005-py2.7-linux-x86_64.egg/halotools/empirical_models/phase_space_models/analytic_models/monte_carlo_helpers.py:522: FutureWarning: Using a non-tuple sequence for multidimensional indexing is deprecated; use `arr[tuple(seq)]` instead of `arr[seq]`. In the future this will be interpreted as an array index, `arr[np.array(seq)]`, which will result either in an error or a different result.\n",
      "  self.rad_prof_func_table_indices[digitized_param_list]\n"
     ]
    }
   ],
   "source": [
    "cat.populate(sim_config['hod_params'])"
   ]
  },
  {
   "cell_type": "code",
   "execution_count": 51,
   "metadata": {
    "collapsed": true
   },
   "outputs": [],
   "source": [
    "r_bins = np.logspace(-1.1, 1.6, 19)\n",
    "r_points = (r_bins[1:] + r_bins[:-1])/2.0"
   ]
  },
  {
   "cell_type": "code",
   "execution_count": 69,
   "metadata": {
    "collapsed": false
   },
   "outputs": [
    {
     "name": "stdout",
     "output_type": "stream",
     "text": [
      "0 1 2 3 4 5 6 7 8 9\n"
     ]
    }
   ],
   "source": [
    "xis = np.zeros((10, 18))\n",
    "for i in xrange(10):\n",
    "    print i,\n",
    "    cat.populate()\n",
    "    xis[i] =  cat.calc_xi(rbins = r_bins)\n",
    "    \n",
    "xi_slac = xis.mean(axis = 0).squeeze()"
   ]
  },
  {
   "cell_type": "code",
   "execution_count": 70,
   "metadata": {
    "collapsed": false
   },
   "outputs": [
    {
     "data": {
      "image/png": "[encoded data removed]",
      "text/plain": [
       "<matplotlib.figure.Figure at 0x7f7d7081a910>"
      ]
     },
     "metadata": {},
     "output_type": "display_data"
    }
   ],
   "source": [
    "plt.plot(r_points, xi_slac, label = 'SLAC')\n",
    "plt.plot(r_points, xi_sherlock, label = 'Sherlock')\n",
    "plt.legend(loc='best')\n",
    "plt.loglog()\n",
    "plt.show();"
   ]
  },
  {
   "cell_type": "code",
   "execution_count": 71,
   "metadata": {
    "collapsed": false
   },
   "outputs": [
    {
     "data": {
      "image/png": "[encoded data removed]",
      "text/plain": [
       "<matplotlib.figure.Figure at 0x7f7d7088e310>"
      ]
     },
     "metadata": {},
     "output_type": "display_data"
    }
   ],
   "source": [
    "plt.plot(r_points, xi_sherlock/xi_slac, label = 'Sherlock')\n",
    "plt.legend(loc='best')\n",
    "plt.xscale('log')\n",
    "plt.show();"
   ]
  },
  {
   "cell_type": "code",
   "execution_count": 74,
   "metadata": {
    "collapsed": false
   },
   "outputs": [
    {
     "data": {
      "text/html": [
       "&lt;Column name=&apos;halo_nfw_conc&apos; dtype=&apos;float32&apos; length=9551524&gt;\n",
       "<table>\n",
       "<tr><td>17.065468</td></tr>\n",
       "<tr><td>13.154124</td></tr>\n",
       "<tr><td>4.845617</td></tr>\n",
       "<tr><td>9.475545</td></tr>\n",
       "<tr><td>75.55749</td></tr>\n",
       "<tr><td>18.425201</td></tr>\n",
       "<tr><td>18.63927</td></tr>\n",
       "<tr><td>6.6950407</td></tr>\n",
       "<tr><td>10.978838</td></tr>\n",
       "<tr><td>10.647736</td></tr>\n",
       "<tr><td>15.07388</td></tr>\n",
       "<tr><td>38.473644</td></tr>\n",
       "<tr><td>...</td></tr>\n",
       "<tr><td>inf</td></tr>\n",
       "<tr><td>9.891883</td></tr>\n",
       "<tr><td>5.300965</td></tr>\n",
       "<tr><td>3.1373608</td></tr>\n",
       "<tr><td>13.481448</td></tr>\n",
       "<tr><td>8.77236</td></tr>\n",
       "<tr><td>7.082626</td></tr>\n",
       "<tr><td>3.7569103</td></tr>\n",
       "<tr><td>15.423403</td></tr>\n",
       "<tr><td>11.744069</td></tr>\n",
       "<tr><td>20.26937</td></tr>\n",
       "<tr><td>8.030884</td></tr>\n",
       "</table>"
      ],
      "text/plain": [
       "<Column name='halo_nfw_conc' dtype='float32' length=9551524>\n",
       "17.065468\n",
       "13.154124\n",
       " 4.845617\n",
       " 9.475545\n",
       " 75.55749\n",
       "18.425201\n",
       " 18.63927\n",
       "6.6950407\n",
       "10.978838\n",
       "10.647736\n",
       " 15.07388\n",
       "38.473644\n",
       "      ...\n",
       "      inf\n",
       " 9.891883\n",
       " 5.300965\n",
       "3.1373608\n",
       "13.481448\n",
       "  8.77236\n",
       " 7.082626\n",
       "3.7569103\n",
       "15.423403\n",
       "11.744069\n",
       " 20.26937\n",
       " 8.030884"
      ]
     },
     "execution_count": 74,
     "metadata": {},
     "output_type": "execute_result"
    }
   ],
   "source": [
    "cat.halocat.halo_table['halo_nfw_conc']"
   ]
  },
  {
   "cell_type": "code",
   "execution_count": null,
   "metadata": {
    "collapsed": true
   },
   "outputs": [],
   "source": []
  }
 ],
 "metadata": {
  "kernelspec": {
   "display_name": "Python [conda env:hodemulator]",
   "language": "python",
   "name": "conda-env-hodemulator-py"
  },
  "language_info": {
   "codemirror_mode": {
    "name": "ipython",
    "version": 2
   },
   "file_extension": ".py",
   "mimetype": "text/x-python",
   "name": "python",
   "nbconvert_exporter": "python",
   "pygments_lexer": "ipython2",
   "version": "2.7.13"
  }
 },
 "nbformat": 4,
 "nbformat_minor": 0
}

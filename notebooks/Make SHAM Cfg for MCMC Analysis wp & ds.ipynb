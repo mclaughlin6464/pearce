{
 "cells": [
  {
   "cell_type": "markdown",
   "metadata": {},
   "source": [
    "Now that I've streamlined the MCMC process, I am going to submit multiple chains simultaneously. This notebook will make multiple, similar config files, for broad comparison. \n",
    "\n",
    "This may be rolled into pearce as a helper function, I haven't decided."
   ]
  },
  {
   "cell_type": "markdown",
   "metadata": {},
   "source": [
    "For rmin 0, 0.5, 1.0:\n",
    "\n",
    "    For no ab, HSAB and CorrAB emu:\n",
    "\n",
    "        Vpeak sham\n",
    "        Mpeak sham\n",
    "        HOD\n",
    "        HSAB HOD "
   ]
  },
  {
   "cell_type": "code",
   "execution_count": 1,
   "metadata": {
    "collapsed": true
   },
   "outputs": [],
   "source": [
    "import yaml\n",
    "import copy\n",
    "from os import path\n",
    "import numpy as np"
   ]
  },
  {
   "cell_type": "code",
   "execution_count": 2,
   "metadata": {
    "collapsed": false
   },
   "outputs": [],
   "source": [
    "orig_cfg_fname = '/u/ki/swmclau2/Git/pearce/bin/mcmc/nh_gg_sham_hsab_mcmc_config.yaml'\n",
    "with open(orig_cfg_fname, 'r') as yamlfile:\n",
    "    orig_cfg = yaml.load(yamlfile)"
   ]
  },
  {
   "cell_type": "code",
   "execution_count": 3,
   "metadata": {
    "collapsed": false
   },
   "outputs": [
    {
     "data": {
      "text/plain": [
       "{'chain': {'fixed_params': {},\n",
       "  'nburn': 0,\n",
       "  'nsteps': 10000,\n",
       "  'nwalkers': 500,\n",
       "  'seed': 0},\n",
       " 'data': {'cov': {'emu_cov_fname': '/home/users/swmclau2/Git/pearce/bin/covmat/xi_gg_nh_emu_cov.npy',\n",
       "   'meas_cov_fname': '/home/users/swmclau2/Git/pearce/notebooks/meas_cov_testboxes_gg.npy'},\n",
       "  'obs': {'mean': False,\n",
       "   'obs': 'xi',\n",
       "   'rbins': [0.07943282,\n",
       "    0.11220185,\n",
       "    0.15848932,\n",
       "    0.22387211,\n",
       "    0.31622777,\n",
       "    0.44668359,\n",
       "    0.63095734,\n",
       "    0.89125094,\n",
       "    1.25892541,\n",
       "    1.77827941,\n",
       "    2.51188643,\n",
       "    3.54813389,\n",
       "    5.01187234,\n",
       "    7.07945784,\n",
       "    10.0,\n",
       "    14.12537545,\n",
       "    19.95262315,\n",
       "    28.18382931,\n",
       "    39.81071706]},\n",
       "  'sim': {'gal_type': 'SHAM',\n",
       "   'halo_property': 'halo_vpeak',\n",
       "   'min_ptcl': 100,\n",
       "   'nd': '5e-4',\n",
       "   'scale_factor': 1.001,\n",
       "   'scatter': 0.2,\n",
       "   'sim_hps': {'system': 'sherlock'},\n",
       "   'simname': 'ds_14_b_sub'},\n",
       "  'true_cov_fname': ['/home/users/swmclau2/Git/pearce/bin/shams/xigg_cov_mcmc.npy'],\n",
       "  'true_data_fname': ['/home/users/swmclau2/Git/pearce/bin/shams/ds14b_sub_xi_gg.npy']},\n",
       " 'emu': {'emu_hps': {},\n",
       "  'emu_type': 'NashvilleHot',\n",
       "  'fixed_params': {'z': 0.0},\n",
       "  'training_file': '/home/users/swmclau2/scratch/xi_gg_abzheng07/PearceXiggHSABCosmo.hdf5'},\n",
       " 'fname': '/scratch/users/swmclau2/PearceMCMC/pearce_mcmc_nh_gg_sham_hsab.hdf5'}"
      ]
     },
     "execution_count": 3,
     "metadata": {},
     "output_type": "execute_result"
    }
   ],
   "source": [
    "orig_cfg"
   ]
  },
  {
   "cell_type": "raw",
   "metadata": {
    "collapsed": true
   },
   "source": [
    "orig_sbatch_fname = '/home/users/swmclau2/Git/pearce/bin/mcmc/nh_gg_sham_hsab_mcmc_config.sbatch'\n",
    "with open(orig_sbatch_fname, 'r') as f:\n",
    "    lines = []\n",
    "    for line in f:\n",
    "        lines.append(line)\n",
    "        \n",
    "orig_sbatch = ''.join(lines)"
   ]
  },
  {
   "cell_type": "raw",
   "metadata": {
    "collapsed": true
   },
   "source": [
    "#this will enable easier string formatting\n",
    "sbatch_template = \"\"\"#!/bin/bash\n",
    "#SBATCH --job-name={jobname}\n",
    "#SBATCH --time=12:00:00\n",
    "#SBATCH -p kipac\n",
    "#SBATCH -o /home/users/swmclau2/Git/pearce/bin/mcmc/config/{jobname}.out\n",
    "#SBATCH --ntasks=16\n",
    "###SBATCH --exclusive\n",
    "\n",
    "module load python/2.7.13\n",
    "module load py-scipystack\n",
    "module load hdf5/1.10.0p1\n",
    "module load py-numpy\n",
    "\n",
    "python /home/users/swmclau2/Git/pearce/pearce/inference/initialize_mcmc.py {jobname}.yaml\n",
    "#python /home/users/swmclau2/Git/pearce/pearce/inference/run_mcmc.py {jobname}.yaml\n",
    "\"\"\""
   ]
  },
  {
   "cell_type": "code",
   "execution_count": 4,
   "metadata": {
    "collapsed": true
   },
   "outputs": [],
   "source": [
    "bsub_template=\"\"\"#BSUB -q medium \n",
    "#BSUB -W 24:00\n",
    "#BSUB -J {jobname}\n",
    "#BSUB -oo /u/ki/swmclau2/Git/pearce/bin/mcmc/config/{jobname}.out    \n",
    "#BSUB -n 8 \n",
    "#BSUB -R \"span[ptile=8]\"\n",
    "\n",
    "python /u/ki/swmclau2/Git/pearce/pearce/inference/initialize_mcmc.py {jobname}.yaml\n",
    "python /u/ki/swmclau2/Git/pearce/pearce/inference/run_mcmc.py {jobname}.yaml\n",
    "\"\"\""
   ]
  },
  {
   "cell_type": "raw",
   "metadata": {
    "collapsed": true
   },
   "source": [
    "#emu fnames\n",
    "emu_fnames = ['/scratch/users/swmclau2/xi_gg_zheng07_cosmo_v3/PearceXiggCosmo.hdf5',\n",
    "    '/scratch/users/swmclau2/xi_gg_hsabzheng07_v2/PearceXiggHSABCosmo.hdf5',\n",
    "    '/scratch/users/swmclau2/xi_gg_corrabzheng07_v2/PearceXiggCosmoCorrAB.hdf5']\n",
    "\n",
    "emu_names = ['HOD', 'HSAB', 'CorrAB']"
   ]
  },
  {
   "cell_type": "code",
   "execution_count": 5,
   "metadata": {
    "collapsed": true
   },
   "outputs": [],
   "source": [
    "#emu fnames\n",
    "#emu_fnames = [#'/nfs/slac/g/ki/ki18/des/swmclau2/xi_gg_zheng07_v4/PearceXiggCosmo.hdf5',\\\n",
    "#              '/nfs/slac/g/ki/ki18/des/swmclau2/xi_gg_hsabzheng07_v2/PearceXiggCosmoCorrAB.hdf5']\n",
    "emu_fnames = [['/u/ki/swmclau2/des/wp_zheng07/PearceWpCosmo.hdf5', '/u/ki/swmclau2/des/ds_zheng07/PearceDsCosmo.hdf5']]\n",
    "#emu_cov_fnames = [#'/afs/slac.stanford.edu/u/ki/swmclau2/Git/pearce/bin/covmat/xi_gg_nh_emu_cov_v4.npy',\n",
    "#                  '/afs/slac.stanford.edu/u/ki/swmclau2/Git/pearce/bin/covmat/xi_gg_nh_emu_hsab_cov_v4.npy']\n",
    "emu_names = ['HOD']"
   ]
  },
  {
   "cell_type": "raw",
   "metadata": {
    "collapsed": true
   },
   "source": [
    "np.save('dummy_emu_covmat.npy', np.zeros((18,18)))"
   ]
  },
  {
   "cell_type": "code",
   "execution_count": 6,
   "metadata": {
    "collapsed": true
   },
   "outputs": [],
   "source": [
    "meas_cov_fname = '/u/ki/swmclau2/Git/pearce/bin/covmat/wp_ds_full_covmat.npy'\n",
    "\n",
    "# TODO replace with actual ones onace test boxes are done \n",
    "emu_cov_fnames = [['/u/ki/swmclau2/Git/pearce/bin/optimization/wp_hod_emu_cov.npy', \n",
    "                   '/u/ki/swmclau2/Git/pearce/bin/optimization/ds_hod_emu_cov.npy']]"
   ]
  },
  {
   "cell_type": "raw",
   "metadata": {
    "collapsed": true
   },
   "source": [
    "# prep full covs\n",
    "full_covs = []\n",
    "for emu_name, emu_fname, cov_fname in zip(emu_names, emu_fnames, emu_cov_fnames):\n",
    "    cov = np.load(cov_fname)\n",
    "    \n",
    "    full_cov = cov+meas_cov\n",
    "    fname = '/afs/slac.stanford.edu/u/ki/swmclau2/Git/pearce/notebooks/%s_full_cov.npy'%emu_name\n",
    "    np.savetxt(fname, full_cov)\n",
    "    full_covs.append(fname)"
   ]
  },
  {
   "cell_type": "markdown",
   "metadata": {},
   "source": [
    "## Vpeak SHAM\n",
    "----\n"
   ]
  },
  {
   "cell_type": "raw",
   "metadata": {},
   "source": [
    "tmp_cfg = copy.deepcopy(orig_cfg)\n",
    "directory = \"/afs/slac.stanford.edu/u/ki/swmclau2/Git/pearce/bin/mcmc/config/\"\n",
    "output_dir = \"/nfs/slac/g/ki/ki18/des/swmclau2/PearceMCMC/\"\n",
    "jobname_template = \"VpeakSHAM_xi_gg_rmin_{rmin}_{emu_name}_v3\"\n",
    "\n",
    "for rmin in [None, 0.5, 1.0]:\n",
    "    for emu_fname, emu_name, emu_cov, ecf in zip(emu_fnames, emu_names, full_covs, emu_cov_fnames):\n",
    "        \n",
    "        if rmin is not None:\n",
    "            tmp_cfg['emu']['fixed_params'] = {'z': 0.0, 'rmin':rmin}\n",
    "            \n",
    "        tmp_cfg['emu']['training_file'] = emu_fname\n",
    "        \n",
    "        tmp_cfg['data']['true_data_fname']= ['/afs/slac.stanford.edu/u/ki/swmclau2/Git/pearce/bin/shams/ds14b_sub_xi_gg.npy']\n",
    "        tmp_cfg['data']['true_cov_fname'] = [emu_cov]\n",
    "        tmp_cfg['chain']['nsteps'] = 20000\n",
    "        tmp_cfg['chain']['nwalkers'] = 100\n",
    "        \n",
    "        tmp_cfg['data']['sim']['sim_hps']['system'] = 'ki-ls'\n",
    "        tmp_cfg['data']['cov']['emu_cov_fname'] = ecf #not used, but save anyway\n",
    "        tmp_cfg['data']['cov']['meas_cov_fname'] = meas_cov_fname\n",
    "        \n",
    "        jobname = jobname_template.format(rmin=rmin, emu_name=emu_name)\n",
    "        tmp_cfg['fname'] = path.join(output_dir, jobname+'.hdf5')\n",
    "\n",
    "        with open(path.join(directory, jobname +'.yaml'), 'w') as f:\n",
    "            yaml.dump(tmp_cfg, f)\n",
    "\n",
    "        with open(path.join(directory, jobname + '.bsub'), 'w') as f:\n",
    "            f.write(bsub_template.format(jobname=jobname))"
   ]
  },
  {
   "cell_type": "markdown",
   "metadata": {},
   "source": [
    "## Mpeak SHAM\n",
    "----\n"
   ]
  },
  {
   "cell_type": "raw",
   "metadata": {
    "collapsed": true
   },
   "source": [
    "tmp_cfg = copy.deepcopy(orig_cfg)\n",
    "directory = \"/afs/slac.stanford.edu/u/ki/swmclau2/Git/pearce/bin/mcmc/config/\"\n",
    "output_dir = \"/nfs/slac/g/ki/ki18/des/swmclau2/PearceMCMC/\"\n",
    "jobname_template = \"MpeakSHAM_xi_gg_rmin_{rmin}_{emu_name}_v3\"\n",
    "\n",
    "for rmin in [None, 0.5, 1.0, 2.0]:\n",
    "    for emu_fname, emu_name, emu_cov in zip(emu_fnames, emu_names, full_covs):\n",
    "        \n",
    "        if rmin is not None:\n",
    "            tmp_cfg['emu']['fixed_params'] = {'z': 0.0, 'rmin':rmin}\n",
    "            \n",
    "        tmp_cfg['emu']['training_file'] = emu_fname\n",
    "        \n",
    "        tmp_cfg['data']['true_data_fname']= ['/afs/slac.stanford.edu/u/ki/swmclau2/Git/pearce/bin/shams/ds14b_sub_mpeak_xi_gg.npy']\n",
    "        tmp_cfg['data']['true_cov_fname'] = [emu_cov]\n",
    "        tmp_cfg['chain']['nsteps'] = 20000\n",
    "        tmp_cfg['chain']['nwalkers'] = 100\n",
    "\n",
    "        \n",
    "        tmp_cfg['sim']['sim_hps']['system'] = 'ki-ls'\n",
    "        tmp_cfg['data']['cov']['emu_cov_fname'] = ecf #not used, but save anyway\n",
    "        tmp_cfg['data']['cov']['emu_cov_fname'] = meas_cov_fname\n",
    "        \n",
    "        jobname = jobname_template.format(rmin=rmin, emu_name=emu_name)\n",
    "        tmp_cfg['fname'] = path.join(output_dir, jobname+'.hdf5')\n",
    "\n",
    "        with open(path.join(directory, jobname +'.yaml'), 'w') as f:\n",
    "            yaml.dump(tmp_cfg, f)\n",
    "\n",
    "        with open(path.join(directory, jobname + '.bsub'), 'w') as f:\n",
    "            f.write(bsub_template.format(jobname=jobname))"
   ]
  },
  {
   "cell_type": "markdown",
   "metadata": {},
   "source": [
    "## HOD\n",
    "----\n"
   ]
  },
  {
   "cell_type": "code",
   "execution_count": 7,
   "metadata": {
    "collapsed": true
   },
   "outputs": [],
   "source": [
    "#orig_cfg_fname = '/u/ki/swmclau2//Git/pearce/bin/mcmc/nh_gg_sham_hsab_mcmc_config.yaml'\n",
    "with open(orig_cfg_fname, 'r') as yamlfile:\n",
    "    orig_cfg = yaml.load(yamlfile)"
   ]
  },
  {
   "cell_type": "code",
   "execution_count": 8,
   "metadata": {
    "collapsed": false
   },
   "outputs": [
    {
     "data": {
      "text/plain": [
       "{'chain': {'fixed_params': {},\n",
       "  'nburn': 0,\n",
       "  'nsteps': 10000,\n",
       "  'nwalkers': 500,\n",
       "  'seed': 0},\n",
       " 'data': {'cov': {'emu_cov_fname': '/home/users/swmclau2/Git/pearce/bin/covmat/xi_gg_nh_emu_cov.npy',\n",
       "   'meas_cov_fname': '/home/users/swmclau2/Git/pearce/notebooks/meas_cov_testboxes_gg.npy'},\n",
       "  'obs': {'mean': False,\n",
       "   'obs': 'xi',\n",
       "   'rbins': [0.07943282,\n",
       "    0.11220185,\n",
       "    0.15848932,\n",
       "    0.22387211,\n",
       "    0.31622777,\n",
       "    0.44668359,\n",
       "    0.63095734,\n",
       "    0.89125094,\n",
       "    1.25892541,\n",
       "    1.77827941,\n",
       "    2.51188643,\n",
       "    3.54813389,\n",
       "    5.01187234,\n",
       "    7.07945784,\n",
       "    10.0,\n",
       "    14.12537545,\n",
       "    19.95262315,\n",
       "    28.18382931,\n",
       "    39.81071706]},\n",
       "  'sim': {'gal_type': 'SHAM',\n",
       "   'halo_property': 'halo_vpeak',\n",
       "   'min_ptcl': 100,\n",
       "   'nd': '5e-4',\n",
       "   'scale_factor': 1.001,\n",
       "   'scatter': 0.2,\n",
       "   'sim_hps': {'system': 'sherlock'},\n",
       "   'simname': 'ds_14_b_sub'},\n",
       "  'true_cov_fname': ['/home/users/swmclau2/Git/pearce/bin/shams/xigg_cov_mcmc.npy'],\n",
       "  'true_data_fname': ['/home/users/swmclau2/Git/pearce/bin/shams/ds14b_sub_xi_gg.npy']},\n",
       " 'emu': {'emu_hps': {},\n",
       "  'emu_type': 'NashvilleHot',\n",
       "  'fixed_params': {'z': 0.0},\n",
       "  'training_file': '/home/users/swmclau2/scratch/xi_gg_abzheng07/PearceXiggHSABCosmo.hdf5'},\n",
       " 'fname': '/scratch/users/swmclau2/PearceMCMC/pearce_mcmc_nh_gg_sham_hsab.hdf5'}"
      ]
     },
     "execution_count": 8,
     "metadata": {},
     "output_type": "execute_result"
    }
   ],
   "source": [
    "orig_cfg"
   ]
  },
  {
   "cell_type": "code",
   "execution_count": 9,
   "metadata": {
    "collapsed": true
   },
   "outputs": [],
   "source": [
    "tmp_cfg = copy.deepcopy(orig_cfg)\n",
    "directory = \"/u/ki/swmclau2/Git/pearce/bin/mcmc/config/\"\n",
    "output_dir = \"/nfs/slac/g/ki/ki18/des/swmclau2/PearceMCMC/\"\n",
    "#output_dir = \"/afs/slac.stanford.edu/u/ki/swmclau2\"\n",
    "\n",
    "jobname_template = \"HOD_wp_ds_rmin_{rmin}_{emu_name}\"\n",
    "\n",
    "for rmin in [None, 0.5, 1.0, 2.0]:\n",
    "    for emu_fname, emu_name, emu_cov in zip(emu_fnames, emu_names, emu_cov_fnames):\n",
    "        \n",
    "        tmp_cfg['chain']['nwalkers'] = 200\n",
    "        if rmin is not None:\n",
    "            tmp_cfg['emu']['fixed_params'] = {'z': 0.0, 'rmin':rmin}\n",
    "            \n",
    "        tmp_cfg['emu']['training_file'] = emu_fname\n",
    "        tmp_cfg['emu']['emu_type'] = ['NashvilleHot' for i in xrange(len(emu_fname))]\n",
    "        tmp_cfg['emu']['emu_cov_fname'] = emu_cov\n",
    "        \n",
    "        tmp_cfg['data']['obs']['obs'] = ['wp','ds']\n",
    "        tmp_cfg['data']['cov']['meas_cov_fname'] = meas_cov_fname\n",
    "        tmp_cfg['data']['cov']['emu_cov_fname'] = tmp_cfg['emu']['emu_cov_fname'] # TODO make this not be redundant\n",
    "        \n",
    "        jobname = jobname_template.format(rmin=rmin, emu_name=emu_name)\n",
    "        tmp_cfg['fname'] = path.join(output_dir, jobname+'.hdf5')\n",
    "        \n",
    "        tmp_cfg['sim']= {'gal_type': 'HOD',\n",
    "       'hod_name': 'zheng07',\n",
    "       'hod_params': {'alpha': 1.083,\n",
    "        'logM0': 13.2,\n",
    "        'logM1': 14.2,\n",
    "        'sigma_logM': 0.2},\n",
    "       'nd': '5e-4',\n",
    "       'scale_factor': 1.0,\n",
    "       'min_ptcl': 100, \n",
    "       'sim_hps': {'boxno': 1,\n",
    "        'downsample_factor': 1e-2,\n",
    "        'particles': True,\n",
    "        'realization': 0,\n",
    "        'system': 'ki-ls'},\n",
    "       'simname': 'testbox'}\n",
    "        \n",
    "        # TODO i shouldnt have to specify this this way\n",
    "        tmp_cfg['data']['sim'] = tmp_cfg['sim']\n",
    "        \n",
    "        \n",
    "        tmp_cfg['chain']['nsteps'] = 10000\n",
    "        tmp_cfg['chain']['mcmc_type'] = 'normal'\n",
    "        \n",
    "        try:\n",
    "            del tmp_cfg['data']['true_data_fname']\n",
    "            del tmp_cfg['data']['true_cov_fname']\n",
    "        except KeyError:\n",
    "            pass\n",
    "\n",
    "        with open(path.join(directory, jobname +'.yaml'), 'w') as f:\n",
    "            yaml.dump(tmp_cfg, f)\n",
    "\n",
    "        with open(path.join(directory, jobname + '.bsub'), 'w') as f:\n",
    "            f.write(bsub_template.format(jobname=jobname))"
   ]
  },
  {
   "cell_type": "markdown",
   "metadata": {},
   "source": [
    "## HSAB HOD\n",
    "----\n"
   ]
  },
  {
   "cell_type": "raw",
   "metadata": {
    "collapsed": true
   },
   "source": [
    "tmp_cfg = copy.deepcopy(orig_cfg)\n",
    "directory = \"/afs/slac.stanford.edu/u/ki/swmclau2/Git/pearce/bin/mcmc/config/\"\n",
    "output_dir = \"/nfs/slac/g/ki/ki18/des/swmclau2/PearceMCMC/\"\n",
    "jobname_template = \"HSAB_HOD_xi_gg_rmin_{rmin}_{emu_name}_v3\"\n",
    "\n",
    "for rmin in [None, 0.5, 1.0, 2.0]:\n",
    "    for emu_fname, emu_name, emu_cov in zip(emu_fnames, emu_names, emu_cov_fnames):\n",
    "        \n",
    "        tmp_cfg['chain']['nwalkers'] = 100\n",
    "        if rmin is not None:\n",
    "            tmp_cfg['emu']['fixed_params'] = {'z': 0.0, 'rmin':rmin}\n",
    "            \n",
    "        tmp_cfg['emu']['training_file'] = emu_fname  \n",
    "        tmp_cfg['data']['cov']['emu_cov_fname'] = emu_cov\n",
    "        tmp_cfg['data']['cov']['emu_cov_fname'] = meas_cov_fname\n",
    "\n",
    "        tmp_cfg['sim']= {'gal_type': 'HOD',\n",
    "       'hod_name': 'hsabZheng07',\n",
    "       'hod_params': {'alpha': 1.083,\n",
    "        'logM0': 13.2,\n",
    "        'logM1': 14.2,\n",
    "        'sigma_logM': 0.2,\n",
    "        'mean_occupation_cens_param1':0.6,\n",
    "        'mean_occupation_sats_param1':-0.4},\n",
    "       'nd': '5e-4',\n",
    "       'scale_factor': 1.0,\n",
    "       'sim_hps': {'boxno': 0,\n",
    "        'downsample_factor': '1e-2',\n",
    "        'particles': False,\n",
    "        'realization': 4,\n",
    "        'system': 'ki-ls'},\n",
    "       'simname': 'testbox'}\n",
    "        \n",
    "        tmp_cfg['chain']['nsteps'] = 20000\n",
    "\n",
    "\n",
    "        jobname = jobname_template.format(rmin=rmin, emu_name=emu_name)\n",
    "        tmp_cfg['fname'] = path.join(output_dir, jobname+'.hdf5')\n",
    "\n",
    "        with open(path.join(directory, jobname +'.yaml'), 'w') as f:\n",
    "            yaml.dump(tmp_cfg, f)\n",
    "\n",
    "        with open(path.join(directory, jobname + '.bsub'), 'w') as f:\n",
    "            f.write(bsub_template.format(jobname=jobname))"
   ]
  },
  {
   "cell_type": "code",
   "execution_count": null,
   "metadata": {
    "collapsed": true
   },
   "outputs": [],
   "source": []
  }
 ],
 "metadata": {
  "kernelspec": {
   "display_name": "Python [default]",
   "language": "python",
   "name": "python2"
  },
  "language_info": {
   "codemirror_mode": {
    "name": "ipython",
    "version": 2
   },
   "file_extension": ".py",
   "mimetype": "text/x-python",
   "name": "python",
   "nbconvert_exporter": "python",
   "pygments_lexer": "ipython2",
   "version": "2.7.13"
  }
 },
 "nbformat": 4,
 "nbformat_minor": 2
}

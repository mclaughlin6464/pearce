{
 "cells": [
  {
   "cell_type": "markdown",
   "metadata": {},
   "source": [
    "This notebook will make abundance matched catalogs for Jeremy and Zhongxu. I'm gonna send this notebook along to them as well in case there's something not quite right that they want to adjust. The catalogs requested were defined as follows:\n",
    "- 2 catalogs, M_peak and V_max @ M_peak (which is how, I believe, V_max is defined in this catalog. Will check tho).\n",
    "- scatter 0.18 dex\n",
    "- number density of 4.2e-4\n",
    "- z = 0.55\n",
    "- using the SMF Jeremy provided, which is in this directory with name DR10_cBOSS_WISE_SMF_z0.45_0.60_M7.dat\n",
    "- On DS14, which is located on ki-ls at /nfs/slac/des/fs1/g/sims/yymao/ds14_b_sub, courtesy of Yao\n",
    "- Include in the catalog, along with the galaxies, M_vir, x, y, z, vx, vy, vz, M_gal, am_i_a_satellite?, and M_host"
   ]
  },
  {
   "cell_type": "code",
   "execution_count": 9,
   "metadata": {
    "collapsed": true
   },
   "outputs": [],
   "source": [
    "from os import path\n",
    "import numpy as np\n",
    "from AbundanceMatching import *\n",
    "from halotools.sim_manager import RockstarHlistReader, CachedHaloCatalog"
   ]
  },
  {
   "cell_type": "code",
   "execution_count": 10,
   "metadata": {
    "collapsed": true
   },
   "outputs": [],
   "source": [
    "from matplotlib import pyplot as plt\n",
    "%matplotlib inline\n",
    "import seaborn as sns\n",
    "sns.set()"
   ]
  },
  {
   "cell_type": "code",
   "execution_count": 11,
   "metadata": {},
   "outputs": [
    {
     "name": "stdout",
     "output_type": "stream",
     "text": [
      "/scratch/users/swmclau2/hlists/ds_14_b_sub/hlists/hlist_0.65000.list\n"
     ]
    }
   ],
   "source": [
    "#halo_dir = '/nfs/slac/des/fs1/g/sims/yymao/ds14_b_sub/hlists/'\n",
    "halo_dir = '/scratch/users/swmclau2/hlists/ds_14_b_sub/hlists/'\n",
    "a = 0.65\n",
    "z = 1.0/a - 1 # ~ 0.55\n",
    "fname = path.join(halo_dir,  'hlist_%.5f.list'%a)\n",
    "print fname"
   ]
  },
  {
   "cell_type": "code",
   "execution_count": 12,
   "metadata": {
    "collapsed": true
   },
   "outputs": [],
   "source": [
    "columns_to_keep = {'halo_id': (1, 'i8'), 'halo_upid':(6,'i8'), 'halo_mvir':(10, 'f4'), 'halo_x':(17, 'f4'),\\\n",
    "                        'halo_y':(18,'f4'), 'halo_z':(19,'f4'),'halo_vx':(20,'f4'), 'halo_vy':(21, 'f4'), 'halo_vz':(22,'f4'),\n",
    "                  'halo_rvir': (11, 'f4'),'halo_rs':(12,'f4'), 'halo_mpeak':(58, 'f4'),'halo_vmax@mpeak':(72, 'f4')}"
   ]
  },
  {
   "cell_type": "code",
   "execution_count": 13,
   "metadata": {},
   "outputs": [
    {
     "data": {
      "text/plain": [
       "{'halo_id': (1, 'i8'),\n",
       " 'halo_mpeak': (58, 'f4'),\n",
       " 'halo_mvir': (10, 'f4'),\n",
       " 'halo_rs': (12, 'f4'),\n",
       " 'halo_rvir': (11, 'f4'),\n",
       " 'halo_upid': (6, 'i8'),\n",
       " 'halo_vmax@mpeak': (72, 'f4'),\n",
       " 'halo_vx': (20, 'f4'),\n",
       " 'halo_vy': (21, 'f4'),\n",
       " 'halo_vz': (22, 'f4'),\n",
       " 'halo_x': (17, 'f4'),\n",
       " 'halo_y': (18, 'f4'),\n",
       " 'halo_z': (19, 'f4')}"
      ]
     },
     "execution_count": 13,
     "metadata": {},
     "output_type": "execute_result"
    }
   ],
   "source": [
    "columns_to_keep"
   ]
  },
  {
   "cell_type": "code",
   "execution_count": 14,
   "metadata": {
    "collapsed": true
   },
   "outputs": [],
   "source": [
    "simname = 'ds_14_b_sub'"
   ]
  },
  {
   "cell_type": "markdown",
   "metadata": {},
   "source": [
    "Only run the below if you want to cache, which is useful maybe the first time (maybe). It takes ~30 min and some disk space, so be warned.\n",
    "\n",
    "Update (Feb 1st, 2019): I had to edit halotools to make this work. The last line of the halocat was missing values... Specifically making the reader stop iteration once it encountered an indexerror. "
   ]
  },
  {
   "cell_type": "raw",
   "metadata": {},
   "source": [
    "reader = RockstarHlistReader(fname, columns_to_keep, '/scratch/users/swmclau2/halocats/hlist_%.2f.list.%s.hdf5'%(a, simname),\\\n",
    "                             simname,'rockstar', z, 'default', 1000.0, 2.44e9, overwrite=True, header_char = '#')\n",
    "reader.read_halocat(['halo_rvir', 'halo_rs'], write_to_disk=False, update_cache_log=False)\n",
    "\n",
    "reader.add_supplementary_halocat_columns()\n",
    "reader.write_to_disk()\n",
    "reader.update_cache_log()"
   ]
  },
  {
   "cell_type": "code",
   "execution_count": 15,
   "metadata": {
    "collapsed": true
   },
   "outputs": [],
   "source": [
    "halocat = CachedHaloCatalog(simname = simname, halo_finder='rockstar', redshift = z,version_name='default')"
   ]
  },
  {
   "cell_type": "raw",
   "metadata": {},
   "source": [
    "halocat.halo_table.colnames"
   ]
  },
  {
   "cell_type": "raw",
   "metadata": {
    "collapsed": true
   },
   "source": [
    "%%bash \n",
    "pwd"
   ]
  },
  {
   "cell_type": "raw",
   "metadata": {
    "collapsed": true
   },
   "source": [
    "np.min(halocat.halo_table['halo_mvir'])"
   ]
  },
  {
   "cell_type": "code",
   "execution_count": 18,
   "metadata": {},
   "outputs": [],
   "source": [
    "smf = np.genfromtxt('DR10_cBOSS_WISE_SMF_z0.45_0.60_M7.dat', skip_header=True)[:,0:2]"
   ]
  },
  {
   "cell_type": "code",
   "execution_count": 19,
   "metadata": {},
   "outputs": [
    {
     "data": {
      "text/plain": [
       "array([[  1.00000000e+01,   7.02900000e-08],\n",
       "       [  1.01000000e+01,   3.11800000e-05],\n",
       "       [  1.02000000e+01,   4.13400000e-06],\n",
       "       [  1.03000000e+01,   1.22000000e-07],\n",
       "       [  1.04000000e+01,   2.03000000e-05]])"
      ]
     },
     "execution_count": 19,
     "metadata": {},
     "output_type": "execute_result"
    }
   ],
   "source": [
    "smf[:5]"
   ]
  },
  {
   "cell_type": "code",
   "execution_count": 20,
   "metadata": {
    "collapsed": true
   },
   "outputs": [],
   "source": [
    "nd = 4.2e-4 #nd of final cat "
   ]
  },
  {
   "cell_type": "code",
   "execution_count": 21,
   "metadata": {
    "collapsed": true
   },
   "outputs": [],
   "source": [
    "ab_property = 'halo_vmax@mpeak'"
   ]
  },
  {
   "cell_type": "code",
   "execution_count": 22,
   "metadata": {},
   "outputs": [
    {
     "name": "stderr",
     "output_type": "stream",
     "text": [
      "/home/users/swmclau2/.local/lib/python2.7/site-packages/AbundanceMatching/AbundanceFunction.py:22: RuntimeWarning: overflow encountered in exp\n",
      "  return -np.exp(a*x+b) + c*x + d\n"
     ]
    }
   ],
   "source": [
    "af = AbundanceFunction(smf[:,0], smf[:,1], (10, 12.9))\n",
    "\n",
    "scatter = 0.18\n",
    "remainder = af.deconvolute(scatter, 20)"
   ]
  },
  {
   "cell_type": "code",
   "execution_count": null,
   "metadata": {
    "collapsed": true
   },
   "outputs": [],
   "source": [
    "nd_halos = calc_number_densities(halocat.halo_table[ab_property], 1000.0) #don't think this matters which one i choose here"
   ]
  },
  {
   "cell_type": "code",
   "execution_count": null,
   "metadata": {
    "collapsed": true
   },
   "outputs": [],
   "source": [
    "#check the abundance function\n",
    "plt.semilogy(smf[:,0], smf[:,1], lw = 5)\n",
    "x = np.linspace(10, 12.9, 101)\n",
    "plt.semilogy(x, af(x))\n",
    "plt.show()"
   ]
  },
  {
   "cell_type": "code",
   "execution_count": null,
   "metadata": {
    "collapsed": true
   },
   "outputs": [],
   "source": [
    "catalog = af.match(nd_halos, scatter)"
   ]
  },
  {
   "cell_type": "code",
   "execution_count": null,
   "metadata": {
    "collapsed": true
   },
   "outputs": [],
   "source": [
    "catalog.shape"
   ]
  },
  {
   "cell_type": "code",
   "execution_count": null,
   "metadata": {
    "collapsed": true
   },
   "outputs": [],
   "source": [
    "n_obj_needed = int(nd*(1000.0**3))"
   ]
  },
  {
   "cell_type": "code",
   "execution_count": null,
   "metadata": {
    "collapsed": true
   },
   "outputs": [],
   "source": [
    "sort_idxs = np.argsort(catalog)\n",
    "final_catalog = catalog#[sort_idxs[:n_obj_needed]]"
   ]
  },
  {
   "cell_type": "raw",
   "metadata": {},
   "source": [
    "plt.hist(final_catalog, bins = 500);"
   ]
  },
  {
   "cell_type": "code",
   "execution_count": null,
   "metadata": {
    "collapsed": true
   },
   "outputs": [],
   "source": [
    "output = halocat.halo_table#[sort_idxs[:n_obj_needed]]"
   ]
  },
  {
   "cell_type": "code",
   "execution_count": null,
   "metadata": {
    "collapsed": true
   },
   "outputs": [],
   "source": [
    "output['gal_smass'] = final_catalog"
   ]
  },
  {
   "cell_type": "code",
   "execution_count": null,
   "metadata": {
    "collapsed": true
   },
   "outputs": [],
   "source": [
    "np.sum(np.isnan(final_catalog))/(1.0*len(final_catalog))"
   ]
  },
  {
   "cell_type": "raw",
   "metadata": {
    "collapsed": true
   },
   "source": [
    "output.write('catalog_ab_%s.hdf5'%ab_property, format = 'hdf5', path = './catalog_ab_%s.hdf5'%ab_property, overwrite=True)"
   ]
  },
  {
   "cell_type": "code",
   "execution_count": null,
   "metadata": {
    "collapsed": true
   },
   "outputs": [],
   "source": [
    "print ab_property"
   ]
  },
  {
   "cell_type": "code",
   "execution_count": null,
   "metadata": {
    "collapsed": true
   },
   "outputs": [],
   "source": []
  }
 ],
 "metadata": {
  "kernelspec": {
   "display_name": "Python 2",
   "language": "python",
   "name": "python2"
  },
  "language_info": {
   "codemirror_mode": {
    "name": "ipython",
    "version": 2
   },
   "file_extension": ".py",
   "mimetype": "text/x-python",
   "name": "python",
   "nbconvert_exporter": "python",
   "pygments_lexer": "ipython2",
   "version": "2.7.13"
  }
 },
 "nbformat": 4,
 "nbformat_minor": 1
}

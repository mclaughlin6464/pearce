{
 "cells": [
  {
   "cell_type": "markdown",
   "metadata": {},
   "source": [
    "I've written one optimization script for my emulators, and this notebook just copies the script to each of my different models. "
   ]
  },
  {
   "cell_type": "markdown",
   "metadata": {},
   "source": [
    "For stat in [wp, ds]: # cic]\n",
    "\n",
    "    For model in [HOD, HSAB, CorrAB, CAB]:\n",
    "\n",
    "        optimize"
   ]
  },
  {
   "cell_type": "code",
   "execution_count": 21,
   "metadata": {
    "collapsed": true
   },
   "outputs": [],
   "source": [
    "import yaml\n",
    "import copy\n",
    "from os import path\n",
    "import numpy as np"
   ]
  },
  {
   "cell_type": "code",
   "execution_count": 22,
   "metadata": {
    "collapsed": true
   },
   "outputs": [],
   "source": [
    "sbatch_template = \"\"\"#!/bin/bash\n",
    "#SBATCH --job-name=optimize_lpw_{stat}_{model}\n",
    "#SBATCH -p kipac\n",
    "#SBATCH --time=01:00:00\n",
    "#SBATCH -o optimize_lpw_{stat}_{model}.out \n",
    "####SBATCH --exclusive\n",
    "#SBATCH --cpus-per-task=8\n",
    "####SBATCH --mem-per-cpu=MaxMemPerCPU\n",
    "\n",
    "module load python/2.7.13\n",
    "module load py-scipystack\n",
    "module load hdf5/1.10.0p1\n",
    "\n",
    "python /home/users/swmclau2/Git/pearce/bin/optimization/optimize_lpw.py\\\n",
    "                       ~/scratch/{stat}_{model2}/Pearce{Stat}{Model}Cosmo.hdf5\\\n",
    "                       ~/scratch/{stat}_{model2}_test/Pearce{Stat}{Model}CosmoTest.hdf5\\\n",
    "                       {stat}_{model}_emu_cov.npy\\\n",
    "                       {cosmo_idx} {hod_idx} {r_idx}\"\"\""
   ]
  },
  {
   "cell_type": "code",
   "execution_count": 23,
   "metadata": {
    "collapsed": true
   },
   "outputs": [],
   "source": [
    "jobname_template = '/home/users/swmclau2/Git/pearce/bin/optimization/optimize_lpw_{stat}_{model}.sbatch'"
   ]
  },
  {
   "cell_type": "code",
   "execution_count": 24,
   "metadata": {
    "collapsed": true
   },
   "outputs": [],
   "source": [
    "cosmo_idx = 2\n",
    "hod_idx = 0\n",
    "r_idx = 1"
   ]
  },
  {
   "cell_type": "code",
   "execution_count": 25,
   "metadata": {
    "collapsed": true
   },
   "outputs": [],
   "source": [
    "for Stat in ['Wp', 'Ds']:\n",
    "    stat = Stat.lower()\n",
    "    \n",
    "    for Model in ['HOD', 'HSAB', 'CorrAB', 'CAB']:\n",
    "        \n",
    "        model = Model.lower()\n",
    "        model2 = 'zheng07' if model == 'hod' else model\n",
    "        Model = '' if Model =='HOD' else Model\n",
    "        jobname = jobname_template.format(stat=stat, model=model)\n",
    "        \n",
    "        with open(jobname, 'w') as f:\n",
    "            f.write(sbatch_template.format(stat=stat, model=model, model2=model2, Stat=Stat, Model=Model,\\\n",
    "                                            cosmo_idx=cosmo_idx, hod_idx=hod_idx, r_idx=r_idx))"
   ]
  },
  {
   "cell_type": "code",
   "execution_count": 26,
   "metadata": {
    "collapsed": true
   },
   "outputs": [],
   "source": [
    "# TODO different opt scripts to test downsampling, test diff kernels, etc"
   ]
  },
  {
   "cell_type": "code",
   "execution_count": null,
   "metadata": {
    "collapsed": true
   },
   "outputs": [],
   "source": []
  }
 ],
 "metadata": {
  "kernelspec": {
   "display_name": "Python 2",
   "language": "python",
   "name": "python2"
  },
  "language_info": {
   "codemirror_mode": {
    "name": "ipython",
    "version": 2
   },
   "file_extension": ".py",
   "mimetype": "text/x-python",
   "name": "python",
   "nbconvert_exporter": "python",
   "pygments_lexer": "ipython2",
   "version": "2.7.13"
  }
 },
 "nbformat": 4,
 "nbformat_minor": 2
}
